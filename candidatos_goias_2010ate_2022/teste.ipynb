{
  "nbformat": 4,
  "nbformat_minor": 0,
  "metadata": {
    "colab": {
      "provenance": [],
      "collapsed_sections": []
    },
    "kernelspec": {
      "name": "python3",
      "display_name": "Python 3"
    },
    "language_info": {
      "name": "python"
    }
  },
  "cells": [
    {
      "cell_type": "markdown",
      "source": [
        "`Projeto de análise de dados - Candidatos 2010 até 2022 Goiás`\n",
        "\n",
        "\n",
        "\n",
        "\n",
        "\n"
      ],
      "metadata": {
        "id": "ad4rx_LDBWnQ"
      }
    },
    {
      "cell_type": "markdown",
      "source": [
        "`Como os dataframes estão separados, então serar feito a união deles ultilizando  o python, como eles possui a mesma quantidade de colunas e são os mesmos nomes isso será possível realizar `"
      ],
      "metadata": {
        "id": "VP1Z3LXwKsAV"
      }
    },
    {
      "cell_type": "markdown",
      "source": [
        "`Unindo os csv de 2010 até 2022 do estado de Goías`"
      ],
      "metadata": {
        "id": "WrmPPeVmLjhM"
      }
    },
    {
      "cell_type": "code",
      "source": [
        "#importando bibliotecas necessárias \n",
        "import os\n",
        "import glob\n",
        "import pandas as pd\n",
        "import seaborn as sns\n",
        "import matplotlib.pyplot as plt\n"
      ],
      "metadata": {
        "id": "PAC9hGPoLNR2"
      },
      "execution_count": 11,
      "outputs": []
    },
    {
      "cell_type": "code",
      "source": [
        "pip install pandasql"
      ],
      "metadata": {
        "id": "hjV2JvQNfi6q"
      },
      "execution_count": 12,
      "outputs": []
    },
    {
      "cell_type": "code",
      "source": [
        "#Importando biblioteca para usar sql\n",
        "import pandasql as ps"
      ],
      "metadata": {
        "id": "h47TZP7-foBA"
      },
      "execution_count": 13,
      "outputs": []
    },
    {
      "cell_type": "code",
      "source": [
        "#Caminho dos arquivos\n",
        "caminho = os.getcwd()\n",
        "print(caminho)\n",
        "arquivos_csv = glob.glob(os.path.join(caminho+ \"/consulta_cand*.csv\")) \n",
        "print(arquivos_csv)"
      ],
      "metadata": {
        "colab": {
          "base_uri": "https://localhost:8080/"
        },
        "id": "H97VSSZ_WdzT",
        "outputId": "b66939d7-9886-4139-dbae-428443b1a42c"
      },
      "execution_count": 15,
      "outputs": [
        {
          "output_type": "stream",
          "name": "stdout",
          "text": [
            "/content\n",
            "['/content/consulta_cand_2022_GO.csv', '/content/consulta_cand_2014_GO.csv', '/content/consulta_cand_2012_GO.csv', '/content/consulta_cand_2010_GO.csv', '/content/consulta_cand_2020_GO.csv', '/content/consulta_cand_2018_GO.csv', '/content/consulta_cand_2016_GO.csv']\n"
          ]
        }
      ]
    },
    {
      "cell_type": "code",
      "source": [
        "#codigo para unir o csv \n",
        "df_final = pd.DataFrame()\n",
        "for arquivo in arquivos_csv:\n",
        "        #print(arquivo)\n",
        "        #ler csv\n",
        "  df_temp = pd.read_csv(arquivo, sep=';',encoding=\"ISO-8859-1\",on_bad_lines='skip')\n",
        "  df_final = pd.concat([df_temp,df_final])\n",
        "print(\"unindo csv\")\n",
        "df_final.to_csv('/content/candidatos_diretorio/candidatos_goias_2010_2022.csv', sep=';',encoding=\"utf-8\",index=False)"
      ],
      "metadata": {
        "colab": {
          "base_uri": "https://localhost:8080/"
        },
        "id": "6a4ZXyhyWSfp",
        "outputId": "14d333e8-42e9-423b-e558-c058d2d4fa70"
      },
      "execution_count": 16,
      "outputs": [
        {
          "output_type": "stream",
          "name": "stdout",
          "text": [
            "unindo csv\n"
          ]
        }
      ]
    },
    {
      "cell_type": "markdown",
      "source": [
        "**Iniciando a análise dos dados, após a uniao dos csv - estado do Goiás**"
      ],
      "metadata": {
        "id": "MYxtf_WOX-qz"
      }
    },
    {
      "cell_type": "code",
      "source": [
        "#codigo para abrir todas as colunas do dataframe\n",
        "pd.set_option('display.max_columns', None)"
      ],
      "metadata": {
        "id": "A5f6OJ-1-Bau"
      },
      "execution_count": 114,
      "outputs": []
    },
    {
      "cell_type": "code",
      "execution_count": 115,
      "metadata": {
        "colab": {
          "base_uri": "https://localhost:8080/"
        },
        "id": "UQ-LLd9l8pMB",
        "outputId": "866d055b-5dde-449a-f70d-9cb25b6761a5"
      },
      "outputs": [
        {
          "output_type": "stream",
          "name": "stderr",
          "text": [
            "/usr/local/lib/python3.7/dist-packages/IPython/core/interactiveshell.py:3326: DtypeWarning: Columns (11,20,57,64,65,66,67,69,70) have mixed types.Specify dtype option on import or set low_memory=False.\n",
            "  exec(code_obj, self.user_global_ns, self.user_ns)\n"
          ]
        }
      ],
      "source": [
        "#carregamento do dataframe\n",
        "candidatos_goias = pd.read_csv(\"/content/candidatos_diretorio/candidatos_goias_2010_2022.csv\", sep=';',encoding=\"utf-8\",on_bad_lines='skip')"
      ]
    },
    {
      "cell_type": "code",
      "source": [
        "#leitura do dataframe\n",
        "candidatos_goias.head(6)"
      ],
      "metadata": {
        "id": "1to2j-mk8_eK",
        "colab": {
          "base_uri": "https://localhost:8080/",
          "height": 579
        },
        "outputId": "76268ca7-b27e-43fc-f03a-be3b7a448b48"
      },
      "execution_count": 116,
      "outputs": [
        {
          "output_type": "execute_result",
          "data": {
            "text/plain": [
              "   DT_GERACAO HH_GERACAO  ANO_ELEICAO  CD_TIPO_ELEICAO    NM_TIPO_ELEICAO  \\\n",
              "0  18/02/2021   12:07:20         2016                2  ELEIÇÃO ORDINÁRIA   \n",
              "1  18/02/2021   12:07:20         2016                2  ELEIÇÃO ORDINÁRIA   \n",
              "2  18/02/2021   12:07:20         2016                2  ELEIÇÃO ORDINÁRIA   \n",
              "3  18/02/2021   12:07:20         2016                2  ELEIÇÃO ORDINÁRIA   \n",
              "4  18/02/2021   12:07:20         2016                2  ELEIÇÃO ORDINÁRIA   \n",
              "5  18/02/2021   12:07:20         2016                2  ELEIÇÃO ORDINÁRIA   \n",
              "\n",
              "   NR_TURNO  CD_ELEICAO                DS_ELEICAO  DT_ELEICAO TP_ABRANGENCIA  \\\n",
              "0         1         220  Eleições Municipais 2016  02/10/2016      MUNICIPAL   \n",
              "1         1         220  Eleições Municipais 2016  02/10/2016      MUNICIPAL   \n",
              "2         1         220  Eleições Municipais 2016  02/10/2016      MUNICIPAL   \n",
              "3         1         220  Eleições Municipais 2016  02/10/2016      MUNICIPAL   \n",
              "4         1         220  Eleições Municipais 2016  02/10/2016      MUNICIPAL   \n",
              "5         1         220  Eleições Municipais 2016  02/10/2016      MUNICIPAL   \n",
              "\n",
              "  SG_UF  SG_UE        NM_UE  CD_CARGO  DS_CARGO  SQ_CANDIDATO  NR_CANDIDATO  \\\n",
              "0    GO  93394  DAVINÓPOLIS        13  VEREADOR   90000015638         22000   \n",
              "1    GO  94293      JANDAIA        13  VEREADOR   90000008594         22022   \n",
              "2    GO  93734      GOIÂNIA        13  VEREADOR   90000014547         15190   \n",
              "3    GO  93793     GOIATUBA        13  VEREADOR   90000021770         45999   \n",
              "4    GO  94315      JARAGUÁ        13  VEREADOR   90000010097         45211   \n",
              "5    GO  93777        GOIÁS        13  VEREADOR   90000023024         77123   \n",
              "\n",
              "                     NM_CANDIDATO NM_URNA_CANDIDATO NM_SOCIAL_CANDIDATO  \\\n",
              "0            PAULO CESAR CARNEIRO       PAULO CESAR              #NULO#   \n",
              "1              FABIO ALVES BORGES    FABIO CAPACETE              #NULO#   \n",
              "2        ROBSON PAIXAO DE AZEVEDO        DR. ROBSON              #NULO#   \n",
              "3   WILZELENA MARIA LOPES MARTINS       VILZA LOPES              #NULO#   \n",
              "4       ANA MARIA MARQUES ANDRADE     TIA ANA MARIA              #NULO#   \n",
              "5  ALCIMINIO SIMÕES CORREA JUNIOR      DR ALCIMINIO              #NULO#   \n",
              "\n",
              "  NR_CPF_CANDIDATO                       NM_EMAIL  CD_SITUACAO_CANDIDATURA  \\\n",
              "0      25117521153      EXITOADVOCACIA@UOL.COM.BR                       12   \n",
              "1       1989808174       TEMPODEMUDAR45@GMAIL.COM                       12   \n",
              "2      16721900106          ORTOPEDICO1@GMAIL.COM                       12   \n",
              "3      49117882168         SW_FCASTRO@HOTMAIL.COM                       12   \n",
              "4      43535658187  ZILOMAR.2016.CANDEX@GMAIL.COM                       12   \n",
              "5      12372676172       UNIDOSPORGOIAS@GMAIL.COM                       12   \n",
              "\n",
              "  DS_SITUACAO_CANDIDATURA  CD_DETALHE_SITUACAO_CAND DS_DETALHE_SITUACAO_CAND  \\\n",
              "0                    APTO                         2                 DEFERIDO   \n",
              "1                    APTO                         2                 DEFERIDO   \n",
              "2                    APTO                         2                 DEFERIDO   \n",
              "3                    APTO                         2                 DEFERIDO   \n",
              "4                    APTO                         2                 DEFERIDO   \n",
              "5                    APTO                         2                 DEFERIDO   \n",
              "\n",
              "  TP_AGREMIACAO  NR_PARTIDO SG_PARTIDO  \\\n",
              "0     COLIGAÇÃO          22         PR   \n",
              "1     COLIGAÇÃO          22         PR   \n",
              "2     COLIGAÇÃO          15       PMDB   \n",
              "3     COLIGAÇÃO          45       PSDB   \n",
              "4     COLIGAÇÃO          45       PSDB   \n",
              "5     COLIGAÇÃO          77         SD   \n",
              "\n",
              "                                    NM_PARTIDO  SQ_COLIGACAO  \\\n",
              "0                         PARTIDO DA REPÚBLICA   90000001197   \n",
              "1                         PARTIDO DA REPÚBLICA   90000000700   \n",
              "2  PARTIDO DO MOVIMENTO DEMOCRÁTICO BRASILEIRO   90000001121   \n",
              "3      PARTIDO DA SOCIAL DEMOCRACIA BRASILEIRA   90000001649   \n",
              "4      PARTIDO DA SOCIAL DEMOCRACIA BRASILEIRA   90000000817   \n",
              "5                                SOLIDARIEDADE   90000001734   \n",
              "\n",
              "                    NM_COLIGACAO DS_COMPOSICAO_COLIGACAO  CD_NACIONALIDADE  \\\n",
              "0     LEGISLATIVO LEVADO A SÉRIO               PR / PSDB                 1   \n",
              "1               E TEMPO DE MUDAR          PSDB / PP / PR                 1   \n",
              "2      EXPERIÊNCIA E CONFIANÇA 1       PMDB / PDT / PRTB                 1   \n",
              "3           LEGISLAR PARA O POVO         PSDB / PV / PHS                 1   \n",
              "4           ALIANÇA DA VITÓRIA I         PSDB / PP / PDT                 1   \n",
              "5  ÉTICA, COMPROMISSO E TRABALHO   DEM / PSDC / PRP / SD                 1   \n",
              "\n",
              "  DS_NACIONALIDADE SG_UF_NASCIMENTO  CD_MUNICIPIO_NASCIMENTO  \\\n",
              "0  BRASILEIRA NATA               GO                       -3   \n",
              "1  BRASILEIRA NATA               GO                       -3   \n",
              "2  BRASILEIRA NATA               GO                       -3   \n",
              "3  BRASILEIRA NATA               GO                       -3   \n",
              "4  BRASILEIRA NATA               GO                       -3   \n",
              "5  BRASILEIRA NATA               MG                       -3   \n",
              "\n",
              "  NM_MUNICIPIO_NASCIMENTO DT_NASCIMENTO  NR_IDADE_DATA_POSSE  \\\n",
              "0            TRÊS RANCHOS    11/01/1963                 53.0   \n",
              "1                 GOIANIA    01/06/1985                 31.0   \n",
              "2                 GOIANIA    15/04/1960                 56.0   \n",
              "3                GOIATUBA    28/01/1967                 49.0   \n",
              "4                   CERES    26/07/1966                 50.0   \n",
              "5                  BAMBUÍ    13/12/1956                 60.0   \n",
              "\n",
              "   NR_TITULO_ELEITORAL_CANDIDATO  CD_GENERO  DS_GENERO  CD_GRAU_INSTRUCAO  \\\n",
              "0                    12728071015          2  MASCULINO                  7   \n",
              "1                    51041361074          2  MASCULINO                  6   \n",
              "2                     1339361023          2  MASCULINO                  8   \n",
              "3                     9822491066          4   FEMININO                  6   \n",
              "4                     5861311040          4   FEMININO                  5   \n",
              "5                     4790621066          2  MASCULINO                  8   \n",
              "\n",
              "         DS_GRAU_INSTRUCAO  CD_ESTADO_CIVIL DS_ESTADO_CIVIL  CD_COR_RACA  \\\n",
              "0      SUPERIOR INCOMPLETO                9   DIVORCIADO(A)            1   \n",
              "1    ENSINO MÉDIO COMPLETO                3       CASADO(A)            1   \n",
              "2        SUPERIOR COMPLETO                3       CASADO(A)            1   \n",
              "3    ENSINO MÉDIO COMPLETO                3       CASADO(A)            3   \n",
              "4  ENSINO MÉDIO INCOMPLETO                3       CASADO(A)            3   \n",
              "5        SUPERIOR COMPLETO                3       CASADO(A)            1   \n",
              "\n",
              "  DS_COR_RACA  CD_OCUPACAO              DS_OCUPACAO  VR_DESPESA_MAX_CAMPANHA  \\\n",
              "0      BRANCA          237  REPRESENTANTE COMERCIAL                 10803.91   \n",
              "1      BRANCA          999                   OUTROS                 10803.91   \n",
              "2      BRANCA          111                   MÉDICO                519651.25   \n",
              "3       PARDA          581             DONA DE CASA                 38077.10   \n",
              "4       PARDA          601               AGRICULTOR                 21634.37   \n",
              "5      BRANCA          131                 ADVOGADO                 22147.45   \n",
              "\n",
              "   CD_SIT_TOT_TURNO  DS_SIT_TOT_TURNO ST_REELEICAO ST_DECLARAR_BENS  \\\n",
              "0                 3  ELEITO POR MÉDIA            N                N   \n",
              "1                 5          SUPLENTE            N                S   \n",
              "2                 5          SUPLENTE            N                S   \n",
              "3                 5          SUPLENTE            N                S   \n",
              "4                 5          SUPLENTE            N                N   \n",
              "5                 5          SUPLENTE            N                S   \n",
              "\n",
              "   NR_PROTOCOLO_CANDIDATURA       NR_PROCESSO  CD_SITUACAO_CANDIDATO_PLEITO  \\\n",
              "0                 821882016  2517720166090008                             2   \n",
              "1                 729692016  1328220166090084                             2   \n",
              "2                 808282016  2353920166090133                             2   \n",
              "3                 896332016  2682320166090038                             2   \n",
              "4                 753252016  1415120166090017                             2   \n",
              "5                 911462016  1425120166090012                             2   \n",
              "\n",
              "  DS_SITUACAO_CANDIDATO_PLEITO  CD_SITUACAO_CANDIDATO_URNA  \\\n",
              "0                     DEFERIDO                           2   \n",
              "1                     DEFERIDO                           2   \n",
              "2                     DEFERIDO                           2   \n",
              "3                     DEFERIDO                           2   \n",
              "4                     DEFERIDO                           4   \n",
              "5                     DEFERIDO                           2   \n",
              "\n",
              "  DS_SITUACAO_CANDIDATO_URNA ST_CANDIDATO_INSERIDO_URNA  NR_FEDERACAO  \\\n",
              "0                   DEFERIDO                        SIM           NaN   \n",
              "1                   DEFERIDO                        SIM           NaN   \n",
              "2                   DEFERIDO                        SIM           NaN   \n",
              "3                   DEFERIDO                        SIM           NaN   \n",
              "4     INDEFERIDO COM RECURSO                        SIM           NaN   \n",
              "5                   DEFERIDO                        SIM           NaN   \n",
              "\n",
              "  NM_FEDERACAO SG_FEDERACAO DS_COMPOSICAO_FEDERACAO NM_TIPO_DESTINACAO_VOTOS  \\\n",
              "0          NaN          NaN                     NaN                      NaN   \n",
              "1          NaN          NaN                     NaN                      NaN   \n",
              "2          NaN          NaN                     NaN                      NaN   \n",
              "3          NaN          NaN                     NaN                      NaN   \n",
              "4          NaN          NaN                     NaN                      NaN   \n",
              "5          NaN          NaN                     NaN                      NaN   \n",
              "\n",
              "   CD_SITUACAO_CANDIDATO_TOT DS_SITUACAO_CANDIDATO_TOT ST_PREST_CONTAS  \n",
              "0                        NaN                       NaN             NaN  \n",
              "1                        NaN                       NaN             NaN  \n",
              "2                        NaN                       NaN             NaN  \n",
              "3                        NaN                       NaN             NaN  \n",
              "4                        NaN                       NaN             NaN  \n",
              "5                        NaN                       NaN             NaN  "
            ],
            "text/html": [
              "\n",
              "  <div id=\"df-6ef6e18d-2adc-45c1-9f36-ef4748b2b1bf\">\n",
              "    <div class=\"colab-df-container\">\n",
              "      <div>\n",
              "<style scoped>\n",
              "    .dataframe tbody tr th:only-of-type {\n",
              "        vertical-align: middle;\n",
              "    }\n",
              "\n",
              "    .dataframe tbody tr th {\n",
              "        vertical-align: top;\n",
              "    }\n",
              "\n",
              "    .dataframe thead th {\n",
              "        text-align: right;\n",
              "    }\n",
              "</style>\n",
              "<table border=\"1\" class=\"dataframe\">\n",
              "  <thead>\n",
              "    <tr style=\"text-align: right;\">\n",
              "      <th></th>\n",
              "      <th>DT_GERACAO</th>\n",
              "      <th>HH_GERACAO</th>\n",
              "      <th>ANO_ELEICAO</th>\n",
              "      <th>CD_TIPO_ELEICAO</th>\n",
              "      <th>NM_TIPO_ELEICAO</th>\n",
              "      <th>NR_TURNO</th>\n",
              "      <th>CD_ELEICAO</th>\n",
              "      <th>DS_ELEICAO</th>\n",
              "      <th>DT_ELEICAO</th>\n",
              "      <th>TP_ABRANGENCIA</th>\n",
              "      <th>SG_UF</th>\n",
              "      <th>SG_UE</th>\n",
              "      <th>NM_UE</th>\n",
              "      <th>CD_CARGO</th>\n",
              "      <th>DS_CARGO</th>\n",
              "      <th>SQ_CANDIDATO</th>\n",
              "      <th>NR_CANDIDATO</th>\n",
              "      <th>NM_CANDIDATO</th>\n",
              "      <th>NM_URNA_CANDIDATO</th>\n",
              "      <th>NM_SOCIAL_CANDIDATO</th>\n",
              "      <th>NR_CPF_CANDIDATO</th>\n",
              "      <th>NM_EMAIL</th>\n",
              "      <th>CD_SITUACAO_CANDIDATURA</th>\n",
              "      <th>DS_SITUACAO_CANDIDATURA</th>\n",
              "      <th>CD_DETALHE_SITUACAO_CAND</th>\n",
              "      <th>DS_DETALHE_SITUACAO_CAND</th>\n",
              "      <th>TP_AGREMIACAO</th>\n",
              "      <th>NR_PARTIDO</th>\n",
              "      <th>SG_PARTIDO</th>\n",
              "      <th>NM_PARTIDO</th>\n",
              "      <th>SQ_COLIGACAO</th>\n",
              "      <th>NM_COLIGACAO</th>\n",
              "      <th>DS_COMPOSICAO_COLIGACAO</th>\n",
              "      <th>CD_NACIONALIDADE</th>\n",
              "      <th>DS_NACIONALIDADE</th>\n",
              "      <th>SG_UF_NASCIMENTO</th>\n",
              "      <th>CD_MUNICIPIO_NASCIMENTO</th>\n",
              "      <th>NM_MUNICIPIO_NASCIMENTO</th>\n",
              "      <th>DT_NASCIMENTO</th>\n",
              "      <th>NR_IDADE_DATA_POSSE</th>\n",
              "      <th>NR_TITULO_ELEITORAL_CANDIDATO</th>\n",
              "      <th>CD_GENERO</th>\n",
              "      <th>DS_GENERO</th>\n",
              "      <th>CD_GRAU_INSTRUCAO</th>\n",
              "      <th>DS_GRAU_INSTRUCAO</th>\n",
              "      <th>CD_ESTADO_CIVIL</th>\n",
              "      <th>DS_ESTADO_CIVIL</th>\n",
              "      <th>CD_COR_RACA</th>\n",
              "      <th>DS_COR_RACA</th>\n",
              "      <th>CD_OCUPACAO</th>\n",
              "      <th>DS_OCUPACAO</th>\n",
              "      <th>VR_DESPESA_MAX_CAMPANHA</th>\n",
              "      <th>CD_SIT_TOT_TURNO</th>\n",
              "      <th>DS_SIT_TOT_TURNO</th>\n",
              "      <th>ST_REELEICAO</th>\n",
              "      <th>ST_DECLARAR_BENS</th>\n",
              "      <th>NR_PROTOCOLO_CANDIDATURA</th>\n",
              "      <th>NR_PROCESSO</th>\n",
              "      <th>CD_SITUACAO_CANDIDATO_PLEITO</th>\n",
              "      <th>DS_SITUACAO_CANDIDATO_PLEITO</th>\n",
              "      <th>CD_SITUACAO_CANDIDATO_URNA</th>\n",
              "      <th>DS_SITUACAO_CANDIDATO_URNA</th>\n",
              "      <th>ST_CANDIDATO_INSERIDO_URNA</th>\n",
              "      <th>NR_FEDERACAO</th>\n",
              "      <th>NM_FEDERACAO</th>\n",
              "      <th>SG_FEDERACAO</th>\n",
              "      <th>DS_COMPOSICAO_FEDERACAO</th>\n",
              "      <th>NM_TIPO_DESTINACAO_VOTOS</th>\n",
              "      <th>CD_SITUACAO_CANDIDATO_TOT</th>\n",
              "      <th>DS_SITUACAO_CANDIDATO_TOT</th>\n",
              "      <th>ST_PREST_CONTAS</th>\n",
              "    </tr>\n",
              "  </thead>\n",
              "  <tbody>\n",
              "    <tr>\n",
              "      <th>0</th>\n",
              "      <td>18/02/2021</td>\n",
              "      <td>12:07:20</td>\n",
              "      <td>2016</td>\n",
              "      <td>2</td>\n",
              "      <td>ELEIÇÃO ORDINÁRIA</td>\n",
              "      <td>1</td>\n",
              "      <td>220</td>\n",
              "      <td>Eleições Municipais 2016</td>\n",
              "      <td>02/10/2016</td>\n",
              "      <td>MUNICIPAL</td>\n",
              "      <td>GO</td>\n",
              "      <td>93394</td>\n",
              "      <td>DAVINÓPOLIS</td>\n",
              "      <td>13</td>\n",
              "      <td>VEREADOR</td>\n",
              "      <td>90000015638</td>\n",
              "      <td>22000</td>\n",
              "      <td>PAULO CESAR CARNEIRO</td>\n",
              "      <td>PAULO CESAR</td>\n",
              "      <td>#NULO#</td>\n",
              "      <td>25117521153</td>\n",
              "      <td>EXITOADVOCACIA@UOL.COM.BR</td>\n",
              "      <td>12</td>\n",
              "      <td>APTO</td>\n",
              "      <td>2</td>\n",
              "      <td>DEFERIDO</td>\n",
              "      <td>COLIGAÇÃO</td>\n",
              "      <td>22</td>\n",
              "      <td>PR</td>\n",
              "      <td>PARTIDO DA REPÚBLICA</td>\n",
              "      <td>90000001197</td>\n",
              "      <td>LEGISLATIVO LEVADO A SÉRIO</td>\n",
              "      <td>PR / PSDB</td>\n",
              "      <td>1</td>\n",
              "      <td>BRASILEIRA NATA</td>\n",
              "      <td>GO</td>\n",
              "      <td>-3</td>\n",
              "      <td>TRÊS RANCHOS</td>\n",
              "      <td>11/01/1963</td>\n",
              "      <td>53.0</td>\n",
              "      <td>12728071015</td>\n",
              "      <td>2</td>\n",
              "      <td>MASCULINO</td>\n",
              "      <td>7</td>\n",
              "      <td>SUPERIOR INCOMPLETO</td>\n",
              "      <td>9</td>\n",
              "      <td>DIVORCIADO(A)</td>\n",
              "      <td>1</td>\n",
              "      <td>BRANCA</td>\n",
              "      <td>237</td>\n",
              "      <td>REPRESENTANTE COMERCIAL</td>\n",
              "      <td>10803.91</td>\n",
              "      <td>3</td>\n",
              "      <td>ELEITO POR MÉDIA</td>\n",
              "      <td>N</td>\n",
              "      <td>N</td>\n",
              "      <td>821882016</td>\n",
              "      <td>2517720166090008</td>\n",
              "      <td>2</td>\n",
              "      <td>DEFERIDO</td>\n",
              "      <td>2</td>\n",
              "      <td>DEFERIDO</td>\n",
              "      <td>SIM</td>\n",
              "      <td>NaN</td>\n",
              "      <td>NaN</td>\n",
              "      <td>NaN</td>\n",
              "      <td>NaN</td>\n",
              "      <td>NaN</td>\n",
              "      <td>NaN</td>\n",
              "      <td>NaN</td>\n",
              "      <td>NaN</td>\n",
              "    </tr>\n",
              "    <tr>\n",
              "      <th>1</th>\n",
              "      <td>18/02/2021</td>\n",
              "      <td>12:07:20</td>\n",
              "      <td>2016</td>\n",
              "      <td>2</td>\n",
              "      <td>ELEIÇÃO ORDINÁRIA</td>\n",
              "      <td>1</td>\n",
              "      <td>220</td>\n",
              "      <td>Eleições Municipais 2016</td>\n",
              "      <td>02/10/2016</td>\n",
              "      <td>MUNICIPAL</td>\n",
              "      <td>GO</td>\n",
              "      <td>94293</td>\n",
              "      <td>JANDAIA</td>\n",
              "      <td>13</td>\n",
              "      <td>VEREADOR</td>\n",
              "      <td>90000008594</td>\n",
              "      <td>22022</td>\n",
              "      <td>FABIO ALVES BORGES</td>\n",
              "      <td>FABIO CAPACETE</td>\n",
              "      <td>#NULO#</td>\n",
              "      <td>1989808174</td>\n",
              "      <td>TEMPODEMUDAR45@GMAIL.COM</td>\n",
              "      <td>12</td>\n",
              "      <td>APTO</td>\n",
              "      <td>2</td>\n",
              "      <td>DEFERIDO</td>\n",
              "      <td>COLIGAÇÃO</td>\n",
              "      <td>22</td>\n",
              "      <td>PR</td>\n",
              "      <td>PARTIDO DA REPÚBLICA</td>\n",
              "      <td>90000000700</td>\n",
              "      <td>E TEMPO DE MUDAR</td>\n",
              "      <td>PSDB / PP / PR</td>\n",
              "      <td>1</td>\n",
              "      <td>BRASILEIRA NATA</td>\n",
              "      <td>GO</td>\n",
              "      <td>-3</td>\n",
              "      <td>GOIANIA</td>\n",
              "      <td>01/06/1985</td>\n",
              "      <td>31.0</td>\n",
              "      <td>51041361074</td>\n",
              "      <td>2</td>\n",
              "      <td>MASCULINO</td>\n",
              "      <td>6</td>\n",
              "      <td>ENSINO MÉDIO COMPLETO</td>\n",
              "      <td>3</td>\n",
              "      <td>CASADO(A)</td>\n",
              "      <td>1</td>\n",
              "      <td>BRANCA</td>\n",
              "      <td>999</td>\n",
              "      <td>OUTROS</td>\n",
              "      <td>10803.91</td>\n",
              "      <td>5</td>\n",
              "      <td>SUPLENTE</td>\n",
              "      <td>N</td>\n",
              "      <td>S</td>\n",
              "      <td>729692016</td>\n",
              "      <td>1328220166090084</td>\n",
              "      <td>2</td>\n",
              "      <td>DEFERIDO</td>\n",
              "      <td>2</td>\n",
              "      <td>DEFERIDO</td>\n",
              "      <td>SIM</td>\n",
              "      <td>NaN</td>\n",
              "      <td>NaN</td>\n",
              "      <td>NaN</td>\n",
              "      <td>NaN</td>\n",
              "      <td>NaN</td>\n",
              "      <td>NaN</td>\n",
              "      <td>NaN</td>\n",
              "      <td>NaN</td>\n",
              "    </tr>\n",
              "    <tr>\n",
              "      <th>2</th>\n",
              "      <td>18/02/2021</td>\n",
              "      <td>12:07:20</td>\n",
              "      <td>2016</td>\n",
              "      <td>2</td>\n",
              "      <td>ELEIÇÃO ORDINÁRIA</td>\n",
              "      <td>1</td>\n",
              "      <td>220</td>\n",
              "      <td>Eleições Municipais 2016</td>\n",
              "      <td>02/10/2016</td>\n",
              "      <td>MUNICIPAL</td>\n",
              "      <td>GO</td>\n",
              "      <td>93734</td>\n",
              "      <td>GOIÂNIA</td>\n",
              "      <td>13</td>\n",
              "      <td>VEREADOR</td>\n",
              "      <td>90000014547</td>\n",
              "      <td>15190</td>\n",
              "      <td>ROBSON PAIXAO DE AZEVEDO</td>\n",
              "      <td>DR. ROBSON</td>\n",
              "      <td>#NULO#</td>\n",
              "      <td>16721900106</td>\n",
              "      <td>ORTOPEDICO1@GMAIL.COM</td>\n",
              "      <td>12</td>\n",
              "      <td>APTO</td>\n",
              "      <td>2</td>\n",
              "      <td>DEFERIDO</td>\n",
              "      <td>COLIGAÇÃO</td>\n",
              "      <td>15</td>\n",
              "      <td>PMDB</td>\n",
              "      <td>PARTIDO DO MOVIMENTO DEMOCRÁTICO BRASILEIRO</td>\n",
              "      <td>90000001121</td>\n",
              "      <td>EXPERIÊNCIA E CONFIANÇA 1</td>\n",
              "      <td>PMDB / PDT / PRTB</td>\n",
              "      <td>1</td>\n",
              "      <td>BRASILEIRA NATA</td>\n",
              "      <td>GO</td>\n",
              "      <td>-3</td>\n",
              "      <td>GOIANIA</td>\n",
              "      <td>15/04/1960</td>\n",
              "      <td>56.0</td>\n",
              "      <td>1339361023</td>\n",
              "      <td>2</td>\n",
              "      <td>MASCULINO</td>\n",
              "      <td>8</td>\n",
              "      <td>SUPERIOR COMPLETO</td>\n",
              "      <td>3</td>\n",
              "      <td>CASADO(A)</td>\n",
              "      <td>1</td>\n",
              "      <td>BRANCA</td>\n",
              "      <td>111</td>\n",
              "      <td>MÉDICO</td>\n",
              "      <td>519651.25</td>\n",
              "      <td>5</td>\n",
              "      <td>SUPLENTE</td>\n",
              "      <td>N</td>\n",
              "      <td>S</td>\n",
              "      <td>808282016</td>\n",
              "      <td>2353920166090133</td>\n",
              "      <td>2</td>\n",
              "      <td>DEFERIDO</td>\n",
              "      <td>2</td>\n",
              "      <td>DEFERIDO</td>\n",
              "      <td>SIM</td>\n",
              "      <td>NaN</td>\n",
              "      <td>NaN</td>\n",
              "      <td>NaN</td>\n",
              "      <td>NaN</td>\n",
              "      <td>NaN</td>\n",
              "      <td>NaN</td>\n",
              "      <td>NaN</td>\n",
              "      <td>NaN</td>\n",
              "    </tr>\n",
              "    <tr>\n",
              "      <th>3</th>\n",
              "      <td>18/02/2021</td>\n",
              "      <td>12:07:20</td>\n",
              "      <td>2016</td>\n",
              "      <td>2</td>\n",
              "      <td>ELEIÇÃO ORDINÁRIA</td>\n",
              "      <td>1</td>\n",
              "      <td>220</td>\n",
              "      <td>Eleições Municipais 2016</td>\n",
              "      <td>02/10/2016</td>\n",
              "      <td>MUNICIPAL</td>\n",
              "      <td>GO</td>\n",
              "      <td>93793</td>\n",
              "      <td>GOIATUBA</td>\n",
              "      <td>13</td>\n",
              "      <td>VEREADOR</td>\n",
              "      <td>90000021770</td>\n",
              "      <td>45999</td>\n",
              "      <td>WILZELENA MARIA LOPES MARTINS</td>\n",
              "      <td>VILZA LOPES</td>\n",
              "      <td>#NULO#</td>\n",
              "      <td>49117882168</td>\n",
              "      <td>SW_FCASTRO@HOTMAIL.COM</td>\n",
              "      <td>12</td>\n",
              "      <td>APTO</td>\n",
              "      <td>2</td>\n",
              "      <td>DEFERIDO</td>\n",
              "      <td>COLIGAÇÃO</td>\n",
              "      <td>45</td>\n",
              "      <td>PSDB</td>\n",
              "      <td>PARTIDO DA SOCIAL DEMOCRACIA BRASILEIRA</td>\n",
              "      <td>90000001649</td>\n",
              "      <td>LEGISLAR PARA O POVO</td>\n",
              "      <td>PSDB / PV / PHS</td>\n",
              "      <td>1</td>\n",
              "      <td>BRASILEIRA NATA</td>\n",
              "      <td>GO</td>\n",
              "      <td>-3</td>\n",
              "      <td>GOIATUBA</td>\n",
              "      <td>28/01/1967</td>\n",
              "      <td>49.0</td>\n",
              "      <td>9822491066</td>\n",
              "      <td>4</td>\n",
              "      <td>FEMININO</td>\n",
              "      <td>6</td>\n",
              "      <td>ENSINO MÉDIO COMPLETO</td>\n",
              "      <td>3</td>\n",
              "      <td>CASADO(A)</td>\n",
              "      <td>3</td>\n",
              "      <td>PARDA</td>\n",
              "      <td>581</td>\n",
              "      <td>DONA DE CASA</td>\n",
              "      <td>38077.10</td>\n",
              "      <td>5</td>\n",
              "      <td>SUPLENTE</td>\n",
              "      <td>N</td>\n",
              "      <td>S</td>\n",
              "      <td>896332016</td>\n",
              "      <td>2682320166090038</td>\n",
              "      <td>2</td>\n",
              "      <td>DEFERIDO</td>\n",
              "      <td>2</td>\n",
              "      <td>DEFERIDO</td>\n",
              "      <td>SIM</td>\n",
              "      <td>NaN</td>\n",
              "      <td>NaN</td>\n",
              "      <td>NaN</td>\n",
              "      <td>NaN</td>\n",
              "      <td>NaN</td>\n",
              "      <td>NaN</td>\n",
              "      <td>NaN</td>\n",
              "      <td>NaN</td>\n",
              "    </tr>\n",
              "    <tr>\n",
              "      <th>4</th>\n",
              "      <td>18/02/2021</td>\n",
              "      <td>12:07:20</td>\n",
              "      <td>2016</td>\n",
              "      <td>2</td>\n",
              "      <td>ELEIÇÃO ORDINÁRIA</td>\n",
              "      <td>1</td>\n",
              "      <td>220</td>\n",
              "      <td>Eleições Municipais 2016</td>\n",
              "      <td>02/10/2016</td>\n",
              "      <td>MUNICIPAL</td>\n",
              "      <td>GO</td>\n",
              "      <td>94315</td>\n",
              "      <td>JARAGUÁ</td>\n",
              "      <td>13</td>\n",
              "      <td>VEREADOR</td>\n",
              "      <td>90000010097</td>\n",
              "      <td>45211</td>\n",
              "      <td>ANA MARIA MARQUES ANDRADE</td>\n",
              "      <td>TIA ANA MARIA</td>\n",
              "      <td>#NULO#</td>\n",
              "      <td>43535658187</td>\n",
              "      <td>ZILOMAR.2016.CANDEX@GMAIL.COM</td>\n",
              "      <td>12</td>\n",
              "      <td>APTO</td>\n",
              "      <td>2</td>\n",
              "      <td>DEFERIDO</td>\n",
              "      <td>COLIGAÇÃO</td>\n",
              "      <td>45</td>\n",
              "      <td>PSDB</td>\n",
              "      <td>PARTIDO DA SOCIAL DEMOCRACIA BRASILEIRA</td>\n",
              "      <td>90000000817</td>\n",
              "      <td>ALIANÇA DA VITÓRIA I</td>\n",
              "      <td>PSDB / PP / PDT</td>\n",
              "      <td>1</td>\n",
              "      <td>BRASILEIRA NATA</td>\n",
              "      <td>GO</td>\n",
              "      <td>-3</td>\n",
              "      <td>CERES</td>\n",
              "      <td>26/07/1966</td>\n",
              "      <td>50.0</td>\n",
              "      <td>5861311040</td>\n",
              "      <td>4</td>\n",
              "      <td>FEMININO</td>\n",
              "      <td>5</td>\n",
              "      <td>ENSINO MÉDIO INCOMPLETO</td>\n",
              "      <td>3</td>\n",
              "      <td>CASADO(A)</td>\n",
              "      <td>3</td>\n",
              "      <td>PARDA</td>\n",
              "      <td>601</td>\n",
              "      <td>AGRICULTOR</td>\n",
              "      <td>21634.37</td>\n",
              "      <td>5</td>\n",
              "      <td>SUPLENTE</td>\n",
              "      <td>N</td>\n",
              "      <td>N</td>\n",
              "      <td>753252016</td>\n",
              "      <td>1415120166090017</td>\n",
              "      <td>2</td>\n",
              "      <td>DEFERIDO</td>\n",
              "      <td>4</td>\n",
              "      <td>INDEFERIDO COM RECURSO</td>\n",
              "      <td>SIM</td>\n",
              "      <td>NaN</td>\n",
              "      <td>NaN</td>\n",
              "      <td>NaN</td>\n",
              "      <td>NaN</td>\n",
              "      <td>NaN</td>\n",
              "      <td>NaN</td>\n",
              "      <td>NaN</td>\n",
              "      <td>NaN</td>\n",
              "    </tr>\n",
              "    <tr>\n",
              "      <th>5</th>\n",
              "      <td>18/02/2021</td>\n",
              "      <td>12:07:20</td>\n",
              "      <td>2016</td>\n",
              "      <td>2</td>\n",
              "      <td>ELEIÇÃO ORDINÁRIA</td>\n",
              "      <td>1</td>\n",
              "      <td>220</td>\n",
              "      <td>Eleições Municipais 2016</td>\n",
              "      <td>02/10/2016</td>\n",
              "      <td>MUNICIPAL</td>\n",
              "      <td>GO</td>\n",
              "      <td>93777</td>\n",
              "      <td>GOIÁS</td>\n",
              "      <td>13</td>\n",
              "      <td>VEREADOR</td>\n",
              "      <td>90000023024</td>\n",
              "      <td>77123</td>\n",
              "      <td>ALCIMINIO SIMÕES CORREA JUNIOR</td>\n",
              "      <td>DR ALCIMINIO</td>\n",
              "      <td>#NULO#</td>\n",
              "      <td>12372676172</td>\n",
              "      <td>UNIDOSPORGOIAS@GMAIL.COM</td>\n",
              "      <td>12</td>\n",
              "      <td>APTO</td>\n",
              "      <td>2</td>\n",
              "      <td>DEFERIDO</td>\n",
              "      <td>COLIGAÇÃO</td>\n",
              "      <td>77</td>\n",
              "      <td>SD</td>\n",
              "      <td>SOLIDARIEDADE</td>\n",
              "      <td>90000001734</td>\n",
              "      <td>ÉTICA, COMPROMISSO E TRABALHO</td>\n",
              "      <td>DEM / PSDC / PRP / SD</td>\n",
              "      <td>1</td>\n",
              "      <td>BRASILEIRA NATA</td>\n",
              "      <td>MG</td>\n",
              "      <td>-3</td>\n",
              "      <td>BAMBUÍ</td>\n",
              "      <td>13/12/1956</td>\n",
              "      <td>60.0</td>\n",
              "      <td>4790621066</td>\n",
              "      <td>2</td>\n",
              "      <td>MASCULINO</td>\n",
              "      <td>8</td>\n",
              "      <td>SUPERIOR COMPLETO</td>\n",
              "      <td>3</td>\n",
              "      <td>CASADO(A)</td>\n",
              "      <td>1</td>\n",
              "      <td>BRANCA</td>\n",
              "      <td>131</td>\n",
              "      <td>ADVOGADO</td>\n",
              "      <td>22147.45</td>\n",
              "      <td>5</td>\n",
              "      <td>SUPLENTE</td>\n",
              "      <td>N</td>\n",
              "      <td>S</td>\n",
              "      <td>911462016</td>\n",
              "      <td>1425120166090012</td>\n",
              "      <td>2</td>\n",
              "      <td>DEFERIDO</td>\n",
              "      <td>2</td>\n",
              "      <td>DEFERIDO</td>\n",
              "      <td>SIM</td>\n",
              "      <td>NaN</td>\n",
              "      <td>NaN</td>\n",
              "      <td>NaN</td>\n",
              "      <td>NaN</td>\n",
              "      <td>NaN</td>\n",
              "      <td>NaN</td>\n",
              "      <td>NaN</td>\n",
              "      <td>NaN</td>\n",
              "    </tr>\n",
              "  </tbody>\n",
              "</table>\n",
              "</div>\n",
              "      <button class=\"colab-df-convert\" onclick=\"convertToInteractive('df-6ef6e18d-2adc-45c1-9f36-ef4748b2b1bf')\"\n",
              "              title=\"Convert this dataframe to an interactive table.\"\n",
              "              style=\"display:none;\">\n",
              "        \n",
              "  <svg xmlns=\"http://www.w3.org/2000/svg\" height=\"24px\"viewBox=\"0 0 24 24\"\n",
              "       width=\"24px\">\n",
              "    <path d=\"M0 0h24v24H0V0z\" fill=\"none\"/>\n",
              "    <path d=\"M18.56 5.44l.94 2.06.94-2.06 2.06-.94-2.06-.94-.94-2.06-.94 2.06-2.06.94zm-11 1L8.5 8.5l.94-2.06 2.06-.94-2.06-.94L8.5 2.5l-.94 2.06-2.06.94zm10 10l.94 2.06.94-2.06 2.06-.94-2.06-.94-.94-2.06-.94 2.06-2.06.94z\"/><path d=\"M17.41 7.96l-1.37-1.37c-.4-.4-.92-.59-1.43-.59-.52 0-1.04.2-1.43.59L10.3 9.45l-7.72 7.72c-.78.78-.78 2.05 0 2.83L4 21.41c.39.39.9.59 1.41.59.51 0 1.02-.2 1.41-.59l7.78-7.78 2.81-2.81c.8-.78.8-2.07 0-2.86zM5.41 20L4 18.59l7.72-7.72 1.47 1.35L5.41 20z\"/>\n",
              "  </svg>\n",
              "      </button>\n",
              "      \n",
              "  <style>\n",
              "    .colab-df-container {\n",
              "      display:flex;\n",
              "      flex-wrap:wrap;\n",
              "      gap: 12px;\n",
              "    }\n",
              "\n",
              "    .colab-df-convert {\n",
              "      background-color: #E8F0FE;\n",
              "      border: none;\n",
              "      border-radius: 50%;\n",
              "      cursor: pointer;\n",
              "      display: none;\n",
              "      fill: #1967D2;\n",
              "      height: 32px;\n",
              "      padding: 0 0 0 0;\n",
              "      width: 32px;\n",
              "    }\n",
              "\n",
              "    .colab-df-convert:hover {\n",
              "      background-color: #E2EBFA;\n",
              "      box-shadow: 0px 1px 2px rgba(60, 64, 67, 0.3), 0px 1px 3px 1px rgba(60, 64, 67, 0.15);\n",
              "      fill: #174EA6;\n",
              "    }\n",
              "\n",
              "    [theme=dark] .colab-df-convert {\n",
              "      background-color: #3B4455;\n",
              "      fill: #D2E3FC;\n",
              "    }\n",
              "\n",
              "    [theme=dark] .colab-df-convert:hover {\n",
              "      background-color: #434B5C;\n",
              "      box-shadow: 0px 1px 3px 1px rgba(0, 0, 0, 0.15);\n",
              "      filter: drop-shadow(0px 1px 2px rgba(0, 0, 0, 0.3));\n",
              "      fill: #FFFFFF;\n",
              "    }\n",
              "  </style>\n",
              "\n",
              "      <script>\n",
              "        const buttonEl =\n",
              "          document.querySelector('#df-6ef6e18d-2adc-45c1-9f36-ef4748b2b1bf button.colab-df-convert');\n",
              "        buttonEl.style.display =\n",
              "          google.colab.kernel.accessAllowed ? 'block' : 'none';\n",
              "\n",
              "        async function convertToInteractive(key) {\n",
              "          const element = document.querySelector('#df-6ef6e18d-2adc-45c1-9f36-ef4748b2b1bf');\n",
              "          const dataTable =\n",
              "            await google.colab.kernel.invokeFunction('convertToInteractive',\n",
              "                                                     [key], {});\n",
              "          if (!dataTable) return;\n",
              "\n",
              "          const docLinkHtml = 'Like what you see? Visit the ' +\n",
              "            '<a target=\"_blank\" href=https://colab.research.google.com/notebooks/data_table.ipynb>data table notebook</a>'\n",
              "            + ' to learn more about interactive tables.';\n",
              "          element.innerHTML = '';\n",
              "          dataTable['output_type'] = 'display_data';\n",
              "          await google.colab.output.renderOutput(dataTable, element);\n",
              "          const docLink = document.createElement('div');\n",
              "          docLink.innerHTML = docLinkHtml;\n",
              "          element.appendChild(docLink);\n",
              "        }\n",
              "      </script>\n",
              "    </div>\n",
              "  </div>\n",
              "  "
            ]
          },
          "metadata": {},
          "execution_count": 116
        }
      ]
    },
    {
      "cell_type": "markdown",
      "source": [
        "`Analisando o dicionário dos dados, foi escolhido as colunas que melhor se aplicava para fazer a analise dos dados. Está colunas foram:`\n",
        "\n",
        "\n",
        "```\n",
        "# ANO_ELEICAO\n",
        "# CD_TIPO_ELEICAO\n",
        "# NR_TURNO\n",
        "# CD_ELEICAO\n",
        "# DS_ELEICAO\n",
        "# TP_ABRANGENCIA\n",
        "# SG_UF\n",
        "# SG_UE\n",
        "# NM_UE\n",
        "# NM_CANDIDATO\n",
        "# NM_URNA_CANDIDATO \n",
        "# CD_SITUACAO_CANDIDATURA\n",
        "# DS_SITUACAO_CANDIDATURA\n",
        "# SG_PARTIDO\n",
        "# NM_PARTIDO\n",
        "# DS_NACIONALIDADE\n",
        "# DT_NASCIMENTO\n",
        "# NR_IDADE_DATA_POSSE\n",
        "# DS_GENERO\n",
        "# DS_GRAU_INSTRUCAO\n",
        "# DS_ESTADO_CIVIL\n",
        "# DS_COR_RACA\n",
        "# DS_OCUPACAO\n",
        "# VR_DESPESA_MAX_CAMPANHA\n",
        "# DS_SIT_TOT_TURNO\n",
        "# ST_REELEICAO \n",
        "# DS_SITUACAO_CANDIDATO_URNA\n",
        "# ST_CANDIDATO_INSERIDO_URNA\n",
        "```\n",
        "\n",
        "\n",
        "\n",
        "\n",
        "\n"
      ],
      "metadata": {
        "id": "hSSilMH0BwCF"
      }
    },
    {
      "cell_type": "markdown",
      "source": [
        "**Adicionando aos dados a ideologia dos partidos**"
      ],
      "metadata": {
        "id": "c-6P5vUjL8aF"
      }
    },
    {
      "cell_type": "code",
      "source": [
        "candidatos_goias['SG_PARTIDO'].value_counts()"
      ],
      "metadata": {
        "colab": {
          "base_uri": "https://localhost:8080/"
        },
        "id": "Q8CwjovDMOVG",
        "outputId": "de9bcc09-39ec-4aac-8e78-c91d71fd9663"
      },
      "execution_count": 117,
      "outputs": [
        {
          "output_type": "execute_result",
          "data": {
            "text/plain": [
              "PSDB             5615\n",
              "DEM              4774\n",
              "PMDB             4589\n",
              "PP               4534\n",
              "PSD              3884\n",
              "PDT              3653\n",
              "PT               3248\n",
              "PSB              3013\n",
              "PTB              3007\n",
              "PSC              2490\n",
              "PSL              2428\n",
              "PR               2045\n",
              "MDB              1942\n",
              "PROS             1701\n",
              "PTC              1687\n",
              "PRTB             1670\n",
              "PODE             1486\n",
              "PC do B          1366\n",
              "PHS              1309\n",
              "PPS              1299\n",
              "PRB              1244\n",
              "CIDADANIA        1207\n",
              "PV               1147\n",
              "PTN              1067\n",
              "REPUBLICANOS     1061\n",
              "PL               1043\n",
              "PMN               994\n",
              "PATRIOTA          977\n",
              "SOLIDARIEDADE     954\n",
              "PSDC              945\n",
              "PRP               805\n",
              "SD                667\n",
              "PSOL              652\n",
              "PT do B           607\n",
              "AVANTE            499\n",
              "DC                437\n",
              "PPL               323\n",
              "PMB               317\n",
              "REDE              286\n",
              "PCB                71\n",
              "AGIR               63\n",
              "UNIÃO              47\n",
              "NOVO               45\n",
              "PCO                16\n",
              "PSTU               11\n",
              "UP                  9\n",
              "Name: SG_PARTIDO, dtype: int64"
            ]
          },
          "metadata": {},
          "execution_count": 117
        }
      ]
    },
    {
      "cell_type": "code",
      "source": [
        "def buscar_ideologia_partido(coluna):\n",
        "    SG_PARTIDO = {'PMDB':       'CENTRO',\n",
        "                  'PSDB':       'CENTRO',\n",
        "                  'PT':        'ESQUERDA',\n",
        "                  'PFL':        'CENTRO',\n",
        "                  'PP':         'DIREITA',\n",
        "                  'PL':         'DIREITA',\n",
        "                  'PPS':        'CENTRO',\n",
        "                  'PTB':       'DIREITA',\n",
        "                  'PDT':        'ESQUERDA',\n",
        "                  'PSB':        'ESQUERDA',\n",
        "                  'PPB':        'CENTRO',\n",
        "                  'PR':        'CENTRO',\n",
        "                  'PSC':         'DIREITA',\n",
        "                  'PSDC':        'ESQUERDA',\n",
        "                  'PSD':         'DIREITA',\n",
        "                  'DEM':         'DIREITA',\n",
        "                  'PTN':         'ESQUERDA',\n",
        "                  'PT do B':     'CENTRO',\n",
        "                  'PSL':         'DIREITA',\n",
        "                  'PHS':         'CENTRO',\n",
        "                  'PST':         'ESQUERDA',\n",
        "                  'PTC':         'DIREITA',\n",
        "                  'PMN':         'ESQUERDA',\n",
        "                  'PRP':         'ESQUERDA',\n",
        "                  'PV':          'ESQUERDA',\n",
        "                  'PRTB':        'DIREITA',\n",
        "                  'PC do B':     'ESQUERDA',\n",
        "                  'PRB':         'DIREITA',\n",
        "                  'PSOL':        'ESQUERDA',\n",
        "                  'PAN':         'DIREITA',\n",
        "                  'PGT':         'CENTRO',\n",
        "                  'PSTU':         'ESQUERDA',\n",
        "                  'PRONA':        'CENTRO',\n",
        "                  'PPR':          'DIREITA',\n",
        "                  'PCB':         'ESQUERDA',\n",
        "                  'PT DO B':      'CENTRO',\n",
        "                  'PCO':         'ESQUERDA',\n",
        "                  'PRN':         'DIREITA',\n",
        "                  'PC do B':      'ESQUERDA',\n",
        "                   'SD':          'ESQUERDA',\n",
        "                   'PROS':         'ESQUERDA'}\n",
        "\n",
        "    return SG_PARTIDO[coluna]"
      ],
      "metadata": {
        "id": "-46MZ0XjMAdi"
      },
      "execution_count": 118,
      "outputs": []
    },
    {
      "cell_type": "code",
      "source": [
        "#Codigo para adicionar o espectro dos partidos ao dataframe\n",
        "lista = []\n",
        "for index, linha in candidatos_goias.iterrows():\n",
        "      valor = linha.SG_PARTIDO\n",
        "      espectro = buscar_ideologia_partido(f'{valor}')\n",
        "      lista.append(espectro)\n",
        "candidatos_goias['ESPECTRO_PARTIDOS']= lista"
      ],
      "metadata": {
        "id": "YFDmypx_L73I",
        "colab": {
          "base_uri": "https://localhost:8080/",
          "height": 321
        },
        "outputId": "ae38e880-2070-434a-8084-0cad833f5581"
      },
      "execution_count": 119,
      "outputs": [
        {
          "output_type": "error",
          "ename": "KeyError",
          "evalue": "ignored",
          "traceback": [
            "\u001b[0;31m---------------------------------------------------------------------------\u001b[0m",
            "\u001b[0;31mKeyError\u001b[0m                                  Traceback (most recent call last)",
            "\u001b[0;32m<ipython-input-119-4d83637b2fe2>\u001b[0m in \u001b[0;36m<module>\u001b[0;34m\u001b[0m\n\u001b[1;32m      3\u001b[0m \u001b[0;32mfor\u001b[0m \u001b[0mindex\u001b[0m\u001b[0;34m,\u001b[0m \u001b[0mlinha\u001b[0m \u001b[0;32min\u001b[0m \u001b[0mcandidatos_goias\u001b[0m\u001b[0;34m.\u001b[0m\u001b[0miterrows\u001b[0m\u001b[0;34m(\u001b[0m\u001b[0;34m)\u001b[0m\u001b[0;34m:\u001b[0m\u001b[0;34m\u001b[0m\u001b[0;34m\u001b[0m\u001b[0m\n\u001b[1;32m      4\u001b[0m       \u001b[0mvalor\u001b[0m \u001b[0;34m=\u001b[0m \u001b[0mlinha\u001b[0m\u001b[0;34m.\u001b[0m\u001b[0mSG_PARTIDO\u001b[0m\u001b[0;34m\u001b[0m\u001b[0;34m\u001b[0m\u001b[0m\n\u001b[0;32m----> 5\u001b[0;31m       \u001b[0mespectro\u001b[0m \u001b[0;34m=\u001b[0m \u001b[0mbuscar_ideologia_partido\u001b[0m\u001b[0;34m(\u001b[0m\u001b[0;34mf'{valor}'\u001b[0m\u001b[0;34m)\u001b[0m\u001b[0;34m\u001b[0m\u001b[0;34m\u001b[0m\u001b[0m\n\u001b[0m\u001b[1;32m      6\u001b[0m       \u001b[0mlista\u001b[0m\u001b[0;34m.\u001b[0m\u001b[0mappend\u001b[0m\u001b[0;34m(\u001b[0m\u001b[0mespectro\u001b[0m\u001b[0;34m)\u001b[0m\u001b[0;34m\u001b[0m\u001b[0;34m\u001b[0m\u001b[0m\n\u001b[1;32m      7\u001b[0m \u001b[0mcandidatos_goias\u001b[0m\u001b[0;34m[\u001b[0m\u001b[0;34m'ESPECTRO_PARTIDOS'\u001b[0m\u001b[0;34m]\u001b[0m\u001b[0;34m=\u001b[0m \u001b[0mlista\u001b[0m\u001b[0;34m\u001b[0m\u001b[0;34m\u001b[0m\u001b[0m\n",
            "\u001b[0;32m<ipython-input-118-a85de6fdf2d0>\u001b[0m in \u001b[0;36mbuscar_ideologia_partido\u001b[0;34m(coluna)\u001b[0m\n\u001b[1;32m     42\u001b[0m                    'PROS':         'ESQUERDA'}\n\u001b[1;32m     43\u001b[0m \u001b[0;34m\u001b[0m\u001b[0m\n\u001b[0;32m---> 44\u001b[0;31m     \u001b[0;32mreturn\u001b[0m \u001b[0mSG_PARTIDO\u001b[0m\u001b[0;34m[\u001b[0m\u001b[0mcoluna\u001b[0m\u001b[0;34m]\u001b[0m\u001b[0;34m\u001b[0m\u001b[0;34m\u001b[0m\u001b[0m\n\u001b[0m",
            "\u001b[0;31mKeyError\u001b[0m: 'PMB'"
          ]
        }
      ]
    },
    {
      "cell_type": "code",
      "source": [
        "#filtrando as colunas necessárias \n",
        "candidatos_goias = candidatos_goias[['ANO_ELEICAO','CD_TIPO_ELEICAO','NR_TURNO','CD_ELEICAO','DS_ELEICAO','TP_ABRANGENCIA','SG_UF', 'SG_UE','NM_UE','NM_CANDIDATO','NM_URNA_CANDIDATO','CD_SITUACAO_CANDIDATURA','DS_SITUACAO_CANDIDATURA','SG_PARTIDO','NM_PARTIDO','DS_NACIONALIDADE','DT_NASCIMENTO','NR_IDADE_DATA_POSSE','DS_GENERO','DS_GRAU_INSTRUCAO','DS_ESTADO_CIVIL','DS_COR_RACA','VR_DESPESA_MAX_CAMPANHA','DS_SIT_TOT_TURNO','ST_REELEICAO','DS_SITUACAO_CANDIDATO_URNA','ST_CANDIDATO_INSERIDO_URNA']]"
      ],
      "metadata": {
        "id": "rGHQNoxGDG1H"
      },
      "execution_count": 120,
      "outputs": []
    },
    {
      "cell_type": "code",
      "source": [
        "candidatos_goias.head(4)"
      ],
      "metadata": {
        "id": "etDR7gcMEMny",
        "colab": {
          "base_uri": "https://localhost:8080/",
          "height": 412
        },
        "outputId": "7054590c-621a-4aec-80af-ec7606777fe2"
      },
      "execution_count": 121,
      "outputs": [
        {
          "output_type": "execute_result",
          "data": {
            "text/plain": [
              "   ANO_ELEICAO  CD_TIPO_ELEICAO  NR_TURNO  CD_ELEICAO  \\\n",
              "0         2016                2         1         220   \n",
              "1         2016                2         1         220   \n",
              "2         2016                2         1         220   \n",
              "3         2016                2         1         220   \n",
              "\n",
              "                 DS_ELEICAO TP_ABRANGENCIA SG_UF  SG_UE        NM_UE  \\\n",
              "0  Eleições Municipais 2016      MUNICIPAL    GO  93394  DAVINÓPOLIS   \n",
              "1  Eleições Municipais 2016      MUNICIPAL    GO  94293      JANDAIA   \n",
              "2  Eleições Municipais 2016      MUNICIPAL    GO  93734      GOIÂNIA   \n",
              "3  Eleições Municipais 2016      MUNICIPAL    GO  93793     GOIATUBA   \n",
              "\n",
              "                    NM_CANDIDATO NM_URNA_CANDIDATO  CD_SITUACAO_CANDIDATURA  \\\n",
              "0           PAULO CESAR CARNEIRO       PAULO CESAR                       12   \n",
              "1             FABIO ALVES BORGES    FABIO CAPACETE                       12   \n",
              "2       ROBSON PAIXAO DE AZEVEDO        DR. ROBSON                       12   \n",
              "3  WILZELENA MARIA LOPES MARTINS       VILZA LOPES                       12   \n",
              "\n",
              "  DS_SITUACAO_CANDIDATURA SG_PARTIDO  \\\n",
              "0                    APTO         PR   \n",
              "1                    APTO         PR   \n",
              "2                    APTO       PMDB   \n",
              "3                    APTO       PSDB   \n",
              "\n",
              "                                    NM_PARTIDO DS_NACIONALIDADE DT_NASCIMENTO  \\\n",
              "0                         PARTIDO DA REPÚBLICA  BRASILEIRA NATA    11/01/1963   \n",
              "1                         PARTIDO DA REPÚBLICA  BRASILEIRA NATA    01/06/1985   \n",
              "2  PARTIDO DO MOVIMENTO DEMOCRÁTICO BRASILEIRO  BRASILEIRA NATA    15/04/1960   \n",
              "3      PARTIDO DA SOCIAL DEMOCRACIA BRASILEIRA  BRASILEIRA NATA    28/01/1967   \n",
              "\n",
              "   NR_IDADE_DATA_POSSE  DS_GENERO      DS_GRAU_INSTRUCAO DS_ESTADO_CIVIL  \\\n",
              "0                 53.0  MASCULINO    SUPERIOR INCOMPLETO   DIVORCIADO(A)   \n",
              "1                 31.0  MASCULINO  ENSINO MÉDIO COMPLETO       CASADO(A)   \n",
              "2                 56.0  MASCULINO      SUPERIOR COMPLETO       CASADO(A)   \n",
              "3                 49.0   FEMININO  ENSINO MÉDIO COMPLETO       CASADO(A)   \n",
              "\n",
              "  DS_COR_RACA  VR_DESPESA_MAX_CAMPANHA  DS_SIT_TOT_TURNO ST_REELEICAO  \\\n",
              "0      BRANCA                 10803.91  ELEITO POR MÉDIA            N   \n",
              "1      BRANCA                 10803.91          SUPLENTE            N   \n",
              "2      BRANCA                519651.25          SUPLENTE            N   \n",
              "3       PARDA                 38077.10          SUPLENTE            N   \n",
              "\n",
              "  DS_SITUACAO_CANDIDATO_URNA ST_CANDIDATO_INSERIDO_URNA  \n",
              "0                   DEFERIDO                        SIM  \n",
              "1                   DEFERIDO                        SIM  \n",
              "2                   DEFERIDO                        SIM  \n",
              "3                   DEFERIDO                        SIM  "
            ],
            "text/html": [
              "\n",
              "  <div id=\"df-0f40a471-0125-449c-8918-fa4c87df6461\">\n",
              "    <div class=\"colab-df-container\">\n",
              "      <div>\n",
              "<style scoped>\n",
              "    .dataframe tbody tr th:only-of-type {\n",
              "        vertical-align: middle;\n",
              "    }\n",
              "\n",
              "    .dataframe tbody tr th {\n",
              "        vertical-align: top;\n",
              "    }\n",
              "\n",
              "    .dataframe thead th {\n",
              "        text-align: right;\n",
              "    }\n",
              "</style>\n",
              "<table border=\"1\" class=\"dataframe\">\n",
              "  <thead>\n",
              "    <tr style=\"text-align: right;\">\n",
              "      <th></th>\n",
              "      <th>ANO_ELEICAO</th>\n",
              "      <th>CD_TIPO_ELEICAO</th>\n",
              "      <th>NR_TURNO</th>\n",
              "      <th>CD_ELEICAO</th>\n",
              "      <th>DS_ELEICAO</th>\n",
              "      <th>TP_ABRANGENCIA</th>\n",
              "      <th>SG_UF</th>\n",
              "      <th>SG_UE</th>\n",
              "      <th>NM_UE</th>\n",
              "      <th>NM_CANDIDATO</th>\n",
              "      <th>NM_URNA_CANDIDATO</th>\n",
              "      <th>CD_SITUACAO_CANDIDATURA</th>\n",
              "      <th>DS_SITUACAO_CANDIDATURA</th>\n",
              "      <th>SG_PARTIDO</th>\n",
              "      <th>NM_PARTIDO</th>\n",
              "      <th>DS_NACIONALIDADE</th>\n",
              "      <th>DT_NASCIMENTO</th>\n",
              "      <th>NR_IDADE_DATA_POSSE</th>\n",
              "      <th>DS_GENERO</th>\n",
              "      <th>DS_GRAU_INSTRUCAO</th>\n",
              "      <th>DS_ESTADO_CIVIL</th>\n",
              "      <th>DS_COR_RACA</th>\n",
              "      <th>VR_DESPESA_MAX_CAMPANHA</th>\n",
              "      <th>DS_SIT_TOT_TURNO</th>\n",
              "      <th>ST_REELEICAO</th>\n",
              "      <th>DS_SITUACAO_CANDIDATO_URNA</th>\n",
              "      <th>ST_CANDIDATO_INSERIDO_URNA</th>\n",
              "    </tr>\n",
              "  </thead>\n",
              "  <tbody>\n",
              "    <tr>\n",
              "      <th>0</th>\n",
              "      <td>2016</td>\n",
              "      <td>2</td>\n",
              "      <td>1</td>\n",
              "      <td>220</td>\n",
              "      <td>Eleições Municipais 2016</td>\n",
              "      <td>MUNICIPAL</td>\n",
              "      <td>GO</td>\n",
              "      <td>93394</td>\n",
              "      <td>DAVINÓPOLIS</td>\n",
              "      <td>PAULO CESAR CARNEIRO</td>\n",
              "      <td>PAULO CESAR</td>\n",
              "      <td>12</td>\n",
              "      <td>APTO</td>\n",
              "      <td>PR</td>\n",
              "      <td>PARTIDO DA REPÚBLICA</td>\n",
              "      <td>BRASILEIRA NATA</td>\n",
              "      <td>11/01/1963</td>\n",
              "      <td>53.0</td>\n",
              "      <td>MASCULINO</td>\n",
              "      <td>SUPERIOR INCOMPLETO</td>\n",
              "      <td>DIVORCIADO(A)</td>\n",
              "      <td>BRANCA</td>\n",
              "      <td>10803.91</td>\n",
              "      <td>ELEITO POR MÉDIA</td>\n",
              "      <td>N</td>\n",
              "      <td>DEFERIDO</td>\n",
              "      <td>SIM</td>\n",
              "    </tr>\n",
              "    <tr>\n",
              "      <th>1</th>\n",
              "      <td>2016</td>\n",
              "      <td>2</td>\n",
              "      <td>1</td>\n",
              "      <td>220</td>\n",
              "      <td>Eleições Municipais 2016</td>\n",
              "      <td>MUNICIPAL</td>\n",
              "      <td>GO</td>\n",
              "      <td>94293</td>\n",
              "      <td>JANDAIA</td>\n",
              "      <td>FABIO ALVES BORGES</td>\n",
              "      <td>FABIO CAPACETE</td>\n",
              "      <td>12</td>\n",
              "      <td>APTO</td>\n",
              "      <td>PR</td>\n",
              "      <td>PARTIDO DA REPÚBLICA</td>\n",
              "      <td>BRASILEIRA NATA</td>\n",
              "      <td>01/06/1985</td>\n",
              "      <td>31.0</td>\n",
              "      <td>MASCULINO</td>\n",
              "      <td>ENSINO MÉDIO COMPLETO</td>\n",
              "      <td>CASADO(A)</td>\n",
              "      <td>BRANCA</td>\n",
              "      <td>10803.91</td>\n",
              "      <td>SUPLENTE</td>\n",
              "      <td>N</td>\n",
              "      <td>DEFERIDO</td>\n",
              "      <td>SIM</td>\n",
              "    </tr>\n",
              "    <tr>\n",
              "      <th>2</th>\n",
              "      <td>2016</td>\n",
              "      <td>2</td>\n",
              "      <td>1</td>\n",
              "      <td>220</td>\n",
              "      <td>Eleições Municipais 2016</td>\n",
              "      <td>MUNICIPAL</td>\n",
              "      <td>GO</td>\n",
              "      <td>93734</td>\n",
              "      <td>GOIÂNIA</td>\n",
              "      <td>ROBSON PAIXAO DE AZEVEDO</td>\n",
              "      <td>DR. ROBSON</td>\n",
              "      <td>12</td>\n",
              "      <td>APTO</td>\n",
              "      <td>PMDB</td>\n",
              "      <td>PARTIDO DO MOVIMENTO DEMOCRÁTICO BRASILEIRO</td>\n",
              "      <td>BRASILEIRA NATA</td>\n",
              "      <td>15/04/1960</td>\n",
              "      <td>56.0</td>\n",
              "      <td>MASCULINO</td>\n",
              "      <td>SUPERIOR COMPLETO</td>\n",
              "      <td>CASADO(A)</td>\n",
              "      <td>BRANCA</td>\n",
              "      <td>519651.25</td>\n",
              "      <td>SUPLENTE</td>\n",
              "      <td>N</td>\n",
              "      <td>DEFERIDO</td>\n",
              "      <td>SIM</td>\n",
              "    </tr>\n",
              "    <tr>\n",
              "      <th>3</th>\n",
              "      <td>2016</td>\n",
              "      <td>2</td>\n",
              "      <td>1</td>\n",
              "      <td>220</td>\n",
              "      <td>Eleições Municipais 2016</td>\n",
              "      <td>MUNICIPAL</td>\n",
              "      <td>GO</td>\n",
              "      <td>93793</td>\n",
              "      <td>GOIATUBA</td>\n",
              "      <td>WILZELENA MARIA LOPES MARTINS</td>\n",
              "      <td>VILZA LOPES</td>\n",
              "      <td>12</td>\n",
              "      <td>APTO</td>\n",
              "      <td>PSDB</td>\n",
              "      <td>PARTIDO DA SOCIAL DEMOCRACIA BRASILEIRA</td>\n",
              "      <td>BRASILEIRA NATA</td>\n",
              "      <td>28/01/1967</td>\n",
              "      <td>49.0</td>\n",
              "      <td>FEMININO</td>\n",
              "      <td>ENSINO MÉDIO COMPLETO</td>\n",
              "      <td>CASADO(A)</td>\n",
              "      <td>PARDA</td>\n",
              "      <td>38077.10</td>\n",
              "      <td>SUPLENTE</td>\n",
              "      <td>N</td>\n",
              "      <td>DEFERIDO</td>\n",
              "      <td>SIM</td>\n",
              "    </tr>\n",
              "  </tbody>\n",
              "</table>\n",
              "</div>\n",
              "      <button class=\"colab-df-convert\" onclick=\"convertToInteractive('df-0f40a471-0125-449c-8918-fa4c87df6461')\"\n",
              "              title=\"Convert this dataframe to an interactive table.\"\n",
              "              style=\"display:none;\">\n",
              "        \n",
              "  <svg xmlns=\"http://www.w3.org/2000/svg\" height=\"24px\"viewBox=\"0 0 24 24\"\n",
              "       width=\"24px\">\n",
              "    <path d=\"M0 0h24v24H0V0z\" fill=\"none\"/>\n",
              "    <path d=\"M18.56 5.44l.94 2.06.94-2.06 2.06-.94-2.06-.94-.94-2.06-.94 2.06-2.06.94zm-11 1L8.5 8.5l.94-2.06 2.06-.94-2.06-.94L8.5 2.5l-.94 2.06-2.06.94zm10 10l.94 2.06.94-2.06 2.06-.94-2.06-.94-.94-2.06-.94 2.06-2.06.94z\"/><path d=\"M17.41 7.96l-1.37-1.37c-.4-.4-.92-.59-1.43-.59-.52 0-1.04.2-1.43.59L10.3 9.45l-7.72 7.72c-.78.78-.78 2.05 0 2.83L4 21.41c.39.39.9.59 1.41.59.51 0 1.02-.2 1.41-.59l7.78-7.78 2.81-2.81c.8-.78.8-2.07 0-2.86zM5.41 20L4 18.59l7.72-7.72 1.47 1.35L5.41 20z\"/>\n",
              "  </svg>\n",
              "      </button>\n",
              "      \n",
              "  <style>\n",
              "    .colab-df-container {\n",
              "      display:flex;\n",
              "      flex-wrap:wrap;\n",
              "      gap: 12px;\n",
              "    }\n",
              "\n",
              "    .colab-df-convert {\n",
              "      background-color: #E8F0FE;\n",
              "      border: none;\n",
              "      border-radius: 50%;\n",
              "      cursor: pointer;\n",
              "      display: none;\n",
              "      fill: #1967D2;\n",
              "      height: 32px;\n",
              "      padding: 0 0 0 0;\n",
              "      width: 32px;\n",
              "    }\n",
              "\n",
              "    .colab-df-convert:hover {\n",
              "      background-color: #E2EBFA;\n",
              "      box-shadow: 0px 1px 2px rgba(60, 64, 67, 0.3), 0px 1px 3px 1px rgba(60, 64, 67, 0.15);\n",
              "      fill: #174EA6;\n",
              "    }\n",
              "\n",
              "    [theme=dark] .colab-df-convert {\n",
              "      background-color: #3B4455;\n",
              "      fill: #D2E3FC;\n",
              "    }\n",
              "\n",
              "    [theme=dark] .colab-df-convert:hover {\n",
              "      background-color: #434B5C;\n",
              "      box-shadow: 0px 1px 3px 1px rgba(0, 0, 0, 0.15);\n",
              "      filter: drop-shadow(0px 1px 2px rgba(0, 0, 0, 0.3));\n",
              "      fill: #FFFFFF;\n",
              "    }\n",
              "  </style>\n",
              "\n",
              "      <script>\n",
              "        const buttonEl =\n",
              "          document.querySelector('#df-0f40a471-0125-449c-8918-fa4c87df6461 button.colab-df-convert');\n",
              "        buttonEl.style.display =\n",
              "          google.colab.kernel.accessAllowed ? 'block' : 'none';\n",
              "\n",
              "        async function convertToInteractive(key) {\n",
              "          const element = document.querySelector('#df-0f40a471-0125-449c-8918-fa4c87df6461');\n",
              "          const dataTable =\n",
              "            await google.colab.kernel.invokeFunction('convertToInteractive',\n",
              "                                                     [key], {});\n",
              "          if (!dataTable) return;\n",
              "\n",
              "          const docLinkHtml = 'Like what you see? Visit the ' +\n",
              "            '<a target=\"_blank\" href=https://colab.research.google.com/notebooks/data_table.ipynb>data table notebook</a>'\n",
              "            + ' to learn more about interactive tables.';\n",
              "          element.innerHTML = '';\n",
              "          dataTable['output_type'] = 'display_data';\n",
              "          await google.colab.output.renderOutput(dataTable, element);\n",
              "          const docLink = document.createElement('div');\n",
              "          docLink.innerHTML = docLinkHtml;\n",
              "          element.appendChild(docLink);\n",
              "        }\n",
              "      </script>\n",
              "    </div>\n",
              "  </div>\n",
              "  "
            ]
          },
          "metadata": {},
          "execution_count": 121
        }
      ]
    },
    {
      "cell_type": "code",
      "source": [
        "candidatos_goias['ANO_ELEICAO'].unique()"
      ],
      "metadata": {
        "id": "T8JNjmiJgoVC",
        "colab": {
          "base_uri": "https://localhost:8080/"
        },
        "outputId": "eeb5423f-ba9e-40de-8f17-f211de31b687"
      },
      "execution_count": 122,
      "outputs": [
        {
          "output_type": "execute_result",
          "data": {
            "text/plain": [
              "array([2016, 2018, 2020, 2010, 2012, 2014, 2022])"
            ]
          },
          "metadata": {},
          "execution_count": 122
        }
      ]
    },
    {
      "cell_type": "markdown",
      "source": [
        "`Fazendo a descrição dos dados`"
      ],
      "metadata": {
        "id": "0ahL33ZsxqsW"
      }
    },
    {
      "cell_type": "code",
      "source": [
        "candidatos_goias.describe()"
      ],
      "metadata": {
        "colab": {
          "base_uri": "https://localhost:8080/",
          "height": 364
        },
        "id": "TmRX7nqBxn9O",
        "outputId": "256f5b85-7dec-4705-e113-b6946ac0234a"
      },
      "execution_count": 123,
      "outputs": [
        {
          "output_type": "execute_result",
          "data": {
            "text/plain": [
              "        ANO_ELEICAO  CD_TIPO_ELEICAO      NR_TURNO    CD_ELEICAO  \\\n",
              "count  71234.000000     71234.000000  71234.000000  71234.000000   \n",
              "mean    2016.279501         1.998610      1.000337    245.839922   \n",
              "std        3.367460         0.037254      0.018352    159.052521   \n",
              "min     2010.000000         1.000000      1.000000     37.000000   \n",
              "25%     2012.000000         2.000000      1.000000     47.000000   \n",
              "50%     2016.000000         2.000000      1.000000    220.000000   \n",
              "75%     2020.000000         2.000000      1.000000    426.000000   \n",
              "max     2022.000000         2.000000      2.000000    546.000000   \n",
              "\n",
              "       CD_SITUACAO_CANDIDATURA  NR_IDADE_DATA_POSSE  VR_DESPESA_MAX_CAMPANHA  \n",
              "count             71234.000000         71145.000000             7.123400e+04  \n",
              "mean                 11.317713            44.481144             2.466352e+05  \n",
              "std                   2.386401            17.818667             9.241506e+05  \n",
              "min                   1.000000          -940.000000            -4.000000e+00  \n",
              "25%                  12.000000            36.000000             1.230775e+04  \n",
              "50%                  12.000000            44.000000             3.563052e+04  \n",
              "75%                  12.000000            52.000000             1.205451e+05  \n",
              "max                  12.000000           999.000000             5.000000e+07  "
            ],
            "text/html": [
              "\n",
              "  <div id=\"df-6a7792d1-bab8-40d9-a410-e09485f53185\">\n",
              "    <div class=\"colab-df-container\">\n",
              "      <div>\n",
              "<style scoped>\n",
              "    .dataframe tbody tr th:only-of-type {\n",
              "        vertical-align: middle;\n",
              "    }\n",
              "\n",
              "    .dataframe tbody tr th {\n",
              "        vertical-align: top;\n",
              "    }\n",
              "\n",
              "    .dataframe thead th {\n",
              "        text-align: right;\n",
              "    }\n",
              "</style>\n",
              "<table border=\"1\" class=\"dataframe\">\n",
              "  <thead>\n",
              "    <tr style=\"text-align: right;\">\n",
              "      <th></th>\n",
              "      <th>ANO_ELEICAO</th>\n",
              "      <th>CD_TIPO_ELEICAO</th>\n",
              "      <th>NR_TURNO</th>\n",
              "      <th>CD_ELEICAO</th>\n",
              "      <th>CD_SITUACAO_CANDIDATURA</th>\n",
              "      <th>NR_IDADE_DATA_POSSE</th>\n",
              "      <th>VR_DESPESA_MAX_CAMPANHA</th>\n",
              "    </tr>\n",
              "  </thead>\n",
              "  <tbody>\n",
              "    <tr>\n",
              "      <th>count</th>\n",
              "      <td>71234.000000</td>\n",
              "      <td>71234.000000</td>\n",
              "      <td>71234.000000</td>\n",
              "      <td>71234.000000</td>\n",
              "      <td>71234.000000</td>\n",
              "      <td>71145.000000</td>\n",
              "      <td>7.123400e+04</td>\n",
              "    </tr>\n",
              "    <tr>\n",
              "      <th>mean</th>\n",
              "      <td>2016.279501</td>\n",
              "      <td>1.998610</td>\n",
              "      <td>1.000337</td>\n",
              "      <td>245.839922</td>\n",
              "      <td>11.317713</td>\n",
              "      <td>44.481144</td>\n",
              "      <td>2.466352e+05</td>\n",
              "    </tr>\n",
              "    <tr>\n",
              "      <th>std</th>\n",
              "      <td>3.367460</td>\n",
              "      <td>0.037254</td>\n",
              "      <td>0.018352</td>\n",
              "      <td>159.052521</td>\n",
              "      <td>2.386401</td>\n",
              "      <td>17.818667</td>\n",
              "      <td>9.241506e+05</td>\n",
              "    </tr>\n",
              "    <tr>\n",
              "      <th>min</th>\n",
              "      <td>2010.000000</td>\n",
              "      <td>1.000000</td>\n",
              "      <td>1.000000</td>\n",
              "      <td>37.000000</td>\n",
              "      <td>1.000000</td>\n",
              "      <td>-940.000000</td>\n",
              "      <td>-4.000000e+00</td>\n",
              "    </tr>\n",
              "    <tr>\n",
              "      <th>25%</th>\n",
              "      <td>2012.000000</td>\n",
              "      <td>2.000000</td>\n",
              "      <td>1.000000</td>\n",
              "      <td>47.000000</td>\n",
              "      <td>12.000000</td>\n",
              "      <td>36.000000</td>\n",
              "      <td>1.230775e+04</td>\n",
              "    </tr>\n",
              "    <tr>\n",
              "      <th>50%</th>\n",
              "      <td>2016.000000</td>\n",
              "      <td>2.000000</td>\n",
              "      <td>1.000000</td>\n",
              "      <td>220.000000</td>\n",
              "      <td>12.000000</td>\n",
              "      <td>44.000000</td>\n",
              "      <td>3.563052e+04</td>\n",
              "    </tr>\n",
              "    <tr>\n",
              "      <th>75%</th>\n",
              "      <td>2020.000000</td>\n",
              "      <td>2.000000</td>\n",
              "      <td>1.000000</td>\n",
              "      <td>426.000000</td>\n",
              "      <td>12.000000</td>\n",
              "      <td>52.000000</td>\n",
              "      <td>1.205451e+05</td>\n",
              "    </tr>\n",
              "    <tr>\n",
              "      <th>max</th>\n",
              "      <td>2022.000000</td>\n",
              "      <td>2.000000</td>\n",
              "      <td>2.000000</td>\n",
              "      <td>546.000000</td>\n",
              "      <td>12.000000</td>\n",
              "      <td>999.000000</td>\n",
              "      <td>5.000000e+07</td>\n",
              "    </tr>\n",
              "  </tbody>\n",
              "</table>\n",
              "</div>\n",
              "      <button class=\"colab-df-convert\" onclick=\"convertToInteractive('df-6a7792d1-bab8-40d9-a410-e09485f53185')\"\n",
              "              title=\"Convert this dataframe to an interactive table.\"\n",
              "              style=\"display:none;\">\n",
              "        \n",
              "  <svg xmlns=\"http://www.w3.org/2000/svg\" height=\"24px\"viewBox=\"0 0 24 24\"\n",
              "       width=\"24px\">\n",
              "    <path d=\"M0 0h24v24H0V0z\" fill=\"none\"/>\n",
              "    <path d=\"M18.56 5.44l.94 2.06.94-2.06 2.06-.94-2.06-.94-.94-2.06-.94 2.06-2.06.94zm-11 1L8.5 8.5l.94-2.06 2.06-.94-2.06-.94L8.5 2.5l-.94 2.06-2.06.94zm10 10l.94 2.06.94-2.06 2.06-.94-2.06-.94-.94-2.06-.94 2.06-2.06.94z\"/><path d=\"M17.41 7.96l-1.37-1.37c-.4-.4-.92-.59-1.43-.59-.52 0-1.04.2-1.43.59L10.3 9.45l-7.72 7.72c-.78.78-.78 2.05 0 2.83L4 21.41c.39.39.9.59 1.41.59.51 0 1.02-.2 1.41-.59l7.78-7.78 2.81-2.81c.8-.78.8-2.07 0-2.86zM5.41 20L4 18.59l7.72-7.72 1.47 1.35L5.41 20z\"/>\n",
              "  </svg>\n",
              "      </button>\n",
              "      \n",
              "  <style>\n",
              "    .colab-df-container {\n",
              "      display:flex;\n",
              "      flex-wrap:wrap;\n",
              "      gap: 12px;\n",
              "    }\n",
              "\n",
              "    .colab-df-convert {\n",
              "      background-color: #E8F0FE;\n",
              "      border: none;\n",
              "      border-radius: 50%;\n",
              "      cursor: pointer;\n",
              "      display: none;\n",
              "      fill: #1967D2;\n",
              "      height: 32px;\n",
              "      padding: 0 0 0 0;\n",
              "      width: 32px;\n",
              "    }\n",
              "\n",
              "    .colab-df-convert:hover {\n",
              "      background-color: #E2EBFA;\n",
              "      box-shadow: 0px 1px 2px rgba(60, 64, 67, 0.3), 0px 1px 3px 1px rgba(60, 64, 67, 0.15);\n",
              "      fill: #174EA6;\n",
              "    }\n",
              "\n",
              "    [theme=dark] .colab-df-convert {\n",
              "      background-color: #3B4455;\n",
              "      fill: #D2E3FC;\n",
              "    }\n",
              "\n",
              "    [theme=dark] .colab-df-convert:hover {\n",
              "      background-color: #434B5C;\n",
              "      box-shadow: 0px 1px 3px 1px rgba(0, 0, 0, 0.15);\n",
              "      filter: drop-shadow(0px 1px 2px rgba(0, 0, 0, 0.3));\n",
              "      fill: #FFFFFF;\n",
              "    }\n",
              "  </style>\n",
              "\n",
              "      <script>\n",
              "        const buttonEl =\n",
              "          document.querySelector('#df-6a7792d1-bab8-40d9-a410-e09485f53185 button.colab-df-convert');\n",
              "        buttonEl.style.display =\n",
              "          google.colab.kernel.accessAllowed ? 'block' : 'none';\n",
              "\n",
              "        async function convertToInteractive(key) {\n",
              "          const element = document.querySelector('#df-6a7792d1-bab8-40d9-a410-e09485f53185');\n",
              "          const dataTable =\n",
              "            await google.colab.kernel.invokeFunction('convertToInteractive',\n",
              "                                                     [key], {});\n",
              "          if (!dataTable) return;\n",
              "\n",
              "          const docLinkHtml = 'Like what you see? Visit the ' +\n",
              "            '<a target=\"_blank\" href=https://colab.research.google.com/notebooks/data_table.ipynb>data table notebook</a>'\n",
              "            + ' to learn more about interactive tables.';\n",
              "          element.innerHTML = '';\n",
              "          dataTable['output_type'] = 'display_data';\n",
              "          await google.colab.output.renderOutput(dataTable, element);\n",
              "          const docLink = document.createElement('div');\n",
              "          docLink.innerHTML = docLinkHtml;\n",
              "          element.appendChild(docLink);\n",
              "        }\n",
              "      </script>\n",
              "    </div>\n",
              "  </div>\n",
              "  "
            ]
          },
          "metadata": {},
          "execution_count": 123
        }
      ]
    },
    {
      "cell_type": "markdown",
      "source": [
        "Como foi visto, os dados de gastos possuí valores negativos: 2 alternativas para tratar o dado, remover as linhas com valores negativos, porem perderia informações relevantes, ou preencher com a media, mas é preciso do valor exato pra fazer alguns calculos.  Se o valor foi registrado errado, talvez multiplicando por - 1 resolva, mas não se sabe se é valor negativado, ou houve um erro ao cadastrar, seria necessário uma investigação maior. Para essa análise irei multiplicar os valores negativos por -1  ultilizando o python"
      ],
      "metadata": {
        "id": "7TvdcQJixvJe"
      }
    },
    {
      "cell_type": "markdown",
      "source": [
        "**Removendo valores negativos de gastos de campanhas**"
      ],
      "metadata": {
        "id": "Dk2Lil48yV64"
      }
    },
    {
      "cell_type": "markdown",
      "source": [
        "**Como eu nao tenho memoria para remover os dados usando o labda, irei deixa-los**"
      ],
      "metadata": {
        "id": "on0_a47gFkwJ"
      }
    },
    {
      "cell_type": "code",
      "source": [
        "import numpy as np"
      ],
      "metadata": {
        "id": "KxOC84QYAQnk"
      },
      "execution_count": 124,
      "outputs": []
    },
    {
      "cell_type": "code",
      "source": [
        "#candidatos_goias['VR_DESPESA_MAX_CAMPANHA'].apply(lambda x: abs(candidatos_goias['VR_DESPESA_MAX_CAMPANHA']))"
      ],
      "metadata": {
        "id": "kAAwZ5Vr1q89"
      },
      "execution_count": 125,
      "outputs": []
    },
    {
      "cell_type": "code",
      "source": [
        "candidatos_goias.describe()"
      ],
      "metadata": {
        "colab": {
          "base_uri": "https://localhost:8080/",
          "height": 364
        },
        "id": "6K8jNZVuz9I-",
        "outputId": "ad80ce6c-731e-4d22-af57-4e4a91587217"
      },
      "execution_count": 126,
      "outputs": [
        {
          "output_type": "execute_result",
          "data": {
            "text/plain": [
              "        ANO_ELEICAO  CD_TIPO_ELEICAO      NR_TURNO    CD_ELEICAO  \\\n",
              "count  71234.000000     71234.000000  71234.000000  71234.000000   \n",
              "mean    2016.279501         1.998610      1.000337    245.839922   \n",
              "std        3.367460         0.037254      0.018352    159.052521   \n",
              "min     2010.000000         1.000000      1.000000     37.000000   \n",
              "25%     2012.000000         2.000000      1.000000     47.000000   \n",
              "50%     2016.000000         2.000000      1.000000    220.000000   \n",
              "75%     2020.000000         2.000000      1.000000    426.000000   \n",
              "max     2022.000000         2.000000      2.000000    546.000000   \n",
              "\n",
              "       CD_SITUACAO_CANDIDATURA  NR_IDADE_DATA_POSSE  VR_DESPESA_MAX_CAMPANHA  \n",
              "count             71234.000000         71145.000000             7.123400e+04  \n",
              "mean                 11.317713            44.481144             2.466352e+05  \n",
              "std                   2.386401            17.818667             9.241506e+05  \n",
              "min                   1.000000          -940.000000            -4.000000e+00  \n",
              "25%                  12.000000            36.000000             1.230775e+04  \n",
              "50%                  12.000000            44.000000             3.563052e+04  \n",
              "75%                  12.000000            52.000000             1.205451e+05  \n",
              "max                  12.000000           999.000000             5.000000e+07  "
            ],
            "text/html": [
              "\n",
              "  <div id=\"df-c626f24a-0343-4f01-91f2-231458d78d2d\">\n",
              "    <div class=\"colab-df-container\">\n",
              "      <div>\n",
              "<style scoped>\n",
              "    .dataframe tbody tr th:only-of-type {\n",
              "        vertical-align: middle;\n",
              "    }\n",
              "\n",
              "    .dataframe tbody tr th {\n",
              "        vertical-align: top;\n",
              "    }\n",
              "\n",
              "    .dataframe thead th {\n",
              "        text-align: right;\n",
              "    }\n",
              "</style>\n",
              "<table border=\"1\" class=\"dataframe\">\n",
              "  <thead>\n",
              "    <tr style=\"text-align: right;\">\n",
              "      <th></th>\n",
              "      <th>ANO_ELEICAO</th>\n",
              "      <th>CD_TIPO_ELEICAO</th>\n",
              "      <th>NR_TURNO</th>\n",
              "      <th>CD_ELEICAO</th>\n",
              "      <th>CD_SITUACAO_CANDIDATURA</th>\n",
              "      <th>NR_IDADE_DATA_POSSE</th>\n",
              "      <th>VR_DESPESA_MAX_CAMPANHA</th>\n",
              "    </tr>\n",
              "  </thead>\n",
              "  <tbody>\n",
              "    <tr>\n",
              "      <th>count</th>\n",
              "      <td>71234.000000</td>\n",
              "      <td>71234.000000</td>\n",
              "      <td>71234.000000</td>\n",
              "      <td>71234.000000</td>\n",
              "      <td>71234.000000</td>\n",
              "      <td>71145.000000</td>\n",
              "      <td>7.123400e+04</td>\n",
              "    </tr>\n",
              "    <tr>\n",
              "      <th>mean</th>\n",
              "      <td>2016.279501</td>\n",
              "      <td>1.998610</td>\n",
              "      <td>1.000337</td>\n",
              "      <td>245.839922</td>\n",
              "      <td>11.317713</td>\n",
              "      <td>44.481144</td>\n",
              "      <td>2.466352e+05</td>\n",
              "    </tr>\n",
              "    <tr>\n",
              "      <th>std</th>\n",
              "      <td>3.367460</td>\n",
              "      <td>0.037254</td>\n",
              "      <td>0.018352</td>\n",
              "      <td>159.052521</td>\n",
              "      <td>2.386401</td>\n",
              "      <td>17.818667</td>\n",
              "      <td>9.241506e+05</td>\n",
              "    </tr>\n",
              "    <tr>\n",
              "      <th>min</th>\n",
              "      <td>2010.000000</td>\n",
              "      <td>1.000000</td>\n",
              "      <td>1.000000</td>\n",
              "      <td>37.000000</td>\n",
              "      <td>1.000000</td>\n",
              "      <td>-940.000000</td>\n",
              "      <td>-4.000000e+00</td>\n",
              "    </tr>\n",
              "    <tr>\n",
              "      <th>25%</th>\n",
              "      <td>2012.000000</td>\n",
              "      <td>2.000000</td>\n",
              "      <td>1.000000</td>\n",
              "      <td>47.000000</td>\n",
              "      <td>12.000000</td>\n",
              "      <td>36.000000</td>\n",
              "      <td>1.230775e+04</td>\n",
              "    </tr>\n",
              "    <tr>\n",
              "      <th>50%</th>\n",
              "      <td>2016.000000</td>\n",
              "      <td>2.000000</td>\n",
              "      <td>1.000000</td>\n",
              "      <td>220.000000</td>\n",
              "      <td>12.000000</td>\n",
              "      <td>44.000000</td>\n",
              "      <td>3.563052e+04</td>\n",
              "    </tr>\n",
              "    <tr>\n",
              "      <th>75%</th>\n",
              "      <td>2020.000000</td>\n",
              "      <td>2.000000</td>\n",
              "      <td>1.000000</td>\n",
              "      <td>426.000000</td>\n",
              "      <td>12.000000</td>\n",
              "      <td>52.000000</td>\n",
              "      <td>1.205451e+05</td>\n",
              "    </tr>\n",
              "    <tr>\n",
              "      <th>max</th>\n",
              "      <td>2022.000000</td>\n",
              "      <td>2.000000</td>\n",
              "      <td>2.000000</td>\n",
              "      <td>546.000000</td>\n",
              "      <td>12.000000</td>\n",
              "      <td>999.000000</td>\n",
              "      <td>5.000000e+07</td>\n",
              "    </tr>\n",
              "  </tbody>\n",
              "</table>\n",
              "</div>\n",
              "      <button class=\"colab-df-convert\" onclick=\"convertToInteractive('df-c626f24a-0343-4f01-91f2-231458d78d2d')\"\n",
              "              title=\"Convert this dataframe to an interactive table.\"\n",
              "              style=\"display:none;\">\n",
              "        \n",
              "  <svg xmlns=\"http://www.w3.org/2000/svg\" height=\"24px\"viewBox=\"0 0 24 24\"\n",
              "       width=\"24px\">\n",
              "    <path d=\"M0 0h24v24H0V0z\" fill=\"none\"/>\n",
              "    <path d=\"M18.56 5.44l.94 2.06.94-2.06 2.06-.94-2.06-.94-.94-2.06-.94 2.06-2.06.94zm-11 1L8.5 8.5l.94-2.06 2.06-.94-2.06-.94L8.5 2.5l-.94 2.06-2.06.94zm10 10l.94 2.06.94-2.06 2.06-.94-2.06-.94-.94-2.06-.94 2.06-2.06.94z\"/><path d=\"M17.41 7.96l-1.37-1.37c-.4-.4-.92-.59-1.43-.59-.52 0-1.04.2-1.43.59L10.3 9.45l-7.72 7.72c-.78.78-.78 2.05 0 2.83L4 21.41c.39.39.9.59 1.41.59.51 0 1.02-.2 1.41-.59l7.78-7.78 2.81-2.81c.8-.78.8-2.07 0-2.86zM5.41 20L4 18.59l7.72-7.72 1.47 1.35L5.41 20z\"/>\n",
              "  </svg>\n",
              "      </button>\n",
              "      \n",
              "  <style>\n",
              "    .colab-df-container {\n",
              "      display:flex;\n",
              "      flex-wrap:wrap;\n",
              "      gap: 12px;\n",
              "    }\n",
              "\n",
              "    .colab-df-convert {\n",
              "      background-color: #E8F0FE;\n",
              "      border: none;\n",
              "      border-radius: 50%;\n",
              "      cursor: pointer;\n",
              "      display: none;\n",
              "      fill: #1967D2;\n",
              "      height: 32px;\n",
              "      padding: 0 0 0 0;\n",
              "      width: 32px;\n",
              "    }\n",
              "\n",
              "    .colab-df-convert:hover {\n",
              "      background-color: #E2EBFA;\n",
              "      box-shadow: 0px 1px 2px rgba(60, 64, 67, 0.3), 0px 1px 3px 1px rgba(60, 64, 67, 0.15);\n",
              "      fill: #174EA6;\n",
              "    }\n",
              "\n",
              "    [theme=dark] .colab-df-convert {\n",
              "      background-color: #3B4455;\n",
              "      fill: #D2E3FC;\n",
              "    }\n",
              "\n",
              "    [theme=dark] .colab-df-convert:hover {\n",
              "      background-color: #434B5C;\n",
              "      box-shadow: 0px 1px 3px 1px rgba(0, 0, 0, 0.15);\n",
              "      filter: drop-shadow(0px 1px 2px rgba(0, 0, 0, 0.3));\n",
              "      fill: #FFFFFF;\n",
              "    }\n",
              "  </style>\n",
              "\n",
              "      <script>\n",
              "        const buttonEl =\n",
              "          document.querySelector('#df-c626f24a-0343-4f01-91f2-231458d78d2d button.colab-df-convert');\n",
              "        buttonEl.style.display =\n",
              "          google.colab.kernel.accessAllowed ? 'block' : 'none';\n",
              "\n",
              "        async function convertToInteractive(key) {\n",
              "          const element = document.querySelector('#df-c626f24a-0343-4f01-91f2-231458d78d2d');\n",
              "          const dataTable =\n",
              "            await google.colab.kernel.invokeFunction('convertToInteractive',\n",
              "                                                     [key], {});\n",
              "          if (!dataTable) return;\n",
              "\n",
              "          const docLinkHtml = 'Like what you see? Visit the ' +\n",
              "            '<a target=\"_blank\" href=https://colab.research.google.com/notebooks/data_table.ipynb>data table notebook</a>'\n",
              "            + ' to learn more about interactive tables.';\n",
              "          element.innerHTML = '';\n",
              "          dataTable['output_type'] = 'display_data';\n",
              "          await google.colab.output.renderOutput(dataTable, element);\n",
              "          const docLink = document.createElement('div');\n",
              "          docLink.innerHTML = docLinkHtml;\n",
              "          element.appendChild(docLink);\n",
              "        }\n",
              "      </script>\n",
              "    </div>\n",
              "  </div>\n",
              "  "
            ]
          },
          "metadata": {},
          "execution_count": 126
        }
      ]
    },
    {
      "cell_type": "markdown",
      "source": [
        "**Verificando dados vazios nos dados**"
      ],
      "metadata": {
        "id": "VjLlNmL4IQFO"
      }
    },
    {
      "cell_type": "code",
      "source": [
        "candidatos_goias.isnull().sum()"
      ],
      "metadata": {
        "id": "mHOMQiTSx44o",
        "colab": {
          "base_uri": "https://localhost:8080/"
        },
        "outputId": "75af85a2-0c33-42c5-db11-4cf1d4e220ac"
      },
      "execution_count": 127,
      "outputs": [
        {
          "output_type": "execute_result",
          "data": {
            "text/plain": [
              "ANO_ELEICAO                    0\n",
              "CD_TIPO_ELEICAO                0\n",
              "NR_TURNO                       0\n",
              "CD_ELEICAO                     0\n",
              "DS_ELEICAO                     0\n",
              "TP_ABRANGENCIA                 0\n",
              "SG_UF                          0\n",
              "SG_UE                          0\n",
              "NM_UE                          0\n",
              "NM_CANDIDATO                   0\n",
              "NM_URNA_CANDIDATO              0\n",
              "CD_SITUACAO_CANDIDATURA        0\n",
              "DS_SITUACAO_CANDIDATURA        0\n",
              "SG_PARTIDO                     0\n",
              "NM_PARTIDO                     0\n",
              "DS_NACIONALIDADE               0\n",
              "DT_NASCIMENTO                 89\n",
              "NR_IDADE_DATA_POSSE           89\n",
              "DS_GENERO                      0\n",
              "DS_GRAU_INSTRUCAO              0\n",
              "DS_ESTADO_CIVIL                0\n",
              "DS_COR_RACA                    0\n",
              "VR_DESPESA_MAX_CAMPANHA        0\n",
              "DS_SIT_TOT_TURNO               0\n",
              "ST_REELEICAO                   0\n",
              "DS_SITUACAO_CANDIDATO_URNA     0\n",
              "ST_CANDIDATO_INSERIDO_URNA     0\n",
              "dtype: int64"
            ]
          },
          "metadata": {},
          "execution_count": 127
        }
      ]
    },
    {
      "cell_type": "markdown",
      "source": [
        "`Como apenas a coluna NM_URNA_CANDIDATO tem valor nulo e é apenas 1, então essa linha poderá ser excluída, caso fosse mais linhas nulos, teria que tomar outra decisão para tratar o valor nulo`"
      ],
      "metadata": {
        "id": "bGAPx-7JJbpV"
      }
    },
    {
      "cell_type": "code",
      "source": [
        "candidatos_goias.dropna(inplace =True)\n",
        "candidatos_goias.isnull().sum()"
      ],
      "metadata": {
        "id": "YO9DpzgQI7Hc",
        "colab": {
          "base_uri": "https://localhost:8080/"
        },
        "outputId": "2bbbe725-8524-4a9b-d424-6a0eb73d884f"
      },
      "execution_count": 128,
      "outputs": [
        {
          "output_type": "execute_result",
          "data": {
            "text/plain": [
              "ANO_ELEICAO                   0\n",
              "CD_TIPO_ELEICAO               0\n",
              "NR_TURNO                      0\n",
              "CD_ELEICAO                    0\n",
              "DS_ELEICAO                    0\n",
              "TP_ABRANGENCIA                0\n",
              "SG_UF                         0\n",
              "SG_UE                         0\n",
              "NM_UE                         0\n",
              "NM_CANDIDATO                  0\n",
              "NM_URNA_CANDIDATO             0\n",
              "CD_SITUACAO_CANDIDATURA       0\n",
              "DS_SITUACAO_CANDIDATURA       0\n",
              "SG_PARTIDO                    0\n",
              "NM_PARTIDO                    0\n",
              "DS_NACIONALIDADE              0\n",
              "DT_NASCIMENTO                 0\n",
              "NR_IDADE_DATA_POSSE           0\n",
              "DS_GENERO                     0\n",
              "DS_GRAU_INSTRUCAO             0\n",
              "DS_ESTADO_CIVIL               0\n",
              "DS_COR_RACA                   0\n",
              "VR_DESPESA_MAX_CAMPANHA       0\n",
              "DS_SIT_TOT_TURNO              0\n",
              "ST_REELEICAO                  0\n",
              "DS_SITUACAO_CANDIDATO_URNA    0\n",
              "ST_CANDIDATO_INSERIDO_URNA    0\n",
              "dtype: int64"
            ]
          },
          "metadata": {},
          "execution_count": 128
        }
      ]
    },
    {
      "cell_type": "markdown",
      "source": [
        "`Após os dados nulos serem removidos será iniciado a análise dos dados os candidatos de  1994  até 2008`"
      ],
      "metadata": {
        "id": "DJdUNJqOKGew"
      }
    },
    {
      "cell_type": "markdown",
      "source": [
        "O que está análise vai tratar \n",
        "*   Quantas candidatos inscritos\n",
        "*   Quantos candidatos por raça \n",
        "*   Quantos candidatos por escolaridade\n",
        "*   Faixa etária dos candidatos por raça e sexo\n",
        "*   Porcentagem de candidatos escrito por raça, escolaridade, sexo\n",
        "*   Quantidade de partidos\n",
        "*   Quantidade de partido por sexo e raça\n",
        "*   Quantidade de escrito por estado civil\n",
        "*   Estado civil dos candidatos por genero\n",
        "*   Qual partido teve mais inscritos por raça e genero\n",
        "*   Qual partido mais elegeu\n",
        "*   Os candidatos mais eleitos usaram nome de algum candidatos que estava em alta na epóca \n",
        "*   O gasto com campanhas influência ao vencer eleição\n",
        "\n",
        "\n",
        "\n",
        "\n",
        "\n",
        "\n",
        "\n",
        "\n",
        "\n",
        "\n",
        "\n",
        "\n",
        "\n",
        "\n",
        "\n",
        "\n"
      ],
      "metadata": {
        "id": "e3fknnSCKUs_"
      }
    },
    {
      "cell_type": "markdown",
      "source": [
        "**Quantos candidatos inscritos?**\n",
        "\n",
        "\n",
        "\n"
      ],
      "metadata": {
        "id": "n9dXqlLNLZXU"
      }
    },
    {
      "cell_type": "code",
      "source": [
        "candidatos_goias['ANO_ELEICAO'].count()"
      ],
      "metadata": {
        "id": "aKwc6RsKKA8C",
        "colab": {
          "base_uri": "https://localhost:8080/"
        },
        "outputId": "8e0d0a1a-abd0-4589-d510-762f598c5115"
      },
      "execution_count": 129,
      "outputs": [
        {
          "output_type": "execute_result",
          "data": {
            "text/plain": [
              "71145"
            ]
          },
          "metadata": {},
          "execution_count": 129
        }
      ]
    },
    {
      "cell_type": "markdown",
      "source": [
        "`As candidaturas de 1994 até 2010 soma 50655 cinquenta mil seiscentos e cinquenta e cinco inscritos.`"
      ],
      "metadata": {
        "id": "fe9qta89MZvJ"
      }
    },
    {
      "cell_type": "markdown",
      "source": [
        "**Quantidade de inscritos por raça**"
      ],
      "metadata": {
        "id": "TNqBMoVS-Djs"
      }
    },
    {
      "cell_type": "code",
      "source": [
        "candidatos_goias[\"DS_COR_RACA\"].value_counts()"
      ],
      "metadata": {
        "colab": {
          "base_uri": "https://localhost:8080/"
        },
        "id": "0fiQQbVo-YJs",
        "outputId": "0580862e-ade1-4abb-b54e-9d296355e66a"
      },
      "execution_count": 130,
      "outputs": [
        {
          "output_type": "execute_result",
          "data": {
            "text/plain": [
              "PARDA            24694\n",
              "#NE#             21404\n",
              "BRANCA           20088\n",
              "PRETA             4327\n",
              "AMARELA            412\n",
              "NÃO INFORMADO      177\n",
              "INDÍGENA            43\n",
              "Name: DS_COR_RACA, dtype: int64"
            ]
          },
          "metadata": {},
          "execution_count": 130
        }
      ]
    },
    {
      "cell_type": "markdown",
      "source": [
        "**Gráfico de quantidade de inscritos por raça**"
      ],
      "metadata": {
        "id": "nFKMVae7-k_X"
      }
    },
    {
      "cell_type": "code",
      "source": [
        "fig = plt.figure(figsize=(10,5))\n",
        "grafico = sns.countplot('DS_COR_RACA', order = candidatos_goias['DS_COR_RACA'].value_counts().index, palette=\"Paired\",  data =  candidatos_goias)\n",
        "plt.xticks(rotation=90)\n",
        "for i in grafico.patches:\n",
        "   grafico.annotate(i.get_height(),\n",
        "                  (i.get_x() + i.get_width() / 2, i.get_height()),\n",
        "                  ha='center',\n",
        "                  va='baseline',\n",
        "                  fontsize=12,\n",
        "                  color='black',\n",
        "                  xytext=(0, 1),\n",
        "                  textcoords='offset points');  \n",
        "plt.xlabel('Raça', fontsize=15)\n",
        "plt.ylabel(' ')\n",
        "plt.title('Grafico quantidade de candidatos por raça',fontsize=15);"
      ],
      "metadata": {
        "colab": {
          "base_uri": "https://localhost:8080/",
          "height": 489
        },
        "id": "dXAToIB9-qno",
        "outputId": "37e4cf93-674a-4e36-b67d-498a2c51ae6a"
      },
      "execution_count": 131,
      "outputs": [
        {
          "output_type": "stream",
          "name": "stderr",
          "text": [
            "/usr/local/lib/python3.7/dist-packages/seaborn/_decorators.py:43: FutureWarning: Pass the following variable as a keyword arg: x. From version 0.12, the only valid positional argument will be `data`, and passing other arguments without an explicit keyword will result in an error or misinterpretation.\n",
            "  FutureWarning\n"
          ]
        },
        {
          "output_type": "display_data",
          "data": {
            "text/plain": [
              "<Figure size 720x360 with 1 Axes>"
            ],
            "image/png": "[encoded data removed]"
          },
          "metadata": {
            "needs_background": "light"
          }
        }
      ]
    },
    {
      "cell_type": "markdown",
      "source": [
        "`De acordo com o dicionario dos dados NE são quando os valores não são registrados no banco de dados`"
      ],
      "metadata": {
        "id": "FASQRTw_-0d6"
      }
    },
    {
      "cell_type": "markdown",
      "source": [
        "**Porcentagem de inscritos por raça** "
      ],
      "metadata": {
        "id": "WBrv17B5_GeA"
      }
    },
    {
      "cell_type": "code",
      "source": [
        "porcenagem_raca = (candidatos_goias[\"DS_COR_RACA\"].value_counts() / candidatos_goias[\"ANO_ELEICAO\"].count()) * 100\n",
        "porcenagem_raca "
      ],
      "metadata": {
        "colab": {
          "base_uri": "https://localhost:8080/"
        },
        "id": "UEarjzqK_Eg3",
        "outputId": "29a9b8d9-9a5b-4111-a883-abffd74d5642"
      },
      "execution_count": 132,
      "outputs": [
        {
          "output_type": "execute_result",
          "data": {
            "text/plain": [
              "PARDA            34.709396\n",
              "#NE#             30.085038\n",
              "BRANCA           28.235294\n",
              "PRETA             6.081945\n",
              "AMARELA           0.579099\n",
              "NÃO INFORMADO     0.248788\n",
              "INDÍGENA          0.060440\n",
              "Name: DS_COR_RACA, dtype: float64"
            ]
          },
          "metadata": {},
          "execution_count": 132
        }
      ]
    },
    {
      "cell_type": "markdown",
      "source": [
        "**Quantidade de inscritos por escolaridade**"
      ],
      "metadata": {
        "id": "h1h3u6x9Or7f"
      }
    },
    {
      "cell_type": "code",
      "source": [
        "candidatos_goias['DS_GRAU_INSTRUCAO'].value_counts()"
      ],
      "metadata": {
        "id": "N_eATIWmOwMI",
        "colab": {
          "base_uri": "https://localhost:8080/"
        },
        "outputId": "883a8b73-61c8-492a-b228-c58131123c82"
      },
      "execution_count": 133,
      "outputs": [
        {
          "output_type": "execute_result",
          "data": {
            "text/plain": [
              "ENSINO MÉDIO COMPLETO            26866\n",
              "SUPERIOR COMPLETO                16537\n",
              "ENSINO FUNDAMENTAL INCOMPLETO     9736\n",
              "ENSINO FUNDAMENTAL COMPLETO       8407\n",
              "ENSINO MÉDIO INCOMPLETO           4482\n",
              "SUPERIOR INCOMPLETO               3551\n",
              "LÊ E ESCREVE                      1557\n",
              "ANALFABETO                           9\n",
              "Name: DS_GRAU_INSTRUCAO, dtype: int64"
            ]
          },
          "metadata": {},
          "execution_count": 133
        }
      ]
    },
    {
      "cell_type": "markdown",
      "source": [
        "**Porcentagem de inscritos por escolaridade**"
      ],
      "metadata": {
        "id": "dCBsuM3LRis-"
      }
    },
    {
      "cell_type": "code",
      "source": [
        "porc_escolaridade  = candidatos_goias['DS_GRAU_INSTRUCAO'].value_counts() / 71145 * 100 \n",
        "porc_escolaridade"
      ],
      "metadata": {
        "id": "AafO1e1bRmBi",
        "colab": {
          "base_uri": "https://localhost:8080/"
        },
        "outputId": "ad27aa05-a261-4ad2-a913-c30cc0fccb92"
      },
      "execution_count": 134,
      "outputs": [
        {
          "output_type": "execute_result",
          "data": {
            "text/plain": [
              "ENSINO MÉDIO COMPLETO            37.762316\n",
              "SUPERIOR COMPLETO                23.244079\n",
              "ENSINO FUNDAMENTAL INCOMPLETO    13.684728\n",
              "ENSINO FUNDAMENTAL COMPLETO      11.816712\n",
              "ENSINO MÉDIO INCOMPLETO           6.299810\n",
              "SUPERIOR INCOMPLETO               4.991215\n",
              "LÊ E ESCREVE                      2.188488\n",
              "ANALFABETO                        0.012650\n",
              "Name: DS_GRAU_INSTRUCAO, dtype: float64"
            ]
          },
          "metadata": {},
          "execution_count": 134
        }
      ]
    },
    {
      "cell_type": "markdown",
      "source": [
        "**Gráfico de inscritos por escolaridade**"
      ],
      "metadata": {
        "id": "C9ONH1PfOTqL"
      }
    },
    {
      "cell_type": "code",
      "source": [
        "fig = plt.figure(figsize=(10,5))\n",
        "grafico = sns.countplot('DS_GRAU_INSTRUCAO', order = candidatos_goias['DS_GRAU_INSTRUCAO'].value_counts().index, palette=\"Paired\",  data =  candidatos_goias)\n",
        "plt.xticks(rotation=90)\n",
        "for i in grafico.patches:\n",
        "   grafico.annotate(i.get_height(),\n",
        "                  (i.get_x() + i.get_width() / 2, i.get_height()),\n",
        "                  ha='center',\n",
        "                  va='baseline',\n",
        "                  fontsize=12,\n",
        "                  color='black',\n",
        "                  xytext=(0, 1),\n",
        "                  textcoords='offset points');  \n",
        "plt.xlabel('Escolaridade', fontsize=15)\n",
        "plt.ylabel(' ')\n",
        "plt.title('Grafico quantidade por  escolaridade',fontsize=15);"
      ],
      "metadata": {
        "id": "stBLe8e7NqcL",
        "colab": {
          "base_uri": "https://localhost:8080/",
          "height": 586
        },
        "outputId": "25f5ec6e-92bd-4f61-a705-eb757034c732"
      },
      "execution_count": 135,
      "outputs": [
        {
          "output_type": "stream",
          "name": "stderr",
          "text": [
            "/usr/local/lib/python3.7/dist-packages/seaborn/_decorators.py:43: FutureWarning: Pass the following variable as a keyword arg: x. From version 0.12, the only valid positional argument will be `data`, and passing other arguments without an explicit keyword will result in an error or misinterpretation.\n",
            "  FutureWarning\n"
          ]
        },
        {
          "output_type": "display_data",
          "data": {
            "text/plain": [
              "<Figure size 720x360 with 1 Axes>"
            ],
            "image/png": "[encoded data removed]"
          },
          "metadata": {
            "needs_background": "light"
          }
        }
      ]
    },
    {
      "cell_type": "markdown",
      "source": [
        "**Faixa etaria dos inscritos**"
      ],
      "metadata": {
        "id": "WVgD1h7UYA7i"
      }
    },
    {
      "cell_type": "code",
      "source": [
        "candidatos_goias['NR_IDADE_DATA_POSSE'].unique()"
      ],
      "metadata": {
        "id": "W_oRa89iYdC6",
        "colab": {
          "base_uri": "https://localhost:8080/"
        },
        "outputId": "1963655e-dff6-4009-ea5a-f612a9700c9a"
      },
      "execution_count": 136,
      "outputs": [
        {
          "output_type": "execute_result",
          "data": {
            "text/plain": [
              "array([  53.,   31.,   56.,   49.,   50.,   60.,   54.,   29.,   46.,\n",
              "         67.,   41.,   36.,   58.,   48.,   44.,   28.,   47.,   20.,\n",
              "         55.,   70.,   59.,   52.,   45.,   37.,   33.,   34.,   42.,\n",
              "         35.,   32.,   40.,   57.,   74.,   61.,   30.,   26.,   43.,\n",
              "         24.,   76.,   38.,   22.,   51.,   39.,   65.,   27.,   63.,\n",
              "         64.,   25.,   62.,   23.,   66.,   78.,   80.,   21.,   18.,\n",
              "         19.,   69.,   68.,   77.,   71.,   73.,   79.,   75.,   81.,\n",
              "         72.,   91.,   83.,   84.,   89.,   87.,   82.,   90.,  999.,\n",
              "         95.,   85., -940.,    3.,  942.,   88.])"
            ]
          },
          "metadata": {},
          "execution_count": 136
        }
      ]
    },
    {
      "cell_type": "markdown",
      "source": [
        "**Como foi observado, existe idade com numeros negativos e bem maiores que 100. Então será substituido por zero**"
      ],
      "metadata": {
        "id": "OUAuO5X6rBXU"
      }
    },
    {
      "cell_type": "code",
      "source": [
        "candidatos_goias.loc[((candidatos_goias.NR_IDADE_DATA_POSSE <= 0 )| (candidatos_goias.NR_IDADE_DATA_POSSE > 100))] = 0\n"
      ],
      "metadata": {
        "id": "05Palf6Ync99"
      },
      "execution_count": 137,
      "outputs": []
    },
    {
      "cell_type": "code",
      "source": [
        "candidatos_goias['NR_IDADE_DATA_POSSE'].unique()"
      ],
      "metadata": {
        "colab": {
          "base_uri": "https://localhost:8080/"
        },
        "id": "XsQ4HuBwpIoL",
        "outputId": "ca5a4497-2748-43c2-e09d-b4e3500fa57e"
      },
      "execution_count": 138,
      "outputs": [
        {
          "output_type": "execute_result",
          "data": {
            "text/plain": [
              "array([53., 31., 56., 49., 50., 60., 54., 29., 46., 67., 41., 36., 58.,\n",
              "       48., 44., 28., 47., 20., 55., 70., 59., 52., 45., 37., 33., 34.,\n",
              "       42., 35., 32., 40., 57., 74., 61., 30., 26., 43., 24., 76., 38.,\n",
              "       22., 51., 39., 65., 27., 63., 64., 25., 62., 23., 66., 78., 80.,\n",
              "       21., 18., 19., 69., 68., 77., 71., 73., 79., 75., 81., 72., 91.,\n",
              "       83., 84., 89., 87., 82., 90.,  0., 95., 85.,  3., 88.])"
            ]
          },
          "metadata": {},
          "execution_count": 138
        }
      ]
    },
    {
      "cell_type": "markdown",
      "source": [
        "`Valores substituídos por zero. Já que são poucos valores e o zero não seria um valor interresante pra contabilizar, será excluido as linhas que a idade possuí zero `"
      ],
      "metadata": {
        "id": "f1nYrU3QsRUa"
      }
    },
    {
      "cell_type": "code",
      "source": [
        "idade_colunas = candidatos_goias[candidatos_goias['NR_IDADE_DATA_POSSE'] == 0 ].index\n",
        "candidatos_goias.drop(idade_colunas, inplace=True)"
      ],
      "metadata": {
        "id": "82-KnY9zsAIo"
      },
      "execution_count": 139,
      "outputs": []
    },
    {
      "cell_type": "code",
      "source": [
        "candidatos_goias['NR_IDADE_DATA_POSSE'].unique()"
      ],
      "metadata": {
        "colab": {
          "base_uri": "https://localhost:8080/"
        },
        "id": "1Hc0lQ2GsthT",
        "outputId": "51bc201c-c96b-46de-cc7c-b47218fd0fb5"
      },
      "execution_count": 140,
      "outputs": [
        {
          "output_type": "execute_result",
          "data": {
            "text/plain": [
              "array([53., 31., 56., 49., 50., 60., 54., 29., 46., 67., 41., 36., 58.,\n",
              "       48., 44., 28., 47., 20., 55., 70., 59., 52., 45., 37., 33., 34.,\n",
              "       42., 35., 32., 40., 57., 74., 61., 30., 26., 43., 24., 76., 38.,\n",
              "       22., 51., 39., 65., 27., 63., 64., 25., 62., 23., 66., 78., 80.,\n",
              "       21., 18., 19., 69., 68., 77., 71., 73., 79., 75., 81., 72., 91.,\n",
              "       83., 84., 89., 87., 82., 90., 95., 85.,  3., 88.])"
            ]
          },
          "metadata": {},
          "execution_count": 140
        }
      ]
    },
    {
      "cell_type": "markdown",
      "source": [
        "**Idade com valores 0 removidas**"
      ],
      "metadata": {
        "id": "4NxRWXvfsuyK"
      }
    },
    {
      "cell_type": "markdown",
      "source": [
        "**Excluir idade menores que 18**"
      ],
      "metadata": {
        "id": "CcfdIFuaxWQp"
      }
    },
    {
      "cell_type": "code",
      "source": [
        "idade_colunas = candidatos_goias[candidatos_goias['NR_IDADE_DATA_POSSE'] < 18 ].index\n",
        "candidatos_goias.drop(idade_colunas, inplace=True)"
      ],
      "metadata": {
        "id": "AGW93MKWxVoW"
      },
      "execution_count": 141,
      "outputs": []
    },
    {
      "cell_type": "markdown",
      "source": [
        "**idade menores que 18  excluídas** "
      ],
      "metadata": {
        "id": "upn-TXlExiKP"
      }
    },
    {
      "cell_type": "code",
      "source": [
        "candidatos_goias['NR_IDADE_DATA_POSSE'].unique()"
      ],
      "metadata": {
        "colab": {
          "base_uri": "https://localhost:8080/"
        },
        "id": "lBnNeqiKxnCa",
        "outputId": "9b5262b4-dfc0-49f9-86ad-62976066addf"
      },
      "execution_count": 142,
      "outputs": [
        {
          "output_type": "execute_result",
          "data": {
            "text/plain": [
              "array([53., 31., 56., 49., 50., 60., 54., 29., 46., 67., 41., 36., 58.,\n",
              "       48., 44., 28., 47., 20., 55., 70., 59., 52., 45., 37., 33., 34.,\n",
              "       42., 35., 32., 40., 57., 74., 61., 30., 26., 43., 24., 76., 38.,\n",
              "       22., 51., 39., 65., 27., 63., 64., 25., 62., 23., 66., 78., 80.,\n",
              "       21., 18., 19., 69., 68., 77., 71., 73., 79., 75., 81., 72., 91.,\n",
              "       83., 84., 89., 87., 82., 90., 95., 85., 88.])"
            ]
          },
          "metadata": {},
          "execution_count": 142
        }
      ]
    },
    {
      "cell_type": "markdown",
      "source": [
        "**Total de inscritos por faixa etária**"
      ],
      "metadata": {
        "id": "iyfKunX-szlE"
      }
    },
    {
      "cell_type": "code",
      "source": [
        "#Utilizando sql para cantabilizar quantidade de inscritos maiores ou iguais a 18\n",
        "query = \"\"\"SELECT COUNT(NR_IDADE_DATA_POSSE) as total_inscritos_idade\n",
        "           FROM candidatos_goias\n",
        "           where NR_IDADE_DATA_POSSE >= 18\"\"\"\n",
        "ps.sqldf(query.lower(), locals())"
      ],
      "metadata": {
        "colab": {
          "base_uri": "https://localhost:8080/",
          "height": 81
        },
        "id": "w4F7wBFDvMPU",
        "outputId": "de6e3bed-3ccc-49db-9dda-bebccc00aa46"
      },
      "execution_count": 143,
      "outputs": [
        {
          "output_type": "execute_result",
          "data": {
            "text/plain": [
              "   total_inscritos_idade\n",
              "0                  71129"
            ],
            "text/html": [
              "\n",
              "  <div id=\"df-dd5688f7-3223-4fc1-ae71-5f22fc193145\">\n",
              "    <div class=\"colab-df-container\">\n",
              "      <div>\n",
              "<style scoped>\n",
              "    .dataframe tbody tr th:only-of-type {\n",
              "        vertical-align: middle;\n",
              "    }\n",
              "\n",
              "    .dataframe tbody tr th {\n",
              "        vertical-align: top;\n",
              "    }\n",
              "\n",
              "    .dataframe thead th {\n",
              "        text-align: right;\n",
              "    }\n",
              "</style>\n",
              "<table border=\"1\" class=\"dataframe\">\n",
              "  <thead>\n",
              "    <tr style=\"text-align: right;\">\n",
              "      <th></th>\n",
              "      <th>total_inscritos_idade</th>\n",
              "    </tr>\n",
              "  </thead>\n",
              "  <tbody>\n",
              "    <tr>\n",
              "      <th>0</th>\n",
              "      <td>71129</td>\n",
              "    </tr>\n",
              "  </tbody>\n",
              "</table>\n",
              "</div>\n",
              "      <button class=\"colab-df-convert\" onclick=\"convertToInteractive('df-dd5688f7-3223-4fc1-ae71-5f22fc193145')\"\n",
              "              title=\"Convert this dataframe to an interactive table.\"\n",
              "              style=\"display:none;\">\n",
              "        \n",
              "  <svg xmlns=\"http://www.w3.org/2000/svg\" height=\"24px\"viewBox=\"0 0 24 24\"\n",
              "       width=\"24px\">\n",
              "    <path d=\"M0 0h24v24H0V0z\" fill=\"none\"/>\n",
              "    <path d=\"M18.56 5.44l.94 2.06.94-2.06 2.06-.94-2.06-.94-.94-2.06-.94 2.06-2.06.94zm-11 1L8.5 8.5l.94-2.06 2.06-.94-2.06-.94L8.5 2.5l-.94 2.06-2.06.94zm10 10l.94 2.06.94-2.06 2.06-.94-2.06-.94-.94-2.06-.94 2.06-2.06.94z\"/><path d=\"M17.41 7.96l-1.37-1.37c-.4-.4-.92-.59-1.43-.59-.52 0-1.04.2-1.43.59L10.3 9.45l-7.72 7.72c-.78.78-.78 2.05 0 2.83L4 21.41c.39.39.9.59 1.41.59.51 0 1.02-.2 1.41-.59l7.78-7.78 2.81-2.81c.8-.78.8-2.07 0-2.86zM5.41 20L4 18.59l7.72-7.72 1.47 1.35L5.41 20z\"/>\n",
              "  </svg>\n",
              "      </button>\n",
              "      \n",
              "  <style>\n",
              "    .colab-df-container {\n",
              "      display:flex;\n",
              "      flex-wrap:wrap;\n",
              "      gap: 12px;\n",
              "    }\n",
              "\n",
              "    .colab-df-convert {\n",
              "      background-color: #E8F0FE;\n",
              "      border: none;\n",
              "      border-radius: 50%;\n",
              "      cursor: pointer;\n",
              "      display: none;\n",
              "      fill: #1967D2;\n",
              "      height: 32px;\n",
              "      padding: 0 0 0 0;\n",
              "      width: 32px;\n",
              "    }\n",
              "\n",
              "    .colab-df-convert:hover {\n",
              "      background-color: #E2EBFA;\n",
              "      box-shadow: 0px 1px 2px rgba(60, 64, 67, 0.3), 0px 1px 3px 1px rgba(60, 64, 67, 0.15);\n",
              "      fill: #174EA6;\n",
              "    }\n",
              "\n",
              "    [theme=dark] .colab-df-convert {\n",
              "      background-color: #3B4455;\n",
              "      fill: #D2E3FC;\n",
              "    }\n",
              "\n",
              "    [theme=dark] .colab-df-convert:hover {\n",
              "      background-color: #434B5C;\n",
              "      box-shadow: 0px 1px 3px 1px rgba(0, 0, 0, 0.15);\n",
              "      filter: drop-shadow(0px 1px 2px rgba(0, 0, 0, 0.3));\n",
              "      fill: #FFFFFF;\n",
              "    }\n",
              "  </style>\n",
              "\n",
              "      <script>\n",
              "        const buttonEl =\n",
              "          document.querySelector('#df-dd5688f7-3223-4fc1-ae71-5f22fc193145 button.colab-df-convert');\n",
              "        buttonEl.style.display =\n",
              "          google.colab.kernel.accessAllowed ? 'block' : 'none';\n",
              "\n",
              "        async function convertToInteractive(key) {\n",
              "          const element = document.querySelector('#df-dd5688f7-3223-4fc1-ae71-5f22fc193145');\n",
              "          const dataTable =\n",
              "            await google.colab.kernel.invokeFunction('convertToInteractive',\n",
              "                                                     [key], {});\n",
              "          if (!dataTable) return;\n",
              "\n",
              "          const docLinkHtml = 'Like what you see? Visit the ' +\n",
              "            '<a target=\"_blank\" href=https://colab.research.google.com/notebooks/data_table.ipynb>data table notebook</a>'\n",
              "            + ' to learn more about interactive tables.';\n",
              "          element.innerHTML = '';\n",
              "          dataTable['output_type'] = 'display_data';\n",
              "          await google.colab.output.renderOutput(dataTable, element);\n",
              "          const docLink = document.createElement('div');\n",
              "          docLink.innerHTML = docLinkHtml;\n",
              "          element.appendChild(docLink);\n",
              "        }\n",
              "      </script>\n",
              "    </div>\n",
              "  </div>\n",
              "  "
            ]
          },
          "metadata": {},
          "execution_count": 143
        }
      ]
    },
    {
      "cell_type": "markdown",
      "source": [
        "**`Quantidade de inscritos por faixa etária**"
      ],
      "metadata": {
        "id": "e2D4-T-6vcO5"
      }
    },
    {
      "cell_type": "code",
      "source": [
        "#Utilizando sql para cantabilizar a idade \n",
        "query = \"\"\"SELECT NR_IDADE_DATA_POSSE, COUNT(NR_IDADE_DATA_POSSE) as total_inscritos_idade\n",
        "           FROM candidatos_goias\n",
        "           where NR_IDADE_DATA_POSSE >= 18\n",
        "           GROUP BY NR_IDADE_DATA_POSSE\n",
        "           ORDER BY COUNT(NR_IDADE_DATA_POSSE) DESC\"\"\"\n",
        "ps.sqldf(query.lower(), locals())"
      ],
      "metadata": {
        "colab": {
          "base_uri": "https://localhost:8080/",
          "height": 424
        },
        "id": "Pimp-Ou2sreR",
        "outputId": "18a21ec5-b1e8-4295-c162-fc337d92285e"
      },
      "execution_count": 144,
      "outputs": [
        {
          "output_type": "execute_result",
          "data": {
            "text/plain": [
              "    NR_IDADE_DATA_POSSE  total_inscritos_idade\n",
              "0                  46.0                   2484\n",
              "1                  47.0                   2432\n",
              "2                  43.0                   2385\n",
              "3                  44.0                   2381\n",
              "4                  42.0                   2375\n",
              "..                  ...                    ...\n",
              "69                 85.0                      1\n",
              "70                 88.0                      1\n",
              "71                 90.0                      1\n",
              "72                 91.0                      1\n",
              "73                 95.0                      1\n",
              "\n",
              "[74 rows x 2 columns]"
            ],
            "text/html": [
              "\n",
              "  <div id=\"df-c47f47bc-d04c-4010-b43f-19fd8eb0d6c2\">\n",
              "    <div class=\"colab-df-container\">\n",
              "      <div>\n",
              "<style scoped>\n",
              "    .dataframe tbody tr th:only-of-type {\n",
              "        vertical-align: middle;\n",
              "    }\n",
              "\n",
              "    .dataframe tbody tr th {\n",
              "        vertical-align: top;\n",
              "    }\n",
              "\n",
              "    .dataframe thead th {\n",
              "        text-align: right;\n",
              "    }\n",
              "</style>\n",
              "<table border=\"1\" class=\"dataframe\">\n",
              "  <thead>\n",
              "    <tr style=\"text-align: right;\">\n",
              "      <th></th>\n",
              "      <th>NR_IDADE_DATA_POSSE</th>\n",
              "      <th>total_inscritos_idade</th>\n",
              "    </tr>\n",
              "  </thead>\n",
              "  <tbody>\n",
              "    <tr>\n",
              "      <th>0</th>\n",
              "      <td>46.0</td>\n",
              "      <td>2484</td>\n",
              "    </tr>\n",
              "    <tr>\n",
              "      <th>1</th>\n",
              "      <td>47.0</td>\n",
              "      <td>2432</td>\n",
              "    </tr>\n",
              "    <tr>\n",
              "      <th>2</th>\n",
              "      <td>43.0</td>\n",
              "      <td>2385</td>\n",
              "    </tr>\n",
              "    <tr>\n",
              "      <th>3</th>\n",
              "      <td>44.0</td>\n",
              "      <td>2381</td>\n",
              "    </tr>\n",
              "    <tr>\n",
              "      <th>4</th>\n",
              "      <td>42.0</td>\n",
              "      <td>2375</td>\n",
              "    </tr>\n",
              "    <tr>\n",
              "      <th>...</th>\n",
              "      <td>...</td>\n",
              "      <td>...</td>\n",
              "    </tr>\n",
              "    <tr>\n",
              "      <th>69</th>\n",
              "      <td>85.0</td>\n",
              "      <td>1</td>\n",
              "    </tr>\n",
              "    <tr>\n",
              "      <th>70</th>\n",
              "      <td>88.0</td>\n",
              "      <td>1</td>\n",
              "    </tr>\n",
              "    <tr>\n",
              "      <th>71</th>\n",
              "      <td>90.0</td>\n",
              "      <td>1</td>\n",
              "    </tr>\n",
              "    <tr>\n",
              "      <th>72</th>\n",
              "      <td>91.0</td>\n",
              "      <td>1</td>\n",
              "    </tr>\n",
              "    <tr>\n",
              "      <th>73</th>\n",
              "      <td>95.0</td>\n",
              "      <td>1</td>\n",
              "    </tr>\n",
              "  </tbody>\n",
              "</table>\n",
              "<p>74 rows × 2 columns</p>\n",
              "</div>\n",
              "      <button class=\"colab-df-convert\" onclick=\"convertToInteractive('df-c47f47bc-d04c-4010-b43f-19fd8eb0d6c2')\"\n",
              "              title=\"Convert this dataframe to an interactive table.\"\n",
              "              style=\"display:none;\">\n",
              "        \n",
              "  <svg xmlns=\"http://www.w3.org/2000/svg\" height=\"24px\"viewBox=\"0 0 24 24\"\n",
              "       width=\"24px\">\n",
              "    <path d=\"M0 0h24v24H0V0z\" fill=\"none\"/>\n",
              "    <path d=\"M18.56 5.44l.94 2.06.94-2.06 2.06-.94-2.06-.94-.94-2.06-.94 2.06-2.06.94zm-11 1L8.5 8.5l.94-2.06 2.06-.94-2.06-.94L8.5 2.5l-.94 2.06-2.06.94zm10 10l.94 2.06.94-2.06 2.06-.94-2.06-.94-.94-2.06-.94 2.06-2.06.94z\"/><path d=\"M17.41 7.96l-1.37-1.37c-.4-.4-.92-.59-1.43-.59-.52 0-1.04.2-1.43.59L10.3 9.45l-7.72 7.72c-.78.78-.78 2.05 0 2.83L4 21.41c.39.39.9.59 1.41.59.51 0 1.02-.2 1.41-.59l7.78-7.78 2.81-2.81c.8-.78.8-2.07 0-2.86zM5.41 20L4 18.59l7.72-7.72 1.47 1.35L5.41 20z\"/>\n",
              "  </svg>\n",
              "      </button>\n",
              "      \n",
              "  <style>\n",
              "    .colab-df-container {\n",
              "      display:flex;\n",
              "      flex-wrap:wrap;\n",
              "      gap: 12px;\n",
              "    }\n",
              "\n",
              "    .colab-df-convert {\n",
              "      background-color: #E8F0FE;\n",
              "      border: none;\n",
              "      border-radius: 50%;\n",
              "      cursor: pointer;\n",
              "      display: none;\n",
              "      fill: #1967D2;\n",
              "      height: 32px;\n",
              "      padding: 0 0 0 0;\n",
              "      width: 32px;\n",
              "    }\n",
              "\n",
              "    .colab-df-convert:hover {\n",
              "      background-color: #E2EBFA;\n",
              "      box-shadow: 0px 1px 2px rgba(60, 64, 67, 0.3), 0px 1px 3px 1px rgba(60, 64, 67, 0.15);\n",
              "      fill: #174EA6;\n",
              "    }\n",
              "\n",
              "    [theme=dark] .colab-df-convert {\n",
              "      background-color: #3B4455;\n",
              "      fill: #D2E3FC;\n",
              "    }\n",
              "\n",
              "    [theme=dark] .colab-df-convert:hover {\n",
              "      background-color: #434B5C;\n",
              "      box-shadow: 0px 1px 3px 1px rgba(0, 0, 0, 0.15);\n",
              "      filter: drop-shadow(0px 1px 2px rgba(0, 0, 0, 0.3));\n",
              "      fill: #FFFFFF;\n",
              "    }\n",
              "  </style>\n",
              "\n",
              "      <script>\n",
              "        const buttonEl =\n",
              "          document.querySelector('#df-c47f47bc-d04c-4010-b43f-19fd8eb0d6c2 button.colab-df-convert');\n",
              "        buttonEl.style.display =\n",
              "          google.colab.kernel.accessAllowed ? 'block' : 'none';\n",
              "\n",
              "        async function convertToInteractive(key) {\n",
              "          const element = document.querySelector('#df-c47f47bc-d04c-4010-b43f-19fd8eb0d6c2');\n",
              "          const dataTable =\n",
              "            await google.colab.kernel.invokeFunction('convertToInteractive',\n",
              "                                                     [key], {});\n",
              "          if (!dataTable) return;\n",
              "\n",
              "          const docLinkHtml = 'Like what you see? Visit the ' +\n",
              "            '<a target=\"_blank\" href=https://colab.research.google.com/notebooks/data_table.ipynb>data table notebook</a>'\n",
              "            + ' to learn more about interactive tables.';\n",
              "          element.innerHTML = '';\n",
              "          dataTable['output_type'] = 'display_data';\n",
              "          await google.colab.output.renderOutput(dataTable, element);\n",
              "          const docLink = document.createElement('div');\n",
              "          docLink.innerHTML = docLinkHtml;\n",
              "          element.appendChild(docLink);\n",
              "        }\n",
              "      </script>\n",
              "    </div>\n",
              "  </div>\n",
              "  "
            ]
          },
          "metadata": {},
          "execution_count": 144
        }
      ]
    },
    {
      "cell_type": "markdown",
      "source": [
        "**Quantidade de inscritos por faixa etaria e genero.</br> faixa etária das mulheres X homens que se candidatam**\n"
      ],
      "metadata": {
        "id": "HiZb_OXoL6cu"
      }
    },
    {
      "cell_type": "code",
      "source": [
        "cadidato_feminino_idade = candidatos_goias[candidatos_goias['DS_GENERO'] == \"FEMININO\"]"
      ],
      "metadata": {
        "id": "3_uU4whEMH11"
      },
      "execution_count": 145,
      "outputs": []
    },
    {
      "cell_type": "code",
      "source": [
        "candidato_masculino_idade = candidatos_goias[candidatos_goias['DS_GENERO'] == \"MASCULINO\"]"
      ],
      "metadata": {
        "id": "M-ISX-ERMQwn"
      },
      "execution_count": 146,
      "outputs": []
    },
    {
      "cell_type": "markdown",
      "source": [
        "**Faixa etária das mulheres que mais se candidatam**"
      ],
      "metadata": {
        "id": "yZeGxAMAMrCv"
      }
    },
    {
      "cell_type": "code",
      "source": [
        "#Utilizando sql para contabilizar eleitos masculino por idade\n",
        "query = \"\"\"SELECT  NR_IDADE_DATA_POSSE,COUNT(NR_IDADE_DATA_POSSE) as total_idade\n",
        "           FROM cadidato_feminino_idade\n",
        "           GROUP BY NR_IDADE_DATA_POSSE\n",
        "           ORDER BY COUNT(NR_IDADE_DATA_POSSE) DESC\n",
        "           limit 10\n",
        "           \"\"\"\n",
        "ps.sqldf(query.lower(), locals())"
      ],
      "metadata": {
        "colab": {
          "base_uri": "https://localhost:8080/",
          "height": 363
        },
        "id": "DFnFmCqqMqML",
        "outputId": "184ada71-30ee-48c4-cf8a-9f53a2a5cd97"
      },
      "execution_count": 147,
      "outputs": [
        {
          "output_type": "execute_result",
          "data": {
            "text/plain": [
              "   NR_IDADE_DATA_POSSE  total_idade\n",
              "0                 44.0          785\n",
              "1                 47.0          770\n",
              "2                 46.0          762\n",
              "3                 43.0          759\n",
              "4                 42.0          748\n",
              "5                 41.0          722\n",
              "6                 48.0          720\n",
              "7                 40.0          718\n",
              "8                 39.0          717\n",
              "9                 38.0          707"
            ],
            "text/html": [
              "\n",
              "  <div id=\"df-dcf7abf7-84f8-49e9-b254-775fd9ba1c1b\">\n",
              "    <div class=\"colab-df-container\">\n",
              "      <div>\n",
              "<style scoped>\n",
              "    .dataframe tbody tr th:only-of-type {\n",
              "        vertical-align: middle;\n",
              "    }\n",
              "\n",
              "    .dataframe tbody tr th {\n",
              "        vertical-align: top;\n",
              "    }\n",
              "\n",
              "    .dataframe thead th {\n",
              "        text-align: right;\n",
              "    }\n",
              "</style>\n",
              "<table border=\"1\" class=\"dataframe\">\n",
              "  <thead>\n",
              "    <tr style=\"text-align: right;\">\n",
              "      <th></th>\n",
              "      <th>NR_IDADE_DATA_POSSE</th>\n",
              "      <th>total_idade</th>\n",
              "    </tr>\n",
              "  </thead>\n",
              "  <tbody>\n",
              "    <tr>\n",
              "      <th>0</th>\n",
              "      <td>44.0</td>\n",
              "      <td>785</td>\n",
              "    </tr>\n",
              "    <tr>\n",
              "      <th>1</th>\n",
              "      <td>47.0</td>\n",
              "      <td>770</td>\n",
              "    </tr>\n",
              "    <tr>\n",
              "      <th>2</th>\n",
              "      <td>46.0</td>\n",
              "      <td>762</td>\n",
              "    </tr>\n",
              "    <tr>\n",
              "      <th>3</th>\n",
              "      <td>43.0</td>\n",
              "      <td>759</td>\n",
              "    </tr>\n",
              "    <tr>\n",
              "      <th>4</th>\n",
              "      <td>42.0</td>\n",
              "      <td>748</td>\n",
              "    </tr>\n",
              "    <tr>\n",
              "      <th>5</th>\n",
              "      <td>41.0</td>\n",
              "      <td>722</td>\n",
              "    </tr>\n",
              "    <tr>\n",
              "      <th>6</th>\n",
              "      <td>48.0</td>\n",
              "      <td>720</td>\n",
              "    </tr>\n",
              "    <tr>\n",
              "      <th>7</th>\n",
              "      <td>40.0</td>\n",
              "      <td>718</td>\n",
              "    </tr>\n",
              "    <tr>\n",
              "      <th>8</th>\n",
              "      <td>39.0</td>\n",
              "      <td>717</td>\n",
              "    </tr>\n",
              "    <tr>\n",
              "      <th>9</th>\n",
              "      <td>38.0</td>\n",
              "      <td>707</td>\n",
              "    </tr>\n",
              "  </tbody>\n",
              "</table>\n",
              "</div>\n",
              "      <button class=\"colab-df-convert\" onclick=\"convertToInteractive('df-dcf7abf7-84f8-49e9-b254-775fd9ba1c1b')\"\n",
              "              title=\"Convert this dataframe to an interactive table.\"\n",
              "              style=\"display:none;\">\n",
              "        \n",
              "  <svg xmlns=\"http://www.w3.org/2000/svg\" height=\"24px\"viewBox=\"0 0 24 24\"\n",
              "       width=\"24px\">\n",
              "    <path d=\"M0 0h24v24H0V0z\" fill=\"none\"/>\n",
              "    <path d=\"M18.56 5.44l.94 2.06.94-2.06 2.06-.94-2.06-.94-.94-2.06-.94 2.06-2.06.94zm-11 1L8.5 8.5l.94-2.06 2.06-.94-2.06-.94L8.5 2.5l-.94 2.06-2.06.94zm10 10l.94 2.06.94-2.06 2.06-.94-2.06-.94-.94-2.06-.94 2.06-2.06.94z\"/><path d=\"M17.41 7.96l-1.37-1.37c-.4-.4-.92-.59-1.43-.59-.52 0-1.04.2-1.43.59L10.3 9.45l-7.72 7.72c-.78.78-.78 2.05 0 2.83L4 21.41c.39.39.9.59 1.41.59.51 0 1.02-.2 1.41-.59l7.78-7.78 2.81-2.81c.8-.78.8-2.07 0-2.86zM5.41 20L4 18.59l7.72-7.72 1.47 1.35L5.41 20z\"/>\n",
              "  </svg>\n",
              "      </button>\n",
              "      \n",
              "  <style>\n",
              "    .colab-df-container {\n",
              "      display:flex;\n",
              "      flex-wrap:wrap;\n",
              "      gap: 12px;\n",
              "    }\n",
              "\n",
              "    .colab-df-convert {\n",
              "      background-color: #E8F0FE;\n",
              "      border: none;\n",
              "      border-radius: 50%;\n",
              "      cursor: pointer;\n",
              "      display: none;\n",
              "      fill: #1967D2;\n",
              "      height: 32px;\n",
              "      padding: 0 0 0 0;\n",
              "      width: 32px;\n",
              "    }\n",
              "\n",
              "    .colab-df-convert:hover {\n",
              "      background-color: #E2EBFA;\n",
              "      box-shadow: 0px 1px 2px rgba(60, 64, 67, 0.3), 0px 1px 3px 1px rgba(60, 64, 67, 0.15);\n",
              "      fill: #174EA6;\n",
              "    }\n",
              "\n",
              "    [theme=dark] .colab-df-convert {\n",
              "      background-color: #3B4455;\n",
              "      fill: #D2E3FC;\n",
              "    }\n",
              "\n",
              "    [theme=dark] .colab-df-convert:hover {\n",
              "      background-color: #434B5C;\n",
              "      box-shadow: 0px 1px 3px 1px rgba(0, 0, 0, 0.15);\n",
              "      filter: drop-shadow(0px 1px 2px rgba(0, 0, 0, 0.3));\n",
              "      fill: #FFFFFF;\n",
              "    }\n",
              "  </style>\n",
              "\n",
              "      <script>\n",
              "        const buttonEl =\n",
              "          document.querySelector('#df-dcf7abf7-84f8-49e9-b254-775fd9ba1c1b button.colab-df-convert');\n",
              "        buttonEl.style.display =\n",
              "          google.colab.kernel.accessAllowed ? 'block' : 'none';\n",
              "\n",
              "        async function convertToInteractive(key) {\n",
              "          const element = document.querySelector('#df-dcf7abf7-84f8-49e9-b254-775fd9ba1c1b');\n",
              "          const dataTable =\n",
              "            await google.colab.kernel.invokeFunction('convertToInteractive',\n",
              "                                                     [key], {});\n",
              "          if (!dataTable) return;\n",
              "\n",
              "          const docLinkHtml = 'Like what you see? Visit the ' +\n",
              "            '<a target=\"_blank\" href=https://colab.research.google.com/notebooks/data_table.ipynb>data table notebook</a>'\n",
              "            + ' to learn more about interactive tables.';\n",
              "          element.innerHTML = '';\n",
              "          dataTable['output_type'] = 'display_data';\n",
              "          await google.colab.output.renderOutput(dataTable, element);\n",
              "          const docLink = document.createElement('div');\n",
              "          docLink.innerHTML = docLinkHtml;\n",
              "          element.appendChild(docLink);\n",
              "        }\n",
              "      </script>\n",
              "    </div>\n",
              "  </div>\n",
              "  "
            ]
          },
          "metadata": {},
          "execution_count": 147
        }
      ]
    },
    {
      "cell_type": "markdown",
      "source": [
        "**Faixa etária dos homens que mais se candidatam**"
      ],
      "metadata": {
        "id": "ki29KWWhMuHf"
      }
    },
    {
      "cell_type": "code",
      "source": [
        "#Utilizando sql para contabilizar eleitos masculino por idade\n",
        "query = \"\"\"SELECT NR_IDADE_DATA_POSSE,COUNT(NR_IDADE_DATA_POSSE) as total_idade\n",
        "           FROM candidato_masculino_idade \n",
        "           GROUP BY NR_IDADE_DATA_POSSE\n",
        "           ORDER BY COUNT(NR_IDADE_DATA_POSSE) DESC\n",
        "           limit 10\n",
        "           \"\"\"\n",
        "ps.sqldf(query.lower(), locals())"
      ],
      "metadata": {
        "colab": {
          "base_uri": "https://localhost:8080/",
          "height": 363
        },
        "id": "acBNZtIRMy_d",
        "outputId": "9ac09c92-d3ad-45a6-8653-93d331ba2443"
      },
      "execution_count": 148,
      "outputs": [
        {
          "output_type": "execute_result",
          "data": {
            "text/plain": [
              "   NR_IDADE_DATA_POSSE  total_idade\n",
              "0                 46.0         1722\n",
              "1                 47.0         1662\n",
              "2                 42.0         1627\n",
              "3                 43.0         1626\n",
              "4                 41.0         1624\n",
              "5                 44.0         1596\n",
              "6                 45.0         1592\n",
              "7                 40.0         1546\n",
              "8                 50.0         1539\n",
              "9                 38.0         1533"
            ],
            "text/html": [
              "\n",
              "  <div id=\"df-d52059fa-5a98-41f0-985a-de2cf1bca852\">\n",
              "    <div class=\"colab-df-container\">\n",
              "      <div>\n",
              "<style scoped>\n",
              "    .dataframe tbody tr th:only-of-type {\n",
              "        vertical-align: middle;\n",
              "    }\n",
              "\n",
              "    .dataframe tbody tr th {\n",
              "        vertical-align: top;\n",
              "    }\n",
              "\n",
              "    .dataframe thead th {\n",
              "        text-align: right;\n",
              "    }\n",
              "</style>\n",
              "<table border=\"1\" class=\"dataframe\">\n",
              "  <thead>\n",
              "    <tr style=\"text-align: right;\">\n",
              "      <th></th>\n",
              "      <th>NR_IDADE_DATA_POSSE</th>\n",
              "      <th>total_idade</th>\n",
              "    </tr>\n",
              "  </thead>\n",
              "  <tbody>\n",
              "    <tr>\n",
              "      <th>0</th>\n",
              "      <td>46.0</td>\n",
              "      <td>1722</td>\n",
              "    </tr>\n",
              "    <tr>\n",
              "      <th>1</th>\n",
              "      <td>47.0</td>\n",
              "      <td>1662</td>\n",
              "    </tr>\n",
              "    <tr>\n",
              "      <th>2</th>\n",
              "      <td>42.0</td>\n",
              "      <td>1627</td>\n",
              "    </tr>\n",
              "    <tr>\n",
              "      <th>3</th>\n",
              "      <td>43.0</td>\n",
              "      <td>1626</td>\n",
              "    </tr>\n",
              "    <tr>\n",
              "      <th>4</th>\n",
              "      <td>41.0</td>\n",
              "      <td>1624</td>\n",
              "    </tr>\n",
              "    <tr>\n",
              "      <th>5</th>\n",
              "      <td>44.0</td>\n",
              "      <td>1596</td>\n",
              "    </tr>\n",
              "    <tr>\n",
              "      <th>6</th>\n",
              "      <td>45.0</td>\n",
              "      <td>1592</td>\n",
              "    </tr>\n",
              "    <tr>\n",
              "      <th>7</th>\n",
              "      <td>40.0</td>\n",
              "      <td>1546</td>\n",
              "    </tr>\n",
              "    <tr>\n",
              "      <th>8</th>\n",
              "      <td>50.0</td>\n",
              "      <td>1539</td>\n",
              "    </tr>\n",
              "    <tr>\n",
              "      <th>9</th>\n",
              "      <td>38.0</td>\n",
              "      <td>1533</td>\n",
              "    </tr>\n",
              "  </tbody>\n",
              "</table>\n",
              "</div>\n",
              "      <button class=\"colab-df-convert\" onclick=\"convertToInteractive('df-d52059fa-5a98-41f0-985a-de2cf1bca852')\"\n",
              "              title=\"Convert this dataframe to an interactive table.\"\n",
              "              style=\"display:none;\">\n",
              "        \n",
              "  <svg xmlns=\"http://www.w3.org/2000/svg\" height=\"24px\"viewBox=\"0 0 24 24\"\n",
              "       width=\"24px\">\n",
              "    <path d=\"M0 0h24v24H0V0z\" fill=\"none\"/>\n",
              "    <path d=\"M18.56 5.44l.94 2.06.94-2.06 2.06-.94-2.06-.94-.94-2.06-.94 2.06-2.06.94zm-11 1L8.5 8.5l.94-2.06 2.06-.94-2.06-.94L8.5 2.5l-.94 2.06-2.06.94zm10 10l.94 2.06.94-2.06 2.06-.94-2.06-.94-.94-2.06-.94 2.06-2.06.94z\"/><path d=\"M17.41 7.96l-1.37-1.37c-.4-.4-.92-.59-1.43-.59-.52 0-1.04.2-1.43.59L10.3 9.45l-7.72 7.72c-.78.78-.78 2.05 0 2.83L4 21.41c.39.39.9.59 1.41.59.51 0 1.02-.2 1.41-.59l7.78-7.78 2.81-2.81c.8-.78.8-2.07 0-2.86zM5.41 20L4 18.59l7.72-7.72 1.47 1.35L5.41 20z\"/>\n",
              "  </svg>\n",
              "      </button>\n",
              "      \n",
              "  <style>\n",
              "    .colab-df-container {\n",
              "      display:flex;\n",
              "      flex-wrap:wrap;\n",
              "      gap: 12px;\n",
              "    }\n",
              "\n",
              "    .colab-df-convert {\n",
              "      background-color: #E8F0FE;\n",
              "      border: none;\n",
              "      border-radius: 50%;\n",
              "      cursor: pointer;\n",
              "      display: none;\n",
              "      fill: #1967D2;\n",
              "      height: 32px;\n",
              "      padding: 0 0 0 0;\n",
              "      width: 32px;\n",
              "    }\n",
              "\n",
              "    .colab-df-convert:hover {\n",
              "      background-color: #E2EBFA;\n",
              "      box-shadow: 0px 1px 2px rgba(60, 64, 67, 0.3), 0px 1px 3px 1px rgba(60, 64, 67, 0.15);\n",
              "      fill: #174EA6;\n",
              "    }\n",
              "\n",
              "    [theme=dark] .colab-df-convert {\n",
              "      background-color: #3B4455;\n",
              "      fill: #D2E3FC;\n",
              "    }\n",
              "\n",
              "    [theme=dark] .colab-df-convert:hover {\n",
              "      background-color: #434B5C;\n",
              "      box-shadow: 0px 1px 3px 1px rgba(0, 0, 0, 0.15);\n",
              "      filter: drop-shadow(0px 1px 2px rgba(0, 0, 0, 0.3));\n",
              "      fill: #FFFFFF;\n",
              "    }\n",
              "  </style>\n",
              "\n",
              "      <script>\n",
              "        const buttonEl =\n",
              "          document.querySelector('#df-d52059fa-5a98-41f0-985a-de2cf1bca852 button.colab-df-convert');\n",
              "        buttonEl.style.display =\n",
              "          google.colab.kernel.accessAllowed ? 'block' : 'none';\n",
              "\n",
              "        async function convertToInteractive(key) {\n",
              "          const element = document.querySelector('#df-d52059fa-5a98-41f0-985a-de2cf1bca852');\n",
              "          const dataTable =\n",
              "            await google.colab.kernel.invokeFunction('convertToInteractive',\n",
              "                                                     [key], {});\n",
              "          if (!dataTable) return;\n",
              "\n",
              "          const docLinkHtml = 'Like what you see? Visit the ' +\n",
              "            '<a target=\"_blank\" href=https://colab.research.google.com/notebooks/data_table.ipynb>data table notebook</a>'\n",
              "            + ' to learn more about interactive tables.';\n",
              "          element.innerHTML = '';\n",
              "          dataTable['output_type'] = 'display_data';\n",
              "          await google.colab.output.renderOutput(dataTable, element);\n",
              "          const docLink = document.createElement('div');\n",
              "          docLink.innerHTML = docLinkHtml;\n",
              "          element.appendChild(docLink);\n",
              "        }\n",
              "      </script>\n",
              "    </div>\n",
              "  </div>\n",
              "  "
            ]
          },
          "metadata": {},
          "execution_count": 148
        }
      ]
    },
    {
      "cell_type": "markdown",
      "source": [
        "**Porcentagem de inscritos pela idade**"
      ],
      "metadata": {
        "id": "61LV8ENDu7wh"
      }
    },
    {
      "cell_type": "code",
      "source": [
        "porc_inscritos_idade  = candidatos_goias['NR_IDADE_DATA_POSSE'].value_counts() / 71129 * 100 \n",
        "porc_inscritos_idade"
      ],
      "metadata": {
        "colab": {
          "base_uri": "https://localhost:8080/"
        },
        "id": "BTWunjI1s9m8",
        "outputId": "d5ddf32a-f399-4a8b-f671-f01d61e50862"
      },
      "execution_count": 149,
      "outputs": [
        {
          "output_type": "execute_result",
          "data": {
            "text/plain": [
              "46.0    3.492246\n",
              "47.0    3.419140\n",
              "43.0    3.353063\n",
              "44.0    3.347439\n",
              "42.0    3.339004\n",
              "          ...   \n",
              "91.0    0.001406\n",
              "90.0    0.001406\n",
              "95.0    0.001406\n",
              "85.0    0.001406\n",
              "88.0    0.001406\n",
              "Name: NR_IDADE_DATA_POSSE, Length: 74, dtype: float64"
            ]
          },
          "metadata": {},
          "execution_count": 149
        }
      ]
    },
    {
      "cell_type": "markdown",
      "source": [
        "`Idade minima e maxima que participaram das eleições`"
      ],
      "metadata": {
        "id": "tPMA6ExixCLY"
      }
    },
    {
      "cell_type": "code",
      "source": [
        "candidatos_goias['NR_IDADE_DATA_POSSE'].max()"
      ],
      "metadata": {
        "colab": {
          "base_uri": "https://localhost:8080/"
        },
        "id": "FHm2edGKvFa_",
        "outputId": "d3392b18-0d76-464e-d83c-789220596a90"
      },
      "execution_count": 150,
      "outputs": [
        {
          "output_type": "execute_result",
          "data": {
            "text/plain": [
              "95.0"
            ]
          },
          "metadata": {},
          "execution_count": 150
        }
      ]
    },
    {
      "cell_type": "code",
      "source": [
        "candidatos_goias['NR_IDADE_DATA_POSSE'].min()"
      ],
      "metadata": {
        "colab": {
          "base_uri": "https://localhost:8080/"
        },
        "id": "WgqWitklxK0J",
        "outputId": "51ebcea3-3c62-4726-dd37-adbadfe45533"
      },
      "execution_count": 151,
      "outputs": [
        {
          "output_type": "execute_result",
          "data": {
            "text/plain": [
              "18.0"
            ]
          },
          "metadata": {},
          "execution_count": 151
        }
      ]
    },
    {
      "cell_type": "markdown",
      "source": [
        "**Vamos comparar a porcentagem de candidatos por idade. idade entre 18 até 30 e de 31 até 50**"
      ],
      "metadata": {
        "id": "BNXzQP68yNYT"
      }
    },
    {
      "cell_type": "code",
      "source": [
        "#Utilizando sql para cantabilizar a idade de 18 até 30 \n",
        "query = \"\"\"SELECT COUNT(NR_IDADE_DATA_POSSE) as total_inscritos_idade\n",
        "           FROM candidatos_goias\n",
        "           where NR_IDADE_DATA_POSSE >= 18 and NR_IDADE_DATA_POSSE <=30\n",
        "           \"\"\"\n",
        "ps.sqldf(query.lower(), locals())"
      ],
      "metadata": {
        "colab": {
          "base_uri": "https://localhost:8080/",
          "height": 81
        },
        "id": "9XvuxLiax0Zg",
        "outputId": "d4dabd72-168a-42a3-d033-90a2a260a681"
      },
      "execution_count": 152,
      "outputs": [
        {
          "output_type": "execute_result",
          "data": {
            "text/plain": [
              "   total_inscritos_idade\n",
              "0                   8229"
            ],
            "text/html": [
              "\n",
              "  <div id=\"df-bd4ae097-c62e-4717-b5d0-3fab5e71c3d6\">\n",
              "    <div class=\"colab-df-container\">\n",
              "      <div>\n",
              "<style scoped>\n",
              "    .dataframe tbody tr th:only-of-type {\n",
              "        vertical-align: middle;\n",
              "    }\n",
              "\n",
              "    .dataframe tbody tr th {\n",
              "        vertical-align: top;\n",
              "    }\n",
              "\n",
              "    .dataframe thead th {\n",
              "        text-align: right;\n",
              "    }\n",
              "</style>\n",
              "<table border=\"1\" class=\"dataframe\">\n",
              "  <thead>\n",
              "    <tr style=\"text-align: right;\">\n",
              "      <th></th>\n",
              "      <th>total_inscritos_idade</th>\n",
              "    </tr>\n",
              "  </thead>\n",
              "  <tbody>\n",
              "    <tr>\n",
              "      <th>0</th>\n",
              "      <td>8229</td>\n",
              "    </tr>\n",
              "  </tbody>\n",
              "</table>\n",
              "</div>\n",
              "      <button class=\"colab-df-convert\" onclick=\"convertToInteractive('df-bd4ae097-c62e-4717-b5d0-3fab5e71c3d6')\"\n",
              "              title=\"Convert this dataframe to an interactive table.\"\n",
              "              style=\"display:none;\">\n",
              "        \n",
              "  <svg xmlns=\"http://www.w3.org/2000/svg\" height=\"24px\"viewBox=\"0 0 24 24\"\n",
              "       width=\"24px\">\n",
              "    <path d=\"M0 0h24v24H0V0z\" fill=\"none\"/>\n",
              "    <path d=\"M18.56 5.44l.94 2.06.94-2.06 2.06-.94-2.06-.94-.94-2.06-.94 2.06-2.06.94zm-11 1L8.5 8.5l.94-2.06 2.06-.94-2.06-.94L8.5 2.5l-.94 2.06-2.06.94zm10 10l.94 2.06.94-2.06 2.06-.94-2.06-.94-.94-2.06-.94 2.06-2.06.94z\"/><path d=\"M17.41 7.96l-1.37-1.37c-.4-.4-.92-.59-1.43-.59-.52 0-1.04.2-1.43.59L10.3 9.45l-7.72 7.72c-.78.78-.78 2.05 0 2.83L4 21.41c.39.39.9.59 1.41.59.51 0 1.02-.2 1.41-.59l7.78-7.78 2.81-2.81c.8-.78.8-2.07 0-2.86zM5.41 20L4 18.59l7.72-7.72 1.47 1.35L5.41 20z\"/>\n",
              "  </svg>\n",
              "      </button>\n",
              "      \n",
              "  <style>\n",
              "    .colab-df-container {\n",
              "      display:flex;\n",
              "      flex-wrap:wrap;\n",
              "      gap: 12px;\n",
              "    }\n",
              "\n",
              "    .colab-df-convert {\n",
              "      background-color: #E8F0FE;\n",
              "      border: none;\n",
              "      border-radius: 50%;\n",
              "      cursor: pointer;\n",
              "      display: none;\n",
              "      fill: #1967D2;\n",
              "      height: 32px;\n",
              "      padding: 0 0 0 0;\n",
              "      width: 32px;\n",
              "    }\n",
              "\n",
              "    .colab-df-convert:hover {\n",
              "      background-color: #E2EBFA;\n",
              "      box-shadow: 0px 1px 2px rgba(60, 64, 67, 0.3), 0px 1px 3px 1px rgba(60, 64, 67, 0.15);\n",
              "      fill: #174EA6;\n",
              "    }\n",
              "\n",
              "    [theme=dark] .colab-df-convert {\n",
              "      background-color: #3B4455;\n",
              "      fill: #D2E3FC;\n",
              "    }\n",
              "\n",
              "    [theme=dark] .colab-df-convert:hover {\n",
              "      background-color: #434B5C;\n",
              "      box-shadow: 0px 1px 3px 1px rgba(0, 0, 0, 0.15);\n",
              "      filter: drop-shadow(0px 1px 2px rgba(0, 0, 0, 0.3));\n",
              "      fill: #FFFFFF;\n",
              "    }\n",
              "  </style>\n",
              "\n",
              "      <script>\n",
              "        const buttonEl =\n",
              "          document.querySelector('#df-bd4ae097-c62e-4717-b5d0-3fab5e71c3d6 button.colab-df-convert');\n",
              "        buttonEl.style.display =\n",
              "          google.colab.kernel.accessAllowed ? 'block' : 'none';\n",
              "\n",
              "        async function convertToInteractive(key) {\n",
              "          const element = document.querySelector('#df-bd4ae097-c62e-4717-b5d0-3fab5e71c3d6');\n",
              "          const dataTable =\n",
              "            await google.colab.kernel.invokeFunction('convertToInteractive',\n",
              "                                                     [key], {});\n",
              "          if (!dataTable) return;\n",
              "\n",
              "          const docLinkHtml = 'Like what you see? Visit the ' +\n",
              "            '<a target=\"_blank\" href=https://colab.research.google.com/notebooks/data_table.ipynb>data table notebook</a>'\n",
              "            + ' to learn more about interactive tables.';\n",
              "          element.innerHTML = '';\n",
              "          dataTable['output_type'] = 'display_data';\n",
              "          await google.colab.output.renderOutput(dataTable, element);\n",
              "          const docLink = document.createElement('div');\n",
              "          docLink.innerHTML = docLinkHtml;\n",
              "          element.appendChild(docLink);\n",
              "        }\n",
              "      </script>\n",
              "    </div>\n",
              "  </div>\n",
              "  "
            ]
          },
          "metadata": {},
          "execution_count": 152
        }
      ]
    },
    {
      "cell_type": "code",
      "source": [
        "#Porcentagem \n",
        "porc_idade = (8229/71129) * 100\n",
        "print('A porcentagem por idade entre 18 até 30 é: {:.2f}'.format(porc_idade))\n"
      ],
      "metadata": {
        "colab": {
          "base_uri": "https://localhost:8080/"
        },
        "id": "_f-5uIwDzl4M",
        "outputId": "c19fd071-526b-4db2-ff7e-dfa5286067ef"
      },
      "execution_count": 153,
      "outputs": [
        {
          "output_type": "stream",
          "name": "stdout",
          "text": [
            "A porcentagem por idade entre 18 até 30 é: 11.57\n"
          ]
        }
      ]
    },
    {
      "cell_type": "code",
      "source": [
        "#Utilizando sql para cantabilizar a idade de 18 até 30 \n",
        "query = \"\"\"SELECT COUNT(NR_IDADE_DATA_POSSE) as total_inscritos_idade\n",
        "           FROM candidatos_goias\n",
        "           where NR_IDADE_DATA_POSSE >= 31 and NR_IDADE_DATA_POSSE <=50\n",
        "           \"\"\"\n",
        "ps.sqldf(query.lower(), locals())"
      ],
      "metadata": {
        "colab": {
          "base_uri": "https://localhost:8080/",
          "height": 81
        },
        "id": "0zyYb5FCyoRI",
        "outputId": "f46bb25c-4afe-429d-a66d-edd250d106e5"
      },
      "execution_count": 154,
      "outputs": [
        {
          "output_type": "execute_result",
          "data": {
            "text/plain": [
              "   total_inscritos_idade\n",
              "0                  41991"
            ],
            "text/html": [
              "\n",
              "  <div id=\"df-cdab8660-fa35-4a7f-afd8-ff0a8b0ae6b5\">\n",
              "    <div class=\"colab-df-container\">\n",
              "      <div>\n",
              "<style scoped>\n",
              "    .dataframe tbody tr th:only-of-type {\n",
              "        vertical-align: middle;\n",
              "    }\n",
              "\n",
              "    .dataframe tbody tr th {\n",
              "        vertical-align: top;\n",
              "    }\n",
              "\n",
              "    .dataframe thead th {\n",
              "        text-align: right;\n",
              "    }\n",
              "</style>\n",
              "<table border=\"1\" class=\"dataframe\">\n",
              "  <thead>\n",
              "    <tr style=\"text-align: right;\">\n",
              "      <th></th>\n",
              "      <th>total_inscritos_idade</th>\n",
              "    </tr>\n",
              "  </thead>\n",
              "  <tbody>\n",
              "    <tr>\n",
              "      <th>0</th>\n",
              "      <td>41991</td>\n",
              "    </tr>\n",
              "  </tbody>\n",
              "</table>\n",
              "</div>\n",
              "      <button class=\"colab-df-convert\" onclick=\"convertToInteractive('df-cdab8660-fa35-4a7f-afd8-ff0a8b0ae6b5')\"\n",
              "              title=\"Convert this dataframe to an interactive table.\"\n",
              "              style=\"display:none;\">\n",
              "        \n",
              "  <svg xmlns=\"http://www.w3.org/2000/svg\" height=\"24px\"viewBox=\"0 0 24 24\"\n",
              "       width=\"24px\">\n",
              "    <path d=\"M0 0h24v24H0V0z\" fill=\"none\"/>\n",
              "    <path d=\"M18.56 5.44l.94 2.06.94-2.06 2.06-.94-2.06-.94-.94-2.06-.94 2.06-2.06.94zm-11 1L8.5 8.5l.94-2.06 2.06-.94-2.06-.94L8.5 2.5l-.94 2.06-2.06.94zm10 10l.94 2.06.94-2.06 2.06-.94-2.06-.94-.94-2.06-.94 2.06-2.06.94z\"/><path d=\"M17.41 7.96l-1.37-1.37c-.4-.4-.92-.59-1.43-.59-.52 0-1.04.2-1.43.59L10.3 9.45l-7.72 7.72c-.78.78-.78 2.05 0 2.83L4 21.41c.39.39.9.59 1.41.59.51 0 1.02-.2 1.41-.59l7.78-7.78 2.81-2.81c.8-.78.8-2.07 0-2.86zM5.41 20L4 18.59l7.72-7.72 1.47 1.35L5.41 20z\"/>\n",
              "  </svg>\n",
              "      </button>\n",
              "      \n",
              "  <style>\n",
              "    .colab-df-container {\n",
              "      display:flex;\n",
              "      flex-wrap:wrap;\n",
              "      gap: 12px;\n",
              "    }\n",
              "\n",
              "    .colab-df-convert {\n",
              "      background-color: #E8F0FE;\n",
              "      border: none;\n",
              "      border-radius: 50%;\n",
              "      cursor: pointer;\n",
              "      display: none;\n",
              "      fill: #1967D2;\n",
              "      height: 32px;\n",
              "      padding: 0 0 0 0;\n",
              "      width: 32px;\n",
              "    }\n",
              "\n",
              "    .colab-df-convert:hover {\n",
              "      background-color: #E2EBFA;\n",
              "      box-shadow: 0px 1px 2px rgba(60, 64, 67, 0.3), 0px 1px 3px 1px rgba(60, 64, 67, 0.15);\n",
              "      fill: #174EA6;\n",
              "    }\n",
              "\n",
              "    [theme=dark] .colab-df-convert {\n",
              "      background-color: #3B4455;\n",
              "      fill: #D2E3FC;\n",
              "    }\n",
              "\n",
              "    [theme=dark] .colab-df-convert:hover {\n",
              "      background-color: #434B5C;\n",
              "      box-shadow: 0px 1px 3px 1px rgba(0, 0, 0, 0.15);\n",
              "      filter: drop-shadow(0px 1px 2px rgba(0, 0, 0, 0.3));\n",
              "      fill: #FFFFFF;\n",
              "    }\n",
              "  </style>\n",
              "\n",
              "      <script>\n",
              "        const buttonEl =\n",
              "          document.querySelector('#df-cdab8660-fa35-4a7f-afd8-ff0a8b0ae6b5 button.colab-df-convert');\n",
              "        buttonEl.style.display =\n",
              "          google.colab.kernel.accessAllowed ? 'block' : 'none';\n",
              "\n",
              "        async function convertToInteractive(key) {\n",
              "          const element = document.querySelector('#df-cdab8660-fa35-4a7f-afd8-ff0a8b0ae6b5');\n",
              "          const dataTable =\n",
              "            await google.colab.kernel.invokeFunction('convertToInteractive',\n",
              "                                                     [key], {});\n",
              "          if (!dataTable) return;\n",
              "\n",
              "          const docLinkHtml = 'Like what you see? Visit the ' +\n",
              "            '<a target=\"_blank\" href=https://colab.research.google.com/notebooks/data_table.ipynb>data table notebook</a>'\n",
              "            + ' to learn more about interactive tables.';\n",
              "          element.innerHTML = '';\n",
              "          dataTable['output_type'] = 'display_data';\n",
              "          await google.colab.output.renderOutput(dataTable, element);\n",
              "          const docLink = document.createElement('div');\n",
              "          docLink.innerHTML = docLinkHtml;\n",
              "          element.appendChild(docLink);\n",
              "        }\n",
              "      </script>\n",
              "    </div>\n",
              "  </div>\n",
              "  "
            ]
          },
          "metadata": {},
          "execution_count": 154
        }
      ]
    },
    {
      "cell_type": "code",
      "source": [
        "#Porcentagem \n",
        "porc_idade = (33604/71129) * 100\n",
        "print('A porcentagem por idade entre 31 até 50 é: {:.2f}'.format(porc_idade))"
      ],
      "metadata": {
        "colab": {
          "base_uri": "https://localhost:8080/"
        },
        "id": "3B8Kh9zty9Yb",
        "outputId": "951bb1ba-45ae-4e25-c359-47e9c40eadd5"
      },
      "execution_count": 155,
      "outputs": [
        {
          "output_type": "stream",
          "name": "stdout",
          "text": [
            "A porcentagem por idade entre 31 até 50 é: 47.24\n"
          ]
        }
      ]
    },
    {
      "cell_type": "markdown",
      "source": [
        "**Analisando a quantidade de mulheres X homens candidatos**"
      ],
      "metadata": {
        "id": "oG-ymCKQ1onW"
      }
    },
    {
      "cell_type": "code",
      "source": [
        "candidatos_goias['DS_GENERO'].unique()"
      ],
      "metadata": {
        "colab": {
          "base_uri": "https://localhost:8080/"
        },
        "id": "qUD5UYm32Q8u",
        "outputId": "a0d04045-f186-40f8-afd8-8059293069cc"
      },
      "execution_count": 156,
      "outputs": [
        {
          "output_type": "execute_result",
          "data": {
            "text/plain": [
              "array(['MASCULINO', 'FEMININO'], dtype=object)"
            ]
          },
          "metadata": {},
          "execution_count": 156
        }
      ]
    },
    {
      "cell_type": "code",
      "source": [
        "#Utilizando sql para cantabilizar por genero/candidatos\n",
        "query = \"\"\"SELECT DS_GENERO,COUNT(DS_GENERO) as total_inscritos_genero\n",
        "           FROM candidatos_goias\n",
        "           GROUP BY DS_GENERO\n",
        "           ORDER BY COUNT(DS_GENERO) DESC\"\"\"\n",
        "ps.sqldf(query.lower(), locals())"
      ],
      "metadata": {
        "colab": {
          "base_uri": "https://localhost:8080/",
          "height": 112
        },
        "id": "jKsBOSLf08Rp",
        "outputId": "4fc36c2d-93e2-4e86-be40-fc57017a6d1d"
      },
      "execution_count": 157,
      "outputs": [
        {
          "output_type": "execute_result",
          "data": {
            "text/plain": [
              "   DS_GENERO  total_inscritos_genero\n",
              "0  MASCULINO                   48128\n",
              "1   FEMININO                   23001"
            ],
            "text/html": [
              "\n",
              "  <div id=\"df-f0d9f7e0-ce92-426e-94c5-52c94a55393f\">\n",
              "    <div class=\"colab-df-container\">\n",
              "      <div>\n",
              "<style scoped>\n",
              "    .dataframe tbody tr th:only-of-type {\n",
              "        vertical-align: middle;\n",
              "    }\n",
              "\n",
              "    .dataframe tbody tr th {\n",
              "        vertical-align: top;\n",
              "    }\n",
              "\n",
              "    .dataframe thead th {\n",
              "        text-align: right;\n",
              "    }\n",
              "</style>\n",
              "<table border=\"1\" class=\"dataframe\">\n",
              "  <thead>\n",
              "    <tr style=\"text-align: right;\">\n",
              "      <th></th>\n",
              "      <th>DS_GENERO</th>\n",
              "      <th>total_inscritos_genero</th>\n",
              "    </tr>\n",
              "  </thead>\n",
              "  <tbody>\n",
              "    <tr>\n",
              "      <th>0</th>\n",
              "      <td>MASCULINO</td>\n",
              "      <td>48128</td>\n",
              "    </tr>\n",
              "    <tr>\n",
              "      <th>1</th>\n",
              "      <td>FEMININO</td>\n",
              "      <td>23001</td>\n",
              "    </tr>\n",
              "  </tbody>\n",
              "</table>\n",
              "</div>\n",
              "      <button class=\"colab-df-convert\" onclick=\"convertToInteractive('df-f0d9f7e0-ce92-426e-94c5-52c94a55393f')\"\n",
              "              title=\"Convert this dataframe to an interactive table.\"\n",
              "              style=\"display:none;\">\n",
              "        \n",
              "  <svg xmlns=\"http://www.w3.org/2000/svg\" height=\"24px\"viewBox=\"0 0 24 24\"\n",
              "       width=\"24px\">\n",
              "    <path d=\"M0 0h24v24H0V0z\" fill=\"none\"/>\n",
              "    <path d=\"M18.56 5.44l.94 2.06.94-2.06 2.06-.94-2.06-.94-.94-2.06-.94 2.06-2.06.94zm-11 1L8.5 8.5l.94-2.06 2.06-.94-2.06-.94L8.5 2.5l-.94 2.06-2.06.94zm10 10l.94 2.06.94-2.06 2.06-.94-2.06-.94-.94-2.06-.94 2.06-2.06.94z\"/><path d=\"M17.41 7.96l-1.37-1.37c-.4-.4-.92-.59-1.43-.59-.52 0-1.04.2-1.43.59L10.3 9.45l-7.72 7.72c-.78.78-.78 2.05 0 2.83L4 21.41c.39.39.9.59 1.41.59.51 0 1.02-.2 1.41-.59l7.78-7.78 2.81-2.81c.8-.78.8-2.07 0-2.86zM5.41 20L4 18.59l7.72-7.72 1.47 1.35L5.41 20z\"/>\n",
              "  </svg>\n",
              "      </button>\n",
              "      \n",
              "  <style>\n",
              "    .colab-df-container {\n",
              "      display:flex;\n",
              "      flex-wrap:wrap;\n",
              "      gap: 12px;\n",
              "    }\n",
              "\n",
              "    .colab-df-convert {\n",
              "      background-color: #E8F0FE;\n",
              "      border: none;\n",
              "      border-radius: 50%;\n",
              "      cursor: pointer;\n",
              "      display: none;\n",
              "      fill: #1967D2;\n",
              "      height: 32px;\n",
              "      padding: 0 0 0 0;\n",
              "      width: 32px;\n",
              "    }\n",
              "\n",
              "    .colab-df-convert:hover {\n",
              "      background-color: #E2EBFA;\n",
              "      box-shadow: 0px 1px 2px rgba(60, 64, 67, 0.3), 0px 1px 3px 1px rgba(60, 64, 67, 0.15);\n",
              "      fill: #174EA6;\n",
              "    }\n",
              "\n",
              "    [theme=dark] .colab-df-convert {\n",
              "      background-color: #3B4455;\n",
              "      fill: #D2E3FC;\n",
              "    }\n",
              "\n",
              "    [theme=dark] .colab-df-convert:hover {\n",
              "      background-color: #434B5C;\n",
              "      box-shadow: 0px 1px 3px 1px rgba(0, 0, 0, 0.15);\n",
              "      filter: drop-shadow(0px 1px 2px rgba(0, 0, 0, 0.3));\n",
              "      fill: #FFFFFF;\n",
              "    }\n",
              "  </style>\n",
              "\n",
              "      <script>\n",
              "        const buttonEl =\n",
              "          document.querySelector('#df-f0d9f7e0-ce92-426e-94c5-52c94a55393f button.colab-df-convert');\n",
              "        buttonEl.style.display =\n",
              "          google.colab.kernel.accessAllowed ? 'block' : 'none';\n",
              "\n",
              "        async function convertToInteractive(key) {\n",
              "          const element = document.querySelector('#df-f0d9f7e0-ce92-426e-94c5-52c94a55393f');\n",
              "          const dataTable =\n",
              "            await google.colab.kernel.invokeFunction('convertToInteractive',\n",
              "                                                     [key], {});\n",
              "          if (!dataTable) return;\n",
              "\n",
              "          const docLinkHtml = 'Like what you see? Visit the ' +\n",
              "            '<a target=\"_blank\" href=https://colab.research.google.com/notebooks/data_table.ipynb>data table notebook</a>'\n",
              "            + ' to learn more about interactive tables.';\n",
              "          element.innerHTML = '';\n",
              "          dataTable['output_type'] = 'display_data';\n",
              "          await google.colab.output.renderOutput(dataTable, element);\n",
              "          const docLink = document.createElement('div');\n",
              "          docLink.innerHTML = docLinkHtml;\n",
              "          element.appendChild(docLink);\n",
              "        }\n",
              "      </script>\n",
              "    </div>\n",
              "  </div>\n",
              "  "
            ]
          },
          "metadata": {},
          "execution_count": 157
        }
      ]
    },
    {
      "cell_type": "markdown",
      "source": [
        "**Gráfico candidatos Mulheres X homens**"
      ],
      "metadata": {
        "id": "HycMnYrt2iq0"
      }
    },
    {
      "cell_type": "code",
      "source": [
        "fig = plt.figure(figsize=(10,5))\n",
        "grafico = sns.countplot('DS_GENERO', order = candidatos_goias['DS_GENERO'].value_counts().index, palette=\"Paired\",  data =  candidatos_goias)\n",
        "plt.xticks(rotation=90)\n",
        "for i in grafico.patches:\n",
        "   grafico.annotate(i.get_height(),\n",
        "                  (i.get_x() + i.get_width() / 2, i.get_height()),\n",
        "                  ha='center',\n",
        "                  va='baseline',\n",
        "                  fontsize=12,\n",
        "                  color='black',\n",
        "                  xytext=(0, 1),\n",
        "                  textcoords='offset points');  \n",
        "plt.xlabel('Genero', fontsize=15)\n",
        "plt.ylabel(' ')\n",
        "plt.title('Grafico quantidade por Genero',fontsize=15);"
      ],
      "metadata": {
        "colab": {
          "base_uri": "https://localhost:8080/",
          "height": 461
        },
        "id": "D23ykm-n2MT7",
        "outputId": "e62e7247-af6d-4b4a-fa4f-29a36916c397"
      },
      "execution_count": 158,
      "outputs": [
        {
          "output_type": "stream",
          "name": "stderr",
          "text": [
            "/usr/local/lib/python3.7/dist-packages/seaborn/_decorators.py:43: FutureWarning: Pass the following variable as a keyword arg: x. From version 0.12, the only valid positional argument will be `data`, and passing other arguments without an explicit keyword will result in an error or misinterpretation.\n",
            "  FutureWarning\n"
          ]
        },
        {
          "output_type": "display_data",
          "data": {
            "text/plain": [
              "<Figure size 720x360 with 1 Axes>"
            ],
            "image/png": "[encoded data removed]"
          },
          "metadata": {
            "needs_background": "light"
          }
        }
      ]
    },
    {
      "cell_type": "markdown",
      "source": [
        "**Porcentagem de inscritos por genero**"
      ],
      "metadata": {
        "id": "PqDv26Dk23yy"
      }
    },
    {
      "cell_type": "code",
      "source": [
        "#Total inscritos por genero\n",
        "candidatos_goias['DS_GENERO'].count()"
      ],
      "metadata": {
        "colab": {
          "base_uri": "https://localhost:8080/"
        },
        "id": "F4JM4qnW3CrW",
        "outputId": "80001324-09f6-4579-99d0-2cce3ee15886"
      },
      "execution_count": 159,
      "outputs": [
        {
          "output_type": "execute_result",
          "data": {
            "text/plain": [
              "71129"
            ]
          },
          "metadata": {},
          "execution_count": 159
        }
      ]
    },
    {
      "cell_type": "code",
      "source": [
        "#Quantidade de inscritos por genero\n",
        "candidatos_goias['DS_GENERO'].value_counts()"
      ],
      "metadata": {
        "colab": {
          "base_uri": "https://localhost:8080/"
        },
        "id": "ChgikeVxB_U4",
        "outputId": "7fcef505-90b5-4906-9426-e06c65d43bf4"
      },
      "execution_count": 160,
      "outputs": [
        {
          "output_type": "execute_result",
          "data": {
            "text/plain": [
              "MASCULINO    48128\n",
              "FEMININO     23001\n",
              "Name: DS_GENERO, dtype: int64"
            ]
          },
          "metadata": {},
          "execution_count": 160
        }
      ]
    },
    {
      "cell_type": "code",
      "source": [
        "#Porcentagem de inscritos por genero\n",
        "porc_inscritos_genero = candidatos_goias['DS_GENERO'].value_counts() / 71129 * 100 \n",
        "porc_inscritos_genero"
      ],
      "metadata": {
        "colab": {
          "base_uri": "https://localhost:8080/"
        },
        "id": "Cvu3zjoX23b4",
        "outputId": "605da3f1-1545-4535-82e5-c5f451ca6d72"
      },
      "execution_count": 161,
      "outputs": [
        {
          "output_type": "execute_result",
          "data": {
            "text/plain": [
              "MASCULINO    67.662979\n",
              "FEMININO     32.337021\n",
              "Name: DS_GENERO, dtype: float64"
            ]
          },
          "metadata": {},
          "execution_count": 161
        }
      ]
    },
    {
      "cell_type": "markdown",
      "source": [
        "**As porcentagens de inscritos por genero dos  dados representada em um grafico de  pizza de 100%**"
      ],
      "metadata": {
        "id": "1PjGdoCmEc0i"
      }
    },
    {
      "cell_type": "code",
      "source": [
        "labels = ['FEMININO','MASCULINO']\n",
        "media = [32.3,67.6]\n",
        "colores = ((1.0, 0.0, .40), (0.0, .40, 1.0), (.40, 1.0, .20))\n",
        "fig, ax = plt.subplots(figsize=(12, 5))\n",
        "\n",
        "ax.pie(media, labels=labels,autopct = '%.1f%%',colors = colores)\n",
        "ax.set_title('Media de inscritos por genero Mulher X Homen', fontsize=16)\n",
        "plt.show()"
      ],
      "metadata": {
        "colab": {
          "base_uri": "https://localhost:8080/",
          "height": 321
        },
        "id": "t2qjfQfHEKy4",
        "outputId": "b61969d6-f440-4f95-82c0-0f69833475a3"
      },
      "execution_count": 162,
      "outputs": [
        {
          "output_type": "display_data",
          "data": {
            "text/plain": [
              "<Figure size 864x360 with 1 Axes>"
            ],
            "image/png": "[encoded data removed]"
          },
          "metadata": {}
        }
      ]
    },
    {
      "cell_type": "markdown",
      "source": [
        "**Qual tipo de eleições mulheres x homens mais se inscreveram**"
      ],
      "metadata": {
        "id": "9Oat8vjaCX7w"
      }
    },
    {
      "cell_type": "markdown",
      "source": [
        "`Eleições que as mulheres mais se candidata`"
      ],
      "metadata": {
        "id": "3MM_CYGHEiZt"
      }
    },
    {
      "cell_type": "code",
      "source": [
        "abragencia_feminino = candidatos_goias[candidatos_goias['DS_GENERO'] == \"FEMININO\"]\n",
        "abragencia_feminino['TP_ABRANGENCIA'].value_counts()"
      ],
      "metadata": {
        "colab": {
          "base_uri": "https://localhost:8080/"
        },
        "id": "k16vx6AqCf6m",
        "outputId": "09bf0f6a-2627-4c74-df11-a553f3104900"
      },
      "execution_count": 163,
      "outputs": [
        {
          "output_type": "execute_result",
          "data": {
            "text/plain": [
              "MUNICIPAL    21694\n",
              "ESTADUAL       826\n",
              "FEDERAL        481\n",
              "Name: TP_ABRANGENCIA, dtype: int64"
            ]
          },
          "metadata": {},
          "execution_count": 163
        }
      ]
    },
    {
      "cell_type": "markdown",
      "source": [
        "`Eleições que os homens mais se candidata`"
      ],
      "metadata": {
        "id": "KBRmcF2VEme1"
      }
    },
    {
      "cell_type": "code",
      "source": [
        "abragencia_masculino = candidatos_goias[candidatos_goias['DS_GENERO'] == \"MASCULINO\"]\n",
        "abragencia_masculino['TP_ABRANGENCIA'].value_counts()"
      ],
      "metadata": {
        "colab": {
          "base_uri": "https://localhost:8080/"
        },
        "id": "9VhzeaHIEqws",
        "outputId": "e5e6fc6c-6276-42a6-f99c-2bbaf35f3ea8"
      },
      "execution_count": 164,
      "outputs": [
        {
          "output_type": "execute_result",
          "data": {
            "text/plain": [
              "MUNICIPAL    45098\n",
              "ESTADUAL      1603\n",
              "FEDERAL       1427\n",
              "Name: TP_ABRANGENCIA, dtype: int64"
            ]
          },
          "metadata": {},
          "execution_count": 164
        }
      ]
    },
    {
      "cell_type": "markdown",
      "source": [
        "**Qual tipo de eleições as mulheres x homens mais são eleitos**"
      ],
      "metadata": {
        "id": "MKmnQrcKE70O"
      }
    },
    {
      "cell_type": "markdown",
      "source": [
        "`Tipo de eleições que as mulheres mais ganham`"
      ],
      "metadata": {
        "id": "4eZ5M4kKFC_c"
      }
    },
    {
      "cell_type": "code",
      "source": [
        "abragencia_feminino_eleita = candidatos_goias[candidatos_goias['DS_GENERO'] == \"FEMININO\"]\n",
        "abragencia_feminino_eleita = abragencia_feminino_eleita[abragencia_feminino_eleita['DS_SIT_TOT_TURNO'] == \"ELEITO\"]\n",
        "abragencia_feminino_eleita['TP_ABRANGENCIA'].value_counts()"
      ],
      "metadata": {
        "colab": {
          "base_uri": "https://localhost:8080/"
        },
        "id": "qFt7tov0FHF7",
        "outputId": "43f69820-fda3-4bbe-dcf9-932bcfb5ac19"
      },
      "execution_count": 165,
      "outputs": [
        {
          "output_type": "execute_result",
          "data": {
            "text/plain": [
              "MUNICIPAL    185\n",
              "FEDERAL        5\n",
              "Name: TP_ABRANGENCIA, dtype: int64"
            ]
          },
          "metadata": {},
          "execution_count": 165
        }
      ]
    },
    {
      "cell_type": "markdown",
      "source": [
        "`Tipo de eleições que os homens mais ganham `"
      ],
      "metadata": {
        "id": "9XqYg0zxFzkq"
      }
    },
    {
      "cell_type": "code",
      "source": [
        "abragencia_masculino_eleita = candidatos_goias[candidatos_goias['DS_GENERO'] == \"MASCULINO\"]\n",
        "abragencia_masculino_eleita = abragencia_masculino_eleita[abragencia_masculino_eleita['DS_SIT_TOT_TURNO'] == \"ELEITO\"]\n",
        "abragencia_masculino_eleita['TP_ABRANGENCIA'].value_counts()"
      ],
      "metadata": {
        "colab": {
          "base_uri": "https://localhost:8080/"
        },
        "id": "Kyz1YhlyF2zi",
        "outputId": "3d97c688-f792-42a0-99e5-66cf03ecd086"
      },
      "execution_count": 166,
      "outputs": [
        {
          "output_type": "execute_result",
          "data": {
            "text/plain": [
              "MUNICIPAL    1315\n",
              "FEDERAL        55\n",
              "ESTADUAL        8\n",
              "Name: TP_ABRANGENCIA, dtype: int64"
            ]
          },
          "metadata": {},
          "execution_count": 166
        }
      ]
    },
    {
      "cell_type": "markdown",
      "source": [
        "**Qual partido mais tem mulhere X homens candidata**"
      ],
      "metadata": {
        "id": "rXYviLqyGFYt"
      }
    },
    {
      "cell_type": "markdown",
      "source": [
        "`partidos que mais tem mulheres candidatas `"
      ],
      "metadata": {
        "id": "Wz_8cZJ6GK4g"
      }
    },
    {
      "cell_type": "code",
      "source": [
        "partido_feminino_candidata = candidatos_goias[candidatos_goias['DS_GENERO'] == \"FEMININO\"]\n",
        "partido_feminino_candidata['SG_PARTIDO'].value_counts()"
      ],
      "metadata": {
        "colab": {
          "base_uri": "https://localhost:8080/"
        },
        "id": "NifN9byrGS3u",
        "outputId": "796c6130-d4d1-4a90-f947-30cb10d97379"
      },
      "execution_count": 167,
      "outputs": [
        {
          "output_type": "execute_result",
          "data": {
            "text/plain": [
              "PSDB             1769\n",
              "DEM              1522\n",
              "PP               1491\n",
              "PMDB             1486\n",
              "PDT              1214\n",
              "PSD              1195\n",
              "PT               1095\n",
              "PSB               950\n",
              "PTB               932\n",
              "PSC               832\n",
              "PSL               776\n",
              "MDB               649\n",
              "PR                611\n",
              "PROS              550\n",
              "PTC               540\n",
              "PRTB              530\n",
              "PODE              497\n",
              "PC do B           492\n",
              "CIDADANIA         424\n",
              "PRB               422\n",
              "PHS               403\n",
              "PV                369\n",
              "PPS               366\n",
              "REPUBLICANOS      364\n",
              "PTN               350\n",
              "PL                340\n",
              "SOLIDARIEDADE     320\n",
              "PSDC              318\n",
              "PATRIOTA          307\n",
              "PMN               302\n",
              "PRP               235\n",
              "PSOL              217\n",
              "SD                205\n",
              "PT do B           189\n",
              "AVANTE            163\n",
              "DC                146\n",
              "PMB               132\n",
              "PPL               106\n",
              "REDE              100\n",
              "PCB                25\n",
              "AGIR               22\n",
              "UNIÃO              17\n",
              "NOVO               13\n",
              "PCO                 6\n",
              "UP                  6\n",
              "PSTU                3\n",
              "Name: SG_PARTIDO, dtype: int64"
            ]
          },
          "metadata": {},
          "execution_count": 167
        }
      ]
    },
    {
      "cell_type": "markdown",
      "source": [
        "`Partidos que mais tem homens candidatos`"
      ],
      "metadata": {
        "id": "UIM2HZ_pHW2T"
      }
    },
    {
      "cell_type": "code",
      "source": [
        "partido_masculino_candidata = candidatos_goias[candidatos_goias['DS_GENERO'] == \"MASCULINO\"]\n",
        "partido_masculino_candidata['SG_PARTIDO'].value_counts()"
      ],
      "metadata": {
        "colab": {
          "base_uri": "https://localhost:8080/"
        },
        "id": "QTGm2zuDHaMZ",
        "outputId": "6485f7d7-17d0-4da2-860b-bef1afff371b"
      },
      "execution_count": 169,
      "outputs": [
        {
          "output_type": "execute_result",
          "data": {
            "text/plain": [
              "PSDB             3833\n",
              "DEM              3247\n",
              "PMDB             3092\n",
              "PP               3035\n",
              "PSD              2686\n",
              "PDT              2436\n",
              "PT               2144\n",
              "PTB              2070\n",
              "PSB              2048\n",
              "PSC              1658\n",
              "PSL              1651\n",
              "PR               1432\n",
              "MDB              1291\n",
              "PROS             1150\n",
              "PTC              1144\n",
              "PRTB             1138\n",
              "PODE              988\n",
              "PPS               931\n",
              "PHS               904\n",
              "PC do B           873\n",
              "PRB               822\n",
              "CIDADANIA         782\n",
              "PV                776\n",
              "PTN               714\n",
              "PL                702\n",
              "REPUBLICANOS      695\n",
              "PMN               691\n",
              "PATRIOTA          670\n",
              "SOLIDARIEDADE     634\n",
              "PSDC              626\n",
              "PRP               568\n",
              "SD                462\n",
              "PSOL              434\n",
              "PT do B           416\n",
              "AVANTE            336\n",
              "DC                291\n",
              "PPL               217\n",
              "REDE              186\n",
              "PMB               185\n",
              "PCB                46\n",
              "AGIR               41\n",
              "NOVO               32\n",
              "UNIÃO              30\n",
              "PCO                10\n",
              "PSTU                8\n",
              "UP                  3\n",
              "Name: SG_PARTIDO, dtype: int64"
            ]
          },
          "metadata": {},
          "execution_count": 169
        }
      ]
    },
    {
      "cell_type": "markdown",
      "source": [
        "`Já que foi contabilizado a quantidade de inscritos por genero e a porcentagem. Comparar quantidade que vence a eleição por genero `"
      ],
      "metadata": {
        "id": "FGFAfxd93PfM"
      }
    },
    {
      "cell_type": "markdown",
      "source": [
        "**Quantidade de mulheres X homens que ganharam as eleições**"
      ],
      "metadata": {
        "id": "Aqq3WBWQ7t6j"
      }
    },
    {
      "cell_type": "code",
      "source": [
        "eleito = candidatos_goias[candidatos_goias['DS_SIT_TOT_TURNO'] == \"ELEITO\"]\n",
        "eleito_feminino = eleito[eleito['DS_GENERO'] == \"FEMININO\"]\n",
        "quantidade = eleito_feminino['DS_GENERO'].count()\n",
        "print('Quantidade de mulheres que ganharam as eleiçoes : {:.0f}'.format(quantidade))"
      ],
      "metadata": {
        "colab": {
          "base_uri": "https://localhost:8080/"
        },
        "id": "gMz5eZt73NNv",
        "outputId": "232de899-7ab0-4bd0-a21f-305a1aaf10c4"
      },
      "execution_count": 185,
      "outputs": [
        {
          "output_type": "stream",
          "name": "stdout",
          "text": [
            "Quantidade de mulheres que ganharam as eleiçoes : 190\n"
          ]
        }
      ]
    },
    {
      "cell_type": "code",
      "source": [
        "eleito = candidatos_goias[candidatos_goias['DS_SIT_TOT_TURNO'] == \"ELEITO\"]\n",
        "eleito_masculino = eleito[eleito['DS_GENERO'] == \"MASCULINO\"]\n",
        "quantidade = eleito_masculino['DS_GENERO'].count()\n",
        "print('Quantidade de homens que ganharam as eleiçoes : {:.0f}'.format(quantidade))"
      ],
      "metadata": {
        "colab": {
          "base_uri": "https://localhost:8080/"
        },
        "id": "juVCXM1j4GQV",
        "outputId": "704c3498-b90f-4c69-90d6-f1497b5cbfad"
      },
      "execution_count": 184,
      "outputs": [
        {
          "output_type": "stream",
          "name": "stdout",
          "text": [
            "Quantidade de homens que ganharam as eleiçoes : 1378\n"
          ]
        }
      ]
    },
    {
      "cell_type": "markdown",
      "source": [
        "**Porcentagem de mulheres X homens que ganharam as eleições pelo total de inscritos geral**"
      ],
      "metadata": {
        "id": "Ut3wUMT47zGj"
      }
    },
    {
      "cell_type": "code",
      "source": [
        "porcentagem_f =  (190/71129) * 100\n",
        "print('Porcentagem de mulheres que ganharam as eleiçoes : {:.2f}'.format(porcentagem_f))"
      ],
      "metadata": {
        "colab": {
          "base_uri": "https://localhost:8080/"
        },
        "id": "RWB7zl4d7mCG",
        "outputId": "0b7ec7fd-9a76-4c64-942c-eac206b110ad"
      },
      "execution_count": 182,
      "outputs": [
        {
          "output_type": "stream",
          "name": "stdout",
          "text": [
            "Porcentagem de mulheres que ganharam as eleiçoes : 0.27\n"
          ]
        }
      ]
    },
    {
      "cell_type": "code",
      "source": [
        "porcentagem_m =  (1378/71129) * 100\n",
        "print('Porcentagem de homens que ganharam as eleiçoes : {:.2f}'.format(porcentagem_m))"
      ],
      "metadata": {
        "colab": {
          "base_uri": "https://localhost:8080/"
        },
        "id": "hvxti5jA8FC-",
        "outputId": "ab836367-88e1-40f3-8f99-68c8fde3f670"
      },
      "execution_count": 183,
      "outputs": [
        {
          "output_type": "stream",
          "name": "stdout",
          "text": [
            "Porcentagem de homens que ganharam as eleiçoes : 1.94\n"
          ]
        }
      ]
    },
    {
      "cell_type": "markdown",
      "source": [
        "**Porcentagem de eleitos mulheres x homens Pela quantidade de inscritos de cada genero**</br>\n",
        "`Total de mulheres e homens inscritos pelo total que foram eleitos`\n",
        "\n"
      ],
      "metadata": {
        "id": "tJHcAcXgByH0"
      }
    },
    {
      "cell_type": "code",
      "source": [
        "porcentagem_f_inscritas =  (190/48128) * 100\n",
        "print('Porcentagem de mulheres que ganharam as eleiçoes : {:.2f}'.format(porcentagem_f_inscritas))"
      ],
      "metadata": {
        "colab": {
          "base_uri": "https://localhost:8080/"
        },
        "id": "uf-dBP8AB5QY",
        "outputId": "87a38ee0-c78e-4397-83e7-49191e8fb0e2"
      },
      "execution_count": 187,
      "outputs": [
        {
          "output_type": "stream",
          "name": "stdout",
          "text": [
            "Porcentagem de mulheres que ganharam as eleiçoes : 0.39\n"
          ]
        }
      ]
    },
    {
      "cell_type": "code",
      "source": [
        "porcentagem_m_inscritas =  (1378/23001) * 100\n",
        "print('Porcentagem de mulheres que ganharam as eleiçoes : {:.2f}'.format(porcentagem_m_inscritas))"
      ],
      "metadata": {
        "colab": {
          "base_uri": "https://localhost:8080/"
        },
        "id": "ewRpJ1VCDx4I",
        "outputId": "55dc55e1-8037-4780-d85e-af5d2c614a23"
      },
      "execution_count": 188,
      "outputs": [
        {
          "output_type": "stream",
          "name": "stdout",
          "text": [
            "Porcentagem de mulheres que ganharam as eleiçoes : 5.99\n"
          ]
        }
      ]
    },
    {
      "cell_type": "markdown",
      "source": [
        "**As porcentagens dos dados dos eleitos por genero pela quantidade de inscritos </br> por genero representada em um grafico de  pizza de 100%**"
      ],
      "metadata": {
        "id": "pgRoy9Z2-nHb"
      }
    },
    {
      "cell_type": "code",
      "source": [
        "labels = ['FEMININO','MASCULINO']\n",
        "media = [0.39, 5.99]\n",
        "colores = ((1.0, 0.0, .40), (0.0, .40, 1.0), (.40, 1.0, .20))\n",
        "fig, ax = plt.subplots(figsize=(12, 5))\n",
        "\n",
        "ax.pie(media, labels=labels,autopct = '%.1f%%',colors = colores)\n",
        "ax.set_title('Media de eleitos por genero Mulher X Homen', fontsize=16)\n",
        "plt.show()"
      ],
      "metadata": {
        "colab": {
          "base_uri": "https://localhost:8080/",
          "height": 321
        },
        "id": "-FkaXych8NqO",
        "outputId": "f03a490b-e556-4b8b-f7f3-583390d20869"
      },
      "execution_count": 190,
      "outputs": [
        {
          "output_type": "display_data",
          "data": {
            "text/plain": [
              "<Figure size 864x360 with 1 Axes>"
            ],
            "image/png": "[encoded data removed]"
          },
          "metadata": {}
        }
      ]
    },
    {
      "cell_type": "markdown",
      "source": [
        "**Faixa etaria das mulheres  e dos homens que ganharam eleições** "
      ],
      "metadata": {
        "id": "MsuOXxdl_htL"
      }
    },
    {
      "cell_type": "code",
      "source": [
        "eleito = candidatos_goias[candidatos_goias['DS_SIT_TOT_TURNO'] == \"ELEITO\"]\n",
        "eleito_feminino = eleito[eleito['DS_GENERO'] == \"FEMININO\"]\n"
      ],
      "metadata": {
        "id": "BWWQfUvf_9PC"
      },
      "execution_count": 191,
      "outputs": []
    },
    {
      "cell_type": "code",
      "source": [
        "eleito = candidatos_goias[candidatos_goias['DS_SIT_TOT_TURNO'] == \"ELEITO\"]\n",
        "eleito_masculino = eleito[eleito['DS_GENERO'] == \"MASCULINO\"]"
      ],
      "metadata": {
        "id": "922VsWytLEV0"
      },
      "execution_count": 192,
      "outputs": []
    },
    {
      "cell_type": "markdown",
      "source": [
        "**TOP 10 mulheres que mais foram eleitas pela faixa etária**"
      ],
      "metadata": {
        "id": "tAOo-HCcK161"
      }
    },
    {
      "cell_type": "code",
      "source": [
        "#Utilizando sql para contabilizar eleitos masculino por idade\n",
        "query = \"\"\"SELECT NR_IDADE_DATA_POSSE, COUNT(NR_IDADE_DATA_POSSE) as total_idade\n",
        "           FROM eleito_feminino\n",
        "           GROUP BY NR_IDADE_DATA_POSSE\n",
        "           ORDER BY COUNT(NR_IDADE_DATA_POSSE) DESC\n",
        "           limit 10\n",
        "           \"\"\"\n",
        "ps.sqldf(query.lower(), locals())"
      ],
      "metadata": {
        "colab": {
          "base_uri": "https://localhost:8080/",
          "height": 363
        },
        "id": "znf3lO0AJea-",
        "outputId": "d465a49f-2ebe-4200-963a-2c25d34f2acc"
      },
      "execution_count": 193,
      "outputs": [
        {
          "output_type": "execute_result",
          "data": {
            "text/plain": [
              "   NR_IDADE_DATA_POSSE  total_idade\n",
              "0                 45.0           13\n",
              "1                 43.0           10\n",
              "2                 47.0           10\n",
              "3                 44.0            9\n",
              "4                 39.0            8\n",
              "5                 46.0            8\n",
              "6                 48.0            8\n",
              "7                 51.0            8\n",
              "8                 58.0            7\n",
              "9                 42.0            6"
            ],
            "text/html": [
              "\n",
              "  <div id=\"df-16dbdbb5-4112-4e25-b492-1e89d0b535e9\">\n",
              "    <div class=\"colab-df-container\">\n",
              "      <div>\n",
              "<style scoped>\n",
              "    .dataframe tbody tr th:only-of-type {\n",
              "        vertical-align: middle;\n",
              "    }\n",
              "\n",
              "    .dataframe tbody tr th {\n",
              "        vertical-align: top;\n",
              "    }\n",
              "\n",
              "    .dataframe thead th {\n",
              "        text-align: right;\n",
              "    }\n",
              "</style>\n",
              "<table border=\"1\" class=\"dataframe\">\n",
              "  <thead>\n",
              "    <tr style=\"text-align: right;\">\n",
              "      <th></th>\n",
              "      <th>NR_IDADE_DATA_POSSE</th>\n",
              "      <th>total_idade</th>\n",
              "    </tr>\n",
              "  </thead>\n",
              "  <tbody>\n",
              "    <tr>\n",
              "      <th>0</th>\n",
              "      <td>45.0</td>\n",
              "      <td>13</td>\n",
              "    </tr>\n",
              "    <tr>\n",
              "      <th>1</th>\n",
              "      <td>43.0</td>\n",
              "      <td>10</td>\n",
              "    </tr>\n",
              "    <tr>\n",
              "      <th>2</th>\n",
              "      <td>47.0</td>\n",
              "      <td>10</td>\n",
              "    </tr>\n",
              "    <tr>\n",
              "      <th>3</th>\n",
              "      <td>44.0</td>\n",
              "      <td>9</td>\n",
              "    </tr>\n",
              "    <tr>\n",
              "      <th>4</th>\n",
              "      <td>39.0</td>\n",
              "      <td>8</td>\n",
              "    </tr>\n",
              "    <tr>\n",
              "      <th>5</th>\n",
              "      <td>46.0</td>\n",
              "      <td>8</td>\n",
              "    </tr>\n",
              "    <tr>\n",
              "      <th>6</th>\n",
              "      <td>48.0</td>\n",
              "      <td>8</td>\n",
              "    </tr>\n",
              "    <tr>\n",
              "      <th>7</th>\n",
              "      <td>51.0</td>\n",
              "      <td>8</td>\n",
              "    </tr>\n",
              "    <tr>\n",
              "      <th>8</th>\n",
              "      <td>58.0</td>\n",
              "      <td>7</td>\n",
              "    </tr>\n",
              "    <tr>\n",
              "      <th>9</th>\n",
              "      <td>42.0</td>\n",
              "      <td>6</td>\n",
              "    </tr>\n",
              "  </tbody>\n",
              "</table>\n",
              "</div>\n",
              "      <button class=\"colab-df-convert\" onclick=\"convertToInteractive('df-16dbdbb5-4112-4e25-b492-1e89d0b535e9')\"\n",
              "              title=\"Convert this dataframe to an interactive table.\"\n",
              "              style=\"display:none;\">\n",
              "        \n",
              "  <svg xmlns=\"http://www.w3.org/2000/svg\" height=\"24px\"viewBox=\"0 0 24 24\"\n",
              "       width=\"24px\">\n",
              "    <path d=\"M0 0h24v24H0V0z\" fill=\"none\"/>\n",
              "    <path d=\"M18.56 5.44l.94 2.06.94-2.06 2.06-.94-2.06-.94-.94-2.06-.94 2.06-2.06.94zm-11 1L8.5 8.5l.94-2.06 2.06-.94-2.06-.94L8.5 2.5l-.94 2.06-2.06.94zm10 10l.94 2.06.94-2.06 2.06-.94-2.06-.94-.94-2.06-.94 2.06-2.06.94z\"/><path d=\"M17.41 7.96l-1.37-1.37c-.4-.4-.92-.59-1.43-.59-.52 0-1.04.2-1.43.59L10.3 9.45l-7.72 7.72c-.78.78-.78 2.05 0 2.83L4 21.41c.39.39.9.59 1.41.59.51 0 1.02-.2 1.41-.59l7.78-7.78 2.81-2.81c.8-.78.8-2.07 0-2.86zM5.41 20L4 18.59l7.72-7.72 1.47 1.35L5.41 20z\"/>\n",
              "  </svg>\n",
              "      </button>\n",
              "      \n",
              "  <style>\n",
              "    .colab-df-container {\n",
              "      display:flex;\n",
              "      flex-wrap:wrap;\n",
              "      gap: 12px;\n",
              "    }\n",
              "\n",
              "    .colab-df-convert {\n",
              "      background-color: #E8F0FE;\n",
              "      border: none;\n",
              "      border-radius: 50%;\n",
              "      cursor: pointer;\n",
              "      display: none;\n",
              "      fill: #1967D2;\n",
              "      height: 32px;\n",
              "      padding: 0 0 0 0;\n",
              "      width: 32px;\n",
              "    }\n",
              "\n",
              "    .colab-df-convert:hover {\n",
              "      background-color: #E2EBFA;\n",
              "      box-shadow: 0px 1px 2px rgba(60, 64, 67, 0.3), 0px 1px 3px 1px rgba(60, 64, 67, 0.15);\n",
              "      fill: #174EA6;\n",
              "    }\n",
              "\n",
              "    [theme=dark] .colab-df-convert {\n",
              "      background-color: #3B4455;\n",
              "      fill: #D2E3FC;\n",
              "    }\n",
              "\n",
              "    [theme=dark] .colab-df-convert:hover {\n",
              "      background-color: #434B5C;\n",
              "      box-shadow: 0px 1px 3px 1px rgba(0, 0, 0, 0.15);\n",
              "      filter: drop-shadow(0px 1px 2px rgba(0, 0, 0, 0.3));\n",
              "      fill: #FFFFFF;\n",
              "    }\n",
              "  </style>\n",
              "\n",
              "      <script>\n",
              "        const buttonEl =\n",
              "          document.querySelector('#df-16dbdbb5-4112-4e25-b492-1e89d0b535e9 button.colab-df-convert');\n",
              "        buttonEl.style.display =\n",
              "          google.colab.kernel.accessAllowed ? 'block' : 'none';\n",
              "\n",
              "        async function convertToInteractive(key) {\n",
              "          const element = document.querySelector('#df-16dbdbb5-4112-4e25-b492-1e89d0b535e9');\n",
              "          const dataTable =\n",
              "            await google.colab.kernel.invokeFunction('convertToInteractive',\n",
              "                                                     [key], {});\n",
              "          if (!dataTable) return;\n",
              "\n",
              "          const docLinkHtml = 'Like what you see? Visit the ' +\n",
              "            '<a target=\"_blank\" href=https://colab.research.google.com/notebooks/data_table.ipynb>data table notebook</a>'\n",
              "            + ' to learn more about interactive tables.';\n",
              "          element.innerHTML = '';\n",
              "          dataTable['output_type'] = 'display_data';\n",
              "          await google.colab.output.renderOutput(dataTable, element);\n",
              "          const docLink = document.createElement('div');\n",
              "          docLink.innerHTML = docLinkHtml;\n",
              "          element.appendChild(docLink);\n",
              "        }\n",
              "      </script>\n",
              "    </div>\n",
              "  </div>\n",
              "  "
            ]
          },
          "metadata": {},
          "execution_count": 193
        }
      ]
    },
    {
      "cell_type": "markdown",
      "source": [
        "**TOP 10 homens que mais foram eleitos pela faixa etária**"
      ],
      "metadata": {
        "id": "0JbmX_tMLMdm"
      }
    },
    {
      "cell_type": "code",
      "source": [
        "#Utilizando sql para contabilizar eleitos masculino por idade\n",
        "query = \"\"\"SELECT NR_IDADE_DATA_POSSE, COUNT(NR_IDADE_DATA_POSSE) as total_idade \n",
        "           FROM eleito_masculino\n",
        "           GROUP BY NR_IDADE_DATA_POSSE\n",
        "           ORDER BY COUNT(NR_IDADE_DATA_POSSE) DESC\n",
        "           limit 10\"\"\"\n",
        "ps.sqldf(query.lower(), locals())"
      ],
      "metadata": {
        "colab": {
          "base_uri": "https://localhost:8080/",
          "height": 363
        },
        "id": "C5jio-_WKKU6",
        "outputId": "64a19525-3015-43f8-cbb2-9cd58f092423"
      },
      "execution_count": 194,
      "outputs": [
        {
          "output_type": "execute_result",
          "data": {
            "text/plain": [
              "   NR_IDADE_DATA_POSSE  total_idade\n",
              "0                 47.0           59\n",
              "1                 50.0           57\n",
              "2                 52.0           57\n",
              "3                 51.0           50\n",
              "4                 48.0           49\n",
              "5                 49.0           48\n",
              "6                 43.0           46\n",
              "7                 53.0           46\n",
              "8                 42.0           45\n",
              "9                 46.0           45"
            ],
            "text/html": [
              "\n",
              "  <div id=\"df-92ea5f72-6171-4301-8fd3-7adf99e0758f\">\n",
              "    <div class=\"colab-df-container\">\n",
              "      <div>\n",
              "<style scoped>\n",
              "    .dataframe tbody tr th:only-of-type {\n",
              "        vertical-align: middle;\n",
              "    }\n",
              "\n",
              "    .dataframe tbody tr th {\n",
              "        vertical-align: top;\n",
              "    }\n",
              "\n",
              "    .dataframe thead th {\n",
              "        text-align: right;\n",
              "    }\n",
              "</style>\n",
              "<table border=\"1\" class=\"dataframe\">\n",
              "  <thead>\n",
              "    <tr style=\"text-align: right;\">\n",
              "      <th></th>\n",
              "      <th>NR_IDADE_DATA_POSSE</th>\n",
              "      <th>total_idade</th>\n",
              "    </tr>\n",
              "  </thead>\n",
              "  <tbody>\n",
              "    <tr>\n",
              "      <th>0</th>\n",
              "      <td>47.0</td>\n",
              "      <td>59</td>\n",
              "    </tr>\n",
              "    <tr>\n",
              "      <th>1</th>\n",
              "      <td>50.0</td>\n",
              "      <td>57</td>\n",
              "    </tr>\n",
              "    <tr>\n",
              "      <th>2</th>\n",
              "      <td>52.0</td>\n",
              "      <td>57</td>\n",
              "    </tr>\n",
              "    <tr>\n",
              "      <th>3</th>\n",
              "      <td>51.0</td>\n",
              "      <td>50</td>\n",
              "    </tr>\n",
              "    <tr>\n",
              "      <th>4</th>\n",
              "      <td>48.0</td>\n",
              "      <td>49</td>\n",
              "    </tr>\n",
              "    <tr>\n",
              "      <th>5</th>\n",
              "      <td>49.0</td>\n",
              "      <td>48</td>\n",
              "    </tr>\n",
              "    <tr>\n",
              "      <th>6</th>\n",
              "      <td>43.0</td>\n",
              "      <td>46</td>\n",
              "    </tr>\n",
              "    <tr>\n",
              "      <th>7</th>\n",
              "      <td>53.0</td>\n",
              "      <td>46</td>\n",
              "    </tr>\n",
              "    <tr>\n",
              "      <th>8</th>\n",
              "      <td>42.0</td>\n",
              "      <td>45</td>\n",
              "    </tr>\n",
              "    <tr>\n",
              "      <th>9</th>\n",
              "      <td>46.0</td>\n",
              "      <td>45</td>\n",
              "    </tr>\n",
              "  </tbody>\n",
              "</table>\n",
              "</div>\n",
              "      <button class=\"colab-df-convert\" onclick=\"convertToInteractive('df-92ea5f72-6171-4301-8fd3-7adf99e0758f')\"\n",
              "              title=\"Convert this dataframe to an interactive table.\"\n",
              "              style=\"display:none;\">\n",
              "        \n",
              "  <svg xmlns=\"http://www.w3.org/2000/svg\" height=\"24px\"viewBox=\"0 0 24 24\"\n",
              "       width=\"24px\">\n",
              "    <path d=\"M0 0h24v24H0V0z\" fill=\"none\"/>\n",
              "    <path d=\"M18.56 5.44l.94 2.06.94-2.06 2.06-.94-2.06-.94-.94-2.06-.94 2.06-2.06.94zm-11 1L8.5 8.5l.94-2.06 2.06-.94-2.06-.94L8.5 2.5l-.94 2.06-2.06.94zm10 10l.94 2.06.94-2.06 2.06-.94-2.06-.94-.94-2.06-.94 2.06-2.06.94z\"/><path d=\"M17.41 7.96l-1.37-1.37c-.4-.4-.92-.59-1.43-.59-.52 0-1.04.2-1.43.59L10.3 9.45l-7.72 7.72c-.78.78-.78 2.05 0 2.83L4 21.41c.39.39.9.59 1.41.59.51 0 1.02-.2 1.41-.59l7.78-7.78 2.81-2.81c.8-.78.8-2.07 0-2.86zM5.41 20L4 18.59l7.72-7.72 1.47 1.35L5.41 20z\"/>\n",
              "  </svg>\n",
              "      </button>\n",
              "      \n",
              "  <style>\n",
              "    .colab-df-container {\n",
              "      display:flex;\n",
              "      flex-wrap:wrap;\n",
              "      gap: 12px;\n",
              "    }\n",
              "\n",
              "    .colab-df-convert {\n",
              "      background-color: #E8F0FE;\n",
              "      border: none;\n",
              "      border-radius: 50%;\n",
              "      cursor: pointer;\n",
              "      display: none;\n",
              "      fill: #1967D2;\n",
              "      height: 32px;\n",
              "      padding: 0 0 0 0;\n",
              "      width: 32px;\n",
              "    }\n",
              "\n",
              "    .colab-df-convert:hover {\n",
              "      background-color: #E2EBFA;\n",
              "      box-shadow: 0px 1px 2px rgba(60, 64, 67, 0.3), 0px 1px 3px 1px rgba(60, 64, 67, 0.15);\n",
              "      fill: #174EA6;\n",
              "    }\n",
              "\n",
              "    [theme=dark] .colab-df-convert {\n",
              "      background-color: #3B4455;\n",
              "      fill: #D2E3FC;\n",
              "    }\n",
              "\n",
              "    [theme=dark] .colab-df-convert:hover {\n",
              "      background-color: #434B5C;\n",
              "      box-shadow: 0px 1px 3px 1px rgba(0, 0, 0, 0.15);\n",
              "      filter: drop-shadow(0px 1px 2px rgba(0, 0, 0, 0.3));\n",
              "      fill: #FFFFFF;\n",
              "    }\n",
              "  </style>\n",
              "\n",
              "      <script>\n",
              "        const buttonEl =\n",
              "          document.querySelector('#df-92ea5f72-6171-4301-8fd3-7adf99e0758f button.colab-df-convert');\n",
              "        buttonEl.style.display =\n",
              "          google.colab.kernel.accessAllowed ? 'block' : 'none';\n",
              "\n",
              "        async function convertToInteractive(key) {\n",
              "          const element = document.querySelector('#df-92ea5f72-6171-4301-8fd3-7adf99e0758f');\n",
              "          const dataTable =\n",
              "            await google.colab.kernel.invokeFunction('convertToInteractive',\n",
              "                                                     [key], {});\n",
              "          if (!dataTable) return;\n",
              "\n",
              "          const docLinkHtml = 'Like what you see? Visit the ' +\n",
              "            '<a target=\"_blank\" href=https://colab.research.google.com/notebooks/data_table.ipynb>data table notebook</a>'\n",
              "            + ' to learn more about interactive tables.';\n",
              "          element.innerHTML = '';\n",
              "          dataTable['output_type'] = 'display_data';\n",
              "          await google.colab.output.renderOutput(dataTable, element);\n",
              "          const docLink = document.createElement('div');\n",
              "          docLink.innerHTML = docLinkHtml;\n",
              "          element.appendChild(docLink);\n",
              "        }\n",
              "      </script>\n",
              "    </div>\n",
              "  </div>\n",
              "  "
            ]
          },
          "metadata": {},
          "execution_count": 194
        }
      ]
    },
    {
      "cell_type": "markdown",
      "source": [
        "**Qual partido mais elegeu**"
      ],
      "metadata": {
        "id": "kN9gBo1QH0id"
      }
    },
    {
      "cell_type": "markdown",
      "source": [
        "`Qual partido mais elegeu `"
      ],
      "metadata": {
        "id": "GEbIqtlUrfDZ"
      }
    },
    {
      "cell_type": "code",
      "source": [
        "eleito_partido = candidatos_goias[candidatos_goias['DS_SIT_TOT_TURNO'] == \"ELEITO\"]"
      ],
      "metadata": {
        "id": "ufCKqjJhrci_"
      },
      "execution_count": 195,
      "outputs": []
    },
    {
      "cell_type": "code",
      "source": [
        "#Utilizando sql para o partido que mais elegeu\n",
        "query = \"\"\"SELECT SG_PARTIDO, COUNT(SG_PARTIDO) as eleitos\n",
        "           FROM eleito_partido\n",
        "           GROUP BY SG_PARTIDO\n",
        "           ORDER BY COUNT(SG_PARTIDO) DESC\n",
        "           \"\"\"\n",
        "ps.sqldf(query.lower(), locals())"
      ],
      "metadata": {
        "colab": {
          "base_uri": "https://localhost:8080/",
          "height": 1000
        },
        "id": "vEk7cLEPrpbp",
        "outputId": "732523fe-5f21-465a-c98f-aab4dc805bd8"
      },
      "execution_count": 196,
      "outputs": [
        {
          "output_type": "execute_result",
          "data": {
            "text/plain": [
              "       SG_PARTIDO  eleitos\n",
              "0            PSDB      270\n",
              "1            PMDB      199\n",
              "2             DEM      181\n",
              "3              PP      151\n",
              "4             PSD      101\n",
              "5             PDT       79\n",
              "6             PTB       77\n",
              "7             MDB       60\n",
              "8              PR       57\n",
              "9             PSB       52\n",
              "10             PT       48\n",
              "11            PSC       31\n",
              "12           PODE       29\n",
              "13      CIDADANIA       26\n",
              "14             PL       24\n",
              "15           PROS       19\n",
              "16            PTC       18\n",
              "17            PPS       17\n",
              "18            PSL       17\n",
              "19   REPUBLICANOS       15\n",
              "20            PRP       14\n",
              "21  SOLIDARIEDADE       14\n",
              "22            PRB       13\n",
              "23            PTN       11\n",
              "24           PRTB        8\n",
              "25       PATRIOTA        7\n",
              "26            PHS        6\n",
              "27        PT do B        6\n",
              "28            PMN        4\n",
              "29             PV        4\n",
              "30             SD        4\n",
              "31            PPL        2\n",
              "32           PSDC        2\n",
              "33        PC do B        1\n",
              "34            PMB        1"
            ],
            "text/html": [
              "\n",
              "  <div id=\"df-99d60746-a488-41b9-b9f3-be699c2a815f\">\n",
              "    <div class=\"colab-df-container\">\n",
              "      <div>\n",
              "<style scoped>\n",
              "    .dataframe tbody tr th:only-of-type {\n",
              "        vertical-align: middle;\n",
              "    }\n",
              "\n",
              "    .dataframe tbody tr th {\n",
              "        vertical-align: top;\n",
              "    }\n",
              "\n",
              "    .dataframe thead th {\n",
              "        text-align: right;\n",
              "    }\n",
              "</style>\n",
              "<table border=\"1\" class=\"dataframe\">\n",
              "  <thead>\n",
              "    <tr style=\"text-align: right;\">\n",
              "      <th></th>\n",
              "      <th>SG_PARTIDO</th>\n",
              "      <th>eleitos</th>\n",
              "    </tr>\n",
              "  </thead>\n",
              "  <tbody>\n",
              "    <tr>\n",
              "      <th>0</th>\n",
              "      <td>PSDB</td>\n",
              "      <td>270</td>\n",
              "    </tr>\n",
              "    <tr>\n",
              "      <th>1</th>\n",
              "      <td>PMDB</td>\n",
              "      <td>199</td>\n",
              "    </tr>\n",
              "    <tr>\n",
              "      <th>2</th>\n",
              "      <td>DEM</td>\n",
              "      <td>181</td>\n",
              "    </tr>\n",
              "    <tr>\n",
              "      <th>3</th>\n",
              "      <td>PP</td>\n",
              "      <td>151</td>\n",
              "    </tr>\n",
              "    <tr>\n",
              "      <th>4</th>\n",
              "      <td>PSD</td>\n",
              "      <td>101</td>\n",
              "    </tr>\n",
              "    <tr>\n",
              "      <th>5</th>\n",
              "      <td>PDT</td>\n",
              "      <td>79</td>\n",
              "    </tr>\n",
              "    <tr>\n",
              "      <th>6</th>\n",
              "      <td>PTB</td>\n",
              "      <td>77</td>\n",
              "    </tr>\n",
              "    <tr>\n",
              "      <th>7</th>\n",
              "      <td>MDB</td>\n",
              "      <td>60</td>\n",
              "    </tr>\n",
              "    <tr>\n",
              "      <th>8</th>\n",
              "      <td>PR</td>\n",
              "      <td>57</td>\n",
              "    </tr>\n",
              "    <tr>\n",
              "      <th>9</th>\n",
              "      <td>PSB</td>\n",
              "      <td>52</td>\n",
              "    </tr>\n",
              "    <tr>\n",
              "      <th>10</th>\n",
              "      <td>PT</td>\n",
              "      <td>48</td>\n",
              "    </tr>\n",
              "    <tr>\n",
              "      <th>11</th>\n",
              "      <td>PSC</td>\n",
              "      <td>31</td>\n",
              "    </tr>\n",
              "    <tr>\n",
              "      <th>12</th>\n",
              "      <td>PODE</td>\n",
              "      <td>29</td>\n",
              "    </tr>\n",
              "    <tr>\n",
              "      <th>13</th>\n",
              "      <td>CIDADANIA</td>\n",
              "      <td>26</td>\n",
              "    </tr>\n",
              "    <tr>\n",
              "      <th>14</th>\n",
              "      <td>PL</td>\n",
              "      <td>24</td>\n",
              "    </tr>\n",
              "    <tr>\n",
              "      <th>15</th>\n",
              "      <td>PROS</td>\n",
              "      <td>19</td>\n",
              "    </tr>\n",
              "    <tr>\n",
              "      <th>16</th>\n",
              "      <td>PTC</td>\n",
              "      <td>18</td>\n",
              "    </tr>\n",
              "    <tr>\n",
              "      <th>17</th>\n",
              "      <td>PPS</td>\n",
              "      <td>17</td>\n",
              "    </tr>\n",
              "    <tr>\n",
              "      <th>18</th>\n",
              "      <td>PSL</td>\n",
              "      <td>17</td>\n",
              "    </tr>\n",
              "    <tr>\n",
              "      <th>19</th>\n",
              "      <td>REPUBLICANOS</td>\n",
              "      <td>15</td>\n",
              "    </tr>\n",
              "    <tr>\n",
              "      <th>20</th>\n",
              "      <td>PRP</td>\n",
              "      <td>14</td>\n",
              "    </tr>\n",
              "    <tr>\n",
              "      <th>21</th>\n",
              "      <td>SOLIDARIEDADE</td>\n",
              "      <td>14</td>\n",
              "    </tr>\n",
              "    <tr>\n",
              "      <th>22</th>\n",
              "      <td>PRB</td>\n",
              "      <td>13</td>\n",
              "    </tr>\n",
              "    <tr>\n",
              "      <th>23</th>\n",
              "      <td>PTN</td>\n",
              "      <td>11</td>\n",
              "    </tr>\n",
              "    <tr>\n",
              "      <th>24</th>\n",
              "      <td>PRTB</td>\n",
              "      <td>8</td>\n",
              "    </tr>\n",
              "    <tr>\n",
              "      <th>25</th>\n",
              "      <td>PATRIOTA</td>\n",
              "      <td>7</td>\n",
              "    </tr>\n",
              "    <tr>\n",
              "      <th>26</th>\n",
              "      <td>PHS</td>\n",
              "      <td>6</td>\n",
              "    </tr>\n",
              "    <tr>\n",
              "      <th>27</th>\n",
              "      <td>PT do B</td>\n",
              "      <td>6</td>\n",
              "    </tr>\n",
              "    <tr>\n",
              "      <th>28</th>\n",
              "      <td>PMN</td>\n",
              "      <td>4</td>\n",
              "    </tr>\n",
              "    <tr>\n",
              "      <th>29</th>\n",
              "      <td>PV</td>\n",
              "      <td>4</td>\n",
              "    </tr>\n",
              "    <tr>\n",
              "      <th>30</th>\n",
              "      <td>SD</td>\n",
              "      <td>4</td>\n",
              "    </tr>\n",
              "    <tr>\n",
              "      <th>31</th>\n",
              "      <td>PPL</td>\n",
              "      <td>2</td>\n",
              "    </tr>\n",
              "    <tr>\n",
              "      <th>32</th>\n",
              "      <td>PSDC</td>\n",
              "      <td>2</td>\n",
              "    </tr>\n",
              "    <tr>\n",
              "      <th>33</th>\n",
              "      <td>PC do B</td>\n",
              "      <td>1</td>\n",
              "    </tr>\n",
              "    <tr>\n",
              "      <th>34</th>\n",
              "      <td>PMB</td>\n",
              "      <td>1</td>\n",
              "    </tr>\n",
              "  </tbody>\n",
              "</table>\n",
              "</div>\n",
              "      <button class=\"colab-df-convert\" onclick=\"convertToInteractive('df-99d60746-a488-41b9-b9f3-be699c2a815f')\"\n",
              "              title=\"Convert this dataframe to an interactive table.\"\n",
              "              style=\"display:none;\">\n",
              "        \n",
              "  <svg xmlns=\"http://www.w3.org/2000/svg\" height=\"24px\"viewBox=\"0 0 24 24\"\n",
              "       width=\"24px\">\n",
              "    <path d=\"M0 0h24v24H0V0z\" fill=\"none\"/>\n",
              "    <path d=\"M18.56 5.44l.94 2.06.94-2.06 2.06-.94-2.06-.94-.94-2.06-.94 2.06-2.06.94zm-11 1L8.5 8.5l.94-2.06 2.06-.94-2.06-.94L8.5 2.5l-.94 2.06-2.06.94zm10 10l.94 2.06.94-2.06 2.06-.94-2.06-.94-.94-2.06-.94 2.06-2.06.94z\"/><path d=\"M17.41 7.96l-1.37-1.37c-.4-.4-.92-.59-1.43-.59-.52 0-1.04.2-1.43.59L10.3 9.45l-7.72 7.72c-.78.78-.78 2.05 0 2.83L4 21.41c.39.39.9.59 1.41.59.51 0 1.02-.2 1.41-.59l7.78-7.78 2.81-2.81c.8-.78.8-2.07 0-2.86zM5.41 20L4 18.59l7.72-7.72 1.47 1.35L5.41 20z\"/>\n",
              "  </svg>\n",
              "      </button>\n",
              "      \n",
              "  <style>\n",
              "    .colab-df-container {\n",
              "      display:flex;\n",
              "      flex-wrap:wrap;\n",
              "      gap: 12px;\n",
              "    }\n",
              "\n",
              "    .colab-df-convert {\n",
              "      background-color: #E8F0FE;\n",
              "      border: none;\n",
              "      border-radius: 50%;\n",
              "      cursor: pointer;\n",
              "      display: none;\n",
              "      fill: #1967D2;\n",
              "      height: 32px;\n",
              "      padding: 0 0 0 0;\n",
              "      width: 32px;\n",
              "    }\n",
              "\n",
              "    .colab-df-convert:hover {\n",
              "      background-color: #E2EBFA;\n",
              "      box-shadow: 0px 1px 2px rgba(60, 64, 67, 0.3), 0px 1px 3px 1px rgba(60, 64, 67, 0.15);\n",
              "      fill: #174EA6;\n",
              "    }\n",
              "\n",
              "    [theme=dark] .colab-df-convert {\n",
              "      background-color: #3B4455;\n",
              "      fill: #D2E3FC;\n",
              "    }\n",
              "\n",
              "    [theme=dark] .colab-df-convert:hover {\n",
              "      background-color: #434B5C;\n",
              "      box-shadow: 0px 1px 3px 1px rgba(0, 0, 0, 0.15);\n",
              "      filter: drop-shadow(0px 1px 2px rgba(0, 0, 0, 0.3));\n",
              "      fill: #FFFFFF;\n",
              "    }\n",
              "  </style>\n",
              "\n",
              "      <script>\n",
              "        const buttonEl =\n",
              "          document.querySelector('#df-99d60746-a488-41b9-b9f3-be699c2a815f button.colab-df-convert');\n",
              "        buttonEl.style.display =\n",
              "          google.colab.kernel.accessAllowed ? 'block' : 'none';\n",
              "\n",
              "        async function convertToInteractive(key) {\n",
              "          const element = document.querySelector('#df-99d60746-a488-41b9-b9f3-be699c2a815f');\n",
              "          const dataTable =\n",
              "            await google.colab.kernel.invokeFunction('convertToInteractive',\n",
              "                                                     [key], {});\n",
              "          if (!dataTable) return;\n",
              "\n",
              "          const docLinkHtml = 'Like what you see? Visit the ' +\n",
              "            '<a target=\"_blank\" href=https://colab.research.google.com/notebooks/data_table.ipynb>data table notebook</a>'\n",
              "            + ' to learn more about interactive tables.';\n",
              "          element.innerHTML = '';\n",
              "          dataTable['output_type'] = 'display_data';\n",
              "          await google.colab.output.renderOutput(dataTable, element);\n",
              "          const docLink = document.createElement('div');\n",
              "          docLink.innerHTML = docLinkHtml;\n",
              "          element.appendChild(docLink);\n",
              "        }\n",
              "      </script>\n",
              "    </div>\n",
              "  </div>\n",
              "  "
            ]
          },
          "metadata": {},
          "execution_count": 196
        }
      ]
    },
    {
      "cell_type": "markdown",
      "source": [
        "**Qual partido mais elegeu mulheres X homens**"
      ],
      "metadata": {
        "id": "94HrCZ5_rhzR"
      }
    },
    {
      "cell_type": "code",
      "source": [
        "eleito_partido = candidatos_goias[candidatos_goias['DS_SIT_TOT_TURNO'] == \"ELEITO\"]\n",
        "eleito_feminino_partido = eleito_partido[eleito_partido['DS_GENERO'] == \"FEMININO\"]"
      ],
      "metadata": {
        "id": "D2f-bpRiH_oC"
      },
      "execution_count": 197,
      "outputs": []
    },
    {
      "cell_type": "code",
      "source": [
        "eleito_partido = candidatos_goias[candidatos_goias['DS_SIT_TOT_TURNO'] == \"ELEITO\"]\n",
        "eleito_masculino_partido = eleito_partido[eleito_partido['DS_GENERO'] == \"MASCULINO\"]"
      ],
      "metadata": {
        "id": "t9MZzndKIyNw"
      },
      "execution_count": 198,
      "outputs": []
    },
    {
      "cell_type": "markdown",
      "source": [
        "`Partido que mais elegeu mulheres`"
      ],
      "metadata": {
        "id": "BMdo6lYdIuO_"
      }
    },
    {
      "cell_type": "code",
      "source": [
        "#Utilizando sql para contabilizar eleitos feminino por partido\n",
        "query = \"\"\"SELECT SG_PARTIDO, COUNT(SG_PARTIDO) as eleitos\n",
        "           FROM eleito_feminino_partido\n",
        "           GROUP BY SG_PARTIDO\n",
        "           ORDER BY COUNT(SG_PARTIDO) DESC\n",
        "           \"\"\"\n",
        "ps.sqldf(query.lower(), locals())"
      ],
      "metadata": {
        "id": "Mg2HbDjvLcMo",
        "colab": {
          "base_uri": "https://localhost:8080/",
          "height": 771
        },
        "outputId": "d6aa1b2e-9011-4d22-e731-4d8a0438c0e4"
      },
      "execution_count": 200,
      "outputs": [
        {
          "output_type": "execute_result",
          "data": {
            "text/plain": [
              "       SG_PARTIDO  eleitos\n",
              "0            PSDB       34\n",
              "1              PP       19\n",
              "2             DEM       18\n",
              "3            PMDB       17\n",
              "4             PDT       13\n",
              "5             PTB       12\n",
              "6             PSD       11\n",
              "7             PSB        8\n",
              "8             PSC        8\n",
              "9              PT        7\n",
              "10           PODE        6\n",
              "11            MDB        5\n",
              "12   REPUBLICANOS        5\n",
              "13      CIDADANIA        4\n",
              "14             PL        4\n",
              "15            PTC        4\n",
              "16             PR        3\n",
              "17            PRB        3\n",
              "18            PPS        2\n",
              "19           PROS        2\n",
              "20            PTN        2\n",
              "21  SOLIDARIEDADE        2\n",
              "22            PSL        1"
            ],
            "text/html": [
              "\n",
              "  <div id=\"df-72197d18-21ba-4c26-9211-a3fa4057fc5e\">\n",
              "    <div class=\"colab-df-container\">\n",
              "      <div>\n",
              "<style scoped>\n",
              "    .dataframe tbody tr th:only-of-type {\n",
              "        vertical-align: middle;\n",
              "    }\n",
              "\n",
              "    .dataframe tbody tr th {\n",
              "        vertical-align: top;\n",
              "    }\n",
              "\n",
              "    .dataframe thead th {\n",
              "        text-align: right;\n",
              "    }\n",
              "</style>\n",
              "<table border=\"1\" class=\"dataframe\">\n",
              "  <thead>\n",
              "    <tr style=\"text-align: right;\">\n",
              "      <th></th>\n",
              "      <th>SG_PARTIDO</th>\n",
              "      <th>eleitos</th>\n",
              "    </tr>\n",
              "  </thead>\n",
              "  <tbody>\n",
              "    <tr>\n",
              "      <th>0</th>\n",
              "      <td>PSDB</td>\n",
              "      <td>34</td>\n",
              "    </tr>\n",
              "    <tr>\n",
              "      <th>1</th>\n",
              "      <td>PP</td>\n",
              "      <td>19</td>\n",
              "    </tr>\n",
              "    <tr>\n",
              "      <th>2</th>\n",
              "      <td>DEM</td>\n",
              "      <td>18</td>\n",
              "    </tr>\n",
              "    <tr>\n",
              "      <th>3</th>\n",
              "      <td>PMDB</td>\n",
              "      <td>17</td>\n",
              "    </tr>\n",
              "    <tr>\n",
              "      <th>4</th>\n",
              "      <td>PDT</td>\n",
              "      <td>13</td>\n",
              "    </tr>\n",
              "    <tr>\n",
              "      <th>5</th>\n",
              "      <td>PTB</td>\n",
              "      <td>12</td>\n",
              "    </tr>\n",
              "    <tr>\n",
              "      <th>6</th>\n",
              "      <td>PSD</td>\n",
              "      <td>11</td>\n",
              "    </tr>\n",
              "    <tr>\n",
              "      <th>7</th>\n",
              "      <td>PSB</td>\n",
              "      <td>8</td>\n",
              "    </tr>\n",
              "    <tr>\n",
              "      <th>8</th>\n",
              "      <td>PSC</td>\n",
              "      <td>8</td>\n",
              "    </tr>\n",
              "    <tr>\n",
              "      <th>9</th>\n",
              "      <td>PT</td>\n",
              "      <td>7</td>\n",
              "    </tr>\n",
              "    <tr>\n",
              "      <th>10</th>\n",
              "      <td>PODE</td>\n",
              "      <td>6</td>\n",
              "    </tr>\n",
              "    <tr>\n",
              "      <th>11</th>\n",
              "      <td>MDB</td>\n",
              "      <td>5</td>\n",
              "    </tr>\n",
              "    <tr>\n",
              "      <th>12</th>\n",
              "      <td>REPUBLICANOS</td>\n",
              "      <td>5</td>\n",
              "    </tr>\n",
              "    <tr>\n",
              "      <th>13</th>\n",
              "      <td>CIDADANIA</td>\n",
              "      <td>4</td>\n",
              "    </tr>\n",
              "    <tr>\n",
              "      <th>14</th>\n",
              "      <td>PL</td>\n",
              "      <td>4</td>\n",
              "    </tr>\n",
              "    <tr>\n",
              "      <th>15</th>\n",
              "      <td>PTC</td>\n",
              "      <td>4</td>\n",
              "    </tr>\n",
              "    <tr>\n",
              "      <th>16</th>\n",
              "      <td>PR</td>\n",
              "      <td>3</td>\n",
              "    </tr>\n",
              "    <tr>\n",
              "      <th>17</th>\n",
              "      <td>PRB</td>\n",
              "      <td>3</td>\n",
              "    </tr>\n",
              "    <tr>\n",
              "      <th>18</th>\n",
              "      <td>PPS</td>\n",
              "      <td>2</td>\n",
              "    </tr>\n",
              "    <tr>\n",
              "      <th>19</th>\n",
              "      <td>PROS</td>\n",
              "      <td>2</td>\n",
              "    </tr>\n",
              "    <tr>\n",
              "      <th>20</th>\n",
              "      <td>PTN</td>\n",
              "      <td>2</td>\n",
              "    </tr>\n",
              "    <tr>\n",
              "      <th>21</th>\n",
              "      <td>SOLIDARIEDADE</td>\n",
              "      <td>2</td>\n",
              "    </tr>\n",
              "    <tr>\n",
              "      <th>22</th>\n",
              "      <td>PSL</td>\n",
              "      <td>1</td>\n",
              "    </tr>\n",
              "  </tbody>\n",
              "</table>\n",
              "</div>\n",
              "      <button class=\"colab-df-convert\" onclick=\"convertToInteractive('df-72197d18-21ba-4c26-9211-a3fa4057fc5e')\"\n",
              "              title=\"Convert this dataframe to an interactive table.\"\n",
              "              style=\"display:none;\">\n",
              "        \n",
              "  <svg xmlns=\"http://www.w3.org/2000/svg\" height=\"24px\"viewBox=\"0 0 24 24\"\n",
              "       width=\"24px\">\n",
              "    <path d=\"M0 0h24v24H0V0z\" fill=\"none\"/>\n",
              "    <path d=\"M18.56 5.44l.94 2.06.94-2.06 2.06-.94-2.06-.94-.94-2.06-.94 2.06-2.06.94zm-11 1L8.5 8.5l.94-2.06 2.06-.94-2.06-.94L8.5 2.5l-.94 2.06-2.06.94zm10 10l.94 2.06.94-2.06 2.06-.94-2.06-.94-.94-2.06-.94 2.06-2.06.94z\"/><path d=\"M17.41 7.96l-1.37-1.37c-.4-.4-.92-.59-1.43-.59-.52 0-1.04.2-1.43.59L10.3 9.45l-7.72 7.72c-.78.78-.78 2.05 0 2.83L4 21.41c.39.39.9.59 1.41.59.51 0 1.02-.2 1.41-.59l7.78-7.78 2.81-2.81c.8-.78.8-2.07 0-2.86zM5.41 20L4 18.59l7.72-7.72 1.47 1.35L5.41 20z\"/>\n",
              "  </svg>\n",
              "      </button>\n",
              "      \n",
              "  <style>\n",
              "    .colab-df-container {\n",
              "      display:flex;\n",
              "      flex-wrap:wrap;\n",
              "      gap: 12px;\n",
              "    }\n",
              "\n",
              "    .colab-df-convert {\n",
              "      background-color: #E8F0FE;\n",
              "      border: none;\n",
              "      border-radius: 50%;\n",
              "      cursor: pointer;\n",
              "      display: none;\n",
              "      fill: #1967D2;\n",
              "      height: 32px;\n",
              "      padding: 0 0 0 0;\n",
              "      width: 32px;\n",
              "    }\n",
              "\n",
              "    .colab-df-convert:hover {\n",
              "      background-color: #E2EBFA;\n",
              "      box-shadow: 0px 1px 2px rgba(60, 64, 67, 0.3), 0px 1px 3px 1px rgba(60, 64, 67, 0.15);\n",
              "      fill: #174EA6;\n",
              "    }\n",
              "\n",
              "    [theme=dark] .colab-df-convert {\n",
              "      background-color: #3B4455;\n",
              "      fill: #D2E3FC;\n",
              "    }\n",
              "\n",
              "    [theme=dark] .colab-df-convert:hover {\n",
              "      background-color: #434B5C;\n",
              "      box-shadow: 0px 1px 3px 1px rgba(0, 0, 0, 0.15);\n",
              "      filter: drop-shadow(0px 1px 2px rgba(0, 0, 0, 0.3));\n",
              "      fill: #FFFFFF;\n",
              "    }\n",
              "  </style>\n",
              "\n",
              "      <script>\n",
              "        const buttonEl =\n",
              "          document.querySelector('#df-72197d18-21ba-4c26-9211-a3fa4057fc5e button.colab-df-convert');\n",
              "        buttonEl.style.display =\n",
              "          google.colab.kernel.accessAllowed ? 'block' : 'none';\n",
              "\n",
              "        async function convertToInteractive(key) {\n",
              "          const element = document.querySelector('#df-72197d18-21ba-4c26-9211-a3fa4057fc5e');\n",
              "          const dataTable =\n",
              "            await google.colab.kernel.invokeFunction('convertToInteractive',\n",
              "                                                     [key], {});\n",
              "          if (!dataTable) return;\n",
              "\n",
              "          const docLinkHtml = 'Like what you see? Visit the ' +\n",
              "            '<a target=\"_blank\" href=https://colab.research.google.com/notebooks/data_table.ipynb>data table notebook</a>'\n",
              "            + ' to learn more about interactive tables.';\n",
              "          element.innerHTML = '';\n",
              "          dataTable['output_type'] = 'display_data';\n",
              "          await google.colab.output.renderOutput(dataTable, element);\n",
              "          const docLink = document.createElement('div');\n",
              "          docLink.innerHTML = docLinkHtml;\n",
              "          element.appendChild(docLink);\n",
              "        }\n",
              "      </script>\n",
              "    </div>\n",
              "  </div>\n",
              "  "
            ]
          },
          "metadata": {},
          "execution_count": 200
        }
      ]
    },
    {
      "cell_type": "markdown",
      "source": [
        "`Partido que mais elegeu homens`"
      ],
      "metadata": {
        "id": "-v86vG-iJDRY"
      }
    },
    {
      "cell_type": "code",
      "source": [
        "#Utilizando sql para contabilizar eleitos masculino por partido\n",
        "query = \"\"\"SELECT SG_PARTIDO, COUNT(SG_PARTIDO) as eleitos\n",
        "           FROM eleito_masculino_partido\n",
        "           GROUP BY SG_PARTIDO\n",
        "           ORDER BY COUNT(SG_PARTIDO) DESC\n",
        "           \"\"\"\n",
        "ps.sqldf(query.lower(), locals())"
      ],
      "metadata": {
        "colab": {
          "base_uri": "https://localhost:8080/",
          "height": 1000
        },
        "id": "kqRBZrZTIoDZ",
        "outputId": "22ec6c5d-b739-4860-bdd8-4202891a7188"
      },
      "execution_count": 202,
      "outputs": [
        {
          "output_type": "execute_result",
          "data": {
            "text/plain": [
              "       SG_PARTIDO  eleitos\n",
              "0            PSDB      236\n",
              "1            PMDB      182\n",
              "2             DEM      163\n",
              "3              PP      132\n",
              "4             PSD       90\n",
              "5             PDT       66\n",
              "6             PTB       65\n",
              "7             MDB       55\n",
              "8              PR       54\n",
              "9             PSB       44\n",
              "10             PT       41\n",
              "11           PODE       23\n",
              "12            PSC       23\n",
              "13      CIDADANIA       22\n",
              "14             PL       20\n",
              "15           PROS       17\n",
              "16            PSL       16\n",
              "17            PPS       15\n",
              "18            PRP       14\n",
              "19            PTC       14\n",
              "20  SOLIDARIEDADE       12\n",
              "21            PRB       10\n",
              "22   REPUBLICANOS       10\n",
              "23            PTN        9\n",
              "24           PRTB        8\n",
              "25       PATRIOTA        7\n",
              "26            PHS        6\n",
              "27        PT do B        6\n",
              "28            PMN        4\n",
              "29             PV        4\n",
              "30             SD        4\n",
              "31            PPL        2\n",
              "32           PSDC        2\n",
              "33        PC do B        1\n",
              "34            PMB        1"
            ],
            "text/html": [
              "\n",
              "  <div id=\"df-86fbcdab-7276-4e9d-bc34-5862e3abb1cc\">\n",
              "    <div class=\"colab-df-container\">\n",
              "      <div>\n",
              "<style scoped>\n",
              "    .dataframe tbody tr th:only-of-type {\n",
              "        vertical-align: middle;\n",
              "    }\n",
              "\n",
              "    .dataframe tbody tr th {\n",
              "        vertical-align: top;\n",
              "    }\n",
              "\n",
              "    .dataframe thead th {\n",
              "        text-align: right;\n",
              "    }\n",
              "</style>\n",
              "<table border=\"1\" class=\"dataframe\">\n",
              "  <thead>\n",
              "    <tr style=\"text-align: right;\">\n",
              "      <th></th>\n",
              "      <th>SG_PARTIDO</th>\n",
              "      <th>eleitos</th>\n",
              "    </tr>\n",
              "  </thead>\n",
              "  <tbody>\n",
              "    <tr>\n",
              "      <th>0</th>\n",
              "      <td>PSDB</td>\n",
              "      <td>236</td>\n",
              "    </tr>\n",
              "    <tr>\n",
              "      <th>1</th>\n",
              "      <td>PMDB</td>\n",
              "      <td>182</td>\n",
              "    </tr>\n",
              "    <tr>\n",
              "      <th>2</th>\n",
              "      <td>DEM</td>\n",
              "      <td>163</td>\n",
              "    </tr>\n",
              "    <tr>\n",
              "      <th>3</th>\n",
              "      <td>PP</td>\n",
              "      <td>132</td>\n",
              "    </tr>\n",
              "    <tr>\n",
              "      <th>4</th>\n",
              "      <td>PSD</td>\n",
              "      <td>90</td>\n",
              "    </tr>\n",
              "    <tr>\n",
              "      <th>5</th>\n",
              "      <td>PDT</td>\n",
              "      <td>66</td>\n",
              "    </tr>\n",
              "    <tr>\n",
              "      <th>6</th>\n",
              "      <td>PTB</td>\n",
              "      <td>65</td>\n",
              "    </tr>\n",
              "    <tr>\n",
              "      <th>7</th>\n",
              "      <td>MDB</td>\n",
              "      <td>55</td>\n",
              "    </tr>\n",
              "    <tr>\n",
              "      <th>8</th>\n",
              "      <td>PR</td>\n",
              "      <td>54</td>\n",
              "    </tr>\n",
              "    <tr>\n",
              "      <th>9</th>\n",
              "      <td>PSB</td>\n",
              "      <td>44</td>\n",
              "    </tr>\n",
              "    <tr>\n",
              "      <th>10</th>\n",
              "      <td>PT</td>\n",
              "      <td>41</td>\n",
              "    </tr>\n",
              "    <tr>\n",
              "      <th>11</th>\n",
              "      <td>PODE</td>\n",
              "      <td>23</td>\n",
              "    </tr>\n",
              "    <tr>\n",
              "      <th>12</th>\n",
              "      <td>PSC</td>\n",
              "      <td>23</td>\n",
              "    </tr>\n",
              "    <tr>\n",
              "      <th>13</th>\n",
              "      <td>CIDADANIA</td>\n",
              "      <td>22</td>\n",
              "    </tr>\n",
              "    <tr>\n",
              "      <th>14</th>\n",
              "      <td>PL</td>\n",
              "      <td>20</td>\n",
              "    </tr>\n",
              "    <tr>\n",
              "      <th>15</th>\n",
              "      <td>PROS</td>\n",
              "      <td>17</td>\n",
              "    </tr>\n",
              "    <tr>\n",
              "      <th>16</th>\n",
              "      <td>PSL</td>\n",
              "      <td>16</td>\n",
              "    </tr>\n",
              "    <tr>\n",
              "      <th>17</th>\n",
              "      <td>PPS</td>\n",
              "      <td>15</td>\n",
              "    </tr>\n",
              "    <tr>\n",
              "      <th>18</th>\n",
              "      <td>PRP</td>\n",
              "      <td>14</td>\n",
              "    </tr>\n",
              "    <tr>\n",
              "      <th>19</th>\n",
              "      <td>PTC</td>\n",
              "      <td>14</td>\n",
              "    </tr>\n",
              "    <tr>\n",
              "      <th>20</th>\n",
              "      <td>SOLIDARIEDADE</td>\n",
              "      <td>12</td>\n",
              "    </tr>\n",
              "    <tr>\n",
              "      <th>21</th>\n",
              "      <td>PRB</td>\n",
              "      <td>10</td>\n",
              "    </tr>\n",
              "    <tr>\n",
              "      <th>22</th>\n",
              "      <td>REPUBLICANOS</td>\n",
              "      <td>10</td>\n",
              "    </tr>\n",
              "    <tr>\n",
              "      <th>23</th>\n",
              "      <td>PTN</td>\n",
              "      <td>9</td>\n",
              "    </tr>\n",
              "    <tr>\n",
              "      <th>24</th>\n",
              "      <td>PRTB</td>\n",
              "      <td>8</td>\n",
              "    </tr>\n",
              "    <tr>\n",
              "      <th>25</th>\n",
              "      <td>PATRIOTA</td>\n",
              "      <td>7</td>\n",
              "    </tr>\n",
              "    <tr>\n",
              "      <th>26</th>\n",
              "      <td>PHS</td>\n",
              "      <td>6</td>\n",
              "    </tr>\n",
              "    <tr>\n",
              "      <th>27</th>\n",
              "      <td>PT do B</td>\n",
              "      <td>6</td>\n",
              "    </tr>\n",
              "    <tr>\n",
              "      <th>28</th>\n",
              "      <td>PMN</td>\n",
              "      <td>4</td>\n",
              "    </tr>\n",
              "    <tr>\n",
              "      <th>29</th>\n",
              "      <td>PV</td>\n",
              "      <td>4</td>\n",
              "    </tr>\n",
              "    <tr>\n",
              "      <th>30</th>\n",
              "      <td>SD</td>\n",
              "      <td>4</td>\n",
              "    </tr>\n",
              "    <tr>\n",
              "      <th>31</th>\n",
              "      <td>PPL</td>\n",
              "      <td>2</td>\n",
              "    </tr>\n",
              "    <tr>\n",
              "      <th>32</th>\n",
              "      <td>PSDC</td>\n",
              "      <td>2</td>\n",
              "    </tr>\n",
              "    <tr>\n",
              "      <th>33</th>\n",
              "      <td>PC do B</td>\n",
              "      <td>1</td>\n",
              "    </tr>\n",
              "    <tr>\n",
              "      <th>34</th>\n",
              "      <td>PMB</td>\n",
              "      <td>1</td>\n",
              "    </tr>\n",
              "  </tbody>\n",
              "</table>\n",
              "</div>\n",
              "      <button class=\"colab-df-convert\" onclick=\"convertToInteractive('df-86fbcdab-7276-4e9d-bc34-5862e3abb1cc')\"\n",
              "              title=\"Convert this dataframe to an interactive table.\"\n",
              "              style=\"display:none;\">\n",
              "        \n",
              "  <svg xmlns=\"http://www.w3.org/2000/svg\" height=\"24px\"viewBox=\"0 0 24 24\"\n",
              "       width=\"24px\">\n",
              "    <path d=\"M0 0h24v24H0V0z\" fill=\"none\"/>\n",
              "    <path d=\"M18.56 5.44l.94 2.06.94-2.06 2.06-.94-2.06-.94-.94-2.06-.94 2.06-2.06.94zm-11 1L8.5 8.5l.94-2.06 2.06-.94-2.06-.94L8.5 2.5l-.94 2.06-2.06.94zm10 10l.94 2.06.94-2.06 2.06-.94-2.06-.94-.94-2.06-.94 2.06-2.06.94z\"/><path d=\"M17.41 7.96l-1.37-1.37c-.4-.4-.92-.59-1.43-.59-.52 0-1.04.2-1.43.59L10.3 9.45l-7.72 7.72c-.78.78-.78 2.05 0 2.83L4 21.41c.39.39.9.59 1.41.59.51 0 1.02-.2 1.41-.59l7.78-7.78 2.81-2.81c.8-.78.8-2.07 0-2.86zM5.41 20L4 18.59l7.72-7.72 1.47 1.35L5.41 20z\"/>\n",
              "  </svg>\n",
              "      </button>\n",
              "      \n",
              "  <style>\n",
              "    .colab-df-container {\n",
              "      display:flex;\n",
              "      flex-wrap:wrap;\n",
              "      gap: 12px;\n",
              "    }\n",
              "\n",
              "    .colab-df-convert {\n",
              "      background-color: #E8F0FE;\n",
              "      border: none;\n",
              "      border-radius: 50%;\n",
              "      cursor: pointer;\n",
              "      display: none;\n",
              "      fill: #1967D2;\n",
              "      height: 32px;\n",
              "      padding: 0 0 0 0;\n",
              "      width: 32px;\n",
              "    }\n",
              "\n",
              "    .colab-df-convert:hover {\n",
              "      background-color: #E2EBFA;\n",
              "      box-shadow: 0px 1px 2px rgba(60, 64, 67, 0.3), 0px 1px 3px 1px rgba(60, 64, 67, 0.15);\n",
              "      fill: #174EA6;\n",
              "    }\n",
              "\n",
              "    [theme=dark] .colab-df-convert {\n",
              "      background-color: #3B4455;\n",
              "      fill: #D2E3FC;\n",
              "    }\n",
              "\n",
              "    [theme=dark] .colab-df-convert:hover {\n",
              "      background-color: #434B5C;\n",
              "      box-shadow: 0px 1px 3px 1px rgba(0, 0, 0, 0.15);\n",
              "      filter: drop-shadow(0px 1px 2px rgba(0, 0, 0, 0.3));\n",
              "      fill: #FFFFFF;\n",
              "    }\n",
              "  </style>\n",
              "\n",
              "      <script>\n",
              "        const buttonEl =\n",
              "          document.querySelector('#df-86fbcdab-7276-4e9d-bc34-5862e3abb1cc button.colab-df-convert');\n",
              "        buttonEl.style.display =\n",
              "          google.colab.kernel.accessAllowed ? 'block' : 'none';\n",
              "\n",
              "        async function convertToInteractive(key) {\n",
              "          const element = document.querySelector('#df-86fbcdab-7276-4e9d-bc34-5862e3abb1cc');\n",
              "          const dataTable =\n",
              "            await google.colab.kernel.invokeFunction('convertToInteractive',\n",
              "                                                     [key], {});\n",
              "          if (!dataTable) return;\n",
              "\n",
              "          const docLinkHtml = 'Like what you see? Visit the ' +\n",
              "            '<a target=\"_blank\" href=https://colab.research.google.com/notebooks/data_table.ipynb>data table notebook</a>'\n",
              "            + ' to learn more about interactive tables.';\n",
              "          element.innerHTML = '';\n",
              "          dataTable['output_type'] = 'display_data';\n",
              "          await google.colab.output.renderOutput(dataTable, element);\n",
              "          const docLink = document.createElement('div');\n",
              "          docLink.innerHTML = docLinkHtml;\n",
              "          element.appendChild(docLink);\n",
              "        }\n",
              "      </script>\n",
              "    </div>\n",
              "  </div>\n",
              "  "
            ]
          },
          "metadata": {},
          "execution_count": 202
        }
      ]
    },
    {
      "cell_type": "markdown",
      "source": [
        "**Gráfico do nivel de escolaridade de quem mais ganha eleições**"
      ],
      "metadata": {
        "id": "lMbBizeVJmQF"
      }
    },
    {
      "cell_type": "code",
      "source": [
        "eleito_escolaridade = candidatos_goias[candidatos_goias['DS_SIT_TOT_TURNO'] == \"ELEITO\"]"
      ],
      "metadata": {
        "id": "elPGJhu8J16n"
      },
      "execution_count": 207,
      "outputs": []
    },
    {
      "cell_type": "code",
      "source": [
        "fig = plt.figure(figsize=(10,5))\n",
        "grafico = sns.countplot('DS_GRAU_INSTRUCAO', order = eleito_escolaridade['DS_GRAU_INSTRUCAO'].value_counts().index, palette=\"Paired\",  data =  eleito_escolaridade)\n",
        "plt.xticks(rotation=90)\n",
        "for i in grafico.patches:\n",
        "   grafico.annotate(i.get_height(),\n",
        "                  (i.get_x() + i.get_width() / 2, i.get_height()),\n",
        "                  ha='center',\n",
        "                  va='baseline',\n",
        "                  fontsize=12,\n",
        "                  color='black',\n",
        "                  xytext=(0, 1),\n",
        "                  textcoords='offset points');  \n",
        "plt.xlabel('Escolaridade', fontsize=15)\n",
        "plt.ylabel(' ')\n",
        "plt.title('Grafico quantidade por  escolaridade',fontsize=15);"
      ],
      "metadata": {
        "colab": {
          "base_uri": "https://localhost:8080/",
          "height": 586
        },
        "id": "Ftn039PoJAwJ",
        "outputId": "b7b70e0c-686e-4d8f-d4e5-998585d8d1b7"
      },
      "execution_count": 208,
      "outputs": [
        {
          "output_type": "stream",
          "name": "stderr",
          "text": [
            "/usr/local/lib/python3.7/dist-packages/seaborn/_decorators.py:43: FutureWarning: Pass the following variable as a keyword arg: x. From version 0.12, the only valid positional argument will be `data`, and passing other arguments without an explicit keyword will result in an error or misinterpretation.\n",
            "  FutureWarning\n"
          ]
        },
        {
          "output_type": "display_data",
          "data": {
            "text/plain": [
              "<Figure size 720x360 with 1 Axes>"
            ],
            "image/png": "[encoded data removed]"
          },
          "metadata": {
            "needs_background": "light"
          }
        }
      ]
    },
    {
      "cell_type": "markdown",
      "source": [
        "**Porcentagem da escolaridade de quem mais ganha eleições**"
      ],
      "metadata": {
        "id": "vvAUhWuvKPbB"
      }
    },
    {
      "cell_type": "code",
      "source": [
        "porc_escolaridade = candidatos_goias[candidatos_goias['DS_SIT_TOT_TURNO'] == \"ELEITO\"]\n",
        "porc_escolaridade['DS_GRAU_INSTRUCAO'].value_counts()/ porc_escolaridade['DS_GRAU_INSTRUCAO'].count()*100"
      ],
      "metadata": {
        "id": "B86LF3CMK90z",
        "colab": {
          "base_uri": "https://localhost:8080/"
        },
        "outputId": "f63f1876-9d94-4e29-a31f-4b70103d58a2"
      },
      "execution_count": 209,
      "outputs": [
        {
          "output_type": "execute_result",
          "data": {
            "text/plain": [
              "SUPERIOR COMPLETO                44.642857\n",
              "ENSINO MÉDIO COMPLETO            32.079082\n",
              "ENSINO FUNDAMENTAL INCOMPLETO     6.951531\n",
              "ENSINO FUNDAMENTAL COMPLETO       6.568878\n",
              "SUPERIOR INCOMPLETO               5.739796\n",
              "ENSINO MÉDIO INCOMPLETO           3.507653\n",
              "LÊ E ESCREVE                      0.510204\n",
              "Name: DS_GRAU_INSTRUCAO, dtype: float64"
            ]
          },
          "metadata": {},
          "execution_count": 209
        }
      ]
    },
    {
      "cell_type": "markdown",
      "source": [
        "**Crescimento de candidatos inscritos nas eleições**"
      ],
      "metadata": {
        "id": "9CnSg06Ha0oW"
      }
    },
    {
      "cell_type": "code",
      "source": [
        "candidatos_goias.groupby(\"ANO_ELEICAO\",sort=True)[\"ANO_ELEICAO\"].count()"
      ],
      "metadata": {
        "colab": {
          "base_uri": "https://localhost:8080/"
        },
        "id": "ghu3vPbIbIzm",
        "outputId": "e1ee8235-b47d-4add-c785-a2e90ef9ff8c"
      },
      "execution_count": 210,
      "outputs": [
        {
          "output_type": "execute_result",
          "data": {
            "text/plain": [
              "ANO_ELEICAO\n",
              "2010      844\n",
              "2012    20544\n",
              "2014     1064\n",
              "2016    21307\n",
              "2018     1193\n",
              "2020    24941\n",
              "2022     1236\n",
              "Name: ANO_ELEICAO, dtype: int64"
            ]
          },
          "metadata": {},
          "execution_count": 210
        }
      ]
    },
    {
      "cell_type": "markdown",
      "source": [
        "**Crescimento de mulheres x homens candidatos a eleições**"
      ],
      "metadata": {
        "id": "zLmS1t4YdE1N"
      }
    },
    {
      "cell_type": "markdown",
      "source": [
        "`Quantidade de mulheres canditadas nas eleições no decorrer dos anos`"
      ],
      "metadata": {
        "id": "yHiQcjzVgx1N"
      }
    },
    {
      "cell_type": "code",
      "source": [
        "candidatos_eleicao_crescimento_genero_feminino = candidatos_goias[candidatos_goias['DS_GENERO'] == \"FEMININO\"]\n",
        "candidatos_eleicao_crescimento_genero_feminino = candidatos_eleicao_crescimento_genero_feminino.groupby([\"DS_GENERO\", \"ANO_ELEICAO\"], as_index=False)[\"DS_GENERO\"].count()\n",
        "candidatos_eleicao_crescimento_genero_feminino = candidatos_eleicao_crescimento_genero_feminino.sort_values(by='DS_GENERO', ascending=False)\n",
        "candidatos_eleicao_crescimento_genero_feminino = candidatos_eleicao_crescimento_genero_feminino.rename(columns={'DS_GENERO': 'FEMININO'})\n",
        "candidatos_eleicao_crescimento_genero_feminino"
      ],
      "metadata": {
        "colab": {
          "base_uri": "https://localhost:8080/",
          "height": 269
        },
        "id": "qHDEAh9pdA7P",
        "outputId": "07444f5e-9726-44a6-8e6d-480dde32b5e0"
      },
      "execution_count": 211,
      "outputs": [
        {
          "output_type": "execute_result",
          "data": {
            "text/plain": [
              "   ANO_ELEICAO  FEMININO\n",
              "5         2020      8411\n",
              "3         2016      6825\n",
              "1         2012      6458\n",
              "6         2022       440\n",
              "4         2018       386\n",
              "2         2014       319\n",
              "0         2010       162"
            ],
            "text/html": [
              "\n",
              "  <div id=\"df-d6c5d9f4-ec0e-4d81-9ba4-f730697aafe6\">\n",
              "    <div class=\"colab-df-container\">\n",
              "      <div>\n",
              "<style scoped>\n",
              "    .dataframe tbody tr th:only-of-type {\n",
              "        vertical-align: middle;\n",
              "    }\n",
              "\n",
              "    .dataframe tbody tr th {\n",
              "        vertical-align: top;\n",
              "    }\n",
              "\n",
              "    .dataframe thead th {\n",
              "        text-align: right;\n",
              "    }\n",
              "</style>\n",
              "<table border=\"1\" class=\"dataframe\">\n",
              "  <thead>\n",
              "    <tr style=\"text-align: right;\">\n",
              "      <th></th>\n",
              "      <th>ANO_ELEICAO</th>\n",
              "      <th>FEMININO</th>\n",
              "    </tr>\n",
              "  </thead>\n",
              "  <tbody>\n",
              "    <tr>\n",
              "      <th>5</th>\n",
              "      <td>2020</td>\n",
              "      <td>8411</td>\n",
              "    </tr>\n",
              "    <tr>\n",
              "      <th>3</th>\n",
              "      <td>2016</td>\n",
              "      <td>6825</td>\n",
              "    </tr>\n",
              "    <tr>\n",
              "      <th>1</th>\n",
              "      <td>2012</td>\n",
              "      <td>6458</td>\n",
              "    </tr>\n",
              "    <tr>\n",
              "      <th>6</th>\n",
              "      <td>2022</td>\n",
              "      <td>440</td>\n",
              "    </tr>\n",
              "    <tr>\n",
              "      <th>4</th>\n",
              "      <td>2018</td>\n",
              "      <td>386</td>\n",
              "    </tr>\n",
              "    <tr>\n",
              "      <th>2</th>\n",
              "      <td>2014</td>\n",
              "      <td>319</td>\n",
              "    </tr>\n",
              "    <tr>\n",
              "      <th>0</th>\n",
              "      <td>2010</td>\n",
              "      <td>162</td>\n",
              "    </tr>\n",
              "  </tbody>\n",
              "</table>\n",
              "</div>\n",
              "      <button class=\"colab-df-convert\" onclick=\"convertToInteractive('df-d6c5d9f4-ec0e-4d81-9ba4-f730697aafe6')\"\n",
              "              title=\"Convert this dataframe to an interactive table.\"\n",
              "              style=\"display:none;\">\n",
              "        \n",
              "  <svg xmlns=\"http://www.w3.org/2000/svg\" height=\"24px\"viewBox=\"0 0 24 24\"\n",
              "       width=\"24px\">\n",
              "    <path d=\"M0 0h24v24H0V0z\" fill=\"none\"/>\n",
              "    <path d=\"M18.56 5.44l.94 2.06.94-2.06 2.06-.94-2.06-.94-.94-2.06-.94 2.06-2.06.94zm-11 1L8.5 8.5l.94-2.06 2.06-.94-2.06-.94L8.5 2.5l-.94 2.06-2.06.94zm10 10l.94 2.06.94-2.06 2.06-.94-2.06-.94-.94-2.06-.94 2.06-2.06.94z\"/><path d=\"M17.41 7.96l-1.37-1.37c-.4-.4-.92-.59-1.43-.59-.52 0-1.04.2-1.43.59L10.3 9.45l-7.72 7.72c-.78.78-.78 2.05 0 2.83L4 21.41c.39.39.9.59 1.41.59.51 0 1.02-.2 1.41-.59l7.78-7.78 2.81-2.81c.8-.78.8-2.07 0-2.86zM5.41 20L4 18.59l7.72-7.72 1.47 1.35L5.41 20z\"/>\n",
              "  </svg>\n",
              "      </button>\n",
              "      \n",
              "  <style>\n",
              "    .colab-df-container {\n",
              "      display:flex;\n",
              "      flex-wrap:wrap;\n",
              "      gap: 12px;\n",
              "    }\n",
              "\n",
              "    .colab-df-convert {\n",
              "      background-color: #E8F0FE;\n",
              "      border: none;\n",
              "      border-radius: 50%;\n",
              "      cursor: pointer;\n",
              "      display: none;\n",
              "      fill: #1967D2;\n",
              "      height: 32px;\n",
              "      padding: 0 0 0 0;\n",
              "      width: 32px;\n",
              "    }\n",
              "\n",
              "    .colab-df-convert:hover {\n",
              "      background-color: #E2EBFA;\n",
              "      box-shadow: 0px 1px 2px rgba(60, 64, 67, 0.3), 0px 1px 3px 1px rgba(60, 64, 67, 0.15);\n",
              "      fill: #174EA6;\n",
              "    }\n",
              "\n",
              "    [theme=dark] .colab-df-convert {\n",
              "      background-color: #3B4455;\n",
              "      fill: #D2E3FC;\n",
              "    }\n",
              "\n",
              "    [theme=dark] .colab-df-convert:hover {\n",
              "      background-color: #434B5C;\n",
              "      box-shadow: 0px 1px 3px 1px rgba(0, 0, 0, 0.15);\n",
              "      filter: drop-shadow(0px 1px 2px rgba(0, 0, 0, 0.3));\n",
              "      fill: #FFFFFF;\n",
              "    }\n",
              "  </style>\n",
              "\n",
              "      <script>\n",
              "        const buttonEl =\n",
              "          document.querySelector('#df-d6c5d9f4-ec0e-4d81-9ba4-f730697aafe6 button.colab-df-convert');\n",
              "        buttonEl.style.display =\n",
              "          google.colab.kernel.accessAllowed ? 'block' : 'none';\n",
              "\n",
              "        async function convertToInteractive(key) {\n",
              "          const element = document.querySelector('#df-d6c5d9f4-ec0e-4d81-9ba4-f730697aafe6');\n",
              "          const dataTable =\n",
              "            await google.colab.kernel.invokeFunction('convertToInteractive',\n",
              "                                                     [key], {});\n",
              "          if (!dataTable) return;\n",
              "\n",
              "          const docLinkHtml = 'Like what you see? Visit the ' +\n",
              "            '<a target=\"_blank\" href=https://colab.research.google.com/notebooks/data_table.ipynb>data table notebook</a>'\n",
              "            + ' to learn more about interactive tables.';\n",
              "          element.innerHTML = '';\n",
              "          dataTable['output_type'] = 'display_data';\n",
              "          await google.colab.output.renderOutput(dataTable, element);\n",
              "          const docLink = document.createElement('div');\n",
              "          docLink.innerHTML = docLinkHtml;\n",
              "          element.appendChild(docLink);\n",
              "        }\n",
              "      </script>\n",
              "    </div>\n",
              "  </div>\n",
              "  "
            ]
          },
          "metadata": {},
          "execution_count": 211
        }
      ]
    },
    {
      "cell_type": "markdown",
      "source": [
        "`Quantidade de homens canditados nas eleições no decorrer dos anos`"
      ],
      "metadata": {
        "id": "0QWgRhETg8Lx"
      }
    },
    {
      "cell_type": "code",
      "source": [
        "candidatos_eleicao_crescimento_genero_masculino = candidatos_goias[candidatos_goias['DS_GENERO'] == \"MASCULINO\"]\n",
        "candidatos_eleicao_crescimento_genero_masculino = candidatos_eleicao_crescimento_genero_masculino.groupby([\"DS_GENERO\", \"ANO_ELEICAO\"], as_index=False)[\"DS_GENERO\"].count()\n",
        "candidatos_eleicao_crescimento_genero_masculino = candidatos_eleicao_crescimento_genero_masculino.sort_values(by='DS_GENERO', ascending=False)\n",
        "candidatos_eleicao_crescimento_genero_masculino = candidatos_eleicao_crescimento_genero_masculino.rename(columns={'DS_GENERO': 'MASCULINO'})\n",
        "candidatos_eleicao_crescimento_genero_masculino"
      ],
      "metadata": {
        "colab": {
          "base_uri": "https://localhost:8080/",
          "height": 269
        },
        "id": "i3-QYmW8hAR0",
        "outputId": "27f0c1b7-6514-4cd6-d792-4be041b1c6b4"
      },
      "execution_count": null,
      "outputs": [
        {
          "output_type": "execute_result",
          "data": {
            "text/plain": [
              "   ANO_ELEICAO  MASCULINO\n",
              "4         2004      13502\n",
              "6         2008      12508\n",
              "2         2000      12014\n",
              "3         2002        571\n",
              "5         2006        564\n",
              "0         1994        473\n",
              "1         1998        443"
            ],
            "text/html": [
              "\n",
              "  <div id=\"df-149c6002-0858-44f2-aa3a-f797d45add31\">\n",
              "    <div class=\"colab-df-container\">\n",
              "      <div>\n",
              "<style scoped>\n",
              "    .dataframe tbody tr th:only-of-type {\n",
              "        vertical-align: middle;\n",
              "    }\n",
              "\n",
              "    .dataframe tbody tr th {\n",
              "        vertical-align: top;\n",
              "    }\n",
              "\n",
              "    .dataframe thead th {\n",
              "        text-align: right;\n",
              "    }\n",
              "</style>\n",
              "<table border=\"1\" class=\"dataframe\">\n",
              "  <thead>\n",
              "    <tr style=\"text-align: right;\">\n",
              "      <th></th>\n",
              "      <th>ANO_ELEICAO</th>\n",
              "      <th>MASCULINO</th>\n",
              "    </tr>\n",
              "  </thead>\n",
              "  <tbody>\n",
              "    <tr>\n",
              "      <th>4</th>\n",
              "      <td>2004</td>\n",
              "      <td>13502</td>\n",
              "    </tr>\n",
              "    <tr>\n",
              "      <th>6</th>\n",
              "      <td>2008</td>\n",
              "      <td>12508</td>\n",
              "    </tr>\n",
              "    <tr>\n",
              "      <th>2</th>\n",
              "      <td>2000</td>\n",
              "      <td>12014</td>\n",
              "    </tr>\n",
              "    <tr>\n",
              "      <th>3</th>\n",
              "      <td>2002</td>\n",
              "      <td>571</td>\n",
              "    </tr>\n",
              "    <tr>\n",
              "      <th>5</th>\n",
              "      <td>2006</td>\n",
              "      <td>564</td>\n",
              "    </tr>\n",
              "    <tr>\n",
              "      <th>0</th>\n",
              "      <td>1994</td>\n",
              "      <td>473</td>\n",
              "    </tr>\n",
              "    <tr>\n",
              "      <th>1</th>\n",
              "      <td>1998</td>\n",
              "      <td>443</td>\n",
              "    </tr>\n",
              "  </tbody>\n",
              "</table>\n",
              "</div>\n",
              "      <button class=\"colab-df-convert\" onclick=\"convertToInteractive('df-149c6002-0858-44f2-aa3a-f797d45add31')\"\n",
              "              title=\"Convert this dataframe to an interactive table.\"\n",
              "              style=\"display:none;\">\n",
              "        \n",
              "  <svg xmlns=\"http://www.w3.org/2000/svg\" height=\"24px\"viewBox=\"0 0 24 24\"\n",
              "       width=\"24px\">\n",
              "    <path d=\"M0 0h24v24H0V0z\" fill=\"none\"/>\n",
              "    <path d=\"M18.56 5.44l.94 2.06.94-2.06 2.06-.94-2.06-.94-.94-2.06-.94 2.06-2.06.94zm-11 1L8.5 8.5l.94-2.06 2.06-.94-2.06-.94L8.5 2.5l-.94 2.06-2.06.94zm10 10l.94 2.06.94-2.06 2.06-.94-2.06-.94-.94-2.06-.94 2.06-2.06.94z\"/><path d=\"M17.41 7.96l-1.37-1.37c-.4-.4-.92-.59-1.43-.59-.52 0-1.04.2-1.43.59L10.3 9.45l-7.72 7.72c-.78.78-.78 2.05 0 2.83L4 21.41c.39.39.9.59 1.41.59.51 0 1.02-.2 1.41-.59l7.78-7.78 2.81-2.81c.8-.78.8-2.07 0-2.86zM5.41 20L4 18.59l7.72-7.72 1.47 1.35L5.41 20z\"/>\n",
              "  </svg>\n",
              "      </button>\n",
              "      \n",
              "  <style>\n",
              "    .colab-df-container {\n",
              "      display:flex;\n",
              "      flex-wrap:wrap;\n",
              "      gap: 12px;\n",
              "    }\n",
              "\n",
              "    .colab-df-convert {\n",
              "      background-color: #E8F0FE;\n",
              "      border: none;\n",
              "      border-radius: 50%;\n",
              "      cursor: pointer;\n",
              "      display: none;\n",
              "      fill: #1967D2;\n",
              "      height: 32px;\n",
              "      padding: 0 0 0 0;\n",
              "      width: 32px;\n",
              "    }\n",
              "\n",
              "    .colab-df-convert:hover {\n",
              "      background-color: #E2EBFA;\n",
              "      box-shadow: 0px 1px 2px rgba(60, 64, 67, 0.3), 0px 1px 3px 1px rgba(60, 64, 67, 0.15);\n",
              "      fill: #174EA6;\n",
              "    }\n",
              "\n",
              "    [theme=dark] .colab-df-convert {\n",
              "      background-color: #3B4455;\n",
              "      fill: #D2E3FC;\n",
              "    }\n",
              "\n",
              "    [theme=dark] .colab-df-convert:hover {\n",
              "      background-color: #434B5C;\n",
              "      box-shadow: 0px 1px 3px 1px rgba(0, 0, 0, 0.15);\n",
              "      filter: drop-shadow(0px 1px 2px rgba(0, 0, 0, 0.3));\n",
              "      fill: #FFFFFF;\n",
              "    }\n",
              "  </style>\n",
              "\n",
              "      <script>\n",
              "        const buttonEl =\n",
              "          document.querySelector('#df-149c6002-0858-44f2-aa3a-f797d45add31 button.colab-df-convert');\n",
              "        buttonEl.style.display =\n",
              "          google.colab.kernel.accessAllowed ? 'block' : 'none';\n",
              "\n",
              "        async function convertToInteractive(key) {\n",
              "          const element = document.querySelector('#df-149c6002-0858-44f2-aa3a-f797d45add31');\n",
              "          const dataTable =\n",
              "            await google.colab.kernel.invokeFunction('convertToInteractive',\n",
              "                                                     [key], {});\n",
              "          if (!dataTable) return;\n",
              "\n",
              "          const docLinkHtml = 'Like what you see? Visit the ' +\n",
              "            '<a target=\"_blank\" href=https://colab.research.google.com/notebooks/data_table.ipynb>data table notebook</a>'\n",
              "            + ' to learn more about interactive tables.';\n",
              "          element.innerHTML = '';\n",
              "          dataTable['output_type'] = 'display_data';\n",
              "          await google.colab.output.renderOutput(dataTable, element);\n",
              "          const docLink = document.createElement('div');\n",
              "          docLink.innerHTML = docLinkHtml;\n",
              "          element.appendChild(docLink);\n",
              "        }\n",
              "      </script>\n",
              "    </div>\n",
              "  </div>\n",
              "  "
            ]
          },
          "metadata": {},
          "execution_count": 80
        }
      ]
    },
    {
      "cell_type": "code",
      "source": [],
      "metadata": {
        "id": "Sgko1w7jj9xB"
      },
      "execution_count": null,
      "outputs": []
    },
    {
      "cell_type": "markdown",
      "source": [
        "**Qual ano as mulheres X homens mais ganharam eleições**"
      ],
      "metadata": {
        "id": "hufJgsjUhsd7"
      }
    },
    {
      "cell_type": "markdown",
      "source": [
        "`Quantidade de mulheres eleitas no decorrer dos anos`"
      ],
      "metadata": {
        "id": "IwDxiweIkgfI"
      }
    },
    {
      "cell_type": "code",
      "source": [
        "eleito_partido = candidatos_goias[candidatos_goias['DS_SIT_TOT_TURNO'] == \"ELEITO\"]\n",
        "eleito_feminino_partido = eleito_partido[eleito_partido['DS_GENERO'] == \"FEMININO\"]"
      ],
      "metadata": {
        "id": "3GDMsYdZkF9D"
      },
      "execution_count": null,
      "outputs": []
    },
    {
      "cell_type": "code",
      "source": [
        "#Utilizando sql para contabilizar qual ano de eleições as mulheres mais ganharam\n",
        "query = \"\"\"SELECT DS_GENERO,ANO_ELEICAO, COUNT(ANO_ELEICAO) as eleitos\n",
        "           FROM eleito_feminino_partido\n",
        "           GROUP BY ANO_ELEICAO\n",
        "           ORDER BY COUNT(ANO_ELEICAO) DESC\n",
        "           \"\"\"\n",
        "ps.sqldf(query.lower(), locals())"
      ],
      "metadata": {
        "colab": {
          "base_uri": "https://localhost:8080/",
          "height": 269
        },
        "id": "ic_JT1Y3hxMt",
        "outputId": "a0b14e63-9aa6-4599-99eb-efa9b1645ed6"
      },
      "execution_count": null,
      "outputs": [
        {
          "output_type": "execute_result",
          "data": {
            "text/plain": [
              "  DS_GENERO  ANO_ELEICAO  eleitos\n",
              "0  FEMININO         2000      260\n",
              "1  FEMININO         2004      257\n",
              "2  FEMININO         2008      223\n",
              "3  FEMININO         2002       10\n",
              "4  FEMININO         1998        9\n",
              "5  FEMININO         1994        7\n",
              "6  FEMININO         2006        7"
            ],
            "text/html": [
              "\n",
              "  <div id=\"df-cad23e3c-c13e-4ccf-a004-99591ec2e62e\">\n",
              "    <div class=\"colab-df-container\">\n",
              "      <div>\n",
              "<style scoped>\n",
              "    .dataframe tbody tr th:only-of-type {\n",
              "        vertical-align: middle;\n",
              "    }\n",
              "\n",
              "    .dataframe tbody tr th {\n",
              "        vertical-align: top;\n",
              "    }\n",
              "\n",
              "    .dataframe thead th {\n",
              "        text-align: right;\n",
              "    }\n",
              "</style>\n",
              "<table border=\"1\" class=\"dataframe\">\n",
              "  <thead>\n",
              "    <tr style=\"text-align: right;\">\n",
              "      <th></th>\n",
              "      <th>DS_GENERO</th>\n",
              "      <th>ANO_ELEICAO</th>\n",
              "      <th>eleitos</th>\n",
              "    </tr>\n",
              "  </thead>\n",
              "  <tbody>\n",
              "    <tr>\n",
              "      <th>0</th>\n",
              "      <td>FEMININO</td>\n",
              "      <td>2000</td>\n",
              "      <td>260</td>\n",
              "    </tr>\n",
              "    <tr>\n",
              "      <th>1</th>\n",
              "      <td>FEMININO</td>\n",
              "      <td>2004</td>\n",
              "      <td>257</td>\n",
              "    </tr>\n",
              "    <tr>\n",
              "      <th>2</th>\n",
              "      <td>FEMININO</td>\n",
              "      <td>2008</td>\n",
              "      <td>223</td>\n",
              "    </tr>\n",
              "    <tr>\n",
              "      <th>3</th>\n",
              "      <td>FEMININO</td>\n",
              "      <td>2002</td>\n",
              "      <td>10</td>\n",
              "    </tr>\n",
              "    <tr>\n",
              "      <th>4</th>\n",
              "      <td>FEMININO</td>\n",
              "      <td>1998</td>\n",
              "      <td>9</td>\n",
              "    </tr>\n",
              "    <tr>\n",
              "      <th>5</th>\n",
              "      <td>FEMININO</td>\n",
              "      <td>1994</td>\n",
              "      <td>7</td>\n",
              "    </tr>\n",
              "    <tr>\n",
              "      <th>6</th>\n",
              "      <td>FEMININO</td>\n",
              "      <td>2006</td>\n",
              "      <td>7</td>\n",
              "    </tr>\n",
              "  </tbody>\n",
              "</table>\n",
              "</div>\n",
              "      <button class=\"colab-df-convert\" onclick=\"convertToInteractive('df-cad23e3c-c13e-4ccf-a004-99591ec2e62e')\"\n",
              "              title=\"Convert this dataframe to an interactive table.\"\n",
              "              style=\"display:none;\">\n",
              "        \n",
              "  <svg xmlns=\"http://www.w3.org/2000/svg\" height=\"24px\"viewBox=\"0 0 24 24\"\n",
              "       width=\"24px\">\n",
              "    <path d=\"M0 0h24v24H0V0z\" fill=\"none\"/>\n",
              "    <path d=\"M18.56 5.44l.94 2.06.94-2.06 2.06-.94-2.06-.94-.94-2.06-.94 2.06-2.06.94zm-11 1L8.5 8.5l.94-2.06 2.06-.94-2.06-.94L8.5 2.5l-.94 2.06-2.06.94zm10 10l.94 2.06.94-2.06 2.06-.94-2.06-.94-.94-2.06-.94 2.06-2.06.94z\"/><path d=\"M17.41 7.96l-1.37-1.37c-.4-.4-.92-.59-1.43-.59-.52 0-1.04.2-1.43.59L10.3 9.45l-7.72 7.72c-.78.78-.78 2.05 0 2.83L4 21.41c.39.39.9.59 1.41.59.51 0 1.02-.2 1.41-.59l7.78-7.78 2.81-2.81c.8-.78.8-2.07 0-2.86zM5.41 20L4 18.59l7.72-7.72 1.47 1.35L5.41 20z\"/>\n",
              "  </svg>\n",
              "      </button>\n",
              "      \n",
              "  <style>\n",
              "    .colab-df-container {\n",
              "      display:flex;\n",
              "      flex-wrap:wrap;\n",
              "      gap: 12px;\n",
              "    }\n",
              "\n",
              "    .colab-df-convert {\n",
              "      background-color: #E8F0FE;\n",
              "      border: none;\n",
              "      border-radius: 50%;\n",
              "      cursor: pointer;\n",
              "      display: none;\n",
              "      fill: #1967D2;\n",
              "      height: 32px;\n",
              "      padding: 0 0 0 0;\n",
              "      width: 32px;\n",
              "    }\n",
              "\n",
              "    .colab-df-convert:hover {\n",
              "      background-color: #E2EBFA;\n",
              "      box-shadow: 0px 1px 2px rgba(60, 64, 67, 0.3), 0px 1px 3px 1px rgba(60, 64, 67, 0.15);\n",
              "      fill: #174EA6;\n",
              "    }\n",
              "\n",
              "    [theme=dark] .colab-df-convert {\n",
              "      background-color: #3B4455;\n",
              "      fill: #D2E3FC;\n",
              "    }\n",
              "\n",
              "    [theme=dark] .colab-df-convert:hover {\n",
              "      background-color: #434B5C;\n",
              "      box-shadow: 0px 1px 3px 1px rgba(0, 0, 0, 0.15);\n",
              "      filter: drop-shadow(0px 1px 2px rgba(0, 0, 0, 0.3));\n",
              "      fill: #FFFFFF;\n",
              "    }\n",
              "  </style>\n",
              "\n",
              "      <script>\n",
              "        const buttonEl =\n",
              "          document.querySelector('#df-cad23e3c-c13e-4ccf-a004-99591ec2e62e button.colab-df-convert');\n",
              "        buttonEl.style.display =\n",
              "          google.colab.kernel.accessAllowed ? 'block' : 'none';\n",
              "\n",
              "        async function convertToInteractive(key) {\n",
              "          const element = document.querySelector('#df-cad23e3c-c13e-4ccf-a004-99591ec2e62e');\n",
              "          const dataTable =\n",
              "            await google.colab.kernel.invokeFunction('convertToInteractive',\n",
              "                                                     [key], {});\n",
              "          if (!dataTable) return;\n",
              "\n",
              "          const docLinkHtml = 'Like what you see? Visit the ' +\n",
              "            '<a target=\"_blank\" href=https://colab.research.google.com/notebooks/data_table.ipynb>data table notebook</a>'\n",
              "            + ' to learn more about interactive tables.';\n",
              "          element.innerHTML = '';\n",
              "          dataTable['output_type'] = 'display_data';\n",
              "          await google.colab.output.renderOutput(dataTable, element);\n",
              "          const docLink = document.createElement('div');\n",
              "          docLink.innerHTML = docLinkHtml;\n",
              "          element.appendChild(docLink);\n",
              "        }\n",
              "      </script>\n",
              "    </div>\n",
              "  </div>\n",
              "  "
            ]
          },
          "metadata": {},
          "execution_count": 82
        }
      ]
    },
    {
      "cell_type": "markdown",
      "source": [
        "`Quantidade de homens eleitos no decorrer dos anos`"
      ],
      "metadata": {
        "id": "sPs2xWunlNHz"
      }
    },
    {
      "cell_type": "code",
      "source": [
        "eleito_partido = candidatos_goias[candidatos_goias['DS_SIT_TOT_TURNO'] == \"ELEITO\"]\n",
        "eleito_masculino_partido = eleito_partido[eleito_partido['DS_GENERO'] == \"MASCULINO\"]"
      ],
      "metadata": {
        "id": "n2LovVnRklgm"
      },
      "execution_count": null,
      "outputs": []
    },
    {
      "cell_type": "code",
      "source": [
        "#Utilizando sql para contabilizar qual ano de eleições as mulheres mais ganharam\n",
        "query = \"\"\"SELECT DS_GENERO,ANO_ELEICAO, COUNT(ANO_ELEICAO) as eleitos\n",
        "           FROM eleito_masculino_partido\n",
        "           GROUP BY ANO_ELEICAO\n",
        "           ORDER BY COUNT(ANO_ELEICAO) DESC\n",
        "           \"\"\"\n",
        "ps.sqldf(query.lower(), locals())"
      ],
      "metadata": {
        "colab": {
          "base_uri": "https://localhost:8080/",
          "height": 269
        },
        "id": "OHX_ZiwZk6uM",
        "outputId": "cfed04e4-84da-4eda-bd1d-4d25f8666c46"
      },
      "execution_count": null,
      "outputs": [
        {
          "output_type": "execute_result",
          "data": {
            "text/plain": [
              "   DS_GENERO  ANO_ELEICAO  eleitos\n",
              "0  MASCULINO         2000     1966\n",
              "1  MASCULINO         2008     1771\n",
              "2  MASCULINO         2004     1735\n",
              "3  MASCULINO         1998       46\n",
              "4  MASCULINO         2006       46\n",
              "5  MASCULINO         2002       43\n",
              "6  MASCULINO         1994       36"
            ],
            "text/html": [
              "\n",
              "  <div id=\"df-a8dcd6af-04c0-40a1-9153-48195f821fe5\">\n",
              "    <div class=\"colab-df-container\">\n",
              "      <div>\n",
              "<style scoped>\n",
              "    .dataframe tbody tr th:only-of-type {\n",
              "        vertical-align: middle;\n",
              "    }\n",
              "\n",
              "    .dataframe tbody tr th {\n",
              "        vertical-align: top;\n",
              "    }\n",
              "\n",
              "    .dataframe thead th {\n",
              "        text-align: right;\n",
              "    }\n",
              "</style>\n",
              "<table border=\"1\" class=\"dataframe\">\n",
              "  <thead>\n",
              "    <tr style=\"text-align: right;\">\n",
              "      <th></th>\n",
              "      <th>DS_GENERO</th>\n",
              "      <th>ANO_ELEICAO</th>\n",
              "      <th>eleitos</th>\n",
              "    </tr>\n",
              "  </thead>\n",
              "  <tbody>\n",
              "    <tr>\n",
              "      <th>0</th>\n",
              "      <td>MASCULINO</td>\n",
              "      <td>2000</td>\n",
              "      <td>1966</td>\n",
              "    </tr>\n",
              "    <tr>\n",
              "      <th>1</th>\n",
              "      <td>MASCULINO</td>\n",
              "      <td>2008</td>\n",
              "      <td>1771</td>\n",
              "    </tr>\n",
              "    <tr>\n",
              "      <th>2</th>\n",
              "      <td>MASCULINO</td>\n",
              "      <td>2004</td>\n",
              "      <td>1735</td>\n",
              "    </tr>\n",
              "    <tr>\n",
              "      <th>3</th>\n",
              "      <td>MASCULINO</td>\n",
              "      <td>1998</td>\n",
              "      <td>46</td>\n",
              "    </tr>\n",
              "    <tr>\n",
              "      <th>4</th>\n",
              "      <td>MASCULINO</td>\n",
              "      <td>2006</td>\n",
              "      <td>46</td>\n",
              "    </tr>\n",
              "    <tr>\n",
              "      <th>5</th>\n",
              "      <td>MASCULINO</td>\n",
              "      <td>2002</td>\n",
              "      <td>43</td>\n",
              "    </tr>\n",
              "    <tr>\n",
              "      <th>6</th>\n",
              "      <td>MASCULINO</td>\n",
              "      <td>1994</td>\n",
              "      <td>36</td>\n",
              "    </tr>\n",
              "  </tbody>\n",
              "</table>\n",
              "</div>\n",
              "      <button class=\"colab-df-convert\" onclick=\"convertToInteractive('df-a8dcd6af-04c0-40a1-9153-48195f821fe5')\"\n",
              "              title=\"Convert this dataframe to an interactive table.\"\n",
              "              style=\"display:none;\">\n",
              "        \n",
              "  <svg xmlns=\"http://www.w3.org/2000/svg\" height=\"24px\"viewBox=\"0 0 24 24\"\n",
              "       width=\"24px\">\n",
              "    <path d=\"M0 0h24v24H0V0z\" fill=\"none\"/>\n",
              "    <path d=\"M18.56 5.44l.94 2.06.94-2.06 2.06-.94-2.06-.94-.94-2.06-.94 2.06-2.06.94zm-11 1L8.5 8.5l.94-2.06 2.06-.94-2.06-.94L8.5 2.5l-.94 2.06-2.06.94zm10 10l.94 2.06.94-2.06 2.06-.94-2.06-.94-.94-2.06-.94 2.06-2.06.94z\"/><path d=\"M17.41 7.96l-1.37-1.37c-.4-.4-.92-.59-1.43-.59-.52 0-1.04.2-1.43.59L10.3 9.45l-7.72 7.72c-.78.78-.78 2.05 0 2.83L4 21.41c.39.39.9.59 1.41.59.51 0 1.02-.2 1.41-.59l7.78-7.78 2.81-2.81c.8-.78.8-2.07 0-2.86zM5.41 20L4 18.59l7.72-7.72 1.47 1.35L5.41 20z\"/>\n",
              "  </svg>\n",
              "      </button>\n",
              "      \n",
              "  <style>\n",
              "    .colab-df-container {\n",
              "      display:flex;\n",
              "      flex-wrap:wrap;\n",
              "      gap: 12px;\n",
              "    }\n",
              "\n",
              "    .colab-df-convert {\n",
              "      background-color: #E8F0FE;\n",
              "      border: none;\n",
              "      border-radius: 50%;\n",
              "      cursor: pointer;\n",
              "      display: none;\n",
              "      fill: #1967D2;\n",
              "      height: 32px;\n",
              "      padding: 0 0 0 0;\n",
              "      width: 32px;\n",
              "    }\n",
              "\n",
              "    .colab-df-convert:hover {\n",
              "      background-color: #E2EBFA;\n",
              "      box-shadow: 0px 1px 2px rgba(60, 64, 67, 0.3), 0px 1px 3px 1px rgba(60, 64, 67, 0.15);\n",
              "      fill: #174EA6;\n",
              "    }\n",
              "\n",
              "    [theme=dark] .colab-df-convert {\n",
              "      background-color: #3B4455;\n",
              "      fill: #D2E3FC;\n",
              "    }\n",
              "\n",
              "    [theme=dark] .colab-df-convert:hover {\n",
              "      background-color: #434B5C;\n",
              "      box-shadow: 0px 1px 3px 1px rgba(0, 0, 0, 0.15);\n",
              "      filter: drop-shadow(0px 1px 2px rgba(0, 0, 0, 0.3));\n",
              "      fill: #FFFFFF;\n",
              "    }\n",
              "  </style>\n",
              "\n",
              "      <script>\n",
              "        const buttonEl =\n",
              "          document.querySelector('#df-a8dcd6af-04c0-40a1-9153-48195f821fe5 button.colab-df-convert');\n",
              "        buttonEl.style.display =\n",
              "          google.colab.kernel.accessAllowed ? 'block' : 'none';\n",
              "\n",
              "        async function convertToInteractive(key) {\n",
              "          const element = document.querySelector('#df-a8dcd6af-04c0-40a1-9153-48195f821fe5');\n",
              "          const dataTable =\n",
              "            await google.colab.kernel.invokeFunction('convertToInteractive',\n",
              "                                                     [key], {});\n",
              "          if (!dataTable) return;\n",
              "\n",
              "          const docLinkHtml = 'Like what you see? Visit the ' +\n",
              "            '<a target=\"_blank\" href=https://colab.research.google.com/notebooks/data_table.ipynb>data table notebook</a>'\n",
              "            + ' to learn more about interactive tables.';\n",
              "          element.innerHTML = '';\n",
              "          dataTable['output_type'] = 'display_data';\n",
              "          await google.colab.output.renderOutput(dataTable, element);\n",
              "          const docLink = document.createElement('div');\n",
              "          docLink.innerHTML = docLinkHtml;\n",
              "          element.appendChild(docLink);\n",
              "        }\n",
              "      </script>\n",
              "    </div>\n",
              "  </div>\n",
              "  "
            ]
          },
          "metadata": {},
          "execution_count": 84
        }
      ]
    },
    {
      "cell_type": "markdown",
      "source": [
        "**Qual partido mais gastou com candidaturas**"
      ],
      "metadata": {
        "id": "C7FXhfwjZPUp"
      }
    },
    {
      "cell_type": "code",
      "source": [
        "#Utilizando sql para contabilizar qual partidos mais gasta com campanhas\n",
        "query = \"\"\"SELECT SG_PARTIDO as sigla_partido,SUM(VR_DESPESA_MAX_CAMPANHA) total_gastos_eleicao\n",
        "           FROM candidatos_goias\n",
        "           GROUP BY SG_PARTIDO\n",
        "           ORDER BY SUM(VR_DESPESA_MAX_CAMPANHA) DESC\n",
        "           \"\"\"\n",
        "ps.sqldf(query.lower(), locals())"
      ],
      "metadata": {
        "colab": {
          "base_uri": "https://localhost:8080/",
          "height": 1000
        },
        "id": "kZwduxo4a-Bb",
        "outputId": "0ffbb54f-1d82-4b0f-8af9-86002e92636d"
      },
      "execution_count": null,
      "outputs": [
        {
          "output_type": "execute_result",
          "data": {
            "text/plain": [
              "   sigla_partido  total_gastos_eleicao\n",
              "0           PSDC          5.653654e+08\n",
              "1            PSB          4.222221e+08\n",
              "2           PSDB          4.077675e+08\n",
              "3           PMDB          4.034069e+08\n",
              "4           PRTB          3.538376e+08\n",
              "5             PP          3.231887e+08\n",
              "6            PTN          2.679220e+08\n",
              "7             PT          2.511653e+08\n",
              "8            PTB          2.241234e+08\n",
              "9            PDT          2.028163e+08\n",
              "10            PR          1.489192e+08\n",
              "11       PT do B          1.483443e+08\n",
              "12           DEM          1.453539e+08\n",
              "13           PPS          1.245848e+08\n",
              "14           PFL          1.090340e+08\n",
              "15            PL          1.087219e+08\n",
              "16           PSC          9.504145e+07\n",
              "17           PRB          8.071099e+07\n",
              "18           PPB          6.949510e+07\n",
              "19           PHS          6.488723e+07\n",
              "20            PV          5.727342e+07\n",
              "21           PMN          5.275210e+07\n",
              "22           PTC          4.827890e+07\n",
              "23           PRP          3.851564e+07\n",
              "24          PSOL          3.779599e+07\n",
              "25       PC do B          3.501229e+07\n",
              "26           PSL          3.162334e+07\n",
              "27           PAN          1.877292e+07\n",
              "28           PST          1.350246e+07\n",
              "29         PRONA          8.550282e+06\n",
              "30           PSD          4.497072e+06\n",
              "31           PGT          2.499751e+06\n",
              "32           PCB          2.402985e+06\n",
              "33          PSTU          7.848550e+05\n",
              "34           PCO          2.600000e+05\n",
              "35       PC DO B         -3.000000e+01\n",
              "36           PRN         -4.800000e+01\n",
              "37       PT DO B         -1.260000e+02\n",
              "38           PPR         -1.530000e+02"
            ],
            "text/html": [
              "\n",
              "  <div id=\"df-c53ce32f-228a-4b7c-980b-d8a0861e224f\">\n",
              "    <div class=\"colab-df-container\">\n",
              "      <div>\n",
              "<style scoped>\n",
              "    .dataframe tbody tr th:only-of-type {\n",
              "        vertical-align: middle;\n",
              "    }\n",
              "\n",
              "    .dataframe tbody tr th {\n",
              "        vertical-align: top;\n",
              "    }\n",
              "\n",
              "    .dataframe thead th {\n",
              "        text-align: right;\n",
              "    }\n",
              "</style>\n",
              "<table border=\"1\" class=\"dataframe\">\n",
              "  <thead>\n",
              "    <tr style=\"text-align: right;\">\n",
              "      <th></th>\n",
              "      <th>sigla_partido</th>\n",
              "      <th>total_gastos_eleicao</th>\n",
              "    </tr>\n",
              "  </thead>\n",
              "  <tbody>\n",
              "    <tr>\n",
              "      <th>0</th>\n",
              "      <td>PSDC</td>\n",
              "      <td>5.653654e+08</td>\n",
              "    </tr>\n",
              "    <tr>\n",
              "      <th>1</th>\n",
              "      <td>PSB</td>\n",
              "      <td>4.222221e+08</td>\n",
              "    </tr>\n",
              "    <tr>\n",
              "      <th>2</th>\n",
              "      <td>PSDB</td>\n",
              "      <td>4.077675e+08</td>\n",
              "    </tr>\n",
              "    <tr>\n",
              "      <th>3</th>\n",
              "      <td>PMDB</td>\n",
              "      <td>4.034069e+08</td>\n",
              "    </tr>\n",
              "    <tr>\n",
              "      <th>4</th>\n",
              "      <td>PRTB</td>\n",
              "      <td>3.538376e+08</td>\n",
              "    </tr>\n",
              "    <tr>\n",
              "      <th>5</th>\n",
              "      <td>PP</td>\n",
              "      <td>3.231887e+08</td>\n",
              "    </tr>\n",
              "    <tr>\n",
              "      <th>6</th>\n",
              "      <td>PTN</td>\n",
              "      <td>2.679220e+08</td>\n",
              "    </tr>\n",
              "    <tr>\n",
              "      <th>7</th>\n",
              "      <td>PT</td>\n",
              "      <td>2.511653e+08</td>\n",
              "    </tr>\n",
              "    <tr>\n",
              "      <th>8</th>\n",
              "      <td>PTB</td>\n",
              "      <td>2.241234e+08</td>\n",
              "    </tr>\n",
              "    <tr>\n",
              "      <th>9</th>\n",
              "      <td>PDT</td>\n",
              "      <td>2.028163e+08</td>\n",
              "    </tr>\n",
              "    <tr>\n",
              "      <th>10</th>\n",
              "      <td>PR</td>\n",
              "      <td>1.489192e+08</td>\n",
              "    </tr>\n",
              "    <tr>\n",
              "      <th>11</th>\n",
              "      <td>PT do B</td>\n",
              "      <td>1.483443e+08</td>\n",
              "    </tr>\n",
              "    <tr>\n",
              "      <th>12</th>\n",
              "      <td>DEM</td>\n",
              "      <td>1.453539e+08</td>\n",
              "    </tr>\n",
              "    <tr>\n",
              "      <th>13</th>\n",
              "      <td>PPS</td>\n",
              "      <td>1.245848e+08</td>\n",
              "    </tr>\n",
              "    <tr>\n",
              "      <th>14</th>\n",
              "      <td>PFL</td>\n",
              "      <td>1.090340e+08</td>\n",
              "    </tr>\n",
              "    <tr>\n",
              "      <th>15</th>\n",
              "      <td>PL</td>\n",
              "      <td>1.087219e+08</td>\n",
              "    </tr>\n",
              "    <tr>\n",
              "      <th>16</th>\n",
              "      <td>PSC</td>\n",
              "      <td>9.504145e+07</td>\n",
              "    </tr>\n",
              "    <tr>\n",
              "      <th>17</th>\n",
              "      <td>PRB</td>\n",
              "      <td>8.071099e+07</td>\n",
              "    </tr>\n",
              "    <tr>\n",
              "      <th>18</th>\n",
              "      <td>PPB</td>\n",
              "      <td>6.949510e+07</td>\n",
              "    </tr>\n",
              "    <tr>\n",
              "      <th>19</th>\n",
              "      <td>PHS</td>\n",
              "      <td>6.488723e+07</td>\n",
              "    </tr>\n",
              "    <tr>\n",
              "      <th>20</th>\n",
              "      <td>PV</td>\n",
              "      <td>5.727342e+07</td>\n",
              "    </tr>\n",
              "    <tr>\n",
              "      <th>21</th>\n",
              "      <td>PMN</td>\n",
              "      <td>5.275210e+07</td>\n",
              "    </tr>\n",
              "    <tr>\n",
              "      <th>22</th>\n",
              "      <td>PTC</td>\n",
              "      <td>4.827890e+07</td>\n",
              "    </tr>\n",
              "    <tr>\n",
              "      <th>23</th>\n",
              "      <td>PRP</td>\n",
              "      <td>3.851564e+07</td>\n",
              "    </tr>\n",
              "    <tr>\n",
              "      <th>24</th>\n",
              "      <td>PSOL</td>\n",
              "      <td>3.779599e+07</td>\n",
              "    </tr>\n",
              "    <tr>\n",
              "      <th>25</th>\n",
              "      <td>PC do B</td>\n",
              "      <td>3.501229e+07</td>\n",
              "    </tr>\n",
              "    <tr>\n",
              "      <th>26</th>\n",
              "      <td>PSL</td>\n",
              "      <td>3.162334e+07</td>\n",
              "    </tr>\n",
              "    <tr>\n",
              "      <th>27</th>\n",
              "      <td>PAN</td>\n",
              "      <td>1.877292e+07</td>\n",
              "    </tr>\n",
              "    <tr>\n",
              "      <th>28</th>\n",
              "      <td>PST</td>\n",
              "      <td>1.350246e+07</td>\n",
              "    </tr>\n",
              "    <tr>\n",
              "      <th>29</th>\n",
              "      <td>PRONA</td>\n",
              "      <td>8.550282e+06</td>\n",
              "    </tr>\n",
              "    <tr>\n",
              "      <th>30</th>\n",
              "      <td>PSD</td>\n",
              "      <td>4.497072e+06</td>\n",
              "    </tr>\n",
              "    <tr>\n",
              "      <th>31</th>\n",
              "      <td>PGT</td>\n",
              "      <td>2.499751e+06</td>\n",
              "    </tr>\n",
              "    <tr>\n",
              "      <th>32</th>\n",
              "      <td>PCB</td>\n",
              "      <td>2.402985e+06</td>\n",
              "    </tr>\n",
              "    <tr>\n",
              "      <th>33</th>\n",
              "      <td>PSTU</td>\n",
              "      <td>7.848550e+05</td>\n",
              "    </tr>\n",
              "    <tr>\n",
              "      <th>34</th>\n",
              "      <td>PCO</td>\n",
              "      <td>2.600000e+05</td>\n",
              "    </tr>\n",
              "    <tr>\n",
              "      <th>35</th>\n",
              "      <td>PC DO B</td>\n",
              "      <td>-3.000000e+01</td>\n",
              "    </tr>\n",
              "    <tr>\n",
              "      <th>36</th>\n",
              "      <td>PRN</td>\n",
              "      <td>-4.800000e+01</td>\n",
              "    </tr>\n",
              "    <tr>\n",
              "      <th>37</th>\n",
              "      <td>PT DO B</td>\n",
              "      <td>-1.260000e+02</td>\n",
              "    </tr>\n",
              "    <tr>\n",
              "      <th>38</th>\n",
              "      <td>PPR</td>\n",
              "      <td>-1.530000e+02</td>\n",
              "    </tr>\n",
              "  </tbody>\n",
              "</table>\n",
              "</div>\n",
              "      <button class=\"colab-df-convert\" onclick=\"convertToInteractive('df-c53ce32f-228a-4b7c-980b-d8a0861e224f')\"\n",
              "              title=\"Convert this dataframe to an interactive table.\"\n",
              "              style=\"display:none;\">\n",
              "        \n",
              "  <svg xmlns=\"http://www.w3.org/2000/svg\" height=\"24px\"viewBox=\"0 0 24 24\"\n",
              "       width=\"24px\">\n",
              "    <path d=\"M0 0h24v24H0V0z\" fill=\"none\"/>\n",
              "    <path d=\"M18.56 5.44l.94 2.06.94-2.06 2.06-.94-2.06-.94-.94-2.06-.94 2.06-2.06.94zm-11 1L8.5 8.5l.94-2.06 2.06-.94-2.06-.94L8.5 2.5l-.94 2.06-2.06.94zm10 10l.94 2.06.94-2.06 2.06-.94-2.06-.94-.94-2.06-.94 2.06-2.06.94z\"/><path d=\"M17.41 7.96l-1.37-1.37c-.4-.4-.92-.59-1.43-.59-.52 0-1.04.2-1.43.59L10.3 9.45l-7.72 7.72c-.78.78-.78 2.05 0 2.83L4 21.41c.39.39.9.59 1.41.59.51 0 1.02-.2 1.41-.59l7.78-7.78 2.81-2.81c.8-.78.8-2.07 0-2.86zM5.41 20L4 18.59l7.72-7.72 1.47 1.35L5.41 20z\"/>\n",
              "  </svg>\n",
              "      </button>\n",
              "      \n",
              "  <style>\n",
              "    .colab-df-container {\n",
              "      display:flex;\n",
              "      flex-wrap:wrap;\n",
              "      gap: 12px;\n",
              "    }\n",
              "\n",
              "    .colab-df-convert {\n",
              "      background-color: #E8F0FE;\n",
              "      border: none;\n",
              "      border-radius: 50%;\n",
              "      cursor: pointer;\n",
              "      display: none;\n",
              "      fill: #1967D2;\n",
              "      height: 32px;\n",
              "      padding: 0 0 0 0;\n",
              "      width: 32px;\n",
              "    }\n",
              "\n",
              "    .colab-df-convert:hover {\n",
              "      background-color: #E2EBFA;\n",
              "      box-shadow: 0px 1px 2px rgba(60, 64, 67, 0.3), 0px 1px 3px 1px rgba(60, 64, 67, 0.15);\n",
              "      fill: #174EA6;\n",
              "    }\n",
              "\n",
              "    [theme=dark] .colab-df-convert {\n",
              "      background-color: #3B4455;\n",
              "      fill: #D2E3FC;\n",
              "    }\n",
              "\n",
              "    [theme=dark] .colab-df-convert:hover {\n",
              "      background-color: #434B5C;\n",
              "      box-shadow: 0px 1px 3px 1px rgba(0, 0, 0, 0.15);\n",
              "      filter: drop-shadow(0px 1px 2px rgba(0, 0, 0, 0.3));\n",
              "      fill: #FFFFFF;\n",
              "    }\n",
              "  </style>\n",
              "\n",
              "      <script>\n",
              "        const buttonEl =\n",
              "          document.querySelector('#df-c53ce32f-228a-4b7c-980b-d8a0861e224f button.colab-df-convert');\n",
              "        buttonEl.style.display =\n",
              "          google.colab.kernel.accessAllowed ? 'block' : 'none';\n",
              "\n",
              "        async function convertToInteractive(key) {\n",
              "          const element = document.querySelector('#df-c53ce32f-228a-4b7c-980b-d8a0861e224f');\n",
              "          const dataTable =\n",
              "            await google.colab.kernel.invokeFunction('convertToInteractive',\n",
              "                                                     [key], {});\n",
              "          if (!dataTable) return;\n",
              "\n",
              "          const docLinkHtml = 'Like what you see? Visit the ' +\n",
              "            '<a target=\"_blank\" href=https://colab.research.google.com/notebooks/data_table.ipynb>data table notebook</a>'\n",
              "            + ' to learn more about interactive tables.';\n",
              "          element.innerHTML = '';\n",
              "          dataTable['output_type'] = 'display_data';\n",
              "          await google.colab.output.renderOutput(dataTable, element);\n",
              "          const docLink = document.createElement('div');\n",
              "          docLink.innerHTML = docLinkHtml;\n",
              "          element.appendChild(docLink);\n",
              "        }\n",
              "      </script>\n",
              "    </div>\n",
              "  </div>\n",
              "  "
            ]
          },
          "metadata": {},
          "execution_count": 85
        }
      ]
    },
    {
      "cell_type": "markdown",
      "source": [
        "**Total gasto em campanhas por ano**"
      ],
      "metadata": {
        "id": "IxKdmT9XunR-"
      }
    },
    {
      "cell_type": "code",
      "source": [
        "#Utilizando sql para contabilizar qual partidos mais gasta com campanhas\n",
        "query = \"\"\"SELECT ANO_ELEICAO,SUM(VR_DESPESA_MAX_CAMPANHA) total_gastos_eleicao\n",
        "           FROM candidatos_goias\n",
        "           GROUP BY ANO_ELEICAO\n",
        "           ORDER BY SUM(VR_DESPESA_MAX_CAMPANHA) DESC\n",
        "           \"\"\"\n",
        "ps.sqldf(query.lower(), locals())"
      ],
      "metadata": {
        "colab": {
          "base_uri": "https://localhost:8080/",
          "height": 300
        },
        "id": "T_vT4Wq1uqgY",
        "outputId": "4ab3402f-bd2e-4d98-d604-eef59f2f1078"
      },
      "execution_count": null,
      "outputs": [
        {
          "output_type": "execute_result",
          "data": {
            "text/plain": [
              "   ANO_ELEICAO  total_gastos_eleicao\n",
              "0         2008          2.544675e+09\n",
              "1         2004          1.384828e+09\n",
              "2         2006          6.445800e+08\n",
              "3         2002          2.953963e+08\n",
              "4         1994         -1.509000e+03\n",
              "5         1998         -1.533000e+03\n",
              "6         1996         -1.854000e+03\n",
              "7         2000         -4.431300e+04"
            ],
            "text/html": [
              "\n",
              "  <div id=\"df-1ab7eb01-e7aa-4fbb-b872-a91f94c5b94e\">\n",
              "    <div class=\"colab-df-container\">\n",
              "      <div>\n",
              "<style scoped>\n",
              "    .dataframe tbody tr th:only-of-type {\n",
              "        vertical-align: middle;\n",
              "    }\n",
              "\n",
              "    .dataframe tbody tr th {\n",
              "        vertical-align: top;\n",
              "    }\n",
              "\n",
              "    .dataframe thead th {\n",
              "        text-align: right;\n",
              "    }\n",
              "</style>\n",
              "<table border=\"1\" class=\"dataframe\">\n",
              "  <thead>\n",
              "    <tr style=\"text-align: right;\">\n",
              "      <th></th>\n",
              "      <th>ANO_ELEICAO</th>\n",
              "      <th>total_gastos_eleicao</th>\n",
              "    </tr>\n",
              "  </thead>\n",
              "  <tbody>\n",
              "    <tr>\n",
              "      <th>0</th>\n",
              "      <td>2008</td>\n",
              "      <td>2.544675e+09</td>\n",
              "    </tr>\n",
              "    <tr>\n",
              "      <th>1</th>\n",
              "      <td>2004</td>\n",
              "      <td>1.384828e+09</td>\n",
              "    </tr>\n",
              "    <tr>\n",
              "      <th>2</th>\n",
              "      <td>2006</td>\n",
              "      <td>6.445800e+08</td>\n",
              "    </tr>\n",
              "    <tr>\n",
              "      <th>3</th>\n",
              "      <td>2002</td>\n",
              "      <td>2.953963e+08</td>\n",
              "    </tr>\n",
              "    <tr>\n",
              "      <th>4</th>\n",
              "      <td>1994</td>\n",
              "      <td>-1.509000e+03</td>\n",
              "    </tr>\n",
              "    <tr>\n",
              "      <th>5</th>\n",
              "      <td>1998</td>\n",
              "      <td>-1.533000e+03</td>\n",
              "    </tr>\n",
              "    <tr>\n",
              "      <th>6</th>\n",
              "      <td>1996</td>\n",
              "      <td>-1.854000e+03</td>\n",
              "    </tr>\n",
              "    <tr>\n",
              "      <th>7</th>\n",
              "      <td>2000</td>\n",
              "      <td>-4.431300e+04</td>\n",
              "    </tr>\n",
              "  </tbody>\n",
              "</table>\n",
              "</div>\n",
              "      <button class=\"colab-df-convert\" onclick=\"convertToInteractive('df-1ab7eb01-e7aa-4fbb-b872-a91f94c5b94e')\"\n",
              "              title=\"Convert this dataframe to an interactive table.\"\n",
              "              style=\"display:none;\">\n",
              "        \n",
              "  <svg xmlns=\"http://www.w3.org/2000/svg\" height=\"24px\"viewBox=\"0 0 24 24\"\n",
              "       width=\"24px\">\n",
              "    <path d=\"M0 0h24v24H0V0z\" fill=\"none\"/>\n",
              "    <path d=\"M18.56 5.44l.94 2.06.94-2.06 2.06-.94-2.06-.94-.94-2.06-.94 2.06-2.06.94zm-11 1L8.5 8.5l.94-2.06 2.06-.94-2.06-.94L8.5 2.5l-.94 2.06-2.06.94zm10 10l.94 2.06.94-2.06 2.06-.94-2.06-.94-.94-2.06-.94 2.06-2.06.94z\"/><path d=\"M17.41 7.96l-1.37-1.37c-.4-.4-.92-.59-1.43-.59-.52 0-1.04.2-1.43.59L10.3 9.45l-7.72 7.72c-.78.78-.78 2.05 0 2.83L4 21.41c.39.39.9.59 1.41.59.51 0 1.02-.2 1.41-.59l7.78-7.78 2.81-2.81c.8-.78.8-2.07 0-2.86zM5.41 20L4 18.59l7.72-7.72 1.47 1.35L5.41 20z\"/>\n",
              "  </svg>\n",
              "      </button>\n",
              "      \n",
              "  <style>\n",
              "    .colab-df-container {\n",
              "      display:flex;\n",
              "      flex-wrap:wrap;\n",
              "      gap: 12px;\n",
              "    }\n",
              "\n",
              "    .colab-df-convert {\n",
              "      background-color: #E8F0FE;\n",
              "      border: none;\n",
              "      border-radius: 50%;\n",
              "      cursor: pointer;\n",
              "      display: none;\n",
              "      fill: #1967D2;\n",
              "      height: 32px;\n",
              "      padding: 0 0 0 0;\n",
              "      width: 32px;\n",
              "    }\n",
              "\n",
              "    .colab-df-convert:hover {\n",
              "      background-color: #E2EBFA;\n",
              "      box-shadow: 0px 1px 2px rgba(60, 64, 67, 0.3), 0px 1px 3px 1px rgba(60, 64, 67, 0.15);\n",
              "      fill: #174EA6;\n",
              "    }\n",
              "\n",
              "    [theme=dark] .colab-df-convert {\n",
              "      background-color: #3B4455;\n",
              "      fill: #D2E3FC;\n",
              "    }\n",
              "\n",
              "    [theme=dark] .colab-df-convert:hover {\n",
              "      background-color: #434B5C;\n",
              "      box-shadow: 0px 1px 3px 1px rgba(0, 0, 0, 0.15);\n",
              "      filter: drop-shadow(0px 1px 2px rgba(0, 0, 0, 0.3));\n",
              "      fill: #FFFFFF;\n",
              "    }\n",
              "  </style>\n",
              "\n",
              "      <script>\n",
              "        const buttonEl =\n",
              "          document.querySelector('#df-1ab7eb01-e7aa-4fbb-b872-a91f94c5b94e button.colab-df-convert');\n",
              "        buttonEl.style.display =\n",
              "          google.colab.kernel.accessAllowed ? 'block' : 'none';\n",
              "\n",
              "        async function convertToInteractive(key) {\n",
              "          const element = document.querySelector('#df-1ab7eb01-e7aa-4fbb-b872-a91f94c5b94e');\n",
              "          const dataTable =\n",
              "            await google.colab.kernel.invokeFunction('convertToInteractive',\n",
              "                                                     [key], {});\n",
              "          if (!dataTable) return;\n",
              "\n",
              "          const docLinkHtml = 'Like what you see? Visit the ' +\n",
              "            '<a target=\"_blank\" href=https://colab.research.google.com/notebooks/data_table.ipynb>data table notebook</a>'\n",
              "            + ' to learn more about interactive tables.';\n",
              "          element.innerHTML = '';\n",
              "          dataTable['output_type'] = 'display_data';\n",
              "          await google.colab.output.renderOutput(dataTable, element);\n",
              "          const docLink = document.createElement('div');\n",
              "          docLink.innerHTML = docLinkHtml;\n",
              "          element.appendChild(docLink);\n",
              "        }\n",
              "      </script>\n",
              "    </div>\n",
              "  </div>\n",
              "  "
            ]
          },
          "metadata": {},
          "execution_count": 86
        }
      ]
    },
    {
      "cell_type": "markdown",
      "source": [
        "**Gráfico de linha de gastos em campanhas por ano**"
      ],
      "metadata": {
        "id": "SyNbPjg_vAV0"
      }
    },
    {
      "cell_type": "code",
      "source": [
        "plt.figure(figsize=(13,5))\n",
        "sns.lineplot(x=candidatos_goias['ANO_ELEICAO'],y=candidatos_goias['VR_DESPESA_MAX_CAMPANHA'], color='green')\n",
        "plt.xlabel('GASTOS CAMPANHA')\n",
        "plt.ylabel('ANO ELEICAO')\n",
        "plt.show()"
      ],
      "metadata": {
        "colab": {
          "base_uri": "https://localhost:8080/",
          "height": 345
        },
        "id": "q4KFOY6uvD5e",
        "outputId": "452a6b2f-6916-44d3-e1aa-3fb6ce1529d9"
      },
      "execution_count": null,
      "outputs": [
        {
          "output_type": "display_data",
          "data": {
            "text/plain": [
              "<Figure size 936x360 with 1 Axes>"
            ],
            "image/png": "[encoded data removed]"
          },
          "metadata": {
            "needs_background": "light"
          }
        }
      ]
    },
    {
      "cell_type": "markdown",
      "source": [
        "**Top 10 dos partidos que mais gastam com campanhas**"
      ],
      "metadata": {
        "id": "Uda0NEzJtHor"
      }
    },
    {
      "cell_type": "code",
      "source": [
        "#Utilizando sql para contabilizar qual partidos mais gasta com campanhas\n",
        "query = \"\"\"SELECT SG_PARTIDO as sigla_partido,SUM(VR_DESPESA_MAX_CAMPANHA) total_gastos_eleicao\n",
        "           FROM candidatos_goias\n",
        "           GROUP BY SG_PARTIDO\n",
        "           ORDER BY SUM(VR_DESPESA_MAX_CAMPANHA) DESC\n",
        "           LIMIT 10\n",
        "           \"\"\"\n",
        "ps.sqldf(query.lower(), locals())"
      ],
      "metadata": {
        "colab": {
          "base_uri": "https://localhost:8080/",
          "height": 363
        },
        "id": "ZgN_AvRGqC0R",
        "outputId": "5ad3f7d9-cce4-4638-9767-b7dcc9ef0d76"
      },
      "execution_count": null,
      "outputs": [
        {
          "output_type": "execute_result",
          "data": {
            "text/plain": [
              "  sigla_partido  total_gastos_eleicao\n",
              "0          PSDC          5.653654e+08\n",
              "1           PSB          4.222221e+08\n",
              "2          PSDB          4.077675e+08\n",
              "3          PMDB          4.034069e+08\n",
              "4          PRTB          3.538376e+08\n",
              "5            PP          3.231887e+08\n",
              "6           PTN          2.679220e+08\n",
              "7            PT          2.511653e+08\n",
              "8           PTB          2.241234e+08\n",
              "9           PDT          2.028163e+08"
            ],
            "text/html": [
              "\n",
              "  <div id=\"df-c978ed1b-149b-4f14-9bf2-998b4e16de54\">\n",
              "    <div class=\"colab-df-container\">\n",
              "      <div>\n",
              "<style scoped>\n",
              "    .dataframe tbody tr th:only-of-type {\n",
              "        vertical-align: middle;\n",
              "    }\n",
              "\n",
              "    .dataframe tbody tr th {\n",
              "        vertical-align: top;\n",
              "    }\n",
              "\n",
              "    .dataframe thead th {\n",
              "        text-align: right;\n",
              "    }\n",
              "</style>\n",
              "<table border=\"1\" class=\"dataframe\">\n",
              "  <thead>\n",
              "    <tr style=\"text-align: right;\">\n",
              "      <th></th>\n",
              "      <th>sigla_partido</th>\n",
              "      <th>total_gastos_eleicao</th>\n",
              "    </tr>\n",
              "  </thead>\n",
              "  <tbody>\n",
              "    <tr>\n",
              "      <th>0</th>\n",
              "      <td>PSDC</td>\n",
              "      <td>5.653654e+08</td>\n",
              "    </tr>\n",
              "    <tr>\n",
              "      <th>1</th>\n",
              "      <td>PSB</td>\n",
              "      <td>4.222221e+08</td>\n",
              "    </tr>\n",
              "    <tr>\n",
              "      <th>2</th>\n",
              "      <td>PSDB</td>\n",
              "      <td>4.077675e+08</td>\n",
              "    </tr>\n",
              "    <tr>\n",
              "      <th>3</th>\n",
              "      <td>PMDB</td>\n",
              "      <td>4.034069e+08</td>\n",
              "    </tr>\n",
              "    <tr>\n",
              "      <th>4</th>\n",
              "      <td>PRTB</td>\n",
              "      <td>3.538376e+08</td>\n",
              "    </tr>\n",
              "    <tr>\n",
              "      <th>5</th>\n",
              "      <td>PP</td>\n",
              "      <td>3.231887e+08</td>\n",
              "    </tr>\n",
              "    <tr>\n",
              "      <th>6</th>\n",
              "      <td>PTN</td>\n",
              "      <td>2.679220e+08</td>\n",
              "    </tr>\n",
              "    <tr>\n",
              "      <th>7</th>\n",
              "      <td>PT</td>\n",
              "      <td>2.511653e+08</td>\n",
              "    </tr>\n",
              "    <tr>\n",
              "      <th>8</th>\n",
              "      <td>PTB</td>\n",
              "      <td>2.241234e+08</td>\n",
              "    </tr>\n",
              "    <tr>\n",
              "      <th>9</th>\n",
              "      <td>PDT</td>\n",
              "      <td>2.028163e+08</td>\n",
              "    </tr>\n",
              "  </tbody>\n",
              "</table>\n",
              "</div>\n",
              "      <button class=\"colab-df-convert\" onclick=\"convertToInteractive('df-c978ed1b-149b-4f14-9bf2-998b4e16de54')\"\n",
              "              title=\"Convert this dataframe to an interactive table.\"\n",
              "              style=\"display:none;\">\n",
              "        \n",
              "  <svg xmlns=\"http://www.w3.org/2000/svg\" height=\"24px\"viewBox=\"0 0 24 24\"\n",
              "       width=\"24px\">\n",
              "    <path d=\"M0 0h24v24H0V0z\" fill=\"none\"/>\n",
              "    <path d=\"M18.56 5.44l.94 2.06.94-2.06 2.06-.94-2.06-.94-.94-2.06-.94 2.06-2.06.94zm-11 1L8.5 8.5l.94-2.06 2.06-.94-2.06-.94L8.5 2.5l-.94 2.06-2.06.94zm10 10l.94 2.06.94-2.06 2.06-.94-2.06-.94-.94-2.06-.94 2.06-2.06.94z\"/><path d=\"M17.41 7.96l-1.37-1.37c-.4-.4-.92-.59-1.43-.59-.52 0-1.04.2-1.43.59L10.3 9.45l-7.72 7.72c-.78.78-.78 2.05 0 2.83L4 21.41c.39.39.9.59 1.41.59.51 0 1.02-.2 1.41-.59l7.78-7.78 2.81-2.81c.8-.78.8-2.07 0-2.86zM5.41 20L4 18.59l7.72-7.72 1.47 1.35L5.41 20z\"/>\n",
              "  </svg>\n",
              "      </button>\n",
              "      \n",
              "  <style>\n",
              "    .colab-df-container {\n",
              "      display:flex;\n",
              "      flex-wrap:wrap;\n",
              "      gap: 12px;\n",
              "    }\n",
              "\n",
              "    .colab-df-convert {\n",
              "      background-color: #E8F0FE;\n",
              "      border: none;\n",
              "      border-radius: 50%;\n",
              "      cursor: pointer;\n",
              "      display: none;\n",
              "      fill: #1967D2;\n",
              "      height: 32px;\n",
              "      padding: 0 0 0 0;\n",
              "      width: 32px;\n",
              "    }\n",
              "\n",
              "    .colab-df-convert:hover {\n",
              "      background-color: #E2EBFA;\n",
              "      box-shadow: 0px 1px 2px rgba(60, 64, 67, 0.3), 0px 1px 3px 1px rgba(60, 64, 67, 0.15);\n",
              "      fill: #174EA6;\n",
              "    }\n",
              "\n",
              "    [theme=dark] .colab-df-convert {\n",
              "      background-color: #3B4455;\n",
              "      fill: #D2E3FC;\n",
              "    }\n",
              "\n",
              "    [theme=dark] .colab-df-convert:hover {\n",
              "      background-color: #434B5C;\n",
              "      box-shadow: 0px 1px 3px 1px rgba(0, 0, 0, 0.15);\n",
              "      filter: drop-shadow(0px 1px 2px rgba(0, 0, 0, 0.3));\n",
              "      fill: #FFFFFF;\n",
              "    }\n",
              "  </style>\n",
              "\n",
              "      <script>\n",
              "        const buttonEl =\n",
              "          document.querySelector('#df-c978ed1b-149b-4f14-9bf2-998b4e16de54 button.colab-df-convert');\n",
              "        buttonEl.style.display =\n",
              "          google.colab.kernel.accessAllowed ? 'block' : 'none';\n",
              "\n",
              "        async function convertToInteractive(key) {\n",
              "          const element = document.querySelector('#df-c978ed1b-149b-4f14-9bf2-998b4e16de54');\n",
              "          const dataTable =\n",
              "            await google.colab.kernel.invokeFunction('convertToInteractive',\n",
              "                                                     [key], {});\n",
              "          if (!dataTable) return;\n",
              "\n",
              "          const docLinkHtml = 'Like what you see? Visit the ' +\n",
              "            '<a target=\"_blank\" href=https://colab.research.google.com/notebooks/data_table.ipynb>data table notebook</a>'\n",
              "            + ' to learn more about interactive tables.';\n",
              "          element.innerHTML = '';\n",
              "          dataTable['output_type'] = 'display_data';\n",
              "          await google.colab.output.renderOutput(dataTable, element);\n",
              "          const docLink = document.createElement('div');\n",
              "          docLink.innerHTML = docLinkHtml;\n",
              "          element.appendChild(docLink);\n",
              "        }\n",
              "      </script>\n",
              "    </div>\n",
              "  </div>\n",
              "  "
            ]
          },
          "metadata": {},
          "execution_count": 88
        }
      ]
    },
    {
      "cell_type": "markdown",
      "source": [
        "**Gasto dos partidos em campanhas por genero**"
      ],
      "metadata": {
        "id": "XaM45dQ6sBh1"
      }
    },
    {
      "cell_type": "markdown",
      "source": [
        "`Gasto dos partidos em campanhas genero feminino`"
      ],
      "metadata": {
        "id": "Krr4_0OrsG-v"
      }
    },
    {
      "cell_type": "code",
      "source": [
        "gasto_partido_feminino = candidatos_goias[candidatos_goias['DS_GENERO'] == \"FEMININO\"]"
      ],
      "metadata": {
        "id": "rIDvy_SOtOTC"
      },
      "execution_count": null,
      "outputs": []
    },
    {
      "cell_type": "code",
      "source": [
        "plt.figure(figsize=(13,5))\n",
        "sns.lineplot(x=gasto_partido_feminino['ANO_ELEICAO'],y=gasto_partido_feminino['VR_DESPESA_MAX_CAMPANHA'], color='pink')\n",
        "plt.xlabel('Avg price')\n",
        "plt.ylabel('years')\n",
        "plt.show()"
      ],
      "metadata": {
        "colab": {
          "base_uri": "https://localhost:8080/",
          "height": 345
        },
        "id": "87rChwuWsq-5",
        "outputId": "37bddb0c-e8e0-4995-ec57-bd95b695de6f"
      },
      "execution_count": null,
      "outputs": [
        {
          "output_type": "display_data",
          "data": {
            "text/plain": [
              "<Figure size 936x360 with 1 Axes>"
            ],
            "image/png": "[encoded data removed]"
          },
          "metadata": {
            "needs_background": "light"
          }
        }
      ]
    },
    {
      "cell_type": "markdown",
      "source": [
        "`Gasto dos partidos em campanhas genero Masculino`"
      ],
      "metadata": {
        "id": "FKhKeo3pt5Tt"
      }
    },
    {
      "cell_type": "code",
      "source": [
        "gasto_partido_masculino = candidatos_goias[candidatos_goias['DS_GENERO'] == \"MASCULINO\"]"
      ],
      "metadata": {
        "id": "xKx5JDRgtCyr"
      },
      "execution_count": null,
      "outputs": []
    },
    {
      "cell_type": "code",
      "source": [
        "plt.figure(figsize=(13,5))\n",
        "sns.lineplot(x=gasto_partido_masculino['ANO_ELEICAO'],y=gasto_partido_masculino['VR_DESPESA_MAX_CAMPANHA'], color='blue')\n",
        "plt.xlabel('Avg price')\n",
        "plt.ylabel('years')\n",
        "plt.show()"
      ],
      "metadata": {
        "colab": {
          "base_uri": "https://localhost:8080/",
          "height": 345
        },
        "id": "YNp6NO1utJWn",
        "outputId": "e94b6452-c3fc-4638-8081-3b22ca2b9e74"
      },
      "execution_count": null,
      "outputs": [
        {
          "output_type": "display_data",
          "data": {
            "text/plain": [
              "<Figure size 936x360 with 1 Axes>"
            ],
            "image/png": "[encoded data removed]"
          },
          "metadata": {
            "needs_background": "light"
          }
        }
      ]
    },
    {
      "cell_type": "markdown",
      "source": [
        "**Total geram gasto em campanhas mulhere X homens**"
      ],
      "metadata": {
        "id": "ft9j3fhNGO9V"
      }
    },
    {
      "cell_type": "markdown",
      "source": [
        "`Gastos geral em campanhas sexo feminino`"
      ],
      "metadata": {
        "id": "nHIhAPvOGbvH"
      }
    },
    {
      "cell_type": "code",
      "source": [
        "gasto_partido_feminino = candidatos_goias[candidatos_goias['DS_GENERO'] == \"FEMININO\"]"
      ],
      "metadata": {
        "id": "rhg7YG8yvrxR"
      },
      "execution_count": null,
      "outputs": []
    },
    {
      "cell_type": "code",
      "source": [
        "gasto_partido_feminino['VR_DESPESA_MAX_CAMPANHA'].sum()"
      ],
      "metadata": {
        "colab": {
          "base_uri": "https://localhost:8080/"
        },
        "id": "eOnen1R-GSno",
        "outputId": "8fd4fa69-111c-40c5-c5f8-9710519d7740"
      },
      "execution_count": null,
      "outputs": [
        {
          "output_type": "execute_result",
          "data": {
            "text/plain": [
              "684520451.88"
            ]
          },
          "metadata": {},
          "execution_count": 94
        }
      ]
    },
    {
      "cell_type": "markdown",
      "source": [
        "Total gasto em campanhas do genero feminino é : <br>seiscentos e oitenta e quatro milhões e quinhentos e vinte mil quatrocentos e cinquenta e um reais </br>e oitenta e oito centavos"
      ],
      "metadata": {
        "id": "rP3XU73THOSf"
      }
    },
    {
      "cell_type": "markdown",
      "source": [
        "`Gastos geral em campanhas sexo masculino`"
      ],
      "metadata": {
        "id": "1LGkjSuJGhCS"
      }
    },
    {
      "cell_type": "code",
      "source": [
        "gasto_partido_masculino = candidatos_goias[candidatos_goias['DS_GENERO'] == \"MASCULINO\"]"
      ],
      "metadata": {
        "id": "XKcGHTF2GWBO"
      },
      "execution_count": null,
      "outputs": []
    },
    {
      "cell_type": "code",
      "source": [
        "gasto_partido_masculino['VR_DESPESA_MAX_CAMPANHA'].sum()"
      ],
      "metadata": {
        "colab": {
          "base_uri": "https://localhost:8080/"
        },
        "id": "SNYWSg0nGlK_",
        "outputId": "e2128939-f278-4a4b-dbcc-417ef6d580f5"
      },
      "execution_count": null,
      "outputs": [
        {
          "output_type": "execute_result",
          "data": {
            "text/plain": [
              "4183650209.2799997"
            ]
          },
          "metadata": {},
          "execution_count": 96
        }
      ]
    },
    {
      "cell_type": "markdown",
      "source": [
        "Total gasto em campanhas do sexo masculino é: </br>\n",
        "quatro bilhões e cento e oitenta e três milhões e seiscentos e cinquenta mil duzentos e </br>nove reais e vinte e oito centavos"
      ],
      "metadata": {
        "id": "tRjZOi86HrKA"
      }
    },
    {
      "cell_type": "markdown",
      "source": [
        "`Diferença de gastos mulheres X homens `"
      ],
      "metadata": {
        "id": "gllvGKn_G_B_"
      }
    },
    {
      "cell_type": "code",
      "source": [
        "diferença = (4183650209.2799997 - 684520451.88)\n",
        "diferença"
      ],
      "metadata": {
        "colab": {
          "base_uri": "https://localhost:8080/"
        },
        "id": "LTJFsUjwGnX5",
        "outputId": "6fe4f95f-ccfd-491a-8b22-0a839defa510"
      },
      "execution_count": null,
      "outputs": [
        {
          "output_type": "execute_result",
          "data": {
            "text/plain": [
              "3499129757.3999996"
            ]
          },
          "metadata": {},
          "execution_count": 97
        }
      ]
    },
    {
      "cell_type": "markdown",
      "source": [
        "Diferença de : Três bilhões e quatrocentos e noventa e nove milhões e cento e vinte </br> e nove mil setecentos e cinquenta e sete reais e quarenta centavos"
      ],
      "metadata": {
        "id": "Ghu8MmDnJdmf"
      }
    },
    {
      "cell_type": "markdown",
      "source": [
        "**Comparando esses valores com os anos de 2004 em que teve mais mulheres e homens candidatos**"
      ],
      "metadata": {
        "id": "a6uwSFF9IFMo"
      }
    },
    {
      "cell_type": "markdown",
      "source": [
        "`Gasto com campanhas no ano de 2004 genero feminino`"
      ],
      "metadata": {
        "id": "1w1NOLiJIL9q"
      }
    },
    {
      "cell_type": "code",
      "source": [
        "gasto_camapanha_feminino = candidatos_goias[candidatos_goias['DS_GENERO'] == \"FEMININO\"]\n",
        "gasto_camapanha_feminino = gasto_camapanha_feminino [gasto_camapanha_feminino ['ANO_ELEICAO'] == 2004]\n",
        "gasto_camapanha_feminino['VR_DESPESA_MAX_CAMPANHA'].sum()"
      ],
      "metadata": {
        "colab": {
          "base_uri": "https://localhost:8080/"
        },
        "id": "mqI5QZTlHH_2",
        "outputId": "04610858-b5d3-4a44-e050-c441ed50d08a"
      },
      "execution_count": null,
      "outputs": [
        {
          "output_type": "execute_result",
          "data": {
            "text/plain": [
              "98192968.77"
            ]
          },
          "metadata": {},
          "execution_count": 98
        }
      ]
    },
    {
      "cell_type": "markdown",
      "source": [
        "Gasto de camapanha do genero feminino 2004 é :Noventa e oito milhões e cento e noventa<br> e dois mil novecentos e sessenta e oito reais <br>e setenta e sete centavos"
      ],
      "metadata": {
        "id": "0qsWyo1iI8G2"
      }
    },
    {
      "cell_type": "markdown",
      "source": [
        "`Gasto com campanhas no ano de 2004 genero masculino`"
      ],
      "metadata": {
        "id": "BV2dVQZoItvw"
      }
    },
    {
      "cell_type": "code",
      "source": [
        "gasto_camapanha_masculino = candidatos_goias[candidatos_goias['DS_GENERO'] == \"MASCULINO\"]\n",
        "gasto_camapanha_masculino= gasto_camapanha_masculino[gasto_camapanha_masculino['ANO_ELEICAO'] == 2004]\n",
        "gasto_camapanha_masculino['VR_DESPESA_MAX_CAMPANHA'].sum()"
      ],
      "metadata": {
        "colab": {
          "base_uri": "https://localhost:8080/"
        },
        "id": "Ize3E-q4IcD4",
        "outputId": "6de1ae10-08a5-4c8a-fb18-7a8e274d07d9"
      },
      "execution_count": null,
      "outputs": [
        {
          "output_type": "execute_result",
          "data": {
            "text/plain": [
              "1286623624.62"
            ]
          },
          "metadata": {},
          "execution_count": 99
        }
      ]
    },
    {
      "cell_type": "markdown",
      "source": [
        "Gasto de camapanha do genero masculino 2004 é : Um bilhão e duzentos e oitenta <br> e seis milhões e seiscentos e vinte e três mil seiscentos <br> e vinte e quatro reais e sessenta e dois centavos"
      ],
      "metadata": {
        "id": "5nKSM_j4JIU2"
      }
    },
    {
      "cell_type": "markdown",
      "source": [
        "`Diferença de gastos mulheres X homens ano de 2004 `"
      ],
      "metadata": {
        "id": "1quf3Ne5Jwje"
      }
    },
    {
      "cell_type": "code",
      "source": [
        "diferença = (1286623624.62 - 98192968.77)\n",
        "diferença"
      ],
      "metadata": {
        "colab": {
          "base_uri": "https://localhost:8080/"
        },
        "id": "3xmi3DOvI4z4",
        "outputId": "7b920ebd-6d7d-4af2-8e58-524aebd0e436"
      },
      "execution_count": null,
      "outputs": [
        {
          "output_type": "execute_result",
          "data": {
            "text/plain": [
              "1188430655.85"
            ]
          },
          "metadata": {},
          "execution_count": 100
        }
      ]
    },
    {
      "cell_type": "markdown",
      "source": [
        "Diferença de : Um bilhão e cento e oitenta e oito milhões e quatrocentos e trinta mil </br>seiscentos e cinquenta e cinco reais e oitenta e cinco centavos"
      ],
      "metadata": {
        "id": "vDKbM3-AKBmH"
      }
    },
    {
      "cell_type": "markdown",
      "source": [
        "**Qual ideologia mais frequente**"
      ],
      "metadata": {
        "id": "cyG8Xupy2mbu"
      }
    },
    {
      "cell_type": "code",
      "source": [
        "fig = plt.figure(figsize=(10,5))\n",
        "grafico = sns.countplot('ESPECTRO_PARTIDOS', order = candidatos_goias['ESPECTRO_PARTIDOS'].value_counts().index, palette=\"Paired\",  data =  candidatos_goias)\n",
        "plt.xticks(rotation=90)\n",
        "for i in grafico.patches:\n",
        "   grafico.annotate(i.get_height(),\n",
        "                  (i.get_x() + i.get_width() / 2, i.get_height()),\n",
        "                  ha='center',\n",
        "                  va='baseline',\n",
        "                  fontsize=12,\n",
        "                  color='black',\n",
        "                  xytext=(0, 1),\n",
        "                  textcoords='offset points');  \n",
        "plt.xlabel('espectro', fontsize=15)\n",
        "plt.ylabel(' ')\n",
        "plt.title('Grafico quantidade espectro partidos',fontsize=15);"
      ],
      "metadata": {
        "id": "FFLwqfFDJ99p",
        "colab": {
          "base_uri": "https://localhost:8080/",
          "height": 457
        },
        "outputId": "af027f97-8813-4455-e75c-bc6e769a30ee"
      },
      "execution_count": null,
      "outputs": [
        {
          "output_type": "stream",
          "name": "stderr",
          "text": [
            "/usr/local/lib/python3.7/dist-packages/seaborn/_decorators.py:43: FutureWarning: Pass the following variable as a keyword arg: x. From version 0.12, the only valid positional argument will be `data`, and passing other arguments without an explicit keyword will result in an error or misinterpretation.\n",
            "  FutureWarning\n"
          ]
        },
        {
          "output_type": "display_data",
          "data": {
            "text/plain": [
              "<Figure size 720x360 with 1 Axes>"
            ],
            "image/png": "[encoded data removed]"
          },
          "metadata": {
            "needs_background": "light"
          }
        }
      ]
    },
    {
      "cell_type": "markdown",
      "source": [
        "**Qual ideologia mais ganhou eleições**"
      ],
      "metadata": {
        "id": "hm0NDzkO4k0v"
      }
    },
    {
      "cell_type": "code",
      "source": [
        "espectro = candidatos_goias[candidatos_goias['DS_SIT_TOT_TURNO'] == \"ELEITO\"]"
      ],
      "metadata": {
        "id": "TTqvX9HoaBpe"
      },
      "execution_count": null,
      "outputs": []
    },
    {
      "cell_type": "code",
      "source": [
        "#Utilizando sql para contabilizar qual ideologia mais ganhou eleições\n",
        "query = \"\"\"SELECT ESPECTRO_PARTIDOS, COUNT(ESPECTRO_PARTIDOS) \n",
        "           FROM espectro\n",
        "           GROUP BY ESPECTRO_PARTIDOS\n",
        "           \"\"\"\n",
        "ps.sqldf(query.lower(), locals())"
      ],
      "metadata": {
        "id": "EfaZ6dUV20aV",
        "colab": {
          "base_uri": "https://localhost:8080/",
          "height": 143
        },
        "outputId": "7fbc2e8f-1108-4f3f-de4b-a05f903ef9af"
      },
      "execution_count": null,
      "outputs": [
        {
          "output_type": "execute_result",
          "data": {
            "text/plain": [
              "  ESPECTRO_PARTIDOS  count(espectro_partidos)\n",
              "0            CENTRO                      4030\n",
              "1           DIREITA                      1705\n",
              "2          ESQUERDA                       723"
            ],
            "text/html": [
              "\n",
              "  <div id=\"df-3b6bc6b9-3ebd-4aa9-bfbb-77b2a898fbdf\">\n",
              "    <div class=\"colab-df-container\">\n",
              "      <div>\n",
              "<style scoped>\n",
              "    .dataframe tbody tr th:only-of-type {\n",
              "        vertical-align: middle;\n",
              "    }\n",
              "\n",
              "    .dataframe tbody tr th {\n",
              "        vertical-align: top;\n",
              "    }\n",
              "\n",
              "    .dataframe thead th {\n",
              "        text-align: right;\n",
              "    }\n",
              "</style>\n",
              "<table border=\"1\" class=\"dataframe\">\n",
              "  <thead>\n",
              "    <tr style=\"text-align: right;\">\n",
              "      <th></th>\n",
              "      <th>ESPECTRO_PARTIDOS</th>\n",
              "      <th>count(espectro_partidos)</th>\n",
              "    </tr>\n",
              "  </thead>\n",
              "  <tbody>\n",
              "    <tr>\n",
              "      <th>0</th>\n",
              "      <td>CENTRO</td>\n",
              "      <td>4030</td>\n",
              "    </tr>\n",
              "    <tr>\n",
              "      <th>1</th>\n",
              "      <td>DIREITA</td>\n",
              "      <td>1705</td>\n",
              "    </tr>\n",
              "    <tr>\n",
              "      <th>2</th>\n",
              "      <td>ESQUERDA</td>\n",
              "      <td>723</td>\n",
              "    </tr>\n",
              "  </tbody>\n",
              "</table>\n",
              "</div>\n",
              "      <button class=\"colab-df-convert\" onclick=\"convertToInteractive('df-3b6bc6b9-3ebd-4aa9-bfbb-77b2a898fbdf')\"\n",
              "              title=\"Convert this dataframe to an interactive table.\"\n",
              "              style=\"display:none;\">\n",
              "        \n",
              "  <svg xmlns=\"http://www.w3.org/2000/svg\" height=\"24px\"viewBox=\"0 0 24 24\"\n",
              "       width=\"24px\">\n",
              "    <path d=\"M0 0h24v24H0V0z\" fill=\"none\"/>\n",
              "    <path d=\"M18.56 5.44l.94 2.06.94-2.06 2.06-.94-2.06-.94-.94-2.06-.94 2.06-2.06.94zm-11 1L8.5 8.5l.94-2.06 2.06-.94-2.06-.94L8.5 2.5l-.94 2.06-2.06.94zm10 10l.94 2.06.94-2.06 2.06-.94-2.06-.94-.94-2.06-.94 2.06-2.06.94z\"/><path d=\"M17.41 7.96l-1.37-1.37c-.4-.4-.92-.59-1.43-.59-.52 0-1.04.2-1.43.59L10.3 9.45l-7.72 7.72c-.78.78-.78 2.05 0 2.83L4 21.41c.39.39.9.59 1.41.59.51 0 1.02-.2 1.41-.59l7.78-7.78 2.81-2.81c.8-.78.8-2.07 0-2.86zM5.41 20L4 18.59l7.72-7.72 1.47 1.35L5.41 20z\"/>\n",
              "  </svg>\n",
              "      </button>\n",
              "      \n",
              "  <style>\n",
              "    .colab-df-container {\n",
              "      display:flex;\n",
              "      flex-wrap:wrap;\n",
              "      gap: 12px;\n",
              "    }\n",
              "\n",
              "    .colab-df-convert {\n",
              "      background-color: #E8F0FE;\n",
              "      border: none;\n",
              "      border-radius: 50%;\n",
              "      cursor: pointer;\n",
              "      display: none;\n",
              "      fill: #1967D2;\n",
              "      height: 32px;\n",
              "      padding: 0 0 0 0;\n",
              "      width: 32px;\n",
              "    }\n",
              "\n",
              "    .colab-df-convert:hover {\n",
              "      background-color: #E2EBFA;\n",
              "      box-shadow: 0px 1px 2px rgba(60, 64, 67, 0.3), 0px 1px 3px 1px rgba(60, 64, 67, 0.15);\n",
              "      fill: #174EA6;\n",
              "    }\n",
              "\n",
              "    [theme=dark] .colab-df-convert {\n",
              "      background-color: #3B4455;\n",
              "      fill: #D2E3FC;\n",
              "    }\n",
              "\n",
              "    [theme=dark] .colab-df-convert:hover {\n",
              "      background-color: #434B5C;\n",
              "      box-shadow: 0px 1px 3px 1px rgba(0, 0, 0, 0.15);\n",
              "      filter: drop-shadow(0px 1px 2px rgba(0, 0, 0, 0.3));\n",
              "      fill: #FFFFFF;\n",
              "    }\n",
              "  </style>\n",
              "\n",
              "      <script>\n",
              "        const buttonEl =\n",
              "          document.querySelector('#df-3b6bc6b9-3ebd-4aa9-bfbb-77b2a898fbdf button.colab-df-convert');\n",
              "        buttonEl.style.display =\n",
              "          google.colab.kernel.accessAllowed ? 'block' : 'none';\n",
              "\n",
              "        async function convertToInteractive(key) {\n",
              "          const element = document.querySelector('#df-3b6bc6b9-3ebd-4aa9-bfbb-77b2a898fbdf');\n",
              "          const dataTable =\n",
              "            await google.colab.kernel.invokeFunction('convertToInteractive',\n",
              "                                                     [key], {});\n",
              "          if (!dataTable) return;\n",
              "\n",
              "          const docLinkHtml = 'Like what you see? Visit the ' +\n",
              "            '<a target=\"_blank\" href=https://colab.research.google.com/notebooks/data_table.ipynb>data table notebook</a>'\n",
              "            + ' to learn more about interactive tables.';\n",
              "          element.innerHTML = '';\n",
              "          dataTable['output_type'] = 'display_data';\n",
              "          await google.colab.output.renderOutput(dataTable, element);\n",
              "          const docLink = document.createElement('div');\n",
              "          docLink.innerHTML = docLinkHtml;\n",
              "          element.appendChild(docLink);\n",
              "        }\n",
              "      </script>\n",
              "    </div>\n",
              "  </div>\n",
              "  "
            ]
          },
          "metadata": {},
          "execution_count": 107
        }
      ]
    },
    {
      "cell_type": "markdown",
      "source": [
        "**Qual ideologia tem mais mulheres x homens eleitos**"
      ],
      "metadata": {
        "id": "s4zN1FwYZpPu"
      }
    },
    {
      "cell_type": "markdown",
      "source": [
        "`Ideologia que foram mais mulheres eleitas`\n",
        "\n",
        "\n",
        "\n",
        "\n"
      ],
      "metadata": {
        "id": "B5dFoaAZbZjf"
      }
    },
    {
      "cell_type": "code",
      "source": [
        "espectro = candidatos_goias[candidatos_goias['DS_SIT_TOT_TURNO'] == \"ELEITO\"]\n",
        "espectro_feminino = espectro[espectro['DS_GENERO'] == \"FEMININO\"]"
      ],
      "metadata": {
        "id": "swTkqW57bDuf"
      },
      "execution_count": null,
      "outputs": []
    },
    {
      "cell_type": "code",
      "source": [
        "#Utilizando sql para contabilizar qual ideologia mais ganhou eleições\n",
        "query = \"\"\"SELECT DS_GENERO, ESPECTRO_PARTIDOS, COUNT(ESPECTRO_PARTIDOS) \n",
        "           FROM espectro_feminino\n",
        "           GROUP BY ESPECTRO_PARTIDOS\n",
        "           \"\"\"\n",
        "ps.sqldf(query.lower(), locals())"
      ],
      "metadata": {
        "id": "C2qyFdzx4qGF",
        "colab": {
          "base_uri": "https://localhost:8080/",
          "height": 143
        },
        "outputId": "f5141ea4-99d8-4930-dd03-f4ccb73dd62b"
      },
      "execution_count": null,
      "outputs": [
        {
          "output_type": "execute_result",
          "data": {
            "text/plain": [
              "  DS_GENERO ESPECTRO_PARTIDOS  count(espectro_partidos)\n",
              "0  FEMININO            CENTRO                       520\n",
              "1  FEMININO           DIREITA                       177\n",
              "2  FEMININO          ESQUERDA                        76"
            ],
            "text/html": [
              "\n",
              "  <div id=\"df-e2861d1e-3fd1-4a67-a7cc-b3186d544d87\">\n",
              "    <div class=\"colab-df-container\">\n",
              "      <div>\n",
              "<style scoped>\n",
              "    .dataframe tbody tr th:only-of-type {\n",
              "        vertical-align: middle;\n",
              "    }\n",
              "\n",
              "    .dataframe tbody tr th {\n",
              "        vertical-align: top;\n",
              "    }\n",
              "\n",
              "    .dataframe thead th {\n",
              "        text-align: right;\n",
              "    }\n",
              "</style>\n",
              "<table border=\"1\" class=\"dataframe\">\n",
              "  <thead>\n",
              "    <tr style=\"text-align: right;\">\n",
              "      <th></th>\n",
              "      <th>DS_GENERO</th>\n",
              "      <th>ESPECTRO_PARTIDOS</th>\n",
              "      <th>count(espectro_partidos)</th>\n",
              "    </tr>\n",
              "  </thead>\n",
              "  <tbody>\n",
              "    <tr>\n",
              "      <th>0</th>\n",
              "      <td>FEMININO</td>\n",
              "      <td>CENTRO</td>\n",
              "      <td>520</td>\n",
              "    </tr>\n",
              "    <tr>\n",
              "      <th>1</th>\n",
              "      <td>FEMININO</td>\n",
              "      <td>DIREITA</td>\n",
              "      <td>177</td>\n",
              "    </tr>\n",
              "    <tr>\n",
              "      <th>2</th>\n",
              "      <td>FEMININO</td>\n",
              "      <td>ESQUERDA</td>\n",
              "      <td>76</td>\n",
              "    </tr>\n",
              "  </tbody>\n",
              "</table>\n",
              "</div>\n",
              "      <button class=\"colab-df-convert\" onclick=\"convertToInteractive('df-e2861d1e-3fd1-4a67-a7cc-b3186d544d87')\"\n",
              "              title=\"Convert this dataframe to an interactive table.\"\n",
              "              style=\"display:none;\">\n",
              "        \n",
              "  <svg xmlns=\"http://www.w3.org/2000/svg\" height=\"24px\"viewBox=\"0 0 24 24\"\n",
              "       width=\"24px\">\n",
              "    <path d=\"M0 0h24v24H0V0z\" fill=\"none\"/>\n",
              "    <path d=\"M18.56 5.44l.94 2.06.94-2.06 2.06-.94-2.06-.94-.94-2.06-.94 2.06-2.06.94zm-11 1L8.5 8.5l.94-2.06 2.06-.94-2.06-.94L8.5 2.5l-.94 2.06-2.06.94zm10 10l.94 2.06.94-2.06 2.06-.94-2.06-.94-.94-2.06-.94 2.06-2.06.94z\"/><path d=\"M17.41 7.96l-1.37-1.37c-.4-.4-.92-.59-1.43-.59-.52 0-1.04.2-1.43.59L10.3 9.45l-7.72 7.72c-.78.78-.78 2.05 0 2.83L4 21.41c.39.39.9.59 1.41.59.51 0 1.02-.2 1.41-.59l7.78-7.78 2.81-2.81c.8-.78.8-2.07 0-2.86zM5.41 20L4 18.59l7.72-7.72 1.47 1.35L5.41 20z\"/>\n",
              "  </svg>\n",
              "      </button>\n",
              "      \n",
              "  <style>\n",
              "    .colab-df-container {\n",
              "      display:flex;\n",
              "      flex-wrap:wrap;\n",
              "      gap: 12px;\n",
              "    }\n",
              "\n",
              "    .colab-df-convert {\n",
              "      background-color: #E8F0FE;\n",
              "      border: none;\n",
              "      border-radius: 50%;\n",
              "      cursor: pointer;\n",
              "      display: none;\n",
              "      fill: #1967D2;\n",
              "      height: 32px;\n",
              "      padding: 0 0 0 0;\n",
              "      width: 32px;\n",
              "    }\n",
              "\n",
              "    .colab-df-convert:hover {\n",
              "      background-color: #E2EBFA;\n",
              "      box-shadow: 0px 1px 2px rgba(60, 64, 67, 0.3), 0px 1px 3px 1px rgba(60, 64, 67, 0.15);\n",
              "      fill: #174EA6;\n",
              "    }\n",
              "\n",
              "    [theme=dark] .colab-df-convert {\n",
              "      background-color: #3B4455;\n",
              "      fill: #D2E3FC;\n",
              "    }\n",
              "\n",
              "    [theme=dark] .colab-df-convert:hover {\n",
              "      background-color: #434B5C;\n",
              "      box-shadow: 0px 1px 3px 1px rgba(0, 0, 0, 0.15);\n",
              "      filter: drop-shadow(0px 1px 2px rgba(0, 0, 0, 0.3));\n",
              "      fill: #FFFFFF;\n",
              "    }\n",
              "  </style>\n",
              "\n",
              "      <script>\n",
              "        const buttonEl =\n",
              "          document.querySelector('#df-e2861d1e-3fd1-4a67-a7cc-b3186d544d87 button.colab-df-convert');\n",
              "        buttonEl.style.display =\n",
              "          google.colab.kernel.accessAllowed ? 'block' : 'none';\n",
              "\n",
              "        async function convertToInteractive(key) {\n",
              "          const element = document.querySelector('#df-e2861d1e-3fd1-4a67-a7cc-b3186d544d87');\n",
              "          const dataTable =\n",
              "            await google.colab.kernel.invokeFunction('convertToInteractive',\n",
              "                                                     [key], {});\n",
              "          if (!dataTable) return;\n",
              "\n",
              "          const docLinkHtml = 'Like what you see? Visit the ' +\n",
              "            '<a target=\"_blank\" href=https://colab.research.google.com/notebooks/data_table.ipynb>data table notebook</a>'\n",
              "            + ' to learn more about interactive tables.';\n",
              "          element.innerHTML = '';\n",
              "          dataTable['output_type'] = 'display_data';\n",
              "          await google.colab.output.renderOutput(dataTable, element);\n",
              "          const docLink = document.createElement('div');\n",
              "          docLink.innerHTML = docLinkHtml;\n",
              "          element.appendChild(docLink);\n",
              "        }\n",
              "      </script>\n",
              "    </div>\n",
              "  </div>\n",
              "  "
            ]
          },
          "metadata": {},
          "execution_count": 115
        }
      ]
    },
    {
      "cell_type": "markdown",
      "source": [
        "`Ideologia que foram mais homens eleitas`"
      ],
      "metadata": {
        "id": "9CtfDgjObhzB"
      }
    },
    {
      "cell_type": "code",
      "source": [
        "espectro = candidatos_goias[candidatos_goias['DS_SIT_TOT_TURNO'] == \"ELEITO\"]\n",
        "espectro_masculino = espectro[espectro['DS_GENERO'] == \"MASCULINO\"]"
      ],
      "metadata": {
        "id": "LG2OeUIebk4m"
      },
      "execution_count": null,
      "outputs": []
    },
    {
      "cell_type": "code",
      "source": [
        "#Utilizando sql para contabilizar qual ideologia mais ganhou eleições\n",
        "query = \"\"\"SELECT DS_GENERO, ESPECTRO_PARTIDOS, COUNT(ESPECTRO_PARTIDOS) \n",
        "           FROM espectro_masculino\n",
        "           GROUP BY ESPECTRO_PARTIDOS\n",
        "           \"\"\"\n",
        "ps.sqldf(query.lower(), locals())"
      ],
      "metadata": {
        "colab": {
          "base_uri": "https://localhost:8080/",
          "height": 143
        },
        "id": "3ajXh3Qva4Zv",
        "outputId": "e07f4b55-87ba-4e1f-95aa-2bdba5ad2dbb"
      },
      "execution_count": null,
      "outputs": [
        {
          "output_type": "execute_result",
          "data": {
            "text/plain": [
              "   DS_GENERO ESPECTRO_PARTIDOS  count(espectro_partidos)\n",
              "0  MASCULINO            CENTRO                      3491\n",
              "1  MASCULINO           DIREITA                      1512\n",
              "2  MASCULINO          ESQUERDA                       640"
            ],
            "text/html": [
              "\n",
              "  <div id=\"df-1a561d64-0d5a-4221-951e-b233ef762b10\">\n",
              "    <div class=\"colab-df-container\">\n",
              "      <div>\n",
              "<style scoped>\n",
              "    .dataframe tbody tr th:only-of-type {\n",
              "        vertical-align: middle;\n",
              "    }\n",
              "\n",
              "    .dataframe tbody tr th {\n",
              "        vertical-align: top;\n",
              "    }\n",
              "\n",
              "    .dataframe thead th {\n",
              "        text-align: right;\n",
              "    }\n",
              "</style>\n",
              "<table border=\"1\" class=\"dataframe\">\n",
              "  <thead>\n",
              "    <tr style=\"text-align: right;\">\n",
              "      <th></th>\n",
              "      <th>DS_GENERO</th>\n",
              "      <th>ESPECTRO_PARTIDOS</th>\n",
              "      <th>count(espectro_partidos)</th>\n",
              "    </tr>\n",
              "  </thead>\n",
              "  <tbody>\n",
              "    <tr>\n",
              "      <th>0</th>\n",
              "      <td>MASCULINO</td>\n",
              "      <td>CENTRO</td>\n",
              "      <td>3491</td>\n",
              "    </tr>\n",
              "    <tr>\n",
              "      <th>1</th>\n",
              "      <td>MASCULINO</td>\n",
              "      <td>DIREITA</td>\n",
              "      <td>1512</td>\n",
              "    </tr>\n",
              "    <tr>\n",
              "      <th>2</th>\n",
              "      <td>MASCULINO</td>\n",
              "      <td>ESQUERDA</td>\n",
              "      <td>640</td>\n",
              "    </tr>\n",
              "  </tbody>\n",
              "</table>\n",
              "</div>\n",
              "      <button class=\"colab-df-convert\" onclick=\"convertToInteractive('df-1a561d64-0d5a-4221-951e-b233ef762b10')\"\n",
              "              title=\"Convert this dataframe to an interactive table.\"\n",
              "              style=\"display:none;\">\n",
              "        \n",
              "  <svg xmlns=\"http://www.w3.org/2000/svg\" height=\"24px\"viewBox=\"0 0 24 24\"\n",
              "       width=\"24px\">\n",
              "    <path d=\"M0 0h24v24H0V0z\" fill=\"none\"/>\n",
              "    <path d=\"M18.56 5.44l.94 2.06.94-2.06 2.06-.94-2.06-.94-.94-2.06-.94 2.06-2.06.94zm-11 1L8.5 8.5l.94-2.06 2.06-.94-2.06-.94L8.5 2.5l-.94 2.06-2.06.94zm10 10l.94 2.06.94-2.06 2.06-.94-2.06-.94-.94-2.06-.94 2.06-2.06.94z\"/><path d=\"M17.41 7.96l-1.37-1.37c-.4-.4-.92-.59-1.43-.59-.52 0-1.04.2-1.43.59L10.3 9.45l-7.72 7.72c-.78.78-.78 2.05 0 2.83L4 21.41c.39.39.9.59 1.41.59.51 0 1.02-.2 1.41-.59l7.78-7.78 2.81-2.81c.8-.78.8-2.07 0-2.86zM5.41 20L4 18.59l7.72-7.72 1.47 1.35L5.41 20z\"/>\n",
              "  </svg>\n",
              "      </button>\n",
              "      \n",
              "  <style>\n",
              "    .colab-df-container {\n",
              "      display:flex;\n",
              "      flex-wrap:wrap;\n",
              "      gap: 12px;\n",
              "    }\n",
              "\n",
              "    .colab-df-convert {\n",
              "      background-color: #E8F0FE;\n",
              "      border: none;\n",
              "      border-radius: 50%;\n",
              "      cursor: pointer;\n",
              "      display: none;\n",
              "      fill: #1967D2;\n",
              "      height: 32px;\n",
              "      padding: 0 0 0 0;\n",
              "      width: 32px;\n",
              "    }\n",
              "\n",
              "    .colab-df-convert:hover {\n",
              "      background-color: #E2EBFA;\n",
              "      box-shadow: 0px 1px 2px rgba(60, 64, 67, 0.3), 0px 1px 3px 1px rgba(60, 64, 67, 0.15);\n",
              "      fill: #174EA6;\n",
              "    }\n",
              "\n",
              "    [theme=dark] .colab-df-convert {\n",
              "      background-color: #3B4455;\n",
              "      fill: #D2E3FC;\n",
              "    }\n",
              "\n",
              "    [theme=dark] .colab-df-convert:hover {\n",
              "      background-color: #434B5C;\n",
              "      box-shadow: 0px 1px 3px 1px rgba(0, 0, 0, 0.15);\n",
              "      filter: drop-shadow(0px 1px 2px rgba(0, 0, 0, 0.3));\n",
              "      fill: #FFFFFF;\n",
              "    }\n",
              "  </style>\n",
              "\n",
              "      <script>\n",
              "        const buttonEl =\n",
              "          document.querySelector('#df-1a561d64-0d5a-4221-951e-b233ef762b10 button.colab-df-convert');\n",
              "        buttonEl.style.display =\n",
              "          google.colab.kernel.accessAllowed ? 'block' : 'none';\n",
              "\n",
              "        async function convertToInteractive(key) {\n",
              "          const element = document.querySelector('#df-1a561d64-0d5a-4221-951e-b233ef762b10');\n",
              "          const dataTable =\n",
              "            await google.colab.kernel.invokeFunction('convertToInteractive',\n",
              "                                                     [key], {});\n",
              "          if (!dataTable) return;\n",
              "\n",
              "          const docLinkHtml = 'Like what you see? Visit the ' +\n",
              "            '<a target=\"_blank\" href=https://colab.research.google.com/notebooks/data_table.ipynb>data table notebook</a>'\n",
              "            + ' to learn more about interactive tables.';\n",
              "          element.innerHTML = '';\n",
              "          dataTable['output_type'] = 'display_data';\n",
              "          await google.colab.output.renderOutput(dataTable, element);\n",
              "          const docLink = document.createElement('div');\n",
              "          docLink.innerHTML = docLinkHtml;\n",
              "          element.appendChild(docLink);\n",
              "        }\n",
              "      </script>\n",
              "    </div>\n",
              "  </div>\n",
              "  "
            ]
          },
          "metadata": {},
          "execution_count": 117
        }
      ]
    },
    {
      "cell_type": "markdown",
      "source": [
        "**Quantas vezes mulheres x homens concorrerão a releicao**"
      ],
      "metadata": {
        "id": "5MtBZ_xQbwra"
      }
    },
    {
      "cell_type": "code",
      "source": [
        "releito_feminino = candidatos_goias[candidatos_goias['DS_GENERO'] == \"FEMININO\"]\n",
        "releito_masculino = candidatos_goias[candidatos_goias['DS_GENERO'] == \"MASCULINO\"]"
      ],
      "metadata": {
        "id": "MzCjI7V2cojz"
      },
      "execution_count": null,
      "outputs": []
    },
    {
      "cell_type": "code",
      "source": [
        "#Utilizando sql para contabilizar quantas vezes mulheres x homens concorrerão a releição\n",
        "query = \"\"\"SELECT DS_GENERO, ST_REELEICAO, COUNT(ST_REELEICAO) \n",
        "           FROM releito_feminino\n",
        "           GROUP BY ST_REELEICAO, DS_GENERO\n",
        "           \"\"\"\n",
        "ps.sqldf(query.lower(), locals())"
      ],
      "metadata": {
        "colab": {
          "base_uri": "https://localhost:8080/",
          "height": 143
        },
        "id": "01I8sGhYbqxv",
        "outputId": "9d9e456b-3add-477a-ce3e-da5d1a10ea70"
      },
      "execution_count": null,
      "outputs": [
        {
          "output_type": "execute_result",
          "data": {
            "text/plain": [
              "  DS_GENERO ST_REELEICAO  count(st_reeleicao)\n",
              "0  FEMININO          #NE                 2853\n",
              "1  FEMININO            N                 7016\n",
              "2  FEMININO            S                   48"
            ],
            "text/html": [
              "\n",
              "  <div id=\"df-1e79d0a9-2f77-4aea-9e82-df4d4fad4d4b\">\n",
              "    <div class=\"colab-df-container\">\n",
              "      <div>\n",
              "<style scoped>\n",
              "    .dataframe tbody tr th:only-of-type {\n",
              "        vertical-align: middle;\n",
              "    }\n",
              "\n",
              "    .dataframe tbody tr th {\n",
              "        vertical-align: top;\n",
              "    }\n",
              "\n",
              "    .dataframe thead th {\n",
              "        text-align: right;\n",
              "    }\n",
              "</style>\n",
              "<table border=\"1\" class=\"dataframe\">\n",
              "  <thead>\n",
              "    <tr style=\"text-align: right;\">\n",
              "      <th></th>\n",
              "      <th>DS_GENERO</th>\n",
              "      <th>ST_REELEICAO</th>\n",
              "      <th>count(st_reeleicao)</th>\n",
              "    </tr>\n",
              "  </thead>\n",
              "  <tbody>\n",
              "    <tr>\n",
              "      <th>0</th>\n",
              "      <td>FEMININO</td>\n",
              "      <td>#NE</td>\n",
              "      <td>2853</td>\n",
              "    </tr>\n",
              "    <tr>\n",
              "      <th>1</th>\n",
              "      <td>FEMININO</td>\n",
              "      <td>N</td>\n",
              "      <td>7016</td>\n",
              "    </tr>\n",
              "    <tr>\n",
              "      <th>2</th>\n",
              "      <td>FEMININO</td>\n",
              "      <td>S</td>\n",
              "      <td>48</td>\n",
              "    </tr>\n",
              "  </tbody>\n",
              "</table>\n",
              "</div>\n",
              "      <button class=\"colab-df-convert\" onclick=\"convertToInteractive('df-1e79d0a9-2f77-4aea-9e82-df4d4fad4d4b')\"\n",
              "              title=\"Convert this dataframe to an interactive table.\"\n",
              "              style=\"display:none;\">\n",
              "        \n",
              "  <svg xmlns=\"http://www.w3.org/2000/svg\" height=\"24px\"viewBox=\"0 0 24 24\"\n",
              "       width=\"24px\">\n",
              "    <path d=\"M0 0h24v24H0V0z\" fill=\"none\"/>\n",
              "    <path d=\"M18.56 5.44l.94 2.06.94-2.06 2.06-.94-2.06-.94-.94-2.06-.94 2.06-2.06.94zm-11 1L8.5 8.5l.94-2.06 2.06-.94-2.06-.94L8.5 2.5l-.94 2.06-2.06.94zm10 10l.94 2.06.94-2.06 2.06-.94-2.06-.94-.94-2.06-.94 2.06-2.06.94z\"/><path d=\"M17.41 7.96l-1.37-1.37c-.4-.4-.92-.59-1.43-.59-.52 0-1.04.2-1.43.59L10.3 9.45l-7.72 7.72c-.78.78-.78 2.05 0 2.83L4 21.41c.39.39.9.59 1.41.59.51 0 1.02-.2 1.41-.59l7.78-7.78 2.81-2.81c.8-.78.8-2.07 0-2.86zM5.41 20L4 18.59l7.72-7.72 1.47 1.35L5.41 20z\"/>\n",
              "  </svg>\n",
              "      </button>\n",
              "      \n",
              "  <style>\n",
              "    .colab-df-container {\n",
              "      display:flex;\n",
              "      flex-wrap:wrap;\n",
              "      gap: 12px;\n",
              "    }\n",
              "\n",
              "    .colab-df-convert {\n",
              "      background-color: #E8F0FE;\n",
              "      border: none;\n",
              "      border-radius: 50%;\n",
              "      cursor: pointer;\n",
              "      display: none;\n",
              "      fill: #1967D2;\n",
              "      height: 32px;\n",
              "      padding: 0 0 0 0;\n",
              "      width: 32px;\n",
              "    }\n",
              "\n",
              "    .colab-df-convert:hover {\n",
              "      background-color: #E2EBFA;\n",
              "      box-shadow: 0px 1px 2px rgba(60, 64, 67, 0.3), 0px 1px 3px 1px rgba(60, 64, 67, 0.15);\n",
              "      fill: #174EA6;\n",
              "    }\n",
              "\n",
              "    [theme=dark] .colab-df-convert {\n",
              "      background-color: #3B4455;\n",
              "      fill: #D2E3FC;\n",
              "    }\n",
              "\n",
              "    [theme=dark] .colab-df-convert:hover {\n",
              "      background-color: #434B5C;\n",
              "      box-shadow: 0px 1px 3px 1px rgba(0, 0, 0, 0.15);\n",
              "      filter: drop-shadow(0px 1px 2px rgba(0, 0, 0, 0.3));\n",
              "      fill: #FFFFFF;\n",
              "    }\n",
              "  </style>\n",
              "\n",
              "      <script>\n",
              "        const buttonEl =\n",
              "          document.querySelector('#df-1e79d0a9-2f77-4aea-9e82-df4d4fad4d4b button.colab-df-convert');\n",
              "        buttonEl.style.display =\n",
              "          google.colab.kernel.accessAllowed ? 'block' : 'none';\n",
              "\n",
              "        async function convertToInteractive(key) {\n",
              "          const element = document.querySelector('#df-1e79d0a9-2f77-4aea-9e82-df4d4fad4d4b');\n",
              "          const dataTable =\n",
              "            await google.colab.kernel.invokeFunction('convertToInteractive',\n",
              "                                                     [key], {});\n",
              "          if (!dataTable) return;\n",
              "\n",
              "          const docLinkHtml = 'Like what you see? Visit the ' +\n",
              "            '<a target=\"_blank\" href=https://colab.research.google.com/notebooks/data_table.ipynb>data table notebook</a>'\n",
              "            + ' to learn more about interactive tables.';\n",
              "          element.innerHTML = '';\n",
              "          dataTable['output_type'] = 'display_data';\n",
              "          await google.colab.output.renderOutput(dataTable, element);\n",
              "          const docLink = document.createElement('div');\n",
              "          docLink.innerHTML = docLinkHtml;\n",
              "          element.appendChild(docLink);\n",
              "        }\n",
              "      </script>\n",
              "    </div>\n",
              "  </div>\n",
              "  "
            ]
          },
          "metadata": {},
          "execution_count": 125
        }
      ]
    },
    {
      "cell_type": "code",
      "source": [
        "#Utilizando sql para contabilizar quantas vezes foi releito por genero\n",
        "query = \"\"\"SELECT DS_GENERO, ST_REELEICAO, COUNT(ST_REELEICAO) \n",
        "           FROM releito_masculino\n",
        "           GROUP BY ST_REELEICAO, DS_GENERO\n",
        "           \"\"\"\n",
        "ps.sqldf(query.lower(), locals())"
      ],
      "metadata": {
        "colab": {
          "base_uri": "https://localhost:8080/",
          "height": 143
        },
        "id": "DuZLfxQXc9hk",
        "outputId": "e670ad99-dacd-4eaa-e7ae-7555de2e4465"
      },
      "execution_count": null,
      "outputs": [
        {
          "output_type": "execute_result",
          "data": {
            "text/plain": [
              "   DS_GENERO ST_REELEICAO  count(st_reeleicao)\n",
              "0  MASCULINO          #NE                12930\n",
              "1  MASCULINO            N                26777\n",
              "2  MASCULINO            S                  368"
            ],
            "text/html": [
              "\n",
              "  <div id=\"df-d2078320-963c-49b1-9397-08b0c672db39\">\n",
              "    <div class=\"colab-df-container\">\n",
              "      <div>\n",
              "<style scoped>\n",
              "    .dataframe tbody tr th:only-of-type {\n",
              "        vertical-align: middle;\n",
              "    }\n",
              "\n",
              "    .dataframe tbody tr th {\n",
              "        vertical-align: top;\n",
              "    }\n",
              "\n",
              "    .dataframe thead th {\n",
              "        text-align: right;\n",
              "    }\n",
              "</style>\n",
              "<table border=\"1\" class=\"dataframe\">\n",
              "  <thead>\n",
              "    <tr style=\"text-align: right;\">\n",
              "      <th></th>\n",
              "      <th>DS_GENERO</th>\n",
              "      <th>ST_REELEICAO</th>\n",
              "      <th>count(st_reeleicao)</th>\n",
              "    </tr>\n",
              "  </thead>\n",
              "  <tbody>\n",
              "    <tr>\n",
              "      <th>0</th>\n",
              "      <td>MASCULINO</td>\n",
              "      <td>#NE</td>\n",
              "      <td>12930</td>\n",
              "    </tr>\n",
              "    <tr>\n",
              "      <th>1</th>\n",
              "      <td>MASCULINO</td>\n",
              "      <td>N</td>\n",
              "      <td>26777</td>\n",
              "    </tr>\n",
              "    <tr>\n",
              "      <th>2</th>\n",
              "      <td>MASCULINO</td>\n",
              "      <td>S</td>\n",
              "      <td>368</td>\n",
              "    </tr>\n",
              "  </tbody>\n",
              "</table>\n",
              "</div>\n",
              "      <button class=\"colab-df-convert\" onclick=\"convertToInteractive('df-d2078320-963c-49b1-9397-08b0c672db39')\"\n",
              "              title=\"Convert this dataframe to an interactive table.\"\n",
              "              style=\"display:none;\">\n",
              "        \n",
              "  <svg xmlns=\"http://www.w3.org/2000/svg\" height=\"24px\"viewBox=\"0 0 24 24\"\n",
              "       width=\"24px\">\n",
              "    <path d=\"M0 0h24v24H0V0z\" fill=\"none\"/>\n",
              "    <path d=\"M18.56 5.44l.94 2.06.94-2.06 2.06-.94-2.06-.94-.94-2.06-.94 2.06-2.06.94zm-11 1L8.5 8.5l.94-2.06 2.06-.94-2.06-.94L8.5 2.5l-.94 2.06-2.06.94zm10 10l.94 2.06.94-2.06 2.06-.94-2.06-.94-.94-2.06-.94 2.06-2.06.94z\"/><path d=\"M17.41 7.96l-1.37-1.37c-.4-.4-.92-.59-1.43-.59-.52 0-1.04.2-1.43.59L10.3 9.45l-7.72 7.72c-.78.78-.78 2.05 0 2.83L4 21.41c.39.39.9.59 1.41.59.51 0 1.02-.2 1.41-.59l7.78-7.78 2.81-2.81c.8-.78.8-2.07 0-2.86zM5.41 20L4 18.59l7.72-7.72 1.47 1.35L5.41 20z\"/>\n",
              "  </svg>\n",
              "      </button>\n",
              "      \n",
              "  <style>\n",
              "    .colab-df-container {\n",
              "      display:flex;\n",
              "      flex-wrap:wrap;\n",
              "      gap: 12px;\n",
              "    }\n",
              "\n",
              "    .colab-df-convert {\n",
              "      background-color: #E8F0FE;\n",
              "      border: none;\n",
              "      border-radius: 50%;\n",
              "      cursor: pointer;\n",
              "      display: none;\n",
              "      fill: #1967D2;\n",
              "      height: 32px;\n",
              "      padding: 0 0 0 0;\n",
              "      width: 32px;\n",
              "    }\n",
              "\n",
              "    .colab-df-convert:hover {\n",
              "      background-color: #E2EBFA;\n",
              "      box-shadow: 0px 1px 2px rgba(60, 64, 67, 0.3), 0px 1px 3px 1px rgba(60, 64, 67, 0.15);\n",
              "      fill: #174EA6;\n",
              "    }\n",
              "\n",
              "    [theme=dark] .colab-df-convert {\n",
              "      background-color: #3B4455;\n",
              "      fill: #D2E3FC;\n",
              "    }\n",
              "\n",
              "    [theme=dark] .colab-df-convert:hover {\n",
              "      background-color: #434B5C;\n",
              "      box-shadow: 0px 1px 3px 1px rgba(0, 0, 0, 0.15);\n",
              "      filter: drop-shadow(0px 1px 2px rgba(0, 0, 0, 0.3));\n",
              "      fill: #FFFFFF;\n",
              "    }\n",
              "  </style>\n",
              "\n",
              "      <script>\n",
              "        const buttonEl =\n",
              "          document.querySelector('#df-d2078320-963c-49b1-9397-08b0c672db39 button.colab-df-convert');\n",
              "        buttonEl.style.display =\n",
              "          google.colab.kernel.accessAllowed ? 'block' : 'none';\n",
              "\n",
              "        async function convertToInteractive(key) {\n",
              "          const element = document.querySelector('#df-d2078320-963c-49b1-9397-08b0c672db39');\n",
              "          const dataTable =\n",
              "            await google.colab.kernel.invokeFunction('convertToInteractive',\n",
              "                                                     [key], {});\n",
              "          if (!dataTable) return;\n",
              "\n",
              "          const docLinkHtml = 'Like what you see? Visit the ' +\n",
              "            '<a target=\"_blank\" href=https://colab.research.google.com/notebooks/data_table.ipynb>data table notebook</a>'\n",
              "            + ' to learn more about interactive tables.';\n",
              "          element.innerHTML = '';\n",
              "          dataTable['output_type'] = 'display_data';\n",
              "          await google.colab.output.renderOutput(dataTable, element);\n",
              "          const docLink = document.createElement('div');\n",
              "          docLink.innerHTML = docLinkHtml;\n",
              "          element.appendChild(docLink);\n",
              "        }\n",
              "      </script>\n",
              "    </div>\n",
              "  </div>\n",
              "  "
            ]
          },
          "metadata": {},
          "execution_count": 126
        }
      ]
    },
    {
      "cell_type": "markdown",
      "source": [
        "**Porcentagem de releito muheres x homens**"
      ],
      "metadata": {
        "id": "TYvgajLddjRu"
      }
    },
    {
      "cell_type": "code",
      "source": [
        "candidatos_goias[candidatos_goias['DS_SIT_TOT_TURNO'] == \"ELEITO\"].count()"
      ],
      "metadata": {
        "colab": {
          "base_uri": "https://localhost:8080/"
        },
        "id": "1rvtIlMScgnn",
        "outputId": "7fda767a-070d-4123-b1b7-b1597256c1d1"
      },
      "execution_count": null,
      "outputs": [
        {
          "output_type": "execute_result",
          "data": {
            "text/plain": [
              "ANO_ELEICAO                   6458\n",
              "CD_TIPO_ELEICAO               6458\n",
              "NR_TURNO                      6458\n",
              "CD_ELEICAO                    6458\n",
              "DS_ELEICAO                    6458\n",
              "TP_ABRANGENCIA                6458\n",
              "SG_UF                         6458\n",
              "SG_UE                         6458\n",
              "NM_UE                         6458\n",
              "NM_CANDIDATO                  6458\n",
              "NM_URNA_CANDIDATO             6458\n",
              "CD_SITUACAO_CANDIDATURA       6458\n",
              "DS_SITUACAO_CANDIDATURA       6458\n",
              "SG_PARTIDO                    6458\n",
              "NM_PARTIDO                    6458\n",
              "DS_NACIONALIDADE              6458\n",
              "DT_NASCIMENTO                 6458\n",
              "NR_IDADE_DATA_POSSE           6458\n",
              "DS_GENERO                     6458\n",
              "DS_GRAU_INSTRUCAO             6458\n",
              "DS_ESTADO_CIVIL               6458\n",
              "DS_COR_RACA                   6458\n",
              "VR_DESPESA_MAX_CAMPANHA       6458\n",
              "DS_SIT_TOT_TURNO              6458\n",
              "ST_REELEICAO                  6458\n",
              "DS_SITUACAO_CANDIDATO_URNA    6458\n",
              "ST_CANDIDATO_INSERIDO_URNA    6458\n",
              "ESPECTRO_PARTIDOS             6458\n",
              "dtype: int64"
            ]
          },
          "metadata": {},
          "execution_count": 136
        }
      ]
    },
    {
      "cell_type": "markdown",
      "source": [
        "`Porcentagem de mulheres releitas`"
      ],
      "metadata": {
        "id": "rdczJEY_eFBo"
      }
    },
    {
      "cell_type": "code",
      "source": [
        "#Porcentagem \n",
        "porc_releita = (48/6458) * 100\n",
        "print('A porcentagem de mulheres releitas é: {:.2f}'.format(porc_releita))"
      ],
      "metadata": {
        "colab": {
          "base_uri": "https://localhost:8080/"
        },
        "id": "_acoVw3udtjA",
        "outputId": "474fbf7c-d09d-482e-c786-87639487eeea"
      },
      "execution_count": null,
      "outputs": [
        {
          "output_type": "stream",
          "name": "stdout",
          "text": [
            "A porcentagem de mulheres releitas é: 0.74\n"
          ]
        }
      ]
    },
    {
      "cell_type": "markdown",
      "source": [
        "`Porcentagem de homens reeleitos`"
      ],
      "metadata": {
        "id": "YElIFRLSgagb"
      }
    },
    {
      "cell_type": "code",
      "source": [
        "#Porcentagem \n",
        "porc_releita = (368/6458) * 100\n",
        "print('A porcentagem de homens releitas é: {:.2f}'.format(porc_releita))"
      ],
      "metadata": {
        "colab": {
          "base_uri": "https://localhost:8080/"
        },
        "id": "R9GObusxgYHq",
        "outputId": "ac422df6-dec2-440a-8441-7cb7030b5ef1"
      },
      "execution_count": null,
      "outputs": [
        {
          "output_type": "stream",
          "name": "stdout",
          "text": [
            "A porcentagem de homens releitas é: 5.70\n"
          ]
        }
      ]
    },
    {
      "cell_type": "code",
      "source": [],
      "metadata": {
        "id": "1qfTjW9Yghzj"
      },
      "execution_count": null,
      "outputs": []
    }
  ]
}