{
  "cells": [
    {
      "cell_type": "markdown",
      "metadata": {
        "id": "ad4rx_LDBWnQ"
      },
      "source": [
        "`Projeto de análise de dados - Candidatos 2010 até 2022 Goiás`\n",
        "\n",
        "\n",
        "\n",
        "\n",
        "\n"
      ]
    },
    {
      "cell_type": "markdown",
      "metadata": {
        "id": "VP1Z3LXwKsAV"
      },
      "source": [
        "`Como os dataframes estão separados, então serar feito a união deles ultilizando  o python, como eles possui a mesma quantidade de colunas e são os mesmos nomes isso será possível realizar `"
      ]
    },
    {
      "cell_type": "markdown",
      "metadata": {
        "id": "WrmPPeVmLjhM"
      },
      "source": [
        "`Unindo os csv de 2010 até 2022 do estado de Goías`"
      ]
    },
    {
      "cell_type": "code",
      "execution_count": 110,
      "metadata": {
        "id": "PAC9hGPoLNR2"
      },
      "outputs": [],
      "source": [
        "#importando bibliotecas necessárias \n",
        "import os\n",
        "import glob\n",
        "import pandas as pd\n",
        "import seaborn as sns\n",
        "import matplotlib.pyplot as plt\n"
      ]
    },
    {
      "cell_type": "code",
      "execution_count": 111,
      "metadata": {
        "colab": {
          "base_uri": "https://localhost:8080/"
        },
        "id": "hjV2JvQNfi6q",
        "outputId": "a32a37ee-adac-4cf3-eed5-3af643ab0748"
      },
      "outputs": [
        {
          "output_type": "stream",
          "name": "stdout",
          "text": [
            "Looking in indexes: https://pypi.org/simple, https://us-python.pkg.dev/colab-wheels/public/simple/\n",
            "Requirement already satisfied: pandasql in /usr/local/lib/python3.10/dist-packages (0.7.3)\n",
            "Requirement already satisfied: numpy in /usr/local/lib/python3.10/dist-packages (from pandasql) (1.22.4)\n",
            "Requirement already satisfied: pandas in /usr/local/lib/python3.10/dist-packages (from pandasql) (1.5.3)\n",
            "Requirement already satisfied: sqlalchemy in /usr/local/lib/python3.10/dist-packages (from pandasql) (2.0.10)\n",
            "Requirement already satisfied: python-dateutil>=2.8.1 in /usr/local/lib/python3.10/dist-packages (from pandas->pandasql) (2.8.2)\n",
            "Requirement already satisfied: pytz>=2020.1 in /usr/local/lib/python3.10/dist-packages (from pandas->pandasql) (2022.7.1)\n",
            "Requirement already satisfied: typing-extensions>=4.2.0 in /usr/local/lib/python3.10/dist-packages (from sqlalchemy->pandasql) (4.5.0)\n",
            "Requirement already satisfied: greenlet!=0.4.17 in /usr/local/lib/python3.10/dist-packages (from sqlalchemy->pandasql) (2.0.2)\n",
            "Requirement already satisfied: six>=1.5 in /usr/local/lib/python3.10/dist-packages (from python-dateutil>=2.8.1->pandas->pandasql) (1.16.0)\n"
          ]
        }
      ],
      "source": [
        "pip install pandasql"
      ]
    },
    {
      "cell_type": "code",
      "execution_count": 112,
      "metadata": {
        "id": "h47TZP7-foBA"
      },
      "outputs": [],
      "source": [
        "#Importando biblioteca para usar sql\n",
        "import pandasql as ps"
      ]
    },
    {
      "cell_type": "code",
      "execution_count": 113,
      "metadata": {
        "id": "H97VSSZ_WdzT"
      },
      "outputs": [],
      "source": [
        "# #Caminho dos arquivos\n",
        "# caminho = os.getcwd()\n",
        "# print(caminho)\n",
        "# arquivos_csv = glob.glob(os.path.join(caminho+ \"/consulta_cand*.csv\")) \n",
        "# print(arquivos_csv)"
      ]
    },
    {
      "cell_type": "code",
      "execution_count": 114,
      "metadata": {
        "id": "6a4ZXyhyWSfp"
      },
      "outputs": [],
      "source": [
        "# #codigo para unir o csv \n",
        "# df_final = pd.DataFrame()\n",
        "# for arquivo in arquivos_csv:\n",
        "#         #print(arquivo)\n",
        "#         #ler csv\n",
        "#   df_temp = pd.read_csv(arquivo, sep=';',encoding=\"ISO-8859-1\",on_bad_lines='skip')\n",
        "#   df_final = pd.concat([df_temp,df_final])\n",
        "# print(\"unindo csv\")\n",
        "# df_final.to_csv('/content/candidatos_diretorio/candidatos_goias_2010_2022.csv', sep=';',encoding=\"utf-8\",index=False)"
      ]
    },
    {
      "cell_type": "markdown",
      "metadata": {
        "id": "MYxtf_WOX-qz"
      },
      "source": [
        "**Iniciando a análise dos dados, após a uniao dos csv - estado do Goiás**"
      ]
    },
    {
      "cell_type": "code",
      "execution_count": 115,
      "metadata": {
        "id": "A5f6OJ-1-Bau"
      },
      "outputs": [],
      "source": [
        "#codigo para abrir todas as colunas do dataframe\n",
        "pd.set_option('display.max_columns', None)"
      ]
    },
    {
      "cell_type": "code",
      "execution_count": 116,
      "metadata": {
        "colab": {
          "base_uri": "https://localhost:8080/"
        },
        "id": "UQ-LLd9l8pMB",
        "outputId": "4fce5adb-72a4-4412-bfe1-aec57894f236"
      },
      "outputs": [
        {
          "output_type": "stream",
          "name": "stderr",
          "text": [
            "<ipython-input-116-6cdf4231cf4b>:2: DtypeWarning: Columns (11,20,57,64,65,66,67,69,70) have mixed types. Specify dtype option on import or set low_memory=False.\n",
            "  candidatos_goias = pd.read_csv(\"candidatos_goias_2010_2022.csv\", sep=';',encoding=\"utf-8\",on_bad_lines='skip')\n"
          ]
        }
      ],
      "source": [
        "#carregamento do dataframe\n",
        "candidatos_goias = pd.read_csv(\"candidatos_goias_2010_2022.csv\", sep=';',encoding=\"utf-8\",on_bad_lines='skip')"
      ]
    },
    {
      "cell_type": "code",
      "execution_count": 117,
      "metadata": {
        "colab": {
          "base_uri": "https://localhost:8080/",
          "height": 579
        },
        "id": "1to2j-mk8_eK",
        "outputId": "3ab4e23b-daa1-4373-bad7-3f8a2b9d65b5"
      },
      "outputs": [
        {
          "output_type": "execute_result",
          "data": {
            "text/plain": [
              "   DT_GERACAO HH_GERACAO  ANO_ELEICAO  CD_TIPO_ELEICAO    NM_TIPO_ELEICAO  \\\n",
              "0  18/02/2021   12:07:20         2016                2  ELEIÇÃO ORDINÁRIA   \n",
              "1  18/02/2021   12:07:20         2016                2  ELEIÇÃO ORDINÁRIA   \n",
              "2  18/02/2021   12:07:20         2016                2  ELEIÇÃO ORDINÁRIA   \n",
              "3  18/02/2021   12:07:20         2016                2  ELEIÇÃO ORDINÁRIA   \n",
              "4  18/02/2021   12:07:20         2016                2  ELEIÇÃO ORDINÁRIA   \n",
              "5  18/02/2021   12:07:20         2016                2  ELEIÇÃO ORDINÁRIA   \n",
              "\n",
              "   NR_TURNO  CD_ELEICAO                DS_ELEICAO  DT_ELEICAO TP_ABRANGENCIA  \\\n",
              "0         1         220  Eleições Municipais 2016  02/10/2016      MUNICIPAL   \n",
              "1         1         220  Eleições Municipais 2016  02/10/2016      MUNICIPAL   \n",
              "2         1         220  Eleições Municipais 2016  02/10/2016      MUNICIPAL   \n",
              "3         1         220  Eleições Municipais 2016  02/10/2016      MUNICIPAL   \n",
              "4         1         220  Eleições Municipais 2016  02/10/2016      MUNICIPAL   \n",
              "5         1         220  Eleições Municipais 2016  02/10/2016      MUNICIPAL   \n",
              "\n",
              "  SG_UF  SG_UE        NM_UE  CD_CARGO  DS_CARGO  SQ_CANDIDATO  NR_CANDIDATO  \\\n",
              "0    GO  93394  DAVINÓPOLIS        13  VEREADOR   90000015638         22000   \n",
              "1    GO  94293      JANDAIA        13  VEREADOR   90000008594         22022   \n",
              "2    GO  93734      GOIÂNIA        13  VEREADOR   90000014547         15190   \n",
              "3    GO  93793     GOIATUBA        13  VEREADOR   90000021770         45999   \n",
              "4    GO  94315      JARAGUÁ        13  VEREADOR   90000010097         45211   \n",
              "5    GO  93777        GOIÁS        13  VEREADOR   90000023024         77123   \n",
              "\n",
              "                     NM_CANDIDATO NM_URNA_CANDIDATO NM_SOCIAL_CANDIDATO  \\\n",
              "0            PAULO CESAR CARNEIRO       PAULO CESAR              #NULO#   \n",
              "1              FABIO ALVES BORGES    FABIO CAPACETE              #NULO#   \n",
              "2        ROBSON PAIXAO DE AZEVEDO        DR. ROBSON              #NULO#   \n",
              "3   WILZELENA MARIA LOPES MARTINS       VILZA LOPES              #NULO#   \n",
              "4       ANA MARIA MARQUES ANDRADE     TIA ANA MARIA              #NULO#   \n",
              "5  ALCIMINIO SIMÕES CORREA JUNIOR      DR ALCIMINIO              #NULO#   \n",
              "\n",
              "  NR_CPF_CANDIDATO                       NM_EMAIL  CD_SITUACAO_CANDIDATURA  \\\n",
              "0      25117521153      EXITOADVOCACIA@UOL.COM.BR                       12   \n",
              "1       1989808174       TEMPODEMUDAR45@GMAIL.COM                       12   \n",
              "2      16721900106          ORTOPEDICO1@GMAIL.COM                       12   \n",
              "3      49117882168         SW_FCASTRO@HOTMAIL.COM                       12   \n",
              "4      43535658187  ZILOMAR.2016.CANDEX@GMAIL.COM                       12   \n",
              "5      12372676172       UNIDOSPORGOIAS@GMAIL.COM                       12   \n",
              "\n",
              "  DS_SITUACAO_CANDIDATURA  CD_DETALHE_SITUACAO_CAND DS_DETALHE_SITUACAO_CAND  \\\n",
              "0                    APTO                         2                 DEFERIDO   \n",
              "1                    APTO                         2                 DEFERIDO   \n",
              "2                    APTO                         2                 DEFERIDO   \n",
              "3                    APTO                         2                 DEFERIDO   \n",
              "4                    APTO                         2                 DEFERIDO   \n",
              "5                    APTO                         2                 DEFERIDO   \n",
              "\n",
              "  TP_AGREMIACAO  NR_PARTIDO SG_PARTIDO  \\\n",
              "0     COLIGAÇÃO          22         PR   \n",
              "1     COLIGAÇÃO          22         PR   \n",
              "2     COLIGAÇÃO          15       PMDB   \n",
              "3     COLIGAÇÃO          45       PSDB   \n",
              "4     COLIGAÇÃO          45       PSDB   \n",
              "5     COLIGAÇÃO          77         SD   \n",
              "\n",
              "                                    NM_PARTIDO  SQ_COLIGACAO  \\\n",
              "0                         PARTIDO DA REPÚBLICA   90000001197   \n",
              "1                         PARTIDO DA REPÚBLICA   90000000700   \n",
              "2  PARTIDO DO MOVIMENTO DEMOCRÁTICO BRASILEIRO   90000001121   \n",
              "3      PARTIDO DA SOCIAL DEMOCRACIA BRASILEIRA   90000001649   \n",
              "4      PARTIDO DA SOCIAL DEMOCRACIA BRASILEIRA   90000000817   \n",
              "5                                SOLIDARIEDADE   90000001734   \n",
              "\n",
              "                    NM_COLIGACAO DS_COMPOSICAO_COLIGACAO  CD_NACIONALIDADE  \\\n",
              "0     LEGISLATIVO LEVADO A SÉRIO               PR / PSDB                 1   \n",
              "1               E TEMPO DE MUDAR          PSDB / PP / PR                 1   \n",
              "2      EXPERIÊNCIA E CONFIANÇA 1       PMDB / PDT / PRTB                 1   \n",
              "3           LEGISLAR PARA O POVO         PSDB / PV / PHS                 1   \n",
              "4           ALIANÇA DA VITÓRIA I         PSDB / PP / PDT                 1   \n",
              "5  ÉTICA, COMPROMISSO E TRABALHO   DEM / PSDC / PRP / SD                 1   \n",
              "\n",
              "  DS_NACIONALIDADE SG_UF_NASCIMENTO  CD_MUNICIPIO_NASCIMENTO  \\\n",
              "0  BRASILEIRA NATA               GO                       -3   \n",
              "1  BRASILEIRA NATA               GO                       -3   \n",
              "2  BRASILEIRA NATA               GO                       -3   \n",
              "3  BRASILEIRA NATA               GO                       -3   \n",
              "4  BRASILEIRA NATA               GO                       -3   \n",
              "5  BRASILEIRA NATA               MG                       -3   \n",
              "\n",
              "  NM_MUNICIPIO_NASCIMENTO DT_NASCIMENTO  NR_IDADE_DATA_POSSE  \\\n",
              "0            TRÊS RANCHOS    11/01/1963                 53.0   \n",
              "1                 GOIANIA    01/06/1985                 31.0   \n",
              "2                 GOIANIA    15/04/1960                 56.0   \n",
              "3                GOIATUBA    28/01/1967                 49.0   \n",
              "4                   CERES    26/07/1966                 50.0   \n",
              "5                  BAMBUÍ    13/12/1956                 60.0   \n",
              "\n",
              "   NR_TITULO_ELEITORAL_CANDIDATO  CD_GENERO  DS_GENERO  CD_GRAU_INSTRUCAO  \\\n",
              "0                    12728071015          2  MASCULINO                  7   \n",
              "1                    51041361074          2  MASCULINO                  6   \n",
              "2                     1339361023          2  MASCULINO                  8   \n",
              "3                     9822491066          4   FEMININO                  6   \n",
              "4                     5861311040          4   FEMININO                  5   \n",
              "5                     4790621066          2  MASCULINO                  8   \n",
              "\n",
              "         DS_GRAU_INSTRUCAO  CD_ESTADO_CIVIL DS_ESTADO_CIVIL  CD_COR_RACA  \\\n",
              "0      SUPERIOR INCOMPLETO                9   DIVORCIADO(A)            1   \n",
              "1    ENSINO MÉDIO COMPLETO                3       CASADO(A)            1   \n",
              "2        SUPERIOR COMPLETO                3       CASADO(A)            1   \n",
              "3    ENSINO MÉDIO COMPLETO                3       CASADO(A)            3   \n",
              "4  ENSINO MÉDIO INCOMPLETO                3       CASADO(A)            3   \n",
              "5        SUPERIOR COMPLETO                3       CASADO(A)            1   \n",
              "\n",
              "  DS_COR_RACA  CD_OCUPACAO              DS_OCUPACAO  VR_DESPESA_MAX_CAMPANHA  \\\n",
              "0      BRANCA          237  REPRESENTANTE COMERCIAL                 10803.91   \n",
              "1      BRANCA          999                   OUTROS                 10803.91   \n",
              "2      BRANCA          111                   MÉDICO                519651.25   \n",
              "3       PARDA          581             DONA DE CASA                 38077.10   \n",
              "4       PARDA          601               AGRICULTOR                 21634.37   \n",
              "5      BRANCA          131                 ADVOGADO                 22147.45   \n",
              "\n",
              "   CD_SIT_TOT_TURNO  DS_SIT_TOT_TURNO ST_REELEICAO ST_DECLARAR_BENS  \\\n",
              "0                 3  ELEITO POR MÉDIA            N                N   \n",
              "1                 5          SUPLENTE            N                S   \n",
              "2                 5          SUPLENTE            N                S   \n",
              "3                 5          SUPLENTE            N                S   \n",
              "4                 5          SUPLENTE            N                N   \n",
              "5                 5          SUPLENTE            N                S   \n",
              "\n",
              "   NR_PROTOCOLO_CANDIDATURA       NR_PROCESSO  CD_SITUACAO_CANDIDATO_PLEITO  \\\n",
              "0                 821882016  2517720166090008                             2   \n",
              "1                 729692016  1328220166090084                             2   \n",
              "2                 808282016  2353920166090133                             2   \n",
              "3                 896332016  2682320166090038                             2   \n",
              "4                 753252016  1415120166090017                             2   \n",
              "5                 911462016  1425120166090012                             2   \n",
              "\n",
              "  DS_SITUACAO_CANDIDATO_PLEITO  CD_SITUACAO_CANDIDATO_URNA  \\\n",
              "0                     DEFERIDO                           2   \n",
              "1                     DEFERIDO                           2   \n",
              "2                     DEFERIDO                           2   \n",
              "3                     DEFERIDO                           2   \n",
              "4                     DEFERIDO                           4   \n",
              "5                     DEFERIDO                           2   \n",
              "\n",
              "  DS_SITUACAO_CANDIDATO_URNA ST_CANDIDATO_INSERIDO_URNA  NR_FEDERACAO  \\\n",
              "0                   DEFERIDO                        SIM           NaN   \n",
              "1                   DEFERIDO                        SIM           NaN   \n",
              "2                   DEFERIDO                        SIM           NaN   \n",
              "3                   DEFERIDO                        SIM           NaN   \n",
              "4     INDEFERIDO COM RECURSO                        SIM           NaN   \n",
              "5                   DEFERIDO                        SIM           NaN   \n",
              "\n",
              "  NM_FEDERACAO SG_FEDERACAO DS_COMPOSICAO_FEDERACAO NM_TIPO_DESTINACAO_VOTOS  \\\n",
              "0          NaN          NaN                     NaN                      NaN   \n",
              "1          NaN          NaN                     NaN                      NaN   \n",
              "2          NaN          NaN                     NaN                      NaN   \n",
              "3          NaN          NaN                     NaN                      NaN   \n",
              "4          NaN          NaN                     NaN                      NaN   \n",
              "5          NaN          NaN                     NaN                      NaN   \n",
              "\n",
              "   CD_SITUACAO_CANDIDATO_TOT DS_SITUACAO_CANDIDATO_TOT ST_PREST_CONTAS  \n",
              "0                        NaN                       NaN             NaN  \n",
              "1                        NaN                       NaN             NaN  \n",
              "2                        NaN                       NaN             NaN  \n",
              "3                        NaN                       NaN             NaN  \n",
              "4                        NaN                       NaN             NaN  \n",
              "5                        NaN                       NaN             NaN  "
            ],
            "text/html": [
              "\n",
              "  <div id=\"df-c61af49f-080b-4d3c-9696-59201fb731d6\">\n",
              "    <div class=\"colab-df-container\">\n",
              "      <div>\n",
              "<style scoped>\n",
              "    .dataframe tbody tr th:only-of-type {\n",
              "        vertical-align: middle;\n",
              "    }\n",
              "\n",
              "    .dataframe tbody tr th {\n",
              "        vertical-align: top;\n",
              "    }\n",
              "\n",
              "    .dataframe thead th {\n",
              "        text-align: right;\n",
              "    }\n",
              "</style>\n",
              "<table border=\"1\" class=\"dataframe\">\n",
              "  <thead>\n",
              "    <tr style=\"text-align: right;\">\n",
              "      <th></th>\n",
              "      <th>DT_GERACAO</th>\n",
              "      <th>HH_GERACAO</th>\n",
              "      <th>ANO_ELEICAO</th>\n",
              "      <th>CD_TIPO_ELEICAO</th>\n",
              "      <th>NM_TIPO_ELEICAO</th>\n",
              "      <th>NR_TURNO</th>\n",
              "      <th>CD_ELEICAO</th>\n",
              "      <th>DS_ELEICAO</th>\n",
              "      <th>DT_ELEICAO</th>\n",
              "      <th>TP_ABRANGENCIA</th>\n",
              "      <th>SG_UF</th>\n",
              "      <th>SG_UE</th>\n",
              "      <th>NM_UE</th>\n",
              "      <th>CD_CARGO</th>\n",
              "      <th>DS_CARGO</th>\n",
              "      <th>SQ_CANDIDATO</th>\n",
              "      <th>NR_CANDIDATO</th>\n",
              "      <th>NM_CANDIDATO</th>\n",
              "      <th>NM_URNA_CANDIDATO</th>\n",
              "      <th>NM_SOCIAL_CANDIDATO</th>\n",
              "      <th>NR_CPF_CANDIDATO</th>\n",
              "      <th>NM_EMAIL</th>\n",
              "      <th>CD_SITUACAO_CANDIDATURA</th>\n",
              "      <th>DS_SITUACAO_CANDIDATURA</th>\n",
              "      <th>CD_DETALHE_SITUACAO_CAND</th>\n",
              "      <th>DS_DETALHE_SITUACAO_CAND</th>\n",
              "      <th>TP_AGREMIACAO</th>\n",
              "      <th>NR_PARTIDO</th>\n",
              "      <th>SG_PARTIDO</th>\n",
              "      <th>NM_PARTIDO</th>\n",
              "      <th>SQ_COLIGACAO</th>\n",
              "      <th>NM_COLIGACAO</th>\n",
              "      <th>DS_COMPOSICAO_COLIGACAO</th>\n",
              "      <th>CD_NACIONALIDADE</th>\n",
              "      <th>DS_NACIONALIDADE</th>\n",
              "      <th>SG_UF_NASCIMENTO</th>\n",
              "      <th>CD_MUNICIPIO_NASCIMENTO</th>\n",
              "      <th>NM_MUNICIPIO_NASCIMENTO</th>\n",
              "      <th>DT_NASCIMENTO</th>\n",
              "      <th>NR_IDADE_DATA_POSSE</th>\n",
              "      <th>NR_TITULO_ELEITORAL_CANDIDATO</th>\n",
              "      <th>CD_GENERO</th>\n",
              "      <th>DS_GENERO</th>\n",
              "      <th>CD_GRAU_INSTRUCAO</th>\n",
              "      <th>DS_GRAU_INSTRUCAO</th>\n",
              "      <th>CD_ESTADO_CIVIL</th>\n",
              "      <th>DS_ESTADO_CIVIL</th>\n",
              "      <th>CD_COR_RACA</th>\n",
              "      <th>DS_COR_RACA</th>\n",
              "      <th>CD_OCUPACAO</th>\n",
              "      <th>DS_OCUPACAO</th>\n",
              "      <th>VR_DESPESA_MAX_CAMPANHA</th>\n",
              "      <th>CD_SIT_TOT_TURNO</th>\n",
              "      <th>DS_SIT_TOT_TURNO</th>\n",
              "      <th>ST_REELEICAO</th>\n",
              "      <th>ST_DECLARAR_BENS</th>\n",
              "      <th>NR_PROTOCOLO_CANDIDATURA</th>\n",
              "      <th>NR_PROCESSO</th>\n",
              "      <th>CD_SITUACAO_CANDIDATO_PLEITO</th>\n",
              "      <th>DS_SITUACAO_CANDIDATO_PLEITO</th>\n",
              "      <th>CD_SITUACAO_CANDIDATO_URNA</th>\n",
              "      <th>DS_SITUACAO_CANDIDATO_URNA</th>\n",
              "      <th>ST_CANDIDATO_INSERIDO_URNA</th>\n",
              "      <th>NR_FEDERACAO</th>\n",
              "      <th>NM_FEDERACAO</th>\n",
              "      <th>SG_FEDERACAO</th>\n",
              "      <th>DS_COMPOSICAO_FEDERACAO</th>\n",
              "      <th>NM_TIPO_DESTINACAO_VOTOS</th>\n",
              "      <th>CD_SITUACAO_CANDIDATO_TOT</th>\n",
              "      <th>DS_SITUACAO_CANDIDATO_TOT</th>\n",
              "      <th>ST_PREST_CONTAS</th>\n",
              "    </tr>\n",
              "  </thead>\n",
              "  <tbody>\n",
              "    <tr>\n",
              "      <th>0</th>\n",
              "      <td>18/02/2021</td>\n",
              "      <td>12:07:20</td>\n",
              "      <td>2016</td>\n",
              "      <td>2</td>\n",
              "      <td>ELEIÇÃO ORDINÁRIA</td>\n",
              "      <td>1</td>\n",
              "      <td>220</td>\n",
              "      <td>Eleições Municipais 2016</td>\n",
              "      <td>02/10/2016</td>\n",
              "      <td>MUNICIPAL</td>\n",
              "      <td>GO</td>\n",
              "      <td>93394</td>\n",
              "      <td>DAVINÓPOLIS</td>\n",
              "      <td>13</td>\n",
              "      <td>VEREADOR</td>\n",
              "      <td>90000015638</td>\n",
              "      <td>22000</td>\n",
              "      <td>PAULO CESAR CARNEIRO</td>\n",
              "      <td>PAULO CESAR</td>\n",
              "      <td>#NULO#</td>\n",
              "      <td>25117521153</td>\n",
              "      <td>EXITOADVOCACIA@UOL.COM.BR</td>\n",
              "      <td>12</td>\n",
              "      <td>APTO</td>\n",
              "      <td>2</td>\n",
              "      <td>DEFERIDO</td>\n",
              "      <td>COLIGAÇÃO</td>\n",
              "      <td>22</td>\n",
              "      <td>PR</td>\n",
              "      <td>PARTIDO DA REPÚBLICA</td>\n",
              "      <td>90000001197</td>\n",
              "      <td>LEGISLATIVO LEVADO A SÉRIO</td>\n",
              "      <td>PR / PSDB</td>\n",
              "      <td>1</td>\n",
              "      <td>BRASILEIRA NATA</td>\n",
              "      <td>GO</td>\n",
              "      <td>-3</td>\n",
              "      <td>TRÊS RANCHOS</td>\n",
              "      <td>11/01/1963</td>\n",
              "      <td>53.0</td>\n",
              "      <td>12728071015</td>\n",
              "      <td>2</td>\n",
              "      <td>MASCULINO</td>\n",
              "      <td>7</td>\n",
              "      <td>SUPERIOR INCOMPLETO</td>\n",
              "      <td>9</td>\n",
              "      <td>DIVORCIADO(A)</td>\n",
              "      <td>1</td>\n",
              "      <td>BRANCA</td>\n",
              "      <td>237</td>\n",
              "      <td>REPRESENTANTE COMERCIAL</td>\n",
              "      <td>10803.91</td>\n",
              "      <td>3</td>\n",
              "      <td>ELEITO POR MÉDIA</td>\n",
              "      <td>N</td>\n",
              "      <td>N</td>\n",
              "      <td>821882016</td>\n",
              "      <td>2517720166090008</td>\n",
              "      <td>2</td>\n",
              "      <td>DEFERIDO</td>\n",
              "      <td>2</td>\n",
              "      <td>DEFERIDO</td>\n",
              "      <td>SIM</td>\n",
              "      <td>NaN</td>\n",
              "      <td>NaN</td>\n",
              "      <td>NaN</td>\n",
              "      <td>NaN</td>\n",
              "      <td>NaN</td>\n",
              "      <td>NaN</td>\n",
              "      <td>NaN</td>\n",
              "      <td>NaN</td>\n",
              "    </tr>\n",
              "    <tr>\n",
              "      <th>1</th>\n",
              "      <td>18/02/2021</td>\n",
              "      <td>12:07:20</td>\n",
              "      <td>2016</td>\n",
              "      <td>2</td>\n",
              "      <td>ELEIÇÃO ORDINÁRIA</td>\n",
              "      <td>1</td>\n",
              "      <td>220</td>\n",
              "      <td>Eleições Municipais 2016</td>\n",
              "      <td>02/10/2016</td>\n",
              "      <td>MUNICIPAL</td>\n",
              "      <td>GO</td>\n",
              "      <td>94293</td>\n",
              "      <td>JANDAIA</td>\n",
              "      <td>13</td>\n",
              "      <td>VEREADOR</td>\n",
              "      <td>90000008594</td>\n",
              "      <td>22022</td>\n",
              "      <td>FABIO ALVES BORGES</td>\n",
              "      <td>FABIO CAPACETE</td>\n",
              "      <td>#NULO#</td>\n",
              "      <td>1989808174</td>\n",
              "      <td>TEMPODEMUDAR45@GMAIL.COM</td>\n",
              "      <td>12</td>\n",
              "      <td>APTO</td>\n",
              "      <td>2</td>\n",
              "      <td>DEFERIDO</td>\n",
              "      <td>COLIGAÇÃO</td>\n",
              "      <td>22</td>\n",
              "      <td>PR</td>\n",
              "      <td>PARTIDO DA REPÚBLICA</td>\n",
              "      <td>90000000700</td>\n",
              "      <td>E TEMPO DE MUDAR</td>\n",
              "      <td>PSDB / PP / PR</td>\n",
              "      <td>1</td>\n",
              "      <td>BRASILEIRA NATA</td>\n",
              "      <td>GO</td>\n",
              "      <td>-3</td>\n",
              "      <td>GOIANIA</td>\n",
              "      <td>01/06/1985</td>\n",
              "      <td>31.0</td>\n",
              "      <td>51041361074</td>\n",
              "      <td>2</td>\n",
              "      <td>MASCULINO</td>\n",
              "      <td>6</td>\n",
              "      <td>ENSINO MÉDIO COMPLETO</td>\n",
              "      <td>3</td>\n",
              "      <td>CASADO(A)</td>\n",
              "      <td>1</td>\n",
              "      <td>BRANCA</td>\n",
              "      <td>999</td>\n",
              "      <td>OUTROS</td>\n",
              "      <td>10803.91</td>\n",
              "      <td>5</td>\n",
              "      <td>SUPLENTE</td>\n",
              "      <td>N</td>\n",
              "      <td>S</td>\n",
              "      <td>729692016</td>\n",
              "      <td>1328220166090084</td>\n",
              "      <td>2</td>\n",
              "      <td>DEFERIDO</td>\n",
              "      <td>2</td>\n",
              "      <td>DEFERIDO</td>\n",
              "      <td>SIM</td>\n",
              "      <td>NaN</td>\n",
              "      <td>NaN</td>\n",
              "      <td>NaN</td>\n",
              "      <td>NaN</td>\n",
              "      <td>NaN</td>\n",
              "      <td>NaN</td>\n",
              "      <td>NaN</td>\n",
              "      <td>NaN</td>\n",
              "    </tr>\n",
              "    <tr>\n",
              "      <th>2</th>\n",
              "      <td>18/02/2021</td>\n",
              "      <td>12:07:20</td>\n",
              "      <td>2016</td>\n",
              "      <td>2</td>\n",
              "      <td>ELEIÇÃO ORDINÁRIA</td>\n",
              "      <td>1</td>\n",
              "      <td>220</td>\n",
              "      <td>Eleições Municipais 2016</td>\n",
              "      <td>02/10/2016</td>\n",
              "      <td>MUNICIPAL</td>\n",
              "      <td>GO</td>\n",
              "      <td>93734</td>\n",
              "      <td>GOIÂNIA</td>\n",
              "      <td>13</td>\n",
              "      <td>VEREADOR</td>\n",
              "      <td>90000014547</td>\n",
              "      <td>15190</td>\n",
              "      <td>ROBSON PAIXAO DE AZEVEDO</td>\n",
              "      <td>DR. ROBSON</td>\n",
              "      <td>#NULO#</td>\n",
              "      <td>16721900106</td>\n",
              "      <td>ORTOPEDICO1@GMAIL.COM</td>\n",
              "      <td>12</td>\n",
              "      <td>APTO</td>\n",
              "      <td>2</td>\n",
              "      <td>DEFERIDO</td>\n",
              "      <td>COLIGAÇÃO</td>\n",
              "      <td>15</td>\n",
              "      <td>PMDB</td>\n",
              "      <td>PARTIDO DO MOVIMENTO DEMOCRÁTICO BRASILEIRO</td>\n",
              "      <td>90000001121</td>\n",
              "      <td>EXPERIÊNCIA E CONFIANÇA 1</td>\n",
              "      <td>PMDB / PDT / PRTB</td>\n",
              "      <td>1</td>\n",
              "      <td>BRASILEIRA NATA</td>\n",
              "      <td>GO</td>\n",
              "      <td>-3</td>\n",
              "      <td>GOIANIA</td>\n",
              "      <td>15/04/1960</td>\n",
              "      <td>56.0</td>\n",
              "      <td>1339361023</td>\n",
              "      <td>2</td>\n",
              "      <td>MASCULINO</td>\n",
              "      <td>8</td>\n",
              "      <td>SUPERIOR COMPLETO</td>\n",
              "      <td>3</td>\n",
              "      <td>CASADO(A)</td>\n",
              "      <td>1</td>\n",
              "      <td>BRANCA</td>\n",
              "      <td>111</td>\n",
              "      <td>MÉDICO</td>\n",
              "      <td>519651.25</td>\n",
              "      <td>5</td>\n",
              "      <td>SUPLENTE</td>\n",
              "      <td>N</td>\n",
              "      <td>S</td>\n",
              "      <td>808282016</td>\n",
              "      <td>2353920166090133</td>\n",
              "      <td>2</td>\n",
              "      <td>DEFERIDO</td>\n",
              "      <td>2</td>\n",
              "      <td>DEFERIDO</td>\n",
              "      <td>SIM</td>\n",
              "      <td>NaN</td>\n",
              "      <td>NaN</td>\n",
              "      <td>NaN</td>\n",
              "      <td>NaN</td>\n",
              "      <td>NaN</td>\n",
              "      <td>NaN</td>\n",
              "      <td>NaN</td>\n",
              "      <td>NaN</td>\n",
              "    </tr>\n",
              "    <tr>\n",
              "      <th>3</th>\n",
              "      <td>18/02/2021</td>\n",
              "      <td>12:07:20</td>\n",
              "      <td>2016</td>\n",
              "      <td>2</td>\n",
              "      <td>ELEIÇÃO ORDINÁRIA</td>\n",
              "      <td>1</td>\n",
              "      <td>220</td>\n",
              "      <td>Eleições Municipais 2016</td>\n",
              "      <td>02/10/2016</td>\n",
              "      <td>MUNICIPAL</td>\n",
              "      <td>GO</td>\n",
              "      <td>93793</td>\n",
              "      <td>GOIATUBA</td>\n",
              "      <td>13</td>\n",
              "      <td>VEREADOR</td>\n",
              "      <td>90000021770</td>\n",
              "      <td>45999</td>\n",
              "      <td>WILZELENA MARIA LOPES MARTINS</td>\n",
              "      <td>VILZA LOPES</td>\n",
              "      <td>#NULO#</td>\n",
              "      <td>49117882168</td>\n",
              "      <td>SW_FCASTRO@HOTMAIL.COM</td>\n",
              "      <td>12</td>\n",
              "      <td>APTO</td>\n",
              "      <td>2</td>\n",
              "      <td>DEFERIDO</td>\n",
              "      <td>COLIGAÇÃO</td>\n",
              "      <td>45</td>\n",
              "      <td>PSDB</td>\n",
              "      <td>PARTIDO DA SOCIAL DEMOCRACIA BRASILEIRA</td>\n",
              "      <td>90000001649</td>\n",
              "      <td>LEGISLAR PARA O POVO</td>\n",
              "      <td>PSDB / PV / PHS</td>\n",
              "      <td>1</td>\n",
              "      <td>BRASILEIRA NATA</td>\n",
              "      <td>GO</td>\n",
              "      <td>-3</td>\n",
              "      <td>GOIATUBA</td>\n",
              "      <td>28/01/1967</td>\n",
              "      <td>49.0</td>\n",
              "      <td>9822491066</td>\n",
              "      <td>4</td>\n",
              "      <td>FEMININO</td>\n",
              "      <td>6</td>\n",
              "      <td>ENSINO MÉDIO COMPLETO</td>\n",
              "      <td>3</td>\n",
              "      <td>CASADO(A)</td>\n",
              "      <td>3</td>\n",
              "      <td>PARDA</td>\n",
              "      <td>581</td>\n",
              "      <td>DONA DE CASA</td>\n",
              "      <td>38077.10</td>\n",
              "      <td>5</td>\n",
              "      <td>SUPLENTE</td>\n",
              "      <td>N</td>\n",
              "      <td>S</td>\n",
              "      <td>896332016</td>\n",
              "      <td>2682320166090038</td>\n",
              "      <td>2</td>\n",
              "      <td>DEFERIDO</td>\n",
              "      <td>2</td>\n",
              "      <td>DEFERIDO</td>\n",
              "      <td>SIM</td>\n",
              "      <td>NaN</td>\n",
              "      <td>NaN</td>\n",
              "      <td>NaN</td>\n",
              "      <td>NaN</td>\n",
              "      <td>NaN</td>\n",
              "      <td>NaN</td>\n",
              "      <td>NaN</td>\n",
              "      <td>NaN</td>\n",
              "    </tr>\n",
              "    <tr>\n",
              "      <th>4</th>\n",
              "      <td>18/02/2021</td>\n",
              "      <td>12:07:20</td>\n",
              "      <td>2016</td>\n",
              "      <td>2</td>\n",
              "      <td>ELEIÇÃO ORDINÁRIA</td>\n",
              "      <td>1</td>\n",
              "      <td>220</td>\n",
              "      <td>Eleições Municipais 2016</td>\n",
              "      <td>02/10/2016</td>\n",
              "      <td>MUNICIPAL</td>\n",
              "      <td>GO</td>\n",
              "      <td>94315</td>\n",
              "      <td>JARAGUÁ</td>\n",
              "      <td>13</td>\n",
              "      <td>VEREADOR</td>\n",
              "      <td>90000010097</td>\n",
              "      <td>45211</td>\n",
              "      <td>ANA MARIA MARQUES ANDRADE</td>\n",
              "      <td>TIA ANA MARIA</td>\n",
              "      <td>#NULO#</td>\n",
              "      <td>43535658187</td>\n",
              "      <td>ZILOMAR.2016.CANDEX@GMAIL.COM</td>\n",
              "      <td>12</td>\n",
              "      <td>APTO</td>\n",
              "      <td>2</td>\n",
              "      <td>DEFERIDO</td>\n",
              "      <td>COLIGAÇÃO</td>\n",
              "      <td>45</td>\n",
              "      <td>PSDB</td>\n",
              "      <td>PARTIDO DA SOCIAL DEMOCRACIA BRASILEIRA</td>\n",
              "      <td>90000000817</td>\n",
              "      <td>ALIANÇA DA VITÓRIA I</td>\n",
              "      <td>PSDB / PP / PDT</td>\n",
              "      <td>1</td>\n",
              "      <td>BRASILEIRA NATA</td>\n",
              "      <td>GO</td>\n",
              "      <td>-3</td>\n",
              "      <td>CERES</td>\n",
              "      <td>26/07/1966</td>\n",
              "      <td>50.0</td>\n",
              "      <td>5861311040</td>\n",
              "      <td>4</td>\n",
              "      <td>FEMININO</td>\n",
              "      <td>5</td>\n",
              "      <td>ENSINO MÉDIO INCOMPLETO</td>\n",
              "      <td>3</td>\n",
              "      <td>CASADO(A)</td>\n",
              "      <td>3</td>\n",
              "      <td>PARDA</td>\n",
              "      <td>601</td>\n",
              "      <td>AGRICULTOR</td>\n",
              "      <td>21634.37</td>\n",
              "      <td>5</td>\n",
              "      <td>SUPLENTE</td>\n",
              "      <td>N</td>\n",
              "      <td>N</td>\n",
              "      <td>753252016</td>\n",
              "      <td>1415120166090017</td>\n",
              "      <td>2</td>\n",
              "      <td>DEFERIDO</td>\n",
              "      <td>4</td>\n",
              "      <td>INDEFERIDO COM RECURSO</td>\n",
              "      <td>SIM</td>\n",
              "      <td>NaN</td>\n",
              "      <td>NaN</td>\n",
              "      <td>NaN</td>\n",
              "      <td>NaN</td>\n",
              "      <td>NaN</td>\n",
              "      <td>NaN</td>\n",
              "      <td>NaN</td>\n",
              "      <td>NaN</td>\n",
              "    </tr>\n",
              "    <tr>\n",
              "      <th>5</th>\n",
              "      <td>18/02/2021</td>\n",
              "      <td>12:07:20</td>\n",
              "      <td>2016</td>\n",
              "      <td>2</td>\n",
              "      <td>ELEIÇÃO ORDINÁRIA</td>\n",
              "      <td>1</td>\n",
              "      <td>220</td>\n",
              "      <td>Eleições Municipais 2016</td>\n",
              "      <td>02/10/2016</td>\n",
              "      <td>MUNICIPAL</td>\n",
              "      <td>GO</td>\n",
              "      <td>93777</td>\n",
              "      <td>GOIÁS</td>\n",
              "      <td>13</td>\n",
              "      <td>VEREADOR</td>\n",
              "      <td>90000023024</td>\n",
              "      <td>77123</td>\n",
              "      <td>ALCIMINIO SIMÕES CORREA JUNIOR</td>\n",
              "      <td>DR ALCIMINIO</td>\n",
              "      <td>#NULO#</td>\n",
              "      <td>12372676172</td>\n",
              "      <td>UNIDOSPORGOIAS@GMAIL.COM</td>\n",
              "      <td>12</td>\n",
              "      <td>APTO</td>\n",
              "      <td>2</td>\n",
              "      <td>DEFERIDO</td>\n",
              "      <td>COLIGAÇÃO</td>\n",
              "      <td>77</td>\n",
              "      <td>SD</td>\n",
              "      <td>SOLIDARIEDADE</td>\n",
              "      <td>90000001734</td>\n",
              "      <td>ÉTICA, COMPROMISSO E TRABALHO</td>\n",
              "      <td>DEM / PSDC / PRP / SD</td>\n",
              "      <td>1</td>\n",
              "      <td>BRASILEIRA NATA</td>\n",
              "      <td>MG</td>\n",
              "      <td>-3</td>\n",
              "      <td>BAMBUÍ</td>\n",
              "      <td>13/12/1956</td>\n",
              "      <td>60.0</td>\n",
              "      <td>4790621066</td>\n",
              "      <td>2</td>\n",
              "      <td>MASCULINO</td>\n",
              "      <td>8</td>\n",
              "      <td>SUPERIOR COMPLETO</td>\n",
              "      <td>3</td>\n",
              "      <td>CASADO(A)</td>\n",
              "      <td>1</td>\n",
              "      <td>BRANCA</td>\n",
              "      <td>131</td>\n",
              "      <td>ADVOGADO</td>\n",
              "      <td>22147.45</td>\n",
              "      <td>5</td>\n",
              "      <td>SUPLENTE</td>\n",
              "      <td>N</td>\n",
              "      <td>S</td>\n",
              "      <td>911462016</td>\n",
              "      <td>1425120166090012</td>\n",
              "      <td>2</td>\n",
              "      <td>DEFERIDO</td>\n",
              "      <td>2</td>\n",
              "      <td>DEFERIDO</td>\n",
              "      <td>SIM</td>\n",
              "      <td>NaN</td>\n",
              "      <td>NaN</td>\n",
              "      <td>NaN</td>\n",
              "      <td>NaN</td>\n",
              "      <td>NaN</td>\n",
              "      <td>NaN</td>\n",
              "      <td>NaN</td>\n",
              "      <td>NaN</td>\n",
              "    </tr>\n",
              "  </tbody>\n",
              "</table>\n",
              "</div>\n",
              "      <button class=\"colab-df-convert\" onclick=\"convertToInteractive('df-c61af49f-080b-4d3c-9696-59201fb731d6')\"\n",
              "              title=\"Convert this dataframe to an interactive table.\"\n",
              "              style=\"display:none;\">\n",
              "        \n",
              "  <svg xmlns=\"http://www.w3.org/2000/svg\" height=\"24px\"viewBox=\"0 0 24 24\"\n",
              "       width=\"24px\">\n",
              "    <path d=\"M0 0h24v24H0V0z\" fill=\"none\"/>\n",
              "    <path d=\"M18.56 5.44l.94 2.06.94-2.06 2.06-.94-2.06-.94-.94-2.06-.94 2.06-2.06.94zm-11 1L8.5 8.5l.94-2.06 2.06-.94-2.06-.94L8.5 2.5l-.94 2.06-2.06.94zm10 10l.94 2.06.94-2.06 2.06-.94-2.06-.94-.94-2.06-.94 2.06-2.06.94z\"/><path d=\"M17.41 7.96l-1.37-1.37c-.4-.4-.92-.59-1.43-.59-.52 0-1.04.2-1.43.59L10.3 9.45l-7.72 7.72c-.78.78-.78 2.05 0 2.83L4 21.41c.39.39.9.59 1.41.59.51 0 1.02-.2 1.41-.59l7.78-7.78 2.81-2.81c.8-.78.8-2.07 0-2.86zM5.41 20L4 18.59l7.72-7.72 1.47 1.35L5.41 20z\"/>\n",
              "  </svg>\n",
              "      </button>\n",
              "      \n",
              "  <style>\n",
              "    .colab-df-container {\n",
              "      display:flex;\n",
              "      flex-wrap:wrap;\n",
              "      gap: 12px;\n",
              "    }\n",
              "\n",
              "    .colab-df-convert {\n",
              "      background-color: #E8F0FE;\n",
              "      border: none;\n",
              "      border-radius: 50%;\n",
              "      cursor: pointer;\n",
              "      display: none;\n",
              "      fill: #1967D2;\n",
              "      height: 32px;\n",
              "      padding: 0 0 0 0;\n",
              "      width: 32px;\n",
              "    }\n",
              "\n",
              "    .colab-df-convert:hover {\n",
              "      background-color: #E2EBFA;\n",
              "      box-shadow: 0px 1px 2px rgba(60, 64, 67, 0.3), 0px 1px 3px 1px rgba(60, 64, 67, 0.15);\n",
              "      fill: #174EA6;\n",
              "    }\n",
              "\n",
              "    [theme=dark] .colab-df-convert {\n",
              "      background-color: #3B4455;\n",
              "      fill: #D2E3FC;\n",
              "    }\n",
              "\n",
              "    [theme=dark] .colab-df-convert:hover {\n",
              "      background-color: #434B5C;\n",
              "      box-shadow: 0px 1px 3px 1px rgba(0, 0, 0, 0.15);\n",
              "      filter: drop-shadow(0px 1px 2px rgba(0, 0, 0, 0.3));\n",
              "      fill: #FFFFFF;\n",
              "    }\n",
              "  </style>\n",
              "\n",
              "      <script>\n",
              "        const buttonEl =\n",
              "          document.querySelector('#df-c61af49f-080b-4d3c-9696-59201fb731d6 button.colab-df-convert');\n",
              "        buttonEl.style.display =\n",
              "          google.colab.kernel.accessAllowed ? 'block' : 'none';\n",
              "\n",
              "        async function convertToInteractive(key) {\n",
              "          const element = document.querySelector('#df-c61af49f-080b-4d3c-9696-59201fb731d6');\n",
              "          const dataTable =\n",
              "            await google.colab.kernel.invokeFunction('convertToInteractive',\n",
              "                                                     [key], {});\n",
              "          if (!dataTable) return;\n",
              "\n",
              "          const docLinkHtml = 'Like what you see? Visit the ' +\n",
              "            '<a target=\"_blank\" href=https://colab.research.google.com/notebooks/data_table.ipynb>data table notebook</a>'\n",
              "            + ' to learn more about interactive tables.';\n",
              "          element.innerHTML = '';\n",
              "          dataTable['output_type'] = 'display_data';\n",
              "          await google.colab.output.renderOutput(dataTable, element);\n",
              "          const docLink = document.createElement('div');\n",
              "          docLink.innerHTML = docLinkHtml;\n",
              "          element.appendChild(docLink);\n",
              "        }\n",
              "      </script>\n",
              "    </div>\n",
              "  </div>\n",
              "  "
            ]
          },
          "metadata": {},
          "execution_count": 117
        }
      ],
      "source": [
        "#leitura do dataframe\n",
        "candidatos_goias.head(6)"
      ]
    },
    {
      "cell_type": "markdown",
      "metadata": {
        "id": "hSSilMH0BwCF"
      },
      "source": [
        "`Analisando o dicionário dos dados, foi escolhido as colunas que melhor se aplicava para fazer a analise dos dados. Está colunas foram:`\n",
        "\n",
        "\n",
        "```\n",
        "# ANO_ELEICAO\n",
        "# CD_TIPO_ELEICAO\n",
        "# NR_TURNO\n",
        "# CD_ELEICAO\n",
        "# DS_ELEICAO\n",
        "# TP_ABRANGENCIA\n",
        "# SG_UF\n",
        "# SG_UE\n",
        "# NM_UE\n",
        "# NM_CANDIDATO\n",
        "# NM_URNA_CANDIDATO \n",
        "# CD_SITUACAO_CANDIDATURA\n",
        "# DS_SITUACAO_CANDIDATURA\n",
        "# SG_PARTIDO\n",
        "# NM_PARTIDO\n",
        "# DS_NACIONALIDADE\n",
        "# DT_NASCIMENTO\n",
        "# NR_IDADE_DATA_POSSE\n",
        "# DS_GENERO\n",
        "# DS_GRAU_INSTRUCAO\n",
        "# DS_ESTADO_CIVIL\n",
        "# DS_COR_RACA\n",
        "# DS_OCUPACAO\n",
        "# VR_DESPESA_MAX_CAMPANHA\n",
        "# DS_SIT_TOT_TURNO\n",
        "# ST_REELEICAO \n",
        "# DS_SITUACAO_CANDIDATO_URNA\n",
        "# ST_CANDIDATO_INSERIDO_URNA\n",
        "```\n",
        "\n",
        "\n",
        "\n",
        "\n",
        "\n"
      ]
    },
    {
      "cell_type": "markdown",
      "metadata": {
        "id": "c-6P5vUjL8aF"
      },
      "source": [
        "**Adicionando aos dados a ideologia dos partidos**"
      ]
    },
    {
      "cell_type": "code",
      "execution_count": 118,
      "metadata": {
        "colab": {
          "base_uri": "https://localhost:8080/"
        },
        "id": "Q8CwjovDMOVG",
        "outputId": "e89864ab-f3f6-4185-9a70-d475cd1be1c2"
      },
      "outputs": [
        {
          "output_type": "execute_result",
          "data": {
            "text/plain": [
              "PSDB             5615\n",
              "DEM              4774\n",
              "PMDB             4589\n",
              "PP               4534\n",
              "PSD              3884\n",
              "PDT              3653\n",
              "PT               3248\n",
              "PSB              3013\n",
              "PTB              3007\n",
              "PSC              2490\n",
              "PSL              2428\n",
              "PR               2045\n",
              "MDB              1942\n",
              "PROS             1701\n",
              "PTC              1687\n",
              "PRTB             1670\n",
              "PODE             1486\n",
              "PC do B          1366\n",
              "PHS              1309\n",
              "PPS              1299\n",
              "PRB              1244\n",
              "CIDADANIA        1207\n",
              "PV               1147\n",
              "PTN              1067\n",
              "REPUBLICANOS     1061\n",
              "PL               1043\n",
              "PMN               994\n",
              "PATRIOTA          977\n",
              "SOLIDARIEDADE     954\n",
              "PSDC              945\n",
              "PRP               805\n",
              "SD                667\n",
              "PSOL              652\n",
              "PT do B           607\n",
              "AVANTE            499\n",
              "DC                437\n",
              "PPL               323\n",
              "PMB               317\n",
              "REDE              286\n",
              "PCB                71\n",
              "AGIR               63\n",
              "UNIÃO              47\n",
              "NOVO               45\n",
              "PCO                16\n",
              "PSTU               11\n",
              "UP                  9\n",
              "Name: SG_PARTIDO, dtype: int64"
            ]
          },
          "metadata": {},
          "execution_count": 118
        }
      ],
      "source": [
        "candidatos_goias['SG_PARTIDO'].value_counts()"
      ]
    },
    {
      "cell_type": "code",
      "execution_count": 119,
      "metadata": {
        "id": "-46MZ0XjMAdi"
      },
      "outputs": [],
      "source": [
        "# def buscar_ideologia_partido(coluna):\n",
        "#     SG_PARTIDO = {'PMDB':       'CENTRO',\n",
        "#                   'PSDB':       'CENTRO',\n",
        "#                   'PT':        'ESQUERDA',\n",
        "#                   'PFL':        'CENTRO',\n",
        "#                   'PP':         'DIREITA',\n",
        "#                   'PL':         'DIREITA',\n",
        "#                   'PPS':        'CENTRO',\n",
        "#                   'PTB':       'DIREITA',\n",
        "#                   'PDT':        'ESQUERDA',\n",
        "#                   'PSB':        'ESQUERDA',\n",
        "#                   'PPB':        'CENTRO',\n",
        "#                   'PR':        'CENTRO',\n",
        "#                   'PSC':         'DIREITA',\n",
        "#                   'PSDC':        'ESQUERDA',\n",
        "#                   'PSD':         'DIREITA',\n",
        "#                   'DEM':         'DIREITA',\n",
        "#                   'PTN':         'ESQUERDA',\n",
        "#                   'PT do B':     'CENTRO',\n",
        "#                   'PSL':         'DIREITA',\n",
        "#                   'PHS':         'CENTRO',\n",
        "#                   'PST':         'ESQUERDA',\n",
        "#                   'PTC':         'DIREITA',\n",
        "#                   'PMN':         'ESQUERDA',\n",
        "#                   'PRP':         'ESQUERDA',\n",
        "#                   'PV':          'ESQUERDA',\n",
        "#                   'PRTB':        'DIREITA',\n",
        "#                   'PC do B':     'ESQUERDA',\n",
        "#                   'PRB':         'DIREITA',\n",
        "#                   'PSOL':        'ESQUERDA',\n",
        "#                   'PAN':         'DIREITA',\n",
        "#                   'PGT':         'CENTRO',\n",
        "#                   'PSTU':         'ESQUERDA',\n",
        "#                   'PRONA':        'CENTRO',\n",
        "#                   'PPR':          'DIREITA',\n",
        "#                   'PCB':         'ESQUERDA',\n",
        "#                   'PT DO B':      'CENTRO',\n",
        "#                   'PCO':         'ESQUERDA',\n",
        "#                   'PRN':         'DIREITA',\n",
        "#                   'PC do B':      'ESQUERDA',\n",
        "#                   'SD':          'ESQUERDA',\n",
        "#                   'PROS':         'ESQUERDA',\n",
        "#                   'PATRIOTA':     'ESQUERDA',\n",
        "#                   'PPL':          'CENTRO',\n",
        "#                   'REDE':         'ESQUERDA',\n",
        "#                   'MDB':          'ESQUERDA',\n",
        "#                   'SOLIDARIEDADE': 'ESQUERDA',\n",
        "#                   'PODE':          'ESQUERDA',\n",
        "#                   'PMB':          'ESQUERDA'}            \n",
        "               \n",
        "#     return SG_PARTIDO[coluna]"
      ]
    },
    {
      "cell_type": "code",
      "execution_count": 120,
      "metadata": {
        "id": "YFDmypx_L73I"
      },
      "outputs": [],
      "source": [
        "# #Codigo para adicionar o espectro dos partidos ao dataframe\n",
        "# lista = []\n",
        "# for index, linha in candidatos_goias.iterrows():\n",
        "#       valor = linha.SG_PARTIDO\n",
        "#       espectro = buscar_ideologia_partido(f'{valor}')\n",
        "#       lista.append(espectro)\n",
        "# candidatos_goias['ESPECTRO_PARTIDOS']= lista"
      ]
    },
    {
      "cell_type": "code",
      "execution_count": 121,
      "metadata": {
        "id": "rGHQNoxGDG1H"
      },
      "outputs": [],
      "source": [
        "#filtrando as colunas necessárias \n",
        "candidatos_goias = candidatos_goias[['ANO_ELEICAO','CD_TIPO_ELEICAO','NR_TURNO','CD_ELEICAO','DS_ELEICAO','TP_ABRANGENCIA','SG_UF', 'SG_UE','NM_UE','NM_CANDIDATO','NM_URNA_CANDIDATO','CD_SITUACAO_CANDIDATURA','DS_SITUACAO_CANDIDATURA','SG_PARTIDO','NM_PARTIDO','DS_NACIONALIDADE','DT_NASCIMENTO','NR_IDADE_DATA_POSSE','DS_GENERO','DS_GRAU_INSTRUCAO','DS_ESTADO_CIVIL','DS_COR_RACA','VR_DESPESA_MAX_CAMPANHA','DS_SIT_TOT_TURNO','ST_REELEICAO','DS_SITUACAO_CANDIDATO_URNA','ST_CANDIDATO_INSERIDO_URNA']]"
      ]
    },
    {
      "cell_type": "code",
      "execution_count": 122,
      "metadata": {
        "colab": {
          "base_uri": "https://localhost:8080/",
          "height": 412
        },
        "id": "etDR7gcMEMny",
        "outputId": "fe986f3c-550d-47cb-da22-354badc386cf"
      },
      "outputs": [
        {
          "output_type": "execute_result",
          "data": {
            "text/plain": [
              "   ANO_ELEICAO  CD_TIPO_ELEICAO  NR_TURNO  CD_ELEICAO  \\\n",
              "0         2016                2         1         220   \n",
              "1         2016                2         1         220   \n",
              "2         2016                2         1         220   \n",
              "3         2016                2         1         220   \n",
              "\n",
              "                 DS_ELEICAO TP_ABRANGENCIA SG_UF  SG_UE        NM_UE  \\\n",
              "0  Eleições Municipais 2016      MUNICIPAL    GO  93394  DAVINÓPOLIS   \n",
              "1  Eleições Municipais 2016      MUNICIPAL    GO  94293      JANDAIA   \n",
              "2  Eleições Municipais 2016      MUNICIPAL    GO  93734      GOIÂNIA   \n",
              "3  Eleições Municipais 2016      MUNICIPAL    GO  93793     GOIATUBA   \n",
              "\n",
              "                    NM_CANDIDATO NM_URNA_CANDIDATO  CD_SITUACAO_CANDIDATURA  \\\n",
              "0           PAULO CESAR CARNEIRO       PAULO CESAR                       12   \n",
              "1             FABIO ALVES BORGES    FABIO CAPACETE                       12   \n",
              "2       ROBSON PAIXAO DE AZEVEDO        DR. ROBSON                       12   \n",
              "3  WILZELENA MARIA LOPES MARTINS       VILZA LOPES                       12   \n",
              "\n",
              "  DS_SITUACAO_CANDIDATURA SG_PARTIDO  \\\n",
              "0                    APTO         PR   \n",
              "1                    APTO         PR   \n",
              "2                    APTO       PMDB   \n",
              "3                    APTO       PSDB   \n",
              "\n",
              "                                    NM_PARTIDO DS_NACIONALIDADE DT_NASCIMENTO  \\\n",
              "0                         PARTIDO DA REPÚBLICA  BRASILEIRA NATA    11/01/1963   \n",
              "1                         PARTIDO DA REPÚBLICA  BRASILEIRA NATA    01/06/1985   \n",
              "2  PARTIDO DO MOVIMENTO DEMOCRÁTICO BRASILEIRO  BRASILEIRA NATA    15/04/1960   \n",
              "3      PARTIDO DA SOCIAL DEMOCRACIA BRASILEIRA  BRASILEIRA NATA    28/01/1967   \n",
              "\n",
              "   NR_IDADE_DATA_POSSE  DS_GENERO      DS_GRAU_INSTRUCAO DS_ESTADO_CIVIL  \\\n",
              "0                 53.0  MASCULINO    SUPERIOR INCOMPLETO   DIVORCIADO(A)   \n",
              "1                 31.0  MASCULINO  ENSINO MÉDIO COMPLETO       CASADO(A)   \n",
              "2                 56.0  MASCULINO      SUPERIOR COMPLETO       CASADO(A)   \n",
              "3                 49.0   FEMININO  ENSINO MÉDIO COMPLETO       CASADO(A)   \n",
              "\n",
              "  DS_COR_RACA  VR_DESPESA_MAX_CAMPANHA  DS_SIT_TOT_TURNO ST_REELEICAO  \\\n",
              "0      BRANCA                 10803.91  ELEITO POR MÉDIA            N   \n",
              "1      BRANCA                 10803.91          SUPLENTE            N   \n",
              "2      BRANCA                519651.25          SUPLENTE            N   \n",
              "3       PARDA                 38077.10          SUPLENTE            N   \n",
              "\n",
              "  DS_SITUACAO_CANDIDATO_URNA ST_CANDIDATO_INSERIDO_URNA  \n",
              "0                   DEFERIDO                        SIM  \n",
              "1                   DEFERIDO                        SIM  \n",
              "2                   DEFERIDO                        SIM  \n",
              "3                   DEFERIDO                        SIM  "
            ],
            "text/html": [
              "\n",
              "  <div id=\"df-d26e4687-5c0c-4bc6-8755-b10ddd2d6f79\">\n",
              "    <div class=\"colab-df-container\">\n",
              "      <div>\n",
              "<style scoped>\n",
              "    .dataframe tbody tr th:only-of-type {\n",
              "        vertical-align: middle;\n",
              "    }\n",
              "\n",
              "    .dataframe tbody tr th {\n",
              "        vertical-align: top;\n",
              "    }\n",
              "\n",
              "    .dataframe thead th {\n",
              "        text-align: right;\n",
              "    }\n",
              "</style>\n",
              "<table border=\"1\" class=\"dataframe\">\n",
              "  <thead>\n",
              "    <tr style=\"text-align: right;\">\n",
              "      <th></th>\n",
              "      <th>ANO_ELEICAO</th>\n",
              "      <th>CD_TIPO_ELEICAO</th>\n",
              "      <th>NR_TURNO</th>\n",
              "      <th>CD_ELEICAO</th>\n",
              "      <th>DS_ELEICAO</th>\n",
              "      <th>TP_ABRANGENCIA</th>\n",
              "      <th>SG_UF</th>\n",
              "      <th>SG_UE</th>\n",
              "      <th>NM_UE</th>\n",
              "      <th>NM_CANDIDATO</th>\n",
              "      <th>NM_URNA_CANDIDATO</th>\n",
              "      <th>CD_SITUACAO_CANDIDATURA</th>\n",
              "      <th>DS_SITUACAO_CANDIDATURA</th>\n",
              "      <th>SG_PARTIDO</th>\n",
              "      <th>NM_PARTIDO</th>\n",
              "      <th>DS_NACIONALIDADE</th>\n",
              "      <th>DT_NASCIMENTO</th>\n",
              "      <th>NR_IDADE_DATA_POSSE</th>\n",
              "      <th>DS_GENERO</th>\n",
              "      <th>DS_GRAU_INSTRUCAO</th>\n",
              "      <th>DS_ESTADO_CIVIL</th>\n",
              "      <th>DS_COR_RACA</th>\n",
              "      <th>VR_DESPESA_MAX_CAMPANHA</th>\n",
              "      <th>DS_SIT_TOT_TURNO</th>\n",
              "      <th>ST_REELEICAO</th>\n",
              "      <th>DS_SITUACAO_CANDIDATO_URNA</th>\n",
              "      <th>ST_CANDIDATO_INSERIDO_URNA</th>\n",
              "    </tr>\n",
              "  </thead>\n",
              "  <tbody>\n",
              "    <tr>\n",
              "      <th>0</th>\n",
              "      <td>2016</td>\n",
              "      <td>2</td>\n",
              "      <td>1</td>\n",
              "      <td>220</td>\n",
              "      <td>Eleições Municipais 2016</td>\n",
              "      <td>MUNICIPAL</td>\n",
              "      <td>GO</td>\n",
              "      <td>93394</td>\n",
              "      <td>DAVINÓPOLIS</td>\n",
              "      <td>PAULO CESAR CARNEIRO</td>\n",
              "      <td>PAULO CESAR</td>\n",
              "      <td>12</td>\n",
              "      <td>APTO</td>\n",
              "      <td>PR</td>\n",
              "      <td>PARTIDO DA REPÚBLICA</td>\n",
              "      <td>BRASILEIRA NATA</td>\n",
              "      <td>11/01/1963</td>\n",
              "      <td>53.0</td>\n",
              "      <td>MASCULINO</td>\n",
              "      <td>SUPERIOR INCOMPLETO</td>\n",
              "      <td>DIVORCIADO(A)</td>\n",
              "      <td>BRANCA</td>\n",
              "      <td>10803.91</td>\n",
              "      <td>ELEITO POR MÉDIA</td>\n",
              "      <td>N</td>\n",
              "      <td>DEFERIDO</td>\n",
              "      <td>SIM</td>\n",
              "    </tr>\n",
              "    <tr>\n",
              "      <th>1</th>\n",
              "      <td>2016</td>\n",
              "      <td>2</td>\n",
              "      <td>1</td>\n",
              "      <td>220</td>\n",
              "      <td>Eleições Municipais 2016</td>\n",
              "      <td>MUNICIPAL</td>\n",
              "      <td>GO</td>\n",
              "      <td>94293</td>\n",
              "      <td>JANDAIA</td>\n",
              "      <td>FABIO ALVES BORGES</td>\n",
              "      <td>FABIO CAPACETE</td>\n",
              "      <td>12</td>\n",
              "      <td>APTO</td>\n",
              "      <td>PR</td>\n",
              "      <td>PARTIDO DA REPÚBLICA</td>\n",
              "      <td>BRASILEIRA NATA</td>\n",
              "      <td>01/06/1985</td>\n",
              "      <td>31.0</td>\n",
              "      <td>MASCULINO</td>\n",
              "      <td>ENSINO MÉDIO COMPLETO</td>\n",
              "      <td>CASADO(A)</td>\n",
              "      <td>BRANCA</td>\n",
              "      <td>10803.91</td>\n",
              "      <td>SUPLENTE</td>\n",
              "      <td>N</td>\n",
              "      <td>DEFERIDO</td>\n",
              "      <td>SIM</td>\n",
              "    </tr>\n",
              "    <tr>\n",
              "      <th>2</th>\n",
              "      <td>2016</td>\n",
              "      <td>2</td>\n",
              "      <td>1</td>\n",
              "      <td>220</td>\n",
              "      <td>Eleições Municipais 2016</td>\n",
              "      <td>MUNICIPAL</td>\n",
              "      <td>GO</td>\n",
              "      <td>93734</td>\n",
              "      <td>GOIÂNIA</td>\n",
              "      <td>ROBSON PAIXAO DE AZEVEDO</td>\n",
              "      <td>DR. ROBSON</td>\n",
              "      <td>12</td>\n",
              "      <td>APTO</td>\n",
              "      <td>PMDB</td>\n",
              "      <td>PARTIDO DO MOVIMENTO DEMOCRÁTICO BRASILEIRO</td>\n",
              "      <td>BRASILEIRA NATA</td>\n",
              "      <td>15/04/1960</td>\n",
              "      <td>56.0</td>\n",
              "      <td>MASCULINO</td>\n",
              "      <td>SUPERIOR COMPLETO</td>\n",
              "      <td>CASADO(A)</td>\n",
              "      <td>BRANCA</td>\n",
              "      <td>519651.25</td>\n",
              "      <td>SUPLENTE</td>\n",
              "      <td>N</td>\n",
              "      <td>DEFERIDO</td>\n",
              "      <td>SIM</td>\n",
              "    </tr>\n",
              "    <tr>\n",
              "      <th>3</th>\n",
              "      <td>2016</td>\n",
              "      <td>2</td>\n",
              "      <td>1</td>\n",
              "      <td>220</td>\n",
              "      <td>Eleições Municipais 2016</td>\n",
              "      <td>MUNICIPAL</td>\n",
              "      <td>GO</td>\n",
              "      <td>93793</td>\n",
              "      <td>GOIATUBA</td>\n",
              "      <td>WILZELENA MARIA LOPES MARTINS</td>\n",
              "      <td>VILZA LOPES</td>\n",
              "      <td>12</td>\n",
              "      <td>APTO</td>\n",
              "      <td>PSDB</td>\n",
              "      <td>PARTIDO DA SOCIAL DEMOCRACIA BRASILEIRA</td>\n",
              "      <td>BRASILEIRA NATA</td>\n",
              "      <td>28/01/1967</td>\n",
              "      <td>49.0</td>\n",
              "      <td>FEMININO</td>\n",
              "      <td>ENSINO MÉDIO COMPLETO</td>\n",
              "      <td>CASADO(A)</td>\n",
              "      <td>PARDA</td>\n",
              "      <td>38077.10</td>\n",
              "      <td>SUPLENTE</td>\n",
              "      <td>N</td>\n",
              "      <td>DEFERIDO</td>\n",
              "      <td>SIM</td>\n",
              "    </tr>\n",
              "  </tbody>\n",
              "</table>\n",
              "</div>\n",
              "      <button class=\"colab-df-convert\" onclick=\"convertToInteractive('df-d26e4687-5c0c-4bc6-8755-b10ddd2d6f79')\"\n",
              "              title=\"Convert this dataframe to an interactive table.\"\n",
              "              style=\"display:none;\">\n",
              "        \n",
              "  <svg xmlns=\"http://www.w3.org/2000/svg\" height=\"24px\"viewBox=\"0 0 24 24\"\n",
              "       width=\"24px\">\n",
              "    <path d=\"M0 0h24v24H0V0z\" fill=\"none\"/>\n",
              "    <path d=\"M18.56 5.44l.94 2.06.94-2.06 2.06-.94-2.06-.94-.94-2.06-.94 2.06-2.06.94zm-11 1L8.5 8.5l.94-2.06 2.06-.94-2.06-.94L8.5 2.5l-.94 2.06-2.06.94zm10 10l.94 2.06.94-2.06 2.06-.94-2.06-.94-.94-2.06-.94 2.06-2.06.94z\"/><path d=\"M17.41 7.96l-1.37-1.37c-.4-.4-.92-.59-1.43-.59-.52 0-1.04.2-1.43.59L10.3 9.45l-7.72 7.72c-.78.78-.78 2.05 0 2.83L4 21.41c.39.39.9.59 1.41.59.51 0 1.02-.2 1.41-.59l7.78-7.78 2.81-2.81c.8-.78.8-2.07 0-2.86zM5.41 20L4 18.59l7.72-7.72 1.47 1.35L5.41 20z\"/>\n",
              "  </svg>\n",
              "      </button>\n",
              "      \n",
              "  <style>\n",
              "    .colab-df-container {\n",
              "      display:flex;\n",
              "      flex-wrap:wrap;\n",
              "      gap: 12px;\n",
              "    }\n",
              "\n",
              "    .colab-df-convert {\n",
              "      background-color: #E8F0FE;\n",
              "      border: none;\n",
              "      border-radius: 50%;\n",
              "      cursor: pointer;\n",
              "      display: none;\n",
              "      fill: #1967D2;\n",
              "      height: 32px;\n",
              "      padding: 0 0 0 0;\n",
              "      width: 32px;\n",
              "    }\n",
              "\n",
              "    .colab-df-convert:hover {\n",
              "      background-color: #E2EBFA;\n",
              "      box-shadow: 0px 1px 2px rgba(60, 64, 67, 0.3), 0px 1px 3px 1px rgba(60, 64, 67, 0.15);\n",
              "      fill: #174EA6;\n",
              "    }\n",
              "\n",
              "    [theme=dark] .colab-df-convert {\n",
              "      background-color: #3B4455;\n",
              "      fill: #D2E3FC;\n",
              "    }\n",
              "\n",
              "    [theme=dark] .colab-df-convert:hover {\n",
              "      background-color: #434B5C;\n",
              "      box-shadow: 0px 1px 3px 1px rgba(0, 0, 0, 0.15);\n",
              "      filter: drop-shadow(0px 1px 2px rgba(0, 0, 0, 0.3));\n",
              "      fill: #FFFFFF;\n",
              "    }\n",
              "  </style>\n",
              "\n",
              "      <script>\n",
              "        const buttonEl =\n",
              "          document.querySelector('#df-d26e4687-5c0c-4bc6-8755-b10ddd2d6f79 button.colab-df-convert');\n",
              "        buttonEl.style.display =\n",
              "          google.colab.kernel.accessAllowed ? 'block' : 'none';\n",
              "\n",
              "        async function convertToInteractive(key) {\n",
              "          const element = document.querySelector('#df-d26e4687-5c0c-4bc6-8755-b10ddd2d6f79');\n",
              "          const dataTable =\n",
              "            await google.colab.kernel.invokeFunction('convertToInteractive',\n",
              "                                                     [key], {});\n",
              "          if (!dataTable) return;\n",
              "\n",
              "          const docLinkHtml = 'Like what you see? Visit the ' +\n",
              "            '<a target=\"_blank\" href=https://colab.research.google.com/notebooks/data_table.ipynb>data table notebook</a>'\n",
              "            + ' to learn more about interactive tables.';\n",
              "          element.innerHTML = '';\n",
              "          dataTable['output_type'] = 'display_data';\n",
              "          await google.colab.output.renderOutput(dataTable, element);\n",
              "          const docLink = document.createElement('div');\n",
              "          docLink.innerHTML = docLinkHtml;\n",
              "          element.appendChild(docLink);\n",
              "        }\n",
              "      </script>\n",
              "    </div>\n",
              "  </div>\n",
              "  "
            ]
          },
          "metadata": {},
          "execution_count": 122
        }
      ],
      "source": [
        "candidatos_goias.head(4)"
      ]
    },
    {
      "cell_type": "code",
      "execution_count": 123,
      "metadata": {
        "colab": {
          "base_uri": "https://localhost:8080/"
        },
        "id": "T8JNjmiJgoVC",
        "outputId": "2ecd4314-54be-4459-a284-a6b795c522af"
      },
      "outputs": [
        {
          "output_type": "execute_result",
          "data": {
            "text/plain": [
              "array([2016, 2018, 2020, 2010, 2012, 2014, 2022])"
            ]
          },
          "metadata": {},
          "execution_count": 123
        }
      ],
      "source": [
        "candidatos_goias['ANO_ELEICAO'].unique()"
      ]
    },
    {
      "cell_type": "markdown",
      "metadata": {
        "id": "0ahL33ZsxqsW"
      },
      "source": [
        "`Fazendo a descrição dos dados`"
      ]
    },
    {
      "cell_type": "code",
      "execution_count": 124,
      "metadata": {
        "colab": {
          "base_uri": "https://localhost:8080/",
          "height": 364
        },
        "id": "TmRX7nqBxn9O",
        "outputId": "c8ee5e9b-4e1f-44b9-9200-c9e910becd43"
      },
      "outputs": [
        {
          "output_type": "execute_result",
          "data": {
            "text/plain": [
              "        ANO_ELEICAO  CD_TIPO_ELEICAO      NR_TURNO    CD_ELEICAO  \\\n",
              "count  71234.000000     71234.000000  71234.000000  71234.000000   \n",
              "mean    2016.279501         1.998610      1.000337    245.839922   \n",
              "std        3.367460         0.037254      0.018352    159.052521   \n",
              "min     2010.000000         1.000000      1.000000     37.000000   \n",
              "25%     2012.000000         2.000000      1.000000     47.000000   \n",
              "50%     2016.000000         2.000000      1.000000    220.000000   \n",
              "75%     2020.000000         2.000000      1.000000    426.000000   \n",
              "max     2022.000000         2.000000      2.000000    546.000000   \n",
              "\n",
              "       CD_SITUACAO_CANDIDATURA  NR_IDADE_DATA_POSSE  VR_DESPESA_MAX_CAMPANHA  \n",
              "count             71234.000000         71145.000000             7.123400e+04  \n",
              "mean                 11.317713            44.481144             2.466352e+05  \n",
              "std                   2.386401            17.818667             9.241506e+05  \n",
              "min                   1.000000          -940.000000            -4.000000e+00  \n",
              "25%                  12.000000            36.000000             1.230775e+04  \n",
              "50%                  12.000000            44.000000             3.563052e+04  \n",
              "75%                  12.000000            52.000000             1.205451e+05  \n",
              "max                  12.000000           999.000000             5.000000e+07  "
            ],
            "text/html": [
              "\n",
              "  <div id=\"df-0284d923-2932-4b80-9b26-4c17f5c6d8bd\">\n",
              "    <div class=\"colab-df-container\">\n",
              "      <div>\n",
              "<style scoped>\n",
              "    .dataframe tbody tr th:only-of-type {\n",
              "        vertical-align: middle;\n",
              "    }\n",
              "\n",
              "    .dataframe tbody tr th {\n",
              "        vertical-align: top;\n",
              "    }\n",
              "\n",
              "    .dataframe thead th {\n",
              "        text-align: right;\n",
              "    }\n",
              "</style>\n",
              "<table border=\"1\" class=\"dataframe\">\n",
              "  <thead>\n",
              "    <tr style=\"text-align: right;\">\n",
              "      <th></th>\n",
              "      <th>ANO_ELEICAO</th>\n",
              "      <th>CD_TIPO_ELEICAO</th>\n",
              "      <th>NR_TURNO</th>\n",
              "      <th>CD_ELEICAO</th>\n",
              "      <th>CD_SITUACAO_CANDIDATURA</th>\n",
              "      <th>NR_IDADE_DATA_POSSE</th>\n",
              "      <th>VR_DESPESA_MAX_CAMPANHA</th>\n",
              "    </tr>\n",
              "  </thead>\n",
              "  <tbody>\n",
              "    <tr>\n",
              "      <th>count</th>\n",
              "      <td>71234.000000</td>\n",
              "      <td>71234.000000</td>\n",
              "      <td>71234.000000</td>\n",
              "      <td>71234.000000</td>\n",
              "      <td>71234.000000</td>\n",
              "      <td>71145.000000</td>\n",
              "      <td>7.123400e+04</td>\n",
              "    </tr>\n",
              "    <tr>\n",
              "      <th>mean</th>\n",
              "      <td>2016.279501</td>\n",
              "      <td>1.998610</td>\n",
              "      <td>1.000337</td>\n",
              "      <td>245.839922</td>\n",
              "      <td>11.317713</td>\n",
              "      <td>44.481144</td>\n",
              "      <td>2.466352e+05</td>\n",
              "    </tr>\n",
              "    <tr>\n",
              "      <th>std</th>\n",
              "      <td>3.367460</td>\n",
              "      <td>0.037254</td>\n",
              "      <td>0.018352</td>\n",
              "      <td>159.052521</td>\n",
              "      <td>2.386401</td>\n",
              "      <td>17.818667</td>\n",
              "      <td>9.241506e+05</td>\n",
              "    </tr>\n",
              "    <tr>\n",
              "      <th>min</th>\n",
              "      <td>2010.000000</td>\n",
              "      <td>1.000000</td>\n",
              "      <td>1.000000</td>\n",
              "      <td>37.000000</td>\n",
              "      <td>1.000000</td>\n",
              "      <td>-940.000000</td>\n",
              "      <td>-4.000000e+00</td>\n",
              "    </tr>\n",
              "    <tr>\n",
              "      <th>25%</th>\n",
              "      <td>2012.000000</td>\n",
              "      <td>2.000000</td>\n",
              "      <td>1.000000</td>\n",
              "      <td>47.000000</td>\n",
              "      <td>12.000000</td>\n",
              "      <td>36.000000</td>\n",
              "      <td>1.230775e+04</td>\n",
              "    </tr>\n",
              "    <tr>\n",
              "      <th>50%</th>\n",
              "      <td>2016.000000</td>\n",
              "      <td>2.000000</td>\n",
              "      <td>1.000000</td>\n",
              "      <td>220.000000</td>\n",
              "      <td>12.000000</td>\n",
              "      <td>44.000000</td>\n",
              "      <td>3.563052e+04</td>\n",
              "    </tr>\n",
              "    <tr>\n",
              "      <th>75%</th>\n",
              "      <td>2020.000000</td>\n",
              "      <td>2.000000</td>\n",
              "      <td>1.000000</td>\n",
              "      <td>426.000000</td>\n",
              "      <td>12.000000</td>\n",
              "      <td>52.000000</td>\n",
              "      <td>1.205451e+05</td>\n",
              "    </tr>\n",
              "    <tr>\n",
              "      <th>max</th>\n",
              "      <td>2022.000000</td>\n",
              "      <td>2.000000</td>\n",
              "      <td>2.000000</td>\n",
              "      <td>546.000000</td>\n",
              "      <td>12.000000</td>\n",
              "      <td>999.000000</td>\n",
              "      <td>5.000000e+07</td>\n",
              "    </tr>\n",
              "  </tbody>\n",
              "</table>\n",
              "</div>\n",
              "      <button class=\"colab-df-convert\" onclick=\"convertToInteractive('df-0284d923-2932-4b80-9b26-4c17f5c6d8bd')\"\n",
              "              title=\"Convert this dataframe to an interactive table.\"\n",
              "              style=\"display:none;\">\n",
              "        \n",
              "  <svg xmlns=\"http://www.w3.org/2000/svg\" height=\"24px\"viewBox=\"0 0 24 24\"\n",
              "       width=\"24px\">\n",
              "    <path d=\"M0 0h24v24H0V0z\" fill=\"none\"/>\n",
              "    <path d=\"M18.56 5.44l.94 2.06.94-2.06 2.06-.94-2.06-.94-.94-2.06-.94 2.06-2.06.94zm-11 1L8.5 8.5l.94-2.06 2.06-.94-2.06-.94L8.5 2.5l-.94 2.06-2.06.94zm10 10l.94 2.06.94-2.06 2.06-.94-2.06-.94-.94-2.06-.94 2.06-2.06.94z\"/><path d=\"M17.41 7.96l-1.37-1.37c-.4-.4-.92-.59-1.43-.59-.52 0-1.04.2-1.43.59L10.3 9.45l-7.72 7.72c-.78.78-.78 2.05 0 2.83L4 21.41c.39.39.9.59 1.41.59.51 0 1.02-.2 1.41-.59l7.78-7.78 2.81-2.81c.8-.78.8-2.07 0-2.86zM5.41 20L4 18.59l7.72-7.72 1.47 1.35L5.41 20z\"/>\n",
              "  </svg>\n",
              "      </button>\n",
              "      \n",
              "  <style>\n",
              "    .colab-df-container {\n",
              "      display:flex;\n",
              "      flex-wrap:wrap;\n",
              "      gap: 12px;\n",
              "    }\n",
              "\n",
              "    .colab-df-convert {\n",
              "      background-color: #E8F0FE;\n",
              "      border: none;\n",
              "      border-radius: 50%;\n",
              "      cursor: pointer;\n",
              "      display: none;\n",
              "      fill: #1967D2;\n",
              "      height: 32px;\n",
              "      padding: 0 0 0 0;\n",
              "      width: 32px;\n",
              "    }\n",
              "\n",
              "    .colab-df-convert:hover {\n",
              "      background-color: #E2EBFA;\n",
              "      box-shadow: 0px 1px 2px rgba(60, 64, 67, 0.3), 0px 1px 3px 1px rgba(60, 64, 67, 0.15);\n",
              "      fill: #174EA6;\n",
              "    }\n",
              "\n",
              "    [theme=dark] .colab-df-convert {\n",
              "      background-color: #3B4455;\n",
              "      fill: #D2E3FC;\n",
              "    }\n",
              "\n",
              "    [theme=dark] .colab-df-convert:hover {\n",
              "      background-color: #434B5C;\n",
              "      box-shadow: 0px 1px 3px 1px rgba(0, 0, 0, 0.15);\n",
              "      filter: drop-shadow(0px 1px 2px rgba(0, 0, 0, 0.3));\n",
              "      fill: #FFFFFF;\n",
              "    }\n",
              "  </style>\n",
              "\n",
              "      <script>\n",
              "        const buttonEl =\n",
              "          document.querySelector('#df-0284d923-2932-4b80-9b26-4c17f5c6d8bd button.colab-df-convert');\n",
              "        buttonEl.style.display =\n",
              "          google.colab.kernel.accessAllowed ? 'block' : 'none';\n",
              "\n",
              "        async function convertToInteractive(key) {\n",
              "          const element = document.querySelector('#df-0284d923-2932-4b80-9b26-4c17f5c6d8bd');\n",
              "          const dataTable =\n",
              "            await google.colab.kernel.invokeFunction('convertToInteractive',\n",
              "                                                     [key], {});\n",
              "          if (!dataTable) return;\n",
              "\n",
              "          const docLinkHtml = 'Like what you see? Visit the ' +\n",
              "            '<a target=\"_blank\" href=https://colab.research.google.com/notebooks/data_table.ipynb>data table notebook</a>'\n",
              "            + ' to learn more about interactive tables.';\n",
              "          element.innerHTML = '';\n",
              "          dataTable['output_type'] = 'display_data';\n",
              "          await google.colab.output.renderOutput(dataTable, element);\n",
              "          const docLink = document.createElement('div');\n",
              "          docLink.innerHTML = docLinkHtml;\n",
              "          element.appendChild(docLink);\n",
              "        }\n",
              "      </script>\n",
              "    </div>\n",
              "  </div>\n",
              "  "
            ]
          },
          "metadata": {},
          "execution_count": 124
        }
      ],
      "source": [
        "candidatos_goias.describe()"
      ]
    },
    {
      "cell_type": "markdown",
      "metadata": {
        "id": "7TvdcQJixvJe"
      },
      "source": [
        "Como foi visto, os dados de gastos possuí valores negativos: 2 alternativas para tratar o dado, remover as linhas com valores negativos, porem perderia informações relevantes, ou preencher com a media, mas é preciso do valor exato pra fazer alguns calculos.  Se o valor foi registrado errado, talvez multiplicando por - 1 resolva, mas não se sabe se é valor negativado, ou houve um erro ao cadastrar, seria necessário uma investigação maior. Para essa análise irei multiplicar os valores negativos por -1  ultilizando o python"
      ]
    },
    {
      "cell_type": "markdown",
      "metadata": {
        "id": "Dk2Lil48yV64"
      },
      "source": [
        "**Removendo valores negativos de gastos de campanhas**"
      ]
    },
    {
      "cell_type": "markdown",
      "metadata": {
        "id": "on0_a47gFkwJ"
      },
      "source": [
        "**Como eu nao tenho memoria para remover os dados usando o labda, irei deixa-los**"
      ]
    },
    {
      "cell_type": "code",
      "execution_count": 125,
      "metadata": {
        "id": "KxOC84QYAQnk"
      },
      "outputs": [],
      "source": [
        "import numpy as np"
      ]
    },
    {
      "cell_type": "code",
      "execution_count": 126,
      "metadata": {
        "id": "kAAwZ5Vr1q89"
      },
      "outputs": [],
      "source": [
        "#candidatos_goias['VR_DESPESA_MAX_CAMPANHA'].apply(lambda x: abs(candidatos_goias['VR_DESPESA_MAX_CAMPANHA']))"
      ]
    },
    {
      "cell_type": "code",
      "execution_count": 127,
      "metadata": {
        "colab": {
          "base_uri": "https://localhost:8080/",
          "height": 364
        },
        "id": "6K8jNZVuz9I-",
        "outputId": "f9451263-872b-4d37-ecc6-3b8e526a8233"
      },
      "outputs": [
        {
          "output_type": "execute_result",
          "data": {
            "text/plain": [
              "        ANO_ELEICAO  CD_TIPO_ELEICAO      NR_TURNO    CD_ELEICAO  \\\n",
              "count  71234.000000     71234.000000  71234.000000  71234.000000   \n",
              "mean    2016.279501         1.998610      1.000337    245.839922   \n",
              "std        3.367460         0.037254      0.018352    159.052521   \n",
              "min     2010.000000         1.000000      1.000000     37.000000   \n",
              "25%     2012.000000         2.000000      1.000000     47.000000   \n",
              "50%     2016.000000         2.000000      1.000000    220.000000   \n",
              "75%     2020.000000         2.000000      1.000000    426.000000   \n",
              "max     2022.000000         2.000000      2.000000    546.000000   \n",
              "\n",
              "       CD_SITUACAO_CANDIDATURA  NR_IDADE_DATA_POSSE  VR_DESPESA_MAX_CAMPANHA  \n",
              "count             71234.000000         71145.000000             7.123400e+04  \n",
              "mean                 11.317713            44.481144             2.466352e+05  \n",
              "std                   2.386401            17.818667             9.241506e+05  \n",
              "min                   1.000000          -940.000000            -4.000000e+00  \n",
              "25%                  12.000000            36.000000             1.230775e+04  \n",
              "50%                  12.000000            44.000000             3.563052e+04  \n",
              "75%                  12.000000            52.000000             1.205451e+05  \n",
              "max                  12.000000           999.000000             5.000000e+07  "
            ],
            "text/html": [
              "\n",
              "  <div id=\"df-c6b7643b-bd04-4314-a594-8c67222ba473\">\n",
              "    <div class=\"colab-df-container\">\n",
              "      <div>\n",
              "<style scoped>\n",
              "    .dataframe tbody tr th:only-of-type {\n",
              "        vertical-align: middle;\n",
              "    }\n",
              "\n",
              "    .dataframe tbody tr th {\n",
              "        vertical-align: top;\n",
              "    }\n",
              "\n",
              "    .dataframe thead th {\n",
              "        text-align: right;\n",
              "    }\n",
              "</style>\n",
              "<table border=\"1\" class=\"dataframe\">\n",
              "  <thead>\n",
              "    <tr style=\"text-align: right;\">\n",
              "      <th></th>\n",
              "      <th>ANO_ELEICAO</th>\n",
              "      <th>CD_TIPO_ELEICAO</th>\n",
              "      <th>NR_TURNO</th>\n",
              "      <th>CD_ELEICAO</th>\n",
              "      <th>CD_SITUACAO_CANDIDATURA</th>\n",
              "      <th>NR_IDADE_DATA_POSSE</th>\n",
              "      <th>VR_DESPESA_MAX_CAMPANHA</th>\n",
              "    </tr>\n",
              "  </thead>\n",
              "  <tbody>\n",
              "    <tr>\n",
              "      <th>count</th>\n",
              "      <td>71234.000000</td>\n",
              "      <td>71234.000000</td>\n",
              "      <td>71234.000000</td>\n",
              "      <td>71234.000000</td>\n",
              "      <td>71234.000000</td>\n",
              "      <td>71145.000000</td>\n",
              "      <td>7.123400e+04</td>\n",
              "    </tr>\n",
              "    <tr>\n",
              "      <th>mean</th>\n",
              "      <td>2016.279501</td>\n",
              "      <td>1.998610</td>\n",
              "      <td>1.000337</td>\n",
              "      <td>245.839922</td>\n",
              "      <td>11.317713</td>\n",
              "      <td>44.481144</td>\n",
              "      <td>2.466352e+05</td>\n",
              "    </tr>\n",
              "    <tr>\n",
              "      <th>std</th>\n",
              "      <td>3.367460</td>\n",
              "      <td>0.037254</td>\n",
              "      <td>0.018352</td>\n",
              "      <td>159.052521</td>\n",
              "      <td>2.386401</td>\n",
              "      <td>17.818667</td>\n",
              "      <td>9.241506e+05</td>\n",
              "    </tr>\n",
              "    <tr>\n",
              "      <th>min</th>\n",
              "      <td>2010.000000</td>\n",
              "      <td>1.000000</td>\n",
              "      <td>1.000000</td>\n",
              "      <td>37.000000</td>\n",
              "      <td>1.000000</td>\n",
              "      <td>-940.000000</td>\n",
              "      <td>-4.000000e+00</td>\n",
              "    </tr>\n",
              "    <tr>\n",
              "      <th>25%</th>\n",
              "      <td>2012.000000</td>\n",
              "      <td>2.000000</td>\n",
              "      <td>1.000000</td>\n",
              "      <td>47.000000</td>\n",
              "      <td>12.000000</td>\n",
              "      <td>36.000000</td>\n",
              "      <td>1.230775e+04</td>\n",
              "    </tr>\n",
              "    <tr>\n",
              "      <th>50%</th>\n",
              "      <td>2016.000000</td>\n",
              "      <td>2.000000</td>\n",
              "      <td>1.000000</td>\n",
              "      <td>220.000000</td>\n",
              "      <td>12.000000</td>\n",
              "      <td>44.000000</td>\n",
              "      <td>3.563052e+04</td>\n",
              "    </tr>\n",
              "    <tr>\n",
              "      <th>75%</th>\n",
              "      <td>2020.000000</td>\n",
              "      <td>2.000000</td>\n",
              "      <td>1.000000</td>\n",
              "      <td>426.000000</td>\n",
              "      <td>12.000000</td>\n",
              "      <td>52.000000</td>\n",
              "      <td>1.205451e+05</td>\n",
              "    </tr>\n",
              "    <tr>\n",
              "      <th>max</th>\n",
              "      <td>2022.000000</td>\n",
              "      <td>2.000000</td>\n",
              "      <td>2.000000</td>\n",
              "      <td>546.000000</td>\n",
              "      <td>12.000000</td>\n",
              "      <td>999.000000</td>\n",
              "      <td>5.000000e+07</td>\n",
              "    </tr>\n",
              "  </tbody>\n",
              "</table>\n",
              "</div>\n",
              "      <button class=\"colab-df-convert\" onclick=\"convertToInteractive('df-c6b7643b-bd04-4314-a594-8c67222ba473')\"\n",
              "              title=\"Convert this dataframe to an interactive table.\"\n",
              "              style=\"display:none;\">\n",
              "        \n",
              "  <svg xmlns=\"http://www.w3.org/2000/svg\" height=\"24px\"viewBox=\"0 0 24 24\"\n",
              "       width=\"24px\">\n",
              "    <path d=\"M0 0h24v24H0V0z\" fill=\"none\"/>\n",
              "    <path d=\"M18.56 5.44l.94 2.06.94-2.06 2.06-.94-2.06-.94-.94-2.06-.94 2.06-2.06.94zm-11 1L8.5 8.5l.94-2.06 2.06-.94-2.06-.94L8.5 2.5l-.94 2.06-2.06.94zm10 10l.94 2.06.94-2.06 2.06-.94-2.06-.94-.94-2.06-.94 2.06-2.06.94z\"/><path d=\"M17.41 7.96l-1.37-1.37c-.4-.4-.92-.59-1.43-.59-.52 0-1.04.2-1.43.59L10.3 9.45l-7.72 7.72c-.78.78-.78 2.05 0 2.83L4 21.41c.39.39.9.59 1.41.59.51 0 1.02-.2 1.41-.59l7.78-7.78 2.81-2.81c.8-.78.8-2.07 0-2.86zM5.41 20L4 18.59l7.72-7.72 1.47 1.35L5.41 20z\"/>\n",
              "  </svg>\n",
              "      </button>\n",
              "      \n",
              "  <style>\n",
              "    .colab-df-container {\n",
              "      display:flex;\n",
              "      flex-wrap:wrap;\n",
              "      gap: 12px;\n",
              "    }\n",
              "\n",
              "    .colab-df-convert {\n",
              "      background-color: #E8F0FE;\n",
              "      border: none;\n",
              "      border-radius: 50%;\n",
              "      cursor: pointer;\n",
              "      display: none;\n",
              "      fill: #1967D2;\n",
              "      height: 32px;\n",
              "      padding: 0 0 0 0;\n",
              "      width: 32px;\n",
              "    }\n",
              "\n",
              "    .colab-df-convert:hover {\n",
              "      background-color: #E2EBFA;\n",
              "      box-shadow: 0px 1px 2px rgba(60, 64, 67, 0.3), 0px 1px 3px 1px rgba(60, 64, 67, 0.15);\n",
              "      fill: #174EA6;\n",
              "    }\n",
              "\n",
              "    [theme=dark] .colab-df-convert {\n",
              "      background-color: #3B4455;\n",
              "      fill: #D2E3FC;\n",
              "    }\n",
              "\n",
              "    [theme=dark] .colab-df-convert:hover {\n",
              "      background-color: #434B5C;\n",
              "      box-shadow: 0px 1px 3px 1px rgba(0, 0, 0, 0.15);\n",
              "      filter: drop-shadow(0px 1px 2px rgba(0, 0, 0, 0.3));\n",
              "      fill: #FFFFFF;\n",
              "    }\n",
              "  </style>\n",
              "\n",
              "      <script>\n",
              "        const buttonEl =\n",
              "          document.querySelector('#df-c6b7643b-bd04-4314-a594-8c67222ba473 button.colab-df-convert');\n",
              "        buttonEl.style.display =\n",
              "          google.colab.kernel.accessAllowed ? 'block' : 'none';\n",
              "\n",
              "        async function convertToInteractive(key) {\n",
              "          const element = document.querySelector('#df-c6b7643b-bd04-4314-a594-8c67222ba473');\n",
              "          const dataTable =\n",
              "            await google.colab.kernel.invokeFunction('convertToInteractive',\n",
              "                                                     [key], {});\n",
              "          if (!dataTable) return;\n",
              "\n",
              "          const docLinkHtml = 'Like what you see? Visit the ' +\n",
              "            '<a target=\"_blank\" href=https://colab.research.google.com/notebooks/data_table.ipynb>data table notebook</a>'\n",
              "            + ' to learn more about interactive tables.';\n",
              "          element.innerHTML = '';\n",
              "          dataTable['output_type'] = 'display_data';\n",
              "          await google.colab.output.renderOutput(dataTable, element);\n",
              "          const docLink = document.createElement('div');\n",
              "          docLink.innerHTML = docLinkHtml;\n",
              "          element.appendChild(docLink);\n",
              "        }\n",
              "      </script>\n",
              "    </div>\n",
              "  </div>\n",
              "  "
            ]
          },
          "metadata": {},
          "execution_count": 127
        }
      ],
      "source": [
        "candidatos_goias.describe()"
      ]
    },
    {
      "cell_type": "markdown",
      "metadata": {
        "id": "VjLlNmL4IQFO"
      },
      "source": [
        "**Verificando dados vazios nos dados**"
      ]
    },
    {
      "cell_type": "code",
      "execution_count": 128,
      "metadata": {
        "colab": {
          "base_uri": "https://localhost:8080/"
        },
        "id": "mHOMQiTSx44o",
        "outputId": "0c8a0884-3d93-4f34-d66e-ac669585891c"
      },
      "outputs": [
        {
          "output_type": "execute_result",
          "data": {
            "text/plain": [
              "ANO_ELEICAO                    0\n",
              "CD_TIPO_ELEICAO                0\n",
              "NR_TURNO                       0\n",
              "CD_ELEICAO                     0\n",
              "DS_ELEICAO                     0\n",
              "TP_ABRANGENCIA                 0\n",
              "SG_UF                          0\n",
              "SG_UE                          0\n",
              "NM_UE                          0\n",
              "NM_CANDIDATO                   0\n",
              "NM_URNA_CANDIDATO              0\n",
              "CD_SITUACAO_CANDIDATURA        0\n",
              "DS_SITUACAO_CANDIDATURA        0\n",
              "SG_PARTIDO                     0\n",
              "NM_PARTIDO                     0\n",
              "DS_NACIONALIDADE               0\n",
              "DT_NASCIMENTO                 89\n",
              "NR_IDADE_DATA_POSSE           89\n",
              "DS_GENERO                      0\n",
              "DS_GRAU_INSTRUCAO              0\n",
              "DS_ESTADO_CIVIL                0\n",
              "DS_COR_RACA                    0\n",
              "VR_DESPESA_MAX_CAMPANHA        0\n",
              "DS_SIT_TOT_TURNO               0\n",
              "ST_REELEICAO                   0\n",
              "DS_SITUACAO_CANDIDATO_URNA     0\n",
              "ST_CANDIDATO_INSERIDO_URNA     0\n",
              "dtype: int64"
            ]
          },
          "metadata": {},
          "execution_count": 128
        }
      ],
      "source": [
        "candidatos_goias.isnull().sum()"
      ]
    },
    {
      "cell_type": "markdown",
      "metadata": {
        "id": "bGAPx-7JJbpV"
      },
      "source": [
        "`Como apenas a coluna NM_URNA_CANDIDATO tem valor nulo e é apenas 1, então essa linha poderá ser excluída, caso fosse mais linhas nulos, teria que tomar outra decisão para tratar o valor nulo`"
      ]
    },
    {
      "cell_type": "code",
      "execution_count": 129,
      "metadata": {
        "colab": {
          "base_uri": "https://localhost:8080/"
        },
        "id": "YO9DpzgQI7Hc",
        "outputId": "6623d4dd-f092-4a87-91a7-5e27f5fcd3ac"
      },
      "outputs": [
        {
          "output_type": "execute_result",
          "data": {
            "text/plain": [
              "ANO_ELEICAO                   0\n",
              "CD_TIPO_ELEICAO               0\n",
              "NR_TURNO                      0\n",
              "CD_ELEICAO                    0\n",
              "DS_ELEICAO                    0\n",
              "TP_ABRANGENCIA                0\n",
              "SG_UF                         0\n",
              "SG_UE                         0\n",
              "NM_UE                         0\n",
              "NM_CANDIDATO                  0\n",
              "NM_URNA_CANDIDATO             0\n",
              "CD_SITUACAO_CANDIDATURA       0\n",
              "DS_SITUACAO_CANDIDATURA       0\n",
              "SG_PARTIDO                    0\n",
              "NM_PARTIDO                    0\n",
              "DS_NACIONALIDADE              0\n",
              "DT_NASCIMENTO                 0\n",
              "NR_IDADE_DATA_POSSE           0\n",
              "DS_GENERO                     0\n",
              "DS_GRAU_INSTRUCAO             0\n",
              "DS_ESTADO_CIVIL               0\n",
              "DS_COR_RACA                   0\n",
              "VR_DESPESA_MAX_CAMPANHA       0\n",
              "DS_SIT_TOT_TURNO              0\n",
              "ST_REELEICAO                  0\n",
              "DS_SITUACAO_CANDIDATO_URNA    0\n",
              "ST_CANDIDATO_INSERIDO_URNA    0\n",
              "dtype: int64"
            ]
          },
          "metadata": {},
          "execution_count": 129
        }
      ],
      "source": [
        "candidatos_goias.dropna(inplace =True)\n",
        "candidatos_goias.isnull().sum()"
      ]
    },
    {
      "cell_type": "markdown",
      "metadata": {
        "id": "DJdUNJqOKGew"
      },
      "source": [
        "`Após os dados nulos serem removidos será iniciado a análise dos dados os candidatos de  1994  até 2008`"
      ]
    },
    {
      "cell_type": "markdown",
      "metadata": {
        "id": "e3fknnSCKUs_"
      },
      "source": [
        "O que está análise vai tratar \n",
        "*   Quantas candidatos inscritos\n",
        "*   Quantos candidatos por raça \n",
        "*   Quantos candidatos por escolaridade\n",
        "*   Faixa etária dos candidatos por raça e sexo\n",
        "*   Porcentagem de candidatos escrito por raça, escolaridade, sexo\n",
        "*   Quantidade de partidos\n",
        "*   Quantidade de partido por sexo e raça\n",
        "*   Quantidade de escrito por estado civil\n",
        "*   Estado civil dos candidatos por genero\n",
        "*   Qual partido teve mais inscritos por raça e genero\n",
        "*   Qual partido mais elegeu\n",
        "*   Os candidatos mais eleitos usaram nome de algum candidatos que estava em alta na epóca \n",
        "*   O gasto com campanhas influência ao vencer eleição\n",
        "\n",
        "\n",
        "\n",
        "\n",
        "\n",
        "\n",
        "\n",
        "\n",
        "\n",
        "\n",
        "\n",
        "\n",
        "\n",
        "\n",
        "\n",
        "\n"
      ]
    },
    {
      "cell_type": "markdown",
      "metadata": {
        "id": "cUfZhviyuIPE"
      },
      "source": [
        "*Após uma análise mais profunda dos dados, notei que existe variação de eleitos. </br>Eleitos por média e Eleitos por PQ. \n",
        "irei padronizar todos para Eleitos. </br>Para facilitar a análise dos dados* "
      ]
    },
    {
      "cell_type": "markdown",
      "metadata": {
        "id": "mXbbK5dfuf6n"
      },
      "source": [
        "`Padronização dos eleitos`"
      ]
    },
    {
      "cell_type": "code",
      "execution_count": 130,
      "metadata": {
        "colab": {
          "base_uri": "https://localhost:8080/"
        },
        "id": "tyK1j_fnue7L",
        "outputId": "1d496ec3-5cbd-4e7f-d13d-7ec2ae45a753"
      },
      "outputs": [
        {
          "output_type": "stream",
          "name": "stderr",
          "text": [
            "<ipython-input-130-72f0b0478278>:1: SettingWithCopyWarning: \n",
            "A value is trying to be set on a copy of a slice from a DataFrame\n",
            "\n",
            "See the caveats in the documentation: https://pandas.pydata.org/pandas-docs/stable/user_guide/indexing.html#returning-a-view-versus-a-copy\n",
            "  candidatos_goias.DS_SIT_TOT_TURNO[candidatos_goias.DS_SIT_TOT_TURNO == 'ELEITO POR QP'] = 'ELEITO'\n",
            "<ipython-input-130-72f0b0478278>:2: SettingWithCopyWarning: \n",
            "A value is trying to be set on a copy of a slice from a DataFrame\n",
            "\n",
            "See the caveats in the documentation: https://pandas.pydata.org/pandas-docs/stable/user_guide/indexing.html#returning-a-view-versus-a-copy\n",
            "  candidatos_goias.DS_SIT_TOT_TURNO[candidatos_goias.DS_SIT_TOT_TURNO == 'ELEITO POR MÉDIA'] = 'ELEITO'\n"
          ]
        }
      ],
      "source": [
        "candidatos_goias.DS_SIT_TOT_TURNO[candidatos_goias.DS_SIT_TOT_TURNO == 'ELEITO POR QP'] = 'ELEITO'\n",
        "candidatos_goias.DS_SIT_TOT_TURNO[candidatos_goias.DS_SIT_TOT_TURNO == 'ELEITO POR MÉDIA'] = 'ELEITO'"
      ]
    },
    {
      "cell_type": "markdown",
      "metadata": {
        "id": "n9dXqlLNLZXU"
      },
      "source": [
        "**Quantos candidatos inscritos?**\n",
        "\n",
        "\n",
        "\n"
      ]
    },
    {
      "cell_type": "code",
      "execution_count": 131,
      "metadata": {
        "colab": {
          "base_uri": "https://localhost:8080/"
        },
        "id": "aKwc6RsKKA8C",
        "outputId": "e60e154b-551a-4d19-aeba-789519cd5e99"
      },
      "outputs": [
        {
          "output_type": "execute_result",
          "data": {
            "text/plain": [
              "71145"
            ]
          },
          "metadata": {},
          "execution_count": 131
        }
      ],
      "source": [
        "candidatos_goias['ANO_ELEICAO'].count() "
      ]
    },
    {
      "cell_type": "markdown",
      "metadata": {
        "id": "fe9qta89MZvJ"
      },
      "source": [
        "`As candidaturas de 1994 até 2010 soma 50655 cinquenta mil seiscentos e cinquenta e cinco inscritos.`"
      ]
    },
    {
      "cell_type": "markdown",
      "metadata": {
        "id": "TNqBMoVS-Djs"
      },
      "source": [
        "**Quantidade de inscritos por raça**"
      ]
    },
    {
      "cell_type": "code",
      "execution_count": 132,
      "metadata": {
        "colab": {
          "base_uri": "https://localhost:8080/"
        },
        "id": "0fiQQbVo-YJs",
        "outputId": "1c27d7ac-037f-4869-b06f-e2a4c902a524"
      },
      "outputs": [
        {
          "output_type": "execute_result",
          "data": {
            "text/plain": [
              "PARDA            24694\n",
              "#NE#             21404\n",
              "BRANCA           20088\n",
              "PRETA             4327\n",
              "AMARELA            412\n",
              "NÃO INFORMADO      177\n",
              "INDÍGENA            43\n",
              "Name: DS_COR_RACA, dtype: int64"
            ]
          },
          "metadata": {},
          "execution_count": 132
        }
      ],
      "source": [
        "candidatos_goias[\"DS_COR_RACA\"].value_counts()"
      ]
    },
    {
      "cell_type": "markdown",
      "metadata": {
        "id": "nFKMVae7-k_X"
      },
      "source": [
        "**Gráfico de quantidade de inscritos por raça**"
      ]
    },
    {
      "cell_type": "code",
      "execution_count": 133,
      "metadata": {
        "colab": {
          "base_uri": "https://localhost:8080/",
          "height": 281
        },
        "id": "dXAToIB9-qno",
        "outputId": "ea73c1b3-5a30-403d-f1fc-1f90f100b1aa"
      },
      "outputs": [
        {
          "output_type": "error",
          "ename": "TypeError",
          "evalue": "ignored",
          "traceback": [
            "\u001b[0;31m---------------------------------------------------------------------------\u001b[0m",
            "\u001b[0;31mTypeError\u001b[0m                                 Traceback (most recent call last)",
            "\u001b[0;32m<ipython-input-133-d7d07aa5b921>\u001b[0m in \u001b[0;36m<cell line: 2>\u001b[0;34m()\u001b[0m\n\u001b[1;32m      1\u001b[0m \u001b[0mfig\u001b[0m \u001b[0;34m=\u001b[0m \u001b[0mplt\u001b[0m\u001b[0;34m.\u001b[0m\u001b[0mfigure\u001b[0m\u001b[0;34m(\u001b[0m\u001b[0mfigsize\u001b[0m\u001b[0;34m=\u001b[0m\u001b[0;34m(\u001b[0m\u001b[0;36m10\u001b[0m\u001b[0;34m,\u001b[0m\u001b[0;36m5\u001b[0m\u001b[0;34m)\u001b[0m\u001b[0;34m)\u001b[0m\u001b[0;34m\u001b[0m\u001b[0;34m\u001b[0m\u001b[0m\n\u001b[0;32m----> 2\u001b[0;31m \u001b[0mgrafico\u001b[0m \u001b[0;34m=\u001b[0m \u001b[0msns\u001b[0m\u001b[0;34m.\u001b[0m\u001b[0mcountplot\u001b[0m\u001b[0;34m(\u001b[0m\u001b[0;34m'DS_COR_RACA'\u001b[0m\u001b[0;34m,\u001b[0m \u001b[0morder\u001b[0m \u001b[0;34m=\u001b[0m \u001b[0mcandidatos_goias\u001b[0m\u001b[0;34m[\u001b[0m\u001b[0;34m'DS_COR_RACA'\u001b[0m\u001b[0;34m]\u001b[0m\u001b[0;34m.\u001b[0m\u001b[0mvalue_counts\u001b[0m\u001b[0;34m(\u001b[0m\u001b[0;34m)\u001b[0m\u001b[0;34m.\u001b[0m\u001b[0mindex\u001b[0m\u001b[0;34m,\u001b[0m \u001b[0mpalette\u001b[0m\u001b[0;34m=\u001b[0m\u001b[0;34m\"Paired\"\u001b[0m\u001b[0;34m,\u001b[0m  \u001b[0mdata\u001b[0m \u001b[0;34m=\u001b[0m \u001b[0mcandidatos_goias\u001b[0m\u001b[0;34m)\u001b[0m\u001b[0;34m\u001b[0m\u001b[0;34m\u001b[0m\u001b[0m\n\u001b[0m\u001b[1;32m      3\u001b[0m \u001b[0mplt\u001b[0m\u001b[0;34m.\u001b[0m\u001b[0mxticks\u001b[0m\u001b[0;34m(\u001b[0m\u001b[0mrotation\u001b[0m\u001b[0;34m=\u001b[0m\u001b[0;36m90\u001b[0m\u001b[0;34m)\u001b[0m\u001b[0;34m\u001b[0m\u001b[0;34m\u001b[0m\u001b[0m\n\u001b[1;32m      4\u001b[0m \u001b[0;32mfor\u001b[0m \u001b[0mi\u001b[0m \u001b[0;32min\u001b[0m \u001b[0mgrafico\u001b[0m\u001b[0;34m.\u001b[0m\u001b[0mpatches\u001b[0m\u001b[0;34m:\u001b[0m\u001b[0;34m\u001b[0m\u001b[0;34m\u001b[0m\u001b[0m\n\u001b[1;32m      5\u001b[0m    grafico.annotate(i.get_height(),\n",
            "\u001b[0;31mTypeError\u001b[0m: countplot() got multiple values for argument 'data'"
          ]
        },
        {
          "output_type": "display_data",
          "data": {
            "text/plain": [
              "<Figure size 1000x500 with 0 Axes>"
            ]
          },
          "metadata": {}
        }
      ],
      "source": [
        "fig = plt.figure(figsize=(10,5))\n",
        "grafico = sns.countplot('DS_COR_RACA', order = candidatos_goias['DS_COR_RACA'].value_counts().index, palette=\"Paired\",  data = candidatos_goias)\n",
        "plt.xticks(rotation=90)\n",
        "for i in grafico.patches:\n",
        "   grafico.annotate(i.get_height(),\n",
        "                  (i.get_x() + i.get_width() / 2, i.get_height()),\n",
        "                  ha='center',\n",
        "                  va='baseline',\n",
        "                  fontsize=12,\n",
        "                  color='black',\n",
        "                  xytext=(0, 1),\n",
        "                  textcoords='offset points');  \n",
        "plt.xlabel('Raça', fontsize=15)\n",
        "plt.ylabel(' ')\n",
        "plt.title('Grafico quantidade de candidatos por raça',fontsize=15);"
      ]
    },
    {
      "cell_type": "markdown",
      "metadata": {
        "id": "FASQRTw_-0d6"
      },
      "source": [
        "`De acordo com o dicionario dos dados NE são quando os valores não são registrados no banco de dados`"
      ]
    },
    {
      "cell_type": "markdown",
      "metadata": {
        "id": "WBrv17B5_GeA"
      },
      "source": [
        "**Porcentagem de inscritos por raça** "
      ]
    },
    {
      "cell_type": "code",
      "execution_count": null,
      "metadata": {
        "id": "UEarjzqK_Eg3"
      },
      "outputs": [],
      "source": [
        "porcenagem_raca = (candidatos_goias[\"DS_COR_RACA\"].value_counts() / candidatos_goias[\"ANO_ELEICAO\"].count()) * 100\n",
        "porcenagem_raca "
      ]
    },
    {
      "cell_type": "markdown",
      "metadata": {
        "id": "h1h3u6x9Or7f"
      },
      "source": [
        "**Quantidade de inscritos por escolaridade**"
      ]
    },
    {
      "cell_type": "code",
      "execution_count": null,
      "metadata": {
        "id": "N_eATIWmOwMI"
      },
      "outputs": [],
      "source": [
        "candidatos_goias['DS_GRAU_INSTRUCAO'].value_counts()"
      ]
    },
    {
      "cell_type": "markdown",
      "metadata": {
        "id": "dCBsuM3LRis-"
      },
      "source": [
        "**Porcentagem de inscritos por escolaridade**"
      ]
    },
    {
      "cell_type": "code",
      "execution_count": null,
      "metadata": {
        "id": "AafO1e1bRmBi"
      },
      "outputs": [],
      "source": [
        "porc_escolaridade  = candidatos_goias['DS_GRAU_INSTRUCAO'].value_counts() / 71145 * 100 \n",
        "porc_escolaridade"
      ]
    },
    {
      "cell_type": "markdown",
      "metadata": {
        "id": "C9ONH1PfOTqL"
      },
      "source": [
        "**Gráfico de inscritos por escolaridade**"
      ]
    },
    {
      "cell_type": "code",
      "execution_count": null,
      "metadata": {
        "id": "stBLe8e7NqcL"
      },
      "outputs": [],
      "source": [
        "fig = plt.figure(figsize=(10,5))\n",
        "grafico = sns.countplot('DS_GRAU_INSTRUCAO', order = candidatos_goias['DS_GRAU_INSTRUCAO'].value_counts().index, palette=\"Paired\",  data =  candidatos_goias)\n",
        "plt.xticks(rotation=90)\n",
        "for i in grafico.patches:\n",
        "   grafico.annotate(i.get_height(),\n",
        "                  (i.get_x() + i.get_width() / 2, i.get_height()),\n",
        "                  ha='center',\n",
        "                  va='baseline',\n",
        "                  fontsize=12,\n",
        "                  color='black',\n",
        "                  xytext=(0, 1),\n",
        "                  textcoords='offset points');  \n",
        "plt.xlabel('Escolaridade', fontsize=15)\n",
        "plt.ylabel(' ')\n",
        "plt.title('Grafico quantidade por  escolaridade',fontsize=15);"
      ]
    },
    {
      "cell_type": "markdown",
      "metadata": {
        "id": "WVgD1h7UYA7i"
      },
      "source": [
        "**Faixa etaria dos inscritos**"
      ]
    },
    {
      "cell_type": "code",
      "execution_count": null,
      "metadata": {
        "id": "W_oRa89iYdC6"
      },
      "outputs": [],
      "source": [
        "candidatos_goias['NR_IDADE_DATA_POSSE'].unique()"
      ]
    },
    {
      "cell_type": "markdown",
      "metadata": {
        "id": "OUAuO5X6rBXU"
      },
      "source": [
        "**Como foi observado, existe idade com numeros negativos e bem maiores que 100. Então será substituido por zero**"
      ]
    },
    {
      "cell_type": "code",
      "execution_count": null,
      "metadata": {
        "id": "05Palf6Ync99"
      },
      "outputs": [],
      "source": [
        "candidatos_goias.loc[((candidatos_goias.NR_IDADE_DATA_POSSE <= 0 )| (candidatos_goias.NR_IDADE_DATA_POSSE > 100))] = 0\n"
      ]
    },
    {
      "cell_type": "code",
      "execution_count": null,
      "metadata": {
        "id": "XsQ4HuBwpIoL"
      },
      "outputs": [],
      "source": [
        "candidatos_goias['NR_IDADE_DATA_POSSE'].unique()"
      ]
    },
    {
      "cell_type": "markdown",
      "metadata": {
        "id": "f1nYrU3QsRUa"
      },
      "source": [
        "`Valores substituídos por zero. Já que são poucos valores e o zero não seria um valor interresante pra contabilizar, será excluido as linhas que a idade possuí zero `"
      ]
    },
    {
      "cell_type": "code",
      "execution_count": null,
      "metadata": {
        "id": "82-KnY9zsAIo"
      },
      "outputs": [],
      "source": [
        "idade_colunas = candidatos_goias[candidatos_goias['NR_IDADE_DATA_POSSE'] == 0 ].index\n",
        "candidatos_goias.drop(idade_colunas, inplace=True)"
      ]
    },
    {
      "cell_type": "code",
      "execution_count": null,
      "metadata": {
        "id": "1Hc0lQ2GsthT"
      },
      "outputs": [],
      "source": [
        "candidatos_goias['NR_IDADE_DATA_POSSE'].unique()"
      ]
    },
    {
      "cell_type": "markdown",
      "metadata": {
        "id": "4NxRWXvfsuyK"
      },
      "source": [
        "**Idade com valores 0 removidas**"
      ]
    },
    {
      "cell_type": "markdown",
      "metadata": {
        "id": "CcfdIFuaxWQp"
      },
      "source": [
        "**Excluir idade menores que 18**"
      ]
    },
    {
      "cell_type": "code",
      "execution_count": null,
      "metadata": {
        "id": "AGW93MKWxVoW"
      },
      "outputs": [],
      "source": [
        "idade_colunas = candidatos_goias[candidatos_goias['NR_IDADE_DATA_POSSE'] < 18 ].index\n",
        "candidatos_goias.drop(idade_colunas, inplace=True)"
      ]
    },
    {
      "cell_type": "markdown",
      "metadata": {
        "id": "upn-TXlExiKP"
      },
      "source": [
        "**idade menores que 18  excluídas** "
      ]
    },
    {
      "cell_type": "code",
      "execution_count": null,
      "metadata": {
        "id": "lBnNeqiKxnCa"
      },
      "outputs": [],
      "source": [
        "candidatos_goias['NR_IDADE_DATA_POSSE'].unique()"
      ]
    },
    {
      "cell_type": "markdown",
      "metadata": {
        "id": "iyfKunX-szlE"
      },
      "source": [
        "**Total de inscritos por faixa etária**"
      ]
    },
    {
      "cell_type": "code",
      "execution_count": null,
      "metadata": {
        "id": "w4F7wBFDvMPU"
      },
      "outputs": [],
      "source": [
        "#Utilizando sql para cantabilizar quantidade de inscritos maiores ou iguais a 18\n",
        "query = \"\"\"SELECT COUNT(NR_IDADE_DATA_POSSE) as total_inscritos_idade\n",
        "           FROM candidatos_goias\n",
        "           where NR_IDADE_DATA_POSSE >= 18\"\"\"\n",
        "ps.sqldf(query.lower(), locals())"
      ]
    },
    {
      "cell_type": "markdown",
      "metadata": {
        "id": "e2D4-T-6vcO5"
      },
      "source": [
        "**`Quantidade de inscritos por faixa etária**"
      ]
    },
    {
      "cell_type": "code",
      "execution_count": null,
      "metadata": {
        "id": "Pimp-Ou2sreR"
      },
      "outputs": [],
      "source": [
        "#Utilizando sql para cantabilizar a idade \n",
        "query = \"\"\"SELECT NR_IDADE_DATA_POSSE, COUNT(NR_IDADE_DATA_POSSE) as total_inscritos_idade\n",
        "           FROM candidatos_goias\n",
        "           where NR_IDADE_DATA_POSSE >= 18\n",
        "           GROUP BY NR_IDADE_DATA_POSSE\n",
        "           ORDER BY COUNT(NR_IDADE_DATA_POSSE) DESC\"\"\"\n",
        "ps.sqldf(query.lower(), locals())"
      ]
    },
    {
      "cell_type": "markdown",
      "metadata": {
        "id": "HiZb_OXoL6cu"
      },
      "source": [
        "**Quantidade de inscritos por faixa etaria e genero.</br> faixa etária das mulheres X homens que se candidatam**\n"
      ]
    },
    {
      "cell_type": "code",
      "execution_count": null,
      "metadata": {
        "id": "3_uU4whEMH11"
      },
      "outputs": [],
      "source": [
        "cadidato_feminino_idade = candidatos_goias[candidatos_goias['DS_GENERO'] == \"FEMININO\"]"
      ]
    },
    {
      "cell_type": "code",
      "execution_count": null,
      "metadata": {
        "id": "M-ISX-ERMQwn"
      },
      "outputs": [],
      "source": [
        "candidato_masculino_idade = candidatos_goias[candidatos_goias['DS_GENERO'] == \"MASCULINO\"]"
      ]
    },
    {
      "cell_type": "markdown",
      "metadata": {
        "id": "yZeGxAMAMrCv"
      },
      "source": [
        "**Faixa etária das mulheres que mais se candidatam**"
      ]
    },
    {
      "cell_type": "code",
      "execution_count": null,
      "metadata": {
        "id": "DFnFmCqqMqML"
      },
      "outputs": [],
      "source": [
        "#Utilizando sql para contabilizar eleitos masculino por idade\n",
        "query = \"\"\"SELECT  NR_IDADE_DATA_POSSE,COUNT(NR_IDADE_DATA_POSSE) as total_idade\n",
        "           FROM cadidato_feminino_idade\n",
        "           GROUP BY NR_IDADE_DATA_POSSE\n",
        "           ORDER BY COUNT(NR_IDADE_DATA_POSSE) DESC\n",
        "           limit 10\n",
        "           \"\"\"\n",
        "ps.sqldf(query.lower(), locals())"
      ]
    },
    {
      "cell_type": "markdown",
      "metadata": {
        "id": "ki29KWWhMuHf"
      },
      "source": [
        "**Faixa etária dos homens que mais se candidatam**"
      ]
    },
    {
      "cell_type": "code",
      "execution_count": null,
      "metadata": {
        "id": "acBNZtIRMy_d"
      },
      "outputs": [],
      "source": [
        "#Utilizando sql para contabilizar eleitos masculino por idade\n",
        "query = \"\"\"SELECT NR_IDADE_DATA_POSSE,COUNT(NR_IDADE_DATA_POSSE) as total_idade\n",
        "           FROM candidato_masculino_idade \n",
        "           GROUP BY NR_IDADE_DATA_POSSE\n",
        "           ORDER BY COUNT(NR_IDADE_DATA_POSSE) DESC\n",
        "           limit 10\n",
        "           \"\"\"\n",
        "ps.sqldf(query.lower(), locals())"
      ]
    },
    {
      "cell_type": "markdown",
      "metadata": {
        "id": "61LV8ENDu7wh"
      },
      "source": [
        "**Porcentagem de inscritos pela idade**"
      ]
    },
    {
      "cell_type": "code",
      "execution_count": null,
      "metadata": {
        "id": "BTWunjI1s9m8"
      },
      "outputs": [],
      "source": [
        "porc_inscritos_idade  = candidatos_goias['NR_IDADE_DATA_POSSE'].value_counts() / 71129 * 100 \n",
        "porc_inscritos_idade"
      ]
    },
    {
      "cell_type": "markdown",
      "metadata": {
        "id": "tPMA6ExixCLY"
      },
      "source": [
        "`Idade minima e maxima que participaram das eleições`"
      ]
    },
    {
      "cell_type": "code",
      "execution_count": null,
      "metadata": {
        "id": "FHm2edGKvFa_"
      },
      "outputs": [],
      "source": [
        "candidatos_goias['NR_IDADE_DATA_POSSE'].max()"
      ]
    },
    {
      "cell_type": "code",
      "execution_count": null,
      "metadata": {
        "id": "WgqWitklxK0J"
      },
      "outputs": [],
      "source": [
        "candidatos_goias['NR_IDADE_DATA_POSSE'].min()"
      ]
    },
    {
      "cell_type": "markdown",
      "metadata": {
        "id": "BNXzQP68yNYT"
      },
      "source": [
        "**Vamos comparar a porcentagem de candidatos por idade. idade entre 18 até 30 e de 31 até 50**"
      ]
    },
    {
      "cell_type": "code",
      "execution_count": null,
      "metadata": {
        "id": "9XvuxLiax0Zg"
      },
      "outputs": [],
      "source": [
        "#Utilizando sql para cantabilizar a idade de 18 até 30 \n",
        "query = \"\"\"SELECT COUNT(NR_IDADE_DATA_POSSE) as total_inscritos_idade\n",
        "           FROM candidatos_goias\n",
        "           where NR_IDADE_DATA_POSSE >= 18 and NR_IDADE_DATA_POSSE <=30\n",
        "           \"\"\"\n",
        "ps.sqldf(query.lower(), locals())"
      ]
    },
    {
      "cell_type": "code",
      "execution_count": null,
      "metadata": {
        "id": "_f-5uIwDzl4M"
      },
      "outputs": [],
      "source": [
        "#Porcentagem \n",
        "porc_idade = (8229/71129) * 100\n",
        "print('A porcentagem por idade entre 18 até 30 é: {:.2f}'.format(porc_idade))\n"
      ]
    },
    {
      "cell_type": "code",
      "execution_count": null,
      "metadata": {
        "id": "0zyYb5FCyoRI"
      },
      "outputs": [],
      "source": [
        "#Utilizando sql para cantabilizar a idade de 18 até 30 \n",
        "query = \"\"\"SELECT COUNT(NR_IDADE_DATA_POSSE) as total_inscritos_idade\n",
        "           FROM candidatos_goias\n",
        "           where NR_IDADE_DATA_POSSE >= 31 and NR_IDADE_DATA_POSSE <=50\n",
        "           \"\"\"\n",
        "ps.sqldf(query.lower(), locals())"
      ]
    },
    {
      "cell_type": "code",
      "execution_count": null,
      "metadata": {
        "id": "3B8Kh9zty9Yb"
      },
      "outputs": [],
      "source": [
        "#Porcentagem \n",
        "porc_idade = (41991/71129) * 100\n",
        "print('A porcentagem por idade entre 31 até 50 é: {:.2f}'.format(porc_idade))"
      ]
    },
    {
      "cell_type": "markdown",
      "metadata": {
        "id": "oG-ymCKQ1onW"
      },
      "source": [
        "**Analisando a quantidade de mulheres X homens candidatos**"
      ]
    },
    {
      "cell_type": "code",
      "execution_count": null,
      "metadata": {
        "id": "qUD5UYm32Q8u"
      },
      "outputs": [],
      "source": [
        "candidatos_goias['DS_GENERO'].unique()"
      ]
    },
    {
      "cell_type": "code",
      "execution_count": null,
      "metadata": {
        "id": "jKsBOSLf08Rp"
      },
      "outputs": [],
      "source": [
        "#Utilizando sql para cantabilizar por genero/candidatos\n",
        "query = \"\"\"SELECT DS_GENERO,COUNT(DS_GENERO) as total_inscritos_genero\n",
        "           FROM candidatos_goias\n",
        "           GROUP BY DS_GENERO\n",
        "           ORDER BY COUNT(DS_GENERO) DESC\"\"\"\n",
        "ps.sqldf(query.lower(), locals())"
      ]
    },
    {
      "cell_type": "markdown",
      "metadata": {
        "id": "HycMnYrt2iq0"
      },
      "source": [
        "**Gráfico candidatos Mulheres X homens**"
      ]
    },
    {
      "cell_type": "code",
      "execution_count": null,
      "metadata": {
        "id": "D23ykm-n2MT7"
      },
      "outputs": [],
      "source": [
        "fig = plt.figure(figsize=(10,5))\n",
        "grafico = sns.countplot('DS_GENERO', order = candidatos_goias['DS_GENERO'].value_counts().index, palette=\"Paired\",  data =  candidatos_goias)\n",
        "plt.xticks(rotation=90)\n",
        "for i in grafico.patches:\n",
        "   grafico.annotate(i.get_height(),\n",
        "                  (i.get_x() + i.get_width() / 2, i.get_height()),\n",
        "                  ha='center',\n",
        "                  va='baseline',\n",
        "                  fontsize=12,\n",
        "                  color='black',\n",
        "                  xytext=(0, 1),\n",
        "                  textcoords='offset points');  \n",
        "plt.xlabel('Genero', fontsize=15)\n",
        "plt.ylabel(' ')\n",
        "plt.title('Grafico quantidade por Genero',fontsize=15);"
      ]
    },
    {
      "cell_type": "markdown",
      "metadata": {
        "id": "PqDv26Dk23yy"
      },
      "source": [
        "**Porcentagem de inscritos por genero**"
      ]
    },
    {
      "cell_type": "code",
      "execution_count": null,
      "metadata": {
        "id": "F4JM4qnW3CrW"
      },
      "outputs": [],
      "source": [
        "#Total inscritos por genero\n",
        "candidatos_goias['DS_GENERO'].count()"
      ]
    },
    {
      "cell_type": "code",
      "execution_count": null,
      "metadata": {
        "id": "ChgikeVxB_U4"
      },
      "outputs": [],
      "source": [
        "#Quantidade de inscritos por genero\n",
        "candidatos_goias['DS_GENERO'].value_counts()"
      ]
    },
    {
      "cell_type": "code",
      "execution_count": null,
      "metadata": {
        "id": "Cvu3zjoX23b4"
      },
      "outputs": [],
      "source": [
        "#Porcentagem de inscritos por genero\n",
        "porc_inscritos_genero = candidatos_goias['DS_GENERO'].value_counts() / 71129 * 100 \n",
        "porc_inscritos_genero"
      ]
    },
    {
      "cell_type": "markdown",
      "metadata": {
        "id": "1PjGdoCmEc0i"
      },
      "source": [
        "**As porcentagens de inscritos por genero dos  dados representada em um grafico de  pizza de 100%**"
      ]
    },
    {
      "cell_type": "code",
      "execution_count": null,
      "metadata": {
        "id": "t2qjfQfHEKy4"
      },
      "outputs": [],
      "source": [
        "labels = ['FEMININO','MASCULINO']\n",
        "media = [32.3,67.6]\n",
        "colores = ((1.0, 0.0, .40), (0.0, .40, 1.0), (.40, 1.0, .20))\n",
        "fig, ax = plt.subplots(figsize=(12, 5))\n",
        "\n",
        "ax.pie(media, labels=labels,autopct = '%.1f%%',colors = colores)\n",
        "ax.set_title('Media de inscritos por genero Mulher X Homen', fontsize=16)\n",
        "plt.show()"
      ]
    },
    {
      "cell_type": "markdown",
      "metadata": {
        "id": "9Oat8vjaCX7w"
      },
      "source": [
        "**Qual tipo de eleições mulheres x homens mais se inscreveram**"
      ]
    },
    {
      "cell_type": "markdown",
      "metadata": {
        "id": "3MM_CYGHEiZt"
      },
      "source": [
        "`Eleições que as mulheres mais se candidata`"
      ]
    },
    {
      "cell_type": "code",
      "execution_count": null,
      "metadata": {
        "id": "k16vx6AqCf6m"
      },
      "outputs": [],
      "source": [
        "abragencia_feminino = candidatos_goias[candidatos_goias['DS_GENERO'] == \"FEMININO\"]\n",
        "abragencia_feminino['TP_ABRANGENCIA'].value_counts()"
      ]
    },
    {
      "cell_type": "markdown",
      "metadata": {
        "id": "KBRmcF2VEme1"
      },
      "source": [
        "`Eleições que os homens mais se candidata`"
      ]
    },
    {
      "cell_type": "code",
      "execution_count": null,
      "metadata": {
        "id": "9VhzeaHIEqws"
      },
      "outputs": [],
      "source": [
        "abragencia_masculino = candidatos_goias[candidatos_goias['DS_GENERO'] == \"MASCULINO\"]\n",
        "abragencia_masculino['TP_ABRANGENCIA'].value_counts()"
      ]
    },
    {
      "cell_type": "markdown",
      "metadata": {
        "id": "MKmnQrcKE70O"
      },
      "source": [
        "**Qual tipo de eleições as mulheres x homens mais são eleitos**"
      ]
    },
    {
      "cell_type": "markdown",
      "metadata": {
        "id": "4eZ5M4kKFC_c"
      },
      "source": [
        "`Tipo de eleições que as mulheres mais ganham`"
      ]
    },
    {
      "cell_type": "code",
      "execution_count": null,
      "metadata": {
        "id": "qFt7tov0FHF7"
      },
      "outputs": [],
      "source": [
        "abragencia_feminino_eleita = candidatos_goias[candidatos_goias['DS_GENERO'] == \"FEMININO\"]\n",
        "abragencia_feminino_eleita = abragencia_feminino_eleita[abragencia_feminino_eleita['DS_SIT_TOT_TURNO'] == \"ELEITO\"]\n",
        "abragencia_feminino_eleita['TP_ABRANGENCIA'].value_counts()"
      ]
    },
    {
      "cell_type": "markdown",
      "metadata": {
        "id": "9XqYg0zxFzkq"
      },
      "source": [
        "`Tipo de eleições que os homens mais ganham `"
      ]
    },
    {
      "cell_type": "code",
      "execution_count": null,
      "metadata": {
        "id": "Kyz1YhlyF2zi"
      },
      "outputs": [],
      "source": [
        "abragencia_masculino_eleita = candidatos_goias[candidatos_goias['DS_GENERO'] == \"MASCULINO\"]\n",
        "abragencia_masculino_eleita = abragencia_masculino_eleita[abragencia_masculino_eleita['DS_SIT_TOT_TURNO'] == \"ELEITO\"]\n",
        "abragencia_masculino_eleita['TP_ABRANGENCIA'].value_counts()"
      ]
    },
    {
      "cell_type": "markdown",
      "metadata": {
        "id": "rXYviLqyGFYt"
      },
      "source": [
        "**Qual partido mais tem mulhere X homens candidata**"
      ]
    },
    {
      "cell_type": "markdown",
      "metadata": {
        "id": "Wz_8cZJ6GK4g"
      },
      "source": [
        "`partidos que mais tem mulheres candidatas `"
      ]
    },
    {
      "cell_type": "code",
      "execution_count": null,
      "metadata": {
        "id": "NifN9byrGS3u"
      },
      "outputs": [],
      "source": [
        "partido_feminino_candidata = candidatos_goias[candidatos_goias['DS_GENERO'] == \"FEMININO\"]\n",
        "partido_feminino_candidata['SG_PARTIDO'].value_counts()"
      ]
    },
    {
      "cell_type": "markdown",
      "metadata": {
        "id": "UIM2HZ_pHW2T"
      },
      "source": [
        "`Partidos que mais tem homens candidatos`"
      ]
    },
    {
      "cell_type": "code",
      "execution_count": null,
      "metadata": {
        "id": "QTGm2zuDHaMZ"
      },
      "outputs": [],
      "source": [
        "partido_masculino_candidata = candidatos_goias[candidatos_goias['DS_GENERO'] == \"MASCULINO\"]\n",
        "partido_masculino_candidata['SG_PARTIDO'].value_counts()"
      ]
    },
    {
      "cell_type": "markdown",
      "metadata": {
        "id": "FGFAfxd93PfM"
      },
      "source": [
        "`Já que foi contabilizado a quantidade de inscritos por genero e a porcentagem. Comparar quantidade que vence a eleição por genero `"
      ]
    },
    {
      "cell_type": "markdown",
      "metadata": {
        "id": "Aqq3WBWQ7t6j"
      },
      "source": [
        "**Quantidade de mulheres X homens que ganharam as eleições**"
      ]
    },
    {
      "cell_type": "code",
      "execution_count": null,
      "metadata": {
        "id": "gMz5eZt73NNv"
      },
      "outputs": [],
      "source": [
        "eleito = candidatos_goias[candidatos_goias['DS_SIT_TOT_TURNO'] == \"ELEITO\"]\n",
        "eleito_feminino = eleito[eleito['DS_GENERO'] == \"FEMININO\"]\n",
        "quantidade = eleito_feminino['DS_GENERO'].count()\n",
        "print('Quantidade de mulheres que ganharam as eleiçoes : {:.0f}'.format(quantidade))"
      ]
    },
    {
      "cell_type": "code",
      "execution_count": null,
      "metadata": {
        "id": "juVCXM1j4GQV"
      },
      "outputs": [],
      "source": [
        "eleito = candidatos_goias[candidatos_goias['DS_SIT_TOT_TURNO'] == \"ELEITO\"]\n",
        "eleito_masculino = eleito[eleito['DS_GENERO'] == \"MASCULINO\"]\n",
        "quantidade = eleito_masculino['DS_GENERO'].count()\n",
        "print('Quantidade de homens que ganharam as eleiçoes : {:.0f}'.format(quantidade))"
      ]
    },
    {
      "cell_type": "markdown",
      "metadata": {
        "id": "Ut3wUMT47zGj"
      },
      "source": [
        "**Porcentagem de mulheres X homens que ganharam as eleições pelo total de inscritos geral**"
      ]
    },
    {
      "cell_type": "code",
      "execution_count": null,
      "metadata": {
        "id": "RWB7zl4d7mCG"
      },
      "outputs": [],
      "source": [
        "porcentagem_f =  (190/71129) * 100\n",
        "print('Porcentagem de mulheres que ganharam as eleiçoes : {:.2f}'.format(porcentagem_f))"
      ]
    },
    {
      "cell_type": "code",
      "execution_count": null,
      "metadata": {
        "id": "hvxti5jA8FC-"
      },
      "outputs": [],
      "source": [
        "porcentagem_m =  (1378/71129) * 100\n",
        "print('Porcentagem de homens que ganharam as eleiçoes : {:.2f}'.format(porcentagem_m))"
      ]
    },
    {
      "cell_type": "markdown",
      "metadata": {
        "id": "tJHcAcXgByH0"
      },
      "source": [
        "**Porcentagem de eleitos mulheres x homens Pela quantidade de inscritos de cada genero**</br>\n",
        "`Total de mulheres e homens inscritos pelo total que foram eleitos`\n",
        "\n"
      ]
    },
    {
      "cell_type": "code",
      "execution_count": null,
      "metadata": {
        "id": "uf-dBP8AB5QY"
      },
      "outputs": [],
      "source": [
        "porcentagem_f_inscritas =  (190/48128) * 100\n",
        "print('Porcentagem de mulheres que ganharam as eleiçoes : {:.2f}'.format(porcentagem_f_inscritas))"
      ]
    },
    {
      "cell_type": "code",
      "execution_count": null,
      "metadata": {
        "id": "ewRpJ1VCDx4I"
      },
      "outputs": [],
      "source": [
        "porcentagem_m_inscritas =  (1378/23001) * 100\n",
        "print('Porcentagem de mulheres que ganharam as eleiçoes : {:.2f}'.format(porcentagem_m_inscritas))"
      ]
    },
    {
      "cell_type": "markdown",
      "metadata": {
        "id": "pgRoy9Z2-nHb"
      },
      "source": [
        "**As porcentagens dos dados dos eleitos por genero pela quantidade de inscritos </br> por genero representada em um grafico de  pizza de 100%**"
      ]
    },
    {
      "cell_type": "code",
      "execution_count": null,
      "metadata": {
        "id": "-FkaXych8NqO"
      },
      "outputs": [],
      "source": [
        "labels = ['FEMININO','MASCULINO']\n",
        "media = [0.39, 5.99]\n",
        "colores = ((1.0, 0.0, .40), (0.0, .40, 1.0), (.40, 1.0, .20))\n",
        "fig, ax = plt.subplots(figsize=(12, 5))\n",
        "\n",
        "ax.pie(media, labels=labels,autopct = '%.1f%%',colors = colores)\n",
        "ax.set_title('Media de eleitos por genero Mulher X Homen', fontsize=16)\n",
        "plt.show()"
      ]
    },
    {
      "cell_type": "markdown",
      "metadata": {
        "id": "MsuOXxdl_htL"
      },
      "source": [
        "**Faixa etaria das mulheres  e dos homens que ganharam eleições** "
      ]
    },
    {
      "cell_type": "code",
      "execution_count": null,
      "metadata": {
        "id": "BWWQfUvf_9PC"
      },
      "outputs": [],
      "source": [
        "eleito = candidatos_goias[candidatos_goias['DS_SIT_TOT_TURNO'] == \"ELEITO\"]\n",
        "eleito_feminino = eleito[eleito['DS_GENERO'] == \"FEMININO\"]\n"
      ]
    },
    {
      "cell_type": "code",
      "execution_count": null,
      "metadata": {
        "id": "922VsWytLEV0"
      },
      "outputs": [],
      "source": [
        "eleito = candidatos_goias[candidatos_goias['DS_SIT_TOT_TURNO'] == \"ELEITO\"]\n",
        "eleito_masculino = eleito[eleito['DS_GENERO'] == \"MASCULINO\"]"
      ]
    },
    {
      "cell_type": "markdown",
      "metadata": {
        "id": "tAOo-HCcK161"
      },
      "source": [
        "**TOP 10 mulheres que mais foram eleitas pela faixa etária**"
      ]
    },
    {
      "cell_type": "code",
      "execution_count": null,
      "metadata": {
        "id": "znf3lO0AJea-"
      },
      "outputs": [],
      "source": [
        "#Utilizando sql para contabilizar eleitos masculino por idade\n",
        "query = \"\"\"SELECT NR_IDADE_DATA_POSSE, COUNT(NR_IDADE_DATA_POSSE) as total_idade\n",
        "           FROM eleito_feminino\n",
        "           GROUP BY NR_IDADE_DATA_POSSE\n",
        "           ORDER BY COUNT(NR_IDADE_DATA_POSSE) DESC\n",
        "           limit 10\n",
        "           \"\"\"\n",
        "ps.sqldf(query.lower(), locals())"
      ]
    },
    {
      "cell_type": "markdown",
      "metadata": {
        "id": "0JbmX_tMLMdm"
      },
      "source": [
        "**TOP 10 homens que mais foram eleitos pela faixa etária**"
      ]
    },
    {
      "cell_type": "code",
      "execution_count": null,
      "metadata": {
        "id": "C5jio-_WKKU6"
      },
      "outputs": [],
      "source": [
        "#Utilizando sql para contabilizar eleitos masculino por idade\n",
        "query = \"\"\"SELECT NR_IDADE_DATA_POSSE, COUNT(NR_IDADE_DATA_POSSE) as total_idade \n",
        "           FROM eleito_masculino\n",
        "           GROUP BY NR_IDADE_DATA_POSSE\n",
        "           ORDER BY COUNT(NR_IDADE_DATA_POSSE) DESC\n",
        "           limit 10\"\"\"\n",
        "ps.sqldf(query.lower(), locals())"
      ]
    },
    {
      "cell_type": "markdown",
      "metadata": {
        "id": "kN9gBo1QH0id"
      },
      "source": [
        "**Qual partido mais elegeu**"
      ]
    },
    {
      "cell_type": "markdown",
      "metadata": {
        "id": "GEbIqtlUrfDZ"
      },
      "source": [
        "`Qual partido mais elegeu `"
      ]
    },
    {
      "cell_type": "code",
      "execution_count": null,
      "metadata": {
        "id": "ufCKqjJhrci_"
      },
      "outputs": [],
      "source": [
        "eleito_partido = candidatos_goias[candidatos_goias['DS_SIT_TOT_TURNO'] == \"ELEITO\"]"
      ]
    },
    {
      "cell_type": "code",
      "execution_count": null,
      "metadata": {
        "id": "vEk7cLEPrpbp"
      },
      "outputs": [],
      "source": [
        "#Utilizando sql para o partido que mais elegeu\n",
        "query = \"\"\"SELECT SG_PARTIDO, COUNT(SG_PARTIDO) as eleitos\n",
        "           FROM eleito_partido\n",
        "           GROUP BY SG_PARTIDO\n",
        "           ORDER BY COUNT(SG_PARTIDO) DESC\n",
        "           \"\"\"\n",
        "ps.sqldf(query.lower(), locals())"
      ]
    },
    {
      "cell_type": "markdown",
      "metadata": {
        "id": "94HrCZ5_rhzR"
      },
      "source": [
        "**Qual partido mais elegeu mulheres X homens**"
      ]
    },
    {
      "cell_type": "code",
      "execution_count": null,
      "metadata": {
        "id": "D2f-bpRiH_oC"
      },
      "outputs": [],
      "source": [
        "eleito_partido = candidatos_goias[candidatos_goias['DS_SIT_TOT_TURNO'] == \"ELEITO\"]\n",
        "eleito_feminino_partido = eleito_partido[eleito_partido['DS_GENERO'] == \"FEMININO\"]"
      ]
    },
    {
      "cell_type": "code",
      "execution_count": null,
      "metadata": {
        "id": "t9MZzndKIyNw"
      },
      "outputs": [],
      "source": [
        "eleito_partido = candidatos_goias[candidatos_goias['DS_SIT_TOT_TURNO'] == \"ELEITO\"]\n",
        "eleito_masculino_partido = eleito_partido[eleito_partido['DS_GENERO'] == \"MASCULINO\"]"
      ]
    },
    {
      "cell_type": "markdown",
      "metadata": {
        "id": "BMdo6lYdIuO_"
      },
      "source": [
        "`Partido que mais elegeu mulheres`"
      ]
    },
    {
      "cell_type": "code",
      "execution_count": null,
      "metadata": {
        "id": "Mg2HbDjvLcMo"
      },
      "outputs": [],
      "source": [
        "#Utilizando sql para contabilizar eleitos feminino por partido\n",
        "query = \"\"\"SELECT SG_PARTIDO, COUNT(SG_PARTIDO) as eleitos\n",
        "           FROM eleito_feminino_partido\n",
        "           GROUP BY SG_PARTIDO\n",
        "           ORDER BY COUNT(SG_PARTIDO) DESC\n",
        "           \"\"\"\n",
        "ps.sqldf(query.lower(), locals())"
      ]
    },
    {
      "cell_type": "markdown",
      "metadata": {
        "id": "-v86vG-iJDRY"
      },
      "source": [
        "`Partido que mais elegeu homens`"
      ]
    },
    {
      "cell_type": "code",
      "execution_count": null,
      "metadata": {
        "id": "kqRBZrZTIoDZ"
      },
      "outputs": [],
      "source": [
        "#Utilizando sql para contabilizar eleitos masculino por partido\n",
        "query = \"\"\"SELECT SG_PARTIDO, COUNT(SG_PARTIDO) as eleitos\n",
        "           FROM eleito_masculino_partido\n",
        "           GROUP BY SG_PARTIDO\n",
        "           ORDER BY COUNT(SG_PARTIDO) DESC\n",
        "           \"\"\"\n",
        "ps.sqldf(query.lower(), locals())"
      ]
    },
    {
      "cell_type": "markdown",
      "metadata": {
        "id": "lMbBizeVJmQF"
      },
      "source": [
        "**Gráfico do nivel de escolaridade de quem mais ganha eleições**"
      ]
    },
    {
      "cell_type": "code",
      "execution_count": null,
      "metadata": {
        "id": "elPGJhu8J16n"
      },
      "outputs": [],
      "source": [
        "eleito_escolaridade = candidatos_goias[candidatos_goias['DS_SIT_TOT_TURNO'] == \"ELEITO\"]"
      ]
    },
    {
      "cell_type": "code",
      "execution_count": null,
      "metadata": {
        "id": "Ftn039PoJAwJ"
      },
      "outputs": [],
      "source": [
        "fig = plt.figure(figsize=(10,5))\n",
        "grafico = sns.countplot('DS_GRAU_INSTRUCAO', order = eleito_escolaridade['DS_GRAU_INSTRUCAO'].value_counts().index, palette=\"Paired\",  data =  eleito_escolaridade)\n",
        "plt.xticks(rotation=90)\n",
        "for i in grafico.patches:\n",
        "   grafico.annotate(i.get_height(),\n",
        "                  (i.get_x() + i.get_width() / 2, i.get_height()),\n",
        "                  ha='center',\n",
        "                  va='baseline',\n",
        "                  fontsize=12,\n",
        "                  color='black',\n",
        "                  xytext=(0, 1),\n",
        "                  textcoords='offset points');  \n",
        "plt.xlabel('Escolaridade', fontsize=15)\n",
        "plt.ylabel(' ')\n",
        "plt.title('Grafico quantidade por  escolaridade',fontsize=15);"
      ]
    },
    {
      "cell_type": "markdown",
      "metadata": {
        "id": "vvAUhWuvKPbB"
      },
      "source": [
        "**Porcentagem da escolaridade de quem mais ganha eleições**"
      ]
    },
    {
      "cell_type": "code",
      "execution_count": null,
      "metadata": {
        "id": "B86LF3CMK90z"
      },
      "outputs": [],
      "source": [
        "porc_escolaridade = candidatos_goias[candidatos_goias['DS_SIT_TOT_TURNO'] == \"ELEITO\"]\n",
        "porc_escolaridade['DS_GRAU_INSTRUCAO'].value_counts()/ porc_escolaridade['DS_GRAU_INSTRUCAO'].count()*100"
      ]
    },
    {
      "cell_type": "markdown",
      "metadata": {
        "id": "9CnSg06Ha0oW"
      },
      "source": [
        "**Crescimento de candidatos inscritos nas eleições**"
      ]
    },
    {
      "cell_type": "code",
      "execution_count": null,
      "metadata": {
        "id": "ghu3vPbIbIzm"
      },
      "outputs": [],
      "source": [
        "candidatos_goias.groupby(\"ANO_ELEICAO\",sort=True)[\"ANO_ELEICAO\"].count()"
      ]
    },
    {
      "cell_type": "markdown",
      "metadata": {
        "id": "zLmS1t4YdE1N"
      },
      "source": [
        "**Crescimento de mulheres x homens candidatos a eleições**"
      ]
    },
    {
      "cell_type": "markdown",
      "metadata": {
        "id": "yHiQcjzVgx1N"
      },
      "source": [
        "`Quantidade de mulheres canditadas nas eleições no decorrer dos anos`"
      ]
    },
    {
      "cell_type": "code",
      "execution_count": null,
      "metadata": {
        "id": "qHDEAh9pdA7P"
      },
      "outputs": [],
      "source": [
        "candidatos_eleicao_crescimento_genero_feminino = candidatos_goias[candidatos_goias['DS_GENERO'] == \"FEMININO\"]\n",
        "candidatos_eleicao_crescimento_genero_feminino = candidatos_eleicao_crescimento_genero_feminino.groupby([\"DS_GENERO\", \"ANO_ELEICAO\"], as_index=False)[\"DS_GENERO\"].count()\n",
        "candidatos_eleicao_crescimento_genero_feminino = candidatos_eleicao_crescimento_genero_feminino.sort_values(by='DS_GENERO', ascending=False)\n",
        "candidatos_eleicao_crescimento_genero_feminino = candidatos_eleicao_crescimento_genero_feminino.rename(columns={'DS_GENERO': 'FEMININO'})\n",
        "candidatos_eleicao_crescimento_genero_feminino"
      ]
    },
    {
      "cell_type": "markdown",
      "metadata": {
        "id": "0QWgRhETg8Lx"
      },
      "source": [
        "`Quantidade de homens canditados nas eleições no decorrer dos anos`"
      ]
    },
    {
      "cell_type": "code",
      "execution_count": null,
      "metadata": {
        "id": "i3-QYmW8hAR0"
      },
      "outputs": [],
      "source": [
        "candidatos_eleicao_crescimento_genero_masculino = candidatos_goias[candidatos_goias['DS_GENERO'] == \"MASCULINO\"]\n",
        "candidatos_eleicao_crescimento_genero_masculino = candidatos_eleicao_crescimento_genero_masculino.groupby([\"DS_GENERO\", \"ANO_ELEICAO\"], as_index=False)[\"DS_GENERO\"].count()\n",
        "candidatos_eleicao_crescimento_genero_masculino = candidatos_eleicao_crescimento_genero_masculino.sort_values(by='DS_GENERO', ascending=False)\n",
        "candidatos_eleicao_crescimento_genero_masculino = candidatos_eleicao_crescimento_genero_masculino.rename(columns={'DS_GENERO': 'MASCULINO'})\n",
        "candidatos_eleicao_crescimento_genero_masculino"
      ]
    },
    {
      "cell_type": "code",
      "execution_count": null,
      "metadata": {
        "id": "Sgko1w7jj9xB"
      },
      "outputs": [],
      "source": []
    },
    {
      "cell_type": "markdown",
      "metadata": {
        "id": "hufJgsjUhsd7"
      },
      "source": [
        "**Qual ano as mulheres X homens mais ganharam eleições**"
      ]
    },
    {
      "cell_type": "markdown",
      "metadata": {
        "id": "IwDxiweIkgfI"
      },
      "source": [
        "`Quantidade de mulheres eleitas no decorrer dos anos`"
      ]
    },
    {
      "cell_type": "code",
      "execution_count": null,
      "metadata": {
        "id": "3GDMsYdZkF9D"
      },
      "outputs": [],
      "source": [
        "eleito_partido = candidatos_goias[candidatos_goias['DS_SIT_TOT_TURNO'] == \"ELEITO\"]\n",
        "eleito_feminino_partido = eleito_partido[eleito_partido['DS_GENERO'] == \"FEMININO\"]"
      ]
    },
    {
      "cell_type": "code",
      "execution_count": null,
      "metadata": {
        "id": "ic_JT1Y3hxMt"
      },
      "outputs": [],
      "source": [
        "#Utilizando sql para contabilizar qual ano de eleições as mulheres mais ganharam\n",
        "query = \"\"\"SELECT DS_GENERO,ANO_ELEICAO, COUNT(ANO_ELEICAO) as eleitos\n",
        "           FROM eleito_feminino_partido\n",
        "           GROUP BY ANO_ELEICAO\n",
        "           ORDER BY COUNT(ANO_ELEICAO) DESC\n",
        "           \"\"\"\n",
        "ps.sqldf(query.lower(), locals())"
      ]
    },
    {
      "cell_type": "markdown",
      "metadata": {
        "id": "sPs2xWunlNHz"
      },
      "source": [
        "`Quantidade de homens eleitos no decorrer dos anos`"
      ]
    },
    {
      "cell_type": "code",
      "execution_count": null,
      "metadata": {
        "id": "n2LovVnRklgm"
      },
      "outputs": [],
      "source": [
        "eleito_partido = candidatos_goias[candidatos_goias['DS_SIT_TOT_TURNO'] == \"ELEITO\"]\n",
        "eleito_masculino_partido = eleito_partido[eleito_partido['DS_GENERO'] == \"MASCULINO\"]"
      ]
    },
    {
      "cell_type": "code",
      "execution_count": null,
      "metadata": {
        "id": "OHX_ZiwZk6uM"
      },
      "outputs": [],
      "source": [
        "#Utilizando sql para contabilizar qual ano de eleições as mulheres mais ganharam\n",
        "query = \"\"\"SELECT DS_GENERO,ANO_ELEICAO, COUNT(ANO_ELEICAO) as eleitos\n",
        "           FROM eleito_masculino_partido\n",
        "           GROUP BY ANO_ELEICAO\n",
        "           ORDER BY COUNT(ANO_ELEICAO) DESC\n",
        "           \"\"\"\n",
        "ps.sqldf(query.lower(), locals())"
      ]
    },
    {
      "cell_type": "markdown",
      "metadata": {
        "id": "C7FXhfwjZPUp"
      },
      "source": [
        "**Qual partido mais gastou com candidaturas**"
      ]
    },
    {
      "cell_type": "code",
      "execution_count": null,
      "metadata": {
        "id": "kZwduxo4a-Bb"
      },
      "outputs": [],
      "source": [
        "#Utilizando sql para contabilizar qual partidos mais gasta com campanhas\n",
        "query = \"\"\"SELECT SG_PARTIDO as sigla_partido,SUM(VR_DESPESA_MAX_CAMPANHA) total_gastos_eleicao\n",
        "           FROM candidatos_goias\n",
        "           GROUP BY SG_PARTIDO\n",
        "           ORDER BY SUM(VR_DESPESA_MAX_CAMPANHA) DESC\n",
        "           \"\"\"\n",
        "ps.sqldf(query.lower(), locals())"
      ]
    },
    {
      "cell_type": "markdown",
      "metadata": {
        "id": "IxKdmT9XunR-"
      },
      "source": [
        "**Total gasto em campanhas por ano**"
      ]
    },
    {
      "cell_type": "code",
      "execution_count": null,
      "metadata": {
        "id": "T_vT4Wq1uqgY"
      },
      "outputs": [],
      "source": [
        "#Utilizando sql para contabilizar qual partidos mais gasta com campanhas\n",
        "query = \"\"\"SELECT ANO_ELEICAO,SUM(VR_DESPESA_MAX_CAMPANHA) total_gastos_eleicao\n",
        "           FROM candidatos_goias\n",
        "           GROUP BY ANO_ELEICAO\n",
        "           ORDER BY SUM(VR_DESPESA_MAX_CAMPANHA) DESC\n",
        "           \"\"\"\n",
        "ps.sqldf(query.lower(), locals())"
      ]
    },
    {
      "cell_type": "markdown",
      "metadata": {
        "id": "SyNbPjg_vAV0"
      },
      "source": [
        "**Gráfico de linha de gastos em campanhas por ano**"
      ]
    },
    {
      "cell_type": "code",
      "execution_count": null,
      "metadata": {
        "id": "q4KFOY6uvD5e"
      },
      "outputs": [],
      "source": [
        "plt.figure(figsize=(13,5))\n",
        "sns.lineplot(x=candidatos_goias['ANO_ELEICAO'],y=candidatos_goias['VR_DESPESA_MAX_CAMPANHA'], color='green')\n",
        "plt.xlabel('GASTOS CAMPANHA')\n",
        "plt.ylabel('ANO ELEICAO')\n",
        "plt.show()"
      ]
    },
    {
      "cell_type": "markdown",
      "metadata": {
        "id": "Uda0NEzJtHor"
      },
      "source": [
        "**Top 10 dos partidos que mais gastam com campanhas**"
      ]
    },
    {
      "cell_type": "code",
      "execution_count": null,
      "metadata": {
        "id": "ZgN_AvRGqC0R"
      },
      "outputs": [],
      "source": [
        "#Utilizando sql para contabilizar qual partidos mais gasta com campanhas\n",
        "query = \"\"\"SELECT SG_PARTIDO as sigla_partido,SUM(VR_DESPESA_MAX_CAMPANHA) total_gastos_eleicao\n",
        "           FROM candidatos_goias\n",
        "           GROUP BY SG_PARTIDO\n",
        "           ORDER BY SUM(VR_DESPESA_MAX_CAMPANHA) DESC\n",
        "           LIMIT 10\n",
        "           \"\"\"\n",
        "ps.sqldf(query.lower(), locals())"
      ]
    },
    {
      "cell_type": "markdown",
      "metadata": {
        "id": "XaM45dQ6sBh1"
      },
      "source": [
        "**Gasto dos partidos em campanhas por genero**"
      ]
    },
    {
      "cell_type": "markdown",
      "metadata": {
        "id": "Krr4_0OrsG-v"
      },
      "source": [
        "`Gasto dos partidos em campanhas genero feminino`"
      ]
    },
    {
      "cell_type": "code",
      "execution_count": null,
      "metadata": {
        "id": "rIDvy_SOtOTC"
      },
      "outputs": [],
      "source": [
        "gasto_partido_feminino = candidatos_goias[candidatos_goias['DS_GENERO'] == \"FEMININO\"]"
      ]
    },
    {
      "cell_type": "code",
      "execution_count": null,
      "metadata": {
        "id": "87rChwuWsq-5"
      },
      "outputs": [],
      "source": [
        "plt.figure(figsize=(13,5))\n",
        "sns.lineplot(x=gasto_partido_feminino['ANO_ELEICAO'],y=gasto_partido_feminino['VR_DESPESA_MAX_CAMPANHA'], color='pink')\n",
        "plt.xlabel('Avg price')\n",
        "plt.ylabel('years')\n",
        "plt.show()"
      ]
    },
    {
      "cell_type": "markdown",
      "metadata": {
        "id": "FKhKeo3pt5Tt"
      },
      "source": [
        "`Gasto dos partidos em campanhas genero Masculino`"
      ]
    },
    {
      "cell_type": "code",
      "execution_count": null,
      "metadata": {
        "id": "xKx5JDRgtCyr"
      },
      "outputs": [],
      "source": [
        "gasto_partido_masculino = candidatos_goias[candidatos_goias['DS_GENERO'] == \"MASCULINO\"]"
      ]
    },
    {
      "cell_type": "code",
      "execution_count": null,
      "metadata": {
        "id": "YNp6NO1utJWn"
      },
      "outputs": [],
      "source": [
        "plt.figure(figsize=(13,5))\n",
        "sns.lineplot(x=gasto_partido_masculino['ANO_ELEICAO'],y=gasto_partido_masculino['VR_DESPESA_MAX_CAMPANHA'], color='blue')\n",
        "plt.xlabel('Avg price')\n",
        "plt.ylabel('years')\n",
        "plt.show()"
      ]
    },
    {
      "cell_type": "markdown",
      "metadata": {
        "id": "ft9j3fhNGO9V"
      },
      "source": [
        "**Total geram gasto em campanhas mulhere X homens**"
      ]
    },
    {
      "cell_type": "markdown",
      "metadata": {
        "id": "nHIhAPvOGbvH"
      },
      "source": [
        "`Gastos geral em campanhas sexo feminino`"
      ]
    },
    {
      "cell_type": "code",
      "execution_count": null,
      "metadata": {
        "id": "rhg7YG8yvrxR"
      },
      "outputs": [],
      "source": [
        "gasto_partido_feminino = candidatos_goias[candidatos_goias['DS_GENERO'] == \"FEMININO\"]"
      ]
    },
    {
      "cell_type": "code",
      "execution_count": null,
      "metadata": {
        "id": "eOnen1R-GSno"
      },
      "outputs": [],
      "source": [
        "gasto_partido_feminino['VR_DESPESA_MAX_CAMPANHA'].sum()"
      ]
    },
    {
      "cell_type": "markdown",
      "metadata": {
        "id": "rP3XU73THOSf"
      },
      "source": [
        "Total gasto em campanhas do genero feminino é : <br>seiscentos e oitenta e quatro milhões e quinhentos e vinte mil quatrocentos e cinquenta e um reais </br>e oitenta e oito centavos"
      ]
    },
    {
      "cell_type": "markdown",
      "metadata": {
        "id": "1LGkjSuJGhCS"
      },
      "source": [
        "`Gastos geral em campanhas sexo masculino`"
      ]
    },
    {
      "cell_type": "code",
      "execution_count": null,
      "metadata": {
        "id": "XKcGHTF2GWBO"
      },
      "outputs": [],
      "source": [
        "gasto_partido_masculino = candidatos_goias[candidatos_goias['DS_GENERO'] == \"MASCULINO\"]"
      ]
    },
    {
      "cell_type": "code",
      "execution_count": null,
      "metadata": {
        "id": "SNYWSg0nGlK_"
      },
      "outputs": [],
      "source": [
        "gasto_partido_masculino['VR_DESPESA_MAX_CAMPANHA'].sum()"
      ]
    },
    {
      "cell_type": "markdown",
      "metadata": {
        "id": "tRjZOi86HrKA"
      },
      "source": [
        "Total gasto em campanhas do sexo masculino é: </br>\n",
        "quatro bilhões e cento e oitenta e três milhões e seiscentos e cinquenta mil duzentos e </br>nove reais e vinte e oito centavos"
      ]
    },
    {
      "cell_type": "markdown",
      "metadata": {
        "id": "gllvGKn_G_B_"
      },
      "source": [
        "`Diferença de gastos mulheres X homens `"
      ]
    },
    {
      "cell_type": "code",
      "execution_count": null,
      "metadata": {
        "id": "LTJFsUjwGnX5"
      },
      "outputs": [],
      "source": [
        "diferença = (12707294989.829998 - 4859899508.27)\n",
        "diferença"
      ]
    },
    {
      "cell_type": "markdown",
      "metadata": {
        "id": "Ghu8MmDnJdmf"
      },
      "source": [
        "Diferença de : Três bilhões e quatrocentos e noventa e nove milhões e cento e vinte </br> e nove mil setecentos e cinquenta e sete reais e quarenta centavos"
      ]
    },
    {
      "cell_type": "markdown",
      "metadata": {
        "id": "a6uwSFF9IFMo"
      },
      "source": [
        "**Comparando esses valores com os anos de 2004 em que teve mais mulheres e homens candidatos**"
      ]
    },
    {
      "cell_type": "markdown",
      "metadata": {
        "id": "1w1NOLiJIL9q"
      },
      "source": [
        "`Gasto com campanhas no ano de 2004 genero feminino`"
      ]
    },
    {
      "cell_type": "code",
      "execution_count": null,
      "metadata": {
        "id": "mqI5QZTlHH_2"
      },
      "outputs": [],
      "source": [
        "gasto_camapanha_feminino = candidatos_goias[candidatos_goias['DS_GENERO'] == \"FEMININO\"]\n",
        "gasto_camapanha_feminino = gasto_camapanha_feminino [gasto_camapanha_feminino ['ANO_ELEICAO'] == 2022]\n",
        "gasto_camapanha_feminino['VR_DESPESA_MAX_CAMPANHA'].sum()"
      ]
    },
    {
      "cell_type": "markdown",
      "metadata": {
        "id": "0qsWyo1iI8G2"
      },
      "source": [
        "Gasto de camapanha do genero feminino 2004 é :Noventa e oito milhões e cento e noventa<br> e dois mil novecentos e sessenta e oito reais <br>e setenta e sete centavos"
      ]
    },
    {
      "cell_type": "markdown",
      "metadata": {
        "id": "BV2dVQZoItvw"
      },
      "source": [
        "`Gasto com campanhas no ano de 2004 genero masculino`"
      ]
    },
    {
      "cell_type": "code",
      "execution_count": null,
      "metadata": {
        "id": "Ize3E-q4IcD4"
      },
      "outputs": [],
      "source": [
        "gasto_camapanha_masculino = candidatos_goias[candidatos_goias['DS_GENERO'] == \"MASCULINO\"]\n",
        "gasto_camapanha_masculino= gasto_camapanha_masculino[gasto_camapanha_masculino['ANO_ELEICAO'] == 2022]\n",
        "gasto_camapanha_masculino['VR_DESPESA_MAX_CAMPANHA'].sum()"
      ]
    },
    {
      "cell_type": "markdown",
      "metadata": {
        "id": "5nKSM_j4JIU2"
      },
      "source": [
        "Gasto de camapanha do genero masculino 2004 é : Um bilhão e duzentos e oitenta <br> e seis milhões e seiscentos e vinte e três mil seiscentos <br> e vinte e quatro reais e sessenta e dois centavos"
      ]
    },
    {
      "cell_type": "markdown",
      "metadata": {
        "id": "1quf3Ne5Jwje"
      },
      "source": [
        "`Diferença de gastos mulheres X homens ano de 2004 `"
      ]
    },
    {
      "cell_type": "code",
      "execution_count": null,
      "metadata": {
        "id": "3xmi3DOvI4z4"
      },
      "outputs": [],
      "source": [
        "diferença = (1538350521.71 - 858564013.8300002)\n",
        "diferença"
      ]
    },
    {
      "cell_type": "markdown",
      "metadata": {
        "id": "vDKbM3-AKBmH"
      },
      "source": [
        "Diferença de : Um bilhão e cento e oitenta e oito milhões e quatrocentos e trinta mil </br>seiscentos e cinquenta e cinco reais e oitenta e cinco centavos"
      ]
    },
    {
      "cell_type": "markdown",
      "metadata": {
        "id": "cyG8Xupy2mbu"
      },
      "source": [
        "**Qual ideologia mais frequente**"
      ]
    },
    {
      "cell_type": "code",
      "execution_count": null,
      "metadata": {
        "id": "FFLwqfFDJ99p"
      },
      "outputs": [],
      "source": [
        "fig = plt.figure(figsize=(10,5))\n",
        "grafico = sns.countplot('ESPECTRO_PARTIDOS', order = candidatos_goias['ESPECTRO_PARTIDOS'].value_counts().index, palette=\"Paired\",  data =  candidatos_goias)\n",
        "plt.xticks(rotation=90)\n",
        "for i in grafico.patches:\n",
        "   grafico.annotate(i.get_height(),\n",
        "                  (i.get_x() + i.get_width() / 2, i.get_height()),\n",
        "                  ha='center',\n",
        "                  va='baseline',\n",
        "                  fontsize=12,\n",
        "                  color='black',\n",
        "                  xytext=(0, 1),\n",
        "                  textcoords='offset points');  \n",
        "plt.xlabel('espectro', fontsize=15)\n",
        "plt.ylabel(' ')\n",
        "plt.title('Grafico quantidade espectro partidos',fontsize=15);"
      ]
    },
    {
      "cell_type": "markdown",
      "metadata": {
        "id": "hm0NDzkO4k0v"
      },
      "source": [
        "**Qual ideologia mais ganhou eleições**"
      ]
    },
    {
      "cell_type": "code",
      "execution_count": null,
      "metadata": {
        "id": "TTqvX9HoaBpe"
      },
      "outputs": [],
      "source": [
        "espectro = candidatos_goias[candidatos_goias['DS_SIT_TOT_TURNO'] == \"ELEITO\"]"
      ]
    },
    {
      "cell_type": "code",
      "execution_count": null,
      "metadata": {
        "id": "EfaZ6dUV20aV"
      },
      "outputs": [],
      "source": [
        "#Utilizando sql para contabilizar qual ideologia mais ganhou eleições\n",
        "query = \"\"\"SELECT ESPECTRO_PARTIDOS, COUNT(ESPECTRO_PARTIDOS) \n",
        "           FROM espectro\n",
        "           GROUP BY ESPECTRO_PARTIDOS\n",
        "           \"\"\"\n",
        "ps.sqldf(query.lower(), locals())"
      ]
    },
    {
      "cell_type": "markdown",
      "metadata": {
        "id": "s4zN1FwYZpPu"
      },
      "source": [
        "**Qual ideologia tem mais mulheres x homens eleitos**"
      ]
    },
    {
      "cell_type": "markdown",
      "metadata": {
        "id": "B5dFoaAZbZjf"
      },
      "source": [
        "`Ideologia que foram mais mulheres eleitas`\n",
        "\n",
        "\n",
        "\n",
        "\n"
      ]
    },
    {
      "cell_type": "code",
      "execution_count": null,
      "metadata": {
        "id": "swTkqW57bDuf"
      },
      "outputs": [],
      "source": [
        "espectro = candidatos_goias[candidatos_goias['DS_SIT_TOT_TURNO'] == \"ELEITO\"]\n",
        "espectro_feminino = espectro[espectro['DS_GENERO'] == \"FEMININO\"]"
      ]
    },
    {
      "cell_type": "code",
      "execution_count": null,
      "metadata": {
        "id": "C2qyFdzx4qGF"
      },
      "outputs": [],
      "source": [
        "#Utilizando sql para contabilizar qual ideologia mais ganhou eleições\n",
        "query = \"\"\"SELECT DS_GENERO, ESPECTRO_PARTIDOS, COUNT(ESPECTRO_PARTIDOS) \n",
        "           FROM espectro_feminino\n",
        "           GROUP BY ESPECTRO_PARTIDOS\n",
        "           \"\"\"\n",
        "ps.sqldf(query.lower(), locals())"
      ]
    },
    {
      "cell_type": "markdown",
      "metadata": {
        "id": "9CtfDgjObhzB"
      },
      "source": [
        "`Ideologia que foram mais homens eleitas`"
      ]
    },
    {
      "cell_type": "code",
      "execution_count": null,
      "metadata": {
        "id": "LG2OeUIebk4m"
      },
      "outputs": [],
      "source": [
        "espectro = candidatos_goias[candidatos_goias['DS_SIT_TOT_TURNO'] == \"ELEITO\"]\n",
        "espectro_masculino = espectro[espectro['DS_GENERO'] == \"MASCULINO\"]"
      ]
    },
    {
      "cell_type": "code",
      "execution_count": null,
      "metadata": {
        "id": "3ajXh3Qva4Zv"
      },
      "outputs": [],
      "source": [
        "#Utilizando sql para contabilizar qual ideologia mais ganhou eleições\n",
        "query = \"\"\"SELECT DS_GENERO, ESPECTRO_PARTIDOS, COUNT(ESPECTRO_PARTIDOS) \n",
        "           FROM espectro_masculino\n",
        "           GROUP BY ESPECTRO_PARTIDOS\n",
        "           \"\"\"\n",
        "ps.sqldf(query.lower(), locals())"
      ]
    },
    {
      "cell_type": "markdown",
      "metadata": {
        "id": "5MtBZ_xQbwra"
      },
      "source": [
        "**Quantas vezes mulheres x homens concorrerão a releicao**"
      ]
    },
    {
      "cell_type": "code",
      "execution_count": null,
      "metadata": {
        "id": "MzCjI7V2cojz"
      },
      "outputs": [],
      "source": [
        "releito_feminino = candidatos_goias[candidatos_goias['DS_GENERO'] == \"FEMININO\"]\n",
        "releito_masculino = candidatos_goias[candidatos_goias['DS_GENERO'] == \"MASCULINO\"]"
      ]
    },
    {
      "cell_type": "code",
      "execution_count": null,
      "metadata": {
        "id": "01I8sGhYbqxv"
      },
      "outputs": [],
      "source": [
        "#Utilizando sql para contabilizar quantas vezes mulheres x homens concorrerão a releição\n",
        "query = \"\"\"SELECT DS_GENERO, ST_REELEICAO, COUNT(ST_REELEICAO) \n",
        "           FROM releito_feminino\n",
        "           GROUP BY ST_REELEICAO, DS_GENERO\n",
        "           \"\"\"\n",
        "ps.sqldf(query.lower(), locals())"
      ]
    },
    {
      "cell_type": "code",
      "execution_count": null,
      "metadata": {
        "id": "DuZLfxQXc9hk"
      },
      "outputs": [],
      "source": [
        "#Utilizando sql para contabilizar quantas vezes foi releito por genero\n",
        "query = \"\"\"SELECT DS_GENERO, ST_REELEICAO, COUNT(ST_REELEICAO) \n",
        "           FROM releito_masculino\n",
        "           GROUP BY ST_REELEICAO, DS_GENERO\n",
        "           \"\"\"\n",
        "ps.sqldf(query.lower(), locals())"
      ]
    },
    {
      "cell_type": "markdown",
      "metadata": {
        "id": "TYvgajLddjRu"
      },
      "source": [
        "**Porcentagem de releito muheres x homens**"
      ]
    },
    {
      "cell_type": "code",
      "execution_count": null,
      "metadata": {
        "id": "1rvtIlMScgnn"
      },
      "outputs": [],
      "source": [
        "candidatos_goias[candidatos_goias['DS_SIT_TOT_TURNO'] == \"ELEITO\"].count()"
      ]
    },
    {
      "cell_type": "markdown",
      "metadata": {
        "id": "rdczJEY_eFBo"
      },
      "source": [
        "`Porcentagem de mulheres releitas`"
      ]
    },
    {
      "cell_type": "code",
      "execution_count": null,
      "metadata": {
        "id": "_acoVw3udtjA"
      },
      "outputs": [],
      "source": [
        "#Porcentagem \n",
        "porc_releita = (48/6458) * 100\n",
        "print('A porcentagem de mulheres releitas é: {:.2f}'.format(porc_releita))"
      ]
    },
    {
      "cell_type": "markdown",
      "metadata": {
        "id": "YElIFRLSgagb"
      },
      "source": [
        "`Porcentagem de homens reeleitos`"
      ]
    },
    {
      "cell_type": "code",
      "execution_count": null,
      "metadata": {
        "id": "R9GObusxgYHq"
      },
      "outputs": [],
      "source": [
        "#Porcentagem \n",
        "porc_releita = (368/6458) * 100\n",
        "print('A porcentagem de homens releitas é: {:.2f}'.format(porc_releita))"
      ]
    },
    {
      "cell_type": "markdown",
      "metadata": {
        "id": "R_TrO9nUk6LB"
      },
      "source": [
        "# Analisando dados de candidatos e eleitos/releitos por raça"
      ]
    },
    {
      "cell_type": "markdown",
      "metadata": {
        "id": "M5MjUcR4lFqd"
      },
      "source": [
        "Já foram analisandos os dados sobre generos.</br>\n",
        "Agora será analisado os dados de  eleitos e releitos por raça.\n"
      ]
    },
    {
      "cell_type": "markdown",
      "metadata": {
        "id": "kJF9WU15lWDu"
      },
      "source": [
        "`Quantidade de inscritos por raça`"
      ]
    },
    {
      "cell_type": "code",
      "execution_count": null,
      "metadata": {
        "id": "hHTECzOJliyz"
      },
      "outputs": [],
      "source": [
        "candidatos_goias[\"DS_COR_RACA\"].value_counts()"
      ]
    },
    {
      "cell_type": "markdown",
      "metadata": {
        "id": "QcWsgdqklyEb"
      },
      "source": [
        "`Procentagem de inscritos por raça`"
      ]
    },
    {
      "cell_type": "code",
      "execution_count": null,
      "metadata": {
        "id": "LjyASeQalrgs"
      },
      "outputs": [],
      "source": [
        "candidatos_goias[\"DS_COR_RACA\"].value_counts()/candidatos_goias[\"ANO_ELEICAO\"].count()*100"
      ]
    },
    {
      "cell_type": "markdown",
      "metadata": {
        "id": "YwEuInMsnMg-"
      },
      "source": [
        "`Quantidade de inscritos por raça ano eleição`"
      ]
    },
    {
      "cell_type": "code",
      "execution_count": null,
      "metadata": {
        "id": "pLwVTfo-nY3S"
      },
      "outputs": [],
      "source": [
        "#Utilizando sql para contabilizar inscritos ano eleção por raça\n",
        "query = \"\"\"SELECT ANO_ELEICAO, DS_COR_RACA, COUNT(DS_COR_RACA) as total_inscritos\n",
        "           FROM candidatos_goias\n",
        "           GROUP BY DS_COR_RACA, ANO_ELEICAO\n",
        "           ORDER BY ANO_ELEICAO,DS_COR_RACA,COUNT(ANO_ELEICAO) DESC\"\"\"\n",
        "ps.sqldf(query.lower(), locals())"
      ]
    },
    {
      "cell_type": "markdown",
      "metadata": {
        "id": "F4JwkZKLmGpF"
      },
      "source": [
        "`Quantidade de eleitos por raça `"
      ]
    },
    {
      "cell_type": "code",
      "execution_count": null,
      "metadata": {
        "id": "-iEMGzvCmAD9"
      },
      "outputs": [],
      "source": [
        "#Utilizando sql para contabilizar quantas vezes os candidatos foram eleitos por raça\n",
        "query = \"\"\"SELECT DS_COR_RACA, DS_SIT_TOT_TURNO, COUNT(DS_SIT_TOT_TURNO)  as quantidade_reeleicao\n",
        "           FROM candidatos_goias\n",
        "           where DS_SIT_TOT_TURNO like 'ELEITO%'\n",
        "           GROUP BY DS_SIT_TOT_TURNO, DS_COR_RACA\n",
        "           ORDER BY COUNT(DS_SIT_TOT_TURNO) DESC\"\"\"\n",
        "ps.sqldf(query.lower(), locals())"
      ]
    },
    {
      "cell_type": "markdown",
      "metadata": {
        "id": "uQTDtrHux_rz"
      },
      "source": [
        "`Quantidade de eleitos por raça e ano eleicão `"
      ]
    },
    {
      "cell_type": "code",
      "execution_count": null,
      "metadata": {
        "id": "gMIrE_Cvx1C1"
      },
      "outputs": [],
      "source": [
        "#Utilizando sql para contabilizar quantidade de eleitos por raça e ano \n",
        "query = \"\"\"SELECT ANO_ELEICAO, DS_COR_RACA, DS_SIT_TOT_TURNO, COUNT(DS_SIT_TOT_TURNO)  as quantidade_reeleicao\n",
        "           FROM candidatos_goias\n",
        "           where DS_SIT_TOT_TURNO like 'ELEITO%'\n",
        "           GROUP BY DS_SIT_TOT_TURNO, DS_COR_RACA,ANO_ELEICAO\n",
        "           ORDER BY ANO_ELEICAO,DS_COR_RACA,COUNT(DS_SIT_TOT_TURNO) DESC\"\"\"\n",
        "ps.sqldf(query.lower(), locals())"
      ]
    },
    {
      "cell_type": "markdown",
      "metadata": {
        "id": "kJFjkEX7qwhe"
      },
      "source": [
        "`porcentagem de eleitos por raça `"
      ]
    },
    {
      "cell_type": "code",
      "execution_count": null,
      "metadata": {
        "id": "x8vWcPzxq6K2"
      },
      "outputs": [],
      "source": [
        "candidatos_eleitos = candidatos_goias[candidatos_goias['DS_SIT_TOT_TURNO'] == \"ELEITO\"]\n",
        "candidatos_eleitos['DS_COR_RACA'].value_counts() / candidatos_eleitos['ANO_ELEICAO'].count() * 100"
      ]
    },
    {
      "cell_type": "markdown",
      "metadata": {
        "id": "-AuREoc6rYE-"
      },
      "source": [
        "`Quantidade de releitos por raça `"
      ]
    },
    {
      "cell_type": "code",
      "execution_count": null,
      "metadata": {
        "id": "Rg6McyGrrHMM"
      },
      "outputs": [],
      "source": [
        "#Utilizando sql para contabilizar quantas vezes os candidatos foram reeleitos por raça\n",
        "query = \"\"\"SELECT DS_COR_RACA, ST_REELEICAO, COUNT(ST_REELEICAO)  as quantidade_reeleicao\n",
        "           FROM candidatos_goias\n",
        "           where ST_REELEICAO like '%S%'\n",
        "           GROUP BY ST_REELEICAO, DS_COR_RACA\n",
        "           ORDER BY COUNT(ST_REELEICAO) DESC\"\"\"\n",
        "ps.sqldf(query.lower(), locals())"
      ]
    },
    {
      "cell_type": "markdown",
      "metadata": {
        "id": "bZZYVnzL051W"
      },
      "source": [
        "`Quantidade de reeleitos por raça e ano `"
      ]
    },
    {
      "cell_type": "code",
      "execution_count": null,
      "metadata": {
        "id": "OxfVqYYDr9ia"
      },
      "outputs": [],
      "source": [
        "#Utilizando sql para contabilizar quantas vezes os candidatos foram reeleitos por raça e ano \n",
        "query = \"\"\"SELECT ANO_ELEICAO, DS_COR_RACA, ST_REELEICAO, COUNT(ST_REELEICAO)  as quantidade_reeleicao\n",
        "           FROM candidatos_goias\n",
        "           where ST_REELEICAO like '%S%'\n",
        "           GROUP BY ST_REELEICAO, DS_COR_RACA, ANO_ELEICAO\n",
        "           ORDER BY DS_COR_RACA,COUNT(ST_REELEICAO) DESC\"\"\"\n",
        "ps.sqldf(query.lower(), locals())"
      ]
    },
    {
      "cell_type": "markdown",
      "metadata": {
        "id": "J5vYoGmM9JO4"
      },
      "source": [
        "`Porcentage de reeleitos por raça`"
      ]
    },
    {
      "cell_type": "code",
      "execution_count": null,
      "metadata": {
        "id": "3dTxvjoQ7jJW"
      },
      "outputs": [],
      "source": [
        "candidatos_eleitos = candidatos_goias[candidatos_goias['ST_REELEICAO'] == \"S\"]\n",
        "candidatos_eleitos['DS_COR_RACA'].value_counts() / candidatos_eleitos['ANO_ELEICAO'].count() * 100"
      ]
    },
    {
      "cell_type": "markdown",
      "metadata": {
        "id": "bS0izJLk2N68"
      },
      "source": [
        "`Genero dos candidatos por raça `"
      ]
    },
    {
      "cell_type": "code",
      "execution_count": null,
      "metadata": {
        "id": "Zolpjnyh1tnn"
      },
      "outputs": [],
      "source": [
        "#Utilizando sql para contabilizar quantidade de Genero candidatos por raça \n",
        "query = \"\"\"SELECT DS_GENERO, DS_COR_RACA, COUNT(DS_COR_RACA)  as total_genero_raça\n",
        "           FROM candidatos_goias\n",
        "           GROUP BY DS_COR_RACA, DS_GENERO\n",
        "           ORDER BY DS_COR_RACA,DS_GENERO, COUNT(DS_COR_RACA) DESC\"\"\"\n",
        "ps.sqldf(query.lower(), locals())"
      ]
    },
    {
      "cell_type": "code",
      "execution_count": null,
      "metadata": {
        "id": "j4hS7t4V2ojn"
      },
      "outputs": [],
      "source": [
        "#Utilizando sql para contabilizar quantidade de Genero candidatos por raça e ano  \n",
        "query = \"\"\"SELECT ANO_ELEICAO, DS_GENERO, DS_COR_RACA, COUNT(DS_COR_RACA)  as total_genero_raça_ano\n",
        "           FROM candidatos_goias\n",
        "           GROUP BY DS_COR_RACA, DS_GENERO,ANO_ELEICAO\n",
        "           ORDER BY DS_COR_RACA,DS_GENERO,COUNT(DS_COR_RACA) DESC\"\"\"\n",
        "ps.sqldf(query.lower(), locals())"
      ]
    },
    {
      "cell_type": "code",
      "execution_count": null,
      "metadata": {
        "id": "pvyoD2Ft42gD"
      },
      "outputs": [],
      "source": [
        "candidatos_goias.head()"
      ]
    },
    {
      "cell_type": "code",
      "source": [
        "candidatos_goias['DS_GRAU_INSTRUCAO'].unique()"
      ],
      "metadata": {
        "id": "7hhNe0_fxXff"
      },
      "execution_count": null,
      "outputs": []
    },
    {
      "cell_type": "code",
      "source": [
        "candidatos_goias.to_csv(\"candidatos_goias_2010_2022_limpo.csv\", sep=';', encoding='UTF-8')"
      ],
      "metadata": {
        "id": "ynZspP1rxlTu"
      },
      "execution_count": 135,
      "outputs": []
    },
    {
      "cell_type": "code",
      "source": [],
      "metadata": {
        "id": "njH3e1Ii1fh-"
      },
      "execution_count": null,
      "outputs": []
    }
  ],
  "metadata": {
    "colab": {
      "provenance": []
    },
    "kernelspec": {
      "display_name": "Python 3",
      "name": "python3"
    },
    "language_info": {
      "name": "python"
    }
  },
  "nbformat": 4,
  "nbformat_minor": 0
}