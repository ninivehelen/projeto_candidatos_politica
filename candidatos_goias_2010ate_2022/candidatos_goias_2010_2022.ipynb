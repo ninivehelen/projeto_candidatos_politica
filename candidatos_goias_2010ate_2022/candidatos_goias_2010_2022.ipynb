{
  "nbformat": 4,
  "nbformat_minor": 0,
  "metadata": {
    "colab": {
      "provenance": [],
      "collapsed_sections": []
    },
    "kernelspec": {
      "name": "python3",
      "display_name": "Python 3"
    },
    "language_info": {
      "name": "python"
    }
  },
  "cells": [
    {
      "cell_type": "markdown",
      "source": [
        "`Projeto de análise de dados - Candidatos 2010 até 2022 Goiás`\n",
        "\n",
        "\n",
        "\n",
        "\n",
        "\n"
      ],
      "metadata": {
        "id": "ad4rx_LDBWnQ"
      }
    },
    {
      "cell_type": "markdown",
      "source": [
        "`Como os dataframes estão separados, então serar feito a união deles ultilizando  o python, como eles possui a mesma quantidade de colunas e são os mesmos nomes isso será possível realizar `"
      ],
      "metadata": {
        "id": "VP1Z3LXwKsAV"
      }
    },
    {
      "cell_type": "markdown",
      "source": [
        "`Unindo os csv de 2010 até 2022 do estado de Goías`"
      ],
      "metadata": {
        "id": "WrmPPeVmLjhM"
      }
    },
    {
      "cell_type": "code",
      "source": [
        "#importando bibliotecas necessárias \n",
        "import os\n",
        "import glob\n",
        "import pandas as pd\n",
        "import seaborn as sns\n",
        "import matplotlib.pyplot as plt\n"
      ],
      "metadata": {
        "id": "PAC9hGPoLNR2"
      },
      "execution_count": 1,
      "outputs": []
    },
    {
      "cell_type": "code",
      "source": [
        "pip install pandasql"
      ],
      "metadata": {
        "id": "hjV2JvQNfi6q",
        "colab": {
          "base_uri": "https://localhost:8080/"
        },
        "outputId": "8a435c0a-df2c-45f8-aae7-0602572b9aae"
      },
      "execution_count": 2,
      "outputs": [
        {
          "output_type": "stream",
          "name": "stdout",
          "text": [
            "Looking in indexes: https://pypi.org/simple, https://us-python.pkg.dev/colab-wheels/public/simple/\n",
            "Collecting pandasql\n",
            "  Downloading pandasql-0.7.3.tar.gz (26 kB)\n",
            "Requirement already satisfied: numpy in /usr/local/lib/python3.7/dist-packages (from pandasql) (1.21.6)\n",
            "Requirement already satisfied: pandas in /usr/local/lib/python3.7/dist-packages (from pandasql) (1.3.5)\n",
            "Requirement already satisfied: sqlalchemy in /usr/local/lib/python3.7/dist-packages (from pandasql) (1.4.43)\n",
            "Requirement already satisfied: python-dateutil>=2.7.3 in /usr/local/lib/python3.7/dist-packages (from pandas->pandasql) (2.8.2)\n",
            "Requirement already satisfied: pytz>=2017.3 in /usr/local/lib/python3.7/dist-packages (from pandas->pandasql) (2022.6)\n",
            "Requirement already satisfied: six>=1.5 in /usr/local/lib/python3.7/dist-packages (from python-dateutil>=2.7.3->pandas->pandasql) (1.15.0)\n",
            "Requirement already satisfied: greenlet!=0.4.17 in /usr/local/lib/python3.7/dist-packages (from sqlalchemy->pandasql) (2.0.1)\n",
            "Requirement already satisfied: importlib-metadata in /usr/local/lib/python3.7/dist-packages (from sqlalchemy->pandasql) (4.13.0)\n",
            "Requirement already satisfied: typing-extensions>=3.6.4 in /usr/local/lib/python3.7/dist-packages (from importlib-metadata->sqlalchemy->pandasql) (4.1.1)\n",
            "Requirement already satisfied: zipp>=0.5 in /usr/local/lib/python3.7/dist-packages (from importlib-metadata->sqlalchemy->pandasql) (3.10.0)\n",
            "Building wheels for collected packages: pandasql\n",
            "  Building wheel for pandasql (setup.py) ... \u001b[?25l\u001b[?25hdone\n",
            "  Created wheel for pandasql: filename=pandasql-0.7.3-py3-none-any.whl size=26782 sha256=d88fd30d40b3a061ed51828cb191eacd473631f6061038832b3f73cc3b96ea1e\n",
            "  Stored in directory: /root/.cache/pip/wheels/5c/4b/ec/41f4e116c8053c3654e2c2a47c62b4fca34cc67ef7b55deb7f\n",
            "Successfully built pandasql\n",
            "Installing collected packages: pandasql\n",
            "Successfully installed pandasql-0.7.3\n"
          ]
        }
      ]
    },
    {
      "cell_type": "code",
      "source": [
        "#Importando biblioteca para usar sql\n",
        "import pandasql as ps"
      ],
      "metadata": {
        "id": "h47TZP7-foBA"
      },
      "execution_count": 3,
      "outputs": []
    },
    {
      "cell_type": "code",
      "source": [
        "#Caminho dos arquivos\n",
        "caminho = os.getcwd()\n",
        "print(caminho)\n",
        "arquivos_csv = glob.glob(os.path.join(caminho+ \"/consulta_cand*.csv\")) \n",
        "print(arquivos_csv)"
      ],
      "metadata": {
        "colab": {
          "base_uri": "https://localhost:8080/"
        },
        "id": "H97VSSZ_WdzT",
        "outputId": "b66939d7-9886-4139-dbae-428443b1a42c"
      },
      "execution_count": null,
      "outputs": [
        {
          "output_type": "stream",
          "name": "stdout",
          "text": [
            "/content\n",
            "['/content/consulta_cand_2022_GO.csv', '/content/consulta_cand_2014_GO.csv', '/content/consulta_cand_2012_GO.csv', '/content/consulta_cand_2010_GO.csv', '/content/consulta_cand_2020_GO.csv', '/content/consulta_cand_2018_GO.csv', '/content/consulta_cand_2016_GO.csv']\n"
          ]
        }
      ]
    },
    {
      "cell_type": "code",
      "source": [
        "#codigo para unir o csv \n",
        "df_final = pd.DataFrame()\n",
        "for arquivo in arquivos_csv:\n",
        "        #print(arquivo)\n",
        "        #ler csv\n",
        "  df_temp = pd.read_csv(arquivo, sep=';',encoding=\"ISO-8859-1\",on_bad_lines='skip')\n",
        "  df_final = pd.concat([df_temp,df_final])\n",
        "print(\"unindo csv\")\n",
        "df_final.to_csv('/content/candidatos_diretorio/candidatos_goias_2010_2022.csv', sep=';',encoding=\"utf-8\",index=False)"
      ],
      "metadata": {
        "colab": {
          "base_uri": "https://localhost:8080/"
        },
        "id": "6a4ZXyhyWSfp",
        "outputId": "14d333e8-42e9-423b-e558-c058d2d4fa70"
      },
      "execution_count": null,
      "outputs": [
        {
          "output_type": "stream",
          "name": "stdout",
          "text": [
            "unindo csv\n"
          ]
        }
      ]
    },
    {
      "cell_type": "markdown",
      "source": [
        "**Iniciando a análise dos dados, após a uniao dos csv - estado do Goiás**"
      ],
      "metadata": {
        "id": "MYxtf_WOX-qz"
      }
    },
    {
      "cell_type": "code",
      "source": [
        "#codigo para abrir todas as colunas do dataframe\n",
        "pd.set_option('display.max_columns', None)"
      ],
      "metadata": {
        "id": "A5f6OJ-1-Bau"
      },
      "execution_count": 4,
      "outputs": []
    },
    {
      "cell_type": "code",
      "execution_count": 6,
      "metadata": {
        "colab": {
          "base_uri": "https://localhost:8080/"
        },
        "id": "UQ-LLd9l8pMB",
        "outputId": "f20d9b53-ba55-466d-a26c-bad3c7e0be96"
      },
      "outputs": [
        {
          "output_type": "stream",
          "name": "stderr",
          "text": [
            "/usr/local/lib/python3.7/dist-packages/IPython/core/interactiveshell.py:3326: DtypeWarning: Columns (11,20,57,64,65,66,67,69,70) have mixed types.Specify dtype option on import or set low_memory=False.\n",
            "  exec(code_obj, self.user_global_ns, self.user_ns)\n"
          ]
        }
      ],
      "source": [
        "#carregamento do dataframe\n",
        "candidatos_goias = pd.read_csv(\"/content/candidatos_diretorio/candidatos_goias_2010_2022.csv\", sep=';',encoding=\"utf-8\",on_bad_lines='skip')"
      ]
    },
    {
      "cell_type": "code",
      "source": [
        "#leitura do dataframe\n",
        "candidatos_goias.head(6)"
      ],
      "metadata": {
        "id": "1to2j-mk8_eK",
        "colab": {
          "base_uri": "https://localhost:8080/",
          "height": 579
        },
        "outputId": "1f495a87-1e01-46fb-9944-a51e0218a0f2"
      },
      "execution_count": 7,
      "outputs": [
        {
          "output_type": "execute_result",
          "data": {
            "text/plain": [
              "   DT_GERACAO HH_GERACAO  ANO_ELEICAO  CD_TIPO_ELEICAO    NM_TIPO_ELEICAO  \\\n",
              "0  18/02/2021   12:07:20         2016                2  ELEIÇÃO ORDINÁRIA   \n",
              "1  18/02/2021   12:07:20         2016                2  ELEIÇÃO ORDINÁRIA   \n",
              "2  18/02/2021   12:07:20         2016                2  ELEIÇÃO ORDINÁRIA   \n",
              "3  18/02/2021   12:07:20         2016                2  ELEIÇÃO ORDINÁRIA   \n",
              "4  18/02/2021   12:07:20         2016                2  ELEIÇÃO ORDINÁRIA   \n",
              "5  18/02/2021   12:07:20         2016                2  ELEIÇÃO ORDINÁRIA   \n",
              "\n",
              "   NR_TURNO  CD_ELEICAO                DS_ELEICAO  DT_ELEICAO TP_ABRANGENCIA  \\\n",
              "0         1         220  Eleições Municipais 2016  02/10/2016      MUNICIPAL   \n",
              "1         1         220  Eleições Municipais 2016  02/10/2016      MUNICIPAL   \n",
              "2         1         220  Eleições Municipais 2016  02/10/2016      MUNICIPAL   \n",
              "3         1         220  Eleições Municipais 2016  02/10/2016      MUNICIPAL   \n",
              "4         1         220  Eleições Municipais 2016  02/10/2016      MUNICIPAL   \n",
              "5         1         220  Eleições Municipais 2016  02/10/2016      MUNICIPAL   \n",
              "\n",
              "  SG_UF  SG_UE        NM_UE  CD_CARGO  DS_CARGO  SQ_CANDIDATO  NR_CANDIDATO  \\\n",
              "0    GO  93394  DAVINÓPOLIS        13  VEREADOR   90000015638         22000   \n",
              "1    GO  94293      JANDAIA        13  VEREADOR   90000008594         22022   \n",
              "2    GO  93734      GOIÂNIA        13  VEREADOR   90000014547         15190   \n",
              "3    GO  93793     GOIATUBA        13  VEREADOR   90000021770         45999   \n",
              "4    GO  94315      JARAGUÁ        13  VEREADOR   90000010097         45211   \n",
              "5    GO  93777        GOIÁS        13  VEREADOR   90000023024         77123   \n",
              "\n",
              "                     NM_CANDIDATO NM_URNA_CANDIDATO NM_SOCIAL_CANDIDATO  \\\n",
              "0            PAULO CESAR CARNEIRO       PAULO CESAR              #NULO#   \n",
              "1              FABIO ALVES BORGES    FABIO CAPACETE              #NULO#   \n",
              "2        ROBSON PAIXAO DE AZEVEDO        DR. ROBSON              #NULO#   \n",
              "3   WILZELENA MARIA LOPES MARTINS       VILZA LOPES              #NULO#   \n",
              "4       ANA MARIA MARQUES ANDRADE     TIA ANA MARIA              #NULO#   \n",
              "5  ALCIMINIO SIMÕES CORREA JUNIOR      DR ALCIMINIO              #NULO#   \n",
              "\n",
              "  NR_CPF_CANDIDATO                       NM_EMAIL  CD_SITUACAO_CANDIDATURA  \\\n",
              "0      25117521153      EXITOADVOCACIA@UOL.COM.BR                       12   \n",
              "1       1989808174       TEMPODEMUDAR45@GMAIL.COM                       12   \n",
              "2      16721900106          ORTOPEDICO1@GMAIL.COM                       12   \n",
              "3      49117882168         SW_FCASTRO@HOTMAIL.COM                       12   \n",
              "4      43535658187  ZILOMAR.2016.CANDEX@GMAIL.COM                       12   \n",
              "5      12372676172       UNIDOSPORGOIAS@GMAIL.COM                       12   \n",
              "\n",
              "  DS_SITUACAO_CANDIDATURA  CD_DETALHE_SITUACAO_CAND DS_DETALHE_SITUACAO_CAND  \\\n",
              "0                    APTO                         2                 DEFERIDO   \n",
              "1                    APTO                         2                 DEFERIDO   \n",
              "2                    APTO                         2                 DEFERIDO   \n",
              "3                    APTO                         2                 DEFERIDO   \n",
              "4                    APTO                         2                 DEFERIDO   \n",
              "5                    APTO                         2                 DEFERIDO   \n",
              "\n",
              "  TP_AGREMIACAO  NR_PARTIDO SG_PARTIDO  \\\n",
              "0     COLIGAÇÃO          22         PR   \n",
              "1     COLIGAÇÃO          22         PR   \n",
              "2     COLIGAÇÃO          15       PMDB   \n",
              "3     COLIGAÇÃO          45       PSDB   \n",
              "4     COLIGAÇÃO          45       PSDB   \n",
              "5     COLIGAÇÃO          77         SD   \n",
              "\n",
              "                                    NM_PARTIDO  SQ_COLIGACAO  \\\n",
              "0                         PARTIDO DA REPÚBLICA   90000001197   \n",
              "1                         PARTIDO DA REPÚBLICA   90000000700   \n",
              "2  PARTIDO DO MOVIMENTO DEMOCRÁTICO BRASILEIRO   90000001121   \n",
              "3      PARTIDO DA SOCIAL DEMOCRACIA BRASILEIRA   90000001649   \n",
              "4      PARTIDO DA SOCIAL DEMOCRACIA BRASILEIRA   90000000817   \n",
              "5                                SOLIDARIEDADE   90000001734   \n",
              "\n",
              "                    NM_COLIGACAO DS_COMPOSICAO_COLIGACAO  CD_NACIONALIDADE  \\\n",
              "0     LEGISLATIVO LEVADO A SÉRIO               PR / PSDB                 1   \n",
              "1               E TEMPO DE MUDAR          PSDB / PP / PR                 1   \n",
              "2      EXPERIÊNCIA E CONFIANÇA 1       PMDB / PDT / PRTB                 1   \n",
              "3           LEGISLAR PARA O POVO         PSDB / PV / PHS                 1   \n",
              "4           ALIANÇA DA VITÓRIA I         PSDB / PP / PDT                 1   \n",
              "5  ÉTICA, COMPROMISSO E TRABALHO   DEM / PSDC / PRP / SD                 1   \n",
              "\n",
              "  DS_NACIONALIDADE SG_UF_NASCIMENTO  CD_MUNICIPIO_NASCIMENTO  \\\n",
              "0  BRASILEIRA NATA               GO                       -3   \n",
              "1  BRASILEIRA NATA               GO                       -3   \n",
              "2  BRASILEIRA NATA               GO                       -3   \n",
              "3  BRASILEIRA NATA               GO                       -3   \n",
              "4  BRASILEIRA NATA               GO                       -3   \n",
              "5  BRASILEIRA NATA               MG                       -3   \n",
              "\n",
              "  NM_MUNICIPIO_NASCIMENTO DT_NASCIMENTO  NR_IDADE_DATA_POSSE  \\\n",
              "0            TRÊS RANCHOS    11/01/1963                 53.0   \n",
              "1                 GOIANIA    01/06/1985                 31.0   \n",
              "2                 GOIANIA    15/04/1960                 56.0   \n",
              "3                GOIATUBA    28/01/1967                 49.0   \n",
              "4                   CERES    26/07/1966                 50.0   \n",
              "5                  BAMBUÍ    13/12/1956                 60.0   \n",
              "\n",
              "   NR_TITULO_ELEITORAL_CANDIDATO  CD_GENERO  DS_GENERO  CD_GRAU_INSTRUCAO  \\\n",
              "0                    12728071015          2  MASCULINO                  7   \n",
              "1                    51041361074          2  MASCULINO                  6   \n",
              "2                     1339361023          2  MASCULINO                  8   \n",
              "3                     9822491066          4   FEMININO                  6   \n",
              "4                     5861311040          4   FEMININO                  5   \n",
              "5                     4790621066          2  MASCULINO                  8   \n",
              "\n",
              "         DS_GRAU_INSTRUCAO  CD_ESTADO_CIVIL DS_ESTADO_CIVIL  CD_COR_RACA  \\\n",
              "0      SUPERIOR INCOMPLETO                9   DIVORCIADO(A)            1   \n",
              "1    ENSINO MÉDIO COMPLETO                3       CASADO(A)            1   \n",
              "2        SUPERIOR COMPLETO                3       CASADO(A)            1   \n",
              "3    ENSINO MÉDIO COMPLETO                3       CASADO(A)            3   \n",
              "4  ENSINO MÉDIO INCOMPLETO                3       CASADO(A)            3   \n",
              "5        SUPERIOR COMPLETO                3       CASADO(A)            1   \n",
              "\n",
              "  DS_COR_RACA  CD_OCUPACAO              DS_OCUPACAO  VR_DESPESA_MAX_CAMPANHA  \\\n",
              "0      BRANCA          237  REPRESENTANTE COMERCIAL                 10803.91   \n",
              "1      BRANCA          999                   OUTROS                 10803.91   \n",
              "2      BRANCA          111                   MÉDICO                519651.25   \n",
              "3       PARDA          581             DONA DE CASA                 38077.10   \n",
              "4       PARDA          601               AGRICULTOR                 21634.37   \n",
              "5      BRANCA          131                 ADVOGADO                 22147.45   \n",
              "\n",
              "   CD_SIT_TOT_TURNO  DS_SIT_TOT_TURNO ST_REELEICAO ST_DECLARAR_BENS  \\\n",
              "0                 3  ELEITO POR MÉDIA            N                N   \n",
              "1                 5          SUPLENTE            N                S   \n",
              "2                 5          SUPLENTE            N                S   \n",
              "3                 5          SUPLENTE            N                S   \n",
              "4                 5          SUPLENTE            N                N   \n",
              "5                 5          SUPLENTE            N                S   \n",
              "\n",
              "   NR_PROTOCOLO_CANDIDATURA       NR_PROCESSO  CD_SITUACAO_CANDIDATO_PLEITO  \\\n",
              "0                 821882016  2517720166090008                             2   \n",
              "1                 729692016  1328220166090084                             2   \n",
              "2                 808282016  2353920166090133                             2   \n",
              "3                 896332016  2682320166090038                             2   \n",
              "4                 753252016  1415120166090017                             2   \n",
              "5                 911462016  1425120166090012                             2   \n",
              "\n",
              "  DS_SITUACAO_CANDIDATO_PLEITO  CD_SITUACAO_CANDIDATO_URNA  \\\n",
              "0                     DEFERIDO                           2   \n",
              "1                     DEFERIDO                           2   \n",
              "2                     DEFERIDO                           2   \n",
              "3                     DEFERIDO                           2   \n",
              "4                     DEFERIDO                           4   \n",
              "5                     DEFERIDO                           2   \n",
              "\n",
              "  DS_SITUACAO_CANDIDATO_URNA ST_CANDIDATO_INSERIDO_URNA  NR_FEDERACAO  \\\n",
              "0                   DEFERIDO                        SIM           NaN   \n",
              "1                   DEFERIDO                        SIM           NaN   \n",
              "2                   DEFERIDO                        SIM           NaN   \n",
              "3                   DEFERIDO                        SIM           NaN   \n",
              "4     INDEFERIDO COM RECURSO                        SIM           NaN   \n",
              "5                   DEFERIDO                        SIM           NaN   \n",
              "\n",
              "  NM_FEDERACAO SG_FEDERACAO DS_COMPOSICAO_FEDERACAO NM_TIPO_DESTINACAO_VOTOS  \\\n",
              "0          NaN          NaN                     NaN                      NaN   \n",
              "1          NaN          NaN                     NaN                      NaN   \n",
              "2          NaN          NaN                     NaN                      NaN   \n",
              "3          NaN          NaN                     NaN                      NaN   \n",
              "4          NaN          NaN                     NaN                      NaN   \n",
              "5          NaN          NaN                     NaN                      NaN   \n",
              "\n",
              "   CD_SITUACAO_CANDIDATO_TOT DS_SITUACAO_CANDIDATO_TOT ST_PREST_CONTAS  \n",
              "0                        NaN                       NaN             NaN  \n",
              "1                        NaN                       NaN             NaN  \n",
              "2                        NaN                       NaN             NaN  \n",
              "3                        NaN                       NaN             NaN  \n",
              "4                        NaN                       NaN             NaN  \n",
              "5                        NaN                       NaN             NaN  "
            ],
            "text/html": [
              "\n",
              "  <div id=\"df-a717578f-8a72-4b87-86a9-2aa36e3e99d2\">\n",
              "    <div class=\"colab-df-container\">\n",
              "      <div>\n",
              "<style scoped>\n",
              "    .dataframe tbody tr th:only-of-type {\n",
              "        vertical-align: middle;\n",
              "    }\n",
              "\n",
              "    .dataframe tbody tr th {\n",
              "        vertical-align: top;\n",
              "    }\n",
              "\n",
              "    .dataframe thead th {\n",
              "        text-align: right;\n",
              "    }\n",
              "</style>\n",
              "<table border=\"1\" class=\"dataframe\">\n",
              "  <thead>\n",
              "    <tr style=\"text-align: right;\">\n",
              "      <th></th>\n",
              "      <th>DT_GERACAO</th>\n",
              "      <th>HH_GERACAO</th>\n",
              "      <th>ANO_ELEICAO</th>\n",
              "      <th>CD_TIPO_ELEICAO</th>\n",
              "      <th>NM_TIPO_ELEICAO</th>\n",
              "      <th>NR_TURNO</th>\n",
              "      <th>CD_ELEICAO</th>\n",
              "      <th>DS_ELEICAO</th>\n",
              "      <th>DT_ELEICAO</th>\n",
              "      <th>TP_ABRANGENCIA</th>\n",
              "      <th>SG_UF</th>\n",
              "      <th>SG_UE</th>\n",
              "      <th>NM_UE</th>\n",
              "      <th>CD_CARGO</th>\n",
              "      <th>DS_CARGO</th>\n",
              "      <th>SQ_CANDIDATO</th>\n",
              "      <th>NR_CANDIDATO</th>\n",
              "      <th>NM_CANDIDATO</th>\n",
              "      <th>NM_URNA_CANDIDATO</th>\n",
              "      <th>NM_SOCIAL_CANDIDATO</th>\n",
              "      <th>NR_CPF_CANDIDATO</th>\n",
              "      <th>NM_EMAIL</th>\n",
              "      <th>CD_SITUACAO_CANDIDATURA</th>\n",
              "      <th>DS_SITUACAO_CANDIDATURA</th>\n",
              "      <th>CD_DETALHE_SITUACAO_CAND</th>\n",
              "      <th>DS_DETALHE_SITUACAO_CAND</th>\n",
              "      <th>TP_AGREMIACAO</th>\n",
              "      <th>NR_PARTIDO</th>\n",
              "      <th>SG_PARTIDO</th>\n",
              "      <th>NM_PARTIDO</th>\n",
              "      <th>SQ_COLIGACAO</th>\n",
              "      <th>NM_COLIGACAO</th>\n",
              "      <th>DS_COMPOSICAO_COLIGACAO</th>\n",
              "      <th>CD_NACIONALIDADE</th>\n",
              "      <th>DS_NACIONALIDADE</th>\n",
              "      <th>SG_UF_NASCIMENTO</th>\n",
              "      <th>CD_MUNICIPIO_NASCIMENTO</th>\n",
              "      <th>NM_MUNICIPIO_NASCIMENTO</th>\n",
              "      <th>DT_NASCIMENTO</th>\n",
              "      <th>NR_IDADE_DATA_POSSE</th>\n",
              "      <th>NR_TITULO_ELEITORAL_CANDIDATO</th>\n",
              "      <th>CD_GENERO</th>\n",
              "      <th>DS_GENERO</th>\n",
              "      <th>CD_GRAU_INSTRUCAO</th>\n",
              "      <th>DS_GRAU_INSTRUCAO</th>\n",
              "      <th>CD_ESTADO_CIVIL</th>\n",
              "      <th>DS_ESTADO_CIVIL</th>\n",
              "      <th>CD_COR_RACA</th>\n",
              "      <th>DS_COR_RACA</th>\n",
              "      <th>CD_OCUPACAO</th>\n",
              "      <th>DS_OCUPACAO</th>\n",
              "      <th>VR_DESPESA_MAX_CAMPANHA</th>\n",
              "      <th>CD_SIT_TOT_TURNO</th>\n",
              "      <th>DS_SIT_TOT_TURNO</th>\n",
              "      <th>ST_REELEICAO</th>\n",
              "      <th>ST_DECLARAR_BENS</th>\n",
              "      <th>NR_PROTOCOLO_CANDIDATURA</th>\n",
              "      <th>NR_PROCESSO</th>\n",
              "      <th>CD_SITUACAO_CANDIDATO_PLEITO</th>\n",
              "      <th>DS_SITUACAO_CANDIDATO_PLEITO</th>\n",
              "      <th>CD_SITUACAO_CANDIDATO_URNA</th>\n",
              "      <th>DS_SITUACAO_CANDIDATO_URNA</th>\n",
              "      <th>ST_CANDIDATO_INSERIDO_URNA</th>\n",
              "      <th>NR_FEDERACAO</th>\n",
              "      <th>NM_FEDERACAO</th>\n",
              "      <th>SG_FEDERACAO</th>\n",
              "      <th>DS_COMPOSICAO_FEDERACAO</th>\n",
              "      <th>NM_TIPO_DESTINACAO_VOTOS</th>\n",
              "      <th>CD_SITUACAO_CANDIDATO_TOT</th>\n",
              "      <th>DS_SITUACAO_CANDIDATO_TOT</th>\n",
              "      <th>ST_PREST_CONTAS</th>\n",
              "    </tr>\n",
              "  </thead>\n",
              "  <tbody>\n",
              "    <tr>\n",
              "      <th>0</th>\n",
              "      <td>18/02/2021</td>\n",
              "      <td>12:07:20</td>\n",
              "      <td>2016</td>\n",
              "      <td>2</td>\n",
              "      <td>ELEIÇÃO ORDINÁRIA</td>\n",
              "      <td>1</td>\n",
              "      <td>220</td>\n",
              "      <td>Eleições Municipais 2016</td>\n",
              "      <td>02/10/2016</td>\n",
              "      <td>MUNICIPAL</td>\n",
              "      <td>GO</td>\n",
              "      <td>93394</td>\n",
              "      <td>DAVINÓPOLIS</td>\n",
              "      <td>13</td>\n",
              "      <td>VEREADOR</td>\n",
              "      <td>90000015638</td>\n",
              "      <td>22000</td>\n",
              "      <td>PAULO CESAR CARNEIRO</td>\n",
              "      <td>PAULO CESAR</td>\n",
              "      <td>#NULO#</td>\n",
              "      <td>25117521153</td>\n",
              "      <td>EXITOADVOCACIA@UOL.COM.BR</td>\n",
              "      <td>12</td>\n",
              "      <td>APTO</td>\n",
              "      <td>2</td>\n",
              "      <td>DEFERIDO</td>\n",
              "      <td>COLIGAÇÃO</td>\n",
              "      <td>22</td>\n",
              "      <td>PR</td>\n",
              "      <td>PARTIDO DA REPÚBLICA</td>\n",
              "      <td>90000001197</td>\n",
              "      <td>LEGISLATIVO LEVADO A SÉRIO</td>\n",
              "      <td>PR / PSDB</td>\n",
              "      <td>1</td>\n",
              "      <td>BRASILEIRA NATA</td>\n",
              "      <td>GO</td>\n",
              "      <td>-3</td>\n",
              "      <td>TRÊS RANCHOS</td>\n",
              "      <td>11/01/1963</td>\n",
              "      <td>53.0</td>\n",
              "      <td>12728071015</td>\n",
              "      <td>2</td>\n",
              "      <td>MASCULINO</td>\n",
              "      <td>7</td>\n",
              "      <td>SUPERIOR INCOMPLETO</td>\n",
              "      <td>9</td>\n",
              "      <td>DIVORCIADO(A)</td>\n",
              "      <td>1</td>\n",
              "      <td>BRANCA</td>\n",
              "      <td>237</td>\n",
              "      <td>REPRESENTANTE COMERCIAL</td>\n",
              "      <td>10803.91</td>\n",
              "      <td>3</td>\n",
              "      <td>ELEITO POR MÉDIA</td>\n",
              "      <td>N</td>\n",
              "      <td>N</td>\n",
              "      <td>821882016</td>\n",
              "      <td>2517720166090008</td>\n",
              "      <td>2</td>\n",
              "      <td>DEFERIDO</td>\n",
              "      <td>2</td>\n",
              "      <td>DEFERIDO</td>\n",
              "      <td>SIM</td>\n",
              "      <td>NaN</td>\n",
              "      <td>NaN</td>\n",
              "      <td>NaN</td>\n",
              "      <td>NaN</td>\n",
              "      <td>NaN</td>\n",
              "      <td>NaN</td>\n",
              "      <td>NaN</td>\n",
              "      <td>NaN</td>\n",
              "    </tr>\n",
              "    <tr>\n",
              "      <th>1</th>\n",
              "      <td>18/02/2021</td>\n",
              "      <td>12:07:20</td>\n",
              "      <td>2016</td>\n",
              "      <td>2</td>\n",
              "      <td>ELEIÇÃO ORDINÁRIA</td>\n",
              "      <td>1</td>\n",
              "      <td>220</td>\n",
              "      <td>Eleições Municipais 2016</td>\n",
              "      <td>02/10/2016</td>\n",
              "      <td>MUNICIPAL</td>\n",
              "      <td>GO</td>\n",
              "      <td>94293</td>\n",
              "      <td>JANDAIA</td>\n",
              "      <td>13</td>\n",
              "      <td>VEREADOR</td>\n",
              "      <td>90000008594</td>\n",
              "      <td>22022</td>\n",
              "      <td>FABIO ALVES BORGES</td>\n",
              "      <td>FABIO CAPACETE</td>\n",
              "      <td>#NULO#</td>\n",
              "      <td>1989808174</td>\n",
              "      <td>TEMPODEMUDAR45@GMAIL.COM</td>\n",
              "      <td>12</td>\n",
              "      <td>APTO</td>\n",
              "      <td>2</td>\n",
              "      <td>DEFERIDO</td>\n",
              "      <td>COLIGAÇÃO</td>\n",
              "      <td>22</td>\n",
              "      <td>PR</td>\n",
              "      <td>PARTIDO DA REPÚBLICA</td>\n",
              "      <td>90000000700</td>\n",
              "      <td>E TEMPO DE MUDAR</td>\n",
              "      <td>PSDB / PP / PR</td>\n",
              "      <td>1</td>\n",
              "      <td>BRASILEIRA NATA</td>\n",
              "      <td>GO</td>\n",
              "      <td>-3</td>\n",
              "      <td>GOIANIA</td>\n",
              "      <td>01/06/1985</td>\n",
              "      <td>31.0</td>\n",
              "      <td>51041361074</td>\n",
              "      <td>2</td>\n",
              "      <td>MASCULINO</td>\n",
              "      <td>6</td>\n",
              "      <td>ENSINO MÉDIO COMPLETO</td>\n",
              "      <td>3</td>\n",
              "      <td>CASADO(A)</td>\n",
              "      <td>1</td>\n",
              "      <td>BRANCA</td>\n",
              "      <td>999</td>\n",
              "      <td>OUTROS</td>\n",
              "      <td>10803.91</td>\n",
              "      <td>5</td>\n",
              "      <td>SUPLENTE</td>\n",
              "      <td>N</td>\n",
              "      <td>S</td>\n",
              "      <td>729692016</td>\n",
              "      <td>1328220166090084</td>\n",
              "      <td>2</td>\n",
              "      <td>DEFERIDO</td>\n",
              "      <td>2</td>\n",
              "      <td>DEFERIDO</td>\n",
              "      <td>SIM</td>\n",
              "      <td>NaN</td>\n",
              "      <td>NaN</td>\n",
              "      <td>NaN</td>\n",
              "      <td>NaN</td>\n",
              "      <td>NaN</td>\n",
              "      <td>NaN</td>\n",
              "      <td>NaN</td>\n",
              "      <td>NaN</td>\n",
              "    </tr>\n",
              "    <tr>\n",
              "      <th>2</th>\n",
              "      <td>18/02/2021</td>\n",
              "      <td>12:07:20</td>\n",
              "      <td>2016</td>\n",
              "      <td>2</td>\n",
              "      <td>ELEIÇÃO ORDINÁRIA</td>\n",
              "      <td>1</td>\n",
              "      <td>220</td>\n",
              "      <td>Eleições Municipais 2016</td>\n",
              "      <td>02/10/2016</td>\n",
              "      <td>MUNICIPAL</td>\n",
              "      <td>GO</td>\n",
              "      <td>93734</td>\n",
              "      <td>GOIÂNIA</td>\n",
              "      <td>13</td>\n",
              "      <td>VEREADOR</td>\n",
              "      <td>90000014547</td>\n",
              "      <td>15190</td>\n",
              "      <td>ROBSON PAIXAO DE AZEVEDO</td>\n",
              "      <td>DR. ROBSON</td>\n",
              "      <td>#NULO#</td>\n",
              "      <td>16721900106</td>\n",
              "      <td>ORTOPEDICO1@GMAIL.COM</td>\n",
              "      <td>12</td>\n",
              "      <td>APTO</td>\n",
              "      <td>2</td>\n",
              "      <td>DEFERIDO</td>\n",
              "      <td>COLIGAÇÃO</td>\n",
              "      <td>15</td>\n",
              "      <td>PMDB</td>\n",
              "      <td>PARTIDO DO MOVIMENTO DEMOCRÁTICO BRASILEIRO</td>\n",
              "      <td>90000001121</td>\n",
              "      <td>EXPERIÊNCIA E CONFIANÇA 1</td>\n",
              "      <td>PMDB / PDT / PRTB</td>\n",
              "      <td>1</td>\n",
              "      <td>BRASILEIRA NATA</td>\n",
              "      <td>GO</td>\n",
              "      <td>-3</td>\n",
              "      <td>GOIANIA</td>\n",
              "      <td>15/04/1960</td>\n",
              "      <td>56.0</td>\n",
              "      <td>1339361023</td>\n",
              "      <td>2</td>\n",
              "      <td>MASCULINO</td>\n",
              "      <td>8</td>\n",
              "      <td>SUPERIOR COMPLETO</td>\n",
              "      <td>3</td>\n",
              "      <td>CASADO(A)</td>\n",
              "      <td>1</td>\n",
              "      <td>BRANCA</td>\n",
              "      <td>111</td>\n",
              "      <td>MÉDICO</td>\n",
              "      <td>519651.25</td>\n",
              "      <td>5</td>\n",
              "      <td>SUPLENTE</td>\n",
              "      <td>N</td>\n",
              "      <td>S</td>\n",
              "      <td>808282016</td>\n",
              "      <td>2353920166090133</td>\n",
              "      <td>2</td>\n",
              "      <td>DEFERIDO</td>\n",
              "      <td>2</td>\n",
              "      <td>DEFERIDO</td>\n",
              "      <td>SIM</td>\n",
              "      <td>NaN</td>\n",
              "      <td>NaN</td>\n",
              "      <td>NaN</td>\n",
              "      <td>NaN</td>\n",
              "      <td>NaN</td>\n",
              "      <td>NaN</td>\n",
              "      <td>NaN</td>\n",
              "      <td>NaN</td>\n",
              "    </tr>\n",
              "    <tr>\n",
              "      <th>3</th>\n",
              "      <td>18/02/2021</td>\n",
              "      <td>12:07:20</td>\n",
              "      <td>2016</td>\n",
              "      <td>2</td>\n",
              "      <td>ELEIÇÃO ORDINÁRIA</td>\n",
              "      <td>1</td>\n",
              "      <td>220</td>\n",
              "      <td>Eleições Municipais 2016</td>\n",
              "      <td>02/10/2016</td>\n",
              "      <td>MUNICIPAL</td>\n",
              "      <td>GO</td>\n",
              "      <td>93793</td>\n",
              "      <td>GOIATUBA</td>\n",
              "      <td>13</td>\n",
              "      <td>VEREADOR</td>\n",
              "      <td>90000021770</td>\n",
              "      <td>45999</td>\n",
              "      <td>WILZELENA MARIA LOPES MARTINS</td>\n",
              "      <td>VILZA LOPES</td>\n",
              "      <td>#NULO#</td>\n",
              "      <td>49117882168</td>\n",
              "      <td>SW_FCASTRO@HOTMAIL.COM</td>\n",
              "      <td>12</td>\n",
              "      <td>APTO</td>\n",
              "      <td>2</td>\n",
              "      <td>DEFERIDO</td>\n",
              "      <td>COLIGAÇÃO</td>\n",
              "      <td>45</td>\n",
              "      <td>PSDB</td>\n",
              "      <td>PARTIDO DA SOCIAL DEMOCRACIA BRASILEIRA</td>\n",
              "      <td>90000001649</td>\n",
              "      <td>LEGISLAR PARA O POVO</td>\n",
              "      <td>PSDB / PV / PHS</td>\n",
              "      <td>1</td>\n",
              "      <td>BRASILEIRA NATA</td>\n",
              "      <td>GO</td>\n",
              "      <td>-3</td>\n",
              "      <td>GOIATUBA</td>\n",
              "      <td>28/01/1967</td>\n",
              "      <td>49.0</td>\n",
              "      <td>9822491066</td>\n",
              "      <td>4</td>\n",
              "      <td>FEMININO</td>\n",
              "      <td>6</td>\n",
              "      <td>ENSINO MÉDIO COMPLETO</td>\n",
              "      <td>3</td>\n",
              "      <td>CASADO(A)</td>\n",
              "      <td>3</td>\n",
              "      <td>PARDA</td>\n",
              "      <td>581</td>\n",
              "      <td>DONA DE CASA</td>\n",
              "      <td>38077.10</td>\n",
              "      <td>5</td>\n",
              "      <td>SUPLENTE</td>\n",
              "      <td>N</td>\n",
              "      <td>S</td>\n",
              "      <td>896332016</td>\n",
              "      <td>2682320166090038</td>\n",
              "      <td>2</td>\n",
              "      <td>DEFERIDO</td>\n",
              "      <td>2</td>\n",
              "      <td>DEFERIDO</td>\n",
              "      <td>SIM</td>\n",
              "      <td>NaN</td>\n",
              "      <td>NaN</td>\n",
              "      <td>NaN</td>\n",
              "      <td>NaN</td>\n",
              "      <td>NaN</td>\n",
              "      <td>NaN</td>\n",
              "      <td>NaN</td>\n",
              "      <td>NaN</td>\n",
              "    </tr>\n",
              "    <tr>\n",
              "      <th>4</th>\n",
              "      <td>18/02/2021</td>\n",
              "      <td>12:07:20</td>\n",
              "      <td>2016</td>\n",
              "      <td>2</td>\n",
              "      <td>ELEIÇÃO ORDINÁRIA</td>\n",
              "      <td>1</td>\n",
              "      <td>220</td>\n",
              "      <td>Eleições Municipais 2016</td>\n",
              "      <td>02/10/2016</td>\n",
              "      <td>MUNICIPAL</td>\n",
              "      <td>GO</td>\n",
              "      <td>94315</td>\n",
              "      <td>JARAGUÁ</td>\n",
              "      <td>13</td>\n",
              "      <td>VEREADOR</td>\n",
              "      <td>90000010097</td>\n",
              "      <td>45211</td>\n",
              "      <td>ANA MARIA MARQUES ANDRADE</td>\n",
              "      <td>TIA ANA MARIA</td>\n",
              "      <td>#NULO#</td>\n",
              "      <td>43535658187</td>\n",
              "      <td>ZILOMAR.2016.CANDEX@GMAIL.COM</td>\n",
              "      <td>12</td>\n",
              "      <td>APTO</td>\n",
              "      <td>2</td>\n",
              "      <td>DEFERIDO</td>\n",
              "      <td>COLIGAÇÃO</td>\n",
              "      <td>45</td>\n",
              "      <td>PSDB</td>\n",
              "      <td>PARTIDO DA SOCIAL DEMOCRACIA BRASILEIRA</td>\n",
              "      <td>90000000817</td>\n",
              "      <td>ALIANÇA DA VITÓRIA I</td>\n",
              "      <td>PSDB / PP / PDT</td>\n",
              "      <td>1</td>\n",
              "      <td>BRASILEIRA NATA</td>\n",
              "      <td>GO</td>\n",
              "      <td>-3</td>\n",
              "      <td>CERES</td>\n",
              "      <td>26/07/1966</td>\n",
              "      <td>50.0</td>\n",
              "      <td>5861311040</td>\n",
              "      <td>4</td>\n",
              "      <td>FEMININO</td>\n",
              "      <td>5</td>\n",
              "      <td>ENSINO MÉDIO INCOMPLETO</td>\n",
              "      <td>3</td>\n",
              "      <td>CASADO(A)</td>\n",
              "      <td>3</td>\n",
              "      <td>PARDA</td>\n",
              "      <td>601</td>\n",
              "      <td>AGRICULTOR</td>\n",
              "      <td>21634.37</td>\n",
              "      <td>5</td>\n",
              "      <td>SUPLENTE</td>\n",
              "      <td>N</td>\n",
              "      <td>N</td>\n",
              "      <td>753252016</td>\n",
              "      <td>1415120166090017</td>\n",
              "      <td>2</td>\n",
              "      <td>DEFERIDO</td>\n",
              "      <td>4</td>\n",
              "      <td>INDEFERIDO COM RECURSO</td>\n",
              "      <td>SIM</td>\n",
              "      <td>NaN</td>\n",
              "      <td>NaN</td>\n",
              "      <td>NaN</td>\n",
              "      <td>NaN</td>\n",
              "      <td>NaN</td>\n",
              "      <td>NaN</td>\n",
              "      <td>NaN</td>\n",
              "      <td>NaN</td>\n",
              "    </tr>\n",
              "    <tr>\n",
              "      <th>5</th>\n",
              "      <td>18/02/2021</td>\n",
              "      <td>12:07:20</td>\n",
              "      <td>2016</td>\n",
              "      <td>2</td>\n",
              "      <td>ELEIÇÃO ORDINÁRIA</td>\n",
              "      <td>1</td>\n",
              "      <td>220</td>\n",
              "      <td>Eleições Municipais 2016</td>\n",
              "      <td>02/10/2016</td>\n",
              "      <td>MUNICIPAL</td>\n",
              "      <td>GO</td>\n",
              "      <td>93777</td>\n",
              "      <td>GOIÁS</td>\n",
              "      <td>13</td>\n",
              "      <td>VEREADOR</td>\n",
              "      <td>90000023024</td>\n",
              "      <td>77123</td>\n",
              "      <td>ALCIMINIO SIMÕES CORREA JUNIOR</td>\n",
              "      <td>DR ALCIMINIO</td>\n",
              "      <td>#NULO#</td>\n",
              "      <td>12372676172</td>\n",
              "      <td>UNIDOSPORGOIAS@GMAIL.COM</td>\n",
              "      <td>12</td>\n",
              "      <td>APTO</td>\n",
              "      <td>2</td>\n",
              "      <td>DEFERIDO</td>\n",
              "      <td>COLIGAÇÃO</td>\n",
              "      <td>77</td>\n",
              "      <td>SD</td>\n",
              "      <td>SOLIDARIEDADE</td>\n",
              "      <td>90000001734</td>\n",
              "      <td>ÉTICA, COMPROMISSO E TRABALHO</td>\n",
              "      <td>DEM / PSDC / PRP / SD</td>\n",
              "      <td>1</td>\n",
              "      <td>BRASILEIRA NATA</td>\n",
              "      <td>MG</td>\n",
              "      <td>-3</td>\n",
              "      <td>BAMBUÍ</td>\n",
              "      <td>13/12/1956</td>\n",
              "      <td>60.0</td>\n",
              "      <td>4790621066</td>\n",
              "      <td>2</td>\n",
              "      <td>MASCULINO</td>\n",
              "      <td>8</td>\n",
              "      <td>SUPERIOR COMPLETO</td>\n",
              "      <td>3</td>\n",
              "      <td>CASADO(A)</td>\n",
              "      <td>1</td>\n",
              "      <td>BRANCA</td>\n",
              "      <td>131</td>\n",
              "      <td>ADVOGADO</td>\n",
              "      <td>22147.45</td>\n",
              "      <td>5</td>\n",
              "      <td>SUPLENTE</td>\n",
              "      <td>N</td>\n",
              "      <td>S</td>\n",
              "      <td>911462016</td>\n",
              "      <td>1425120166090012</td>\n",
              "      <td>2</td>\n",
              "      <td>DEFERIDO</td>\n",
              "      <td>2</td>\n",
              "      <td>DEFERIDO</td>\n",
              "      <td>SIM</td>\n",
              "      <td>NaN</td>\n",
              "      <td>NaN</td>\n",
              "      <td>NaN</td>\n",
              "      <td>NaN</td>\n",
              "      <td>NaN</td>\n",
              "      <td>NaN</td>\n",
              "      <td>NaN</td>\n",
              "      <td>NaN</td>\n",
              "    </tr>\n",
              "  </tbody>\n",
              "</table>\n",
              "</div>\n",
              "      <button class=\"colab-df-convert\" onclick=\"convertToInteractive('df-a717578f-8a72-4b87-86a9-2aa36e3e99d2')\"\n",
              "              title=\"Convert this dataframe to an interactive table.\"\n",
              "              style=\"display:none;\">\n",
              "        \n",
              "  <svg xmlns=\"http://www.w3.org/2000/svg\" height=\"24px\"viewBox=\"0 0 24 24\"\n",
              "       width=\"24px\">\n",
              "    <path d=\"M0 0h24v24H0V0z\" fill=\"none\"/>\n",
              "    <path d=\"M18.56 5.44l.94 2.06.94-2.06 2.06-.94-2.06-.94-.94-2.06-.94 2.06-2.06.94zm-11 1L8.5 8.5l.94-2.06 2.06-.94-2.06-.94L8.5 2.5l-.94 2.06-2.06.94zm10 10l.94 2.06.94-2.06 2.06-.94-2.06-.94-.94-2.06-.94 2.06-2.06.94z\"/><path d=\"M17.41 7.96l-1.37-1.37c-.4-.4-.92-.59-1.43-.59-.52 0-1.04.2-1.43.59L10.3 9.45l-7.72 7.72c-.78.78-.78 2.05 0 2.83L4 21.41c.39.39.9.59 1.41.59.51 0 1.02-.2 1.41-.59l7.78-7.78 2.81-2.81c.8-.78.8-2.07 0-2.86zM5.41 20L4 18.59l7.72-7.72 1.47 1.35L5.41 20z\"/>\n",
              "  </svg>\n",
              "      </button>\n",
              "      \n",
              "  <style>\n",
              "    .colab-df-container {\n",
              "      display:flex;\n",
              "      flex-wrap:wrap;\n",
              "      gap: 12px;\n",
              "    }\n",
              "\n",
              "    .colab-df-convert {\n",
              "      background-color: #E8F0FE;\n",
              "      border: none;\n",
              "      border-radius: 50%;\n",
              "      cursor: pointer;\n",
              "      display: none;\n",
              "      fill: #1967D2;\n",
              "      height: 32px;\n",
              "      padding: 0 0 0 0;\n",
              "      width: 32px;\n",
              "    }\n",
              "\n",
              "    .colab-df-convert:hover {\n",
              "      background-color: #E2EBFA;\n",
              "      box-shadow: 0px 1px 2px rgba(60, 64, 67, 0.3), 0px 1px 3px 1px rgba(60, 64, 67, 0.15);\n",
              "      fill: #174EA6;\n",
              "    }\n",
              "\n",
              "    [theme=dark] .colab-df-convert {\n",
              "      background-color: #3B4455;\n",
              "      fill: #D2E3FC;\n",
              "    }\n",
              "\n",
              "    [theme=dark] .colab-df-convert:hover {\n",
              "      background-color: #434B5C;\n",
              "      box-shadow: 0px 1px 3px 1px rgba(0, 0, 0, 0.15);\n",
              "      filter: drop-shadow(0px 1px 2px rgba(0, 0, 0, 0.3));\n",
              "      fill: #FFFFFF;\n",
              "    }\n",
              "  </style>\n",
              "\n",
              "      <script>\n",
              "        const buttonEl =\n",
              "          document.querySelector('#df-a717578f-8a72-4b87-86a9-2aa36e3e99d2 button.colab-df-convert');\n",
              "        buttonEl.style.display =\n",
              "          google.colab.kernel.accessAllowed ? 'block' : 'none';\n",
              "\n",
              "        async function convertToInteractive(key) {\n",
              "          const element = document.querySelector('#df-a717578f-8a72-4b87-86a9-2aa36e3e99d2');\n",
              "          const dataTable =\n",
              "            await google.colab.kernel.invokeFunction('convertToInteractive',\n",
              "                                                     [key], {});\n",
              "          if (!dataTable) return;\n",
              "\n",
              "          const docLinkHtml = 'Like what you see? Visit the ' +\n",
              "            '<a target=\"_blank\" href=https://colab.research.google.com/notebooks/data_table.ipynb>data table notebook</a>'\n",
              "            + ' to learn more about interactive tables.';\n",
              "          element.innerHTML = '';\n",
              "          dataTable['output_type'] = 'display_data';\n",
              "          await google.colab.output.renderOutput(dataTable, element);\n",
              "          const docLink = document.createElement('div');\n",
              "          docLink.innerHTML = docLinkHtml;\n",
              "          element.appendChild(docLink);\n",
              "        }\n",
              "      </script>\n",
              "    </div>\n",
              "  </div>\n",
              "  "
            ]
          },
          "metadata": {},
          "execution_count": 7
        }
      ]
    },
    {
      "cell_type": "markdown",
      "source": [
        "`Analisando o dicionário dos dados, foi escolhido as colunas que melhor se aplicava para fazer a analise dos dados. Está colunas foram:`\n",
        "\n",
        "\n",
        "```\n",
        "# ANO_ELEICAO\n",
        "# CD_TIPO_ELEICAO\n",
        "# NR_TURNO\n",
        "# CD_ELEICAO\n",
        "# DS_ELEICAO\n",
        "# TP_ABRANGENCIA\n",
        "# SG_UF\n",
        "# SG_UE\n",
        "# NM_UE\n",
        "# NM_CANDIDATO\n",
        "# NM_URNA_CANDIDATO \n",
        "# CD_SITUACAO_CANDIDATURA\n",
        "# DS_SITUACAO_CANDIDATURA\n",
        "# SG_PARTIDO\n",
        "# NM_PARTIDO\n",
        "# DS_NACIONALIDADE\n",
        "# DT_NASCIMENTO\n",
        "# NR_IDADE_DATA_POSSE\n",
        "# DS_GENERO\n",
        "# DS_GRAU_INSTRUCAO\n",
        "# DS_ESTADO_CIVIL\n",
        "# DS_COR_RACA\n",
        "# DS_OCUPACAO\n",
        "# VR_DESPESA_MAX_CAMPANHA\n",
        "# DS_SIT_TOT_TURNO\n",
        "# ST_REELEICAO \n",
        "# DS_SITUACAO_CANDIDATO_URNA\n",
        "# ST_CANDIDATO_INSERIDO_URNA\n",
        "```\n",
        "\n",
        "\n",
        "\n",
        "\n",
        "\n"
      ],
      "metadata": {
        "id": "hSSilMH0BwCF"
      }
    },
    {
      "cell_type": "markdown",
      "source": [
        "**Adicionando aos dados a ideologia dos partidos**"
      ],
      "metadata": {
        "id": "c-6P5vUjL8aF"
      }
    },
    {
      "cell_type": "code",
      "source": [
        "candidatos_goias['SG_PARTIDO'].value_counts()"
      ],
      "metadata": {
        "colab": {
          "base_uri": "https://localhost:8080/"
        },
        "id": "Q8CwjovDMOVG",
        "outputId": "de9bcc09-39ec-4aac-8e78-c91d71fd9663"
      },
      "execution_count": null,
      "outputs": [
        {
          "output_type": "execute_result",
          "data": {
            "text/plain": [
              "PSDB             5615\n",
              "DEM              4774\n",
              "PMDB             4589\n",
              "PP               4534\n",
              "PSD              3884\n",
              "PDT              3653\n",
              "PT               3248\n",
              "PSB              3013\n",
              "PTB              3007\n",
              "PSC              2490\n",
              "PSL              2428\n",
              "PR               2045\n",
              "MDB              1942\n",
              "PROS             1701\n",
              "PTC              1687\n",
              "PRTB             1670\n",
              "PODE             1486\n",
              "PC do B          1366\n",
              "PHS              1309\n",
              "PPS              1299\n",
              "PRB              1244\n",
              "CIDADANIA        1207\n",
              "PV               1147\n",
              "PTN              1067\n",
              "REPUBLICANOS     1061\n",
              "PL               1043\n",
              "PMN               994\n",
              "PATRIOTA          977\n",
              "SOLIDARIEDADE     954\n",
              "PSDC              945\n",
              "PRP               805\n",
              "SD                667\n",
              "PSOL              652\n",
              "PT do B           607\n",
              "AVANTE            499\n",
              "DC                437\n",
              "PPL               323\n",
              "PMB               317\n",
              "REDE              286\n",
              "PCB                71\n",
              "AGIR               63\n",
              "UNIÃO              47\n",
              "NOVO               45\n",
              "PCO                16\n",
              "PSTU               11\n",
              "UP                  9\n",
              "Name: SG_PARTIDO, dtype: int64"
            ]
          },
          "metadata": {},
          "execution_count": 117
        }
      ]
    },
    {
      "cell_type": "code",
      "source": [
        "def buscar_ideologia_partido(coluna):\n",
        "    SG_PARTIDO = {'PMDB':       'CENTRO',\n",
        "                  'PSDB':       'CENTRO',\n",
        "                  'PT':        'ESQUERDA',\n",
        "                  'PFL':        'CENTRO',\n",
        "                  'PP':         'DIREITA',\n",
        "                  'PL':         'DIREITA',\n",
        "                  'PPS':        'CENTRO',\n",
        "                  'PTB':       'DIREITA',\n",
        "                  'PDT':        'ESQUERDA',\n",
        "                  'PSB':        'ESQUERDA',\n",
        "                  'PPB':        'CENTRO',\n",
        "                  'PR':        'CENTRO',\n",
        "                  'PSC':         'DIREITA',\n",
        "                  'PSDC':        'ESQUERDA',\n",
        "                  'PSD':         'DIREITA',\n",
        "                  'DEM':         'DIREITA',\n",
        "                  'PTN':         'ESQUERDA',\n",
        "                  'PT do B':     'CENTRO',\n",
        "                  'PSL':         'DIREITA',\n",
        "                  'PHS':         'CENTRO',\n",
        "                  'PST':         'ESQUERDA',\n",
        "                  'PTC':         'DIREITA',\n",
        "                  'PMN':         'ESQUERDA',\n",
        "                  'PRP':         'ESQUERDA',\n",
        "                  'PV':          'ESQUERDA',\n",
        "                  'PRTB':        'DIREITA',\n",
        "                  'PC do B':     'ESQUERDA',\n",
        "                  'PRB':         'DIREITA',\n",
        "                  'PSOL':        'ESQUERDA',\n",
        "                  'PAN':         'DIREITA',\n",
        "                  'PGT':         'CENTRO',\n",
        "                  'PSTU':         'ESQUERDA',\n",
        "                  'PRONA':        'CENTRO',\n",
        "                  'PPR':          'DIREITA',\n",
        "                  'PCB':         'ESQUERDA',\n",
        "                  'PT DO B':      'CENTRO',\n",
        "                  'PCO':         'ESQUERDA',\n",
        "                  'PRN':         'DIREITA',\n",
        "                  'PC do B':      'ESQUERDA',\n",
        "                   'SD':          'ESQUERDA',\n",
        "                   'PROS':         'ESQUERDA',\n",
        "                   'PMB':         'ESQUERDA'}            \n",
        "               \n",
        "    return SG_PARTIDO[coluna]"
      ],
      "metadata": {
        "id": "-46MZ0XjMAdi"
      },
      "execution_count": null,
      "outputs": []
    },
    {
      "cell_type": "code",
      "source": [
        "#Codigo para adicionar o espectro dos partidos ao dataframe\n",
        "lista = []\n",
        "for index, linha in candidatos_goias.iterrows():\n",
        "      valor = linha.SG_PARTIDO\n",
        "      espectro = buscar_ideologia_partido(f'{valor}')\n",
        "      lista.append(espectro)\n",
        "candidatos_goias['ESPECTRO_PARTIDOS']= lista"
      ],
      "metadata": {
        "id": "YFDmypx_L73I",
        "colab": {
          "base_uri": "https://localhost:8080/",
          "height": 321
        },
        "outputId": "ae38e880-2070-434a-8084-0cad833f5581"
      },
      "execution_count": null,
      "outputs": [
        {
          "output_type": "error",
          "ename": "KeyError",
          "evalue": "ignored",
          "traceback": [
            "\u001b[0;31m---------------------------------------------------------------------------\u001b[0m",
            "\u001b[0;31mKeyError\u001b[0m                                  Traceback (most recent call last)",
            "\u001b[0;32m<ipython-input-119-4d83637b2fe2>\u001b[0m in \u001b[0;36m<module>\u001b[0;34m\u001b[0m\n\u001b[1;32m      3\u001b[0m \u001b[0;32mfor\u001b[0m \u001b[0mindex\u001b[0m\u001b[0;34m,\u001b[0m \u001b[0mlinha\u001b[0m \u001b[0;32min\u001b[0m \u001b[0mcandidatos_goias\u001b[0m\u001b[0;34m.\u001b[0m\u001b[0miterrows\u001b[0m\u001b[0;34m(\u001b[0m\u001b[0;34m)\u001b[0m\u001b[0;34m:\u001b[0m\u001b[0;34m\u001b[0m\u001b[0;34m\u001b[0m\u001b[0m\n\u001b[1;32m      4\u001b[0m       \u001b[0mvalor\u001b[0m \u001b[0;34m=\u001b[0m \u001b[0mlinha\u001b[0m\u001b[0;34m.\u001b[0m\u001b[0mSG_PARTIDO\u001b[0m\u001b[0;34m\u001b[0m\u001b[0;34m\u001b[0m\u001b[0m\n\u001b[0;32m----> 5\u001b[0;31m       \u001b[0mespectro\u001b[0m \u001b[0;34m=\u001b[0m \u001b[0mbuscar_ideologia_partido\u001b[0m\u001b[0;34m(\u001b[0m\u001b[0;34mf'{valor}'\u001b[0m\u001b[0;34m)\u001b[0m\u001b[0;34m\u001b[0m\u001b[0;34m\u001b[0m\u001b[0m\n\u001b[0m\u001b[1;32m      6\u001b[0m       \u001b[0mlista\u001b[0m\u001b[0;34m.\u001b[0m\u001b[0mappend\u001b[0m\u001b[0;34m(\u001b[0m\u001b[0mespectro\u001b[0m\u001b[0;34m)\u001b[0m\u001b[0;34m\u001b[0m\u001b[0;34m\u001b[0m\u001b[0m\n\u001b[1;32m      7\u001b[0m \u001b[0mcandidatos_goias\u001b[0m\u001b[0;34m[\u001b[0m\u001b[0;34m'ESPECTRO_PARTIDOS'\u001b[0m\u001b[0;34m]\u001b[0m\u001b[0;34m=\u001b[0m \u001b[0mlista\u001b[0m\u001b[0;34m\u001b[0m\u001b[0;34m\u001b[0m\u001b[0m\n",
            "\u001b[0;32m<ipython-input-118-a85de6fdf2d0>\u001b[0m in \u001b[0;36mbuscar_ideologia_partido\u001b[0;34m(coluna)\u001b[0m\n\u001b[1;32m     42\u001b[0m                    'PROS':         'ESQUERDA'}\n\u001b[1;32m     43\u001b[0m \u001b[0;34m\u001b[0m\u001b[0m\n\u001b[0;32m---> 44\u001b[0;31m     \u001b[0;32mreturn\u001b[0m \u001b[0mSG_PARTIDO\u001b[0m\u001b[0;34m[\u001b[0m\u001b[0mcoluna\u001b[0m\u001b[0;34m]\u001b[0m\u001b[0;34m\u001b[0m\u001b[0;34m\u001b[0m\u001b[0m\n\u001b[0m",
            "\u001b[0;31mKeyError\u001b[0m: 'PMB'"
          ]
        }
      ]
    },
    {
      "cell_type": "code",
      "source": [
        "#filtrando as colunas necessárias \n",
        "candidatos_goias = candidatos_goias[['ANO_ELEICAO','CD_TIPO_ELEICAO','NR_TURNO','CD_ELEICAO','DS_ELEICAO','TP_ABRANGENCIA','SG_UF', 'SG_UE','NM_UE','NM_CANDIDATO','NM_URNA_CANDIDATO','CD_SITUACAO_CANDIDATURA','DS_SITUACAO_CANDIDATURA','SG_PARTIDO','NM_PARTIDO','DS_NACIONALIDADE','DT_NASCIMENTO','NR_IDADE_DATA_POSSE','DS_GENERO','DS_GRAU_INSTRUCAO','DS_ESTADO_CIVIL','DS_COR_RACA','VR_DESPESA_MAX_CAMPANHA','DS_SIT_TOT_TURNO','ST_REELEICAO','DS_SITUACAO_CANDIDATO_URNA','ST_CANDIDATO_INSERIDO_URNA']]"
      ],
      "metadata": {
        "id": "rGHQNoxGDG1H"
      },
      "execution_count": 8,
      "outputs": []
    },
    {
      "cell_type": "code",
      "source": [
        "candidatos_goias.head(4)"
      ],
      "metadata": {
        "id": "etDR7gcMEMny",
        "colab": {
          "base_uri": "https://localhost:8080/",
          "height": 412
        },
        "outputId": "73a4a523-9f57-4079-8d27-1e220b329d5b"
      },
      "execution_count": 9,
      "outputs": [
        {
          "output_type": "execute_result",
          "data": {
            "text/plain": [
              "   ANO_ELEICAO  CD_TIPO_ELEICAO  NR_TURNO  CD_ELEICAO  \\\n",
              "0         2016                2         1         220   \n",
              "1         2016                2         1         220   \n",
              "2         2016                2         1         220   \n",
              "3         2016                2         1         220   \n",
              "\n",
              "                 DS_ELEICAO TP_ABRANGENCIA SG_UF  SG_UE        NM_UE  \\\n",
              "0  Eleições Municipais 2016      MUNICIPAL    GO  93394  DAVINÓPOLIS   \n",
              "1  Eleições Municipais 2016      MUNICIPAL    GO  94293      JANDAIA   \n",
              "2  Eleições Municipais 2016      MUNICIPAL    GO  93734      GOIÂNIA   \n",
              "3  Eleições Municipais 2016      MUNICIPAL    GO  93793     GOIATUBA   \n",
              "\n",
              "                    NM_CANDIDATO NM_URNA_CANDIDATO  CD_SITUACAO_CANDIDATURA  \\\n",
              "0           PAULO CESAR CARNEIRO       PAULO CESAR                       12   \n",
              "1             FABIO ALVES BORGES    FABIO CAPACETE                       12   \n",
              "2       ROBSON PAIXAO DE AZEVEDO        DR. ROBSON                       12   \n",
              "3  WILZELENA MARIA LOPES MARTINS       VILZA LOPES                       12   \n",
              "\n",
              "  DS_SITUACAO_CANDIDATURA SG_PARTIDO  \\\n",
              "0                    APTO         PR   \n",
              "1                    APTO         PR   \n",
              "2                    APTO       PMDB   \n",
              "3                    APTO       PSDB   \n",
              "\n",
              "                                    NM_PARTIDO DS_NACIONALIDADE DT_NASCIMENTO  \\\n",
              "0                         PARTIDO DA REPÚBLICA  BRASILEIRA NATA    11/01/1963   \n",
              "1                         PARTIDO DA REPÚBLICA  BRASILEIRA NATA    01/06/1985   \n",
              "2  PARTIDO DO MOVIMENTO DEMOCRÁTICO BRASILEIRO  BRASILEIRA NATA    15/04/1960   \n",
              "3      PARTIDO DA SOCIAL DEMOCRACIA BRASILEIRA  BRASILEIRA NATA    28/01/1967   \n",
              "\n",
              "   NR_IDADE_DATA_POSSE  DS_GENERO      DS_GRAU_INSTRUCAO DS_ESTADO_CIVIL  \\\n",
              "0                 53.0  MASCULINO    SUPERIOR INCOMPLETO   DIVORCIADO(A)   \n",
              "1                 31.0  MASCULINO  ENSINO MÉDIO COMPLETO       CASADO(A)   \n",
              "2                 56.0  MASCULINO      SUPERIOR COMPLETO       CASADO(A)   \n",
              "3                 49.0   FEMININO  ENSINO MÉDIO COMPLETO       CASADO(A)   \n",
              "\n",
              "  DS_COR_RACA  VR_DESPESA_MAX_CAMPANHA  DS_SIT_TOT_TURNO ST_REELEICAO  \\\n",
              "0      BRANCA                 10803.91  ELEITO POR MÉDIA            N   \n",
              "1      BRANCA                 10803.91          SUPLENTE            N   \n",
              "2      BRANCA                519651.25          SUPLENTE            N   \n",
              "3       PARDA                 38077.10          SUPLENTE            N   \n",
              "\n",
              "  DS_SITUACAO_CANDIDATO_URNA ST_CANDIDATO_INSERIDO_URNA  \n",
              "0                   DEFERIDO                        SIM  \n",
              "1                   DEFERIDO                        SIM  \n",
              "2                   DEFERIDO                        SIM  \n",
              "3                   DEFERIDO                        SIM  "
            ],
            "text/html": [
              "\n",
              "  <div id=\"df-24e4c7f1-adf8-4200-a775-d8614c3c13a3\">\n",
              "    <div class=\"colab-df-container\">\n",
              "      <div>\n",
              "<style scoped>\n",
              "    .dataframe tbody tr th:only-of-type {\n",
              "        vertical-align: middle;\n",
              "    }\n",
              "\n",
              "    .dataframe tbody tr th {\n",
              "        vertical-align: top;\n",
              "    }\n",
              "\n",
              "    .dataframe thead th {\n",
              "        text-align: right;\n",
              "    }\n",
              "</style>\n",
              "<table border=\"1\" class=\"dataframe\">\n",
              "  <thead>\n",
              "    <tr style=\"text-align: right;\">\n",
              "      <th></th>\n",
              "      <th>ANO_ELEICAO</th>\n",
              "      <th>CD_TIPO_ELEICAO</th>\n",
              "      <th>NR_TURNO</th>\n",
              "      <th>CD_ELEICAO</th>\n",
              "      <th>DS_ELEICAO</th>\n",
              "      <th>TP_ABRANGENCIA</th>\n",
              "      <th>SG_UF</th>\n",
              "      <th>SG_UE</th>\n",
              "      <th>NM_UE</th>\n",
              "      <th>NM_CANDIDATO</th>\n",
              "      <th>NM_URNA_CANDIDATO</th>\n",
              "      <th>CD_SITUACAO_CANDIDATURA</th>\n",
              "      <th>DS_SITUACAO_CANDIDATURA</th>\n",
              "      <th>SG_PARTIDO</th>\n",
              "      <th>NM_PARTIDO</th>\n",
              "      <th>DS_NACIONALIDADE</th>\n",
              "      <th>DT_NASCIMENTO</th>\n",
              "      <th>NR_IDADE_DATA_POSSE</th>\n",
              "      <th>DS_GENERO</th>\n",
              "      <th>DS_GRAU_INSTRUCAO</th>\n",
              "      <th>DS_ESTADO_CIVIL</th>\n",
              "      <th>DS_COR_RACA</th>\n",
              "      <th>VR_DESPESA_MAX_CAMPANHA</th>\n",
              "      <th>DS_SIT_TOT_TURNO</th>\n",
              "      <th>ST_REELEICAO</th>\n",
              "      <th>DS_SITUACAO_CANDIDATO_URNA</th>\n",
              "      <th>ST_CANDIDATO_INSERIDO_URNA</th>\n",
              "    </tr>\n",
              "  </thead>\n",
              "  <tbody>\n",
              "    <tr>\n",
              "      <th>0</th>\n",
              "      <td>2016</td>\n",
              "      <td>2</td>\n",
              "      <td>1</td>\n",
              "      <td>220</td>\n",
              "      <td>Eleições Municipais 2016</td>\n",
              "      <td>MUNICIPAL</td>\n",
              "      <td>GO</td>\n",
              "      <td>93394</td>\n",
              "      <td>DAVINÓPOLIS</td>\n",
              "      <td>PAULO CESAR CARNEIRO</td>\n",
              "      <td>PAULO CESAR</td>\n",
              "      <td>12</td>\n",
              "      <td>APTO</td>\n",
              "      <td>PR</td>\n",
              "      <td>PARTIDO DA REPÚBLICA</td>\n",
              "      <td>BRASILEIRA NATA</td>\n",
              "      <td>11/01/1963</td>\n",
              "      <td>53.0</td>\n",
              "      <td>MASCULINO</td>\n",
              "      <td>SUPERIOR INCOMPLETO</td>\n",
              "      <td>DIVORCIADO(A)</td>\n",
              "      <td>BRANCA</td>\n",
              "      <td>10803.91</td>\n",
              "      <td>ELEITO POR MÉDIA</td>\n",
              "      <td>N</td>\n",
              "      <td>DEFERIDO</td>\n",
              "      <td>SIM</td>\n",
              "    </tr>\n",
              "    <tr>\n",
              "      <th>1</th>\n",
              "      <td>2016</td>\n",
              "      <td>2</td>\n",
              "      <td>1</td>\n",
              "      <td>220</td>\n",
              "      <td>Eleições Municipais 2016</td>\n",
              "      <td>MUNICIPAL</td>\n",
              "      <td>GO</td>\n",
              "      <td>94293</td>\n",
              "      <td>JANDAIA</td>\n",
              "      <td>FABIO ALVES BORGES</td>\n",
              "      <td>FABIO CAPACETE</td>\n",
              "      <td>12</td>\n",
              "      <td>APTO</td>\n",
              "      <td>PR</td>\n",
              "      <td>PARTIDO DA REPÚBLICA</td>\n",
              "      <td>BRASILEIRA NATA</td>\n",
              "      <td>01/06/1985</td>\n",
              "      <td>31.0</td>\n",
              "      <td>MASCULINO</td>\n",
              "      <td>ENSINO MÉDIO COMPLETO</td>\n",
              "      <td>CASADO(A)</td>\n",
              "      <td>BRANCA</td>\n",
              "      <td>10803.91</td>\n",
              "      <td>SUPLENTE</td>\n",
              "      <td>N</td>\n",
              "      <td>DEFERIDO</td>\n",
              "      <td>SIM</td>\n",
              "    </tr>\n",
              "    <tr>\n",
              "      <th>2</th>\n",
              "      <td>2016</td>\n",
              "      <td>2</td>\n",
              "      <td>1</td>\n",
              "      <td>220</td>\n",
              "      <td>Eleições Municipais 2016</td>\n",
              "      <td>MUNICIPAL</td>\n",
              "      <td>GO</td>\n",
              "      <td>93734</td>\n",
              "      <td>GOIÂNIA</td>\n",
              "      <td>ROBSON PAIXAO DE AZEVEDO</td>\n",
              "      <td>DR. ROBSON</td>\n",
              "      <td>12</td>\n",
              "      <td>APTO</td>\n",
              "      <td>PMDB</td>\n",
              "      <td>PARTIDO DO MOVIMENTO DEMOCRÁTICO BRASILEIRO</td>\n",
              "      <td>BRASILEIRA NATA</td>\n",
              "      <td>15/04/1960</td>\n",
              "      <td>56.0</td>\n",
              "      <td>MASCULINO</td>\n",
              "      <td>SUPERIOR COMPLETO</td>\n",
              "      <td>CASADO(A)</td>\n",
              "      <td>BRANCA</td>\n",
              "      <td>519651.25</td>\n",
              "      <td>SUPLENTE</td>\n",
              "      <td>N</td>\n",
              "      <td>DEFERIDO</td>\n",
              "      <td>SIM</td>\n",
              "    </tr>\n",
              "    <tr>\n",
              "      <th>3</th>\n",
              "      <td>2016</td>\n",
              "      <td>2</td>\n",
              "      <td>1</td>\n",
              "      <td>220</td>\n",
              "      <td>Eleições Municipais 2016</td>\n",
              "      <td>MUNICIPAL</td>\n",
              "      <td>GO</td>\n",
              "      <td>93793</td>\n",
              "      <td>GOIATUBA</td>\n",
              "      <td>WILZELENA MARIA LOPES MARTINS</td>\n",
              "      <td>VILZA LOPES</td>\n",
              "      <td>12</td>\n",
              "      <td>APTO</td>\n",
              "      <td>PSDB</td>\n",
              "      <td>PARTIDO DA SOCIAL DEMOCRACIA BRASILEIRA</td>\n",
              "      <td>BRASILEIRA NATA</td>\n",
              "      <td>28/01/1967</td>\n",
              "      <td>49.0</td>\n",
              "      <td>FEMININO</td>\n",
              "      <td>ENSINO MÉDIO COMPLETO</td>\n",
              "      <td>CASADO(A)</td>\n",
              "      <td>PARDA</td>\n",
              "      <td>38077.10</td>\n",
              "      <td>SUPLENTE</td>\n",
              "      <td>N</td>\n",
              "      <td>DEFERIDO</td>\n",
              "      <td>SIM</td>\n",
              "    </tr>\n",
              "  </tbody>\n",
              "</table>\n",
              "</div>\n",
              "      <button class=\"colab-df-convert\" onclick=\"convertToInteractive('df-24e4c7f1-adf8-4200-a775-d8614c3c13a3')\"\n",
              "              title=\"Convert this dataframe to an interactive table.\"\n",
              "              style=\"display:none;\">\n",
              "        \n",
              "  <svg xmlns=\"http://www.w3.org/2000/svg\" height=\"24px\"viewBox=\"0 0 24 24\"\n",
              "       width=\"24px\">\n",
              "    <path d=\"M0 0h24v24H0V0z\" fill=\"none\"/>\n",
              "    <path d=\"M18.56 5.44l.94 2.06.94-2.06 2.06-.94-2.06-.94-.94-2.06-.94 2.06-2.06.94zm-11 1L8.5 8.5l.94-2.06 2.06-.94-2.06-.94L8.5 2.5l-.94 2.06-2.06.94zm10 10l.94 2.06.94-2.06 2.06-.94-2.06-.94-.94-2.06-.94 2.06-2.06.94z\"/><path d=\"M17.41 7.96l-1.37-1.37c-.4-.4-.92-.59-1.43-.59-.52 0-1.04.2-1.43.59L10.3 9.45l-7.72 7.72c-.78.78-.78 2.05 0 2.83L4 21.41c.39.39.9.59 1.41.59.51 0 1.02-.2 1.41-.59l7.78-7.78 2.81-2.81c.8-.78.8-2.07 0-2.86zM5.41 20L4 18.59l7.72-7.72 1.47 1.35L5.41 20z\"/>\n",
              "  </svg>\n",
              "      </button>\n",
              "      \n",
              "  <style>\n",
              "    .colab-df-container {\n",
              "      display:flex;\n",
              "      flex-wrap:wrap;\n",
              "      gap: 12px;\n",
              "    }\n",
              "\n",
              "    .colab-df-convert {\n",
              "      background-color: #E8F0FE;\n",
              "      border: none;\n",
              "      border-radius: 50%;\n",
              "      cursor: pointer;\n",
              "      display: none;\n",
              "      fill: #1967D2;\n",
              "      height: 32px;\n",
              "      padding: 0 0 0 0;\n",
              "      width: 32px;\n",
              "    }\n",
              "\n",
              "    .colab-df-convert:hover {\n",
              "      background-color: #E2EBFA;\n",
              "      box-shadow: 0px 1px 2px rgba(60, 64, 67, 0.3), 0px 1px 3px 1px rgba(60, 64, 67, 0.15);\n",
              "      fill: #174EA6;\n",
              "    }\n",
              "\n",
              "    [theme=dark] .colab-df-convert {\n",
              "      background-color: #3B4455;\n",
              "      fill: #D2E3FC;\n",
              "    }\n",
              "\n",
              "    [theme=dark] .colab-df-convert:hover {\n",
              "      background-color: #434B5C;\n",
              "      box-shadow: 0px 1px 3px 1px rgba(0, 0, 0, 0.15);\n",
              "      filter: drop-shadow(0px 1px 2px rgba(0, 0, 0, 0.3));\n",
              "      fill: #FFFFFF;\n",
              "    }\n",
              "  </style>\n",
              "\n",
              "      <script>\n",
              "        const buttonEl =\n",
              "          document.querySelector('#df-24e4c7f1-adf8-4200-a775-d8614c3c13a3 button.colab-df-convert');\n",
              "        buttonEl.style.display =\n",
              "          google.colab.kernel.accessAllowed ? 'block' : 'none';\n",
              "\n",
              "        async function convertToInteractive(key) {\n",
              "          const element = document.querySelector('#df-24e4c7f1-adf8-4200-a775-d8614c3c13a3');\n",
              "          const dataTable =\n",
              "            await google.colab.kernel.invokeFunction('convertToInteractive',\n",
              "                                                     [key], {});\n",
              "          if (!dataTable) return;\n",
              "\n",
              "          const docLinkHtml = 'Like what you see? Visit the ' +\n",
              "            '<a target=\"_blank\" href=https://colab.research.google.com/notebooks/data_table.ipynb>data table notebook</a>'\n",
              "            + ' to learn more about interactive tables.';\n",
              "          element.innerHTML = '';\n",
              "          dataTable['output_type'] = 'display_data';\n",
              "          await google.colab.output.renderOutput(dataTable, element);\n",
              "          const docLink = document.createElement('div');\n",
              "          docLink.innerHTML = docLinkHtml;\n",
              "          element.appendChild(docLink);\n",
              "        }\n",
              "      </script>\n",
              "    </div>\n",
              "  </div>\n",
              "  "
            ]
          },
          "metadata": {},
          "execution_count": 9
        }
      ]
    },
    {
      "cell_type": "code",
      "source": [
        "candidatos_goias['ANO_ELEICAO'].unique()"
      ],
      "metadata": {
        "id": "T8JNjmiJgoVC",
        "colab": {
          "base_uri": "https://localhost:8080/"
        },
        "outputId": "4e331b05-e9ce-46f9-a250-1ad2c9ff3334"
      },
      "execution_count": 11,
      "outputs": [
        {
          "output_type": "execute_result",
          "data": {
            "text/plain": [
              "array([2016, 2018, 2020, 2010, 2012, 2014, 2022])"
            ]
          },
          "metadata": {},
          "execution_count": 11
        }
      ]
    },
    {
      "cell_type": "markdown",
      "source": [
        "`Fazendo a descrição dos dados`"
      ],
      "metadata": {
        "id": "0ahL33ZsxqsW"
      }
    },
    {
      "cell_type": "code",
      "source": [
        "candidatos_goias.describe()"
      ],
      "metadata": {
        "colab": {
          "base_uri": "https://localhost:8080/",
          "height": 364
        },
        "id": "TmRX7nqBxn9O",
        "outputId": "9bbe96a7-6095-4d30-f31a-7d619f5d5b34"
      },
      "execution_count": 12,
      "outputs": [
        {
          "output_type": "execute_result",
          "data": {
            "text/plain": [
              "        ANO_ELEICAO  CD_TIPO_ELEICAO      NR_TURNO    CD_ELEICAO  \\\n",
              "count  71234.000000     71234.000000  71234.000000  71234.000000   \n",
              "mean    2016.279501         1.998610      1.000337    245.839922   \n",
              "std        3.367460         0.037254      0.018352    159.052521   \n",
              "min     2010.000000         1.000000      1.000000     37.000000   \n",
              "25%     2012.000000         2.000000      1.000000     47.000000   \n",
              "50%     2016.000000         2.000000      1.000000    220.000000   \n",
              "75%     2020.000000         2.000000      1.000000    426.000000   \n",
              "max     2022.000000         2.000000      2.000000    546.000000   \n",
              "\n",
              "       CD_SITUACAO_CANDIDATURA  NR_IDADE_DATA_POSSE  VR_DESPESA_MAX_CAMPANHA  \n",
              "count             71234.000000         71145.000000             7.123400e+04  \n",
              "mean                 11.317713            44.481144             2.466352e+05  \n",
              "std                   2.386401            17.818667             9.241506e+05  \n",
              "min                   1.000000          -940.000000            -4.000000e+00  \n",
              "25%                  12.000000            36.000000             1.230775e+04  \n",
              "50%                  12.000000            44.000000             3.563052e+04  \n",
              "75%                  12.000000            52.000000             1.205451e+05  \n",
              "max                  12.000000           999.000000             5.000000e+07  "
            ],
            "text/html": [
              "\n",
              "  <div id=\"df-a0948513-f710-43de-a59e-2da2eab3f94d\">\n",
              "    <div class=\"colab-df-container\">\n",
              "      <div>\n",
              "<style scoped>\n",
              "    .dataframe tbody tr th:only-of-type {\n",
              "        vertical-align: middle;\n",
              "    }\n",
              "\n",
              "    .dataframe tbody tr th {\n",
              "        vertical-align: top;\n",
              "    }\n",
              "\n",
              "    .dataframe thead th {\n",
              "        text-align: right;\n",
              "    }\n",
              "</style>\n",
              "<table border=\"1\" class=\"dataframe\">\n",
              "  <thead>\n",
              "    <tr style=\"text-align: right;\">\n",
              "      <th></th>\n",
              "      <th>ANO_ELEICAO</th>\n",
              "      <th>CD_TIPO_ELEICAO</th>\n",
              "      <th>NR_TURNO</th>\n",
              "      <th>CD_ELEICAO</th>\n",
              "      <th>CD_SITUACAO_CANDIDATURA</th>\n",
              "      <th>NR_IDADE_DATA_POSSE</th>\n",
              "      <th>VR_DESPESA_MAX_CAMPANHA</th>\n",
              "    </tr>\n",
              "  </thead>\n",
              "  <tbody>\n",
              "    <tr>\n",
              "      <th>count</th>\n",
              "      <td>71234.000000</td>\n",
              "      <td>71234.000000</td>\n",
              "      <td>71234.000000</td>\n",
              "      <td>71234.000000</td>\n",
              "      <td>71234.000000</td>\n",
              "      <td>71145.000000</td>\n",
              "      <td>7.123400e+04</td>\n",
              "    </tr>\n",
              "    <tr>\n",
              "      <th>mean</th>\n",
              "      <td>2016.279501</td>\n",
              "      <td>1.998610</td>\n",
              "      <td>1.000337</td>\n",
              "      <td>245.839922</td>\n",
              "      <td>11.317713</td>\n",
              "      <td>44.481144</td>\n",
              "      <td>2.466352e+05</td>\n",
              "    </tr>\n",
              "    <tr>\n",
              "      <th>std</th>\n",
              "      <td>3.367460</td>\n",
              "      <td>0.037254</td>\n",
              "      <td>0.018352</td>\n",
              "      <td>159.052521</td>\n",
              "      <td>2.386401</td>\n",
              "      <td>17.818667</td>\n",
              "      <td>9.241506e+05</td>\n",
              "    </tr>\n",
              "    <tr>\n",
              "      <th>min</th>\n",
              "      <td>2010.000000</td>\n",
              "      <td>1.000000</td>\n",
              "      <td>1.000000</td>\n",
              "      <td>37.000000</td>\n",
              "      <td>1.000000</td>\n",
              "      <td>-940.000000</td>\n",
              "      <td>-4.000000e+00</td>\n",
              "    </tr>\n",
              "    <tr>\n",
              "      <th>25%</th>\n",
              "      <td>2012.000000</td>\n",
              "      <td>2.000000</td>\n",
              "      <td>1.000000</td>\n",
              "      <td>47.000000</td>\n",
              "      <td>12.000000</td>\n",
              "      <td>36.000000</td>\n",
              "      <td>1.230775e+04</td>\n",
              "    </tr>\n",
              "    <tr>\n",
              "      <th>50%</th>\n",
              "      <td>2016.000000</td>\n",
              "      <td>2.000000</td>\n",
              "      <td>1.000000</td>\n",
              "      <td>220.000000</td>\n",
              "      <td>12.000000</td>\n",
              "      <td>44.000000</td>\n",
              "      <td>3.563052e+04</td>\n",
              "    </tr>\n",
              "    <tr>\n",
              "      <th>75%</th>\n",
              "      <td>2020.000000</td>\n",
              "      <td>2.000000</td>\n",
              "      <td>1.000000</td>\n",
              "      <td>426.000000</td>\n",
              "      <td>12.000000</td>\n",
              "      <td>52.000000</td>\n",
              "      <td>1.205451e+05</td>\n",
              "    </tr>\n",
              "    <tr>\n",
              "      <th>max</th>\n",
              "      <td>2022.000000</td>\n",
              "      <td>2.000000</td>\n",
              "      <td>2.000000</td>\n",
              "      <td>546.000000</td>\n",
              "      <td>12.000000</td>\n",
              "      <td>999.000000</td>\n",
              "      <td>5.000000e+07</td>\n",
              "    </tr>\n",
              "  </tbody>\n",
              "</table>\n",
              "</div>\n",
              "      <button class=\"colab-df-convert\" onclick=\"convertToInteractive('df-a0948513-f710-43de-a59e-2da2eab3f94d')\"\n",
              "              title=\"Convert this dataframe to an interactive table.\"\n",
              "              style=\"display:none;\">\n",
              "        \n",
              "  <svg xmlns=\"http://www.w3.org/2000/svg\" height=\"24px\"viewBox=\"0 0 24 24\"\n",
              "       width=\"24px\">\n",
              "    <path d=\"M0 0h24v24H0V0z\" fill=\"none\"/>\n",
              "    <path d=\"M18.56 5.44l.94 2.06.94-2.06 2.06-.94-2.06-.94-.94-2.06-.94 2.06-2.06.94zm-11 1L8.5 8.5l.94-2.06 2.06-.94-2.06-.94L8.5 2.5l-.94 2.06-2.06.94zm10 10l.94 2.06.94-2.06 2.06-.94-2.06-.94-.94-2.06-.94 2.06-2.06.94z\"/><path d=\"M17.41 7.96l-1.37-1.37c-.4-.4-.92-.59-1.43-.59-.52 0-1.04.2-1.43.59L10.3 9.45l-7.72 7.72c-.78.78-.78 2.05 0 2.83L4 21.41c.39.39.9.59 1.41.59.51 0 1.02-.2 1.41-.59l7.78-7.78 2.81-2.81c.8-.78.8-2.07 0-2.86zM5.41 20L4 18.59l7.72-7.72 1.47 1.35L5.41 20z\"/>\n",
              "  </svg>\n",
              "      </button>\n",
              "      \n",
              "  <style>\n",
              "    .colab-df-container {\n",
              "      display:flex;\n",
              "      flex-wrap:wrap;\n",
              "      gap: 12px;\n",
              "    }\n",
              "\n",
              "    .colab-df-convert {\n",
              "      background-color: #E8F0FE;\n",
              "      border: none;\n",
              "      border-radius: 50%;\n",
              "      cursor: pointer;\n",
              "      display: none;\n",
              "      fill: #1967D2;\n",
              "      height: 32px;\n",
              "      padding: 0 0 0 0;\n",
              "      width: 32px;\n",
              "    }\n",
              "\n",
              "    .colab-df-convert:hover {\n",
              "      background-color: #E2EBFA;\n",
              "      box-shadow: 0px 1px 2px rgba(60, 64, 67, 0.3), 0px 1px 3px 1px rgba(60, 64, 67, 0.15);\n",
              "      fill: #174EA6;\n",
              "    }\n",
              "\n",
              "    [theme=dark] .colab-df-convert {\n",
              "      background-color: #3B4455;\n",
              "      fill: #D2E3FC;\n",
              "    }\n",
              "\n",
              "    [theme=dark] .colab-df-convert:hover {\n",
              "      background-color: #434B5C;\n",
              "      box-shadow: 0px 1px 3px 1px rgba(0, 0, 0, 0.15);\n",
              "      filter: drop-shadow(0px 1px 2px rgba(0, 0, 0, 0.3));\n",
              "      fill: #FFFFFF;\n",
              "    }\n",
              "  </style>\n",
              "\n",
              "      <script>\n",
              "        const buttonEl =\n",
              "          document.querySelector('#df-a0948513-f710-43de-a59e-2da2eab3f94d button.colab-df-convert');\n",
              "        buttonEl.style.display =\n",
              "          google.colab.kernel.accessAllowed ? 'block' : 'none';\n",
              "\n",
              "        async function convertToInteractive(key) {\n",
              "          const element = document.querySelector('#df-a0948513-f710-43de-a59e-2da2eab3f94d');\n",
              "          const dataTable =\n",
              "            await google.colab.kernel.invokeFunction('convertToInteractive',\n",
              "                                                     [key], {});\n",
              "          if (!dataTable) return;\n",
              "\n",
              "          const docLinkHtml = 'Like what you see? Visit the ' +\n",
              "            '<a target=\"_blank\" href=https://colab.research.google.com/notebooks/data_table.ipynb>data table notebook</a>'\n",
              "            + ' to learn more about interactive tables.';\n",
              "          element.innerHTML = '';\n",
              "          dataTable['output_type'] = 'display_data';\n",
              "          await google.colab.output.renderOutput(dataTable, element);\n",
              "          const docLink = document.createElement('div');\n",
              "          docLink.innerHTML = docLinkHtml;\n",
              "          element.appendChild(docLink);\n",
              "        }\n",
              "      </script>\n",
              "    </div>\n",
              "  </div>\n",
              "  "
            ]
          },
          "metadata": {},
          "execution_count": 12
        }
      ]
    },
    {
      "cell_type": "markdown",
      "source": [
        "Como foi visto, os dados de gastos possuí valores negativos: 2 alternativas para tratar o dado, remover as linhas com valores negativos, porem perderia informações relevantes, ou preencher com a media, mas é preciso do valor exato pra fazer alguns calculos.  Se o valor foi registrado errado, talvez multiplicando por - 1 resolva, mas não se sabe se é valor negativado, ou houve um erro ao cadastrar, seria necessário uma investigação maior. Para essa análise irei multiplicar os valores negativos por -1  ultilizando o python"
      ],
      "metadata": {
        "id": "7TvdcQJixvJe"
      }
    },
    {
      "cell_type": "markdown",
      "source": [
        "**Removendo valores negativos de gastos de campanhas**"
      ],
      "metadata": {
        "id": "Dk2Lil48yV64"
      }
    },
    {
      "cell_type": "markdown",
      "source": [
        "**Como eu nao tenho memoria para remover os dados usando o labda, irei deixa-los**"
      ],
      "metadata": {
        "id": "on0_a47gFkwJ"
      }
    },
    {
      "cell_type": "code",
      "source": [
        "import numpy as np"
      ],
      "metadata": {
        "id": "KxOC84QYAQnk"
      },
      "execution_count": 13,
      "outputs": []
    },
    {
      "cell_type": "code",
      "source": [
        "#candidatos_goias['VR_DESPESA_MAX_CAMPANHA'].apply(lambda x: abs(candidatos_goias['VR_DESPESA_MAX_CAMPANHA']))"
      ],
      "metadata": {
        "id": "kAAwZ5Vr1q89"
      },
      "execution_count": 14,
      "outputs": []
    },
    {
      "cell_type": "code",
      "source": [
        "candidatos_goias.describe()"
      ],
      "metadata": {
        "colab": {
          "base_uri": "https://localhost:8080/",
          "height": 364
        },
        "id": "6K8jNZVuz9I-",
        "outputId": "4928d369-7873-4b4f-ef1c-b344d0abd0eb"
      },
      "execution_count": 15,
      "outputs": [
        {
          "output_type": "execute_result",
          "data": {
            "text/plain": [
              "        ANO_ELEICAO  CD_TIPO_ELEICAO      NR_TURNO    CD_ELEICAO  \\\n",
              "count  71234.000000     71234.000000  71234.000000  71234.000000   \n",
              "mean    2016.279501         1.998610      1.000337    245.839922   \n",
              "std        3.367460         0.037254      0.018352    159.052521   \n",
              "min     2010.000000         1.000000      1.000000     37.000000   \n",
              "25%     2012.000000         2.000000      1.000000     47.000000   \n",
              "50%     2016.000000         2.000000      1.000000    220.000000   \n",
              "75%     2020.000000         2.000000      1.000000    426.000000   \n",
              "max     2022.000000         2.000000      2.000000    546.000000   \n",
              "\n",
              "       CD_SITUACAO_CANDIDATURA  NR_IDADE_DATA_POSSE  VR_DESPESA_MAX_CAMPANHA  \n",
              "count             71234.000000         71145.000000             7.123400e+04  \n",
              "mean                 11.317713            44.481144             2.466352e+05  \n",
              "std                   2.386401            17.818667             9.241506e+05  \n",
              "min                   1.000000          -940.000000            -4.000000e+00  \n",
              "25%                  12.000000            36.000000             1.230775e+04  \n",
              "50%                  12.000000            44.000000             3.563052e+04  \n",
              "75%                  12.000000            52.000000             1.205451e+05  \n",
              "max                  12.000000           999.000000             5.000000e+07  "
            ],
            "text/html": [
              "\n",
              "  <div id=\"df-688a80ea-409f-4a90-85b2-0daa325f6ef5\">\n",
              "    <div class=\"colab-df-container\">\n",
              "      <div>\n",
              "<style scoped>\n",
              "    .dataframe tbody tr th:only-of-type {\n",
              "        vertical-align: middle;\n",
              "    }\n",
              "\n",
              "    .dataframe tbody tr th {\n",
              "        vertical-align: top;\n",
              "    }\n",
              "\n",
              "    .dataframe thead th {\n",
              "        text-align: right;\n",
              "    }\n",
              "</style>\n",
              "<table border=\"1\" class=\"dataframe\">\n",
              "  <thead>\n",
              "    <tr style=\"text-align: right;\">\n",
              "      <th></th>\n",
              "      <th>ANO_ELEICAO</th>\n",
              "      <th>CD_TIPO_ELEICAO</th>\n",
              "      <th>NR_TURNO</th>\n",
              "      <th>CD_ELEICAO</th>\n",
              "      <th>CD_SITUACAO_CANDIDATURA</th>\n",
              "      <th>NR_IDADE_DATA_POSSE</th>\n",
              "      <th>VR_DESPESA_MAX_CAMPANHA</th>\n",
              "    </tr>\n",
              "  </thead>\n",
              "  <tbody>\n",
              "    <tr>\n",
              "      <th>count</th>\n",
              "      <td>71234.000000</td>\n",
              "      <td>71234.000000</td>\n",
              "      <td>71234.000000</td>\n",
              "      <td>71234.000000</td>\n",
              "      <td>71234.000000</td>\n",
              "      <td>71145.000000</td>\n",
              "      <td>7.123400e+04</td>\n",
              "    </tr>\n",
              "    <tr>\n",
              "      <th>mean</th>\n",
              "      <td>2016.279501</td>\n",
              "      <td>1.998610</td>\n",
              "      <td>1.000337</td>\n",
              "      <td>245.839922</td>\n",
              "      <td>11.317713</td>\n",
              "      <td>44.481144</td>\n",
              "      <td>2.466352e+05</td>\n",
              "    </tr>\n",
              "    <tr>\n",
              "      <th>std</th>\n",
              "      <td>3.367460</td>\n",
              "      <td>0.037254</td>\n",
              "      <td>0.018352</td>\n",
              "      <td>159.052521</td>\n",
              "      <td>2.386401</td>\n",
              "      <td>17.818667</td>\n",
              "      <td>9.241506e+05</td>\n",
              "    </tr>\n",
              "    <tr>\n",
              "      <th>min</th>\n",
              "      <td>2010.000000</td>\n",
              "      <td>1.000000</td>\n",
              "      <td>1.000000</td>\n",
              "      <td>37.000000</td>\n",
              "      <td>1.000000</td>\n",
              "      <td>-940.000000</td>\n",
              "      <td>-4.000000e+00</td>\n",
              "    </tr>\n",
              "    <tr>\n",
              "      <th>25%</th>\n",
              "      <td>2012.000000</td>\n",
              "      <td>2.000000</td>\n",
              "      <td>1.000000</td>\n",
              "      <td>47.000000</td>\n",
              "      <td>12.000000</td>\n",
              "      <td>36.000000</td>\n",
              "      <td>1.230775e+04</td>\n",
              "    </tr>\n",
              "    <tr>\n",
              "      <th>50%</th>\n",
              "      <td>2016.000000</td>\n",
              "      <td>2.000000</td>\n",
              "      <td>1.000000</td>\n",
              "      <td>220.000000</td>\n",
              "      <td>12.000000</td>\n",
              "      <td>44.000000</td>\n",
              "      <td>3.563052e+04</td>\n",
              "    </tr>\n",
              "    <tr>\n",
              "      <th>75%</th>\n",
              "      <td>2020.000000</td>\n",
              "      <td>2.000000</td>\n",
              "      <td>1.000000</td>\n",
              "      <td>426.000000</td>\n",
              "      <td>12.000000</td>\n",
              "      <td>52.000000</td>\n",
              "      <td>1.205451e+05</td>\n",
              "    </tr>\n",
              "    <tr>\n",
              "      <th>max</th>\n",
              "      <td>2022.000000</td>\n",
              "      <td>2.000000</td>\n",
              "      <td>2.000000</td>\n",
              "      <td>546.000000</td>\n",
              "      <td>12.000000</td>\n",
              "      <td>999.000000</td>\n",
              "      <td>5.000000e+07</td>\n",
              "    </tr>\n",
              "  </tbody>\n",
              "</table>\n",
              "</div>\n",
              "      <button class=\"colab-df-convert\" onclick=\"convertToInteractive('df-688a80ea-409f-4a90-85b2-0daa325f6ef5')\"\n",
              "              title=\"Convert this dataframe to an interactive table.\"\n",
              "              style=\"display:none;\">\n",
              "        \n",
              "  <svg xmlns=\"http://www.w3.org/2000/svg\" height=\"24px\"viewBox=\"0 0 24 24\"\n",
              "       width=\"24px\">\n",
              "    <path d=\"M0 0h24v24H0V0z\" fill=\"none\"/>\n",
              "    <path d=\"M18.56 5.44l.94 2.06.94-2.06 2.06-.94-2.06-.94-.94-2.06-.94 2.06-2.06.94zm-11 1L8.5 8.5l.94-2.06 2.06-.94-2.06-.94L8.5 2.5l-.94 2.06-2.06.94zm10 10l.94 2.06.94-2.06 2.06-.94-2.06-.94-.94-2.06-.94 2.06-2.06.94z\"/><path d=\"M17.41 7.96l-1.37-1.37c-.4-.4-.92-.59-1.43-.59-.52 0-1.04.2-1.43.59L10.3 9.45l-7.72 7.72c-.78.78-.78 2.05 0 2.83L4 21.41c.39.39.9.59 1.41.59.51 0 1.02-.2 1.41-.59l7.78-7.78 2.81-2.81c.8-.78.8-2.07 0-2.86zM5.41 20L4 18.59l7.72-7.72 1.47 1.35L5.41 20z\"/>\n",
              "  </svg>\n",
              "      </button>\n",
              "      \n",
              "  <style>\n",
              "    .colab-df-container {\n",
              "      display:flex;\n",
              "      flex-wrap:wrap;\n",
              "      gap: 12px;\n",
              "    }\n",
              "\n",
              "    .colab-df-convert {\n",
              "      background-color: #E8F0FE;\n",
              "      border: none;\n",
              "      border-radius: 50%;\n",
              "      cursor: pointer;\n",
              "      display: none;\n",
              "      fill: #1967D2;\n",
              "      height: 32px;\n",
              "      padding: 0 0 0 0;\n",
              "      width: 32px;\n",
              "    }\n",
              "\n",
              "    .colab-df-convert:hover {\n",
              "      background-color: #E2EBFA;\n",
              "      box-shadow: 0px 1px 2px rgba(60, 64, 67, 0.3), 0px 1px 3px 1px rgba(60, 64, 67, 0.15);\n",
              "      fill: #174EA6;\n",
              "    }\n",
              "\n",
              "    [theme=dark] .colab-df-convert {\n",
              "      background-color: #3B4455;\n",
              "      fill: #D2E3FC;\n",
              "    }\n",
              "\n",
              "    [theme=dark] .colab-df-convert:hover {\n",
              "      background-color: #434B5C;\n",
              "      box-shadow: 0px 1px 3px 1px rgba(0, 0, 0, 0.15);\n",
              "      filter: drop-shadow(0px 1px 2px rgba(0, 0, 0, 0.3));\n",
              "      fill: #FFFFFF;\n",
              "    }\n",
              "  </style>\n",
              "\n",
              "      <script>\n",
              "        const buttonEl =\n",
              "          document.querySelector('#df-688a80ea-409f-4a90-85b2-0daa325f6ef5 button.colab-df-convert');\n",
              "        buttonEl.style.display =\n",
              "          google.colab.kernel.accessAllowed ? 'block' : 'none';\n",
              "\n",
              "        async function convertToInteractive(key) {\n",
              "          const element = document.querySelector('#df-688a80ea-409f-4a90-85b2-0daa325f6ef5');\n",
              "          const dataTable =\n",
              "            await google.colab.kernel.invokeFunction('convertToInteractive',\n",
              "                                                     [key], {});\n",
              "          if (!dataTable) return;\n",
              "\n",
              "          const docLinkHtml = 'Like what you see? Visit the ' +\n",
              "            '<a target=\"_blank\" href=https://colab.research.google.com/notebooks/data_table.ipynb>data table notebook</a>'\n",
              "            + ' to learn more about interactive tables.';\n",
              "          element.innerHTML = '';\n",
              "          dataTable['output_type'] = 'display_data';\n",
              "          await google.colab.output.renderOutput(dataTable, element);\n",
              "          const docLink = document.createElement('div');\n",
              "          docLink.innerHTML = docLinkHtml;\n",
              "          element.appendChild(docLink);\n",
              "        }\n",
              "      </script>\n",
              "    </div>\n",
              "  </div>\n",
              "  "
            ]
          },
          "metadata": {},
          "execution_count": 15
        }
      ]
    },
    {
      "cell_type": "markdown",
      "source": [
        "**Verificando dados vazios nos dados**"
      ],
      "metadata": {
        "id": "VjLlNmL4IQFO"
      }
    },
    {
      "cell_type": "code",
      "source": [
        "candidatos_goias.isnull().sum()"
      ],
      "metadata": {
        "id": "mHOMQiTSx44o",
        "colab": {
          "base_uri": "https://localhost:8080/"
        },
        "outputId": "1e6066b5-98de-4df1-df41-b9619369122a"
      },
      "execution_count": 16,
      "outputs": [
        {
          "output_type": "execute_result",
          "data": {
            "text/plain": [
              "ANO_ELEICAO                    0\n",
              "CD_TIPO_ELEICAO                0\n",
              "NR_TURNO                       0\n",
              "CD_ELEICAO                     0\n",
              "DS_ELEICAO                     0\n",
              "TP_ABRANGENCIA                 0\n",
              "SG_UF                          0\n",
              "SG_UE                          0\n",
              "NM_UE                          0\n",
              "NM_CANDIDATO                   0\n",
              "NM_URNA_CANDIDATO              0\n",
              "CD_SITUACAO_CANDIDATURA        0\n",
              "DS_SITUACAO_CANDIDATURA        0\n",
              "SG_PARTIDO                     0\n",
              "NM_PARTIDO                     0\n",
              "DS_NACIONALIDADE               0\n",
              "DT_NASCIMENTO                 89\n",
              "NR_IDADE_DATA_POSSE           89\n",
              "DS_GENERO                      0\n",
              "DS_GRAU_INSTRUCAO              0\n",
              "DS_ESTADO_CIVIL                0\n",
              "DS_COR_RACA                    0\n",
              "VR_DESPESA_MAX_CAMPANHA        0\n",
              "DS_SIT_TOT_TURNO               0\n",
              "ST_REELEICAO                   0\n",
              "DS_SITUACAO_CANDIDATO_URNA     0\n",
              "ST_CANDIDATO_INSERIDO_URNA     0\n",
              "dtype: int64"
            ]
          },
          "metadata": {},
          "execution_count": 16
        }
      ]
    },
    {
      "cell_type": "markdown",
      "source": [
        "`Como apenas a coluna NM_URNA_CANDIDATO tem valor nulo e é apenas 1, então essa linha poderá ser excluída, caso fosse mais linhas nulos, teria que tomar outra decisão para tratar o valor nulo`"
      ],
      "metadata": {
        "id": "bGAPx-7JJbpV"
      }
    },
    {
      "cell_type": "code",
      "source": [
        "candidatos_goias.dropna(inplace =True)\n",
        "candidatos_goias.isnull().sum()"
      ],
      "metadata": {
        "id": "YO9DpzgQI7Hc",
        "colab": {
          "base_uri": "https://localhost:8080/"
        },
        "outputId": "6322fb32-6b1a-4773-b23c-d3b37739c775"
      },
      "execution_count": 17,
      "outputs": [
        {
          "output_type": "execute_result",
          "data": {
            "text/plain": [
              "ANO_ELEICAO                   0\n",
              "CD_TIPO_ELEICAO               0\n",
              "NR_TURNO                      0\n",
              "CD_ELEICAO                    0\n",
              "DS_ELEICAO                    0\n",
              "TP_ABRANGENCIA                0\n",
              "SG_UF                         0\n",
              "SG_UE                         0\n",
              "NM_UE                         0\n",
              "NM_CANDIDATO                  0\n",
              "NM_URNA_CANDIDATO             0\n",
              "CD_SITUACAO_CANDIDATURA       0\n",
              "DS_SITUACAO_CANDIDATURA       0\n",
              "SG_PARTIDO                    0\n",
              "NM_PARTIDO                    0\n",
              "DS_NACIONALIDADE              0\n",
              "DT_NASCIMENTO                 0\n",
              "NR_IDADE_DATA_POSSE           0\n",
              "DS_GENERO                     0\n",
              "DS_GRAU_INSTRUCAO             0\n",
              "DS_ESTADO_CIVIL               0\n",
              "DS_COR_RACA                   0\n",
              "VR_DESPESA_MAX_CAMPANHA       0\n",
              "DS_SIT_TOT_TURNO              0\n",
              "ST_REELEICAO                  0\n",
              "DS_SITUACAO_CANDIDATO_URNA    0\n",
              "ST_CANDIDATO_INSERIDO_URNA    0\n",
              "dtype: int64"
            ]
          },
          "metadata": {},
          "execution_count": 17
        }
      ]
    },
    {
      "cell_type": "markdown",
      "source": [
        "`Após os dados nulos serem removidos será iniciado a análise dos dados os candidatos de  1994  até 2008`"
      ],
      "metadata": {
        "id": "DJdUNJqOKGew"
      }
    },
    {
      "cell_type": "markdown",
      "source": [
        "O que está análise vai tratar \n",
        "*   Quantas candidatos inscritos\n",
        "*   Quantos candidatos por raça \n",
        "*   Quantos candidatos por escolaridade\n",
        "*   Faixa etária dos candidatos por raça e sexo\n",
        "*   Porcentagem de candidatos escrito por raça, escolaridade, sexo\n",
        "*   Quantidade de partidos\n",
        "*   Quantidade de partido por sexo e raça\n",
        "*   Quantidade de escrito por estado civil\n",
        "*   Estado civil dos candidatos por genero\n",
        "*   Qual partido teve mais inscritos por raça e genero\n",
        "*   Qual partido mais elegeu\n",
        "*   Os candidatos mais eleitos usaram nome de algum candidatos que estava em alta na epóca \n",
        "*   O gasto com campanhas influência ao vencer eleição\n",
        "\n",
        "\n",
        "\n",
        "\n",
        "\n",
        "\n",
        "\n",
        "\n",
        "\n",
        "\n",
        "\n",
        "\n",
        "\n",
        "\n",
        "\n",
        "\n"
      ],
      "metadata": {
        "id": "e3fknnSCKUs_"
      }
    },
    {
      "cell_type": "markdown",
      "source": [
        "*Após uma análise mais profunda dos dados, notei que existe variação de eleitos. </br>Eleitos por média e Eleitos por PQ. \n",
        "irei padronizar todos para Eleitos. </br>Para facilitar a análise dos dados* "
      ],
      "metadata": {
        "id": "cUfZhviyuIPE"
      }
    },
    {
      "cell_type": "markdown",
      "source": [
        "`Padronização dos eleitos`"
      ],
      "metadata": {
        "id": "mXbbK5dfuf6n"
      }
    },
    {
      "cell_type": "code",
      "source": [
        "candidatos_goias.DS_SIT_TOT_TURNO[candidatos_goias.DS_SIT_TOT_TURNO == 'ELEITO POR QP'] = 'ELEITO'\n",
        "candidatos_goias.DS_SIT_TOT_TURNO[candidatos_goias.DS_SIT_TOT_TURNO == 'ELEITO POR MÉDIA'] = 'ELEITO'"
      ],
      "metadata": {
        "colab": {
          "base_uri": "https://localhost:8080/"
        },
        "id": "tyK1j_fnue7L",
        "outputId": "580a35a5-b38e-45a8-b01e-aa75c78aa031"
      },
      "execution_count": 284,
      "outputs": [
        {
          "output_type": "stream",
          "name": "stderr",
          "text": [
            "/usr/local/lib/python3.7/dist-packages/ipykernel_launcher.py:1: SettingWithCopyWarning: \n",
            "A value is trying to be set on a copy of a slice from a DataFrame\n",
            "\n",
            "See the caveats in the documentation: https://pandas.pydata.org/pandas-docs/stable/user_guide/indexing.html#returning-a-view-versus-a-copy\n",
            "  \"\"\"Entry point for launching an IPython kernel.\n",
            "/usr/local/lib/python3.7/dist-packages/ipykernel_launcher.py:2: SettingWithCopyWarning: \n",
            "A value is trying to be set on a copy of a slice from a DataFrame\n",
            "\n",
            "See the caveats in the documentation: https://pandas.pydata.org/pandas-docs/stable/user_guide/indexing.html#returning-a-view-versus-a-copy\n",
            "  \n"
          ]
        }
      ]
    },
    {
      "cell_type": "markdown",
      "source": [
        "**Quantos candidatos inscritos?**\n",
        "\n",
        "\n",
        "\n"
      ],
      "metadata": {
        "id": "n9dXqlLNLZXU"
      }
    },
    {
      "cell_type": "code",
      "source": [
        "candidatos_goias['ANO_ELEICAO'].count() "
      ],
      "metadata": {
        "id": "aKwc6RsKKA8C",
        "colab": {
          "base_uri": "https://localhost:8080/"
        },
        "outputId": "804ebb58-9869-4e65-d948-33a19b915c7b"
      },
      "execution_count": 285,
      "outputs": [
        {
          "output_type": "execute_result",
          "data": {
            "text/plain": [
              "71129"
            ]
          },
          "metadata": {},
          "execution_count": 285
        }
      ]
    },
    {
      "cell_type": "markdown",
      "source": [
        "`As candidaturas de 1994 até 2010 soma 50655 cinquenta mil seiscentos e cinquenta e cinco inscritos.`"
      ],
      "metadata": {
        "id": "fe9qta89MZvJ"
      }
    },
    {
      "cell_type": "markdown",
      "source": [
        "**Quantidade de inscritos por raça**"
      ],
      "metadata": {
        "id": "TNqBMoVS-Djs"
      }
    },
    {
      "cell_type": "code",
      "source": [
        "candidatos_goias[\"DS_COR_RACA\"].value_counts()"
      ],
      "metadata": {
        "colab": {
          "base_uri": "https://localhost:8080/"
        },
        "id": "0fiQQbVo-YJs",
        "outputId": "0e20a23b-0bd1-4867-de6c-11d5af077c8a"
      },
      "execution_count": 286,
      "outputs": [
        {
          "output_type": "execute_result",
          "data": {
            "text/plain": [
              "PARDA            24694\n",
              "#NE#             21388\n",
              "BRANCA           20088\n",
              "PRETA             4327\n",
              "AMARELA            412\n",
              "NÃO INFORMADO      177\n",
              "INDÍGENA            43\n",
              "Name: DS_COR_RACA, dtype: int64"
            ]
          },
          "metadata": {},
          "execution_count": 286
        }
      ]
    },
    {
      "cell_type": "markdown",
      "source": [
        "**Gráfico de quantidade de inscritos por raça**"
      ],
      "metadata": {
        "id": "nFKMVae7-k_X"
      }
    },
    {
      "cell_type": "code",
      "source": [
        "fig = plt.figure(figsize=(10,5))\n",
        "grafico = sns.countplot('DS_COR_RACA', order = candidatos_goias['DS_COR_RACA'].value_counts().index, palette=\"Paired\",  data =  candidatos_goias)\n",
        "plt.xticks(rotation=90)\n",
        "for i in grafico.patches:\n",
        "   grafico.annotate(i.get_height(),\n",
        "                  (i.get_x() + i.get_width() / 2, i.get_height()),\n",
        "                  ha='center',\n",
        "                  va='baseline',\n",
        "                  fontsize=12,\n",
        "                  color='black',\n",
        "                  xytext=(0, 1),\n",
        "                  textcoords='offset points');  \n",
        "plt.xlabel('Raça', fontsize=15)\n",
        "plt.ylabel(' ')\n",
        "plt.title('Grafico quantidade de candidatos por raça',fontsize=15);"
      ],
      "metadata": {
        "colab": {
          "base_uri": "https://localhost:8080/",
          "height": 489
        },
        "id": "dXAToIB9-qno",
        "outputId": "c7c05410-93ab-454b-dfee-ea6050df9d32"
      },
      "execution_count": 287,
      "outputs": [
        {
          "output_type": "stream",
          "name": "stderr",
          "text": [
            "/usr/local/lib/python3.7/dist-packages/seaborn/_decorators.py:43: FutureWarning: Pass the following variable as a keyword arg: x. From version 0.12, the only valid positional argument will be `data`, and passing other arguments without an explicit keyword will result in an error or misinterpretation.\n",
            "  FutureWarning\n"
          ]
        },
        {
          "output_type": "display_data",
          "data": {
            "text/plain": [
              "<Figure size 720x360 with 1 Axes>"
            ],
            "image/png": "[encoded data removed]"
          },
          "metadata": {
            "needs_background": "light"
          }
        }
      ]
    },
    {
      "cell_type": "markdown",
      "source": [
        "`De acordo com o dicionario dos dados NE são quando os valores não são registrados no banco de dados`"
      ],
      "metadata": {
        "id": "FASQRTw_-0d6"
      }
    },
    {
      "cell_type": "markdown",
      "source": [
        "**Porcentagem de inscritos por raça** "
      ],
      "metadata": {
        "id": "WBrv17B5_GeA"
      }
    },
    {
      "cell_type": "code",
      "source": [
        "porcenagem_raca = (candidatos_goias[\"DS_COR_RACA\"].value_counts() / candidatos_goias[\"ANO_ELEICAO\"].count()) * 100\n",
        "porcenagem_raca "
      ],
      "metadata": {
        "colab": {
          "base_uri": "https://localhost:8080/"
        },
        "id": "UEarjzqK_Eg3",
        "outputId": "7dde6e93-cf29-4218-cbe5-0ec44e6c19e4"
      },
      "execution_count": 288,
      "outputs": [
        {
          "output_type": "execute_result",
          "data": {
            "text/plain": [
              "PARDA            34.717204\n",
              "#NE#             30.069311\n",
              "BRANCA           28.241645\n",
              "PRETA             6.083313\n",
              "AMARELA           0.579229\n",
              "NÃO INFORMADO     0.248844\n",
              "INDÍGENA          0.060454\n",
              "Name: DS_COR_RACA, dtype: float64"
            ]
          },
          "metadata": {},
          "execution_count": 288
        }
      ]
    },
    {
      "cell_type": "markdown",
      "source": [
        "**Quantidade de inscritos por escolaridade**"
      ],
      "metadata": {
        "id": "h1h3u6x9Or7f"
      }
    },
    {
      "cell_type": "code",
      "source": [
        "candidatos_goias['DS_GRAU_INSTRUCAO'].value_counts()"
      ],
      "metadata": {
        "id": "N_eATIWmOwMI",
        "colab": {
          "base_uri": "https://localhost:8080/"
        },
        "outputId": "93aad834-6f6f-46ab-a9ee-fa8eba17774a"
      },
      "execution_count": 289,
      "outputs": [
        {
          "output_type": "execute_result",
          "data": {
            "text/plain": [
              "ENSINO MÉDIO COMPLETO            26860\n",
              "SUPERIOR COMPLETO                16536\n",
              "ENSINO FUNDAMENTAL INCOMPLETO     9733\n",
              "ENSINO FUNDAMENTAL COMPLETO       8404\n",
              "ENSINO MÉDIO INCOMPLETO           4481\n",
              "SUPERIOR INCOMPLETO               3549\n",
              "LÊ E ESCREVE                      1557\n",
              "ANALFABETO                           9\n",
              "Name: DS_GRAU_INSTRUCAO, dtype: int64"
            ]
          },
          "metadata": {},
          "execution_count": 289
        }
      ]
    },
    {
      "cell_type": "markdown",
      "source": [
        "**Porcentagem de inscritos por escolaridade**"
      ],
      "metadata": {
        "id": "dCBsuM3LRis-"
      }
    },
    {
      "cell_type": "code",
      "source": [
        "porc_escolaridade  = candidatos_goias['DS_GRAU_INSTRUCAO'].value_counts() / 71145 * 100 \n",
        "porc_escolaridade"
      ],
      "metadata": {
        "id": "AafO1e1bRmBi",
        "colab": {
          "base_uri": "https://localhost:8080/"
        },
        "outputId": "2fed2a5b-0caa-4697-a4e3-cee5620d28c4"
      },
      "execution_count": 290,
      "outputs": [
        {
          "output_type": "execute_result",
          "data": {
            "text/plain": [
              "ENSINO MÉDIO COMPLETO            37.753883\n",
              "SUPERIOR COMPLETO                23.242673\n",
              "ENSINO FUNDAMENTAL INCOMPLETO    13.680512\n",
              "ENSINO FUNDAMENTAL COMPLETO      11.812496\n",
              "ENSINO MÉDIO INCOMPLETO           6.298405\n",
              "SUPERIOR INCOMPLETO               4.988404\n",
              "LÊ E ESCREVE                      2.188488\n",
              "ANALFABETO                        0.012650\n",
              "Name: DS_GRAU_INSTRUCAO, dtype: float64"
            ]
          },
          "metadata": {},
          "execution_count": 290
        }
      ]
    },
    {
      "cell_type": "markdown",
      "source": [
        "**Gráfico de inscritos por escolaridade**"
      ],
      "metadata": {
        "id": "C9ONH1PfOTqL"
      }
    },
    {
      "cell_type": "code",
      "source": [
        "fig = plt.figure(figsize=(10,5))\n",
        "grafico = sns.countplot('DS_GRAU_INSTRUCAO', order = candidatos_goias['DS_GRAU_INSTRUCAO'].value_counts().index, palette=\"Paired\",  data =  candidatos_goias)\n",
        "plt.xticks(rotation=90)\n",
        "for i in grafico.patches:\n",
        "   grafico.annotate(i.get_height(),\n",
        "                  (i.get_x() + i.get_width() / 2, i.get_height()),\n",
        "                  ha='center',\n",
        "                  va='baseline',\n",
        "                  fontsize=12,\n",
        "                  color='black',\n",
        "                  xytext=(0, 1),\n",
        "                  textcoords='offset points');  \n",
        "plt.xlabel('Escolaridade', fontsize=15)\n",
        "plt.ylabel(' ')\n",
        "plt.title('Grafico quantidade por  escolaridade',fontsize=15);"
      ],
      "metadata": {
        "id": "stBLe8e7NqcL",
        "colab": {
          "base_uri": "https://localhost:8080/",
          "height": 586
        },
        "outputId": "f0ed7dd2-fa8a-43ba-d074-447ae8ad8b9e"
      },
      "execution_count": 291,
      "outputs": [
        {
          "output_type": "stream",
          "name": "stderr",
          "text": [
            "/usr/local/lib/python3.7/dist-packages/seaborn/_decorators.py:43: FutureWarning: Pass the following variable as a keyword arg: x. From version 0.12, the only valid positional argument will be `data`, and passing other arguments without an explicit keyword will result in an error or misinterpretation.\n",
            "  FutureWarning\n"
          ]
        },
        {
          "output_type": "display_data",
          "data": {
            "text/plain": [
              "<Figure size 720x360 with 1 Axes>"
            ],
            "image/png": "[encoded data removed]"
          },
          "metadata": {
            "needs_background": "light"
          }
        }
      ]
    },
    {
      "cell_type": "markdown",
      "source": [
        "**Faixa etaria dos inscritos**"
      ],
      "metadata": {
        "id": "WVgD1h7UYA7i"
      }
    },
    {
      "cell_type": "code",
      "source": [
        "candidatos_goias['NR_IDADE_DATA_POSSE'].unique()"
      ],
      "metadata": {
        "id": "W_oRa89iYdC6",
        "colab": {
          "base_uri": "https://localhost:8080/"
        },
        "outputId": "0554a1d6-6816-4368-bf89-a17ee4e34393"
      },
      "execution_count": 292,
      "outputs": [
        {
          "output_type": "execute_result",
          "data": {
            "text/plain": [
              "array([53., 31., 56., 49., 50., 60., 54., 29., 46., 67., 41., 36., 58.,\n",
              "       48., 44., 28., 47., 20., 55., 70., 59., 52., 45., 37., 33., 34.,\n",
              "       42., 35., 32., 40., 57., 74., 61., 30., 26., 43., 24., 76., 38.,\n",
              "       22., 51., 39., 65., 27., 63., 64., 25., 62., 23., 66., 78., 80.,\n",
              "       21., 18., 19., 69., 68., 77., 71., 73., 79., 75., 81., 72., 91.,\n",
              "       83., 84., 89., 87., 82., 90., 95., 85., 88.])"
            ]
          },
          "metadata": {},
          "execution_count": 292
        }
      ]
    },
    {
      "cell_type": "markdown",
      "source": [
        "**Como foi observado, existe idade com numeros negativos e bem maiores que 100. Então será substituido por zero**"
      ],
      "metadata": {
        "id": "OUAuO5X6rBXU"
      }
    },
    {
      "cell_type": "code",
      "source": [
        "candidatos_goias.loc[((candidatos_goias.NR_IDADE_DATA_POSSE <= 0 )| (candidatos_goias.NR_IDADE_DATA_POSSE > 100))] = 0\n"
      ],
      "metadata": {
        "id": "05Palf6Ync99"
      },
      "execution_count": 293,
      "outputs": []
    },
    {
      "cell_type": "code",
      "source": [
        "candidatos_goias['NR_IDADE_DATA_POSSE'].unique()"
      ],
      "metadata": {
        "colab": {
          "base_uri": "https://localhost:8080/"
        },
        "id": "XsQ4HuBwpIoL",
        "outputId": "875c326a-0a43-42e0-e3b5-61dd67cec944"
      },
      "execution_count": 294,
      "outputs": [
        {
          "output_type": "execute_result",
          "data": {
            "text/plain": [
              "array([53., 31., 56., 49., 50., 60., 54., 29., 46., 67., 41., 36., 58.,\n",
              "       48., 44., 28., 47., 20., 55., 70., 59., 52., 45., 37., 33., 34.,\n",
              "       42., 35., 32., 40., 57., 74., 61., 30., 26., 43., 24., 76., 38.,\n",
              "       22., 51., 39., 65., 27., 63., 64., 25., 62., 23., 66., 78., 80.,\n",
              "       21., 18., 19., 69., 68., 77., 71., 73., 79., 75., 81., 72., 91.,\n",
              "       83., 84., 89., 87., 82., 90., 95., 85., 88.])"
            ]
          },
          "metadata": {},
          "execution_count": 294
        }
      ]
    },
    {
      "cell_type": "markdown",
      "source": [
        "`Valores substituídos por zero. Já que são poucos valores e o zero não seria um valor interresante pra contabilizar, será excluido as linhas que a idade possuí zero `"
      ],
      "metadata": {
        "id": "f1nYrU3QsRUa"
      }
    },
    {
      "cell_type": "code",
      "source": [
        "idade_colunas = candidatos_goias[candidatos_goias['NR_IDADE_DATA_POSSE'] == 0 ].index\n",
        "candidatos_goias.drop(idade_colunas, inplace=True)"
      ],
      "metadata": {
        "id": "82-KnY9zsAIo"
      },
      "execution_count": 295,
      "outputs": []
    },
    {
      "cell_type": "code",
      "source": [
        "candidatos_goias['NR_IDADE_DATA_POSSE'].unique()"
      ],
      "metadata": {
        "colab": {
          "base_uri": "https://localhost:8080/"
        },
        "id": "1Hc0lQ2GsthT",
        "outputId": "6c748d84-43dd-4dc8-b80d-4b4bf4a66925"
      },
      "execution_count": 296,
      "outputs": [
        {
          "output_type": "execute_result",
          "data": {
            "text/plain": [
              "array([53., 31., 56., 49., 50., 60., 54., 29., 46., 67., 41., 36., 58.,\n",
              "       48., 44., 28., 47., 20., 55., 70., 59., 52., 45., 37., 33., 34.,\n",
              "       42., 35., 32., 40., 57., 74., 61., 30., 26., 43., 24., 76., 38.,\n",
              "       22., 51., 39., 65., 27., 63., 64., 25., 62., 23., 66., 78., 80.,\n",
              "       21., 18., 19., 69., 68., 77., 71., 73., 79., 75., 81., 72., 91.,\n",
              "       83., 84., 89., 87., 82., 90., 95., 85., 88.])"
            ]
          },
          "metadata": {},
          "execution_count": 296
        }
      ]
    },
    {
      "cell_type": "markdown",
      "source": [
        "**Idade com valores 0 removidas**"
      ],
      "metadata": {
        "id": "4NxRWXvfsuyK"
      }
    },
    {
      "cell_type": "markdown",
      "source": [
        "**Excluir idade menores que 18**"
      ],
      "metadata": {
        "id": "CcfdIFuaxWQp"
      }
    },
    {
      "cell_type": "code",
      "source": [
        "idade_colunas = candidatos_goias[candidatos_goias['NR_IDADE_DATA_POSSE'] < 18 ].index\n",
        "candidatos_goias.drop(idade_colunas, inplace=True)"
      ],
      "metadata": {
        "id": "AGW93MKWxVoW"
      },
      "execution_count": 297,
      "outputs": []
    },
    {
      "cell_type": "markdown",
      "source": [
        "**idade menores que 18  excluídas** "
      ],
      "metadata": {
        "id": "upn-TXlExiKP"
      }
    },
    {
      "cell_type": "code",
      "source": [
        "candidatos_goias['NR_IDADE_DATA_POSSE'].unique()"
      ],
      "metadata": {
        "colab": {
          "base_uri": "https://localhost:8080/"
        },
        "id": "lBnNeqiKxnCa",
        "outputId": "063a237d-dcc3-4cb0-8d52-06c0c8dcfbdf"
      },
      "execution_count": 298,
      "outputs": [
        {
          "output_type": "execute_result",
          "data": {
            "text/plain": [
              "array([53., 31., 56., 49., 50., 60., 54., 29., 46., 67., 41., 36., 58.,\n",
              "       48., 44., 28., 47., 20., 55., 70., 59., 52., 45., 37., 33., 34.,\n",
              "       42., 35., 32., 40., 57., 74., 61., 30., 26., 43., 24., 76., 38.,\n",
              "       22., 51., 39., 65., 27., 63., 64., 25., 62., 23., 66., 78., 80.,\n",
              "       21., 18., 19., 69., 68., 77., 71., 73., 79., 75., 81., 72., 91.,\n",
              "       83., 84., 89., 87., 82., 90., 95., 85., 88.])"
            ]
          },
          "metadata": {},
          "execution_count": 298
        }
      ]
    },
    {
      "cell_type": "markdown",
      "source": [
        "**Total de inscritos por faixa etária**"
      ],
      "metadata": {
        "id": "iyfKunX-szlE"
      }
    },
    {
      "cell_type": "code",
      "source": [
        "#Utilizando sql para cantabilizar quantidade de inscritos maiores ou iguais a 18\n",
        "query = \"\"\"SELECT COUNT(NR_IDADE_DATA_POSSE) as total_inscritos_idade\n",
        "           FROM candidatos_goias\n",
        "           where NR_IDADE_DATA_POSSE >= 18\"\"\"\n",
        "ps.sqldf(query.lower(), locals())"
      ],
      "metadata": {
        "colab": {
          "base_uri": "https://localhost:8080/",
          "height": 81
        },
        "id": "w4F7wBFDvMPU",
        "outputId": "42f45d0c-a35f-4a7b-b706-cab0d0d68b26"
      },
      "execution_count": 299,
      "outputs": [
        {
          "output_type": "execute_result",
          "data": {
            "text/plain": [
              "   total_inscritos_idade\n",
              "0                  71129"
            ],
            "text/html": [
              "\n",
              "  <div id=\"df-641f14c6-aa05-4820-b425-e4cbed2d9249\">\n",
              "    <div class=\"colab-df-container\">\n",
              "      <div>\n",
              "<style scoped>\n",
              "    .dataframe tbody tr th:only-of-type {\n",
              "        vertical-align: middle;\n",
              "    }\n",
              "\n",
              "    .dataframe tbody tr th {\n",
              "        vertical-align: top;\n",
              "    }\n",
              "\n",
              "    .dataframe thead th {\n",
              "        text-align: right;\n",
              "    }\n",
              "</style>\n",
              "<table border=\"1\" class=\"dataframe\">\n",
              "  <thead>\n",
              "    <tr style=\"text-align: right;\">\n",
              "      <th></th>\n",
              "      <th>total_inscritos_idade</th>\n",
              "    </tr>\n",
              "  </thead>\n",
              "  <tbody>\n",
              "    <tr>\n",
              "      <th>0</th>\n",
              "      <td>71129</td>\n",
              "    </tr>\n",
              "  </tbody>\n",
              "</table>\n",
              "</div>\n",
              "      <button class=\"colab-df-convert\" onclick=\"convertToInteractive('df-641f14c6-aa05-4820-b425-e4cbed2d9249')\"\n",
              "              title=\"Convert this dataframe to an interactive table.\"\n",
              "              style=\"display:none;\">\n",
              "        \n",
              "  <svg xmlns=\"http://www.w3.org/2000/svg\" height=\"24px\"viewBox=\"0 0 24 24\"\n",
              "       width=\"24px\">\n",
              "    <path d=\"M0 0h24v24H0V0z\" fill=\"none\"/>\n",
              "    <path d=\"M18.56 5.44l.94 2.06.94-2.06 2.06-.94-2.06-.94-.94-2.06-.94 2.06-2.06.94zm-11 1L8.5 8.5l.94-2.06 2.06-.94-2.06-.94L8.5 2.5l-.94 2.06-2.06.94zm10 10l.94 2.06.94-2.06 2.06-.94-2.06-.94-.94-2.06-.94 2.06-2.06.94z\"/><path d=\"M17.41 7.96l-1.37-1.37c-.4-.4-.92-.59-1.43-.59-.52 0-1.04.2-1.43.59L10.3 9.45l-7.72 7.72c-.78.78-.78 2.05 0 2.83L4 21.41c.39.39.9.59 1.41.59.51 0 1.02-.2 1.41-.59l7.78-7.78 2.81-2.81c.8-.78.8-2.07 0-2.86zM5.41 20L4 18.59l7.72-7.72 1.47 1.35L5.41 20z\"/>\n",
              "  </svg>\n",
              "      </button>\n",
              "      \n",
              "  <style>\n",
              "    .colab-df-container {\n",
              "      display:flex;\n",
              "      flex-wrap:wrap;\n",
              "      gap: 12px;\n",
              "    }\n",
              "\n",
              "    .colab-df-convert {\n",
              "      background-color: #E8F0FE;\n",
              "      border: none;\n",
              "      border-radius: 50%;\n",
              "      cursor: pointer;\n",
              "      display: none;\n",
              "      fill: #1967D2;\n",
              "      height: 32px;\n",
              "      padding: 0 0 0 0;\n",
              "      width: 32px;\n",
              "    }\n",
              "\n",
              "    .colab-df-convert:hover {\n",
              "      background-color: #E2EBFA;\n",
              "      box-shadow: 0px 1px 2px rgba(60, 64, 67, 0.3), 0px 1px 3px 1px rgba(60, 64, 67, 0.15);\n",
              "      fill: #174EA6;\n",
              "    }\n",
              "\n",
              "    [theme=dark] .colab-df-convert {\n",
              "      background-color: #3B4455;\n",
              "      fill: #D2E3FC;\n",
              "    }\n",
              "\n",
              "    [theme=dark] .colab-df-convert:hover {\n",
              "      background-color: #434B5C;\n",
              "      box-shadow: 0px 1px 3px 1px rgba(0, 0, 0, 0.15);\n",
              "      filter: drop-shadow(0px 1px 2px rgba(0, 0, 0, 0.3));\n",
              "      fill: #FFFFFF;\n",
              "    }\n",
              "  </style>\n",
              "\n",
              "      <script>\n",
              "        const buttonEl =\n",
              "          document.querySelector('#df-641f14c6-aa05-4820-b425-e4cbed2d9249 button.colab-df-convert');\n",
              "        buttonEl.style.display =\n",
              "          google.colab.kernel.accessAllowed ? 'block' : 'none';\n",
              "\n",
              "        async function convertToInteractive(key) {\n",
              "          const element = document.querySelector('#df-641f14c6-aa05-4820-b425-e4cbed2d9249');\n",
              "          const dataTable =\n",
              "            await google.colab.kernel.invokeFunction('convertToInteractive',\n",
              "                                                     [key], {});\n",
              "          if (!dataTable) return;\n",
              "\n",
              "          const docLinkHtml = 'Like what you see? Visit the ' +\n",
              "            '<a target=\"_blank\" href=https://colab.research.google.com/notebooks/data_table.ipynb>data table notebook</a>'\n",
              "            + ' to learn more about interactive tables.';\n",
              "          element.innerHTML = '';\n",
              "          dataTable['output_type'] = 'display_data';\n",
              "          await google.colab.output.renderOutput(dataTable, element);\n",
              "          const docLink = document.createElement('div');\n",
              "          docLink.innerHTML = docLinkHtml;\n",
              "          element.appendChild(docLink);\n",
              "        }\n",
              "      </script>\n",
              "    </div>\n",
              "  </div>\n",
              "  "
            ]
          },
          "metadata": {},
          "execution_count": 299
        }
      ]
    },
    {
      "cell_type": "markdown",
      "source": [
        "**`Quantidade de inscritos por faixa etária**"
      ],
      "metadata": {
        "id": "e2D4-T-6vcO5"
      }
    },
    {
      "cell_type": "code",
      "source": [
        "#Utilizando sql para cantabilizar a idade \n",
        "query = \"\"\"SELECT NR_IDADE_DATA_POSSE, COUNT(NR_IDADE_DATA_POSSE) as total_inscritos_idade\n",
        "           FROM candidatos_goias\n",
        "           where NR_IDADE_DATA_POSSE >= 18\n",
        "           GROUP BY NR_IDADE_DATA_POSSE\n",
        "           ORDER BY COUNT(NR_IDADE_DATA_POSSE) DESC\"\"\"\n",
        "ps.sqldf(query.lower(), locals())"
      ],
      "metadata": {
        "colab": {
          "base_uri": "https://localhost:8080/",
          "height": 424
        },
        "id": "Pimp-Ou2sreR",
        "outputId": "2ec6b77a-bbf9-4614-cdb1-26dcec4825ce"
      },
      "execution_count": 300,
      "outputs": [
        {
          "output_type": "execute_result",
          "data": {
            "text/plain": [
              "    NR_IDADE_DATA_POSSE  total_inscritos_idade\n",
              "0                  46.0                   2484\n",
              "1                  47.0                   2432\n",
              "2                  43.0                   2385\n",
              "3                  44.0                   2381\n",
              "4                  42.0                   2375\n",
              "..                  ...                    ...\n",
              "69                 85.0                      1\n",
              "70                 88.0                      1\n",
              "71                 90.0                      1\n",
              "72                 91.0                      1\n",
              "73                 95.0                      1\n",
              "\n",
              "[74 rows x 2 columns]"
            ],
            "text/html": [
              "\n",
              "  <div id=\"df-23426852-2ce6-42f4-9494-bdb382db4e02\">\n",
              "    <div class=\"colab-df-container\">\n",
              "      <div>\n",
              "<style scoped>\n",
              "    .dataframe tbody tr th:only-of-type {\n",
              "        vertical-align: middle;\n",
              "    }\n",
              "\n",
              "    .dataframe tbody tr th {\n",
              "        vertical-align: top;\n",
              "    }\n",
              "\n",
              "    .dataframe thead th {\n",
              "        text-align: right;\n",
              "    }\n",
              "</style>\n",
              "<table border=\"1\" class=\"dataframe\">\n",
              "  <thead>\n",
              "    <tr style=\"text-align: right;\">\n",
              "      <th></th>\n",
              "      <th>NR_IDADE_DATA_POSSE</th>\n",
              "      <th>total_inscritos_idade</th>\n",
              "    </tr>\n",
              "  </thead>\n",
              "  <tbody>\n",
              "    <tr>\n",
              "      <th>0</th>\n",
              "      <td>46.0</td>\n",
              "      <td>2484</td>\n",
              "    </tr>\n",
              "    <tr>\n",
              "      <th>1</th>\n",
              "      <td>47.0</td>\n",
              "      <td>2432</td>\n",
              "    </tr>\n",
              "    <tr>\n",
              "      <th>2</th>\n",
              "      <td>43.0</td>\n",
              "      <td>2385</td>\n",
              "    </tr>\n",
              "    <tr>\n",
              "      <th>3</th>\n",
              "      <td>44.0</td>\n",
              "      <td>2381</td>\n",
              "    </tr>\n",
              "    <tr>\n",
              "      <th>4</th>\n",
              "      <td>42.0</td>\n",
              "      <td>2375</td>\n",
              "    </tr>\n",
              "    <tr>\n",
              "      <th>...</th>\n",
              "      <td>...</td>\n",
              "      <td>...</td>\n",
              "    </tr>\n",
              "    <tr>\n",
              "      <th>69</th>\n",
              "      <td>85.0</td>\n",
              "      <td>1</td>\n",
              "    </tr>\n",
              "    <tr>\n",
              "      <th>70</th>\n",
              "      <td>88.0</td>\n",
              "      <td>1</td>\n",
              "    </tr>\n",
              "    <tr>\n",
              "      <th>71</th>\n",
              "      <td>90.0</td>\n",
              "      <td>1</td>\n",
              "    </tr>\n",
              "    <tr>\n",
              "      <th>72</th>\n",
              "      <td>91.0</td>\n",
              "      <td>1</td>\n",
              "    </tr>\n",
              "    <tr>\n",
              "      <th>73</th>\n",
              "      <td>95.0</td>\n",
              "      <td>1</td>\n",
              "    </tr>\n",
              "  </tbody>\n",
              "</table>\n",
              "<p>74 rows × 2 columns</p>\n",
              "</div>\n",
              "      <button class=\"colab-df-convert\" onclick=\"convertToInteractive('df-23426852-2ce6-42f4-9494-bdb382db4e02')\"\n",
              "              title=\"Convert this dataframe to an interactive table.\"\n",
              "              style=\"display:none;\">\n",
              "        \n",
              "  <svg xmlns=\"http://www.w3.org/2000/svg\" height=\"24px\"viewBox=\"0 0 24 24\"\n",
              "       width=\"24px\">\n",
              "    <path d=\"M0 0h24v24H0V0z\" fill=\"none\"/>\n",
              "    <path d=\"M18.56 5.44l.94 2.06.94-2.06 2.06-.94-2.06-.94-.94-2.06-.94 2.06-2.06.94zm-11 1L8.5 8.5l.94-2.06 2.06-.94-2.06-.94L8.5 2.5l-.94 2.06-2.06.94zm10 10l.94 2.06.94-2.06 2.06-.94-2.06-.94-.94-2.06-.94 2.06-2.06.94z\"/><path d=\"M17.41 7.96l-1.37-1.37c-.4-.4-.92-.59-1.43-.59-.52 0-1.04.2-1.43.59L10.3 9.45l-7.72 7.72c-.78.78-.78 2.05 0 2.83L4 21.41c.39.39.9.59 1.41.59.51 0 1.02-.2 1.41-.59l7.78-7.78 2.81-2.81c.8-.78.8-2.07 0-2.86zM5.41 20L4 18.59l7.72-7.72 1.47 1.35L5.41 20z\"/>\n",
              "  </svg>\n",
              "      </button>\n",
              "      \n",
              "  <style>\n",
              "    .colab-df-container {\n",
              "      display:flex;\n",
              "      flex-wrap:wrap;\n",
              "      gap: 12px;\n",
              "    }\n",
              "\n",
              "    .colab-df-convert {\n",
              "      background-color: #E8F0FE;\n",
              "      border: none;\n",
              "      border-radius: 50%;\n",
              "      cursor: pointer;\n",
              "      display: none;\n",
              "      fill: #1967D2;\n",
              "      height: 32px;\n",
              "      padding: 0 0 0 0;\n",
              "      width: 32px;\n",
              "    }\n",
              "\n",
              "    .colab-df-convert:hover {\n",
              "      background-color: #E2EBFA;\n",
              "      box-shadow: 0px 1px 2px rgba(60, 64, 67, 0.3), 0px 1px 3px 1px rgba(60, 64, 67, 0.15);\n",
              "      fill: #174EA6;\n",
              "    }\n",
              "\n",
              "    [theme=dark] .colab-df-convert {\n",
              "      background-color: #3B4455;\n",
              "      fill: #D2E3FC;\n",
              "    }\n",
              "\n",
              "    [theme=dark] .colab-df-convert:hover {\n",
              "      background-color: #434B5C;\n",
              "      box-shadow: 0px 1px 3px 1px rgba(0, 0, 0, 0.15);\n",
              "      filter: drop-shadow(0px 1px 2px rgba(0, 0, 0, 0.3));\n",
              "      fill: #FFFFFF;\n",
              "    }\n",
              "  </style>\n",
              "\n",
              "      <script>\n",
              "        const buttonEl =\n",
              "          document.querySelector('#df-23426852-2ce6-42f4-9494-bdb382db4e02 button.colab-df-convert');\n",
              "        buttonEl.style.display =\n",
              "          google.colab.kernel.accessAllowed ? 'block' : 'none';\n",
              "\n",
              "        async function convertToInteractive(key) {\n",
              "          const element = document.querySelector('#df-23426852-2ce6-42f4-9494-bdb382db4e02');\n",
              "          const dataTable =\n",
              "            await google.colab.kernel.invokeFunction('convertToInteractive',\n",
              "                                                     [key], {});\n",
              "          if (!dataTable) return;\n",
              "\n",
              "          const docLinkHtml = 'Like what you see? Visit the ' +\n",
              "            '<a target=\"_blank\" href=https://colab.research.google.com/notebooks/data_table.ipynb>data table notebook</a>'\n",
              "            + ' to learn more about interactive tables.';\n",
              "          element.innerHTML = '';\n",
              "          dataTable['output_type'] = 'display_data';\n",
              "          await google.colab.output.renderOutput(dataTable, element);\n",
              "          const docLink = document.createElement('div');\n",
              "          docLink.innerHTML = docLinkHtml;\n",
              "          element.appendChild(docLink);\n",
              "        }\n",
              "      </script>\n",
              "    </div>\n",
              "  </div>\n",
              "  "
            ]
          },
          "metadata": {},
          "execution_count": 300
        }
      ]
    },
    {
      "cell_type": "markdown",
      "source": [
        "**Quantidade de inscritos por faixa etaria e genero.</br> faixa etária das mulheres X homens que se candidatam**\n"
      ],
      "metadata": {
        "id": "HiZb_OXoL6cu"
      }
    },
    {
      "cell_type": "code",
      "source": [
        "cadidato_feminino_idade = candidatos_goias[candidatos_goias['DS_GENERO'] == \"FEMININO\"]"
      ],
      "metadata": {
        "id": "3_uU4whEMH11"
      },
      "execution_count": 301,
      "outputs": []
    },
    {
      "cell_type": "code",
      "source": [
        "candidato_masculino_idade = candidatos_goias[candidatos_goias['DS_GENERO'] == \"MASCULINO\"]"
      ],
      "metadata": {
        "id": "M-ISX-ERMQwn"
      },
      "execution_count": 302,
      "outputs": []
    },
    {
      "cell_type": "markdown",
      "source": [
        "**Faixa etária das mulheres que mais se candidatam**"
      ],
      "metadata": {
        "id": "yZeGxAMAMrCv"
      }
    },
    {
      "cell_type": "code",
      "source": [
        "#Utilizando sql para contabilizar eleitos masculino por idade\n",
        "query = \"\"\"SELECT  NR_IDADE_DATA_POSSE,COUNT(NR_IDADE_DATA_POSSE) as total_idade\n",
        "           FROM cadidato_feminino_idade\n",
        "           GROUP BY NR_IDADE_DATA_POSSE\n",
        "           ORDER BY COUNT(NR_IDADE_DATA_POSSE) DESC\n",
        "           limit 10\n",
        "           \"\"\"\n",
        "ps.sqldf(query.lower(), locals())"
      ],
      "metadata": {
        "colab": {
          "base_uri": "https://localhost:8080/",
          "height": 363
        },
        "id": "DFnFmCqqMqML",
        "outputId": "6b55024f-9554-4102-b04f-0f29eeb46c51"
      },
      "execution_count": 303,
      "outputs": [
        {
          "output_type": "execute_result",
          "data": {
            "text/plain": [
              "   NR_IDADE_DATA_POSSE  total_idade\n",
              "0                 44.0          785\n",
              "1                 47.0          770\n",
              "2                 46.0          762\n",
              "3                 43.0          759\n",
              "4                 42.0          748\n",
              "5                 41.0          722\n",
              "6                 48.0          720\n",
              "7                 40.0          718\n",
              "8                 39.0          717\n",
              "9                 38.0          707"
            ],
            "text/html": [
              "\n",
              "  <div id=\"df-bd77cf74-d827-422c-9b7f-2a4827ffdd13\">\n",
              "    <div class=\"colab-df-container\">\n",
              "      <div>\n",
              "<style scoped>\n",
              "    .dataframe tbody tr th:only-of-type {\n",
              "        vertical-align: middle;\n",
              "    }\n",
              "\n",
              "    .dataframe tbody tr th {\n",
              "        vertical-align: top;\n",
              "    }\n",
              "\n",
              "    .dataframe thead th {\n",
              "        text-align: right;\n",
              "    }\n",
              "</style>\n",
              "<table border=\"1\" class=\"dataframe\">\n",
              "  <thead>\n",
              "    <tr style=\"text-align: right;\">\n",
              "      <th></th>\n",
              "      <th>NR_IDADE_DATA_POSSE</th>\n",
              "      <th>total_idade</th>\n",
              "    </tr>\n",
              "  </thead>\n",
              "  <tbody>\n",
              "    <tr>\n",
              "      <th>0</th>\n",
              "      <td>44.0</td>\n",
              "      <td>785</td>\n",
              "    </tr>\n",
              "    <tr>\n",
              "      <th>1</th>\n",
              "      <td>47.0</td>\n",
              "      <td>770</td>\n",
              "    </tr>\n",
              "    <tr>\n",
              "      <th>2</th>\n",
              "      <td>46.0</td>\n",
              "      <td>762</td>\n",
              "    </tr>\n",
              "    <tr>\n",
              "      <th>3</th>\n",
              "      <td>43.0</td>\n",
              "      <td>759</td>\n",
              "    </tr>\n",
              "    <tr>\n",
              "      <th>4</th>\n",
              "      <td>42.0</td>\n",
              "      <td>748</td>\n",
              "    </tr>\n",
              "    <tr>\n",
              "      <th>5</th>\n",
              "      <td>41.0</td>\n",
              "      <td>722</td>\n",
              "    </tr>\n",
              "    <tr>\n",
              "      <th>6</th>\n",
              "      <td>48.0</td>\n",
              "      <td>720</td>\n",
              "    </tr>\n",
              "    <tr>\n",
              "      <th>7</th>\n",
              "      <td>40.0</td>\n",
              "      <td>718</td>\n",
              "    </tr>\n",
              "    <tr>\n",
              "      <th>8</th>\n",
              "      <td>39.0</td>\n",
              "      <td>717</td>\n",
              "    </tr>\n",
              "    <tr>\n",
              "      <th>9</th>\n",
              "      <td>38.0</td>\n",
              "      <td>707</td>\n",
              "    </tr>\n",
              "  </tbody>\n",
              "</table>\n",
              "</div>\n",
              "      <button class=\"colab-df-convert\" onclick=\"convertToInteractive('df-bd77cf74-d827-422c-9b7f-2a4827ffdd13')\"\n",
              "              title=\"Convert this dataframe to an interactive table.\"\n",
              "              style=\"display:none;\">\n",
              "        \n",
              "  <svg xmlns=\"http://www.w3.org/2000/svg\" height=\"24px\"viewBox=\"0 0 24 24\"\n",
              "       width=\"24px\">\n",
              "    <path d=\"M0 0h24v24H0V0z\" fill=\"none\"/>\n",
              "    <path d=\"M18.56 5.44l.94 2.06.94-2.06 2.06-.94-2.06-.94-.94-2.06-.94 2.06-2.06.94zm-11 1L8.5 8.5l.94-2.06 2.06-.94-2.06-.94L8.5 2.5l-.94 2.06-2.06.94zm10 10l.94 2.06.94-2.06 2.06-.94-2.06-.94-.94-2.06-.94 2.06-2.06.94z\"/><path d=\"M17.41 7.96l-1.37-1.37c-.4-.4-.92-.59-1.43-.59-.52 0-1.04.2-1.43.59L10.3 9.45l-7.72 7.72c-.78.78-.78 2.05 0 2.83L4 21.41c.39.39.9.59 1.41.59.51 0 1.02-.2 1.41-.59l7.78-7.78 2.81-2.81c.8-.78.8-2.07 0-2.86zM5.41 20L4 18.59l7.72-7.72 1.47 1.35L5.41 20z\"/>\n",
              "  </svg>\n",
              "      </button>\n",
              "      \n",
              "  <style>\n",
              "    .colab-df-container {\n",
              "      display:flex;\n",
              "      flex-wrap:wrap;\n",
              "      gap: 12px;\n",
              "    }\n",
              "\n",
              "    .colab-df-convert {\n",
              "      background-color: #E8F0FE;\n",
              "      border: none;\n",
              "      border-radius: 50%;\n",
              "      cursor: pointer;\n",
              "      display: none;\n",
              "      fill: #1967D2;\n",
              "      height: 32px;\n",
              "      padding: 0 0 0 0;\n",
              "      width: 32px;\n",
              "    }\n",
              "\n",
              "    .colab-df-convert:hover {\n",
              "      background-color: #E2EBFA;\n",
              "      box-shadow: 0px 1px 2px rgba(60, 64, 67, 0.3), 0px 1px 3px 1px rgba(60, 64, 67, 0.15);\n",
              "      fill: #174EA6;\n",
              "    }\n",
              "\n",
              "    [theme=dark] .colab-df-convert {\n",
              "      background-color: #3B4455;\n",
              "      fill: #D2E3FC;\n",
              "    }\n",
              "\n",
              "    [theme=dark] .colab-df-convert:hover {\n",
              "      background-color: #434B5C;\n",
              "      box-shadow: 0px 1px 3px 1px rgba(0, 0, 0, 0.15);\n",
              "      filter: drop-shadow(0px 1px 2px rgba(0, 0, 0, 0.3));\n",
              "      fill: #FFFFFF;\n",
              "    }\n",
              "  </style>\n",
              "\n",
              "      <script>\n",
              "        const buttonEl =\n",
              "          document.querySelector('#df-bd77cf74-d827-422c-9b7f-2a4827ffdd13 button.colab-df-convert');\n",
              "        buttonEl.style.display =\n",
              "          google.colab.kernel.accessAllowed ? 'block' : 'none';\n",
              "\n",
              "        async function convertToInteractive(key) {\n",
              "          const element = document.querySelector('#df-bd77cf74-d827-422c-9b7f-2a4827ffdd13');\n",
              "          const dataTable =\n",
              "            await google.colab.kernel.invokeFunction('convertToInteractive',\n",
              "                                                     [key], {});\n",
              "          if (!dataTable) return;\n",
              "\n",
              "          const docLinkHtml = 'Like what you see? Visit the ' +\n",
              "            '<a target=\"_blank\" href=https://colab.research.google.com/notebooks/data_table.ipynb>data table notebook</a>'\n",
              "            + ' to learn more about interactive tables.';\n",
              "          element.innerHTML = '';\n",
              "          dataTable['output_type'] = 'display_data';\n",
              "          await google.colab.output.renderOutput(dataTable, element);\n",
              "          const docLink = document.createElement('div');\n",
              "          docLink.innerHTML = docLinkHtml;\n",
              "          element.appendChild(docLink);\n",
              "        }\n",
              "      </script>\n",
              "    </div>\n",
              "  </div>\n",
              "  "
            ]
          },
          "metadata": {},
          "execution_count": 303
        }
      ]
    },
    {
      "cell_type": "markdown",
      "source": [
        "**Faixa etária dos homens que mais se candidatam**"
      ],
      "metadata": {
        "id": "ki29KWWhMuHf"
      }
    },
    {
      "cell_type": "code",
      "source": [
        "#Utilizando sql para contabilizar eleitos masculino por idade\n",
        "query = \"\"\"SELECT NR_IDADE_DATA_POSSE,COUNT(NR_IDADE_DATA_POSSE) as total_idade\n",
        "           FROM candidato_masculino_idade \n",
        "           GROUP BY NR_IDADE_DATA_POSSE\n",
        "           ORDER BY COUNT(NR_IDADE_DATA_POSSE) DESC\n",
        "           limit 10\n",
        "           \"\"\"\n",
        "ps.sqldf(query.lower(), locals())"
      ],
      "metadata": {
        "colab": {
          "base_uri": "https://localhost:8080/",
          "height": 363
        },
        "id": "acBNZtIRMy_d",
        "outputId": "d71f88b5-6bc9-4119-ae25-1fb76cf63463"
      },
      "execution_count": 304,
      "outputs": [
        {
          "output_type": "execute_result",
          "data": {
            "text/plain": [
              "   NR_IDADE_DATA_POSSE  total_idade\n",
              "0                 46.0         1722\n",
              "1                 47.0         1662\n",
              "2                 42.0         1627\n",
              "3                 43.0         1626\n",
              "4                 41.0         1624\n",
              "5                 44.0         1596\n",
              "6                 45.0         1592\n",
              "7                 40.0         1546\n",
              "8                 50.0         1539\n",
              "9                 38.0         1533"
            ],
            "text/html": [
              "\n",
              "  <div id=\"df-977d7d2a-9795-4cbf-b0d3-f49d79a07965\">\n",
              "    <div class=\"colab-df-container\">\n",
              "      <div>\n",
              "<style scoped>\n",
              "    .dataframe tbody tr th:only-of-type {\n",
              "        vertical-align: middle;\n",
              "    }\n",
              "\n",
              "    .dataframe tbody tr th {\n",
              "        vertical-align: top;\n",
              "    }\n",
              "\n",
              "    .dataframe thead th {\n",
              "        text-align: right;\n",
              "    }\n",
              "</style>\n",
              "<table border=\"1\" class=\"dataframe\">\n",
              "  <thead>\n",
              "    <tr style=\"text-align: right;\">\n",
              "      <th></th>\n",
              "      <th>NR_IDADE_DATA_POSSE</th>\n",
              "      <th>total_idade</th>\n",
              "    </tr>\n",
              "  </thead>\n",
              "  <tbody>\n",
              "    <tr>\n",
              "      <th>0</th>\n",
              "      <td>46.0</td>\n",
              "      <td>1722</td>\n",
              "    </tr>\n",
              "    <tr>\n",
              "      <th>1</th>\n",
              "      <td>47.0</td>\n",
              "      <td>1662</td>\n",
              "    </tr>\n",
              "    <tr>\n",
              "      <th>2</th>\n",
              "      <td>42.0</td>\n",
              "      <td>1627</td>\n",
              "    </tr>\n",
              "    <tr>\n",
              "      <th>3</th>\n",
              "      <td>43.0</td>\n",
              "      <td>1626</td>\n",
              "    </tr>\n",
              "    <tr>\n",
              "      <th>4</th>\n",
              "      <td>41.0</td>\n",
              "      <td>1624</td>\n",
              "    </tr>\n",
              "    <tr>\n",
              "      <th>5</th>\n",
              "      <td>44.0</td>\n",
              "      <td>1596</td>\n",
              "    </tr>\n",
              "    <tr>\n",
              "      <th>6</th>\n",
              "      <td>45.0</td>\n",
              "      <td>1592</td>\n",
              "    </tr>\n",
              "    <tr>\n",
              "      <th>7</th>\n",
              "      <td>40.0</td>\n",
              "      <td>1546</td>\n",
              "    </tr>\n",
              "    <tr>\n",
              "      <th>8</th>\n",
              "      <td>50.0</td>\n",
              "      <td>1539</td>\n",
              "    </tr>\n",
              "    <tr>\n",
              "      <th>9</th>\n",
              "      <td>38.0</td>\n",
              "      <td>1533</td>\n",
              "    </tr>\n",
              "  </tbody>\n",
              "</table>\n",
              "</div>\n",
              "      <button class=\"colab-df-convert\" onclick=\"convertToInteractive('df-977d7d2a-9795-4cbf-b0d3-f49d79a07965')\"\n",
              "              title=\"Convert this dataframe to an interactive table.\"\n",
              "              style=\"display:none;\">\n",
              "        \n",
              "  <svg xmlns=\"http://www.w3.org/2000/svg\" height=\"24px\"viewBox=\"0 0 24 24\"\n",
              "       width=\"24px\">\n",
              "    <path d=\"M0 0h24v24H0V0z\" fill=\"none\"/>\n",
              "    <path d=\"M18.56 5.44l.94 2.06.94-2.06 2.06-.94-2.06-.94-.94-2.06-.94 2.06-2.06.94zm-11 1L8.5 8.5l.94-2.06 2.06-.94-2.06-.94L8.5 2.5l-.94 2.06-2.06.94zm10 10l.94 2.06.94-2.06 2.06-.94-2.06-.94-.94-2.06-.94 2.06-2.06.94z\"/><path d=\"M17.41 7.96l-1.37-1.37c-.4-.4-.92-.59-1.43-.59-.52 0-1.04.2-1.43.59L10.3 9.45l-7.72 7.72c-.78.78-.78 2.05 0 2.83L4 21.41c.39.39.9.59 1.41.59.51 0 1.02-.2 1.41-.59l7.78-7.78 2.81-2.81c.8-.78.8-2.07 0-2.86zM5.41 20L4 18.59l7.72-7.72 1.47 1.35L5.41 20z\"/>\n",
              "  </svg>\n",
              "      </button>\n",
              "      \n",
              "  <style>\n",
              "    .colab-df-container {\n",
              "      display:flex;\n",
              "      flex-wrap:wrap;\n",
              "      gap: 12px;\n",
              "    }\n",
              "\n",
              "    .colab-df-convert {\n",
              "      background-color: #E8F0FE;\n",
              "      border: none;\n",
              "      border-radius: 50%;\n",
              "      cursor: pointer;\n",
              "      display: none;\n",
              "      fill: #1967D2;\n",
              "      height: 32px;\n",
              "      padding: 0 0 0 0;\n",
              "      width: 32px;\n",
              "    }\n",
              "\n",
              "    .colab-df-convert:hover {\n",
              "      background-color: #E2EBFA;\n",
              "      box-shadow: 0px 1px 2px rgba(60, 64, 67, 0.3), 0px 1px 3px 1px rgba(60, 64, 67, 0.15);\n",
              "      fill: #174EA6;\n",
              "    }\n",
              "\n",
              "    [theme=dark] .colab-df-convert {\n",
              "      background-color: #3B4455;\n",
              "      fill: #D2E3FC;\n",
              "    }\n",
              "\n",
              "    [theme=dark] .colab-df-convert:hover {\n",
              "      background-color: #434B5C;\n",
              "      box-shadow: 0px 1px 3px 1px rgba(0, 0, 0, 0.15);\n",
              "      filter: drop-shadow(0px 1px 2px rgba(0, 0, 0, 0.3));\n",
              "      fill: #FFFFFF;\n",
              "    }\n",
              "  </style>\n",
              "\n",
              "      <script>\n",
              "        const buttonEl =\n",
              "          document.querySelector('#df-977d7d2a-9795-4cbf-b0d3-f49d79a07965 button.colab-df-convert');\n",
              "        buttonEl.style.display =\n",
              "          google.colab.kernel.accessAllowed ? 'block' : 'none';\n",
              "\n",
              "        async function convertToInteractive(key) {\n",
              "          const element = document.querySelector('#df-977d7d2a-9795-4cbf-b0d3-f49d79a07965');\n",
              "          const dataTable =\n",
              "            await google.colab.kernel.invokeFunction('convertToInteractive',\n",
              "                                                     [key], {});\n",
              "          if (!dataTable) return;\n",
              "\n",
              "          const docLinkHtml = 'Like what you see? Visit the ' +\n",
              "            '<a target=\"_blank\" href=https://colab.research.google.com/notebooks/data_table.ipynb>data table notebook</a>'\n",
              "            + ' to learn more about interactive tables.';\n",
              "          element.innerHTML = '';\n",
              "          dataTable['output_type'] = 'display_data';\n",
              "          await google.colab.output.renderOutput(dataTable, element);\n",
              "          const docLink = document.createElement('div');\n",
              "          docLink.innerHTML = docLinkHtml;\n",
              "          element.appendChild(docLink);\n",
              "        }\n",
              "      </script>\n",
              "    </div>\n",
              "  </div>\n",
              "  "
            ]
          },
          "metadata": {},
          "execution_count": 304
        }
      ]
    },
    {
      "cell_type": "markdown",
      "source": [
        "**Porcentagem de inscritos pela idade**"
      ],
      "metadata": {
        "id": "61LV8ENDu7wh"
      }
    },
    {
      "cell_type": "code",
      "source": [
        "porc_inscritos_idade  = candidatos_goias['NR_IDADE_DATA_POSSE'].value_counts() / 71129 * 100 \n",
        "porc_inscritos_idade"
      ],
      "metadata": {
        "colab": {
          "base_uri": "https://localhost:8080/"
        },
        "id": "BTWunjI1s9m8",
        "outputId": "3761e1b9-977b-4103-a96b-f3965595ba5d"
      },
      "execution_count": 305,
      "outputs": [
        {
          "output_type": "execute_result",
          "data": {
            "text/plain": [
              "46.0    3.492246\n",
              "47.0    3.419140\n",
              "43.0    3.353063\n",
              "44.0    3.347439\n",
              "42.0    3.339004\n",
              "          ...   \n",
              "91.0    0.001406\n",
              "90.0    0.001406\n",
              "95.0    0.001406\n",
              "85.0    0.001406\n",
              "88.0    0.001406\n",
              "Name: NR_IDADE_DATA_POSSE, Length: 74, dtype: float64"
            ]
          },
          "metadata": {},
          "execution_count": 305
        }
      ]
    },
    {
      "cell_type": "markdown",
      "source": [
        "`Idade minima e maxima que participaram das eleições`"
      ],
      "metadata": {
        "id": "tPMA6ExixCLY"
      }
    },
    {
      "cell_type": "code",
      "source": [
        "candidatos_goias['NR_IDADE_DATA_POSSE'].max()"
      ],
      "metadata": {
        "colab": {
          "base_uri": "https://localhost:8080/"
        },
        "id": "FHm2edGKvFa_",
        "outputId": "021ce074-2991-484f-b653-b423c55e0ec9"
      },
      "execution_count": 306,
      "outputs": [
        {
          "output_type": "execute_result",
          "data": {
            "text/plain": [
              "95.0"
            ]
          },
          "metadata": {},
          "execution_count": 306
        }
      ]
    },
    {
      "cell_type": "code",
      "source": [
        "candidatos_goias['NR_IDADE_DATA_POSSE'].min()"
      ],
      "metadata": {
        "colab": {
          "base_uri": "https://localhost:8080/"
        },
        "id": "WgqWitklxK0J",
        "outputId": "7058619b-cee0-416e-ee3a-cb34b3d7959d"
      },
      "execution_count": 307,
      "outputs": [
        {
          "output_type": "execute_result",
          "data": {
            "text/plain": [
              "18.0"
            ]
          },
          "metadata": {},
          "execution_count": 307
        }
      ]
    },
    {
      "cell_type": "markdown",
      "source": [
        "**Vamos comparar a porcentagem de candidatos por idade. idade entre 18 até 30 e de 31 até 50**"
      ],
      "metadata": {
        "id": "BNXzQP68yNYT"
      }
    },
    {
      "cell_type": "code",
      "source": [
        "#Utilizando sql para cantabilizar a idade de 18 até 30 \n",
        "query = \"\"\"SELECT COUNT(NR_IDADE_DATA_POSSE) as total_inscritos_idade\n",
        "           FROM candidatos_goias\n",
        "           where NR_IDADE_DATA_POSSE >= 18 and NR_IDADE_DATA_POSSE <=30\n",
        "           \"\"\"\n",
        "ps.sqldf(query.lower(), locals())"
      ],
      "metadata": {
        "colab": {
          "base_uri": "https://localhost:8080/",
          "height": 81
        },
        "id": "9XvuxLiax0Zg",
        "outputId": "3b8256fa-597c-485b-c25e-f6ee7ef03ac7"
      },
      "execution_count": 308,
      "outputs": [
        {
          "output_type": "execute_result",
          "data": {
            "text/plain": [
              "   total_inscritos_idade\n",
              "0                   8229"
            ],
            "text/html": [
              "\n",
              "  <div id=\"df-c291d69f-99e7-4a06-8492-1c2bb4e5a7fa\">\n",
              "    <div class=\"colab-df-container\">\n",
              "      <div>\n",
              "<style scoped>\n",
              "    .dataframe tbody tr th:only-of-type {\n",
              "        vertical-align: middle;\n",
              "    }\n",
              "\n",
              "    .dataframe tbody tr th {\n",
              "        vertical-align: top;\n",
              "    }\n",
              "\n",
              "    .dataframe thead th {\n",
              "        text-align: right;\n",
              "    }\n",
              "</style>\n",
              "<table border=\"1\" class=\"dataframe\">\n",
              "  <thead>\n",
              "    <tr style=\"text-align: right;\">\n",
              "      <th></th>\n",
              "      <th>total_inscritos_idade</th>\n",
              "    </tr>\n",
              "  </thead>\n",
              "  <tbody>\n",
              "    <tr>\n",
              "      <th>0</th>\n",
              "      <td>8229</td>\n",
              "    </tr>\n",
              "  </tbody>\n",
              "</table>\n",
              "</div>\n",
              "      <button class=\"colab-df-convert\" onclick=\"convertToInteractive('df-c291d69f-99e7-4a06-8492-1c2bb4e5a7fa')\"\n",
              "              title=\"Convert this dataframe to an interactive table.\"\n",
              "              style=\"display:none;\">\n",
              "        \n",
              "  <svg xmlns=\"http://www.w3.org/2000/svg\" height=\"24px\"viewBox=\"0 0 24 24\"\n",
              "       width=\"24px\">\n",
              "    <path d=\"M0 0h24v24H0V0z\" fill=\"none\"/>\n",
              "    <path d=\"M18.56 5.44l.94 2.06.94-2.06 2.06-.94-2.06-.94-.94-2.06-.94 2.06-2.06.94zm-11 1L8.5 8.5l.94-2.06 2.06-.94-2.06-.94L8.5 2.5l-.94 2.06-2.06.94zm10 10l.94 2.06.94-2.06 2.06-.94-2.06-.94-.94-2.06-.94 2.06-2.06.94z\"/><path d=\"M17.41 7.96l-1.37-1.37c-.4-.4-.92-.59-1.43-.59-.52 0-1.04.2-1.43.59L10.3 9.45l-7.72 7.72c-.78.78-.78 2.05 0 2.83L4 21.41c.39.39.9.59 1.41.59.51 0 1.02-.2 1.41-.59l7.78-7.78 2.81-2.81c.8-.78.8-2.07 0-2.86zM5.41 20L4 18.59l7.72-7.72 1.47 1.35L5.41 20z\"/>\n",
              "  </svg>\n",
              "      </button>\n",
              "      \n",
              "  <style>\n",
              "    .colab-df-container {\n",
              "      display:flex;\n",
              "      flex-wrap:wrap;\n",
              "      gap: 12px;\n",
              "    }\n",
              "\n",
              "    .colab-df-convert {\n",
              "      background-color: #E8F0FE;\n",
              "      border: none;\n",
              "      border-radius: 50%;\n",
              "      cursor: pointer;\n",
              "      display: none;\n",
              "      fill: #1967D2;\n",
              "      height: 32px;\n",
              "      padding: 0 0 0 0;\n",
              "      width: 32px;\n",
              "    }\n",
              "\n",
              "    .colab-df-convert:hover {\n",
              "      background-color: #E2EBFA;\n",
              "      box-shadow: 0px 1px 2px rgba(60, 64, 67, 0.3), 0px 1px 3px 1px rgba(60, 64, 67, 0.15);\n",
              "      fill: #174EA6;\n",
              "    }\n",
              "\n",
              "    [theme=dark] .colab-df-convert {\n",
              "      background-color: #3B4455;\n",
              "      fill: #D2E3FC;\n",
              "    }\n",
              "\n",
              "    [theme=dark] .colab-df-convert:hover {\n",
              "      background-color: #434B5C;\n",
              "      box-shadow: 0px 1px 3px 1px rgba(0, 0, 0, 0.15);\n",
              "      filter: drop-shadow(0px 1px 2px rgba(0, 0, 0, 0.3));\n",
              "      fill: #FFFFFF;\n",
              "    }\n",
              "  </style>\n",
              "\n",
              "      <script>\n",
              "        const buttonEl =\n",
              "          document.querySelector('#df-c291d69f-99e7-4a06-8492-1c2bb4e5a7fa button.colab-df-convert');\n",
              "        buttonEl.style.display =\n",
              "          google.colab.kernel.accessAllowed ? 'block' : 'none';\n",
              "\n",
              "        async function convertToInteractive(key) {\n",
              "          const element = document.querySelector('#df-c291d69f-99e7-4a06-8492-1c2bb4e5a7fa');\n",
              "          const dataTable =\n",
              "            await google.colab.kernel.invokeFunction('convertToInteractive',\n",
              "                                                     [key], {});\n",
              "          if (!dataTable) return;\n",
              "\n",
              "          const docLinkHtml = 'Like what you see? Visit the ' +\n",
              "            '<a target=\"_blank\" href=https://colab.research.google.com/notebooks/data_table.ipynb>data table notebook</a>'\n",
              "            + ' to learn more about interactive tables.';\n",
              "          element.innerHTML = '';\n",
              "          dataTable['output_type'] = 'display_data';\n",
              "          await google.colab.output.renderOutput(dataTable, element);\n",
              "          const docLink = document.createElement('div');\n",
              "          docLink.innerHTML = docLinkHtml;\n",
              "          element.appendChild(docLink);\n",
              "        }\n",
              "      </script>\n",
              "    </div>\n",
              "  </div>\n",
              "  "
            ]
          },
          "metadata": {},
          "execution_count": 308
        }
      ]
    },
    {
      "cell_type": "code",
      "source": [
        "#Porcentagem \n",
        "porc_idade = (8229/71129) * 100\n",
        "print('A porcentagem por idade entre 18 até 30 é: {:.2f}'.format(porc_idade))\n"
      ],
      "metadata": {
        "colab": {
          "base_uri": "https://localhost:8080/"
        },
        "id": "_f-5uIwDzl4M",
        "outputId": "fb4032e1-d2d6-436d-e2ae-501ca8102f00"
      },
      "execution_count": 309,
      "outputs": [
        {
          "output_type": "stream",
          "name": "stdout",
          "text": [
            "A porcentagem por idade entre 18 até 30 é: 11.57\n"
          ]
        }
      ]
    },
    {
      "cell_type": "code",
      "source": [
        "#Utilizando sql para cantabilizar a idade de 18 até 30 \n",
        "query = \"\"\"SELECT COUNT(NR_IDADE_DATA_POSSE) as total_inscritos_idade\n",
        "           FROM candidatos_goias\n",
        "           where NR_IDADE_DATA_POSSE >= 31 and NR_IDADE_DATA_POSSE <=50\n",
        "           \"\"\"\n",
        "ps.sqldf(query.lower(), locals())"
      ],
      "metadata": {
        "colab": {
          "base_uri": "https://localhost:8080/",
          "height": 81
        },
        "id": "0zyYb5FCyoRI",
        "outputId": "a54a27a0-0ac4-4aca-fa05-d7bea30c8b13"
      },
      "execution_count": 310,
      "outputs": [
        {
          "output_type": "execute_result",
          "data": {
            "text/plain": [
              "   total_inscritos_idade\n",
              "0                  41991"
            ],
            "text/html": [
              "\n",
              "  <div id=\"df-a82a4e83-0bc7-4dea-9047-27abe68a4c36\">\n",
              "    <div class=\"colab-df-container\">\n",
              "      <div>\n",
              "<style scoped>\n",
              "    .dataframe tbody tr th:only-of-type {\n",
              "        vertical-align: middle;\n",
              "    }\n",
              "\n",
              "    .dataframe tbody tr th {\n",
              "        vertical-align: top;\n",
              "    }\n",
              "\n",
              "    .dataframe thead th {\n",
              "        text-align: right;\n",
              "    }\n",
              "</style>\n",
              "<table border=\"1\" class=\"dataframe\">\n",
              "  <thead>\n",
              "    <tr style=\"text-align: right;\">\n",
              "      <th></th>\n",
              "      <th>total_inscritos_idade</th>\n",
              "    </tr>\n",
              "  </thead>\n",
              "  <tbody>\n",
              "    <tr>\n",
              "      <th>0</th>\n",
              "      <td>41991</td>\n",
              "    </tr>\n",
              "  </tbody>\n",
              "</table>\n",
              "</div>\n",
              "      <button class=\"colab-df-convert\" onclick=\"convertToInteractive('df-a82a4e83-0bc7-4dea-9047-27abe68a4c36')\"\n",
              "              title=\"Convert this dataframe to an interactive table.\"\n",
              "              style=\"display:none;\">\n",
              "        \n",
              "  <svg xmlns=\"http://www.w3.org/2000/svg\" height=\"24px\"viewBox=\"0 0 24 24\"\n",
              "       width=\"24px\">\n",
              "    <path d=\"M0 0h24v24H0V0z\" fill=\"none\"/>\n",
              "    <path d=\"M18.56 5.44l.94 2.06.94-2.06 2.06-.94-2.06-.94-.94-2.06-.94 2.06-2.06.94zm-11 1L8.5 8.5l.94-2.06 2.06-.94-2.06-.94L8.5 2.5l-.94 2.06-2.06.94zm10 10l.94 2.06.94-2.06 2.06-.94-2.06-.94-.94-2.06-.94 2.06-2.06.94z\"/><path d=\"M17.41 7.96l-1.37-1.37c-.4-.4-.92-.59-1.43-.59-.52 0-1.04.2-1.43.59L10.3 9.45l-7.72 7.72c-.78.78-.78 2.05 0 2.83L4 21.41c.39.39.9.59 1.41.59.51 0 1.02-.2 1.41-.59l7.78-7.78 2.81-2.81c.8-.78.8-2.07 0-2.86zM5.41 20L4 18.59l7.72-7.72 1.47 1.35L5.41 20z\"/>\n",
              "  </svg>\n",
              "      </button>\n",
              "      \n",
              "  <style>\n",
              "    .colab-df-container {\n",
              "      display:flex;\n",
              "      flex-wrap:wrap;\n",
              "      gap: 12px;\n",
              "    }\n",
              "\n",
              "    .colab-df-convert {\n",
              "      background-color: #E8F0FE;\n",
              "      border: none;\n",
              "      border-radius: 50%;\n",
              "      cursor: pointer;\n",
              "      display: none;\n",
              "      fill: #1967D2;\n",
              "      height: 32px;\n",
              "      padding: 0 0 0 0;\n",
              "      width: 32px;\n",
              "    }\n",
              "\n",
              "    .colab-df-convert:hover {\n",
              "      background-color: #E2EBFA;\n",
              "      box-shadow: 0px 1px 2px rgba(60, 64, 67, 0.3), 0px 1px 3px 1px rgba(60, 64, 67, 0.15);\n",
              "      fill: #174EA6;\n",
              "    }\n",
              "\n",
              "    [theme=dark] .colab-df-convert {\n",
              "      background-color: #3B4455;\n",
              "      fill: #D2E3FC;\n",
              "    }\n",
              "\n",
              "    [theme=dark] .colab-df-convert:hover {\n",
              "      background-color: #434B5C;\n",
              "      box-shadow: 0px 1px 3px 1px rgba(0, 0, 0, 0.15);\n",
              "      filter: drop-shadow(0px 1px 2px rgba(0, 0, 0, 0.3));\n",
              "      fill: #FFFFFF;\n",
              "    }\n",
              "  </style>\n",
              "\n",
              "      <script>\n",
              "        const buttonEl =\n",
              "          document.querySelector('#df-a82a4e83-0bc7-4dea-9047-27abe68a4c36 button.colab-df-convert');\n",
              "        buttonEl.style.display =\n",
              "          google.colab.kernel.accessAllowed ? 'block' : 'none';\n",
              "\n",
              "        async function convertToInteractive(key) {\n",
              "          const element = document.querySelector('#df-a82a4e83-0bc7-4dea-9047-27abe68a4c36');\n",
              "          const dataTable =\n",
              "            await google.colab.kernel.invokeFunction('convertToInteractive',\n",
              "                                                     [key], {});\n",
              "          if (!dataTable) return;\n",
              "\n",
              "          const docLinkHtml = 'Like what you see? Visit the ' +\n",
              "            '<a target=\"_blank\" href=https://colab.research.google.com/notebooks/data_table.ipynb>data table notebook</a>'\n",
              "            + ' to learn more about interactive tables.';\n",
              "          element.innerHTML = '';\n",
              "          dataTable['output_type'] = 'display_data';\n",
              "          await google.colab.output.renderOutput(dataTable, element);\n",
              "          const docLink = document.createElement('div');\n",
              "          docLink.innerHTML = docLinkHtml;\n",
              "          element.appendChild(docLink);\n",
              "        }\n",
              "      </script>\n",
              "    </div>\n",
              "  </div>\n",
              "  "
            ]
          },
          "metadata": {},
          "execution_count": 310
        }
      ]
    },
    {
      "cell_type": "code",
      "source": [
        "#Porcentagem \n",
        "porc_idade = (41991/71129) * 100\n",
        "print('A porcentagem por idade entre 31 até 50 é: {:.2f}'.format(porc_idade))"
      ],
      "metadata": {
        "colab": {
          "base_uri": "https://localhost:8080/"
        },
        "id": "3B8Kh9zty9Yb",
        "outputId": "6d798bb4-5180-435f-e579-a47c89efabd8"
      },
      "execution_count": 311,
      "outputs": [
        {
          "output_type": "stream",
          "name": "stdout",
          "text": [
            "A porcentagem por idade entre 31 até 50 é: 59.03\n"
          ]
        }
      ]
    },
    {
      "cell_type": "markdown",
      "source": [
        "**Analisando a quantidade de mulheres X homens candidatos**"
      ],
      "metadata": {
        "id": "oG-ymCKQ1onW"
      }
    },
    {
      "cell_type": "code",
      "source": [
        "candidatos_goias['DS_GENERO'].unique()"
      ],
      "metadata": {
        "colab": {
          "base_uri": "https://localhost:8080/"
        },
        "id": "qUD5UYm32Q8u",
        "outputId": "1b215227-e1d0-40f2-df3c-362938413185"
      },
      "execution_count": 312,
      "outputs": [
        {
          "output_type": "execute_result",
          "data": {
            "text/plain": [
              "array(['MASCULINO', 'FEMININO'], dtype=object)"
            ]
          },
          "metadata": {},
          "execution_count": 312
        }
      ]
    },
    {
      "cell_type": "code",
      "source": [
        "#Utilizando sql para cantabilizar por genero/candidatos\n",
        "query = \"\"\"SELECT DS_GENERO,COUNT(DS_GENERO) as total_inscritos_genero\n",
        "           FROM candidatos_goias\n",
        "           GROUP BY DS_GENERO\n",
        "           ORDER BY COUNT(DS_GENERO) DESC\"\"\"\n",
        "ps.sqldf(query.lower(), locals())"
      ],
      "metadata": {
        "colab": {
          "base_uri": "https://localhost:8080/",
          "height": 112
        },
        "id": "jKsBOSLf08Rp",
        "outputId": "46049879-ef03-4878-987a-ce1137538374"
      },
      "execution_count": 313,
      "outputs": [
        {
          "output_type": "execute_result",
          "data": {
            "text/plain": [
              "   DS_GENERO  total_inscritos_genero\n",
              "0  MASCULINO                   48128\n",
              "1   FEMININO                   23001"
            ],
            "text/html": [
              "\n",
              "  <div id=\"df-7716bdf6-ea2c-4db1-971f-b73bef0b834d\">\n",
              "    <div class=\"colab-df-container\">\n",
              "      <div>\n",
              "<style scoped>\n",
              "    .dataframe tbody tr th:only-of-type {\n",
              "        vertical-align: middle;\n",
              "    }\n",
              "\n",
              "    .dataframe tbody tr th {\n",
              "        vertical-align: top;\n",
              "    }\n",
              "\n",
              "    .dataframe thead th {\n",
              "        text-align: right;\n",
              "    }\n",
              "</style>\n",
              "<table border=\"1\" class=\"dataframe\">\n",
              "  <thead>\n",
              "    <tr style=\"text-align: right;\">\n",
              "      <th></th>\n",
              "      <th>DS_GENERO</th>\n",
              "      <th>total_inscritos_genero</th>\n",
              "    </tr>\n",
              "  </thead>\n",
              "  <tbody>\n",
              "    <tr>\n",
              "      <th>0</th>\n",
              "      <td>MASCULINO</td>\n",
              "      <td>48128</td>\n",
              "    </tr>\n",
              "    <tr>\n",
              "      <th>1</th>\n",
              "      <td>FEMININO</td>\n",
              "      <td>23001</td>\n",
              "    </tr>\n",
              "  </tbody>\n",
              "</table>\n",
              "</div>\n",
              "      <button class=\"colab-df-convert\" onclick=\"convertToInteractive('df-7716bdf6-ea2c-4db1-971f-b73bef0b834d')\"\n",
              "              title=\"Convert this dataframe to an interactive table.\"\n",
              "              style=\"display:none;\">\n",
              "        \n",
              "  <svg xmlns=\"http://www.w3.org/2000/svg\" height=\"24px\"viewBox=\"0 0 24 24\"\n",
              "       width=\"24px\">\n",
              "    <path d=\"M0 0h24v24H0V0z\" fill=\"none\"/>\n",
              "    <path d=\"M18.56 5.44l.94 2.06.94-2.06 2.06-.94-2.06-.94-.94-2.06-.94 2.06-2.06.94zm-11 1L8.5 8.5l.94-2.06 2.06-.94-2.06-.94L8.5 2.5l-.94 2.06-2.06.94zm10 10l.94 2.06.94-2.06 2.06-.94-2.06-.94-.94-2.06-.94 2.06-2.06.94z\"/><path d=\"M17.41 7.96l-1.37-1.37c-.4-.4-.92-.59-1.43-.59-.52 0-1.04.2-1.43.59L10.3 9.45l-7.72 7.72c-.78.78-.78 2.05 0 2.83L4 21.41c.39.39.9.59 1.41.59.51 0 1.02-.2 1.41-.59l7.78-7.78 2.81-2.81c.8-.78.8-2.07 0-2.86zM5.41 20L4 18.59l7.72-7.72 1.47 1.35L5.41 20z\"/>\n",
              "  </svg>\n",
              "      </button>\n",
              "      \n",
              "  <style>\n",
              "    .colab-df-container {\n",
              "      display:flex;\n",
              "      flex-wrap:wrap;\n",
              "      gap: 12px;\n",
              "    }\n",
              "\n",
              "    .colab-df-convert {\n",
              "      background-color: #E8F0FE;\n",
              "      border: none;\n",
              "      border-radius: 50%;\n",
              "      cursor: pointer;\n",
              "      display: none;\n",
              "      fill: #1967D2;\n",
              "      height: 32px;\n",
              "      padding: 0 0 0 0;\n",
              "      width: 32px;\n",
              "    }\n",
              "\n",
              "    .colab-df-convert:hover {\n",
              "      background-color: #E2EBFA;\n",
              "      box-shadow: 0px 1px 2px rgba(60, 64, 67, 0.3), 0px 1px 3px 1px rgba(60, 64, 67, 0.15);\n",
              "      fill: #174EA6;\n",
              "    }\n",
              "\n",
              "    [theme=dark] .colab-df-convert {\n",
              "      background-color: #3B4455;\n",
              "      fill: #D2E3FC;\n",
              "    }\n",
              "\n",
              "    [theme=dark] .colab-df-convert:hover {\n",
              "      background-color: #434B5C;\n",
              "      box-shadow: 0px 1px 3px 1px rgba(0, 0, 0, 0.15);\n",
              "      filter: drop-shadow(0px 1px 2px rgba(0, 0, 0, 0.3));\n",
              "      fill: #FFFFFF;\n",
              "    }\n",
              "  </style>\n",
              "\n",
              "      <script>\n",
              "        const buttonEl =\n",
              "          document.querySelector('#df-7716bdf6-ea2c-4db1-971f-b73bef0b834d button.colab-df-convert');\n",
              "        buttonEl.style.display =\n",
              "          google.colab.kernel.accessAllowed ? 'block' : 'none';\n",
              "\n",
              "        async function convertToInteractive(key) {\n",
              "          const element = document.querySelector('#df-7716bdf6-ea2c-4db1-971f-b73bef0b834d');\n",
              "          const dataTable =\n",
              "            await google.colab.kernel.invokeFunction('convertToInteractive',\n",
              "                                                     [key], {});\n",
              "          if (!dataTable) return;\n",
              "\n",
              "          const docLinkHtml = 'Like what you see? Visit the ' +\n",
              "            '<a target=\"_blank\" href=https://colab.research.google.com/notebooks/data_table.ipynb>data table notebook</a>'\n",
              "            + ' to learn more about interactive tables.';\n",
              "          element.innerHTML = '';\n",
              "          dataTable['output_type'] = 'display_data';\n",
              "          await google.colab.output.renderOutput(dataTable, element);\n",
              "          const docLink = document.createElement('div');\n",
              "          docLink.innerHTML = docLinkHtml;\n",
              "          element.appendChild(docLink);\n",
              "        }\n",
              "      </script>\n",
              "    </div>\n",
              "  </div>\n",
              "  "
            ]
          },
          "metadata": {},
          "execution_count": 313
        }
      ]
    },
    {
      "cell_type": "markdown",
      "source": [
        "**Gráfico candidatos Mulheres X homens**"
      ],
      "metadata": {
        "id": "HycMnYrt2iq0"
      }
    },
    {
      "cell_type": "code",
      "source": [
        "fig = plt.figure(figsize=(10,5))\n",
        "grafico = sns.countplot('DS_GENERO', order = candidatos_goias['DS_GENERO'].value_counts().index, palette=\"Paired\",  data =  candidatos_goias)\n",
        "plt.xticks(rotation=90)\n",
        "for i in grafico.patches:\n",
        "   grafico.annotate(i.get_height(),\n",
        "                  (i.get_x() + i.get_width() / 2, i.get_height()),\n",
        "                  ha='center',\n",
        "                  va='baseline',\n",
        "                  fontsize=12,\n",
        "                  color='black',\n",
        "                  xytext=(0, 1),\n",
        "                  textcoords='offset points');  \n",
        "plt.xlabel('Genero', fontsize=15)\n",
        "plt.ylabel(' ')\n",
        "plt.title('Grafico quantidade por Genero',fontsize=15);"
      ],
      "metadata": {
        "colab": {
          "base_uri": "https://localhost:8080/",
          "height": 461
        },
        "id": "D23ykm-n2MT7",
        "outputId": "d4e173b7-a9d4-4481-feb5-ff5333a48b00"
      },
      "execution_count": 314,
      "outputs": [
        {
          "output_type": "stream",
          "name": "stderr",
          "text": [
            "/usr/local/lib/python3.7/dist-packages/seaborn/_decorators.py:43: FutureWarning: Pass the following variable as a keyword arg: x. From version 0.12, the only valid positional argument will be `data`, and passing other arguments without an explicit keyword will result in an error or misinterpretation.\n",
            "  FutureWarning\n"
          ]
        },
        {
          "output_type": "display_data",
          "data": {
            "text/plain": [
              "<Figure size 720x360 with 1 Axes>"
            ],
            "image/png": "[encoded data removed]"
          },
          "metadata": {
            "needs_background": "light"
          }
        }
      ]
    },
    {
      "cell_type": "markdown",
      "source": [
        "**Porcentagem de inscritos por genero**"
      ],
      "metadata": {
        "id": "PqDv26Dk23yy"
      }
    },
    {
      "cell_type": "code",
      "source": [
        "#Total inscritos por genero\n",
        "candidatos_goias['DS_GENERO'].count()"
      ],
      "metadata": {
        "colab": {
          "base_uri": "https://localhost:8080/"
        },
        "id": "F4JM4qnW3CrW",
        "outputId": "78afe8f9-2017-4ec7-e443-0f82d0d8362e"
      },
      "execution_count": 315,
      "outputs": [
        {
          "output_type": "execute_result",
          "data": {
            "text/plain": [
              "71129"
            ]
          },
          "metadata": {},
          "execution_count": 315
        }
      ]
    },
    {
      "cell_type": "code",
      "source": [
        "#Quantidade de inscritos por genero\n",
        "candidatos_goias['DS_GENERO'].value_counts()"
      ],
      "metadata": {
        "colab": {
          "base_uri": "https://localhost:8080/"
        },
        "id": "ChgikeVxB_U4",
        "outputId": "e501c771-9dbc-40ff-a984-d6f189a7724b"
      },
      "execution_count": 316,
      "outputs": [
        {
          "output_type": "execute_result",
          "data": {
            "text/plain": [
              "MASCULINO    48128\n",
              "FEMININO     23001\n",
              "Name: DS_GENERO, dtype: int64"
            ]
          },
          "metadata": {},
          "execution_count": 316
        }
      ]
    },
    {
      "cell_type": "code",
      "source": [
        "#Porcentagem de inscritos por genero\n",
        "porc_inscritos_genero = candidatos_goias['DS_GENERO'].value_counts() / 71129 * 100 \n",
        "porc_inscritos_genero"
      ],
      "metadata": {
        "colab": {
          "base_uri": "https://localhost:8080/"
        },
        "id": "Cvu3zjoX23b4",
        "outputId": "7a87eeb2-4ea3-40a2-ed84-b234a71a3093"
      },
      "execution_count": 317,
      "outputs": [
        {
          "output_type": "execute_result",
          "data": {
            "text/plain": [
              "MASCULINO    67.662979\n",
              "FEMININO     32.337021\n",
              "Name: DS_GENERO, dtype: float64"
            ]
          },
          "metadata": {},
          "execution_count": 317
        }
      ]
    },
    {
      "cell_type": "markdown",
      "source": [
        "**As porcentagens de inscritos por genero dos  dados representada em um grafico de  pizza de 100%**"
      ],
      "metadata": {
        "id": "1PjGdoCmEc0i"
      }
    },
    {
      "cell_type": "code",
      "source": [
        "labels = ['FEMININO','MASCULINO']\n",
        "media = [32.3,67.6]\n",
        "colores = ((1.0, 0.0, .40), (0.0, .40, 1.0), (.40, 1.0, .20))\n",
        "fig, ax = plt.subplots(figsize=(12, 5))\n",
        "\n",
        "ax.pie(media, labels=labels,autopct = '%.1f%%',colors = colores)\n",
        "ax.set_title('Media de inscritos por genero Mulher X Homen', fontsize=16)\n",
        "plt.show()"
      ],
      "metadata": {
        "colab": {
          "base_uri": "https://localhost:8080/",
          "height": 321
        },
        "id": "t2qjfQfHEKy4",
        "outputId": "e6aa6def-0749-4429-fa32-d436530a6aba"
      },
      "execution_count": 318,
      "outputs": [
        {
          "output_type": "display_data",
          "data": {
            "text/plain": [
              "<Figure size 864x360 with 1 Axes>"
            ],
            "image/png": "[encoded data removed]"
          },
          "metadata": {}
        }
      ]
    },
    {
      "cell_type": "markdown",
      "source": [
        "**Qual tipo de eleições mulheres x homens mais se inscreveram**"
      ],
      "metadata": {
        "id": "9Oat8vjaCX7w"
      }
    },
    {
      "cell_type": "markdown",
      "source": [
        "`Eleições que as mulheres mais se candidata`"
      ],
      "metadata": {
        "id": "3MM_CYGHEiZt"
      }
    },
    {
      "cell_type": "code",
      "source": [
        "abragencia_feminino = candidatos_goias[candidatos_goias['DS_GENERO'] == \"FEMININO\"]\n",
        "abragencia_feminino['TP_ABRANGENCIA'].value_counts()"
      ],
      "metadata": {
        "colab": {
          "base_uri": "https://localhost:8080/"
        },
        "id": "k16vx6AqCf6m",
        "outputId": "60019563-efa8-47ca-ff85-1ef92775bdaf"
      },
      "execution_count": 319,
      "outputs": [
        {
          "output_type": "execute_result",
          "data": {
            "text/plain": [
              "MUNICIPAL    21694\n",
              "ESTADUAL       826\n",
              "FEDERAL        481\n",
              "Name: TP_ABRANGENCIA, dtype: int64"
            ]
          },
          "metadata": {},
          "execution_count": 319
        }
      ]
    },
    {
      "cell_type": "markdown",
      "source": [
        "`Eleições que os homens mais se candidata`"
      ],
      "metadata": {
        "id": "KBRmcF2VEme1"
      }
    },
    {
      "cell_type": "code",
      "source": [
        "abragencia_masculino = candidatos_goias[candidatos_goias['DS_GENERO'] == \"MASCULINO\"]\n",
        "abragencia_masculino['TP_ABRANGENCIA'].value_counts()"
      ],
      "metadata": {
        "colab": {
          "base_uri": "https://localhost:8080/"
        },
        "id": "9VhzeaHIEqws",
        "outputId": "e1469322-c389-4f5f-985d-b21013ea4730"
      },
      "execution_count": 320,
      "outputs": [
        {
          "output_type": "execute_result",
          "data": {
            "text/plain": [
              "MUNICIPAL    45098\n",
              "ESTADUAL      1603\n",
              "FEDERAL       1427\n",
              "Name: TP_ABRANGENCIA, dtype: int64"
            ]
          },
          "metadata": {},
          "execution_count": 320
        }
      ]
    },
    {
      "cell_type": "markdown",
      "source": [
        "**Qual tipo de eleições as mulheres x homens mais são eleitos**"
      ],
      "metadata": {
        "id": "MKmnQrcKE70O"
      }
    },
    {
      "cell_type": "markdown",
      "source": [
        "`Tipo de eleições que as mulheres mais ganham`"
      ],
      "metadata": {
        "id": "4eZ5M4kKFC_c"
      }
    },
    {
      "cell_type": "code",
      "source": [
        "abragencia_feminino_eleita = candidatos_goias[candidatos_goias['DS_GENERO'] == \"FEMININO\"]\n",
        "abragencia_feminino_eleita = abragencia_feminino_eleita[abragencia_feminino_eleita['DS_SIT_TOT_TURNO'] == \"ELEITO\"]\n",
        "abragencia_feminino_eleita['TP_ABRANGENCIA'].value_counts()"
      ],
      "metadata": {
        "colab": {
          "base_uri": "https://localhost:8080/"
        },
        "id": "qFt7tov0FHF7",
        "outputId": "1baf0b3d-dacd-47b6-81d5-4eaae68fa0b2"
      },
      "execution_count": 321,
      "outputs": [
        {
          "output_type": "execute_result",
          "data": {
            "text/plain": [
              "MUNICIPAL    1154\n",
              "FEDERAL        11\n",
              "ESTADUAL        4\n",
              "Name: TP_ABRANGENCIA, dtype: int64"
            ]
          },
          "metadata": {},
          "execution_count": 321
        }
      ]
    },
    {
      "cell_type": "markdown",
      "source": [
        "`Tipo de eleições que os homens mais ganham `"
      ],
      "metadata": {
        "id": "9XqYg0zxFzkq"
      }
    },
    {
      "cell_type": "code",
      "source": [
        "abragencia_masculino_eleita = candidatos_goias[candidatos_goias['DS_GENERO'] == \"MASCULINO\"]\n",
        "abragencia_masculino_eleita = abragencia_masculino_eleita[abragencia_masculino_eleita['DS_SIT_TOT_TURNO'] == \"ELEITO\"]\n",
        "abragencia_masculino_eleita['TP_ABRANGENCIA'].value_counts()"
      ],
      "metadata": {
        "colab": {
          "base_uri": "https://localhost:8080/"
        },
        "id": "Kyz1YhlyF2zi",
        "outputId": "081c9209-569e-4067-9ad5-b7543d05769f"
      },
      "execution_count": 322,
      "outputs": [
        {
          "output_type": "execute_result",
          "data": {
            "text/plain": [
              "MUNICIPAL    7858\n",
              "FEDERAL       107\n",
              "ESTADUAL       62\n",
              "Name: TP_ABRANGENCIA, dtype: int64"
            ]
          },
          "metadata": {},
          "execution_count": 322
        }
      ]
    },
    {
      "cell_type": "markdown",
      "source": [
        "**Qual partido mais tem mulhere X homens candidata**"
      ],
      "metadata": {
        "id": "rXYviLqyGFYt"
      }
    },
    {
      "cell_type": "markdown",
      "source": [
        "`partidos que mais tem mulheres candidatas `"
      ],
      "metadata": {
        "id": "Wz_8cZJ6GK4g"
      }
    },
    {
      "cell_type": "code",
      "source": [
        "partido_feminino_candidata = candidatos_goias[candidatos_goias['DS_GENERO'] == \"FEMININO\"]\n",
        "partido_feminino_candidata['SG_PARTIDO'].value_counts()"
      ],
      "metadata": {
        "colab": {
          "base_uri": "https://localhost:8080/"
        },
        "id": "NifN9byrGS3u",
        "outputId": "57f20fe6-7841-4e22-fe62-46b6a975c53f"
      },
      "execution_count": 323,
      "outputs": [
        {
          "output_type": "execute_result",
          "data": {
            "text/plain": [
              "PSDB             1769\n",
              "DEM              1522\n",
              "PP               1491\n",
              "PMDB             1486\n",
              "PDT              1214\n",
              "PSD              1195\n",
              "PT               1095\n",
              "PSB               950\n",
              "PTB               932\n",
              "PSC               832\n",
              "PSL               776\n",
              "MDB               649\n",
              "PR                611\n",
              "PROS              550\n",
              "PTC               540\n",
              "PRTB              530\n",
              "PODE              497\n",
              "PC do B           492\n",
              "CIDADANIA         424\n",
              "PRB               422\n",
              "PHS               403\n",
              "PV                369\n",
              "PPS               366\n",
              "REPUBLICANOS      364\n",
              "PTN               350\n",
              "PL                340\n",
              "SOLIDARIEDADE     320\n",
              "PSDC              318\n",
              "PATRIOTA          307\n",
              "PMN               302\n",
              "PRP               235\n",
              "PSOL              217\n",
              "SD                205\n",
              "PT do B           189\n",
              "AVANTE            163\n",
              "DC                146\n",
              "PMB               132\n",
              "PPL               106\n",
              "REDE              100\n",
              "PCB                25\n",
              "AGIR               22\n",
              "UNIÃO              17\n",
              "NOVO               13\n",
              "PCO                 6\n",
              "UP                  6\n",
              "PSTU                3\n",
              "Name: SG_PARTIDO, dtype: int64"
            ]
          },
          "metadata": {},
          "execution_count": 323
        }
      ]
    },
    {
      "cell_type": "markdown",
      "source": [
        "`Partidos que mais tem homens candidatos`"
      ],
      "metadata": {
        "id": "UIM2HZ_pHW2T"
      }
    },
    {
      "cell_type": "code",
      "source": [
        "partido_masculino_candidata = candidatos_goias[candidatos_goias['DS_GENERO'] == \"MASCULINO\"]\n",
        "partido_masculino_candidata['SG_PARTIDO'].value_counts()"
      ],
      "metadata": {
        "colab": {
          "base_uri": "https://localhost:8080/"
        },
        "id": "QTGm2zuDHaMZ",
        "outputId": "522d87ea-b0dc-4c65-d58c-9ddaf83b224b"
      },
      "execution_count": 324,
      "outputs": [
        {
          "output_type": "execute_result",
          "data": {
            "text/plain": [
              "PSDB             3833\n",
              "DEM              3247\n",
              "PMDB             3092\n",
              "PP               3035\n",
              "PSD              2686\n",
              "PDT              2436\n",
              "PT               2144\n",
              "PTB              2070\n",
              "PSB              2048\n",
              "PSC              1658\n",
              "PSL              1651\n",
              "PR               1432\n",
              "MDB              1291\n",
              "PROS             1150\n",
              "PTC              1144\n",
              "PRTB             1138\n",
              "PODE              988\n",
              "PPS               931\n",
              "PHS               904\n",
              "PC do B           873\n",
              "PRB               822\n",
              "CIDADANIA         782\n",
              "PV                776\n",
              "PTN               714\n",
              "PL                702\n",
              "REPUBLICANOS      695\n",
              "PMN               691\n",
              "PATRIOTA          670\n",
              "SOLIDARIEDADE     634\n",
              "PSDC              626\n",
              "PRP               568\n",
              "SD                462\n",
              "PSOL              434\n",
              "PT do B           416\n",
              "AVANTE            336\n",
              "DC                291\n",
              "PPL               217\n",
              "REDE              186\n",
              "PMB               185\n",
              "PCB                46\n",
              "AGIR               41\n",
              "NOVO               32\n",
              "UNIÃO              30\n",
              "PCO                10\n",
              "PSTU                8\n",
              "UP                  3\n",
              "Name: SG_PARTIDO, dtype: int64"
            ]
          },
          "metadata": {},
          "execution_count": 324
        }
      ]
    },
    {
      "cell_type": "markdown",
      "source": [
        "`Já que foi contabilizado a quantidade de inscritos por genero e a porcentagem. Comparar quantidade que vence a eleição por genero `"
      ],
      "metadata": {
        "id": "FGFAfxd93PfM"
      }
    },
    {
      "cell_type": "markdown",
      "source": [
        "**Quantidade de mulheres X homens que ganharam as eleições**"
      ],
      "metadata": {
        "id": "Aqq3WBWQ7t6j"
      }
    },
    {
      "cell_type": "code",
      "source": [
        "eleito = candidatos_goias[candidatos_goias['DS_SIT_TOT_TURNO'] == \"ELEITO\"]\n",
        "eleito_feminino = eleito[eleito['DS_GENERO'] == \"FEMININO\"]\n",
        "quantidade = eleito_feminino['DS_GENERO'].count()\n",
        "print('Quantidade de mulheres que ganharam as eleiçoes : {:.0f}'.format(quantidade))"
      ],
      "metadata": {
        "colab": {
          "base_uri": "https://localhost:8080/"
        },
        "id": "gMz5eZt73NNv",
        "outputId": "7028c5fa-206a-4aea-9499-b17242d96bde"
      },
      "execution_count": 325,
      "outputs": [
        {
          "output_type": "stream",
          "name": "stdout",
          "text": [
            "Quantidade de mulheres que ganharam as eleiçoes : 1169\n"
          ]
        }
      ]
    },
    {
      "cell_type": "code",
      "source": [
        "eleito = candidatos_goias[candidatos_goias['DS_SIT_TOT_TURNO'] == \"ELEITO\"]\n",
        "eleito_masculino = eleito[eleito['DS_GENERO'] == \"MASCULINO\"]\n",
        "quantidade = eleito_masculino['DS_GENERO'].count()\n",
        "print('Quantidade de homens que ganharam as eleiçoes : {:.0f}'.format(quantidade))"
      ],
      "metadata": {
        "colab": {
          "base_uri": "https://localhost:8080/"
        },
        "id": "juVCXM1j4GQV",
        "outputId": "e4cd834a-38b0-4e81-ddb7-ba8bc8ceca47"
      },
      "execution_count": 326,
      "outputs": [
        {
          "output_type": "stream",
          "name": "stdout",
          "text": [
            "Quantidade de homens que ganharam as eleiçoes : 8027\n"
          ]
        }
      ]
    },
    {
      "cell_type": "markdown",
      "source": [
        "**Porcentagem de mulheres X homens que ganharam as eleições pelo total de inscritos geral**"
      ],
      "metadata": {
        "id": "Ut3wUMT47zGj"
      }
    },
    {
      "cell_type": "code",
      "source": [
        "porcentagem_f =  (190/71129) * 100\n",
        "print('Porcentagem de mulheres que ganharam as eleiçoes : {:.2f}'.format(porcentagem_f))"
      ],
      "metadata": {
        "colab": {
          "base_uri": "https://localhost:8080/"
        },
        "id": "RWB7zl4d7mCG",
        "outputId": "6c5d96f5-0791-4318-f263-aa724d97c1f3"
      },
      "execution_count": 327,
      "outputs": [
        {
          "output_type": "stream",
          "name": "stdout",
          "text": [
            "Porcentagem de mulheres que ganharam as eleiçoes : 0.27\n"
          ]
        }
      ]
    },
    {
      "cell_type": "code",
      "source": [
        "porcentagem_m =  (1378/71129) * 100\n",
        "print('Porcentagem de homens que ganharam as eleiçoes : {:.2f}'.format(porcentagem_m))"
      ],
      "metadata": {
        "colab": {
          "base_uri": "https://localhost:8080/"
        },
        "id": "hvxti5jA8FC-",
        "outputId": "6bf86462-c6fa-45d3-def9-d44916a173ec"
      },
      "execution_count": 328,
      "outputs": [
        {
          "output_type": "stream",
          "name": "stdout",
          "text": [
            "Porcentagem de homens que ganharam as eleiçoes : 1.94\n"
          ]
        }
      ]
    },
    {
      "cell_type": "markdown",
      "source": [
        "**Porcentagem de eleitos mulheres x homens Pela quantidade de inscritos de cada genero**</br>\n",
        "`Total de mulheres e homens inscritos pelo total que foram eleitos`\n",
        "\n"
      ],
      "metadata": {
        "id": "tJHcAcXgByH0"
      }
    },
    {
      "cell_type": "code",
      "source": [
        "porcentagem_f_inscritas =  (190/48128) * 100\n",
        "print('Porcentagem de mulheres que ganharam as eleiçoes : {:.2f}'.format(porcentagem_f_inscritas))"
      ],
      "metadata": {
        "colab": {
          "base_uri": "https://localhost:8080/"
        },
        "id": "uf-dBP8AB5QY",
        "outputId": "48d2fc8f-7220-4365-faee-76895fc9bec4"
      },
      "execution_count": 329,
      "outputs": [
        {
          "output_type": "stream",
          "name": "stdout",
          "text": [
            "Porcentagem de mulheres que ganharam as eleiçoes : 0.39\n"
          ]
        }
      ]
    },
    {
      "cell_type": "code",
      "source": [
        "porcentagem_m_inscritas =  (1378/23001) * 100\n",
        "print('Porcentagem de mulheres que ganharam as eleiçoes : {:.2f}'.format(porcentagem_m_inscritas))"
      ],
      "metadata": {
        "colab": {
          "base_uri": "https://localhost:8080/"
        },
        "id": "ewRpJ1VCDx4I",
        "outputId": "e69bb19d-afab-4e27-813b-df41c59f7074"
      },
      "execution_count": 330,
      "outputs": [
        {
          "output_type": "stream",
          "name": "stdout",
          "text": [
            "Porcentagem de mulheres que ganharam as eleiçoes : 5.99\n"
          ]
        }
      ]
    },
    {
      "cell_type": "markdown",
      "source": [
        "**As porcentagens dos dados dos eleitos por genero pela quantidade de inscritos </br> por genero representada em um grafico de  pizza de 100%**"
      ],
      "metadata": {
        "id": "pgRoy9Z2-nHb"
      }
    },
    {
      "cell_type": "code",
      "source": [
        "labels = ['FEMININO','MASCULINO']\n",
        "media = [0.39, 5.99]\n",
        "colores = ((1.0, 0.0, .40), (0.0, .40, 1.0), (.40, 1.0, .20))\n",
        "fig, ax = plt.subplots(figsize=(12, 5))\n",
        "\n",
        "ax.pie(media, labels=labels,autopct = '%.1f%%',colors = colores)\n",
        "ax.set_title('Media de eleitos por genero Mulher X Homen', fontsize=16)\n",
        "plt.show()"
      ],
      "metadata": {
        "colab": {
          "base_uri": "https://localhost:8080/",
          "height": 321
        },
        "id": "-FkaXych8NqO",
        "outputId": "7c71a99e-586c-4e68-e997-24c649608455"
      },
      "execution_count": 331,
      "outputs": [
        {
          "output_type": "display_data",
          "data": {
            "text/plain": [
              "<Figure size 864x360 with 1 Axes>"
            ],
            "image/png": "[encoded data removed]"
          },
          "metadata": {}
        }
      ]
    },
    {
      "cell_type": "markdown",
      "source": [
        "**Faixa etaria das mulheres  e dos homens que ganharam eleições** "
      ],
      "metadata": {
        "id": "MsuOXxdl_htL"
      }
    },
    {
      "cell_type": "code",
      "source": [
        "eleito = candidatos_goias[candidatos_goias['DS_SIT_TOT_TURNO'] == \"ELEITO\"]\n",
        "eleito_feminino = eleito[eleito['DS_GENERO'] == \"FEMININO\"]\n"
      ],
      "metadata": {
        "id": "BWWQfUvf_9PC"
      },
      "execution_count": 332,
      "outputs": []
    },
    {
      "cell_type": "code",
      "source": [
        "eleito = candidatos_goias[candidatos_goias['DS_SIT_TOT_TURNO'] == \"ELEITO\"]\n",
        "eleito_masculino = eleito[eleito['DS_GENERO'] == \"MASCULINO\"]"
      ],
      "metadata": {
        "id": "922VsWytLEV0"
      },
      "execution_count": 333,
      "outputs": []
    },
    {
      "cell_type": "markdown",
      "source": [
        "**TOP 10 mulheres que mais foram eleitas pela faixa etária**"
      ],
      "metadata": {
        "id": "tAOo-HCcK161"
      }
    },
    {
      "cell_type": "code",
      "source": [
        "#Utilizando sql para contabilizar eleitos masculino por idade\n",
        "query = \"\"\"SELECT NR_IDADE_DATA_POSSE, COUNT(NR_IDADE_DATA_POSSE) as total_idade\n",
        "           FROM eleito_feminino\n",
        "           GROUP BY NR_IDADE_DATA_POSSE\n",
        "           ORDER BY COUNT(NR_IDADE_DATA_POSSE) DESC\n",
        "           limit 10\n",
        "           \"\"\"\n",
        "ps.sqldf(query.lower(), locals())"
      ],
      "metadata": {
        "colab": {
          "base_uri": "https://localhost:8080/",
          "height": 363
        },
        "id": "znf3lO0AJea-",
        "outputId": "e7f485bf-c8a7-4bde-b288-ca195d207a64"
      },
      "execution_count": 334,
      "outputs": [
        {
          "output_type": "execute_result",
          "data": {
            "text/plain": [
              "   NR_IDADE_DATA_POSSE  total_idade\n",
              "0                 47.0           55\n",
              "1                 46.0           51\n",
              "2                 39.0           49\n",
              "3                 44.0           49\n",
              "4                 43.0           46\n",
              "5                 45.0           46\n",
              "6                 42.0           44\n",
              "7                 48.0           43\n",
              "8                 49.0           43\n",
              "9                 50.0           42"
            ],
            "text/html": [
              "\n",
              "  <div id=\"df-4a32be62-3255-4618-aada-4e0356aa0e99\">\n",
              "    <div class=\"colab-df-container\">\n",
              "      <div>\n",
              "<style scoped>\n",
              "    .dataframe tbody tr th:only-of-type {\n",
              "        vertical-align: middle;\n",
              "    }\n",
              "\n",
              "    .dataframe tbody tr th {\n",
              "        vertical-align: top;\n",
              "    }\n",
              "\n",
              "    .dataframe thead th {\n",
              "        text-align: right;\n",
              "    }\n",
              "</style>\n",
              "<table border=\"1\" class=\"dataframe\">\n",
              "  <thead>\n",
              "    <tr style=\"text-align: right;\">\n",
              "      <th></th>\n",
              "      <th>NR_IDADE_DATA_POSSE</th>\n",
              "      <th>total_idade</th>\n",
              "    </tr>\n",
              "  </thead>\n",
              "  <tbody>\n",
              "    <tr>\n",
              "      <th>0</th>\n",
              "      <td>47.0</td>\n",
              "      <td>55</td>\n",
              "    </tr>\n",
              "    <tr>\n",
              "      <th>1</th>\n",
              "      <td>46.0</td>\n",
              "      <td>51</td>\n",
              "    </tr>\n",
              "    <tr>\n",
              "      <th>2</th>\n",
              "      <td>39.0</td>\n",
              "      <td>49</td>\n",
              "    </tr>\n",
              "    <tr>\n",
              "      <th>3</th>\n",
              "      <td>44.0</td>\n",
              "      <td>49</td>\n",
              "    </tr>\n",
              "    <tr>\n",
              "      <th>4</th>\n",
              "      <td>43.0</td>\n",
              "      <td>46</td>\n",
              "    </tr>\n",
              "    <tr>\n",
              "      <th>5</th>\n",
              "      <td>45.0</td>\n",
              "      <td>46</td>\n",
              "    </tr>\n",
              "    <tr>\n",
              "      <th>6</th>\n",
              "      <td>42.0</td>\n",
              "      <td>44</td>\n",
              "    </tr>\n",
              "    <tr>\n",
              "      <th>7</th>\n",
              "      <td>48.0</td>\n",
              "      <td>43</td>\n",
              "    </tr>\n",
              "    <tr>\n",
              "      <th>8</th>\n",
              "      <td>49.0</td>\n",
              "      <td>43</td>\n",
              "    </tr>\n",
              "    <tr>\n",
              "      <th>9</th>\n",
              "      <td>50.0</td>\n",
              "      <td>42</td>\n",
              "    </tr>\n",
              "  </tbody>\n",
              "</table>\n",
              "</div>\n",
              "      <button class=\"colab-df-convert\" onclick=\"convertToInteractive('df-4a32be62-3255-4618-aada-4e0356aa0e99')\"\n",
              "              title=\"Convert this dataframe to an interactive table.\"\n",
              "              style=\"display:none;\">\n",
              "        \n",
              "  <svg xmlns=\"http://www.w3.org/2000/svg\" height=\"24px\"viewBox=\"0 0 24 24\"\n",
              "       width=\"24px\">\n",
              "    <path d=\"M0 0h24v24H0V0z\" fill=\"none\"/>\n",
              "    <path d=\"M18.56 5.44l.94 2.06.94-2.06 2.06-.94-2.06-.94-.94-2.06-.94 2.06-2.06.94zm-11 1L8.5 8.5l.94-2.06 2.06-.94-2.06-.94L8.5 2.5l-.94 2.06-2.06.94zm10 10l.94 2.06.94-2.06 2.06-.94-2.06-.94-.94-2.06-.94 2.06-2.06.94z\"/><path d=\"M17.41 7.96l-1.37-1.37c-.4-.4-.92-.59-1.43-.59-.52 0-1.04.2-1.43.59L10.3 9.45l-7.72 7.72c-.78.78-.78 2.05 0 2.83L4 21.41c.39.39.9.59 1.41.59.51 0 1.02-.2 1.41-.59l7.78-7.78 2.81-2.81c.8-.78.8-2.07 0-2.86zM5.41 20L4 18.59l7.72-7.72 1.47 1.35L5.41 20z\"/>\n",
              "  </svg>\n",
              "      </button>\n",
              "      \n",
              "  <style>\n",
              "    .colab-df-container {\n",
              "      display:flex;\n",
              "      flex-wrap:wrap;\n",
              "      gap: 12px;\n",
              "    }\n",
              "\n",
              "    .colab-df-convert {\n",
              "      background-color: #E8F0FE;\n",
              "      border: none;\n",
              "      border-radius: 50%;\n",
              "      cursor: pointer;\n",
              "      display: none;\n",
              "      fill: #1967D2;\n",
              "      height: 32px;\n",
              "      padding: 0 0 0 0;\n",
              "      width: 32px;\n",
              "    }\n",
              "\n",
              "    .colab-df-convert:hover {\n",
              "      background-color: #E2EBFA;\n",
              "      box-shadow: 0px 1px 2px rgba(60, 64, 67, 0.3), 0px 1px 3px 1px rgba(60, 64, 67, 0.15);\n",
              "      fill: #174EA6;\n",
              "    }\n",
              "\n",
              "    [theme=dark] .colab-df-convert {\n",
              "      background-color: #3B4455;\n",
              "      fill: #D2E3FC;\n",
              "    }\n",
              "\n",
              "    [theme=dark] .colab-df-convert:hover {\n",
              "      background-color: #434B5C;\n",
              "      box-shadow: 0px 1px 3px 1px rgba(0, 0, 0, 0.15);\n",
              "      filter: drop-shadow(0px 1px 2px rgba(0, 0, 0, 0.3));\n",
              "      fill: #FFFFFF;\n",
              "    }\n",
              "  </style>\n",
              "\n",
              "      <script>\n",
              "        const buttonEl =\n",
              "          document.querySelector('#df-4a32be62-3255-4618-aada-4e0356aa0e99 button.colab-df-convert');\n",
              "        buttonEl.style.display =\n",
              "          google.colab.kernel.accessAllowed ? 'block' : 'none';\n",
              "\n",
              "        async function convertToInteractive(key) {\n",
              "          const element = document.querySelector('#df-4a32be62-3255-4618-aada-4e0356aa0e99');\n",
              "          const dataTable =\n",
              "            await google.colab.kernel.invokeFunction('convertToInteractive',\n",
              "                                                     [key], {});\n",
              "          if (!dataTable) return;\n",
              "\n",
              "          const docLinkHtml = 'Like what you see? Visit the ' +\n",
              "            '<a target=\"_blank\" href=https://colab.research.google.com/notebooks/data_table.ipynb>data table notebook</a>'\n",
              "            + ' to learn more about interactive tables.';\n",
              "          element.innerHTML = '';\n",
              "          dataTable['output_type'] = 'display_data';\n",
              "          await google.colab.output.renderOutput(dataTable, element);\n",
              "          const docLink = document.createElement('div');\n",
              "          docLink.innerHTML = docLinkHtml;\n",
              "          element.appendChild(docLink);\n",
              "        }\n",
              "      </script>\n",
              "    </div>\n",
              "  </div>\n",
              "  "
            ]
          },
          "metadata": {},
          "execution_count": 334
        }
      ]
    },
    {
      "cell_type": "markdown",
      "source": [
        "**TOP 10 homens que mais foram eleitos pela faixa etária**"
      ],
      "metadata": {
        "id": "0JbmX_tMLMdm"
      }
    },
    {
      "cell_type": "code",
      "source": [
        "#Utilizando sql para contabilizar eleitos masculino por idade\n",
        "query = \"\"\"SELECT NR_IDADE_DATA_POSSE, COUNT(NR_IDADE_DATA_POSSE) as total_idade \n",
        "           FROM eleito_masculino\n",
        "           GROUP BY NR_IDADE_DATA_POSSE\n",
        "           ORDER BY COUNT(NR_IDADE_DATA_POSSE) DESC\n",
        "           limit 10\"\"\"\n",
        "ps.sqldf(query.lower(), locals())"
      ],
      "metadata": {
        "colab": {
          "base_uri": "https://localhost:8080/",
          "height": 363
        },
        "id": "C5jio-_WKKU6",
        "outputId": "93e0bcab-c6db-4536-9cd8-2298af6db7ba"
      },
      "execution_count": 335,
      "outputs": [
        {
          "output_type": "execute_result",
          "data": {
            "text/plain": [
              "   NR_IDADE_DATA_POSSE  total_idade\n",
              "0                 42.0          316\n",
              "1                 47.0          314\n",
              "2                 44.0          313\n",
              "3                 43.0          307\n",
              "4                 46.0          307\n",
              "5                 38.0          296\n",
              "6                 50.0          293\n",
              "7                 40.0          285\n",
              "8                 41.0          284\n",
              "9                 39.0          269"
            ],
            "text/html": [
              "\n",
              "  <div id=\"df-0cde6df5-b9ec-4fcc-806f-7b31922c7237\">\n",
              "    <div class=\"colab-df-container\">\n",
              "      <div>\n",
              "<style scoped>\n",
              "    .dataframe tbody tr th:only-of-type {\n",
              "        vertical-align: middle;\n",
              "    }\n",
              "\n",
              "    .dataframe tbody tr th {\n",
              "        vertical-align: top;\n",
              "    }\n",
              "\n",
              "    .dataframe thead th {\n",
              "        text-align: right;\n",
              "    }\n",
              "</style>\n",
              "<table border=\"1\" class=\"dataframe\">\n",
              "  <thead>\n",
              "    <tr style=\"text-align: right;\">\n",
              "      <th></th>\n",
              "      <th>NR_IDADE_DATA_POSSE</th>\n",
              "      <th>total_idade</th>\n",
              "    </tr>\n",
              "  </thead>\n",
              "  <tbody>\n",
              "    <tr>\n",
              "      <th>0</th>\n",
              "      <td>42.0</td>\n",
              "      <td>316</td>\n",
              "    </tr>\n",
              "    <tr>\n",
              "      <th>1</th>\n",
              "      <td>47.0</td>\n",
              "      <td>314</td>\n",
              "    </tr>\n",
              "    <tr>\n",
              "      <th>2</th>\n",
              "      <td>44.0</td>\n",
              "      <td>313</td>\n",
              "    </tr>\n",
              "    <tr>\n",
              "      <th>3</th>\n",
              "      <td>43.0</td>\n",
              "      <td>307</td>\n",
              "    </tr>\n",
              "    <tr>\n",
              "      <th>4</th>\n",
              "      <td>46.0</td>\n",
              "      <td>307</td>\n",
              "    </tr>\n",
              "    <tr>\n",
              "      <th>5</th>\n",
              "      <td>38.0</td>\n",
              "      <td>296</td>\n",
              "    </tr>\n",
              "    <tr>\n",
              "      <th>6</th>\n",
              "      <td>50.0</td>\n",
              "      <td>293</td>\n",
              "    </tr>\n",
              "    <tr>\n",
              "      <th>7</th>\n",
              "      <td>40.0</td>\n",
              "      <td>285</td>\n",
              "    </tr>\n",
              "    <tr>\n",
              "      <th>8</th>\n",
              "      <td>41.0</td>\n",
              "      <td>284</td>\n",
              "    </tr>\n",
              "    <tr>\n",
              "      <th>9</th>\n",
              "      <td>39.0</td>\n",
              "      <td>269</td>\n",
              "    </tr>\n",
              "  </tbody>\n",
              "</table>\n",
              "</div>\n",
              "      <button class=\"colab-df-convert\" onclick=\"convertToInteractive('df-0cde6df5-b9ec-4fcc-806f-7b31922c7237')\"\n",
              "              title=\"Convert this dataframe to an interactive table.\"\n",
              "              style=\"display:none;\">\n",
              "        \n",
              "  <svg xmlns=\"http://www.w3.org/2000/svg\" height=\"24px\"viewBox=\"0 0 24 24\"\n",
              "       width=\"24px\">\n",
              "    <path d=\"M0 0h24v24H0V0z\" fill=\"none\"/>\n",
              "    <path d=\"M18.56 5.44l.94 2.06.94-2.06 2.06-.94-2.06-.94-.94-2.06-.94 2.06-2.06.94zm-11 1L8.5 8.5l.94-2.06 2.06-.94-2.06-.94L8.5 2.5l-.94 2.06-2.06.94zm10 10l.94 2.06.94-2.06 2.06-.94-2.06-.94-.94-2.06-.94 2.06-2.06.94z\"/><path d=\"M17.41 7.96l-1.37-1.37c-.4-.4-.92-.59-1.43-.59-.52 0-1.04.2-1.43.59L10.3 9.45l-7.72 7.72c-.78.78-.78 2.05 0 2.83L4 21.41c.39.39.9.59 1.41.59.51 0 1.02-.2 1.41-.59l7.78-7.78 2.81-2.81c.8-.78.8-2.07 0-2.86zM5.41 20L4 18.59l7.72-7.72 1.47 1.35L5.41 20z\"/>\n",
              "  </svg>\n",
              "      </button>\n",
              "      \n",
              "  <style>\n",
              "    .colab-df-container {\n",
              "      display:flex;\n",
              "      flex-wrap:wrap;\n",
              "      gap: 12px;\n",
              "    }\n",
              "\n",
              "    .colab-df-convert {\n",
              "      background-color: #E8F0FE;\n",
              "      border: none;\n",
              "      border-radius: 50%;\n",
              "      cursor: pointer;\n",
              "      display: none;\n",
              "      fill: #1967D2;\n",
              "      height: 32px;\n",
              "      padding: 0 0 0 0;\n",
              "      width: 32px;\n",
              "    }\n",
              "\n",
              "    .colab-df-convert:hover {\n",
              "      background-color: #E2EBFA;\n",
              "      box-shadow: 0px 1px 2px rgba(60, 64, 67, 0.3), 0px 1px 3px 1px rgba(60, 64, 67, 0.15);\n",
              "      fill: #174EA6;\n",
              "    }\n",
              "\n",
              "    [theme=dark] .colab-df-convert {\n",
              "      background-color: #3B4455;\n",
              "      fill: #D2E3FC;\n",
              "    }\n",
              "\n",
              "    [theme=dark] .colab-df-convert:hover {\n",
              "      background-color: #434B5C;\n",
              "      box-shadow: 0px 1px 3px 1px rgba(0, 0, 0, 0.15);\n",
              "      filter: drop-shadow(0px 1px 2px rgba(0, 0, 0, 0.3));\n",
              "      fill: #FFFFFF;\n",
              "    }\n",
              "  </style>\n",
              "\n",
              "      <script>\n",
              "        const buttonEl =\n",
              "          document.querySelector('#df-0cde6df5-b9ec-4fcc-806f-7b31922c7237 button.colab-df-convert');\n",
              "        buttonEl.style.display =\n",
              "          google.colab.kernel.accessAllowed ? 'block' : 'none';\n",
              "\n",
              "        async function convertToInteractive(key) {\n",
              "          const element = document.querySelector('#df-0cde6df5-b9ec-4fcc-806f-7b31922c7237');\n",
              "          const dataTable =\n",
              "            await google.colab.kernel.invokeFunction('convertToInteractive',\n",
              "                                                     [key], {});\n",
              "          if (!dataTable) return;\n",
              "\n",
              "          const docLinkHtml = 'Like what you see? Visit the ' +\n",
              "            '<a target=\"_blank\" href=https://colab.research.google.com/notebooks/data_table.ipynb>data table notebook</a>'\n",
              "            + ' to learn more about interactive tables.';\n",
              "          element.innerHTML = '';\n",
              "          dataTable['output_type'] = 'display_data';\n",
              "          await google.colab.output.renderOutput(dataTable, element);\n",
              "          const docLink = document.createElement('div');\n",
              "          docLink.innerHTML = docLinkHtml;\n",
              "          element.appendChild(docLink);\n",
              "        }\n",
              "      </script>\n",
              "    </div>\n",
              "  </div>\n",
              "  "
            ]
          },
          "metadata": {},
          "execution_count": 335
        }
      ]
    },
    {
      "cell_type": "markdown",
      "source": [
        "**Qual partido mais elegeu**"
      ],
      "metadata": {
        "id": "kN9gBo1QH0id"
      }
    },
    {
      "cell_type": "markdown",
      "source": [
        "`Qual partido mais elegeu `"
      ],
      "metadata": {
        "id": "GEbIqtlUrfDZ"
      }
    },
    {
      "cell_type": "code",
      "source": [
        "eleito_partido = candidatos_goias[candidatos_goias['DS_SIT_TOT_TURNO'] == \"ELEITO\"]"
      ],
      "metadata": {
        "id": "ufCKqjJhrci_"
      },
      "execution_count": 336,
      "outputs": []
    },
    {
      "cell_type": "code",
      "source": [
        "#Utilizando sql para o partido que mais elegeu\n",
        "query = \"\"\"SELECT SG_PARTIDO, COUNT(SG_PARTIDO) as eleitos\n",
        "           FROM eleito_partido\n",
        "           GROUP BY SG_PARTIDO\n",
        "           ORDER BY COUNT(SG_PARTIDO) DESC\n",
        "           \"\"\"\n",
        "ps.sqldf(query.lower(), locals())"
      ],
      "metadata": {
        "colab": {
          "base_uri": "https://localhost:8080/",
          "height": 1000
        },
        "id": "vEk7cLEPrpbp",
        "outputId": "23011f59-293c-47fd-cc81-eb65e19e7b9e"
      },
      "execution_count": 337,
      "outputs": [
        {
          "output_type": "execute_result",
          "data": {
            "text/plain": [
              "       SG_PARTIDO  eleitos\n",
              "0            PSDB     1163\n",
              "1            PMDB      941\n",
              "2              PP      874\n",
              "3             DEM      827\n",
              "4             PSD      699\n",
              "5             PDT      503\n",
              "6             PTB      449\n",
              "7             MDB      350\n",
              "8              PR      347\n",
              "9             PSB      322\n",
              "10             PT      263\n",
              "11            PSC      254\n",
              "12           PODE      172\n",
              "13            PPS      165\n",
              "14           PROS      163\n",
              "15             PL      152\n",
              "16      CIDADANIA      145\n",
              "17            PSL      145\n",
              "18            PTC      145\n",
              "19            PTN      112\n",
              "20            PRB      108\n",
              "21   REPUBLICANOS      104\n",
              "22           PRTB      100\n",
              "23            PHS       93\n",
              "24  SOLIDARIEDADE       89\n",
              "25             SD       67\n",
              "26        PT do B       66\n",
              "27            PRP       65\n",
              "28        PC do B       54\n",
              "29            PMN       50\n",
              "30             PV       50\n",
              "31           PSDC       47\n",
              "32       PATRIOTA       39\n",
              "33         AVANTE       20\n",
              "34             DC       17\n",
              "35            PMB       14\n",
              "36            PPL       14\n",
              "37           REDE        7\n",
              "38           PSOL        1"
            ],
            "text/html": [
              "\n",
              "  <div id=\"df-f3711715-58b8-46a4-8828-0efa10deabd6\">\n",
              "    <div class=\"colab-df-container\">\n",
              "      <div>\n",
              "<style scoped>\n",
              "    .dataframe tbody tr th:only-of-type {\n",
              "        vertical-align: middle;\n",
              "    }\n",
              "\n",
              "    .dataframe tbody tr th {\n",
              "        vertical-align: top;\n",
              "    }\n",
              "\n",
              "    .dataframe thead th {\n",
              "        text-align: right;\n",
              "    }\n",
              "</style>\n",
              "<table border=\"1\" class=\"dataframe\">\n",
              "  <thead>\n",
              "    <tr style=\"text-align: right;\">\n",
              "      <th></th>\n",
              "      <th>SG_PARTIDO</th>\n",
              "      <th>eleitos</th>\n",
              "    </tr>\n",
              "  </thead>\n",
              "  <tbody>\n",
              "    <tr>\n",
              "      <th>0</th>\n",
              "      <td>PSDB</td>\n",
              "      <td>1163</td>\n",
              "    </tr>\n",
              "    <tr>\n",
              "      <th>1</th>\n",
              "      <td>PMDB</td>\n",
              "      <td>941</td>\n",
              "    </tr>\n",
              "    <tr>\n",
              "      <th>2</th>\n",
              "      <td>PP</td>\n",
              "      <td>874</td>\n",
              "    </tr>\n",
              "    <tr>\n",
              "      <th>3</th>\n",
              "      <td>DEM</td>\n",
              "      <td>827</td>\n",
              "    </tr>\n",
              "    <tr>\n",
              "      <th>4</th>\n",
              "      <td>PSD</td>\n",
              "      <td>699</td>\n",
              "    </tr>\n",
              "    <tr>\n",
              "      <th>5</th>\n",
              "      <td>PDT</td>\n",
              "      <td>503</td>\n",
              "    </tr>\n",
              "    <tr>\n",
              "      <th>6</th>\n",
              "      <td>PTB</td>\n",
              "      <td>449</td>\n",
              "    </tr>\n",
              "    <tr>\n",
              "      <th>7</th>\n",
              "      <td>MDB</td>\n",
              "      <td>350</td>\n",
              "    </tr>\n",
              "    <tr>\n",
              "      <th>8</th>\n",
              "      <td>PR</td>\n",
              "      <td>347</td>\n",
              "    </tr>\n",
              "    <tr>\n",
              "      <th>9</th>\n",
              "      <td>PSB</td>\n",
              "      <td>322</td>\n",
              "    </tr>\n",
              "    <tr>\n",
              "      <th>10</th>\n",
              "      <td>PT</td>\n",
              "      <td>263</td>\n",
              "    </tr>\n",
              "    <tr>\n",
              "      <th>11</th>\n",
              "      <td>PSC</td>\n",
              "      <td>254</td>\n",
              "    </tr>\n",
              "    <tr>\n",
              "      <th>12</th>\n",
              "      <td>PODE</td>\n",
              "      <td>172</td>\n",
              "    </tr>\n",
              "    <tr>\n",
              "      <th>13</th>\n",
              "      <td>PPS</td>\n",
              "      <td>165</td>\n",
              "    </tr>\n",
              "    <tr>\n",
              "      <th>14</th>\n",
              "      <td>PROS</td>\n",
              "      <td>163</td>\n",
              "    </tr>\n",
              "    <tr>\n",
              "      <th>15</th>\n",
              "      <td>PL</td>\n",
              "      <td>152</td>\n",
              "    </tr>\n",
              "    <tr>\n",
              "      <th>16</th>\n",
              "      <td>CIDADANIA</td>\n",
              "      <td>145</td>\n",
              "    </tr>\n",
              "    <tr>\n",
              "      <th>17</th>\n",
              "      <td>PSL</td>\n",
              "      <td>145</td>\n",
              "    </tr>\n",
              "    <tr>\n",
              "      <th>18</th>\n",
              "      <td>PTC</td>\n",
              "      <td>145</td>\n",
              "    </tr>\n",
              "    <tr>\n",
              "      <th>19</th>\n",
              "      <td>PTN</td>\n",
              "      <td>112</td>\n",
              "    </tr>\n",
              "    <tr>\n",
              "      <th>20</th>\n",
              "      <td>PRB</td>\n",
              "      <td>108</td>\n",
              "    </tr>\n",
              "    <tr>\n",
              "      <th>21</th>\n",
              "      <td>REPUBLICANOS</td>\n",
              "      <td>104</td>\n",
              "    </tr>\n",
              "    <tr>\n",
              "      <th>22</th>\n",
              "      <td>PRTB</td>\n",
              "      <td>100</td>\n",
              "    </tr>\n",
              "    <tr>\n",
              "      <th>23</th>\n",
              "      <td>PHS</td>\n",
              "      <td>93</td>\n",
              "    </tr>\n",
              "    <tr>\n",
              "      <th>24</th>\n",
              "      <td>SOLIDARIEDADE</td>\n",
              "      <td>89</td>\n",
              "    </tr>\n",
              "    <tr>\n",
              "      <th>25</th>\n",
              "      <td>SD</td>\n",
              "      <td>67</td>\n",
              "    </tr>\n",
              "    <tr>\n",
              "      <th>26</th>\n",
              "      <td>PT do B</td>\n",
              "      <td>66</td>\n",
              "    </tr>\n",
              "    <tr>\n",
              "      <th>27</th>\n",
              "      <td>PRP</td>\n",
              "      <td>65</td>\n",
              "    </tr>\n",
              "    <tr>\n",
              "      <th>28</th>\n",
              "      <td>PC do B</td>\n",
              "      <td>54</td>\n",
              "    </tr>\n",
              "    <tr>\n",
              "      <th>29</th>\n",
              "      <td>PMN</td>\n",
              "      <td>50</td>\n",
              "    </tr>\n",
              "    <tr>\n",
              "      <th>30</th>\n",
              "      <td>PV</td>\n",
              "      <td>50</td>\n",
              "    </tr>\n",
              "    <tr>\n",
              "      <th>31</th>\n",
              "      <td>PSDC</td>\n",
              "      <td>47</td>\n",
              "    </tr>\n",
              "    <tr>\n",
              "      <th>32</th>\n",
              "      <td>PATRIOTA</td>\n",
              "      <td>39</td>\n",
              "    </tr>\n",
              "    <tr>\n",
              "      <th>33</th>\n",
              "      <td>AVANTE</td>\n",
              "      <td>20</td>\n",
              "    </tr>\n",
              "    <tr>\n",
              "      <th>34</th>\n",
              "      <td>DC</td>\n",
              "      <td>17</td>\n",
              "    </tr>\n",
              "    <tr>\n",
              "      <th>35</th>\n",
              "      <td>PMB</td>\n",
              "      <td>14</td>\n",
              "    </tr>\n",
              "    <tr>\n",
              "      <th>36</th>\n",
              "      <td>PPL</td>\n",
              "      <td>14</td>\n",
              "    </tr>\n",
              "    <tr>\n",
              "      <th>37</th>\n",
              "      <td>REDE</td>\n",
              "      <td>7</td>\n",
              "    </tr>\n",
              "    <tr>\n",
              "      <th>38</th>\n",
              "      <td>PSOL</td>\n",
              "      <td>1</td>\n",
              "    </tr>\n",
              "  </tbody>\n",
              "</table>\n",
              "</div>\n",
              "      <button class=\"colab-df-convert\" onclick=\"convertToInteractive('df-f3711715-58b8-46a4-8828-0efa10deabd6')\"\n",
              "              title=\"Convert this dataframe to an interactive table.\"\n",
              "              style=\"display:none;\">\n",
              "        \n",
              "  <svg xmlns=\"http://www.w3.org/2000/svg\" height=\"24px\"viewBox=\"0 0 24 24\"\n",
              "       width=\"24px\">\n",
              "    <path d=\"M0 0h24v24H0V0z\" fill=\"none\"/>\n",
              "    <path d=\"M18.56 5.44l.94 2.06.94-2.06 2.06-.94-2.06-.94-.94-2.06-.94 2.06-2.06.94zm-11 1L8.5 8.5l.94-2.06 2.06-.94-2.06-.94L8.5 2.5l-.94 2.06-2.06.94zm10 10l.94 2.06.94-2.06 2.06-.94-2.06-.94-.94-2.06-.94 2.06-2.06.94z\"/><path d=\"M17.41 7.96l-1.37-1.37c-.4-.4-.92-.59-1.43-.59-.52 0-1.04.2-1.43.59L10.3 9.45l-7.72 7.72c-.78.78-.78 2.05 0 2.83L4 21.41c.39.39.9.59 1.41.59.51 0 1.02-.2 1.41-.59l7.78-7.78 2.81-2.81c.8-.78.8-2.07 0-2.86zM5.41 20L4 18.59l7.72-7.72 1.47 1.35L5.41 20z\"/>\n",
              "  </svg>\n",
              "      </button>\n",
              "      \n",
              "  <style>\n",
              "    .colab-df-container {\n",
              "      display:flex;\n",
              "      flex-wrap:wrap;\n",
              "      gap: 12px;\n",
              "    }\n",
              "\n",
              "    .colab-df-convert {\n",
              "      background-color: #E8F0FE;\n",
              "      border: none;\n",
              "      border-radius: 50%;\n",
              "      cursor: pointer;\n",
              "      display: none;\n",
              "      fill: #1967D2;\n",
              "      height: 32px;\n",
              "      padding: 0 0 0 0;\n",
              "      width: 32px;\n",
              "    }\n",
              "\n",
              "    .colab-df-convert:hover {\n",
              "      background-color: #E2EBFA;\n",
              "      box-shadow: 0px 1px 2px rgba(60, 64, 67, 0.3), 0px 1px 3px 1px rgba(60, 64, 67, 0.15);\n",
              "      fill: #174EA6;\n",
              "    }\n",
              "\n",
              "    [theme=dark] .colab-df-convert {\n",
              "      background-color: #3B4455;\n",
              "      fill: #D2E3FC;\n",
              "    }\n",
              "\n",
              "    [theme=dark] .colab-df-convert:hover {\n",
              "      background-color: #434B5C;\n",
              "      box-shadow: 0px 1px 3px 1px rgba(0, 0, 0, 0.15);\n",
              "      filter: drop-shadow(0px 1px 2px rgba(0, 0, 0, 0.3));\n",
              "      fill: #FFFFFF;\n",
              "    }\n",
              "  </style>\n",
              "\n",
              "      <script>\n",
              "        const buttonEl =\n",
              "          document.querySelector('#df-f3711715-58b8-46a4-8828-0efa10deabd6 button.colab-df-convert');\n",
              "        buttonEl.style.display =\n",
              "          google.colab.kernel.accessAllowed ? 'block' : 'none';\n",
              "\n",
              "        async function convertToInteractive(key) {\n",
              "          const element = document.querySelector('#df-f3711715-58b8-46a4-8828-0efa10deabd6');\n",
              "          const dataTable =\n",
              "            await google.colab.kernel.invokeFunction('convertToInteractive',\n",
              "                                                     [key], {});\n",
              "          if (!dataTable) return;\n",
              "\n",
              "          const docLinkHtml = 'Like what you see? Visit the ' +\n",
              "            '<a target=\"_blank\" href=https://colab.research.google.com/notebooks/data_table.ipynb>data table notebook</a>'\n",
              "            + ' to learn more about interactive tables.';\n",
              "          element.innerHTML = '';\n",
              "          dataTable['output_type'] = 'display_data';\n",
              "          await google.colab.output.renderOutput(dataTable, element);\n",
              "          const docLink = document.createElement('div');\n",
              "          docLink.innerHTML = docLinkHtml;\n",
              "          element.appendChild(docLink);\n",
              "        }\n",
              "      </script>\n",
              "    </div>\n",
              "  </div>\n",
              "  "
            ]
          },
          "metadata": {},
          "execution_count": 337
        }
      ]
    },
    {
      "cell_type": "markdown",
      "source": [
        "**Qual partido mais elegeu mulheres X homens**"
      ],
      "metadata": {
        "id": "94HrCZ5_rhzR"
      }
    },
    {
      "cell_type": "code",
      "source": [
        "eleito_partido = candidatos_goias[candidatos_goias['DS_SIT_TOT_TURNO'] == \"ELEITO\"]\n",
        "eleito_feminino_partido = eleito_partido[eleito_partido['DS_GENERO'] == \"FEMININO\"]"
      ],
      "metadata": {
        "id": "D2f-bpRiH_oC"
      },
      "execution_count": 338,
      "outputs": []
    },
    {
      "cell_type": "code",
      "source": [
        "eleito_partido = candidatos_goias[candidatos_goias['DS_SIT_TOT_TURNO'] == \"ELEITO\"]\n",
        "eleito_masculino_partido = eleito_partido[eleito_partido['DS_GENERO'] == \"MASCULINO\"]"
      ],
      "metadata": {
        "id": "t9MZzndKIyNw"
      },
      "execution_count": 339,
      "outputs": []
    },
    {
      "cell_type": "markdown",
      "source": [
        "`Partido que mais elegeu mulheres`"
      ],
      "metadata": {
        "id": "BMdo6lYdIuO_"
      }
    },
    {
      "cell_type": "code",
      "source": [
        "#Utilizando sql para contabilizar eleitos feminino por partido\n",
        "query = \"\"\"SELECT SG_PARTIDO, COUNT(SG_PARTIDO) as eleitos\n",
        "           FROM eleito_feminino_partido\n",
        "           GROUP BY SG_PARTIDO\n",
        "           ORDER BY COUNT(SG_PARTIDO) DESC\n",
        "           \"\"\"\n",
        "ps.sqldf(query.lower(), locals())"
      ],
      "metadata": {
        "id": "Mg2HbDjvLcMo",
        "colab": {
          "base_uri": "https://localhost:8080/",
          "height": 1000
        },
        "outputId": "fd5aacd2-4a68-4dc7-f800-6842568f2150"
      },
      "execution_count": 340,
      "outputs": [
        {
          "output_type": "execute_result",
          "data": {
            "text/plain": [
              "       SG_PARTIDO  eleitos\n",
              "0            PSDB      157\n",
              "1              PP      117\n",
              "2            PMDB      113\n",
              "3             PSD       96\n",
              "4             DEM       93\n",
              "5             PDT       73\n",
              "6             PTB       58\n",
              "7             MDB       49\n",
              "8              PT       46\n",
              "9             PSC       40\n",
              "10            PSB       36\n",
              "11             PR       32\n",
              "12             PL       24\n",
              "13      CIDADANIA       21\n",
              "14           PODE       21\n",
              "15            PRB       20\n",
              "16            PPS       18\n",
              "17            PTC       18\n",
              "18           PROS       17\n",
              "19            PSL       16\n",
              "20            PTN       15\n",
              "21   REPUBLICANOS       15\n",
              "22  SOLIDARIEDADE       11\n",
              "23           PRTB        9\n",
              "24            PHS        8\n",
              "25             SD        8\n",
              "26            PRP        6\n",
              "27        PC do B        5\n",
              "28        PT do B        5\n",
              "29             PV        5\n",
              "30         AVANTE        4\n",
              "31            PMN        4\n",
              "32             DC        2\n",
              "33            PMB        2\n",
              "34           PSDC        2\n",
              "35           REDE        2\n",
              "36       PATRIOTA        1"
            ],
            "text/html": [
              "\n",
              "  <div id=\"df-7179f552-557b-406f-8b3a-891860b674ff\">\n",
              "    <div class=\"colab-df-container\">\n",
              "      <div>\n",
              "<style scoped>\n",
              "    .dataframe tbody tr th:only-of-type {\n",
              "        vertical-align: middle;\n",
              "    }\n",
              "\n",
              "    .dataframe tbody tr th {\n",
              "        vertical-align: top;\n",
              "    }\n",
              "\n",
              "    .dataframe thead th {\n",
              "        text-align: right;\n",
              "    }\n",
              "</style>\n",
              "<table border=\"1\" class=\"dataframe\">\n",
              "  <thead>\n",
              "    <tr style=\"text-align: right;\">\n",
              "      <th></th>\n",
              "      <th>SG_PARTIDO</th>\n",
              "      <th>eleitos</th>\n",
              "    </tr>\n",
              "  </thead>\n",
              "  <tbody>\n",
              "    <tr>\n",
              "      <th>0</th>\n",
              "      <td>PSDB</td>\n",
              "      <td>157</td>\n",
              "    </tr>\n",
              "    <tr>\n",
              "      <th>1</th>\n",
              "      <td>PP</td>\n",
              "      <td>117</td>\n",
              "    </tr>\n",
              "    <tr>\n",
              "      <th>2</th>\n",
              "      <td>PMDB</td>\n",
              "      <td>113</td>\n",
              "    </tr>\n",
              "    <tr>\n",
              "      <th>3</th>\n",
              "      <td>PSD</td>\n",
              "      <td>96</td>\n",
              "    </tr>\n",
              "    <tr>\n",
              "      <th>4</th>\n",
              "      <td>DEM</td>\n",
              "      <td>93</td>\n",
              "    </tr>\n",
              "    <tr>\n",
              "      <th>5</th>\n",
              "      <td>PDT</td>\n",
              "      <td>73</td>\n",
              "    </tr>\n",
              "    <tr>\n",
              "      <th>6</th>\n",
              "      <td>PTB</td>\n",
              "      <td>58</td>\n",
              "    </tr>\n",
              "    <tr>\n",
              "      <th>7</th>\n",
              "      <td>MDB</td>\n",
              "      <td>49</td>\n",
              "    </tr>\n",
              "    <tr>\n",
              "      <th>8</th>\n",
              "      <td>PT</td>\n",
              "      <td>46</td>\n",
              "    </tr>\n",
              "    <tr>\n",
              "      <th>9</th>\n",
              "      <td>PSC</td>\n",
              "      <td>40</td>\n",
              "    </tr>\n",
              "    <tr>\n",
              "      <th>10</th>\n",
              "      <td>PSB</td>\n",
              "      <td>36</td>\n",
              "    </tr>\n",
              "    <tr>\n",
              "      <th>11</th>\n",
              "      <td>PR</td>\n",
              "      <td>32</td>\n",
              "    </tr>\n",
              "    <tr>\n",
              "      <th>12</th>\n",
              "      <td>PL</td>\n",
              "      <td>24</td>\n",
              "    </tr>\n",
              "    <tr>\n",
              "      <th>13</th>\n",
              "      <td>CIDADANIA</td>\n",
              "      <td>21</td>\n",
              "    </tr>\n",
              "    <tr>\n",
              "      <th>14</th>\n",
              "      <td>PODE</td>\n",
              "      <td>21</td>\n",
              "    </tr>\n",
              "    <tr>\n",
              "      <th>15</th>\n",
              "      <td>PRB</td>\n",
              "      <td>20</td>\n",
              "    </tr>\n",
              "    <tr>\n",
              "      <th>16</th>\n",
              "      <td>PPS</td>\n",
              "      <td>18</td>\n",
              "    </tr>\n",
              "    <tr>\n",
              "      <th>17</th>\n",
              "      <td>PTC</td>\n",
              "      <td>18</td>\n",
              "    </tr>\n",
              "    <tr>\n",
              "      <th>18</th>\n",
              "      <td>PROS</td>\n",
              "      <td>17</td>\n",
              "    </tr>\n",
              "    <tr>\n",
              "      <th>19</th>\n",
              "      <td>PSL</td>\n",
              "      <td>16</td>\n",
              "    </tr>\n",
              "    <tr>\n",
              "      <th>20</th>\n",
              "      <td>PTN</td>\n",
              "      <td>15</td>\n",
              "    </tr>\n",
              "    <tr>\n",
              "      <th>21</th>\n",
              "      <td>REPUBLICANOS</td>\n",
              "      <td>15</td>\n",
              "    </tr>\n",
              "    <tr>\n",
              "      <th>22</th>\n",
              "      <td>SOLIDARIEDADE</td>\n",
              "      <td>11</td>\n",
              "    </tr>\n",
              "    <tr>\n",
              "      <th>23</th>\n",
              "      <td>PRTB</td>\n",
              "      <td>9</td>\n",
              "    </tr>\n",
              "    <tr>\n",
              "      <th>24</th>\n",
              "      <td>PHS</td>\n",
              "      <td>8</td>\n",
              "    </tr>\n",
              "    <tr>\n",
              "      <th>25</th>\n",
              "      <td>SD</td>\n",
              "      <td>8</td>\n",
              "    </tr>\n",
              "    <tr>\n",
              "      <th>26</th>\n",
              "      <td>PRP</td>\n",
              "      <td>6</td>\n",
              "    </tr>\n",
              "    <tr>\n",
              "      <th>27</th>\n",
              "      <td>PC do B</td>\n",
              "      <td>5</td>\n",
              "    </tr>\n",
              "    <tr>\n",
              "      <th>28</th>\n",
              "      <td>PT do B</td>\n",
              "      <td>5</td>\n",
              "    </tr>\n",
              "    <tr>\n",
              "      <th>29</th>\n",
              "      <td>PV</td>\n",
              "      <td>5</td>\n",
              "    </tr>\n",
              "    <tr>\n",
              "      <th>30</th>\n",
              "      <td>AVANTE</td>\n",
              "      <td>4</td>\n",
              "    </tr>\n",
              "    <tr>\n",
              "      <th>31</th>\n",
              "      <td>PMN</td>\n",
              "      <td>4</td>\n",
              "    </tr>\n",
              "    <tr>\n",
              "      <th>32</th>\n",
              "      <td>DC</td>\n",
              "      <td>2</td>\n",
              "    </tr>\n",
              "    <tr>\n",
              "      <th>33</th>\n",
              "      <td>PMB</td>\n",
              "      <td>2</td>\n",
              "    </tr>\n",
              "    <tr>\n",
              "      <th>34</th>\n",
              "      <td>PSDC</td>\n",
              "      <td>2</td>\n",
              "    </tr>\n",
              "    <tr>\n",
              "      <th>35</th>\n",
              "      <td>REDE</td>\n",
              "      <td>2</td>\n",
              "    </tr>\n",
              "    <tr>\n",
              "      <th>36</th>\n",
              "      <td>PATRIOTA</td>\n",
              "      <td>1</td>\n",
              "    </tr>\n",
              "  </tbody>\n",
              "</table>\n",
              "</div>\n",
              "      <button class=\"colab-df-convert\" onclick=\"convertToInteractive('df-7179f552-557b-406f-8b3a-891860b674ff')\"\n",
              "              title=\"Convert this dataframe to an interactive table.\"\n",
              "              style=\"display:none;\">\n",
              "        \n",
              "  <svg xmlns=\"http://www.w3.org/2000/svg\" height=\"24px\"viewBox=\"0 0 24 24\"\n",
              "       width=\"24px\">\n",
              "    <path d=\"M0 0h24v24H0V0z\" fill=\"none\"/>\n",
              "    <path d=\"M18.56 5.44l.94 2.06.94-2.06 2.06-.94-2.06-.94-.94-2.06-.94 2.06-2.06.94zm-11 1L8.5 8.5l.94-2.06 2.06-.94-2.06-.94L8.5 2.5l-.94 2.06-2.06.94zm10 10l.94 2.06.94-2.06 2.06-.94-2.06-.94-.94-2.06-.94 2.06-2.06.94z\"/><path d=\"M17.41 7.96l-1.37-1.37c-.4-.4-.92-.59-1.43-.59-.52 0-1.04.2-1.43.59L10.3 9.45l-7.72 7.72c-.78.78-.78 2.05 0 2.83L4 21.41c.39.39.9.59 1.41.59.51 0 1.02-.2 1.41-.59l7.78-7.78 2.81-2.81c.8-.78.8-2.07 0-2.86zM5.41 20L4 18.59l7.72-7.72 1.47 1.35L5.41 20z\"/>\n",
              "  </svg>\n",
              "      </button>\n",
              "      \n",
              "  <style>\n",
              "    .colab-df-container {\n",
              "      display:flex;\n",
              "      flex-wrap:wrap;\n",
              "      gap: 12px;\n",
              "    }\n",
              "\n",
              "    .colab-df-convert {\n",
              "      background-color: #E8F0FE;\n",
              "      border: none;\n",
              "      border-radius: 50%;\n",
              "      cursor: pointer;\n",
              "      display: none;\n",
              "      fill: #1967D2;\n",
              "      height: 32px;\n",
              "      padding: 0 0 0 0;\n",
              "      width: 32px;\n",
              "    }\n",
              "\n",
              "    .colab-df-convert:hover {\n",
              "      background-color: #E2EBFA;\n",
              "      box-shadow: 0px 1px 2px rgba(60, 64, 67, 0.3), 0px 1px 3px 1px rgba(60, 64, 67, 0.15);\n",
              "      fill: #174EA6;\n",
              "    }\n",
              "\n",
              "    [theme=dark] .colab-df-convert {\n",
              "      background-color: #3B4455;\n",
              "      fill: #D2E3FC;\n",
              "    }\n",
              "\n",
              "    [theme=dark] .colab-df-convert:hover {\n",
              "      background-color: #434B5C;\n",
              "      box-shadow: 0px 1px 3px 1px rgba(0, 0, 0, 0.15);\n",
              "      filter: drop-shadow(0px 1px 2px rgba(0, 0, 0, 0.3));\n",
              "      fill: #FFFFFF;\n",
              "    }\n",
              "  </style>\n",
              "\n",
              "      <script>\n",
              "        const buttonEl =\n",
              "          document.querySelector('#df-7179f552-557b-406f-8b3a-891860b674ff button.colab-df-convert');\n",
              "        buttonEl.style.display =\n",
              "          google.colab.kernel.accessAllowed ? 'block' : 'none';\n",
              "\n",
              "        async function convertToInteractive(key) {\n",
              "          const element = document.querySelector('#df-7179f552-557b-406f-8b3a-891860b674ff');\n",
              "          const dataTable =\n",
              "            await google.colab.kernel.invokeFunction('convertToInteractive',\n",
              "                                                     [key], {});\n",
              "          if (!dataTable) return;\n",
              "\n",
              "          const docLinkHtml = 'Like what you see? Visit the ' +\n",
              "            '<a target=\"_blank\" href=https://colab.research.google.com/notebooks/data_table.ipynb>data table notebook</a>'\n",
              "            + ' to learn more about interactive tables.';\n",
              "          element.innerHTML = '';\n",
              "          dataTable['output_type'] = 'display_data';\n",
              "          await google.colab.output.renderOutput(dataTable, element);\n",
              "          const docLink = document.createElement('div');\n",
              "          docLink.innerHTML = docLinkHtml;\n",
              "          element.appendChild(docLink);\n",
              "        }\n",
              "      </script>\n",
              "    </div>\n",
              "  </div>\n",
              "  "
            ]
          },
          "metadata": {},
          "execution_count": 340
        }
      ]
    },
    {
      "cell_type": "markdown",
      "source": [
        "`Partido que mais elegeu homens`"
      ],
      "metadata": {
        "id": "-v86vG-iJDRY"
      }
    },
    {
      "cell_type": "code",
      "source": [
        "#Utilizando sql para contabilizar eleitos masculino por partido\n",
        "query = \"\"\"SELECT SG_PARTIDO, COUNT(SG_PARTIDO) as eleitos\n",
        "           FROM eleito_masculino_partido\n",
        "           GROUP BY SG_PARTIDO\n",
        "           ORDER BY COUNT(SG_PARTIDO) DESC\n",
        "           \"\"\"\n",
        "ps.sqldf(query.lower(), locals())"
      ],
      "metadata": {
        "colab": {
          "base_uri": "https://localhost:8080/",
          "height": 1000
        },
        "id": "kqRBZrZTIoDZ",
        "outputId": "25733d02-428a-491e-b34f-ea9898c1437f"
      },
      "execution_count": 341,
      "outputs": [
        {
          "output_type": "execute_result",
          "data": {
            "text/plain": [
              "       SG_PARTIDO  eleitos\n",
              "0            PSDB     1006\n",
              "1            PMDB      828\n",
              "2              PP      757\n",
              "3             DEM      734\n",
              "4             PSD      603\n",
              "5             PDT      430\n",
              "6             PTB      391\n",
              "7              PR      315\n",
              "8             MDB      301\n",
              "9             PSB      286\n",
              "10             PT      217\n",
              "11            PSC      214\n",
              "12           PODE      151\n",
              "13            PPS      147\n",
              "14           PROS      146\n",
              "15            PSL      129\n",
              "16             PL      128\n",
              "17            PTC      127\n",
              "18      CIDADANIA      124\n",
              "19            PTN       97\n",
              "20           PRTB       91\n",
              "21   REPUBLICANOS       89\n",
              "22            PRB       88\n",
              "23            PHS       85\n",
              "24  SOLIDARIEDADE       78\n",
              "25        PT do B       61\n",
              "26            PRP       59\n",
              "27             SD       59\n",
              "28        PC do B       49\n",
              "29            PMN       46\n",
              "30           PSDC       45\n",
              "31             PV       45\n",
              "32       PATRIOTA       38\n",
              "33         AVANTE       16\n",
              "34             DC       15\n",
              "35            PPL       14\n",
              "36            PMB       12\n",
              "37           REDE        5\n",
              "38           PSOL        1"
            ],
            "text/html": [
              "\n",
              "  <div id=\"df-0a7405b8-50f6-4b75-b87d-33147f2f9cf3\">\n",
              "    <div class=\"colab-df-container\">\n",
              "      <div>\n",
              "<style scoped>\n",
              "    .dataframe tbody tr th:only-of-type {\n",
              "        vertical-align: middle;\n",
              "    }\n",
              "\n",
              "    .dataframe tbody tr th {\n",
              "        vertical-align: top;\n",
              "    }\n",
              "\n",
              "    .dataframe thead th {\n",
              "        text-align: right;\n",
              "    }\n",
              "</style>\n",
              "<table border=\"1\" class=\"dataframe\">\n",
              "  <thead>\n",
              "    <tr style=\"text-align: right;\">\n",
              "      <th></th>\n",
              "      <th>SG_PARTIDO</th>\n",
              "      <th>eleitos</th>\n",
              "    </tr>\n",
              "  </thead>\n",
              "  <tbody>\n",
              "    <tr>\n",
              "      <th>0</th>\n",
              "      <td>PSDB</td>\n",
              "      <td>1006</td>\n",
              "    </tr>\n",
              "    <tr>\n",
              "      <th>1</th>\n",
              "      <td>PMDB</td>\n",
              "      <td>828</td>\n",
              "    </tr>\n",
              "    <tr>\n",
              "      <th>2</th>\n",
              "      <td>PP</td>\n",
              "      <td>757</td>\n",
              "    </tr>\n",
              "    <tr>\n",
              "      <th>3</th>\n",
              "      <td>DEM</td>\n",
              "      <td>734</td>\n",
              "    </tr>\n",
              "    <tr>\n",
              "      <th>4</th>\n",
              "      <td>PSD</td>\n",
              "      <td>603</td>\n",
              "    </tr>\n",
              "    <tr>\n",
              "      <th>5</th>\n",
              "      <td>PDT</td>\n",
              "      <td>430</td>\n",
              "    </tr>\n",
              "    <tr>\n",
              "      <th>6</th>\n",
              "      <td>PTB</td>\n",
              "      <td>391</td>\n",
              "    </tr>\n",
              "    <tr>\n",
              "      <th>7</th>\n",
              "      <td>PR</td>\n",
              "      <td>315</td>\n",
              "    </tr>\n",
              "    <tr>\n",
              "      <th>8</th>\n",
              "      <td>MDB</td>\n",
              "      <td>301</td>\n",
              "    </tr>\n",
              "    <tr>\n",
              "      <th>9</th>\n",
              "      <td>PSB</td>\n",
              "      <td>286</td>\n",
              "    </tr>\n",
              "    <tr>\n",
              "      <th>10</th>\n",
              "      <td>PT</td>\n",
              "      <td>217</td>\n",
              "    </tr>\n",
              "    <tr>\n",
              "      <th>11</th>\n",
              "      <td>PSC</td>\n",
              "      <td>214</td>\n",
              "    </tr>\n",
              "    <tr>\n",
              "      <th>12</th>\n",
              "      <td>PODE</td>\n",
              "      <td>151</td>\n",
              "    </tr>\n",
              "    <tr>\n",
              "      <th>13</th>\n",
              "      <td>PPS</td>\n",
              "      <td>147</td>\n",
              "    </tr>\n",
              "    <tr>\n",
              "      <th>14</th>\n",
              "      <td>PROS</td>\n",
              "      <td>146</td>\n",
              "    </tr>\n",
              "    <tr>\n",
              "      <th>15</th>\n",
              "      <td>PSL</td>\n",
              "      <td>129</td>\n",
              "    </tr>\n",
              "    <tr>\n",
              "      <th>16</th>\n",
              "      <td>PL</td>\n",
              "      <td>128</td>\n",
              "    </tr>\n",
              "    <tr>\n",
              "      <th>17</th>\n",
              "      <td>PTC</td>\n",
              "      <td>127</td>\n",
              "    </tr>\n",
              "    <tr>\n",
              "      <th>18</th>\n",
              "      <td>CIDADANIA</td>\n",
              "      <td>124</td>\n",
              "    </tr>\n",
              "    <tr>\n",
              "      <th>19</th>\n",
              "      <td>PTN</td>\n",
              "      <td>97</td>\n",
              "    </tr>\n",
              "    <tr>\n",
              "      <th>20</th>\n",
              "      <td>PRTB</td>\n",
              "      <td>91</td>\n",
              "    </tr>\n",
              "    <tr>\n",
              "      <th>21</th>\n",
              "      <td>REPUBLICANOS</td>\n",
              "      <td>89</td>\n",
              "    </tr>\n",
              "    <tr>\n",
              "      <th>22</th>\n",
              "      <td>PRB</td>\n",
              "      <td>88</td>\n",
              "    </tr>\n",
              "    <tr>\n",
              "      <th>23</th>\n",
              "      <td>PHS</td>\n",
              "      <td>85</td>\n",
              "    </tr>\n",
              "    <tr>\n",
              "      <th>24</th>\n",
              "      <td>SOLIDARIEDADE</td>\n",
              "      <td>78</td>\n",
              "    </tr>\n",
              "    <tr>\n",
              "      <th>25</th>\n",
              "      <td>PT do B</td>\n",
              "      <td>61</td>\n",
              "    </tr>\n",
              "    <tr>\n",
              "      <th>26</th>\n",
              "      <td>PRP</td>\n",
              "      <td>59</td>\n",
              "    </tr>\n",
              "    <tr>\n",
              "      <th>27</th>\n",
              "      <td>SD</td>\n",
              "      <td>59</td>\n",
              "    </tr>\n",
              "    <tr>\n",
              "      <th>28</th>\n",
              "      <td>PC do B</td>\n",
              "      <td>49</td>\n",
              "    </tr>\n",
              "    <tr>\n",
              "      <th>29</th>\n",
              "      <td>PMN</td>\n",
              "      <td>46</td>\n",
              "    </tr>\n",
              "    <tr>\n",
              "      <th>30</th>\n",
              "      <td>PSDC</td>\n",
              "      <td>45</td>\n",
              "    </tr>\n",
              "    <tr>\n",
              "      <th>31</th>\n",
              "      <td>PV</td>\n",
              "      <td>45</td>\n",
              "    </tr>\n",
              "    <tr>\n",
              "      <th>32</th>\n",
              "      <td>PATRIOTA</td>\n",
              "      <td>38</td>\n",
              "    </tr>\n",
              "    <tr>\n",
              "      <th>33</th>\n",
              "      <td>AVANTE</td>\n",
              "      <td>16</td>\n",
              "    </tr>\n",
              "    <tr>\n",
              "      <th>34</th>\n",
              "      <td>DC</td>\n",
              "      <td>15</td>\n",
              "    </tr>\n",
              "    <tr>\n",
              "      <th>35</th>\n",
              "      <td>PPL</td>\n",
              "      <td>14</td>\n",
              "    </tr>\n",
              "    <tr>\n",
              "      <th>36</th>\n",
              "      <td>PMB</td>\n",
              "      <td>12</td>\n",
              "    </tr>\n",
              "    <tr>\n",
              "      <th>37</th>\n",
              "      <td>REDE</td>\n",
              "      <td>5</td>\n",
              "    </tr>\n",
              "    <tr>\n",
              "      <th>38</th>\n",
              "      <td>PSOL</td>\n",
              "      <td>1</td>\n",
              "    </tr>\n",
              "  </tbody>\n",
              "</table>\n",
              "</div>\n",
              "      <button class=\"colab-df-convert\" onclick=\"convertToInteractive('df-0a7405b8-50f6-4b75-b87d-33147f2f9cf3')\"\n",
              "              title=\"Convert this dataframe to an interactive table.\"\n",
              "              style=\"display:none;\">\n",
              "        \n",
              "  <svg xmlns=\"http://www.w3.org/2000/svg\" height=\"24px\"viewBox=\"0 0 24 24\"\n",
              "       width=\"24px\">\n",
              "    <path d=\"M0 0h24v24H0V0z\" fill=\"none\"/>\n",
              "    <path d=\"M18.56 5.44l.94 2.06.94-2.06 2.06-.94-2.06-.94-.94-2.06-.94 2.06-2.06.94zm-11 1L8.5 8.5l.94-2.06 2.06-.94-2.06-.94L8.5 2.5l-.94 2.06-2.06.94zm10 10l.94 2.06.94-2.06 2.06-.94-2.06-.94-.94-2.06-.94 2.06-2.06.94z\"/><path d=\"M17.41 7.96l-1.37-1.37c-.4-.4-.92-.59-1.43-.59-.52 0-1.04.2-1.43.59L10.3 9.45l-7.72 7.72c-.78.78-.78 2.05 0 2.83L4 21.41c.39.39.9.59 1.41.59.51 0 1.02-.2 1.41-.59l7.78-7.78 2.81-2.81c.8-.78.8-2.07 0-2.86zM5.41 20L4 18.59l7.72-7.72 1.47 1.35L5.41 20z\"/>\n",
              "  </svg>\n",
              "      </button>\n",
              "      \n",
              "  <style>\n",
              "    .colab-df-container {\n",
              "      display:flex;\n",
              "      flex-wrap:wrap;\n",
              "      gap: 12px;\n",
              "    }\n",
              "\n",
              "    .colab-df-convert {\n",
              "      background-color: #E8F0FE;\n",
              "      border: none;\n",
              "      border-radius: 50%;\n",
              "      cursor: pointer;\n",
              "      display: none;\n",
              "      fill: #1967D2;\n",
              "      height: 32px;\n",
              "      padding: 0 0 0 0;\n",
              "      width: 32px;\n",
              "    }\n",
              "\n",
              "    .colab-df-convert:hover {\n",
              "      background-color: #E2EBFA;\n",
              "      box-shadow: 0px 1px 2px rgba(60, 64, 67, 0.3), 0px 1px 3px 1px rgba(60, 64, 67, 0.15);\n",
              "      fill: #174EA6;\n",
              "    }\n",
              "\n",
              "    [theme=dark] .colab-df-convert {\n",
              "      background-color: #3B4455;\n",
              "      fill: #D2E3FC;\n",
              "    }\n",
              "\n",
              "    [theme=dark] .colab-df-convert:hover {\n",
              "      background-color: #434B5C;\n",
              "      box-shadow: 0px 1px 3px 1px rgba(0, 0, 0, 0.15);\n",
              "      filter: drop-shadow(0px 1px 2px rgba(0, 0, 0, 0.3));\n",
              "      fill: #FFFFFF;\n",
              "    }\n",
              "  </style>\n",
              "\n",
              "      <script>\n",
              "        const buttonEl =\n",
              "          document.querySelector('#df-0a7405b8-50f6-4b75-b87d-33147f2f9cf3 button.colab-df-convert');\n",
              "        buttonEl.style.display =\n",
              "          google.colab.kernel.accessAllowed ? 'block' : 'none';\n",
              "\n",
              "        async function convertToInteractive(key) {\n",
              "          const element = document.querySelector('#df-0a7405b8-50f6-4b75-b87d-33147f2f9cf3');\n",
              "          const dataTable =\n",
              "            await google.colab.kernel.invokeFunction('convertToInteractive',\n",
              "                                                     [key], {});\n",
              "          if (!dataTable) return;\n",
              "\n",
              "          const docLinkHtml = 'Like what you see? Visit the ' +\n",
              "            '<a target=\"_blank\" href=https://colab.research.google.com/notebooks/data_table.ipynb>data table notebook</a>'\n",
              "            + ' to learn more about interactive tables.';\n",
              "          element.innerHTML = '';\n",
              "          dataTable['output_type'] = 'display_data';\n",
              "          await google.colab.output.renderOutput(dataTable, element);\n",
              "          const docLink = document.createElement('div');\n",
              "          docLink.innerHTML = docLinkHtml;\n",
              "          element.appendChild(docLink);\n",
              "        }\n",
              "      </script>\n",
              "    </div>\n",
              "  </div>\n",
              "  "
            ]
          },
          "metadata": {},
          "execution_count": 341
        }
      ]
    },
    {
      "cell_type": "markdown",
      "source": [
        "**Gráfico do nivel de escolaridade de quem mais ganha eleições**"
      ],
      "metadata": {
        "id": "lMbBizeVJmQF"
      }
    },
    {
      "cell_type": "code",
      "source": [
        "eleito_escolaridade = candidatos_goias[candidatos_goias['DS_SIT_TOT_TURNO'] == \"ELEITO\"]"
      ],
      "metadata": {
        "id": "elPGJhu8J16n"
      },
      "execution_count": 342,
      "outputs": []
    },
    {
      "cell_type": "code",
      "source": [
        "fig = plt.figure(figsize=(10,5))\n",
        "grafico = sns.countplot('DS_GRAU_INSTRUCAO', order = eleito_escolaridade['DS_GRAU_INSTRUCAO'].value_counts().index, palette=\"Paired\",  data =  eleito_escolaridade)\n",
        "plt.xticks(rotation=90)\n",
        "for i in grafico.patches:\n",
        "   grafico.annotate(i.get_height(),\n",
        "                  (i.get_x() + i.get_width() / 2, i.get_height()),\n",
        "                  ha='center',\n",
        "                  va='baseline',\n",
        "                  fontsize=12,\n",
        "                  color='black',\n",
        "                  xytext=(0, 1),\n",
        "                  textcoords='offset points');  \n",
        "plt.xlabel('Escolaridade', fontsize=15)\n",
        "plt.ylabel(' ')\n",
        "plt.title('Grafico quantidade por  escolaridade',fontsize=15);"
      ],
      "metadata": {
        "colab": {
          "base_uri": "https://localhost:8080/",
          "height": 586
        },
        "id": "Ftn039PoJAwJ",
        "outputId": "78a58145-2658-445d-9dc0-68e278911c70"
      },
      "execution_count": 343,
      "outputs": [
        {
          "output_type": "stream",
          "name": "stderr",
          "text": [
            "/usr/local/lib/python3.7/dist-packages/seaborn/_decorators.py:43: FutureWarning: Pass the following variable as a keyword arg: x. From version 0.12, the only valid positional argument will be `data`, and passing other arguments without an explicit keyword will result in an error or misinterpretation.\n",
            "  FutureWarning\n"
          ]
        },
        {
          "output_type": "display_data",
          "data": {
            "text/plain": [
              "<Figure size 720x360 with 1 Axes>"
            ],
            "image/png": "[encoded data removed]"
          },
          "metadata": {
            "needs_background": "light"
          }
        }
      ]
    },
    {
      "cell_type": "markdown",
      "source": [
        "**Porcentagem da escolaridade de quem mais ganha eleições**"
      ],
      "metadata": {
        "id": "vvAUhWuvKPbB"
      }
    },
    {
      "cell_type": "code",
      "source": [
        "porc_escolaridade = candidatos_goias[candidatos_goias['DS_SIT_TOT_TURNO'] == \"ELEITO\"]\n",
        "porc_escolaridade['DS_GRAU_INSTRUCAO'].value_counts()/ porc_escolaridade['DS_GRAU_INSTRUCAO'].count()*100"
      ],
      "metadata": {
        "id": "B86LF3CMK90z",
        "colab": {
          "base_uri": "https://localhost:8080/"
        },
        "outputId": "e7a76c47-6a0a-429b-c315-377cd9440577"
      },
      "execution_count": 344,
      "outputs": [
        {
          "output_type": "execute_result",
          "data": {
            "text/plain": [
              "ENSINO MÉDIO COMPLETO            39.702044\n",
              "SUPERIOR COMPLETO                28.240539\n",
              "ENSINO FUNDAMENTAL INCOMPLETO    11.265768\n",
              "ENSINO FUNDAMENTAL COMPLETO       9.841235\n",
              "ENSINO MÉDIO INCOMPLETO           5.295781\n",
              "SUPERIOR INCOMPLETO               4.697695\n",
              "LÊ E ESCREVE                      0.956938\n",
              "Name: DS_GRAU_INSTRUCAO, dtype: float64"
            ]
          },
          "metadata": {},
          "execution_count": 344
        }
      ]
    },
    {
      "cell_type": "markdown",
      "source": [
        "**Crescimento de candidatos inscritos nas eleições**"
      ],
      "metadata": {
        "id": "9CnSg06Ha0oW"
      }
    },
    {
      "cell_type": "code",
      "source": [
        "candidatos_goias.groupby(\"ANO_ELEICAO\",sort=True)[\"ANO_ELEICAO\"].count()"
      ],
      "metadata": {
        "colab": {
          "base_uri": "https://localhost:8080/"
        },
        "id": "ghu3vPbIbIzm",
        "outputId": "d9603501-c314-4535-a3ea-23a716e1b71a"
      },
      "execution_count": 345,
      "outputs": [
        {
          "output_type": "execute_result",
          "data": {
            "text/plain": [
              "ANO_ELEICAO\n",
              "2010      844\n",
              "2012    20544\n",
              "2014     1064\n",
              "2016    21307\n",
              "2018     1193\n",
              "2020    24941\n",
              "2022     1236\n",
              "Name: ANO_ELEICAO, dtype: int64"
            ]
          },
          "metadata": {},
          "execution_count": 345
        }
      ]
    },
    {
      "cell_type": "markdown",
      "source": [
        "**Crescimento de mulheres x homens candidatos a eleições**"
      ],
      "metadata": {
        "id": "zLmS1t4YdE1N"
      }
    },
    {
      "cell_type": "markdown",
      "source": [
        "`Quantidade de mulheres canditadas nas eleições no decorrer dos anos`"
      ],
      "metadata": {
        "id": "yHiQcjzVgx1N"
      }
    },
    {
      "cell_type": "code",
      "source": [
        "candidatos_eleicao_crescimento_genero_feminino = candidatos_goias[candidatos_goias['DS_GENERO'] == \"FEMININO\"]\n",
        "candidatos_eleicao_crescimento_genero_feminino = candidatos_eleicao_crescimento_genero_feminino.groupby([\"DS_GENERO\", \"ANO_ELEICAO\"], as_index=False)[\"DS_GENERO\"].count()\n",
        "candidatos_eleicao_crescimento_genero_feminino = candidatos_eleicao_crescimento_genero_feminino.sort_values(by='DS_GENERO', ascending=False)\n",
        "candidatos_eleicao_crescimento_genero_feminino = candidatos_eleicao_crescimento_genero_feminino.rename(columns={'DS_GENERO': 'FEMININO'})\n",
        "candidatos_eleicao_crescimento_genero_feminino"
      ],
      "metadata": {
        "colab": {
          "base_uri": "https://localhost:8080/",
          "height": 269
        },
        "id": "qHDEAh9pdA7P",
        "outputId": "32466ad8-9fdb-4157-e5f6-eff152713b90"
      },
      "execution_count": 346,
      "outputs": [
        {
          "output_type": "execute_result",
          "data": {
            "text/plain": [
              "   ANO_ELEICAO  FEMININO\n",
              "5         2020      8411\n",
              "3         2016      6825\n",
              "1         2012      6458\n",
              "6         2022       440\n",
              "4         2018       386\n",
              "2         2014       319\n",
              "0         2010       162"
            ],
            "text/html": [
              "\n",
              "  <div id=\"df-97ce7076-312f-4661-9f59-5421d308334b\">\n",
              "    <div class=\"colab-df-container\">\n",
              "      <div>\n",
              "<style scoped>\n",
              "    .dataframe tbody tr th:only-of-type {\n",
              "        vertical-align: middle;\n",
              "    }\n",
              "\n",
              "    .dataframe tbody tr th {\n",
              "        vertical-align: top;\n",
              "    }\n",
              "\n",
              "    .dataframe thead th {\n",
              "        text-align: right;\n",
              "    }\n",
              "</style>\n",
              "<table border=\"1\" class=\"dataframe\">\n",
              "  <thead>\n",
              "    <tr style=\"text-align: right;\">\n",
              "      <th></th>\n",
              "      <th>ANO_ELEICAO</th>\n",
              "      <th>FEMININO</th>\n",
              "    </tr>\n",
              "  </thead>\n",
              "  <tbody>\n",
              "    <tr>\n",
              "      <th>5</th>\n",
              "      <td>2020</td>\n",
              "      <td>8411</td>\n",
              "    </tr>\n",
              "    <tr>\n",
              "      <th>3</th>\n",
              "      <td>2016</td>\n",
              "      <td>6825</td>\n",
              "    </tr>\n",
              "    <tr>\n",
              "      <th>1</th>\n",
              "      <td>2012</td>\n",
              "      <td>6458</td>\n",
              "    </tr>\n",
              "    <tr>\n",
              "      <th>6</th>\n",
              "      <td>2022</td>\n",
              "      <td>440</td>\n",
              "    </tr>\n",
              "    <tr>\n",
              "      <th>4</th>\n",
              "      <td>2018</td>\n",
              "      <td>386</td>\n",
              "    </tr>\n",
              "    <tr>\n",
              "      <th>2</th>\n",
              "      <td>2014</td>\n",
              "      <td>319</td>\n",
              "    </tr>\n",
              "    <tr>\n",
              "      <th>0</th>\n",
              "      <td>2010</td>\n",
              "      <td>162</td>\n",
              "    </tr>\n",
              "  </tbody>\n",
              "</table>\n",
              "</div>\n",
              "      <button class=\"colab-df-convert\" onclick=\"convertToInteractive('df-97ce7076-312f-4661-9f59-5421d308334b')\"\n",
              "              title=\"Convert this dataframe to an interactive table.\"\n",
              "              style=\"display:none;\">\n",
              "        \n",
              "  <svg xmlns=\"http://www.w3.org/2000/svg\" height=\"24px\"viewBox=\"0 0 24 24\"\n",
              "       width=\"24px\">\n",
              "    <path d=\"M0 0h24v24H0V0z\" fill=\"none\"/>\n",
              "    <path d=\"M18.56 5.44l.94 2.06.94-2.06 2.06-.94-2.06-.94-.94-2.06-.94 2.06-2.06.94zm-11 1L8.5 8.5l.94-2.06 2.06-.94-2.06-.94L8.5 2.5l-.94 2.06-2.06.94zm10 10l.94 2.06.94-2.06 2.06-.94-2.06-.94-.94-2.06-.94 2.06-2.06.94z\"/><path d=\"M17.41 7.96l-1.37-1.37c-.4-.4-.92-.59-1.43-.59-.52 0-1.04.2-1.43.59L10.3 9.45l-7.72 7.72c-.78.78-.78 2.05 0 2.83L4 21.41c.39.39.9.59 1.41.59.51 0 1.02-.2 1.41-.59l7.78-7.78 2.81-2.81c.8-.78.8-2.07 0-2.86zM5.41 20L4 18.59l7.72-7.72 1.47 1.35L5.41 20z\"/>\n",
              "  </svg>\n",
              "      </button>\n",
              "      \n",
              "  <style>\n",
              "    .colab-df-container {\n",
              "      display:flex;\n",
              "      flex-wrap:wrap;\n",
              "      gap: 12px;\n",
              "    }\n",
              "\n",
              "    .colab-df-convert {\n",
              "      background-color: #E8F0FE;\n",
              "      border: none;\n",
              "      border-radius: 50%;\n",
              "      cursor: pointer;\n",
              "      display: none;\n",
              "      fill: #1967D2;\n",
              "      height: 32px;\n",
              "      padding: 0 0 0 0;\n",
              "      width: 32px;\n",
              "    }\n",
              "\n",
              "    .colab-df-convert:hover {\n",
              "      background-color: #E2EBFA;\n",
              "      box-shadow: 0px 1px 2px rgba(60, 64, 67, 0.3), 0px 1px 3px 1px rgba(60, 64, 67, 0.15);\n",
              "      fill: #174EA6;\n",
              "    }\n",
              "\n",
              "    [theme=dark] .colab-df-convert {\n",
              "      background-color: #3B4455;\n",
              "      fill: #D2E3FC;\n",
              "    }\n",
              "\n",
              "    [theme=dark] .colab-df-convert:hover {\n",
              "      background-color: #434B5C;\n",
              "      box-shadow: 0px 1px 3px 1px rgba(0, 0, 0, 0.15);\n",
              "      filter: drop-shadow(0px 1px 2px rgba(0, 0, 0, 0.3));\n",
              "      fill: #FFFFFF;\n",
              "    }\n",
              "  </style>\n",
              "\n",
              "      <script>\n",
              "        const buttonEl =\n",
              "          document.querySelector('#df-97ce7076-312f-4661-9f59-5421d308334b button.colab-df-convert');\n",
              "        buttonEl.style.display =\n",
              "          google.colab.kernel.accessAllowed ? 'block' : 'none';\n",
              "\n",
              "        async function convertToInteractive(key) {\n",
              "          const element = document.querySelector('#df-97ce7076-312f-4661-9f59-5421d308334b');\n",
              "          const dataTable =\n",
              "            await google.colab.kernel.invokeFunction('convertToInteractive',\n",
              "                                                     [key], {});\n",
              "          if (!dataTable) return;\n",
              "\n",
              "          const docLinkHtml = 'Like what you see? Visit the ' +\n",
              "            '<a target=\"_blank\" href=https://colab.research.google.com/notebooks/data_table.ipynb>data table notebook</a>'\n",
              "            + ' to learn more about interactive tables.';\n",
              "          element.innerHTML = '';\n",
              "          dataTable['output_type'] = 'display_data';\n",
              "          await google.colab.output.renderOutput(dataTable, element);\n",
              "          const docLink = document.createElement('div');\n",
              "          docLink.innerHTML = docLinkHtml;\n",
              "          element.appendChild(docLink);\n",
              "        }\n",
              "      </script>\n",
              "    </div>\n",
              "  </div>\n",
              "  "
            ]
          },
          "metadata": {},
          "execution_count": 346
        }
      ]
    },
    {
      "cell_type": "markdown",
      "source": [
        "`Quantidade de homens canditados nas eleições no decorrer dos anos`"
      ],
      "metadata": {
        "id": "0QWgRhETg8Lx"
      }
    },
    {
      "cell_type": "code",
      "source": [
        "candidatos_eleicao_crescimento_genero_masculino = candidatos_goias[candidatos_goias['DS_GENERO'] == \"MASCULINO\"]\n",
        "candidatos_eleicao_crescimento_genero_masculino = candidatos_eleicao_crescimento_genero_masculino.groupby([\"DS_GENERO\", \"ANO_ELEICAO\"], as_index=False)[\"DS_GENERO\"].count()\n",
        "candidatos_eleicao_crescimento_genero_masculino = candidatos_eleicao_crescimento_genero_masculino.sort_values(by='DS_GENERO', ascending=False)\n",
        "candidatos_eleicao_crescimento_genero_masculino = candidatos_eleicao_crescimento_genero_masculino.rename(columns={'DS_GENERO': 'MASCULINO'})\n",
        "candidatos_eleicao_crescimento_genero_masculino"
      ],
      "metadata": {
        "colab": {
          "base_uri": "https://localhost:8080/",
          "height": 269
        },
        "id": "i3-QYmW8hAR0",
        "outputId": "3f23448a-9c15-40c7-a2f0-1428d44b546d"
      },
      "execution_count": 347,
      "outputs": [
        {
          "output_type": "execute_result",
          "data": {
            "text/plain": [
              "   ANO_ELEICAO  MASCULINO\n",
              "5         2020      16530\n",
              "3         2016      14482\n",
              "1         2012      14086\n",
              "4         2018        807\n",
              "6         2022        796\n",
              "2         2014        745\n",
              "0         2010        682"
            ],
            "text/html": [
              "\n",
              "  <div id=\"df-aec9703b-1ec9-4c91-85a5-8915fadbd2f5\">\n",
              "    <div class=\"colab-df-container\">\n",
              "      <div>\n",
              "<style scoped>\n",
              "    .dataframe tbody tr th:only-of-type {\n",
              "        vertical-align: middle;\n",
              "    }\n",
              "\n",
              "    .dataframe tbody tr th {\n",
              "        vertical-align: top;\n",
              "    }\n",
              "\n",
              "    .dataframe thead th {\n",
              "        text-align: right;\n",
              "    }\n",
              "</style>\n",
              "<table border=\"1\" class=\"dataframe\">\n",
              "  <thead>\n",
              "    <tr style=\"text-align: right;\">\n",
              "      <th></th>\n",
              "      <th>ANO_ELEICAO</th>\n",
              "      <th>MASCULINO</th>\n",
              "    </tr>\n",
              "  </thead>\n",
              "  <tbody>\n",
              "    <tr>\n",
              "      <th>5</th>\n",
              "      <td>2020</td>\n",
              "      <td>16530</td>\n",
              "    </tr>\n",
              "    <tr>\n",
              "      <th>3</th>\n",
              "      <td>2016</td>\n",
              "      <td>14482</td>\n",
              "    </tr>\n",
              "    <tr>\n",
              "      <th>1</th>\n",
              "      <td>2012</td>\n",
              "      <td>14086</td>\n",
              "    </tr>\n",
              "    <tr>\n",
              "      <th>4</th>\n",
              "      <td>2018</td>\n",
              "      <td>807</td>\n",
              "    </tr>\n",
              "    <tr>\n",
              "      <th>6</th>\n",
              "      <td>2022</td>\n",
              "      <td>796</td>\n",
              "    </tr>\n",
              "    <tr>\n",
              "      <th>2</th>\n",
              "      <td>2014</td>\n",
              "      <td>745</td>\n",
              "    </tr>\n",
              "    <tr>\n",
              "      <th>0</th>\n",
              "      <td>2010</td>\n",
              "      <td>682</td>\n",
              "    </tr>\n",
              "  </tbody>\n",
              "</table>\n",
              "</div>\n",
              "      <button class=\"colab-df-convert\" onclick=\"convertToInteractive('df-aec9703b-1ec9-4c91-85a5-8915fadbd2f5')\"\n",
              "              title=\"Convert this dataframe to an interactive table.\"\n",
              "              style=\"display:none;\">\n",
              "        \n",
              "  <svg xmlns=\"http://www.w3.org/2000/svg\" height=\"24px\"viewBox=\"0 0 24 24\"\n",
              "       width=\"24px\">\n",
              "    <path d=\"M0 0h24v24H0V0z\" fill=\"none\"/>\n",
              "    <path d=\"M18.56 5.44l.94 2.06.94-2.06 2.06-.94-2.06-.94-.94-2.06-.94 2.06-2.06.94zm-11 1L8.5 8.5l.94-2.06 2.06-.94-2.06-.94L8.5 2.5l-.94 2.06-2.06.94zm10 10l.94 2.06.94-2.06 2.06-.94-2.06-.94-.94-2.06-.94 2.06-2.06.94z\"/><path d=\"M17.41 7.96l-1.37-1.37c-.4-.4-.92-.59-1.43-.59-.52 0-1.04.2-1.43.59L10.3 9.45l-7.72 7.72c-.78.78-.78 2.05 0 2.83L4 21.41c.39.39.9.59 1.41.59.51 0 1.02-.2 1.41-.59l7.78-7.78 2.81-2.81c.8-.78.8-2.07 0-2.86zM5.41 20L4 18.59l7.72-7.72 1.47 1.35L5.41 20z\"/>\n",
              "  </svg>\n",
              "      </button>\n",
              "      \n",
              "  <style>\n",
              "    .colab-df-container {\n",
              "      display:flex;\n",
              "      flex-wrap:wrap;\n",
              "      gap: 12px;\n",
              "    }\n",
              "\n",
              "    .colab-df-convert {\n",
              "      background-color: #E8F0FE;\n",
              "      border: none;\n",
              "      border-radius: 50%;\n",
              "      cursor: pointer;\n",
              "      display: none;\n",
              "      fill: #1967D2;\n",
              "      height: 32px;\n",
              "      padding: 0 0 0 0;\n",
              "      width: 32px;\n",
              "    }\n",
              "\n",
              "    .colab-df-convert:hover {\n",
              "      background-color: #E2EBFA;\n",
              "      box-shadow: 0px 1px 2px rgba(60, 64, 67, 0.3), 0px 1px 3px 1px rgba(60, 64, 67, 0.15);\n",
              "      fill: #174EA6;\n",
              "    }\n",
              "\n",
              "    [theme=dark] .colab-df-convert {\n",
              "      background-color: #3B4455;\n",
              "      fill: #D2E3FC;\n",
              "    }\n",
              "\n",
              "    [theme=dark] .colab-df-convert:hover {\n",
              "      background-color: #434B5C;\n",
              "      box-shadow: 0px 1px 3px 1px rgba(0, 0, 0, 0.15);\n",
              "      filter: drop-shadow(0px 1px 2px rgba(0, 0, 0, 0.3));\n",
              "      fill: #FFFFFF;\n",
              "    }\n",
              "  </style>\n",
              "\n",
              "      <script>\n",
              "        const buttonEl =\n",
              "          document.querySelector('#df-aec9703b-1ec9-4c91-85a5-8915fadbd2f5 button.colab-df-convert');\n",
              "        buttonEl.style.display =\n",
              "          google.colab.kernel.accessAllowed ? 'block' : 'none';\n",
              "\n",
              "        async function convertToInteractive(key) {\n",
              "          const element = document.querySelector('#df-aec9703b-1ec9-4c91-85a5-8915fadbd2f5');\n",
              "          const dataTable =\n",
              "            await google.colab.kernel.invokeFunction('convertToInteractive',\n",
              "                                                     [key], {});\n",
              "          if (!dataTable) return;\n",
              "\n",
              "          const docLinkHtml = 'Like what you see? Visit the ' +\n",
              "            '<a target=\"_blank\" href=https://colab.research.google.com/notebooks/data_table.ipynb>data table notebook</a>'\n",
              "            + ' to learn more about interactive tables.';\n",
              "          element.innerHTML = '';\n",
              "          dataTable['output_type'] = 'display_data';\n",
              "          await google.colab.output.renderOutput(dataTable, element);\n",
              "          const docLink = document.createElement('div');\n",
              "          docLink.innerHTML = docLinkHtml;\n",
              "          element.appendChild(docLink);\n",
              "        }\n",
              "      </script>\n",
              "    </div>\n",
              "  </div>\n",
              "  "
            ]
          },
          "metadata": {},
          "execution_count": 347
        }
      ]
    },
    {
      "cell_type": "code",
      "source": [],
      "metadata": {
        "id": "Sgko1w7jj9xB"
      },
      "execution_count": 347,
      "outputs": []
    },
    {
      "cell_type": "markdown",
      "source": [
        "**Qual ano as mulheres X homens mais ganharam eleições**"
      ],
      "metadata": {
        "id": "hufJgsjUhsd7"
      }
    },
    {
      "cell_type": "markdown",
      "source": [
        "`Quantidade de mulheres eleitas no decorrer dos anos`"
      ],
      "metadata": {
        "id": "IwDxiweIkgfI"
      }
    },
    {
      "cell_type": "code",
      "source": [
        "eleito_partido = candidatos_goias[candidatos_goias['DS_SIT_TOT_TURNO'] == \"ELEITO\"]\n",
        "eleito_feminino_partido = eleito_partido[eleito_partido['DS_GENERO'] == \"FEMININO\"]"
      ],
      "metadata": {
        "id": "3GDMsYdZkF9D"
      },
      "execution_count": 348,
      "outputs": []
    },
    {
      "cell_type": "code",
      "source": [
        "#Utilizando sql para contabilizar qual ano de eleições as mulheres mais ganharam\n",
        "query = \"\"\"SELECT DS_GENERO,ANO_ELEICAO, COUNT(ANO_ELEICAO) as eleitos\n",
        "           FROM eleito_feminino_partido\n",
        "           GROUP BY ANO_ELEICAO\n",
        "           ORDER BY COUNT(ANO_ELEICAO) DESC\n",
        "           \"\"\"\n",
        "ps.sqldf(query.lower(), locals())"
      ],
      "metadata": {
        "colab": {
          "base_uri": "https://localhost:8080/",
          "height": 238
        },
        "id": "ic_JT1Y3hxMt",
        "outputId": "6796ecfa-77c0-4d16-a91a-b946422d858e"
      },
      "execution_count": 349,
      "outputs": [
        {
          "output_type": "execute_result",
          "data": {
            "text/plain": [
              "  DS_GENERO  ANO_ELEICAO  eleitos\n",
              "0  FEMININO         2020      425\n",
              "1  FEMININO         2016      383\n",
              "2  FEMININO         2012      346\n",
              "3  FEMININO         2014        6\n",
              "4  FEMININO         2010        5\n",
              "5  FEMININO         2018        4"
            ],
            "text/html": [
              "\n",
              "  <div id=\"df-475efbd6-a6a4-4fe9-a492-761fc71d1cd3\">\n",
              "    <div class=\"colab-df-container\">\n",
              "      <div>\n",
              "<style scoped>\n",
              "    .dataframe tbody tr th:only-of-type {\n",
              "        vertical-align: middle;\n",
              "    }\n",
              "\n",
              "    .dataframe tbody tr th {\n",
              "        vertical-align: top;\n",
              "    }\n",
              "\n",
              "    .dataframe thead th {\n",
              "        text-align: right;\n",
              "    }\n",
              "</style>\n",
              "<table border=\"1\" class=\"dataframe\">\n",
              "  <thead>\n",
              "    <tr style=\"text-align: right;\">\n",
              "      <th></th>\n",
              "      <th>DS_GENERO</th>\n",
              "      <th>ANO_ELEICAO</th>\n",
              "      <th>eleitos</th>\n",
              "    </tr>\n",
              "  </thead>\n",
              "  <tbody>\n",
              "    <tr>\n",
              "      <th>0</th>\n",
              "      <td>FEMININO</td>\n",
              "      <td>2020</td>\n",
              "      <td>425</td>\n",
              "    </tr>\n",
              "    <tr>\n",
              "      <th>1</th>\n",
              "      <td>FEMININO</td>\n",
              "      <td>2016</td>\n",
              "      <td>383</td>\n",
              "    </tr>\n",
              "    <tr>\n",
              "      <th>2</th>\n",
              "      <td>FEMININO</td>\n",
              "      <td>2012</td>\n",
              "      <td>346</td>\n",
              "    </tr>\n",
              "    <tr>\n",
              "      <th>3</th>\n",
              "      <td>FEMININO</td>\n",
              "      <td>2014</td>\n",
              "      <td>6</td>\n",
              "    </tr>\n",
              "    <tr>\n",
              "      <th>4</th>\n",
              "      <td>FEMININO</td>\n",
              "      <td>2010</td>\n",
              "      <td>5</td>\n",
              "    </tr>\n",
              "    <tr>\n",
              "      <th>5</th>\n",
              "      <td>FEMININO</td>\n",
              "      <td>2018</td>\n",
              "      <td>4</td>\n",
              "    </tr>\n",
              "  </tbody>\n",
              "</table>\n",
              "</div>\n",
              "      <button class=\"colab-df-convert\" onclick=\"convertToInteractive('df-475efbd6-a6a4-4fe9-a492-761fc71d1cd3')\"\n",
              "              title=\"Convert this dataframe to an interactive table.\"\n",
              "              style=\"display:none;\">\n",
              "        \n",
              "  <svg xmlns=\"http://www.w3.org/2000/svg\" height=\"24px\"viewBox=\"0 0 24 24\"\n",
              "       width=\"24px\">\n",
              "    <path d=\"M0 0h24v24H0V0z\" fill=\"none\"/>\n",
              "    <path d=\"M18.56 5.44l.94 2.06.94-2.06 2.06-.94-2.06-.94-.94-2.06-.94 2.06-2.06.94zm-11 1L8.5 8.5l.94-2.06 2.06-.94-2.06-.94L8.5 2.5l-.94 2.06-2.06.94zm10 10l.94 2.06.94-2.06 2.06-.94-2.06-.94-.94-2.06-.94 2.06-2.06.94z\"/><path d=\"M17.41 7.96l-1.37-1.37c-.4-.4-.92-.59-1.43-.59-.52 0-1.04.2-1.43.59L10.3 9.45l-7.72 7.72c-.78.78-.78 2.05 0 2.83L4 21.41c.39.39.9.59 1.41.59.51 0 1.02-.2 1.41-.59l7.78-7.78 2.81-2.81c.8-.78.8-2.07 0-2.86zM5.41 20L4 18.59l7.72-7.72 1.47 1.35L5.41 20z\"/>\n",
              "  </svg>\n",
              "      </button>\n",
              "      \n",
              "  <style>\n",
              "    .colab-df-container {\n",
              "      display:flex;\n",
              "      flex-wrap:wrap;\n",
              "      gap: 12px;\n",
              "    }\n",
              "\n",
              "    .colab-df-convert {\n",
              "      background-color: #E8F0FE;\n",
              "      border: none;\n",
              "      border-radius: 50%;\n",
              "      cursor: pointer;\n",
              "      display: none;\n",
              "      fill: #1967D2;\n",
              "      height: 32px;\n",
              "      padding: 0 0 0 0;\n",
              "      width: 32px;\n",
              "    }\n",
              "\n",
              "    .colab-df-convert:hover {\n",
              "      background-color: #E2EBFA;\n",
              "      box-shadow: 0px 1px 2px rgba(60, 64, 67, 0.3), 0px 1px 3px 1px rgba(60, 64, 67, 0.15);\n",
              "      fill: #174EA6;\n",
              "    }\n",
              "\n",
              "    [theme=dark] .colab-df-convert {\n",
              "      background-color: #3B4455;\n",
              "      fill: #D2E3FC;\n",
              "    }\n",
              "\n",
              "    [theme=dark] .colab-df-convert:hover {\n",
              "      background-color: #434B5C;\n",
              "      box-shadow: 0px 1px 3px 1px rgba(0, 0, 0, 0.15);\n",
              "      filter: drop-shadow(0px 1px 2px rgba(0, 0, 0, 0.3));\n",
              "      fill: #FFFFFF;\n",
              "    }\n",
              "  </style>\n",
              "\n",
              "      <script>\n",
              "        const buttonEl =\n",
              "          document.querySelector('#df-475efbd6-a6a4-4fe9-a492-761fc71d1cd3 button.colab-df-convert');\n",
              "        buttonEl.style.display =\n",
              "          google.colab.kernel.accessAllowed ? 'block' : 'none';\n",
              "\n",
              "        async function convertToInteractive(key) {\n",
              "          const element = document.querySelector('#df-475efbd6-a6a4-4fe9-a492-761fc71d1cd3');\n",
              "          const dataTable =\n",
              "            await google.colab.kernel.invokeFunction('convertToInteractive',\n",
              "                                                     [key], {});\n",
              "          if (!dataTable) return;\n",
              "\n",
              "          const docLinkHtml = 'Like what you see? Visit the ' +\n",
              "            '<a target=\"_blank\" href=https://colab.research.google.com/notebooks/data_table.ipynb>data table notebook</a>'\n",
              "            + ' to learn more about interactive tables.';\n",
              "          element.innerHTML = '';\n",
              "          dataTable['output_type'] = 'display_data';\n",
              "          await google.colab.output.renderOutput(dataTable, element);\n",
              "          const docLink = document.createElement('div');\n",
              "          docLink.innerHTML = docLinkHtml;\n",
              "          element.appendChild(docLink);\n",
              "        }\n",
              "      </script>\n",
              "    </div>\n",
              "  </div>\n",
              "  "
            ]
          },
          "metadata": {},
          "execution_count": 349
        }
      ]
    },
    {
      "cell_type": "markdown",
      "source": [
        "`Quantidade de homens eleitos no decorrer dos anos`"
      ],
      "metadata": {
        "id": "sPs2xWunlNHz"
      }
    },
    {
      "cell_type": "code",
      "source": [
        "eleito_partido = candidatos_goias[candidatos_goias['DS_SIT_TOT_TURNO'] == \"ELEITO\"]\n",
        "eleito_masculino_partido = eleito_partido[eleito_partido['DS_GENERO'] == \"MASCULINO\"]"
      ],
      "metadata": {
        "id": "n2LovVnRklgm"
      },
      "execution_count": 350,
      "outputs": []
    },
    {
      "cell_type": "code",
      "source": [
        "#Utilizando sql para contabilizar qual ano de eleições as mulheres mais ganharam\n",
        "query = \"\"\"SELECT DS_GENERO,ANO_ELEICAO, COUNT(ANO_ELEICAO) as eleitos\n",
        "           FROM eleito_masculino_partido\n",
        "           GROUP BY ANO_ELEICAO\n",
        "           ORDER BY COUNT(ANO_ELEICAO) DESC\n",
        "           \"\"\"\n",
        "ps.sqldf(query.lower(), locals())"
      ],
      "metadata": {
        "colab": {
          "base_uri": "https://localhost:8080/",
          "height": 238
        },
        "id": "OHX_ZiwZk6uM",
        "outputId": "5ba77d67-d50f-4180-8fb7-350499f70603"
      },
      "execution_count": 351,
      "outputs": [
        {
          "output_type": "execute_result",
          "data": {
            "text/plain": [
              "   DS_GENERO  ANO_ELEICAO  eleitos\n",
              "0  MASCULINO         2012     2647\n",
              "1  MASCULINO         2016     2628\n",
              "2  MASCULINO         2020     2583\n",
              "3  MASCULINO         2018       62\n",
              "4  MASCULINO         2014       59\n",
              "5  MASCULINO         2010       48"
            ],
            "text/html": [
              "\n",
              "  <div id=\"df-2ef590a9-a858-4cd3-977d-906eb174d65d\">\n",
              "    <div class=\"colab-df-container\">\n",
              "      <div>\n",
              "<style scoped>\n",
              "    .dataframe tbody tr th:only-of-type {\n",
              "        vertical-align: middle;\n",
              "    }\n",
              "\n",
              "    .dataframe tbody tr th {\n",
              "        vertical-align: top;\n",
              "    }\n",
              "\n",
              "    .dataframe thead th {\n",
              "        text-align: right;\n",
              "    }\n",
              "</style>\n",
              "<table border=\"1\" class=\"dataframe\">\n",
              "  <thead>\n",
              "    <tr style=\"text-align: right;\">\n",
              "      <th></th>\n",
              "      <th>DS_GENERO</th>\n",
              "      <th>ANO_ELEICAO</th>\n",
              "      <th>eleitos</th>\n",
              "    </tr>\n",
              "  </thead>\n",
              "  <tbody>\n",
              "    <tr>\n",
              "      <th>0</th>\n",
              "      <td>MASCULINO</td>\n",
              "      <td>2012</td>\n",
              "      <td>2647</td>\n",
              "    </tr>\n",
              "    <tr>\n",
              "      <th>1</th>\n",
              "      <td>MASCULINO</td>\n",
              "      <td>2016</td>\n",
              "      <td>2628</td>\n",
              "    </tr>\n",
              "    <tr>\n",
              "      <th>2</th>\n",
              "      <td>MASCULINO</td>\n",
              "      <td>2020</td>\n",
              "      <td>2583</td>\n",
              "    </tr>\n",
              "    <tr>\n",
              "      <th>3</th>\n",
              "      <td>MASCULINO</td>\n",
              "      <td>2018</td>\n",
              "      <td>62</td>\n",
              "    </tr>\n",
              "    <tr>\n",
              "      <th>4</th>\n",
              "      <td>MASCULINO</td>\n",
              "      <td>2014</td>\n",
              "      <td>59</td>\n",
              "    </tr>\n",
              "    <tr>\n",
              "      <th>5</th>\n",
              "      <td>MASCULINO</td>\n",
              "      <td>2010</td>\n",
              "      <td>48</td>\n",
              "    </tr>\n",
              "  </tbody>\n",
              "</table>\n",
              "</div>\n",
              "      <button class=\"colab-df-convert\" onclick=\"convertToInteractive('df-2ef590a9-a858-4cd3-977d-906eb174d65d')\"\n",
              "              title=\"Convert this dataframe to an interactive table.\"\n",
              "              style=\"display:none;\">\n",
              "        \n",
              "  <svg xmlns=\"http://www.w3.org/2000/svg\" height=\"24px\"viewBox=\"0 0 24 24\"\n",
              "       width=\"24px\">\n",
              "    <path d=\"M0 0h24v24H0V0z\" fill=\"none\"/>\n",
              "    <path d=\"M18.56 5.44l.94 2.06.94-2.06 2.06-.94-2.06-.94-.94-2.06-.94 2.06-2.06.94zm-11 1L8.5 8.5l.94-2.06 2.06-.94-2.06-.94L8.5 2.5l-.94 2.06-2.06.94zm10 10l.94 2.06.94-2.06 2.06-.94-2.06-.94-.94-2.06-.94 2.06-2.06.94z\"/><path d=\"M17.41 7.96l-1.37-1.37c-.4-.4-.92-.59-1.43-.59-.52 0-1.04.2-1.43.59L10.3 9.45l-7.72 7.72c-.78.78-.78 2.05 0 2.83L4 21.41c.39.39.9.59 1.41.59.51 0 1.02-.2 1.41-.59l7.78-7.78 2.81-2.81c.8-.78.8-2.07 0-2.86zM5.41 20L4 18.59l7.72-7.72 1.47 1.35L5.41 20z\"/>\n",
              "  </svg>\n",
              "      </button>\n",
              "      \n",
              "  <style>\n",
              "    .colab-df-container {\n",
              "      display:flex;\n",
              "      flex-wrap:wrap;\n",
              "      gap: 12px;\n",
              "    }\n",
              "\n",
              "    .colab-df-convert {\n",
              "      background-color: #E8F0FE;\n",
              "      border: none;\n",
              "      border-radius: 50%;\n",
              "      cursor: pointer;\n",
              "      display: none;\n",
              "      fill: #1967D2;\n",
              "      height: 32px;\n",
              "      padding: 0 0 0 0;\n",
              "      width: 32px;\n",
              "    }\n",
              "\n",
              "    .colab-df-convert:hover {\n",
              "      background-color: #E2EBFA;\n",
              "      box-shadow: 0px 1px 2px rgba(60, 64, 67, 0.3), 0px 1px 3px 1px rgba(60, 64, 67, 0.15);\n",
              "      fill: #174EA6;\n",
              "    }\n",
              "\n",
              "    [theme=dark] .colab-df-convert {\n",
              "      background-color: #3B4455;\n",
              "      fill: #D2E3FC;\n",
              "    }\n",
              "\n",
              "    [theme=dark] .colab-df-convert:hover {\n",
              "      background-color: #434B5C;\n",
              "      box-shadow: 0px 1px 3px 1px rgba(0, 0, 0, 0.15);\n",
              "      filter: drop-shadow(0px 1px 2px rgba(0, 0, 0, 0.3));\n",
              "      fill: #FFFFFF;\n",
              "    }\n",
              "  </style>\n",
              "\n",
              "      <script>\n",
              "        const buttonEl =\n",
              "          document.querySelector('#df-2ef590a9-a858-4cd3-977d-906eb174d65d button.colab-df-convert');\n",
              "        buttonEl.style.display =\n",
              "          google.colab.kernel.accessAllowed ? 'block' : 'none';\n",
              "\n",
              "        async function convertToInteractive(key) {\n",
              "          const element = document.querySelector('#df-2ef590a9-a858-4cd3-977d-906eb174d65d');\n",
              "          const dataTable =\n",
              "            await google.colab.kernel.invokeFunction('convertToInteractive',\n",
              "                                                     [key], {});\n",
              "          if (!dataTable) return;\n",
              "\n",
              "          const docLinkHtml = 'Like what you see? Visit the ' +\n",
              "            '<a target=\"_blank\" href=https://colab.research.google.com/notebooks/data_table.ipynb>data table notebook</a>'\n",
              "            + ' to learn more about interactive tables.';\n",
              "          element.innerHTML = '';\n",
              "          dataTable['output_type'] = 'display_data';\n",
              "          await google.colab.output.renderOutput(dataTable, element);\n",
              "          const docLink = document.createElement('div');\n",
              "          docLink.innerHTML = docLinkHtml;\n",
              "          element.appendChild(docLink);\n",
              "        }\n",
              "      </script>\n",
              "    </div>\n",
              "  </div>\n",
              "  "
            ]
          },
          "metadata": {},
          "execution_count": 351
        }
      ]
    },
    {
      "cell_type": "markdown",
      "source": [
        "**Qual partido mais gastou com candidaturas**"
      ],
      "metadata": {
        "id": "C7FXhfwjZPUp"
      }
    },
    {
      "cell_type": "code",
      "source": [
        "#Utilizando sql para contabilizar qual partidos mais gasta com campanhas\n",
        "query = \"\"\"SELECT SG_PARTIDO as sigla_partido,SUM(VR_DESPESA_MAX_CAMPANHA) total_gastos_eleicao\n",
        "           FROM candidatos_goias\n",
        "           GROUP BY SG_PARTIDO\n",
        "           ORDER BY SUM(VR_DESPESA_MAX_CAMPANHA) DESC\n",
        "           \"\"\"\n",
        "ps.sqldf(query.lower(), locals())"
      ],
      "metadata": {
        "colab": {
          "base_uri": "https://localhost:8080/",
          "height": 1000
        },
        "id": "kZwduxo4a-Bb",
        "outputId": "dac0bf28-f97b-4b9b-c0ad-e142be097a5b"
      },
      "execution_count": 352,
      "outputs": [
        {
          "output_type": "execute_result",
          "data": {
            "text/plain": [
              "    sigla_partido  total_gastos_eleicao\n",
              "0            PSDB          1.252047e+09\n",
              "1             PSL          1.109442e+09\n",
              "2            PMDB          1.071538e+09\n",
              "3              PT          9.227803e+08\n",
              "4              PP          7.378221e+08\n",
              "5             PTB          7.186637e+08\n",
              "6             PSB          6.757111e+08\n",
              "7             PSD          6.746763e+08\n",
              "8            PRTB          6.480184e+08\n",
              "9             PHS          6.438777e+08\n",
              "10            PDT          6.372708e+08\n",
              "11            DEM          5.907366e+08\n",
              "12            PSC          5.605712e+08\n",
              "13            PMN          5.123989e+08\n",
              "14           PROS          4.767271e+08\n",
              "15       PATRIOTA          4.753425e+08\n",
              "16        PC do B          3.908006e+08\n",
              "17            PRB          3.707129e+08\n",
              "18             PV          3.669146e+08\n",
              "19             PR          3.485091e+08\n",
              "20            MDB          3.452193e+08\n",
              "21           PSDC          3.271873e+08\n",
              "22            PTC          3.212589e+08\n",
              "23           PSOL          2.778896e+08\n",
              "24            PTN          2.667374e+08\n",
              "25  SOLIDARIEDADE          2.457037e+08\n",
              "26           PODE          2.448874e+08\n",
              "27            PRP          2.363006e+08\n",
              "28            PPS          2.186508e+08\n",
              "29             PL          2.153902e+08\n",
              "30             DC          2.136063e+08\n",
              "31         AVANTE          2.019785e+08\n",
              "32   REPUBLICANOS          1.954582e+08\n",
              "33           REDE          1.395280e+08\n",
              "34        PT do B          1.217463e+08\n",
              "35           AGIR          1.181685e+08\n",
              "36      CIDADANIA          1.117366e+08\n",
              "37           NOVO          9.410806e+07\n",
              "38            PPL          9.198140e+07\n",
              "39            PMB          9.071976e+07\n",
              "40          UNIÃO          8.462389e+07\n",
              "41             SD          7.487985e+07\n",
              "42            PCB          7.046623e+07\n",
              "43            PCO          5.003126e+07\n",
              "44             UP          2.426001e+07\n",
              "45           PSTU          1.149960e+05"
            ],
            "text/html": [
              "\n",
              "  <div id=\"df-2ddb62fd-fcd3-4f8a-a89a-a0ec8fb0dde1\">\n",
              "    <div class=\"colab-df-container\">\n",
              "      <div>\n",
              "<style scoped>\n",
              "    .dataframe tbody tr th:only-of-type {\n",
              "        vertical-align: middle;\n",
              "    }\n",
              "\n",
              "    .dataframe tbody tr th {\n",
              "        vertical-align: top;\n",
              "    }\n",
              "\n",
              "    .dataframe thead th {\n",
              "        text-align: right;\n",
              "    }\n",
              "</style>\n",
              "<table border=\"1\" class=\"dataframe\">\n",
              "  <thead>\n",
              "    <tr style=\"text-align: right;\">\n",
              "      <th></th>\n",
              "      <th>sigla_partido</th>\n",
              "      <th>total_gastos_eleicao</th>\n",
              "    </tr>\n",
              "  </thead>\n",
              "  <tbody>\n",
              "    <tr>\n",
              "      <th>0</th>\n",
              "      <td>PSDB</td>\n",
              "      <td>1.252047e+09</td>\n",
              "    </tr>\n",
              "    <tr>\n",
              "      <th>1</th>\n",
              "      <td>PSL</td>\n",
              "      <td>1.109442e+09</td>\n",
              "    </tr>\n",
              "    <tr>\n",
              "      <th>2</th>\n",
              "      <td>PMDB</td>\n",
              "      <td>1.071538e+09</td>\n",
              "    </tr>\n",
              "    <tr>\n",
              "      <th>3</th>\n",
              "      <td>PT</td>\n",
              "      <td>9.227803e+08</td>\n",
              "    </tr>\n",
              "    <tr>\n",
              "      <th>4</th>\n",
              "      <td>PP</td>\n",
              "      <td>7.378221e+08</td>\n",
              "    </tr>\n",
              "    <tr>\n",
              "      <th>5</th>\n",
              "      <td>PTB</td>\n",
              "      <td>7.186637e+08</td>\n",
              "    </tr>\n",
              "    <tr>\n",
              "      <th>6</th>\n",
              "      <td>PSB</td>\n",
              "      <td>6.757111e+08</td>\n",
              "    </tr>\n",
              "    <tr>\n",
              "      <th>7</th>\n",
              "      <td>PSD</td>\n",
              "      <td>6.746763e+08</td>\n",
              "    </tr>\n",
              "    <tr>\n",
              "      <th>8</th>\n",
              "      <td>PRTB</td>\n",
              "      <td>6.480184e+08</td>\n",
              "    </tr>\n",
              "    <tr>\n",
              "      <th>9</th>\n",
              "      <td>PHS</td>\n",
              "      <td>6.438777e+08</td>\n",
              "    </tr>\n",
              "    <tr>\n",
              "      <th>10</th>\n",
              "      <td>PDT</td>\n",
              "      <td>6.372708e+08</td>\n",
              "    </tr>\n",
              "    <tr>\n",
              "      <th>11</th>\n",
              "      <td>DEM</td>\n",
              "      <td>5.907366e+08</td>\n",
              "    </tr>\n",
              "    <tr>\n",
              "      <th>12</th>\n",
              "      <td>PSC</td>\n",
              "      <td>5.605712e+08</td>\n",
              "    </tr>\n",
              "    <tr>\n",
              "      <th>13</th>\n",
              "      <td>PMN</td>\n",
              "      <td>5.123989e+08</td>\n",
              "    </tr>\n",
              "    <tr>\n",
              "      <th>14</th>\n",
              "      <td>PROS</td>\n",
              "      <td>4.767271e+08</td>\n",
              "    </tr>\n",
              "    <tr>\n",
              "      <th>15</th>\n",
              "      <td>PATRIOTA</td>\n",
              "      <td>4.753425e+08</td>\n",
              "    </tr>\n",
              "    <tr>\n",
              "      <th>16</th>\n",
              "      <td>PC do B</td>\n",
              "      <td>3.908006e+08</td>\n",
              "    </tr>\n",
              "    <tr>\n",
              "      <th>17</th>\n",
              "      <td>PRB</td>\n",
              "      <td>3.707129e+08</td>\n",
              "    </tr>\n",
              "    <tr>\n",
              "      <th>18</th>\n",
              "      <td>PV</td>\n",
              "      <td>3.669146e+08</td>\n",
              "    </tr>\n",
              "    <tr>\n",
              "      <th>19</th>\n",
              "      <td>PR</td>\n",
              "      <td>3.485091e+08</td>\n",
              "    </tr>\n",
              "    <tr>\n",
              "      <th>20</th>\n",
              "      <td>MDB</td>\n",
              "      <td>3.452193e+08</td>\n",
              "    </tr>\n",
              "    <tr>\n",
              "      <th>21</th>\n",
              "      <td>PSDC</td>\n",
              "      <td>3.271873e+08</td>\n",
              "    </tr>\n",
              "    <tr>\n",
              "      <th>22</th>\n",
              "      <td>PTC</td>\n",
              "      <td>3.212589e+08</td>\n",
              "    </tr>\n",
              "    <tr>\n",
              "      <th>23</th>\n",
              "      <td>PSOL</td>\n",
              "      <td>2.778896e+08</td>\n",
              "    </tr>\n",
              "    <tr>\n",
              "      <th>24</th>\n",
              "      <td>PTN</td>\n",
              "      <td>2.667374e+08</td>\n",
              "    </tr>\n",
              "    <tr>\n",
              "      <th>25</th>\n",
              "      <td>SOLIDARIEDADE</td>\n",
              "      <td>2.457037e+08</td>\n",
              "    </tr>\n",
              "    <tr>\n",
              "      <th>26</th>\n",
              "      <td>PODE</td>\n",
              "      <td>2.448874e+08</td>\n",
              "    </tr>\n",
              "    <tr>\n",
              "      <th>27</th>\n",
              "      <td>PRP</td>\n",
              "      <td>2.363006e+08</td>\n",
              "    </tr>\n",
              "    <tr>\n",
              "      <th>28</th>\n",
              "      <td>PPS</td>\n",
              "      <td>2.186508e+08</td>\n",
              "    </tr>\n",
              "    <tr>\n",
              "      <th>29</th>\n",
              "      <td>PL</td>\n",
              "      <td>2.153902e+08</td>\n",
              "    </tr>\n",
              "    <tr>\n",
              "      <th>30</th>\n",
              "      <td>DC</td>\n",
              "      <td>2.136063e+08</td>\n",
              "    </tr>\n",
              "    <tr>\n",
              "      <th>31</th>\n",
              "      <td>AVANTE</td>\n",
              "      <td>2.019785e+08</td>\n",
              "    </tr>\n",
              "    <tr>\n",
              "      <th>32</th>\n",
              "      <td>REPUBLICANOS</td>\n",
              "      <td>1.954582e+08</td>\n",
              "    </tr>\n",
              "    <tr>\n",
              "      <th>33</th>\n",
              "      <td>REDE</td>\n",
              "      <td>1.395280e+08</td>\n",
              "    </tr>\n",
              "    <tr>\n",
              "      <th>34</th>\n",
              "      <td>PT do B</td>\n",
              "      <td>1.217463e+08</td>\n",
              "    </tr>\n",
              "    <tr>\n",
              "      <th>35</th>\n",
              "      <td>AGIR</td>\n",
              "      <td>1.181685e+08</td>\n",
              "    </tr>\n",
              "    <tr>\n",
              "      <th>36</th>\n",
              "      <td>CIDADANIA</td>\n",
              "      <td>1.117366e+08</td>\n",
              "    </tr>\n",
              "    <tr>\n",
              "      <th>37</th>\n",
              "      <td>NOVO</td>\n",
              "      <td>9.410806e+07</td>\n",
              "    </tr>\n",
              "    <tr>\n",
              "      <th>38</th>\n",
              "      <td>PPL</td>\n",
              "      <td>9.198140e+07</td>\n",
              "    </tr>\n",
              "    <tr>\n",
              "      <th>39</th>\n",
              "      <td>PMB</td>\n",
              "      <td>9.071976e+07</td>\n",
              "    </tr>\n",
              "    <tr>\n",
              "      <th>40</th>\n",
              "      <td>UNIÃO</td>\n",
              "      <td>8.462389e+07</td>\n",
              "    </tr>\n",
              "    <tr>\n",
              "      <th>41</th>\n",
              "      <td>SD</td>\n",
              "      <td>7.487985e+07</td>\n",
              "    </tr>\n",
              "    <tr>\n",
              "      <th>42</th>\n",
              "      <td>PCB</td>\n",
              "      <td>7.046623e+07</td>\n",
              "    </tr>\n",
              "    <tr>\n",
              "      <th>43</th>\n",
              "      <td>PCO</td>\n",
              "      <td>5.003126e+07</td>\n",
              "    </tr>\n",
              "    <tr>\n",
              "      <th>44</th>\n",
              "      <td>UP</td>\n",
              "      <td>2.426001e+07</td>\n",
              "    </tr>\n",
              "    <tr>\n",
              "      <th>45</th>\n",
              "      <td>PSTU</td>\n",
              "      <td>1.149960e+05</td>\n",
              "    </tr>\n",
              "  </tbody>\n",
              "</table>\n",
              "</div>\n",
              "      <button class=\"colab-df-convert\" onclick=\"convertToInteractive('df-2ddb62fd-fcd3-4f8a-a89a-a0ec8fb0dde1')\"\n",
              "              title=\"Convert this dataframe to an interactive table.\"\n",
              "              style=\"display:none;\">\n",
              "        \n",
              "  <svg xmlns=\"http://www.w3.org/2000/svg\" height=\"24px\"viewBox=\"0 0 24 24\"\n",
              "       width=\"24px\">\n",
              "    <path d=\"M0 0h24v24H0V0z\" fill=\"none\"/>\n",
              "    <path d=\"M18.56 5.44l.94 2.06.94-2.06 2.06-.94-2.06-.94-.94-2.06-.94 2.06-2.06.94zm-11 1L8.5 8.5l.94-2.06 2.06-.94-2.06-.94L8.5 2.5l-.94 2.06-2.06.94zm10 10l.94 2.06.94-2.06 2.06-.94-2.06-.94-.94-2.06-.94 2.06-2.06.94z\"/><path d=\"M17.41 7.96l-1.37-1.37c-.4-.4-.92-.59-1.43-.59-.52 0-1.04.2-1.43.59L10.3 9.45l-7.72 7.72c-.78.78-.78 2.05 0 2.83L4 21.41c.39.39.9.59 1.41.59.51 0 1.02-.2 1.41-.59l7.78-7.78 2.81-2.81c.8-.78.8-2.07 0-2.86zM5.41 20L4 18.59l7.72-7.72 1.47 1.35L5.41 20z\"/>\n",
              "  </svg>\n",
              "      </button>\n",
              "      \n",
              "  <style>\n",
              "    .colab-df-container {\n",
              "      display:flex;\n",
              "      flex-wrap:wrap;\n",
              "      gap: 12px;\n",
              "    }\n",
              "\n",
              "    .colab-df-convert {\n",
              "      background-color: #E8F0FE;\n",
              "      border: none;\n",
              "      border-radius: 50%;\n",
              "      cursor: pointer;\n",
              "      display: none;\n",
              "      fill: #1967D2;\n",
              "      height: 32px;\n",
              "      padding: 0 0 0 0;\n",
              "      width: 32px;\n",
              "    }\n",
              "\n",
              "    .colab-df-convert:hover {\n",
              "      background-color: #E2EBFA;\n",
              "      box-shadow: 0px 1px 2px rgba(60, 64, 67, 0.3), 0px 1px 3px 1px rgba(60, 64, 67, 0.15);\n",
              "      fill: #174EA6;\n",
              "    }\n",
              "\n",
              "    [theme=dark] .colab-df-convert {\n",
              "      background-color: #3B4455;\n",
              "      fill: #D2E3FC;\n",
              "    }\n",
              "\n",
              "    [theme=dark] .colab-df-convert:hover {\n",
              "      background-color: #434B5C;\n",
              "      box-shadow: 0px 1px 3px 1px rgba(0, 0, 0, 0.15);\n",
              "      filter: drop-shadow(0px 1px 2px rgba(0, 0, 0, 0.3));\n",
              "      fill: #FFFFFF;\n",
              "    }\n",
              "  </style>\n",
              "\n",
              "      <script>\n",
              "        const buttonEl =\n",
              "          document.querySelector('#df-2ddb62fd-fcd3-4f8a-a89a-a0ec8fb0dde1 button.colab-df-convert');\n",
              "        buttonEl.style.display =\n",
              "          google.colab.kernel.accessAllowed ? 'block' : 'none';\n",
              "\n",
              "        async function convertToInteractive(key) {\n",
              "          const element = document.querySelector('#df-2ddb62fd-fcd3-4f8a-a89a-a0ec8fb0dde1');\n",
              "          const dataTable =\n",
              "            await google.colab.kernel.invokeFunction('convertToInteractive',\n",
              "                                                     [key], {});\n",
              "          if (!dataTable) return;\n",
              "\n",
              "          const docLinkHtml = 'Like what you see? Visit the ' +\n",
              "            '<a target=\"_blank\" href=https://colab.research.google.com/notebooks/data_table.ipynb>data table notebook</a>'\n",
              "            + ' to learn more about interactive tables.';\n",
              "          element.innerHTML = '';\n",
              "          dataTable['output_type'] = 'display_data';\n",
              "          await google.colab.output.renderOutput(dataTable, element);\n",
              "          const docLink = document.createElement('div');\n",
              "          docLink.innerHTML = docLinkHtml;\n",
              "          element.appendChild(docLink);\n",
              "        }\n",
              "      </script>\n",
              "    </div>\n",
              "  </div>\n",
              "  "
            ]
          },
          "metadata": {},
          "execution_count": 352
        }
      ]
    },
    {
      "cell_type": "markdown",
      "source": [
        "**Total gasto em campanhas por ano**"
      ],
      "metadata": {
        "id": "IxKdmT9XunR-"
      }
    },
    {
      "cell_type": "code",
      "source": [
        "#Utilizando sql para contabilizar qual partidos mais gasta com campanhas\n",
        "query = \"\"\"SELECT ANO_ELEICAO,SUM(VR_DESPESA_MAX_CAMPANHA) total_gastos_eleicao\n",
        "           FROM candidatos_goias\n",
        "           GROUP BY ANO_ELEICAO\n",
        "           ORDER BY SUM(VR_DESPESA_MAX_CAMPANHA) DESC\n",
        "           \"\"\"\n",
        "ps.sqldf(query.lower(), locals())"
      ],
      "metadata": {
        "colab": {
          "base_uri": "https://localhost:8080/",
          "height": 269
        },
        "id": "T_vT4Wq1uqgY",
        "outputId": "8d03841e-8002-48a8-da18-00f5ac31dfd0"
      },
      "execution_count": 353,
      "outputs": [
        {
          "output_type": "execute_result",
          "data": {
            "text/plain": [
              "   ANO_ELEICAO  total_gastos_eleicao\n",
              "0         2012          4.126525e+09\n",
              "1         2014          2.996805e+09\n",
              "2         2010          2.541033e+09\n",
              "3         2022          2.396915e+09\n",
              "4         2020          2.299586e+09\n",
              "5         2018          1.690200e+09\n",
              "6         2016          1.516131e+09"
            ],
            "text/html": [
              "\n",
              "  <div id=\"df-10face98-6b72-441a-a1a3-037ae1caecf9\">\n",
              "    <div class=\"colab-df-container\">\n",
              "      <div>\n",
              "<style scoped>\n",
              "    .dataframe tbody tr th:only-of-type {\n",
              "        vertical-align: middle;\n",
              "    }\n",
              "\n",
              "    .dataframe tbody tr th {\n",
              "        vertical-align: top;\n",
              "    }\n",
              "\n",
              "    .dataframe thead th {\n",
              "        text-align: right;\n",
              "    }\n",
              "</style>\n",
              "<table border=\"1\" class=\"dataframe\">\n",
              "  <thead>\n",
              "    <tr style=\"text-align: right;\">\n",
              "      <th></th>\n",
              "      <th>ANO_ELEICAO</th>\n",
              "      <th>total_gastos_eleicao</th>\n",
              "    </tr>\n",
              "  </thead>\n",
              "  <tbody>\n",
              "    <tr>\n",
              "      <th>0</th>\n",
              "      <td>2012</td>\n",
              "      <td>4.126525e+09</td>\n",
              "    </tr>\n",
              "    <tr>\n",
              "      <th>1</th>\n",
              "      <td>2014</td>\n",
              "      <td>2.996805e+09</td>\n",
              "    </tr>\n",
              "    <tr>\n",
              "      <th>2</th>\n",
              "      <td>2010</td>\n",
              "      <td>2.541033e+09</td>\n",
              "    </tr>\n",
              "    <tr>\n",
              "      <th>3</th>\n",
              "      <td>2022</td>\n",
              "      <td>2.396915e+09</td>\n",
              "    </tr>\n",
              "    <tr>\n",
              "      <th>4</th>\n",
              "      <td>2020</td>\n",
              "      <td>2.299586e+09</td>\n",
              "    </tr>\n",
              "    <tr>\n",
              "      <th>5</th>\n",
              "      <td>2018</td>\n",
              "      <td>1.690200e+09</td>\n",
              "    </tr>\n",
              "    <tr>\n",
              "      <th>6</th>\n",
              "      <td>2016</td>\n",
              "      <td>1.516131e+09</td>\n",
              "    </tr>\n",
              "  </tbody>\n",
              "</table>\n",
              "</div>\n",
              "      <button class=\"colab-df-convert\" onclick=\"convertToInteractive('df-10face98-6b72-441a-a1a3-037ae1caecf9')\"\n",
              "              title=\"Convert this dataframe to an interactive table.\"\n",
              "              style=\"display:none;\">\n",
              "        \n",
              "  <svg xmlns=\"http://www.w3.org/2000/svg\" height=\"24px\"viewBox=\"0 0 24 24\"\n",
              "       width=\"24px\">\n",
              "    <path d=\"M0 0h24v24H0V0z\" fill=\"none\"/>\n",
              "    <path d=\"M18.56 5.44l.94 2.06.94-2.06 2.06-.94-2.06-.94-.94-2.06-.94 2.06-2.06.94zm-11 1L8.5 8.5l.94-2.06 2.06-.94-2.06-.94L8.5 2.5l-.94 2.06-2.06.94zm10 10l.94 2.06.94-2.06 2.06-.94-2.06-.94-.94-2.06-.94 2.06-2.06.94z\"/><path d=\"M17.41 7.96l-1.37-1.37c-.4-.4-.92-.59-1.43-.59-.52 0-1.04.2-1.43.59L10.3 9.45l-7.72 7.72c-.78.78-.78 2.05 0 2.83L4 21.41c.39.39.9.59 1.41.59.51 0 1.02-.2 1.41-.59l7.78-7.78 2.81-2.81c.8-.78.8-2.07 0-2.86zM5.41 20L4 18.59l7.72-7.72 1.47 1.35L5.41 20z\"/>\n",
              "  </svg>\n",
              "      </button>\n",
              "      \n",
              "  <style>\n",
              "    .colab-df-container {\n",
              "      display:flex;\n",
              "      flex-wrap:wrap;\n",
              "      gap: 12px;\n",
              "    }\n",
              "\n",
              "    .colab-df-convert {\n",
              "      background-color: #E8F0FE;\n",
              "      border: none;\n",
              "      border-radius: 50%;\n",
              "      cursor: pointer;\n",
              "      display: none;\n",
              "      fill: #1967D2;\n",
              "      height: 32px;\n",
              "      padding: 0 0 0 0;\n",
              "      width: 32px;\n",
              "    }\n",
              "\n",
              "    .colab-df-convert:hover {\n",
              "      background-color: #E2EBFA;\n",
              "      box-shadow: 0px 1px 2px rgba(60, 64, 67, 0.3), 0px 1px 3px 1px rgba(60, 64, 67, 0.15);\n",
              "      fill: #174EA6;\n",
              "    }\n",
              "\n",
              "    [theme=dark] .colab-df-convert {\n",
              "      background-color: #3B4455;\n",
              "      fill: #D2E3FC;\n",
              "    }\n",
              "\n",
              "    [theme=dark] .colab-df-convert:hover {\n",
              "      background-color: #434B5C;\n",
              "      box-shadow: 0px 1px 3px 1px rgba(0, 0, 0, 0.15);\n",
              "      filter: drop-shadow(0px 1px 2px rgba(0, 0, 0, 0.3));\n",
              "      fill: #FFFFFF;\n",
              "    }\n",
              "  </style>\n",
              "\n",
              "      <script>\n",
              "        const buttonEl =\n",
              "          document.querySelector('#df-10face98-6b72-441a-a1a3-037ae1caecf9 button.colab-df-convert');\n",
              "        buttonEl.style.display =\n",
              "          google.colab.kernel.accessAllowed ? 'block' : 'none';\n",
              "\n",
              "        async function convertToInteractive(key) {\n",
              "          const element = document.querySelector('#df-10face98-6b72-441a-a1a3-037ae1caecf9');\n",
              "          const dataTable =\n",
              "            await google.colab.kernel.invokeFunction('convertToInteractive',\n",
              "                                                     [key], {});\n",
              "          if (!dataTable) return;\n",
              "\n",
              "          const docLinkHtml = 'Like what you see? Visit the ' +\n",
              "            '<a target=\"_blank\" href=https://colab.research.google.com/notebooks/data_table.ipynb>data table notebook</a>'\n",
              "            + ' to learn more about interactive tables.';\n",
              "          element.innerHTML = '';\n",
              "          dataTable['output_type'] = 'display_data';\n",
              "          await google.colab.output.renderOutput(dataTable, element);\n",
              "          const docLink = document.createElement('div');\n",
              "          docLink.innerHTML = docLinkHtml;\n",
              "          element.appendChild(docLink);\n",
              "        }\n",
              "      </script>\n",
              "    </div>\n",
              "  </div>\n",
              "  "
            ]
          },
          "metadata": {},
          "execution_count": 353
        }
      ]
    },
    {
      "cell_type": "markdown",
      "source": [
        "**Gráfico de linha de gastos em campanhas por ano**"
      ],
      "metadata": {
        "id": "SyNbPjg_vAV0"
      }
    },
    {
      "cell_type": "code",
      "source": [
        "plt.figure(figsize=(13,5))\n",
        "sns.lineplot(x=candidatos_goias['ANO_ELEICAO'],y=candidatos_goias['VR_DESPESA_MAX_CAMPANHA'], color='green')\n",
        "plt.xlabel('GASTOS CAMPANHA')\n",
        "plt.ylabel('ANO ELEICAO')\n",
        "plt.show()"
      ],
      "metadata": {
        "colab": {
          "base_uri": "https://localhost:8080/",
          "height": 345
        },
        "id": "q4KFOY6uvD5e",
        "outputId": "c8640b6c-fdde-4073-b953-e8a4632581b5"
      },
      "execution_count": 354,
      "outputs": [
        {
          "output_type": "display_data",
          "data": {
            "text/plain": [
              "<Figure size 936x360 with 1 Axes>"
            ],
            "image/png": "[encoded data removed]"
          },
          "metadata": {
            "needs_background": "light"
          }
        }
      ]
    },
    {
      "cell_type": "markdown",
      "source": [
        "**Top 10 dos partidos que mais gastam com campanhas**"
      ],
      "metadata": {
        "id": "Uda0NEzJtHor"
      }
    },
    {
      "cell_type": "code",
      "source": [
        "#Utilizando sql para contabilizar qual partidos mais gasta com campanhas\n",
        "query = \"\"\"SELECT SG_PARTIDO as sigla_partido,SUM(VR_DESPESA_MAX_CAMPANHA) total_gastos_eleicao\n",
        "           FROM candidatos_goias\n",
        "           GROUP BY SG_PARTIDO\n",
        "           ORDER BY SUM(VR_DESPESA_MAX_CAMPANHA) DESC\n",
        "           LIMIT 10\n",
        "           \"\"\"\n",
        "ps.sqldf(query.lower(), locals())"
      ],
      "metadata": {
        "colab": {
          "base_uri": "https://localhost:8080/",
          "height": 363
        },
        "id": "ZgN_AvRGqC0R",
        "outputId": "25fa99ed-3b3d-4e15-a259-99e80fe7d7ec"
      },
      "execution_count": 355,
      "outputs": [
        {
          "output_type": "execute_result",
          "data": {
            "text/plain": [
              "  sigla_partido  total_gastos_eleicao\n",
              "0          PSDB          1.252047e+09\n",
              "1           PSL          1.109442e+09\n",
              "2          PMDB          1.071538e+09\n",
              "3            PT          9.227803e+08\n",
              "4            PP          7.378221e+08\n",
              "5           PTB          7.186637e+08\n",
              "6           PSB          6.757111e+08\n",
              "7           PSD          6.746763e+08\n",
              "8          PRTB          6.480184e+08\n",
              "9           PHS          6.438777e+08"
            ],
            "text/html": [
              "\n",
              "  <div id=\"df-b3628576-942d-44fa-a5e8-98277140564f\">\n",
              "    <div class=\"colab-df-container\">\n",
              "      <div>\n",
              "<style scoped>\n",
              "    .dataframe tbody tr th:only-of-type {\n",
              "        vertical-align: middle;\n",
              "    }\n",
              "\n",
              "    .dataframe tbody tr th {\n",
              "        vertical-align: top;\n",
              "    }\n",
              "\n",
              "    .dataframe thead th {\n",
              "        text-align: right;\n",
              "    }\n",
              "</style>\n",
              "<table border=\"1\" class=\"dataframe\">\n",
              "  <thead>\n",
              "    <tr style=\"text-align: right;\">\n",
              "      <th></th>\n",
              "      <th>sigla_partido</th>\n",
              "      <th>total_gastos_eleicao</th>\n",
              "    </tr>\n",
              "  </thead>\n",
              "  <tbody>\n",
              "    <tr>\n",
              "      <th>0</th>\n",
              "      <td>PSDB</td>\n",
              "      <td>1.252047e+09</td>\n",
              "    </tr>\n",
              "    <tr>\n",
              "      <th>1</th>\n",
              "      <td>PSL</td>\n",
              "      <td>1.109442e+09</td>\n",
              "    </tr>\n",
              "    <tr>\n",
              "      <th>2</th>\n",
              "      <td>PMDB</td>\n",
              "      <td>1.071538e+09</td>\n",
              "    </tr>\n",
              "    <tr>\n",
              "      <th>3</th>\n",
              "      <td>PT</td>\n",
              "      <td>9.227803e+08</td>\n",
              "    </tr>\n",
              "    <tr>\n",
              "      <th>4</th>\n",
              "      <td>PP</td>\n",
              "      <td>7.378221e+08</td>\n",
              "    </tr>\n",
              "    <tr>\n",
              "      <th>5</th>\n",
              "      <td>PTB</td>\n",
              "      <td>7.186637e+08</td>\n",
              "    </tr>\n",
              "    <tr>\n",
              "      <th>6</th>\n",
              "      <td>PSB</td>\n",
              "      <td>6.757111e+08</td>\n",
              "    </tr>\n",
              "    <tr>\n",
              "      <th>7</th>\n",
              "      <td>PSD</td>\n",
              "      <td>6.746763e+08</td>\n",
              "    </tr>\n",
              "    <tr>\n",
              "      <th>8</th>\n",
              "      <td>PRTB</td>\n",
              "      <td>6.480184e+08</td>\n",
              "    </tr>\n",
              "    <tr>\n",
              "      <th>9</th>\n",
              "      <td>PHS</td>\n",
              "      <td>6.438777e+08</td>\n",
              "    </tr>\n",
              "  </tbody>\n",
              "</table>\n",
              "</div>\n",
              "      <button class=\"colab-df-convert\" onclick=\"convertToInteractive('df-b3628576-942d-44fa-a5e8-98277140564f')\"\n",
              "              title=\"Convert this dataframe to an interactive table.\"\n",
              "              style=\"display:none;\">\n",
              "        \n",
              "  <svg xmlns=\"http://www.w3.org/2000/svg\" height=\"24px\"viewBox=\"0 0 24 24\"\n",
              "       width=\"24px\">\n",
              "    <path d=\"M0 0h24v24H0V0z\" fill=\"none\"/>\n",
              "    <path d=\"M18.56 5.44l.94 2.06.94-2.06 2.06-.94-2.06-.94-.94-2.06-.94 2.06-2.06.94zm-11 1L8.5 8.5l.94-2.06 2.06-.94-2.06-.94L8.5 2.5l-.94 2.06-2.06.94zm10 10l.94 2.06.94-2.06 2.06-.94-2.06-.94-.94-2.06-.94 2.06-2.06.94z\"/><path d=\"M17.41 7.96l-1.37-1.37c-.4-.4-.92-.59-1.43-.59-.52 0-1.04.2-1.43.59L10.3 9.45l-7.72 7.72c-.78.78-.78 2.05 0 2.83L4 21.41c.39.39.9.59 1.41.59.51 0 1.02-.2 1.41-.59l7.78-7.78 2.81-2.81c.8-.78.8-2.07 0-2.86zM5.41 20L4 18.59l7.72-7.72 1.47 1.35L5.41 20z\"/>\n",
              "  </svg>\n",
              "      </button>\n",
              "      \n",
              "  <style>\n",
              "    .colab-df-container {\n",
              "      display:flex;\n",
              "      flex-wrap:wrap;\n",
              "      gap: 12px;\n",
              "    }\n",
              "\n",
              "    .colab-df-convert {\n",
              "      background-color: #E8F0FE;\n",
              "      border: none;\n",
              "      border-radius: 50%;\n",
              "      cursor: pointer;\n",
              "      display: none;\n",
              "      fill: #1967D2;\n",
              "      height: 32px;\n",
              "      padding: 0 0 0 0;\n",
              "      width: 32px;\n",
              "    }\n",
              "\n",
              "    .colab-df-convert:hover {\n",
              "      background-color: #E2EBFA;\n",
              "      box-shadow: 0px 1px 2px rgba(60, 64, 67, 0.3), 0px 1px 3px 1px rgba(60, 64, 67, 0.15);\n",
              "      fill: #174EA6;\n",
              "    }\n",
              "\n",
              "    [theme=dark] .colab-df-convert {\n",
              "      background-color: #3B4455;\n",
              "      fill: #D2E3FC;\n",
              "    }\n",
              "\n",
              "    [theme=dark] .colab-df-convert:hover {\n",
              "      background-color: #434B5C;\n",
              "      box-shadow: 0px 1px 3px 1px rgba(0, 0, 0, 0.15);\n",
              "      filter: drop-shadow(0px 1px 2px rgba(0, 0, 0, 0.3));\n",
              "      fill: #FFFFFF;\n",
              "    }\n",
              "  </style>\n",
              "\n",
              "      <script>\n",
              "        const buttonEl =\n",
              "          document.querySelector('#df-b3628576-942d-44fa-a5e8-98277140564f button.colab-df-convert');\n",
              "        buttonEl.style.display =\n",
              "          google.colab.kernel.accessAllowed ? 'block' : 'none';\n",
              "\n",
              "        async function convertToInteractive(key) {\n",
              "          const element = document.querySelector('#df-b3628576-942d-44fa-a5e8-98277140564f');\n",
              "          const dataTable =\n",
              "            await google.colab.kernel.invokeFunction('convertToInteractive',\n",
              "                                                     [key], {});\n",
              "          if (!dataTable) return;\n",
              "\n",
              "          const docLinkHtml = 'Like what you see? Visit the ' +\n",
              "            '<a target=\"_blank\" href=https://colab.research.google.com/notebooks/data_table.ipynb>data table notebook</a>'\n",
              "            + ' to learn more about interactive tables.';\n",
              "          element.innerHTML = '';\n",
              "          dataTable['output_type'] = 'display_data';\n",
              "          await google.colab.output.renderOutput(dataTable, element);\n",
              "          const docLink = document.createElement('div');\n",
              "          docLink.innerHTML = docLinkHtml;\n",
              "          element.appendChild(docLink);\n",
              "        }\n",
              "      </script>\n",
              "    </div>\n",
              "  </div>\n",
              "  "
            ]
          },
          "metadata": {},
          "execution_count": 355
        }
      ]
    },
    {
      "cell_type": "markdown",
      "source": [
        "**Gasto dos partidos em campanhas por genero**"
      ],
      "metadata": {
        "id": "XaM45dQ6sBh1"
      }
    },
    {
      "cell_type": "markdown",
      "source": [
        "`Gasto dos partidos em campanhas genero feminino`"
      ],
      "metadata": {
        "id": "Krr4_0OrsG-v"
      }
    },
    {
      "cell_type": "code",
      "source": [
        "gasto_partido_feminino = candidatos_goias[candidatos_goias['DS_GENERO'] == \"FEMININO\"]"
      ],
      "metadata": {
        "id": "rIDvy_SOtOTC"
      },
      "execution_count": 356,
      "outputs": []
    },
    {
      "cell_type": "code",
      "source": [
        "plt.figure(figsize=(13,5))\n",
        "sns.lineplot(x=gasto_partido_feminino['ANO_ELEICAO'],y=gasto_partido_feminino['VR_DESPESA_MAX_CAMPANHA'], color='pink')\n",
        "plt.xlabel('Avg price')\n",
        "plt.ylabel('years')\n",
        "plt.show()"
      ],
      "metadata": {
        "colab": {
          "base_uri": "https://localhost:8080/",
          "height": 345
        },
        "id": "87rChwuWsq-5",
        "outputId": "bae6632e-462b-4439-f394-a2c79cd515e4"
      },
      "execution_count": 357,
      "outputs": [
        {
          "output_type": "display_data",
          "data": {
            "text/plain": [
              "<Figure size 936x360 with 1 Axes>"
            ],
            "image/png": "[encoded data removed]"
          },
          "metadata": {
            "needs_background": "light"
          }
        }
      ]
    },
    {
      "cell_type": "markdown",
      "source": [
        "`Gasto dos partidos em campanhas genero Masculino`"
      ],
      "metadata": {
        "id": "FKhKeo3pt5Tt"
      }
    },
    {
      "cell_type": "code",
      "source": [
        "gasto_partido_masculino = candidatos_goias[candidatos_goias['DS_GENERO'] == \"MASCULINO\"]"
      ],
      "metadata": {
        "id": "xKx5JDRgtCyr"
      },
      "execution_count": 358,
      "outputs": []
    },
    {
      "cell_type": "code",
      "source": [
        "plt.figure(figsize=(13,5))\n",
        "sns.lineplot(x=gasto_partido_masculino['ANO_ELEICAO'],y=gasto_partido_masculino['VR_DESPESA_MAX_CAMPANHA'], color='blue')\n",
        "plt.xlabel('Avg price')\n",
        "plt.ylabel('years')\n",
        "plt.show()"
      ],
      "metadata": {
        "colab": {
          "base_uri": "https://localhost:8080/",
          "height": 345
        },
        "id": "YNp6NO1utJWn",
        "outputId": "88bb94f0-acaf-4f82-c3f2-ee7446599a7a"
      },
      "execution_count": 359,
      "outputs": [
        {
          "output_type": "display_data",
          "data": {
            "text/plain": [
              "<Figure size 936x360 with 1 Axes>"
            ],
            "image/png": "[encoded data removed]"
          },
          "metadata": {
            "needs_background": "light"
          }
        }
      ]
    },
    {
      "cell_type": "markdown",
      "source": [
        "**Total geram gasto em campanhas mulhere X homens**"
      ],
      "metadata": {
        "id": "ft9j3fhNGO9V"
      }
    },
    {
      "cell_type": "markdown",
      "source": [
        "`Gastos geral em campanhas sexo feminino`"
      ],
      "metadata": {
        "id": "nHIhAPvOGbvH"
      }
    },
    {
      "cell_type": "code",
      "source": [
        "gasto_partido_feminino = candidatos_goias[candidatos_goias['DS_GENERO'] == \"FEMININO\"]"
      ],
      "metadata": {
        "id": "rhg7YG8yvrxR"
      },
      "execution_count": 360,
      "outputs": []
    },
    {
      "cell_type": "code",
      "source": [
        "gasto_partido_feminino['VR_DESPESA_MAX_CAMPANHA'].sum()"
      ],
      "metadata": {
        "colab": {
          "base_uri": "https://localhost:8080/"
        },
        "id": "eOnen1R-GSno",
        "outputId": "1822fa0c-ae34-44c2-fb0f-2fd92f14e920"
      },
      "execution_count": 361,
      "outputs": [
        {
          "output_type": "execute_result",
          "data": {
            "text/plain": [
              "4859899508.27"
            ]
          },
          "metadata": {},
          "execution_count": 361
        }
      ]
    },
    {
      "cell_type": "markdown",
      "source": [
        "Total gasto em campanhas do genero feminino é : <br>seiscentos e oitenta e quatro milhões e quinhentos e vinte mil quatrocentos e cinquenta e um reais </br>e oitenta e oito centavos"
      ],
      "metadata": {
        "id": "rP3XU73THOSf"
      }
    },
    {
      "cell_type": "markdown",
      "source": [
        "`Gastos geral em campanhas sexo masculino`"
      ],
      "metadata": {
        "id": "1LGkjSuJGhCS"
      }
    },
    {
      "cell_type": "code",
      "source": [
        "gasto_partido_masculino = candidatos_goias[candidatos_goias['DS_GENERO'] == \"MASCULINO\"]"
      ],
      "metadata": {
        "id": "XKcGHTF2GWBO"
      },
      "execution_count": 362,
      "outputs": []
    },
    {
      "cell_type": "code",
      "source": [
        "gasto_partido_masculino['VR_DESPESA_MAX_CAMPANHA'].sum()"
      ],
      "metadata": {
        "colab": {
          "base_uri": "https://localhost:8080/"
        },
        "id": "SNYWSg0nGlK_",
        "outputId": "ae2ab9ac-5f51-4f5d-bd6d-ccf40fcdce9a"
      },
      "execution_count": 363,
      "outputs": [
        {
          "output_type": "execute_result",
          "data": {
            "text/plain": [
              "12707294989.829998"
            ]
          },
          "metadata": {},
          "execution_count": 363
        }
      ]
    },
    {
      "cell_type": "markdown",
      "source": [
        "Total gasto em campanhas do sexo masculino é: </br>\n",
        "quatro bilhões e cento e oitenta e três milhões e seiscentos e cinquenta mil duzentos e </br>nove reais e vinte e oito centavos"
      ],
      "metadata": {
        "id": "tRjZOi86HrKA"
      }
    },
    {
      "cell_type": "markdown",
      "source": [
        "`Diferença de gastos mulheres X homens `"
      ],
      "metadata": {
        "id": "gllvGKn_G_B_"
      }
    },
    {
      "cell_type": "code",
      "source": [
        "diferença = (12707294989.829998 - 4859899508.27)\n",
        "diferença"
      ],
      "metadata": {
        "colab": {
          "base_uri": "https://localhost:8080/"
        },
        "id": "LTJFsUjwGnX5",
        "outputId": "f6bb819b-7cb2-4c89-e259-1368e669b20e"
      },
      "execution_count": 364,
      "outputs": [
        {
          "output_type": "execute_result",
          "data": {
            "text/plain": [
              "7847395481.559998"
            ]
          },
          "metadata": {},
          "execution_count": 364
        }
      ]
    },
    {
      "cell_type": "markdown",
      "source": [
        "Diferença de : Três bilhões e quatrocentos e noventa e nove milhões e cento e vinte </br> e nove mil setecentos e cinquenta e sete reais e quarenta centavos"
      ],
      "metadata": {
        "id": "Ghu8MmDnJdmf"
      }
    },
    {
      "cell_type": "markdown",
      "source": [
        "**Comparando esses valores com os anos de 2004 em que teve mais mulheres e homens candidatos**"
      ],
      "metadata": {
        "id": "a6uwSFF9IFMo"
      }
    },
    {
      "cell_type": "markdown",
      "source": [
        "`Gasto com campanhas no ano de 2004 genero feminino`"
      ],
      "metadata": {
        "id": "1w1NOLiJIL9q"
      }
    },
    {
      "cell_type": "code",
      "source": [
        "gasto_camapanha_feminino = candidatos_goias[candidatos_goias['DS_GENERO'] == \"FEMININO\"]\n",
        "gasto_camapanha_feminino = gasto_camapanha_feminino [gasto_camapanha_feminino ['ANO_ELEICAO'] == 2022]\n",
        "gasto_camapanha_feminino['VR_DESPESA_MAX_CAMPANHA'].sum()"
      ],
      "metadata": {
        "colab": {
          "base_uri": "https://localhost:8080/"
        },
        "id": "mqI5QZTlHH_2",
        "outputId": "bc60d75a-20ad-4597-e7b5-39b6bc584089"
      },
      "execution_count": 365,
      "outputs": [
        {
          "output_type": "execute_result",
          "data": {
            "text/plain": [
              "858564013.8300002"
            ]
          },
          "metadata": {},
          "execution_count": 365
        }
      ]
    },
    {
      "cell_type": "markdown",
      "source": [
        "Gasto de camapanha do genero feminino 2004 é :Noventa e oito milhões e cento e noventa<br> e dois mil novecentos e sessenta e oito reais <br>e setenta e sete centavos"
      ],
      "metadata": {
        "id": "0qsWyo1iI8G2"
      }
    },
    {
      "cell_type": "markdown",
      "source": [
        "`Gasto com campanhas no ano de 2004 genero masculino`"
      ],
      "metadata": {
        "id": "BV2dVQZoItvw"
      }
    },
    {
      "cell_type": "code",
      "source": [
        "gasto_camapanha_masculino = candidatos_goias[candidatos_goias['DS_GENERO'] == \"MASCULINO\"]\n",
        "gasto_camapanha_masculino= gasto_camapanha_masculino[gasto_camapanha_masculino['ANO_ELEICAO'] == 2022]\n",
        "gasto_camapanha_masculino['VR_DESPESA_MAX_CAMPANHA'].sum()"
      ],
      "metadata": {
        "colab": {
          "base_uri": "https://localhost:8080/"
        },
        "id": "Ize3E-q4IcD4",
        "outputId": "6ba680de-558a-4c58-956d-3ac8bfdd9092"
      },
      "execution_count": 366,
      "outputs": [
        {
          "output_type": "execute_result",
          "data": {
            "text/plain": [
              "1538350521.71"
            ]
          },
          "metadata": {},
          "execution_count": 366
        }
      ]
    },
    {
      "cell_type": "markdown",
      "source": [
        "Gasto de camapanha do genero masculino 2004 é : Um bilhão e duzentos e oitenta <br> e seis milhões e seiscentos e vinte e três mil seiscentos <br> e vinte e quatro reais e sessenta e dois centavos"
      ],
      "metadata": {
        "id": "5nKSM_j4JIU2"
      }
    },
    {
      "cell_type": "markdown",
      "source": [
        "`Diferença de gastos mulheres X homens ano de 2004 `"
      ],
      "metadata": {
        "id": "1quf3Ne5Jwje"
      }
    },
    {
      "cell_type": "code",
      "source": [
        "diferença = (1538350521.71 - 858564013.8300002)\n",
        "diferença"
      ],
      "metadata": {
        "colab": {
          "base_uri": "https://localhost:8080/"
        },
        "id": "3xmi3DOvI4z4",
        "outputId": "89b838cc-01a6-4ecd-de2f-b2735acb2e42"
      },
      "execution_count": 367,
      "outputs": [
        {
          "output_type": "execute_result",
          "data": {
            "text/plain": [
              "679786507.8799999"
            ]
          },
          "metadata": {},
          "execution_count": 367
        }
      ]
    },
    {
      "cell_type": "markdown",
      "source": [
        "Diferença de : Um bilhão e cento e oitenta e oito milhões e quatrocentos e trinta mil </br>seiscentos e cinquenta e cinco reais e oitenta e cinco centavos"
      ],
      "metadata": {
        "id": "vDKbM3-AKBmH"
      }
    },
    {
      "cell_type": "markdown",
      "source": [
        "**Qual ideologia mais frequente**"
      ],
      "metadata": {
        "id": "cyG8Xupy2mbu"
      }
    },
    {
      "cell_type": "code",
      "source": [
        "fig = plt.figure(figsize=(10,5))\n",
        "grafico = sns.countplot('ESPECTRO_PARTIDOS', order = candidatos_goias['ESPECTRO_PARTIDOS'].value_counts().index, palette=\"Paired\",  data =  candidatos_goias)\n",
        "plt.xticks(rotation=90)\n",
        "for i in grafico.patches:\n",
        "   grafico.annotate(i.get_height(),\n",
        "                  (i.get_x() + i.get_width() / 2, i.get_height()),\n",
        "                  ha='center',\n",
        "                  va='baseline',\n",
        "                  fontsize=12,\n",
        "                  color='black',\n",
        "                  xytext=(0, 1),\n",
        "                  textcoords='offset points');  \n",
        "plt.xlabel('espectro', fontsize=15)\n",
        "plt.ylabel(' ')\n",
        "plt.title('Grafico quantidade espectro partidos',fontsize=15);"
      ],
      "metadata": {
        "id": "FFLwqfFDJ99p",
        "colab": {
          "base_uri": "https://localhost:8080/",
          "height": 519
        },
        "outputId": "b6650857-3d3a-427a-c465-9e05304c7125"
      },
      "execution_count": 368,
      "outputs": [
        {
          "output_type": "error",
          "ename": "KeyError",
          "evalue": "ignored",
          "traceback": [
            "\u001b[0;31m---------------------------------------------------------------------------\u001b[0m",
            "\u001b[0;31mKeyError\u001b[0m                                  Traceback (most recent call last)",
            "\u001b[0;32m/usr/local/lib/python3.7/dist-packages/pandas/core/indexes/base.py\u001b[0m in \u001b[0;36mget_loc\u001b[0;34m(self, key, method, tolerance)\u001b[0m\n\u001b[1;32m   3360\u001b[0m             \u001b[0;32mtry\u001b[0m\u001b[0;34m:\u001b[0m\u001b[0;34m\u001b[0m\u001b[0;34m\u001b[0m\u001b[0m\n\u001b[0;32m-> 3361\u001b[0;31m                 \u001b[0;32mreturn\u001b[0m \u001b[0mself\u001b[0m\u001b[0;34m.\u001b[0m\u001b[0m_engine\u001b[0m\u001b[0;34m.\u001b[0m\u001b[0mget_loc\u001b[0m\u001b[0;34m(\u001b[0m\u001b[0mcasted_key\u001b[0m\u001b[0;34m)\u001b[0m\u001b[0;34m\u001b[0m\u001b[0;34m\u001b[0m\u001b[0m\n\u001b[0m\u001b[1;32m   3362\u001b[0m             \u001b[0;32mexcept\u001b[0m \u001b[0mKeyError\u001b[0m \u001b[0;32mas\u001b[0m \u001b[0merr\u001b[0m\u001b[0;34m:\u001b[0m\u001b[0;34m\u001b[0m\u001b[0;34m\u001b[0m\u001b[0m\n",
            "\u001b[0;32m/usr/local/lib/python3.7/dist-packages/pandas/_libs/index.pyx\u001b[0m in \u001b[0;36mpandas._libs.index.IndexEngine.get_loc\u001b[0;34m()\u001b[0m\n",
            "\u001b[0;32m/usr/local/lib/python3.7/dist-packages/pandas/_libs/index.pyx\u001b[0m in \u001b[0;36mpandas._libs.index.IndexEngine.get_loc\u001b[0;34m()\u001b[0m\n",
            "\u001b[0;32mpandas/_libs/hashtable_class_helper.pxi\u001b[0m in \u001b[0;36mpandas._libs.hashtable.PyObjectHashTable.get_item\u001b[0;34m()\u001b[0m\n",
            "\u001b[0;32mpandas/_libs/hashtable_class_helper.pxi\u001b[0m in \u001b[0;36mpandas._libs.hashtable.PyObjectHashTable.get_item\u001b[0;34m()\u001b[0m\n",
            "\u001b[0;31mKeyError\u001b[0m: 'ESPECTRO_PARTIDOS'",
            "\nThe above exception was the direct cause of the following exception:\n",
            "\u001b[0;31mKeyError\u001b[0m                                  Traceback (most recent call last)",
            "\u001b[0;32m<ipython-input-368-2b6b4460fde9>\u001b[0m in \u001b[0;36m<module>\u001b[0;34m\u001b[0m\n\u001b[1;32m      1\u001b[0m \u001b[0mfig\u001b[0m \u001b[0;34m=\u001b[0m \u001b[0mplt\u001b[0m\u001b[0;34m.\u001b[0m\u001b[0mfigure\u001b[0m\u001b[0;34m(\u001b[0m\u001b[0mfigsize\u001b[0m\u001b[0;34m=\u001b[0m\u001b[0;34m(\u001b[0m\u001b[0;36m10\u001b[0m\u001b[0;34m,\u001b[0m\u001b[0;36m5\u001b[0m\u001b[0;34m)\u001b[0m\u001b[0;34m)\u001b[0m\u001b[0;34m\u001b[0m\u001b[0;34m\u001b[0m\u001b[0m\n\u001b[0;32m----> 2\u001b[0;31m \u001b[0mgrafico\u001b[0m \u001b[0;34m=\u001b[0m \u001b[0msns\u001b[0m\u001b[0;34m.\u001b[0m\u001b[0mcountplot\u001b[0m\u001b[0;34m(\u001b[0m\u001b[0;34m'ESPECTRO_PARTIDOS'\u001b[0m\u001b[0;34m,\u001b[0m \u001b[0morder\u001b[0m \u001b[0;34m=\u001b[0m \u001b[0mcandidatos_goias\u001b[0m\u001b[0;34m[\u001b[0m\u001b[0;34m'ESPECTRO_PARTIDOS'\u001b[0m\u001b[0;34m]\u001b[0m\u001b[0;34m.\u001b[0m\u001b[0mvalue_counts\u001b[0m\u001b[0;34m(\u001b[0m\u001b[0;34m)\u001b[0m\u001b[0;34m.\u001b[0m\u001b[0mindex\u001b[0m\u001b[0;34m,\u001b[0m \u001b[0mpalette\u001b[0m\u001b[0;34m=\u001b[0m\u001b[0;34m\"Paired\"\u001b[0m\u001b[0;34m,\u001b[0m  \u001b[0mdata\u001b[0m \u001b[0;34m=\u001b[0m  \u001b[0mcandidatos_goias\u001b[0m\u001b[0;34m)\u001b[0m\u001b[0;34m\u001b[0m\u001b[0;34m\u001b[0m\u001b[0m\n\u001b[0m\u001b[1;32m      3\u001b[0m \u001b[0mplt\u001b[0m\u001b[0;34m.\u001b[0m\u001b[0mxticks\u001b[0m\u001b[0;34m(\u001b[0m\u001b[0mrotation\u001b[0m\u001b[0;34m=\u001b[0m\u001b[0;36m90\u001b[0m\u001b[0;34m)\u001b[0m\u001b[0;34m\u001b[0m\u001b[0;34m\u001b[0m\u001b[0m\n\u001b[1;32m      4\u001b[0m \u001b[0;32mfor\u001b[0m \u001b[0mi\u001b[0m \u001b[0;32min\u001b[0m \u001b[0mgrafico\u001b[0m\u001b[0;34m.\u001b[0m\u001b[0mpatches\u001b[0m\u001b[0;34m:\u001b[0m\u001b[0;34m\u001b[0m\u001b[0;34m\u001b[0m\u001b[0m\n\u001b[1;32m      5\u001b[0m    grafico.annotate(i.get_height(),\n",
            "\u001b[0;32m/usr/local/lib/python3.7/dist-packages/pandas/core/frame.py\u001b[0m in \u001b[0;36m__getitem__\u001b[0;34m(self, key)\u001b[0m\n\u001b[1;32m   3456\u001b[0m             \u001b[0;32mif\u001b[0m \u001b[0mself\u001b[0m\u001b[0;34m.\u001b[0m\u001b[0mcolumns\u001b[0m\u001b[0;34m.\u001b[0m\u001b[0mnlevels\u001b[0m \u001b[0;34m>\u001b[0m \u001b[0;36m1\u001b[0m\u001b[0;34m:\u001b[0m\u001b[0;34m\u001b[0m\u001b[0;34m\u001b[0m\u001b[0m\n\u001b[1;32m   3457\u001b[0m                 \u001b[0;32mreturn\u001b[0m \u001b[0mself\u001b[0m\u001b[0;34m.\u001b[0m\u001b[0m_getitem_multilevel\u001b[0m\u001b[0;34m(\u001b[0m\u001b[0mkey\u001b[0m\u001b[0;34m)\u001b[0m\u001b[0;34m\u001b[0m\u001b[0;34m\u001b[0m\u001b[0m\n\u001b[0;32m-> 3458\u001b[0;31m             \u001b[0mindexer\u001b[0m \u001b[0;34m=\u001b[0m \u001b[0mself\u001b[0m\u001b[0;34m.\u001b[0m\u001b[0mcolumns\u001b[0m\u001b[0;34m.\u001b[0m\u001b[0mget_loc\u001b[0m\u001b[0;34m(\u001b[0m\u001b[0mkey\u001b[0m\u001b[0;34m)\u001b[0m\u001b[0;34m\u001b[0m\u001b[0;34m\u001b[0m\u001b[0m\n\u001b[0m\u001b[1;32m   3459\u001b[0m             \u001b[0;32mif\u001b[0m \u001b[0mis_integer\u001b[0m\u001b[0;34m(\u001b[0m\u001b[0mindexer\u001b[0m\u001b[0;34m)\u001b[0m\u001b[0;34m:\u001b[0m\u001b[0;34m\u001b[0m\u001b[0;34m\u001b[0m\u001b[0m\n\u001b[1;32m   3460\u001b[0m                 \u001b[0mindexer\u001b[0m \u001b[0;34m=\u001b[0m \u001b[0;34m[\u001b[0m\u001b[0mindexer\u001b[0m\u001b[0;34m]\u001b[0m\u001b[0;34m\u001b[0m\u001b[0;34m\u001b[0m\u001b[0m\n",
            "\u001b[0;32m/usr/local/lib/python3.7/dist-packages/pandas/core/indexes/base.py\u001b[0m in \u001b[0;36mget_loc\u001b[0;34m(self, key, method, tolerance)\u001b[0m\n\u001b[1;32m   3361\u001b[0m                 \u001b[0;32mreturn\u001b[0m \u001b[0mself\u001b[0m\u001b[0;34m.\u001b[0m\u001b[0m_engine\u001b[0m\u001b[0;34m.\u001b[0m\u001b[0mget_loc\u001b[0m\u001b[0;34m(\u001b[0m\u001b[0mcasted_key\u001b[0m\u001b[0;34m)\u001b[0m\u001b[0;34m\u001b[0m\u001b[0;34m\u001b[0m\u001b[0m\n\u001b[1;32m   3362\u001b[0m             \u001b[0;32mexcept\u001b[0m \u001b[0mKeyError\u001b[0m \u001b[0;32mas\u001b[0m \u001b[0merr\u001b[0m\u001b[0;34m:\u001b[0m\u001b[0;34m\u001b[0m\u001b[0;34m\u001b[0m\u001b[0m\n\u001b[0;32m-> 3363\u001b[0;31m                 \u001b[0;32mraise\u001b[0m \u001b[0mKeyError\u001b[0m\u001b[0;34m(\u001b[0m\u001b[0mkey\u001b[0m\u001b[0;34m)\u001b[0m \u001b[0;32mfrom\u001b[0m \u001b[0merr\u001b[0m\u001b[0;34m\u001b[0m\u001b[0;34m\u001b[0m\u001b[0m\n\u001b[0m\u001b[1;32m   3364\u001b[0m \u001b[0;34m\u001b[0m\u001b[0m\n\u001b[1;32m   3365\u001b[0m         \u001b[0;32mif\u001b[0m \u001b[0mis_scalar\u001b[0m\u001b[0;34m(\u001b[0m\u001b[0mkey\u001b[0m\u001b[0;34m)\u001b[0m \u001b[0;32mand\u001b[0m \u001b[0misna\u001b[0m\u001b[0;34m(\u001b[0m\u001b[0mkey\u001b[0m\u001b[0;34m)\u001b[0m \u001b[0;32mand\u001b[0m \u001b[0;32mnot\u001b[0m \u001b[0mself\u001b[0m\u001b[0;34m.\u001b[0m\u001b[0mhasnans\u001b[0m\u001b[0;34m:\u001b[0m\u001b[0;34m\u001b[0m\u001b[0;34m\u001b[0m\u001b[0m\n",
            "\u001b[0;31mKeyError\u001b[0m: 'ESPECTRO_PARTIDOS'"
          ]
        },
        {
          "output_type": "display_data",
          "data": {
            "text/plain": [
              "<Figure size 720x360 with 0 Axes>"
            ]
          },
          "metadata": {}
        }
      ]
    },
    {
      "cell_type": "markdown",
      "source": [
        "**Qual ideologia mais ganhou eleições**"
      ],
      "metadata": {
        "id": "hm0NDzkO4k0v"
      }
    },
    {
      "cell_type": "code",
      "source": [
        "espectro = candidatos_goias[candidatos_goias['DS_SIT_TOT_TURNO'] == \"ELEITO\"]"
      ],
      "metadata": {
        "id": "TTqvX9HoaBpe"
      },
      "execution_count": null,
      "outputs": []
    },
    {
      "cell_type": "code",
      "source": [
        "#Utilizando sql para contabilizar qual ideologia mais ganhou eleições\n",
        "query = \"\"\"SELECT ESPECTRO_PARTIDOS, COUNT(ESPECTRO_PARTIDOS) \n",
        "           FROM espectro\n",
        "           GROUP BY ESPECTRO_PARTIDOS\n",
        "           \"\"\"\n",
        "ps.sqldf(query.lower(), locals())"
      ],
      "metadata": {
        "id": "EfaZ6dUV20aV"
      },
      "execution_count": null,
      "outputs": []
    },
    {
      "cell_type": "markdown",
      "source": [
        "**Qual ideologia tem mais mulheres x homens eleitos**"
      ],
      "metadata": {
        "id": "s4zN1FwYZpPu"
      }
    },
    {
      "cell_type": "markdown",
      "source": [
        "`Ideologia que foram mais mulheres eleitas`\n",
        "\n",
        "\n",
        "\n",
        "\n"
      ],
      "metadata": {
        "id": "B5dFoaAZbZjf"
      }
    },
    {
      "cell_type": "code",
      "source": [
        "espectro = candidatos_goias[candidatos_goias['DS_SIT_TOT_TURNO'] == \"ELEITO\"]\n",
        "espectro_feminino = espectro[espectro['DS_GENERO'] == \"FEMININO\"]"
      ],
      "metadata": {
        "id": "swTkqW57bDuf"
      },
      "execution_count": 369,
      "outputs": []
    },
    {
      "cell_type": "code",
      "source": [
        "#Utilizando sql para contabilizar qual ideologia mais ganhou eleições\n",
        "query = \"\"\"SELECT DS_GENERO, ESPECTRO_PARTIDOS, COUNT(ESPECTRO_PARTIDOS) \n",
        "           FROM espectro_feminino\n",
        "           GROUP BY ESPECTRO_PARTIDOS\n",
        "           \"\"\"\n",
        "ps.sqldf(query.lower(), locals())"
      ],
      "metadata": {
        "id": "C2qyFdzx4qGF",
        "colab": {
          "base_uri": "https://localhost:8080/",
          "height": 710
        },
        "outputId": "dbcfdf6c-183d-4fe2-8e79-76c8759c1594"
      },
      "execution_count": 370,
      "outputs": [
        {
          "output_type": "error",
          "ename": "PandaSQLException",
          "evalue": "ignored",
          "traceback": [
            "\u001b[0;31m---------------------------------------------------------------------------\u001b[0m",
            "\u001b[0;31mOperationalError\u001b[0m                          Traceback (most recent call last)",
            "\u001b[0;32m/usr/local/lib/python3.7/dist-packages/sqlalchemy/engine/base.py\u001b[0m in \u001b[0;36m_execute_context\u001b[0;34m(self, dialect, constructor, statement, parameters, execution_options, *args, **kw)\u001b[0m\n\u001b[1;32m   1900\u001b[0m                     self.dialect.do_execute(\n\u001b[0;32m-> 1901\u001b[0;31m                         \u001b[0mcursor\u001b[0m\u001b[0;34m,\u001b[0m \u001b[0mstatement\u001b[0m\u001b[0;34m,\u001b[0m \u001b[0mparameters\u001b[0m\u001b[0;34m,\u001b[0m \u001b[0mcontext\u001b[0m\u001b[0;34m\u001b[0m\u001b[0;34m\u001b[0m\u001b[0m\n\u001b[0m\u001b[1;32m   1902\u001b[0m                     )\n",
            "\u001b[0;32m/usr/local/lib/python3.7/dist-packages/sqlalchemy/engine/default.py\u001b[0m in \u001b[0;36mdo_execute\u001b[0;34m(self, cursor, statement, parameters, context)\u001b[0m\n\u001b[1;32m    735\u001b[0m     \u001b[0;32mdef\u001b[0m \u001b[0mdo_execute\u001b[0m\u001b[0;34m(\u001b[0m\u001b[0mself\u001b[0m\u001b[0;34m,\u001b[0m \u001b[0mcursor\u001b[0m\u001b[0;34m,\u001b[0m \u001b[0mstatement\u001b[0m\u001b[0;34m,\u001b[0m \u001b[0mparameters\u001b[0m\u001b[0;34m,\u001b[0m \u001b[0mcontext\u001b[0m\u001b[0;34m=\u001b[0m\u001b[0;32mNone\u001b[0m\u001b[0;34m)\u001b[0m\u001b[0;34m:\u001b[0m\u001b[0;34m\u001b[0m\u001b[0;34m\u001b[0m\u001b[0m\n\u001b[0;32m--> 736\u001b[0;31m         \u001b[0mcursor\u001b[0m\u001b[0;34m.\u001b[0m\u001b[0mexecute\u001b[0m\u001b[0;34m(\u001b[0m\u001b[0mstatement\u001b[0m\u001b[0;34m,\u001b[0m \u001b[0mparameters\u001b[0m\u001b[0;34m)\u001b[0m\u001b[0;34m\u001b[0m\u001b[0;34m\u001b[0m\u001b[0m\n\u001b[0m\u001b[1;32m    737\u001b[0m \u001b[0;34m\u001b[0m\u001b[0m\n",
            "\u001b[0;31mOperationalError\u001b[0m: no such column: espectro_partidos",
            "\nThe above exception was the direct cause of the following exception:\n",
            "\u001b[0;31mOperationalError\u001b[0m                          Traceback (most recent call last)",
            "\u001b[0;32m/usr/local/lib/python3.7/dist-packages/pandasql/sqldf.py\u001b[0m in \u001b[0;36m__call__\u001b[0;34m(self, query, env)\u001b[0m\n\u001b[1;32m     60\u001b[0m             \u001b[0;32mtry\u001b[0m\u001b[0;34m:\u001b[0m\u001b[0;34m\u001b[0m\u001b[0;34m\u001b[0m\u001b[0m\n\u001b[0;32m---> 61\u001b[0;31m                 \u001b[0mresult\u001b[0m \u001b[0;34m=\u001b[0m \u001b[0mread_sql\u001b[0m\u001b[0;34m(\u001b[0m\u001b[0mquery\u001b[0m\u001b[0;34m,\u001b[0m \u001b[0mconn\u001b[0m\u001b[0;34m)\u001b[0m\u001b[0;34m\u001b[0m\u001b[0;34m\u001b[0m\u001b[0m\n\u001b[0m\u001b[1;32m     62\u001b[0m             \u001b[0;32mexcept\u001b[0m \u001b[0mDatabaseError\u001b[0m \u001b[0;32mas\u001b[0m \u001b[0mex\u001b[0m\u001b[0;34m:\u001b[0m\u001b[0;34m\u001b[0m\u001b[0;34m\u001b[0m\u001b[0m\n",
            "\u001b[0;32m/usr/local/lib/python3.7/dist-packages/pandas/io/sql.py\u001b[0m in \u001b[0;36mread_sql\u001b[0;34m(sql, con, index_col, coerce_float, params, parse_dates, columns, chunksize)\u001b[0m\n\u001b[1;32m    633\u001b[0m             \u001b[0mparse_dates\u001b[0m\u001b[0;34m=\u001b[0m\u001b[0mparse_dates\u001b[0m\u001b[0;34m,\u001b[0m\u001b[0;34m\u001b[0m\u001b[0;34m\u001b[0m\u001b[0m\n\u001b[0;32m--> 634\u001b[0;31m             \u001b[0mchunksize\u001b[0m\u001b[0;34m=\u001b[0m\u001b[0mchunksize\u001b[0m\u001b[0;34m,\u001b[0m\u001b[0;34m\u001b[0m\u001b[0;34m\u001b[0m\u001b[0m\n\u001b[0m\u001b[1;32m    635\u001b[0m         )\n",
            "\u001b[0;32m/usr/local/lib/python3.7/dist-packages/pandas/io/sql.py\u001b[0m in \u001b[0;36mread_query\u001b[0;34m(self, sql, index_col, coerce_float, parse_dates, params, chunksize, dtype)\u001b[0m\n\u001b[1;32m   1578\u001b[0m \u001b[0;34m\u001b[0m\u001b[0m\n\u001b[0;32m-> 1579\u001b[0;31m         \u001b[0mresult\u001b[0m \u001b[0;34m=\u001b[0m \u001b[0mself\u001b[0m\u001b[0;34m.\u001b[0m\u001b[0mexecute\u001b[0m\u001b[0;34m(\u001b[0m\u001b[0;34m*\u001b[0m\u001b[0margs\u001b[0m\u001b[0;34m)\u001b[0m\u001b[0;34m\u001b[0m\u001b[0;34m\u001b[0m\u001b[0m\n\u001b[0m\u001b[1;32m   1580\u001b[0m         \u001b[0mcolumns\u001b[0m \u001b[0;34m=\u001b[0m \u001b[0mresult\u001b[0m\u001b[0;34m.\u001b[0m\u001b[0mkeys\u001b[0m\u001b[0;34m(\u001b[0m\u001b[0;34m)\u001b[0m\u001b[0;34m\u001b[0m\u001b[0;34m\u001b[0m\u001b[0m\n",
            "\u001b[0;32m/usr/local/lib/python3.7/dist-packages/pandas/io/sql.py\u001b[0m in \u001b[0;36mexecute\u001b[0;34m(self, *args, **kwargs)\u001b[0m\n\u001b[1;32m   1423\u001b[0m         \u001b[0;34m\"\"\"Simple passthrough to SQLAlchemy connectable\"\"\"\u001b[0m\u001b[0;34m\u001b[0m\u001b[0;34m\u001b[0m\u001b[0m\n\u001b[0;32m-> 1424\u001b[0;31m         \u001b[0;32mreturn\u001b[0m \u001b[0mself\u001b[0m\u001b[0;34m.\u001b[0m\u001b[0mconnectable\u001b[0m\u001b[0;34m.\u001b[0m\u001b[0mexecution_options\u001b[0m\u001b[0;34m(\u001b[0m\u001b[0;34m)\u001b[0m\u001b[0;34m.\u001b[0m\u001b[0mexecute\u001b[0m\u001b[0;34m(\u001b[0m\u001b[0;34m*\u001b[0m\u001b[0margs\u001b[0m\u001b[0;34m,\u001b[0m \u001b[0;34m**\u001b[0m\u001b[0mkwargs\u001b[0m\u001b[0;34m)\u001b[0m\u001b[0;34m\u001b[0m\u001b[0;34m\u001b[0m\u001b[0m\n\u001b[0m\u001b[1;32m   1425\u001b[0m \u001b[0;34m\u001b[0m\u001b[0m\n",
            "\u001b[0;32m/usr/local/lib/python3.7/dist-packages/sqlalchemy/engine/base.py\u001b[0m in \u001b[0;36mexecute\u001b[0;34m(self, statement, *multiparams, **params)\u001b[0m\n\u001b[1;32m   1369\u001b[0m                 \u001b[0m_EMPTY_EXECUTION_OPTS\u001b[0m\u001b[0;34m,\u001b[0m\u001b[0;34m\u001b[0m\u001b[0;34m\u001b[0m\u001b[0m\n\u001b[0;32m-> 1370\u001b[0;31m                 \u001b[0mfuture\u001b[0m\u001b[0;34m=\u001b[0m\u001b[0;32mFalse\u001b[0m\u001b[0;34m,\u001b[0m\u001b[0;34m\u001b[0m\u001b[0;34m\u001b[0m\u001b[0m\n\u001b[0m\u001b[1;32m   1371\u001b[0m             )\n",
            "\u001b[0;32m/usr/local/lib/python3.7/dist-packages/sqlalchemy/engine/base.py\u001b[0m in \u001b[0;36m_exec_driver_sql\u001b[0;34m(self, statement, multiparams, params, execution_options, future)\u001b[0m\n\u001b[1;32m   1675\u001b[0m             \u001b[0mstatement\u001b[0m\u001b[0;34m,\u001b[0m\u001b[0;34m\u001b[0m\u001b[0;34m\u001b[0m\u001b[0m\n\u001b[0;32m-> 1676\u001b[0;31m             \u001b[0mdistilled_parameters\u001b[0m\u001b[0;34m,\u001b[0m\u001b[0;34m\u001b[0m\u001b[0;34m\u001b[0m\u001b[0m\n\u001b[0m\u001b[1;32m   1677\u001b[0m         )\n",
            "\u001b[0;32m/usr/local/lib/python3.7/dist-packages/sqlalchemy/engine/base.py\u001b[0m in \u001b[0;36m_execute_context\u001b[0;34m(self, dialect, constructor, statement, parameters, execution_options, *args, **kw)\u001b[0m\n\u001b[1;32m   1943\u001b[0m             self._handle_dbapi_exception(\n\u001b[0;32m-> 1944\u001b[0;31m                 \u001b[0me\u001b[0m\u001b[0;34m,\u001b[0m \u001b[0mstatement\u001b[0m\u001b[0;34m,\u001b[0m \u001b[0mparameters\u001b[0m\u001b[0;34m,\u001b[0m \u001b[0mcursor\u001b[0m\u001b[0;34m,\u001b[0m \u001b[0mcontext\u001b[0m\u001b[0;34m\u001b[0m\u001b[0;34m\u001b[0m\u001b[0m\n\u001b[0m\u001b[1;32m   1945\u001b[0m             )\n",
            "\u001b[0;32m/usr/local/lib/python3.7/dist-packages/sqlalchemy/engine/base.py\u001b[0m in \u001b[0;36m_handle_dbapi_exception\u001b[0;34m(self, e, statement, parameters, cursor, context)\u001b[0m\n\u001b[1;32m   2124\u001b[0m                 util.raise_(\n\u001b[0;32m-> 2125\u001b[0;31m                     \u001b[0msqlalchemy_exception\u001b[0m\u001b[0;34m,\u001b[0m \u001b[0mwith_traceback\u001b[0m\u001b[0;34m=\u001b[0m\u001b[0mexc_info\u001b[0m\u001b[0;34m[\u001b[0m\u001b[0;36m2\u001b[0m\u001b[0;34m]\u001b[0m\u001b[0;34m,\u001b[0m \u001b[0mfrom_\u001b[0m\u001b[0;34m=\u001b[0m\u001b[0me\u001b[0m\u001b[0;34m\u001b[0m\u001b[0;34m\u001b[0m\u001b[0m\n\u001b[0m\u001b[1;32m   2126\u001b[0m                 )\n",
            "\u001b[0;32m/usr/local/lib/python3.7/dist-packages/sqlalchemy/util/compat.py\u001b[0m in \u001b[0;36mraise_\u001b[0;34m(***failed resolving arguments***)\u001b[0m\n\u001b[1;32m    207\u001b[0m         \u001b[0;32mtry\u001b[0m\u001b[0;34m:\u001b[0m\u001b[0;34m\u001b[0m\u001b[0;34m\u001b[0m\u001b[0m\n\u001b[0;32m--> 208\u001b[0;31m             \u001b[0;32mraise\u001b[0m \u001b[0mexception\u001b[0m\u001b[0;34m\u001b[0m\u001b[0;34m\u001b[0m\u001b[0m\n\u001b[0m\u001b[1;32m    209\u001b[0m         \u001b[0;32mfinally\u001b[0m\u001b[0;34m:\u001b[0m\u001b[0;34m\u001b[0m\u001b[0;34m\u001b[0m\u001b[0m\n",
            "\u001b[0;32m/usr/local/lib/python3.7/dist-packages/sqlalchemy/engine/base.py\u001b[0m in \u001b[0;36m_execute_context\u001b[0;34m(self, dialect, constructor, statement, parameters, execution_options, *args, **kw)\u001b[0m\n\u001b[1;32m   1900\u001b[0m                     self.dialect.do_execute(\n\u001b[0;32m-> 1901\u001b[0;31m                         \u001b[0mcursor\u001b[0m\u001b[0;34m,\u001b[0m \u001b[0mstatement\u001b[0m\u001b[0;34m,\u001b[0m \u001b[0mparameters\u001b[0m\u001b[0;34m,\u001b[0m \u001b[0mcontext\u001b[0m\u001b[0;34m\u001b[0m\u001b[0;34m\u001b[0m\u001b[0m\n\u001b[0m\u001b[1;32m   1902\u001b[0m                     )\n",
            "\u001b[0;32m/usr/local/lib/python3.7/dist-packages/sqlalchemy/engine/default.py\u001b[0m in \u001b[0;36mdo_execute\u001b[0;34m(self, cursor, statement, parameters, context)\u001b[0m\n\u001b[1;32m    735\u001b[0m     \u001b[0;32mdef\u001b[0m \u001b[0mdo_execute\u001b[0m\u001b[0;34m(\u001b[0m\u001b[0mself\u001b[0m\u001b[0;34m,\u001b[0m \u001b[0mcursor\u001b[0m\u001b[0;34m,\u001b[0m \u001b[0mstatement\u001b[0m\u001b[0;34m,\u001b[0m \u001b[0mparameters\u001b[0m\u001b[0;34m,\u001b[0m \u001b[0mcontext\u001b[0m\u001b[0;34m=\u001b[0m\u001b[0;32mNone\u001b[0m\u001b[0;34m)\u001b[0m\u001b[0;34m:\u001b[0m\u001b[0;34m\u001b[0m\u001b[0;34m\u001b[0m\u001b[0m\n\u001b[0;32m--> 736\u001b[0;31m         \u001b[0mcursor\u001b[0m\u001b[0;34m.\u001b[0m\u001b[0mexecute\u001b[0m\u001b[0;34m(\u001b[0m\u001b[0mstatement\u001b[0m\u001b[0;34m,\u001b[0m \u001b[0mparameters\u001b[0m\u001b[0;34m)\u001b[0m\u001b[0;34m\u001b[0m\u001b[0;34m\u001b[0m\u001b[0m\n\u001b[0m\u001b[1;32m    737\u001b[0m \u001b[0;34m\u001b[0m\u001b[0m\n",
            "\u001b[0;31mOperationalError\u001b[0m: (sqlite3.OperationalError) no such column: espectro_partidos\n[SQL: select ds_genero, espectro_partidos, count(espectro_partidos) \n           from espectro_feminino\n           group by espectro_partidos\n           ]\n(Background on this error at: https://sqlalche.me/e/14/e3q8)",
            "\nDuring handling of the above exception, another exception occurred:\n",
            "\u001b[0;31mPandaSQLException\u001b[0m                         Traceback (most recent call last)",
            "\u001b[0;32m<ipython-input-370-62a9da208456>\u001b[0m in \u001b[0;36m<module>\u001b[0;34m\u001b[0m\n\u001b[1;32m      4\u001b[0m            \u001b[0mGROUP\u001b[0m \u001b[0mBY\u001b[0m \u001b[0mESPECTRO_PARTIDOS\u001b[0m\u001b[0;34m\u001b[0m\u001b[0;34m\u001b[0m\u001b[0m\n\u001b[1;32m      5\u001b[0m            \"\"\"\n\u001b[0;32m----> 6\u001b[0;31m \u001b[0mps\u001b[0m\u001b[0;34m.\u001b[0m\u001b[0msqldf\u001b[0m\u001b[0;34m(\u001b[0m\u001b[0mquery\u001b[0m\u001b[0;34m.\u001b[0m\u001b[0mlower\u001b[0m\u001b[0;34m(\u001b[0m\u001b[0;34m)\u001b[0m\u001b[0;34m,\u001b[0m \u001b[0mlocals\u001b[0m\u001b[0;34m(\u001b[0m\u001b[0;34m)\u001b[0m\u001b[0;34m)\u001b[0m\u001b[0;34m\u001b[0m\u001b[0;34m\u001b[0m\u001b[0m\n\u001b[0m",
            "\u001b[0;32m/usr/local/lib/python3.7/dist-packages/pandasql/sqldf.py\u001b[0m in \u001b[0;36msqldf\u001b[0;34m(query, env, db_uri)\u001b[0m\n\u001b[1;32m    154\u001b[0m     \u001b[0;34m>>\u001b[0m\u001b[0;34m>\u001b[0m \u001b[0msqldf\u001b[0m\u001b[0;34m(\u001b[0m\u001b[0;34m\"select avg(x) from df;\"\u001b[0m\u001b[0;34m,\u001b[0m \u001b[0mlocals\u001b[0m\u001b[0;34m(\u001b[0m\u001b[0;34m)\u001b[0m\u001b[0;34m)\u001b[0m\u001b[0;34m\u001b[0m\u001b[0;34m\u001b[0m\u001b[0m\n\u001b[1;32m    155\u001b[0m     \"\"\"\n\u001b[0;32m--> 156\u001b[0;31m     \u001b[0;32mreturn\u001b[0m \u001b[0mPandaSQL\u001b[0m\u001b[0;34m(\u001b[0m\u001b[0mdb_uri\u001b[0m\u001b[0;34m)\u001b[0m\u001b[0;34m(\u001b[0m\u001b[0mquery\u001b[0m\u001b[0;34m,\u001b[0m \u001b[0menv\u001b[0m\u001b[0;34m)\u001b[0m\u001b[0;34m\u001b[0m\u001b[0;34m\u001b[0m\u001b[0m\n\u001b[0m",
            "\u001b[0;32m/usr/local/lib/python3.7/dist-packages/pandasql/sqldf.py\u001b[0m in \u001b[0;36m__call__\u001b[0;34m(self, query, env)\u001b[0m\n\u001b[1;32m     61\u001b[0m                 \u001b[0mresult\u001b[0m \u001b[0;34m=\u001b[0m \u001b[0mread_sql\u001b[0m\u001b[0;34m(\u001b[0m\u001b[0mquery\u001b[0m\u001b[0;34m,\u001b[0m \u001b[0mconn\u001b[0m\u001b[0;34m)\u001b[0m\u001b[0;34m\u001b[0m\u001b[0;34m\u001b[0m\u001b[0m\n\u001b[1;32m     62\u001b[0m             \u001b[0;32mexcept\u001b[0m \u001b[0mDatabaseError\u001b[0m \u001b[0;32mas\u001b[0m \u001b[0mex\u001b[0m\u001b[0;34m:\u001b[0m\u001b[0;34m\u001b[0m\u001b[0;34m\u001b[0m\u001b[0m\n\u001b[0;32m---> 63\u001b[0;31m                 \u001b[0;32mraise\u001b[0m \u001b[0mPandaSQLException\u001b[0m\u001b[0;34m(\u001b[0m\u001b[0mex\u001b[0m\u001b[0;34m)\u001b[0m\u001b[0;34m\u001b[0m\u001b[0;34m\u001b[0m\u001b[0m\n\u001b[0m\u001b[1;32m     64\u001b[0m             \u001b[0;32mexcept\u001b[0m \u001b[0mResourceClosedError\u001b[0m\u001b[0;34m:\u001b[0m\u001b[0;34m\u001b[0m\u001b[0;34m\u001b[0m\u001b[0m\n\u001b[1;32m     65\u001b[0m                 \u001b[0;31m# query returns nothing\u001b[0m\u001b[0;34m\u001b[0m\u001b[0;34m\u001b[0m\u001b[0;34m\u001b[0m\u001b[0m\n",
            "\u001b[0;31mPandaSQLException\u001b[0m: (sqlite3.OperationalError) no such column: espectro_partidos\n[SQL: select ds_genero, espectro_partidos, count(espectro_partidos) \n           from espectro_feminino\n           group by espectro_partidos\n           ]\n(Background on this error at: https://sqlalche.me/e/14/e3q8)"
          ]
        }
      ]
    },
    {
      "cell_type": "markdown",
      "source": [
        "`Ideologia que foram mais homens eleitas`"
      ],
      "metadata": {
        "id": "9CtfDgjObhzB"
      }
    },
    {
      "cell_type": "code",
      "source": [
        "espectro = candidatos_goias[candidatos_goias['DS_SIT_TOT_TURNO'] == \"ELEITO\"]\n",
        "espectro_masculino = espectro[espectro['DS_GENERO'] == \"MASCULINO\"]"
      ],
      "metadata": {
        "id": "LG2OeUIebk4m"
      },
      "execution_count": 371,
      "outputs": []
    },
    {
      "cell_type": "code",
      "source": [
        "#Utilizando sql para contabilizar qual ideologia mais ganhou eleições\n",
        "query = \"\"\"SELECT DS_GENERO, ESPECTRO_PARTIDOS, COUNT(ESPECTRO_PARTIDOS) \n",
        "           FROM espectro_masculino\n",
        "           GROUP BY ESPECTRO_PARTIDOS\n",
        "           \"\"\"\n",
        "ps.sqldf(query.lower(), locals())"
      ],
      "metadata": {
        "colab": {
          "base_uri": "https://localhost:8080/",
          "height": 710
        },
        "id": "3ajXh3Qva4Zv",
        "outputId": "f0c9d04d-0606-4004-fcda-dcc56045d20e"
      },
      "execution_count": 372,
      "outputs": [
        {
          "output_type": "error",
          "ename": "PandaSQLException",
          "evalue": "ignored",
          "traceback": [
            "\u001b[0;31m---------------------------------------------------------------------------\u001b[0m",
            "\u001b[0;31mOperationalError\u001b[0m                          Traceback (most recent call last)",
            "\u001b[0;32m/usr/local/lib/python3.7/dist-packages/sqlalchemy/engine/base.py\u001b[0m in \u001b[0;36m_execute_context\u001b[0;34m(self, dialect, constructor, statement, parameters, execution_options, *args, **kw)\u001b[0m\n\u001b[1;32m   1900\u001b[0m                     self.dialect.do_execute(\n\u001b[0;32m-> 1901\u001b[0;31m                         \u001b[0mcursor\u001b[0m\u001b[0;34m,\u001b[0m \u001b[0mstatement\u001b[0m\u001b[0;34m,\u001b[0m \u001b[0mparameters\u001b[0m\u001b[0;34m,\u001b[0m \u001b[0mcontext\u001b[0m\u001b[0;34m\u001b[0m\u001b[0;34m\u001b[0m\u001b[0m\n\u001b[0m\u001b[1;32m   1902\u001b[0m                     )\n",
            "\u001b[0;32m/usr/local/lib/python3.7/dist-packages/sqlalchemy/engine/default.py\u001b[0m in \u001b[0;36mdo_execute\u001b[0;34m(self, cursor, statement, parameters, context)\u001b[0m\n\u001b[1;32m    735\u001b[0m     \u001b[0;32mdef\u001b[0m \u001b[0mdo_execute\u001b[0m\u001b[0;34m(\u001b[0m\u001b[0mself\u001b[0m\u001b[0;34m,\u001b[0m \u001b[0mcursor\u001b[0m\u001b[0;34m,\u001b[0m \u001b[0mstatement\u001b[0m\u001b[0;34m,\u001b[0m \u001b[0mparameters\u001b[0m\u001b[0;34m,\u001b[0m \u001b[0mcontext\u001b[0m\u001b[0;34m=\u001b[0m\u001b[0;32mNone\u001b[0m\u001b[0;34m)\u001b[0m\u001b[0;34m:\u001b[0m\u001b[0;34m\u001b[0m\u001b[0;34m\u001b[0m\u001b[0m\n\u001b[0;32m--> 736\u001b[0;31m         \u001b[0mcursor\u001b[0m\u001b[0;34m.\u001b[0m\u001b[0mexecute\u001b[0m\u001b[0;34m(\u001b[0m\u001b[0mstatement\u001b[0m\u001b[0;34m,\u001b[0m \u001b[0mparameters\u001b[0m\u001b[0;34m)\u001b[0m\u001b[0;34m\u001b[0m\u001b[0;34m\u001b[0m\u001b[0m\n\u001b[0m\u001b[1;32m    737\u001b[0m \u001b[0;34m\u001b[0m\u001b[0m\n",
            "\u001b[0;31mOperationalError\u001b[0m: no such column: espectro_partidos",
            "\nThe above exception was the direct cause of the following exception:\n",
            "\u001b[0;31mOperationalError\u001b[0m                          Traceback (most recent call last)",
            "\u001b[0;32m/usr/local/lib/python3.7/dist-packages/pandasql/sqldf.py\u001b[0m in \u001b[0;36m__call__\u001b[0;34m(self, query, env)\u001b[0m\n\u001b[1;32m     60\u001b[0m             \u001b[0;32mtry\u001b[0m\u001b[0;34m:\u001b[0m\u001b[0;34m\u001b[0m\u001b[0;34m\u001b[0m\u001b[0m\n\u001b[0;32m---> 61\u001b[0;31m                 \u001b[0mresult\u001b[0m \u001b[0;34m=\u001b[0m \u001b[0mread_sql\u001b[0m\u001b[0;34m(\u001b[0m\u001b[0mquery\u001b[0m\u001b[0;34m,\u001b[0m \u001b[0mconn\u001b[0m\u001b[0;34m)\u001b[0m\u001b[0;34m\u001b[0m\u001b[0;34m\u001b[0m\u001b[0m\n\u001b[0m\u001b[1;32m     62\u001b[0m             \u001b[0;32mexcept\u001b[0m \u001b[0mDatabaseError\u001b[0m \u001b[0;32mas\u001b[0m \u001b[0mex\u001b[0m\u001b[0;34m:\u001b[0m\u001b[0;34m\u001b[0m\u001b[0;34m\u001b[0m\u001b[0m\n",
            "\u001b[0;32m/usr/local/lib/python3.7/dist-packages/pandas/io/sql.py\u001b[0m in \u001b[0;36mread_sql\u001b[0;34m(sql, con, index_col, coerce_float, params, parse_dates, columns, chunksize)\u001b[0m\n\u001b[1;32m    633\u001b[0m             \u001b[0mparse_dates\u001b[0m\u001b[0;34m=\u001b[0m\u001b[0mparse_dates\u001b[0m\u001b[0;34m,\u001b[0m\u001b[0;34m\u001b[0m\u001b[0;34m\u001b[0m\u001b[0m\n\u001b[0;32m--> 634\u001b[0;31m             \u001b[0mchunksize\u001b[0m\u001b[0;34m=\u001b[0m\u001b[0mchunksize\u001b[0m\u001b[0;34m,\u001b[0m\u001b[0;34m\u001b[0m\u001b[0;34m\u001b[0m\u001b[0m\n\u001b[0m\u001b[1;32m    635\u001b[0m         )\n",
            "\u001b[0;32m/usr/local/lib/python3.7/dist-packages/pandas/io/sql.py\u001b[0m in \u001b[0;36mread_query\u001b[0;34m(self, sql, index_col, coerce_float, parse_dates, params, chunksize, dtype)\u001b[0m\n\u001b[1;32m   1578\u001b[0m \u001b[0;34m\u001b[0m\u001b[0m\n\u001b[0;32m-> 1579\u001b[0;31m         \u001b[0mresult\u001b[0m \u001b[0;34m=\u001b[0m \u001b[0mself\u001b[0m\u001b[0;34m.\u001b[0m\u001b[0mexecute\u001b[0m\u001b[0;34m(\u001b[0m\u001b[0;34m*\u001b[0m\u001b[0margs\u001b[0m\u001b[0;34m)\u001b[0m\u001b[0;34m\u001b[0m\u001b[0;34m\u001b[0m\u001b[0m\n\u001b[0m\u001b[1;32m   1580\u001b[0m         \u001b[0mcolumns\u001b[0m \u001b[0;34m=\u001b[0m \u001b[0mresult\u001b[0m\u001b[0;34m.\u001b[0m\u001b[0mkeys\u001b[0m\u001b[0;34m(\u001b[0m\u001b[0;34m)\u001b[0m\u001b[0;34m\u001b[0m\u001b[0;34m\u001b[0m\u001b[0m\n",
            "\u001b[0;32m/usr/local/lib/python3.7/dist-packages/pandas/io/sql.py\u001b[0m in \u001b[0;36mexecute\u001b[0;34m(self, *args, **kwargs)\u001b[0m\n\u001b[1;32m   1423\u001b[0m         \u001b[0;34m\"\"\"Simple passthrough to SQLAlchemy connectable\"\"\"\u001b[0m\u001b[0;34m\u001b[0m\u001b[0;34m\u001b[0m\u001b[0m\n\u001b[0;32m-> 1424\u001b[0;31m         \u001b[0;32mreturn\u001b[0m \u001b[0mself\u001b[0m\u001b[0;34m.\u001b[0m\u001b[0mconnectable\u001b[0m\u001b[0;34m.\u001b[0m\u001b[0mexecution_options\u001b[0m\u001b[0;34m(\u001b[0m\u001b[0;34m)\u001b[0m\u001b[0;34m.\u001b[0m\u001b[0mexecute\u001b[0m\u001b[0;34m(\u001b[0m\u001b[0;34m*\u001b[0m\u001b[0margs\u001b[0m\u001b[0;34m,\u001b[0m \u001b[0;34m**\u001b[0m\u001b[0mkwargs\u001b[0m\u001b[0;34m)\u001b[0m\u001b[0;34m\u001b[0m\u001b[0;34m\u001b[0m\u001b[0m\n\u001b[0m\u001b[1;32m   1425\u001b[0m \u001b[0;34m\u001b[0m\u001b[0m\n",
            "\u001b[0;32m/usr/local/lib/python3.7/dist-packages/sqlalchemy/engine/base.py\u001b[0m in \u001b[0;36mexecute\u001b[0;34m(self, statement, *multiparams, **params)\u001b[0m\n\u001b[1;32m   1369\u001b[0m                 \u001b[0m_EMPTY_EXECUTION_OPTS\u001b[0m\u001b[0;34m,\u001b[0m\u001b[0;34m\u001b[0m\u001b[0;34m\u001b[0m\u001b[0m\n\u001b[0;32m-> 1370\u001b[0;31m                 \u001b[0mfuture\u001b[0m\u001b[0;34m=\u001b[0m\u001b[0;32mFalse\u001b[0m\u001b[0;34m,\u001b[0m\u001b[0;34m\u001b[0m\u001b[0;34m\u001b[0m\u001b[0m\n\u001b[0m\u001b[1;32m   1371\u001b[0m             )\n",
            "\u001b[0;32m/usr/local/lib/python3.7/dist-packages/sqlalchemy/engine/base.py\u001b[0m in \u001b[0;36m_exec_driver_sql\u001b[0;34m(self, statement, multiparams, params, execution_options, future)\u001b[0m\n\u001b[1;32m   1675\u001b[0m             \u001b[0mstatement\u001b[0m\u001b[0;34m,\u001b[0m\u001b[0;34m\u001b[0m\u001b[0;34m\u001b[0m\u001b[0m\n\u001b[0;32m-> 1676\u001b[0;31m             \u001b[0mdistilled_parameters\u001b[0m\u001b[0;34m,\u001b[0m\u001b[0;34m\u001b[0m\u001b[0;34m\u001b[0m\u001b[0m\n\u001b[0m\u001b[1;32m   1677\u001b[0m         )\n",
            "\u001b[0;32m/usr/local/lib/python3.7/dist-packages/sqlalchemy/engine/base.py\u001b[0m in \u001b[0;36m_execute_context\u001b[0;34m(self, dialect, constructor, statement, parameters, execution_options, *args, **kw)\u001b[0m\n\u001b[1;32m   1943\u001b[0m             self._handle_dbapi_exception(\n\u001b[0;32m-> 1944\u001b[0;31m                 \u001b[0me\u001b[0m\u001b[0;34m,\u001b[0m \u001b[0mstatement\u001b[0m\u001b[0;34m,\u001b[0m \u001b[0mparameters\u001b[0m\u001b[0;34m,\u001b[0m \u001b[0mcursor\u001b[0m\u001b[0;34m,\u001b[0m \u001b[0mcontext\u001b[0m\u001b[0;34m\u001b[0m\u001b[0;34m\u001b[0m\u001b[0m\n\u001b[0m\u001b[1;32m   1945\u001b[0m             )\n",
            "\u001b[0;32m/usr/local/lib/python3.7/dist-packages/sqlalchemy/engine/base.py\u001b[0m in \u001b[0;36m_handle_dbapi_exception\u001b[0;34m(self, e, statement, parameters, cursor, context)\u001b[0m\n\u001b[1;32m   2124\u001b[0m                 util.raise_(\n\u001b[0;32m-> 2125\u001b[0;31m                     \u001b[0msqlalchemy_exception\u001b[0m\u001b[0;34m,\u001b[0m \u001b[0mwith_traceback\u001b[0m\u001b[0;34m=\u001b[0m\u001b[0mexc_info\u001b[0m\u001b[0;34m[\u001b[0m\u001b[0;36m2\u001b[0m\u001b[0;34m]\u001b[0m\u001b[0;34m,\u001b[0m \u001b[0mfrom_\u001b[0m\u001b[0;34m=\u001b[0m\u001b[0me\u001b[0m\u001b[0;34m\u001b[0m\u001b[0;34m\u001b[0m\u001b[0m\n\u001b[0m\u001b[1;32m   2126\u001b[0m                 )\n",
            "\u001b[0;32m/usr/local/lib/python3.7/dist-packages/sqlalchemy/util/compat.py\u001b[0m in \u001b[0;36mraise_\u001b[0;34m(***failed resolving arguments***)\u001b[0m\n\u001b[1;32m    207\u001b[0m         \u001b[0;32mtry\u001b[0m\u001b[0;34m:\u001b[0m\u001b[0;34m\u001b[0m\u001b[0;34m\u001b[0m\u001b[0m\n\u001b[0;32m--> 208\u001b[0;31m             \u001b[0;32mraise\u001b[0m \u001b[0mexception\u001b[0m\u001b[0;34m\u001b[0m\u001b[0;34m\u001b[0m\u001b[0m\n\u001b[0m\u001b[1;32m    209\u001b[0m         \u001b[0;32mfinally\u001b[0m\u001b[0;34m:\u001b[0m\u001b[0;34m\u001b[0m\u001b[0;34m\u001b[0m\u001b[0m\n",
            "\u001b[0;32m/usr/local/lib/python3.7/dist-packages/sqlalchemy/engine/base.py\u001b[0m in \u001b[0;36m_execute_context\u001b[0;34m(self, dialect, constructor, statement, parameters, execution_options, *args, **kw)\u001b[0m\n\u001b[1;32m   1900\u001b[0m                     self.dialect.do_execute(\n\u001b[0;32m-> 1901\u001b[0;31m                         \u001b[0mcursor\u001b[0m\u001b[0;34m,\u001b[0m \u001b[0mstatement\u001b[0m\u001b[0;34m,\u001b[0m \u001b[0mparameters\u001b[0m\u001b[0;34m,\u001b[0m \u001b[0mcontext\u001b[0m\u001b[0;34m\u001b[0m\u001b[0;34m\u001b[0m\u001b[0m\n\u001b[0m\u001b[1;32m   1902\u001b[0m                     )\n",
            "\u001b[0;32m/usr/local/lib/python3.7/dist-packages/sqlalchemy/engine/default.py\u001b[0m in \u001b[0;36mdo_execute\u001b[0;34m(self, cursor, statement, parameters, context)\u001b[0m\n\u001b[1;32m    735\u001b[0m     \u001b[0;32mdef\u001b[0m \u001b[0mdo_execute\u001b[0m\u001b[0;34m(\u001b[0m\u001b[0mself\u001b[0m\u001b[0;34m,\u001b[0m \u001b[0mcursor\u001b[0m\u001b[0;34m,\u001b[0m \u001b[0mstatement\u001b[0m\u001b[0;34m,\u001b[0m \u001b[0mparameters\u001b[0m\u001b[0;34m,\u001b[0m \u001b[0mcontext\u001b[0m\u001b[0;34m=\u001b[0m\u001b[0;32mNone\u001b[0m\u001b[0;34m)\u001b[0m\u001b[0;34m:\u001b[0m\u001b[0;34m\u001b[0m\u001b[0;34m\u001b[0m\u001b[0m\n\u001b[0;32m--> 736\u001b[0;31m         \u001b[0mcursor\u001b[0m\u001b[0;34m.\u001b[0m\u001b[0mexecute\u001b[0m\u001b[0;34m(\u001b[0m\u001b[0mstatement\u001b[0m\u001b[0;34m,\u001b[0m \u001b[0mparameters\u001b[0m\u001b[0;34m)\u001b[0m\u001b[0;34m\u001b[0m\u001b[0;34m\u001b[0m\u001b[0m\n\u001b[0m\u001b[1;32m    737\u001b[0m \u001b[0;34m\u001b[0m\u001b[0m\n",
            "\u001b[0;31mOperationalError\u001b[0m: (sqlite3.OperationalError) no such column: espectro_partidos\n[SQL: select ds_genero, espectro_partidos, count(espectro_partidos) \n           from espectro_masculino\n           group by espectro_partidos\n           ]\n(Background on this error at: https://sqlalche.me/e/14/e3q8)",
            "\nDuring handling of the above exception, another exception occurred:\n",
            "\u001b[0;31mPandaSQLException\u001b[0m                         Traceback (most recent call last)",
            "\u001b[0;32m<ipython-input-372-fdadc87681c0>\u001b[0m in \u001b[0;36m<module>\u001b[0;34m\u001b[0m\n\u001b[1;32m      4\u001b[0m            \u001b[0mGROUP\u001b[0m \u001b[0mBY\u001b[0m \u001b[0mESPECTRO_PARTIDOS\u001b[0m\u001b[0;34m\u001b[0m\u001b[0;34m\u001b[0m\u001b[0m\n\u001b[1;32m      5\u001b[0m            \"\"\"\n\u001b[0;32m----> 6\u001b[0;31m \u001b[0mps\u001b[0m\u001b[0;34m.\u001b[0m\u001b[0msqldf\u001b[0m\u001b[0;34m(\u001b[0m\u001b[0mquery\u001b[0m\u001b[0;34m.\u001b[0m\u001b[0mlower\u001b[0m\u001b[0;34m(\u001b[0m\u001b[0;34m)\u001b[0m\u001b[0;34m,\u001b[0m \u001b[0mlocals\u001b[0m\u001b[0;34m(\u001b[0m\u001b[0;34m)\u001b[0m\u001b[0;34m)\u001b[0m\u001b[0;34m\u001b[0m\u001b[0;34m\u001b[0m\u001b[0m\n\u001b[0m",
            "\u001b[0;32m/usr/local/lib/python3.7/dist-packages/pandasql/sqldf.py\u001b[0m in \u001b[0;36msqldf\u001b[0;34m(query, env, db_uri)\u001b[0m\n\u001b[1;32m    154\u001b[0m     \u001b[0;34m>>\u001b[0m\u001b[0;34m>\u001b[0m \u001b[0msqldf\u001b[0m\u001b[0;34m(\u001b[0m\u001b[0;34m\"select avg(x) from df;\"\u001b[0m\u001b[0;34m,\u001b[0m \u001b[0mlocals\u001b[0m\u001b[0;34m(\u001b[0m\u001b[0;34m)\u001b[0m\u001b[0;34m)\u001b[0m\u001b[0;34m\u001b[0m\u001b[0;34m\u001b[0m\u001b[0m\n\u001b[1;32m    155\u001b[0m     \"\"\"\n\u001b[0;32m--> 156\u001b[0;31m     \u001b[0;32mreturn\u001b[0m \u001b[0mPandaSQL\u001b[0m\u001b[0;34m(\u001b[0m\u001b[0mdb_uri\u001b[0m\u001b[0;34m)\u001b[0m\u001b[0;34m(\u001b[0m\u001b[0mquery\u001b[0m\u001b[0;34m,\u001b[0m \u001b[0menv\u001b[0m\u001b[0;34m)\u001b[0m\u001b[0;34m\u001b[0m\u001b[0;34m\u001b[0m\u001b[0m\n\u001b[0m",
            "\u001b[0;32m/usr/local/lib/python3.7/dist-packages/pandasql/sqldf.py\u001b[0m in \u001b[0;36m__call__\u001b[0;34m(self, query, env)\u001b[0m\n\u001b[1;32m     61\u001b[0m                 \u001b[0mresult\u001b[0m \u001b[0;34m=\u001b[0m \u001b[0mread_sql\u001b[0m\u001b[0;34m(\u001b[0m\u001b[0mquery\u001b[0m\u001b[0;34m,\u001b[0m \u001b[0mconn\u001b[0m\u001b[0;34m)\u001b[0m\u001b[0;34m\u001b[0m\u001b[0;34m\u001b[0m\u001b[0m\n\u001b[1;32m     62\u001b[0m             \u001b[0;32mexcept\u001b[0m \u001b[0mDatabaseError\u001b[0m \u001b[0;32mas\u001b[0m \u001b[0mex\u001b[0m\u001b[0;34m:\u001b[0m\u001b[0;34m\u001b[0m\u001b[0;34m\u001b[0m\u001b[0m\n\u001b[0;32m---> 63\u001b[0;31m                 \u001b[0;32mraise\u001b[0m \u001b[0mPandaSQLException\u001b[0m\u001b[0;34m(\u001b[0m\u001b[0mex\u001b[0m\u001b[0;34m)\u001b[0m\u001b[0;34m\u001b[0m\u001b[0;34m\u001b[0m\u001b[0m\n\u001b[0m\u001b[1;32m     64\u001b[0m             \u001b[0;32mexcept\u001b[0m \u001b[0mResourceClosedError\u001b[0m\u001b[0;34m:\u001b[0m\u001b[0;34m\u001b[0m\u001b[0;34m\u001b[0m\u001b[0m\n\u001b[1;32m     65\u001b[0m                 \u001b[0;31m# query returns nothing\u001b[0m\u001b[0;34m\u001b[0m\u001b[0;34m\u001b[0m\u001b[0;34m\u001b[0m\u001b[0m\n",
            "\u001b[0;31mPandaSQLException\u001b[0m: (sqlite3.OperationalError) no such column: espectro_partidos\n[SQL: select ds_genero, espectro_partidos, count(espectro_partidos) \n           from espectro_masculino\n           group by espectro_partidos\n           ]\n(Background on this error at: https://sqlalche.me/e/14/e3q8)"
          ]
        }
      ]
    },
    {
      "cell_type": "markdown",
      "source": [
        "**Quantas vezes mulheres x homens concorrerão a releicao**"
      ],
      "metadata": {
        "id": "5MtBZ_xQbwra"
      }
    },
    {
      "cell_type": "code",
      "source": [
        "releito_feminino = candidatos_goias[candidatos_goias['DS_GENERO'] == \"FEMININO\"]\n",
        "releito_masculino = candidatos_goias[candidatos_goias['DS_GENERO'] == \"MASCULINO\"]"
      ],
      "metadata": {
        "id": "MzCjI7V2cojz"
      },
      "execution_count": 385,
      "outputs": []
    },
    {
      "cell_type": "code",
      "source": [
        "#Utilizando sql para contabilizar quantas vezes mulheres x homens concorrerão a releição\n",
        "query = \"\"\"SELECT DS_GENERO, ST_REELEICAO, COUNT(ST_REELEICAO) \n",
        "           FROM releito_feminino\n",
        "           GROUP BY ST_REELEICAO, DS_GENERO\n",
        "           \"\"\"\n",
        "ps.sqldf(query.lower(), locals())"
      ],
      "metadata": {
        "colab": {
          "base_uri": "https://localhost:8080/",
          "height": 112
        },
        "id": "01I8sGhYbqxv",
        "outputId": "0bedd110-479a-47dd-c369-5deaf479d428"
      },
      "execution_count": 386,
      "outputs": [
        {
          "output_type": "execute_result",
          "data": {
            "text/plain": [
              "  DS_GENERO ST_REELEICAO  count(st_reeleicao)\n",
              "0  FEMININO            N                22581\n",
              "1  FEMININO            S                  420"
            ],
            "text/html": [
              "\n",
              "  <div id=\"df-a78191b1-9c40-4dd5-8692-19e66c766572\">\n",
              "    <div class=\"colab-df-container\">\n",
              "      <div>\n",
              "<style scoped>\n",
              "    .dataframe tbody tr th:only-of-type {\n",
              "        vertical-align: middle;\n",
              "    }\n",
              "\n",
              "    .dataframe tbody tr th {\n",
              "        vertical-align: top;\n",
              "    }\n",
              "\n",
              "    .dataframe thead th {\n",
              "        text-align: right;\n",
              "    }\n",
              "</style>\n",
              "<table border=\"1\" class=\"dataframe\">\n",
              "  <thead>\n",
              "    <tr style=\"text-align: right;\">\n",
              "      <th></th>\n",
              "      <th>DS_GENERO</th>\n",
              "      <th>ST_REELEICAO</th>\n",
              "      <th>count(st_reeleicao)</th>\n",
              "    </tr>\n",
              "  </thead>\n",
              "  <tbody>\n",
              "    <tr>\n",
              "      <th>0</th>\n",
              "      <td>FEMININO</td>\n",
              "      <td>N</td>\n",
              "      <td>22581</td>\n",
              "    </tr>\n",
              "    <tr>\n",
              "      <th>1</th>\n",
              "      <td>FEMININO</td>\n",
              "      <td>S</td>\n",
              "      <td>420</td>\n",
              "    </tr>\n",
              "  </tbody>\n",
              "</table>\n",
              "</div>\n",
              "      <button class=\"colab-df-convert\" onclick=\"convertToInteractive('df-a78191b1-9c40-4dd5-8692-19e66c766572')\"\n",
              "              title=\"Convert this dataframe to an interactive table.\"\n",
              "              style=\"display:none;\">\n",
              "        \n",
              "  <svg xmlns=\"http://www.w3.org/2000/svg\" height=\"24px\"viewBox=\"0 0 24 24\"\n",
              "       width=\"24px\">\n",
              "    <path d=\"M0 0h24v24H0V0z\" fill=\"none\"/>\n",
              "    <path d=\"M18.56 5.44l.94 2.06.94-2.06 2.06-.94-2.06-.94-.94-2.06-.94 2.06-2.06.94zm-11 1L8.5 8.5l.94-2.06 2.06-.94-2.06-.94L8.5 2.5l-.94 2.06-2.06.94zm10 10l.94 2.06.94-2.06 2.06-.94-2.06-.94-.94-2.06-.94 2.06-2.06.94z\"/><path d=\"M17.41 7.96l-1.37-1.37c-.4-.4-.92-.59-1.43-.59-.52 0-1.04.2-1.43.59L10.3 9.45l-7.72 7.72c-.78.78-.78 2.05 0 2.83L4 21.41c.39.39.9.59 1.41.59.51 0 1.02-.2 1.41-.59l7.78-7.78 2.81-2.81c.8-.78.8-2.07 0-2.86zM5.41 20L4 18.59l7.72-7.72 1.47 1.35L5.41 20z\"/>\n",
              "  </svg>\n",
              "      </button>\n",
              "      \n",
              "  <style>\n",
              "    .colab-df-container {\n",
              "      display:flex;\n",
              "      flex-wrap:wrap;\n",
              "      gap: 12px;\n",
              "    }\n",
              "\n",
              "    .colab-df-convert {\n",
              "      background-color: #E8F0FE;\n",
              "      border: none;\n",
              "      border-radius: 50%;\n",
              "      cursor: pointer;\n",
              "      display: none;\n",
              "      fill: #1967D2;\n",
              "      height: 32px;\n",
              "      padding: 0 0 0 0;\n",
              "      width: 32px;\n",
              "    }\n",
              "\n",
              "    .colab-df-convert:hover {\n",
              "      background-color: #E2EBFA;\n",
              "      box-shadow: 0px 1px 2px rgba(60, 64, 67, 0.3), 0px 1px 3px 1px rgba(60, 64, 67, 0.15);\n",
              "      fill: #174EA6;\n",
              "    }\n",
              "\n",
              "    [theme=dark] .colab-df-convert {\n",
              "      background-color: #3B4455;\n",
              "      fill: #D2E3FC;\n",
              "    }\n",
              "\n",
              "    [theme=dark] .colab-df-convert:hover {\n",
              "      background-color: #434B5C;\n",
              "      box-shadow: 0px 1px 3px 1px rgba(0, 0, 0, 0.15);\n",
              "      filter: drop-shadow(0px 1px 2px rgba(0, 0, 0, 0.3));\n",
              "      fill: #FFFFFF;\n",
              "    }\n",
              "  </style>\n",
              "\n",
              "      <script>\n",
              "        const buttonEl =\n",
              "          document.querySelector('#df-a78191b1-9c40-4dd5-8692-19e66c766572 button.colab-df-convert');\n",
              "        buttonEl.style.display =\n",
              "          google.colab.kernel.accessAllowed ? 'block' : 'none';\n",
              "\n",
              "        async function convertToInteractive(key) {\n",
              "          const element = document.querySelector('#df-a78191b1-9c40-4dd5-8692-19e66c766572');\n",
              "          const dataTable =\n",
              "            await google.colab.kernel.invokeFunction('convertToInteractive',\n",
              "                                                     [key], {});\n",
              "          if (!dataTable) return;\n",
              "\n",
              "          const docLinkHtml = 'Like what you see? Visit the ' +\n",
              "            '<a target=\"_blank\" href=https://colab.research.google.com/notebooks/data_table.ipynb>data table notebook</a>'\n",
              "            + ' to learn more about interactive tables.';\n",
              "          element.innerHTML = '';\n",
              "          dataTable['output_type'] = 'display_data';\n",
              "          await google.colab.output.renderOutput(dataTable, element);\n",
              "          const docLink = document.createElement('div');\n",
              "          docLink.innerHTML = docLinkHtml;\n",
              "          element.appendChild(docLink);\n",
              "        }\n",
              "      </script>\n",
              "    </div>\n",
              "  </div>\n",
              "  "
            ]
          },
          "metadata": {},
          "execution_count": 386
        }
      ]
    },
    {
      "cell_type": "code",
      "source": [
        "#Utilizando sql para contabilizar quantas vezes foi releito por genero\n",
        "query = \"\"\"SELECT DS_GENERO, ST_REELEICAO, COUNT(ST_REELEICAO) \n",
        "           FROM releito_masculino\n",
        "           GROUP BY ST_REELEICAO, DS_GENERO\n",
        "           \"\"\"\n",
        "ps.sqldf(query.lower(), locals())"
      ],
      "metadata": {
        "colab": {
          "base_uri": "https://localhost:8080/",
          "height": 112
        },
        "id": "DuZLfxQXc9hk",
        "outputId": "a5587f10-f125-42c7-f072-5be73ca5d471"
      },
      "execution_count": 387,
      "outputs": [
        {
          "output_type": "execute_result",
          "data": {
            "text/plain": [
              "   DS_GENERO ST_REELEICAO  count(st_reeleicao)\n",
              "0  MASCULINO            N                44822\n",
              "1  MASCULINO            S                 3306"
            ],
            "text/html": [
              "\n",
              "  <div id=\"df-954eea6a-4082-48a3-9aa2-ddd31a7f1811\">\n",
              "    <div class=\"colab-df-container\">\n",
              "      <div>\n",
              "<style scoped>\n",
              "    .dataframe tbody tr th:only-of-type {\n",
              "        vertical-align: middle;\n",
              "    }\n",
              "\n",
              "    .dataframe tbody tr th {\n",
              "        vertical-align: top;\n",
              "    }\n",
              "\n",
              "    .dataframe thead th {\n",
              "        text-align: right;\n",
              "    }\n",
              "</style>\n",
              "<table border=\"1\" class=\"dataframe\">\n",
              "  <thead>\n",
              "    <tr style=\"text-align: right;\">\n",
              "      <th></th>\n",
              "      <th>DS_GENERO</th>\n",
              "      <th>ST_REELEICAO</th>\n",
              "      <th>count(st_reeleicao)</th>\n",
              "    </tr>\n",
              "  </thead>\n",
              "  <tbody>\n",
              "    <tr>\n",
              "      <th>0</th>\n",
              "      <td>MASCULINO</td>\n",
              "      <td>N</td>\n",
              "      <td>44822</td>\n",
              "    </tr>\n",
              "    <tr>\n",
              "      <th>1</th>\n",
              "      <td>MASCULINO</td>\n",
              "      <td>S</td>\n",
              "      <td>3306</td>\n",
              "    </tr>\n",
              "  </tbody>\n",
              "</table>\n",
              "</div>\n",
              "      <button class=\"colab-df-convert\" onclick=\"convertToInteractive('df-954eea6a-4082-48a3-9aa2-ddd31a7f1811')\"\n",
              "              title=\"Convert this dataframe to an interactive table.\"\n",
              "              style=\"display:none;\">\n",
              "        \n",
              "  <svg xmlns=\"http://www.w3.org/2000/svg\" height=\"24px\"viewBox=\"0 0 24 24\"\n",
              "       width=\"24px\">\n",
              "    <path d=\"M0 0h24v24H0V0z\" fill=\"none\"/>\n",
              "    <path d=\"M18.56 5.44l.94 2.06.94-2.06 2.06-.94-2.06-.94-.94-2.06-.94 2.06-2.06.94zm-11 1L8.5 8.5l.94-2.06 2.06-.94-2.06-.94L8.5 2.5l-.94 2.06-2.06.94zm10 10l.94 2.06.94-2.06 2.06-.94-2.06-.94-.94-2.06-.94 2.06-2.06.94z\"/><path d=\"M17.41 7.96l-1.37-1.37c-.4-.4-.92-.59-1.43-.59-.52 0-1.04.2-1.43.59L10.3 9.45l-7.72 7.72c-.78.78-.78 2.05 0 2.83L4 21.41c.39.39.9.59 1.41.59.51 0 1.02-.2 1.41-.59l7.78-7.78 2.81-2.81c.8-.78.8-2.07 0-2.86zM5.41 20L4 18.59l7.72-7.72 1.47 1.35L5.41 20z\"/>\n",
              "  </svg>\n",
              "      </button>\n",
              "      \n",
              "  <style>\n",
              "    .colab-df-container {\n",
              "      display:flex;\n",
              "      flex-wrap:wrap;\n",
              "      gap: 12px;\n",
              "    }\n",
              "\n",
              "    .colab-df-convert {\n",
              "      background-color: #E8F0FE;\n",
              "      border: none;\n",
              "      border-radius: 50%;\n",
              "      cursor: pointer;\n",
              "      display: none;\n",
              "      fill: #1967D2;\n",
              "      height: 32px;\n",
              "      padding: 0 0 0 0;\n",
              "      width: 32px;\n",
              "    }\n",
              "\n",
              "    .colab-df-convert:hover {\n",
              "      background-color: #E2EBFA;\n",
              "      box-shadow: 0px 1px 2px rgba(60, 64, 67, 0.3), 0px 1px 3px 1px rgba(60, 64, 67, 0.15);\n",
              "      fill: #174EA6;\n",
              "    }\n",
              "\n",
              "    [theme=dark] .colab-df-convert {\n",
              "      background-color: #3B4455;\n",
              "      fill: #D2E3FC;\n",
              "    }\n",
              "\n",
              "    [theme=dark] .colab-df-convert:hover {\n",
              "      background-color: #434B5C;\n",
              "      box-shadow: 0px 1px 3px 1px rgba(0, 0, 0, 0.15);\n",
              "      filter: drop-shadow(0px 1px 2px rgba(0, 0, 0, 0.3));\n",
              "      fill: #FFFFFF;\n",
              "    }\n",
              "  </style>\n",
              "\n",
              "      <script>\n",
              "        const buttonEl =\n",
              "          document.querySelector('#df-954eea6a-4082-48a3-9aa2-ddd31a7f1811 button.colab-df-convert');\n",
              "        buttonEl.style.display =\n",
              "          google.colab.kernel.accessAllowed ? 'block' : 'none';\n",
              "\n",
              "        async function convertToInteractive(key) {\n",
              "          const element = document.querySelector('#df-954eea6a-4082-48a3-9aa2-ddd31a7f1811');\n",
              "          const dataTable =\n",
              "            await google.colab.kernel.invokeFunction('convertToInteractive',\n",
              "                                                     [key], {});\n",
              "          if (!dataTable) return;\n",
              "\n",
              "          const docLinkHtml = 'Like what you see? Visit the ' +\n",
              "            '<a target=\"_blank\" href=https://colab.research.google.com/notebooks/data_table.ipynb>data table notebook</a>'\n",
              "            + ' to learn more about interactive tables.';\n",
              "          element.innerHTML = '';\n",
              "          dataTable['output_type'] = 'display_data';\n",
              "          await google.colab.output.renderOutput(dataTable, element);\n",
              "          const docLink = document.createElement('div');\n",
              "          docLink.innerHTML = docLinkHtml;\n",
              "          element.appendChild(docLink);\n",
              "        }\n",
              "      </script>\n",
              "    </div>\n",
              "  </div>\n",
              "  "
            ]
          },
          "metadata": {},
          "execution_count": 387
        }
      ]
    },
    {
      "cell_type": "markdown",
      "source": [
        "**Porcentagem de releito muheres x homens**"
      ],
      "metadata": {
        "id": "TYvgajLddjRu"
      }
    },
    {
      "cell_type": "code",
      "source": [
        "candidatos_goias[candidatos_goias['DS_SIT_TOT_TURNO'] == \"ELEITO\"].count()"
      ],
      "metadata": {
        "colab": {
          "base_uri": "https://localhost:8080/"
        },
        "id": "1rvtIlMScgnn",
        "outputId": "9ab4a3a3-9df0-4426-e633-7006cfbfcd74"
      },
      "execution_count": 388,
      "outputs": [
        {
          "output_type": "execute_result",
          "data": {
            "text/plain": [
              "ANO_ELEICAO                   9196\n",
              "CD_TIPO_ELEICAO               9196\n",
              "NR_TURNO                      9196\n",
              "CD_ELEICAO                    9196\n",
              "DS_ELEICAO                    9196\n",
              "TP_ABRANGENCIA                9196\n",
              "SG_UF                         9196\n",
              "SG_UE                         9196\n",
              "NM_UE                         9196\n",
              "NM_CANDIDATO                  9196\n",
              "NM_URNA_CANDIDATO             9196\n",
              "CD_SITUACAO_CANDIDATURA       9196\n",
              "DS_SITUACAO_CANDIDATURA       9196\n",
              "SG_PARTIDO                    9196\n",
              "NM_PARTIDO                    9196\n",
              "DS_NACIONALIDADE              9196\n",
              "DT_NASCIMENTO                 9196\n",
              "NR_IDADE_DATA_POSSE           9196\n",
              "DS_GENERO                     9196\n",
              "DS_GRAU_INSTRUCAO             9196\n",
              "DS_ESTADO_CIVIL               9196\n",
              "DS_COR_RACA                   9196\n",
              "VR_DESPESA_MAX_CAMPANHA       9196\n",
              "DS_SIT_TOT_TURNO              9196\n",
              "ST_REELEICAO                  9196\n",
              "DS_SITUACAO_CANDIDATO_URNA    9196\n",
              "ST_CANDIDATO_INSERIDO_URNA    9196\n",
              "dtype: int64"
            ]
          },
          "metadata": {},
          "execution_count": 388
        }
      ]
    },
    {
      "cell_type": "markdown",
      "source": [
        "`Porcentagem de mulheres releitas`"
      ],
      "metadata": {
        "id": "rdczJEY_eFBo"
      }
    },
    {
      "cell_type": "code",
      "source": [
        "#Porcentagem \n",
        "porc_releita = (48/6458) * 100\n",
        "print('A porcentagem de mulheres releitas é: {:.2f}'.format(porc_releita))"
      ],
      "metadata": {
        "colab": {
          "base_uri": "https://localhost:8080/"
        },
        "id": "_acoVw3udtjA",
        "outputId": "66fe8fd6-0162-4f93-a54f-6d9cd30dd303"
      },
      "execution_count": 389,
      "outputs": [
        {
          "output_type": "stream",
          "name": "stdout",
          "text": [
            "A porcentagem de mulheres releitas é: 0.74\n"
          ]
        }
      ]
    },
    {
      "cell_type": "markdown",
      "source": [
        "`Porcentagem de homens reeleitos`"
      ],
      "metadata": {
        "id": "YElIFRLSgagb"
      }
    },
    {
      "cell_type": "code",
      "source": [
        "#Porcentagem \n",
        "porc_releita = (368/6458) * 100\n",
        "print('A porcentagem de homens releitas é: {:.2f}'.format(porc_releita))"
      ],
      "metadata": {
        "colab": {
          "base_uri": "https://localhost:8080/"
        },
        "id": "R9GObusxgYHq",
        "outputId": "c2d3a8b3-4df3-46aa-b3d1-8f30d749dfb5"
      },
      "execution_count": 390,
      "outputs": [
        {
          "output_type": "stream",
          "name": "stdout",
          "text": [
            "A porcentagem de homens releitas é: 5.70\n"
          ]
        }
      ]
    },
    {
      "cell_type": "markdown",
      "source": [
        "# Analisando dados de candidatos e eleitos/releitos por raça"
      ],
      "metadata": {
        "id": "R_TrO9nUk6LB"
      }
    },
    {
      "cell_type": "markdown",
      "source": [
        "Já foram analisandos os dados sobre generos.</br>\n",
        "Agora será analisado os dados de  eleitos e releitos por raça.\n"
      ],
      "metadata": {
        "id": "M5MjUcR4lFqd"
      }
    },
    {
      "cell_type": "markdown",
      "source": [
        "`Quantidade de inscritos por raça`"
      ],
      "metadata": {
        "id": "kJF9WU15lWDu"
      }
    },
    {
      "cell_type": "code",
      "source": [
        "candidatos_goias[\"DS_COR_RACA\"].value_counts()"
      ],
      "metadata": {
        "colab": {
          "base_uri": "https://localhost:8080/"
        },
        "id": "hHTECzOJliyz",
        "outputId": "a244a07b-4cef-40d4-ae4b-93bcf444c0ad"
      },
      "execution_count": 391,
      "outputs": [
        {
          "output_type": "execute_result",
          "data": {
            "text/plain": [
              "PARDA            24694\n",
              "#NE#             21388\n",
              "BRANCA           20088\n",
              "PRETA             4327\n",
              "AMARELA            412\n",
              "NÃO INFORMADO      177\n",
              "INDÍGENA            43\n",
              "Name: DS_COR_RACA, dtype: int64"
            ]
          },
          "metadata": {},
          "execution_count": 391
        }
      ]
    },
    {
      "cell_type": "markdown",
      "source": [
        "`Procentagem de inscritos por raça`"
      ],
      "metadata": {
        "id": "QcWsgdqklyEb"
      }
    },
    {
      "cell_type": "code",
      "source": [
        "candidatos_goias[\"DS_COR_RACA\"].value_counts()/candidatos_goias[\"ANO_ELEICAO\"].count()*100"
      ],
      "metadata": {
        "colab": {
          "base_uri": "https://localhost:8080/"
        },
        "id": "LjyASeQalrgs",
        "outputId": "97aa21e4-ef9f-47fa-9d07-463d74f1b1c6"
      },
      "execution_count": 392,
      "outputs": [
        {
          "output_type": "execute_result",
          "data": {
            "text/plain": [
              "PARDA            34.717204\n",
              "#NE#             30.069311\n",
              "BRANCA           28.241645\n",
              "PRETA             6.083313\n",
              "AMARELA           0.579229\n",
              "NÃO INFORMADO     0.248844\n",
              "INDÍGENA          0.060454\n",
              "Name: DS_COR_RACA, dtype: float64"
            ]
          },
          "metadata": {},
          "execution_count": 392
        }
      ]
    },
    {
      "cell_type": "markdown",
      "source": [
        "`Quantidade de inscritos por raça ano eleição`"
      ],
      "metadata": {
        "id": "YwEuInMsnMg-"
      }
    },
    {
      "cell_type": "code",
      "source": [
        "#Utilizando sql para contabilizar inscritos ano eleção por raça\n",
        "query = \"\"\"SELECT ANO_ELEICAO, DS_COR_RACA, COUNT(DS_COR_RACA) as total_inscritos\n",
        "           FROM candidatos_goias\n",
        "           GROUP BY DS_COR_RACA, ANO_ELEICAO\n",
        "           ORDER BY ANO_ELEICAO,DS_COR_RACA,COUNT(ANO_ELEICAO) DESC\"\"\"\n",
        "ps.sqldf(query.lower(), locals())"
      ],
      "metadata": {
        "colab": {
          "base_uri": "https://localhost:8080/",
          "height": 927
        },
        "id": "pLwVTfo-nY3S",
        "outputId": "ecfc85fd-d801-4e63-9aaf-48f94fd3114d"
      },
      "execution_count": 422,
      "outputs": [
        {
          "output_type": "execute_result",
          "data": {
            "text/plain": [
              "    ANO_ELEICAO    DS_COR_RACA  total_inscritos\n",
              "0          2010           #NE#              844\n",
              "1          2012           #NE#            20544\n",
              "2          2014        AMARELA                3\n",
              "3          2014         BRANCA              606\n",
              "4          2014       INDÍGENA                3\n",
              "5          2014          PARDA              393\n",
              "6          2014          PRETA               59\n",
              "7          2016        AMARELA              209\n",
              "8          2016         BRANCA             8773\n",
              "9          2016       INDÍGENA               16\n",
              "10         2016          PARDA            10677\n",
              "11         2016          PRETA             1632\n",
              "12         2018        AMARELA                6\n",
              "13         2018         BRANCA              620\n",
              "14         2018          PARDA              462\n",
              "15         2018          PRETA              105\n",
              "16         2020        AMARELA              186\n",
              "17         2020         BRANCA             9511\n",
              "18         2020       INDÍGENA               23\n",
              "19         2020  NÃO INFORMADO              176\n",
              "20         2020          PARDA            12651\n",
              "21         2020          PRETA             2394\n",
              "22         2022        AMARELA                8\n",
              "23         2022         BRANCA              578\n",
              "24         2022       INDÍGENA                1\n",
              "25         2022  NÃO INFORMADO                1\n",
              "26         2022          PARDA              511\n",
              "27         2022          PRETA              137"
            ],
            "text/html": [
              "\n",
              "  <div id=\"df-c5f9cd05-fde8-4f00-bb39-9e6ab4f328eb\">\n",
              "    <div class=\"colab-df-container\">\n",
              "      <div>\n",
              "<style scoped>\n",
              "    .dataframe tbody tr th:only-of-type {\n",
              "        vertical-align: middle;\n",
              "    }\n",
              "\n",
              "    .dataframe tbody tr th {\n",
              "        vertical-align: top;\n",
              "    }\n",
              "\n",
              "    .dataframe thead th {\n",
              "        text-align: right;\n",
              "    }\n",
              "</style>\n",
              "<table border=\"1\" class=\"dataframe\">\n",
              "  <thead>\n",
              "    <tr style=\"text-align: right;\">\n",
              "      <th></th>\n",
              "      <th>ANO_ELEICAO</th>\n",
              "      <th>DS_COR_RACA</th>\n",
              "      <th>total_inscritos</th>\n",
              "    </tr>\n",
              "  </thead>\n",
              "  <tbody>\n",
              "    <tr>\n",
              "      <th>0</th>\n",
              "      <td>2010</td>\n",
              "      <td>#NE#</td>\n",
              "      <td>844</td>\n",
              "    </tr>\n",
              "    <tr>\n",
              "      <th>1</th>\n",
              "      <td>2012</td>\n",
              "      <td>#NE#</td>\n",
              "      <td>20544</td>\n",
              "    </tr>\n",
              "    <tr>\n",
              "      <th>2</th>\n",
              "      <td>2014</td>\n",
              "      <td>AMARELA</td>\n",
              "      <td>3</td>\n",
              "    </tr>\n",
              "    <tr>\n",
              "      <th>3</th>\n",
              "      <td>2014</td>\n",
              "      <td>BRANCA</td>\n",
              "      <td>606</td>\n",
              "    </tr>\n",
              "    <tr>\n",
              "      <th>4</th>\n",
              "      <td>2014</td>\n",
              "      <td>INDÍGENA</td>\n",
              "      <td>3</td>\n",
              "    </tr>\n",
              "    <tr>\n",
              "      <th>5</th>\n",
              "      <td>2014</td>\n",
              "      <td>PARDA</td>\n",
              "      <td>393</td>\n",
              "    </tr>\n",
              "    <tr>\n",
              "      <th>6</th>\n",
              "      <td>2014</td>\n",
              "      <td>PRETA</td>\n",
              "      <td>59</td>\n",
              "    </tr>\n",
              "    <tr>\n",
              "      <th>7</th>\n",
              "      <td>2016</td>\n",
              "      <td>AMARELA</td>\n",
              "      <td>209</td>\n",
              "    </tr>\n",
              "    <tr>\n",
              "      <th>8</th>\n",
              "      <td>2016</td>\n",
              "      <td>BRANCA</td>\n",
              "      <td>8773</td>\n",
              "    </tr>\n",
              "    <tr>\n",
              "      <th>9</th>\n",
              "      <td>2016</td>\n",
              "      <td>INDÍGENA</td>\n",
              "      <td>16</td>\n",
              "    </tr>\n",
              "    <tr>\n",
              "      <th>10</th>\n",
              "      <td>2016</td>\n",
              "      <td>PARDA</td>\n",
              "      <td>10677</td>\n",
              "    </tr>\n",
              "    <tr>\n",
              "      <th>11</th>\n",
              "      <td>2016</td>\n",
              "      <td>PRETA</td>\n",
              "      <td>1632</td>\n",
              "    </tr>\n",
              "    <tr>\n",
              "      <th>12</th>\n",
              "      <td>2018</td>\n",
              "      <td>AMARELA</td>\n",
              "      <td>6</td>\n",
              "    </tr>\n",
              "    <tr>\n",
              "      <th>13</th>\n",
              "      <td>2018</td>\n",
              "      <td>BRANCA</td>\n",
              "      <td>620</td>\n",
              "    </tr>\n",
              "    <tr>\n",
              "      <th>14</th>\n",
              "      <td>2018</td>\n",
              "      <td>PARDA</td>\n",
              "      <td>462</td>\n",
              "    </tr>\n",
              "    <tr>\n",
              "      <th>15</th>\n",
              "      <td>2018</td>\n",
              "      <td>PRETA</td>\n",
              "      <td>105</td>\n",
              "    </tr>\n",
              "    <tr>\n",
              "      <th>16</th>\n",
              "      <td>2020</td>\n",
              "      <td>AMARELA</td>\n",
              "      <td>186</td>\n",
              "    </tr>\n",
              "    <tr>\n",
              "      <th>17</th>\n",
              "      <td>2020</td>\n",
              "      <td>BRANCA</td>\n",
              "      <td>9511</td>\n",
              "    </tr>\n",
              "    <tr>\n",
              "      <th>18</th>\n",
              "      <td>2020</td>\n",
              "      <td>INDÍGENA</td>\n",
              "      <td>23</td>\n",
              "    </tr>\n",
              "    <tr>\n",
              "      <th>19</th>\n",
              "      <td>2020</td>\n",
              "      <td>NÃO INFORMADO</td>\n",
              "      <td>176</td>\n",
              "    </tr>\n",
              "    <tr>\n",
              "      <th>20</th>\n",
              "      <td>2020</td>\n",
              "      <td>PARDA</td>\n",
              "      <td>12651</td>\n",
              "    </tr>\n",
              "    <tr>\n",
              "      <th>21</th>\n",
              "      <td>2020</td>\n",
              "      <td>PRETA</td>\n",
              "      <td>2394</td>\n",
              "    </tr>\n",
              "    <tr>\n",
              "      <th>22</th>\n",
              "      <td>2022</td>\n",
              "      <td>AMARELA</td>\n",
              "      <td>8</td>\n",
              "    </tr>\n",
              "    <tr>\n",
              "      <th>23</th>\n",
              "      <td>2022</td>\n",
              "      <td>BRANCA</td>\n",
              "      <td>578</td>\n",
              "    </tr>\n",
              "    <tr>\n",
              "      <th>24</th>\n",
              "      <td>2022</td>\n",
              "      <td>INDÍGENA</td>\n",
              "      <td>1</td>\n",
              "    </tr>\n",
              "    <tr>\n",
              "      <th>25</th>\n",
              "      <td>2022</td>\n",
              "      <td>NÃO INFORMADO</td>\n",
              "      <td>1</td>\n",
              "    </tr>\n",
              "    <tr>\n",
              "      <th>26</th>\n",
              "      <td>2022</td>\n",
              "      <td>PARDA</td>\n",
              "      <td>511</td>\n",
              "    </tr>\n",
              "    <tr>\n",
              "      <th>27</th>\n",
              "      <td>2022</td>\n",
              "      <td>PRETA</td>\n",
              "      <td>137</td>\n",
              "    </tr>\n",
              "  </tbody>\n",
              "</table>\n",
              "</div>\n",
              "      <button class=\"colab-df-convert\" onclick=\"convertToInteractive('df-c5f9cd05-fde8-4f00-bb39-9e6ab4f328eb')\"\n",
              "              title=\"Convert this dataframe to an interactive table.\"\n",
              "              style=\"display:none;\">\n",
              "        \n",
              "  <svg xmlns=\"http://www.w3.org/2000/svg\" height=\"24px\"viewBox=\"0 0 24 24\"\n",
              "       width=\"24px\">\n",
              "    <path d=\"M0 0h24v24H0V0z\" fill=\"none\"/>\n",
              "    <path d=\"M18.56 5.44l.94 2.06.94-2.06 2.06-.94-2.06-.94-.94-2.06-.94 2.06-2.06.94zm-11 1L8.5 8.5l.94-2.06 2.06-.94-2.06-.94L8.5 2.5l-.94 2.06-2.06.94zm10 10l.94 2.06.94-2.06 2.06-.94-2.06-.94-.94-2.06-.94 2.06-2.06.94z\"/><path d=\"M17.41 7.96l-1.37-1.37c-.4-.4-.92-.59-1.43-.59-.52 0-1.04.2-1.43.59L10.3 9.45l-7.72 7.72c-.78.78-.78 2.05 0 2.83L4 21.41c.39.39.9.59 1.41.59.51 0 1.02-.2 1.41-.59l7.78-7.78 2.81-2.81c.8-.78.8-2.07 0-2.86zM5.41 20L4 18.59l7.72-7.72 1.47 1.35L5.41 20z\"/>\n",
              "  </svg>\n",
              "      </button>\n",
              "      \n",
              "  <style>\n",
              "    .colab-df-container {\n",
              "      display:flex;\n",
              "      flex-wrap:wrap;\n",
              "      gap: 12px;\n",
              "    }\n",
              "\n",
              "    .colab-df-convert {\n",
              "      background-color: #E8F0FE;\n",
              "      border: none;\n",
              "      border-radius: 50%;\n",
              "      cursor: pointer;\n",
              "      display: none;\n",
              "      fill: #1967D2;\n",
              "      height: 32px;\n",
              "      padding: 0 0 0 0;\n",
              "      width: 32px;\n",
              "    }\n",
              "\n",
              "    .colab-df-convert:hover {\n",
              "      background-color: #E2EBFA;\n",
              "      box-shadow: 0px 1px 2px rgba(60, 64, 67, 0.3), 0px 1px 3px 1px rgba(60, 64, 67, 0.15);\n",
              "      fill: #174EA6;\n",
              "    }\n",
              "\n",
              "    [theme=dark] .colab-df-convert {\n",
              "      background-color: #3B4455;\n",
              "      fill: #D2E3FC;\n",
              "    }\n",
              "\n",
              "    [theme=dark] .colab-df-convert:hover {\n",
              "      background-color: #434B5C;\n",
              "      box-shadow: 0px 1px 3px 1px rgba(0, 0, 0, 0.15);\n",
              "      filter: drop-shadow(0px 1px 2px rgba(0, 0, 0, 0.3));\n",
              "      fill: #FFFFFF;\n",
              "    }\n",
              "  </style>\n",
              "\n",
              "      <script>\n",
              "        const buttonEl =\n",
              "          document.querySelector('#df-c5f9cd05-fde8-4f00-bb39-9e6ab4f328eb button.colab-df-convert');\n",
              "        buttonEl.style.display =\n",
              "          google.colab.kernel.accessAllowed ? 'block' : 'none';\n",
              "\n",
              "        async function convertToInteractive(key) {\n",
              "          const element = document.querySelector('#df-c5f9cd05-fde8-4f00-bb39-9e6ab4f328eb');\n",
              "          const dataTable =\n",
              "            await google.colab.kernel.invokeFunction('convertToInteractive',\n",
              "                                                     [key], {});\n",
              "          if (!dataTable) return;\n",
              "\n",
              "          const docLinkHtml = 'Like what you see? Visit the ' +\n",
              "            '<a target=\"_blank\" href=https://colab.research.google.com/notebooks/data_table.ipynb>data table notebook</a>'\n",
              "            + ' to learn more about interactive tables.';\n",
              "          element.innerHTML = '';\n",
              "          dataTable['output_type'] = 'display_data';\n",
              "          await google.colab.output.renderOutput(dataTable, element);\n",
              "          const docLink = document.createElement('div');\n",
              "          docLink.innerHTML = docLinkHtml;\n",
              "          element.appendChild(docLink);\n",
              "        }\n",
              "      </script>\n",
              "    </div>\n",
              "  </div>\n",
              "  "
            ]
          },
          "metadata": {},
          "execution_count": 422
        }
      ]
    },
    {
      "cell_type": "markdown",
      "source": [
        "`Quantidade de eleitos por raça `"
      ],
      "metadata": {
        "id": "F4JwkZKLmGpF"
      }
    },
    {
      "cell_type": "code",
      "source": [
        "#Utilizando sql para contabilizar quantas vezes os candidatos foram eleitos por raça\n",
        "query = \"\"\"SELECT DS_COR_RACA, DS_SIT_TOT_TURNO, COUNT(DS_SIT_TOT_TURNO)  as quantidade_reeleicao\n",
        "           FROM candidatos_goias\n",
        "           where DS_SIT_TOT_TURNO like 'ELEITO%'\n",
        "           GROUP BY DS_SIT_TOT_TURNO, DS_COR_RACA\n",
        "           ORDER BY COUNT(DS_SIT_TOT_TURNO) DESC\"\"\"\n",
        "ps.sqldf(query.lower(), locals())"
      ],
      "metadata": {
        "colab": {
          "base_uri": "https://localhost:8080/",
          "height": 269
        },
        "id": "-iEMGzvCmAD9",
        "outputId": "e747b3a4-aefb-4853-a9da-d777b60ab714"
      },
      "execution_count": 382,
      "outputs": [
        {
          "output_type": "execute_result",
          "data": {
            "text/plain": [
              "     DS_COR_RACA DS_SIT_TOT_TURNO  quantidade_reeleicao\n",
              "0           #NE#           ELEITO                  3046\n",
              "1         BRANCA           ELEITO                  2896\n",
              "2          PARDA           ELEITO                  2856\n",
              "3          PRETA           ELEITO                   320\n",
              "4        AMARELA           ELEITO                    54\n",
              "5  NÃO INFORMADO           ELEITO                    22\n",
              "6       INDÍGENA           ELEITO                     2"
            ],
            "text/html": [
              "\n",
              "  <div id=\"df-a6a69dbd-44ce-4e68-96f2-23ecbf659955\">\n",
              "    <div class=\"colab-df-container\">\n",
              "      <div>\n",
              "<style scoped>\n",
              "    .dataframe tbody tr th:only-of-type {\n",
              "        vertical-align: middle;\n",
              "    }\n",
              "\n",
              "    .dataframe tbody tr th {\n",
              "        vertical-align: top;\n",
              "    }\n",
              "\n",
              "    .dataframe thead th {\n",
              "        text-align: right;\n",
              "    }\n",
              "</style>\n",
              "<table border=\"1\" class=\"dataframe\">\n",
              "  <thead>\n",
              "    <tr style=\"text-align: right;\">\n",
              "      <th></th>\n",
              "      <th>DS_COR_RACA</th>\n",
              "      <th>DS_SIT_TOT_TURNO</th>\n",
              "      <th>quantidade_reeleicao</th>\n",
              "    </tr>\n",
              "  </thead>\n",
              "  <tbody>\n",
              "    <tr>\n",
              "      <th>0</th>\n",
              "      <td>#NE#</td>\n",
              "      <td>ELEITO</td>\n",
              "      <td>3046</td>\n",
              "    </tr>\n",
              "    <tr>\n",
              "      <th>1</th>\n",
              "      <td>BRANCA</td>\n",
              "      <td>ELEITO</td>\n",
              "      <td>2896</td>\n",
              "    </tr>\n",
              "    <tr>\n",
              "      <th>2</th>\n",
              "      <td>PARDA</td>\n",
              "      <td>ELEITO</td>\n",
              "      <td>2856</td>\n",
              "    </tr>\n",
              "    <tr>\n",
              "      <th>3</th>\n",
              "      <td>PRETA</td>\n",
              "      <td>ELEITO</td>\n",
              "      <td>320</td>\n",
              "    </tr>\n",
              "    <tr>\n",
              "      <th>4</th>\n",
              "      <td>AMARELA</td>\n",
              "      <td>ELEITO</td>\n",
              "      <td>54</td>\n",
              "    </tr>\n",
              "    <tr>\n",
              "      <th>5</th>\n",
              "      <td>NÃO INFORMADO</td>\n",
              "      <td>ELEITO</td>\n",
              "      <td>22</td>\n",
              "    </tr>\n",
              "    <tr>\n",
              "      <th>6</th>\n",
              "      <td>INDÍGENA</td>\n",
              "      <td>ELEITO</td>\n",
              "      <td>2</td>\n",
              "    </tr>\n",
              "  </tbody>\n",
              "</table>\n",
              "</div>\n",
              "      <button class=\"colab-df-convert\" onclick=\"convertToInteractive('df-a6a69dbd-44ce-4e68-96f2-23ecbf659955')\"\n",
              "              title=\"Convert this dataframe to an interactive table.\"\n",
              "              style=\"display:none;\">\n",
              "        \n",
              "  <svg xmlns=\"http://www.w3.org/2000/svg\" height=\"24px\"viewBox=\"0 0 24 24\"\n",
              "       width=\"24px\">\n",
              "    <path d=\"M0 0h24v24H0V0z\" fill=\"none\"/>\n",
              "    <path d=\"M18.56 5.44l.94 2.06.94-2.06 2.06-.94-2.06-.94-.94-2.06-.94 2.06-2.06.94zm-11 1L8.5 8.5l.94-2.06 2.06-.94-2.06-.94L8.5 2.5l-.94 2.06-2.06.94zm10 10l.94 2.06.94-2.06 2.06-.94-2.06-.94-.94-2.06-.94 2.06-2.06.94z\"/><path d=\"M17.41 7.96l-1.37-1.37c-.4-.4-.92-.59-1.43-.59-.52 0-1.04.2-1.43.59L10.3 9.45l-7.72 7.72c-.78.78-.78 2.05 0 2.83L4 21.41c.39.39.9.59 1.41.59.51 0 1.02-.2 1.41-.59l7.78-7.78 2.81-2.81c.8-.78.8-2.07 0-2.86zM5.41 20L4 18.59l7.72-7.72 1.47 1.35L5.41 20z\"/>\n",
              "  </svg>\n",
              "      </button>\n",
              "      \n",
              "  <style>\n",
              "    .colab-df-container {\n",
              "      display:flex;\n",
              "      flex-wrap:wrap;\n",
              "      gap: 12px;\n",
              "    }\n",
              "\n",
              "    .colab-df-convert {\n",
              "      background-color: #E8F0FE;\n",
              "      border: none;\n",
              "      border-radius: 50%;\n",
              "      cursor: pointer;\n",
              "      display: none;\n",
              "      fill: #1967D2;\n",
              "      height: 32px;\n",
              "      padding: 0 0 0 0;\n",
              "      width: 32px;\n",
              "    }\n",
              "\n",
              "    .colab-df-convert:hover {\n",
              "      background-color: #E2EBFA;\n",
              "      box-shadow: 0px 1px 2px rgba(60, 64, 67, 0.3), 0px 1px 3px 1px rgba(60, 64, 67, 0.15);\n",
              "      fill: #174EA6;\n",
              "    }\n",
              "\n",
              "    [theme=dark] .colab-df-convert {\n",
              "      background-color: #3B4455;\n",
              "      fill: #D2E3FC;\n",
              "    }\n",
              "\n",
              "    [theme=dark] .colab-df-convert:hover {\n",
              "      background-color: #434B5C;\n",
              "      box-shadow: 0px 1px 3px 1px rgba(0, 0, 0, 0.15);\n",
              "      filter: drop-shadow(0px 1px 2px rgba(0, 0, 0, 0.3));\n",
              "      fill: #FFFFFF;\n",
              "    }\n",
              "  </style>\n",
              "\n",
              "      <script>\n",
              "        const buttonEl =\n",
              "          document.querySelector('#df-a6a69dbd-44ce-4e68-96f2-23ecbf659955 button.colab-df-convert');\n",
              "        buttonEl.style.display =\n",
              "          google.colab.kernel.accessAllowed ? 'block' : 'none';\n",
              "\n",
              "        async function convertToInteractive(key) {\n",
              "          const element = document.querySelector('#df-a6a69dbd-44ce-4e68-96f2-23ecbf659955');\n",
              "          const dataTable =\n",
              "            await google.colab.kernel.invokeFunction('convertToInteractive',\n",
              "                                                     [key], {});\n",
              "          if (!dataTable) return;\n",
              "\n",
              "          const docLinkHtml = 'Like what you see? Visit the ' +\n",
              "            '<a target=\"_blank\" href=https://colab.research.google.com/notebooks/data_table.ipynb>data table notebook</a>'\n",
              "            + ' to learn more about interactive tables.';\n",
              "          element.innerHTML = '';\n",
              "          dataTable['output_type'] = 'display_data';\n",
              "          await google.colab.output.renderOutput(dataTable, element);\n",
              "          const docLink = document.createElement('div');\n",
              "          docLink.innerHTML = docLinkHtml;\n",
              "          element.appendChild(docLink);\n",
              "        }\n",
              "      </script>\n",
              "    </div>\n",
              "  </div>\n",
              "  "
            ]
          },
          "metadata": {},
          "execution_count": 382
        }
      ]
    },
    {
      "cell_type": "markdown",
      "source": [
        "`Quantidade de eleitos por raça e ano eleicão `"
      ],
      "metadata": {
        "id": "uQTDtrHux_rz"
      }
    },
    {
      "cell_type": "code",
      "source": [
        "#Utilizando sql para contabilizar quantidade de eleitos por raça e ano \n",
        "query = \"\"\"SELECT ANO_ELEICAO, DS_COR_RACA, DS_SIT_TOT_TURNO, COUNT(DS_SIT_TOT_TURNO)  as quantidade_reeleicao\n",
        "           FROM candidatos_goias\n",
        "           where DS_SIT_TOT_TURNO like 'ELEITO%'\n",
        "           GROUP BY DS_SIT_TOT_TURNO, DS_COR_RACA,ANO_ELEICAO\n",
        "           ORDER BY ANO_ELEICAO,DS_COR_RACA,COUNT(DS_SIT_TOT_TURNO) DESC\"\"\"\n",
        "ps.sqldf(query.lower(), locals())"
      ],
      "metadata": {
        "colab": {
          "base_uri": "https://localhost:8080/",
          "height": 614
        },
        "id": "gMIrE_Cvx1C1",
        "outputId": "59a3ec89-41b9-46a3-ef1a-cfc7a0062705"
      },
      "execution_count": 421,
      "outputs": [
        {
          "output_type": "execute_result",
          "data": {
            "text/plain": [
              "    ANO_ELEICAO    DS_COR_RACA DS_SIT_TOT_TURNO  quantidade_reeleicao\n",
              "0          2010           #NE#           ELEITO                    53\n",
              "1          2012           #NE#           ELEITO                  2993\n",
              "2          2014         BRANCA           ELEITO                    55\n",
              "3          2014          PARDA           ELEITO                     9\n",
              "4          2014          PRETA           ELEITO                     1\n",
              "5          2016        AMARELA           ELEITO                    34\n",
              "6          2016         BRANCA           ELEITO                  1454\n",
              "7          2016       INDÍGENA           ELEITO                     1\n",
              "8          2016          PARDA           ELEITO                  1369\n",
              "9          2016          PRETA           ELEITO                   153\n",
              "10         2018         BRANCA           ELEITO                    53\n",
              "11         2018          PARDA           ELEITO                    13\n",
              "12         2020        AMARELA           ELEITO                    20\n",
              "13         2020         BRANCA           ELEITO                  1334\n",
              "14         2020       INDÍGENA           ELEITO                     1\n",
              "15         2020  NÃO INFORMADO           ELEITO                    22\n",
              "16         2020          PARDA           ELEITO                  1465\n",
              "17         2020          PRETA           ELEITO                   166"
            ],
            "text/html": [
              "\n",
              "  <div id=\"df-f9c32427-fbff-4951-9d94-4f00eeb96cb6\">\n",
              "    <div class=\"colab-df-container\">\n",
              "      <div>\n",
              "<style scoped>\n",
              "    .dataframe tbody tr th:only-of-type {\n",
              "        vertical-align: middle;\n",
              "    }\n",
              "\n",
              "    .dataframe tbody tr th {\n",
              "        vertical-align: top;\n",
              "    }\n",
              "\n",
              "    .dataframe thead th {\n",
              "        text-align: right;\n",
              "    }\n",
              "</style>\n",
              "<table border=\"1\" class=\"dataframe\">\n",
              "  <thead>\n",
              "    <tr style=\"text-align: right;\">\n",
              "      <th></th>\n",
              "      <th>ANO_ELEICAO</th>\n",
              "      <th>DS_COR_RACA</th>\n",
              "      <th>DS_SIT_TOT_TURNO</th>\n",
              "      <th>quantidade_reeleicao</th>\n",
              "    </tr>\n",
              "  </thead>\n",
              "  <tbody>\n",
              "    <tr>\n",
              "      <th>0</th>\n",
              "      <td>2010</td>\n",
              "      <td>#NE#</td>\n",
              "      <td>ELEITO</td>\n",
              "      <td>53</td>\n",
              "    </tr>\n",
              "    <tr>\n",
              "      <th>1</th>\n",
              "      <td>2012</td>\n",
              "      <td>#NE#</td>\n",
              "      <td>ELEITO</td>\n",
              "      <td>2993</td>\n",
              "    </tr>\n",
              "    <tr>\n",
              "      <th>2</th>\n",
              "      <td>2014</td>\n",
              "      <td>BRANCA</td>\n",
              "      <td>ELEITO</td>\n",
              "      <td>55</td>\n",
              "    </tr>\n",
              "    <tr>\n",
              "      <th>3</th>\n",
              "      <td>2014</td>\n",
              "      <td>PARDA</td>\n",
              "      <td>ELEITO</td>\n",
              "      <td>9</td>\n",
              "    </tr>\n",
              "    <tr>\n",
              "      <th>4</th>\n",
              "      <td>2014</td>\n",
              "      <td>PRETA</td>\n",
              "      <td>ELEITO</td>\n",
              "      <td>1</td>\n",
              "    </tr>\n",
              "    <tr>\n",
              "      <th>5</th>\n",
              "      <td>2016</td>\n",
              "      <td>AMARELA</td>\n",
              "      <td>ELEITO</td>\n",
              "      <td>34</td>\n",
              "    </tr>\n",
              "    <tr>\n",
              "      <th>6</th>\n",
              "      <td>2016</td>\n",
              "      <td>BRANCA</td>\n",
              "      <td>ELEITO</td>\n",
              "      <td>1454</td>\n",
              "    </tr>\n",
              "    <tr>\n",
              "      <th>7</th>\n",
              "      <td>2016</td>\n",
              "      <td>INDÍGENA</td>\n",
              "      <td>ELEITO</td>\n",
              "      <td>1</td>\n",
              "    </tr>\n",
              "    <tr>\n",
              "      <th>8</th>\n",
              "      <td>2016</td>\n",
              "      <td>PARDA</td>\n",
              "      <td>ELEITO</td>\n",
              "      <td>1369</td>\n",
              "    </tr>\n",
              "    <tr>\n",
              "      <th>9</th>\n",
              "      <td>2016</td>\n",
              "      <td>PRETA</td>\n",
              "      <td>ELEITO</td>\n",
              "      <td>153</td>\n",
              "    </tr>\n",
              "    <tr>\n",
              "      <th>10</th>\n",
              "      <td>2018</td>\n",
              "      <td>BRANCA</td>\n",
              "      <td>ELEITO</td>\n",
              "      <td>53</td>\n",
              "    </tr>\n",
              "    <tr>\n",
              "      <th>11</th>\n",
              "      <td>2018</td>\n",
              "      <td>PARDA</td>\n",
              "      <td>ELEITO</td>\n",
              "      <td>13</td>\n",
              "    </tr>\n",
              "    <tr>\n",
              "      <th>12</th>\n",
              "      <td>2020</td>\n",
              "      <td>AMARELA</td>\n",
              "      <td>ELEITO</td>\n",
              "      <td>20</td>\n",
              "    </tr>\n",
              "    <tr>\n",
              "      <th>13</th>\n",
              "      <td>2020</td>\n",
              "      <td>BRANCA</td>\n",
              "      <td>ELEITO</td>\n",
              "      <td>1334</td>\n",
              "    </tr>\n",
              "    <tr>\n",
              "      <th>14</th>\n",
              "      <td>2020</td>\n",
              "      <td>INDÍGENA</td>\n",
              "      <td>ELEITO</td>\n",
              "      <td>1</td>\n",
              "    </tr>\n",
              "    <tr>\n",
              "      <th>15</th>\n",
              "      <td>2020</td>\n",
              "      <td>NÃO INFORMADO</td>\n",
              "      <td>ELEITO</td>\n",
              "      <td>22</td>\n",
              "    </tr>\n",
              "    <tr>\n",
              "      <th>16</th>\n",
              "      <td>2020</td>\n",
              "      <td>PARDA</td>\n",
              "      <td>ELEITO</td>\n",
              "      <td>1465</td>\n",
              "    </tr>\n",
              "    <tr>\n",
              "      <th>17</th>\n",
              "      <td>2020</td>\n",
              "      <td>PRETA</td>\n",
              "      <td>ELEITO</td>\n",
              "      <td>166</td>\n",
              "    </tr>\n",
              "  </tbody>\n",
              "</table>\n",
              "</div>\n",
              "      <button class=\"colab-df-convert\" onclick=\"convertToInteractive('df-f9c32427-fbff-4951-9d94-4f00eeb96cb6')\"\n",
              "              title=\"Convert this dataframe to an interactive table.\"\n",
              "              style=\"display:none;\">\n",
              "        \n",
              "  <svg xmlns=\"http://www.w3.org/2000/svg\" height=\"24px\"viewBox=\"0 0 24 24\"\n",
              "       width=\"24px\">\n",
              "    <path d=\"M0 0h24v24H0V0z\" fill=\"none\"/>\n",
              "    <path d=\"M18.56 5.44l.94 2.06.94-2.06 2.06-.94-2.06-.94-.94-2.06-.94 2.06-2.06.94zm-11 1L8.5 8.5l.94-2.06 2.06-.94-2.06-.94L8.5 2.5l-.94 2.06-2.06.94zm10 10l.94 2.06.94-2.06 2.06-.94-2.06-.94-.94-2.06-.94 2.06-2.06.94z\"/><path d=\"M17.41 7.96l-1.37-1.37c-.4-.4-.92-.59-1.43-.59-.52 0-1.04.2-1.43.59L10.3 9.45l-7.72 7.72c-.78.78-.78 2.05 0 2.83L4 21.41c.39.39.9.59 1.41.59.51 0 1.02-.2 1.41-.59l7.78-7.78 2.81-2.81c.8-.78.8-2.07 0-2.86zM5.41 20L4 18.59l7.72-7.72 1.47 1.35L5.41 20z\"/>\n",
              "  </svg>\n",
              "      </button>\n",
              "      \n",
              "  <style>\n",
              "    .colab-df-container {\n",
              "      display:flex;\n",
              "      flex-wrap:wrap;\n",
              "      gap: 12px;\n",
              "    }\n",
              "\n",
              "    .colab-df-convert {\n",
              "      background-color: #E8F0FE;\n",
              "      border: none;\n",
              "      border-radius: 50%;\n",
              "      cursor: pointer;\n",
              "      display: none;\n",
              "      fill: #1967D2;\n",
              "      height: 32px;\n",
              "      padding: 0 0 0 0;\n",
              "      width: 32px;\n",
              "    }\n",
              "\n",
              "    .colab-df-convert:hover {\n",
              "      background-color: #E2EBFA;\n",
              "      box-shadow: 0px 1px 2px rgba(60, 64, 67, 0.3), 0px 1px 3px 1px rgba(60, 64, 67, 0.15);\n",
              "      fill: #174EA6;\n",
              "    }\n",
              "\n",
              "    [theme=dark] .colab-df-convert {\n",
              "      background-color: #3B4455;\n",
              "      fill: #D2E3FC;\n",
              "    }\n",
              "\n",
              "    [theme=dark] .colab-df-convert:hover {\n",
              "      background-color: #434B5C;\n",
              "      box-shadow: 0px 1px 3px 1px rgba(0, 0, 0, 0.15);\n",
              "      filter: drop-shadow(0px 1px 2px rgba(0, 0, 0, 0.3));\n",
              "      fill: #FFFFFF;\n",
              "    }\n",
              "  </style>\n",
              "\n",
              "      <script>\n",
              "        const buttonEl =\n",
              "          document.querySelector('#df-f9c32427-fbff-4951-9d94-4f00eeb96cb6 button.colab-df-convert');\n",
              "        buttonEl.style.display =\n",
              "          google.colab.kernel.accessAllowed ? 'block' : 'none';\n",
              "\n",
              "        async function convertToInteractive(key) {\n",
              "          const element = document.querySelector('#df-f9c32427-fbff-4951-9d94-4f00eeb96cb6');\n",
              "          const dataTable =\n",
              "            await google.colab.kernel.invokeFunction('convertToInteractive',\n",
              "                                                     [key], {});\n",
              "          if (!dataTable) return;\n",
              "\n",
              "          const docLinkHtml = 'Like what you see? Visit the ' +\n",
              "            '<a target=\"_blank\" href=https://colab.research.google.com/notebooks/data_table.ipynb>data table notebook</a>'\n",
              "            + ' to learn more about interactive tables.';\n",
              "          element.innerHTML = '';\n",
              "          dataTable['output_type'] = 'display_data';\n",
              "          await google.colab.output.renderOutput(dataTable, element);\n",
              "          const docLink = document.createElement('div');\n",
              "          docLink.innerHTML = docLinkHtml;\n",
              "          element.appendChild(docLink);\n",
              "        }\n",
              "      </script>\n",
              "    </div>\n",
              "  </div>\n",
              "  "
            ]
          },
          "metadata": {},
          "execution_count": 421
        }
      ]
    },
    {
      "cell_type": "markdown",
      "source": [
        "`porcentagem de eleitos por raça `"
      ],
      "metadata": {
        "id": "kJFjkEX7qwhe"
      }
    },
    {
      "cell_type": "code",
      "source": [
        "candidatos_eleitos = candidatos_goias[candidatos_goias['DS_SIT_TOT_TURNO'] == \"ELEITO\"]\n",
        "candidatos_eleitos['DS_COR_RACA'].value_counts() / candidatos_eleitos['ANO_ELEICAO'].count() * 100"
      ],
      "metadata": {
        "colab": {
          "base_uri": "https://localhost:8080/"
        },
        "id": "x8vWcPzxq6K2",
        "outputId": "922278d6-0564-4c67-aa31-d0ff60a0a357"
      },
      "execution_count": 428,
      "outputs": [
        {
          "output_type": "execute_result",
          "data": {
            "text/plain": [
              "#NE#             33.123097\n",
              "BRANCA           31.491953\n",
              "PARDA            31.056981\n",
              "PRETA             3.479774\n",
              "AMARELA           0.587212\n",
              "NÃO INFORMADO     0.239234\n",
              "INDÍGENA          0.021749\n",
              "Name: DS_COR_RACA, dtype: float64"
            ]
          },
          "metadata": {},
          "execution_count": 428
        }
      ]
    },
    {
      "cell_type": "markdown",
      "source": [
        "`Quantidade de releitos por raça `"
      ],
      "metadata": {
        "id": "-AuREoc6rYE-"
      }
    },
    {
      "cell_type": "code",
      "source": [
        "#Utilizando sql para contabilizar quantas vezes os candidatos foram reeleitos por raça\n",
        "query = \"\"\"SELECT DS_COR_RACA, ST_REELEICAO, COUNT(ST_REELEICAO)  as quantidade_reeleicao\n",
        "           FROM candidatos_goias\n",
        "           where ST_REELEICAO like '%S%'\n",
        "           GROUP BY ST_REELEICAO, DS_COR_RACA\n",
        "           ORDER BY COUNT(ST_REELEICAO) DESC\"\"\"\n",
        "ps.sqldf(query.lower(), locals())"
      ],
      "metadata": {
        "colab": {
          "base_uri": "https://localhost:8080/",
          "height": 238
        },
        "id": "Rg6McyGrrHMM",
        "outputId": "e796d718-4e9f-42a3-82df-f6cb5314e5e5"
      },
      "execution_count": 384,
      "outputs": [
        {
          "output_type": "execute_result",
          "data": {
            "text/plain": [
              "     DS_COR_RACA ST_REELEICAO  quantidade_reeleicao\n",
              "0         BRANCA            S                  1470\n",
              "1          PARDA            S                  1470\n",
              "2           #NE#            S                   557\n",
              "3          PRETA            S                   189\n",
              "4        AMARELA            S                    32\n",
              "5  NÃO INFORMADO            S                     8"
            ],
            "text/html": [
              "\n",
              "  <div id=\"df-489a46bd-6b40-45b9-8a6b-d699b5c403a7\">\n",
              "    <div class=\"colab-df-container\">\n",
              "      <div>\n",
              "<style scoped>\n",
              "    .dataframe tbody tr th:only-of-type {\n",
              "        vertical-align: middle;\n",
              "    }\n",
              "\n",
              "    .dataframe tbody tr th {\n",
              "        vertical-align: top;\n",
              "    }\n",
              "\n",
              "    .dataframe thead th {\n",
              "        text-align: right;\n",
              "    }\n",
              "</style>\n",
              "<table border=\"1\" class=\"dataframe\">\n",
              "  <thead>\n",
              "    <tr style=\"text-align: right;\">\n",
              "      <th></th>\n",
              "      <th>DS_COR_RACA</th>\n",
              "      <th>ST_REELEICAO</th>\n",
              "      <th>quantidade_reeleicao</th>\n",
              "    </tr>\n",
              "  </thead>\n",
              "  <tbody>\n",
              "    <tr>\n",
              "      <th>0</th>\n",
              "      <td>BRANCA</td>\n",
              "      <td>S</td>\n",
              "      <td>1470</td>\n",
              "    </tr>\n",
              "    <tr>\n",
              "      <th>1</th>\n",
              "      <td>PARDA</td>\n",
              "      <td>S</td>\n",
              "      <td>1470</td>\n",
              "    </tr>\n",
              "    <tr>\n",
              "      <th>2</th>\n",
              "      <td>#NE#</td>\n",
              "      <td>S</td>\n",
              "      <td>557</td>\n",
              "    </tr>\n",
              "    <tr>\n",
              "      <th>3</th>\n",
              "      <td>PRETA</td>\n",
              "      <td>S</td>\n",
              "      <td>189</td>\n",
              "    </tr>\n",
              "    <tr>\n",
              "      <th>4</th>\n",
              "      <td>AMARELA</td>\n",
              "      <td>S</td>\n",
              "      <td>32</td>\n",
              "    </tr>\n",
              "    <tr>\n",
              "      <th>5</th>\n",
              "      <td>NÃO INFORMADO</td>\n",
              "      <td>S</td>\n",
              "      <td>8</td>\n",
              "    </tr>\n",
              "  </tbody>\n",
              "</table>\n",
              "</div>\n",
              "      <button class=\"colab-df-convert\" onclick=\"convertToInteractive('df-489a46bd-6b40-45b9-8a6b-d699b5c403a7')\"\n",
              "              title=\"Convert this dataframe to an interactive table.\"\n",
              "              style=\"display:none;\">\n",
              "        \n",
              "  <svg xmlns=\"http://www.w3.org/2000/svg\" height=\"24px\"viewBox=\"0 0 24 24\"\n",
              "       width=\"24px\">\n",
              "    <path d=\"M0 0h24v24H0V0z\" fill=\"none\"/>\n",
              "    <path d=\"M18.56 5.44l.94 2.06.94-2.06 2.06-.94-2.06-.94-.94-2.06-.94 2.06-2.06.94zm-11 1L8.5 8.5l.94-2.06 2.06-.94-2.06-.94L8.5 2.5l-.94 2.06-2.06.94zm10 10l.94 2.06.94-2.06 2.06-.94-2.06-.94-.94-2.06-.94 2.06-2.06.94z\"/><path d=\"M17.41 7.96l-1.37-1.37c-.4-.4-.92-.59-1.43-.59-.52 0-1.04.2-1.43.59L10.3 9.45l-7.72 7.72c-.78.78-.78 2.05 0 2.83L4 21.41c.39.39.9.59 1.41.59.51 0 1.02-.2 1.41-.59l7.78-7.78 2.81-2.81c.8-.78.8-2.07 0-2.86zM5.41 20L4 18.59l7.72-7.72 1.47 1.35L5.41 20z\"/>\n",
              "  </svg>\n",
              "      </button>\n",
              "      \n",
              "  <style>\n",
              "    .colab-df-container {\n",
              "      display:flex;\n",
              "      flex-wrap:wrap;\n",
              "      gap: 12px;\n",
              "    }\n",
              "\n",
              "    .colab-df-convert {\n",
              "      background-color: #E8F0FE;\n",
              "      border: none;\n",
              "      border-radius: 50%;\n",
              "      cursor: pointer;\n",
              "      display: none;\n",
              "      fill: #1967D2;\n",
              "      height: 32px;\n",
              "      padding: 0 0 0 0;\n",
              "      width: 32px;\n",
              "    }\n",
              "\n",
              "    .colab-df-convert:hover {\n",
              "      background-color: #E2EBFA;\n",
              "      box-shadow: 0px 1px 2px rgba(60, 64, 67, 0.3), 0px 1px 3px 1px rgba(60, 64, 67, 0.15);\n",
              "      fill: #174EA6;\n",
              "    }\n",
              "\n",
              "    [theme=dark] .colab-df-convert {\n",
              "      background-color: #3B4455;\n",
              "      fill: #D2E3FC;\n",
              "    }\n",
              "\n",
              "    [theme=dark] .colab-df-convert:hover {\n",
              "      background-color: #434B5C;\n",
              "      box-shadow: 0px 1px 3px 1px rgba(0, 0, 0, 0.15);\n",
              "      filter: drop-shadow(0px 1px 2px rgba(0, 0, 0, 0.3));\n",
              "      fill: #FFFFFF;\n",
              "    }\n",
              "  </style>\n",
              "\n",
              "      <script>\n",
              "        const buttonEl =\n",
              "          document.querySelector('#df-489a46bd-6b40-45b9-8a6b-d699b5c403a7 button.colab-df-convert');\n",
              "        buttonEl.style.display =\n",
              "          google.colab.kernel.accessAllowed ? 'block' : 'none';\n",
              "\n",
              "        async function convertToInteractive(key) {\n",
              "          const element = document.querySelector('#df-489a46bd-6b40-45b9-8a6b-d699b5c403a7');\n",
              "          const dataTable =\n",
              "            await google.colab.kernel.invokeFunction('convertToInteractive',\n",
              "                                                     [key], {});\n",
              "          if (!dataTable) return;\n",
              "\n",
              "          const docLinkHtml = 'Like what you see? Visit the ' +\n",
              "            '<a target=\"_blank\" href=https://colab.research.google.com/notebooks/data_table.ipynb>data table notebook</a>'\n",
              "            + ' to learn more about interactive tables.';\n",
              "          element.innerHTML = '';\n",
              "          dataTable['output_type'] = 'display_data';\n",
              "          await google.colab.output.renderOutput(dataTable, element);\n",
              "          const docLink = document.createElement('div');\n",
              "          docLink.innerHTML = docLinkHtml;\n",
              "          element.appendChild(docLink);\n",
              "        }\n",
              "      </script>\n",
              "    </div>\n",
              "  </div>\n",
              "  "
            ]
          },
          "metadata": {},
          "execution_count": 384
        }
      ]
    },
    {
      "cell_type": "markdown",
      "source": [
        "`Quantidade de reeleitos por raça e ano `"
      ],
      "metadata": {
        "id": "bZZYVnzL051W"
      }
    },
    {
      "cell_type": "code",
      "source": [
        "#Utilizando sql para contabilizar quantas vezes os candidatos foram reeleitos por raça e ano \n",
        "query = \"\"\"SELECT ANO_ELEICAO, DS_COR_RACA, ST_REELEICAO, COUNT(ST_REELEICAO)  as quantidade_reeleicao\n",
        "           FROM candidatos_goias\n",
        "           where ST_REELEICAO like '%S%'\n",
        "           GROUP BY ST_REELEICAO, DS_COR_RACA, ANO_ELEICAO\n",
        "           ORDER BY DS_COR_RACA,COUNT(ST_REELEICAO) DESC\"\"\"\n",
        "ps.sqldf(query.lower(), locals())"
      ],
      "metadata": {
        "colab": {
          "base_uri": "https://localhost:8080/",
          "height": 614
        },
        "id": "OxfVqYYDr9ia",
        "outputId": "58834246-b4bb-4bbf-e7e9-ea7153b9d8f2"
      },
      "execution_count": 417,
      "outputs": [
        {
          "output_type": "execute_result",
          "data": {
            "text/plain": [
              "    ANO_ELEICAO    DS_COR_RACA ST_REELEICAO  quantidade_reeleicao\n",
              "0          2012           #NE#            S                   557\n",
              "1          2016        AMARELA            S                    22\n",
              "2          2020        AMARELA            S                    10\n",
              "3          2016         BRANCA            S                   963\n",
              "4          2020         BRANCA            S                   407\n",
              "5          2014         BRANCA            S                    38\n",
              "6          2018         BRANCA            S                    34\n",
              "7          2022         BRANCA            S                    28\n",
              "8          2020  NÃO INFORMADO            S                     8\n",
              "9          2016          PARDA            S                   971\n",
              "10         2020          PARDA            S                   467\n",
              "11         2018          PARDA            S                    17\n",
              "12         2022          PARDA            S                    12\n",
              "13         2014          PARDA            S                     3\n",
              "14         2016          PRETA            S                   113\n",
              "15         2020          PRETA            S                    73\n",
              "16         2018          PRETA            S                     2\n",
              "17         2014          PRETA            S                     1"
            ],
            "text/html": [
              "\n",
              "  <div id=\"df-9e71f7c7-a892-4470-b98a-9e9d756cc16a\">\n",
              "    <div class=\"colab-df-container\">\n",
              "      <div>\n",
              "<style scoped>\n",
              "    .dataframe tbody tr th:only-of-type {\n",
              "        vertical-align: middle;\n",
              "    }\n",
              "\n",
              "    .dataframe tbody tr th {\n",
              "        vertical-align: top;\n",
              "    }\n",
              "\n",
              "    .dataframe thead th {\n",
              "        text-align: right;\n",
              "    }\n",
              "</style>\n",
              "<table border=\"1\" class=\"dataframe\">\n",
              "  <thead>\n",
              "    <tr style=\"text-align: right;\">\n",
              "      <th></th>\n",
              "      <th>ANO_ELEICAO</th>\n",
              "      <th>DS_COR_RACA</th>\n",
              "      <th>ST_REELEICAO</th>\n",
              "      <th>quantidade_reeleicao</th>\n",
              "    </tr>\n",
              "  </thead>\n",
              "  <tbody>\n",
              "    <tr>\n",
              "      <th>0</th>\n",
              "      <td>2012</td>\n",
              "      <td>#NE#</td>\n",
              "      <td>S</td>\n",
              "      <td>557</td>\n",
              "    </tr>\n",
              "    <tr>\n",
              "      <th>1</th>\n",
              "      <td>2016</td>\n",
              "      <td>AMARELA</td>\n",
              "      <td>S</td>\n",
              "      <td>22</td>\n",
              "    </tr>\n",
              "    <tr>\n",
              "      <th>2</th>\n",
              "      <td>2020</td>\n",
              "      <td>AMARELA</td>\n",
              "      <td>S</td>\n",
              "      <td>10</td>\n",
              "    </tr>\n",
              "    <tr>\n",
              "      <th>3</th>\n",
              "      <td>2016</td>\n",
              "      <td>BRANCA</td>\n",
              "      <td>S</td>\n",
              "      <td>963</td>\n",
              "    </tr>\n",
              "    <tr>\n",
              "      <th>4</th>\n",
              "      <td>2020</td>\n",
              "      <td>BRANCA</td>\n",
              "      <td>S</td>\n",
              "      <td>407</td>\n",
              "    </tr>\n",
              "    <tr>\n",
              "      <th>5</th>\n",
              "      <td>2014</td>\n",
              "      <td>BRANCA</td>\n",
              "      <td>S</td>\n",
              "      <td>38</td>\n",
              "    </tr>\n",
              "    <tr>\n",
              "      <th>6</th>\n",
              "      <td>2018</td>\n",
              "      <td>BRANCA</td>\n",
              "      <td>S</td>\n",
              "      <td>34</td>\n",
              "    </tr>\n",
              "    <tr>\n",
              "      <th>7</th>\n",
              "      <td>2022</td>\n",
              "      <td>BRANCA</td>\n",
              "      <td>S</td>\n",
              "      <td>28</td>\n",
              "    </tr>\n",
              "    <tr>\n",
              "      <th>8</th>\n",
              "      <td>2020</td>\n",
              "      <td>NÃO INFORMADO</td>\n",
              "      <td>S</td>\n",
              "      <td>8</td>\n",
              "    </tr>\n",
              "    <tr>\n",
              "      <th>9</th>\n",
              "      <td>2016</td>\n",
              "      <td>PARDA</td>\n",
              "      <td>S</td>\n",
              "      <td>971</td>\n",
              "    </tr>\n",
              "    <tr>\n",
              "      <th>10</th>\n",
              "      <td>2020</td>\n",
              "      <td>PARDA</td>\n",
              "      <td>S</td>\n",
              "      <td>467</td>\n",
              "    </tr>\n",
              "    <tr>\n",
              "      <th>11</th>\n",
              "      <td>2018</td>\n",
              "      <td>PARDA</td>\n",
              "      <td>S</td>\n",
              "      <td>17</td>\n",
              "    </tr>\n",
              "    <tr>\n",
              "      <th>12</th>\n",
              "      <td>2022</td>\n",
              "      <td>PARDA</td>\n",
              "      <td>S</td>\n",
              "      <td>12</td>\n",
              "    </tr>\n",
              "    <tr>\n",
              "      <th>13</th>\n",
              "      <td>2014</td>\n",
              "      <td>PARDA</td>\n",
              "      <td>S</td>\n",
              "      <td>3</td>\n",
              "    </tr>\n",
              "    <tr>\n",
              "      <th>14</th>\n",
              "      <td>2016</td>\n",
              "      <td>PRETA</td>\n",
              "      <td>S</td>\n",
              "      <td>113</td>\n",
              "    </tr>\n",
              "    <tr>\n",
              "      <th>15</th>\n",
              "      <td>2020</td>\n",
              "      <td>PRETA</td>\n",
              "      <td>S</td>\n",
              "      <td>73</td>\n",
              "    </tr>\n",
              "    <tr>\n",
              "      <th>16</th>\n",
              "      <td>2018</td>\n",
              "      <td>PRETA</td>\n",
              "      <td>S</td>\n",
              "      <td>2</td>\n",
              "    </tr>\n",
              "    <tr>\n",
              "      <th>17</th>\n",
              "      <td>2014</td>\n",
              "      <td>PRETA</td>\n",
              "      <td>S</td>\n",
              "      <td>1</td>\n",
              "    </tr>\n",
              "  </tbody>\n",
              "</table>\n",
              "</div>\n",
              "      <button class=\"colab-df-convert\" onclick=\"convertToInteractive('df-9e71f7c7-a892-4470-b98a-9e9d756cc16a')\"\n",
              "              title=\"Convert this dataframe to an interactive table.\"\n",
              "              style=\"display:none;\">\n",
              "        \n",
              "  <svg xmlns=\"http://www.w3.org/2000/svg\" height=\"24px\"viewBox=\"0 0 24 24\"\n",
              "       width=\"24px\">\n",
              "    <path d=\"M0 0h24v24H0V0z\" fill=\"none\"/>\n",
              "    <path d=\"M18.56 5.44l.94 2.06.94-2.06 2.06-.94-2.06-.94-.94-2.06-.94 2.06-2.06.94zm-11 1L8.5 8.5l.94-2.06 2.06-.94-2.06-.94L8.5 2.5l-.94 2.06-2.06.94zm10 10l.94 2.06.94-2.06 2.06-.94-2.06-.94-.94-2.06-.94 2.06-2.06.94z\"/><path d=\"M17.41 7.96l-1.37-1.37c-.4-.4-.92-.59-1.43-.59-.52 0-1.04.2-1.43.59L10.3 9.45l-7.72 7.72c-.78.78-.78 2.05 0 2.83L4 21.41c.39.39.9.59 1.41.59.51 0 1.02-.2 1.41-.59l7.78-7.78 2.81-2.81c.8-.78.8-2.07 0-2.86zM5.41 20L4 18.59l7.72-7.72 1.47 1.35L5.41 20z\"/>\n",
              "  </svg>\n",
              "      </button>\n",
              "      \n",
              "  <style>\n",
              "    .colab-df-container {\n",
              "      display:flex;\n",
              "      flex-wrap:wrap;\n",
              "      gap: 12px;\n",
              "    }\n",
              "\n",
              "    .colab-df-convert {\n",
              "      background-color: #E8F0FE;\n",
              "      border: none;\n",
              "      border-radius: 50%;\n",
              "      cursor: pointer;\n",
              "      display: none;\n",
              "      fill: #1967D2;\n",
              "      height: 32px;\n",
              "      padding: 0 0 0 0;\n",
              "      width: 32px;\n",
              "    }\n",
              "\n",
              "    .colab-df-convert:hover {\n",
              "      background-color: #E2EBFA;\n",
              "      box-shadow: 0px 1px 2px rgba(60, 64, 67, 0.3), 0px 1px 3px 1px rgba(60, 64, 67, 0.15);\n",
              "      fill: #174EA6;\n",
              "    }\n",
              "\n",
              "    [theme=dark] .colab-df-convert {\n",
              "      background-color: #3B4455;\n",
              "      fill: #D2E3FC;\n",
              "    }\n",
              "\n",
              "    [theme=dark] .colab-df-convert:hover {\n",
              "      background-color: #434B5C;\n",
              "      box-shadow: 0px 1px 3px 1px rgba(0, 0, 0, 0.15);\n",
              "      filter: drop-shadow(0px 1px 2px rgba(0, 0, 0, 0.3));\n",
              "      fill: #FFFFFF;\n",
              "    }\n",
              "  </style>\n",
              "\n",
              "      <script>\n",
              "        const buttonEl =\n",
              "          document.querySelector('#df-9e71f7c7-a892-4470-b98a-9e9d756cc16a button.colab-df-convert');\n",
              "        buttonEl.style.display =\n",
              "          google.colab.kernel.accessAllowed ? 'block' : 'none';\n",
              "\n",
              "        async function convertToInteractive(key) {\n",
              "          const element = document.querySelector('#df-9e71f7c7-a892-4470-b98a-9e9d756cc16a');\n",
              "          const dataTable =\n",
              "            await google.colab.kernel.invokeFunction('convertToInteractive',\n",
              "                                                     [key], {});\n",
              "          if (!dataTable) return;\n",
              "\n",
              "          const docLinkHtml = 'Like what you see? Visit the ' +\n",
              "            '<a target=\"_blank\" href=https://colab.research.google.com/notebooks/data_table.ipynb>data table notebook</a>'\n",
              "            + ' to learn more about interactive tables.';\n",
              "          element.innerHTML = '';\n",
              "          dataTable['output_type'] = 'display_data';\n",
              "          await google.colab.output.renderOutput(dataTable, element);\n",
              "          const docLink = document.createElement('div');\n",
              "          docLink.innerHTML = docLinkHtml;\n",
              "          element.appendChild(docLink);\n",
              "        }\n",
              "      </script>\n",
              "    </div>\n",
              "  </div>\n",
              "  "
            ]
          },
          "metadata": {},
          "execution_count": 417
        }
      ]
    },
    {
      "cell_type": "markdown",
      "source": [
        "`Porcentage de reeleitos por raça`"
      ],
      "metadata": {
        "id": "J5vYoGmM9JO4"
      }
    },
    {
      "cell_type": "code",
      "source": [
        "candidatos_eleitos = candidatos_goias[candidatos_goias['ST_REELEICAO'] == \"S\"]\n",
        "candidatos_eleitos['DS_COR_RACA'].value_counts() / candidatos_eleitos['ANO_ELEICAO'].count() * 100"
      ],
      "metadata": {
        "colab": {
          "base_uri": "https://localhost:8080/"
        },
        "id": "3dTxvjoQ7jJW",
        "outputId": "97da1b6b-ba12-464a-846c-2d32ce925dc8"
      },
      "execution_count": 431,
      "outputs": [
        {
          "output_type": "execute_result",
          "data": {
            "text/plain": [
              "BRANCA           39.452496\n",
              "PARDA            39.452496\n",
              "#NE#             14.949007\n",
              "PRETA             5.072464\n",
              "AMARELA           0.858830\n",
              "NÃO INFORMADO     0.214707\n",
              "Name: DS_COR_RACA, dtype: float64"
            ]
          },
          "metadata": {},
          "execution_count": 431
        }
      ]
    },
    {
      "cell_type": "markdown",
      "source": [
        "`Genero dos candidatos por raça `"
      ],
      "metadata": {
        "id": "bS0izJLk2N68"
      }
    },
    {
      "cell_type": "code",
      "source": [
        "#Utilizando sql para contabilizar quantidade de Genero candidatos por raça \n",
        "query = \"\"\"SELECT DS_GENERO, DS_COR_RACA, COUNT(DS_COR_RACA)  as total_genero_raça\n",
        "           FROM candidatos_goias\n",
        "           GROUP BY DS_COR_RACA, DS_GENERO\n",
        "           ORDER BY DS_COR_RACA,DS_GENERO, COUNT(DS_COR_RACA) DESC\"\"\"\n",
        "ps.sqldf(query.lower(), locals())"
      ],
      "metadata": {
        "colab": {
          "base_uri": "https://localhost:8080/",
          "height": 488
        },
        "id": "Zolpjnyh1tnn",
        "outputId": "c41fb427-a345-4b38-bbb3-3fa173ca01ef"
      },
      "execution_count": 416,
      "outputs": [
        {
          "output_type": "execute_result",
          "data": {
            "text/plain": [
              "    DS_GENERO    DS_COR_RACA  total_genero_raça\n",
              "0    FEMININO           #NE#               6620\n",
              "1   MASCULINO           #NE#              14768\n",
              "2    FEMININO        AMARELA                140\n",
              "3   MASCULINO        AMARELA                272\n",
              "4    FEMININO         BRANCA               7103\n",
              "5   MASCULINO         BRANCA              12985\n",
              "6    FEMININO       INDÍGENA                 20\n",
              "7   MASCULINO       INDÍGENA                 23\n",
              "8    FEMININO  NÃO INFORMADO                 58\n",
              "9   MASCULINO  NÃO INFORMADO                119\n",
              "10   FEMININO          PARDA               7699\n",
              "11  MASCULINO          PARDA              16995\n",
              "12   FEMININO          PRETA               1361\n",
              "13  MASCULINO          PRETA               2966"
            ],
            "text/html": [
              "\n",
              "  <div id=\"df-bb050840-4157-4f92-a686-2672914450a3\">\n",
              "    <div class=\"colab-df-container\">\n",
              "      <div>\n",
              "<style scoped>\n",
              "    .dataframe tbody tr th:only-of-type {\n",
              "        vertical-align: middle;\n",
              "    }\n",
              "\n",
              "    .dataframe tbody tr th {\n",
              "        vertical-align: top;\n",
              "    }\n",
              "\n",
              "    .dataframe thead th {\n",
              "        text-align: right;\n",
              "    }\n",
              "</style>\n",
              "<table border=\"1\" class=\"dataframe\">\n",
              "  <thead>\n",
              "    <tr style=\"text-align: right;\">\n",
              "      <th></th>\n",
              "      <th>DS_GENERO</th>\n",
              "      <th>DS_COR_RACA</th>\n",
              "      <th>total_genero_raça</th>\n",
              "    </tr>\n",
              "  </thead>\n",
              "  <tbody>\n",
              "    <tr>\n",
              "      <th>0</th>\n",
              "      <td>FEMININO</td>\n",
              "      <td>#NE#</td>\n",
              "      <td>6620</td>\n",
              "    </tr>\n",
              "    <tr>\n",
              "      <th>1</th>\n",
              "      <td>MASCULINO</td>\n",
              "      <td>#NE#</td>\n",
              "      <td>14768</td>\n",
              "    </tr>\n",
              "    <tr>\n",
              "      <th>2</th>\n",
              "      <td>FEMININO</td>\n",
              "      <td>AMARELA</td>\n",
              "      <td>140</td>\n",
              "    </tr>\n",
              "    <tr>\n",
              "      <th>3</th>\n",
              "      <td>MASCULINO</td>\n",
              "      <td>AMARELA</td>\n",
              "      <td>272</td>\n",
              "    </tr>\n",
              "    <tr>\n",
              "      <th>4</th>\n",
              "      <td>FEMININO</td>\n",
              "      <td>BRANCA</td>\n",
              "      <td>7103</td>\n",
              "    </tr>\n",
              "    <tr>\n",
              "      <th>5</th>\n",
              "      <td>MASCULINO</td>\n",
              "      <td>BRANCA</td>\n",
              "      <td>12985</td>\n",
              "    </tr>\n",
              "    <tr>\n",
              "      <th>6</th>\n",
              "      <td>FEMININO</td>\n",
              "      <td>INDÍGENA</td>\n",
              "      <td>20</td>\n",
              "    </tr>\n",
              "    <tr>\n",
              "      <th>7</th>\n",
              "      <td>MASCULINO</td>\n",
              "      <td>INDÍGENA</td>\n",
              "      <td>23</td>\n",
              "    </tr>\n",
              "    <tr>\n",
              "      <th>8</th>\n",
              "      <td>FEMININO</td>\n",
              "      <td>NÃO INFORMADO</td>\n",
              "      <td>58</td>\n",
              "    </tr>\n",
              "    <tr>\n",
              "      <th>9</th>\n",
              "      <td>MASCULINO</td>\n",
              "      <td>NÃO INFORMADO</td>\n",
              "      <td>119</td>\n",
              "    </tr>\n",
              "    <tr>\n",
              "      <th>10</th>\n",
              "      <td>FEMININO</td>\n",
              "      <td>PARDA</td>\n",
              "      <td>7699</td>\n",
              "    </tr>\n",
              "    <tr>\n",
              "      <th>11</th>\n",
              "      <td>MASCULINO</td>\n",
              "      <td>PARDA</td>\n",
              "      <td>16995</td>\n",
              "    </tr>\n",
              "    <tr>\n",
              "      <th>12</th>\n",
              "      <td>FEMININO</td>\n",
              "      <td>PRETA</td>\n",
              "      <td>1361</td>\n",
              "    </tr>\n",
              "    <tr>\n",
              "      <th>13</th>\n",
              "      <td>MASCULINO</td>\n",
              "      <td>PRETA</td>\n",
              "      <td>2966</td>\n",
              "    </tr>\n",
              "  </tbody>\n",
              "</table>\n",
              "</div>\n",
              "      <button class=\"colab-df-convert\" onclick=\"convertToInteractive('df-bb050840-4157-4f92-a686-2672914450a3')\"\n",
              "              title=\"Convert this dataframe to an interactive table.\"\n",
              "              style=\"display:none;\">\n",
              "        \n",
              "  <svg xmlns=\"http://www.w3.org/2000/svg\" height=\"24px\"viewBox=\"0 0 24 24\"\n",
              "       width=\"24px\">\n",
              "    <path d=\"M0 0h24v24H0V0z\" fill=\"none\"/>\n",
              "    <path d=\"M18.56 5.44l.94 2.06.94-2.06 2.06-.94-2.06-.94-.94-2.06-.94 2.06-2.06.94zm-11 1L8.5 8.5l.94-2.06 2.06-.94-2.06-.94L8.5 2.5l-.94 2.06-2.06.94zm10 10l.94 2.06.94-2.06 2.06-.94-2.06-.94-.94-2.06-.94 2.06-2.06.94z\"/><path d=\"M17.41 7.96l-1.37-1.37c-.4-.4-.92-.59-1.43-.59-.52 0-1.04.2-1.43.59L10.3 9.45l-7.72 7.72c-.78.78-.78 2.05 0 2.83L4 21.41c.39.39.9.59 1.41.59.51 0 1.02-.2 1.41-.59l7.78-7.78 2.81-2.81c.8-.78.8-2.07 0-2.86zM5.41 20L4 18.59l7.72-7.72 1.47 1.35L5.41 20z\"/>\n",
              "  </svg>\n",
              "      </button>\n",
              "      \n",
              "  <style>\n",
              "    .colab-df-container {\n",
              "      display:flex;\n",
              "      flex-wrap:wrap;\n",
              "      gap: 12px;\n",
              "    }\n",
              "\n",
              "    .colab-df-convert {\n",
              "      background-color: #E8F0FE;\n",
              "      border: none;\n",
              "      border-radius: 50%;\n",
              "      cursor: pointer;\n",
              "      display: none;\n",
              "      fill: #1967D2;\n",
              "      height: 32px;\n",
              "      padding: 0 0 0 0;\n",
              "      width: 32px;\n",
              "    }\n",
              "\n",
              "    .colab-df-convert:hover {\n",
              "      background-color: #E2EBFA;\n",
              "      box-shadow: 0px 1px 2px rgba(60, 64, 67, 0.3), 0px 1px 3px 1px rgba(60, 64, 67, 0.15);\n",
              "      fill: #174EA6;\n",
              "    }\n",
              "\n",
              "    [theme=dark] .colab-df-convert {\n",
              "      background-color: #3B4455;\n",
              "      fill: #D2E3FC;\n",
              "    }\n",
              "\n",
              "    [theme=dark] .colab-df-convert:hover {\n",
              "      background-color: #434B5C;\n",
              "      box-shadow: 0px 1px 3px 1px rgba(0, 0, 0, 0.15);\n",
              "      filter: drop-shadow(0px 1px 2px rgba(0, 0, 0, 0.3));\n",
              "      fill: #FFFFFF;\n",
              "    }\n",
              "  </style>\n",
              "\n",
              "      <script>\n",
              "        const buttonEl =\n",
              "          document.querySelector('#df-bb050840-4157-4f92-a686-2672914450a3 button.colab-df-convert');\n",
              "        buttonEl.style.display =\n",
              "          google.colab.kernel.accessAllowed ? 'block' : 'none';\n",
              "\n",
              "        async function convertToInteractive(key) {\n",
              "          const element = document.querySelector('#df-bb050840-4157-4f92-a686-2672914450a3');\n",
              "          const dataTable =\n",
              "            await google.colab.kernel.invokeFunction('convertToInteractive',\n",
              "                                                     [key], {});\n",
              "          if (!dataTable) return;\n",
              "\n",
              "          const docLinkHtml = 'Like what you see? Visit the ' +\n",
              "            '<a target=\"_blank\" href=https://colab.research.google.com/notebooks/data_table.ipynb>data table notebook</a>'\n",
              "            + ' to learn more about interactive tables.';\n",
              "          element.innerHTML = '';\n",
              "          dataTable['output_type'] = 'display_data';\n",
              "          await google.colab.output.renderOutput(dataTable, element);\n",
              "          const docLink = document.createElement('div');\n",
              "          docLink.innerHTML = docLinkHtml;\n",
              "          element.appendChild(docLink);\n",
              "        }\n",
              "      </script>\n",
              "    </div>\n",
              "  </div>\n",
              "  "
            ]
          },
          "metadata": {},
          "execution_count": 416
        }
      ]
    },
    {
      "cell_type": "code",
      "source": [
        "#Utilizando sql para contabilizar quantidade de Genero candidatos por raça e ano  \n",
        "query = \"\"\"SELECT ANO_ELEICAO, DS_GENERO, DS_COR_RACA, COUNT(DS_COR_RACA)  as total_genero_raça_ano\n",
        "           FROM candidatos_goias\n",
        "           GROUP BY DS_COR_RACA, DS_GENERO,ANO_ELEICAO\n",
        "           ORDER BY DS_COR_RACA,DS_GENERO,COUNT(DS_COR_RACA) DESC\"\"\"\n",
        "ps.sqldf(query.lower(), locals())"
      ],
      "metadata": {
        "colab": {
          "base_uri": "https://localhost:8080/",
          "height": 1000
        },
        "id": "j4hS7t4V2ojn",
        "outputId": "d10344f6-8c08-4f4a-d757-deee46845c4e"
      },
      "execution_count": 420,
      "outputs": [
        {
          "output_type": "execute_result",
          "data": {
            "text/plain": [
              "    ANO_ELEICAO  DS_GENERO    DS_COR_RACA  total_genero_raça_ano\n",
              "0          2012   FEMININO           #NE#                   6458\n",
              "1          2010   FEMININO           #NE#                    162\n",
              "2          2012  MASCULINO           #NE#                  14086\n",
              "3          2010  MASCULINO           #NE#                    682\n",
              "4          2020   FEMININO        AMARELA                     75\n",
              "5          2016   FEMININO        AMARELA                     60\n",
              "6          2022   FEMININO        AMARELA                      5\n",
              "7          2016  MASCULINO        AMARELA                    149\n",
              "8          2020  MASCULINO        AMARELA                    111\n",
              "9          2018  MASCULINO        AMARELA                      6\n",
              "10         2014  MASCULINO        AMARELA                      3\n",
              "11         2022  MASCULINO        AMARELA                      3\n",
              "12         2020   FEMININO         BRANCA                   3489\n",
              "13         2016   FEMININO         BRANCA                   3030\n",
              "14         2018   FEMININO         BRANCA                    209\n",
              "15         2022   FEMININO         BRANCA                    205\n",
              "16         2014   FEMININO         BRANCA                    170\n",
              "17         2020  MASCULINO         BRANCA                   6022\n",
              "18         2016  MASCULINO         BRANCA                   5743\n",
              "19         2014  MASCULINO         BRANCA                    436\n",
              "20         2018  MASCULINO         BRANCA                    411\n",
              "21         2022  MASCULINO         BRANCA                    373\n",
              "22         2020   FEMININO       INDÍGENA                      9\n",
              "23         2016   FEMININO       INDÍGENA                      8\n",
              "24         2014   FEMININO       INDÍGENA                      3\n",
              "25         2020  MASCULINO       INDÍGENA                     14\n",
              "26         2016  MASCULINO       INDÍGENA                      8\n",
              "27         2022  MASCULINO       INDÍGENA                      1\n",
              "28         2020   FEMININO  NÃO INFORMADO                     57\n",
              "29         2022   FEMININO  NÃO INFORMADO                      1\n",
              "30         2020  MASCULINO  NÃO INFORMADO                    119\n",
              "31         2020   FEMININO          PARDA                   4022\n",
              "32         2016   FEMININO          PARDA                   3248\n",
              "33         2022   FEMININO          PARDA                    169\n",
              "34         2018   FEMININO          PARDA                    137\n",
              "35         2014   FEMININO          PARDA                    123\n",
              "36         2020  MASCULINO          PARDA                   8629\n",
              "37         2016  MASCULINO          PARDA                   7429\n",
              "38         2022  MASCULINO          PARDA                    342\n",
              "39         2018  MASCULINO          PARDA                    325\n",
              "40         2014  MASCULINO          PARDA                    270\n",
              "41         2020   FEMININO          PRETA                    759\n",
              "42         2016   FEMININO          PRETA                    479\n",
              "43         2022   FEMININO          PRETA                     60\n",
              "44         2018   FEMININO          PRETA                     40\n",
              "45         2014   FEMININO          PRETA                     23\n",
              "46         2020  MASCULINO          PRETA                   1635\n",
              "47         2016  MASCULINO          PRETA                   1153\n",
              "48         2022  MASCULINO          PRETA                     77\n",
              "49         2018  MASCULINO          PRETA                     65\n",
              "50         2014  MASCULINO          PRETA                     36"
            ],
            "text/html": [
              "\n",
              "  <div id=\"df-3114a4b5-4a96-4d66-a82a-56a432bff20d\">\n",
              "    <div class=\"colab-df-container\">\n",
              "      <div>\n",
              "<style scoped>\n",
              "    .dataframe tbody tr th:only-of-type {\n",
              "        vertical-align: middle;\n",
              "    }\n",
              "\n",
              "    .dataframe tbody tr th {\n",
              "        vertical-align: top;\n",
              "    }\n",
              "\n",
              "    .dataframe thead th {\n",
              "        text-align: right;\n",
              "    }\n",
              "</style>\n",
              "<table border=\"1\" class=\"dataframe\">\n",
              "  <thead>\n",
              "    <tr style=\"text-align: right;\">\n",
              "      <th></th>\n",
              "      <th>ANO_ELEICAO</th>\n",
              "      <th>DS_GENERO</th>\n",
              "      <th>DS_COR_RACA</th>\n",
              "      <th>total_genero_raça_ano</th>\n",
              "    </tr>\n",
              "  </thead>\n",
              "  <tbody>\n",
              "    <tr>\n",
              "      <th>0</th>\n",
              "      <td>2012</td>\n",
              "      <td>FEMININO</td>\n",
              "      <td>#NE#</td>\n",
              "      <td>6458</td>\n",
              "    </tr>\n",
              "    <tr>\n",
              "      <th>1</th>\n",
              "      <td>2010</td>\n",
              "      <td>FEMININO</td>\n",
              "      <td>#NE#</td>\n",
              "      <td>162</td>\n",
              "    </tr>\n",
              "    <tr>\n",
              "      <th>2</th>\n",
              "      <td>2012</td>\n",
              "      <td>MASCULINO</td>\n",
              "      <td>#NE#</td>\n",
              "      <td>14086</td>\n",
              "    </tr>\n",
              "    <tr>\n",
              "      <th>3</th>\n",
              "      <td>2010</td>\n",
              "      <td>MASCULINO</td>\n",
              "      <td>#NE#</td>\n",
              "      <td>682</td>\n",
              "    </tr>\n",
              "    <tr>\n",
              "      <th>4</th>\n",
              "      <td>2020</td>\n",
              "      <td>FEMININO</td>\n",
              "      <td>AMARELA</td>\n",
              "      <td>75</td>\n",
              "    </tr>\n",
              "    <tr>\n",
              "      <th>5</th>\n",
              "      <td>2016</td>\n",
              "      <td>FEMININO</td>\n",
              "      <td>AMARELA</td>\n",
              "      <td>60</td>\n",
              "    </tr>\n",
              "    <tr>\n",
              "      <th>6</th>\n",
              "      <td>2022</td>\n",
              "      <td>FEMININO</td>\n",
              "      <td>AMARELA</td>\n",
              "      <td>5</td>\n",
              "    </tr>\n",
              "    <tr>\n",
              "      <th>7</th>\n",
              "      <td>2016</td>\n",
              "      <td>MASCULINO</td>\n",
              "      <td>AMARELA</td>\n",
              "      <td>149</td>\n",
              "    </tr>\n",
              "    <tr>\n",
              "      <th>8</th>\n",
              "      <td>2020</td>\n",
              "      <td>MASCULINO</td>\n",
              "      <td>AMARELA</td>\n",
              "      <td>111</td>\n",
              "    </tr>\n",
              "    <tr>\n",
              "      <th>9</th>\n",
              "      <td>2018</td>\n",
              "      <td>MASCULINO</td>\n",
              "      <td>AMARELA</td>\n",
              "      <td>6</td>\n",
              "    </tr>\n",
              "    <tr>\n",
              "      <th>10</th>\n",
              "      <td>2014</td>\n",
              "      <td>MASCULINO</td>\n",
              "      <td>AMARELA</td>\n",
              "      <td>3</td>\n",
              "    </tr>\n",
              "    <tr>\n",
              "      <th>11</th>\n",
              "      <td>2022</td>\n",
              "      <td>MASCULINO</td>\n",
              "      <td>AMARELA</td>\n",
              "      <td>3</td>\n",
              "    </tr>\n",
              "    <tr>\n",
              "      <th>12</th>\n",
              "      <td>2020</td>\n",
              "      <td>FEMININO</td>\n",
              "      <td>BRANCA</td>\n",
              "      <td>3489</td>\n",
              "    </tr>\n",
              "    <tr>\n",
              "      <th>13</th>\n",
              "      <td>2016</td>\n",
              "      <td>FEMININO</td>\n",
              "      <td>BRANCA</td>\n",
              "      <td>3030</td>\n",
              "    </tr>\n",
              "    <tr>\n",
              "      <th>14</th>\n",
              "      <td>2018</td>\n",
              "      <td>FEMININO</td>\n",
              "      <td>BRANCA</td>\n",
              "      <td>209</td>\n",
              "    </tr>\n",
              "    <tr>\n",
              "      <th>15</th>\n",
              "      <td>2022</td>\n",
              "      <td>FEMININO</td>\n",
              "      <td>BRANCA</td>\n",
              "      <td>205</td>\n",
              "    </tr>\n",
              "    <tr>\n",
              "      <th>16</th>\n",
              "      <td>2014</td>\n",
              "      <td>FEMININO</td>\n",
              "      <td>BRANCA</td>\n",
              "      <td>170</td>\n",
              "    </tr>\n",
              "    <tr>\n",
              "      <th>17</th>\n",
              "      <td>2020</td>\n",
              "      <td>MASCULINO</td>\n",
              "      <td>BRANCA</td>\n",
              "      <td>6022</td>\n",
              "    </tr>\n",
              "    <tr>\n",
              "      <th>18</th>\n",
              "      <td>2016</td>\n",
              "      <td>MASCULINO</td>\n",
              "      <td>BRANCA</td>\n",
              "      <td>5743</td>\n",
              "    </tr>\n",
              "    <tr>\n",
              "      <th>19</th>\n",
              "      <td>2014</td>\n",
              "      <td>MASCULINO</td>\n",
              "      <td>BRANCA</td>\n",
              "      <td>436</td>\n",
              "    </tr>\n",
              "    <tr>\n",
              "      <th>20</th>\n",
              "      <td>2018</td>\n",
              "      <td>MASCULINO</td>\n",
              "      <td>BRANCA</td>\n",
              "      <td>411</td>\n",
              "    </tr>\n",
              "    <tr>\n",
              "      <th>21</th>\n",
              "      <td>2022</td>\n",
              "      <td>MASCULINO</td>\n",
              "      <td>BRANCA</td>\n",
              "      <td>373</td>\n",
              "    </tr>\n",
              "    <tr>\n",
              "      <th>22</th>\n",
              "      <td>2020</td>\n",
              "      <td>FEMININO</td>\n",
              "      <td>INDÍGENA</td>\n",
              "      <td>9</td>\n",
              "    </tr>\n",
              "    <tr>\n",
              "      <th>23</th>\n",
              "      <td>2016</td>\n",
              "      <td>FEMININO</td>\n",
              "      <td>INDÍGENA</td>\n",
              "      <td>8</td>\n",
              "    </tr>\n",
              "    <tr>\n",
              "      <th>24</th>\n",
              "      <td>2014</td>\n",
              "      <td>FEMININO</td>\n",
              "      <td>INDÍGENA</td>\n",
              "      <td>3</td>\n",
              "    </tr>\n",
              "    <tr>\n",
              "      <th>25</th>\n",
              "      <td>2020</td>\n",
              "      <td>MASCULINO</td>\n",
              "      <td>INDÍGENA</td>\n",
              "      <td>14</td>\n",
              "    </tr>\n",
              "    <tr>\n",
              "      <th>26</th>\n",
              "      <td>2016</td>\n",
              "      <td>MASCULINO</td>\n",
              "      <td>INDÍGENA</td>\n",
              "      <td>8</td>\n",
              "    </tr>\n",
              "    <tr>\n",
              "      <th>27</th>\n",
              "      <td>2022</td>\n",
              "      <td>MASCULINO</td>\n",
              "      <td>INDÍGENA</td>\n",
              "      <td>1</td>\n",
              "    </tr>\n",
              "    <tr>\n",
              "      <th>28</th>\n",
              "      <td>2020</td>\n",
              "      <td>FEMININO</td>\n",
              "      <td>NÃO INFORMADO</td>\n",
              "      <td>57</td>\n",
              "    </tr>\n",
              "    <tr>\n",
              "      <th>29</th>\n",
              "      <td>2022</td>\n",
              "      <td>FEMININO</td>\n",
              "      <td>NÃO INFORMADO</td>\n",
              "      <td>1</td>\n",
              "    </tr>\n",
              "    <tr>\n",
              "      <th>30</th>\n",
              "      <td>2020</td>\n",
              "      <td>MASCULINO</td>\n",
              "      <td>NÃO INFORMADO</td>\n",
              "      <td>119</td>\n",
              "    </tr>\n",
              "    <tr>\n",
              "      <th>31</th>\n",
              "      <td>2020</td>\n",
              "      <td>FEMININO</td>\n",
              "      <td>PARDA</td>\n",
              "      <td>4022</td>\n",
              "    </tr>\n",
              "    <tr>\n",
              "      <th>32</th>\n",
              "      <td>2016</td>\n",
              "      <td>FEMININO</td>\n",
              "      <td>PARDA</td>\n",
              "      <td>3248</td>\n",
              "    </tr>\n",
              "    <tr>\n",
              "      <th>33</th>\n",
              "      <td>2022</td>\n",
              "      <td>FEMININO</td>\n",
              "      <td>PARDA</td>\n",
              "      <td>169</td>\n",
              "    </tr>\n",
              "    <tr>\n",
              "      <th>34</th>\n",
              "      <td>2018</td>\n",
              "      <td>FEMININO</td>\n",
              "      <td>PARDA</td>\n",
              "      <td>137</td>\n",
              "    </tr>\n",
              "    <tr>\n",
              "      <th>35</th>\n",
              "      <td>2014</td>\n",
              "      <td>FEMININO</td>\n",
              "      <td>PARDA</td>\n",
              "      <td>123</td>\n",
              "    </tr>\n",
              "    <tr>\n",
              "      <th>36</th>\n",
              "      <td>2020</td>\n",
              "      <td>MASCULINO</td>\n",
              "      <td>PARDA</td>\n",
              "      <td>8629</td>\n",
              "    </tr>\n",
              "    <tr>\n",
              "      <th>37</th>\n",
              "      <td>2016</td>\n",
              "      <td>MASCULINO</td>\n",
              "      <td>PARDA</td>\n",
              "      <td>7429</td>\n",
              "    </tr>\n",
              "    <tr>\n",
              "      <th>38</th>\n",
              "      <td>2022</td>\n",
              "      <td>MASCULINO</td>\n",
              "      <td>PARDA</td>\n",
              "      <td>342</td>\n",
              "    </tr>\n",
              "    <tr>\n",
              "      <th>39</th>\n",
              "      <td>2018</td>\n",
              "      <td>MASCULINO</td>\n",
              "      <td>PARDA</td>\n",
              "      <td>325</td>\n",
              "    </tr>\n",
              "    <tr>\n",
              "      <th>40</th>\n",
              "      <td>2014</td>\n",
              "      <td>MASCULINO</td>\n",
              "      <td>PARDA</td>\n",
              "      <td>270</td>\n",
              "    </tr>\n",
              "    <tr>\n",
              "      <th>41</th>\n",
              "      <td>2020</td>\n",
              "      <td>FEMININO</td>\n",
              "      <td>PRETA</td>\n",
              "      <td>759</td>\n",
              "    </tr>\n",
              "    <tr>\n",
              "      <th>42</th>\n",
              "      <td>2016</td>\n",
              "      <td>FEMININO</td>\n",
              "      <td>PRETA</td>\n",
              "      <td>479</td>\n",
              "    </tr>\n",
              "    <tr>\n",
              "      <th>43</th>\n",
              "      <td>2022</td>\n",
              "      <td>FEMININO</td>\n",
              "      <td>PRETA</td>\n",
              "      <td>60</td>\n",
              "    </tr>\n",
              "    <tr>\n",
              "      <th>44</th>\n",
              "      <td>2018</td>\n",
              "      <td>FEMININO</td>\n",
              "      <td>PRETA</td>\n",
              "      <td>40</td>\n",
              "    </tr>\n",
              "    <tr>\n",
              "      <th>45</th>\n",
              "      <td>2014</td>\n",
              "      <td>FEMININO</td>\n",
              "      <td>PRETA</td>\n",
              "      <td>23</td>\n",
              "    </tr>\n",
              "    <tr>\n",
              "      <th>46</th>\n",
              "      <td>2020</td>\n",
              "      <td>MASCULINO</td>\n",
              "      <td>PRETA</td>\n",
              "      <td>1635</td>\n",
              "    </tr>\n",
              "    <tr>\n",
              "      <th>47</th>\n",
              "      <td>2016</td>\n",
              "      <td>MASCULINO</td>\n",
              "      <td>PRETA</td>\n",
              "      <td>1153</td>\n",
              "    </tr>\n",
              "    <tr>\n",
              "      <th>48</th>\n",
              "      <td>2022</td>\n",
              "      <td>MASCULINO</td>\n",
              "      <td>PRETA</td>\n",
              "      <td>77</td>\n",
              "    </tr>\n",
              "    <tr>\n",
              "      <th>49</th>\n",
              "      <td>2018</td>\n",
              "      <td>MASCULINO</td>\n",
              "      <td>PRETA</td>\n",
              "      <td>65</td>\n",
              "    </tr>\n",
              "    <tr>\n",
              "      <th>50</th>\n",
              "      <td>2014</td>\n",
              "      <td>MASCULINO</td>\n",
              "      <td>PRETA</td>\n",
              "      <td>36</td>\n",
              "    </tr>\n",
              "  </tbody>\n",
              "</table>\n",
              "</div>\n",
              "      <button class=\"colab-df-convert\" onclick=\"convertToInteractive('df-3114a4b5-4a96-4d66-a82a-56a432bff20d')\"\n",
              "              title=\"Convert this dataframe to an interactive table.\"\n",
              "              style=\"display:none;\">\n",
              "        \n",
              "  <svg xmlns=\"http://www.w3.org/2000/svg\" height=\"24px\"viewBox=\"0 0 24 24\"\n",
              "       width=\"24px\">\n",
              "    <path d=\"M0 0h24v24H0V0z\" fill=\"none\"/>\n",
              "    <path d=\"M18.56 5.44l.94 2.06.94-2.06 2.06-.94-2.06-.94-.94-2.06-.94 2.06-2.06.94zm-11 1L8.5 8.5l.94-2.06 2.06-.94-2.06-.94L8.5 2.5l-.94 2.06-2.06.94zm10 10l.94 2.06.94-2.06 2.06-.94-2.06-.94-.94-2.06-.94 2.06-2.06.94z\"/><path d=\"M17.41 7.96l-1.37-1.37c-.4-.4-.92-.59-1.43-.59-.52 0-1.04.2-1.43.59L10.3 9.45l-7.72 7.72c-.78.78-.78 2.05 0 2.83L4 21.41c.39.39.9.59 1.41.59.51 0 1.02-.2 1.41-.59l7.78-7.78 2.81-2.81c.8-.78.8-2.07 0-2.86zM5.41 20L4 18.59l7.72-7.72 1.47 1.35L5.41 20z\"/>\n",
              "  </svg>\n",
              "      </button>\n",
              "      \n",
              "  <style>\n",
              "    .colab-df-container {\n",
              "      display:flex;\n",
              "      flex-wrap:wrap;\n",
              "      gap: 12px;\n",
              "    }\n",
              "\n",
              "    .colab-df-convert {\n",
              "      background-color: #E8F0FE;\n",
              "      border: none;\n",
              "      border-radius: 50%;\n",
              "      cursor: pointer;\n",
              "      display: none;\n",
              "      fill: #1967D2;\n",
              "      height: 32px;\n",
              "      padding: 0 0 0 0;\n",
              "      width: 32px;\n",
              "    }\n",
              "\n",
              "    .colab-df-convert:hover {\n",
              "      background-color: #E2EBFA;\n",
              "      box-shadow: 0px 1px 2px rgba(60, 64, 67, 0.3), 0px 1px 3px 1px rgba(60, 64, 67, 0.15);\n",
              "      fill: #174EA6;\n",
              "    }\n",
              "\n",
              "    [theme=dark] .colab-df-convert {\n",
              "      background-color: #3B4455;\n",
              "      fill: #D2E3FC;\n",
              "    }\n",
              "\n",
              "    [theme=dark] .colab-df-convert:hover {\n",
              "      background-color: #434B5C;\n",
              "      box-shadow: 0px 1px 3px 1px rgba(0, 0, 0, 0.15);\n",
              "      filter: drop-shadow(0px 1px 2px rgba(0, 0, 0, 0.3));\n",
              "      fill: #FFFFFF;\n",
              "    }\n",
              "  </style>\n",
              "\n",
              "      <script>\n",
              "        const buttonEl =\n",
              "          document.querySelector('#df-3114a4b5-4a96-4d66-a82a-56a432bff20d button.colab-df-convert');\n",
              "        buttonEl.style.display =\n",
              "          google.colab.kernel.accessAllowed ? 'block' : 'none';\n",
              "\n",
              "        async function convertToInteractive(key) {\n",
              "          const element = document.querySelector('#df-3114a4b5-4a96-4d66-a82a-56a432bff20d');\n",
              "          const dataTable =\n",
              "            await google.colab.kernel.invokeFunction('convertToInteractive',\n",
              "                                                     [key], {});\n",
              "          if (!dataTable) return;\n",
              "\n",
              "          const docLinkHtml = 'Like what you see? Visit the ' +\n",
              "            '<a target=\"_blank\" href=https://colab.research.google.com/notebooks/data_table.ipynb>data table notebook</a>'\n",
              "            + ' to learn more about interactive tables.';\n",
              "          element.innerHTML = '';\n",
              "          dataTable['output_type'] = 'display_data';\n",
              "          await google.colab.output.renderOutput(dataTable, element);\n",
              "          const docLink = document.createElement('div');\n",
              "          docLink.innerHTML = docLinkHtml;\n",
              "          element.appendChild(docLink);\n",
              "        }\n",
              "      </script>\n",
              "    </div>\n",
              "  </div>\n",
              "  "
            ]
          },
          "metadata": {},
          "execution_count": 420
        }
      ]
    },
    {
      "cell_type": "code",
      "source": [],
      "metadata": {
        "id": "pvyoD2Ft42gD"
      },
      "execution_count": null,
      "outputs": []
    }
  ]
}