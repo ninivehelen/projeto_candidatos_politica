{
  "nbformat": 4,
  "nbformat_minor": 0,
  "metadata": {
    "colab": {
      "provenance": [],
      "collapsed_sections": []
    },
    "kernelspec": {
      "name": "python3",
      "display_name": "Python 3"
    },
    "language_info": {
      "name": "python"
    }
  },
  "cells": [
    {
      "cell_type": "markdown",
      "source": [
        "`Projeto de análise de dados - Candidatos 1994 até 2008 - Goiás`\n",
        "\n",
        "\n",
        "\n",
        "\n",
        "\n"
      ],
      "metadata": {
        "id": "ad4rx_LDBWnQ"
      }
    },
    {
      "cell_type": "markdown",
      "source": [
        "`Como os dataframes estão separados, então serar feito a união deles ultilizando  o python, como eles possui a mesma quantidade de colunas e são os mesmos nomes isso será possível realizar `"
      ],
      "metadata": {
        "id": "VP1Z3LXwKsAV"
      }
    },
    {
      "cell_type": "markdown",
      "source": [
        "`Unindo os csv de 1994 até 2010 do estado de Goías`"
      ],
      "metadata": {
        "id": "WrmPPeVmLjhM"
      }
    },
    {
      "cell_type": "code",
      "source": [
        "#importando bibliotecas necessárias \n",
        "import os\n",
        "import glob\n",
        "import pandas as pd\n",
        "import seaborn as sns\n",
        "import matplotlib.pyplot as plt\n"
      ],
      "metadata": {
        "id": "PAC9hGPoLNR2"
      },
      "execution_count": 1,
      "outputs": []
    },
    {
      "cell_type": "code",
      "source": [
        "pip install pandasql"
      ],
      "metadata": {
        "id": "hjV2JvQNfi6q"
      },
      "execution_count": null,
      "outputs": []
    },
    {
      "cell_type": "code",
      "source": [
        "#Importando biblioteca para usar sql\n",
        "import pandasql as ps"
      ],
      "metadata": {
        "id": "h47TZP7-foBA"
      },
      "execution_count": 3,
      "outputs": []
    },
    {
      "cell_type": "code",
      "source": [
        "#Caminho dos arquivos\n",
        "caminho = os.getcwd()\n",
        "print(caminho)\n",
        "arquivos_csv = glob.glob(os.path.join(caminho+ \"/consulta_cand*.csv\")) \n",
        "print(arquivos_csv)"
      ],
      "metadata": {
        "colab": {
          "base_uri": "https://localhost:8080/"
        },
        "id": "H97VSSZ_WdzT",
        "outputId": "53914a1f-bca0-4e11-cf62-d3a3b59f6155"
      },
      "execution_count": null,
      "outputs": [
        {
          "output_type": "stream",
          "name": "stdout",
          "text": [
            "/content/candidatos_diretorio\n",
            "['/content/candidatos_diretorio/consulta_cand_1998_GO.csv', '/content/candidatos_diretorio/consulta_cand_1994_GO.csv', '/content/candidatos_diretorio/consulta_cand_2004_GO.csv', '/content/candidatos_diretorio/consulta_cand_2008_GO.csv', '/content/candidatos_diretorio/consulta_cand_2000_GO.csv', '/content/candidatos_diretorio/consulta_cand_1996_GO.csv', '/content/candidatos_diretorio/consulta_cand_2006_GO.csv', '/content/candidatos_diretorio/consulta_cand_2002_GO.csv']\n"
          ]
        }
      ]
    },
    {
      "cell_type": "code",
      "source": [
        "#codigo para unir o csv \n",
        "df_final = pd.DataFrame()\n",
        "for arquivo in arquivos_csv:\n",
        "        #print(arquivo)\n",
        "        #ler csv\n",
        "  df_temp = pd.read_csv(arquivo, sep=';',encoding=\"ISO-8859-1\",on_bad_lines='skip')\n",
        "  df_final = pd.concat([df_temp,df_final])\n",
        "print(\"unindo csv\")\n",
        "df_final.to_csv('/content/candidatos_diretorio/candidatos_goias_1994_2008.csv', sep=';',encoding=\"utf-8\",index=False)"
      ],
      "metadata": {
        "colab": {
          "base_uri": "https://localhost:8080/"
        },
        "id": "6a4ZXyhyWSfp",
        "outputId": "f94fc57a-7b4f-4ac5-f399-5f1042319284"
      },
      "execution_count": null,
      "outputs": [
        {
          "output_type": "stream",
          "name": "stderr",
          "text": [
            "/usr/local/lib/python3.7/dist-packages/IPython/core/interactiveshell.py:3326: DtypeWarning: Columns (40) have mixed types.Specify dtype option on import or set low_memory=False.\n",
            "  exec(code_obj, self.user_global_ns, self.user_ns)\n"
          ]
        },
        {
          "output_type": "stream",
          "name": "stdout",
          "text": [
            "unindo csv\n"
          ]
        }
      ]
    },
    {
      "cell_type": "markdown",
      "source": [
        "**Iniciando a análise dos dados, após a uniao dos csv - estado do Goiás**"
      ],
      "metadata": {
        "id": "MYxtf_WOX-qz"
      }
    },
    {
      "cell_type": "code",
      "source": [
        "#codigo para abrir todas as colunas do dataframe\n",
        "pd.set_option('display.max_columns', None)"
      ],
      "metadata": {
        "id": "A5f6OJ-1-Bau"
      },
      "execution_count": 5,
      "outputs": []
    },
    {
      "cell_type": "code",
      "execution_count": 6,
      "metadata": {
        "colab": {
          "base_uri": "https://localhost:8080/"
        },
        "id": "UQ-LLd9l8pMB",
        "outputId": "2da93ea1-86bc-4414-b436-6c722a0e2258"
      },
      "outputs": [
        {
          "output_type": "stream",
          "name": "stderr",
          "text": [
            "/usr/local/lib/python3.7/dist-packages/IPython/core/interactiveshell.py:3326: DtypeWarning: Columns (11,20,40) have mixed types.Specify dtype option on import or set low_memory=False.\n",
            "  exec(code_obj, self.user_global_ns, self.user_ns)\n"
          ]
        }
      ],
      "source": [
        "#carregamento do dataframe\n",
        "candidatos_goias = pd.read_csv(\"/content/candidatos_diretorio/candidatos_goias_1994_2008.csv\", sep=';',encoding=\"utf-8\",on_bad_lines='skip')"
      ]
    },
    {
      "cell_type": "code",
      "source": [
        "#leitura do dataframe\n",
        "candidatos_goias.head(6)"
      ],
      "metadata": {
        "id": "1to2j-mk8_eK",
        "colab": {
          "base_uri": "https://localhost:8080/",
          "height": 614
        },
        "outputId": "4a97a4d1-af06-4627-b126-81fcaf53d59d"
      },
      "execution_count": 7,
      "outputs": [
        {
          "output_type": "execute_result",
          "data": {
            "text/plain": [
              "   DT_GERACAO HH_GERACAO  ANO_ELEICAO  CD_TIPO_ELEICAO    NM_TIPO_ELEICAO  \\\n",
              "0  25/05/2021   17:43:09         2002                2  ELEIÇÃO ORDINÁRIA   \n",
              "1  25/05/2021   17:43:09         2002                2  ELEIÇÃO ORDINÁRIA   \n",
              "2  25/05/2021   17:43:09         2002                2  ELEIÇÃO ORDINÁRIA   \n",
              "3  25/05/2021   17:43:09         2002                2  ELEIÇÃO ORDINÁRIA   \n",
              "4  25/05/2021   17:43:09         2002                2  ELEIÇÃO ORDINÁRIA   \n",
              "5  25/05/2021   17:43:09         2002                2  ELEIÇÃO ORDINÁRIA   \n",
              "\n",
              "   NR_TURNO  CD_ELEICAO                           DS_ELEICAO  DT_ELEICAO  \\\n",
              "0         1      200201  Eleições Gerais 2002 Primeiro Turno  06/10/2002   \n",
              "1         1      200201  Eleições Gerais 2002 Primeiro Turno  06/10/2002   \n",
              "2         1      200201  Eleições Gerais 2002 Primeiro Turno  06/10/2002   \n",
              "3         1      200201  Eleições Gerais 2002 Primeiro Turno  06/10/2002   \n",
              "4         1      200201  Eleições Gerais 2002 Primeiro Turno  06/10/2002   \n",
              "5         1      200201  Eleições Gerais 2002 Primeiro Turno  06/10/2002   \n",
              "\n",
              "  TP_ABRANGENCIA SG_UF SG_UE  NM_UE  CD_CARGO           DS_CARGO  \\\n",
              "0        FEDERAL    GO    GO  GOIAS         7  DEPUTADO ESTADUAL   \n",
              "1        FEDERAL    GO    GO  GOIAS         7  DEPUTADO ESTADUAL   \n",
              "2        FEDERAL    GO    GO  GOIAS         6   DEPUTADO FEDERAL   \n",
              "3        FEDERAL    GO    GO  GOIAS         7  DEPUTADO ESTADUAL   \n",
              "4        FEDERAL    GO    GO  GOIAS         7  DEPUTADO ESTADUAL   \n",
              "5        FEDERAL    GO    GO  GOIAS         5            SENADOR   \n",
              "\n",
              "   SQ_CANDIDATO  NR_CANDIDATO                       NM_CANDIDATO  \\\n",
              "0           512         44113                  ERENITO DIAS REIS   \n",
              "1           638         33626         BENIVALDO RIBEIRO DE SOUZA   \n",
              "2           216          4044          ARNANDO TEIXEIRA DA SILVA   \n",
              "3           205         40440       FLORISVALDO PEREIRA DA SILVA   \n",
              "4           827         25801          REGINALDO FERREIRA ADORNO   \n",
              "5           632           131  CLELIA BRANDAO ALVARENGA CRAVEIRO   \n",
              "\n",
              "  NM_URNA_CANDIDATO NM_SOCIAL_CANDIDATO NR_CPF_CANDIDATO  \\\n",
              "0      ERENITO REIS                 #NE      11417498153   \n",
              "1              BENE                 #NE      20428227520   \n",
              "2           ARNANDO                 #NE      45069395149   \n",
              "3       FLORISVALDO                 #NE      50903438100   \n",
              "4           JACARÉ                  #NE      15445313115   \n",
              "5    CLÉLIA BRANDÃO                 #NE       6693563104   \n",
              "\n",
              "                    NM_EMAIL  CD_SITUACAO_CANDIDATURA DS_SITUACAO_CANDIDATURA  \\\n",
              "0                     #NULO#                       12                    APTO   \n",
              "1                     #NULO#                       12                    APTO   \n",
              "2                     #NULO#                       12                    APTO   \n",
              "3                     #NULO#                       12                    APTO   \n",
              "4                     #NULO#                       12                    APTO   \n",
              "5  CLELIACRAVEIRO@UOL.COM.BR                       12                    APTO   \n",
              "\n",
              "   CD_DETALHE_SITUACAO_CAND DS_DETALHE_SITUACAO_CAND TP_AGREMIACAO  \\\n",
              "0                         2                 DEFERIDO     COLIGAÇÃO   \n",
              "1                         2                 DEFERIDO     COLIGAÇÃO   \n",
              "2                         2                 DEFERIDO     COLIGAÇÃO   \n",
              "3                         2                 DEFERIDO     COLIGAÇÃO   \n",
              "4                         2                 DEFERIDO     COLIGAÇÃO   \n",
              "5                         2                 DEFERIDO     COLIGAÇÃO   \n",
              "\n",
              "   NR_PARTIDO SG_PARTIDO                        NM_PARTIDO  SQ_COLIGACAO  \\\n",
              "0          44        PRP  PARTIDO REPUBLICANO PROGRESSISTA            27   \n",
              "1          33        PMN   PARTIDO DA MOBILIZAÇÃO NACIONAL            31   \n",
              "2          40        PSB     PARTIDO SOCIALISTA BRASILEIRO            21   \n",
              "3          40        PSB     PARTIDO SOCIALISTA BRASILEIRO            21   \n",
              "4          25        PFL         PARTIDO DA FRENTE LIBERAL            26   \n",
              "5          13         PT         PARTIDO DOS TRABALHADORES            25   \n",
              "\n",
              "          NM_COLIGACAO                        DS_COMPOSICAO_COLIGACAO  \\\n",
              "0  ALIANÇA DEMOCRÁTICA            PSL / PST / PAN / PSDC / PRTB / PRP   \n",
              "1  FORÇA DO CERRADO II                            PTN / PMN / PT do B   \n",
              "2      GOIÁS ESPERANÇA                                PGT / PTC / PSB   \n",
              "3      GOIÁS ESPERANÇA                                PGT / PTC / PSB   \n",
              "4     PSDB / PPB / PFL                              PPB / PFL / PSDB    \n",
              "5     FORÇA DO CERRADO  PT / PTN / PCB / PMN / PV / PC do B / PT do B   \n",
              "\n",
              "   CD_NACIONALIDADE DS_NACIONALIDADE SG_UF_NASCIMENTO  \\\n",
              "0                 1  BRASILEIRA NATA               RJ   \n",
              "1                 1  BRASILEIRA NATA               BA   \n",
              "2                 1  BRASILEIRA NATA               GO   \n",
              "3                 1  BRASILEIRA NATA               GO   \n",
              "4                 1  BRASILEIRA NATA               GO   \n",
              "5                 1  BRASILEIRA NATA               GO   \n",
              "\n",
              "   CD_MUNICIPIO_NASCIMENTO NM_MUNICIPIO_NASCIMENTO DT_NASCIMENTO  \\\n",
              "0                       -3                  CAMPOS    16/05/1948   \n",
              "1                       -3         MORRO DO CHAPÉU    01/02/1956   \n",
              "2                       -3            PIRES DO RIO    16/03/1967   \n",
              "3                       -3            NOVA AMÉRICA    26/02/1969   \n",
              "4                       -3                   GOIÁS    07/06/1954   \n",
              "5                       -3                 INHUMAS    12/08/1949   \n",
              "\n",
              "   NR_IDADE_DATA_POSSE NR_TITULO_ELEITORAL_CANDIDATO  CD_GENERO  DS_GENERO  \\\n",
              "0                   54                  003418702070          2  MASCULINO   \n",
              "1                   46                  129889311023          2  MASCULINO   \n",
              "2                   35                  008082581082          2  MASCULINO   \n",
              "3                   33                  024584691007          2  MASCULINO   \n",
              "4                   48                  004715731007          2  MASCULINO   \n",
              "5                   53                  005018721023          4   FEMININO   \n",
              "\n",
              "   CD_GRAU_INSTRUCAO       DS_GRAU_INSTRUCAO  CD_ESTADO_CIVIL DS_ESTADO_CIVIL  \\\n",
              "0                  4    FUNDAMENTAL COMPLETO                3       CASADO(A)   \n",
              "1                  8       SUPERIOR COMPLETO                3       CASADO(A)   \n",
              "2                  5        MÉDIO INCOMPLETO                3       CASADO(A)   \n",
              "3                  3  FUNDAMENTAL INCOMPLETO                1     SOLTEIRO(A)   \n",
              "4                  5        MÉDIO INCOMPLETO                3       CASADO(A)   \n",
              "5                  8       SUPERIOR COMPLETO                3       CASADO(A)   \n",
              "\n",
              "   CD_COR_RACA DS_COR_RACA  CD_OCUPACAO                   DS_OCUPACAO  \\\n",
              "0           -3         #NE            0                 NÃO INFORMADA   \n",
              "1           -3         #NE            0                 NÃO INFORMADA   \n",
              "2           -3         #NE            0                 NÃO INFORMADA   \n",
              "3           -3         #NE            0                 NÃO INFORMADA   \n",
              "4           -3         #NE          201  SENADOR, DEPUTADO E VEREADOR   \n",
              "5           -3         #NE            0                 NÃO INFORMADA   \n",
              "\n",
              "   VR_DESPESA_MAX_CAMPANHA  CD_SIT_TOT_TURNO DS_SIT_TOT_TURNO ST_REELEICAO  \\\n",
              "0                 500000.0                 2         SUPLENTE            N   \n",
              "1                 300000.0                 4       NÃO ELEITO            N   \n",
              "2                 200000.0                 4       NÃO ELEITO            N   \n",
              "3                 100000.0                 2         SUPLENTE            N   \n",
              "4                 500000.0                 2         SUPLENTE            N   \n",
              "5                 150000.0                 4       NÃO ELEITO            N   \n",
              "\n",
              "  ST_DECLARAR_BENS  NR_PROTOCOLO_CANDIDATURA  NR_PROCESSO  \\\n",
              "0              #NE                        -3   1249522002   \n",
              "1              #NE                        -3   1245722002   \n",
              "2              #NE                        -3   1245172002   \n",
              "3              #NE                        -3   1245442002   \n",
              "4              #NE                        -3   1249612002   \n",
              "5              #NE                        -3   1245262002   \n",
              "\n",
              "   CD_SITUACAO_CANDIDATO_PLEITO DS_SITUACAO_CANDIDATO_PLEITO  \\\n",
              "0                            -3                          #NE   \n",
              "1                            -3                          #NE   \n",
              "2                            -3                          #NE   \n",
              "3                            -3                          #NE   \n",
              "4                            -3                          #NE   \n",
              "5                            -3                          #NE   \n",
              "\n",
              "   CD_SITUACAO_CANDIDATO_URNA DS_SITUACAO_CANDIDATO_URNA  \\\n",
              "0                          -3                        #NE   \n",
              "1                          -3                        #NE   \n",
              "2                          -3                        #NE   \n",
              "3                          -3                        #NE   \n",
              "4                          -3                        #NE   \n",
              "5                          -3                        #NE   \n",
              "\n",
              "  ST_CANDIDATO_INSERIDO_URNA  \n",
              "0                        SIM  \n",
              "1                        SIM  \n",
              "2                        SIM  \n",
              "3                        SIM  \n",
              "4                        SIM  \n",
              "5                        SIM  "
            ],
            "text/html": [
              "\n",
              "  <div id=\"df-d923f61f-312d-4abc-801c-cc8590acc51d\">\n",
              "    <div class=\"colab-df-container\">\n",
              "      <div>\n",
              "<style scoped>\n",
              "    .dataframe tbody tr th:only-of-type {\n",
              "        vertical-align: middle;\n",
              "    }\n",
              "\n",
              "    .dataframe tbody tr th {\n",
              "        vertical-align: top;\n",
              "    }\n",
              "\n",
              "    .dataframe thead th {\n",
              "        text-align: right;\n",
              "    }\n",
              "</style>\n",
              "<table border=\"1\" class=\"dataframe\">\n",
              "  <thead>\n",
              "    <tr style=\"text-align: right;\">\n",
              "      <th></th>\n",
              "      <th>DT_GERACAO</th>\n",
              "      <th>HH_GERACAO</th>\n",
              "      <th>ANO_ELEICAO</th>\n",
              "      <th>CD_TIPO_ELEICAO</th>\n",
              "      <th>NM_TIPO_ELEICAO</th>\n",
              "      <th>NR_TURNO</th>\n",
              "      <th>CD_ELEICAO</th>\n",
              "      <th>DS_ELEICAO</th>\n",
              "      <th>DT_ELEICAO</th>\n",
              "      <th>TP_ABRANGENCIA</th>\n",
              "      <th>SG_UF</th>\n",
              "      <th>SG_UE</th>\n",
              "      <th>NM_UE</th>\n",
              "      <th>CD_CARGO</th>\n",
              "      <th>DS_CARGO</th>\n",
              "      <th>SQ_CANDIDATO</th>\n",
              "      <th>NR_CANDIDATO</th>\n",
              "      <th>NM_CANDIDATO</th>\n",
              "      <th>NM_URNA_CANDIDATO</th>\n",
              "      <th>NM_SOCIAL_CANDIDATO</th>\n",
              "      <th>NR_CPF_CANDIDATO</th>\n",
              "      <th>NM_EMAIL</th>\n",
              "      <th>CD_SITUACAO_CANDIDATURA</th>\n",
              "      <th>DS_SITUACAO_CANDIDATURA</th>\n",
              "      <th>CD_DETALHE_SITUACAO_CAND</th>\n",
              "      <th>DS_DETALHE_SITUACAO_CAND</th>\n",
              "      <th>TP_AGREMIACAO</th>\n",
              "      <th>NR_PARTIDO</th>\n",
              "      <th>SG_PARTIDO</th>\n",
              "      <th>NM_PARTIDO</th>\n",
              "      <th>SQ_COLIGACAO</th>\n",
              "      <th>NM_COLIGACAO</th>\n",
              "      <th>DS_COMPOSICAO_COLIGACAO</th>\n",
              "      <th>CD_NACIONALIDADE</th>\n",
              "      <th>DS_NACIONALIDADE</th>\n",
              "      <th>SG_UF_NASCIMENTO</th>\n",
              "      <th>CD_MUNICIPIO_NASCIMENTO</th>\n",
              "      <th>NM_MUNICIPIO_NASCIMENTO</th>\n",
              "      <th>DT_NASCIMENTO</th>\n",
              "      <th>NR_IDADE_DATA_POSSE</th>\n",
              "      <th>NR_TITULO_ELEITORAL_CANDIDATO</th>\n",
              "      <th>CD_GENERO</th>\n",
              "      <th>DS_GENERO</th>\n",
              "      <th>CD_GRAU_INSTRUCAO</th>\n",
              "      <th>DS_GRAU_INSTRUCAO</th>\n",
              "      <th>CD_ESTADO_CIVIL</th>\n",
              "      <th>DS_ESTADO_CIVIL</th>\n",
              "      <th>CD_COR_RACA</th>\n",
              "      <th>DS_COR_RACA</th>\n",
              "      <th>CD_OCUPACAO</th>\n",
              "      <th>DS_OCUPACAO</th>\n",
              "      <th>VR_DESPESA_MAX_CAMPANHA</th>\n",
              "      <th>CD_SIT_TOT_TURNO</th>\n",
              "      <th>DS_SIT_TOT_TURNO</th>\n",
              "      <th>ST_REELEICAO</th>\n",
              "      <th>ST_DECLARAR_BENS</th>\n",
              "      <th>NR_PROTOCOLO_CANDIDATURA</th>\n",
              "      <th>NR_PROCESSO</th>\n",
              "      <th>CD_SITUACAO_CANDIDATO_PLEITO</th>\n",
              "      <th>DS_SITUACAO_CANDIDATO_PLEITO</th>\n",
              "      <th>CD_SITUACAO_CANDIDATO_URNA</th>\n",
              "      <th>DS_SITUACAO_CANDIDATO_URNA</th>\n",
              "      <th>ST_CANDIDATO_INSERIDO_URNA</th>\n",
              "    </tr>\n",
              "  </thead>\n",
              "  <tbody>\n",
              "    <tr>\n",
              "      <th>0</th>\n",
              "      <td>25/05/2021</td>\n",
              "      <td>17:43:09</td>\n",
              "      <td>2002</td>\n",
              "      <td>2</td>\n",
              "      <td>ELEIÇÃO ORDINÁRIA</td>\n",
              "      <td>1</td>\n",
              "      <td>200201</td>\n",
              "      <td>Eleições Gerais 2002 Primeiro Turno</td>\n",
              "      <td>06/10/2002</td>\n",
              "      <td>FEDERAL</td>\n",
              "      <td>GO</td>\n",
              "      <td>GO</td>\n",
              "      <td>GOIAS</td>\n",
              "      <td>7</td>\n",
              "      <td>DEPUTADO ESTADUAL</td>\n",
              "      <td>512</td>\n",
              "      <td>44113</td>\n",
              "      <td>ERENITO DIAS REIS</td>\n",
              "      <td>ERENITO REIS</td>\n",
              "      <td>#NE</td>\n",
              "      <td>11417498153</td>\n",
              "      <td>#NULO#</td>\n",
              "      <td>12</td>\n",
              "      <td>APTO</td>\n",
              "      <td>2</td>\n",
              "      <td>DEFERIDO</td>\n",
              "      <td>COLIGAÇÃO</td>\n",
              "      <td>44</td>\n",
              "      <td>PRP</td>\n",
              "      <td>PARTIDO REPUBLICANO PROGRESSISTA</td>\n",
              "      <td>27</td>\n",
              "      <td>ALIANÇA DEMOCRÁTICA</td>\n",
              "      <td>PSL / PST / PAN / PSDC / PRTB / PRP</td>\n",
              "      <td>1</td>\n",
              "      <td>BRASILEIRA NATA</td>\n",
              "      <td>RJ</td>\n",
              "      <td>-3</td>\n",
              "      <td>CAMPOS</td>\n",
              "      <td>16/05/1948</td>\n",
              "      <td>54</td>\n",
              "      <td>003418702070</td>\n",
              "      <td>2</td>\n",
              "      <td>MASCULINO</td>\n",
              "      <td>4</td>\n",
              "      <td>FUNDAMENTAL COMPLETO</td>\n",
              "      <td>3</td>\n",
              "      <td>CASADO(A)</td>\n",
              "      <td>-3</td>\n",
              "      <td>#NE</td>\n",
              "      <td>0</td>\n",
              "      <td>NÃO INFORMADA</td>\n",
              "      <td>500000.0</td>\n",
              "      <td>2</td>\n",
              "      <td>SUPLENTE</td>\n",
              "      <td>N</td>\n",
              "      <td>#NE</td>\n",
              "      <td>-3</td>\n",
              "      <td>1249522002</td>\n",
              "      <td>-3</td>\n",
              "      <td>#NE</td>\n",
              "      <td>-3</td>\n",
              "      <td>#NE</td>\n",
              "      <td>SIM</td>\n",
              "    </tr>\n",
              "    <tr>\n",
              "      <th>1</th>\n",
              "      <td>25/05/2021</td>\n",
              "      <td>17:43:09</td>\n",
              "      <td>2002</td>\n",
              "      <td>2</td>\n",
              "      <td>ELEIÇÃO ORDINÁRIA</td>\n",
              "      <td>1</td>\n",
              "      <td>200201</td>\n",
              "      <td>Eleições Gerais 2002 Primeiro Turno</td>\n",
              "      <td>06/10/2002</td>\n",
              "      <td>FEDERAL</td>\n",
              "      <td>GO</td>\n",
              "      <td>GO</td>\n",
              "      <td>GOIAS</td>\n",
              "      <td>7</td>\n",
              "      <td>DEPUTADO ESTADUAL</td>\n",
              "      <td>638</td>\n",
              "      <td>33626</td>\n",
              "      <td>BENIVALDO RIBEIRO DE SOUZA</td>\n",
              "      <td>BENE</td>\n",
              "      <td>#NE</td>\n",
              "      <td>20428227520</td>\n",
              "      <td>#NULO#</td>\n",
              "      <td>12</td>\n",
              "      <td>APTO</td>\n",
              "      <td>2</td>\n",
              "      <td>DEFERIDO</td>\n",
              "      <td>COLIGAÇÃO</td>\n",
              "      <td>33</td>\n",
              "      <td>PMN</td>\n",
              "      <td>PARTIDO DA MOBILIZAÇÃO NACIONAL</td>\n",
              "      <td>31</td>\n",
              "      <td>FORÇA DO CERRADO II</td>\n",
              "      <td>PTN / PMN / PT do B</td>\n",
              "      <td>1</td>\n",
              "      <td>BRASILEIRA NATA</td>\n",
              "      <td>BA</td>\n",
              "      <td>-3</td>\n",
              "      <td>MORRO DO CHAPÉU</td>\n",
              "      <td>01/02/1956</td>\n",
              "      <td>46</td>\n",
              "      <td>129889311023</td>\n",
              "      <td>2</td>\n",
              "      <td>MASCULINO</td>\n",
              "      <td>8</td>\n",
              "      <td>SUPERIOR COMPLETO</td>\n",
              "      <td>3</td>\n",
              "      <td>CASADO(A)</td>\n",
              "      <td>-3</td>\n",
              "      <td>#NE</td>\n",
              "      <td>0</td>\n",
              "      <td>NÃO INFORMADA</td>\n",
              "      <td>300000.0</td>\n",
              "      <td>4</td>\n",
              "      <td>NÃO ELEITO</td>\n",
              "      <td>N</td>\n",
              "      <td>#NE</td>\n",
              "      <td>-3</td>\n",
              "      <td>1245722002</td>\n",
              "      <td>-3</td>\n",
              "      <td>#NE</td>\n",
              "      <td>-3</td>\n",
              "      <td>#NE</td>\n",
              "      <td>SIM</td>\n",
              "    </tr>\n",
              "    <tr>\n",
              "      <th>2</th>\n",
              "      <td>25/05/2021</td>\n",
              "      <td>17:43:09</td>\n",
              "      <td>2002</td>\n",
              "      <td>2</td>\n",
              "      <td>ELEIÇÃO ORDINÁRIA</td>\n",
              "      <td>1</td>\n",
              "      <td>200201</td>\n",
              "      <td>Eleições Gerais 2002 Primeiro Turno</td>\n",
              "      <td>06/10/2002</td>\n",
              "      <td>FEDERAL</td>\n",
              "      <td>GO</td>\n",
              "      <td>GO</td>\n",
              "      <td>GOIAS</td>\n",
              "      <td>6</td>\n",
              "      <td>DEPUTADO FEDERAL</td>\n",
              "      <td>216</td>\n",
              "      <td>4044</td>\n",
              "      <td>ARNANDO TEIXEIRA DA SILVA</td>\n",
              "      <td>ARNANDO</td>\n",
              "      <td>#NE</td>\n",
              "      <td>45069395149</td>\n",
              "      <td>#NULO#</td>\n",
              "      <td>12</td>\n",
              "      <td>APTO</td>\n",
              "      <td>2</td>\n",
              "      <td>DEFERIDO</td>\n",
              "      <td>COLIGAÇÃO</td>\n",
              "      <td>40</td>\n",
              "      <td>PSB</td>\n",
              "      <td>PARTIDO SOCIALISTA BRASILEIRO</td>\n",
              "      <td>21</td>\n",
              "      <td>GOIÁS ESPERANÇA</td>\n",
              "      <td>PGT / PTC / PSB</td>\n",
              "      <td>1</td>\n",
              "      <td>BRASILEIRA NATA</td>\n",
              "      <td>GO</td>\n",
              "      <td>-3</td>\n",
              "      <td>PIRES DO RIO</td>\n",
              "      <td>16/03/1967</td>\n",
              "      <td>35</td>\n",
              "      <td>008082581082</td>\n",
              "      <td>2</td>\n",
              "      <td>MASCULINO</td>\n",
              "      <td>5</td>\n",
              "      <td>MÉDIO INCOMPLETO</td>\n",
              "      <td>3</td>\n",
              "      <td>CASADO(A)</td>\n",
              "      <td>-3</td>\n",
              "      <td>#NE</td>\n",
              "      <td>0</td>\n",
              "      <td>NÃO INFORMADA</td>\n",
              "      <td>200000.0</td>\n",
              "      <td>4</td>\n",
              "      <td>NÃO ELEITO</td>\n",
              "      <td>N</td>\n",
              "      <td>#NE</td>\n",
              "      <td>-3</td>\n",
              "      <td>1245172002</td>\n",
              "      <td>-3</td>\n",
              "      <td>#NE</td>\n",
              "      <td>-3</td>\n",
              "      <td>#NE</td>\n",
              "      <td>SIM</td>\n",
              "    </tr>\n",
              "    <tr>\n",
              "      <th>3</th>\n",
              "      <td>25/05/2021</td>\n",
              "      <td>17:43:09</td>\n",
              "      <td>2002</td>\n",
              "      <td>2</td>\n",
              "      <td>ELEIÇÃO ORDINÁRIA</td>\n",
              "      <td>1</td>\n",
              "      <td>200201</td>\n",
              "      <td>Eleições Gerais 2002 Primeiro Turno</td>\n",
              "      <td>06/10/2002</td>\n",
              "      <td>FEDERAL</td>\n",
              "      <td>GO</td>\n",
              "      <td>GO</td>\n",
              "      <td>GOIAS</td>\n",
              "      <td>7</td>\n",
              "      <td>DEPUTADO ESTADUAL</td>\n",
              "      <td>205</td>\n",
              "      <td>40440</td>\n",
              "      <td>FLORISVALDO PEREIRA DA SILVA</td>\n",
              "      <td>FLORISVALDO</td>\n",
              "      <td>#NE</td>\n",
              "      <td>50903438100</td>\n",
              "      <td>#NULO#</td>\n",
              "      <td>12</td>\n",
              "      <td>APTO</td>\n",
              "      <td>2</td>\n",
              "      <td>DEFERIDO</td>\n",
              "      <td>COLIGAÇÃO</td>\n",
              "      <td>40</td>\n",
              "      <td>PSB</td>\n",
              "      <td>PARTIDO SOCIALISTA BRASILEIRO</td>\n",
              "      <td>21</td>\n",
              "      <td>GOIÁS ESPERANÇA</td>\n",
              "      <td>PGT / PTC / PSB</td>\n",
              "      <td>1</td>\n",
              "      <td>BRASILEIRA NATA</td>\n",
              "      <td>GO</td>\n",
              "      <td>-3</td>\n",
              "      <td>NOVA AMÉRICA</td>\n",
              "      <td>26/02/1969</td>\n",
              "      <td>33</td>\n",
              "      <td>024584691007</td>\n",
              "      <td>2</td>\n",
              "      <td>MASCULINO</td>\n",
              "      <td>3</td>\n",
              "      <td>FUNDAMENTAL INCOMPLETO</td>\n",
              "      <td>1</td>\n",
              "      <td>SOLTEIRO(A)</td>\n",
              "      <td>-3</td>\n",
              "      <td>#NE</td>\n",
              "      <td>0</td>\n",
              "      <td>NÃO INFORMADA</td>\n",
              "      <td>100000.0</td>\n",
              "      <td>2</td>\n",
              "      <td>SUPLENTE</td>\n",
              "      <td>N</td>\n",
              "      <td>#NE</td>\n",
              "      <td>-3</td>\n",
              "      <td>1245442002</td>\n",
              "      <td>-3</td>\n",
              "      <td>#NE</td>\n",
              "      <td>-3</td>\n",
              "      <td>#NE</td>\n",
              "      <td>SIM</td>\n",
              "    </tr>\n",
              "    <tr>\n",
              "      <th>4</th>\n",
              "      <td>25/05/2021</td>\n",
              "      <td>17:43:09</td>\n",
              "      <td>2002</td>\n",
              "      <td>2</td>\n",
              "      <td>ELEIÇÃO ORDINÁRIA</td>\n",
              "      <td>1</td>\n",
              "      <td>200201</td>\n",
              "      <td>Eleições Gerais 2002 Primeiro Turno</td>\n",
              "      <td>06/10/2002</td>\n",
              "      <td>FEDERAL</td>\n",
              "      <td>GO</td>\n",
              "      <td>GO</td>\n",
              "      <td>GOIAS</td>\n",
              "      <td>7</td>\n",
              "      <td>DEPUTADO ESTADUAL</td>\n",
              "      <td>827</td>\n",
              "      <td>25801</td>\n",
              "      <td>REGINALDO FERREIRA ADORNO</td>\n",
              "      <td>JACARÉ</td>\n",
              "      <td>#NE</td>\n",
              "      <td>15445313115</td>\n",
              "      <td>#NULO#</td>\n",
              "      <td>12</td>\n",
              "      <td>APTO</td>\n",
              "      <td>2</td>\n",
              "      <td>DEFERIDO</td>\n",
              "      <td>COLIGAÇÃO</td>\n",
              "      <td>25</td>\n",
              "      <td>PFL</td>\n",
              "      <td>PARTIDO DA FRENTE LIBERAL</td>\n",
              "      <td>26</td>\n",
              "      <td>PSDB / PPB / PFL</td>\n",
              "      <td>PPB / PFL / PSDB</td>\n",
              "      <td>1</td>\n",
              "      <td>BRASILEIRA NATA</td>\n",
              "      <td>GO</td>\n",
              "      <td>-3</td>\n",
              "      <td>GOIÁS</td>\n",
              "      <td>07/06/1954</td>\n",
              "      <td>48</td>\n",
              "      <td>004715731007</td>\n",
              "      <td>2</td>\n",
              "      <td>MASCULINO</td>\n",
              "      <td>5</td>\n",
              "      <td>MÉDIO INCOMPLETO</td>\n",
              "      <td>3</td>\n",
              "      <td>CASADO(A)</td>\n",
              "      <td>-3</td>\n",
              "      <td>#NE</td>\n",
              "      <td>201</td>\n",
              "      <td>SENADOR, DEPUTADO E VEREADOR</td>\n",
              "      <td>500000.0</td>\n",
              "      <td>2</td>\n",
              "      <td>SUPLENTE</td>\n",
              "      <td>N</td>\n",
              "      <td>#NE</td>\n",
              "      <td>-3</td>\n",
              "      <td>1249612002</td>\n",
              "      <td>-3</td>\n",
              "      <td>#NE</td>\n",
              "      <td>-3</td>\n",
              "      <td>#NE</td>\n",
              "      <td>SIM</td>\n",
              "    </tr>\n",
              "    <tr>\n",
              "      <th>5</th>\n",
              "      <td>25/05/2021</td>\n",
              "      <td>17:43:09</td>\n",
              "      <td>2002</td>\n",
              "      <td>2</td>\n",
              "      <td>ELEIÇÃO ORDINÁRIA</td>\n",
              "      <td>1</td>\n",
              "      <td>200201</td>\n",
              "      <td>Eleições Gerais 2002 Primeiro Turno</td>\n",
              "      <td>06/10/2002</td>\n",
              "      <td>FEDERAL</td>\n",
              "      <td>GO</td>\n",
              "      <td>GO</td>\n",
              "      <td>GOIAS</td>\n",
              "      <td>5</td>\n",
              "      <td>SENADOR</td>\n",
              "      <td>632</td>\n",
              "      <td>131</td>\n",
              "      <td>CLELIA BRANDAO ALVARENGA CRAVEIRO</td>\n",
              "      <td>CLÉLIA BRANDÃO</td>\n",
              "      <td>#NE</td>\n",
              "      <td>6693563104</td>\n",
              "      <td>CLELIACRAVEIRO@UOL.COM.BR</td>\n",
              "      <td>12</td>\n",
              "      <td>APTO</td>\n",
              "      <td>2</td>\n",
              "      <td>DEFERIDO</td>\n",
              "      <td>COLIGAÇÃO</td>\n",
              "      <td>13</td>\n",
              "      <td>PT</td>\n",
              "      <td>PARTIDO DOS TRABALHADORES</td>\n",
              "      <td>25</td>\n",
              "      <td>FORÇA DO CERRADO</td>\n",
              "      <td>PT / PTN / PCB / PMN / PV / PC do B / PT do B</td>\n",
              "      <td>1</td>\n",
              "      <td>BRASILEIRA NATA</td>\n",
              "      <td>GO</td>\n",
              "      <td>-3</td>\n",
              "      <td>INHUMAS</td>\n",
              "      <td>12/08/1949</td>\n",
              "      <td>53</td>\n",
              "      <td>005018721023</td>\n",
              "      <td>4</td>\n",
              "      <td>FEMININO</td>\n",
              "      <td>8</td>\n",
              "      <td>SUPERIOR COMPLETO</td>\n",
              "      <td>3</td>\n",
              "      <td>CASADO(A)</td>\n",
              "      <td>-3</td>\n",
              "      <td>#NE</td>\n",
              "      <td>0</td>\n",
              "      <td>NÃO INFORMADA</td>\n",
              "      <td>150000.0</td>\n",
              "      <td>4</td>\n",
              "      <td>NÃO ELEITO</td>\n",
              "      <td>N</td>\n",
              "      <td>#NE</td>\n",
              "      <td>-3</td>\n",
              "      <td>1245262002</td>\n",
              "      <td>-3</td>\n",
              "      <td>#NE</td>\n",
              "      <td>-3</td>\n",
              "      <td>#NE</td>\n",
              "      <td>SIM</td>\n",
              "    </tr>\n",
              "  </tbody>\n",
              "</table>\n",
              "</div>\n",
              "      <button class=\"colab-df-convert\" onclick=\"convertToInteractive('df-d923f61f-312d-4abc-801c-cc8590acc51d')\"\n",
              "              title=\"Convert this dataframe to an interactive table.\"\n",
              "              style=\"display:none;\">\n",
              "        \n",
              "  <svg xmlns=\"http://www.w3.org/2000/svg\" height=\"24px\"viewBox=\"0 0 24 24\"\n",
              "       width=\"24px\">\n",
              "    <path d=\"M0 0h24v24H0V0z\" fill=\"none\"/>\n",
              "    <path d=\"M18.56 5.44l.94 2.06.94-2.06 2.06-.94-2.06-.94-.94-2.06-.94 2.06-2.06.94zm-11 1L8.5 8.5l.94-2.06 2.06-.94-2.06-.94L8.5 2.5l-.94 2.06-2.06.94zm10 10l.94 2.06.94-2.06 2.06-.94-2.06-.94-.94-2.06-.94 2.06-2.06.94z\"/><path d=\"M17.41 7.96l-1.37-1.37c-.4-.4-.92-.59-1.43-.59-.52 0-1.04.2-1.43.59L10.3 9.45l-7.72 7.72c-.78.78-.78 2.05 0 2.83L4 21.41c.39.39.9.59 1.41.59.51 0 1.02-.2 1.41-.59l7.78-7.78 2.81-2.81c.8-.78.8-2.07 0-2.86zM5.41 20L4 18.59l7.72-7.72 1.47 1.35L5.41 20z\"/>\n",
              "  </svg>\n",
              "      </button>\n",
              "      \n",
              "  <style>\n",
              "    .colab-df-container {\n",
              "      display:flex;\n",
              "      flex-wrap:wrap;\n",
              "      gap: 12px;\n",
              "    }\n",
              "\n",
              "    .colab-df-convert {\n",
              "      background-color: #E8F0FE;\n",
              "      border: none;\n",
              "      border-radius: 50%;\n",
              "      cursor: pointer;\n",
              "      display: none;\n",
              "      fill: #1967D2;\n",
              "      height: 32px;\n",
              "      padding: 0 0 0 0;\n",
              "      width: 32px;\n",
              "    }\n",
              "\n",
              "    .colab-df-convert:hover {\n",
              "      background-color: #E2EBFA;\n",
              "      box-shadow: 0px 1px 2px rgba(60, 64, 67, 0.3), 0px 1px 3px 1px rgba(60, 64, 67, 0.15);\n",
              "      fill: #174EA6;\n",
              "    }\n",
              "\n",
              "    [theme=dark] .colab-df-convert {\n",
              "      background-color: #3B4455;\n",
              "      fill: #D2E3FC;\n",
              "    }\n",
              "\n",
              "    [theme=dark] .colab-df-convert:hover {\n",
              "      background-color: #434B5C;\n",
              "      box-shadow: 0px 1px 3px 1px rgba(0, 0, 0, 0.15);\n",
              "      filter: drop-shadow(0px 1px 2px rgba(0, 0, 0, 0.3));\n",
              "      fill: #FFFFFF;\n",
              "    }\n",
              "  </style>\n",
              "\n",
              "      <script>\n",
              "        const buttonEl =\n",
              "          document.querySelector('#df-d923f61f-312d-4abc-801c-cc8590acc51d button.colab-df-convert');\n",
              "        buttonEl.style.display =\n",
              "          google.colab.kernel.accessAllowed ? 'block' : 'none';\n",
              "\n",
              "        async function convertToInteractive(key) {\n",
              "          const element = document.querySelector('#df-d923f61f-312d-4abc-801c-cc8590acc51d');\n",
              "          const dataTable =\n",
              "            await google.colab.kernel.invokeFunction('convertToInteractive',\n",
              "                                                     [key], {});\n",
              "          if (!dataTable) return;\n",
              "\n",
              "          const docLinkHtml = 'Like what you see? Visit the ' +\n",
              "            '<a target=\"_blank\" href=https://colab.research.google.com/notebooks/data_table.ipynb>data table notebook</a>'\n",
              "            + ' to learn more about interactive tables.';\n",
              "          element.innerHTML = '';\n",
              "          dataTable['output_type'] = 'display_data';\n",
              "          await google.colab.output.renderOutput(dataTable, element);\n",
              "          const docLink = document.createElement('div');\n",
              "          docLink.innerHTML = docLinkHtml;\n",
              "          element.appendChild(docLink);\n",
              "        }\n",
              "      </script>\n",
              "    </div>\n",
              "  </div>\n",
              "  "
            ]
          },
          "metadata": {},
          "execution_count": 7
        }
      ]
    },
    {
      "cell_type": "markdown",
      "source": [
        "`Analisando o dicionário dos dados, foi escolhido as colunas que melhor se aplicava para fazer a analise dos dados. Está colunas foram:`\n",
        "\n",
        "\n",
        "```\n",
        "# ANO_ELEICAO\n",
        "# CD_TIPO_ELEICAO\n",
        "# NR_TURNO\n",
        "# CD_ELEICAO\n",
        "# DS_ELEICAO\n",
        "# TP_ABRANGENCIA\n",
        "# SG_UF\n",
        "# SG_UE\n",
        "# NM_UE\n",
        "# NM_CANDIDATO\n",
        "# NM_URNA_CANDIDATO \n",
        "# CD_SITUACAO_CANDIDATURA\n",
        "# DS_SITUACAO_CANDIDATURA\n",
        "# SG_PARTIDO\n",
        "# NM_PARTIDO\n",
        "# DS_NACIONALIDADE\n",
        "# DT_NASCIMENTO\n",
        "# NR_IDADE_DATA_POSSE\n",
        "# DS_GENERO\n",
        "# DS_GRAU_INSTRUCAO\n",
        "# DS_ESTADO_CIVIL\n",
        "# DS_COR_RACA\n",
        "# DS_OCUPACAO\n",
        "# VR_DESPESA_MAX_CAMPANHA\n",
        "# DS_SIT_TOT_TURNO\n",
        "# ST_REELEICAO \n",
        "# DS_SITUACAO_CANDIDATO_URNA\n",
        "# ST_CANDIDATO_INSERIDO_URNA\n",
        "```\n",
        "\n",
        "\n",
        "\n",
        "\n",
        "\n"
      ],
      "metadata": {
        "id": "hSSilMH0BwCF"
      }
    },
    {
      "cell_type": "markdown",
      "source": [
        "**Adicionando aos dados a ideologia dos partidos**"
      ],
      "metadata": {
        "id": "c-6P5vUjL8aF"
      }
    },
    {
      "cell_type": "code",
      "source": [
        "candidatos_goias['SG_PARTIDO'].value_counts()"
      ],
      "metadata": {
        "colab": {
          "base_uri": "https://localhost:8080/"
        },
        "id": "Q8CwjovDMOVG",
        "outputId": "1cd7cf42-3ed8-46af-ec3e-6818b4877e94"
      },
      "execution_count": 8,
      "outputs": [
        {
          "output_type": "execute_result",
          "data": {
            "text/plain": [
              "PMDB       7122\n",
              "PSDB       6775\n",
              "PT         3789\n",
              "PFL        3340\n",
              "PP         3275\n",
              "PL         2911\n",
              "PPS        2608\n",
              "PTB        2572\n",
              "PDT        1797\n",
              "PSB        1696\n",
              "PPB        1670\n",
              "PR         1472\n",
              "PSC        1445\n",
              "PSDC       1179\n",
              "PSD         988\n",
              "DEM         971\n",
              "PTN         731\n",
              "PT do B     656\n",
              "PSL         596\n",
              "PHS         586\n",
              "PST         558\n",
              "PTC         517\n",
              "PMN         510\n",
              "PRP         481\n",
              "PV          476\n",
              "PRTB        452\n",
              "PC do B     429\n",
              "PRB         312\n",
              "PSOL        179\n",
              "PAN         120\n",
              "PGT          93\n",
              "PSTU         82\n",
              "PRONA        72\n",
              "PPR          51\n",
              "PCB          49\n",
              "PT DO B      42\n",
              "PCO          27\n",
              "PRN          17\n",
              "PC DO B      10\n",
              "Name: SG_PARTIDO, dtype: int64"
            ]
          },
          "metadata": {},
          "execution_count": 8
        }
      ]
    },
    {
      "cell_type": "code",
      "source": [
        "def buscar_ideologia_partido(coluna):\n",
        "    SG_PARTIDO = {'PMDB':       'CENTRO',\n",
        "                  'PSDB':       'CENTRO',\n",
        "                  'PT':        'ESQUERDA',\n",
        "                  'PFL':        'CENTRO',\n",
        "                  'PP':         'DIREITA',\n",
        "                  'PL':         'DIREITA',\n",
        "                  'PPS':        'CENTRO',\n",
        "                  'PTB':       'DIREITA',\n",
        "                  'PDT':        'ESQUERDA',\n",
        "                  'PSB':        'ESQUERDA',\n",
        "                  'PPB':        'CENTRO',\n",
        "                  'PR':        'CENTRO',\n",
        "                  'PSC':         'DIREITA',\n",
        "                  'PSDC':        'ESQUERDA',\n",
        "                  'PSD':         'DIREITA',\n",
        "                  'DEM':         'DIREITA',\n",
        "                  'PTN':         'ESQUERDA',\n",
        "                  'PT do B':     'CENTRO',\n",
        "                  'PSL':         'DIREITA',\n",
        "                  'PHS':         'CENTRO',\n",
        "                  'PST':         'ESQUERDA',\n",
        "                  'PTC':         'DIREITA',\n",
        "                  'PMN':         'ESQUERDA',\n",
        "                  'PRP':         'ESQUERDA',\n",
        "                  'PV':          'ESQUERDA',\n",
        "                  'PRTB':        'DIREITA',\n",
        "                  'PC do B':     'ESQUERDA',\n",
        "                  'PRB':         'DIREITA',\n",
        "                  'PSOL':        'ESQUERDA',\n",
        "                  'PAN':         'DIREITA',\n",
        "                  'PGT':         'CENTRO',\n",
        "                  'PSTU':         'ESQUERDA',\n",
        "                  'PRONA':        'CENTRO',\n",
        "                  'PPR':          'DIREITA',\n",
        "                  'PCB':         'ESQUERDA',\n",
        "                  'PT DO B':      'CENTRO',\n",
        "                  'PCO':         'ESQUERDA',\n",
        "                  'PRN':         'DIREITA',\n",
        "                  'PC DO B':      'ESQUERDA'}\n",
        "\n",
        "    return SG_PARTIDO[coluna]"
      ],
      "metadata": {
        "id": "-46MZ0XjMAdi"
      },
      "execution_count": 9,
      "outputs": []
    },
    {
      "cell_type": "code",
      "source": [
        "#Codigo para adicionar o espectro dos partidos ao dataframe\n",
        "lista = []\n",
        "for index, linha in candidatos_goias.iterrows():\n",
        "      valor = linha.SG_PARTIDO\n",
        "      espectro = buscar_ideologia_partido(f'{valor}')\n",
        "      lista.append(espectro)\n",
        "candidatos_goias['ESPECTRO_PARTIDOS']= lista"
      ],
      "metadata": {
        "id": "YFDmypx_L73I"
      },
      "execution_count": 10,
      "outputs": []
    },
    {
      "cell_type": "code",
      "source": [
        "#filtrando as colunas necessárias \n",
        "candidatos_goias = candidatos_goias[['ANO_ELEICAO','CD_TIPO_ELEICAO','NR_TURNO','CD_ELEICAO','DS_ELEICAO','TP_ABRANGENCIA','SG_UF', 'SG_UE','NM_UE','NM_CANDIDATO','NM_URNA_CANDIDATO','CD_SITUACAO_CANDIDATURA','DS_SITUACAO_CANDIDATURA','SG_PARTIDO','NM_PARTIDO','DS_NACIONALIDADE','DT_NASCIMENTO','NR_IDADE_DATA_POSSE','DS_GENERO','DS_GRAU_INSTRUCAO','DS_ESTADO_CIVIL','DS_COR_RACA','VR_DESPESA_MAX_CAMPANHA','DS_SIT_TOT_TURNO','ST_REELEICAO','DS_SITUACAO_CANDIDATO_URNA','ST_CANDIDATO_INSERIDO_URNA','ESPECTRO_PARTIDOS']]"
      ],
      "metadata": {
        "id": "rGHQNoxGDG1H"
      },
      "execution_count": 11,
      "outputs": []
    },
    {
      "cell_type": "code",
      "source": [
        "candidatos_goias.head(4)"
      ],
      "metadata": {
        "id": "etDR7gcMEMny",
        "colab": {
          "base_uri": "https://localhost:8080/",
          "height": 447
        },
        "outputId": "d686d756-febd-4fc2-e115-fe86e75b461d"
      },
      "execution_count": 12,
      "outputs": [
        {
          "output_type": "execute_result",
          "data": {
            "text/plain": [
              "   ANO_ELEICAO  CD_TIPO_ELEICAO  NR_TURNO  CD_ELEICAO  \\\n",
              "0         2002                2         1      200201   \n",
              "1         2002                2         1      200201   \n",
              "2         2002                2         1      200201   \n",
              "3         2002                2         1      200201   \n",
              "\n",
              "                            DS_ELEICAO TP_ABRANGENCIA SG_UF SG_UE  NM_UE  \\\n",
              "0  Eleições Gerais 2002 Primeiro Turno        FEDERAL    GO    GO  GOIAS   \n",
              "1  Eleições Gerais 2002 Primeiro Turno        FEDERAL    GO    GO  GOIAS   \n",
              "2  Eleições Gerais 2002 Primeiro Turno        FEDERAL    GO    GO  GOIAS   \n",
              "3  Eleições Gerais 2002 Primeiro Turno        FEDERAL    GO    GO  GOIAS   \n",
              "\n",
              "                   NM_CANDIDATO NM_URNA_CANDIDATO  CD_SITUACAO_CANDIDATURA  \\\n",
              "0             ERENITO DIAS REIS      ERENITO REIS                       12   \n",
              "1    BENIVALDO RIBEIRO DE SOUZA              BENE                       12   \n",
              "2     ARNANDO TEIXEIRA DA SILVA           ARNANDO                       12   \n",
              "3  FLORISVALDO PEREIRA DA SILVA       FLORISVALDO                       12   \n",
              "\n",
              "  DS_SITUACAO_CANDIDATURA SG_PARTIDO                        NM_PARTIDO  \\\n",
              "0                    APTO        PRP  PARTIDO REPUBLICANO PROGRESSISTA   \n",
              "1                    APTO        PMN   PARTIDO DA MOBILIZAÇÃO NACIONAL   \n",
              "2                    APTO        PSB     PARTIDO SOCIALISTA BRASILEIRO   \n",
              "3                    APTO        PSB     PARTIDO SOCIALISTA BRASILEIRO   \n",
              "\n",
              "  DS_NACIONALIDADE DT_NASCIMENTO  NR_IDADE_DATA_POSSE  DS_GENERO  \\\n",
              "0  BRASILEIRA NATA    16/05/1948                   54  MASCULINO   \n",
              "1  BRASILEIRA NATA    01/02/1956                   46  MASCULINO   \n",
              "2  BRASILEIRA NATA    16/03/1967                   35  MASCULINO   \n",
              "3  BRASILEIRA NATA    26/02/1969                   33  MASCULINO   \n",
              "\n",
              "        DS_GRAU_INSTRUCAO DS_ESTADO_CIVIL DS_COR_RACA  \\\n",
              "0    FUNDAMENTAL COMPLETO       CASADO(A)         #NE   \n",
              "1       SUPERIOR COMPLETO       CASADO(A)         #NE   \n",
              "2        MÉDIO INCOMPLETO       CASADO(A)         #NE   \n",
              "3  FUNDAMENTAL INCOMPLETO     SOLTEIRO(A)         #NE   \n",
              "\n",
              "   VR_DESPESA_MAX_CAMPANHA DS_SIT_TOT_TURNO ST_REELEICAO  \\\n",
              "0                 500000.0         SUPLENTE            N   \n",
              "1                 300000.0       NÃO ELEITO            N   \n",
              "2                 200000.0       NÃO ELEITO            N   \n",
              "3                 100000.0         SUPLENTE            N   \n",
              "\n",
              "  DS_SITUACAO_CANDIDATO_URNA ST_CANDIDATO_INSERIDO_URNA ESPECTRO_PARTIDOS  \n",
              "0                        #NE                        SIM          ESQUERDA  \n",
              "1                        #NE                        SIM          ESQUERDA  \n",
              "2                        #NE                        SIM          ESQUERDA  \n",
              "3                        #NE                        SIM          ESQUERDA  "
            ],
            "text/html": [
              "\n",
              "  <div id=\"df-97534143-c994-4512-b261-07010f7567b0\">\n",
              "    <div class=\"colab-df-container\">\n",
              "      <div>\n",
              "<style scoped>\n",
              "    .dataframe tbody tr th:only-of-type {\n",
              "        vertical-align: middle;\n",
              "    }\n",
              "\n",
              "    .dataframe tbody tr th {\n",
              "        vertical-align: top;\n",
              "    }\n",
              "\n",
              "    .dataframe thead th {\n",
              "        text-align: right;\n",
              "    }\n",
              "</style>\n",
              "<table border=\"1\" class=\"dataframe\">\n",
              "  <thead>\n",
              "    <tr style=\"text-align: right;\">\n",
              "      <th></th>\n",
              "      <th>ANO_ELEICAO</th>\n",
              "      <th>CD_TIPO_ELEICAO</th>\n",
              "      <th>NR_TURNO</th>\n",
              "      <th>CD_ELEICAO</th>\n",
              "      <th>DS_ELEICAO</th>\n",
              "      <th>TP_ABRANGENCIA</th>\n",
              "      <th>SG_UF</th>\n",
              "      <th>SG_UE</th>\n",
              "      <th>NM_UE</th>\n",
              "      <th>NM_CANDIDATO</th>\n",
              "      <th>NM_URNA_CANDIDATO</th>\n",
              "      <th>CD_SITUACAO_CANDIDATURA</th>\n",
              "      <th>DS_SITUACAO_CANDIDATURA</th>\n",
              "      <th>SG_PARTIDO</th>\n",
              "      <th>NM_PARTIDO</th>\n",
              "      <th>DS_NACIONALIDADE</th>\n",
              "      <th>DT_NASCIMENTO</th>\n",
              "      <th>NR_IDADE_DATA_POSSE</th>\n",
              "      <th>DS_GENERO</th>\n",
              "      <th>DS_GRAU_INSTRUCAO</th>\n",
              "      <th>DS_ESTADO_CIVIL</th>\n",
              "      <th>DS_COR_RACA</th>\n",
              "      <th>VR_DESPESA_MAX_CAMPANHA</th>\n",
              "      <th>DS_SIT_TOT_TURNO</th>\n",
              "      <th>ST_REELEICAO</th>\n",
              "      <th>DS_SITUACAO_CANDIDATO_URNA</th>\n",
              "      <th>ST_CANDIDATO_INSERIDO_URNA</th>\n",
              "      <th>ESPECTRO_PARTIDOS</th>\n",
              "    </tr>\n",
              "  </thead>\n",
              "  <tbody>\n",
              "    <tr>\n",
              "      <th>0</th>\n",
              "      <td>2002</td>\n",
              "      <td>2</td>\n",
              "      <td>1</td>\n",
              "      <td>200201</td>\n",
              "      <td>Eleições Gerais 2002 Primeiro Turno</td>\n",
              "      <td>FEDERAL</td>\n",
              "      <td>GO</td>\n",
              "      <td>GO</td>\n",
              "      <td>GOIAS</td>\n",
              "      <td>ERENITO DIAS REIS</td>\n",
              "      <td>ERENITO REIS</td>\n",
              "      <td>12</td>\n",
              "      <td>APTO</td>\n",
              "      <td>PRP</td>\n",
              "      <td>PARTIDO REPUBLICANO PROGRESSISTA</td>\n",
              "      <td>BRASILEIRA NATA</td>\n",
              "      <td>16/05/1948</td>\n",
              "      <td>54</td>\n",
              "      <td>MASCULINO</td>\n",
              "      <td>FUNDAMENTAL COMPLETO</td>\n",
              "      <td>CASADO(A)</td>\n",
              "      <td>#NE</td>\n",
              "      <td>500000.0</td>\n",
              "      <td>SUPLENTE</td>\n",
              "      <td>N</td>\n",
              "      <td>#NE</td>\n",
              "      <td>SIM</td>\n",
              "      <td>ESQUERDA</td>\n",
              "    </tr>\n",
              "    <tr>\n",
              "      <th>1</th>\n",
              "      <td>2002</td>\n",
              "      <td>2</td>\n",
              "      <td>1</td>\n",
              "      <td>200201</td>\n",
              "      <td>Eleições Gerais 2002 Primeiro Turno</td>\n",
              "      <td>FEDERAL</td>\n",
              "      <td>GO</td>\n",
              "      <td>GO</td>\n",
              "      <td>GOIAS</td>\n",
              "      <td>BENIVALDO RIBEIRO DE SOUZA</td>\n",
              "      <td>BENE</td>\n",
              "      <td>12</td>\n",
              "      <td>APTO</td>\n",
              "      <td>PMN</td>\n",
              "      <td>PARTIDO DA MOBILIZAÇÃO NACIONAL</td>\n",
              "      <td>BRASILEIRA NATA</td>\n",
              "      <td>01/02/1956</td>\n",
              "      <td>46</td>\n",
              "      <td>MASCULINO</td>\n",
              "      <td>SUPERIOR COMPLETO</td>\n",
              "      <td>CASADO(A)</td>\n",
              "      <td>#NE</td>\n",
              "      <td>300000.0</td>\n",
              "      <td>NÃO ELEITO</td>\n",
              "      <td>N</td>\n",
              "      <td>#NE</td>\n",
              "      <td>SIM</td>\n",
              "      <td>ESQUERDA</td>\n",
              "    </tr>\n",
              "    <tr>\n",
              "      <th>2</th>\n",
              "      <td>2002</td>\n",
              "      <td>2</td>\n",
              "      <td>1</td>\n",
              "      <td>200201</td>\n",
              "      <td>Eleições Gerais 2002 Primeiro Turno</td>\n",
              "      <td>FEDERAL</td>\n",
              "      <td>GO</td>\n",
              "      <td>GO</td>\n",
              "      <td>GOIAS</td>\n",
              "      <td>ARNANDO TEIXEIRA DA SILVA</td>\n",
              "      <td>ARNANDO</td>\n",
              "      <td>12</td>\n",
              "      <td>APTO</td>\n",
              "      <td>PSB</td>\n",
              "      <td>PARTIDO SOCIALISTA BRASILEIRO</td>\n",
              "      <td>BRASILEIRA NATA</td>\n",
              "      <td>16/03/1967</td>\n",
              "      <td>35</td>\n",
              "      <td>MASCULINO</td>\n",
              "      <td>MÉDIO INCOMPLETO</td>\n",
              "      <td>CASADO(A)</td>\n",
              "      <td>#NE</td>\n",
              "      <td>200000.0</td>\n",
              "      <td>NÃO ELEITO</td>\n",
              "      <td>N</td>\n",
              "      <td>#NE</td>\n",
              "      <td>SIM</td>\n",
              "      <td>ESQUERDA</td>\n",
              "    </tr>\n",
              "    <tr>\n",
              "      <th>3</th>\n",
              "      <td>2002</td>\n",
              "      <td>2</td>\n",
              "      <td>1</td>\n",
              "      <td>200201</td>\n",
              "      <td>Eleições Gerais 2002 Primeiro Turno</td>\n",
              "      <td>FEDERAL</td>\n",
              "      <td>GO</td>\n",
              "      <td>GO</td>\n",
              "      <td>GOIAS</td>\n",
              "      <td>FLORISVALDO PEREIRA DA SILVA</td>\n",
              "      <td>FLORISVALDO</td>\n",
              "      <td>12</td>\n",
              "      <td>APTO</td>\n",
              "      <td>PSB</td>\n",
              "      <td>PARTIDO SOCIALISTA BRASILEIRO</td>\n",
              "      <td>BRASILEIRA NATA</td>\n",
              "      <td>26/02/1969</td>\n",
              "      <td>33</td>\n",
              "      <td>MASCULINO</td>\n",
              "      <td>FUNDAMENTAL INCOMPLETO</td>\n",
              "      <td>SOLTEIRO(A)</td>\n",
              "      <td>#NE</td>\n",
              "      <td>100000.0</td>\n",
              "      <td>SUPLENTE</td>\n",
              "      <td>N</td>\n",
              "      <td>#NE</td>\n",
              "      <td>SIM</td>\n",
              "      <td>ESQUERDA</td>\n",
              "    </tr>\n",
              "  </tbody>\n",
              "</table>\n",
              "</div>\n",
              "      <button class=\"colab-df-convert\" onclick=\"convertToInteractive('df-97534143-c994-4512-b261-07010f7567b0')\"\n",
              "              title=\"Convert this dataframe to an interactive table.\"\n",
              "              style=\"display:none;\">\n",
              "        \n",
              "  <svg xmlns=\"http://www.w3.org/2000/svg\" height=\"24px\"viewBox=\"0 0 24 24\"\n",
              "       width=\"24px\">\n",
              "    <path d=\"M0 0h24v24H0V0z\" fill=\"none\"/>\n",
              "    <path d=\"M18.56 5.44l.94 2.06.94-2.06 2.06-.94-2.06-.94-.94-2.06-.94 2.06-2.06.94zm-11 1L8.5 8.5l.94-2.06 2.06-.94-2.06-.94L8.5 2.5l-.94 2.06-2.06.94zm10 10l.94 2.06.94-2.06 2.06-.94-2.06-.94-.94-2.06-.94 2.06-2.06.94z\"/><path d=\"M17.41 7.96l-1.37-1.37c-.4-.4-.92-.59-1.43-.59-.52 0-1.04.2-1.43.59L10.3 9.45l-7.72 7.72c-.78.78-.78 2.05 0 2.83L4 21.41c.39.39.9.59 1.41.59.51 0 1.02-.2 1.41-.59l7.78-7.78 2.81-2.81c.8-.78.8-2.07 0-2.86zM5.41 20L4 18.59l7.72-7.72 1.47 1.35L5.41 20z\"/>\n",
              "  </svg>\n",
              "      </button>\n",
              "      \n",
              "  <style>\n",
              "    .colab-df-container {\n",
              "      display:flex;\n",
              "      flex-wrap:wrap;\n",
              "      gap: 12px;\n",
              "    }\n",
              "\n",
              "    .colab-df-convert {\n",
              "      background-color: #E8F0FE;\n",
              "      border: none;\n",
              "      border-radius: 50%;\n",
              "      cursor: pointer;\n",
              "      display: none;\n",
              "      fill: #1967D2;\n",
              "      height: 32px;\n",
              "      padding: 0 0 0 0;\n",
              "      width: 32px;\n",
              "    }\n",
              "\n",
              "    .colab-df-convert:hover {\n",
              "      background-color: #E2EBFA;\n",
              "      box-shadow: 0px 1px 2px rgba(60, 64, 67, 0.3), 0px 1px 3px 1px rgba(60, 64, 67, 0.15);\n",
              "      fill: #174EA6;\n",
              "    }\n",
              "\n",
              "    [theme=dark] .colab-df-convert {\n",
              "      background-color: #3B4455;\n",
              "      fill: #D2E3FC;\n",
              "    }\n",
              "\n",
              "    [theme=dark] .colab-df-convert:hover {\n",
              "      background-color: #434B5C;\n",
              "      box-shadow: 0px 1px 3px 1px rgba(0, 0, 0, 0.15);\n",
              "      filter: drop-shadow(0px 1px 2px rgba(0, 0, 0, 0.3));\n",
              "      fill: #FFFFFF;\n",
              "    }\n",
              "  </style>\n",
              "\n",
              "      <script>\n",
              "        const buttonEl =\n",
              "          document.querySelector('#df-97534143-c994-4512-b261-07010f7567b0 button.colab-df-convert');\n",
              "        buttonEl.style.display =\n",
              "          google.colab.kernel.accessAllowed ? 'block' : 'none';\n",
              "\n",
              "        async function convertToInteractive(key) {\n",
              "          const element = document.querySelector('#df-97534143-c994-4512-b261-07010f7567b0');\n",
              "          const dataTable =\n",
              "            await google.colab.kernel.invokeFunction('convertToInteractive',\n",
              "                                                     [key], {});\n",
              "          if (!dataTable) return;\n",
              "\n",
              "          const docLinkHtml = 'Like what you see? Visit the ' +\n",
              "            '<a target=\"_blank\" href=https://colab.research.google.com/notebooks/data_table.ipynb>data table notebook</a>'\n",
              "            + ' to learn more about interactive tables.';\n",
              "          element.innerHTML = '';\n",
              "          dataTable['output_type'] = 'display_data';\n",
              "          await google.colab.output.renderOutput(dataTable, element);\n",
              "          const docLink = document.createElement('div');\n",
              "          docLink.innerHTML = docLinkHtml;\n",
              "          element.appendChild(docLink);\n",
              "        }\n",
              "      </script>\n",
              "    </div>\n",
              "  </div>\n",
              "  "
            ]
          },
          "metadata": {},
          "execution_count": 12
        }
      ]
    },
    {
      "cell_type": "code",
      "source": [
        "candidatos_goias['ANO_ELEICAO'].unique()"
      ],
      "metadata": {
        "id": "T8JNjmiJgoVC",
        "colab": {
          "base_uri": "https://localhost:8080/"
        },
        "outputId": "3b37cd12-476e-4a46-b3bf-cdde351efb98"
      },
      "execution_count": 13,
      "outputs": [
        {
          "output_type": "execute_result",
          "data": {
            "text/plain": [
              "array([2002, 2006, 1996, 2000, 2008, 2004, 1994, 1998])"
            ]
          },
          "metadata": {},
          "execution_count": 13
        }
      ]
    },
    {
      "cell_type": "markdown",
      "source": [
        "`Fazendo a descrição dos dados`"
      ],
      "metadata": {
        "id": "0ahL33ZsxqsW"
      }
    },
    {
      "cell_type": "code",
      "source": [
        "candidatos_goias.describe()"
      ],
      "metadata": {
        "colab": {
          "base_uri": "https://localhost:8080/",
          "height": 364
        },
        "id": "TmRX7nqBxn9O",
        "outputId": "2c499d6f-b6cd-4e8b-dacf-f4c4065e5a51"
      },
      "execution_count": 14,
      "outputs": [
        {
          "output_type": "execute_result",
          "data": {
            "text/plain": [
              "        ANO_ELEICAO  CD_TIPO_ELEICAO      NR_TURNO    CD_ELEICAO  \\\n",
              "count  50656.000000     50656.000000  50656.000000  5.065600e+04   \n",
              "mean    2003.816922         1.974574      1.000474  7.437477e+05   \n",
              "std        3.442969         0.221856      0.021762  8.980960e+05   \n",
              "min     1994.000000         0.000000      1.000000  3.000000e+01   \n",
              "25%     2000.000000         2.000000      1.000000  3.000000e+01   \n",
              "50%     2004.000000         2.000000      1.000000  2.004120e+05   \n",
              "75%     2008.000000         2.000000      1.000000  2.000001e+06   \n",
              "max     2008.000000         2.000000      2.000000  2.006002e+06   \n",
              "\n",
              "       CD_SITUACAO_CANDIDATURA  NR_IDADE_DATA_POSSE  VR_DESPESA_MAX_CAMPANHA  \n",
              "count             50656.000000         50656.000000             5.065600e+04  \n",
              "mean                  8.175162            42.641010             9.615423e+04  \n",
              "std                   4.969743            15.956345             2.636641e+06  \n",
              "min                  -3.000000            -1.000000            -3.000000e+00  \n",
              "25%                   2.000000            35.000000            -3.000000e+00  \n",
              "50%                  12.000000            42.000000             7.000000e+03  \n",
              "75%                  12.000000            49.000000             3.000000e+04  \n",
              "max                  12.000000          2004.000000             5.000100e+08  "
            ],
            "text/html": [
              "\n",
              "  <div id=\"df-45ba2ace-967b-4450-a3b7-632cd3570e94\">\n",
              "    <div class=\"colab-df-container\">\n",
              "      <div>\n",
              "<style scoped>\n",
              "    .dataframe tbody tr th:only-of-type {\n",
              "        vertical-align: middle;\n",
              "    }\n",
              "\n",
              "    .dataframe tbody tr th {\n",
              "        vertical-align: top;\n",
              "    }\n",
              "\n",
              "    .dataframe thead th {\n",
              "        text-align: right;\n",
              "    }\n",
              "</style>\n",
              "<table border=\"1\" class=\"dataframe\">\n",
              "  <thead>\n",
              "    <tr style=\"text-align: right;\">\n",
              "      <th></th>\n",
              "      <th>ANO_ELEICAO</th>\n",
              "      <th>CD_TIPO_ELEICAO</th>\n",
              "      <th>NR_TURNO</th>\n",
              "      <th>CD_ELEICAO</th>\n",
              "      <th>CD_SITUACAO_CANDIDATURA</th>\n",
              "      <th>NR_IDADE_DATA_POSSE</th>\n",
              "      <th>VR_DESPESA_MAX_CAMPANHA</th>\n",
              "    </tr>\n",
              "  </thead>\n",
              "  <tbody>\n",
              "    <tr>\n",
              "      <th>count</th>\n",
              "      <td>50656.000000</td>\n",
              "      <td>50656.000000</td>\n",
              "      <td>50656.000000</td>\n",
              "      <td>5.065600e+04</td>\n",
              "      <td>50656.000000</td>\n",
              "      <td>50656.000000</td>\n",
              "      <td>5.065600e+04</td>\n",
              "    </tr>\n",
              "    <tr>\n",
              "      <th>mean</th>\n",
              "      <td>2003.816922</td>\n",
              "      <td>1.974574</td>\n",
              "      <td>1.000474</td>\n",
              "      <td>7.437477e+05</td>\n",
              "      <td>8.175162</td>\n",
              "      <td>42.641010</td>\n",
              "      <td>9.615423e+04</td>\n",
              "    </tr>\n",
              "    <tr>\n",
              "      <th>std</th>\n",
              "      <td>3.442969</td>\n",
              "      <td>0.221856</td>\n",
              "      <td>0.021762</td>\n",
              "      <td>8.980960e+05</td>\n",
              "      <td>4.969743</td>\n",
              "      <td>15.956345</td>\n",
              "      <td>2.636641e+06</td>\n",
              "    </tr>\n",
              "    <tr>\n",
              "      <th>min</th>\n",
              "      <td>1994.000000</td>\n",
              "      <td>0.000000</td>\n",
              "      <td>1.000000</td>\n",
              "      <td>3.000000e+01</td>\n",
              "      <td>-3.000000</td>\n",
              "      <td>-1.000000</td>\n",
              "      <td>-3.000000e+00</td>\n",
              "    </tr>\n",
              "    <tr>\n",
              "      <th>25%</th>\n",
              "      <td>2000.000000</td>\n",
              "      <td>2.000000</td>\n",
              "      <td>1.000000</td>\n",
              "      <td>3.000000e+01</td>\n",
              "      <td>2.000000</td>\n",
              "      <td>35.000000</td>\n",
              "      <td>-3.000000e+00</td>\n",
              "    </tr>\n",
              "    <tr>\n",
              "      <th>50%</th>\n",
              "      <td>2004.000000</td>\n",
              "      <td>2.000000</td>\n",
              "      <td>1.000000</td>\n",
              "      <td>2.004120e+05</td>\n",
              "      <td>12.000000</td>\n",
              "      <td>42.000000</td>\n",
              "      <td>7.000000e+03</td>\n",
              "    </tr>\n",
              "    <tr>\n",
              "      <th>75%</th>\n",
              "      <td>2008.000000</td>\n",
              "      <td>2.000000</td>\n",
              "      <td>1.000000</td>\n",
              "      <td>2.000001e+06</td>\n",
              "      <td>12.000000</td>\n",
              "      <td>49.000000</td>\n",
              "      <td>3.000000e+04</td>\n",
              "    </tr>\n",
              "    <tr>\n",
              "      <th>max</th>\n",
              "      <td>2008.000000</td>\n",
              "      <td>2.000000</td>\n",
              "      <td>2.000000</td>\n",
              "      <td>2.006002e+06</td>\n",
              "      <td>12.000000</td>\n",
              "      <td>2004.000000</td>\n",
              "      <td>5.000100e+08</td>\n",
              "    </tr>\n",
              "  </tbody>\n",
              "</table>\n",
              "</div>\n",
              "      <button class=\"colab-df-convert\" onclick=\"convertToInteractive('df-45ba2ace-967b-4450-a3b7-632cd3570e94')\"\n",
              "              title=\"Convert this dataframe to an interactive table.\"\n",
              "              style=\"display:none;\">\n",
              "        \n",
              "  <svg xmlns=\"http://www.w3.org/2000/svg\" height=\"24px\"viewBox=\"0 0 24 24\"\n",
              "       width=\"24px\">\n",
              "    <path d=\"M0 0h24v24H0V0z\" fill=\"none\"/>\n",
              "    <path d=\"M18.56 5.44l.94 2.06.94-2.06 2.06-.94-2.06-.94-.94-2.06-.94 2.06-2.06.94zm-11 1L8.5 8.5l.94-2.06 2.06-.94-2.06-.94L8.5 2.5l-.94 2.06-2.06.94zm10 10l.94 2.06.94-2.06 2.06-.94-2.06-.94-.94-2.06-.94 2.06-2.06.94z\"/><path d=\"M17.41 7.96l-1.37-1.37c-.4-.4-.92-.59-1.43-.59-.52 0-1.04.2-1.43.59L10.3 9.45l-7.72 7.72c-.78.78-.78 2.05 0 2.83L4 21.41c.39.39.9.59 1.41.59.51 0 1.02-.2 1.41-.59l7.78-7.78 2.81-2.81c.8-.78.8-2.07 0-2.86zM5.41 20L4 18.59l7.72-7.72 1.47 1.35L5.41 20z\"/>\n",
              "  </svg>\n",
              "      </button>\n",
              "      \n",
              "  <style>\n",
              "    .colab-df-container {\n",
              "      display:flex;\n",
              "      flex-wrap:wrap;\n",
              "      gap: 12px;\n",
              "    }\n",
              "\n",
              "    .colab-df-convert {\n",
              "      background-color: #E8F0FE;\n",
              "      border: none;\n",
              "      border-radius: 50%;\n",
              "      cursor: pointer;\n",
              "      display: none;\n",
              "      fill: #1967D2;\n",
              "      height: 32px;\n",
              "      padding: 0 0 0 0;\n",
              "      width: 32px;\n",
              "    }\n",
              "\n",
              "    .colab-df-convert:hover {\n",
              "      background-color: #E2EBFA;\n",
              "      box-shadow: 0px 1px 2px rgba(60, 64, 67, 0.3), 0px 1px 3px 1px rgba(60, 64, 67, 0.15);\n",
              "      fill: #174EA6;\n",
              "    }\n",
              "\n",
              "    [theme=dark] .colab-df-convert {\n",
              "      background-color: #3B4455;\n",
              "      fill: #D2E3FC;\n",
              "    }\n",
              "\n",
              "    [theme=dark] .colab-df-convert:hover {\n",
              "      background-color: #434B5C;\n",
              "      box-shadow: 0px 1px 3px 1px rgba(0, 0, 0, 0.15);\n",
              "      filter: drop-shadow(0px 1px 2px rgba(0, 0, 0, 0.3));\n",
              "      fill: #FFFFFF;\n",
              "    }\n",
              "  </style>\n",
              "\n",
              "      <script>\n",
              "        const buttonEl =\n",
              "          document.querySelector('#df-45ba2ace-967b-4450-a3b7-632cd3570e94 button.colab-df-convert');\n",
              "        buttonEl.style.display =\n",
              "          google.colab.kernel.accessAllowed ? 'block' : 'none';\n",
              "\n",
              "        async function convertToInteractive(key) {\n",
              "          const element = document.querySelector('#df-45ba2ace-967b-4450-a3b7-632cd3570e94');\n",
              "          const dataTable =\n",
              "            await google.colab.kernel.invokeFunction('convertToInteractive',\n",
              "                                                     [key], {});\n",
              "          if (!dataTable) return;\n",
              "\n",
              "          const docLinkHtml = 'Like what you see? Visit the ' +\n",
              "            '<a target=\"_blank\" href=https://colab.research.google.com/notebooks/data_table.ipynb>data table notebook</a>'\n",
              "            + ' to learn more about interactive tables.';\n",
              "          element.innerHTML = '';\n",
              "          dataTable['output_type'] = 'display_data';\n",
              "          await google.colab.output.renderOutput(dataTable, element);\n",
              "          const docLink = document.createElement('div');\n",
              "          docLink.innerHTML = docLinkHtml;\n",
              "          element.appendChild(docLink);\n",
              "        }\n",
              "      </script>\n",
              "    </div>\n",
              "  </div>\n",
              "  "
            ]
          },
          "metadata": {},
          "execution_count": 14
        }
      ]
    },
    {
      "cell_type": "markdown",
      "source": [
        "Como foi visto, os dados de gastos possuí valores negativos: 2 alternativas para tratar o dado, remover as linhas com valores negativos, porem perderia informações relevantes, ou preencher com a media, mas é preciso do valor exato pra fazer alguns calculos.  Se o valor foi registrado errado, talvez multiplicando por - 1 resolva, mas não se sabe se é valor negativado, ou houve um erro ao cadastrar, seria necessário uma investigação maior. Para essa análise irei multiplicar os valores negativos por -1  ultilizando o python"
      ],
      "metadata": {
        "id": "7TvdcQJixvJe"
      }
    },
    {
      "cell_type": "markdown",
      "source": [
        "**Removendo valores negativos de gastos de campanhas**"
      ],
      "metadata": {
        "id": "Dk2Lil48yV64"
      }
    },
    {
      "cell_type": "markdown",
      "source": [
        "**Como eu nao tenho memoria para remover os dados usando o labda, irei deixa-los**"
      ],
      "metadata": {
        "id": "on0_a47gFkwJ"
      }
    },
    {
      "cell_type": "code",
      "source": [
        "import numpy as np"
      ],
      "metadata": {
        "id": "KxOC84QYAQnk"
      },
      "execution_count": 15,
      "outputs": []
    },
    {
      "cell_type": "code",
      "source": [
        "#candidatos_goias['VR_DESPESA_MAX_CAMPANHA'].apply(lambda x: abs(candidatos_goias['VR_DESPESA_MAX_CAMPANHA']))"
      ],
      "metadata": {
        "id": "kAAwZ5Vr1q89"
      },
      "execution_count": 16,
      "outputs": []
    },
    {
      "cell_type": "code",
      "source": [
        "candidatos_goias.describe()"
      ],
      "metadata": {
        "colab": {
          "base_uri": "https://localhost:8080/",
          "height": 364
        },
        "id": "6K8jNZVuz9I-",
        "outputId": "24498fc4-a086-43e7-8670-b2ef41c1c90b"
      },
      "execution_count": 17,
      "outputs": [
        {
          "output_type": "execute_result",
          "data": {
            "text/plain": [
              "        ANO_ELEICAO  CD_TIPO_ELEICAO      NR_TURNO    CD_ELEICAO  \\\n",
              "count  50656.000000     50656.000000  50656.000000  5.065600e+04   \n",
              "mean    2003.816922         1.974574      1.000474  7.437477e+05   \n",
              "std        3.442969         0.221856      0.021762  8.980960e+05   \n",
              "min     1994.000000         0.000000      1.000000  3.000000e+01   \n",
              "25%     2000.000000         2.000000      1.000000  3.000000e+01   \n",
              "50%     2004.000000         2.000000      1.000000  2.004120e+05   \n",
              "75%     2008.000000         2.000000      1.000000  2.000001e+06   \n",
              "max     2008.000000         2.000000      2.000000  2.006002e+06   \n",
              "\n",
              "       CD_SITUACAO_CANDIDATURA  NR_IDADE_DATA_POSSE  VR_DESPESA_MAX_CAMPANHA  \n",
              "count             50656.000000         50656.000000             5.065600e+04  \n",
              "mean                  8.175162            42.641010             9.615423e+04  \n",
              "std                   4.969743            15.956345             2.636641e+06  \n",
              "min                  -3.000000            -1.000000            -3.000000e+00  \n",
              "25%                   2.000000            35.000000            -3.000000e+00  \n",
              "50%                  12.000000            42.000000             7.000000e+03  \n",
              "75%                  12.000000            49.000000             3.000000e+04  \n",
              "max                  12.000000          2004.000000             5.000100e+08  "
            ],
            "text/html": [
              "\n",
              "  <div id=\"df-1734734c-eaa4-4be6-a6c8-0db06dd68cec\">\n",
              "    <div class=\"colab-df-container\">\n",
              "      <div>\n",
              "<style scoped>\n",
              "    .dataframe tbody tr th:only-of-type {\n",
              "        vertical-align: middle;\n",
              "    }\n",
              "\n",
              "    .dataframe tbody tr th {\n",
              "        vertical-align: top;\n",
              "    }\n",
              "\n",
              "    .dataframe thead th {\n",
              "        text-align: right;\n",
              "    }\n",
              "</style>\n",
              "<table border=\"1\" class=\"dataframe\">\n",
              "  <thead>\n",
              "    <tr style=\"text-align: right;\">\n",
              "      <th></th>\n",
              "      <th>ANO_ELEICAO</th>\n",
              "      <th>CD_TIPO_ELEICAO</th>\n",
              "      <th>NR_TURNO</th>\n",
              "      <th>CD_ELEICAO</th>\n",
              "      <th>CD_SITUACAO_CANDIDATURA</th>\n",
              "      <th>NR_IDADE_DATA_POSSE</th>\n",
              "      <th>VR_DESPESA_MAX_CAMPANHA</th>\n",
              "    </tr>\n",
              "  </thead>\n",
              "  <tbody>\n",
              "    <tr>\n",
              "      <th>count</th>\n",
              "      <td>50656.000000</td>\n",
              "      <td>50656.000000</td>\n",
              "      <td>50656.000000</td>\n",
              "      <td>5.065600e+04</td>\n",
              "      <td>50656.000000</td>\n",
              "      <td>50656.000000</td>\n",
              "      <td>5.065600e+04</td>\n",
              "    </tr>\n",
              "    <tr>\n",
              "      <th>mean</th>\n",
              "      <td>2003.816922</td>\n",
              "      <td>1.974574</td>\n",
              "      <td>1.000474</td>\n",
              "      <td>7.437477e+05</td>\n",
              "      <td>8.175162</td>\n",
              "      <td>42.641010</td>\n",
              "      <td>9.615423e+04</td>\n",
              "    </tr>\n",
              "    <tr>\n",
              "      <th>std</th>\n",
              "      <td>3.442969</td>\n",
              "      <td>0.221856</td>\n",
              "      <td>0.021762</td>\n",
              "      <td>8.980960e+05</td>\n",
              "      <td>4.969743</td>\n",
              "      <td>15.956345</td>\n",
              "      <td>2.636641e+06</td>\n",
              "    </tr>\n",
              "    <tr>\n",
              "      <th>min</th>\n",
              "      <td>1994.000000</td>\n",
              "      <td>0.000000</td>\n",
              "      <td>1.000000</td>\n",
              "      <td>3.000000e+01</td>\n",
              "      <td>-3.000000</td>\n",
              "      <td>-1.000000</td>\n",
              "      <td>-3.000000e+00</td>\n",
              "    </tr>\n",
              "    <tr>\n",
              "      <th>25%</th>\n",
              "      <td>2000.000000</td>\n",
              "      <td>2.000000</td>\n",
              "      <td>1.000000</td>\n",
              "      <td>3.000000e+01</td>\n",
              "      <td>2.000000</td>\n",
              "      <td>35.000000</td>\n",
              "      <td>-3.000000e+00</td>\n",
              "    </tr>\n",
              "    <tr>\n",
              "      <th>50%</th>\n",
              "      <td>2004.000000</td>\n",
              "      <td>2.000000</td>\n",
              "      <td>1.000000</td>\n",
              "      <td>2.004120e+05</td>\n",
              "      <td>12.000000</td>\n",
              "      <td>42.000000</td>\n",
              "      <td>7.000000e+03</td>\n",
              "    </tr>\n",
              "    <tr>\n",
              "      <th>75%</th>\n",
              "      <td>2008.000000</td>\n",
              "      <td>2.000000</td>\n",
              "      <td>1.000000</td>\n",
              "      <td>2.000001e+06</td>\n",
              "      <td>12.000000</td>\n",
              "      <td>49.000000</td>\n",
              "      <td>3.000000e+04</td>\n",
              "    </tr>\n",
              "    <tr>\n",
              "      <th>max</th>\n",
              "      <td>2008.000000</td>\n",
              "      <td>2.000000</td>\n",
              "      <td>2.000000</td>\n",
              "      <td>2.006002e+06</td>\n",
              "      <td>12.000000</td>\n",
              "      <td>2004.000000</td>\n",
              "      <td>5.000100e+08</td>\n",
              "    </tr>\n",
              "  </tbody>\n",
              "</table>\n",
              "</div>\n",
              "      <button class=\"colab-df-convert\" onclick=\"convertToInteractive('df-1734734c-eaa4-4be6-a6c8-0db06dd68cec')\"\n",
              "              title=\"Convert this dataframe to an interactive table.\"\n",
              "              style=\"display:none;\">\n",
              "        \n",
              "  <svg xmlns=\"http://www.w3.org/2000/svg\" height=\"24px\"viewBox=\"0 0 24 24\"\n",
              "       width=\"24px\">\n",
              "    <path d=\"M0 0h24v24H0V0z\" fill=\"none\"/>\n",
              "    <path d=\"M18.56 5.44l.94 2.06.94-2.06 2.06-.94-2.06-.94-.94-2.06-.94 2.06-2.06.94zm-11 1L8.5 8.5l.94-2.06 2.06-.94-2.06-.94L8.5 2.5l-.94 2.06-2.06.94zm10 10l.94 2.06.94-2.06 2.06-.94-2.06-.94-.94-2.06-.94 2.06-2.06.94z\"/><path d=\"M17.41 7.96l-1.37-1.37c-.4-.4-.92-.59-1.43-.59-.52 0-1.04.2-1.43.59L10.3 9.45l-7.72 7.72c-.78.78-.78 2.05 0 2.83L4 21.41c.39.39.9.59 1.41.59.51 0 1.02-.2 1.41-.59l7.78-7.78 2.81-2.81c.8-.78.8-2.07 0-2.86zM5.41 20L4 18.59l7.72-7.72 1.47 1.35L5.41 20z\"/>\n",
              "  </svg>\n",
              "      </button>\n",
              "      \n",
              "  <style>\n",
              "    .colab-df-container {\n",
              "      display:flex;\n",
              "      flex-wrap:wrap;\n",
              "      gap: 12px;\n",
              "    }\n",
              "\n",
              "    .colab-df-convert {\n",
              "      background-color: #E8F0FE;\n",
              "      border: none;\n",
              "      border-radius: 50%;\n",
              "      cursor: pointer;\n",
              "      display: none;\n",
              "      fill: #1967D2;\n",
              "      height: 32px;\n",
              "      padding: 0 0 0 0;\n",
              "      width: 32px;\n",
              "    }\n",
              "\n",
              "    .colab-df-convert:hover {\n",
              "      background-color: #E2EBFA;\n",
              "      box-shadow: 0px 1px 2px rgba(60, 64, 67, 0.3), 0px 1px 3px 1px rgba(60, 64, 67, 0.15);\n",
              "      fill: #174EA6;\n",
              "    }\n",
              "\n",
              "    [theme=dark] .colab-df-convert {\n",
              "      background-color: #3B4455;\n",
              "      fill: #D2E3FC;\n",
              "    }\n",
              "\n",
              "    [theme=dark] .colab-df-convert:hover {\n",
              "      background-color: #434B5C;\n",
              "      box-shadow: 0px 1px 3px 1px rgba(0, 0, 0, 0.15);\n",
              "      filter: drop-shadow(0px 1px 2px rgba(0, 0, 0, 0.3));\n",
              "      fill: #FFFFFF;\n",
              "    }\n",
              "  </style>\n",
              "\n",
              "      <script>\n",
              "        const buttonEl =\n",
              "          document.querySelector('#df-1734734c-eaa4-4be6-a6c8-0db06dd68cec button.colab-df-convert');\n",
              "        buttonEl.style.display =\n",
              "          google.colab.kernel.accessAllowed ? 'block' : 'none';\n",
              "\n",
              "        async function convertToInteractive(key) {\n",
              "          const element = document.querySelector('#df-1734734c-eaa4-4be6-a6c8-0db06dd68cec');\n",
              "          const dataTable =\n",
              "            await google.colab.kernel.invokeFunction('convertToInteractive',\n",
              "                                                     [key], {});\n",
              "          if (!dataTable) return;\n",
              "\n",
              "          const docLinkHtml = 'Like what you see? Visit the ' +\n",
              "            '<a target=\"_blank\" href=https://colab.research.google.com/notebooks/data_table.ipynb>data table notebook</a>'\n",
              "            + ' to learn more about interactive tables.';\n",
              "          element.innerHTML = '';\n",
              "          dataTable['output_type'] = 'display_data';\n",
              "          await google.colab.output.renderOutput(dataTable, element);\n",
              "          const docLink = document.createElement('div');\n",
              "          docLink.innerHTML = docLinkHtml;\n",
              "          element.appendChild(docLink);\n",
              "        }\n",
              "      </script>\n",
              "    </div>\n",
              "  </div>\n",
              "  "
            ]
          },
          "metadata": {},
          "execution_count": 17
        }
      ]
    },
    {
      "cell_type": "markdown",
      "source": [
        "**Verificando dados vazios nos dados**"
      ],
      "metadata": {
        "id": "VjLlNmL4IQFO"
      }
    },
    {
      "cell_type": "code",
      "source": [
        "candidatos_goias.isnull().sum()"
      ],
      "metadata": {
        "id": "mHOMQiTSx44o",
        "colab": {
          "base_uri": "https://localhost:8080/"
        },
        "outputId": "0c787023-92a4-4c09-8ef2-06b4073cfe4c"
      },
      "execution_count": 18,
      "outputs": [
        {
          "output_type": "execute_result",
          "data": {
            "text/plain": [
              "ANO_ELEICAO                   0\n",
              "CD_TIPO_ELEICAO               0\n",
              "NR_TURNO                      0\n",
              "CD_ELEICAO                    0\n",
              "DS_ELEICAO                    0\n",
              "TP_ABRANGENCIA                0\n",
              "SG_UF                         0\n",
              "SG_UE                         0\n",
              "NM_UE                         0\n",
              "NM_CANDIDATO                  0\n",
              "NM_URNA_CANDIDATO             1\n",
              "CD_SITUACAO_CANDIDATURA       0\n",
              "DS_SITUACAO_CANDIDATURA       0\n",
              "SG_PARTIDO                    0\n",
              "NM_PARTIDO                    0\n",
              "DS_NACIONALIDADE              0\n",
              "DT_NASCIMENTO                 0\n",
              "NR_IDADE_DATA_POSSE           0\n",
              "DS_GENERO                     0\n",
              "DS_GRAU_INSTRUCAO             0\n",
              "DS_ESTADO_CIVIL               0\n",
              "DS_COR_RACA                   0\n",
              "VR_DESPESA_MAX_CAMPANHA       0\n",
              "DS_SIT_TOT_TURNO              0\n",
              "ST_REELEICAO                  0\n",
              "DS_SITUACAO_CANDIDATO_URNA    0\n",
              "ST_CANDIDATO_INSERIDO_URNA    0\n",
              "ESPECTRO_PARTIDOS             0\n",
              "dtype: int64"
            ]
          },
          "metadata": {},
          "execution_count": 18
        }
      ]
    },
    {
      "cell_type": "markdown",
      "source": [
        "`Como apenas a coluna NM_URNA_CANDIDATO tem valor nulo e é apenas 1, então essa linha poderá ser excluída, caso fosse mais linhas nulos, teria que tomar outra decisão para tratar o valor nulo`"
      ],
      "metadata": {
        "id": "bGAPx-7JJbpV"
      }
    },
    {
      "cell_type": "code",
      "source": [
        "candidatos_goias.dropna(inplace =True)\n",
        "candidatos_goias.isnull().sum()"
      ],
      "metadata": {
        "id": "YO9DpzgQI7Hc",
        "colab": {
          "base_uri": "https://localhost:8080/"
        },
        "outputId": "795fa3e6-9642-4451-aeb9-1d3d12a41a04"
      },
      "execution_count": 19,
      "outputs": [
        {
          "output_type": "execute_result",
          "data": {
            "text/plain": [
              "ANO_ELEICAO                   0\n",
              "CD_TIPO_ELEICAO               0\n",
              "NR_TURNO                      0\n",
              "CD_ELEICAO                    0\n",
              "DS_ELEICAO                    0\n",
              "TP_ABRANGENCIA                0\n",
              "SG_UF                         0\n",
              "SG_UE                         0\n",
              "NM_UE                         0\n",
              "NM_CANDIDATO                  0\n",
              "NM_URNA_CANDIDATO             0\n",
              "CD_SITUACAO_CANDIDATURA       0\n",
              "DS_SITUACAO_CANDIDATURA       0\n",
              "SG_PARTIDO                    0\n",
              "NM_PARTIDO                    0\n",
              "DS_NACIONALIDADE              0\n",
              "DT_NASCIMENTO                 0\n",
              "NR_IDADE_DATA_POSSE           0\n",
              "DS_GENERO                     0\n",
              "DS_GRAU_INSTRUCAO             0\n",
              "DS_ESTADO_CIVIL               0\n",
              "DS_COR_RACA                   0\n",
              "VR_DESPESA_MAX_CAMPANHA       0\n",
              "DS_SIT_TOT_TURNO              0\n",
              "ST_REELEICAO                  0\n",
              "DS_SITUACAO_CANDIDATO_URNA    0\n",
              "ST_CANDIDATO_INSERIDO_URNA    0\n",
              "ESPECTRO_PARTIDOS             0\n",
              "dtype: int64"
            ]
          },
          "metadata": {},
          "execution_count": 19
        }
      ]
    },
    {
      "cell_type": "markdown",
      "source": [
        "`Após os dados nulos serem removidos será iniciado a análise dos dados os candidatos de  1994  até 2008`"
      ],
      "metadata": {
        "id": "DJdUNJqOKGew"
      }
    },
    {
      "cell_type": "markdown",
      "source": [
        "O que está análise vai tratar \n",
        "*   Quantas candidatos inscritos\n",
        "*   Quantos candidatos por raça \n",
        "*   Quantos candidatos por escolaridade\n",
        "*   Faixa etária dos candidatos por raça e sexo\n",
        "*   Porcentagem de candidatos escrito por raça, escolaridade, sexo\n",
        "*   Quantidade de partidos\n",
        "*   Quantidade de partido por sexo e raça\n",
        "*   Quantidade de escrito por estado civil\n",
        "*   Estado civil dos candidatos por genero\n",
        "*   Qual partido teve mais inscritos por raça e genero\n",
        "*   Qual partido mais elegeu\n",
        "*   Os candidatos mais eleitos usaram nome de algum candidatos que estava em alta na epóca \n",
        "*   O gasto com campanhas influência ao vencer eleição\n",
        "\n",
        "\n",
        "\n",
        "\n",
        "\n",
        "\n",
        "\n",
        "\n",
        "\n",
        "\n",
        "\n",
        "\n",
        "\n",
        "\n",
        "\n",
        "\n"
      ],
      "metadata": {
        "id": "e3fknnSCKUs_"
      }
    },
    {
      "cell_type": "markdown",
      "source": [
        "**Quantos candidatos inscritos?**\n",
        "\n",
        "\n",
        "\n"
      ],
      "metadata": {
        "id": "n9dXqlLNLZXU"
      }
    },
    {
      "cell_type": "code",
      "source": [
        "candidatos_goias['ANO_ELEICAO'].count()"
      ],
      "metadata": {
        "id": "aKwc6RsKKA8C",
        "colab": {
          "base_uri": "https://localhost:8080/"
        },
        "outputId": "1454634e-6c01-41a6-c2b8-cc82cefd41a4"
      },
      "execution_count": 20,
      "outputs": [
        {
          "output_type": "execute_result",
          "data": {
            "text/plain": [
              "50655"
            ]
          },
          "metadata": {},
          "execution_count": 20
        }
      ]
    },
    {
      "cell_type": "markdown",
      "source": [
        "`As candidaturas de 1994 até 2010 soma 50655 cinquenta mil seiscentos e cinquenta e cinco inscritos.`"
      ],
      "metadata": {
        "id": "fe9qta89MZvJ"
      }
    },
    {
      "cell_type": "markdown",
      "source": [
        "**Gráfico de inscritos por raça**"
      ],
      "metadata": {
        "id": "IjeqC7HtM8w-"
      }
    },
    {
      "cell_type": "code",
      "source": [
        "sns.countplot(x=candidatos_goias[\"DS_COR_RACA\"])"
      ],
      "metadata": {
        "id": "TJb5-XOCNRtT",
        "colab": {
          "base_uri": "https://localhost:8080/",
          "height": 297
        },
        "outputId": "c71bc612-f054-4b0a-f357-6a3c1a57f71b"
      },
      "execution_count": 21,
      "outputs": [
        {
          "output_type": "execute_result",
          "data": {
            "text/plain": [
              "<matplotlib.axes._subplots.AxesSubplot at 0x7fd2e8e059d0>"
            ]
          },
          "metadata": {},
          "execution_count": 21
        },
        {
          "output_type": "display_data",
          "data": {
            "text/plain": [
              "<Figure size 432x288 with 1 Axes>"
            ],
            "image/png": "[encoded data removed]"
          },
          "metadata": {
            "needs_background": "light"
          }
        }
      ]
    },
    {
      "cell_type": "markdown",
      "source": [
        "**Quantidade de inscritos por escolaridade**"
      ],
      "metadata": {
        "id": "h1h3u6x9Or7f"
      }
    },
    {
      "cell_type": "code",
      "source": [
        "candidatos_goias['DS_GRAU_INSTRUCAO'].value_counts()"
      ],
      "metadata": {
        "id": "N_eATIWmOwMI",
        "colab": {
          "base_uri": "https://localhost:8080/"
        },
        "outputId": "05e1d195-4cee-4af0-fca9-a12c616bb8d4"
      },
      "execution_count": 22,
      "outputs": [
        {
          "output_type": "execute_result",
          "data": {
            "text/plain": [
              "SUPERIOR COMPLETO                7369\n",
              "ENSINO MÉDIO COMPLETO            5605\n",
              "MÉDIO COMPLETO                   5452\n",
              "1º GRAU INCOMPLETO               4190\n",
              "FUNDAMENTAL INCOMPLETO           4062\n",
              "2º GRAU COMPLETO                 3702\n",
              "ENSINO FUNDAMENTAL INCOMPLETO    3154\n",
              "SUPERIOR INCOMPLETO              2911\n",
              "FUNDAMENTAL COMPLETO             2289\n",
              "1º GRAU COMPLETO                 2198\n",
              "ENSINO FUNDAMENTAL COMPLETO      2116\n",
              "2º GRAU INCOMPLETO               1683\n",
              "MÉDIO INCOMPLETO                 1572\n",
              "LÊ E ESCREVE                     1520\n",
              "ENSINO MÉDIO INCOMPLETO          1185\n",
              "#NE                              1123\n",
              "NÃO INFORMADO                     507\n",
              "ANALFABETO                         17\n",
              "Name: DS_GRAU_INSTRUCAO, dtype: int64"
            ]
          },
          "metadata": {},
          "execution_count": 22
        }
      ]
    },
    {
      "cell_type": "markdown",
      "source": [
        "**Porcentagem de inscritos por escolaridade**"
      ],
      "metadata": {
        "id": "dCBsuM3LRis-"
      }
    },
    {
      "cell_type": "code",
      "source": [
        "porc_escolaridade  = candidatos_goias['DS_GRAU_INSTRUCAO'].value_counts() / 50655 * 100 \n",
        "porc_escolaridade"
      ],
      "metadata": {
        "id": "AafO1e1bRmBi",
        "colab": {
          "base_uri": "https://localhost:8080/"
        },
        "outputId": "dddc0908-c1e4-430e-8c54-2b32739814dd"
      },
      "execution_count": 23,
      "outputs": [
        {
          "output_type": "execute_result",
          "data": {
            "text/plain": [
              "SUPERIOR COMPLETO                14.547429\n",
              "ENSINO MÉDIO COMPLETO            11.065048\n",
              "MÉDIO COMPLETO                   10.763005\n",
              "1º GRAU INCOMPLETO                8.271641\n",
              "FUNDAMENTAL INCOMPLETO            8.018952\n",
              "2º GRAU COMPLETO                  7.308262\n",
              "ENSINO FUNDAMENTAL INCOMPLETO     6.226434\n",
              "SUPERIOR INCOMPLETO               5.746718\n",
              "FUNDAMENTAL COMPLETO              4.518804\n",
              "1º GRAU COMPLETO                  4.339157\n",
              "ENSINO FUNDAMENTAL COMPLETO       4.177278\n",
              "2º GRAU INCOMPLETO                3.322476\n",
              "MÉDIO INCOMPLETO                  3.103346\n",
              "LÊ E ESCREVE                      3.000691\n",
              "ENSINO MÉDIO INCOMPLETO           2.339354\n",
              "#NE                               2.216958\n",
              "NÃO INFORMADO                     1.000888\n",
              "ANALFABETO                        0.033560\n",
              "Name: DS_GRAU_INSTRUCAO, dtype: float64"
            ]
          },
          "metadata": {},
          "execution_count": 23
        }
      ]
    },
    {
      "cell_type": "markdown",
      "source": [
        "**Gráfico de inscritos por escolaridade**"
      ],
      "metadata": {
        "id": "C9ONH1PfOTqL"
      }
    },
    {
      "cell_type": "code",
      "source": [
        "fig = plt.figure(figsize=(10,5))\n",
        "grafico = sns.countplot('DS_GRAU_INSTRUCAO', order = candidatos_goias['DS_GRAU_INSTRUCAO'].value_counts().index, palette=\"Paired\",  data =  candidatos_goias)\n",
        "plt.xticks(rotation=90)\n",
        "for i in grafico.patches:\n",
        "   grafico.annotate(i.get_height(),\n",
        "                  (i.get_x() + i.get_width() / 2, i.get_height()),\n",
        "                  ha='center',\n",
        "                  va='baseline',\n",
        "                  fontsize=12,\n",
        "                  color='black',\n",
        "                  xytext=(0, 1),\n",
        "                  textcoords='offset points');  \n",
        "plt.xlabel('Escolaridade', fontsize=15)\n",
        "plt.ylabel(' ')\n",
        "plt.title('Grafico quantidade por  escolaridade',fontsize=15);"
      ],
      "metadata": {
        "id": "stBLe8e7NqcL",
        "colab": {
          "base_uri": "https://localhost:8080/",
          "height": 586
        },
        "outputId": "ad3c6509-bd48-46d4-8dcf-4b80e17bde16"
      },
      "execution_count": 24,
      "outputs": [
        {
          "output_type": "stream",
          "name": "stderr",
          "text": [
            "/usr/local/lib/python3.7/dist-packages/seaborn/_decorators.py:43: FutureWarning: Pass the following variable as a keyword arg: x. From version 0.12, the only valid positional argument will be `data`, and passing other arguments without an explicit keyword will result in an error or misinterpretation.\n",
            "  FutureWarning\n"
          ]
        },
        {
          "output_type": "display_data",
          "data": {
            "text/plain": [
              "<Figure size 720x360 with 1 Axes>"
            ],
            "image/png": "[encoded data removed]"
          },
          "metadata": {
            "needs_background": "light"
          }
        }
      ]
    },
    {
      "cell_type": "markdown",
      "source": [
        "**Faixa etaria dos inscritos**"
      ],
      "metadata": {
        "id": "WVgD1h7UYA7i"
      }
    },
    {
      "cell_type": "code",
      "source": [
        "candidatos_goias['NR_IDADE_DATA_POSSE'].unique()"
      ],
      "metadata": {
        "id": "W_oRa89iYdC6",
        "colab": {
          "base_uri": "https://localhost:8080/"
        },
        "outputId": "7ed0d103-5e62-45c3-9823-e4c64e20c168"
      },
      "execution_count": 25,
      "outputs": [
        {
          "output_type": "execute_result",
          "data": {
            "text/plain": [
              "array([  54,   46,   35,   33,   48,   53,   41,   37,   44,   56,   57,\n",
              "         65,   63,   51,   52,   36,   38,   32,   34,   43,   55,   31,\n",
              "         42,   49,   27,   39,   59,   40,   45,   82,   29,   50,   67,\n",
              "         58,  950,   47,   30,   60,   26,   21,   62,   61,   22,   66,\n",
              "         71,   28,   25,   69,   24,   68,   64,   23,   72,   86,   75,\n",
              "         70,   91,   79,   20,   19,   18,   -1,   78,   77,   73,   74,\n",
              "          0,    6,   80,   76,   81,    4,   83,   84,   88,   85,  349,\n",
              "        306,  311, 1057,   12,  343,  909,  810,  307, 2004])"
            ]
          },
          "metadata": {},
          "execution_count": 25
        }
      ]
    },
    {
      "cell_type": "markdown",
      "source": [
        "**Como foi observado, existe idade com numeros negativos e bem maiores que 100. Então será substituido por zero**"
      ],
      "metadata": {
        "id": "OUAuO5X6rBXU"
      }
    },
    {
      "cell_type": "code",
      "source": [
        "candidatos_goias.loc[((candidatos_goias.NR_IDADE_DATA_POSSE <= 0 )| (candidatos_goias.NR_IDADE_DATA_POSSE > 100))] = 0\n"
      ],
      "metadata": {
        "id": "05Palf6Ync99"
      },
      "execution_count": 26,
      "outputs": []
    },
    {
      "cell_type": "code",
      "source": [
        "candidatos_goias['NR_IDADE_DATA_POSSE'].unique()"
      ],
      "metadata": {
        "colab": {
          "base_uri": "https://localhost:8080/"
        },
        "id": "XsQ4HuBwpIoL",
        "outputId": "51352f40-71c2-4979-af77-8edd328371e5"
      },
      "execution_count": 27,
      "outputs": [
        {
          "output_type": "execute_result",
          "data": {
            "text/plain": [
              "array([54, 46, 35, 33, 48, 53, 41, 37, 44, 56, 57, 65, 63, 51, 52, 36, 38,\n",
              "       32, 34, 43, 55, 31, 42, 49, 27, 39, 59, 40, 45, 82, 29, 50, 67, 58,\n",
              "        0, 47, 30, 60, 26, 21, 62, 61, 22, 66, 71, 28, 25, 69, 24, 68, 64,\n",
              "       23, 72, 86, 75, 70, 91, 79, 20, 19, 18, 78, 77, 73, 74,  6, 80, 76,\n",
              "       81,  4, 83, 84, 88, 85, 12])"
            ]
          },
          "metadata": {},
          "execution_count": 27
        }
      ]
    },
    {
      "cell_type": "markdown",
      "source": [
        "`Valores substituídos por zero. Já que são poucos valores e o zero não seria um valor interresante pra contabilizar, será excluido as linhas que a idade possuí zero `"
      ],
      "metadata": {
        "id": "f1nYrU3QsRUa"
      }
    },
    {
      "cell_type": "code",
      "source": [
        "idade_colunas = candidatos_goias[candidatos_goias['NR_IDADE_DATA_POSSE'] == 0 ].index\n",
        "candidatos_goias.drop(idade_colunas, inplace=True)"
      ],
      "metadata": {
        "id": "82-KnY9zsAIo"
      },
      "execution_count": 28,
      "outputs": []
    },
    {
      "cell_type": "code",
      "source": [
        "candidatos_goias['NR_IDADE_DATA_POSSE'].unique()"
      ],
      "metadata": {
        "colab": {
          "base_uri": "https://localhost:8080/"
        },
        "id": "1Hc0lQ2GsthT",
        "outputId": "0f0fc28c-8c76-4d81-e701-25deff5ee7eb"
      },
      "execution_count": 29,
      "outputs": [
        {
          "output_type": "execute_result",
          "data": {
            "text/plain": [
              "array([54, 46, 35, 33, 48, 53, 41, 37, 44, 56, 57, 65, 63, 51, 52, 36, 38,\n",
              "       32, 34, 43, 55, 31, 42, 49, 27, 39, 59, 40, 45, 82, 29, 50, 67, 58,\n",
              "       47, 30, 60, 26, 21, 62, 61, 22, 66, 71, 28, 25, 69, 24, 68, 64, 23,\n",
              "       72, 86, 75, 70, 91, 79, 20, 19, 18, 78, 77, 73, 74,  6, 80, 76, 81,\n",
              "        4, 83, 84, 88, 85, 12])"
            ]
          },
          "metadata": {},
          "execution_count": 29
        }
      ]
    },
    {
      "cell_type": "markdown",
      "source": [
        "**Idade com valores 0 removidas**"
      ],
      "metadata": {
        "id": "4NxRWXvfsuyK"
      }
    },
    {
      "cell_type": "markdown",
      "source": [
        "**Excluir idade menores que 18**"
      ],
      "metadata": {
        "id": "CcfdIFuaxWQp"
      }
    },
    {
      "cell_type": "code",
      "source": [
        "idade_colunas = candidatos_goias[candidatos_goias['NR_IDADE_DATA_POSSE'] < 18 ].index\n",
        "candidatos_goias.drop(idade_colunas, inplace=True)"
      ],
      "metadata": {
        "id": "AGW93MKWxVoW"
      },
      "execution_count": 30,
      "outputs": []
    },
    {
      "cell_type": "markdown",
      "source": [
        "**idade menores que 18  excluídas** "
      ],
      "metadata": {
        "id": "upn-TXlExiKP"
      }
    },
    {
      "cell_type": "code",
      "source": [
        "candidatos_goias['NR_IDADE_DATA_POSSE'].unique()"
      ],
      "metadata": {
        "colab": {
          "base_uri": "https://localhost:8080/"
        },
        "id": "lBnNeqiKxnCa",
        "outputId": "a605d4b7-82b5-43ea-e56b-a38aa3d11f4f"
      },
      "execution_count": 31,
      "outputs": [
        {
          "output_type": "execute_result",
          "data": {
            "text/plain": [
              "array([54, 46, 35, 33, 48, 53, 41, 37, 44, 56, 57, 65, 63, 51, 52, 36, 38,\n",
              "       32, 34, 43, 55, 31, 42, 49, 27, 39, 59, 40, 45, 82, 29, 50, 67, 58,\n",
              "       47, 30, 60, 26, 21, 62, 61, 22, 66, 71, 28, 25, 69, 24, 68, 64, 23,\n",
              "       72, 86, 75, 70, 91, 79, 20, 19, 18, 78, 77, 73, 74, 80, 76, 81, 83,\n",
              "       84, 88, 85])"
            ]
          },
          "metadata": {},
          "execution_count": 31
        }
      ]
    },
    {
      "cell_type": "markdown",
      "source": [
        "**Total de inscritos por faixa etária**"
      ],
      "metadata": {
        "id": "iyfKunX-szlE"
      }
    },
    {
      "cell_type": "code",
      "source": [
        "#Utilizando sql para cantabilizar a idade \n",
        "query = \"\"\"SELECT COUNT(NR_IDADE_DATA_POSSE) as total_inscritos_idade\n",
        "           FROM candidatos_goias\n",
        "           where NR_IDADE_DATA_POSSE >= 18\"\"\"\n",
        "ps.sqldf(query.lower(), locals())"
      ],
      "metadata": {
        "colab": {
          "base_uri": "https://localhost:8080/",
          "height": 81
        },
        "id": "w4F7wBFDvMPU",
        "outputId": "c530f60a-bee4-4122-bdaa-538d24cf6ba2"
      },
      "execution_count": 32,
      "outputs": [
        {
          "output_type": "execute_result",
          "data": {
            "text/plain": [
              "   total_inscritos_idade\n",
              "0                  50620"
            ],
            "text/html": [
              "\n",
              "  <div id=\"df-93bbc0d4-fd97-4a95-973e-9270369a24be\">\n",
              "    <div class=\"colab-df-container\">\n",
              "      <div>\n",
              "<style scoped>\n",
              "    .dataframe tbody tr th:only-of-type {\n",
              "        vertical-align: middle;\n",
              "    }\n",
              "\n",
              "    .dataframe tbody tr th {\n",
              "        vertical-align: top;\n",
              "    }\n",
              "\n",
              "    .dataframe thead th {\n",
              "        text-align: right;\n",
              "    }\n",
              "</style>\n",
              "<table border=\"1\" class=\"dataframe\">\n",
              "  <thead>\n",
              "    <tr style=\"text-align: right;\">\n",
              "      <th></th>\n",
              "      <th>total_inscritos_idade</th>\n",
              "    </tr>\n",
              "  </thead>\n",
              "  <tbody>\n",
              "    <tr>\n",
              "      <th>0</th>\n",
              "      <td>50620</td>\n",
              "    </tr>\n",
              "  </tbody>\n",
              "</table>\n",
              "</div>\n",
              "      <button class=\"colab-df-convert\" onclick=\"convertToInteractive('df-93bbc0d4-fd97-4a95-973e-9270369a24be')\"\n",
              "              title=\"Convert this dataframe to an interactive table.\"\n",
              "              style=\"display:none;\">\n",
              "        \n",
              "  <svg xmlns=\"http://www.w3.org/2000/svg\" height=\"24px\"viewBox=\"0 0 24 24\"\n",
              "       width=\"24px\">\n",
              "    <path d=\"M0 0h24v24H0V0z\" fill=\"none\"/>\n",
              "    <path d=\"M18.56 5.44l.94 2.06.94-2.06 2.06-.94-2.06-.94-.94-2.06-.94 2.06-2.06.94zm-11 1L8.5 8.5l.94-2.06 2.06-.94-2.06-.94L8.5 2.5l-.94 2.06-2.06.94zm10 10l.94 2.06.94-2.06 2.06-.94-2.06-.94-.94-2.06-.94 2.06-2.06.94z\"/><path d=\"M17.41 7.96l-1.37-1.37c-.4-.4-.92-.59-1.43-.59-.52 0-1.04.2-1.43.59L10.3 9.45l-7.72 7.72c-.78.78-.78 2.05 0 2.83L4 21.41c.39.39.9.59 1.41.59.51 0 1.02-.2 1.41-.59l7.78-7.78 2.81-2.81c.8-.78.8-2.07 0-2.86zM5.41 20L4 18.59l7.72-7.72 1.47 1.35L5.41 20z\"/>\n",
              "  </svg>\n",
              "      </button>\n",
              "      \n",
              "  <style>\n",
              "    .colab-df-container {\n",
              "      display:flex;\n",
              "      flex-wrap:wrap;\n",
              "      gap: 12px;\n",
              "    }\n",
              "\n",
              "    .colab-df-convert {\n",
              "      background-color: #E8F0FE;\n",
              "      border: none;\n",
              "      border-radius: 50%;\n",
              "      cursor: pointer;\n",
              "      display: none;\n",
              "      fill: #1967D2;\n",
              "      height: 32px;\n",
              "      padding: 0 0 0 0;\n",
              "      width: 32px;\n",
              "    }\n",
              "\n",
              "    .colab-df-convert:hover {\n",
              "      background-color: #E2EBFA;\n",
              "      box-shadow: 0px 1px 2px rgba(60, 64, 67, 0.3), 0px 1px 3px 1px rgba(60, 64, 67, 0.15);\n",
              "      fill: #174EA6;\n",
              "    }\n",
              "\n",
              "    [theme=dark] .colab-df-convert {\n",
              "      background-color: #3B4455;\n",
              "      fill: #D2E3FC;\n",
              "    }\n",
              "\n",
              "    [theme=dark] .colab-df-convert:hover {\n",
              "      background-color: #434B5C;\n",
              "      box-shadow: 0px 1px 3px 1px rgba(0, 0, 0, 0.15);\n",
              "      filter: drop-shadow(0px 1px 2px rgba(0, 0, 0, 0.3));\n",
              "      fill: #FFFFFF;\n",
              "    }\n",
              "  </style>\n",
              "\n",
              "      <script>\n",
              "        const buttonEl =\n",
              "          document.querySelector('#df-93bbc0d4-fd97-4a95-973e-9270369a24be button.colab-df-convert');\n",
              "        buttonEl.style.display =\n",
              "          google.colab.kernel.accessAllowed ? 'block' : 'none';\n",
              "\n",
              "        async function convertToInteractive(key) {\n",
              "          const element = document.querySelector('#df-93bbc0d4-fd97-4a95-973e-9270369a24be');\n",
              "          const dataTable =\n",
              "            await google.colab.kernel.invokeFunction('convertToInteractive',\n",
              "                                                     [key], {});\n",
              "          if (!dataTable) return;\n",
              "\n",
              "          const docLinkHtml = 'Like what you see? Visit the ' +\n",
              "            '<a target=\"_blank\" href=https://colab.research.google.com/notebooks/data_table.ipynb>data table notebook</a>'\n",
              "            + ' to learn more about interactive tables.';\n",
              "          element.innerHTML = '';\n",
              "          dataTable['output_type'] = 'display_data';\n",
              "          await google.colab.output.renderOutput(dataTable, element);\n",
              "          const docLink = document.createElement('div');\n",
              "          docLink.innerHTML = docLinkHtml;\n",
              "          element.appendChild(docLink);\n",
              "        }\n",
              "      </script>\n",
              "    </div>\n",
              "  </div>\n",
              "  "
            ]
          },
          "metadata": {},
          "execution_count": 32
        }
      ]
    },
    {
      "cell_type": "markdown",
      "source": [
        "**`Quantidade de inscritos por faixa etária**"
      ],
      "metadata": {
        "id": "e2D4-T-6vcO5"
      }
    },
    {
      "cell_type": "code",
      "source": [
        "#Utilizando sql para cantabilizar a idade \n",
        "query = \"\"\"SELECT NR_IDADE_DATA_POSSE, COUNT(NR_IDADE_DATA_POSSE) as total_inscritos_idade\n",
        "           FROM candidatos_goias\n",
        "           where NR_IDADE_DATA_POSSE >= 18\n",
        "           GROUP BY NR_IDADE_DATA_POSSE\n",
        "           ORDER BY COUNT(NR_IDADE_DATA_POSSE) DESC\"\"\"\n",
        "ps.sqldf(query.lower(), locals())"
      ],
      "metadata": {
        "colab": {
          "base_uri": "https://localhost:8080/",
          "height": 424
        },
        "id": "Pimp-Ou2sreR",
        "outputId": "ec9d46e7-7b77-42bc-ecb3-d4adb2eac7a8"
      },
      "execution_count": 33,
      "outputs": [
        {
          "output_type": "execute_result",
          "data": {
            "text/plain": [
              "    NR_IDADE_DATA_POSSE  total_inscritos_idade\n",
              "0                    42                   1991\n",
              "1                    39                   1954\n",
              "2                    43                   1924\n",
              "3                    40                   1920\n",
              "4                    44                   1893\n",
              "..                  ...                    ...\n",
              "66                   86                      3\n",
              "67                   84                      2\n",
              "68                   85                      2\n",
              "69                   88                      1\n",
              "70                   91                      1\n",
              "\n",
              "[71 rows x 2 columns]"
            ],
            "text/html": [
              "\n",
              "  <div id=\"df-ffd3461b-da8f-4f57-b639-e7e8c29288ef\">\n",
              "    <div class=\"colab-df-container\">\n",
              "      <div>\n",
              "<style scoped>\n",
              "    .dataframe tbody tr th:only-of-type {\n",
              "        vertical-align: middle;\n",
              "    }\n",
              "\n",
              "    .dataframe tbody tr th {\n",
              "        vertical-align: top;\n",
              "    }\n",
              "\n",
              "    .dataframe thead th {\n",
              "        text-align: right;\n",
              "    }\n",
              "</style>\n",
              "<table border=\"1\" class=\"dataframe\">\n",
              "  <thead>\n",
              "    <tr style=\"text-align: right;\">\n",
              "      <th></th>\n",
              "      <th>NR_IDADE_DATA_POSSE</th>\n",
              "      <th>total_inscritos_idade</th>\n",
              "    </tr>\n",
              "  </thead>\n",
              "  <tbody>\n",
              "    <tr>\n",
              "      <th>0</th>\n",
              "      <td>42</td>\n",
              "      <td>1991</td>\n",
              "    </tr>\n",
              "    <tr>\n",
              "      <th>1</th>\n",
              "      <td>39</td>\n",
              "      <td>1954</td>\n",
              "    </tr>\n",
              "    <tr>\n",
              "      <th>2</th>\n",
              "      <td>43</td>\n",
              "      <td>1924</td>\n",
              "    </tr>\n",
              "    <tr>\n",
              "      <th>3</th>\n",
              "      <td>40</td>\n",
              "      <td>1920</td>\n",
              "    </tr>\n",
              "    <tr>\n",
              "      <th>4</th>\n",
              "      <td>44</td>\n",
              "      <td>1893</td>\n",
              "    </tr>\n",
              "    <tr>\n",
              "      <th>...</th>\n",
              "      <td>...</td>\n",
              "      <td>...</td>\n",
              "    </tr>\n",
              "    <tr>\n",
              "      <th>66</th>\n",
              "      <td>86</td>\n",
              "      <td>3</td>\n",
              "    </tr>\n",
              "    <tr>\n",
              "      <th>67</th>\n",
              "      <td>84</td>\n",
              "      <td>2</td>\n",
              "    </tr>\n",
              "    <tr>\n",
              "      <th>68</th>\n",
              "      <td>85</td>\n",
              "      <td>2</td>\n",
              "    </tr>\n",
              "    <tr>\n",
              "      <th>69</th>\n",
              "      <td>88</td>\n",
              "      <td>1</td>\n",
              "    </tr>\n",
              "    <tr>\n",
              "      <th>70</th>\n",
              "      <td>91</td>\n",
              "      <td>1</td>\n",
              "    </tr>\n",
              "  </tbody>\n",
              "</table>\n",
              "<p>71 rows × 2 columns</p>\n",
              "</div>\n",
              "      <button class=\"colab-df-convert\" onclick=\"convertToInteractive('df-ffd3461b-da8f-4f57-b639-e7e8c29288ef')\"\n",
              "              title=\"Convert this dataframe to an interactive table.\"\n",
              "              style=\"display:none;\">\n",
              "        \n",
              "  <svg xmlns=\"http://www.w3.org/2000/svg\" height=\"24px\"viewBox=\"0 0 24 24\"\n",
              "       width=\"24px\">\n",
              "    <path d=\"M0 0h24v24H0V0z\" fill=\"none\"/>\n",
              "    <path d=\"M18.56 5.44l.94 2.06.94-2.06 2.06-.94-2.06-.94-.94-2.06-.94 2.06-2.06.94zm-11 1L8.5 8.5l.94-2.06 2.06-.94-2.06-.94L8.5 2.5l-.94 2.06-2.06.94zm10 10l.94 2.06.94-2.06 2.06-.94-2.06-.94-.94-2.06-.94 2.06-2.06.94z\"/><path d=\"M17.41 7.96l-1.37-1.37c-.4-.4-.92-.59-1.43-.59-.52 0-1.04.2-1.43.59L10.3 9.45l-7.72 7.72c-.78.78-.78 2.05 0 2.83L4 21.41c.39.39.9.59 1.41.59.51 0 1.02-.2 1.41-.59l7.78-7.78 2.81-2.81c.8-.78.8-2.07 0-2.86zM5.41 20L4 18.59l7.72-7.72 1.47 1.35L5.41 20z\"/>\n",
              "  </svg>\n",
              "      </button>\n",
              "      \n",
              "  <style>\n",
              "    .colab-df-container {\n",
              "      display:flex;\n",
              "      flex-wrap:wrap;\n",
              "      gap: 12px;\n",
              "    }\n",
              "\n",
              "    .colab-df-convert {\n",
              "      background-color: #E8F0FE;\n",
              "      border: none;\n",
              "      border-radius: 50%;\n",
              "      cursor: pointer;\n",
              "      display: none;\n",
              "      fill: #1967D2;\n",
              "      height: 32px;\n",
              "      padding: 0 0 0 0;\n",
              "      width: 32px;\n",
              "    }\n",
              "\n",
              "    .colab-df-convert:hover {\n",
              "      background-color: #E2EBFA;\n",
              "      box-shadow: 0px 1px 2px rgba(60, 64, 67, 0.3), 0px 1px 3px 1px rgba(60, 64, 67, 0.15);\n",
              "      fill: #174EA6;\n",
              "    }\n",
              "\n",
              "    [theme=dark] .colab-df-convert {\n",
              "      background-color: #3B4455;\n",
              "      fill: #D2E3FC;\n",
              "    }\n",
              "\n",
              "    [theme=dark] .colab-df-convert:hover {\n",
              "      background-color: #434B5C;\n",
              "      box-shadow: 0px 1px 3px 1px rgba(0, 0, 0, 0.15);\n",
              "      filter: drop-shadow(0px 1px 2px rgba(0, 0, 0, 0.3));\n",
              "      fill: #FFFFFF;\n",
              "    }\n",
              "  </style>\n",
              "\n",
              "      <script>\n",
              "        const buttonEl =\n",
              "          document.querySelector('#df-ffd3461b-da8f-4f57-b639-e7e8c29288ef button.colab-df-convert');\n",
              "        buttonEl.style.display =\n",
              "          google.colab.kernel.accessAllowed ? 'block' : 'none';\n",
              "\n",
              "        async function convertToInteractive(key) {\n",
              "          const element = document.querySelector('#df-ffd3461b-da8f-4f57-b639-e7e8c29288ef');\n",
              "          const dataTable =\n",
              "            await google.colab.kernel.invokeFunction('convertToInteractive',\n",
              "                                                     [key], {});\n",
              "          if (!dataTable) return;\n",
              "\n",
              "          const docLinkHtml = 'Like what you see? Visit the ' +\n",
              "            '<a target=\"_blank\" href=https://colab.research.google.com/notebooks/data_table.ipynb>data table notebook</a>'\n",
              "            + ' to learn more about interactive tables.';\n",
              "          element.innerHTML = '';\n",
              "          dataTable['output_type'] = 'display_data';\n",
              "          await google.colab.output.renderOutput(dataTable, element);\n",
              "          const docLink = document.createElement('div');\n",
              "          docLink.innerHTML = docLinkHtml;\n",
              "          element.appendChild(docLink);\n",
              "        }\n",
              "      </script>\n",
              "    </div>\n",
              "  </div>\n",
              "  "
            ]
          },
          "metadata": {},
          "execution_count": 33
        }
      ]
    },
    {
      "cell_type": "markdown",
      "source": [
        "**Quantidade de inscritos por faixa etaria e genero.</br> faixa etária das mulheres X homens que se candidatam**\n"
      ],
      "metadata": {
        "id": "HiZb_OXoL6cu"
      }
    },
    {
      "cell_type": "code",
      "source": [
        "cadidato_feminino_idade = candidatos_goias[candidatos_goias['DS_GENERO'] == \"FEMININO\"]"
      ],
      "metadata": {
        "id": "3_uU4whEMH11"
      },
      "execution_count": 34,
      "outputs": []
    },
    {
      "cell_type": "code",
      "source": [
        "candidato_masculino_idade = candidatos_goias[candidatos_goias['DS_GENERO'] == \"MASCULINO\"]"
      ],
      "metadata": {
        "id": "M-ISX-ERMQwn"
      },
      "execution_count": 35,
      "outputs": []
    },
    {
      "cell_type": "markdown",
      "source": [
        "**Faixa etária das mulheres que mais se candidatam**"
      ],
      "metadata": {
        "id": "yZeGxAMAMrCv"
      }
    },
    {
      "cell_type": "code",
      "source": [
        "#Utilizando sql para contabilizar eleitos masculino por idade\n",
        "query = \"\"\"SELECT  NR_IDADE_DATA_POSSE,COUNT(NR_IDADE_DATA_POSSE) as total_idade\n",
        "           FROM cadidato_feminino_idade\n",
        "           GROUP BY NR_IDADE_DATA_POSSE\n",
        "           ORDER BY COUNT(NR_IDADE_DATA_POSSE) DESC\n",
        "           limit 10\n",
        "           \"\"\"\n",
        "ps.sqldf(query.lower(), locals())"
      ],
      "metadata": {
        "colab": {
          "base_uri": "https://localhost:8080/",
          "height": 363
        },
        "id": "DFnFmCqqMqML",
        "outputId": "dbb18717-d553-4d1e-fac0-05745c4536f9"
      },
      "execution_count": 36,
      "outputs": [
        {
          "output_type": "execute_result",
          "data": {
            "text/plain": [
              "   NR_IDADE_DATA_POSSE  total_idade\n",
              "0                   39          419\n",
              "1                   44          419\n",
              "2                   40          414\n",
              "3                   41          412\n",
              "4                   42          397\n",
              "5                   43          395\n",
              "6                   37          377\n",
              "7                   45          376\n",
              "8                   38          375\n",
              "9                   46          345"
            ],
            "text/html": [
              "\n",
              "  <div id=\"df-79d2b0f4-016e-4b18-b5aa-aea5881d5848\">\n",
              "    <div class=\"colab-df-container\">\n",
              "      <div>\n",
              "<style scoped>\n",
              "    .dataframe tbody tr th:only-of-type {\n",
              "        vertical-align: middle;\n",
              "    }\n",
              "\n",
              "    .dataframe tbody tr th {\n",
              "        vertical-align: top;\n",
              "    }\n",
              "\n",
              "    .dataframe thead th {\n",
              "        text-align: right;\n",
              "    }\n",
              "</style>\n",
              "<table border=\"1\" class=\"dataframe\">\n",
              "  <thead>\n",
              "    <tr style=\"text-align: right;\">\n",
              "      <th></th>\n",
              "      <th>NR_IDADE_DATA_POSSE</th>\n",
              "      <th>total_idade</th>\n",
              "    </tr>\n",
              "  </thead>\n",
              "  <tbody>\n",
              "    <tr>\n",
              "      <th>0</th>\n",
              "      <td>39</td>\n",
              "      <td>419</td>\n",
              "    </tr>\n",
              "    <tr>\n",
              "      <th>1</th>\n",
              "      <td>44</td>\n",
              "      <td>419</td>\n",
              "    </tr>\n",
              "    <tr>\n",
              "      <th>2</th>\n",
              "      <td>40</td>\n",
              "      <td>414</td>\n",
              "    </tr>\n",
              "    <tr>\n",
              "      <th>3</th>\n",
              "      <td>41</td>\n",
              "      <td>412</td>\n",
              "    </tr>\n",
              "    <tr>\n",
              "      <th>4</th>\n",
              "      <td>42</td>\n",
              "      <td>397</td>\n",
              "    </tr>\n",
              "    <tr>\n",
              "      <th>5</th>\n",
              "      <td>43</td>\n",
              "      <td>395</td>\n",
              "    </tr>\n",
              "    <tr>\n",
              "      <th>6</th>\n",
              "      <td>37</td>\n",
              "      <td>377</td>\n",
              "    </tr>\n",
              "    <tr>\n",
              "      <th>7</th>\n",
              "      <td>45</td>\n",
              "      <td>376</td>\n",
              "    </tr>\n",
              "    <tr>\n",
              "      <th>8</th>\n",
              "      <td>38</td>\n",
              "      <td>375</td>\n",
              "    </tr>\n",
              "    <tr>\n",
              "      <th>9</th>\n",
              "      <td>46</td>\n",
              "      <td>345</td>\n",
              "    </tr>\n",
              "  </tbody>\n",
              "</table>\n",
              "</div>\n",
              "      <button class=\"colab-df-convert\" onclick=\"convertToInteractive('df-79d2b0f4-016e-4b18-b5aa-aea5881d5848')\"\n",
              "              title=\"Convert this dataframe to an interactive table.\"\n",
              "              style=\"display:none;\">\n",
              "        \n",
              "  <svg xmlns=\"http://www.w3.org/2000/svg\" height=\"24px\"viewBox=\"0 0 24 24\"\n",
              "       width=\"24px\">\n",
              "    <path d=\"M0 0h24v24H0V0z\" fill=\"none\"/>\n",
              "    <path d=\"M18.56 5.44l.94 2.06.94-2.06 2.06-.94-2.06-.94-.94-2.06-.94 2.06-2.06.94zm-11 1L8.5 8.5l.94-2.06 2.06-.94-2.06-.94L8.5 2.5l-.94 2.06-2.06.94zm10 10l.94 2.06.94-2.06 2.06-.94-2.06-.94-.94-2.06-.94 2.06-2.06.94z\"/><path d=\"M17.41 7.96l-1.37-1.37c-.4-.4-.92-.59-1.43-.59-.52 0-1.04.2-1.43.59L10.3 9.45l-7.72 7.72c-.78.78-.78 2.05 0 2.83L4 21.41c.39.39.9.59 1.41.59.51 0 1.02-.2 1.41-.59l7.78-7.78 2.81-2.81c.8-.78.8-2.07 0-2.86zM5.41 20L4 18.59l7.72-7.72 1.47 1.35L5.41 20z\"/>\n",
              "  </svg>\n",
              "      </button>\n",
              "      \n",
              "  <style>\n",
              "    .colab-df-container {\n",
              "      display:flex;\n",
              "      flex-wrap:wrap;\n",
              "      gap: 12px;\n",
              "    }\n",
              "\n",
              "    .colab-df-convert {\n",
              "      background-color: #E8F0FE;\n",
              "      border: none;\n",
              "      border-radius: 50%;\n",
              "      cursor: pointer;\n",
              "      display: none;\n",
              "      fill: #1967D2;\n",
              "      height: 32px;\n",
              "      padding: 0 0 0 0;\n",
              "      width: 32px;\n",
              "    }\n",
              "\n",
              "    .colab-df-convert:hover {\n",
              "      background-color: #E2EBFA;\n",
              "      box-shadow: 0px 1px 2px rgba(60, 64, 67, 0.3), 0px 1px 3px 1px rgba(60, 64, 67, 0.15);\n",
              "      fill: #174EA6;\n",
              "    }\n",
              "\n",
              "    [theme=dark] .colab-df-convert {\n",
              "      background-color: #3B4455;\n",
              "      fill: #D2E3FC;\n",
              "    }\n",
              "\n",
              "    [theme=dark] .colab-df-convert:hover {\n",
              "      background-color: #434B5C;\n",
              "      box-shadow: 0px 1px 3px 1px rgba(0, 0, 0, 0.15);\n",
              "      filter: drop-shadow(0px 1px 2px rgba(0, 0, 0, 0.3));\n",
              "      fill: #FFFFFF;\n",
              "    }\n",
              "  </style>\n",
              "\n",
              "      <script>\n",
              "        const buttonEl =\n",
              "          document.querySelector('#df-79d2b0f4-016e-4b18-b5aa-aea5881d5848 button.colab-df-convert');\n",
              "        buttonEl.style.display =\n",
              "          google.colab.kernel.accessAllowed ? 'block' : 'none';\n",
              "\n",
              "        async function convertToInteractive(key) {\n",
              "          const element = document.querySelector('#df-79d2b0f4-016e-4b18-b5aa-aea5881d5848');\n",
              "          const dataTable =\n",
              "            await google.colab.kernel.invokeFunction('convertToInteractive',\n",
              "                                                     [key], {});\n",
              "          if (!dataTable) return;\n",
              "\n",
              "          const docLinkHtml = 'Like what you see? Visit the ' +\n",
              "            '<a target=\"_blank\" href=https://colab.research.google.com/notebooks/data_table.ipynb>data table notebook</a>'\n",
              "            + ' to learn more about interactive tables.';\n",
              "          element.innerHTML = '';\n",
              "          dataTable['output_type'] = 'display_data';\n",
              "          await google.colab.output.renderOutput(dataTable, element);\n",
              "          const docLink = document.createElement('div');\n",
              "          docLink.innerHTML = docLinkHtml;\n",
              "          element.appendChild(docLink);\n",
              "        }\n",
              "      </script>\n",
              "    </div>\n",
              "  </div>\n",
              "  "
            ]
          },
          "metadata": {},
          "execution_count": 36
        }
      ]
    },
    {
      "cell_type": "markdown",
      "source": [
        "**Faixa etária dos homens que mais se candidatam**"
      ],
      "metadata": {
        "id": "ki29KWWhMuHf"
      }
    },
    {
      "cell_type": "code",
      "source": [
        "#Utilizando sql para contabilizar eleitos masculino por idade\n",
        "query = \"\"\"SELECT NR_IDADE_DATA_POSSE,COUNT(NR_IDADE_DATA_POSSE) as total_idade\n",
        "           FROM candidato_masculino_idade \n",
        "           GROUP BY NR_IDADE_DATA_POSSE\n",
        "           ORDER BY COUNT(NR_IDADE_DATA_POSSE) DESC\n",
        "           limit 10\n",
        "           \"\"\"\n",
        "ps.sqldf(query.lower(), locals())"
      ],
      "metadata": {
        "colab": {
          "base_uri": "https://localhost:8080/",
          "height": 363
        },
        "id": "acBNZtIRMy_d",
        "outputId": "f971b200-a13d-4a51-ad4b-56fa2de79afc"
      },
      "execution_count": 37,
      "outputs": [
        {
          "output_type": "execute_result",
          "data": {
            "text/plain": [
              "   NR_IDADE_DATA_POSSE  total_idade\n",
              "0                   42         1569\n",
              "1                   39         1515\n",
              "2                   43         1512\n",
              "3                   40         1479\n",
              "4                   38         1459\n",
              "5                   41         1455\n",
              "6                   46         1452\n",
              "7                   44         1447\n",
              "8                   45         1417\n",
              "9                   37         1401"
            ],
            "text/html": [
              "\n",
              "  <div id=\"df-306f566f-e896-4cc8-af25-1ce3e0a58c0a\">\n",
              "    <div class=\"colab-df-container\">\n",
              "      <div>\n",
              "<style scoped>\n",
              "    .dataframe tbody tr th:only-of-type {\n",
              "        vertical-align: middle;\n",
              "    }\n",
              "\n",
              "    .dataframe tbody tr th {\n",
              "        vertical-align: top;\n",
              "    }\n",
              "\n",
              "    .dataframe thead th {\n",
              "        text-align: right;\n",
              "    }\n",
              "</style>\n",
              "<table border=\"1\" class=\"dataframe\">\n",
              "  <thead>\n",
              "    <tr style=\"text-align: right;\">\n",
              "      <th></th>\n",
              "      <th>NR_IDADE_DATA_POSSE</th>\n",
              "      <th>total_idade</th>\n",
              "    </tr>\n",
              "  </thead>\n",
              "  <tbody>\n",
              "    <tr>\n",
              "      <th>0</th>\n",
              "      <td>42</td>\n",
              "      <td>1569</td>\n",
              "    </tr>\n",
              "    <tr>\n",
              "      <th>1</th>\n",
              "      <td>39</td>\n",
              "      <td>1515</td>\n",
              "    </tr>\n",
              "    <tr>\n",
              "      <th>2</th>\n",
              "      <td>43</td>\n",
              "      <td>1512</td>\n",
              "    </tr>\n",
              "    <tr>\n",
              "      <th>3</th>\n",
              "      <td>40</td>\n",
              "      <td>1479</td>\n",
              "    </tr>\n",
              "    <tr>\n",
              "      <th>4</th>\n",
              "      <td>38</td>\n",
              "      <td>1459</td>\n",
              "    </tr>\n",
              "    <tr>\n",
              "      <th>5</th>\n",
              "      <td>41</td>\n",
              "      <td>1455</td>\n",
              "    </tr>\n",
              "    <tr>\n",
              "      <th>6</th>\n",
              "      <td>46</td>\n",
              "      <td>1452</td>\n",
              "    </tr>\n",
              "    <tr>\n",
              "      <th>7</th>\n",
              "      <td>44</td>\n",
              "      <td>1447</td>\n",
              "    </tr>\n",
              "    <tr>\n",
              "      <th>8</th>\n",
              "      <td>45</td>\n",
              "      <td>1417</td>\n",
              "    </tr>\n",
              "    <tr>\n",
              "      <th>9</th>\n",
              "      <td>37</td>\n",
              "      <td>1401</td>\n",
              "    </tr>\n",
              "  </tbody>\n",
              "</table>\n",
              "</div>\n",
              "      <button class=\"colab-df-convert\" onclick=\"convertToInteractive('df-306f566f-e896-4cc8-af25-1ce3e0a58c0a')\"\n",
              "              title=\"Convert this dataframe to an interactive table.\"\n",
              "              style=\"display:none;\">\n",
              "        \n",
              "  <svg xmlns=\"http://www.w3.org/2000/svg\" height=\"24px\"viewBox=\"0 0 24 24\"\n",
              "       width=\"24px\">\n",
              "    <path d=\"M0 0h24v24H0V0z\" fill=\"none\"/>\n",
              "    <path d=\"M18.56 5.44l.94 2.06.94-2.06 2.06-.94-2.06-.94-.94-2.06-.94 2.06-2.06.94zm-11 1L8.5 8.5l.94-2.06 2.06-.94-2.06-.94L8.5 2.5l-.94 2.06-2.06.94zm10 10l.94 2.06.94-2.06 2.06-.94-2.06-.94-.94-2.06-.94 2.06-2.06.94z\"/><path d=\"M17.41 7.96l-1.37-1.37c-.4-.4-.92-.59-1.43-.59-.52 0-1.04.2-1.43.59L10.3 9.45l-7.72 7.72c-.78.78-.78 2.05 0 2.83L4 21.41c.39.39.9.59 1.41.59.51 0 1.02-.2 1.41-.59l7.78-7.78 2.81-2.81c.8-.78.8-2.07 0-2.86zM5.41 20L4 18.59l7.72-7.72 1.47 1.35L5.41 20z\"/>\n",
              "  </svg>\n",
              "      </button>\n",
              "      \n",
              "  <style>\n",
              "    .colab-df-container {\n",
              "      display:flex;\n",
              "      flex-wrap:wrap;\n",
              "      gap: 12px;\n",
              "    }\n",
              "\n",
              "    .colab-df-convert {\n",
              "      background-color: #E8F0FE;\n",
              "      border: none;\n",
              "      border-radius: 50%;\n",
              "      cursor: pointer;\n",
              "      display: none;\n",
              "      fill: #1967D2;\n",
              "      height: 32px;\n",
              "      padding: 0 0 0 0;\n",
              "      width: 32px;\n",
              "    }\n",
              "\n",
              "    .colab-df-convert:hover {\n",
              "      background-color: #E2EBFA;\n",
              "      box-shadow: 0px 1px 2px rgba(60, 64, 67, 0.3), 0px 1px 3px 1px rgba(60, 64, 67, 0.15);\n",
              "      fill: #174EA6;\n",
              "    }\n",
              "\n",
              "    [theme=dark] .colab-df-convert {\n",
              "      background-color: #3B4455;\n",
              "      fill: #D2E3FC;\n",
              "    }\n",
              "\n",
              "    [theme=dark] .colab-df-convert:hover {\n",
              "      background-color: #434B5C;\n",
              "      box-shadow: 0px 1px 3px 1px rgba(0, 0, 0, 0.15);\n",
              "      filter: drop-shadow(0px 1px 2px rgba(0, 0, 0, 0.3));\n",
              "      fill: #FFFFFF;\n",
              "    }\n",
              "  </style>\n",
              "\n",
              "      <script>\n",
              "        const buttonEl =\n",
              "          document.querySelector('#df-306f566f-e896-4cc8-af25-1ce3e0a58c0a button.colab-df-convert');\n",
              "        buttonEl.style.display =\n",
              "          google.colab.kernel.accessAllowed ? 'block' : 'none';\n",
              "\n",
              "        async function convertToInteractive(key) {\n",
              "          const element = document.querySelector('#df-306f566f-e896-4cc8-af25-1ce3e0a58c0a');\n",
              "          const dataTable =\n",
              "            await google.colab.kernel.invokeFunction('convertToInteractive',\n",
              "                                                     [key], {});\n",
              "          if (!dataTable) return;\n",
              "\n",
              "          const docLinkHtml = 'Like what you see? Visit the ' +\n",
              "            '<a target=\"_blank\" href=https://colab.research.google.com/notebooks/data_table.ipynb>data table notebook</a>'\n",
              "            + ' to learn more about interactive tables.';\n",
              "          element.innerHTML = '';\n",
              "          dataTable['output_type'] = 'display_data';\n",
              "          await google.colab.output.renderOutput(dataTable, element);\n",
              "          const docLink = document.createElement('div');\n",
              "          docLink.innerHTML = docLinkHtml;\n",
              "          element.appendChild(docLink);\n",
              "        }\n",
              "      </script>\n",
              "    </div>\n",
              "  </div>\n",
              "  "
            ]
          },
          "metadata": {},
          "execution_count": 37
        }
      ]
    },
    {
      "cell_type": "markdown",
      "source": [
        "**Porcentagem de inscritos pela idade**"
      ],
      "metadata": {
        "id": "61LV8ENDu7wh"
      }
    },
    {
      "cell_type": "code",
      "source": [
        "porc_inscritos_idade  = candidatos_goias['NR_IDADE_DATA_POSSE'].value_counts() / 50620 * 100 \n",
        "porc_inscritos_idade"
      ],
      "metadata": {
        "colab": {
          "base_uri": "https://localhost:8080/"
        },
        "id": "BTWunjI1s9m8",
        "outputId": "fd980e29-0665-4957-b954-a2d24bdbeab5"
      },
      "execution_count": 38,
      "outputs": [
        {
          "output_type": "execute_result",
          "data": {
            "text/plain": [
              "42    3.933228\n",
              "39    3.860134\n",
              "43    3.800869\n",
              "40    3.792967\n",
              "44    3.739629\n",
              "        ...   \n",
              "86    0.005927\n",
              "84    0.003951\n",
              "85    0.003951\n",
              "91    0.001976\n",
              "88    0.001976\n",
              "Name: NR_IDADE_DATA_POSSE, Length: 71, dtype: float64"
            ]
          },
          "metadata": {},
          "execution_count": 38
        }
      ]
    },
    {
      "cell_type": "markdown",
      "source": [
        "`Idade minima e maxima que participaram das eleições`"
      ],
      "metadata": {
        "id": "tPMA6ExixCLY"
      }
    },
    {
      "cell_type": "code",
      "source": [
        "candidatos_goias['NR_IDADE_DATA_POSSE'].max()"
      ],
      "metadata": {
        "colab": {
          "base_uri": "https://localhost:8080/"
        },
        "id": "FHm2edGKvFa_",
        "outputId": "efe91e62-3d10-480c-911d-6f036ba0a7b2"
      },
      "execution_count": 39,
      "outputs": [
        {
          "output_type": "execute_result",
          "data": {
            "text/plain": [
              "91"
            ]
          },
          "metadata": {},
          "execution_count": 39
        }
      ]
    },
    {
      "cell_type": "code",
      "source": [
        "candidatos_goias['NR_IDADE_DATA_POSSE'].min()"
      ],
      "metadata": {
        "colab": {
          "base_uri": "https://localhost:8080/"
        },
        "id": "WgqWitklxK0J",
        "outputId": "6f89bd61-3d40-48d0-f779-59aa88267e0c"
      },
      "execution_count": 40,
      "outputs": [
        {
          "output_type": "execute_result",
          "data": {
            "text/plain": [
              "18"
            ]
          },
          "metadata": {},
          "execution_count": 40
        }
      ]
    },
    {
      "cell_type": "markdown",
      "source": [
        "**Vamos comparar a porcentagem de candidatos por idade. idade entre 18 até 30 e de 31 até 50**"
      ],
      "metadata": {
        "id": "BNXzQP68yNYT"
      }
    },
    {
      "cell_type": "code",
      "source": [
        "#Utilizando sql para cantabilizar a idade de 18 até 30 \n",
        "query = \"\"\"SELECT COUNT(NR_IDADE_DATA_POSSE) as total_inscritos_idade\n",
        "           FROM candidatos_goias\n",
        "           where NR_IDADE_DATA_POSSE >= 18 and NR_IDADE_DATA_POSSE <=30\n",
        "           \"\"\"\n",
        "ps.sqldf(query.lower(), locals())"
      ],
      "metadata": {
        "colab": {
          "base_uri": "https://localhost:8080/",
          "height": 81
        },
        "id": "9XvuxLiax0Zg",
        "outputId": "73988a38-ad6b-490f-b98d-c6b61aae81f5"
      },
      "execution_count": 41,
      "outputs": [
        {
          "output_type": "execute_result",
          "data": {
            "text/plain": [
              "   total_inscritos_idade\n",
              "0                   6115"
            ],
            "text/html": [
              "\n",
              "  <div id=\"df-f5c42aa8-d944-4809-b70b-a8eafb7cc372\">\n",
              "    <div class=\"colab-df-container\">\n",
              "      <div>\n",
              "<style scoped>\n",
              "    .dataframe tbody tr th:only-of-type {\n",
              "        vertical-align: middle;\n",
              "    }\n",
              "\n",
              "    .dataframe tbody tr th {\n",
              "        vertical-align: top;\n",
              "    }\n",
              "\n",
              "    .dataframe thead th {\n",
              "        text-align: right;\n",
              "    }\n",
              "</style>\n",
              "<table border=\"1\" class=\"dataframe\">\n",
              "  <thead>\n",
              "    <tr style=\"text-align: right;\">\n",
              "      <th></th>\n",
              "      <th>total_inscritos_idade</th>\n",
              "    </tr>\n",
              "  </thead>\n",
              "  <tbody>\n",
              "    <tr>\n",
              "      <th>0</th>\n",
              "      <td>6115</td>\n",
              "    </tr>\n",
              "  </tbody>\n",
              "</table>\n",
              "</div>\n",
              "      <button class=\"colab-df-convert\" onclick=\"convertToInteractive('df-f5c42aa8-d944-4809-b70b-a8eafb7cc372')\"\n",
              "              title=\"Convert this dataframe to an interactive table.\"\n",
              "              style=\"display:none;\">\n",
              "        \n",
              "  <svg xmlns=\"http://www.w3.org/2000/svg\" height=\"24px\"viewBox=\"0 0 24 24\"\n",
              "       width=\"24px\">\n",
              "    <path d=\"M0 0h24v24H0V0z\" fill=\"none\"/>\n",
              "    <path d=\"M18.56 5.44l.94 2.06.94-2.06 2.06-.94-2.06-.94-.94-2.06-.94 2.06-2.06.94zm-11 1L8.5 8.5l.94-2.06 2.06-.94-2.06-.94L8.5 2.5l-.94 2.06-2.06.94zm10 10l.94 2.06.94-2.06 2.06-.94-2.06-.94-.94-2.06-.94 2.06-2.06.94z\"/><path d=\"M17.41 7.96l-1.37-1.37c-.4-.4-.92-.59-1.43-.59-.52 0-1.04.2-1.43.59L10.3 9.45l-7.72 7.72c-.78.78-.78 2.05 0 2.83L4 21.41c.39.39.9.59 1.41.59.51 0 1.02-.2 1.41-.59l7.78-7.78 2.81-2.81c.8-.78.8-2.07 0-2.86zM5.41 20L4 18.59l7.72-7.72 1.47 1.35L5.41 20z\"/>\n",
              "  </svg>\n",
              "      </button>\n",
              "      \n",
              "  <style>\n",
              "    .colab-df-container {\n",
              "      display:flex;\n",
              "      flex-wrap:wrap;\n",
              "      gap: 12px;\n",
              "    }\n",
              "\n",
              "    .colab-df-convert {\n",
              "      background-color: #E8F0FE;\n",
              "      border: none;\n",
              "      border-radius: 50%;\n",
              "      cursor: pointer;\n",
              "      display: none;\n",
              "      fill: #1967D2;\n",
              "      height: 32px;\n",
              "      padding: 0 0 0 0;\n",
              "      width: 32px;\n",
              "    }\n",
              "\n",
              "    .colab-df-convert:hover {\n",
              "      background-color: #E2EBFA;\n",
              "      box-shadow: 0px 1px 2px rgba(60, 64, 67, 0.3), 0px 1px 3px 1px rgba(60, 64, 67, 0.15);\n",
              "      fill: #174EA6;\n",
              "    }\n",
              "\n",
              "    [theme=dark] .colab-df-convert {\n",
              "      background-color: #3B4455;\n",
              "      fill: #D2E3FC;\n",
              "    }\n",
              "\n",
              "    [theme=dark] .colab-df-convert:hover {\n",
              "      background-color: #434B5C;\n",
              "      box-shadow: 0px 1px 3px 1px rgba(0, 0, 0, 0.15);\n",
              "      filter: drop-shadow(0px 1px 2px rgba(0, 0, 0, 0.3));\n",
              "      fill: #FFFFFF;\n",
              "    }\n",
              "  </style>\n",
              "\n",
              "      <script>\n",
              "        const buttonEl =\n",
              "          document.querySelector('#df-f5c42aa8-d944-4809-b70b-a8eafb7cc372 button.colab-df-convert');\n",
              "        buttonEl.style.display =\n",
              "          google.colab.kernel.accessAllowed ? 'block' : 'none';\n",
              "\n",
              "        async function convertToInteractive(key) {\n",
              "          const element = document.querySelector('#df-f5c42aa8-d944-4809-b70b-a8eafb7cc372');\n",
              "          const dataTable =\n",
              "            await google.colab.kernel.invokeFunction('convertToInteractive',\n",
              "                                                     [key], {});\n",
              "          if (!dataTable) return;\n",
              "\n",
              "          const docLinkHtml = 'Like what you see? Visit the ' +\n",
              "            '<a target=\"_blank\" href=https://colab.research.google.com/notebooks/data_table.ipynb>data table notebook</a>'\n",
              "            + ' to learn more about interactive tables.';\n",
              "          element.innerHTML = '';\n",
              "          dataTable['output_type'] = 'display_data';\n",
              "          await google.colab.output.renderOutput(dataTable, element);\n",
              "          const docLink = document.createElement('div');\n",
              "          docLink.innerHTML = docLinkHtml;\n",
              "          element.appendChild(docLink);\n",
              "        }\n",
              "      </script>\n",
              "    </div>\n",
              "  </div>\n",
              "  "
            ]
          },
          "metadata": {},
          "execution_count": 41
        }
      ]
    },
    {
      "cell_type": "code",
      "source": [
        "#Porcentagem \n",
        "porc_idade = (6115/ 50620) * 100\n",
        "print('A porcentagem por idade entre 18 até 30 é: {:.2f}'.format(porc_idade))\n"
      ],
      "metadata": {
        "colab": {
          "base_uri": "https://localhost:8080/"
        },
        "id": "_f-5uIwDzl4M",
        "outputId": "f8c17135-8965-49db-be31-b5357a4e54ef"
      },
      "execution_count": 42,
      "outputs": [
        {
          "output_type": "stream",
          "name": "stdout",
          "text": [
            "A porcentagem por idade entre 18 até 30 é: 12.08\n"
          ]
        }
      ]
    },
    {
      "cell_type": "code",
      "source": [
        "#Utilizando sql para cantabilizar a idade de 18 até 30 \n",
        "query = \"\"\"SELECT COUNT(NR_IDADE_DATA_POSSE) as total_inscritos_idade\n",
        "           FROM candidatos_goias\n",
        "           where NR_IDADE_DATA_POSSE >= 31 and NR_IDADE_DATA_POSSE <=50\n",
        "           \"\"\"\n",
        "ps.sqldf(query.lower(), locals())"
      ],
      "metadata": {
        "colab": {
          "base_uri": "https://localhost:8080/",
          "height": 81
        },
        "id": "0zyYb5FCyoRI",
        "outputId": "25a49646-3561-4025-fb9e-544ef997ff3d"
      },
      "execution_count": 43,
      "outputs": [
        {
          "output_type": "execute_result",
          "data": {
            "text/plain": [
              "   total_inscritos_idade\n",
              "0                  33604"
            ],
            "text/html": [
              "\n",
              "  <div id=\"df-afd50625-d851-420d-927f-a4036d5519a5\">\n",
              "    <div class=\"colab-df-container\">\n",
              "      <div>\n",
              "<style scoped>\n",
              "    .dataframe tbody tr th:only-of-type {\n",
              "        vertical-align: middle;\n",
              "    }\n",
              "\n",
              "    .dataframe tbody tr th {\n",
              "        vertical-align: top;\n",
              "    }\n",
              "\n",
              "    .dataframe thead th {\n",
              "        text-align: right;\n",
              "    }\n",
              "</style>\n",
              "<table border=\"1\" class=\"dataframe\">\n",
              "  <thead>\n",
              "    <tr style=\"text-align: right;\">\n",
              "      <th></th>\n",
              "      <th>total_inscritos_idade</th>\n",
              "    </tr>\n",
              "  </thead>\n",
              "  <tbody>\n",
              "    <tr>\n",
              "      <th>0</th>\n",
              "      <td>33604</td>\n",
              "    </tr>\n",
              "  </tbody>\n",
              "</table>\n",
              "</div>\n",
              "      <button class=\"colab-df-convert\" onclick=\"convertToInteractive('df-afd50625-d851-420d-927f-a4036d5519a5')\"\n",
              "              title=\"Convert this dataframe to an interactive table.\"\n",
              "              style=\"display:none;\">\n",
              "        \n",
              "  <svg xmlns=\"http://www.w3.org/2000/svg\" height=\"24px\"viewBox=\"0 0 24 24\"\n",
              "       width=\"24px\">\n",
              "    <path d=\"M0 0h24v24H0V0z\" fill=\"none\"/>\n",
              "    <path d=\"M18.56 5.44l.94 2.06.94-2.06 2.06-.94-2.06-.94-.94-2.06-.94 2.06-2.06.94zm-11 1L8.5 8.5l.94-2.06 2.06-.94-2.06-.94L8.5 2.5l-.94 2.06-2.06.94zm10 10l.94 2.06.94-2.06 2.06-.94-2.06-.94-.94-2.06-.94 2.06-2.06.94z\"/><path d=\"M17.41 7.96l-1.37-1.37c-.4-.4-.92-.59-1.43-.59-.52 0-1.04.2-1.43.59L10.3 9.45l-7.72 7.72c-.78.78-.78 2.05 0 2.83L4 21.41c.39.39.9.59 1.41.59.51 0 1.02-.2 1.41-.59l7.78-7.78 2.81-2.81c.8-.78.8-2.07 0-2.86zM5.41 20L4 18.59l7.72-7.72 1.47 1.35L5.41 20z\"/>\n",
              "  </svg>\n",
              "      </button>\n",
              "      \n",
              "  <style>\n",
              "    .colab-df-container {\n",
              "      display:flex;\n",
              "      flex-wrap:wrap;\n",
              "      gap: 12px;\n",
              "    }\n",
              "\n",
              "    .colab-df-convert {\n",
              "      background-color: #E8F0FE;\n",
              "      border: none;\n",
              "      border-radius: 50%;\n",
              "      cursor: pointer;\n",
              "      display: none;\n",
              "      fill: #1967D2;\n",
              "      height: 32px;\n",
              "      padding: 0 0 0 0;\n",
              "      width: 32px;\n",
              "    }\n",
              "\n",
              "    .colab-df-convert:hover {\n",
              "      background-color: #E2EBFA;\n",
              "      box-shadow: 0px 1px 2px rgba(60, 64, 67, 0.3), 0px 1px 3px 1px rgba(60, 64, 67, 0.15);\n",
              "      fill: #174EA6;\n",
              "    }\n",
              "\n",
              "    [theme=dark] .colab-df-convert {\n",
              "      background-color: #3B4455;\n",
              "      fill: #D2E3FC;\n",
              "    }\n",
              "\n",
              "    [theme=dark] .colab-df-convert:hover {\n",
              "      background-color: #434B5C;\n",
              "      box-shadow: 0px 1px 3px 1px rgba(0, 0, 0, 0.15);\n",
              "      filter: drop-shadow(0px 1px 2px rgba(0, 0, 0, 0.3));\n",
              "      fill: #FFFFFF;\n",
              "    }\n",
              "  </style>\n",
              "\n",
              "      <script>\n",
              "        const buttonEl =\n",
              "          document.querySelector('#df-afd50625-d851-420d-927f-a4036d5519a5 button.colab-df-convert');\n",
              "        buttonEl.style.display =\n",
              "          google.colab.kernel.accessAllowed ? 'block' : 'none';\n",
              "\n",
              "        async function convertToInteractive(key) {\n",
              "          const element = document.querySelector('#df-afd50625-d851-420d-927f-a4036d5519a5');\n",
              "          const dataTable =\n",
              "            await google.colab.kernel.invokeFunction('convertToInteractive',\n",
              "                                                     [key], {});\n",
              "          if (!dataTable) return;\n",
              "\n",
              "          const docLinkHtml = 'Like what you see? Visit the ' +\n",
              "            '<a target=\"_blank\" href=https://colab.research.google.com/notebooks/data_table.ipynb>data table notebook</a>'\n",
              "            + ' to learn more about interactive tables.';\n",
              "          element.innerHTML = '';\n",
              "          dataTable['output_type'] = 'display_data';\n",
              "          await google.colab.output.renderOutput(dataTable, element);\n",
              "          const docLink = document.createElement('div');\n",
              "          docLink.innerHTML = docLinkHtml;\n",
              "          element.appendChild(docLink);\n",
              "        }\n",
              "      </script>\n",
              "    </div>\n",
              "  </div>\n",
              "  "
            ]
          },
          "metadata": {},
          "execution_count": 43
        }
      ]
    },
    {
      "cell_type": "code",
      "source": [
        "#Porcentagem \n",
        "porc_idade = (33604/50620) * 100\n",
        "print('A porcentagem por idade entre 31 até 50 é: {:.2f}'.format(porc_idade))"
      ],
      "metadata": {
        "colab": {
          "base_uri": "https://localhost:8080/"
        },
        "id": "3B8Kh9zty9Yb",
        "outputId": "d3d92344-6ff4-4d7d-f42e-2d9549b2c0d9"
      },
      "execution_count": 44,
      "outputs": [
        {
          "output_type": "stream",
          "name": "stdout",
          "text": [
            "A porcentagem por idade entre 31 até 50 é: 66.38\n"
          ]
        }
      ]
    },
    {
      "cell_type": "markdown",
      "source": [
        "**Analisando a quantidade de mulheres X homens candidatos**"
      ],
      "metadata": {
        "id": "oG-ymCKQ1onW"
      }
    },
    {
      "cell_type": "code",
      "source": [
        "candidatos_goias['DS_GENERO'].unique()"
      ],
      "metadata": {
        "colab": {
          "base_uri": "https://localhost:8080/"
        },
        "id": "qUD5UYm32Q8u",
        "outputId": "53c172f6-9ecb-465c-fbc5-c99ac94226e5"
      },
      "execution_count": 45,
      "outputs": [
        {
          "output_type": "execute_result",
          "data": {
            "text/plain": [
              "array(['MASCULINO', 'FEMININO', 'NÃO INFORMADO', '#NE'], dtype=object)"
            ]
          },
          "metadata": {},
          "execution_count": 45
        }
      ]
    },
    {
      "cell_type": "code",
      "source": [
        "#Utilizando sql para cantabilizar por genero/candidatos\n",
        "query = \"\"\"SELECT DS_GENERO,COUNT(DS_GENERO) as total_inscritos_genero\n",
        "           FROM candidatos_goias\n",
        "           GROUP BY DS_GENERO\n",
        "           ORDER BY COUNT(DS_GENERO) DESC\"\"\"\n",
        "ps.sqldf(query.lower(), locals())"
      ],
      "metadata": {
        "colab": {
          "base_uri": "https://localhost:8080/",
          "height": 175
        },
        "id": "jKsBOSLf08Rp",
        "outputId": "87adcaf8-df45-4c13-e05c-c19dd68cfc89"
      },
      "execution_count": 46,
      "outputs": [
        {
          "output_type": "execute_result",
          "data": {
            "text/plain": [
              "       DS_GENERO  total_inscritos_genero\n",
              "0      MASCULINO                   40075\n",
              "1       FEMININO                    9917\n",
              "2            #NE                     618\n",
              "3  NÃO INFORMADO                      10"
            ],
            "text/html": [
              "\n",
              "  <div id=\"df-c00c0ef2-35a5-4691-a0e9-c9e2963dacaa\">\n",
              "    <div class=\"colab-df-container\">\n",
              "      <div>\n",
              "<style scoped>\n",
              "    .dataframe tbody tr th:only-of-type {\n",
              "        vertical-align: middle;\n",
              "    }\n",
              "\n",
              "    .dataframe tbody tr th {\n",
              "        vertical-align: top;\n",
              "    }\n",
              "\n",
              "    .dataframe thead th {\n",
              "        text-align: right;\n",
              "    }\n",
              "</style>\n",
              "<table border=\"1\" class=\"dataframe\">\n",
              "  <thead>\n",
              "    <tr style=\"text-align: right;\">\n",
              "      <th></th>\n",
              "      <th>DS_GENERO</th>\n",
              "      <th>total_inscritos_genero</th>\n",
              "    </tr>\n",
              "  </thead>\n",
              "  <tbody>\n",
              "    <tr>\n",
              "      <th>0</th>\n",
              "      <td>MASCULINO</td>\n",
              "      <td>40075</td>\n",
              "    </tr>\n",
              "    <tr>\n",
              "      <th>1</th>\n",
              "      <td>FEMININO</td>\n",
              "      <td>9917</td>\n",
              "    </tr>\n",
              "    <tr>\n",
              "      <th>2</th>\n",
              "      <td>#NE</td>\n",
              "      <td>618</td>\n",
              "    </tr>\n",
              "    <tr>\n",
              "      <th>3</th>\n",
              "      <td>NÃO INFORMADO</td>\n",
              "      <td>10</td>\n",
              "    </tr>\n",
              "  </tbody>\n",
              "</table>\n",
              "</div>\n",
              "      <button class=\"colab-df-convert\" onclick=\"convertToInteractive('df-c00c0ef2-35a5-4691-a0e9-c9e2963dacaa')\"\n",
              "              title=\"Convert this dataframe to an interactive table.\"\n",
              "              style=\"display:none;\">\n",
              "        \n",
              "  <svg xmlns=\"http://www.w3.org/2000/svg\" height=\"24px\"viewBox=\"0 0 24 24\"\n",
              "       width=\"24px\">\n",
              "    <path d=\"M0 0h24v24H0V0z\" fill=\"none\"/>\n",
              "    <path d=\"M18.56 5.44l.94 2.06.94-2.06 2.06-.94-2.06-.94-.94-2.06-.94 2.06-2.06.94zm-11 1L8.5 8.5l.94-2.06 2.06-.94-2.06-.94L8.5 2.5l-.94 2.06-2.06.94zm10 10l.94 2.06.94-2.06 2.06-.94-2.06-.94-.94-2.06-.94 2.06-2.06.94z\"/><path d=\"M17.41 7.96l-1.37-1.37c-.4-.4-.92-.59-1.43-.59-.52 0-1.04.2-1.43.59L10.3 9.45l-7.72 7.72c-.78.78-.78 2.05 0 2.83L4 21.41c.39.39.9.59 1.41.59.51 0 1.02-.2 1.41-.59l7.78-7.78 2.81-2.81c.8-.78.8-2.07 0-2.86zM5.41 20L4 18.59l7.72-7.72 1.47 1.35L5.41 20z\"/>\n",
              "  </svg>\n",
              "      </button>\n",
              "      \n",
              "  <style>\n",
              "    .colab-df-container {\n",
              "      display:flex;\n",
              "      flex-wrap:wrap;\n",
              "      gap: 12px;\n",
              "    }\n",
              "\n",
              "    .colab-df-convert {\n",
              "      background-color: #E8F0FE;\n",
              "      border: none;\n",
              "      border-radius: 50%;\n",
              "      cursor: pointer;\n",
              "      display: none;\n",
              "      fill: #1967D2;\n",
              "      height: 32px;\n",
              "      padding: 0 0 0 0;\n",
              "      width: 32px;\n",
              "    }\n",
              "\n",
              "    .colab-df-convert:hover {\n",
              "      background-color: #E2EBFA;\n",
              "      box-shadow: 0px 1px 2px rgba(60, 64, 67, 0.3), 0px 1px 3px 1px rgba(60, 64, 67, 0.15);\n",
              "      fill: #174EA6;\n",
              "    }\n",
              "\n",
              "    [theme=dark] .colab-df-convert {\n",
              "      background-color: #3B4455;\n",
              "      fill: #D2E3FC;\n",
              "    }\n",
              "\n",
              "    [theme=dark] .colab-df-convert:hover {\n",
              "      background-color: #434B5C;\n",
              "      box-shadow: 0px 1px 3px 1px rgba(0, 0, 0, 0.15);\n",
              "      filter: drop-shadow(0px 1px 2px rgba(0, 0, 0, 0.3));\n",
              "      fill: #FFFFFF;\n",
              "    }\n",
              "  </style>\n",
              "\n",
              "      <script>\n",
              "        const buttonEl =\n",
              "          document.querySelector('#df-c00c0ef2-35a5-4691-a0e9-c9e2963dacaa button.colab-df-convert');\n",
              "        buttonEl.style.display =\n",
              "          google.colab.kernel.accessAllowed ? 'block' : 'none';\n",
              "\n",
              "        async function convertToInteractive(key) {\n",
              "          const element = document.querySelector('#df-c00c0ef2-35a5-4691-a0e9-c9e2963dacaa');\n",
              "          const dataTable =\n",
              "            await google.colab.kernel.invokeFunction('convertToInteractive',\n",
              "                                                     [key], {});\n",
              "          if (!dataTable) return;\n",
              "\n",
              "          const docLinkHtml = 'Like what you see? Visit the ' +\n",
              "            '<a target=\"_blank\" href=https://colab.research.google.com/notebooks/data_table.ipynb>data table notebook</a>'\n",
              "            + ' to learn more about interactive tables.';\n",
              "          element.innerHTML = '';\n",
              "          dataTable['output_type'] = 'display_data';\n",
              "          await google.colab.output.renderOutput(dataTable, element);\n",
              "          const docLink = document.createElement('div');\n",
              "          docLink.innerHTML = docLinkHtml;\n",
              "          element.appendChild(docLink);\n",
              "        }\n",
              "      </script>\n",
              "    </div>\n",
              "  </div>\n",
              "  "
            ]
          },
          "metadata": {},
          "execution_count": 46
        }
      ]
    },
    {
      "cell_type": "markdown",
      "source": [
        "**Gráfico candidatos Mulheres X homens**"
      ],
      "metadata": {
        "id": "HycMnYrt2iq0"
      }
    },
    {
      "cell_type": "code",
      "source": [
        "fig = plt.figure(figsize=(10,5))\n",
        "grafico = sns.countplot('DS_GENERO', order = candidatos_goias['DS_GENERO'].value_counts().index, palette=\"Paired\",  data =  candidatos_goias)\n",
        "plt.xticks(rotation=90)\n",
        "for i in grafico.patches:\n",
        "   grafico.annotate(i.get_height(),\n",
        "                  (i.get_x() + i.get_width() / 2, i.get_height()),\n",
        "                  ha='center',\n",
        "                  va='baseline',\n",
        "                  fontsize=12,\n",
        "                  color='black',\n",
        "                  xytext=(0, 1),\n",
        "                  textcoords='offset points');  \n",
        "plt.xlabel('Genero', fontsize=15)\n",
        "plt.ylabel(' ')\n",
        "plt.title('Grafico quantidade por Genero',fontsize=15);"
      ],
      "metadata": {
        "colab": {
          "base_uri": "https://localhost:8080/",
          "height": 489
        },
        "id": "D23ykm-n2MT7",
        "outputId": "4092328a-4b45-48e9-f0c6-f370d6cb280a"
      },
      "execution_count": 47,
      "outputs": [
        {
          "output_type": "stream",
          "name": "stderr",
          "text": [
            "/usr/local/lib/python3.7/dist-packages/seaborn/_decorators.py:43: FutureWarning: Pass the following variable as a keyword arg: x. From version 0.12, the only valid positional argument will be `data`, and passing other arguments without an explicit keyword will result in an error or misinterpretation.\n",
            "  FutureWarning\n"
          ]
        },
        {
          "output_type": "display_data",
          "data": {
            "text/plain": [
              "<Figure size 720x360 with 1 Axes>"
            ],
            "image/png": "[encoded data removed]"
          },
          "metadata": {
            "needs_background": "light"
          }
        }
      ]
    },
    {
      "cell_type": "markdown",
      "source": [
        "**Porcentagem de inscritos por genero**"
      ],
      "metadata": {
        "id": "PqDv26Dk23yy"
      }
    },
    {
      "cell_type": "code",
      "source": [
        "#Total inscritos por genero\n",
        "candidatos_goias['DS_GENERO'].count()"
      ],
      "metadata": {
        "colab": {
          "base_uri": "https://localhost:8080/"
        },
        "id": "F4JM4qnW3CrW",
        "outputId": "cb050236-c8a3-477a-a5e2-a44a969b2f1c"
      },
      "execution_count": 48,
      "outputs": [
        {
          "output_type": "execute_result",
          "data": {
            "text/plain": [
              "50620"
            ]
          },
          "metadata": {},
          "execution_count": 48
        }
      ]
    },
    {
      "cell_type": "code",
      "source": [
        "#Quantidade de inscritos por genero\n",
        "candidatos_goias['DS_GENERO'].value_counts()"
      ],
      "metadata": {
        "colab": {
          "base_uri": "https://localhost:8080/"
        },
        "id": "ChgikeVxB_U4",
        "outputId": "8f453eba-969c-4730-b4a2-f33e2f6ccc63"
      },
      "execution_count": 49,
      "outputs": [
        {
          "output_type": "execute_result",
          "data": {
            "text/plain": [
              "MASCULINO        40075\n",
              "FEMININO          9917\n",
              "#NE                618\n",
              "NÃO INFORMADO       10\n",
              "Name: DS_GENERO, dtype: int64"
            ]
          },
          "metadata": {},
          "execution_count": 49
        }
      ]
    },
    {
      "cell_type": "code",
      "source": [
        "#Porcentagem de inscritos por genero\n",
        "porc_inscritos_genero = candidatos_goias['DS_GENERO'].value_counts() / 50620 * 100 \n",
        "porc_inscritos_genero"
      ],
      "metadata": {
        "colab": {
          "base_uri": "https://localhost:8080/"
        },
        "id": "Cvu3zjoX23b4",
        "outputId": "975a04d2-c312-4a14-8c7c-39e918e36b42"
      },
      "execution_count": 50,
      "outputs": [
        {
          "output_type": "execute_result",
          "data": {
            "text/plain": [
              "MASCULINO        79.168313\n",
              "FEMININO         19.591071\n",
              "#NE               1.220861\n",
              "NÃO INFORMADO     0.019755\n",
              "Name: DS_GENERO, dtype: float64"
            ]
          },
          "metadata": {},
          "execution_count": 50
        }
      ]
    },
    {
      "cell_type": "markdown",
      "source": [
        "**As porcentagens de inscritos por genero dos  dados representada em um grafico de  pizza de 100%**"
      ],
      "metadata": {
        "id": "1PjGdoCmEc0i"
      }
    },
    {
      "cell_type": "code",
      "source": [
        "labels = ['FEMININO','MASCULINO']\n",
        "media = [19.591,79.168]\n",
        "colores = ((1.0, 0.0, .40), (0.0, .40, 1.0), (.40, 1.0, .20))\n",
        "fig, ax = plt.subplots(figsize=(12, 5))\n",
        "\n",
        "ax.pie(media, labels=labels,autopct = '%.1f%%',colors = colores)\n",
        "ax.set_title('Media de inscritos por genero Mulher X Homen', fontsize=16)\n",
        "plt.show()"
      ],
      "metadata": {
        "colab": {
          "base_uri": "https://localhost:8080/",
          "height": 321
        },
        "id": "t2qjfQfHEKy4",
        "outputId": "20a6bae3-1e03-41bb-fa92-0c06e06802c5"
      },
      "execution_count": 51,
      "outputs": [
        {
          "output_type": "display_data",
          "data": {
            "text/plain": [
              "<Figure size 864x360 with 1 Axes>"
            ],
            "image/png": "[encoded data removed]"
          },
          "metadata": {}
        }
      ]
    },
    {
      "cell_type": "markdown",
      "source": [
        "**Qual tipo de eleições mulheres x homens mais se inscreveram**"
      ],
      "metadata": {
        "id": "9Oat8vjaCX7w"
      }
    },
    {
      "cell_type": "markdown",
      "source": [
        "`Eleições que as mulheres mais se candidata`"
      ],
      "metadata": {
        "id": "3MM_CYGHEiZt"
      }
    },
    {
      "cell_type": "code",
      "source": [
        "abragencia_feminino = candidatos_goias[candidatos_goias['DS_GENERO'] == \"FEMININO\"]\n",
        "abragencia_feminino['TP_ABRANGENCIA'].value_counts()"
      ],
      "metadata": {
        "colab": {
          "base_uri": "https://localhost:8080/"
        },
        "id": "k16vx6AqCf6m",
        "outputId": "4379423e-d6c9-43e4-9045-30b4c5f5fcc8"
      },
      "execution_count": 52,
      "outputs": [
        {
          "output_type": "execute_result",
          "data": {
            "text/plain": [
              "MUNICIPAL    9684\n",
              "FEDERAL       233\n",
              "Name: TP_ABRANGENCIA, dtype: int64"
            ]
          },
          "metadata": {},
          "execution_count": 52
        }
      ]
    },
    {
      "cell_type": "markdown",
      "source": [
        "`Eleições que os homens mais se candidata`"
      ],
      "metadata": {
        "id": "KBRmcF2VEme1"
      }
    },
    {
      "cell_type": "code",
      "source": [
        "abragencia_masculino = candidatos_goias[candidatos_goias['DS_GENERO'] == \"MASCULINO\"]\n",
        "abragencia_masculino['TP_ABRANGENCIA'].value_counts()"
      ],
      "metadata": {
        "colab": {
          "base_uri": "https://localhost:8080/"
        },
        "id": "9VhzeaHIEqws",
        "outputId": "de96791a-a6c2-48af-ad78-9e555ce22f4e"
      },
      "execution_count": 53,
      "outputs": [
        {
          "output_type": "execute_result",
          "data": {
            "text/plain": [
              "MUNICIPAL    38024\n",
              "FEDERAL       2051\n",
              "Name: TP_ABRANGENCIA, dtype: int64"
            ]
          },
          "metadata": {},
          "execution_count": 53
        }
      ]
    },
    {
      "cell_type": "markdown",
      "source": [
        "**Qual tipo de eleições as mulheres x homens mais são eleitos**"
      ],
      "metadata": {
        "id": "MKmnQrcKE70O"
      }
    },
    {
      "cell_type": "markdown",
      "source": [
        "`Tipo de eleições que as mulheres mais ganham`"
      ],
      "metadata": {
        "id": "4eZ5M4kKFC_c"
      }
    },
    {
      "cell_type": "code",
      "source": [
        "abragencia_feminino_eleita = candidatos_goias[candidatos_goias['DS_GENERO'] == \"FEMININO\"]\n",
        "abragencia_feminino_eleita = abragencia_feminino_eleita[abragencia_feminino_eleita['DS_SIT_TOT_TURNO'] == \"ELEITO\"]\n",
        "abragencia_feminino_eleita['TP_ABRANGENCIA'].value_counts()"
      ],
      "metadata": {
        "colab": {
          "base_uri": "https://localhost:8080/"
        },
        "id": "qFt7tov0FHF7",
        "outputId": "9427ee34-6af0-44fa-e663-e0475388c1a4"
      },
      "execution_count": 54,
      "outputs": [
        {
          "output_type": "execute_result",
          "data": {
            "text/plain": [
              "MUNICIPAL    740\n",
              "FEDERAL       33\n",
              "Name: TP_ABRANGENCIA, dtype: int64"
            ]
          },
          "metadata": {},
          "execution_count": 54
        }
      ]
    },
    {
      "cell_type": "markdown",
      "source": [
        "`Tipo de eleições que os homens mais ganham `"
      ],
      "metadata": {
        "id": "9XqYg0zxFzkq"
      }
    },
    {
      "cell_type": "code",
      "source": [
        "abragencia_masculino_eleita = candidatos_goias[candidatos_goias['DS_GENERO'] == \"MASCULINO\"]\n",
        "abragencia_masculino_eleita = abragencia_masculino_eleita[abragencia_masculino_eleita['DS_SIT_TOT_TURNO'] == \"ELEITO\"]\n",
        "abragencia_masculino_eleita['TP_ABRANGENCIA'].value_counts()"
      ],
      "metadata": {
        "colab": {
          "base_uri": "https://localhost:8080/"
        },
        "id": "Kyz1YhlyF2zi",
        "outputId": "602010e6-de00-4bec-85be-59fa8049c662"
      },
      "execution_count": 55,
      "outputs": [
        {
          "output_type": "execute_result",
          "data": {
            "text/plain": [
              "MUNICIPAL    5472\n",
              "FEDERAL       171\n",
              "Name: TP_ABRANGENCIA, dtype: int64"
            ]
          },
          "metadata": {},
          "execution_count": 55
        }
      ]
    },
    {
      "cell_type": "markdown",
      "source": [
        "**Qual partido mais tem mulhere X homens candidata**"
      ],
      "metadata": {
        "id": "rXYviLqyGFYt"
      }
    },
    {
      "cell_type": "markdown",
      "source": [
        "`partidos que mais tem mulheres candidatas `"
      ],
      "metadata": {
        "id": "Wz_8cZJ6GK4g"
      }
    },
    {
      "cell_type": "code",
      "source": [
        "partido_feminino_candidata = candidatos_goias[candidatos_goias['DS_GENERO'] == \"FEMININO\"]\n",
        "partido_feminino_candidata['SG_PARTIDO'].value_counts()"
      ],
      "metadata": {
        "colab": {
          "base_uri": "https://localhost:8080/"
        },
        "id": "NifN9byrGS3u",
        "outputId": "f63afb94-51c9-4010-cb09-6a4444c2ddeb"
      },
      "execution_count": 56,
      "outputs": [
        {
          "output_type": "execute_result",
          "data": {
            "text/plain": [
              "PMDB       1419\n",
              "PSDB       1386\n",
              "PT          799\n",
              "PP          663\n",
              "PFL         621\n",
              "PL          549\n",
              "PTB         522\n",
              "PPS         502\n",
              "PDT         382\n",
              "PSB         342\n",
              "PPB         289\n",
              "PSC         268\n",
              "PR          259\n",
              "PSDC        226\n",
              "DEM         178\n",
              "PSD         177\n",
              "PTN         138\n",
              "PT do B     123\n",
              "PHS         120\n",
              "PSL         111\n",
              "PTC         109\n",
              "PMN         102\n",
              "PC do B      97\n",
              "PV           95\n",
              "PST          93\n",
              "PRTB         83\n",
              "PRP          82\n",
              "PRB          68\n",
              "PSOL         31\n",
              "PGT          21\n",
              "PAN          16\n",
              "PCB          11\n",
              "PSTU         10\n",
              "PRONA        10\n",
              "PCO           8\n",
              "PPR           4\n",
              "PRN           2\n",
              "PC DO B       1\n",
              "Name: SG_PARTIDO, dtype: int64"
            ]
          },
          "metadata": {},
          "execution_count": 56
        }
      ]
    },
    {
      "cell_type": "markdown",
      "source": [
        "`Partidos que mais tem homens candidatos`"
      ],
      "metadata": {
        "id": "UIM2HZ_pHW2T"
      }
    },
    {
      "cell_type": "code",
      "source": [
        "partido_masculino_candidata = candidatos_goias[candidatos_goias['DS_GENERO'] == \"MASCULINO\"]\n",
        "partido_masculino_candidata['SG_PARTIDO'].value_counts()"
      ],
      "metadata": {
        "colab": {
          "base_uri": "https://localhost:8080/"
        },
        "id": "QTGm2zuDHaMZ",
        "outputId": "1c1e6ed9-6287-4c26-f618-3916b81fbc15"
      },
      "execution_count": 57,
      "outputs": [
        {
          "output_type": "execute_result",
          "data": {
            "text/plain": [
              "PMDB       5639\n",
              "PSDB       5351\n",
              "PT         2930\n",
              "PFL        2692\n",
              "PP         2610\n",
              "PL         2303\n",
              "PPS        2087\n",
              "PTB        2001\n",
              "PDT        1400\n",
              "PPB        1357\n",
              "PSB        1323\n",
              "PR         1213\n",
              "PSC        1122\n",
              "PSDC        953\n",
              "DEM         793\n",
              "PSD         754\n",
              "PTN         588\n",
              "PT do B     533\n",
              "PSL         483\n",
              "PHS         465\n",
              "PST         419\n",
              "PTC         408\n",
              "PMN         398\n",
              "PV          375\n",
              "PRP         373\n",
              "PRTB        369\n",
              "PC do B     332\n",
              "PRB         244\n",
              "PSOL        148\n",
              "PAN         103\n",
              "PGT          72\n",
              "PRONA        62\n",
              "PSTU         53\n",
              "PPR          47\n",
              "PCB          38\n",
              "PCO          19\n",
              "PRN          14\n",
              "PC DO B       4\n",
              "Name: SG_PARTIDO, dtype: int64"
            ]
          },
          "metadata": {},
          "execution_count": 57
        }
      ]
    },
    {
      "cell_type": "markdown",
      "source": [
        "`Já que foi contabilizado a quantidade de inscritos por genero e a porcentagem. Comparar quantidade que vence a eleição por genero `"
      ],
      "metadata": {
        "id": "FGFAfxd93PfM"
      }
    },
    {
      "cell_type": "markdown",
      "source": [
        "**Quantidade de mulheres X homens que ganharam as eleições**"
      ],
      "metadata": {
        "id": "Aqq3WBWQ7t6j"
      }
    },
    {
      "cell_type": "code",
      "source": [
        "eleito = candidatos_goias[candidatos_goias['DS_SIT_TOT_TURNO'] == \"ELEITO\"]\n",
        "eleito_feminino = eleito[eleito['DS_GENERO'] == \"FEMININO\"]\n",
        "quantidade = eleito_feminino['DS_GENERO'].count()\n",
        "print('Quantidade de mulheres que ganharam as eleiçoes : {:.0f}'.format(quantidade))"
      ],
      "metadata": {
        "colab": {
          "base_uri": "https://localhost:8080/"
        },
        "id": "gMz5eZt73NNv",
        "outputId": "62fa0a86-78c5-4a57-ce46-4643d8971717"
      },
      "execution_count": 58,
      "outputs": [
        {
          "output_type": "stream",
          "name": "stdout",
          "text": [
            "Quantidade de mulheres que ganharam as eleiçoes : 773\n"
          ]
        }
      ]
    },
    {
      "cell_type": "code",
      "source": [
        "eleito = candidatos_goias[candidatos_goias['DS_SIT_TOT_TURNO'] == \"ELEITO\"]\n",
        "eleito_masculino = eleito[eleito['DS_GENERO'] == \"MASCULINO\"]\n",
        "quantidade = eleito_masculino['DS_GENERO'].count()\n",
        "print('Quantidade de homens que ganharam as eleiçoes : {:.0f}'.format(quantidade))"
      ],
      "metadata": {
        "colab": {
          "base_uri": "https://localhost:8080/"
        },
        "id": "juVCXM1j4GQV",
        "outputId": "17a8a74d-614a-4e49-9272-157262d5c3a2"
      },
      "execution_count": 59,
      "outputs": [
        {
          "output_type": "stream",
          "name": "stdout",
          "text": [
            "Quantidade de homens que ganharam as eleiçoes : 5643\n"
          ]
        }
      ]
    },
    {
      "cell_type": "markdown",
      "source": [
        "**Porcentagem de mulheres X homens que ganharam as eleições pelo total de inscritos geral**"
      ],
      "metadata": {
        "id": "Ut3wUMT47zGj"
      }
    },
    {
      "cell_type": "code",
      "source": [
        "porcentagem_f =  (773/50620) * 100\n",
        "print('Porcentagem de mulheres que ganharam as eleiçoes : {:.2f}'.format(porcentagem_f))"
      ],
      "metadata": {
        "colab": {
          "base_uri": "https://localhost:8080/"
        },
        "id": "RWB7zl4d7mCG",
        "outputId": "f61eb6c3-5256-4ad5-fdfe-0bdb6d52bd48"
      },
      "execution_count": 60,
      "outputs": [
        {
          "output_type": "stream",
          "name": "stdout",
          "text": [
            "Porcentagem de mulheres que ganharam as eleiçoes : 1.53\n"
          ]
        }
      ]
    },
    {
      "cell_type": "code",
      "source": [
        "porcentagem_m =  (5643/50620) * 100\n",
        "print('Porcentagem de homens que ganharam as eleiçoes : {:.2f}'.format(porcentagem_m))"
      ],
      "metadata": {
        "colab": {
          "base_uri": "https://localhost:8080/"
        },
        "id": "hvxti5jA8FC-",
        "outputId": "e45d858b-b2b5-4d6c-f4fe-dd3fbf7a3e14"
      },
      "execution_count": 61,
      "outputs": [
        {
          "output_type": "stream",
          "name": "stdout",
          "text": [
            "Porcentagem de homens que ganharam as eleiçoes : 11.15\n"
          ]
        }
      ]
    },
    {
      "cell_type": "markdown",
      "source": [
        "**Porcentagem de eleitos mulheres x homens Pela quantidade de inscritos de cada genero**</br>\n",
        "`Total de mulheres e homens inscritos pelo total que foram eleitos`\n",
        "\n"
      ],
      "metadata": {
        "id": "tJHcAcXgByH0"
      }
    },
    {
      "cell_type": "code",
      "source": [
        "porcentagem_f_inscritas =  (773/9917) * 100\n",
        "print('Porcentagem de mulheres que ganharam as eleiçoes : {:.2f}'.format(porcentagem_f_inscritas))"
      ],
      "metadata": {
        "colab": {
          "base_uri": "https://localhost:8080/"
        },
        "id": "uf-dBP8AB5QY",
        "outputId": "8f8bdd85-6381-4edc-c547-901d247b2f59"
      },
      "execution_count": 62,
      "outputs": [
        {
          "output_type": "stream",
          "name": "stdout",
          "text": [
            "Porcentagem de mulheres que ganharam as eleiçoes : 7.79\n"
          ]
        }
      ]
    },
    {
      "cell_type": "code",
      "source": [
        "porcentagem_m_inscritas =  (5643/40075) * 100\n",
        "print('Porcentagem de mulheres que ganharam as eleiçoes : {:.2f}'.format(porcentagem_m_inscritas))"
      ],
      "metadata": {
        "colab": {
          "base_uri": "https://localhost:8080/"
        },
        "id": "ewRpJ1VCDx4I",
        "outputId": "f82b8dea-c466-4347-b606-2e2f3b5094ee"
      },
      "execution_count": 63,
      "outputs": [
        {
          "output_type": "stream",
          "name": "stdout",
          "text": [
            "Porcentagem de mulheres que ganharam as eleiçoes : 14.08\n"
          ]
        }
      ]
    },
    {
      "cell_type": "markdown",
      "source": [
        "**As porcentagens dos dados dos eleitos por genero pela quantidade de inscritos </br> por genero representada em um grafico de  pizza de 100%**"
      ],
      "metadata": {
        "id": "pgRoy9Z2-nHb"
      }
    },
    {
      "cell_type": "code",
      "source": [
        "labels = ['FEMININO','MASCULINO']\n",
        "media = [7.79,14.08]\n",
        "colores = ((1.0, 0.0, .40), (0.0, .40, 1.0), (.40, 1.0, .20))\n",
        "fig, ax = plt.subplots(figsize=(12, 5))\n",
        "\n",
        "ax.pie(media, labels=labels,autopct = '%.1f%%',colors = colores)\n",
        "ax.set_title('Media de eleitos por genero Mulher X Homen', fontsize=16)\n",
        "plt.show()"
      ],
      "metadata": {
        "colab": {
          "base_uri": "https://localhost:8080/",
          "height": 321
        },
        "id": "-FkaXych8NqO",
        "outputId": "5896e9c7-b81b-441c-d2b8-4d79432fb22a"
      },
      "execution_count": 64,
      "outputs": [
        {
          "output_type": "display_data",
          "data": {
            "text/plain": [
              "<Figure size 864x360 with 1 Axes>"
            ],
            "image/png": "[encoded data removed]"
          },
          "metadata": {}
        }
      ]
    },
    {
      "cell_type": "markdown",
      "source": [
        "**Faixa etaria das mulheres  e dos homens que ganharam eleições** "
      ],
      "metadata": {
        "id": "MsuOXxdl_htL"
      }
    },
    {
      "cell_type": "code",
      "source": [
        "eleito = candidatos_goias[candidatos_goias['DS_SIT_TOT_TURNO'] == \"ELEITO\"]\n",
        "eleito_feminino = eleito[eleito['DS_GENERO'] == \"FEMININO\"]\n"
      ],
      "metadata": {
        "id": "BWWQfUvf_9PC"
      },
      "execution_count": 65,
      "outputs": []
    },
    {
      "cell_type": "code",
      "source": [
        "eleito = candidatos_goias[candidatos_goias['DS_SIT_TOT_TURNO'] == \"ELEITO\"]\n",
        "eleito_masculino = eleito[eleito['DS_GENERO'] == \"MASCULINO\"]"
      ],
      "metadata": {
        "id": "922VsWytLEV0"
      },
      "execution_count": 66,
      "outputs": []
    },
    {
      "cell_type": "markdown",
      "source": [
        "**TOP 10 mulheres que mais foram eleitas pela faixa etária**"
      ],
      "metadata": {
        "id": "tAOo-HCcK161"
      }
    },
    {
      "cell_type": "code",
      "source": [
        "#Utilizando sql para contabilizar eleitos masculino por idade\n",
        "query = \"\"\"SELECT NR_IDADE_DATA_POSSE, COUNT(NR_IDADE_DATA_POSSE) as total_idade\n",
        "           FROM eleito_feminino\n",
        "           GROUP BY NR_IDADE_DATA_POSSE\n",
        "           ORDER BY COUNT(NR_IDADE_DATA_POSSE) DESC\n",
        "           limit 10\n",
        "           \"\"\"\n",
        "ps.sqldf(query.lower(), locals())"
      ],
      "metadata": {
        "colab": {
          "base_uri": "https://localhost:8080/",
          "height": 363
        },
        "id": "znf3lO0AJea-",
        "outputId": "c89abef0-2924-463a-97f5-0fd25506514f"
      },
      "execution_count": 67,
      "outputs": [
        {
          "output_type": "execute_result",
          "data": {
            "text/plain": [
              "   NR_IDADE_DATA_POSSE  total_idade\n",
              "0                   39           39\n",
              "1                   38           36\n",
              "2                   42           36\n",
              "3                   44           36\n",
              "4                   34           35\n",
              "5                   37           34\n",
              "6                   40           33\n",
              "7                   49           32\n",
              "8                   41           31\n",
              "9                   43           30"
            ],
            "text/html": [
              "\n",
              "  <div id=\"df-c5bd8f90-12c8-4d1e-93a8-76070a43b015\">\n",
              "    <div class=\"colab-df-container\">\n",
              "      <div>\n",
              "<style scoped>\n",
              "    .dataframe tbody tr th:only-of-type {\n",
              "        vertical-align: middle;\n",
              "    }\n",
              "\n",
              "    .dataframe tbody tr th {\n",
              "        vertical-align: top;\n",
              "    }\n",
              "\n",
              "    .dataframe thead th {\n",
              "        text-align: right;\n",
              "    }\n",
              "</style>\n",
              "<table border=\"1\" class=\"dataframe\">\n",
              "  <thead>\n",
              "    <tr style=\"text-align: right;\">\n",
              "      <th></th>\n",
              "      <th>NR_IDADE_DATA_POSSE</th>\n",
              "      <th>total_idade</th>\n",
              "    </tr>\n",
              "  </thead>\n",
              "  <tbody>\n",
              "    <tr>\n",
              "      <th>0</th>\n",
              "      <td>39</td>\n",
              "      <td>39</td>\n",
              "    </tr>\n",
              "    <tr>\n",
              "      <th>1</th>\n",
              "      <td>38</td>\n",
              "      <td>36</td>\n",
              "    </tr>\n",
              "    <tr>\n",
              "      <th>2</th>\n",
              "      <td>42</td>\n",
              "      <td>36</td>\n",
              "    </tr>\n",
              "    <tr>\n",
              "      <th>3</th>\n",
              "      <td>44</td>\n",
              "      <td>36</td>\n",
              "    </tr>\n",
              "    <tr>\n",
              "      <th>4</th>\n",
              "      <td>34</td>\n",
              "      <td>35</td>\n",
              "    </tr>\n",
              "    <tr>\n",
              "      <th>5</th>\n",
              "      <td>37</td>\n",
              "      <td>34</td>\n",
              "    </tr>\n",
              "    <tr>\n",
              "      <th>6</th>\n",
              "      <td>40</td>\n",
              "      <td>33</td>\n",
              "    </tr>\n",
              "    <tr>\n",
              "      <th>7</th>\n",
              "      <td>49</td>\n",
              "      <td>32</td>\n",
              "    </tr>\n",
              "    <tr>\n",
              "      <th>8</th>\n",
              "      <td>41</td>\n",
              "      <td>31</td>\n",
              "    </tr>\n",
              "    <tr>\n",
              "      <th>9</th>\n",
              "      <td>43</td>\n",
              "      <td>30</td>\n",
              "    </tr>\n",
              "  </tbody>\n",
              "</table>\n",
              "</div>\n",
              "      <button class=\"colab-df-convert\" onclick=\"convertToInteractive('df-c5bd8f90-12c8-4d1e-93a8-76070a43b015')\"\n",
              "              title=\"Convert this dataframe to an interactive table.\"\n",
              "              style=\"display:none;\">\n",
              "        \n",
              "  <svg xmlns=\"http://www.w3.org/2000/svg\" height=\"24px\"viewBox=\"0 0 24 24\"\n",
              "       width=\"24px\">\n",
              "    <path d=\"M0 0h24v24H0V0z\" fill=\"none\"/>\n",
              "    <path d=\"M18.56 5.44l.94 2.06.94-2.06 2.06-.94-2.06-.94-.94-2.06-.94 2.06-2.06.94zm-11 1L8.5 8.5l.94-2.06 2.06-.94-2.06-.94L8.5 2.5l-.94 2.06-2.06.94zm10 10l.94 2.06.94-2.06 2.06-.94-2.06-.94-.94-2.06-.94 2.06-2.06.94z\"/><path d=\"M17.41 7.96l-1.37-1.37c-.4-.4-.92-.59-1.43-.59-.52 0-1.04.2-1.43.59L10.3 9.45l-7.72 7.72c-.78.78-.78 2.05 0 2.83L4 21.41c.39.39.9.59 1.41.59.51 0 1.02-.2 1.41-.59l7.78-7.78 2.81-2.81c.8-.78.8-2.07 0-2.86zM5.41 20L4 18.59l7.72-7.72 1.47 1.35L5.41 20z\"/>\n",
              "  </svg>\n",
              "      </button>\n",
              "      \n",
              "  <style>\n",
              "    .colab-df-container {\n",
              "      display:flex;\n",
              "      flex-wrap:wrap;\n",
              "      gap: 12px;\n",
              "    }\n",
              "\n",
              "    .colab-df-convert {\n",
              "      background-color: #E8F0FE;\n",
              "      border: none;\n",
              "      border-radius: 50%;\n",
              "      cursor: pointer;\n",
              "      display: none;\n",
              "      fill: #1967D2;\n",
              "      height: 32px;\n",
              "      padding: 0 0 0 0;\n",
              "      width: 32px;\n",
              "    }\n",
              "\n",
              "    .colab-df-convert:hover {\n",
              "      background-color: #E2EBFA;\n",
              "      box-shadow: 0px 1px 2px rgba(60, 64, 67, 0.3), 0px 1px 3px 1px rgba(60, 64, 67, 0.15);\n",
              "      fill: #174EA6;\n",
              "    }\n",
              "\n",
              "    [theme=dark] .colab-df-convert {\n",
              "      background-color: #3B4455;\n",
              "      fill: #D2E3FC;\n",
              "    }\n",
              "\n",
              "    [theme=dark] .colab-df-convert:hover {\n",
              "      background-color: #434B5C;\n",
              "      box-shadow: 0px 1px 3px 1px rgba(0, 0, 0, 0.15);\n",
              "      filter: drop-shadow(0px 1px 2px rgba(0, 0, 0, 0.3));\n",
              "      fill: #FFFFFF;\n",
              "    }\n",
              "  </style>\n",
              "\n",
              "      <script>\n",
              "        const buttonEl =\n",
              "          document.querySelector('#df-c5bd8f90-12c8-4d1e-93a8-76070a43b015 button.colab-df-convert');\n",
              "        buttonEl.style.display =\n",
              "          google.colab.kernel.accessAllowed ? 'block' : 'none';\n",
              "\n",
              "        async function convertToInteractive(key) {\n",
              "          const element = document.querySelector('#df-c5bd8f90-12c8-4d1e-93a8-76070a43b015');\n",
              "          const dataTable =\n",
              "            await google.colab.kernel.invokeFunction('convertToInteractive',\n",
              "                                                     [key], {});\n",
              "          if (!dataTable) return;\n",
              "\n",
              "          const docLinkHtml = 'Like what you see? Visit the ' +\n",
              "            '<a target=\"_blank\" href=https://colab.research.google.com/notebooks/data_table.ipynb>data table notebook</a>'\n",
              "            + ' to learn more about interactive tables.';\n",
              "          element.innerHTML = '';\n",
              "          dataTable['output_type'] = 'display_data';\n",
              "          await google.colab.output.renderOutput(dataTable, element);\n",
              "          const docLink = document.createElement('div');\n",
              "          docLink.innerHTML = docLinkHtml;\n",
              "          element.appendChild(docLink);\n",
              "        }\n",
              "      </script>\n",
              "    </div>\n",
              "  </div>\n",
              "  "
            ]
          },
          "metadata": {},
          "execution_count": 67
        }
      ]
    },
    {
      "cell_type": "markdown",
      "source": [
        "**TOP 10 homens que mais foram eleitos pela faixa etária**"
      ],
      "metadata": {
        "id": "0JbmX_tMLMdm"
      }
    },
    {
      "cell_type": "code",
      "source": [
        "#Utilizando sql para contabilizar eleitos masculino por idade\n",
        "query = \"\"\"SELECT NR_IDADE_DATA_POSSE, COUNT(NR_IDADE_DATA_POSSE) as total_idade \n",
        "           FROM eleito_masculino\n",
        "           GROUP BY NR_IDADE_DATA_POSSE\n",
        "           ORDER BY COUNT(NR_IDADE_DATA_POSSE) DESC\n",
        "           limit 10\"\"\"\n",
        "ps.sqldf(query.lower(), locals())"
      ],
      "metadata": {
        "colab": {
          "base_uri": "https://localhost:8080/",
          "height": 363
        },
        "id": "C5jio-_WKKU6",
        "outputId": "70373e5c-88fc-4faa-887e-257be7378507"
      },
      "execution_count": 68,
      "outputs": [
        {
          "output_type": "execute_result",
          "data": {
            "text/plain": [
              "   NR_IDADE_DATA_POSSE  total_idade\n",
              "0                   39          271\n",
              "1                   38          260\n",
              "2                   36          243\n",
              "3                   41          242\n",
              "4                   43          240\n",
              "5                   40          232\n",
              "6                   42          230\n",
              "7                   35          215\n",
              "8                   45          210\n",
              "9                   44          205"
            ],
            "text/html": [
              "\n",
              "  <div id=\"df-d850a136-019e-4837-85e6-e28222b04883\">\n",
              "    <div class=\"colab-df-container\">\n",
              "      <div>\n",
              "<style scoped>\n",
              "    .dataframe tbody tr th:only-of-type {\n",
              "        vertical-align: middle;\n",
              "    }\n",
              "\n",
              "    .dataframe tbody tr th {\n",
              "        vertical-align: top;\n",
              "    }\n",
              "\n",
              "    .dataframe thead th {\n",
              "        text-align: right;\n",
              "    }\n",
              "</style>\n",
              "<table border=\"1\" class=\"dataframe\">\n",
              "  <thead>\n",
              "    <tr style=\"text-align: right;\">\n",
              "      <th></th>\n",
              "      <th>NR_IDADE_DATA_POSSE</th>\n",
              "      <th>total_idade</th>\n",
              "    </tr>\n",
              "  </thead>\n",
              "  <tbody>\n",
              "    <tr>\n",
              "      <th>0</th>\n",
              "      <td>39</td>\n",
              "      <td>271</td>\n",
              "    </tr>\n",
              "    <tr>\n",
              "      <th>1</th>\n",
              "      <td>38</td>\n",
              "      <td>260</td>\n",
              "    </tr>\n",
              "    <tr>\n",
              "      <th>2</th>\n",
              "      <td>36</td>\n",
              "      <td>243</td>\n",
              "    </tr>\n",
              "    <tr>\n",
              "      <th>3</th>\n",
              "      <td>41</td>\n",
              "      <td>242</td>\n",
              "    </tr>\n",
              "    <tr>\n",
              "      <th>4</th>\n",
              "      <td>43</td>\n",
              "      <td>240</td>\n",
              "    </tr>\n",
              "    <tr>\n",
              "      <th>5</th>\n",
              "      <td>40</td>\n",
              "      <td>232</td>\n",
              "    </tr>\n",
              "    <tr>\n",
              "      <th>6</th>\n",
              "      <td>42</td>\n",
              "      <td>230</td>\n",
              "    </tr>\n",
              "    <tr>\n",
              "      <th>7</th>\n",
              "      <td>35</td>\n",
              "      <td>215</td>\n",
              "    </tr>\n",
              "    <tr>\n",
              "      <th>8</th>\n",
              "      <td>45</td>\n",
              "      <td>210</td>\n",
              "    </tr>\n",
              "    <tr>\n",
              "      <th>9</th>\n",
              "      <td>44</td>\n",
              "      <td>205</td>\n",
              "    </tr>\n",
              "  </tbody>\n",
              "</table>\n",
              "</div>\n",
              "      <button class=\"colab-df-convert\" onclick=\"convertToInteractive('df-d850a136-019e-4837-85e6-e28222b04883')\"\n",
              "              title=\"Convert this dataframe to an interactive table.\"\n",
              "              style=\"display:none;\">\n",
              "        \n",
              "  <svg xmlns=\"http://www.w3.org/2000/svg\" height=\"24px\"viewBox=\"0 0 24 24\"\n",
              "       width=\"24px\">\n",
              "    <path d=\"M0 0h24v24H0V0z\" fill=\"none\"/>\n",
              "    <path d=\"M18.56 5.44l.94 2.06.94-2.06 2.06-.94-2.06-.94-.94-2.06-.94 2.06-2.06.94zm-11 1L8.5 8.5l.94-2.06 2.06-.94-2.06-.94L8.5 2.5l-.94 2.06-2.06.94zm10 10l.94 2.06.94-2.06 2.06-.94-2.06-.94-.94-2.06-.94 2.06-2.06.94z\"/><path d=\"M17.41 7.96l-1.37-1.37c-.4-.4-.92-.59-1.43-.59-.52 0-1.04.2-1.43.59L10.3 9.45l-7.72 7.72c-.78.78-.78 2.05 0 2.83L4 21.41c.39.39.9.59 1.41.59.51 0 1.02-.2 1.41-.59l7.78-7.78 2.81-2.81c.8-.78.8-2.07 0-2.86zM5.41 20L4 18.59l7.72-7.72 1.47 1.35L5.41 20z\"/>\n",
              "  </svg>\n",
              "      </button>\n",
              "      \n",
              "  <style>\n",
              "    .colab-df-container {\n",
              "      display:flex;\n",
              "      flex-wrap:wrap;\n",
              "      gap: 12px;\n",
              "    }\n",
              "\n",
              "    .colab-df-convert {\n",
              "      background-color: #E8F0FE;\n",
              "      border: none;\n",
              "      border-radius: 50%;\n",
              "      cursor: pointer;\n",
              "      display: none;\n",
              "      fill: #1967D2;\n",
              "      height: 32px;\n",
              "      padding: 0 0 0 0;\n",
              "      width: 32px;\n",
              "    }\n",
              "\n",
              "    .colab-df-convert:hover {\n",
              "      background-color: #E2EBFA;\n",
              "      box-shadow: 0px 1px 2px rgba(60, 64, 67, 0.3), 0px 1px 3px 1px rgba(60, 64, 67, 0.15);\n",
              "      fill: #174EA6;\n",
              "    }\n",
              "\n",
              "    [theme=dark] .colab-df-convert {\n",
              "      background-color: #3B4455;\n",
              "      fill: #D2E3FC;\n",
              "    }\n",
              "\n",
              "    [theme=dark] .colab-df-convert:hover {\n",
              "      background-color: #434B5C;\n",
              "      box-shadow: 0px 1px 3px 1px rgba(0, 0, 0, 0.15);\n",
              "      filter: drop-shadow(0px 1px 2px rgba(0, 0, 0, 0.3));\n",
              "      fill: #FFFFFF;\n",
              "    }\n",
              "  </style>\n",
              "\n",
              "      <script>\n",
              "        const buttonEl =\n",
              "          document.querySelector('#df-d850a136-019e-4837-85e6-e28222b04883 button.colab-df-convert');\n",
              "        buttonEl.style.display =\n",
              "          google.colab.kernel.accessAllowed ? 'block' : 'none';\n",
              "\n",
              "        async function convertToInteractive(key) {\n",
              "          const element = document.querySelector('#df-d850a136-019e-4837-85e6-e28222b04883');\n",
              "          const dataTable =\n",
              "            await google.colab.kernel.invokeFunction('convertToInteractive',\n",
              "                                                     [key], {});\n",
              "          if (!dataTable) return;\n",
              "\n",
              "          const docLinkHtml = 'Like what you see? Visit the ' +\n",
              "            '<a target=\"_blank\" href=https://colab.research.google.com/notebooks/data_table.ipynb>data table notebook</a>'\n",
              "            + ' to learn more about interactive tables.';\n",
              "          element.innerHTML = '';\n",
              "          dataTable['output_type'] = 'display_data';\n",
              "          await google.colab.output.renderOutput(dataTable, element);\n",
              "          const docLink = document.createElement('div');\n",
              "          docLink.innerHTML = docLinkHtml;\n",
              "          element.appendChild(docLink);\n",
              "        }\n",
              "      </script>\n",
              "    </div>\n",
              "  </div>\n",
              "  "
            ]
          },
          "metadata": {},
          "execution_count": 68
        }
      ]
    },
    {
      "cell_type": "markdown",
      "source": [
        "**Qual partido mais elegeu**"
      ],
      "metadata": {
        "id": "kN9gBo1QH0id"
      }
    },
    {
      "cell_type": "markdown",
      "source": [
        "`Qual partido mais elegeu `"
      ],
      "metadata": {
        "id": "GEbIqtlUrfDZ"
      }
    },
    {
      "cell_type": "code",
      "source": [
        "eleito_partido = candidatos_goias[candidatos_goias['DS_SIT_TOT_TURNO'] == \"ELEITO\"]"
      ],
      "metadata": {
        "id": "ufCKqjJhrci_"
      },
      "execution_count": 69,
      "outputs": []
    },
    {
      "cell_type": "code",
      "source": [
        "#Utilizando sql para o partido que mais elegeu\n",
        "query = \"\"\"SELECT SG_PARTIDO, COUNT(SG_PARTIDO) as eleitos\n",
        "           FROM eleito_partido\n",
        "           GROUP BY SG_PARTIDO\n",
        "           ORDER BY COUNT(SG_PARTIDO) DESC\n",
        "           \"\"\"\n",
        "ps.sqldf(query.lower(), locals())"
      ],
      "metadata": {
        "colab": {
          "base_uri": "https://localhost:8080/",
          "height": 1000
        },
        "id": "vEk7cLEPrpbp",
        "outputId": "77e70588-702f-4d20-b09a-c762e1bc14a2"
      },
      "execution_count": 70,
      "outputs": [
        {
          "output_type": "execute_result",
          "data": {
            "text/plain": [
              "   SG_PARTIDO  eleitos\n",
              "0        PMDB     1368\n",
              "1        PSDB     1310\n",
              "2          PP      541\n",
              "3         PFL      511\n",
              "4          PL      388\n",
              "5         PTB      301\n",
              "6         PPB      296\n",
              "7         PPS      263\n",
              "8          PT      255\n",
              "9          PR      228\n",
              "10        DEM      134\n",
              "11        PSD      133\n",
              "12        PSB      129\n",
              "13        PSC      115\n",
              "14        PDT      111\n",
              "15       PSDC       79\n",
              "16        PST       39\n",
              "17        PTN       39\n",
              "18    PT do B       31\n",
              "19        PTC       28\n",
              "20        PSL       26\n",
              "21         PV       23\n",
              "22        PHS       21\n",
              "23        PMN       18\n",
              "24        PRB       18\n",
              "25    PC do B       16\n",
              "26       PRTB       14\n",
              "27        PRP        9\n",
              "28        PPR        5\n",
              "29    PC DO B        3\n",
              "30        PGT        2\n",
              "31        PAN        1\n",
              "32        PRN        1\n",
              "33       PSOL        1\n",
              "34       PSTU        1"
            ],
            "text/html": [
              "\n",
              "  <div id=\"df-fa7a9e22-d676-46a8-ade7-fb7c0607c073\">\n",
              "    <div class=\"colab-df-container\">\n",
              "      <div>\n",
              "<style scoped>\n",
              "    .dataframe tbody tr th:only-of-type {\n",
              "        vertical-align: middle;\n",
              "    }\n",
              "\n",
              "    .dataframe tbody tr th {\n",
              "        vertical-align: top;\n",
              "    }\n",
              "\n",
              "    .dataframe thead th {\n",
              "        text-align: right;\n",
              "    }\n",
              "</style>\n",
              "<table border=\"1\" class=\"dataframe\">\n",
              "  <thead>\n",
              "    <tr style=\"text-align: right;\">\n",
              "      <th></th>\n",
              "      <th>SG_PARTIDO</th>\n",
              "      <th>eleitos</th>\n",
              "    </tr>\n",
              "  </thead>\n",
              "  <tbody>\n",
              "    <tr>\n",
              "      <th>0</th>\n",
              "      <td>PMDB</td>\n",
              "      <td>1368</td>\n",
              "    </tr>\n",
              "    <tr>\n",
              "      <th>1</th>\n",
              "      <td>PSDB</td>\n",
              "      <td>1310</td>\n",
              "    </tr>\n",
              "    <tr>\n",
              "      <th>2</th>\n",
              "      <td>PP</td>\n",
              "      <td>541</td>\n",
              "    </tr>\n",
              "    <tr>\n",
              "      <th>3</th>\n",
              "      <td>PFL</td>\n",
              "      <td>511</td>\n",
              "    </tr>\n",
              "    <tr>\n",
              "      <th>4</th>\n",
              "      <td>PL</td>\n",
              "      <td>388</td>\n",
              "    </tr>\n",
              "    <tr>\n",
              "      <th>5</th>\n",
              "      <td>PTB</td>\n",
              "      <td>301</td>\n",
              "    </tr>\n",
              "    <tr>\n",
              "      <th>6</th>\n",
              "      <td>PPB</td>\n",
              "      <td>296</td>\n",
              "    </tr>\n",
              "    <tr>\n",
              "      <th>7</th>\n",
              "      <td>PPS</td>\n",
              "      <td>263</td>\n",
              "    </tr>\n",
              "    <tr>\n",
              "      <th>8</th>\n",
              "      <td>PT</td>\n",
              "      <td>255</td>\n",
              "    </tr>\n",
              "    <tr>\n",
              "      <th>9</th>\n",
              "      <td>PR</td>\n",
              "      <td>228</td>\n",
              "    </tr>\n",
              "    <tr>\n",
              "      <th>10</th>\n",
              "      <td>DEM</td>\n",
              "      <td>134</td>\n",
              "    </tr>\n",
              "    <tr>\n",
              "      <th>11</th>\n",
              "      <td>PSD</td>\n",
              "      <td>133</td>\n",
              "    </tr>\n",
              "    <tr>\n",
              "      <th>12</th>\n",
              "      <td>PSB</td>\n",
              "      <td>129</td>\n",
              "    </tr>\n",
              "    <tr>\n",
              "      <th>13</th>\n",
              "      <td>PSC</td>\n",
              "      <td>115</td>\n",
              "    </tr>\n",
              "    <tr>\n",
              "      <th>14</th>\n",
              "      <td>PDT</td>\n",
              "      <td>111</td>\n",
              "    </tr>\n",
              "    <tr>\n",
              "      <th>15</th>\n",
              "      <td>PSDC</td>\n",
              "      <td>79</td>\n",
              "    </tr>\n",
              "    <tr>\n",
              "      <th>16</th>\n",
              "      <td>PST</td>\n",
              "      <td>39</td>\n",
              "    </tr>\n",
              "    <tr>\n",
              "      <th>17</th>\n",
              "      <td>PTN</td>\n",
              "      <td>39</td>\n",
              "    </tr>\n",
              "    <tr>\n",
              "      <th>18</th>\n",
              "      <td>PT do B</td>\n",
              "      <td>31</td>\n",
              "    </tr>\n",
              "    <tr>\n",
              "      <th>19</th>\n",
              "      <td>PTC</td>\n",
              "      <td>28</td>\n",
              "    </tr>\n",
              "    <tr>\n",
              "      <th>20</th>\n",
              "      <td>PSL</td>\n",
              "      <td>26</td>\n",
              "    </tr>\n",
              "    <tr>\n",
              "      <th>21</th>\n",
              "      <td>PV</td>\n",
              "      <td>23</td>\n",
              "    </tr>\n",
              "    <tr>\n",
              "      <th>22</th>\n",
              "      <td>PHS</td>\n",
              "      <td>21</td>\n",
              "    </tr>\n",
              "    <tr>\n",
              "      <th>23</th>\n",
              "      <td>PMN</td>\n",
              "      <td>18</td>\n",
              "    </tr>\n",
              "    <tr>\n",
              "      <th>24</th>\n",
              "      <td>PRB</td>\n",
              "      <td>18</td>\n",
              "    </tr>\n",
              "    <tr>\n",
              "      <th>25</th>\n",
              "      <td>PC do B</td>\n",
              "      <td>16</td>\n",
              "    </tr>\n",
              "    <tr>\n",
              "      <th>26</th>\n",
              "      <td>PRTB</td>\n",
              "      <td>14</td>\n",
              "    </tr>\n",
              "    <tr>\n",
              "      <th>27</th>\n",
              "      <td>PRP</td>\n",
              "      <td>9</td>\n",
              "    </tr>\n",
              "    <tr>\n",
              "      <th>28</th>\n",
              "      <td>PPR</td>\n",
              "      <td>5</td>\n",
              "    </tr>\n",
              "    <tr>\n",
              "      <th>29</th>\n",
              "      <td>PC DO B</td>\n",
              "      <td>3</td>\n",
              "    </tr>\n",
              "    <tr>\n",
              "      <th>30</th>\n",
              "      <td>PGT</td>\n",
              "      <td>2</td>\n",
              "    </tr>\n",
              "    <tr>\n",
              "      <th>31</th>\n",
              "      <td>PAN</td>\n",
              "      <td>1</td>\n",
              "    </tr>\n",
              "    <tr>\n",
              "      <th>32</th>\n",
              "      <td>PRN</td>\n",
              "      <td>1</td>\n",
              "    </tr>\n",
              "    <tr>\n",
              "      <th>33</th>\n",
              "      <td>PSOL</td>\n",
              "      <td>1</td>\n",
              "    </tr>\n",
              "    <tr>\n",
              "      <th>34</th>\n",
              "      <td>PSTU</td>\n",
              "      <td>1</td>\n",
              "    </tr>\n",
              "  </tbody>\n",
              "</table>\n",
              "</div>\n",
              "      <button class=\"colab-df-convert\" onclick=\"convertToInteractive('df-fa7a9e22-d676-46a8-ade7-fb7c0607c073')\"\n",
              "              title=\"Convert this dataframe to an interactive table.\"\n",
              "              style=\"display:none;\">\n",
              "        \n",
              "  <svg xmlns=\"http://www.w3.org/2000/svg\" height=\"24px\"viewBox=\"0 0 24 24\"\n",
              "       width=\"24px\">\n",
              "    <path d=\"M0 0h24v24H0V0z\" fill=\"none\"/>\n",
              "    <path d=\"M18.56 5.44l.94 2.06.94-2.06 2.06-.94-2.06-.94-.94-2.06-.94 2.06-2.06.94zm-11 1L8.5 8.5l.94-2.06 2.06-.94-2.06-.94L8.5 2.5l-.94 2.06-2.06.94zm10 10l.94 2.06.94-2.06 2.06-.94-2.06-.94-.94-2.06-.94 2.06-2.06.94z\"/><path d=\"M17.41 7.96l-1.37-1.37c-.4-.4-.92-.59-1.43-.59-.52 0-1.04.2-1.43.59L10.3 9.45l-7.72 7.72c-.78.78-.78 2.05 0 2.83L4 21.41c.39.39.9.59 1.41.59.51 0 1.02-.2 1.41-.59l7.78-7.78 2.81-2.81c.8-.78.8-2.07 0-2.86zM5.41 20L4 18.59l7.72-7.72 1.47 1.35L5.41 20z\"/>\n",
              "  </svg>\n",
              "      </button>\n",
              "      \n",
              "  <style>\n",
              "    .colab-df-container {\n",
              "      display:flex;\n",
              "      flex-wrap:wrap;\n",
              "      gap: 12px;\n",
              "    }\n",
              "\n",
              "    .colab-df-convert {\n",
              "      background-color: #E8F0FE;\n",
              "      border: none;\n",
              "      border-radius: 50%;\n",
              "      cursor: pointer;\n",
              "      display: none;\n",
              "      fill: #1967D2;\n",
              "      height: 32px;\n",
              "      padding: 0 0 0 0;\n",
              "      width: 32px;\n",
              "    }\n",
              "\n",
              "    .colab-df-convert:hover {\n",
              "      background-color: #E2EBFA;\n",
              "      box-shadow: 0px 1px 2px rgba(60, 64, 67, 0.3), 0px 1px 3px 1px rgba(60, 64, 67, 0.15);\n",
              "      fill: #174EA6;\n",
              "    }\n",
              "\n",
              "    [theme=dark] .colab-df-convert {\n",
              "      background-color: #3B4455;\n",
              "      fill: #D2E3FC;\n",
              "    }\n",
              "\n",
              "    [theme=dark] .colab-df-convert:hover {\n",
              "      background-color: #434B5C;\n",
              "      box-shadow: 0px 1px 3px 1px rgba(0, 0, 0, 0.15);\n",
              "      filter: drop-shadow(0px 1px 2px rgba(0, 0, 0, 0.3));\n",
              "      fill: #FFFFFF;\n",
              "    }\n",
              "  </style>\n",
              "\n",
              "      <script>\n",
              "        const buttonEl =\n",
              "          document.querySelector('#df-fa7a9e22-d676-46a8-ade7-fb7c0607c073 button.colab-df-convert');\n",
              "        buttonEl.style.display =\n",
              "          google.colab.kernel.accessAllowed ? 'block' : 'none';\n",
              "\n",
              "        async function convertToInteractive(key) {\n",
              "          const element = document.querySelector('#df-fa7a9e22-d676-46a8-ade7-fb7c0607c073');\n",
              "          const dataTable =\n",
              "            await google.colab.kernel.invokeFunction('convertToInteractive',\n",
              "                                                     [key], {});\n",
              "          if (!dataTable) return;\n",
              "\n",
              "          const docLinkHtml = 'Like what you see? Visit the ' +\n",
              "            '<a target=\"_blank\" href=https://colab.research.google.com/notebooks/data_table.ipynb>data table notebook</a>'\n",
              "            + ' to learn more about interactive tables.';\n",
              "          element.innerHTML = '';\n",
              "          dataTable['output_type'] = 'display_data';\n",
              "          await google.colab.output.renderOutput(dataTable, element);\n",
              "          const docLink = document.createElement('div');\n",
              "          docLink.innerHTML = docLinkHtml;\n",
              "          element.appendChild(docLink);\n",
              "        }\n",
              "      </script>\n",
              "    </div>\n",
              "  </div>\n",
              "  "
            ]
          },
          "metadata": {},
          "execution_count": 70
        }
      ]
    },
    {
      "cell_type": "markdown",
      "source": [
        "**Qual partido mais elegeu mulheres X homens**"
      ],
      "metadata": {
        "id": "94HrCZ5_rhzR"
      }
    },
    {
      "cell_type": "code",
      "source": [
        "eleito_partido = candidatos_goias[candidatos_goias['DS_SIT_TOT_TURNO'] == \"ELEITO\"]\n",
        "eleito_feminino_partido = eleito_partido[eleito_partido['DS_GENERO'] == \"FEMININO\"]"
      ],
      "metadata": {
        "id": "D2f-bpRiH_oC"
      },
      "execution_count": 71,
      "outputs": []
    },
    {
      "cell_type": "code",
      "source": [
        "eleito_partido = candidatos_goias[candidatos_goias['DS_SIT_TOT_TURNO'] == \"ELEITO\"]\n",
        "eleito_masculino_partido = eleito_partido[eleito_partido['DS_GENERO'] == \"MASCULINO\"]"
      ],
      "metadata": {
        "id": "t9MZzndKIyNw"
      },
      "execution_count": 72,
      "outputs": []
    },
    {
      "cell_type": "markdown",
      "source": [
        "`Partido que mais elegeu mulheres`"
      ],
      "metadata": {
        "id": "BMdo6lYdIuO_"
      }
    },
    {
      "cell_type": "code",
      "source": [
        "#Utilizando sql para contabilizar eleitos masculino por idade\n",
        "query = \"\"\"SELECT SG_PARTIDO, COUNT(SG_PARTIDO) as eleitos\n",
        "           FROM eleito_feminino_partido\n",
        "           GROUP BY SG_PARTIDO\n",
        "           ORDER BY COUNT(SG_PARTIDO) DESC\n",
        "           \"\"\"\n",
        "ps.sqldf(query.lower(), locals())"
      ],
      "metadata": {
        "id": "Mg2HbDjvLcMo",
        "colab": {
          "base_uri": "https://localhost:8080/",
          "height": 990
        },
        "outputId": "2b70b59f-ea5c-48a9-e876-ad786b0f14d3"
      },
      "execution_count": 73,
      "outputs": [
        {
          "output_type": "execute_result",
          "data": {
            "text/plain": [
              "   SG_PARTIDO  eleitos\n",
              "0        PMDB      189\n",
              "1        PSDB      183\n",
              "2          PP       64\n",
              "3         PFL       53\n",
              "4          PL       40\n",
              "5          PT       35\n",
              "6         PPB       33\n",
              "7         PPS       33\n",
              "8         PTB       24\n",
              "9          PR       22\n",
              "10        DEM       16\n",
              "11        PSD       15\n",
              "12        PSB       12\n",
              "13        PSC        8\n",
              "14        PDT        7\n",
              "15       PSDC        7\n",
              "16        PHS        6\n",
              "17        PST        4\n",
              "18        PTC        4\n",
              "19        PTN        4\n",
              "20    PC do B        2\n",
              "21        PPR        2\n",
              "22       PRTB        2\n",
              "23         PV        2\n",
              "24    PC DO B        1\n",
              "25        PMN        1\n",
              "26        PRB        1\n",
              "27        PRP        1\n",
              "28        PSL        1\n",
              "29    PT do B        1"
            ],
            "text/html": [
              "\n",
              "  <div id=\"df-f63b76ee-b679-4618-92c3-b1473b606961\">\n",
              "    <div class=\"colab-df-container\">\n",
              "      <div>\n",
              "<style scoped>\n",
              "    .dataframe tbody tr th:only-of-type {\n",
              "        vertical-align: middle;\n",
              "    }\n",
              "\n",
              "    .dataframe tbody tr th {\n",
              "        vertical-align: top;\n",
              "    }\n",
              "\n",
              "    .dataframe thead th {\n",
              "        text-align: right;\n",
              "    }\n",
              "</style>\n",
              "<table border=\"1\" class=\"dataframe\">\n",
              "  <thead>\n",
              "    <tr style=\"text-align: right;\">\n",
              "      <th></th>\n",
              "      <th>SG_PARTIDO</th>\n",
              "      <th>eleitos</th>\n",
              "    </tr>\n",
              "  </thead>\n",
              "  <tbody>\n",
              "    <tr>\n",
              "      <th>0</th>\n",
              "      <td>PMDB</td>\n",
              "      <td>189</td>\n",
              "    </tr>\n",
              "    <tr>\n",
              "      <th>1</th>\n",
              "      <td>PSDB</td>\n",
              "      <td>183</td>\n",
              "    </tr>\n",
              "    <tr>\n",
              "      <th>2</th>\n",
              "      <td>PP</td>\n",
              "      <td>64</td>\n",
              "    </tr>\n",
              "    <tr>\n",
              "      <th>3</th>\n",
              "      <td>PFL</td>\n",
              "      <td>53</td>\n",
              "    </tr>\n",
              "    <tr>\n",
              "      <th>4</th>\n",
              "      <td>PL</td>\n",
              "      <td>40</td>\n",
              "    </tr>\n",
              "    <tr>\n",
              "      <th>5</th>\n",
              "      <td>PT</td>\n",
              "      <td>35</td>\n",
              "    </tr>\n",
              "    <tr>\n",
              "      <th>6</th>\n",
              "      <td>PPB</td>\n",
              "      <td>33</td>\n",
              "    </tr>\n",
              "    <tr>\n",
              "      <th>7</th>\n",
              "      <td>PPS</td>\n",
              "      <td>33</td>\n",
              "    </tr>\n",
              "    <tr>\n",
              "      <th>8</th>\n",
              "      <td>PTB</td>\n",
              "      <td>24</td>\n",
              "    </tr>\n",
              "    <tr>\n",
              "      <th>9</th>\n",
              "      <td>PR</td>\n",
              "      <td>22</td>\n",
              "    </tr>\n",
              "    <tr>\n",
              "      <th>10</th>\n",
              "      <td>DEM</td>\n",
              "      <td>16</td>\n",
              "    </tr>\n",
              "    <tr>\n",
              "      <th>11</th>\n",
              "      <td>PSD</td>\n",
              "      <td>15</td>\n",
              "    </tr>\n",
              "    <tr>\n",
              "      <th>12</th>\n",
              "      <td>PSB</td>\n",
              "      <td>12</td>\n",
              "    </tr>\n",
              "    <tr>\n",
              "      <th>13</th>\n",
              "      <td>PSC</td>\n",
              "      <td>8</td>\n",
              "    </tr>\n",
              "    <tr>\n",
              "      <th>14</th>\n",
              "      <td>PDT</td>\n",
              "      <td>7</td>\n",
              "    </tr>\n",
              "    <tr>\n",
              "      <th>15</th>\n",
              "      <td>PSDC</td>\n",
              "      <td>7</td>\n",
              "    </tr>\n",
              "    <tr>\n",
              "      <th>16</th>\n",
              "      <td>PHS</td>\n",
              "      <td>6</td>\n",
              "    </tr>\n",
              "    <tr>\n",
              "      <th>17</th>\n",
              "      <td>PST</td>\n",
              "      <td>4</td>\n",
              "    </tr>\n",
              "    <tr>\n",
              "      <th>18</th>\n",
              "      <td>PTC</td>\n",
              "      <td>4</td>\n",
              "    </tr>\n",
              "    <tr>\n",
              "      <th>19</th>\n",
              "      <td>PTN</td>\n",
              "      <td>4</td>\n",
              "    </tr>\n",
              "    <tr>\n",
              "      <th>20</th>\n",
              "      <td>PC do B</td>\n",
              "      <td>2</td>\n",
              "    </tr>\n",
              "    <tr>\n",
              "      <th>21</th>\n",
              "      <td>PPR</td>\n",
              "      <td>2</td>\n",
              "    </tr>\n",
              "    <tr>\n",
              "      <th>22</th>\n",
              "      <td>PRTB</td>\n",
              "      <td>2</td>\n",
              "    </tr>\n",
              "    <tr>\n",
              "      <th>23</th>\n",
              "      <td>PV</td>\n",
              "      <td>2</td>\n",
              "    </tr>\n",
              "    <tr>\n",
              "      <th>24</th>\n",
              "      <td>PC DO B</td>\n",
              "      <td>1</td>\n",
              "    </tr>\n",
              "    <tr>\n",
              "      <th>25</th>\n",
              "      <td>PMN</td>\n",
              "      <td>1</td>\n",
              "    </tr>\n",
              "    <tr>\n",
              "      <th>26</th>\n",
              "      <td>PRB</td>\n",
              "      <td>1</td>\n",
              "    </tr>\n",
              "    <tr>\n",
              "      <th>27</th>\n",
              "      <td>PRP</td>\n",
              "      <td>1</td>\n",
              "    </tr>\n",
              "    <tr>\n",
              "      <th>28</th>\n",
              "      <td>PSL</td>\n",
              "      <td>1</td>\n",
              "    </tr>\n",
              "    <tr>\n",
              "      <th>29</th>\n",
              "      <td>PT do B</td>\n",
              "      <td>1</td>\n",
              "    </tr>\n",
              "  </tbody>\n",
              "</table>\n",
              "</div>\n",
              "      <button class=\"colab-df-convert\" onclick=\"convertToInteractive('df-f63b76ee-b679-4618-92c3-b1473b606961')\"\n",
              "              title=\"Convert this dataframe to an interactive table.\"\n",
              "              style=\"display:none;\">\n",
              "        \n",
              "  <svg xmlns=\"http://www.w3.org/2000/svg\" height=\"24px\"viewBox=\"0 0 24 24\"\n",
              "       width=\"24px\">\n",
              "    <path d=\"M0 0h24v24H0V0z\" fill=\"none\"/>\n",
              "    <path d=\"M18.56 5.44l.94 2.06.94-2.06 2.06-.94-2.06-.94-.94-2.06-.94 2.06-2.06.94zm-11 1L8.5 8.5l.94-2.06 2.06-.94-2.06-.94L8.5 2.5l-.94 2.06-2.06.94zm10 10l.94 2.06.94-2.06 2.06-.94-2.06-.94-.94-2.06-.94 2.06-2.06.94z\"/><path d=\"M17.41 7.96l-1.37-1.37c-.4-.4-.92-.59-1.43-.59-.52 0-1.04.2-1.43.59L10.3 9.45l-7.72 7.72c-.78.78-.78 2.05 0 2.83L4 21.41c.39.39.9.59 1.41.59.51 0 1.02-.2 1.41-.59l7.78-7.78 2.81-2.81c.8-.78.8-2.07 0-2.86zM5.41 20L4 18.59l7.72-7.72 1.47 1.35L5.41 20z\"/>\n",
              "  </svg>\n",
              "      </button>\n",
              "      \n",
              "  <style>\n",
              "    .colab-df-container {\n",
              "      display:flex;\n",
              "      flex-wrap:wrap;\n",
              "      gap: 12px;\n",
              "    }\n",
              "\n",
              "    .colab-df-convert {\n",
              "      background-color: #E8F0FE;\n",
              "      border: none;\n",
              "      border-radius: 50%;\n",
              "      cursor: pointer;\n",
              "      display: none;\n",
              "      fill: #1967D2;\n",
              "      height: 32px;\n",
              "      padding: 0 0 0 0;\n",
              "      width: 32px;\n",
              "    }\n",
              "\n",
              "    .colab-df-convert:hover {\n",
              "      background-color: #E2EBFA;\n",
              "      box-shadow: 0px 1px 2px rgba(60, 64, 67, 0.3), 0px 1px 3px 1px rgba(60, 64, 67, 0.15);\n",
              "      fill: #174EA6;\n",
              "    }\n",
              "\n",
              "    [theme=dark] .colab-df-convert {\n",
              "      background-color: #3B4455;\n",
              "      fill: #D2E3FC;\n",
              "    }\n",
              "\n",
              "    [theme=dark] .colab-df-convert:hover {\n",
              "      background-color: #434B5C;\n",
              "      box-shadow: 0px 1px 3px 1px rgba(0, 0, 0, 0.15);\n",
              "      filter: drop-shadow(0px 1px 2px rgba(0, 0, 0, 0.3));\n",
              "      fill: #FFFFFF;\n",
              "    }\n",
              "  </style>\n",
              "\n",
              "      <script>\n",
              "        const buttonEl =\n",
              "          document.querySelector('#df-f63b76ee-b679-4618-92c3-b1473b606961 button.colab-df-convert');\n",
              "        buttonEl.style.display =\n",
              "          google.colab.kernel.accessAllowed ? 'block' : 'none';\n",
              "\n",
              "        async function convertToInteractive(key) {\n",
              "          const element = document.querySelector('#df-f63b76ee-b679-4618-92c3-b1473b606961');\n",
              "          const dataTable =\n",
              "            await google.colab.kernel.invokeFunction('convertToInteractive',\n",
              "                                                     [key], {});\n",
              "          if (!dataTable) return;\n",
              "\n",
              "          const docLinkHtml = 'Like what you see? Visit the ' +\n",
              "            '<a target=\"_blank\" href=https://colab.research.google.com/notebooks/data_table.ipynb>data table notebook</a>'\n",
              "            + ' to learn more about interactive tables.';\n",
              "          element.innerHTML = '';\n",
              "          dataTable['output_type'] = 'display_data';\n",
              "          await google.colab.output.renderOutput(dataTable, element);\n",
              "          const docLink = document.createElement('div');\n",
              "          docLink.innerHTML = docLinkHtml;\n",
              "          element.appendChild(docLink);\n",
              "        }\n",
              "      </script>\n",
              "    </div>\n",
              "  </div>\n",
              "  "
            ]
          },
          "metadata": {},
          "execution_count": 73
        }
      ]
    },
    {
      "cell_type": "markdown",
      "source": [
        "`Partido que mais elegeu homens`"
      ],
      "metadata": {
        "id": "-v86vG-iJDRY"
      }
    },
    {
      "cell_type": "code",
      "source": [
        "#Utilizando sql para contabilizar eleitos masculino por idade\n",
        "query = \"\"\"SELECT SG_PARTIDO, COUNT(SG_PARTIDO) as eleitos\n",
        "           FROM eleito_masculino_partido\n",
        "           GROUP BY SG_PARTIDO\n",
        "           ORDER BY COUNT(SG_PARTIDO) DESC\n",
        "           \"\"\"\n",
        "ps.sqldf(query.lower(), locals())"
      ],
      "metadata": {
        "colab": {
          "base_uri": "https://localhost:8080/",
          "height": 1000
        },
        "id": "kqRBZrZTIoDZ",
        "outputId": "aaa05fe0-de5a-411a-b6e2-5422858dc919"
      },
      "execution_count": 74,
      "outputs": [
        {
          "output_type": "execute_result",
          "data": {
            "text/plain": [
              "   SG_PARTIDO  eleitos\n",
              "0        PMDB     1170\n",
              "1        PSDB     1122\n",
              "2          PP      477\n",
              "3         PFL      456\n",
              "4          PL      342\n",
              "5         PTB      275\n",
              "6         PPB      260\n",
              "7         PPS      230\n",
              "8          PT      216\n",
              "9          PR      206\n",
              "10        DEM      118\n",
              "11        PSB      117\n",
              "12        PSD      114\n",
              "13        PDT      103\n",
              "14        PSC      103\n",
              "15       PSDC       72\n",
              "16        PTN       35\n",
              "17        PST       34\n",
              "18    PT do B       30\n",
              "19        PSL       25\n",
              "20        PTC       24\n",
              "21         PV       21\n",
              "22        PMN       17\n",
              "23        PRB       17\n",
              "24        PHS       15\n",
              "25    PC do B       14\n",
              "26       PRTB       12\n",
              "27        PRP        8\n",
              "28        PPR        3\n",
              "29        PGT        2\n",
              "30        PAN        1\n",
              "31    PC DO B        1\n",
              "32        PRN        1\n",
              "33       PSOL        1\n",
              "34       PSTU        1"
            ],
            "text/html": [
              "\n",
              "  <div id=\"df-380cf968-562f-4aec-961a-804727df86ac\">\n",
              "    <div class=\"colab-df-container\">\n",
              "      <div>\n",
              "<style scoped>\n",
              "    .dataframe tbody tr th:only-of-type {\n",
              "        vertical-align: middle;\n",
              "    }\n",
              "\n",
              "    .dataframe tbody tr th {\n",
              "        vertical-align: top;\n",
              "    }\n",
              "\n",
              "    .dataframe thead th {\n",
              "        text-align: right;\n",
              "    }\n",
              "</style>\n",
              "<table border=\"1\" class=\"dataframe\">\n",
              "  <thead>\n",
              "    <tr style=\"text-align: right;\">\n",
              "      <th></th>\n",
              "      <th>SG_PARTIDO</th>\n",
              "      <th>eleitos</th>\n",
              "    </tr>\n",
              "  </thead>\n",
              "  <tbody>\n",
              "    <tr>\n",
              "      <th>0</th>\n",
              "      <td>PMDB</td>\n",
              "      <td>1170</td>\n",
              "    </tr>\n",
              "    <tr>\n",
              "      <th>1</th>\n",
              "      <td>PSDB</td>\n",
              "      <td>1122</td>\n",
              "    </tr>\n",
              "    <tr>\n",
              "      <th>2</th>\n",
              "      <td>PP</td>\n",
              "      <td>477</td>\n",
              "    </tr>\n",
              "    <tr>\n",
              "      <th>3</th>\n",
              "      <td>PFL</td>\n",
              "      <td>456</td>\n",
              "    </tr>\n",
              "    <tr>\n",
              "      <th>4</th>\n",
              "      <td>PL</td>\n",
              "      <td>342</td>\n",
              "    </tr>\n",
              "    <tr>\n",
              "      <th>5</th>\n",
              "      <td>PTB</td>\n",
              "      <td>275</td>\n",
              "    </tr>\n",
              "    <tr>\n",
              "      <th>6</th>\n",
              "      <td>PPB</td>\n",
              "      <td>260</td>\n",
              "    </tr>\n",
              "    <tr>\n",
              "      <th>7</th>\n",
              "      <td>PPS</td>\n",
              "      <td>230</td>\n",
              "    </tr>\n",
              "    <tr>\n",
              "      <th>8</th>\n",
              "      <td>PT</td>\n",
              "      <td>216</td>\n",
              "    </tr>\n",
              "    <tr>\n",
              "      <th>9</th>\n",
              "      <td>PR</td>\n",
              "      <td>206</td>\n",
              "    </tr>\n",
              "    <tr>\n",
              "      <th>10</th>\n",
              "      <td>DEM</td>\n",
              "      <td>118</td>\n",
              "    </tr>\n",
              "    <tr>\n",
              "      <th>11</th>\n",
              "      <td>PSB</td>\n",
              "      <td>117</td>\n",
              "    </tr>\n",
              "    <tr>\n",
              "      <th>12</th>\n",
              "      <td>PSD</td>\n",
              "      <td>114</td>\n",
              "    </tr>\n",
              "    <tr>\n",
              "      <th>13</th>\n",
              "      <td>PDT</td>\n",
              "      <td>103</td>\n",
              "    </tr>\n",
              "    <tr>\n",
              "      <th>14</th>\n",
              "      <td>PSC</td>\n",
              "      <td>103</td>\n",
              "    </tr>\n",
              "    <tr>\n",
              "      <th>15</th>\n",
              "      <td>PSDC</td>\n",
              "      <td>72</td>\n",
              "    </tr>\n",
              "    <tr>\n",
              "      <th>16</th>\n",
              "      <td>PTN</td>\n",
              "      <td>35</td>\n",
              "    </tr>\n",
              "    <tr>\n",
              "      <th>17</th>\n",
              "      <td>PST</td>\n",
              "      <td>34</td>\n",
              "    </tr>\n",
              "    <tr>\n",
              "      <th>18</th>\n",
              "      <td>PT do B</td>\n",
              "      <td>30</td>\n",
              "    </tr>\n",
              "    <tr>\n",
              "      <th>19</th>\n",
              "      <td>PSL</td>\n",
              "      <td>25</td>\n",
              "    </tr>\n",
              "    <tr>\n",
              "      <th>20</th>\n",
              "      <td>PTC</td>\n",
              "      <td>24</td>\n",
              "    </tr>\n",
              "    <tr>\n",
              "      <th>21</th>\n",
              "      <td>PV</td>\n",
              "      <td>21</td>\n",
              "    </tr>\n",
              "    <tr>\n",
              "      <th>22</th>\n",
              "      <td>PMN</td>\n",
              "      <td>17</td>\n",
              "    </tr>\n",
              "    <tr>\n",
              "      <th>23</th>\n",
              "      <td>PRB</td>\n",
              "      <td>17</td>\n",
              "    </tr>\n",
              "    <tr>\n",
              "      <th>24</th>\n",
              "      <td>PHS</td>\n",
              "      <td>15</td>\n",
              "    </tr>\n",
              "    <tr>\n",
              "      <th>25</th>\n",
              "      <td>PC do B</td>\n",
              "      <td>14</td>\n",
              "    </tr>\n",
              "    <tr>\n",
              "      <th>26</th>\n",
              "      <td>PRTB</td>\n",
              "      <td>12</td>\n",
              "    </tr>\n",
              "    <tr>\n",
              "      <th>27</th>\n",
              "      <td>PRP</td>\n",
              "      <td>8</td>\n",
              "    </tr>\n",
              "    <tr>\n",
              "      <th>28</th>\n",
              "      <td>PPR</td>\n",
              "      <td>3</td>\n",
              "    </tr>\n",
              "    <tr>\n",
              "      <th>29</th>\n",
              "      <td>PGT</td>\n",
              "      <td>2</td>\n",
              "    </tr>\n",
              "    <tr>\n",
              "      <th>30</th>\n",
              "      <td>PAN</td>\n",
              "      <td>1</td>\n",
              "    </tr>\n",
              "    <tr>\n",
              "      <th>31</th>\n",
              "      <td>PC DO B</td>\n",
              "      <td>1</td>\n",
              "    </tr>\n",
              "    <tr>\n",
              "      <th>32</th>\n",
              "      <td>PRN</td>\n",
              "      <td>1</td>\n",
              "    </tr>\n",
              "    <tr>\n",
              "      <th>33</th>\n",
              "      <td>PSOL</td>\n",
              "      <td>1</td>\n",
              "    </tr>\n",
              "    <tr>\n",
              "      <th>34</th>\n",
              "      <td>PSTU</td>\n",
              "      <td>1</td>\n",
              "    </tr>\n",
              "  </tbody>\n",
              "</table>\n",
              "</div>\n",
              "      <button class=\"colab-df-convert\" onclick=\"convertToInteractive('df-380cf968-562f-4aec-961a-804727df86ac')\"\n",
              "              title=\"Convert this dataframe to an interactive table.\"\n",
              "              style=\"display:none;\">\n",
              "        \n",
              "  <svg xmlns=\"http://www.w3.org/2000/svg\" height=\"24px\"viewBox=\"0 0 24 24\"\n",
              "       width=\"24px\">\n",
              "    <path d=\"M0 0h24v24H0V0z\" fill=\"none\"/>\n",
              "    <path d=\"M18.56 5.44l.94 2.06.94-2.06 2.06-.94-2.06-.94-.94-2.06-.94 2.06-2.06.94zm-11 1L8.5 8.5l.94-2.06 2.06-.94-2.06-.94L8.5 2.5l-.94 2.06-2.06.94zm10 10l.94 2.06.94-2.06 2.06-.94-2.06-.94-.94-2.06-.94 2.06-2.06.94z\"/><path d=\"M17.41 7.96l-1.37-1.37c-.4-.4-.92-.59-1.43-.59-.52 0-1.04.2-1.43.59L10.3 9.45l-7.72 7.72c-.78.78-.78 2.05 0 2.83L4 21.41c.39.39.9.59 1.41.59.51 0 1.02-.2 1.41-.59l7.78-7.78 2.81-2.81c.8-.78.8-2.07 0-2.86zM5.41 20L4 18.59l7.72-7.72 1.47 1.35L5.41 20z\"/>\n",
              "  </svg>\n",
              "      </button>\n",
              "      \n",
              "  <style>\n",
              "    .colab-df-container {\n",
              "      display:flex;\n",
              "      flex-wrap:wrap;\n",
              "      gap: 12px;\n",
              "    }\n",
              "\n",
              "    .colab-df-convert {\n",
              "      background-color: #E8F0FE;\n",
              "      border: none;\n",
              "      border-radius: 50%;\n",
              "      cursor: pointer;\n",
              "      display: none;\n",
              "      fill: #1967D2;\n",
              "      height: 32px;\n",
              "      padding: 0 0 0 0;\n",
              "      width: 32px;\n",
              "    }\n",
              "\n",
              "    .colab-df-convert:hover {\n",
              "      background-color: #E2EBFA;\n",
              "      box-shadow: 0px 1px 2px rgba(60, 64, 67, 0.3), 0px 1px 3px 1px rgba(60, 64, 67, 0.15);\n",
              "      fill: #174EA6;\n",
              "    }\n",
              "\n",
              "    [theme=dark] .colab-df-convert {\n",
              "      background-color: #3B4455;\n",
              "      fill: #D2E3FC;\n",
              "    }\n",
              "\n",
              "    [theme=dark] .colab-df-convert:hover {\n",
              "      background-color: #434B5C;\n",
              "      box-shadow: 0px 1px 3px 1px rgba(0, 0, 0, 0.15);\n",
              "      filter: drop-shadow(0px 1px 2px rgba(0, 0, 0, 0.3));\n",
              "      fill: #FFFFFF;\n",
              "    }\n",
              "  </style>\n",
              "\n",
              "      <script>\n",
              "        const buttonEl =\n",
              "          document.querySelector('#df-380cf968-562f-4aec-961a-804727df86ac button.colab-df-convert');\n",
              "        buttonEl.style.display =\n",
              "          google.colab.kernel.accessAllowed ? 'block' : 'none';\n",
              "\n",
              "        async function convertToInteractive(key) {\n",
              "          const element = document.querySelector('#df-380cf968-562f-4aec-961a-804727df86ac');\n",
              "          const dataTable =\n",
              "            await google.colab.kernel.invokeFunction('convertToInteractive',\n",
              "                                                     [key], {});\n",
              "          if (!dataTable) return;\n",
              "\n",
              "          const docLinkHtml = 'Like what you see? Visit the ' +\n",
              "            '<a target=\"_blank\" href=https://colab.research.google.com/notebooks/data_table.ipynb>data table notebook</a>'\n",
              "            + ' to learn more about interactive tables.';\n",
              "          element.innerHTML = '';\n",
              "          dataTable['output_type'] = 'display_data';\n",
              "          await google.colab.output.renderOutput(dataTable, element);\n",
              "          const docLink = document.createElement('div');\n",
              "          docLink.innerHTML = docLinkHtml;\n",
              "          element.appendChild(docLink);\n",
              "        }\n",
              "      </script>\n",
              "    </div>\n",
              "  </div>\n",
              "  "
            ]
          },
          "metadata": {},
          "execution_count": 74
        }
      ]
    },
    {
      "cell_type": "markdown",
      "source": [
        "**Gráfico do nivel de escolaridade de quem mais ganha eleições**"
      ],
      "metadata": {
        "id": "lMbBizeVJmQF"
      }
    },
    {
      "cell_type": "code",
      "source": [
        "eleito_escolaridade = candidatos_goias[candidatos_goias['DS_SIT_TOT_TURNO'] == \"ELEITO\"]"
      ],
      "metadata": {
        "id": "elPGJhu8J16n"
      },
      "execution_count": 75,
      "outputs": []
    },
    {
      "cell_type": "code",
      "source": [
        "fig = plt.figure(figsize=(10,5))\n",
        "grafico = sns.countplot('DS_GRAU_INSTRUCAO', order = eleito_escolaridade['DS_GRAU_INSTRUCAO'].value_counts().index, palette=\"Paired\",  data =  eleito_escolaridade)\n",
        "plt.xticks(rotation=90)\n",
        "for i in grafico.patches:\n",
        "   grafico.annotate(i.get_height(),\n",
        "                  (i.get_x() + i.get_width() / 2, i.get_height()),\n",
        "                  ha='center',\n",
        "                  va='baseline',\n",
        "                  fontsize=12,\n",
        "                  color='black',\n",
        "                  xytext=(0, 1),\n",
        "                  textcoords='offset points');  \n",
        "plt.xlabel('Escolaridade', fontsize=15)\n",
        "plt.ylabel(' ')\n",
        "plt.title('Grafico quantidade por  escolaridade',fontsize=15);"
      ],
      "metadata": {
        "colab": {
          "base_uri": "https://localhost:8080/",
          "height": 586
        },
        "id": "Ftn039PoJAwJ",
        "outputId": "d2969e80-37a4-4c74-ef48-b34ac34e80bc"
      },
      "execution_count": 76,
      "outputs": [
        {
          "output_type": "stream",
          "name": "stderr",
          "text": [
            "/usr/local/lib/python3.7/dist-packages/seaborn/_decorators.py:43: FutureWarning: Pass the following variable as a keyword arg: x. From version 0.12, the only valid positional argument will be `data`, and passing other arguments without an explicit keyword will result in an error or misinterpretation.\n",
            "  FutureWarning\n"
          ]
        },
        {
          "output_type": "display_data",
          "data": {
            "text/plain": [
              "<Figure size 720x360 with 1 Axes>"
            ],
            "image/png": "[encoded data removed]"
          },
          "metadata": {
            "needs_background": "light"
          }
        }
      ]
    },
    {
      "cell_type": "markdown",
      "source": [
        "**Porcentagem de escolaridade por genero de quem mais ganha eleições**"
      ],
      "metadata": {
        "id": "vvAUhWuvKPbB"
      }
    },
    {
      "cell_type": "code",
      "source": [
        "porc_escolaridade = candidatos_goias[candidatos_goias['DS_SIT_TOT_TURNO'] == \"ELEITO\"]\n",
        "porc_escolaridade['DS_GRAU_INSTRUCAO'].value_counts()/ porc_escolaridade['DS_GRAU_INSTRUCAO'].count()*100"
      ],
      "metadata": {
        "id": "B86LF3CMK90z",
        "colab": {
          "base_uri": "https://localhost:8080/"
        },
        "outputId": "78d8a4d3-ca7d-482b-d112-4cf355c691f7"
      },
      "execution_count": 77,
      "outputs": [
        {
          "output_type": "execute_result",
          "data": {
            "text/plain": [
              "SUPERIOR COMPLETO                17.157015\n",
              "ENSINO MÉDIO COMPLETO            11.876742\n",
              "MÉDIO COMPLETO                   11.474141\n",
              "2º GRAU COMPLETO                 10.204398\n",
              "1º GRAU INCOMPLETO                8.702385\n",
              "SUPERIOR INCOMPLETO               6.085475\n",
              "FUNDAMENTAL INCOMPLETO            5.930629\n",
              "ENSINO FUNDAMENTAL INCOMPLETO     5.017033\n",
              "1º GRAU COMPLETO                  4.614432\n",
              "ENSINO FUNDAMENTAL COMPLETO       3.607928\n",
              "FUNDAMENTAL COMPLETO              3.561474\n",
              "2º GRAU INCOMPLETO                3.468566\n",
              "ENSINO MÉDIO INCOMPLETO           2.291731\n",
              "MÉDIO INCOMPLETO                  2.074946\n",
              "LÊ E ESCREVE                      1.904614\n",
              "#NE                               1.316197\n",
              "NÃO INFORMADO                     0.681325\n",
              "ANALFABETO                        0.030969\n",
              "Name: DS_GRAU_INSTRUCAO, dtype: float64"
            ]
          },
          "metadata": {},
          "execution_count": 77
        }
      ]
    },
    {
      "cell_type": "markdown",
      "source": [
        "**Crescimento de candidatos inscritos nas eleições**"
      ],
      "metadata": {
        "id": "9CnSg06Ha0oW"
      }
    },
    {
      "cell_type": "code",
      "source": [
        "candidatos_goias.groupby(\"ANO_ELEICAO\",sort=True)[\"ANO_ELEICAO\"].count()"
      ],
      "metadata": {
        "colab": {
          "base_uri": "https://localhost:8080/"
        },
        "id": "ghu3vPbIbIzm",
        "outputId": "47caa474-543f-433e-aff9-a052c57706fa"
      },
      "execution_count": 78,
      "outputs": [
        {
          "output_type": "execute_result",
          "data": {
            "text/plain": [
              "ANO_ELEICAO\n",
              "1994      503\n",
              "1996      618\n",
              "1998      511\n",
              "2000    14771\n",
              "2002      655\n",
              "2004    17192\n",
              "2006      619\n",
              "2008    15751\n",
              "Name: ANO_ELEICAO, dtype: int64"
            ]
          },
          "metadata": {},
          "execution_count": 78
        }
      ]
    },
    {
      "cell_type": "markdown",
      "source": [
        "**Crescimento de mulheres x homens candidatos a eleições**"
      ],
      "metadata": {
        "id": "zLmS1t4YdE1N"
      }
    },
    {
      "cell_type": "markdown",
      "source": [
        "`Quantidade de mulheres canditadas nas eleições no decorrer dos anos`"
      ],
      "metadata": {
        "id": "yHiQcjzVgx1N"
      }
    },
    {
      "cell_type": "code",
      "source": [
        "candidatos_eleicao_crescimento_genero_feminino = candidatos_goias[candidatos_goias['DS_GENERO'] == \"FEMININO\"]\n",
        "candidatos_eleicao_crescimento_genero_feminino = candidatos_eleicao_crescimento_genero_feminino.groupby([\"DS_GENERO\", \"ANO_ELEICAO\"], as_index=False)[\"DS_GENERO\"].count()\n",
        "candidatos_eleicao_crescimento_genero_feminino = candidatos_eleicao_crescimento_genero_feminino.sort_values(by='DS_GENERO', ascending=False)\n",
        "candidatos_eleicao_crescimento_genero_feminino = candidatos_eleicao_crescimento_genero_feminino.rename(columns={'DS_GENERO': 'FEMININO'})\n",
        "candidatos_eleicao_crescimento_genero_feminino"
      ],
      "metadata": {
        "colab": {
          "base_uri": "https://localhost:8080/",
          "height": 269
        },
        "id": "qHDEAh9pdA7P",
        "outputId": "4e61ca1c-165f-400a-f65d-9e21bd9c3c87"
      },
      "execution_count": 79,
      "outputs": [
        {
          "output_type": "execute_result",
          "data": {
            "text/plain": [
              "   ANO_ELEICAO  FEMININO\n",
              "4         2004      3686\n",
              "6         2008      3243\n",
              "2         2000      2755\n",
              "3         2002        80\n",
              "1         1998        68\n",
              "5         2006        55\n",
              "0         1994        30"
            ],
            "text/html": [
              "\n",
              "  <div id=\"df-1224c3d8-5b68-408d-aa8d-9feb25d4ebf9\">\n",
              "    <div class=\"colab-df-container\">\n",
              "      <div>\n",
              "<style scoped>\n",
              "    .dataframe tbody tr th:only-of-type {\n",
              "        vertical-align: middle;\n",
              "    }\n",
              "\n",
              "    .dataframe tbody tr th {\n",
              "        vertical-align: top;\n",
              "    }\n",
              "\n",
              "    .dataframe thead th {\n",
              "        text-align: right;\n",
              "    }\n",
              "</style>\n",
              "<table border=\"1\" class=\"dataframe\">\n",
              "  <thead>\n",
              "    <tr style=\"text-align: right;\">\n",
              "      <th></th>\n",
              "      <th>ANO_ELEICAO</th>\n",
              "      <th>FEMININO</th>\n",
              "    </tr>\n",
              "  </thead>\n",
              "  <tbody>\n",
              "    <tr>\n",
              "      <th>4</th>\n",
              "      <td>2004</td>\n",
              "      <td>3686</td>\n",
              "    </tr>\n",
              "    <tr>\n",
              "      <th>6</th>\n",
              "      <td>2008</td>\n",
              "      <td>3243</td>\n",
              "    </tr>\n",
              "    <tr>\n",
              "      <th>2</th>\n",
              "      <td>2000</td>\n",
              "      <td>2755</td>\n",
              "    </tr>\n",
              "    <tr>\n",
              "      <th>3</th>\n",
              "      <td>2002</td>\n",
              "      <td>80</td>\n",
              "    </tr>\n",
              "    <tr>\n",
              "      <th>1</th>\n",
              "      <td>1998</td>\n",
              "      <td>68</td>\n",
              "    </tr>\n",
              "    <tr>\n",
              "      <th>5</th>\n",
              "      <td>2006</td>\n",
              "      <td>55</td>\n",
              "    </tr>\n",
              "    <tr>\n",
              "      <th>0</th>\n",
              "      <td>1994</td>\n",
              "      <td>30</td>\n",
              "    </tr>\n",
              "  </tbody>\n",
              "</table>\n",
              "</div>\n",
              "      <button class=\"colab-df-convert\" onclick=\"convertToInteractive('df-1224c3d8-5b68-408d-aa8d-9feb25d4ebf9')\"\n",
              "              title=\"Convert this dataframe to an interactive table.\"\n",
              "              style=\"display:none;\">\n",
              "        \n",
              "  <svg xmlns=\"http://www.w3.org/2000/svg\" height=\"24px\"viewBox=\"0 0 24 24\"\n",
              "       width=\"24px\">\n",
              "    <path d=\"M0 0h24v24H0V0z\" fill=\"none\"/>\n",
              "    <path d=\"M18.56 5.44l.94 2.06.94-2.06 2.06-.94-2.06-.94-.94-2.06-.94 2.06-2.06.94zm-11 1L8.5 8.5l.94-2.06 2.06-.94-2.06-.94L8.5 2.5l-.94 2.06-2.06.94zm10 10l.94 2.06.94-2.06 2.06-.94-2.06-.94-.94-2.06-.94 2.06-2.06.94z\"/><path d=\"M17.41 7.96l-1.37-1.37c-.4-.4-.92-.59-1.43-.59-.52 0-1.04.2-1.43.59L10.3 9.45l-7.72 7.72c-.78.78-.78 2.05 0 2.83L4 21.41c.39.39.9.59 1.41.59.51 0 1.02-.2 1.41-.59l7.78-7.78 2.81-2.81c.8-.78.8-2.07 0-2.86zM5.41 20L4 18.59l7.72-7.72 1.47 1.35L5.41 20z\"/>\n",
              "  </svg>\n",
              "      </button>\n",
              "      \n",
              "  <style>\n",
              "    .colab-df-container {\n",
              "      display:flex;\n",
              "      flex-wrap:wrap;\n",
              "      gap: 12px;\n",
              "    }\n",
              "\n",
              "    .colab-df-convert {\n",
              "      background-color: #E8F0FE;\n",
              "      border: none;\n",
              "      border-radius: 50%;\n",
              "      cursor: pointer;\n",
              "      display: none;\n",
              "      fill: #1967D2;\n",
              "      height: 32px;\n",
              "      padding: 0 0 0 0;\n",
              "      width: 32px;\n",
              "    }\n",
              "\n",
              "    .colab-df-convert:hover {\n",
              "      background-color: #E2EBFA;\n",
              "      box-shadow: 0px 1px 2px rgba(60, 64, 67, 0.3), 0px 1px 3px 1px rgba(60, 64, 67, 0.15);\n",
              "      fill: #174EA6;\n",
              "    }\n",
              "\n",
              "    [theme=dark] .colab-df-convert {\n",
              "      background-color: #3B4455;\n",
              "      fill: #D2E3FC;\n",
              "    }\n",
              "\n",
              "    [theme=dark] .colab-df-convert:hover {\n",
              "      background-color: #434B5C;\n",
              "      box-shadow: 0px 1px 3px 1px rgba(0, 0, 0, 0.15);\n",
              "      filter: drop-shadow(0px 1px 2px rgba(0, 0, 0, 0.3));\n",
              "      fill: #FFFFFF;\n",
              "    }\n",
              "  </style>\n",
              "\n",
              "      <script>\n",
              "        const buttonEl =\n",
              "          document.querySelector('#df-1224c3d8-5b68-408d-aa8d-9feb25d4ebf9 button.colab-df-convert');\n",
              "        buttonEl.style.display =\n",
              "          google.colab.kernel.accessAllowed ? 'block' : 'none';\n",
              "\n",
              "        async function convertToInteractive(key) {\n",
              "          const element = document.querySelector('#df-1224c3d8-5b68-408d-aa8d-9feb25d4ebf9');\n",
              "          const dataTable =\n",
              "            await google.colab.kernel.invokeFunction('convertToInteractive',\n",
              "                                                     [key], {});\n",
              "          if (!dataTable) return;\n",
              "\n",
              "          const docLinkHtml = 'Like what you see? Visit the ' +\n",
              "            '<a target=\"_blank\" href=https://colab.research.google.com/notebooks/data_table.ipynb>data table notebook</a>'\n",
              "            + ' to learn more about interactive tables.';\n",
              "          element.innerHTML = '';\n",
              "          dataTable['output_type'] = 'display_data';\n",
              "          await google.colab.output.renderOutput(dataTable, element);\n",
              "          const docLink = document.createElement('div');\n",
              "          docLink.innerHTML = docLinkHtml;\n",
              "          element.appendChild(docLink);\n",
              "        }\n",
              "      </script>\n",
              "    </div>\n",
              "  </div>\n",
              "  "
            ]
          },
          "metadata": {},
          "execution_count": 79
        }
      ]
    },
    {
      "cell_type": "markdown",
      "source": [
        "`Quantidade de homens canditados nas eleições no decorrer dos anos`"
      ],
      "metadata": {
        "id": "0QWgRhETg8Lx"
      }
    },
    {
      "cell_type": "code",
      "source": [
        "candidatos_eleicao_crescimento_genero_masculino = candidatos_goias[candidatos_goias['DS_GENERO'] == \"MASCULINO\"]\n",
        "candidatos_eleicao_crescimento_genero_masculino = candidatos_eleicao_crescimento_genero_masculino.groupby([\"DS_GENERO\", \"ANO_ELEICAO\"], as_index=False)[\"DS_GENERO\"].count()\n",
        "candidatos_eleicao_crescimento_genero_masculino = candidatos_eleicao_crescimento_genero_masculino.sort_values(by='DS_GENERO', ascending=False)\n",
        "candidatos_eleicao_crescimento_genero_masculino = candidatos_eleicao_crescimento_genero_masculino.rename(columns={'DS_GENERO': 'MASCULINO'})\n",
        "candidatos_eleicao_crescimento_genero_masculino"
      ],
      "metadata": {
        "colab": {
          "base_uri": "https://localhost:8080/",
          "height": 269
        },
        "id": "i3-QYmW8hAR0",
        "outputId": "27f0c1b7-6514-4cd6-d792-4be041b1c6b4"
      },
      "execution_count": 80,
      "outputs": [
        {
          "output_type": "execute_result",
          "data": {
            "text/plain": [
              "   ANO_ELEICAO  MASCULINO\n",
              "4         2004      13502\n",
              "6         2008      12508\n",
              "2         2000      12014\n",
              "3         2002        571\n",
              "5         2006        564\n",
              "0         1994        473\n",
              "1         1998        443"
            ],
            "text/html": [
              "\n",
              "  <div id=\"df-149c6002-0858-44f2-aa3a-f797d45add31\">\n",
              "    <div class=\"colab-df-container\">\n",
              "      <div>\n",
              "<style scoped>\n",
              "    .dataframe tbody tr th:only-of-type {\n",
              "        vertical-align: middle;\n",
              "    }\n",
              "\n",
              "    .dataframe tbody tr th {\n",
              "        vertical-align: top;\n",
              "    }\n",
              "\n",
              "    .dataframe thead th {\n",
              "        text-align: right;\n",
              "    }\n",
              "</style>\n",
              "<table border=\"1\" class=\"dataframe\">\n",
              "  <thead>\n",
              "    <tr style=\"text-align: right;\">\n",
              "      <th></th>\n",
              "      <th>ANO_ELEICAO</th>\n",
              "      <th>MASCULINO</th>\n",
              "    </tr>\n",
              "  </thead>\n",
              "  <tbody>\n",
              "    <tr>\n",
              "      <th>4</th>\n",
              "      <td>2004</td>\n",
              "      <td>13502</td>\n",
              "    </tr>\n",
              "    <tr>\n",
              "      <th>6</th>\n",
              "      <td>2008</td>\n",
              "      <td>12508</td>\n",
              "    </tr>\n",
              "    <tr>\n",
              "      <th>2</th>\n",
              "      <td>2000</td>\n",
              "      <td>12014</td>\n",
              "    </tr>\n",
              "    <tr>\n",
              "      <th>3</th>\n",
              "      <td>2002</td>\n",
              "      <td>571</td>\n",
              "    </tr>\n",
              "    <tr>\n",
              "      <th>5</th>\n",
              "      <td>2006</td>\n",
              "      <td>564</td>\n",
              "    </tr>\n",
              "    <tr>\n",
              "      <th>0</th>\n",
              "      <td>1994</td>\n",
              "      <td>473</td>\n",
              "    </tr>\n",
              "    <tr>\n",
              "      <th>1</th>\n",
              "      <td>1998</td>\n",
              "      <td>443</td>\n",
              "    </tr>\n",
              "  </tbody>\n",
              "</table>\n",
              "</div>\n",
              "      <button class=\"colab-df-convert\" onclick=\"convertToInteractive('df-149c6002-0858-44f2-aa3a-f797d45add31')\"\n",
              "              title=\"Convert this dataframe to an interactive table.\"\n",
              "              style=\"display:none;\">\n",
              "        \n",
              "  <svg xmlns=\"http://www.w3.org/2000/svg\" height=\"24px\"viewBox=\"0 0 24 24\"\n",
              "       width=\"24px\">\n",
              "    <path d=\"M0 0h24v24H0V0z\" fill=\"none\"/>\n",
              "    <path d=\"M18.56 5.44l.94 2.06.94-2.06 2.06-.94-2.06-.94-.94-2.06-.94 2.06-2.06.94zm-11 1L8.5 8.5l.94-2.06 2.06-.94-2.06-.94L8.5 2.5l-.94 2.06-2.06.94zm10 10l.94 2.06.94-2.06 2.06-.94-2.06-.94-.94-2.06-.94 2.06-2.06.94z\"/><path d=\"M17.41 7.96l-1.37-1.37c-.4-.4-.92-.59-1.43-.59-.52 0-1.04.2-1.43.59L10.3 9.45l-7.72 7.72c-.78.78-.78 2.05 0 2.83L4 21.41c.39.39.9.59 1.41.59.51 0 1.02-.2 1.41-.59l7.78-7.78 2.81-2.81c.8-.78.8-2.07 0-2.86zM5.41 20L4 18.59l7.72-7.72 1.47 1.35L5.41 20z\"/>\n",
              "  </svg>\n",
              "      </button>\n",
              "      \n",
              "  <style>\n",
              "    .colab-df-container {\n",
              "      display:flex;\n",
              "      flex-wrap:wrap;\n",
              "      gap: 12px;\n",
              "    }\n",
              "\n",
              "    .colab-df-convert {\n",
              "      background-color: #E8F0FE;\n",
              "      border: none;\n",
              "      border-radius: 50%;\n",
              "      cursor: pointer;\n",
              "      display: none;\n",
              "      fill: #1967D2;\n",
              "      height: 32px;\n",
              "      padding: 0 0 0 0;\n",
              "      width: 32px;\n",
              "    }\n",
              "\n",
              "    .colab-df-convert:hover {\n",
              "      background-color: #E2EBFA;\n",
              "      box-shadow: 0px 1px 2px rgba(60, 64, 67, 0.3), 0px 1px 3px 1px rgba(60, 64, 67, 0.15);\n",
              "      fill: #174EA6;\n",
              "    }\n",
              "\n",
              "    [theme=dark] .colab-df-convert {\n",
              "      background-color: #3B4455;\n",
              "      fill: #D2E3FC;\n",
              "    }\n",
              "\n",
              "    [theme=dark] .colab-df-convert:hover {\n",
              "      background-color: #434B5C;\n",
              "      box-shadow: 0px 1px 3px 1px rgba(0, 0, 0, 0.15);\n",
              "      filter: drop-shadow(0px 1px 2px rgba(0, 0, 0, 0.3));\n",
              "      fill: #FFFFFF;\n",
              "    }\n",
              "  </style>\n",
              "\n",
              "      <script>\n",
              "        const buttonEl =\n",
              "          document.querySelector('#df-149c6002-0858-44f2-aa3a-f797d45add31 button.colab-df-convert');\n",
              "        buttonEl.style.display =\n",
              "          google.colab.kernel.accessAllowed ? 'block' : 'none';\n",
              "\n",
              "        async function convertToInteractive(key) {\n",
              "          const element = document.querySelector('#df-149c6002-0858-44f2-aa3a-f797d45add31');\n",
              "          const dataTable =\n",
              "            await google.colab.kernel.invokeFunction('convertToInteractive',\n",
              "                                                     [key], {});\n",
              "          if (!dataTable) return;\n",
              "\n",
              "          const docLinkHtml = 'Like what you see? Visit the ' +\n",
              "            '<a target=\"_blank\" href=https://colab.research.google.com/notebooks/data_table.ipynb>data table notebook</a>'\n",
              "            + ' to learn more about interactive tables.';\n",
              "          element.innerHTML = '';\n",
              "          dataTable['output_type'] = 'display_data';\n",
              "          await google.colab.output.renderOutput(dataTable, element);\n",
              "          const docLink = document.createElement('div');\n",
              "          docLink.innerHTML = docLinkHtml;\n",
              "          element.appendChild(docLink);\n",
              "        }\n",
              "      </script>\n",
              "    </div>\n",
              "  </div>\n",
              "  "
            ]
          },
          "metadata": {},
          "execution_count": 80
        }
      ]
    },
    {
      "cell_type": "code",
      "source": [],
      "metadata": {
        "id": "Sgko1w7jj9xB"
      },
      "execution_count": 80,
      "outputs": []
    },
    {
      "cell_type": "markdown",
      "source": [
        "**Qual ano as mulheres X homens mais ganharam eleições**"
      ],
      "metadata": {
        "id": "hufJgsjUhsd7"
      }
    },
    {
      "cell_type": "markdown",
      "source": [
        "`Quantidade de mulheres eleitas no decorrer dos anos`"
      ],
      "metadata": {
        "id": "IwDxiweIkgfI"
      }
    },
    {
      "cell_type": "code",
      "source": [
        "eleito_partido = candidatos_goias[candidatos_goias['DS_SIT_TOT_TURNO'] == \"ELEITO\"]\n",
        "eleito_feminino_partido = eleito_partido[eleito_partido['DS_GENERO'] == \"FEMININO\"]"
      ],
      "metadata": {
        "id": "3GDMsYdZkF9D"
      },
      "execution_count": 81,
      "outputs": []
    },
    {
      "cell_type": "code",
      "source": [
        "#Utilizando sql para contabilizar qual ano de eleições as mulheres mais ganharam\n",
        "query = \"\"\"SELECT DS_GENERO,ANO_ELEICAO, COUNT(ANO_ELEICAO) as eleitos\n",
        "           FROM eleito_feminino_partido\n",
        "           GROUP BY ANO_ELEICAO\n",
        "           ORDER BY COUNT(ANO_ELEICAO) DESC\n",
        "           \"\"\"\n",
        "ps.sqldf(query.lower(), locals())"
      ],
      "metadata": {
        "colab": {
          "base_uri": "https://localhost:8080/",
          "height": 269
        },
        "id": "ic_JT1Y3hxMt",
        "outputId": "a0b14e63-9aa6-4599-99eb-efa9b1645ed6"
      },
      "execution_count": 82,
      "outputs": [
        {
          "output_type": "execute_result",
          "data": {
            "text/plain": [
              "  DS_GENERO  ANO_ELEICAO  eleitos\n",
              "0  FEMININO         2000      260\n",
              "1  FEMININO         2004      257\n",
              "2  FEMININO         2008      223\n",
              "3  FEMININO         2002       10\n",
              "4  FEMININO         1998        9\n",
              "5  FEMININO         1994        7\n",
              "6  FEMININO         2006        7"
            ],
            "text/html": [
              "\n",
              "  <div id=\"df-cad23e3c-c13e-4ccf-a004-99591ec2e62e\">\n",
              "    <div class=\"colab-df-container\">\n",
              "      <div>\n",
              "<style scoped>\n",
              "    .dataframe tbody tr th:only-of-type {\n",
              "        vertical-align: middle;\n",
              "    }\n",
              "\n",
              "    .dataframe tbody tr th {\n",
              "        vertical-align: top;\n",
              "    }\n",
              "\n",
              "    .dataframe thead th {\n",
              "        text-align: right;\n",
              "    }\n",
              "</style>\n",
              "<table border=\"1\" class=\"dataframe\">\n",
              "  <thead>\n",
              "    <tr style=\"text-align: right;\">\n",
              "      <th></th>\n",
              "      <th>DS_GENERO</th>\n",
              "      <th>ANO_ELEICAO</th>\n",
              "      <th>eleitos</th>\n",
              "    </tr>\n",
              "  </thead>\n",
              "  <tbody>\n",
              "    <tr>\n",
              "      <th>0</th>\n",
              "      <td>FEMININO</td>\n",
              "      <td>2000</td>\n",
              "      <td>260</td>\n",
              "    </tr>\n",
              "    <tr>\n",
              "      <th>1</th>\n",
              "      <td>FEMININO</td>\n",
              "      <td>2004</td>\n",
              "      <td>257</td>\n",
              "    </tr>\n",
              "    <tr>\n",
              "      <th>2</th>\n",
              "      <td>FEMININO</td>\n",
              "      <td>2008</td>\n",
              "      <td>223</td>\n",
              "    </tr>\n",
              "    <tr>\n",
              "      <th>3</th>\n",
              "      <td>FEMININO</td>\n",
              "      <td>2002</td>\n",
              "      <td>10</td>\n",
              "    </tr>\n",
              "    <tr>\n",
              "      <th>4</th>\n",
              "      <td>FEMININO</td>\n",
              "      <td>1998</td>\n",
              "      <td>9</td>\n",
              "    </tr>\n",
              "    <tr>\n",
              "      <th>5</th>\n",
              "      <td>FEMININO</td>\n",
              "      <td>1994</td>\n",
              "      <td>7</td>\n",
              "    </tr>\n",
              "    <tr>\n",
              "      <th>6</th>\n",
              "      <td>FEMININO</td>\n",
              "      <td>2006</td>\n",
              "      <td>7</td>\n",
              "    </tr>\n",
              "  </tbody>\n",
              "</table>\n",
              "</div>\n",
              "      <button class=\"colab-df-convert\" onclick=\"convertToInteractive('df-cad23e3c-c13e-4ccf-a004-99591ec2e62e')\"\n",
              "              title=\"Convert this dataframe to an interactive table.\"\n",
              "              style=\"display:none;\">\n",
              "        \n",
              "  <svg xmlns=\"http://www.w3.org/2000/svg\" height=\"24px\"viewBox=\"0 0 24 24\"\n",
              "       width=\"24px\">\n",
              "    <path d=\"M0 0h24v24H0V0z\" fill=\"none\"/>\n",
              "    <path d=\"M18.56 5.44l.94 2.06.94-2.06 2.06-.94-2.06-.94-.94-2.06-.94 2.06-2.06.94zm-11 1L8.5 8.5l.94-2.06 2.06-.94-2.06-.94L8.5 2.5l-.94 2.06-2.06.94zm10 10l.94 2.06.94-2.06 2.06-.94-2.06-.94-.94-2.06-.94 2.06-2.06.94z\"/><path d=\"M17.41 7.96l-1.37-1.37c-.4-.4-.92-.59-1.43-.59-.52 0-1.04.2-1.43.59L10.3 9.45l-7.72 7.72c-.78.78-.78 2.05 0 2.83L4 21.41c.39.39.9.59 1.41.59.51 0 1.02-.2 1.41-.59l7.78-7.78 2.81-2.81c.8-.78.8-2.07 0-2.86zM5.41 20L4 18.59l7.72-7.72 1.47 1.35L5.41 20z\"/>\n",
              "  </svg>\n",
              "      </button>\n",
              "      \n",
              "  <style>\n",
              "    .colab-df-container {\n",
              "      display:flex;\n",
              "      flex-wrap:wrap;\n",
              "      gap: 12px;\n",
              "    }\n",
              "\n",
              "    .colab-df-convert {\n",
              "      background-color: #E8F0FE;\n",
              "      border: none;\n",
              "      border-radius: 50%;\n",
              "      cursor: pointer;\n",
              "      display: none;\n",
              "      fill: #1967D2;\n",
              "      height: 32px;\n",
              "      padding: 0 0 0 0;\n",
              "      width: 32px;\n",
              "    }\n",
              "\n",
              "    .colab-df-convert:hover {\n",
              "      background-color: #E2EBFA;\n",
              "      box-shadow: 0px 1px 2px rgba(60, 64, 67, 0.3), 0px 1px 3px 1px rgba(60, 64, 67, 0.15);\n",
              "      fill: #174EA6;\n",
              "    }\n",
              "\n",
              "    [theme=dark] .colab-df-convert {\n",
              "      background-color: #3B4455;\n",
              "      fill: #D2E3FC;\n",
              "    }\n",
              "\n",
              "    [theme=dark] .colab-df-convert:hover {\n",
              "      background-color: #434B5C;\n",
              "      box-shadow: 0px 1px 3px 1px rgba(0, 0, 0, 0.15);\n",
              "      filter: drop-shadow(0px 1px 2px rgba(0, 0, 0, 0.3));\n",
              "      fill: #FFFFFF;\n",
              "    }\n",
              "  </style>\n",
              "\n",
              "      <script>\n",
              "        const buttonEl =\n",
              "          document.querySelector('#df-cad23e3c-c13e-4ccf-a004-99591ec2e62e button.colab-df-convert');\n",
              "        buttonEl.style.display =\n",
              "          google.colab.kernel.accessAllowed ? 'block' : 'none';\n",
              "\n",
              "        async function convertToInteractive(key) {\n",
              "          const element = document.querySelector('#df-cad23e3c-c13e-4ccf-a004-99591ec2e62e');\n",
              "          const dataTable =\n",
              "            await google.colab.kernel.invokeFunction('convertToInteractive',\n",
              "                                                     [key], {});\n",
              "          if (!dataTable) return;\n",
              "\n",
              "          const docLinkHtml = 'Like what you see? Visit the ' +\n",
              "            '<a target=\"_blank\" href=https://colab.research.google.com/notebooks/data_table.ipynb>data table notebook</a>'\n",
              "            + ' to learn more about interactive tables.';\n",
              "          element.innerHTML = '';\n",
              "          dataTable['output_type'] = 'display_data';\n",
              "          await google.colab.output.renderOutput(dataTable, element);\n",
              "          const docLink = document.createElement('div');\n",
              "          docLink.innerHTML = docLinkHtml;\n",
              "          element.appendChild(docLink);\n",
              "        }\n",
              "      </script>\n",
              "    </div>\n",
              "  </div>\n",
              "  "
            ]
          },
          "metadata": {},
          "execution_count": 82
        }
      ]
    },
    {
      "cell_type": "markdown",
      "source": [
        "`Quantidade de homens eleitos no decorrer dos anos`"
      ],
      "metadata": {
        "id": "sPs2xWunlNHz"
      }
    },
    {
      "cell_type": "code",
      "source": [
        "eleito_partido = candidatos_goias[candidatos_goias['DS_SIT_TOT_TURNO'] == \"ELEITO\"]\n",
        "eleito_masculino_partido = eleito_partido[eleito_partido['DS_GENERO'] == \"MASCULINO\"]"
      ],
      "metadata": {
        "id": "n2LovVnRklgm"
      },
      "execution_count": 83,
      "outputs": []
    },
    {
      "cell_type": "code",
      "source": [
        "#Utilizando sql para contabilizar qual ano de eleições as mulheres mais ganharam\n",
        "query = \"\"\"SELECT DS_GENERO,ANO_ELEICAO, COUNT(ANO_ELEICAO) as eleitos\n",
        "           FROM eleito_masculino_partido\n",
        "           GROUP BY ANO_ELEICAO\n",
        "           ORDER BY COUNT(ANO_ELEICAO) DESC\n",
        "           \"\"\"\n",
        "ps.sqldf(query.lower(), locals())"
      ],
      "metadata": {
        "colab": {
          "base_uri": "https://localhost:8080/",
          "height": 269
        },
        "id": "OHX_ZiwZk6uM",
        "outputId": "cfed04e4-84da-4eda-bd1d-4d25f8666c46"
      },
      "execution_count": 84,
      "outputs": [
        {
          "output_type": "execute_result",
          "data": {
            "text/plain": [
              "   DS_GENERO  ANO_ELEICAO  eleitos\n",
              "0  MASCULINO         2000     1966\n",
              "1  MASCULINO         2008     1771\n",
              "2  MASCULINO         2004     1735\n",
              "3  MASCULINO         1998       46\n",
              "4  MASCULINO         2006       46\n",
              "5  MASCULINO         2002       43\n",
              "6  MASCULINO         1994       36"
            ],
            "text/html": [
              "\n",
              "  <div id=\"df-a8dcd6af-04c0-40a1-9153-48195f821fe5\">\n",
              "    <div class=\"colab-df-container\">\n",
              "      <div>\n",
              "<style scoped>\n",
              "    .dataframe tbody tr th:only-of-type {\n",
              "        vertical-align: middle;\n",
              "    }\n",
              "\n",
              "    .dataframe tbody tr th {\n",
              "        vertical-align: top;\n",
              "    }\n",
              "\n",
              "    .dataframe thead th {\n",
              "        text-align: right;\n",
              "    }\n",
              "</style>\n",
              "<table border=\"1\" class=\"dataframe\">\n",
              "  <thead>\n",
              "    <tr style=\"text-align: right;\">\n",
              "      <th></th>\n",
              "      <th>DS_GENERO</th>\n",
              "      <th>ANO_ELEICAO</th>\n",
              "      <th>eleitos</th>\n",
              "    </tr>\n",
              "  </thead>\n",
              "  <tbody>\n",
              "    <tr>\n",
              "      <th>0</th>\n",
              "      <td>MASCULINO</td>\n",
              "      <td>2000</td>\n",
              "      <td>1966</td>\n",
              "    </tr>\n",
              "    <tr>\n",
              "      <th>1</th>\n",
              "      <td>MASCULINO</td>\n",
              "      <td>2008</td>\n",
              "      <td>1771</td>\n",
              "    </tr>\n",
              "    <tr>\n",
              "      <th>2</th>\n",
              "      <td>MASCULINO</td>\n",
              "      <td>2004</td>\n",
              "      <td>1735</td>\n",
              "    </tr>\n",
              "    <tr>\n",
              "      <th>3</th>\n",
              "      <td>MASCULINO</td>\n",
              "      <td>1998</td>\n",
              "      <td>46</td>\n",
              "    </tr>\n",
              "    <tr>\n",
              "      <th>4</th>\n",
              "      <td>MASCULINO</td>\n",
              "      <td>2006</td>\n",
              "      <td>46</td>\n",
              "    </tr>\n",
              "    <tr>\n",
              "      <th>5</th>\n",
              "      <td>MASCULINO</td>\n",
              "      <td>2002</td>\n",
              "      <td>43</td>\n",
              "    </tr>\n",
              "    <tr>\n",
              "      <th>6</th>\n",
              "      <td>MASCULINO</td>\n",
              "      <td>1994</td>\n",
              "      <td>36</td>\n",
              "    </tr>\n",
              "  </tbody>\n",
              "</table>\n",
              "</div>\n",
              "      <button class=\"colab-df-convert\" onclick=\"convertToInteractive('df-a8dcd6af-04c0-40a1-9153-48195f821fe5')\"\n",
              "              title=\"Convert this dataframe to an interactive table.\"\n",
              "              style=\"display:none;\">\n",
              "        \n",
              "  <svg xmlns=\"http://www.w3.org/2000/svg\" height=\"24px\"viewBox=\"0 0 24 24\"\n",
              "       width=\"24px\">\n",
              "    <path d=\"M0 0h24v24H0V0z\" fill=\"none\"/>\n",
              "    <path d=\"M18.56 5.44l.94 2.06.94-2.06 2.06-.94-2.06-.94-.94-2.06-.94 2.06-2.06.94zm-11 1L8.5 8.5l.94-2.06 2.06-.94-2.06-.94L8.5 2.5l-.94 2.06-2.06.94zm10 10l.94 2.06.94-2.06 2.06-.94-2.06-.94-.94-2.06-.94 2.06-2.06.94z\"/><path d=\"M17.41 7.96l-1.37-1.37c-.4-.4-.92-.59-1.43-.59-.52 0-1.04.2-1.43.59L10.3 9.45l-7.72 7.72c-.78.78-.78 2.05 0 2.83L4 21.41c.39.39.9.59 1.41.59.51 0 1.02-.2 1.41-.59l7.78-7.78 2.81-2.81c.8-.78.8-2.07 0-2.86zM5.41 20L4 18.59l7.72-7.72 1.47 1.35L5.41 20z\"/>\n",
              "  </svg>\n",
              "      </button>\n",
              "      \n",
              "  <style>\n",
              "    .colab-df-container {\n",
              "      display:flex;\n",
              "      flex-wrap:wrap;\n",
              "      gap: 12px;\n",
              "    }\n",
              "\n",
              "    .colab-df-convert {\n",
              "      background-color: #E8F0FE;\n",
              "      border: none;\n",
              "      border-radius: 50%;\n",
              "      cursor: pointer;\n",
              "      display: none;\n",
              "      fill: #1967D2;\n",
              "      height: 32px;\n",
              "      padding: 0 0 0 0;\n",
              "      width: 32px;\n",
              "    }\n",
              "\n",
              "    .colab-df-convert:hover {\n",
              "      background-color: #E2EBFA;\n",
              "      box-shadow: 0px 1px 2px rgba(60, 64, 67, 0.3), 0px 1px 3px 1px rgba(60, 64, 67, 0.15);\n",
              "      fill: #174EA6;\n",
              "    }\n",
              "\n",
              "    [theme=dark] .colab-df-convert {\n",
              "      background-color: #3B4455;\n",
              "      fill: #D2E3FC;\n",
              "    }\n",
              "\n",
              "    [theme=dark] .colab-df-convert:hover {\n",
              "      background-color: #434B5C;\n",
              "      box-shadow: 0px 1px 3px 1px rgba(0, 0, 0, 0.15);\n",
              "      filter: drop-shadow(0px 1px 2px rgba(0, 0, 0, 0.3));\n",
              "      fill: #FFFFFF;\n",
              "    }\n",
              "  </style>\n",
              "\n",
              "      <script>\n",
              "        const buttonEl =\n",
              "          document.querySelector('#df-a8dcd6af-04c0-40a1-9153-48195f821fe5 button.colab-df-convert');\n",
              "        buttonEl.style.display =\n",
              "          google.colab.kernel.accessAllowed ? 'block' : 'none';\n",
              "\n",
              "        async function convertToInteractive(key) {\n",
              "          const element = document.querySelector('#df-a8dcd6af-04c0-40a1-9153-48195f821fe5');\n",
              "          const dataTable =\n",
              "            await google.colab.kernel.invokeFunction('convertToInteractive',\n",
              "                                                     [key], {});\n",
              "          if (!dataTable) return;\n",
              "\n",
              "          const docLinkHtml = 'Like what you see? Visit the ' +\n",
              "            '<a target=\"_blank\" href=https://colab.research.google.com/notebooks/data_table.ipynb>data table notebook</a>'\n",
              "            + ' to learn more about interactive tables.';\n",
              "          element.innerHTML = '';\n",
              "          dataTable['output_type'] = 'display_data';\n",
              "          await google.colab.output.renderOutput(dataTable, element);\n",
              "          const docLink = document.createElement('div');\n",
              "          docLink.innerHTML = docLinkHtml;\n",
              "          element.appendChild(docLink);\n",
              "        }\n",
              "      </script>\n",
              "    </div>\n",
              "  </div>\n",
              "  "
            ]
          },
          "metadata": {},
          "execution_count": 84
        }
      ]
    },
    {
      "cell_type": "markdown",
      "source": [
        "**Qual partido mais gastou com candidaturas**"
      ],
      "metadata": {
        "id": "C7FXhfwjZPUp"
      }
    },
    {
      "cell_type": "code",
      "source": [
        "#Utilizando sql para contabilizar qual partidos mais gasta com campanhas\n",
        "query = \"\"\"SELECT SG_PARTIDO as sigla_partido,SUM(VR_DESPESA_MAX_CAMPANHA) total_gastos_eleicao\n",
        "           FROM candidatos_goias\n",
        "           GROUP BY SG_PARTIDO\n",
        "           ORDER BY SUM(VR_DESPESA_MAX_CAMPANHA) DESC\n",
        "           \"\"\"\n",
        "ps.sqldf(query.lower(), locals())"
      ],
      "metadata": {
        "colab": {
          "base_uri": "https://localhost:8080/",
          "height": 1000
        },
        "id": "kZwduxo4a-Bb",
        "outputId": "0ffbb54f-1d82-4b0f-8af9-86002e92636d"
      },
      "execution_count": 85,
      "outputs": [
        {
          "output_type": "execute_result",
          "data": {
            "text/plain": [
              "   sigla_partido  total_gastos_eleicao\n",
              "0           PSDC          5.653654e+08\n",
              "1            PSB          4.222221e+08\n",
              "2           PSDB          4.077675e+08\n",
              "3           PMDB          4.034069e+08\n",
              "4           PRTB          3.538376e+08\n",
              "5             PP          3.231887e+08\n",
              "6            PTN          2.679220e+08\n",
              "7             PT          2.511653e+08\n",
              "8            PTB          2.241234e+08\n",
              "9            PDT          2.028163e+08\n",
              "10            PR          1.489192e+08\n",
              "11       PT do B          1.483443e+08\n",
              "12           DEM          1.453539e+08\n",
              "13           PPS          1.245848e+08\n",
              "14           PFL          1.090340e+08\n",
              "15            PL          1.087219e+08\n",
              "16           PSC          9.504145e+07\n",
              "17           PRB          8.071099e+07\n",
              "18           PPB          6.949510e+07\n",
              "19           PHS          6.488723e+07\n",
              "20            PV          5.727342e+07\n",
              "21           PMN          5.275210e+07\n",
              "22           PTC          4.827890e+07\n",
              "23           PRP          3.851564e+07\n",
              "24          PSOL          3.779599e+07\n",
              "25       PC do B          3.501229e+07\n",
              "26           PSL          3.162334e+07\n",
              "27           PAN          1.877292e+07\n",
              "28           PST          1.350246e+07\n",
              "29         PRONA          8.550282e+06\n",
              "30           PSD          4.497072e+06\n",
              "31           PGT          2.499751e+06\n",
              "32           PCB          2.402985e+06\n",
              "33          PSTU          7.848550e+05\n",
              "34           PCO          2.600000e+05\n",
              "35       PC DO B         -3.000000e+01\n",
              "36           PRN         -4.800000e+01\n",
              "37       PT DO B         -1.260000e+02\n",
              "38           PPR         -1.530000e+02"
            ],
            "text/html": [
              "\n",
              "  <div id=\"df-c53ce32f-228a-4b7c-980b-d8a0861e224f\">\n",
              "    <div class=\"colab-df-container\">\n",
              "      <div>\n",
              "<style scoped>\n",
              "    .dataframe tbody tr th:only-of-type {\n",
              "        vertical-align: middle;\n",
              "    }\n",
              "\n",
              "    .dataframe tbody tr th {\n",
              "        vertical-align: top;\n",
              "    }\n",
              "\n",
              "    .dataframe thead th {\n",
              "        text-align: right;\n",
              "    }\n",
              "</style>\n",
              "<table border=\"1\" class=\"dataframe\">\n",
              "  <thead>\n",
              "    <tr style=\"text-align: right;\">\n",
              "      <th></th>\n",
              "      <th>sigla_partido</th>\n",
              "      <th>total_gastos_eleicao</th>\n",
              "    </tr>\n",
              "  </thead>\n",
              "  <tbody>\n",
              "    <tr>\n",
              "      <th>0</th>\n",
              "      <td>PSDC</td>\n",
              "      <td>5.653654e+08</td>\n",
              "    </tr>\n",
              "    <tr>\n",
              "      <th>1</th>\n",
              "      <td>PSB</td>\n",
              "      <td>4.222221e+08</td>\n",
              "    </tr>\n",
              "    <tr>\n",
              "      <th>2</th>\n",
              "      <td>PSDB</td>\n",
              "      <td>4.077675e+08</td>\n",
              "    </tr>\n",
              "    <tr>\n",
              "      <th>3</th>\n",
              "      <td>PMDB</td>\n",
              "      <td>4.034069e+08</td>\n",
              "    </tr>\n",
              "    <tr>\n",
              "      <th>4</th>\n",
              "      <td>PRTB</td>\n",
              "      <td>3.538376e+08</td>\n",
              "    </tr>\n",
              "    <tr>\n",
              "      <th>5</th>\n",
              "      <td>PP</td>\n",
              "      <td>3.231887e+08</td>\n",
              "    </tr>\n",
              "    <tr>\n",
              "      <th>6</th>\n",
              "      <td>PTN</td>\n",
              "      <td>2.679220e+08</td>\n",
              "    </tr>\n",
              "    <tr>\n",
              "      <th>7</th>\n",
              "      <td>PT</td>\n",
              "      <td>2.511653e+08</td>\n",
              "    </tr>\n",
              "    <tr>\n",
              "      <th>8</th>\n",
              "      <td>PTB</td>\n",
              "      <td>2.241234e+08</td>\n",
              "    </tr>\n",
              "    <tr>\n",
              "      <th>9</th>\n",
              "      <td>PDT</td>\n",
              "      <td>2.028163e+08</td>\n",
              "    </tr>\n",
              "    <tr>\n",
              "      <th>10</th>\n",
              "      <td>PR</td>\n",
              "      <td>1.489192e+08</td>\n",
              "    </tr>\n",
              "    <tr>\n",
              "      <th>11</th>\n",
              "      <td>PT do B</td>\n",
              "      <td>1.483443e+08</td>\n",
              "    </tr>\n",
              "    <tr>\n",
              "      <th>12</th>\n",
              "      <td>DEM</td>\n",
              "      <td>1.453539e+08</td>\n",
              "    </tr>\n",
              "    <tr>\n",
              "      <th>13</th>\n",
              "      <td>PPS</td>\n",
              "      <td>1.245848e+08</td>\n",
              "    </tr>\n",
              "    <tr>\n",
              "      <th>14</th>\n",
              "      <td>PFL</td>\n",
              "      <td>1.090340e+08</td>\n",
              "    </tr>\n",
              "    <tr>\n",
              "      <th>15</th>\n",
              "      <td>PL</td>\n",
              "      <td>1.087219e+08</td>\n",
              "    </tr>\n",
              "    <tr>\n",
              "      <th>16</th>\n",
              "      <td>PSC</td>\n",
              "      <td>9.504145e+07</td>\n",
              "    </tr>\n",
              "    <tr>\n",
              "      <th>17</th>\n",
              "      <td>PRB</td>\n",
              "      <td>8.071099e+07</td>\n",
              "    </tr>\n",
              "    <tr>\n",
              "      <th>18</th>\n",
              "      <td>PPB</td>\n",
              "      <td>6.949510e+07</td>\n",
              "    </tr>\n",
              "    <tr>\n",
              "      <th>19</th>\n",
              "      <td>PHS</td>\n",
              "      <td>6.488723e+07</td>\n",
              "    </tr>\n",
              "    <tr>\n",
              "      <th>20</th>\n",
              "      <td>PV</td>\n",
              "      <td>5.727342e+07</td>\n",
              "    </tr>\n",
              "    <tr>\n",
              "      <th>21</th>\n",
              "      <td>PMN</td>\n",
              "      <td>5.275210e+07</td>\n",
              "    </tr>\n",
              "    <tr>\n",
              "      <th>22</th>\n",
              "      <td>PTC</td>\n",
              "      <td>4.827890e+07</td>\n",
              "    </tr>\n",
              "    <tr>\n",
              "      <th>23</th>\n",
              "      <td>PRP</td>\n",
              "      <td>3.851564e+07</td>\n",
              "    </tr>\n",
              "    <tr>\n",
              "      <th>24</th>\n",
              "      <td>PSOL</td>\n",
              "      <td>3.779599e+07</td>\n",
              "    </tr>\n",
              "    <tr>\n",
              "      <th>25</th>\n",
              "      <td>PC do B</td>\n",
              "      <td>3.501229e+07</td>\n",
              "    </tr>\n",
              "    <tr>\n",
              "      <th>26</th>\n",
              "      <td>PSL</td>\n",
              "      <td>3.162334e+07</td>\n",
              "    </tr>\n",
              "    <tr>\n",
              "      <th>27</th>\n",
              "      <td>PAN</td>\n",
              "      <td>1.877292e+07</td>\n",
              "    </tr>\n",
              "    <tr>\n",
              "      <th>28</th>\n",
              "      <td>PST</td>\n",
              "      <td>1.350246e+07</td>\n",
              "    </tr>\n",
              "    <tr>\n",
              "      <th>29</th>\n",
              "      <td>PRONA</td>\n",
              "      <td>8.550282e+06</td>\n",
              "    </tr>\n",
              "    <tr>\n",
              "      <th>30</th>\n",
              "      <td>PSD</td>\n",
              "      <td>4.497072e+06</td>\n",
              "    </tr>\n",
              "    <tr>\n",
              "      <th>31</th>\n",
              "      <td>PGT</td>\n",
              "      <td>2.499751e+06</td>\n",
              "    </tr>\n",
              "    <tr>\n",
              "      <th>32</th>\n",
              "      <td>PCB</td>\n",
              "      <td>2.402985e+06</td>\n",
              "    </tr>\n",
              "    <tr>\n",
              "      <th>33</th>\n",
              "      <td>PSTU</td>\n",
              "      <td>7.848550e+05</td>\n",
              "    </tr>\n",
              "    <tr>\n",
              "      <th>34</th>\n",
              "      <td>PCO</td>\n",
              "      <td>2.600000e+05</td>\n",
              "    </tr>\n",
              "    <tr>\n",
              "      <th>35</th>\n",
              "      <td>PC DO B</td>\n",
              "      <td>-3.000000e+01</td>\n",
              "    </tr>\n",
              "    <tr>\n",
              "      <th>36</th>\n",
              "      <td>PRN</td>\n",
              "      <td>-4.800000e+01</td>\n",
              "    </tr>\n",
              "    <tr>\n",
              "      <th>37</th>\n",
              "      <td>PT DO B</td>\n",
              "      <td>-1.260000e+02</td>\n",
              "    </tr>\n",
              "    <tr>\n",
              "      <th>38</th>\n",
              "      <td>PPR</td>\n",
              "      <td>-1.530000e+02</td>\n",
              "    </tr>\n",
              "  </tbody>\n",
              "</table>\n",
              "</div>\n",
              "      <button class=\"colab-df-convert\" onclick=\"convertToInteractive('df-c53ce32f-228a-4b7c-980b-d8a0861e224f')\"\n",
              "              title=\"Convert this dataframe to an interactive table.\"\n",
              "              style=\"display:none;\">\n",
              "        \n",
              "  <svg xmlns=\"http://www.w3.org/2000/svg\" height=\"24px\"viewBox=\"0 0 24 24\"\n",
              "       width=\"24px\">\n",
              "    <path d=\"M0 0h24v24H0V0z\" fill=\"none\"/>\n",
              "    <path d=\"M18.56 5.44l.94 2.06.94-2.06 2.06-.94-2.06-.94-.94-2.06-.94 2.06-2.06.94zm-11 1L8.5 8.5l.94-2.06 2.06-.94-2.06-.94L8.5 2.5l-.94 2.06-2.06.94zm10 10l.94 2.06.94-2.06 2.06-.94-2.06-.94-.94-2.06-.94 2.06-2.06.94z\"/><path d=\"M17.41 7.96l-1.37-1.37c-.4-.4-.92-.59-1.43-.59-.52 0-1.04.2-1.43.59L10.3 9.45l-7.72 7.72c-.78.78-.78 2.05 0 2.83L4 21.41c.39.39.9.59 1.41.59.51 0 1.02-.2 1.41-.59l7.78-7.78 2.81-2.81c.8-.78.8-2.07 0-2.86zM5.41 20L4 18.59l7.72-7.72 1.47 1.35L5.41 20z\"/>\n",
              "  </svg>\n",
              "      </button>\n",
              "      \n",
              "  <style>\n",
              "    .colab-df-container {\n",
              "      display:flex;\n",
              "      flex-wrap:wrap;\n",
              "      gap: 12px;\n",
              "    }\n",
              "\n",
              "    .colab-df-convert {\n",
              "      background-color: #E8F0FE;\n",
              "      border: none;\n",
              "      border-radius: 50%;\n",
              "      cursor: pointer;\n",
              "      display: none;\n",
              "      fill: #1967D2;\n",
              "      height: 32px;\n",
              "      padding: 0 0 0 0;\n",
              "      width: 32px;\n",
              "    }\n",
              "\n",
              "    .colab-df-convert:hover {\n",
              "      background-color: #E2EBFA;\n",
              "      box-shadow: 0px 1px 2px rgba(60, 64, 67, 0.3), 0px 1px 3px 1px rgba(60, 64, 67, 0.15);\n",
              "      fill: #174EA6;\n",
              "    }\n",
              "\n",
              "    [theme=dark] .colab-df-convert {\n",
              "      background-color: #3B4455;\n",
              "      fill: #D2E3FC;\n",
              "    }\n",
              "\n",
              "    [theme=dark] .colab-df-convert:hover {\n",
              "      background-color: #434B5C;\n",
              "      box-shadow: 0px 1px 3px 1px rgba(0, 0, 0, 0.15);\n",
              "      filter: drop-shadow(0px 1px 2px rgba(0, 0, 0, 0.3));\n",
              "      fill: #FFFFFF;\n",
              "    }\n",
              "  </style>\n",
              "\n",
              "      <script>\n",
              "        const buttonEl =\n",
              "          document.querySelector('#df-c53ce32f-228a-4b7c-980b-d8a0861e224f button.colab-df-convert');\n",
              "        buttonEl.style.display =\n",
              "          google.colab.kernel.accessAllowed ? 'block' : 'none';\n",
              "\n",
              "        async function convertToInteractive(key) {\n",
              "          const element = document.querySelector('#df-c53ce32f-228a-4b7c-980b-d8a0861e224f');\n",
              "          const dataTable =\n",
              "            await google.colab.kernel.invokeFunction('convertToInteractive',\n",
              "                                                     [key], {});\n",
              "          if (!dataTable) return;\n",
              "\n",
              "          const docLinkHtml = 'Like what you see? Visit the ' +\n",
              "            '<a target=\"_blank\" href=https://colab.research.google.com/notebooks/data_table.ipynb>data table notebook</a>'\n",
              "            + ' to learn more about interactive tables.';\n",
              "          element.innerHTML = '';\n",
              "          dataTable['output_type'] = 'display_data';\n",
              "          await google.colab.output.renderOutput(dataTable, element);\n",
              "          const docLink = document.createElement('div');\n",
              "          docLink.innerHTML = docLinkHtml;\n",
              "          element.appendChild(docLink);\n",
              "        }\n",
              "      </script>\n",
              "    </div>\n",
              "  </div>\n",
              "  "
            ]
          },
          "metadata": {},
          "execution_count": 85
        }
      ]
    },
    {
      "cell_type": "markdown",
      "source": [
        "**Total gasto em campanhas por ano**"
      ],
      "metadata": {
        "id": "IxKdmT9XunR-"
      }
    },
    {
      "cell_type": "code",
      "source": [
        "#Utilizando sql para contabilizar qual partidos mais gasta com campanhas\n",
        "query = \"\"\"SELECT ANO_ELEICAO,SUM(VR_DESPESA_MAX_CAMPANHA) total_gastos_eleicao\n",
        "           FROM candidatos_goias\n",
        "           GROUP BY ANO_ELEICAO\n",
        "           ORDER BY SUM(VR_DESPESA_MAX_CAMPANHA) DESC\n",
        "           \"\"\"\n",
        "ps.sqldf(query.lower(), locals())"
      ],
      "metadata": {
        "colab": {
          "base_uri": "https://localhost:8080/",
          "height": 300
        },
        "id": "T_vT4Wq1uqgY",
        "outputId": "4ab3402f-bd2e-4d98-d604-eef59f2f1078"
      },
      "execution_count": 86,
      "outputs": [
        {
          "output_type": "execute_result",
          "data": {
            "text/plain": [
              "   ANO_ELEICAO  total_gastos_eleicao\n",
              "0         2008          2.544675e+09\n",
              "1         2004          1.384828e+09\n",
              "2         2006          6.445800e+08\n",
              "3         2002          2.953963e+08\n",
              "4         1994         -1.509000e+03\n",
              "5         1998         -1.533000e+03\n",
              "6         1996         -1.854000e+03\n",
              "7         2000         -4.431300e+04"
            ],
            "text/html": [
              "\n",
              "  <div id=\"df-1ab7eb01-e7aa-4fbb-b872-a91f94c5b94e\">\n",
              "    <div class=\"colab-df-container\">\n",
              "      <div>\n",
              "<style scoped>\n",
              "    .dataframe tbody tr th:only-of-type {\n",
              "        vertical-align: middle;\n",
              "    }\n",
              "\n",
              "    .dataframe tbody tr th {\n",
              "        vertical-align: top;\n",
              "    }\n",
              "\n",
              "    .dataframe thead th {\n",
              "        text-align: right;\n",
              "    }\n",
              "</style>\n",
              "<table border=\"1\" class=\"dataframe\">\n",
              "  <thead>\n",
              "    <tr style=\"text-align: right;\">\n",
              "      <th></th>\n",
              "      <th>ANO_ELEICAO</th>\n",
              "      <th>total_gastos_eleicao</th>\n",
              "    </tr>\n",
              "  </thead>\n",
              "  <tbody>\n",
              "    <tr>\n",
              "      <th>0</th>\n",
              "      <td>2008</td>\n",
              "      <td>2.544675e+09</td>\n",
              "    </tr>\n",
              "    <tr>\n",
              "      <th>1</th>\n",
              "      <td>2004</td>\n",
              "      <td>1.384828e+09</td>\n",
              "    </tr>\n",
              "    <tr>\n",
              "      <th>2</th>\n",
              "      <td>2006</td>\n",
              "      <td>6.445800e+08</td>\n",
              "    </tr>\n",
              "    <tr>\n",
              "      <th>3</th>\n",
              "      <td>2002</td>\n",
              "      <td>2.953963e+08</td>\n",
              "    </tr>\n",
              "    <tr>\n",
              "      <th>4</th>\n",
              "      <td>1994</td>\n",
              "      <td>-1.509000e+03</td>\n",
              "    </tr>\n",
              "    <tr>\n",
              "      <th>5</th>\n",
              "      <td>1998</td>\n",
              "      <td>-1.533000e+03</td>\n",
              "    </tr>\n",
              "    <tr>\n",
              "      <th>6</th>\n",
              "      <td>1996</td>\n",
              "      <td>-1.854000e+03</td>\n",
              "    </tr>\n",
              "    <tr>\n",
              "      <th>7</th>\n",
              "      <td>2000</td>\n",
              "      <td>-4.431300e+04</td>\n",
              "    </tr>\n",
              "  </tbody>\n",
              "</table>\n",
              "</div>\n",
              "      <button class=\"colab-df-convert\" onclick=\"convertToInteractive('df-1ab7eb01-e7aa-4fbb-b872-a91f94c5b94e')\"\n",
              "              title=\"Convert this dataframe to an interactive table.\"\n",
              "              style=\"display:none;\">\n",
              "        \n",
              "  <svg xmlns=\"http://www.w3.org/2000/svg\" height=\"24px\"viewBox=\"0 0 24 24\"\n",
              "       width=\"24px\">\n",
              "    <path d=\"M0 0h24v24H0V0z\" fill=\"none\"/>\n",
              "    <path d=\"M18.56 5.44l.94 2.06.94-2.06 2.06-.94-2.06-.94-.94-2.06-.94 2.06-2.06.94zm-11 1L8.5 8.5l.94-2.06 2.06-.94-2.06-.94L8.5 2.5l-.94 2.06-2.06.94zm10 10l.94 2.06.94-2.06 2.06-.94-2.06-.94-.94-2.06-.94 2.06-2.06.94z\"/><path d=\"M17.41 7.96l-1.37-1.37c-.4-.4-.92-.59-1.43-.59-.52 0-1.04.2-1.43.59L10.3 9.45l-7.72 7.72c-.78.78-.78 2.05 0 2.83L4 21.41c.39.39.9.59 1.41.59.51 0 1.02-.2 1.41-.59l7.78-7.78 2.81-2.81c.8-.78.8-2.07 0-2.86zM5.41 20L4 18.59l7.72-7.72 1.47 1.35L5.41 20z\"/>\n",
              "  </svg>\n",
              "      </button>\n",
              "      \n",
              "  <style>\n",
              "    .colab-df-container {\n",
              "      display:flex;\n",
              "      flex-wrap:wrap;\n",
              "      gap: 12px;\n",
              "    }\n",
              "\n",
              "    .colab-df-convert {\n",
              "      background-color: #E8F0FE;\n",
              "      border: none;\n",
              "      border-radius: 50%;\n",
              "      cursor: pointer;\n",
              "      display: none;\n",
              "      fill: #1967D2;\n",
              "      height: 32px;\n",
              "      padding: 0 0 0 0;\n",
              "      width: 32px;\n",
              "    }\n",
              "\n",
              "    .colab-df-convert:hover {\n",
              "      background-color: #E2EBFA;\n",
              "      box-shadow: 0px 1px 2px rgba(60, 64, 67, 0.3), 0px 1px 3px 1px rgba(60, 64, 67, 0.15);\n",
              "      fill: #174EA6;\n",
              "    }\n",
              "\n",
              "    [theme=dark] .colab-df-convert {\n",
              "      background-color: #3B4455;\n",
              "      fill: #D2E3FC;\n",
              "    }\n",
              "\n",
              "    [theme=dark] .colab-df-convert:hover {\n",
              "      background-color: #434B5C;\n",
              "      box-shadow: 0px 1px 3px 1px rgba(0, 0, 0, 0.15);\n",
              "      filter: drop-shadow(0px 1px 2px rgba(0, 0, 0, 0.3));\n",
              "      fill: #FFFFFF;\n",
              "    }\n",
              "  </style>\n",
              "\n",
              "      <script>\n",
              "        const buttonEl =\n",
              "          document.querySelector('#df-1ab7eb01-e7aa-4fbb-b872-a91f94c5b94e button.colab-df-convert');\n",
              "        buttonEl.style.display =\n",
              "          google.colab.kernel.accessAllowed ? 'block' : 'none';\n",
              "\n",
              "        async function convertToInteractive(key) {\n",
              "          const element = document.querySelector('#df-1ab7eb01-e7aa-4fbb-b872-a91f94c5b94e');\n",
              "          const dataTable =\n",
              "            await google.colab.kernel.invokeFunction('convertToInteractive',\n",
              "                                                     [key], {});\n",
              "          if (!dataTable) return;\n",
              "\n",
              "          const docLinkHtml = 'Like what you see? Visit the ' +\n",
              "            '<a target=\"_blank\" href=https://colab.research.google.com/notebooks/data_table.ipynb>data table notebook</a>'\n",
              "            + ' to learn more about interactive tables.';\n",
              "          element.innerHTML = '';\n",
              "          dataTable['output_type'] = 'display_data';\n",
              "          await google.colab.output.renderOutput(dataTable, element);\n",
              "          const docLink = document.createElement('div');\n",
              "          docLink.innerHTML = docLinkHtml;\n",
              "          element.appendChild(docLink);\n",
              "        }\n",
              "      </script>\n",
              "    </div>\n",
              "  </div>\n",
              "  "
            ]
          },
          "metadata": {},
          "execution_count": 86
        }
      ]
    },
    {
      "cell_type": "markdown",
      "source": [
        "**Gráfico de linha de gastos em campanhas por ano**"
      ],
      "metadata": {
        "id": "SyNbPjg_vAV0"
      }
    },
    {
      "cell_type": "code",
      "source": [
        "plt.figure(figsize=(13,5))\n",
        "sns.lineplot(x=candidatos_goias['ANO_ELEICAO'],y=candidatos_goias['VR_DESPESA_MAX_CAMPANHA'], color='green')\n",
        "plt.xlabel('GASTOS CAMPANHA')\n",
        "plt.ylabel('ANO ELEICAO')\n",
        "plt.show()"
      ],
      "metadata": {
        "colab": {
          "base_uri": "https://localhost:8080/",
          "height": 345
        },
        "id": "q4KFOY6uvD5e",
        "outputId": "452a6b2f-6916-44d3-e1aa-3fb6ce1529d9"
      },
      "execution_count": 87,
      "outputs": [
        {
          "output_type": "display_data",
          "data": {
            "text/plain": [
              "<Figure size 936x360 with 1 Axes>"
            ],
            "image/png": "[encoded data removed]"
          },
          "metadata": {
            "needs_background": "light"
          }
        }
      ]
    },
    {
      "cell_type": "markdown",
      "source": [
        "**Top 10 dos partidos que mais gastam com campanhas**"
      ],
      "metadata": {
        "id": "Uda0NEzJtHor"
      }
    },
    {
      "cell_type": "code",
      "source": [
        "#Utilizando sql para contabilizar qual partidos mais gasta com campanhas\n",
        "query = \"\"\"SELECT SG_PARTIDO as sigla_partido,SUM(VR_DESPESA_MAX_CAMPANHA) total_gastos_eleicao\n",
        "           FROM candidatos_goias\n",
        "           GROUP BY SG_PARTIDO\n",
        "           ORDER BY SUM(VR_DESPESA_MAX_CAMPANHA) DESC\n",
        "           LIMIT 10\n",
        "           \"\"\"\n",
        "ps.sqldf(query.lower(), locals())"
      ],
      "metadata": {
        "colab": {
          "base_uri": "https://localhost:8080/",
          "height": 363
        },
        "id": "ZgN_AvRGqC0R",
        "outputId": "5ad3f7d9-cce4-4638-9767-b7dcc9ef0d76"
      },
      "execution_count": 88,
      "outputs": [
        {
          "output_type": "execute_result",
          "data": {
            "text/plain": [
              "  sigla_partido  total_gastos_eleicao\n",
              "0          PSDC          5.653654e+08\n",
              "1           PSB          4.222221e+08\n",
              "2          PSDB          4.077675e+08\n",
              "3          PMDB          4.034069e+08\n",
              "4          PRTB          3.538376e+08\n",
              "5            PP          3.231887e+08\n",
              "6           PTN          2.679220e+08\n",
              "7            PT          2.511653e+08\n",
              "8           PTB          2.241234e+08\n",
              "9           PDT          2.028163e+08"
            ],
            "text/html": [
              "\n",
              "  <div id=\"df-c978ed1b-149b-4f14-9bf2-998b4e16de54\">\n",
              "    <div class=\"colab-df-container\">\n",
              "      <div>\n",
              "<style scoped>\n",
              "    .dataframe tbody tr th:only-of-type {\n",
              "        vertical-align: middle;\n",
              "    }\n",
              "\n",
              "    .dataframe tbody tr th {\n",
              "        vertical-align: top;\n",
              "    }\n",
              "\n",
              "    .dataframe thead th {\n",
              "        text-align: right;\n",
              "    }\n",
              "</style>\n",
              "<table border=\"1\" class=\"dataframe\">\n",
              "  <thead>\n",
              "    <tr style=\"text-align: right;\">\n",
              "      <th></th>\n",
              "      <th>sigla_partido</th>\n",
              "      <th>total_gastos_eleicao</th>\n",
              "    </tr>\n",
              "  </thead>\n",
              "  <tbody>\n",
              "    <tr>\n",
              "      <th>0</th>\n",
              "      <td>PSDC</td>\n",
              "      <td>5.653654e+08</td>\n",
              "    </tr>\n",
              "    <tr>\n",
              "      <th>1</th>\n",
              "      <td>PSB</td>\n",
              "      <td>4.222221e+08</td>\n",
              "    </tr>\n",
              "    <tr>\n",
              "      <th>2</th>\n",
              "      <td>PSDB</td>\n",
              "      <td>4.077675e+08</td>\n",
              "    </tr>\n",
              "    <tr>\n",
              "      <th>3</th>\n",
              "      <td>PMDB</td>\n",
              "      <td>4.034069e+08</td>\n",
              "    </tr>\n",
              "    <tr>\n",
              "      <th>4</th>\n",
              "      <td>PRTB</td>\n",
              "      <td>3.538376e+08</td>\n",
              "    </tr>\n",
              "    <tr>\n",
              "      <th>5</th>\n",
              "      <td>PP</td>\n",
              "      <td>3.231887e+08</td>\n",
              "    </tr>\n",
              "    <tr>\n",
              "      <th>6</th>\n",
              "      <td>PTN</td>\n",
              "      <td>2.679220e+08</td>\n",
              "    </tr>\n",
              "    <tr>\n",
              "      <th>7</th>\n",
              "      <td>PT</td>\n",
              "      <td>2.511653e+08</td>\n",
              "    </tr>\n",
              "    <tr>\n",
              "      <th>8</th>\n",
              "      <td>PTB</td>\n",
              "      <td>2.241234e+08</td>\n",
              "    </tr>\n",
              "    <tr>\n",
              "      <th>9</th>\n",
              "      <td>PDT</td>\n",
              "      <td>2.028163e+08</td>\n",
              "    </tr>\n",
              "  </tbody>\n",
              "</table>\n",
              "</div>\n",
              "      <button class=\"colab-df-convert\" onclick=\"convertToInteractive('df-c978ed1b-149b-4f14-9bf2-998b4e16de54')\"\n",
              "              title=\"Convert this dataframe to an interactive table.\"\n",
              "              style=\"display:none;\">\n",
              "        \n",
              "  <svg xmlns=\"http://www.w3.org/2000/svg\" height=\"24px\"viewBox=\"0 0 24 24\"\n",
              "       width=\"24px\">\n",
              "    <path d=\"M0 0h24v24H0V0z\" fill=\"none\"/>\n",
              "    <path d=\"M18.56 5.44l.94 2.06.94-2.06 2.06-.94-2.06-.94-.94-2.06-.94 2.06-2.06.94zm-11 1L8.5 8.5l.94-2.06 2.06-.94-2.06-.94L8.5 2.5l-.94 2.06-2.06.94zm10 10l.94 2.06.94-2.06 2.06-.94-2.06-.94-.94-2.06-.94 2.06-2.06.94z\"/><path d=\"M17.41 7.96l-1.37-1.37c-.4-.4-.92-.59-1.43-.59-.52 0-1.04.2-1.43.59L10.3 9.45l-7.72 7.72c-.78.78-.78 2.05 0 2.83L4 21.41c.39.39.9.59 1.41.59.51 0 1.02-.2 1.41-.59l7.78-7.78 2.81-2.81c.8-.78.8-2.07 0-2.86zM5.41 20L4 18.59l7.72-7.72 1.47 1.35L5.41 20z\"/>\n",
              "  </svg>\n",
              "      </button>\n",
              "      \n",
              "  <style>\n",
              "    .colab-df-container {\n",
              "      display:flex;\n",
              "      flex-wrap:wrap;\n",
              "      gap: 12px;\n",
              "    }\n",
              "\n",
              "    .colab-df-convert {\n",
              "      background-color: #E8F0FE;\n",
              "      border: none;\n",
              "      border-radius: 50%;\n",
              "      cursor: pointer;\n",
              "      display: none;\n",
              "      fill: #1967D2;\n",
              "      height: 32px;\n",
              "      padding: 0 0 0 0;\n",
              "      width: 32px;\n",
              "    }\n",
              "\n",
              "    .colab-df-convert:hover {\n",
              "      background-color: #E2EBFA;\n",
              "      box-shadow: 0px 1px 2px rgba(60, 64, 67, 0.3), 0px 1px 3px 1px rgba(60, 64, 67, 0.15);\n",
              "      fill: #174EA6;\n",
              "    }\n",
              "\n",
              "    [theme=dark] .colab-df-convert {\n",
              "      background-color: #3B4455;\n",
              "      fill: #D2E3FC;\n",
              "    }\n",
              "\n",
              "    [theme=dark] .colab-df-convert:hover {\n",
              "      background-color: #434B5C;\n",
              "      box-shadow: 0px 1px 3px 1px rgba(0, 0, 0, 0.15);\n",
              "      filter: drop-shadow(0px 1px 2px rgba(0, 0, 0, 0.3));\n",
              "      fill: #FFFFFF;\n",
              "    }\n",
              "  </style>\n",
              "\n",
              "      <script>\n",
              "        const buttonEl =\n",
              "          document.querySelector('#df-c978ed1b-149b-4f14-9bf2-998b4e16de54 button.colab-df-convert');\n",
              "        buttonEl.style.display =\n",
              "          google.colab.kernel.accessAllowed ? 'block' : 'none';\n",
              "\n",
              "        async function convertToInteractive(key) {\n",
              "          const element = document.querySelector('#df-c978ed1b-149b-4f14-9bf2-998b4e16de54');\n",
              "          const dataTable =\n",
              "            await google.colab.kernel.invokeFunction('convertToInteractive',\n",
              "                                                     [key], {});\n",
              "          if (!dataTable) return;\n",
              "\n",
              "          const docLinkHtml = 'Like what you see? Visit the ' +\n",
              "            '<a target=\"_blank\" href=https://colab.research.google.com/notebooks/data_table.ipynb>data table notebook</a>'\n",
              "            + ' to learn more about interactive tables.';\n",
              "          element.innerHTML = '';\n",
              "          dataTable['output_type'] = 'display_data';\n",
              "          await google.colab.output.renderOutput(dataTable, element);\n",
              "          const docLink = document.createElement('div');\n",
              "          docLink.innerHTML = docLinkHtml;\n",
              "          element.appendChild(docLink);\n",
              "        }\n",
              "      </script>\n",
              "    </div>\n",
              "  </div>\n",
              "  "
            ]
          },
          "metadata": {},
          "execution_count": 88
        }
      ]
    },
    {
      "cell_type": "markdown",
      "source": [
        "**Gasto dos partidos em campanhas por genero**"
      ],
      "metadata": {
        "id": "XaM45dQ6sBh1"
      }
    },
    {
      "cell_type": "markdown",
      "source": [
        "`Gasto dos partidos em campanhas genero feminino`"
      ],
      "metadata": {
        "id": "Krr4_0OrsG-v"
      }
    },
    {
      "cell_type": "code",
      "source": [
        "gasto_partido_feminino = candidatos_goias[candidatos_goias['DS_GENERO'] == \"FEMININO\"]"
      ],
      "metadata": {
        "id": "rIDvy_SOtOTC"
      },
      "execution_count": 89,
      "outputs": []
    },
    {
      "cell_type": "code",
      "source": [
        "plt.figure(figsize=(13,5))\n",
        "sns.lineplot(x=gasto_partido_feminino['ANO_ELEICAO'],y=gasto_partido_feminino['VR_DESPESA_MAX_CAMPANHA'], color='pink')\n",
        "plt.xlabel('Avg price')\n",
        "plt.ylabel('years')\n",
        "plt.show()"
      ],
      "metadata": {
        "colab": {
          "base_uri": "https://localhost:8080/",
          "height": 345
        },
        "id": "87rChwuWsq-5",
        "outputId": "37bddb0c-e8e0-4995-ec57-bd95b695de6f"
      },
      "execution_count": 90,
      "outputs": [
        {
          "output_type": "display_data",
          "data": {
            "text/plain": [
              "<Figure size 936x360 with 1 Axes>"
            ],
            "image/png": "[encoded data removed]"
          },
          "metadata": {
            "needs_background": "light"
          }
        }
      ]
    },
    {
      "cell_type": "markdown",
      "source": [
        "`Gasto dos partidos em campanhas genero Masculino`"
      ],
      "metadata": {
        "id": "FKhKeo3pt5Tt"
      }
    },
    {
      "cell_type": "code",
      "source": [
        "gasto_partido_masculino = candidatos_goias[candidatos_goias['DS_GENERO'] == \"MASCULINO\"]"
      ],
      "metadata": {
        "id": "xKx5JDRgtCyr"
      },
      "execution_count": 91,
      "outputs": []
    },
    {
      "cell_type": "code",
      "source": [
        "plt.figure(figsize=(13,5))\n",
        "sns.lineplot(x=gasto_partido_masculino['ANO_ELEICAO'],y=gasto_partido_masculino['VR_DESPESA_MAX_CAMPANHA'], color='blue')\n",
        "plt.xlabel('Avg price')\n",
        "plt.ylabel('years')\n",
        "plt.show()"
      ],
      "metadata": {
        "colab": {
          "base_uri": "https://localhost:8080/",
          "height": 345
        },
        "id": "YNp6NO1utJWn",
        "outputId": "e94b6452-c3fc-4638-8081-3b22ca2b9e74"
      },
      "execution_count": 92,
      "outputs": [
        {
          "output_type": "display_data",
          "data": {
            "text/plain": [
              "<Figure size 936x360 with 1 Axes>"
            ],
            "image/png": "[encoded data removed]"
          },
          "metadata": {
            "needs_background": "light"
          }
        }
      ]
    },
    {
      "cell_type": "markdown",
      "source": [
        "**Total geram gasto em campanhas mulhere X homens**"
      ],
      "metadata": {
        "id": "ft9j3fhNGO9V"
      }
    },
    {
      "cell_type": "markdown",
      "source": [
        "`Gastos geral em campanhas sexo feminino`"
      ],
      "metadata": {
        "id": "nHIhAPvOGbvH"
      }
    },
    {
      "cell_type": "code",
      "source": [
        "gasto_partido_feminino = candidatos_goias[candidatos_goias['DS_GENERO'] == \"FEMININO\"]"
      ],
      "metadata": {
        "id": "rhg7YG8yvrxR"
      },
      "execution_count": 93,
      "outputs": []
    },
    {
      "cell_type": "code",
      "source": [
        "gasto_partido_feminino['VR_DESPESA_MAX_CAMPANHA'].sum()"
      ],
      "metadata": {
        "colab": {
          "base_uri": "https://localhost:8080/"
        },
        "id": "eOnen1R-GSno",
        "outputId": "8fd4fa69-111c-40c5-c5f8-9710519d7740"
      },
      "execution_count": 94,
      "outputs": [
        {
          "output_type": "execute_result",
          "data": {
            "text/plain": [
              "684520451.88"
            ]
          },
          "metadata": {},
          "execution_count": 94
        }
      ]
    },
    {
      "cell_type": "markdown",
      "source": [
        "Total gasto em campanhas do genero feminino é : <br>seiscentos e oitenta e quatro milhões e quinhentos e vinte mil quatrocentos e cinquenta e um reais </br>e oitenta e oito centavos"
      ],
      "metadata": {
        "id": "rP3XU73THOSf"
      }
    },
    {
      "cell_type": "markdown",
      "source": [
        "`Gastos geral em campanhas sexo masculino`"
      ],
      "metadata": {
        "id": "1LGkjSuJGhCS"
      }
    },
    {
      "cell_type": "code",
      "source": [
        "gasto_partido_masculino = candidatos_goias[candidatos_goias['DS_GENERO'] == \"MASCULINO\"]"
      ],
      "metadata": {
        "id": "XKcGHTF2GWBO"
      },
      "execution_count": 95,
      "outputs": []
    },
    {
      "cell_type": "code",
      "source": [
        "gasto_partido_masculino['VR_DESPESA_MAX_CAMPANHA'].sum()"
      ],
      "metadata": {
        "colab": {
          "base_uri": "https://localhost:8080/"
        },
        "id": "SNYWSg0nGlK_",
        "outputId": "e2128939-f278-4a4b-dbcc-417ef6d580f5"
      },
      "execution_count": 96,
      "outputs": [
        {
          "output_type": "execute_result",
          "data": {
            "text/plain": [
              "4183650209.2799997"
            ]
          },
          "metadata": {},
          "execution_count": 96
        }
      ]
    },
    {
      "cell_type": "markdown",
      "source": [
        "Total gasto em campanhas do sexo masculino é: </br>\n",
        "quatro bilhões e cento e oitenta e três milhões e seiscentos e cinquenta mil duzentos e </br>nove reais e vinte e oito centavos"
      ],
      "metadata": {
        "id": "tRjZOi86HrKA"
      }
    },
    {
      "cell_type": "markdown",
      "source": [
        "`Diferença de gastos mulheres X homens `"
      ],
      "metadata": {
        "id": "gllvGKn_G_B_"
      }
    },
    {
      "cell_type": "code",
      "source": [
        "diferença = (4183650209.2799997 - 684520451.88)\n",
        "diferença"
      ],
      "metadata": {
        "colab": {
          "base_uri": "https://localhost:8080/"
        },
        "id": "LTJFsUjwGnX5",
        "outputId": "6fe4f95f-ccfd-491a-8b22-0a839defa510"
      },
      "execution_count": 97,
      "outputs": [
        {
          "output_type": "execute_result",
          "data": {
            "text/plain": [
              "3499129757.3999996"
            ]
          },
          "metadata": {},
          "execution_count": 97
        }
      ]
    },
    {
      "cell_type": "markdown",
      "source": [
        "Diferença de : Três bilhões e quatrocentos e noventa e nove milhões e cento e vinte </br> e nove mil setecentos e cinquenta e sete reais e quarenta centavos"
      ],
      "metadata": {
        "id": "Ghu8MmDnJdmf"
      }
    },
    {
      "cell_type": "markdown",
      "source": [
        "**Comparando esses valores com os anos de 2004 em que teve mais mulheres e homens candidatos**"
      ],
      "metadata": {
        "id": "a6uwSFF9IFMo"
      }
    },
    {
      "cell_type": "markdown",
      "source": [
        "`Gasto com campanhas no ano de 2004 genero feminino`"
      ],
      "metadata": {
        "id": "1w1NOLiJIL9q"
      }
    },
    {
      "cell_type": "code",
      "source": [
        "gasto_camapanha_feminino = candidatos_goias[candidatos_goias['DS_GENERO'] == \"FEMININO\"]\n",
        "gasto_camapanha_feminino = gasto_camapanha_feminino [gasto_camapanha_feminino ['ANO_ELEICAO'] == 2004]\n",
        "gasto_camapanha_feminino['VR_DESPESA_MAX_CAMPANHA'].sum()"
      ],
      "metadata": {
        "colab": {
          "base_uri": "https://localhost:8080/"
        },
        "id": "mqI5QZTlHH_2",
        "outputId": "04610858-b5d3-4a44-e050-c441ed50d08a"
      },
      "execution_count": 98,
      "outputs": [
        {
          "output_type": "execute_result",
          "data": {
            "text/plain": [
              "98192968.77"
            ]
          },
          "metadata": {},
          "execution_count": 98
        }
      ]
    },
    {
      "cell_type": "markdown",
      "source": [
        "Gasto de camapanha do genero feminino 2004 é :Noventa e oito milhões e cento e noventa<br> e dois mil novecentos e sessenta e oito reais <br>e setenta e sete centavos"
      ],
      "metadata": {
        "id": "0qsWyo1iI8G2"
      }
    },
    {
      "cell_type": "markdown",
      "source": [
        "`Gasto com campanhas no ano de 2004 genero masculino`"
      ],
      "metadata": {
        "id": "BV2dVQZoItvw"
      }
    },
    {
      "cell_type": "code",
      "source": [
        "gasto_camapanha_masculino = candidatos_goias[candidatos_goias['DS_GENERO'] == \"MASCULINO\"]\n",
        "gasto_camapanha_masculino= gasto_camapanha_masculino[gasto_camapanha_masculino['ANO_ELEICAO'] == 2004]\n",
        "gasto_camapanha_masculino['VR_DESPESA_MAX_CAMPANHA'].sum()"
      ],
      "metadata": {
        "colab": {
          "base_uri": "https://localhost:8080/"
        },
        "id": "Ize3E-q4IcD4",
        "outputId": "6de1ae10-08a5-4c8a-fb18-7a8e274d07d9"
      },
      "execution_count": 99,
      "outputs": [
        {
          "output_type": "execute_result",
          "data": {
            "text/plain": [
              "1286623624.62"
            ]
          },
          "metadata": {},
          "execution_count": 99
        }
      ]
    },
    {
      "cell_type": "markdown",
      "source": [
        "Gasto de camapanha do genero masculino 2004 é : Um bilhão e duzentos e oitenta <br> e seis milhões e seiscentos e vinte e três mil seiscentos <br> e vinte e quatro reais e sessenta e dois centavos"
      ],
      "metadata": {
        "id": "5nKSM_j4JIU2"
      }
    },
    {
      "cell_type": "markdown",
      "source": [
        "`Diferença de gastos mulheres X homens ano de 2004 `"
      ],
      "metadata": {
        "id": "1quf3Ne5Jwje"
      }
    },
    {
      "cell_type": "code",
      "source": [
        "diferença = (1286623624.62 - 98192968.77)\n",
        "diferença"
      ],
      "metadata": {
        "colab": {
          "base_uri": "https://localhost:8080/"
        },
        "id": "3xmi3DOvI4z4",
        "outputId": "7b920ebd-6d7d-4af2-8e58-524aebd0e436"
      },
      "execution_count": 100,
      "outputs": [
        {
          "output_type": "execute_result",
          "data": {
            "text/plain": [
              "1188430655.85"
            ]
          },
          "metadata": {},
          "execution_count": 100
        }
      ]
    },
    {
      "cell_type": "markdown",
      "source": [
        "Diferença de : Um bilhão e cento e oitenta e oito milhões e quatrocentos e trinta mil </br>seiscentos e cinquenta e cinco reais e oitenta e cinco centavos"
      ],
      "metadata": {
        "id": "vDKbM3-AKBmH"
      }
    },
    {
      "cell_type": "markdown",
      "source": [
        "**Qual ideologia mais frequente**"
      ],
      "metadata": {
        "id": "cyG8Xupy2mbu"
      }
    },
    {
      "cell_type": "code",
      "source": [
        "fig = plt.figure(figsize=(10,5))\n",
        "grafico = sns.countplot('ESPECTRO_PARTIDOS', order = candidatos_goias['ESPECTRO_PARTIDOS'].value_counts().index, palette=\"Paired\",  data =  candidatos_goias)\n",
        "plt.xticks(rotation=90)\n",
        "for i in grafico.patches:\n",
        "   grafico.annotate(i.get_height(),\n",
        "                  (i.get_x() + i.get_width() / 2, i.get_height()),\n",
        "                  ha='center',\n",
        "                  va='baseline',\n",
        "                  fontsize=12,\n",
        "                  color='black',\n",
        "                  xytext=(0, 1),\n",
        "                  textcoords='offset points');  \n",
        "plt.xlabel('espectro', fontsize=15)\n",
        "plt.ylabel(' ')\n",
        "plt.title('Grafico quantidade espectro partidos',fontsize=15);"
      ],
      "metadata": {
        "id": "FFLwqfFDJ99p",
        "colab": {
          "base_uri": "https://localhost:8080/",
          "height": 457
        },
        "outputId": "af027f97-8813-4455-e75c-bc6e769a30ee"
      },
      "execution_count": 101,
      "outputs": [
        {
          "output_type": "stream",
          "name": "stderr",
          "text": [
            "/usr/local/lib/python3.7/dist-packages/seaborn/_decorators.py:43: FutureWarning: Pass the following variable as a keyword arg: x. From version 0.12, the only valid positional argument will be `data`, and passing other arguments without an explicit keyword will result in an error or misinterpretation.\n",
            "  FutureWarning\n"
          ]
        },
        {
          "output_type": "display_data",
          "data": {
            "text/plain": [
              "<Figure size 720x360 with 1 Axes>"
            ],
            "image/png": "[encoded data removed]"
          },
          "metadata": {
            "needs_background": "light"
          }
        }
      ]
    },
    {
      "cell_type": "markdown",
      "source": [
        "**Qual ideologia mais ganhou eleições**"
      ],
      "metadata": {
        "id": "hm0NDzkO4k0v"
      }
    },
    {
      "cell_type": "code",
      "source": [
        "espectro = candidatos_goias[candidatos_goias['DS_SIT_TOT_TURNO'] == \"ELEITO\"]"
      ],
      "metadata": {
        "id": "TTqvX9HoaBpe"
      },
      "execution_count": 102,
      "outputs": []
    },
    {
      "cell_type": "code",
      "source": [
        "#Utilizando sql para contabilizar qual ideologia mais ganhou eleições\n",
        "query = \"\"\"SELECT ESPECTRO_PARTIDOS, COUNT(ESPECTRO_PARTIDOS) \n",
        "           FROM espectro\n",
        "           GROUP BY ESPECTRO_PARTIDOS\n",
        "           \"\"\"\n",
        "ps.sqldf(query.lower(), locals())"
      ],
      "metadata": {
        "id": "EfaZ6dUV20aV",
        "colab": {
          "base_uri": "https://localhost:8080/",
          "height": 143
        },
        "outputId": "7fbc2e8f-1108-4f3f-de4b-a05f903ef9af"
      },
      "execution_count": 107,
      "outputs": [
        {
          "output_type": "execute_result",
          "data": {
            "text/plain": [
              "  ESPECTRO_PARTIDOS  count(espectro_partidos)\n",
              "0            CENTRO                      4030\n",
              "1           DIREITA                      1705\n",
              "2          ESQUERDA                       723"
            ],
            "text/html": [
              "\n",
              "  <div id=\"df-3b6bc6b9-3ebd-4aa9-bfbb-77b2a898fbdf\">\n",
              "    <div class=\"colab-df-container\">\n",
              "      <div>\n",
              "<style scoped>\n",
              "    .dataframe tbody tr th:only-of-type {\n",
              "        vertical-align: middle;\n",
              "    }\n",
              "\n",
              "    .dataframe tbody tr th {\n",
              "        vertical-align: top;\n",
              "    }\n",
              "\n",
              "    .dataframe thead th {\n",
              "        text-align: right;\n",
              "    }\n",
              "</style>\n",
              "<table border=\"1\" class=\"dataframe\">\n",
              "  <thead>\n",
              "    <tr style=\"text-align: right;\">\n",
              "      <th></th>\n",
              "      <th>ESPECTRO_PARTIDOS</th>\n",
              "      <th>count(espectro_partidos)</th>\n",
              "    </tr>\n",
              "  </thead>\n",
              "  <tbody>\n",
              "    <tr>\n",
              "      <th>0</th>\n",
              "      <td>CENTRO</td>\n",
              "      <td>4030</td>\n",
              "    </tr>\n",
              "    <tr>\n",
              "      <th>1</th>\n",
              "      <td>DIREITA</td>\n",
              "      <td>1705</td>\n",
              "    </tr>\n",
              "    <tr>\n",
              "      <th>2</th>\n",
              "      <td>ESQUERDA</td>\n",
              "      <td>723</td>\n",
              "    </tr>\n",
              "  </tbody>\n",
              "</table>\n",
              "</div>\n",
              "      <button class=\"colab-df-convert\" onclick=\"convertToInteractive('df-3b6bc6b9-3ebd-4aa9-bfbb-77b2a898fbdf')\"\n",
              "              title=\"Convert this dataframe to an interactive table.\"\n",
              "              style=\"display:none;\">\n",
              "        \n",
              "  <svg xmlns=\"http://www.w3.org/2000/svg\" height=\"24px\"viewBox=\"0 0 24 24\"\n",
              "       width=\"24px\">\n",
              "    <path d=\"M0 0h24v24H0V0z\" fill=\"none\"/>\n",
              "    <path d=\"M18.56 5.44l.94 2.06.94-2.06 2.06-.94-2.06-.94-.94-2.06-.94 2.06-2.06.94zm-11 1L8.5 8.5l.94-2.06 2.06-.94-2.06-.94L8.5 2.5l-.94 2.06-2.06.94zm10 10l.94 2.06.94-2.06 2.06-.94-2.06-.94-.94-2.06-.94 2.06-2.06.94z\"/><path d=\"M17.41 7.96l-1.37-1.37c-.4-.4-.92-.59-1.43-.59-.52 0-1.04.2-1.43.59L10.3 9.45l-7.72 7.72c-.78.78-.78 2.05 0 2.83L4 21.41c.39.39.9.59 1.41.59.51 0 1.02-.2 1.41-.59l7.78-7.78 2.81-2.81c.8-.78.8-2.07 0-2.86zM5.41 20L4 18.59l7.72-7.72 1.47 1.35L5.41 20z\"/>\n",
              "  </svg>\n",
              "      </button>\n",
              "      \n",
              "  <style>\n",
              "    .colab-df-container {\n",
              "      display:flex;\n",
              "      flex-wrap:wrap;\n",
              "      gap: 12px;\n",
              "    }\n",
              "\n",
              "    .colab-df-convert {\n",
              "      background-color: #E8F0FE;\n",
              "      border: none;\n",
              "      border-radius: 50%;\n",
              "      cursor: pointer;\n",
              "      display: none;\n",
              "      fill: #1967D2;\n",
              "      height: 32px;\n",
              "      padding: 0 0 0 0;\n",
              "      width: 32px;\n",
              "    }\n",
              "\n",
              "    .colab-df-convert:hover {\n",
              "      background-color: #E2EBFA;\n",
              "      box-shadow: 0px 1px 2px rgba(60, 64, 67, 0.3), 0px 1px 3px 1px rgba(60, 64, 67, 0.15);\n",
              "      fill: #174EA6;\n",
              "    }\n",
              "\n",
              "    [theme=dark] .colab-df-convert {\n",
              "      background-color: #3B4455;\n",
              "      fill: #D2E3FC;\n",
              "    }\n",
              "\n",
              "    [theme=dark] .colab-df-convert:hover {\n",
              "      background-color: #434B5C;\n",
              "      box-shadow: 0px 1px 3px 1px rgba(0, 0, 0, 0.15);\n",
              "      filter: drop-shadow(0px 1px 2px rgba(0, 0, 0, 0.3));\n",
              "      fill: #FFFFFF;\n",
              "    }\n",
              "  </style>\n",
              "\n",
              "      <script>\n",
              "        const buttonEl =\n",
              "          document.querySelector('#df-3b6bc6b9-3ebd-4aa9-bfbb-77b2a898fbdf button.colab-df-convert');\n",
              "        buttonEl.style.display =\n",
              "          google.colab.kernel.accessAllowed ? 'block' : 'none';\n",
              "\n",
              "        async function convertToInteractive(key) {\n",
              "          const element = document.querySelector('#df-3b6bc6b9-3ebd-4aa9-bfbb-77b2a898fbdf');\n",
              "          const dataTable =\n",
              "            await google.colab.kernel.invokeFunction('convertToInteractive',\n",
              "                                                     [key], {});\n",
              "          if (!dataTable) return;\n",
              "\n",
              "          const docLinkHtml = 'Like what you see? Visit the ' +\n",
              "            '<a target=\"_blank\" href=https://colab.research.google.com/notebooks/data_table.ipynb>data table notebook</a>'\n",
              "            + ' to learn more about interactive tables.';\n",
              "          element.innerHTML = '';\n",
              "          dataTable['output_type'] = 'display_data';\n",
              "          await google.colab.output.renderOutput(dataTable, element);\n",
              "          const docLink = document.createElement('div');\n",
              "          docLink.innerHTML = docLinkHtml;\n",
              "          element.appendChild(docLink);\n",
              "        }\n",
              "      </script>\n",
              "    </div>\n",
              "  </div>\n",
              "  "
            ]
          },
          "metadata": {},
          "execution_count": 107
        }
      ]
    },
    {
      "cell_type": "markdown",
      "source": [
        "**Qual ideologia tem mais mulheres x homens eleitos**"
      ],
      "metadata": {
        "id": "s4zN1FwYZpPu"
      }
    },
    {
      "cell_type": "markdown",
      "source": [
        "`Ideologia que foram mais mulheres eleitas`\n",
        "\n",
        "\n",
        "\n",
        "\n"
      ],
      "metadata": {
        "id": "B5dFoaAZbZjf"
      }
    },
    {
      "cell_type": "code",
      "source": [
        "espectro = candidatos_goias[candidatos_goias['DS_SIT_TOT_TURNO'] == \"ELEITO\"]\n",
        "espectro_feminino = espectro[espectro['DS_GENERO'] == \"FEMININO\"]"
      ],
      "metadata": {
        "id": "swTkqW57bDuf"
      },
      "execution_count": 112,
      "outputs": []
    },
    {
      "cell_type": "code",
      "source": [
        "#Utilizando sql para contabilizar qual ideologia mais ganhou eleições\n",
        "query = \"\"\"SELECT DS_GENERO, ESPECTRO_PARTIDOS, COUNT(ESPECTRO_PARTIDOS) \n",
        "           FROM espectro_feminino\n",
        "           GROUP BY ESPECTRO_PARTIDOS\n",
        "           \"\"\"\n",
        "ps.sqldf(query.lower(), locals())"
      ],
      "metadata": {
        "id": "C2qyFdzx4qGF",
        "colab": {
          "base_uri": "https://localhost:8080/",
          "height": 143
        },
        "outputId": "f5141ea4-99d8-4930-dd03-f4ccb73dd62b"
      },
      "execution_count": 115,
      "outputs": [
        {
          "output_type": "execute_result",
          "data": {
            "text/plain": [
              "  DS_GENERO ESPECTRO_PARTIDOS  count(espectro_partidos)\n",
              "0  FEMININO            CENTRO                       520\n",
              "1  FEMININO           DIREITA                       177\n",
              "2  FEMININO          ESQUERDA                        76"
            ],
            "text/html": [
              "\n",
              "  <div id=\"df-e2861d1e-3fd1-4a67-a7cc-b3186d544d87\">\n",
              "    <div class=\"colab-df-container\">\n",
              "      <div>\n",
              "<style scoped>\n",
              "    .dataframe tbody tr th:only-of-type {\n",
              "        vertical-align: middle;\n",
              "    }\n",
              "\n",
              "    .dataframe tbody tr th {\n",
              "        vertical-align: top;\n",
              "    }\n",
              "\n",
              "    .dataframe thead th {\n",
              "        text-align: right;\n",
              "    }\n",
              "</style>\n",
              "<table border=\"1\" class=\"dataframe\">\n",
              "  <thead>\n",
              "    <tr style=\"text-align: right;\">\n",
              "      <th></th>\n",
              "      <th>DS_GENERO</th>\n",
              "      <th>ESPECTRO_PARTIDOS</th>\n",
              "      <th>count(espectro_partidos)</th>\n",
              "    </tr>\n",
              "  </thead>\n",
              "  <tbody>\n",
              "    <tr>\n",
              "      <th>0</th>\n",
              "      <td>FEMININO</td>\n",
              "      <td>CENTRO</td>\n",
              "      <td>520</td>\n",
              "    </tr>\n",
              "    <tr>\n",
              "      <th>1</th>\n",
              "      <td>FEMININO</td>\n",
              "      <td>DIREITA</td>\n",
              "      <td>177</td>\n",
              "    </tr>\n",
              "    <tr>\n",
              "      <th>2</th>\n",
              "      <td>FEMININO</td>\n",
              "      <td>ESQUERDA</td>\n",
              "      <td>76</td>\n",
              "    </tr>\n",
              "  </tbody>\n",
              "</table>\n",
              "</div>\n",
              "      <button class=\"colab-df-convert\" onclick=\"convertToInteractive('df-e2861d1e-3fd1-4a67-a7cc-b3186d544d87')\"\n",
              "              title=\"Convert this dataframe to an interactive table.\"\n",
              "              style=\"display:none;\">\n",
              "        \n",
              "  <svg xmlns=\"http://www.w3.org/2000/svg\" height=\"24px\"viewBox=\"0 0 24 24\"\n",
              "       width=\"24px\">\n",
              "    <path d=\"M0 0h24v24H0V0z\" fill=\"none\"/>\n",
              "    <path d=\"M18.56 5.44l.94 2.06.94-2.06 2.06-.94-2.06-.94-.94-2.06-.94 2.06-2.06.94zm-11 1L8.5 8.5l.94-2.06 2.06-.94-2.06-.94L8.5 2.5l-.94 2.06-2.06.94zm10 10l.94 2.06.94-2.06 2.06-.94-2.06-.94-.94-2.06-.94 2.06-2.06.94z\"/><path d=\"M17.41 7.96l-1.37-1.37c-.4-.4-.92-.59-1.43-.59-.52 0-1.04.2-1.43.59L10.3 9.45l-7.72 7.72c-.78.78-.78 2.05 0 2.83L4 21.41c.39.39.9.59 1.41.59.51 0 1.02-.2 1.41-.59l7.78-7.78 2.81-2.81c.8-.78.8-2.07 0-2.86zM5.41 20L4 18.59l7.72-7.72 1.47 1.35L5.41 20z\"/>\n",
              "  </svg>\n",
              "      </button>\n",
              "      \n",
              "  <style>\n",
              "    .colab-df-container {\n",
              "      display:flex;\n",
              "      flex-wrap:wrap;\n",
              "      gap: 12px;\n",
              "    }\n",
              "\n",
              "    .colab-df-convert {\n",
              "      background-color: #E8F0FE;\n",
              "      border: none;\n",
              "      border-radius: 50%;\n",
              "      cursor: pointer;\n",
              "      display: none;\n",
              "      fill: #1967D2;\n",
              "      height: 32px;\n",
              "      padding: 0 0 0 0;\n",
              "      width: 32px;\n",
              "    }\n",
              "\n",
              "    .colab-df-convert:hover {\n",
              "      background-color: #E2EBFA;\n",
              "      box-shadow: 0px 1px 2px rgba(60, 64, 67, 0.3), 0px 1px 3px 1px rgba(60, 64, 67, 0.15);\n",
              "      fill: #174EA6;\n",
              "    }\n",
              "\n",
              "    [theme=dark] .colab-df-convert {\n",
              "      background-color: #3B4455;\n",
              "      fill: #D2E3FC;\n",
              "    }\n",
              "\n",
              "    [theme=dark] .colab-df-convert:hover {\n",
              "      background-color: #434B5C;\n",
              "      box-shadow: 0px 1px 3px 1px rgba(0, 0, 0, 0.15);\n",
              "      filter: drop-shadow(0px 1px 2px rgba(0, 0, 0, 0.3));\n",
              "      fill: #FFFFFF;\n",
              "    }\n",
              "  </style>\n",
              "\n",
              "      <script>\n",
              "        const buttonEl =\n",
              "          document.querySelector('#df-e2861d1e-3fd1-4a67-a7cc-b3186d544d87 button.colab-df-convert');\n",
              "        buttonEl.style.display =\n",
              "          google.colab.kernel.accessAllowed ? 'block' : 'none';\n",
              "\n",
              "        async function convertToInteractive(key) {\n",
              "          const element = document.querySelector('#df-e2861d1e-3fd1-4a67-a7cc-b3186d544d87');\n",
              "          const dataTable =\n",
              "            await google.colab.kernel.invokeFunction('convertToInteractive',\n",
              "                                                     [key], {});\n",
              "          if (!dataTable) return;\n",
              "\n",
              "          const docLinkHtml = 'Like what you see? Visit the ' +\n",
              "            '<a target=\"_blank\" href=https://colab.research.google.com/notebooks/data_table.ipynb>data table notebook</a>'\n",
              "            + ' to learn more about interactive tables.';\n",
              "          element.innerHTML = '';\n",
              "          dataTable['output_type'] = 'display_data';\n",
              "          await google.colab.output.renderOutput(dataTable, element);\n",
              "          const docLink = document.createElement('div');\n",
              "          docLink.innerHTML = docLinkHtml;\n",
              "          element.appendChild(docLink);\n",
              "        }\n",
              "      </script>\n",
              "    </div>\n",
              "  </div>\n",
              "  "
            ]
          },
          "metadata": {},
          "execution_count": 115
        }
      ]
    },
    {
      "cell_type": "markdown",
      "source": [
        "`Ideologia que foram mais homens eleitas`"
      ],
      "metadata": {
        "id": "9CtfDgjObhzB"
      }
    },
    {
      "cell_type": "code",
      "source": [
        "espectro = candidatos_goias[candidatos_goias['DS_SIT_TOT_TURNO'] == \"ELEITO\"]\n",
        "espectro_masculino = espectro[espectro['DS_GENERO'] == \"MASCULINO\"]"
      ],
      "metadata": {
        "id": "LG2OeUIebk4m"
      },
      "execution_count": 116,
      "outputs": []
    },
    {
      "cell_type": "code",
      "source": [
        "#Utilizando sql para contabilizar qual ideologia mais ganhou eleições\n",
        "query = \"\"\"SELECT DS_GENERO, ESPECTRO_PARTIDOS, COUNT(ESPECTRO_PARTIDOS) \n",
        "           FROM espectro_masculino\n",
        "           GROUP BY ESPECTRO_PARTIDOS\n",
        "           \"\"\"\n",
        "ps.sqldf(query.lower(), locals())"
      ],
      "metadata": {
        "colab": {
          "base_uri": "https://localhost:8080/",
          "height": 143
        },
        "id": "3ajXh3Qva4Zv",
        "outputId": "e07f4b55-87ba-4e1f-95aa-2bdba5ad2dbb"
      },
      "execution_count": 117,
      "outputs": [
        {
          "output_type": "execute_result",
          "data": {
            "text/plain": [
              "   DS_GENERO ESPECTRO_PARTIDOS  count(espectro_partidos)\n",
              "0  MASCULINO            CENTRO                      3491\n",
              "1  MASCULINO           DIREITA                      1512\n",
              "2  MASCULINO          ESQUERDA                       640"
            ],
            "text/html": [
              "\n",
              "  <div id=\"df-1a561d64-0d5a-4221-951e-b233ef762b10\">\n",
              "    <div class=\"colab-df-container\">\n",
              "      <div>\n",
              "<style scoped>\n",
              "    .dataframe tbody tr th:only-of-type {\n",
              "        vertical-align: middle;\n",
              "    }\n",
              "\n",
              "    .dataframe tbody tr th {\n",
              "        vertical-align: top;\n",
              "    }\n",
              "\n",
              "    .dataframe thead th {\n",
              "        text-align: right;\n",
              "    }\n",
              "</style>\n",
              "<table border=\"1\" class=\"dataframe\">\n",
              "  <thead>\n",
              "    <tr style=\"text-align: right;\">\n",
              "      <th></th>\n",
              "      <th>DS_GENERO</th>\n",
              "      <th>ESPECTRO_PARTIDOS</th>\n",
              "      <th>count(espectro_partidos)</th>\n",
              "    </tr>\n",
              "  </thead>\n",
              "  <tbody>\n",
              "    <tr>\n",
              "      <th>0</th>\n",
              "      <td>MASCULINO</td>\n",
              "      <td>CENTRO</td>\n",
              "      <td>3491</td>\n",
              "    </tr>\n",
              "    <tr>\n",
              "      <th>1</th>\n",
              "      <td>MASCULINO</td>\n",
              "      <td>DIREITA</td>\n",
              "      <td>1512</td>\n",
              "    </tr>\n",
              "    <tr>\n",
              "      <th>2</th>\n",
              "      <td>MASCULINO</td>\n",
              "      <td>ESQUERDA</td>\n",
              "      <td>640</td>\n",
              "    </tr>\n",
              "  </tbody>\n",
              "</table>\n",
              "</div>\n",
              "      <button class=\"colab-df-convert\" onclick=\"convertToInteractive('df-1a561d64-0d5a-4221-951e-b233ef762b10')\"\n",
              "              title=\"Convert this dataframe to an interactive table.\"\n",
              "              style=\"display:none;\">\n",
              "        \n",
              "  <svg xmlns=\"http://www.w3.org/2000/svg\" height=\"24px\"viewBox=\"0 0 24 24\"\n",
              "       width=\"24px\">\n",
              "    <path d=\"M0 0h24v24H0V0z\" fill=\"none\"/>\n",
              "    <path d=\"M18.56 5.44l.94 2.06.94-2.06 2.06-.94-2.06-.94-.94-2.06-.94 2.06-2.06.94zm-11 1L8.5 8.5l.94-2.06 2.06-.94-2.06-.94L8.5 2.5l-.94 2.06-2.06.94zm10 10l.94 2.06.94-2.06 2.06-.94-2.06-.94-.94-2.06-.94 2.06-2.06.94z\"/><path d=\"M17.41 7.96l-1.37-1.37c-.4-.4-.92-.59-1.43-.59-.52 0-1.04.2-1.43.59L10.3 9.45l-7.72 7.72c-.78.78-.78 2.05 0 2.83L4 21.41c.39.39.9.59 1.41.59.51 0 1.02-.2 1.41-.59l7.78-7.78 2.81-2.81c.8-.78.8-2.07 0-2.86zM5.41 20L4 18.59l7.72-7.72 1.47 1.35L5.41 20z\"/>\n",
              "  </svg>\n",
              "      </button>\n",
              "      \n",
              "  <style>\n",
              "    .colab-df-container {\n",
              "      display:flex;\n",
              "      flex-wrap:wrap;\n",
              "      gap: 12px;\n",
              "    }\n",
              "\n",
              "    .colab-df-convert {\n",
              "      background-color: #E8F0FE;\n",
              "      border: none;\n",
              "      border-radius: 50%;\n",
              "      cursor: pointer;\n",
              "      display: none;\n",
              "      fill: #1967D2;\n",
              "      height: 32px;\n",
              "      padding: 0 0 0 0;\n",
              "      width: 32px;\n",
              "    }\n",
              "\n",
              "    .colab-df-convert:hover {\n",
              "      background-color: #E2EBFA;\n",
              "      box-shadow: 0px 1px 2px rgba(60, 64, 67, 0.3), 0px 1px 3px 1px rgba(60, 64, 67, 0.15);\n",
              "      fill: #174EA6;\n",
              "    }\n",
              "\n",
              "    [theme=dark] .colab-df-convert {\n",
              "      background-color: #3B4455;\n",
              "      fill: #D2E3FC;\n",
              "    }\n",
              "\n",
              "    [theme=dark] .colab-df-convert:hover {\n",
              "      background-color: #434B5C;\n",
              "      box-shadow: 0px 1px 3px 1px rgba(0, 0, 0, 0.15);\n",
              "      filter: drop-shadow(0px 1px 2px rgba(0, 0, 0, 0.3));\n",
              "      fill: #FFFFFF;\n",
              "    }\n",
              "  </style>\n",
              "\n",
              "      <script>\n",
              "        const buttonEl =\n",
              "          document.querySelector('#df-1a561d64-0d5a-4221-951e-b233ef762b10 button.colab-df-convert');\n",
              "        buttonEl.style.display =\n",
              "          google.colab.kernel.accessAllowed ? 'block' : 'none';\n",
              "\n",
              "        async function convertToInteractive(key) {\n",
              "          const element = document.querySelector('#df-1a561d64-0d5a-4221-951e-b233ef762b10');\n",
              "          const dataTable =\n",
              "            await google.colab.kernel.invokeFunction('convertToInteractive',\n",
              "                                                     [key], {});\n",
              "          if (!dataTable) return;\n",
              "\n",
              "          const docLinkHtml = 'Like what you see? Visit the ' +\n",
              "            '<a target=\"_blank\" href=https://colab.research.google.com/notebooks/data_table.ipynb>data table notebook</a>'\n",
              "            + ' to learn more about interactive tables.';\n",
              "          element.innerHTML = '';\n",
              "          dataTable['output_type'] = 'display_data';\n",
              "          await google.colab.output.renderOutput(dataTable, element);\n",
              "          const docLink = document.createElement('div');\n",
              "          docLink.innerHTML = docLinkHtml;\n",
              "          element.appendChild(docLink);\n",
              "        }\n",
              "      </script>\n",
              "    </div>\n",
              "  </div>\n",
              "  "
            ]
          },
          "metadata": {},
          "execution_count": 117
        }
      ]
    },
    {
      "cell_type": "markdown",
      "source": [
        "**Quantas vezes mulheres x homens concorrerão a releicao**"
      ],
      "metadata": {
        "id": "5MtBZ_xQbwra"
      }
    },
    {
      "cell_type": "code",
      "source": [
        "releito_feminino = candidatos_goias[candidatos_goias['DS_GENERO'] == \"FEMININO\"]\n",
        "releito_masculino = candidatos_goias[candidatos_goias['DS_GENERO'] == \"MASCULINO\"]"
      ],
      "metadata": {
        "id": "MzCjI7V2cojz"
      },
      "execution_count": 124,
      "outputs": []
    },
    {
      "cell_type": "code",
      "source": [
        "#Utilizando sql para contabilizar quantas vezes mulheres x homens concorrerão a releição\n",
        "query = \"\"\"SELECT DS_GENERO, ST_REELEICAO, COUNT(ST_REELEICAO) \n",
        "           FROM releito_feminino\n",
        "           GROUP BY ST_REELEICAO, DS_GENERO\n",
        "           \"\"\"\n",
        "ps.sqldf(query.lower(), locals())"
      ],
      "metadata": {
        "colab": {
          "base_uri": "https://localhost:8080/",
          "height": 143
        },
        "id": "01I8sGhYbqxv",
        "outputId": "9d9e456b-3add-477a-ce3e-da5d1a10ea70"
      },
      "execution_count": 125,
      "outputs": [
        {
          "output_type": "execute_result",
          "data": {
            "text/plain": [
              "  DS_GENERO ST_REELEICAO  count(st_reeleicao)\n",
              "0  FEMININO          #NE                 2853\n",
              "1  FEMININO            N                 7016\n",
              "2  FEMININO            S                   48"
            ],
            "text/html": [
              "\n",
              "  <div id=\"df-1e79d0a9-2f77-4aea-9e82-df4d4fad4d4b\">\n",
              "    <div class=\"colab-df-container\">\n",
              "      <div>\n",
              "<style scoped>\n",
              "    .dataframe tbody tr th:only-of-type {\n",
              "        vertical-align: middle;\n",
              "    }\n",
              "\n",
              "    .dataframe tbody tr th {\n",
              "        vertical-align: top;\n",
              "    }\n",
              "\n",
              "    .dataframe thead th {\n",
              "        text-align: right;\n",
              "    }\n",
              "</style>\n",
              "<table border=\"1\" class=\"dataframe\">\n",
              "  <thead>\n",
              "    <tr style=\"text-align: right;\">\n",
              "      <th></th>\n",
              "      <th>DS_GENERO</th>\n",
              "      <th>ST_REELEICAO</th>\n",
              "      <th>count(st_reeleicao)</th>\n",
              "    </tr>\n",
              "  </thead>\n",
              "  <tbody>\n",
              "    <tr>\n",
              "      <th>0</th>\n",
              "      <td>FEMININO</td>\n",
              "      <td>#NE</td>\n",
              "      <td>2853</td>\n",
              "    </tr>\n",
              "    <tr>\n",
              "      <th>1</th>\n",
              "      <td>FEMININO</td>\n",
              "      <td>N</td>\n",
              "      <td>7016</td>\n",
              "    </tr>\n",
              "    <tr>\n",
              "      <th>2</th>\n",
              "      <td>FEMININO</td>\n",
              "      <td>S</td>\n",
              "      <td>48</td>\n",
              "    </tr>\n",
              "  </tbody>\n",
              "</table>\n",
              "</div>\n",
              "      <button class=\"colab-df-convert\" onclick=\"convertToInteractive('df-1e79d0a9-2f77-4aea-9e82-df4d4fad4d4b')\"\n",
              "              title=\"Convert this dataframe to an interactive table.\"\n",
              "              style=\"display:none;\">\n",
              "        \n",
              "  <svg xmlns=\"http://www.w3.org/2000/svg\" height=\"24px\"viewBox=\"0 0 24 24\"\n",
              "       width=\"24px\">\n",
              "    <path d=\"M0 0h24v24H0V0z\" fill=\"none\"/>\n",
              "    <path d=\"M18.56 5.44l.94 2.06.94-2.06 2.06-.94-2.06-.94-.94-2.06-.94 2.06-2.06.94zm-11 1L8.5 8.5l.94-2.06 2.06-.94-2.06-.94L8.5 2.5l-.94 2.06-2.06.94zm10 10l.94 2.06.94-2.06 2.06-.94-2.06-.94-.94-2.06-.94 2.06-2.06.94z\"/><path d=\"M17.41 7.96l-1.37-1.37c-.4-.4-.92-.59-1.43-.59-.52 0-1.04.2-1.43.59L10.3 9.45l-7.72 7.72c-.78.78-.78 2.05 0 2.83L4 21.41c.39.39.9.59 1.41.59.51 0 1.02-.2 1.41-.59l7.78-7.78 2.81-2.81c.8-.78.8-2.07 0-2.86zM5.41 20L4 18.59l7.72-7.72 1.47 1.35L5.41 20z\"/>\n",
              "  </svg>\n",
              "      </button>\n",
              "      \n",
              "  <style>\n",
              "    .colab-df-container {\n",
              "      display:flex;\n",
              "      flex-wrap:wrap;\n",
              "      gap: 12px;\n",
              "    }\n",
              "\n",
              "    .colab-df-convert {\n",
              "      background-color: #E8F0FE;\n",
              "      border: none;\n",
              "      border-radius: 50%;\n",
              "      cursor: pointer;\n",
              "      display: none;\n",
              "      fill: #1967D2;\n",
              "      height: 32px;\n",
              "      padding: 0 0 0 0;\n",
              "      width: 32px;\n",
              "    }\n",
              "\n",
              "    .colab-df-convert:hover {\n",
              "      background-color: #E2EBFA;\n",
              "      box-shadow: 0px 1px 2px rgba(60, 64, 67, 0.3), 0px 1px 3px 1px rgba(60, 64, 67, 0.15);\n",
              "      fill: #174EA6;\n",
              "    }\n",
              "\n",
              "    [theme=dark] .colab-df-convert {\n",
              "      background-color: #3B4455;\n",
              "      fill: #D2E3FC;\n",
              "    }\n",
              "\n",
              "    [theme=dark] .colab-df-convert:hover {\n",
              "      background-color: #434B5C;\n",
              "      box-shadow: 0px 1px 3px 1px rgba(0, 0, 0, 0.15);\n",
              "      filter: drop-shadow(0px 1px 2px rgba(0, 0, 0, 0.3));\n",
              "      fill: #FFFFFF;\n",
              "    }\n",
              "  </style>\n",
              "\n",
              "      <script>\n",
              "        const buttonEl =\n",
              "          document.querySelector('#df-1e79d0a9-2f77-4aea-9e82-df4d4fad4d4b button.colab-df-convert');\n",
              "        buttonEl.style.display =\n",
              "          google.colab.kernel.accessAllowed ? 'block' : 'none';\n",
              "\n",
              "        async function convertToInteractive(key) {\n",
              "          const element = document.querySelector('#df-1e79d0a9-2f77-4aea-9e82-df4d4fad4d4b');\n",
              "          const dataTable =\n",
              "            await google.colab.kernel.invokeFunction('convertToInteractive',\n",
              "                                                     [key], {});\n",
              "          if (!dataTable) return;\n",
              "\n",
              "          const docLinkHtml = 'Like what you see? Visit the ' +\n",
              "            '<a target=\"_blank\" href=https://colab.research.google.com/notebooks/data_table.ipynb>data table notebook</a>'\n",
              "            + ' to learn more about interactive tables.';\n",
              "          element.innerHTML = '';\n",
              "          dataTable['output_type'] = 'display_data';\n",
              "          await google.colab.output.renderOutput(dataTable, element);\n",
              "          const docLink = document.createElement('div');\n",
              "          docLink.innerHTML = docLinkHtml;\n",
              "          element.appendChild(docLink);\n",
              "        }\n",
              "      </script>\n",
              "    </div>\n",
              "  </div>\n",
              "  "
            ]
          },
          "metadata": {},
          "execution_count": 125
        }
      ]
    },
    {
      "cell_type": "code",
      "source": [
        "#Utilizando sql para contabilizar quantas vezes foi releito por genero\n",
        "query = \"\"\"SELECT DS_GENERO, ST_REELEICAO, COUNT(ST_REELEICAO) \n",
        "           FROM releito_masculino\n",
        "           GROUP BY ST_REELEICAO, DS_GENERO\n",
        "           \"\"\"\n",
        "ps.sqldf(query.lower(), locals())"
      ],
      "metadata": {
        "colab": {
          "base_uri": "https://localhost:8080/",
          "height": 143
        },
        "id": "DuZLfxQXc9hk",
        "outputId": "e670ad99-dacd-4eaa-e7ae-7555de2e4465"
      },
      "execution_count": 126,
      "outputs": [
        {
          "output_type": "execute_result",
          "data": {
            "text/plain": [
              "   DS_GENERO ST_REELEICAO  count(st_reeleicao)\n",
              "0  MASCULINO          #NE                12930\n",
              "1  MASCULINO            N                26777\n",
              "2  MASCULINO            S                  368"
            ],
            "text/html": [
              "\n",
              "  <div id=\"df-d2078320-963c-49b1-9397-08b0c672db39\">\n",
              "    <div class=\"colab-df-container\">\n",
              "      <div>\n",
              "<style scoped>\n",
              "    .dataframe tbody tr th:only-of-type {\n",
              "        vertical-align: middle;\n",
              "    }\n",
              "\n",
              "    .dataframe tbody tr th {\n",
              "        vertical-align: top;\n",
              "    }\n",
              "\n",
              "    .dataframe thead th {\n",
              "        text-align: right;\n",
              "    }\n",
              "</style>\n",
              "<table border=\"1\" class=\"dataframe\">\n",
              "  <thead>\n",
              "    <tr style=\"text-align: right;\">\n",
              "      <th></th>\n",
              "      <th>DS_GENERO</th>\n",
              "      <th>ST_REELEICAO</th>\n",
              "      <th>count(st_reeleicao)</th>\n",
              "    </tr>\n",
              "  </thead>\n",
              "  <tbody>\n",
              "    <tr>\n",
              "      <th>0</th>\n",
              "      <td>MASCULINO</td>\n",
              "      <td>#NE</td>\n",
              "      <td>12930</td>\n",
              "    </tr>\n",
              "    <tr>\n",
              "      <th>1</th>\n",
              "      <td>MASCULINO</td>\n",
              "      <td>N</td>\n",
              "      <td>26777</td>\n",
              "    </tr>\n",
              "    <tr>\n",
              "      <th>2</th>\n",
              "      <td>MASCULINO</td>\n",
              "      <td>S</td>\n",
              "      <td>368</td>\n",
              "    </tr>\n",
              "  </tbody>\n",
              "</table>\n",
              "</div>\n",
              "      <button class=\"colab-df-convert\" onclick=\"convertToInteractive('df-d2078320-963c-49b1-9397-08b0c672db39')\"\n",
              "              title=\"Convert this dataframe to an interactive table.\"\n",
              "              style=\"display:none;\">\n",
              "        \n",
              "  <svg xmlns=\"http://www.w3.org/2000/svg\" height=\"24px\"viewBox=\"0 0 24 24\"\n",
              "       width=\"24px\">\n",
              "    <path d=\"M0 0h24v24H0V0z\" fill=\"none\"/>\n",
              "    <path d=\"M18.56 5.44l.94 2.06.94-2.06 2.06-.94-2.06-.94-.94-2.06-.94 2.06-2.06.94zm-11 1L8.5 8.5l.94-2.06 2.06-.94-2.06-.94L8.5 2.5l-.94 2.06-2.06.94zm10 10l.94 2.06.94-2.06 2.06-.94-2.06-.94-.94-2.06-.94 2.06-2.06.94z\"/><path d=\"M17.41 7.96l-1.37-1.37c-.4-.4-.92-.59-1.43-.59-.52 0-1.04.2-1.43.59L10.3 9.45l-7.72 7.72c-.78.78-.78 2.05 0 2.83L4 21.41c.39.39.9.59 1.41.59.51 0 1.02-.2 1.41-.59l7.78-7.78 2.81-2.81c.8-.78.8-2.07 0-2.86zM5.41 20L4 18.59l7.72-7.72 1.47 1.35L5.41 20z\"/>\n",
              "  </svg>\n",
              "      </button>\n",
              "      \n",
              "  <style>\n",
              "    .colab-df-container {\n",
              "      display:flex;\n",
              "      flex-wrap:wrap;\n",
              "      gap: 12px;\n",
              "    }\n",
              "\n",
              "    .colab-df-convert {\n",
              "      background-color: #E8F0FE;\n",
              "      border: none;\n",
              "      border-radius: 50%;\n",
              "      cursor: pointer;\n",
              "      display: none;\n",
              "      fill: #1967D2;\n",
              "      height: 32px;\n",
              "      padding: 0 0 0 0;\n",
              "      width: 32px;\n",
              "    }\n",
              "\n",
              "    .colab-df-convert:hover {\n",
              "      background-color: #E2EBFA;\n",
              "      box-shadow: 0px 1px 2px rgba(60, 64, 67, 0.3), 0px 1px 3px 1px rgba(60, 64, 67, 0.15);\n",
              "      fill: #174EA6;\n",
              "    }\n",
              "\n",
              "    [theme=dark] .colab-df-convert {\n",
              "      background-color: #3B4455;\n",
              "      fill: #D2E3FC;\n",
              "    }\n",
              "\n",
              "    [theme=dark] .colab-df-convert:hover {\n",
              "      background-color: #434B5C;\n",
              "      box-shadow: 0px 1px 3px 1px rgba(0, 0, 0, 0.15);\n",
              "      filter: drop-shadow(0px 1px 2px rgba(0, 0, 0, 0.3));\n",
              "      fill: #FFFFFF;\n",
              "    }\n",
              "  </style>\n",
              "\n",
              "      <script>\n",
              "        const buttonEl =\n",
              "          document.querySelector('#df-d2078320-963c-49b1-9397-08b0c672db39 button.colab-df-convert');\n",
              "        buttonEl.style.display =\n",
              "          google.colab.kernel.accessAllowed ? 'block' : 'none';\n",
              "\n",
              "        async function convertToInteractive(key) {\n",
              "          const element = document.querySelector('#df-d2078320-963c-49b1-9397-08b0c672db39');\n",
              "          const dataTable =\n",
              "            await google.colab.kernel.invokeFunction('convertToInteractive',\n",
              "                                                     [key], {});\n",
              "          if (!dataTable) return;\n",
              "\n",
              "          const docLinkHtml = 'Like what you see? Visit the ' +\n",
              "            '<a target=\"_blank\" href=https://colab.research.google.com/notebooks/data_table.ipynb>data table notebook</a>'\n",
              "            + ' to learn more about interactive tables.';\n",
              "          element.innerHTML = '';\n",
              "          dataTable['output_type'] = 'display_data';\n",
              "          await google.colab.output.renderOutput(dataTable, element);\n",
              "          const docLink = document.createElement('div');\n",
              "          docLink.innerHTML = docLinkHtml;\n",
              "          element.appendChild(docLink);\n",
              "        }\n",
              "      </script>\n",
              "    </div>\n",
              "  </div>\n",
              "  "
            ]
          },
          "metadata": {},
          "execution_count": 126
        }
      ]
    },
    {
      "cell_type": "markdown",
      "source": [
        "**Porcentagem de releito muheres x homens**"
      ],
      "metadata": {
        "id": "TYvgajLddjRu"
      }
    },
    {
      "cell_type": "code",
      "source": [
        "candidatos_goias[candidatos_goias['DS_SIT_TOT_TURNO'] == \"ELEITO\"].count()"
      ],
      "metadata": {
        "colab": {
          "base_uri": "https://localhost:8080/"
        },
        "id": "1rvtIlMScgnn",
        "outputId": "7fda767a-070d-4123-b1b7-b1597256c1d1"
      },
      "execution_count": 136,
      "outputs": [
        {
          "output_type": "execute_result",
          "data": {
            "text/plain": [
              "ANO_ELEICAO                   6458\n",
              "CD_TIPO_ELEICAO               6458\n",
              "NR_TURNO                      6458\n",
              "CD_ELEICAO                    6458\n",
              "DS_ELEICAO                    6458\n",
              "TP_ABRANGENCIA                6458\n",
              "SG_UF                         6458\n",
              "SG_UE                         6458\n",
              "NM_UE                         6458\n",
              "NM_CANDIDATO                  6458\n",
              "NM_URNA_CANDIDATO             6458\n",
              "CD_SITUACAO_CANDIDATURA       6458\n",
              "DS_SITUACAO_CANDIDATURA       6458\n",
              "SG_PARTIDO                    6458\n",
              "NM_PARTIDO                    6458\n",
              "DS_NACIONALIDADE              6458\n",
              "DT_NASCIMENTO                 6458\n",
              "NR_IDADE_DATA_POSSE           6458\n",
              "DS_GENERO                     6458\n",
              "DS_GRAU_INSTRUCAO             6458\n",
              "DS_ESTADO_CIVIL               6458\n",
              "DS_COR_RACA                   6458\n",
              "VR_DESPESA_MAX_CAMPANHA       6458\n",
              "DS_SIT_TOT_TURNO              6458\n",
              "ST_REELEICAO                  6458\n",
              "DS_SITUACAO_CANDIDATO_URNA    6458\n",
              "ST_CANDIDATO_INSERIDO_URNA    6458\n",
              "ESPECTRO_PARTIDOS             6458\n",
              "dtype: int64"
            ]
          },
          "metadata": {},
          "execution_count": 136
        }
      ]
    },
    {
      "cell_type": "markdown",
      "source": [
        "`Porcentagem de mulheres releitas`"
      ],
      "metadata": {
        "id": "rdczJEY_eFBo"
      }
    },
    {
      "cell_type": "code",
      "source": [
        "#Porcentagem \n",
        "porc_releita = (48/6458) * 100\n",
        "print('A porcentagem de mulheres releitas é: {:.2f}'.format(porc_releita))"
      ],
      "metadata": {
        "colab": {
          "base_uri": "https://localhost:8080/"
        },
        "id": "_acoVw3udtjA",
        "outputId": "474fbf7c-d09d-482e-c786-87639487eeea"
      },
      "execution_count": 137,
      "outputs": [
        {
          "output_type": "stream",
          "name": "stdout",
          "text": [
            "A porcentagem de mulheres releitas é: 0.74\n"
          ]
        }
      ]
    },
    {
      "cell_type": "markdown",
      "source": [
        "`Porcentagem de homens reeleitos`"
      ],
      "metadata": {
        "id": "YElIFRLSgagb"
      }
    },
    {
      "cell_type": "code",
      "source": [
        "#Porcentagem \n",
        "porc_releita = (368/6458) * 100\n",
        "print('A porcentagem de homens releitas é: {:.2f}'.format(porc_releita))"
      ],
      "metadata": {
        "colab": {
          "base_uri": "https://localhost:8080/"
        },
        "id": "R9GObusxgYHq",
        "outputId": "ac422df6-dec2-440a-8441-7cb7030b5ef1"
      },
      "execution_count": 138,
      "outputs": [
        {
          "output_type": "stream",
          "name": "stdout",
          "text": [
            "A porcentagem de homens releitas é: 5.70\n"
          ]
        }
      ]
    },
    {
      "cell_type": "code",
      "source": [],
      "metadata": {
        "id": "1qfTjW9Yghzj"
      },
      "execution_count": null,
      "outputs": []
    }
  ]
}