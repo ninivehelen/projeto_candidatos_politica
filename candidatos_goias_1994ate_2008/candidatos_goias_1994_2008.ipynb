{
  "cells": [
    {
      "cell_type": "markdown",
      "metadata": {
        "id": "ad4rx_LDBWnQ"
      },
      "source": [
        "`Projeto de análise de dados - Candidatos 1994 até 2008 - Goiás`\n",
        "\n",
        "\n",
        "\n",
        "\n",
        "\n"
      ]
    },
    {
      "cell_type": "markdown",
      "metadata": {
        "id": "VP1Z3LXwKsAV"
      },
      "source": [
        "`Como os dataframes estão separados, então serar feito a união deles ultilizando  o python, como eles possui a mesma quantidade de colunas e são os mesmos nomes isso será possível realizar `"
      ]
    },
    {
      "cell_type": "markdown",
      "metadata": {
        "id": "WrmPPeVmLjhM"
      },
      "source": [
        "`Unindo os csv de 1994 até 2010 do estado de Goías`"
      ]
    },
    {
      "cell_type": "code",
      "execution_count": 161,
      "metadata": {
        "id": "PAC9hGPoLNR2"
      },
      "outputs": [],
      "source": [
        "#importando bibliotecas necessárias \n",
        "import os\n",
        "import glob\n",
        "import pandas as pd\n",
        "import seaborn as sns\n",
        "import matplotlib.pyplot as plt\n"
      ]
    },
    {
      "cell_type": "code",
      "execution_count": 162,
      "metadata": {
        "id": "hjV2JvQNfi6q",
        "colab": {
          "base_uri": "https://localhost:8080/"
        },
        "outputId": "58bb040a-d602-41bb-d809-50c363801311"
      },
      "outputs": [
        {
          "output_type": "stream",
          "name": "stdout",
          "text": [
            "Looking in indexes: https://pypi.org/simple, https://us-python.pkg.dev/colab-wheels/public/simple/\n",
            "Requirement already satisfied: pandasql in /usr/local/lib/python3.10/dist-packages (0.7.3)\n",
            "Requirement already satisfied: numpy in /usr/local/lib/python3.10/dist-packages (from pandasql) (1.22.4)\n",
            "Requirement already satisfied: pandas in /usr/local/lib/python3.10/dist-packages (from pandasql) (1.5.3)\n",
            "Requirement already satisfied: sqlalchemy in /usr/local/lib/python3.10/dist-packages (from pandasql) (2.0.10)\n",
            "Requirement already satisfied: python-dateutil>=2.8.1 in /usr/local/lib/python3.10/dist-packages (from pandas->pandasql) (2.8.2)\n",
            "Requirement already satisfied: pytz>=2020.1 in /usr/local/lib/python3.10/dist-packages (from pandas->pandasql) (2022.7.1)\n",
            "Requirement already satisfied: typing-extensions>=4.2.0 in /usr/local/lib/python3.10/dist-packages (from sqlalchemy->pandasql) (4.5.0)\n",
            "Requirement already satisfied: greenlet!=0.4.17 in /usr/local/lib/python3.10/dist-packages (from sqlalchemy->pandasql) (2.0.2)\n",
            "Requirement already satisfied: six>=1.5 in /usr/local/lib/python3.10/dist-packages (from python-dateutil>=2.8.1->pandas->pandasql) (1.16.0)\n"
          ]
        }
      ],
      "source": [
        "pip install pandasql"
      ]
    },
    {
      "cell_type": "code",
      "execution_count": 163,
      "metadata": {
        "id": "h47TZP7-foBA"
      },
      "outputs": [],
      "source": [
        "#Importando biblioteca para usar sql\n",
        "import pandasql as ps"
      ]
    },
    {
      "cell_type": "code",
      "execution_count": 164,
      "metadata": {
        "id": "H97VSSZ_WdzT"
      },
      "outputs": [],
      "source": [
        "# #Caminho dos arquivos\n",
        "# caminho = os.getcwd()\n",
        "# print(caminho)\n",
        "# arquivos_csv = glob.glob(os.path.join(caminho+ \"/consulta_cand*.csv\")) \n",
        "# print(arquivos_csv)"
      ]
    },
    {
      "cell_type": "code",
      "execution_count": 165,
      "metadata": {
        "id": "6a4ZXyhyWSfp"
      },
      "outputs": [],
      "source": [
        "# #codigo para unir o csv \n",
        "# df_final = pd.DataFrame()\n",
        "# for arquivo in arquivos_csv:\n",
        "#         #print(arquivo)\n",
        "#         #ler csv\n",
        "#   df_temp = pd.read_csv(arquivo, sep=';',encoding=\"ISO-8859-1\",on_bad_lines='skip')\n",
        "#   df_final = pd.concat([df_temp,df_final])\n",
        "# print(\"unindo csv\")\n",
        "# df_final.to_csv('/content/candidatos_diretorio/candidatos_goias_1994_2008.csv', sep=';',encoding=\"utf-8\",index=False)"
      ]
    },
    {
      "cell_type": "markdown",
      "metadata": {
        "id": "MYxtf_WOX-qz"
      },
      "source": [
        "**Iniciando a análise dos dados, após a uniao dos csv - estado do Goiás**"
      ]
    },
    {
      "cell_type": "code",
      "execution_count": 166,
      "metadata": {
        "id": "A5f6OJ-1-Bau"
      },
      "outputs": [],
      "source": [
        "#codigo para abrir todas as colunas do dataframe\n",
        "pd.set_option('display.max_columns', None)"
      ]
    },
    {
      "cell_type": "code",
      "execution_count": 167,
      "metadata": {
        "colab": {
          "base_uri": "https://localhost:8080/"
        },
        "id": "UQ-LLd9l8pMB",
        "outputId": "79717cca-daf5-4e54-faec-e532732db059"
      },
      "outputs": [
        {
          "output_type": "stream",
          "name": "stderr",
          "text": [
            "<ipython-input-167-9298fe0f5ec5>:2: DtypeWarning: Columns (11,15,20,57) have mixed types. Specify dtype option on import or set low_memory=False.\n",
            "  candidatos_goias = pd.read_csv(\"candidatos_goias_1994_2008.csv\", sep=';',encoding=\"utf-8\",on_bad_lines='skip')\n"
          ]
        }
      ],
      "source": [
        "#carregamento do dataframe\n",
        "candidatos_goias = pd.read_csv(\"candidatos_goias_1994_2008.csv\", sep=';',encoding=\"utf-8\",on_bad_lines='skip')"
      ]
    },
    {
      "cell_type": "code",
      "execution_count": 168,
      "metadata": {
        "colab": {
          "base_uri": "https://localhost:8080/",
          "height": 614
        },
        "id": "1to2j-mk8_eK",
        "outputId": "3a26ba68-a58b-40ea-ad46-c5776d0680bd"
      },
      "outputs": [
        {
          "output_type": "execute_result",
          "data": {
            "text/plain": [
              "   DT_GERACAO HH_GERACAO  ANO_ELEICAO  CD_TIPO_ELEICAO    NM_TIPO_ELEICAO  \\\n",
              "0  25/05/2021   17:43:09         2002                2  ELEIÇÃO ORDINÁRIA   \n",
              "1  25/05/2021   17:43:09         2002                2  ELEIÇÃO ORDINÁRIA   \n",
              "2  25/05/2021   17:43:09         2002                2  ELEIÇÃO ORDINÁRIA   \n",
              "3  25/05/2021   17:43:09         2002                2  ELEIÇÃO ORDINÁRIA   \n",
              "4  25/05/2021   17:43:09         2002                2  ELEIÇÃO ORDINÁRIA   \n",
              "5  25/05/2021   17:43:09         2002                2  ELEIÇÃO ORDINÁRIA   \n",
              "\n",
              "   NR_TURNO  CD_ELEICAO                           DS_ELEICAO  DT_ELEICAO  \\\n",
              "0         1      200201  Eleições Gerais 2002 Primeiro Turno  06/10/2002   \n",
              "1         1      200201  Eleições Gerais 2002 Primeiro Turno  06/10/2002   \n",
              "2         1      200201  Eleições Gerais 2002 Primeiro Turno  06/10/2002   \n",
              "3         1      200201  Eleições Gerais 2002 Primeiro Turno  06/10/2002   \n",
              "4         1      200201  Eleições Gerais 2002 Primeiro Turno  06/10/2002   \n",
              "5         1      200201  Eleições Gerais 2002 Primeiro Turno  06/10/2002   \n",
              "\n",
              "  TP_ABRANGENCIA SG_UF SG_UE  NM_UE  CD_CARGO           DS_CARGO SQ_CANDIDATO  \\\n",
              "0        FEDERAL    GO    GO  GOIAS         7  DEPUTADO ESTADUAL          512   \n",
              "1        FEDERAL    GO    GO  GOIAS         7  DEPUTADO ESTADUAL          638   \n",
              "2        FEDERAL    GO    GO  GOIAS         6   DEPUTADO FEDERAL          216   \n",
              "3        FEDERAL    GO    GO  GOIAS         7  DEPUTADO ESTADUAL          205   \n",
              "4        FEDERAL    GO    GO  GOIAS         7  DEPUTADO ESTADUAL          827   \n",
              "5        FEDERAL    GO    GO  GOIAS         5            SENADOR          632   \n",
              "\n",
              "   NR_CANDIDATO                       NM_CANDIDATO NM_URNA_CANDIDATO  \\\n",
              "0         44113                  ERENITO DIAS REIS      ERENITO REIS   \n",
              "1         33626         BENIVALDO RIBEIRO DE SOUZA              BENE   \n",
              "2          4044          ARNANDO TEIXEIRA DA SILVA           ARNANDO   \n",
              "3         40440       FLORISVALDO PEREIRA DA SILVA       FLORISVALDO   \n",
              "4         25801          REGINALDO FERREIRA ADORNO           JACARÉ    \n",
              "5           131  CLELIA BRANDAO ALVARENGA CRAVEIRO    CLÉLIA BRANDÃO   \n",
              "\n",
              "  NM_SOCIAL_CANDIDATO NR_CPF_CANDIDATO                   NM_EMAIL  \\\n",
              "0                 #NE      11417498153                     #NULO#   \n",
              "1                 #NE      20428227520                     #NULO#   \n",
              "2                 #NE      45069395149                     #NULO#   \n",
              "3                 #NE      50903438100                     #NULO#   \n",
              "4                 #NE      15445313115                     #NULO#   \n",
              "5                 #NE       6693563104  CLELIACRAVEIRO@UOL.COM.BR   \n",
              "\n",
              "   CD_SITUACAO_CANDIDATURA DS_SITUACAO_CANDIDATURA  CD_DETALHE_SITUACAO_CAND  \\\n",
              "0                       12                    APTO                         2   \n",
              "1                       12                    APTO                         2   \n",
              "2                       12                    APTO                         2   \n",
              "3                       12                    APTO                         2   \n",
              "4                       12                    APTO                         2   \n",
              "5                       12                    APTO                         2   \n",
              "\n",
              "  DS_DETALHE_SITUACAO_CAND TP_AGREMIACAO  NR_PARTIDO SG_PARTIDO  \\\n",
              "0                 DEFERIDO     COLIGAÇÃO          44        PRP   \n",
              "1                 DEFERIDO     COLIGAÇÃO          33        PMN   \n",
              "2                 DEFERIDO     COLIGAÇÃO          40        PSB   \n",
              "3                 DEFERIDO     COLIGAÇÃO          40        PSB   \n",
              "4                 DEFERIDO     COLIGAÇÃO          25        PFL   \n",
              "5                 DEFERIDO     COLIGAÇÃO          13         PT   \n",
              "\n",
              "                         NM_PARTIDO  SQ_COLIGACAO         NM_COLIGACAO  \\\n",
              "0  PARTIDO REPUBLICANO PROGRESSISTA            27  ALIANÇA DEMOCRÁTICA   \n",
              "1   PARTIDO DA MOBILIZAÇÃO NACIONAL            31  FORÇA DO CERRADO II   \n",
              "2     PARTIDO SOCIALISTA BRASILEIRO            21      GOIÁS ESPERANÇA   \n",
              "3     PARTIDO SOCIALISTA BRASILEIRO            21      GOIÁS ESPERANÇA   \n",
              "4         PARTIDO DA FRENTE LIBERAL            26     PSDB / PPB / PFL   \n",
              "5         PARTIDO DOS TRABALHADORES            25     FORÇA DO CERRADO   \n",
              "\n",
              "                         DS_COMPOSICAO_COLIGACAO  CD_NACIONALIDADE  \\\n",
              "0            PSL / PST / PAN / PSDC / PRTB / PRP                 1   \n",
              "1                            PTN / PMN / PT do B                 1   \n",
              "2                                PGT / PTC / PSB                 1   \n",
              "3                                PGT / PTC / PSB                 1   \n",
              "4                              PPB / PFL / PSDB                  1   \n",
              "5  PT / PTN / PCB / PMN / PV / PC do B / PT do B                 1   \n",
              "\n",
              "  DS_NACIONALIDADE SG_UF_NASCIMENTO  CD_MUNICIPIO_NASCIMENTO  \\\n",
              "0  BRASILEIRA NATA               RJ                       -3   \n",
              "1  BRASILEIRA NATA               BA                       -3   \n",
              "2  BRASILEIRA NATA               GO                       -3   \n",
              "3  BRASILEIRA NATA               GO                       -3   \n",
              "4  BRASILEIRA NATA               GO                       -3   \n",
              "5  BRASILEIRA NATA               GO                       -3   \n",
              "\n",
              "  NM_MUNICIPIO_NASCIMENTO DT_NASCIMENTO  NR_IDADE_DATA_POSSE  \\\n",
              "0                  CAMPOS    16/05/1948                   54   \n",
              "1         MORRO DO CHAPÉU    01/02/1956                   46   \n",
              "2            PIRES DO RIO    16/03/1967                   35   \n",
              "3            NOVA AMÉRICA    26/02/1969                   33   \n",
              "4                   GOIÁS    07/06/1954                   48   \n",
              "5                 INHUMAS    12/08/1949                   53   \n",
              "\n",
              "  NR_TITULO_ELEITORAL_CANDIDATO  CD_GENERO  DS_GENERO  CD_GRAU_INSTRUCAO  \\\n",
              "0                    3418702070          2  MASCULINO                  4   \n",
              "1                   1,29889E+11          2  MASCULINO                  8   \n",
              "2                    8082581082          2  MASCULINO                  5   \n",
              "3                   24584691007          2  MASCULINO                  3   \n",
              "4                    4715731007          2  MASCULINO                  5   \n",
              "5                    5018721023          4   FEMININO                  8   \n",
              "\n",
              "        DS_GRAU_INSTRUCAO  CD_ESTADO_CIVIL DS_ESTADO_CIVIL  CD_COR_RACA  \\\n",
              "0    FUNDAMENTAL COMPLETO                3       CASADO(A)           -3   \n",
              "1       SUPERIOR COMPLETO                3       CASADO(A)           -3   \n",
              "2        MÉDIO INCOMPLETO                3       CASADO(A)           -3   \n",
              "3  FUNDAMENTAL INCOMPLETO                1     SOLTEIRO(A)           -3   \n",
              "4        MÉDIO INCOMPLETO                3       CASADO(A)           -3   \n",
              "5       SUPERIOR COMPLETO                3       CASADO(A)           -3   \n",
              "\n",
              "  DS_COR_RACA  CD_OCUPACAO                   DS_OCUPACAO  \\\n",
              "0         #NE            0                 NÃO INFORMADA   \n",
              "1         #NE            0                 NÃO INFORMADA   \n",
              "2         #NE            0                 NÃO INFORMADA   \n",
              "3         #NE            0                 NÃO INFORMADA   \n",
              "4         #NE          201  SENADOR, DEPUTADO E VEREADOR   \n",
              "5         #NE            0                 NÃO INFORMADA   \n",
              "\n",
              "   VR_DESPESA_MAX_CAMPANHA  CD_SIT_TOT_TURNO DS_SIT_TOT_TURNO ST_REELEICAO  \\\n",
              "0                 500000.0                 2         SUPLENTE            N   \n",
              "1                 300000.0                 4       NÃO ELEITO            N   \n",
              "2                 200000.0                 4       NÃO ELEITO            N   \n",
              "3                 100000.0                 2         SUPLENTE            N   \n",
              "4                 500000.0                 2         SUPLENTE            N   \n",
              "5                 150000.0                 4       NÃO ELEITO            N   \n",
              "\n",
              "  ST_DECLARAR_BENS  NR_PROTOCOLO_CANDIDATURA NR_PROCESSO  \\\n",
              "0              #NE                        -3  1249522002   \n",
              "1              #NE                        -3  1245722002   \n",
              "2              #NE                        -3  1245172002   \n",
              "3              #NE                        -3  1245442002   \n",
              "4              #NE                        -3  1249612002   \n",
              "5              #NE                        -3  1245262002   \n",
              "\n",
              "   CD_SITUACAO_CANDIDATO_PLEITO DS_SITUACAO_CANDIDATO_PLEITO  \\\n",
              "0                            -3                          #NE   \n",
              "1                            -3                          #NE   \n",
              "2                            -3                          #NE   \n",
              "3                            -3                          #NE   \n",
              "4                            -3                          #NE   \n",
              "5                            -3                          #NE   \n",
              "\n",
              "   CD_SITUACAO_CANDIDATO_URNA DS_SITUACAO_CANDIDATO_URNA  \\\n",
              "0                          -3                        #NE   \n",
              "1                          -3                        #NE   \n",
              "2                          -3                        #NE   \n",
              "3                          -3                        #NE   \n",
              "4                          -3                        #NE   \n",
              "5                          -3                        #NE   \n",
              "\n",
              "  ST_CANDIDATO_INSERIDO_URNA  \n",
              "0                        SIM  \n",
              "1                        SIM  \n",
              "2                        SIM  \n",
              "3                        SIM  \n",
              "4                        SIM  \n",
              "5                        SIM  "
            ],
            "text/html": [
              "\n",
              "  <div id=\"df-d7439719-9b8c-4e69-b531-9da081ef34dc\">\n",
              "    <div class=\"colab-df-container\">\n",
              "      <div>\n",
              "<style scoped>\n",
              "    .dataframe tbody tr th:only-of-type {\n",
              "        vertical-align: middle;\n",
              "    }\n",
              "\n",
              "    .dataframe tbody tr th {\n",
              "        vertical-align: top;\n",
              "    }\n",
              "\n",
              "    .dataframe thead th {\n",
              "        text-align: right;\n",
              "    }\n",
              "</style>\n",
              "<table border=\"1\" class=\"dataframe\">\n",
              "  <thead>\n",
              "    <tr style=\"text-align: right;\">\n",
              "      <th></th>\n",
              "      <th>DT_GERACAO</th>\n",
              "      <th>HH_GERACAO</th>\n",
              "      <th>ANO_ELEICAO</th>\n",
              "      <th>CD_TIPO_ELEICAO</th>\n",
              "      <th>NM_TIPO_ELEICAO</th>\n",
              "      <th>NR_TURNO</th>\n",
              "      <th>CD_ELEICAO</th>\n",
              "      <th>DS_ELEICAO</th>\n",
              "      <th>DT_ELEICAO</th>\n",
              "      <th>TP_ABRANGENCIA</th>\n",
              "      <th>SG_UF</th>\n",
              "      <th>SG_UE</th>\n",
              "      <th>NM_UE</th>\n",
              "      <th>CD_CARGO</th>\n",
              "      <th>DS_CARGO</th>\n",
              "      <th>SQ_CANDIDATO</th>\n",
              "      <th>NR_CANDIDATO</th>\n",
              "      <th>NM_CANDIDATO</th>\n",
              "      <th>NM_URNA_CANDIDATO</th>\n",
              "      <th>NM_SOCIAL_CANDIDATO</th>\n",
              "      <th>NR_CPF_CANDIDATO</th>\n",
              "      <th>NM_EMAIL</th>\n",
              "      <th>CD_SITUACAO_CANDIDATURA</th>\n",
              "      <th>DS_SITUACAO_CANDIDATURA</th>\n",
              "      <th>CD_DETALHE_SITUACAO_CAND</th>\n",
              "      <th>DS_DETALHE_SITUACAO_CAND</th>\n",
              "      <th>TP_AGREMIACAO</th>\n",
              "      <th>NR_PARTIDO</th>\n",
              "      <th>SG_PARTIDO</th>\n",
              "      <th>NM_PARTIDO</th>\n",
              "      <th>SQ_COLIGACAO</th>\n",
              "      <th>NM_COLIGACAO</th>\n",
              "      <th>DS_COMPOSICAO_COLIGACAO</th>\n",
              "      <th>CD_NACIONALIDADE</th>\n",
              "      <th>DS_NACIONALIDADE</th>\n",
              "      <th>SG_UF_NASCIMENTO</th>\n",
              "      <th>CD_MUNICIPIO_NASCIMENTO</th>\n",
              "      <th>NM_MUNICIPIO_NASCIMENTO</th>\n",
              "      <th>DT_NASCIMENTO</th>\n",
              "      <th>NR_IDADE_DATA_POSSE</th>\n",
              "      <th>NR_TITULO_ELEITORAL_CANDIDATO</th>\n",
              "      <th>CD_GENERO</th>\n",
              "      <th>DS_GENERO</th>\n",
              "      <th>CD_GRAU_INSTRUCAO</th>\n",
              "      <th>DS_GRAU_INSTRUCAO</th>\n",
              "      <th>CD_ESTADO_CIVIL</th>\n",
              "      <th>DS_ESTADO_CIVIL</th>\n",
              "      <th>CD_COR_RACA</th>\n",
              "      <th>DS_COR_RACA</th>\n",
              "      <th>CD_OCUPACAO</th>\n",
              "      <th>DS_OCUPACAO</th>\n",
              "      <th>VR_DESPESA_MAX_CAMPANHA</th>\n",
              "      <th>CD_SIT_TOT_TURNO</th>\n",
              "      <th>DS_SIT_TOT_TURNO</th>\n",
              "      <th>ST_REELEICAO</th>\n",
              "      <th>ST_DECLARAR_BENS</th>\n",
              "      <th>NR_PROTOCOLO_CANDIDATURA</th>\n",
              "      <th>NR_PROCESSO</th>\n",
              "      <th>CD_SITUACAO_CANDIDATO_PLEITO</th>\n",
              "      <th>DS_SITUACAO_CANDIDATO_PLEITO</th>\n",
              "      <th>CD_SITUACAO_CANDIDATO_URNA</th>\n",
              "      <th>DS_SITUACAO_CANDIDATO_URNA</th>\n",
              "      <th>ST_CANDIDATO_INSERIDO_URNA</th>\n",
              "    </tr>\n",
              "  </thead>\n",
              "  <tbody>\n",
              "    <tr>\n",
              "      <th>0</th>\n",
              "      <td>25/05/2021</td>\n",
              "      <td>17:43:09</td>\n",
              "      <td>2002</td>\n",
              "      <td>2</td>\n",
              "      <td>ELEIÇÃO ORDINÁRIA</td>\n",
              "      <td>1</td>\n",
              "      <td>200201</td>\n",
              "      <td>Eleições Gerais 2002 Primeiro Turno</td>\n",
              "      <td>06/10/2002</td>\n",
              "      <td>FEDERAL</td>\n",
              "      <td>GO</td>\n",
              "      <td>GO</td>\n",
              "      <td>GOIAS</td>\n",
              "      <td>7</td>\n",
              "      <td>DEPUTADO ESTADUAL</td>\n",
              "      <td>512</td>\n",
              "      <td>44113</td>\n",
              "      <td>ERENITO DIAS REIS</td>\n",
              "      <td>ERENITO REIS</td>\n",
              "      <td>#NE</td>\n",
              "      <td>11417498153</td>\n",
              "      <td>#NULO#</td>\n",
              "      <td>12</td>\n",
              "      <td>APTO</td>\n",
              "      <td>2</td>\n",
              "      <td>DEFERIDO</td>\n",
              "      <td>COLIGAÇÃO</td>\n",
              "      <td>44</td>\n",
              "      <td>PRP</td>\n",
              "      <td>PARTIDO REPUBLICANO PROGRESSISTA</td>\n",
              "      <td>27</td>\n",
              "      <td>ALIANÇA DEMOCRÁTICA</td>\n",
              "      <td>PSL / PST / PAN / PSDC / PRTB / PRP</td>\n",
              "      <td>1</td>\n",
              "      <td>BRASILEIRA NATA</td>\n",
              "      <td>RJ</td>\n",
              "      <td>-3</td>\n",
              "      <td>CAMPOS</td>\n",
              "      <td>16/05/1948</td>\n",
              "      <td>54</td>\n",
              "      <td>3418702070</td>\n",
              "      <td>2</td>\n",
              "      <td>MASCULINO</td>\n",
              "      <td>4</td>\n",
              "      <td>FUNDAMENTAL COMPLETO</td>\n",
              "      <td>3</td>\n",
              "      <td>CASADO(A)</td>\n",
              "      <td>-3</td>\n",
              "      <td>#NE</td>\n",
              "      <td>0</td>\n",
              "      <td>NÃO INFORMADA</td>\n",
              "      <td>500000.0</td>\n",
              "      <td>2</td>\n",
              "      <td>SUPLENTE</td>\n",
              "      <td>N</td>\n",
              "      <td>#NE</td>\n",
              "      <td>-3</td>\n",
              "      <td>1249522002</td>\n",
              "      <td>-3</td>\n",
              "      <td>#NE</td>\n",
              "      <td>-3</td>\n",
              "      <td>#NE</td>\n",
              "      <td>SIM</td>\n",
              "    </tr>\n",
              "    <tr>\n",
              "      <th>1</th>\n",
              "      <td>25/05/2021</td>\n",
              "      <td>17:43:09</td>\n",
              "      <td>2002</td>\n",
              "      <td>2</td>\n",
              "      <td>ELEIÇÃO ORDINÁRIA</td>\n",
              "      <td>1</td>\n",
              "      <td>200201</td>\n",
              "      <td>Eleições Gerais 2002 Primeiro Turno</td>\n",
              "      <td>06/10/2002</td>\n",
              "      <td>FEDERAL</td>\n",
              "      <td>GO</td>\n",
              "      <td>GO</td>\n",
              "      <td>GOIAS</td>\n",
              "      <td>7</td>\n",
              "      <td>DEPUTADO ESTADUAL</td>\n",
              "      <td>638</td>\n",
              "      <td>33626</td>\n",
              "      <td>BENIVALDO RIBEIRO DE SOUZA</td>\n",
              "      <td>BENE</td>\n",
              "      <td>#NE</td>\n",
              "      <td>20428227520</td>\n",
              "      <td>#NULO#</td>\n",
              "      <td>12</td>\n",
              "      <td>APTO</td>\n",
              "      <td>2</td>\n",
              "      <td>DEFERIDO</td>\n",
              "      <td>COLIGAÇÃO</td>\n",
              "      <td>33</td>\n",
              "      <td>PMN</td>\n",
              "      <td>PARTIDO DA MOBILIZAÇÃO NACIONAL</td>\n",
              "      <td>31</td>\n",
              "      <td>FORÇA DO CERRADO II</td>\n",
              "      <td>PTN / PMN / PT do B</td>\n",
              "      <td>1</td>\n",
              "      <td>BRASILEIRA NATA</td>\n",
              "      <td>BA</td>\n",
              "      <td>-3</td>\n",
              "      <td>MORRO DO CHAPÉU</td>\n",
              "      <td>01/02/1956</td>\n",
              "      <td>46</td>\n",
              "      <td>1,29889E+11</td>\n",
              "      <td>2</td>\n",
              "      <td>MASCULINO</td>\n",
              "      <td>8</td>\n",
              "      <td>SUPERIOR COMPLETO</td>\n",
              "      <td>3</td>\n",
              "      <td>CASADO(A)</td>\n",
              "      <td>-3</td>\n",
              "      <td>#NE</td>\n",
              "      <td>0</td>\n",
              "      <td>NÃO INFORMADA</td>\n",
              "      <td>300000.0</td>\n",
              "      <td>4</td>\n",
              "      <td>NÃO ELEITO</td>\n",
              "      <td>N</td>\n",
              "      <td>#NE</td>\n",
              "      <td>-3</td>\n",
              "      <td>1245722002</td>\n",
              "      <td>-3</td>\n",
              "      <td>#NE</td>\n",
              "      <td>-3</td>\n",
              "      <td>#NE</td>\n",
              "      <td>SIM</td>\n",
              "    </tr>\n",
              "    <tr>\n",
              "      <th>2</th>\n",
              "      <td>25/05/2021</td>\n",
              "      <td>17:43:09</td>\n",
              "      <td>2002</td>\n",
              "      <td>2</td>\n",
              "      <td>ELEIÇÃO ORDINÁRIA</td>\n",
              "      <td>1</td>\n",
              "      <td>200201</td>\n",
              "      <td>Eleições Gerais 2002 Primeiro Turno</td>\n",
              "      <td>06/10/2002</td>\n",
              "      <td>FEDERAL</td>\n",
              "      <td>GO</td>\n",
              "      <td>GO</td>\n",
              "      <td>GOIAS</td>\n",
              "      <td>6</td>\n",
              "      <td>DEPUTADO FEDERAL</td>\n",
              "      <td>216</td>\n",
              "      <td>4044</td>\n",
              "      <td>ARNANDO TEIXEIRA DA SILVA</td>\n",
              "      <td>ARNANDO</td>\n",
              "      <td>#NE</td>\n",
              "      <td>45069395149</td>\n",
              "      <td>#NULO#</td>\n",
              "      <td>12</td>\n",
              "      <td>APTO</td>\n",
              "      <td>2</td>\n",
              "      <td>DEFERIDO</td>\n",
              "      <td>COLIGAÇÃO</td>\n",
              "      <td>40</td>\n",
              "      <td>PSB</td>\n",
              "      <td>PARTIDO SOCIALISTA BRASILEIRO</td>\n",
              "      <td>21</td>\n",
              "      <td>GOIÁS ESPERANÇA</td>\n",
              "      <td>PGT / PTC / PSB</td>\n",
              "      <td>1</td>\n",
              "      <td>BRASILEIRA NATA</td>\n",
              "      <td>GO</td>\n",
              "      <td>-3</td>\n",
              "      <td>PIRES DO RIO</td>\n",
              "      <td>16/03/1967</td>\n",
              "      <td>35</td>\n",
              "      <td>8082581082</td>\n",
              "      <td>2</td>\n",
              "      <td>MASCULINO</td>\n",
              "      <td>5</td>\n",
              "      <td>MÉDIO INCOMPLETO</td>\n",
              "      <td>3</td>\n",
              "      <td>CASADO(A)</td>\n",
              "      <td>-3</td>\n",
              "      <td>#NE</td>\n",
              "      <td>0</td>\n",
              "      <td>NÃO INFORMADA</td>\n",
              "      <td>200000.0</td>\n",
              "      <td>4</td>\n",
              "      <td>NÃO ELEITO</td>\n",
              "      <td>N</td>\n",
              "      <td>#NE</td>\n",
              "      <td>-3</td>\n",
              "      <td>1245172002</td>\n",
              "      <td>-3</td>\n",
              "      <td>#NE</td>\n",
              "      <td>-3</td>\n",
              "      <td>#NE</td>\n",
              "      <td>SIM</td>\n",
              "    </tr>\n",
              "    <tr>\n",
              "      <th>3</th>\n",
              "      <td>25/05/2021</td>\n",
              "      <td>17:43:09</td>\n",
              "      <td>2002</td>\n",
              "      <td>2</td>\n",
              "      <td>ELEIÇÃO ORDINÁRIA</td>\n",
              "      <td>1</td>\n",
              "      <td>200201</td>\n",
              "      <td>Eleições Gerais 2002 Primeiro Turno</td>\n",
              "      <td>06/10/2002</td>\n",
              "      <td>FEDERAL</td>\n",
              "      <td>GO</td>\n",
              "      <td>GO</td>\n",
              "      <td>GOIAS</td>\n",
              "      <td>7</td>\n",
              "      <td>DEPUTADO ESTADUAL</td>\n",
              "      <td>205</td>\n",
              "      <td>40440</td>\n",
              "      <td>FLORISVALDO PEREIRA DA SILVA</td>\n",
              "      <td>FLORISVALDO</td>\n",
              "      <td>#NE</td>\n",
              "      <td>50903438100</td>\n",
              "      <td>#NULO#</td>\n",
              "      <td>12</td>\n",
              "      <td>APTO</td>\n",
              "      <td>2</td>\n",
              "      <td>DEFERIDO</td>\n",
              "      <td>COLIGAÇÃO</td>\n",
              "      <td>40</td>\n",
              "      <td>PSB</td>\n",
              "      <td>PARTIDO SOCIALISTA BRASILEIRO</td>\n",
              "      <td>21</td>\n",
              "      <td>GOIÁS ESPERANÇA</td>\n",
              "      <td>PGT / PTC / PSB</td>\n",
              "      <td>1</td>\n",
              "      <td>BRASILEIRA NATA</td>\n",
              "      <td>GO</td>\n",
              "      <td>-3</td>\n",
              "      <td>NOVA AMÉRICA</td>\n",
              "      <td>26/02/1969</td>\n",
              "      <td>33</td>\n",
              "      <td>24584691007</td>\n",
              "      <td>2</td>\n",
              "      <td>MASCULINO</td>\n",
              "      <td>3</td>\n",
              "      <td>FUNDAMENTAL INCOMPLETO</td>\n",
              "      <td>1</td>\n",
              "      <td>SOLTEIRO(A)</td>\n",
              "      <td>-3</td>\n",
              "      <td>#NE</td>\n",
              "      <td>0</td>\n",
              "      <td>NÃO INFORMADA</td>\n",
              "      <td>100000.0</td>\n",
              "      <td>2</td>\n",
              "      <td>SUPLENTE</td>\n",
              "      <td>N</td>\n",
              "      <td>#NE</td>\n",
              "      <td>-3</td>\n",
              "      <td>1245442002</td>\n",
              "      <td>-3</td>\n",
              "      <td>#NE</td>\n",
              "      <td>-3</td>\n",
              "      <td>#NE</td>\n",
              "      <td>SIM</td>\n",
              "    </tr>\n",
              "    <tr>\n",
              "      <th>4</th>\n",
              "      <td>25/05/2021</td>\n",
              "      <td>17:43:09</td>\n",
              "      <td>2002</td>\n",
              "      <td>2</td>\n",
              "      <td>ELEIÇÃO ORDINÁRIA</td>\n",
              "      <td>1</td>\n",
              "      <td>200201</td>\n",
              "      <td>Eleições Gerais 2002 Primeiro Turno</td>\n",
              "      <td>06/10/2002</td>\n",
              "      <td>FEDERAL</td>\n",
              "      <td>GO</td>\n",
              "      <td>GO</td>\n",
              "      <td>GOIAS</td>\n",
              "      <td>7</td>\n",
              "      <td>DEPUTADO ESTADUAL</td>\n",
              "      <td>827</td>\n",
              "      <td>25801</td>\n",
              "      <td>REGINALDO FERREIRA ADORNO</td>\n",
              "      <td>JACARÉ</td>\n",
              "      <td>#NE</td>\n",
              "      <td>15445313115</td>\n",
              "      <td>#NULO#</td>\n",
              "      <td>12</td>\n",
              "      <td>APTO</td>\n",
              "      <td>2</td>\n",
              "      <td>DEFERIDO</td>\n",
              "      <td>COLIGAÇÃO</td>\n",
              "      <td>25</td>\n",
              "      <td>PFL</td>\n",
              "      <td>PARTIDO DA FRENTE LIBERAL</td>\n",
              "      <td>26</td>\n",
              "      <td>PSDB / PPB / PFL</td>\n",
              "      <td>PPB / PFL / PSDB</td>\n",
              "      <td>1</td>\n",
              "      <td>BRASILEIRA NATA</td>\n",
              "      <td>GO</td>\n",
              "      <td>-3</td>\n",
              "      <td>GOIÁS</td>\n",
              "      <td>07/06/1954</td>\n",
              "      <td>48</td>\n",
              "      <td>4715731007</td>\n",
              "      <td>2</td>\n",
              "      <td>MASCULINO</td>\n",
              "      <td>5</td>\n",
              "      <td>MÉDIO INCOMPLETO</td>\n",
              "      <td>3</td>\n",
              "      <td>CASADO(A)</td>\n",
              "      <td>-3</td>\n",
              "      <td>#NE</td>\n",
              "      <td>201</td>\n",
              "      <td>SENADOR, DEPUTADO E VEREADOR</td>\n",
              "      <td>500000.0</td>\n",
              "      <td>2</td>\n",
              "      <td>SUPLENTE</td>\n",
              "      <td>N</td>\n",
              "      <td>#NE</td>\n",
              "      <td>-3</td>\n",
              "      <td>1249612002</td>\n",
              "      <td>-3</td>\n",
              "      <td>#NE</td>\n",
              "      <td>-3</td>\n",
              "      <td>#NE</td>\n",
              "      <td>SIM</td>\n",
              "    </tr>\n",
              "    <tr>\n",
              "      <th>5</th>\n",
              "      <td>25/05/2021</td>\n",
              "      <td>17:43:09</td>\n",
              "      <td>2002</td>\n",
              "      <td>2</td>\n",
              "      <td>ELEIÇÃO ORDINÁRIA</td>\n",
              "      <td>1</td>\n",
              "      <td>200201</td>\n",
              "      <td>Eleições Gerais 2002 Primeiro Turno</td>\n",
              "      <td>06/10/2002</td>\n",
              "      <td>FEDERAL</td>\n",
              "      <td>GO</td>\n",
              "      <td>GO</td>\n",
              "      <td>GOIAS</td>\n",
              "      <td>5</td>\n",
              "      <td>SENADOR</td>\n",
              "      <td>632</td>\n",
              "      <td>131</td>\n",
              "      <td>CLELIA BRANDAO ALVARENGA CRAVEIRO</td>\n",
              "      <td>CLÉLIA BRANDÃO</td>\n",
              "      <td>#NE</td>\n",
              "      <td>6693563104</td>\n",
              "      <td>CLELIACRAVEIRO@UOL.COM.BR</td>\n",
              "      <td>12</td>\n",
              "      <td>APTO</td>\n",
              "      <td>2</td>\n",
              "      <td>DEFERIDO</td>\n",
              "      <td>COLIGAÇÃO</td>\n",
              "      <td>13</td>\n",
              "      <td>PT</td>\n",
              "      <td>PARTIDO DOS TRABALHADORES</td>\n",
              "      <td>25</td>\n",
              "      <td>FORÇA DO CERRADO</td>\n",
              "      <td>PT / PTN / PCB / PMN / PV / PC do B / PT do B</td>\n",
              "      <td>1</td>\n",
              "      <td>BRASILEIRA NATA</td>\n",
              "      <td>GO</td>\n",
              "      <td>-3</td>\n",
              "      <td>INHUMAS</td>\n",
              "      <td>12/08/1949</td>\n",
              "      <td>53</td>\n",
              "      <td>5018721023</td>\n",
              "      <td>4</td>\n",
              "      <td>FEMININO</td>\n",
              "      <td>8</td>\n",
              "      <td>SUPERIOR COMPLETO</td>\n",
              "      <td>3</td>\n",
              "      <td>CASADO(A)</td>\n",
              "      <td>-3</td>\n",
              "      <td>#NE</td>\n",
              "      <td>0</td>\n",
              "      <td>NÃO INFORMADA</td>\n",
              "      <td>150000.0</td>\n",
              "      <td>4</td>\n",
              "      <td>NÃO ELEITO</td>\n",
              "      <td>N</td>\n",
              "      <td>#NE</td>\n",
              "      <td>-3</td>\n",
              "      <td>1245262002</td>\n",
              "      <td>-3</td>\n",
              "      <td>#NE</td>\n",
              "      <td>-3</td>\n",
              "      <td>#NE</td>\n",
              "      <td>SIM</td>\n",
              "    </tr>\n",
              "  </tbody>\n",
              "</table>\n",
              "</div>\n",
              "      <button class=\"colab-df-convert\" onclick=\"convertToInteractive('df-d7439719-9b8c-4e69-b531-9da081ef34dc')\"\n",
              "              title=\"Convert this dataframe to an interactive table.\"\n",
              "              style=\"display:none;\">\n",
              "        \n",
              "  <svg xmlns=\"http://www.w3.org/2000/svg\" height=\"24px\"viewBox=\"0 0 24 24\"\n",
              "       width=\"24px\">\n",
              "    <path d=\"M0 0h24v24H0V0z\" fill=\"none\"/>\n",
              "    <path d=\"M18.56 5.44l.94 2.06.94-2.06 2.06-.94-2.06-.94-.94-2.06-.94 2.06-2.06.94zm-11 1L8.5 8.5l.94-2.06 2.06-.94-2.06-.94L8.5 2.5l-.94 2.06-2.06.94zm10 10l.94 2.06.94-2.06 2.06-.94-2.06-.94-.94-2.06-.94 2.06-2.06.94z\"/><path d=\"M17.41 7.96l-1.37-1.37c-.4-.4-.92-.59-1.43-.59-.52 0-1.04.2-1.43.59L10.3 9.45l-7.72 7.72c-.78.78-.78 2.05 0 2.83L4 21.41c.39.39.9.59 1.41.59.51 0 1.02-.2 1.41-.59l7.78-7.78 2.81-2.81c.8-.78.8-2.07 0-2.86zM5.41 20L4 18.59l7.72-7.72 1.47 1.35L5.41 20z\"/>\n",
              "  </svg>\n",
              "      </button>\n",
              "      \n",
              "  <style>\n",
              "    .colab-df-container {\n",
              "      display:flex;\n",
              "      flex-wrap:wrap;\n",
              "      gap: 12px;\n",
              "    }\n",
              "\n",
              "    .colab-df-convert {\n",
              "      background-color: #E8F0FE;\n",
              "      border: none;\n",
              "      border-radius: 50%;\n",
              "      cursor: pointer;\n",
              "      display: none;\n",
              "      fill: #1967D2;\n",
              "      height: 32px;\n",
              "      padding: 0 0 0 0;\n",
              "      width: 32px;\n",
              "    }\n",
              "\n",
              "    .colab-df-convert:hover {\n",
              "      background-color: #E2EBFA;\n",
              "      box-shadow: 0px 1px 2px rgba(60, 64, 67, 0.3), 0px 1px 3px 1px rgba(60, 64, 67, 0.15);\n",
              "      fill: #174EA6;\n",
              "    }\n",
              "\n",
              "    [theme=dark] .colab-df-convert {\n",
              "      background-color: #3B4455;\n",
              "      fill: #D2E3FC;\n",
              "    }\n",
              "\n",
              "    [theme=dark] .colab-df-convert:hover {\n",
              "      background-color: #434B5C;\n",
              "      box-shadow: 0px 1px 3px 1px rgba(0, 0, 0, 0.15);\n",
              "      filter: drop-shadow(0px 1px 2px rgba(0, 0, 0, 0.3));\n",
              "      fill: #FFFFFF;\n",
              "    }\n",
              "  </style>\n",
              "\n",
              "      <script>\n",
              "        const buttonEl =\n",
              "          document.querySelector('#df-d7439719-9b8c-4e69-b531-9da081ef34dc button.colab-df-convert');\n",
              "        buttonEl.style.display =\n",
              "          google.colab.kernel.accessAllowed ? 'block' : 'none';\n",
              "\n",
              "        async function convertToInteractive(key) {\n",
              "          const element = document.querySelector('#df-d7439719-9b8c-4e69-b531-9da081ef34dc');\n",
              "          const dataTable =\n",
              "            await google.colab.kernel.invokeFunction('convertToInteractive',\n",
              "                                                     [key], {});\n",
              "          if (!dataTable) return;\n",
              "\n",
              "          const docLinkHtml = 'Like what you see? Visit the ' +\n",
              "            '<a target=\"_blank\" href=https://colab.research.google.com/notebooks/data_table.ipynb>data table notebook</a>'\n",
              "            + ' to learn more about interactive tables.';\n",
              "          element.innerHTML = '';\n",
              "          dataTable['output_type'] = 'display_data';\n",
              "          await google.colab.output.renderOutput(dataTable, element);\n",
              "          const docLink = document.createElement('div');\n",
              "          docLink.innerHTML = docLinkHtml;\n",
              "          element.appendChild(docLink);\n",
              "        }\n",
              "      </script>\n",
              "    </div>\n",
              "  </div>\n",
              "  "
            ]
          },
          "metadata": {},
          "execution_count": 168
        }
      ],
      "source": [
        "#leitura do dataframe\n",
        "candidatos_goias.head(6)"
      ]
    },
    {
      "cell_type": "markdown",
      "metadata": {
        "id": "hSSilMH0BwCF"
      },
      "source": [
        "`Analisando o dicionário dos dados, foi escolhido as colunas que melhor se aplicava para fazer a analise dos dados. Está colunas foram:`\n",
        "\n",
        "\n",
        "```\n",
        "# ANO_ELEICAO\n",
        "# CD_TIPO_ELEICAO\n",
        "# NR_TURNO\n",
        "# CD_ELEICAO\n",
        "# DS_ELEICAO\n",
        "# TP_ABRANGENCIA\n",
        "# SG_UF\n",
        "# SG_UE\n",
        "# NM_UE\n",
        "# NM_CANDIDATO\n",
        "# NM_URNA_CANDIDATO \n",
        "# CD_SITUACAO_CANDIDATURA\n",
        "# DS_SITUACAO_CANDIDATURA\n",
        "# SG_PARTIDO\n",
        "# NM_PARTIDO\n",
        "# DS_NACIONALIDADE\n",
        "# DT_NASCIMENTO\n",
        "# NR_IDADE_DATA_POSSE\n",
        "# DS_GENERO\n",
        "# DS_GRAU_INSTRUCAO\n",
        "# DS_ESTADO_CIVIL\n",
        "# DS_COR_RACA\n",
        "# DS_OCUPACAO\n",
        "# VR_DESPESA_MAX_CAMPANHA\n",
        "# DS_SIT_TOT_TURNO\n",
        "# ST_REELEICAO \n",
        "# DS_SITUACAO_CANDIDATO_URNA\n",
        "# ST_CANDIDATO_INSERIDO_URNA\n",
        "```\n",
        "\n",
        "\n",
        "\n",
        "\n",
        "\n"
      ]
    },
    {
      "cell_type": "markdown",
      "metadata": {
        "id": "c-6P5vUjL8aF"
      },
      "source": [
        "**Adicionando aos dados a ideologia dos partidos**"
      ]
    },
    {
      "cell_type": "code",
      "execution_count": 169,
      "metadata": {
        "colab": {
          "base_uri": "https://localhost:8080/"
        },
        "id": "Q8CwjovDMOVG",
        "outputId": "cfac90f8-2330-4fdc-d27b-d155841eae7c"
      },
      "outputs": [
        {
          "output_type": "execute_result",
          "data": {
            "text/plain": [
              "PMDB       7121\n",
              "PSDB       6775\n",
              "PT         3789\n",
              "PFL        3340\n",
              "PP         3275\n",
              "PL         2911\n",
              "PPS        2608\n",
              "PTB        2572\n",
              "PDT        1797\n",
              "PSB        1696\n",
              "PPB        1670\n",
              "PR         1472\n",
              "PSC        1445\n",
              "PSDC       1179\n",
              "PSD         988\n",
              "DEM         971\n",
              "PTN         731\n",
              "PT do B     656\n",
              "PSL         596\n",
              "PHS         586\n",
              "PST         558\n",
              "PTC         517\n",
              "PMN         510\n",
              "PRP         481\n",
              "PV          476\n",
              "PRTB        452\n",
              "PC do B     429\n",
              "PRB         312\n",
              "PSOL        179\n",
              "PAN         120\n",
              "PGT          93\n",
              "PSTU         82\n",
              "PRONA        72\n",
              "PPR          51\n",
              "PCB          49\n",
              "PT DO B      42\n",
              "PCO          27\n",
              "PRN          17\n",
              "PC DO B      10\n",
              "Name: SG_PARTIDO, dtype: int64"
            ]
          },
          "metadata": {},
          "execution_count": 169
        }
      ],
      "source": [
        "candidatos_goias['SG_PARTIDO'].value_counts()"
      ]
    },
    {
      "cell_type": "code",
      "execution_count": 170,
      "metadata": {
        "id": "-46MZ0XjMAdi"
      },
      "outputs": [],
      "source": [
        "# def buscar_ideologia_partido(coluna):\n",
        "#     SG_PARTIDO = {'PMDB':       'CENTRO',\n",
        "#                   'PSDB':       'CENTRO',\n",
        "#                   'PT':        'ESQUERDA',\n",
        "#                   'PFL':        'CENTRO',\n",
        "#                   'PP':         'DIREITA',\n",
        "#                   'PL':         'DIREITA',\n",
        "#                   'PPS':        'CENTRO',\n",
        "#                   'PTB':       'DIREITA',\n",
        "#                   'PDT':        'ESQUERDA',\n",
        "#                   'PSB':        'ESQUERDA',\n",
        "#                   'PPB':        'CENTRO',\n",
        "#                   'PR':        'CENTRO',\n",
        "#                   'PSC':         'DIREITA',\n",
        "#                   'PSDC':        'ESQUERDA',\n",
        "#                   'PSD':         'DIREITA',\n",
        "#                   'DEM':         'DIREITA',\n",
        "#                   'PTN':         'ESQUERDA',\n",
        "#                   'PT do B':     'CENTRO',\n",
        "#                   'PSL':         'DIREITA',\n",
        "#                   'PHS':         'CENTRO',\n",
        "#                   'PST':         'ESQUERDA',\n",
        "#                   'PTC':         'DIREITA',\n",
        "#                   'PMN':         'ESQUERDA',\n",
        "#                   'PRP':         'ESQUERDA',\n",
        "#                   'PV':          'ESQUERDA',\n",
        "#                   'PRTB':        'DIREITA',\n",
        "#                   'PC do B':     'ESQUERDA',\n",
        "#                   'PRB':         'DIREITA',\n",
        "#                   'PSOL':        'ESQUERDA',\n",
        "#                   'PAN':         'DIREITA',\n",
        "#                   'PGT':         'CENTRO',\n",
        "#                   'PSTU':         'ESQUERDA',\n",
        "#                   'PRONA':        'CENTRO',\n",
        "#                   'PPR':          'DIREITA',\n",
        "#                   'PCB':         'ESQUERDA',\n",
        "#                   'PT DO B':      'CENTRO',\n",
        "#                   'PCO':         'ESQUERDA',\n",
        "#                   'PRN':         'DIREITA',\n",
        "#                   'PC DO B':      'ESQUERDA'}\n",
        "\n",
        "#     return SG_PARTIDO[coluna]"
      ]
    },
    {
      "cell_type": "code",
      "execution_count": 171,
      "metadata": {
        "id": "YFDmypx_L73I"
      },
      "outputs": [],
      "source": [
        "# #Codigo para adicionar o espectro dos partidos ao dataframe\n",
        "# lista = []\n",
        "# for index, linha in candidatos_goias.iterrows():\n",
        "#       valor = linha.SG_PARTIDO\n",
        "#       espectro = buscar_ideologia_partido(f'{valor}')\n",
        "#       lista.append(espectro)\n",
        "# candidatos_goias['ESPECTRO_PARTIDOS']= lista"
      ]
    },
    {
      "cell_type": "code",
      "execution_count": 172,
      "metadata": {
        "id": "rGHQNoxGDG1H"
      },
      "outputs": [],
      "source": [
        "#filtrando as colunas necessárias \n",
        "candidatos_goias = candidatos_goias[['ANO_ELEICAO','CD_TIPO_ELEICAO','NR_TURNO','CD_ELEICAO','DS_ELEICAO','TP_ABRANGENCIA','SG_UF', 'SG_UE','NM_UE','NM_CANDIDATO','NM_URNA_CANDIDATO','CD_SITUACAO_CANDIDATURA','DS_SITUACAO_CANDIDATURA','SG_PARTIDO','NM_PARTIDO','DS_NACIONALIDADE','DT_NASCIMENTO','NR_IDADE_DATA_POSSE','DS_GENERO','DS_GRAU_INSTRUCAO','DS_ESTADO_CIVIL','DS_COR_RACA','VR_DESPESA_MAX_CAMPANHA','DS_SIT_TOT_TURNO','ST_REELEICAO','DS_SITUACAO_CANDIDATO_URNA','ST_CANDIDATO_INSERIDO_URNA']]"
      ]
    },
    {
      "cell_type": "code",
      "execution_count": 173,
      "metadata": {
        "colab": {
          "base_uri": "https://localhost:8080/",
          "height": 447
        },
        "id": "etDR7gcMEMny",
        "outputId": "7fa658d3-669a-4da9-aed0-0c9fbb0e6d62"
      },
      "outputs": [
        {
          "output_type": "execute_result",
          "data": {
            "text/plain": [
              "   ANO_ELEICAO  CD_TIPO_ELEICAO  NR_TURNO  CD_ELEICAO  \\\n",
              "0         2002                2         1      200201   \n",
              "1         2002                2         1      200201   \n",
              "2         2002                2         1      200201   \n",
              "3         2002                2         1      200201   \n",
              "\n",
              "                            DS_ELEICAO TP_ABRANGENCIA SG_UF SG_UE  NM_UE  \\\n",
              "0  Eleições Gerais 2002 Primeiro Turno        FEDERAL    GO    GO  GOIAS   \n",
              "1  Eleições Gerais 2002 Primeiro Turno        FEDERAL    GO    GO  GOIAS   \n",
              "2  Eleições Gerais 2002 Primeiro Turno        FEDERAL    GO    GO  GOIAS   \n",
              "3  Eleições Gerais 2002 Primeiro Turno        FEDERAL    GO    GO  GOIAS   \n",
              "\n",
              "                   NM_CANDIDATO NM_URNA_CANDIDATO  CD_SITUACAO_CANDIDATURA  \\\n",
              "0             ERENITO DIAS REIS      ERENITO REIS                       12   \n",
              "1    BENIVALDO RIBEIRO DE SOUZA              BENE                       12   \n",
              "2     ARNANDO TEIXEIRA DA SILVA           ARNANDO                       12   \n",
              "3  FLORISVALDO PEREIRA DA SILVA       FLORISVALDO                       12   \n",
              "\n",
              "  DS_SITUACAO_CANDIDATURA SG_PARTIDO                        NM_PARTIDO  \\\n",
              "0                    APTO        PRP  PARTIDO REPUBLICANO PROGRESSISTA   \n",
              "1                    APTO        PMN   PARTIDO DA MOBILIZAÇÃO NACIONAL   \n",
              "2                    APTO        PSB     PARTIDO SOCIALISTA BRASILEIRO   \n",
              "3                    APTO        PSB     PARTIDO SOCIALISTA BRASILEIRO   \n",
              "\n",
              "  DS_NACIONALIDADE DT_NASCIMENTO  NR_IDADE_DATA_POSSE  DS_GENERO  \\\n",
              "0  BRASILEIRA NATA    16/05/1948                   54  MASCULINO   \n",
              "1  BRASILEIRA NATA    01/02/1956                   46  MASCULINO   \n",
              "2  BRASILEIRA NATA    16/03/1967                   35  MASCULINO   \n",
              "3  BRASILEIRA NATA    26/02/1969                   33  MASCULINO   \n",
              "\n",
              "        DS_GRAU_INSTRUCAO DS_ESTADO_CIVIL DS_COR_RACA  \\\n",
              "0    FUNDAMENTAL COMPLETO       CASADO(A)         #NE   \n",
              "1       SUPERIOR COMPLETO       CASADO(A)         #NE   \n",
              "2        MÉDIO INCOMPLETO       CASADO(A)         #NE   \n",
              "3  FUNDAMENTAL INCOMPLETO     SOLTEIRO(A)         #NE   \n",
              "\n",
              "   VR_DESPESA_MAX_CAMPANHA DS_SIT_TOT_TURNO ST_REELEICAO  \\\n",
              "0                 500000.0         SUPLENTE            N   \n",
              "1                 300000.0       NÃO ELEITO            N   \n",
              "2                 200000.0       NÃO ELEITO            N   \n",
              "3                 100000.0         SUPLENTE            N   \n",
              "\n",
              "  DS_SITUACAO_CANDIDATO_URNA ST_CANDIDATO_INSERIDO_URNA  \n",
              "0                        #NE                        SIM  \n",
              "1                        #NE                        SIM  \n",
              "2                        #NE                        SIM  \n",
              "3                        #NE                        SIM  "
            ],
            "text/html": [
              "\n",
              "  <div id=\"df-ba9cafb2-72ca-41c4-acf3-51a07cf2c405\">\n",
              "    <div class=\"colab-df-container\">\n",
              "      <div>\n",
              "<style scoped>\n",
              "    .dataframe tbody tr th:only-of-type {\n",
              "        vertical-align: middle;\n",
              "    }\n",
              "\n",
              "    .dataframe tbody tr th {\n",
              "        vertical-align: top;\n",
              "    }\n",
              "\n",
              "    .dataframe thead th {\n",
              "        text-align: right;\n",
              "    }\n",
              "</style>\n",
              "<table border=\"1\" class=\"dataframe\">\n",
              "  <thead>\n",
              "    <tr style=\"text-align: right;\">\n",
              "      <th></th>\n",
              "      <th>ANO_ELEICAO</th>\n",
              "      <th>CD_TIPO_ELEICAO</th>\n",
              "      <th>NR_TURNO</th>\n",
              "      <th>CD_ELEICAO</th>\n",
              "      <th>DS_ELEICAO</th>\n",
              "      <th>TP_ABRANGENCIA</th>\n",
              "      <th>SG_UF</th>\n",
              "      <th>SG_UE</th>\n",
              "      <th>NM_UE</th>\n",
              "      <th>NM_CANDIDATO</th>\n",
              "      <th>NM_URNA_CANDIDATO</th>\n",
              "      <th>CD_SITUACAO_CANDIDATURA</th>\n",
              "      <th>DS_SITUACAO_CANDIDATURA</th>\n",
              "      <th>SG_PARTIDO</th>\n",
              "      <th>NM_PARTIDO</th>\n",
              "      <th>DS_NACIONALIDADE</th>\n",
              "      <th>DT_NASCIMENTO</th>\n",
              "      <th>NR_IDADE_DATA_POSSE</th>\n",
              "      <th>DS_GENERO</th>\n",
              "      <th>DS_GRAU_INSTRUCAO</th>\n",
              "      <th>DS_ESTADO_CIVIL</th>\n",
              "      <th>DS_COR_RACA</th>\n",
              "      <th>VR_DESPESA_MAX_CAMPANHA</th>\n",
              "      <th>DS_SIT_TOT_TURNO</th>\n",
              "      <th>ST_REELEICAO</th>\n",
              "      <th>DS_SITUACAO_CANDIDATO_URNA</th>\n",
              "      <th>ST_CANDIDATO_INSERIDO_URNA</th>\n",
              "    </tr>\n",
              "  </thead>\n",
              "  <tbody>\n",
              "    <tr>\n",
              "      <th>0</th>\n",
              "      <td>2002</td>\n",
              "      <td>2</td>\n",
              "      <td>1</td>\n",
              "      <td>200201</td>\n",
              "      <td>Eleições Gerais 2002 Primeiro Turno</td>\n",
              "      <td>FEDERAL</td>\n",
              "      <td>GO</td>\n",
              "      <td>GO</td>\n",
              "      <td>GOIAS</td>\n",
              "      <td>ERENITO DIAS REIS</td>\n",
              "      <td>ERENITO REIS</td>\n",
              "      <td>12</td>\n",
              "      <td>APTO</td>\n",
              "      <td>PRP</td>\n",
              "      <td>PARTIDO REPUBLICANO PROGRESSISTA</td>\n",
              "      <td>BRASILEIRA NATA</td>\n",
              "      <td>16/05/1948</td>\n",
              "      <td>54</td>\n",
              "      <td>MASCULINO</td>\n",
              "      <td>FUNDAMENTAL COMPLETO</td>\n",
              "      <td>CASADO(A)</td>\n",
              "      <td>#NE</td>\n",
              "      <td>500000.0</td>\n",
              "      <td>SUPLENTE</td>\n",
              "      <td>N</td>\n",
              "      <td>#NE</td>\n",
              "      <td>SIM</td>\n",
              "    </tr>\n",
              "    <tr>\n",
              "      <th>1</th>\n",
              "      <td>2002</td>\n",
              "      <td>2</td>\n",
              "      <td>1</td>\n",
              "      <td>200201</td>\n",
              "      <td>Eleições Gerais 2002 Primeiro Turno</td>\n",
              "      <td>FEDERAL</td>\n",
              "      <td>GO</td>\n",
              "      <td>GO</td>\n",
              "      <td>GOIAS</td>\n",
              "      <td>BENIVALDO RIBEIRO DE SOUZA</td>\n",
              "      <td>BENE</td>\n",
              "      <td>12</td>\n",
              "      <td>APTO</td>\n",
              "      <td>PMN</td>\n",
              "      <td>PARTIDO DA MOBILIZAÇÃO NACIONAL</td>\n",
              "      <td>BRASILEIRA NATA</td>\n",
              "      <td>01/02/1956</td>\n",
              "      <td>46</td>\n",
              "      <td>MASCULINO</td>\n",
              "      <td>SUPERIOR COMPLETO</td>\n",
              "      <td>CASADO(A)</td>\n",
              "      <td>#NE</td>\n",
              "      <td>300000.0</td>\n",
              "      <td>NÃO ELEITO</td>\n",
              "      <td>N</td>\n",
              "      <td>#NE</td>\n",
              "      <td>SIM</td>\n",
              "    </tr>\n",
              "    <tr>\n",
              "      <th>2</th>\n",
              "      <td>2002</td>\n",
              "      <td>2</td>\n",
              "      <td>1</td>\n",
              "      <td>200201</td>\n",
              "      <td>Eleições Gerais 2002 Primeiro Turno</td>\n",
              "      <td>FEDERAL</td>\n",
              "      <td>GO</td>\n",
              "      <td>GO</td>\n",
              "      <td>GOIAS</td>\n",
              "      <td>ARNANDO TEIXEIRA DA SILVA</td>\n",
              "      <td>ARNANDO</td>\n",
              "      <td>12</td>\n",
              "      <td>APTO</td>\n",
              "      <td>PSB</td>\n",
              "      <td>PARTIDO SOCIALISTA BRASILEIRO</td>\n",
              "      <td>BRASILEIRA NATA</td>\n",
              "      <td>16/03/1967</td>\n",
              "      <td>35</td>\n",
              "      <td>MASCULINO</td>\n",
              "      <td>MÉDIO INCOMPLETO</td>\n",
              "      <td>CASADO(A)</td>\n",
              "      <td>#NE</td>\n",
              "      <td>200000.0</td>\n",
              "      <td>NÃO ELEITO</td>\n",
              "      <td>N</td>\n",
              "      <td>#NE</td>\n",
              "      <td>SIM</td>\n",
              "    </tr>\n",
              "    <tr>\n",
              "      <th>3</th>\n",
              "      <td>2002</td>\n",
              "      <td>2</td>\n",
              "      <td>1</td>\n",
              "      <td>200201</td>\n",
              "      <td>Eleições Gerais 2002 Primeiro Turno</td>\n",
              "      <td>FEDERAL</td>\n",
              "      <td>GO</td>\n",
              "      <td>GO</td>\n",
              "      <td>GOIAS</td>\n",
              "      <td>FLORISVALDO PEREIRA DA SILVA</td>\n",
              "      <td>FLORISVALDO</td>\n",
              "      <td>12</td>\n",
              "      <td>APTO</td>\n",
              "      <td>PSB</td>\n",
              "      <td>PARTIDO SOCIALISTA BRASILEIRO</td>\n",
              "      <td>BRASILEIRA NATA</td>\n",
              "      <td>26/02/1969</td>\n",
              "      <td>33</td>\n",
              "      <td>MASCULINO</td>\n",
              "      <td>FUNDAMENTAL INCOMPLETO</td>\n",
              "      <td>SOLTEIRO(A)</td>\n",
              "      <td>#NE</td>\n",
              "      <td>100000.0</td>\n",
              "      <td>SUPLENTE</td>\n",
              "      <td>N</td>\n",
              "      <td>#NE</td>\n",
              "      <td>SIM</td>\n",
              "    </tr>\n",
              "  </tbody>\n",
              "</table>\n",
              "</div>\n",
              "      <button class=\"colab-df-convert\" onclick=\"convertToInteractive('df-ba9cafb2-72ca-41c4-acf3-51a07cf2c405')\"\n",
              "              title=\"Convert this dataframe to an interactive table.\"\n",
              "              style=\"display:none;\">\n",
              "        \n",
              "  <svg xmlns=\"http://www.w3.org/2000/svg\" height=\"24px\"viewBox=\"0 0 24 24\"\n",
              "       width=\"24px\">\n",
              "    <path d=\"M0 0h24v24H0V0z\" fill=\"none\"/>\n",
              "    <path d=\"M18.56 5.44l.94 2.06.94-2.06 2.06-.94-2.06-.94-.94-2.06-.94 2.06-2.06.94zm-11 1L8.5 8.5l.94-2.06 2.06-.94-2.06-.94L8.5 2.5l-.94 2.06-2.06.94zm10 10l.94 2.06.94-2.06 2.06-.94-2.06-.94-.94-2.06-.94 2.06-2.06.94z\"/><path d=\"M17.41 7.96l-1.37-1.37c-.4-.4-.92-.59-1.43-.59-.52 0-1.04.2-1.43.59L10.3 9.45l-7.72 7.72c-.78.78-.78 2.05 0 2.83L4 21.41c.39.39.9.59 1.41.59.51 0 1.02-.2 1.41-.59l7.78-7.78 2.81-2.81c.8-.78.8-2.07 0-2.86zM5.41 20L4 18.59l7.72-7.72 1.47 1.35L5.41 20z\"/>\n",
              "  </svg>\n",
              "      </button>\n",
              "      \n",
              "  <style>\n",
              "    .colab-df-container {\n",
              "      display:flex;\n",
              "      flex-wrap:wrap;\n",
              "      gap: 12px;\n",
              "    }\n",
              "\n",
              "    .colab-df-convert {\n",
              "      background-color: #E8F0FE;\n",
              "      border: none;\n",
              "      border-radius: 50%;\n",
              "      cursor: pointer;\n",
              "      display: none;\n",
              "      fill: #1967D2;\n",
              "      height: 32px;\n",
              "      padding: 0 0 0 0;\n",
              "      width: 32px;\n",
              "    }\n",
              "\n",
              "    .colab-df-convert:hover {\n",
              "      background-color: #E2EBFA;\n",
              "      box-shadow: 0px 1px 2px rgba(60, 64, 67, 0.3), 0px 1px 3px 1px rgba(60, 64, 67, 0.15);\n",
              "      fill: #174EA6;\n",
              "    }\n",
              "\n",
              "    [theme=dark] .colab-df-convert {\n",
              "      background-color: #3B4455;\n",
              "      fill: #D2E3FC;\n",
              "    }\n",
              "\n",
              "    [theme=dark] .colab-df-convert:hover {\n",
              "      background-color: #434B5C;\n",
              "      box-shadow: 0px 1px 3px 1px rgba(0, 0, 0, 0.15);\n",
              "      filter: drop-shadow(0px 1px 2px rgba(0, 0, 0, 0.3));\n",
              "      fill: #FFFFFF;\n",
              "    }\n",
              "  </style>\n",
              "\n",
              "      <script>\n",
              "        const buttonEl =\n",
              "          document.querySelector('#df-ba9cafb2-72ca-41c4-acf3-51a07cf2c405 button.colab-df-convert');\n",
              "        buttonEl.style.display =\n",
              "          google.colab.kernel.accessAllowed ? 'block' : 'none';\n",
              "\n",
              "        async function convertToInteractive(key) {\n",
              "          const element = document.querySelector('#df-ba9cafb2-72ca-41c4-acf3-51a07cf2c405');\n",
              "          const dataTable =\n",
              "            await google.colab.kernel.invokeFunction('convertToInteractive',\n",
              "                                                     [key], {});\n",
              "          if (!dataTable) return;\n",
              "\n",
              "          const docLinkHtml = 'Like what you see? Visit the ' +\n",
              "            '<a target=\"_blank\" href=https://colab.research.google.com/notebooks/data_table.ipynb>data table notebook</a>'\n",
              "            + ' to learn more about interactive tables.';\n",
              "          element.innerHTML = '';\n",
              "          dataTable['output_type'] = 'display_data';\n",
              "          await google.colab.output.renderOutput(dataTable, element);\n",
              "          const docLink = document.createElement('div');\n",
              "          docLink.innerHTML = docLinkHtml;\n",
              "          element.appendChild(docLink);\n",
              "        }\n",
              "      </script>\n",
              "    </div>\n",
              "  </div>\n",
              "  "
            ]
          },
          "metadata": {},
          "execution_count": 173
        }
      ],
      "source": [
        "candidatos_goias.head(4)"
      ]
    },
    {
      "cell_type": "code",
      "execution_count": 174,
      "metadata": {
        "colab": {
          "base_uri": "https://localhost:8080/"
        },
        "id": "T8JNjmiJgoVC",
        "outputId": "52b2e70d-14e2-4d43-b88c-034a730257fc"
      },
      "outputs": [
        {
          "output_type": "execute_result",
          "data": {
            "text/plain": [
              "array([2002, 2006, 1996, 2000, 2008, 2004, 1994, 1998])"
            ]
          },
          "metadata": {},
          "execution_count": 174
        }
      ],
      "source": [
        "candidatos_goias['ANO_ELEICAO'].unique()"
      ]
    },
    {
      "cell_type": "markdown",
      "metadata": {
        "id": "0ahL33ZsxqsW"
      },
      "source": [
        "`Fazendo a descrição dos dados`"
      ]
    },
    {
      "cell_type": "code",
      "execution_count": 175,
      "metadata": {
        "colab": {
          "base_uri": "https://localhost:8080/",
          "height": 364
        },
        "id": "TmRX7nqBxn9O",
        "outputId": "3e05d0e8-e007-44db-e1e7-91661b17c148"
      },
      "outputs": [
        {
          "output_type": "execute_result",
          "data": {
            "text/plain": [
              "        ANO_ELEICAO  CD_TIPO_ELEICAO      NR_TURNO    CD_ELEICAO  \\\n",
              "count  50655.000000     50655.000000  50655.000000  5.065500e+04   \n",
              "mean    2003.816997         1.974573      1.000474  7.437229e+05   \n",
              "std        3.442961         0.221858      0.021762  8.980875e+05   \n",
              "min     1994.000000         0.000000      1.000000  3.000000e+01   \n",
              "25%     2000.000000         2.000000      1.000000  3.000000e+01   \n",
              "50%     2004.000000         2.000000      1.000000  2.004120e+05   \n",
              "75%     2008.000000         2.000000      1.000000  2.000001e+06   \n",
              "max     2008.000000         2.000000      2.000000  2.006002e+06   \n",
              "\n",
              "       CD_SITUACAO_CANDIDATURA  NR_IDADE_DATA_POSSE  VR_DESPESA_MAX_CAMPANHA  \n",
              "count             50655.000000         50655.000000             5.065500e+04  \n",
              "mean                  8.175284            42.640805             9.615613e+04  \n",
              "std                   4.969717            15.956436             2.636667e+06  \n",
              "min                  -3.000000            -1.000000            -3.000000e+00  \n",
              "25%                   2.000000            35.000000            -3.000000e+00  \n",
              "50%                  12.000000            42.000000             7.000000e+03  \n",
              "75%                  12.000000            49.000000             3.000000e+04  \n",
              "max                  12.000000          2004.000000             5.000100e+08  "
            ],
            "text/html": [
              "\n",
              "  <div id=\"df-4504b66d-a670-4e75-80c1-349a0e6a26b1\">\n",
              "    <div class=\"colab-df-container\">\n",
              "      <div>\n",
              "<style scoped>\n",
              "    .dataframe tbody tr th:only-of-type {\n",
              "        vertical-align: middle;\n",
              "    }\n",
              "\n",
              "    .dataframe tbody tr th {\n",
              "        vertical-align: top;\n",
              "    }\n",
              "\n",
              "    .dataframe thead th {\n",
              "        text-align: right;\n",
              "    }\n",
              "</style>\n",
              "<table border=\"1\" class=\"dataframe\">\n",
              "  <thead>\n",
              "    <tr style=\"text-align: right;\">\n",
              "      <th></th>\n",
              "      <th>ANO_ELEICAO</th>\n",
              "      <th>CD_TIPO_ELEICAO</th>\n",
              "      <th>NR_TURNO</th>\n",
              "      <th>CD_ELEICAO</th>\n",
              "      <th>CD_SITUACAO_CANDIDATURA</th>\n",
              "      <th>NR_IDADE_DATA_POSSE</th>\n",
              "      <th>VR_DESPESA_MAX_CAMPANHA</th>\n",
              "    </tr>\n",
              "  </thead>\n",
              "  <tbody>\n",
              "    <tr>\n",
              "      <th>count</th>\n",
              "      <td>50655.000000</td>\n",
              "      <td>50655.000000</td>\n",
              "      <td>50655.000000</td>\n",
              "      <td>5.065500e+04</td>\n",
              "      <td>50655.000000</td>\n",
              "      <td>50655.000000</td>\n",
              "      <td>5.065500e+04</td>\n",
              "    </tr>\n",
              "    <tr>\n",
              "      <th>mean</th>\n",
              "      <td>2003.816997</td>\n",
              "      <td>1.974573</td>\n",
              "      <td>1.000474</td>\n",
              "      <td>7.437229e+05</td>\n",
              "      <td>8.175284</td>\n",
              "      <td>42.640805</td>\n",
              "      <td>9.615613e+04</td>\n",
              "    </tr>\n",
              "    <tr>\n",
              "      <th>std</th>\n",
              "      <td>3.442961</td>\n",
              "      <td>0.221858</td>\n",
              "      <td>0.021762</td>\n",
              "      <td>8.980875e+05</td>\n",
              "      <td>4.969717</td>\n",
              "      <td>15.956436</td>\n",
              "      <td>2.636667e+06</td>\n",
              "    </tr>\n",
              "    <tr>\n",
              "      <th>min</th>\n",
              "      <td>1994.000000</td>\n",
              "      <td>0.000000</td>\n",
              "      <td>1.000000</td>\n",
              "      <td>3.000000e+01</td>\n",
              "      <td>-3.000000</td>\n",
              "      <td>-1.000000</td>\n",
              "      <td>-3.000000e+00</td>\n",
              "    </tr>\n",
              "    <tr>\n",
              "      <th>25%</th>\n",
              "      <td>2000.000000</td>\n",
              "      <td>2.000000</td>\n",
              "      <td>1.000000</td>\n",
              "      <td>3.000000e+01</td>\n",
              "      <td>2.000000</td>\n",
              "      <td>35.000000</td>\n",
              "      <td>-3.000000e+00</td>\n",
              "    </tr>\n",
              "    <tr>\n",
              "      <th>50%</th>\n",
              "      <td>2004.000000</td>\n",
              "      <td>2.000000</td>\n",
              "      <td>1.000000</td>\n",
              "      <td>2.004120e+05</td>\n",
              "      <td>12.000000</td>\n",
              "      <td>42.000000</td>\n",
              "      <td>7.000000e+03</td>\n",
              "    </tr>\n",
              "    <tr>\n",
              "      <th>75%</th>\n",
              "      <td>2008.000000</td>\n",
              "      <td>2.000000</td>\n",
              "      <td>1.000000</td>\n",
              "      <td>2.000001e+06</td>\n",
              "      <td>12.000000</td>\n",
              "      <td>49.000000</td>\n",
              "      <td>3.000000e+04</td>\n",
              "    </tr>\n",
              "    <tr>\n",
              "      <th>max</th>\n",
              "      <td>2008.000000</td>\n",
              "      <td>2.000000</td>\n",
              "      <td>2.000000</td>\n",
              "      <td>2.006002e+06</td>\n",
              "      <td>12.000000</td>\n",
              "      <td>2004.000000</td>\n",
              "      <td>5.000100e+08</td>\n",
              "    </tr>\n",
              "  </tbody>\n",
              "</table>\n",
              "</div>\n",
              "      <button class=\"colab-df-convert\" onclick=\"convertToInteractive('df-4504b66d-a670-4e75-80c1-349a0e6a26b1')\"\n",
              "              title=\"Convert this dataframe to an interactive table.\"\n",
              "              style=\"display:none;\">\n",
              "        \n",
              "  <svg xmlns=\"http://www.w3.org/2000/svg\" height=\"24px\"viewBox=\"0 0 24 24\"\n",
              "       width=\"24px\">\n",
              "    <path d=\"M0 0h24v24H0V0z\" fill=\"none\"/>\n",
              "    <path d=\"M18.56 5.44l.94 2.06.94-2.06 2.06-.94-2.06-.94-.94-2.06-.94 2.06-2.06.94zm-11 1L8.5 8.5l.94-2.06 2.06-.94-2.06-.94L8.5 2.5l-.94 2.06-2.06.94zm10 10l.94 2.06.94-2.06 2.06-.94-2.06-.94-.94-2.06-.94 2.06-2.06.94z\"/><path d=\"M17.41 7.96l-1.37-1.37c-.4-.4-.92-.59-1.43-.59-.52 0-1.04.2-1.43.59L10.3 9.45l-7.72 7.72c-.78.78-.78 2.05 0 2.83L4 21.41c.39.39.9.59 1.41.59.51 0 1.02-.2 1.41-.59l7.78-7.78 2.81-2.81c.8-.78.8-2.07 0-2.86zM5.41 20L4 18.59l7.72-7.72 1.47 1.35L5.41 20z\"/>\n",
              "  </svg>\n",
              "      </button>\n",
              "      \n",
              "  <style>\n",
              "    .colab-df-container {\n",
              "      display:flex;\n",
              "      flex-wrap:wrap;\n",
              "      gap: 12px;\n",
              "    }\n",
              "\n",
              "    .colab-df-convert {\n",
              "      background-color: #E8F0FE;\n",
              "      border: none;\n",
              "      border-radius: 50%;\n",
              "      cursor: pointer;\n",
              "      display: none;\n",
              "      fill: #1967D2;\n",
              "      height: 32px;\n",
              "      padding: 0 0 0 0;\n",
              "      width: 32px;\n",
              "    }\n",
              "\n",
              "    .colab-df-convert:hover {\n",
              "      background-color: #E2EBFA;\n",
              "      box-shadow: 0px 1px 2px rgba(60, 64, 67, 0.3), 0px 1px 3px 1px rgba(60, 64, 67, 0.15);\n",
              "      fill: #174EA6;\n",
              "    }\n",
              "\n",
              "    [theme=dark] .colab-df-convert {\n",
              "      background-color: #3B4455;\n",
              "      fill: #D2E3FC;\n",
              "    }\n",
              "\n",
              "    [theme=dark] .colab-df-convert:hover {\n",
              "      background-color: #434B5C;\n",
              "      box-shadow: 0px 1px 3px 1px rgba(0, 0, 0, 0.15);\n",
              "      filter: drop-shadow(0px 1px 2px rgba(0, 0, 0, 0.3));\n",
              "      fill: #FFFFFF;\n",
              "    }\n",
              "  </style>\n",
              "\n",
              "      <script>\n",
              "        const buttonEl =\n",
              "          document.querySelector('#df-4504b66d-a670-4e75-80c1-349a0e6a26b1 button.colab-df-convert');\n",
              "        buttonEl.style.display =\n",
              "          google.colab.kernel.accessAllowed ? 'block' : 'none';\n",
              "\n",
              "        async function convertToInteractive(key) {\n",
              "          const element = document.querySelector('#df-4504b66d-a670-4e75-80c1-349a0e6a26b1');\n",
              "          const dataTable =\n",
              "            await google.colab.kernel.invokeFunction('convertToInteractive',\n",
              "                                                     [key], {});\n",
              "          if (!dataTable) return;\n",
              "\n",
              "          const docLinkHtml = 'Like what you see? Visit the ' +\n",
              "            '<a target=\"_blank\" href=https://colab.research.google.com/notebooks/data_table.ipynb>data table notebook</a>'\n",
              "            + ' to learn more about interactive tables.';\n",
              "          element.innerHTML = '';\n",
              "          dataTable['output_type'] = 'display_data';\n",
              "          await google.colab.output.renderOutput(dataTable, element);\n",
              "          const docLink = document.createElement('div');\n",
              "          docLink.innerHTML = docLinkHtml;\n",
              "          element.appendChild(docLink);\n",
              "        }\n",
              "      </script>\n",
              "    </div>\n",
              "  </div>\n",
              "  "
            ]
          },
          "metadata": {},
          "execution_count": 175
        }
      ],
      "source": [
        "candidatos_goias.describe()"
      ]
    },
    {
      "cell_type": "markdown",
      "metadata": {
        "id": "7TvdcQJixvJe"
      },
      "source": [
        "Como foi visto, os dados de gastos possuí valores negativos: 2 alternativas para tratar o dado, remover as linhas com valores negativos, porem perderia informações relevantes, ou preencher com a media, mas é preciso do valor exato pra fazer alguns calculos.  Se o valor foi registrado errado, talvez multiplicando por - 1 resolva, mas não se sabe se é valor negativado, ou houve um erro ao cadastrar, seria necessário uma investigação maior. Para essa análise irei multiplicar os valores negativos por -1  ultilizando o python"
      ]
    },
    {
      "cell_type": "markdown",
      "metadata": {
        "id": "Dk2Lil48yV64"
      },
      "source": [
        "**Removendo valores negativos de gastos de campanhas**"
      ]
    },
    {
      "cell_type": "markdown",
      "metadata": {
        "id": "on0_a47gFkwJ"
      },
      "source": [
        "**Como eu nao tenho memoria para remover os dados usando o labda, irei deixa-los**"
      ]
    },
    {
      "cell_type": "code",
      "execution_count": 176,
      "metadata": {
        "id": "KxOC84QYAQnk"
      },
      "outputs": [],
      "source": [
        "import numpy as np"
      ]
    },
    {
      "cell_type": "code",
      "execution_count": 177,
      "metadata": {
        "id": "kAAwZ5Vr1q89"
      },
      "outputs": [],
      "source": [
        "#candidatos_goias['VR_DESPESA_MAX_CAMPANHA'].apply(lambda x: abs(candidatos_goias['VR_DESPESA_MAX_CAMPANHA']))"
      ]
    },
    {
      "cell_type": "code",
      "execution_count": 178,
      "metadata": {
        "colab": {
          "base_uri": "https://localhost:8080/",
          "height": 364
        },
        "id": "6K8jNZVuz9I-",
        "outputId": "0ac71e6c-a1a8-443e-b0d1-5f25b05061b6"
      },
      "outputs": [
        {
          "output_type": "execute_result",
          "data": {
            "text/plain": [
              "        ANO_ELEICAO  CD_TIPO_ELEICAO      NR_TURNO    CD_ELEICAO  \\\n",
              "count  50655.000000     50655.000000  50655.000000  5.065500e+04   \n",
              "mean    2003.816997         1.974573      1.000474  7.437229e+05   \n",
              "std        3.442961         0.221858      0.021762  8.980875e+05   \n",
              "min     1994.000000         0.000000      1.000000  3.000000e+01   \n",
              "25%     2000.000000         2.000000      1.000000  3.000000e+01   \n",
              "50%     2004.000000         2.000000      1.000000  2.004120e+05   \n",
              "75%     2008.000000         2.000000      1.000000  2.000001e+06   \n",
              "max     2008.000000         2.000000      2.000000  2.006002e+06   \n",
              "\n",
              "       CD_SITUACAO_CANDIDATURA  NR_IDADE_DATA_POSSE  VR_DESPESA_MAX_CAMPANHA  \n",
              "count             50655.000000         50655.000000             5.065500e+04  \n",
              "mean                  8.175284            42.640805             9.615613e+04  \n",
              "std                   4.969717            15.956436             2.636667e+06  \n",
              "min                  -3.000000            -1.000000            -3.000000e+00  \n",
              "25%                   2.000000            35.000000            -3.000000e+00  \n",
              "50%                  12.000000            42.000000             7.000000e+03  \n",
              "75%                  12.000000            49.000000             3.000000e+04  \n",
              "max                  12.000000          2004.000000             5.000100e+08  "
            ],
            "text/html": [
              "\n",
              "  <div id=\"df-9230234c-0289-4f67-8709-f199ac002793\">\n",
              "    <div class=\"colab-df-container\">\n",
              "      <div>\n",
              "<style scoped>\n",
              "    .dataframe tbody tr th:only-of-type {\n",
              "        vertical-align: middle;\n",
              "    }\n",
              "\n",
              "    .dataframe tbody tr th {\n",
              "        vertical-align: top;\n",
              "    }\n",
              "\n",
              "    .dataframe thead th {\n",
              "        text-align: right;\n",
              "    }\n",
              "</style>\n",
              "<table border=\"1\" class=\"dataframe\">\n",
              "  <thead>\n",
              "    <tr style=\"text-align: right;\">\n",
              "      <th></th>\n",
              "      <th>ANO_ELEICAO</th>\n",
              "      <th>CD_TIPO_ELEICAO</th>\n",
              "      <th>NR_TURNO</th>\n",
              "      <th>CD_ELEICAO</th>\n",
              "      <th>CD_SITUACAO_CANDIDATURA</th>\n",
              "      <th>NR_IDADE_DATA_POSSE</th>\n",
              "      <th>VR_DESPESA_MAX_CAMPANHA</th>\n",
              "    </tr>\n",
              "  </thead>\n",
              "  <tbody>\n",
              "    <tr>\n",
              "      <th>count</th>\n",
              "      <td>50655.000000</td>\n",
              "      <td>50655.000000</td>\n",
              "      <td>50655.000000</td>\n",
              "      <td>5.065500e+04</td>\n",
              "      <td>50655.000000</td>\n",
              "      <td>50655.000000</td>\n",
              "      <td>5.065500e+04</td>\n",
              "    </tr>\n",
              "    <tr>\n",
              "      <th>mean</th>\n",
              "      <td>2003.816997</td>\n",
              "      <td>1.974573</td>\n",
              "      <td>1.000474</td>\n",
              "      <td>7.437229e+05</td>\n",
              "      <td>8.175284</td>\n",
              "      <td>42.640805</td>\n",
              "      <td>9.615613e+04</td>\n",
              "    </tr>\n",
              "    <tr>\n",
              "      <th>std</th>\n",
              "      <td>3.442961</td>\n",
              "      <td>0.221858</td>\n",
              "      <td>0.021762</td>\n",
              "      <td>8.980875e+05</td>\n",
              "      <td>4.969717</td>\n",
              "      <td>15.956436</td>\n",
              "      <td>2.636667e+06</td>\n",
              "    </tr>\n",
              "    <tr>\n",
              "      <th>min</th>\n",
              "      <td>1994.000000</td>\n",
              "      <td>0.000000</td>\n",
              "      <td>1.000000</td>\n",
              "      <td>3.000000e+01</td>\n",
              "      <td>-3.000000</td>\n",
              "      <td>-1.000000</td>\n",
              "      <td>-3.000000e+00</td>\n",
              "    </tr>\n",
              "    <tr>\n",
              "      <th>25%</th>\n",
              "      <td>2000.000000</td>\n",
              "      <td>2.000000</td>\n",
              "      <td>1.000000</td>\n",
              "      <td>3.000000e+01</td>\n",
              "      <td>2.000000</td>\n",
              "      <td>35.000000</td>\n",
              "      <td>-3.000000e+00</td>\n",
              "    </tr>\n",
              "    <tr>\n",
              "      <th>50%</th>\n",
              "      <td>2004.000000</td>\n",
              "      <td>2.000000</td>\n",
              "      <td>1.000000</td>\n",
              "      <td>2.004120e+05</td>\n",
              "      <td>12.000000</td>\n",
              "      <td>42.000000</td>\n",
              "      <td>7.000000e+03</td>\n",
              "    </tr>\n",
              "    <tr>\n",
              "      <th>75%</th>\n",
              "      <td>2008.000000</td>\n",
              "      <td>2.000000</td>\n",
              "      <td>1.000000</td>\n",
              "      <td>2.000001e+06</td>\n",
              "      <td>12.000000</td>\n",
              "      <td>49.000000</td>\n",
              "      <td>3.000000e+04</td>\n",
              "    </tr>\n",
              "    <tr>\n",
              "      <th>max</th>\n",
              "      <td>2008.000000</td>\n",
              "      <td>2.000000</td>\n",
              "      <td>2.000000</td>\n",
              "      <td>2.006002e+06</td>\n",
              "      <td>12.000000</td>\n",
              "      <td>2004.000000</td>\n",
              "      <td>5.000100e+08</td>\n",
              "    </tr>\n",
              "  </tbody>\n",
              "</table>\n",
              "</div>\n",
              "      <button class=\"colab-df-convert\" onclick=\"convertToInteractive('df-9230234c-0289-4f67-8709-f199ac002793')\"\n",
              "              title=\"Convert this dataframe to an interactive table.\"\n",
              "              style=\"display:none;\">\n",
              "        \n",
              "  <svg xmlns=\"http://www.w3.org/2000/svg\" height=\"24px\"viewBox=\"0 0 24 24\"\n",
              "       width=\"24px\">\n",
              "    <path d=\"M0 0h24v24H0V0z\" fill=\"none\"/>\n",
              "    <path d=\"M18.56 5.44l.94 2.06.94-2.06 2.06-.94-2.06-.94-.94-2.06-.94 2.06-2.06.94zm-11 1L8.5 8.5l.94-2.06 2.06-.94-2.06-.94L8.5 2.5l-.94 2.06-2.06.94zm10 10l.94 2.06.94-2.06 2.06-.94-2.06-.94-.94-2.06-.94 2.06-2.06.94z\"/><path d=\"M17.41 7.96l-1.37-1.37c-.4-.4-.92-.59-1.43-.59-.52 0-1.04.2-1.43.59L10.3 9.45l-7.72 7.72c-.78.78-.78 2.05 0 2.83L4 21.41c.39.39.9.59 1.41.59.51 0 1.02-.2 1.41-.59l7.78-7.78 2.81-2.81c.8-.78.8-2.07 0-2.86zM5.41 20L4 18.59l7.72-7.72 1.47 1.35L5.41 20z\"/>\n",
              "  </svg>\n",
              "      </button>\n",
              "      \n",
              "  <style>\n",
              "    .colab-df-container {\n",
              "      display:flex;\n",
              "      flex-wrap:wrap;\n",
              "      gap: 12px;\n",
              "    }\n",
              "\n",
              "    .colab-df-convert {\n",
              "      background-color: #E8F0FE;\n",
              "      border: none;\n",
              "      border-radius: 50%;\n",
              "      cursor: pointer;\n",
              "      display: none;\n",
              "      fill: #1967D2;\n",
              "      height: 32px;\n",
              "      padding: 0 0 0 0;\n",
              "      width: 32px;\n",
              "    }\n",
              "\n",
              "    .colab-df-convert:hover {\n",
              "      background-color: #E2EBFA;\n",
              "      box-shadow: 0px 1px 2px rgba(60, 64, 67, 0.3), 0px 1px 3px 1px rgba(60, 64, 67, 0.15);\n",
              "      fill: #174EA6;\n",
              "    }\n",
              "\n",
              "    [theme=dark] .colab-df-convert {\n",
              "      background-color: #3B4455;\n",
              "      fill: #D2E3FC;\n",
              "    }\n",
              "\n",
              "    [theme=dark] .colab-df-convert:hover {\n",
              "      background-color: #434B5C;\n",
              "      box-shadow: 0px 1px 3px 1px rgba(0, 0, 0, 0.15);\n",
              "      filter: drop-shadow(0px 1px 2px rgba(0, 0, 0, 0.3));\n",
              "      fill: #FFFFFF;\n",
              "    }\n",
              "  </style>\n",
              "\n",
              "      <script>\n",
              "        const buttonEl =\n",
              "          document.querySelector('#df-9230234c-0289-4f67-8709-f199ac002793 button.colab-df-convert');\n",
              "        buttonEl.style.display =\n",
              "          google.colab.kernel.accessAllowed ? 'block' : 'none';\n",
              "\n",
              "        async function convertToInteractive(key) {\n",
              "          const element = document.querySelector('#df-9230234c-0289-4f67-8709-f199ac002793');\n",
              "          const dataTable =\n",
              "            await google.colab.kernel.invokeFunction('convertToInteractive',\n",
              "                                                     [key], {});\n",
              "          if (!dataTable) return;\n",
              "\n",
              "          const docLinkHtml = 'Like what you see? Visit the ' +\n",
              "            '<a target=\"_blank\" href=https://colab.research.google.com/notebooks/data_table.ipynb>data table notebook</a>'\n",
              "            + ' to learn more about interactive tables.';\n",
              "          element.innerHTML = '';\n",
              "          dataTable['output_type'] = 'display_data';\n",
              "          await google.colab.output.renderOutput(dataTable, element);\n",
              "          const docLink = document.createElement('div');\n",
              "          docLink.innerHTML = docLinkHtml;\n",
              "          element.appendChild(docLink);\n",
              "        }\n",
              "      </script>\n",
              "    </div>\n",
              "  </div>\n",
              "  "
            ]
          },
          "metadata": {},
          "execution_count": 178
        }
      ],
      "source": [
        "candidatos_goias.describe()"
      ]
    },
    {
      "cell_type": "markdown",
      "metadata": {
        "id": "VjLlNmL4IQFO"
      },
      "source": [
        "**Verificando dados vazios nos dados**"
      ]
    },
    {
      "cell_type": "code",
      "execution_count": 179,
      "metadata": {
        "colab": {
          "base_uri": "https://localhost:8080/"
        },
        "id": "mHOMQiTSx44o",
        "outputId": "8ab72bc0-c778-4fcb-cf13-38ae89d4674d"
      },
      "outputs": [
        {
          "output_type": "execute_result",
          "data": {
            "text/plain": [
              "ANO_ELEICAO                   0\n",
              "CD_TIPO_ELEICAO               0\n",
              "NR_TURNO                      0\n",
              "CD_ELEICAO                    0\n",
              "DS_ELEICAO                    0\n",
              "TP_ABRANGENCIA                0\n",
              "SG_UF                         0\n",
              "SG_UE                         0\n",
              "NM_UE                         0\n",
              "NM_CANDIDATO                  0\n",
              "NM_URNA_CANDIDATO             1\n",
              "CD_SITUACAO_CANDIDATURA       0\n",
              "DS_SITUACAO_CANDIDATURA       0\n",
              "SG_PARTIDO                    0\n",
              "NM_PARTIDO                    0\n",
              "DS_NACIONALIDADE              0\n",
              "DT_NASCIMENTO                 0\n",
              "NR_IDADE_DATA_POSSE           0\n",
              "DS_GENERO                     0\n",
              "DS_GRAU_INSTRUCAO             0\n",
              "DS_ESTADO_CIVIL               0\n",
              "DS_COR_RACA                   0\n",
              "VR_DESPESA_MAX_CAMPANHA       0\n",
              "DS_SIT_TOT_TURNO              0\n",
              "ST_REELEICAO                  0\n",
              "DS_SITUACAO_CANDIDATO_URNA    0\n",
              "ST_CANDIDATO_INSERIDO_URNA    0\n",
              "dtype: int64"
            ]
          },
          "metadata": {},
          "execution_count": 179
        }
      ],
      "source": [
        "candidatos_goias.isnull().sum()"
      ]
    },
    {
      "cell_type": "markdown",
      "metadata": {
        "id": "bGAPx-7JJbpV"
      },
      "source": [
        "`Como apenas a coluna NM_URNA_CANDIDATO tem valor nulo e é apenas 1, então essa linha poderá ser excluída, caso fosse mais linhas nulos, teria que tomar outra decisão para tratar o valor nulo`"
      ]
    },
    {
      "cell_type": "code",
      "execution_count": 180,
      "metadata": {
        "colab": {
          "base_uri": "https://localhost:8080/"
        },
        "id": "YO9DpzgQI7Hc",
        "outputId": "9b4d9ad7-5740-4820-85e3-da270d91137a"
      },
      "outputs": [
        {
          "output_type": "execute_result",
          "data": {
            "text/plain": [
              "ANO_ELEICAO                   0\n",
              "CD_TIPO_ELEICAO               0\n",
              "NR_TURNO                      0\n",
              "CD_ELEICAO                    0\n",
              "DS_ELEICAO                    0\n",
              "TP_ABRANGENCIA                0\n",
              "SG_UF                         0\n",
              "SG_UE                         0\n",
              "NM_UE                         0\n",
              "NM_CANDIDATO                  0\n",
              "NM_URNA_CANDIDATO             0\n",
              "CD_SITUACAO_CANDIDATURA       0\n",
              "DS_SITUACAO_CANDIDATURA       0\n",
              "SG_PARTIDO                    0\n",
              "NM_PARTIDO                    0\n",
              "DS_NACIONALIDADE              0\n",
              "DT_NASCIMENTO                 0\n",
              "NR_IDADE_DATA_POSSE           0\n",
              "DS_GENERO                     0\n",
              "DS_GRAU_INSTRUCAO             0\n",
              "DS_ESTADO_CIVIL               0\n",
              "DS_COR_RACA                   0\n",
              "VR_DESPESA_MAX_CAMPANHA       0\n",
              "DS_SIT_TOT_TURNO              0\n",
              "ST_REELEICAO                  0\n",
              "DS_SITUACAO_CANDIDATO_URNA    0\n",
              "ST_CANDIDATO_INSERIDO_URNA    0\n",
              "dtype: int64"
            ]
          },
          "metadata": {},
          "execution_count": 180
        }
      ],
      "source": [
        "candidatos_goias.dropna(inplace =True)\n",
        "candidatos_goias.isnull().sum()"
      ]
    },
    {
      "cell_type": "markdown",
      "metadata": {
        "id": "DJdUNJqOKGew"
      },
      "source": [
        "`Após os dados nulos serem removidos será iniciado a análise dos dados os candidatos de  1994  até 2008`"
      ]
    },
    {
      "cell_type": "markdown",
      "metadata": {
        "id": "e3fknnSCKUs_"
      },
      "source": [
        "O que está análise vai tratar \n",
        "*   Quantas candidatos inscritos\n",
        "*   Quantos candidatos por raça \n",
        "*   Quantos candidatos por escolaridade\n",
        "*   Faixa etária dos candidatos por raça e sexo\n",
        "*   Porcentagem de candidatos escrito por raça, escolaridade, sexo\n",
        "*   Quantidade de partidos\n",
        "*   Quantidade de partido por sexo e raça\n",
        "*   Quantidade de escrito por estado civil\n",
        "*   Estado civil dos candidatos por genero\n",
        "*   Qual partido teve mais inscritos por raça e genero\n",
        "*   Qual partido mais elegeu\n",
        "*   Os candidatos mais eleitos usaram nome de algum candidatos que estava em alta na epóca \n",
        "*   O gasto com campanhas influência ao vencer eleição\n",
        "\n",
        "\n",
        "\n",
        "\n",
        "\n",
        "\n",
        "\n",
        "\n",
        "\n",
        "\n",
        "\n",
        "\n",
        "\n",
        "\n",
        "\n",
        "\n"
      ]
    },
    {
      "cell_type": "markdown",
      "metadata": {
        "id": "n9dXqlLNLZXU"
      },
      "source": [
        "**Quantos candidatos inscritos?**\n",
        "\n",
        "\n",
        "\n"
      ]
    },
    {
      "cell_type": "code",
      "execution_count": 181,
      "metadata": {
        "colab": {
          "base_uri": "https://localhost:8080/"
        },
        "id": "aKwc6RsKKA8C",
        "outputId": "0cd7ef7b-51ba-45ba-a757-27cb959a33dd"
      },
      "outputs": [
        {
          "output_type": "execute_result",
          "data": {
            "text/plain": [
              "50654"
            ]
          },
          "metadata": {},
          "execution_count": 181
        }
      ],
      "source": [
        "candidatos_goias['ANO_ELEICAO'].count()"
      ]
    },
    {
      "cell_type": "markdown",
      "metadata": {
        "id": "fe9qta89MZvJ"
      },
      "source": [
        "`As candidaturas de 1994 até 2010 soma 50655 cinquenta mil seiscentos e cinquenta e cinco inscritos.`"
      ]
    },
    {
      "cell_type": "markdown",
      "metadata": {
        "id": "IjeqC7HtM8w-"
      },
      "source": [
        "**Gráfico de inscritos por raça**"
      ]
    },
    {
      "cell_type": "code",
      "execution_count": 182,
      "metadata": {
        "colab": {
          "base_uri": "https://localhost:8080/",
          "height": 467
        },
        "id": "TJb5-XOCNRtT",
        "outputId": "9dcaffa8-61e8-4509-832c-ae61d1d74ed1"
      },
      "outputs": [
        {
          "output_type": "execute_result",
          "data": {
            "text/plain": [
              "<Axes: xlabel='DS_COR_RACA', ylabel='count'>"
            ]
          },
          "metadata": {},
          "execution_count": 182
        },
        {
          "output_type": "display_data",
          "data": {
            "text/plain": [
              "<Figure size 640x480 with 1 Axes>"
            ],
            "image/png": "[encoded data removed]"
          },
          "metadata": {}
        }
      ],
      "source": [
        "sns.countplot(x=candidatos_goias[\"DS_COR_RACA\"])"
      ]
    },
    {
      "cell_type": "markdown",
      "metadata": {
        "id": "h1h3u6x9Or7f"
      },
      "source": [
        "**Quantidade de inscritos por escolaridade**"
      ]
    },
    {
      "cell_type": "code",
      "execution_count": 183,
      "metadata": {
        "colab": {
          "base_uri": "https://localhost:8080/"
        },
        "id": "N_eATIWmOwMI",
        "outputId": "694ed216-6c4c-4249-a69e-b1d8651710d9"
      },
      "outputs": [
        {
          "output_type": "execute_result",
          "data": {
            "text/plain": [
              "SUPERIOR COMPLETO                7368\n",
              "ENSINO MÉDIO COMPLETO            5605\n",
              "MÉDIO COMPLETO                   5452\n",
              "1º GRAU INCOMPLETO               4190\n",
              "FUNDAMENTAL INCOMPLETO           4062\n",
              "2º GRAU COMPLETO                 3702\n",
              "ENSINO FUNDAMENTAL INCOMPLETO    3154\n",
              "SUPERIOR INCOMPLETO              2911\n",
              "FUNDAMENTAL COMPLETO             2289\n",
              "1º GRAU COMPLETO                 2198\n",
              "ENSINO FUNDAMENTAL COMPLETO      2116\n",
              "2º GRAU INCOMPLETO               1683\n",
              "MÉDIO INCOMPLETO                 1572\n",
              "LÊ E ESCREVE                     1520\n",
              "ENSINO MÉDIO INCOMPLETO          1185\n",
              "#NE                              1123\n",
              "NÃO INFORMADO                     507\n",
              "ANALFABETO                         17\n",
              "Name: DS_GRAU_INSTRUCAO, dtype: int64"
            ]
          },
          "metadata": {},
          "execution_count": 183
        }
      ],
      "source": [
        "candidatos_goias['DS_GRAU_INSTRUCAO'].value_counts()"
      ]
    },
    {
      "cell_type": "code",
      "execution_count": 184,
      "metadata": {
        "id": "qW7h4HLFgZgp"
      },
      "outputs": [],
      "source": [
        "#Padronizando a escolaridade de acordo com os dados de 2010 até 2022\n",
        "candidatos_goias.loc[candidatos_goias['DS_GRAU_INSTRUCAO'] == 'MÉDIO COMPLETO', 'DS_GRAU_INSTRUCAO'] = 'ENSINO MÉDIO COMPLETO'\n",
        "candidatos_goias.loc[candidatos_goias['DS_GRAU_INSTRUCAO'] == 'MÉDIO INCOMPLETO', 'DS_GRAU_INSTRUCAO'] = 'ENSINO MÉDIO INCOMPLETO'\n",
        "candidatos_goias.loc[candidatos_goias['DS_GRAU_INSTRUCAO'] == '2º GRAU INCOMPLETO', 'DS_GRAU_INSTRUCAO'] = 'ENSINO MÉDIO INCOMPLETO'\n",
        "candidatos_goias.loc[candidatos_goias['DS_GRAU_INSTRUCAO'] == '2º GRAU COMPLETO', 'DS_GRAU_INSTRUCAO'] = 'ENSINO MÉDIO COMPLETO'\n",
        "\n",
        "\n",
        "candidatos_goias.loc[candidatos_goias['DS_GRAU_INSTRUCAO'] == 'FUNDAMENTAL COMPLETO', 'DS_GRAU_INSTRUCAO'] = 'ENSINO FUNDAMENTAL COMPLETO'\n",
        "candidatos_goias.loc[candidatos_goias['DS_GRAU_INSTRUCAO'] == '1º GRAU COMPLETO', 'DS_GRAU_INSTRUCAO'] = 'ENSINO FUNDAMENTAL COMPLETO'\n",
        "candidatos_goias.loc[candidatos_goias['DS_GRAU_INSTRUCAO'] == 'FUNDAMENTAL INCOMPLETO', 'DS_GRAU_INSTRUCAO'] = 'ENSINO FUNDAMENTAL INCOMPLETO'\n",
        "candidatos_goias.loc[candidatos_goias['DS_GRAU_INSTRUCAO'] == '1º GRAU INCOMPLETO', 'DS_GRAU_INSTRUCAO'] = 'ENSINO FUNDAMENTAL INCOMPLETO'\n",
        "\n"
      ]
    },
    {
      "cell_type": "code",
      "execution_count": 185,
      "metadata": {
        "colab": {
          "base_uri": "https://localhost:8080/"
        },
        "id": "DUnxaQphgZgp",
        "outputId": "6ec94223-363a-4520-cde6-87dfa8be64da"
      },
      "outputs": [
        {
          "output_type": "execute_result",
          "data": {
            "text/plain": [
              "array(['ENSINO FUNDAMENTAL COMPLETO', 'SUPERIOR COMPLETO',\n",
              "       'ENSINO MÉDIO INCOMPLETO', 'ENSINO FUNDAMENTAL INCOMPLETO',\n",
              "       'SUPERIOR INCOMPLETO', 'ENSINO MÉDIO COMPLETO', 'LÊ E ESCREVE',\n",
              "       'NÃO INFORMADO', '#NE', 'ANALFABETO'], dtype=object)"
            ]
          },
          "metadata": {},
          "execution_count": 185
        }
      ],
      "source": [
        "#Verificando a padronização da escolaridade\n",
        "candidatos_goias['DS_GRAU_INSTRUCAO'].unique()"
      ]
    },
    {
      "cell_type": "markdown",
      "metadata": {
        "id": "dCBsuM3LRis-"
      },
      "source": [
        "**Porcentagem de inscritos por escolaridade**"
      ]
    },
    {
      "cell_type": "code",
      "execution_count": 186,
      "metadata": {
        "colab": {
          "base_uri": "https://localhost:8080/"
        },
        "id": "AafO1e1bRmBi",
        "outputId": "43241c32-6de7-414a-b5aa-75ac5b6341b7"
      },
      "outputs": [
        {
          "output_type": "execute_result",
          "data": {
            "text/plain": [
              "ENSINO MÉDIO COMPLETO            29.136314\n",
              "ENSINO FUNDAMENTAL INCOMPLETO    22.517027\n",
              "SUPERIOR COMPLETO                14.545455\n",
              "ENSINO FUNDAMENTAL COMPLETO      13.035238\n",
              "ENSINO MÉDIO INCOMPLETO           8.765176\n",
              "SUPERIOR INCOMPLETO               5.746718\n",
              "LÊ E ESCREVE                      3.000691\n",
              "#NE                               2.216958\n",
              "NÃO INFORMADO                     1.000888\n",
              "ANALFABETO                        0.033560\n",
              "Name: DS_GRAU_INSTRUCAO, dtype: float64"
            ]
          },
          "metadata": {},
          "execution_count": 186
        }
      ],
      "source": [
        "porc_escolaridade  = candidatos_goias['DS_GRAU_INSTRUCAO'].value_counts() / 50655 * 100 \n",
        "porc_escolaridade"
      ]
    },
    {
      "cell_type": "code",
      "execution_count": 187,
      "metadata": {
        "colab": {
          "base_uri": "https://localhost:8080/",
          "height": 530
        },
        "id": "sV8sT8L3gZgr",
        "outputId": "ec12ac15-15dc-4000-c632-ba450cf2a523"
      },
      "outputs": [
        {
          "output_type": "execute_result",
          "data": {
            "text/plain": [
              "   ANO_ELEICAO  CD_TIPO_ELEICAO  NR_TURNO  CD_ELEICAO  \\\n",
              "0         2002                2         1      200201   \n",
              "1         2002                2         1      200201   \n",
              "2         2002                2         1      200201   \n",
              "3         2002                2         1      200201   \n",
              "4         2002                2         1      200201   \n",
              "\n",
              "                            DS_ELEICAO TP_ABRANGENCIA SG_UF SG_UE  NM_UE  \\\n",
              "0  Eleições Gerais 2002 Primeiro Turno        FEDERAL    GO    GO  GOIAS   \n",
              "1  Eleições Gerais 2002 Primeiro Turno        FEDERAL    GO    GO  GOIAS   \n",
              "2  Eleições Gerais 2002 Primeiro Turno        FEDERAL    GO    GO  GOIAS   \n",
              "3  Eleições Gerais 2002 Primeiro Turno        FEDERAL    GO    GO  GOIAS   \n",
              "4  Eleições Gerais 2002 Primeiro Turno        FEDERAL    GO    GO  GOIAS   \n",
              "\n",
              "                   NM_CANDIDATO NM_URNA_CANDIDATO  CD_SITUACAO_CANDIDATURA  \\\n",
              "0             ERENITO DIAS REIS      ERENITO REIS                       12   \n",
              "1    BENIVALDO RIBEIRO DE SOUZA              BENE                       12   \n",
              "2     ARNANDO TEIXEIRA DA SILVA           ARNANDO                       12   \n",
              "3  FLORISVALDO PEREIRA DA SILVA       FLORISVALDO                       12   \n",
              "4     REGINALDO FERREIRA ADORNO           JACARÉ                        12   \n",
              "\n",
              "  DS_SITUACAO_CANDIDATURA SG_PARTIDO                        NM_PARTIDO  \\\n",
              "0                    APTO        PRP  PARTIDO REPUBLICANO PROGRESSISTA   \n",
              "1                    APTO        PMN   PARTIDO DA MOBILIZAÇÃO NACIONAL   \n",
              "2                    APTO        PSB     PARTIDO SOCIALISTA BRASILEIRO   \n",
              "3                    APTO        PSB     PARTIDO SOCIALISTA BRASILEIRO   \n",
              "4                    APTO        PFL         PARTIDO DA FRENTE LIBERAL   \n",
              "\n",
              "  DS_NACIONALIDADE DT_NASCIMENTO  NR_IDADE_DATA_POSSE  DS_GENERO  \\\n",
              "0  BRASILEIRA NATA    16/05/1948                   54  MASCULINO   \n",
              "1  BRASILEIRA NATA    01/02/1956                   46  MASCULINO   \n",
              "2  BRASILEIRA NATA    16/03/1967                   35  MASCULINO   \n",
              "3  BRASILEIRA NATA    26/02/1969                   33  MASCULINO   \n",
              "4  BRASILEIRA NATA    07/06/1954                   48  MASCULINO   \n",
              "\n",
              "               DS_GRAU_INSTRUCAO DS_ESTADO_CIVIL DS_COR_RACA  \\\n",
              "0    ENSINO FUNDAMENTAL COMPLETO       CASADO(A)         #NE   \n",
              "1              SUPERIOR COMPLETO       CASADO(A)         #NE   \n",
              "2        ENSINO MÉDIO INCOMPLETO       CASADO(A)         #NE   \n",
              "3  ENSINO FUNDAMENTAL INCOMPLETO     SOLTEIRO(A)         #NE   \n",
              "4        ENSINO MÉDIO INCOMPLETO       CASADO(A)         #NE   \n",
              "\n",
              "   VR_DESPESA_MAX_CAMPANHA DS_SIT_TOT_TURNO ST_REELEICAO  \\\n",
              "0                 500000.0         SUPLENTE            N   \n",
              "1                 300000.0       NÃO ELEITO            N   \n",
              "2                 200000.0       NÃO ELEITO            N   \n",
              "3                 100000.0         SUPLENTE            N   \n",
              "4                 500000.0         SUPLENTE            N   \n",
              "\n",
              "  DS_SITUACAO_CANDIDATO_URNA ST_CANDIDATO_INSERIDO_URNA  \n",
              "0                        #NE                        SIM  \n",
              "1                        #NE                        SIM  \n",
              "2                        #NE                        SIM  \n",
              "3                        #NE                        SIM  \n",
              "4                        #NE                        SIM  "
            ],
            "text/html": [
              "\n",
              "  <div id=\"df-2545880e-04bf-405c-b08c-bd9ebabed899\">\n",
              "    <div class=\"colab-df-container\">\n",
              "      <div>\n",
              "<style scoped>\n",
              "    .dataframe tbody tr th:only-of-type {\n",
              "        vertical-align: middle;\n",
              "    }\n",
              "\n",
              "    .dataframe tbody tr th {\n",
              "        vertical-align: top;\n",
              "    }\n",
              "\n",
              "    .dataframe thead th {\n",
              "        text-align: right;\n",
              "    }\n",
              "</style>\n",
              "<table border=\"1\" class=\"dataframe\">\n",
              "  <thead>\n",
              "    <tr style=\"text-align: right;\">\n",
              "      <th></th>\n",
              "      <th>ANO_ELEICAO</th>\n",
              "      <th>CD_TIPO_ELEICAO</th>\n",
              "      <th>NR_TURNO</th>\n",
              "      <th>CD_ELEICAO</th>\n",
              "      <th>DS_ELEICAO</th>\n",
              "      <th>TP_ABRANGENCIA</th>\n",
              "      <th>SG_UF</th>\n",
              "      <th>SG_UE</th>\n",
              "      <th>NM_UE</th>\n",
              "      <th>NM_CANDIDATO</th>\n",
              "      <th>NM_URNA_CANDIDATO</th>\n",
              "      <th>CD_SITUACAO_CANDIDATURA</th>\n",
              "      <th>DS_SITUACAO_CANDIDATURA</th>\n",
              "      <th>SG_PARTIDO</th>\n",
              "      <th>NM_PARTIDO</th>\n",
              "      <th>DS_NACIONALIDADE</th>\n",
              "      <th>DT_NASCIMENTO</th>\n",
              "      <th>NR_IDADE_DATA_POSSE</th>\n",
              "      <th>DS_GENERO</th>\n",
              "      <th>DS_GRAU_INSTRUCAO</th>\n",
              "      <th>DS_ESTADO_CIVIL</th>\n",
              "      <th>DS_COR_RACA</th>\n",
              "      <th>VR_DESPESA_MAX_CAMPANHA</th>\n",
              "      <th>DS_SIT_TOT_TURNO</th>\n",
              "      <th>ST_REELEICAO</th>\n",
              "      <th>DS_SITUACAO_CANDIDATO_URNA</th>\n",
              "      <th>ST_CANDIDATO_INSERIDO_URNA</th>\n",
              "    </tr>\n",
              "  </thead>\n",
              "  <tbody>\n",
              "    <tr>\n",
              "      <th>0</th>\n",
              "      <td>2002</td>\n",
              "      <td>2</td>\n",
              "      <td>1</td>\n",
              "      <td>200201</td>\n",
              "      <td>Eleições Gerais 2002 Primeiro Turno</td>\n",
              "      <td>FEDERAL</td>\n",
              "      <td>GO</td>\n",
              "      <td>GO</td>\n",
              "      <td>GOIAS</td>\n",
              "      <td>ERENITO DIAS REIS</td>\n",
              "      <td>ERENITO REIS</td>\n",
              "      <td>12</td>\n",
              "      <td>APTO</td>\n",
              "      <td>PRP</td>\n",
              "      <td>PARTIDO REPUBLICANO PROGRESSISTA</td>\n",
              "      <td>BRASILEIRA NATA</td>\n",
              "      <td>16/05/1948</td>\n",
              "      <td>54</td>\n",
              "      <td>MASCULINO</td>\n",
              "      <td>ENSINO FUNDAMENTAL COMPLETO</td>\n",
              "      <td>CASADO(A)</td>\n",
              "      <td>#NE</td>\n",
              "      <td>500000.0</td>\n",
              "      <td>SUPLENTE</td>\n",
              "      <td>N</td>\n",
              "      <td>#NE</td>\n",
              "      <td>SIM</td>\n",
              "    </tr>\n",
              "    <tr>\n",
              "      <th>1</th>\n",
              "      <td>2002</td>\n",
              "      <td>2</td>\n",
              "      <td>1</td>\n",
              "      <td>200201</td>\n",
              "      <td>Eleições Gerais 2002 Primeiro Turno</td>\n",
              "      <td>FEDERAL</td>\n",
              "      <td>GO</td>\n",
              "      <td>GO</td>\n",
              "      <td>GOIAS</td>\n",
              "      <td>BENIVALDO RIBEIRO DE SOUZA</td>\n",
              "      <td>BENE</td>\n",
              "      <td>12</td>\n",
              "      <td>APTO</td>\n",
              "      <td>PMN</td>\n",
              "      <td>PARTIDO DA MOBILIZAÇÃO NACIONAL</td>\n",
              "      <td>BRASILEIRA NATA</td>\n",
              "      <td>01/02/1956</td>\n",
              "      <td>46</td>\n",
              "      <td>MASCULINO</td>\n",
              "      <td>SUPERIOR COMPLETO</td>\n",
              "      <td>CASADO(A)</td>\n",
              "      <td>#NE</td>\n",
              "      <td>300000.0</td>\n",
              "      <td>NÃO ELEITO</td>\n",
              "      <td>N</td>\n",
              "      <td>#NE</td>\n",
              "      <td>SIM</td>\n",
              "    </tr>\n",
              "    <tr>\n",
              "      <th>2</th>\n",
              "      <td>2002</td>\n",
              "      <td>2</td>\n",
              "      <td>1</td>\n",
              "      <td>200201</td>\n",
              "      <td>Eleições Gerais 2002 Primeiro Turno</td>\n",
              "      <td>FEDERAL</td>\n",
              "      <td>GO</td>\n",
              "      <td>GO</td>\n",
              "      <td>GOIAS</td>\n",
              "      <td>ARNANDO TEIXEIRA DA SILVA</td>\n",
              "      <td>ARNANDO</td>\n",
              "      <td>12</td>\n",
              "      <td>APTO</td>\n",
              "      <td>PSB</td>\n",
              "      <td>PARTIDO SOCIALISTA BRASILEIRO</td>\n",
              "      <td>BRASILEIRA NATA</td>\n",
              "      <td>16/03/1967</td>\n",
              "      <td>35</td>\n",
              "      <td>MASCULINO</td>\n",
              "      <td>ENSINO MÉDIO INCOMPLETO</td>\n",
              "      <td>CASADO(A)</td>\n",
              "      <td>#NE</td>\n",
              "      <td>200000.0</td>\n",
              "      <td>NÃO ELEITO</td>\n",
              "      <td>N</td>\n",
              "      <td>#NE</td>\n",
              "      <td>SIM</td>\n",
              "    </tr>\n",
              "    <tr>\n",
              "      <th>3</th>\n",
              "      <td>2002</td>\n",
              "      <td>2</td>\n",
              "      <td>1</td>\n",
              "      <td>200201</td>\n",
              "      <td>Eleições Gerais 2002 Primeiro Turno</td>\n",
              "      <td>FEDERAL</td>\n",
              "      <td>GO</td>\n",
              "      <td>GO</td>\n",
              "      <td>GOIAS</td>\n",
              "      <td>FLORISVALDO PEREIRA DA SILVA</td>\n",
              "      <td>FLORISVALDO</td>\n",
              "      <td>12</td>\n",
              "      <td>APTO</td>\n",
              "      <td>PSB</td>\n",
              "      <td>PARTIDO SOCIALISTA BRASILEIRO</td>\n",
              "      <td>BRASILEIRA NATA</td>\n",
              "      <td>26/02/1969</td>\n",
              "      <td>33</td>\n",
              "      <td>MASCULINO</td>\n",
              "      <td>ENSINO FUNDAMENTAL INCOMPLETO</td>\n",
              "      <td>SOLTEIRO(A)</td>\n",
              "      <td>#NE</td>\n",
              "      <td>100000.0</td>\n",
              "      <td>SUPLENTE</td>\n",
              "      <td>N</td>\n",
              "      <td>#NE</td>\n",
              "      <td>SIM</td>\n",
              "    </tr>\n",
              "    <tr>\n",
              "      <th>4</th>\n",
              "      <td>2002</td>\n",
              "      <td>2</td>\n",
              "      <td>1</td>\n",
              "      <td>200201</td>\n",
              "      <td>Eleições Gerais 2002 Primeiro Turno</td>\n",
              "      <td>FEDERAL</td>\n",
              "      <td>GO</td>\n",
              "      <td>GO</td>\n",
              "      <td>GOIAS</td>\n",
              "      <td>REGINALDO FERREIRA ADORNO</td>\n",
              "      <td>JACARÉ</td>\n",
              "      <td>12</td>\n",
              "      <td>APTO</td>\n",
              "      <td>PFL</td>\n",
              "      <td>PARTIDO DA FRENTE LIBERAL</td>\n",
              "      <td>BRASILEIRA NATA</td>\n",
              "      <td>07/06/1954</td>\n",
              "      <td>48</td>\n",
              "      <td>MASCULINO</td>\n",
              "      <td>ENSINO MÉDIO INCOMPLETO</td>\n",
              "      <td>CASADO(A)</td>\n",
              "      <td>#NE</td>\n",
              "      <td>500000.0</td>\n",
              "      <td>SUPLENTE</td>\n",
              "      <td>N</td>\n",
              "      <td>#NE</td>\n",
              "      <td>SIM</td>\n",
              "    </tr>\n",
              "  </tbody>\n",
              "</table>\n",
              "</div>\n",
              "      <button class=\"colab-df-convert\" onclick=\"convertToInteractive('df-2545880e-04bf-405c-b08c-bd9ebabed899')\"\n",
              "              title=\"Convert this dataframe to an interactive table.\"\n",
              "              style=\"display:none;\">\n",
              "        \n",
              "  <svg xmlns=\"http://www.w3.org/2000/svg\" height=\"24px\"viewBox=\"0 0 24 24\"\n",
              "       width=\"24px\">\n",
              "    <path d=\"M0 0h24v24H0V0z\" fill=\"none\"/>\n",
              "    <path d=\"M18.56 5.44l.94 2.06.94-2.06 2.06-.94-2.06-.94-.94-2.06-.94 2.06-2.06.94zm-11 1L8.5 8.5l.94-2.06 2.06-.94-2.06-.94L8.5 2.5l-.94 2.06-2.06.94zm10 10l.94 2.06.94-2.06 2.06-.94-2.06-.94-.94-2.06-.94 2.06-2.06.94z\"/><path d=\"M17.41 7.96l-1.37-1.37c-.4-.4-.92-.59-1.43-.59-.52 0-1.04.2-1.43.59L10.3 9.45l-7.72 7.72c-.78.78-.78 2.05 0 2.83L4 21.41c.39.39.9.59 1.41.59.51 0 1.02-.2 1.41-.59l7.78-7.78 2.81-2.81c.8-.78.8-2.07 0-2.86zM5.41 20L4 18.59l7.72-7.72 1.47 1.35L5.41 20z\"/>\n",
              "  </svg>\n",
              "      </button>\n",
              "      \n",
              "  <style>\n",
              "    .colab-df-container {\n",
              "      display:flex;\n",
              "      flex-wrap:wrap;\n",
              "      gap: 12px;\n",
              "    }\n",
              "\n",
              "    .colab-df-convert {\n",
              "      background-color: #E8F0FE;\n",
              "      border: none;\n",
              "      border-radius: 50%;\n",
              "      cursor: pointer;\n",
              "      display: none;\n",
              "      fill: #1967D2;\n",
              "      height: 32px;\n",
              "      padding: 0 0 0 0;\n",
              "      width: 32px;\n",
              "    }\n",
              "\n",
              "    .colab-df-convert:hover {\n",
              "      background-color: #E2EBFA;\n",
              "      box-shadow: 0px 1px 2px rgba(60, 64, 67, 0.3), 0px 1px 3px 1px rgba(60, 64, 67, 0.15);\n",
              "      fill: #174EA6;\n",
              "    }\n",
              "\n",
              "    [theme=dark] .colab-df-convert {\n",
              "      background-color: #3B4455;\n",
              "      fill: #D2E3FC;\n",
              "    }\n",
              "\n",
              "    [theme=dark] .colab-df-convert:hover {\n",
              "      background-color: #434B5C;\n",
              "      box-shadow: 0px 1px 3px 1px rgba(0, 0, 0, 0.15);\n",
              "      filter: drop-shadow(0px 1px 2px rgba(0, 0, 0, 0.3));\n",
              "      fill: #FFFFFF;\n",
              "    }\n",
              "  </style>\n",
              "\n",
              "      <script>\n",
              "        const buttonEl =\n",
              "          document.querySelector('#df-2545880e-04bf-405c-b08c-bd9ebabed899 button.colab-df-convert');\n",
              "        buttonEl.style.display =\n",
              "          google.colab.kernel.accessAllowed ? 'block' : 'none';\n",
              "\n",
              "        async function convertToInteractive(key) {\n",
              "          const element = document.querySelector('#df-2545880e-04bf-405c-b08c-bd9ebabed899');\n",
              "          const dataTable =\n",
              "            await google.colab.kernel.invokeFunction('convertToInteractive',\n",
              "                                                     [key], {});\n",
              "          if (!dataTable) return;\n",
              "\n",
              "          const docLinkHtml = 'Like what you see? Visit the ' +\n",
              "            '<a target=\"_blank\" href=https://colab.research.google.com/notebooks/data_table.ipynb>data table notebook</a>'\n",
              "            + ' to learn more about interactive tables.';\n",
              "          element.innerHTML = '';\n",
              "          dataTable['output_type'] = 'display_data';\n",
              "          await google.colab.output.renderOutput(dataTable, element);\n",
              "          const docLink = document.createElement('div');\n",
              "          docLink.innerHTML = docLinkHtml;\n",
              "          element.appendChild(docLink);\n",
              "        }\n",
              "      </script>\n",
              "    </div>\n",
              "  </div>\n",
              "  "
            ]
          },
          "metadata": {},
          "execution_count": 187
        }
      ],
      "source": [
        "candidatos_goias.head()"
      ]
    },
    {
      "cell_type": "markdown",
      "metadata": {
        "id": "C9ONH1PfOTqL"
      },
      "source": [
        "**Gráfico de inscritos por escolaridade**"
      ]
    },
    {
      "cell_type": "code",
      "execution_count": 188,
      "metadata": {
        "id": "stBLe8e7NqcL"
      },
      "outputs": [],
      "source": [
        "# fig = plt.figure(figsize=(10,5))\n",
        "# grafico = sns.countplot('DS_GRAU_INSTRUCAO', order = candidatos_goias['DS_GRAU_INSTRUCAO'].value_counts().index, palette=\"Paired\",  data = candidatos_goias)\n",
        "# plt.xticks(rotation=90)\n",
        "# for i in grafico.patches:\n",
        "#    grafico.annotate(i.get_height(),\n",
        "#                   (i.get_x() + i.get_width() / 2, i.get_height()),\n",
        "#                   ha='center',\n",
        "#                   va='baseline',\n",
        "#                   fontsize=12,\n",
        "#                   color='black',\n",
        "#                   xytext=(0, 1),\n",
        "#                   textcoords='offset points');  \n",
        "# plt.xlabel('Escolaridade', fontsize=15)\n",
        "# plt.ylabel(' ')\n",
        "# plt.title('Grafico quantidade por  escolaridade',fontsize=15);"
      ]
    },
    {
      "cell_type": "markdown",
      "metadata": {
        "id": "WVgD1h7UYA7i"
      },
      "source": [
        "**Faixa etaria dos inscritos**"
      ]
    },
    {
      "cell_type": "code",
      "execution_count": 189,
      "metadata": {
        "colab": {
          "base_uri": "https://localhost:8080/"
        },
        "id": "W_oRa89iYdC6",
        "outputId": "60c77935-435e-4dc3-e8a2-d3a0ab442f74"
      },
      "outputs": [
        {
          "output_type": "execute_result",
          "data": {
            "text/plain": [
              "array([  54,   46,   35,   33,   48,   53,   41,   37,   44,   56,   57,\n",
              "         65,   63,   51,   52,   36,   38,   32,   34,   43,   55,   31,\n",
              "         42,   49,   27,   39,   59,   40,   45,   82,   29,   50,   67,\n",
              "         58,  950,   47,   30,   60,   26,   21,   62,   61,   22,   66,\n",
              "         71,   28,   25,   69,   24,   68,   64,   23,   72,   86,   75,\n",
              "         70,   91,   79,   20,   19,   18,   -1,   78,   77,   73,   74,\n",
              "          0,    6,   80,   76,   81,    4,   83,   84,   88,   85,  349,\n",
              "        306,  311, 1057,   12,  343,  909,  810,  307, 2004])"
            ]
          },
          "metadata": {},
          "execution_count": 189
        }
      ],
      "source": [
        "candidatos_goias['NR_IDADE_DATA_POSSE'].unique()"
      ]
    },
    {
      "cell_type": "markdown",
      "metadata": {
        "id": "OUAuO5X6rBXU"
      },
      "source": [
        "**Como foi observado, existe idade com numeros negativos e bem maiores que 100. Então será substituido por zero**"
      ]
    },
    {
      "cell_type": "code",
      "execution_count": 190,
      "metadata": {
        "id": "05Palf6Ync99"
      },
      "outputs": [],
      "source": [
        "candidatos_goias.loc[((candidatos_goias.NR_IDADE_DATA_POSSE <= 0 )| (candidatos_goias.NR_IDADE_DATA_POSSE > 100))] = 0\n"
      ]
    },
    {
      "cell_type": "code",
      "execution_count": 191,
      "metadata": {
        "colab": {
          "base_uri": "https://localhost:8080/"
        },
        "id": "XsQ4HuBwpIoL",
        "outputId": "0482c045-ca1b-4cc5-fa21-963cc8eeb32f"
      },
      "outputs": [
        {
          "output_type": "execute_result",
          "data": {
            "text/plain": [
              "array([54, 46, 35, 33, 48, 53, 41, 37, 44, 56, 57, 65, 63, 51, 52, 36, 38,\n",
              "       32, 34, 43, 55, 31, 42, 49, 27, 39, 59, 40, 45, 82, 29, 50, 67, 58,\n",
              "        0, 47, 30, 60, 26, 21, 62, 61, 22, 66, 71, 28, 25, 69, 24, 68, 64,\n",
              "       23, 72, 86, 75, 70, 91, 79, 20, 19, 18, 78, 77, 73, 74,  6, 80, 76,\n",
              "       81,  4, 83, 84, 88, 85, 12])"
            ]
          },
          "metadata": {},
          "execution_count": 191
        }
      ],
      "source": [
        "candidatos_goias['NR_IDADE_DATA_POSSE'].unique()"
      ]
    },
    {
      "cell_type": "markdown",
      "metadata": {
        "id": "f1nYrU3QsRUa"
      },
      "source": [
        "`Valores substituídos por zero. Já que são poucos valores e o zero não seria um valor interresante pra contabilizar, será excluido as linhas que a idade possuí zero `"
      ]
    },
    {
      "cell_type": "code",
      "execution_count": 192,
      "metadata": {
        "id": "82-KnY9zsAIo"
      },
      "outputs": [],
      "source": [
        "idade_colunas = candidatos_goias[candidatos_goias['NR_IDADE_DATA_POSSE'] == 0 ].index\n",
        "candidatos_goias.drop(idade_colunas, inplace=True)"
      ]
    },
    {
      "cell_type": "code",
      "execution_count": 193,
      "metadata": {
        "colab": {
          "base_uri": "https://localhost:8080/"
        },
        "id": "1Hc0lQ2GsthT",
        "outputId": "3703f0c1-606b-413a-92af-caf57a783241"
      },
      "outputs": [
        {
          "output_type": "execute_result",
          "data": {
            "text/plain": [
              "array([54, 46, 35, 33, 48, 53, 41, 37, 44, 56, 57, 65, 63, 51, 52, 36, 38,\n",
              "       32, 34, 43, 55, 31, 42, 49, 27, 39, 59, 40, 45, 82, 29, 50, 67, 58,\n",
              "       47, 30, 60, 26, 21, 62, 61, 22, 66, 71, 28, 25, 69, 24, 68, 64, 23,\n",
              "       72, 86, 75, 70, 91, 79, 20, 19, 18, 78, 77, 73, 74,  6, 80, 76, 81,\n",
              "        4, 83, 84, 88, 85, 12])"
            ]
          },
          "metadata": {},
          "execution_count": 193
        }
      ],
      "source": [
        "candidatos_goias['NR_IDADE_DATA_POSSE'].unique()"
      ]
    },
    {
      "cell_type": "markdown",
      "metadata": {
        "id": "4NxRWXvfsuyK"
      },
      "source": [
        "**Idade com valores 0 removidas**"
      ]
    },
    {
      "cell_type": "markdown",
      "metadata": {
        "id": "CcfdIFuaxWQp"
      },
      "source": [
        "**Excluir idade menores que 18**"
      ]
    },
    {
      "cell_type": "code",
      "execution_count": 194,
      "metadata": {
        "id": "AGW93MKWxVoW"
      },
      "outputs": [],
      "source": [
        "idade_colunas = candidatos_goias[candidatos_goias['NR_IDADE_DATA_POSSE'] < 18 ].index\n",
        "candidatos_goias.drop(idade_colunas, inplace=True)"
      ]
    },
    {
      "cell_type": "markdown",
      "metadata": {
        "id": "upn-TXlExiKP"
      },
      "source": [
        "**idade menores que 18  excluídas** "
      ]
    },
    {
      "cell_type": "code",
      "execution_count": 195,
      "metadata": {
        "colab": {
          "base_uri": "https://localhost:8080/"
        },
        "id": "lBnNeqiKxnCa",
        "outputId": "445d5d83-572d-4afb-8b10-a1c3f8775410"
      },
      "outputs": [
        {
          "output_type": "execute_result",
          "data": {
            "text/plain": [
              "array([54, 46, 35, 33, 48, 53, 41, 37, 44, 56, 57, 65, 63, 51, 52, 36, 38,\n",
              "       32, 34, 43, 55, 31, 42, 49, 27, 39, 59, 40, 45, 82, 29, 50, 67, 58,\n",
              "       47, 30, 60, 26, 21, 62, 61, 22, 66, 71, 28, 25, 69, 24, 68, 64, 23,\n",
              "       72, 86, 75, 70, 91, 79, 20, 19, 18, 78, 77, 73, 74, 80, 76, 81, 83,\n",
              "       84, 88, 85])"
            ]
          },
          "metadata": {},
          "execution_count": 195
        }
      ],
      "source": [
        "candidatos_goias['NR_IDADE_DATA_POSSE'].unique()"
      ]
    },
    {
      "cell_type": "markdown",
      "metadata": {
        "id": "iyfKunX-szlE"
      },
      "source": [
        "**Total de inscritos por faixa etária**"
      ]
    },
    {
      "cell_type": "code",
      "execution_count": 196,
      "metadata": {
        "colab": {
          "base_uri": "https://localhost:8080/",
          "height": 506
        },
        "id": "w4F7wBFDvMPU",
        "outputId": "6ed0a1e9-4ec4-43ae-8bb4-504efb6918d9"
      },
      "outputs": [
        {
          "output_type": "error",
          "ename": "ObjectNotExecutableError",
          "evalue": "ignored",
          "traceback": [
            "\u001b[0;31m---------------------------------------------------------------------------\u001b[0m",
            "\u001b[0;31mAttributeError\u001b[0m                            Traceback (most recent call last)",
            "\u001b[0;32m/usr/local/lib/python3.10/dist-packages/sqlalchemy/engine/base.py\u001b[0m in \u001b[0;36mexecute\u001b[0;34m(self, statement, parameters, execution_options)\u001b[0m\n\u001b[1;32m   1408\u001b[0m         \u001b[0;32mtry\u001b[0m\u001b[0;34m:\u001b[0m\u001b[0;34m\u001b[0m\u001b[0;34m\u001b[0m\u001b[0m\n\u001b[0;32m-> 1409\u001b[0;31m             \u001b[0mmeth\u001b[0m \u001b[0;34m=\u001b[0m \u001b[0mstatement\u001b[0m\u001b[0;34m.\u001b[0m\u001b[0m_execute_on_connection\u001b[0m\u001b[0;34m\u001b[0m\u001b[0;34m\u001b[0m\u001b[0m\n\u001b[0m\u001b[1;32m   1410\u001b[0m         \u001b[0;32mexcept\u001b[0m \u001b[0mAttributeError\u001b[0m \u001b[0;32mas\u001b[0m \u001b[0merr\u001b[0m\u001b[0;34m:\u001b[0m\u001b[0;34m\u001b[0m\u001b[0;34m\u001b[0m\u001b[0m\n",
            "\u001b[0;31mAttributeError\u001b[0m: 'str' object has no attribute '_execute_on_connection'",
            "\nThe above exception was the direct cause of the following exception:\n",
            "\u001b[0;31mObjectNotExecutableError\u001b[0m                  Traceback (most recent call last)",
            "\u001b[0;32m<ipython-input-196-33548c8990d7>\u001b[0m in \u001b[0;36m<cell line: 5>\u001b[0;34m()\u001b[0m\n\u001b[1;32m      3\u001b[0m            \u001b[0mFROM\u001b[0m \u001b[0mcandidatos_goias\u001b[0m\u001b[0;34m\u001b[0m\u001b[0;34m\u001b[0m\u001b[0m\n\u001b[1;32m      4\u001b[0m            where NR_IDADE_DATA_POSSE >= 18\"\"\"\n\u001b[0;32m----> 5\u001b[0;31m \u001b[0mps\u001b[0m\u001b[0;34m.\u001b[0m\u001b[0msqldf\u001b[0m\u001b[0;34m(\u001b[0m\u001b[0mquery\u001b[0m\u001b[0;34m.\u001b[0m\u001b[0mlower\u001b[0m\u001b[0;34m(\u001b[0m\u001b[0;34m)\u001b[0m\u001b[0;34m,\u001b[0m \u001b[0mlocals\u001b[0m\u001b[0;34m(\u001b[0m\u001b[0;34m)\u001b[0m\u001b[0;34m)\u001b[0m\u001b[0;34m\u001b[0m\u001b[0;34m\u001b[0m\u001b[0m\n\u001b[0m",
            "\u001b[0;32m/usr/local/lib/python3.10/dist-packages/pandasql/sqldf.py\u001b[0m in \u001b[0;36msqldf\u001b[0;34m(query, env, db_uri)\u001b[0m\n\u001b[1;32m    154\u001b[0m     \u001b[0;34m>>\u001b[0m\u001b[0;34m>\u001b[0m \u001b[0msqldf\u001b[0m\u001b[0;34m(\u001b[0m\u001b[0;34m\"select avg(x) from df;\"\u001b[0m\u001b[0;34m,\u001b[0m \u001b[0mlocals\u001b[0m\u001b[0;34m(\u001b[0m\u001b[0;34m)\u001b[0m\u001b[0;34m)\u001b[0m\u001b[0;34m\u001b[0m\u001b[0;34m\u001b[0m\u001b[0m\n\u001b[1;32m    155\u001b[0m     \"\"\"\n\u001b[0;32m--> 156\u001b[0;31m     \u001b[0;32mreturn\u001b[0m \u001b[0mPandaSQL\u001b[0m\u001b[0;34m(\u001b[0m\u001b[0mdb_uri\u001b[0m\u001b[0;34m)\u001b[0m\u001b[0;34m(\u001b[0m\u001b[0mquery\u001b[0m\u001b[0;34m,\u001b[0m \u001b[0menv\u001b[0m\u001b[0;34m)\u001b[0m\u001b[0;34m\u001b[0m\u001b[0;34m\u001b[0m\u001b[0m\n\u001b[0m",
            "\u001b[0;32m/usr/local/lib/python3.10/dist-packages/pandasql/sqldf.py\u001b[0m in \u001b[0;36m__call__\u001b[0;34m(self, query, env)\u001b[0m\n\u001b[1;32m     59\u001b[0m \u001b[0;34m\u001b[0m\u001b[0m\n\u001b[1;32m     60\u001b[0m             \u001b[0;32mtry\u001b[0m\u001b[0;34m:\u001b[0m\u001b[0;34m\u001b[0m\u001b[0;34m\u001b[0m\u001b[0m\n\u001b[0;32m---> 61\u001b[0;31m                 \u001b[0mresult\u001b[0m \u001b[0;34m=\u001b[0m \u001b[0mread_sql\u001b[0m\u001b[0;34m(\u001b[0m\u001b[0mquery\u001b[0m\u001b[0;34m,\u001b[0m \u001b[0mconn\u001b[0m\u001b[0;34m)\u001b[0m\u001b[0;34m\u001b[0m\u001b[0;34m\u001b[0m\u001b[0m\n\u001b[0m\u001b[1;32m     62\u001b[0m             \u001b[0;32mexcept\u001b[0m \u001b[0mDatabaseError\u001b[0m \u001b[0;32mas\u001b[0m \u001b[0mex\u001b[0m\u001b[0;34m:\u001b[0m\u001b[0;34m\u001b[0m\u001b[0;34m\u001b[0m\u001b[0m\n\u001b[1;32m     63\u001b[0m                 \u001b[0;32mraise\u001b[0m \u001b[0mPandaSQLException\u001b[0m\u001b[0;34m(\u001b[0m\u001b[0mex\u001b[0m\u001b[0;34m)\u001b[0m\u001b[0;34m\u001b[0m\u001b[0;34m\u001b[0m\u001b[0m\n",
            "\u001b[0;32m/usr/local/lib/python3.10/dist-packages/pandas/io/sql.py\u001b[0m in \u001b[0;36mread_sql\u001b[0;34m(sql, con, index_col, coerce_float, params, parse_dates, columns, chunksize)\u001b[0m\n\u001b[1;32m    588\u001b[0m         )\n\u001b[1;32m    589\u001b[0m     \u001b[0;32melse\u001b[0m\u001b[0;34m:\u001b[0m\u001b[0;34m\u001b[0m\u001b[0;34m\u001b[0m\u001b[0m\n\u001b[0;32m--> 590\u001b[0;31m         return pandas_sql.read_query(\n\u001b[0m\u001b[1;32m    591\u001b[0m             \u001b[0msql\u001b[0m\u001b[0;34m,\u001b[0m\u001b[0;34m\u001b[0m\u001b[0;34m\u001b[0m\u001b[0m\n\u001b[1;32m    592\u001b[0m             \u001b[0mindex_col\u001b[0m\u001b[0;34m=\u001b[0m\u001b[0mindex_col\u001b[0m\u001b[0;34m,\u001b[0m\u001b[0;34m\u001b[0m\u001b[0;34m\u001b[0m\u001b[0m\n",
            "\u001b[0;32m/usr/local/lib/python3.10/dist-packages/pandas/io/sql.py\u001b[0m in \u001b[0;36mread_query\u001b[0;34m(self, sql, index_col, coerce_float, parse_dates, params, chunksize, dtype)\u001b[0m\n\u001b[1;32m   1558\u001b[0m         \u001b[0margs\u001b[0m \u001b[0;34m=\u001b[0m \u001b[0m_convert_params\u001b[0m\u001b[0;34m(\u001b[0m\u001b[0msql\u001b[0m\u001b[0;34m,\u001b[0m \u001b[0mparams\u001b[0m\u001b[0;34m)\u001b[0m\u001b[0;34m\u001b[0m\u001b[0;34m\u001b[0m\u001b[0m\n\u001b[1;32m   1559\u001b[0m \u001b[0;34m\u001b[0m\u001b[0m\n\u001b[0;32m-> 1560\u001b[0;31m         \u001b[0mresult\u001b[0m \u001b[0;34m=\u001b[0m \u001b[0mself\u001b[0m\u001b[0;34m.\u001b[0m\u001b[0mexecute\u001b[0m\u001b[0;34m(\u001b[0m\u001b[0;34m*\u001b[0m\u001b[0margs\u001b[0m\u001b[0;34m)\u001b[0m\u001b[0;34m\u001b[0m\u001b[0;34m\u001b[0m\u001b[0m\n\u001b[0m\u001b[1;32m   1561\u001b[0m         \u001b[0mcolumns\u001b[0m \u001b[0;34m=\u001b[0m \u001b[0mresult\u001b[0m\u001b[0;34m.\u001b[0m\u001b[0mkeys\u001b[0m\u001b[0;34m(\u001b[0m\u001b[0;34m)\u001b[0m\u001b[0;34m\u001b[0m\u001b[0;34m\u001b[0m\u001b[0m\n\u001b[1;32m   1562\u001b[0m \u001b[0;34m\u001b[0m\u001b[0m\n",
            "\u001b[0;32m/usr/local/lib/python3.10/dist-packages/pandas/io/sql.py\u001b[0m in \u001b[0;36mexecute\u001b[0;34m(self, *args, **kwargs)\u001b[0m\n\u001b[1;32m   1403\u001b[0m     \u001b[0;32mdef\u001b[0m \u001b[0mexecute\u001b[0m\u001b[0;34m(\u001b[0m\u001b[0mself\u001b[0m\u001b[0;34m,\u001b[0m \u001b[0;34m*\u001b[0m\u001b[0margs\u001b[0m\u001b[0;34m,\u001b[0m \u001b[0;34m**\u001b[0m\u001b[0mkwargs\u001b[0m\u001b[0;34m)\u001b[0m\u001b[0;34m:\u001b[0m\u001b[0;34m\u001b[0m\u001b[0;34m\u001b[0m\u001b[0m\n\u001b[1;32m   1404\u001b[0m         \u001b[0;34m\"\"\"Simple passthrough to SQLAlchemy connectable\"\"\"\u001b[0m\u001b[0;34m\u001b[0m\u001b[0;34m\u001b[0m\u001b[0m\n\u001b[0;32m-> 1405\u001b[0;31m         \u001b[0;32mreturn\u001b[0m \u001b[0mself\u001b[0m\u001b[0;34m.\u001b[0m\u001b[0mconnectable\u001b[0m\u001b[0;34m.\u001b[0m\u001b[0mexecution_options\u001b[0m\u001b[0;34m(\u001b[0m\u001b[0;34m)\u001b[0m\u001b[0;34m.\u001b[0m\u001b[0mexecute\u001b[0m\u001b[0;34m(\u001b[0m\u001b[0;34m*\u001b[0m\u001b[0margs\u001b[0m\u001b[0;34m,\u001b[0m \u001b[0;34m**\u001b[0m\u001b[0mkwargs\u001b[0m\u001b[0;34m)\u001b[0m\u001b[0;34m\u001b[0m\u001b[0;34m\u001b[0m\u001b[0m\n\u001b[0m\u001b[1;32m   1406\u001b[0m \u001b[0;34m\u001b[0m\u001b[0m\n\u001b[1;32m   1407\u001b[0m     def read_table(\n",
            "\u001b[0;32m/usr/local/lib/python3.10/dist-packages/sqlalchemy/engine/base.py\u001b[0m in \u001b[0;36mexecute\u001b[0;34m(self, statement, parameters, execution_options)\u001b[0m\n\u001b[1;32m   1409\u001b[0m             \u001b[0mmeth\u001b[0m \u001b[0;34m=\u001b[0m \u001b[0mstatement\u001b[0m\u001b[0;34m.\u001b[0m\u001b[0m_execute_on_connection\u001b[0m\u001b[0;34m\u001b[0m\u001b[0;34m\u001b[0m\u001b[0m\n\u001b[1;32m   1410\u001b[0m         \u001b[0;32mexcept\u001b[0m \u001b[0mAttributeError\u001b[0m \u001b[0;32mas\u001b[0m \u001b[0merr\u001b[0m\u001b[0;34m:\u001b[0m\u001b[0;34m\u001b[0m\u001b[0;34m\u001b[0m\u001b[0m\n\u001b[0;32m-> 1411\u001b[0;31m             \u001b[0;32mraise\u001b[0m \u001b[0mexc\u001b[0m\u001b[0;34m.\u001b[0m\u001b[0mObjectNotExecutableError\u001b[0m\u001b[0;34m(\u001b[0m\u001b[0mstatement\u001b[0m\u001b[0;34m)\u001b[0m \u001b[0;32mfrom\u001b[0m \u001b[0merr\u001b[0m\u001b[0;34m\u001b[0m\u001b[0;34m\u001b[0m\u001b[0m\n\u001b[0m\u001b[1;32m   1412\u001b[0m         \u001b[0;32melse\u001b[0m\u001b[0;34m:\u001b[0m\u001b[0;34m\u001b[0m\u001b[0;34m\u001b[0m\u001b[0m\n\u001b[1;32m   1413\u001b[0m             return meth(\n",
            "\u001b[0;31mObjectNotExecutableError\u001b[0m: Not an executable object: 'select count(nr_idade_data_posse) as total_inscritos_idade\\n           from candidatos_goias\\n           where nr_idade_data_posse >= 18'"
          ]
        }
      ],
      "source": [
        "#Utilizando sql para cantabilizar a idade \n",
        "query = \"\"\"SELECT COUNT(NR_IDADE_DATA_POSSE) as total_inscritos_idade\n",
        "           FROM candidatos_goias\n",
        "           where NR_IDADE_DATA_POSSE >= 18\"\"\"\n",
        "ps.sqldf(query.lower(), locals())"
      ]
    },
    {
      "cell_type": "markdown",
      "metadata": {
        "id": "e2D4-T-6vcO5"
      },
      "source": [
        "**`Quantidade de inscritos por faixa etária**"
      ]
    },
    {
      "cell_type": "code",
      "execution_count": null,
      "metadata": {
        "id": "Pimp-Ou2sreR"
      },
      "outputs": [],
      "source": [
        "#Utilizando sql para cantabilizar a idade \n",
        "query = \"\"\"SELECT NR_IDADE_DATA_POSSE, COUNT(NR_IDADE_DATA_POSSE) as total_inscritos_idade\n",
        "           FROM candidatos_goias\n",
        "           where NR_IDADE_DATA_POSSE >= 18\n",
        "           GROUP BY NR_IDADE_DATA_POSSE\n",
        "           ORDER BY COUNT(NR_IDADE_DATA_POSSE) DESC\"\"\"\n",
        "ps.sqldf(query.lower(), locals())"
      ]
    },
    {
      "cell_type": "markdown",
      "metadata": {
        "id": "HiZb_OXoL6cu"
      },
      "source": [
        "**Quantidade de inscritos por faixa etaria e genero.</br> faixa etária das mulheres X homens que se candidatam**\n"
      ]
    },
    {
      "cell_type": "code",
      "execution_count": null,
      "metadata": {
        "id": "3_uU4whEMH11"
      },
      "outputs": [],
      "source": [
        "cadidato_feminino_idade = candidatos_goias[candidatos_goias['DS_GENERO'] == \"FEMININO\"]"
      ]
    },
    {
      "cell_type": "code",
      "execution_count": null,
      "metadata": {
        "id": "M-ISX-ERMQwn"
      },
      "outputs": [],
      "source": [
        "candidato_masculino_idade = candidatos_goias[candidatos_goias['DS_GENERO'] == \"MASCULINO\"]"
      ]
    },
    {
      "cell_type": "markdown",
      "metadata": {
        "id": "yZeGxAMAMrCv"
      },
      "source": [
        "**Faixa etária das mulheres que mais se candidatam**"
      ]
    },
    {
      "cell_type": "code",
      "execution_count": null,
      "metadata": {
        "id": "DFnFmCqqMqML"
      },
      "outputs": [],
      "source": [
        "#Utilizando sql para contabilizar eleitos masculino por idade\n",
        "query = \"\"\"SELECT  NR_IDADE_DATA_POSSE,COUNT(NR_IDADE_DATA_POSSE) as total_idade\n",
        "           FROM cadidato_feminino_idade\n",
        "           GROUP BY NR_IDADE_DATA_POSSE\n",
        "           ORDER BY COUNT(NR_IDADE_DATA_POSSE) DESC\n",
        "           limit 10\n",
        "           \"\"\"\n",
        "ps.sqldf(query.lower(), locals())"
      ]
    },
    {
      "cell_type": "markdown",
      "metadata": {
        "id": "ki29KWWhMuHf"
      },
      "source": [
        "**Faixa etária dos homens que mais se candidatam**"
      ]
    },
    {
      "cell_type": "code",
      "execution_count": null,
      "metadata": {
        "id": "acBNZtIRMy_d"
      },
      "outputs": [],
      "source": [
        "#Utilizando sql para contabilizar eleitos masculino por idade\n",
        "query = \"\"\"SELECT NR_IDADE_DATA_POSSE,COUNT(NR_IDADE_DATA_POSSE) as total_idade\n",
        "           FROM candidato_masculino_idade \n",
        "           GROUP BY NR_IDADE_DATA_POSSE\n",
        "           ORDER BY COUNT(NR_IDADE_DATA_POSSE) DESC\n",
        "           limit 10\n",
        "           \"\"\"\n",
        "ps.sqldf(query.lower(), locals())"
      ]
    },
    {
      "cell_type": "markdown",
      "metadata": {
        "id": "61LV8ENDu7wh"
      },
      "source": [
        "**Porcentagem de inscritos pela idade**"
      ]
    },
    {
      "cell_type": "code",
      "execution_count": null,
      "metadata": {
        "id": "BTWunjI1s9m8"
      },
      "outputs": [],
      "source": [
        "porc_inscritos_idade  = candidatos_goias['NR_IDADE_DATA_POSSE'].value_counts() / 50620 * 100 \n",
        "porc_inscritos_idade"
      ]
    },
    {
      "cell_type": "markdown",
      "metadata": {
        "id": "tPMA6ExixCLY"
      },
      "source": [
        "`Idade minima e maxima que participaram das eleições`"
      ]
    },
    {
      "cell_type": "code",
      "execution_count": null,
      "metadata": {
        "id": "FHm2edGKvFa_"
      },
      "outputs": [],
      "source": [
        "candidatos_goias['NR_IDADE_DATA_POSSE'].max()"
      ]
    },
    {
      "cell_type": "code",
      "execution_count": null,
      "metadata": {
        "id": "WgqWitklxK0J"
      },
      "outputs": [],
      "source": [
        "candidatos_goias['NR_IDADE_DATA_POSSE'].min()"
      ]
    },
    {
      "cell_type": "markdown",
      "metadata": {
        "id": "BNXzQP68yNYT"
      },
      "source": [
        "**Vamos comparar a porcentagem de candidatos por idade. idade entre 18 até 30 e de 31 até 50**"
      ]
    },
    {
      "cell_type": "code",
      "execution_count": null,
      "metadata": {
        "id": "9XvuxLiax0Zg"
      },
      "outputs": [],
      "source": [
        "#Utilizando sql para cantabilizar a idade de 18 até 30 \n",
        "query = \"\"\"SELECT COUNT(NR_IDADE_DATA_POSSE) as total_inscritos_idade\n",
        "           FROM candidatos_goias\n",
        "           where NR_IDADE_DATA_POSSE >= 18 and NR_IDADE_DATA_POSSE <=30\n",
        "           \"\"\"\n",
        "ps.sqldf(query.lower(), locals())"
      ]
    },
    {
      "cell_type": "code",
      "execution_count": null,
      "metadata": {
        "id": "_f-5uIwDzl4M"
      },
      "outputs": [],
      "source": [
        "#Porcentagem \n",
        "porc_idade = (6115/ 50620) * 100\n",
        "print('A porcentagem por idade entre 18 até 30 é: {:.2f}'.format(porc_idade))\n"
      ]
    },
    {
      "cell_type": "code",
      "execution_count": null,
      "metadata": {
        "id": "0zyYb5FCyoRI"
      },
      "outputs": [],
      "source": [
        "#Utilizando sql para cantabilizar a idade de 18 até 30 \n",
        "query = \"\"\"SELECT COUNT(NR_IDADE_DATA_POSSE) as total_inscritos_idade\n",
        "           FROM candidatos_goias\n",
        "           where NR_IDADE_DATA_POSSE >= 31 and NR_IDADE_DATA_POSSE <=50\n",
        "           \"\"\"\n",
        "ps.sqldf(query.lower(), locals())"
      ]
    },
    {
      "cell_type": "code",
      "execution_count": null,
      "metadata": {
        "id": "3B8Kh9zty9Yb"
      },
      "outputs": [],
      "source": [
        "#Porcentagem \n",
        "porc_idade = (33604/50620) * 100\n",
        "print('A porcentagem por idade entre 31 até 50 é: {:.2f}'.format(porc_idade))"
      ]
    },
    {
      "cell_type": "markdown",
      "metadata": {
        "id": "oG-ymCKQ1onW"
      },
      "source": [
        "**Analisando a quantidade de mulheres X homens candidatos**"
      ]
    },
    {
      "cell_type": "code",
      "execution_count": null,
      "metadata": {
        "id": "qUD5UYm32Q8u"
      },
      "outputs": [],
      "source": [
        "candidatos_goias['DS_GENERO'].unique()"
      ]
    },
    {
      "cell_type": "code",
      "execution_count": null,
      "metadata": {
        "id": "jKsBOSLf08Rp"
      },
      "outputs": [],
      "source": [
        "#Utilizando sql para cantabilizar por genero/candidatos\n",
        "query = \"\"\"SELECT DS_GENERO,COUNT(DS_GENERO) as total_inscritos_genero\n",
        "           FROM candidatos_goias\n",
        "           GROUP BY DS_GENERO\n",
        "           ORDER BY COUNT(DS_GENERO) DESC\"\"\"\n",
        "ps.sqldf(query.lower(), locals())"
      ]
    },
    {
      "cell_type": "markdown",
      "metadata": {
        "id": "HycMnYrt2iq0"
      },
      "source": [
        "**Gráfico candidatos Mulheres X homens**"
      ]
    },
    {
      "cell_type": "code",
      "execution_count": null,
      "metadata": {
        "id": "D23ykm-n2MT7"
      },
      "outputs": [],
      "source": [
        "fig = plt.figure(figsize=(10,5))\n",
        "grafico = sns.countplot('DS_GENERO', order = candidatos_goias['DS_GENERO'].value_counts().index, palette=\"Paired\",  data =  candidatos_goias)\n",
        "plt.xticks(rotation=90)\n",
        "for i in grafico.patches:\n",
        "   grafico.annotate(i.get_height(),\n",
        "                  (i.get_x() + i.get_width() / 2, i.get_height()),\n",
        "                  ha='center',\n",
        "                  va='baseline',\n",
        "                  fontsize=12,\n",
        "                  color='black',\n",
        "                  xytext=(0, 1),\n",
        "                  textcoords='offset points');  \n",
        "plt.xlabel('Genero', fontsize=15)\n",
        "plt.ylabel(' ')\n",
        "plt.title('Grafico quantidade por Genero',fontsize=15);"
      ]
    },
    {
      "cell_type": "markdown",
      "metadata": {
        "id": "PqDv26Dk23yy"
      },
      "source": [
        "**Porcentagem de inscritos por genero**"
      ]
    },
    {
      "cell_type": "code",
      "execution_count": null,
      "metadata": {
        "id": "F4JM4qnW3CrW"
      },
      "outputs": [],
      "source": [
        "#Total inscritos por genero\n",
        "candidatos_goias['DS_GENERO'].count()"
      ]
    },
    {
      "cell_type": "code",
      "execution_count": null,
      "metadata": {
        "id": "ChgikeVxB_U4"
      },
      "outputs": [],
      "source": [
        "#Quantidade de inscritos por genero\n",
        "candidatos_goias['DS_GENERO'].value_counts()"
      ]
    },
    {
      "cell_type": "code",
      "execution_count": null,
      "metadata": {
        "id": "Cvu3zjoX23b4"
      },
      "outputs": [],
      "source": [
        "#Porcentagem de inscritos por genero\n",
        "porc_inscritos_genero = candidatos_goias['DS_GENERO'].value_counts() / 50620 * 100 \n",
        "porc_inscritos_genero"
      ]
    },
    {
      "cell_type": "markdown",
      "metadata": {
        "id": "1PjGdoCmEc0i"
      },
      "source": [
        "**As porcentagens de inscritos por genero dos  dados representada em um grafico de  pizza de 100%**"
      ]
    },
    {
      "cell_type": "code",
      "execution_count": null,
      "metadata": {
        "id": "t2qjfQfHEKy4"
      },
      "outputs": [],
      "source": [
        "labels = ['FEMININO','MASCULINO']\n",
        "media = [19.591,79.168]\n",
        "colores = ((1.0, 0.0, .40), (0.0, .40, 1.0), (.40, 1.0, .20))\n",
        "fig, ax = plt.subplots(figsize=(12, 5))\n",
        "\n",
        "ax.pie(media, labels=labels,autopct = '%.1f%%',colors = colores)\n",
        "ax.set_title('Media de inscritos por genero Mulher X Homen', fontsize=16)\n",
        "plt.show()"
      ]
    },
    {
      "cell_type": "markdown",
      "metadata": {
        "id": "9Oat8vjaCX7w"
      },
      "source": [
        "**Qual tipo de eleições mulheres x homens mais se inscreveram**"
      ]
    },
    {
      "cell_type": "markdown",
      "metadata": {
        "id": "3MM_CYGHEiZt"
      },
      "source": [
        "`Eleições que as mulheres mais se candidata`"
      ]
    },
    {
      "cell_type": "code",
      "execution_count": null,
      "metadata": {
        "id": "k16vx6AqCf6m"
      },
      "outputs": [],
      "source": [
        "abragencia_feminino = candidatos_goias[candidatos_goias['DS_GENERO'] == \"FEMININO\"]\n",
        "abragencia_feminino['TP_ABRANGENCIA'].value_counts()"
      ]
    },
    {
      "cell_type": "markdown",
      "metadata": {
        "id": "KBRmcF2VEme1"
      },
      "source": [
        "`Eleições que os homens mais se candidata`"
      ]
    },
    {
      "cell_type": "code",
      "execution_count": null,
      "metadata": {
        "id": "9VhzeaHIEqws"
      },
      "outputs": [],
      "source": [
        "abragencia_masculino = candidatos_goias[candidatos_goias['DS_GENERO'] == \"MASCULINO\"]\n",
        "abragencia_masculino['TP_ABRANGENCIA'].value_counts()"
      ]
    },
    {
      "cell_type": "markdown",
      "metadata": {
        "id": "MKmnQrcKE70O"
      },
      "source": [
        "**Qual tipo de eleições as mulheres x homens mais são eleitos**"
      ]
    },
    {
      "cell_type": "markdown",
      "metadata": {
        "id": "4eZ5M4kKFC_c"
      },
      "source": [
        "`Tipo de eleições que as mulheres mais ganham`"
      ]
    },
    {
      "cell_type": "code",
      "execution_count": null,
      "metadata": {
        "id": "qFt7tov0FHF7"
      },
      "outputs": [],
      "source": [
        "abragencia_feminino_eleita = candidatos_goias[candidatos_goias['DS_GENERO'] == \"FEMININO\"]\n",
        "abragencia_feminino_eleita = abragencia_feminino_eleita[abragencia_feminino_eleita['DS_SIT_TOT_TURNO'] == \"ELEITO\"]\n",
        "abragencia_feminino_eleita['TP_ABRANGENCIA'].value_counts()"
      ]
    },
    {
      "cell_type": "markdown",
      "metadata": {
        "id": "9XqYg0zxFzkq"
      },
      "source": [
        "`Tipo de eleições que os homens mais ganham `"
      ]
    },
    {
      "cell_type": "code",
      "execution_count": null,
      "metadata": {
        "id": "Kyz1YhlyF2zi"
      },
      "outputs": [],
      "source": [
        "abragencia_masculino_eleita = candidatos_goias[candidatos_goias['DS_GENERO'] == \"MASCULINO\"]\n",
        "abragencia_masculino_eleita = abragencia_masculino_eleita[abragencia_masculino_eleita['DS_SIT_TOT_TURNO'] == \"ELEITO\"]\n",
        "abragencia_masculino_eleita['TP_ABRANGENCIA'].value_counts()"
      ]
    },
    {
      "cell_type": "markdown",
      "metadata": {
        "id": "rXYviLqyGFYt"
      },
      "source": [
        "**Qual partido mais tem mulhere X homens candidata**"
      ]
    },
    {
      "cell_type": "markdown",
      "metadata": {
        "id": "Wz_8cZJ6GK4g"
      },
      "source": [
        "`partidos que mais tem mulheres candidatas `"
      ]
    },
    {
      "cell_type": "code",
      "execution_count": null,
      "metadata": {
        "id": "NifN9byrGS3u"
      },
      "outputs": [],
      "source": [
        "partido_feminino_candidata = candidatos_goias[candidatos_goias['DS_GENERO'] == \"FEMININO\"]\n",
        "partido_feminino_candidata['SG_PARTIDO'].value_counts()"
      ]
    },
    {
      "cell_type": "markdown",
      "metadata": {
        "id": "UIM2HZ_pHW2T"
      },
      "source": [
        "`Partidos que mais tem homens candidatos`"
      ]
    },
    {
      "cell_type": "code",
      "execution_count": null,
      "metadata": {
        "id": "QTGm2zuDHaMZ"
      },
      "outputs": [],
      "source": [
        "partido_masculino_candidata = candidatos_goias[candidatos_goias['DS_GENERO'] == \"MASCULINO\"]\n",
        "partido_masculino_candidata['SG_PARTIDO'].value_counts()"
      ]
    },
    {
      "cell_type": "markdown",
      "metadata": {
        "id": "FGFAfxd93PfM"
      },
      "source": [
        "`Já que foi contabilizado a quantidade de inscritos por genero e a porcentagem. Comparar quantidade que vence a eleição por genero `"
      ]
    },
    {
      "cell_type": "markdown",
      "metadata": {
        "id": "Aqq3WBWQ7t6j"
      },
      "source": [
        "**Quantidade de mulheres X homens que ganharam as eleições**"
      ]
    },
    {
      "cell_type": "code",
      "execution_count": null,
      "metadata": {
        "id": "gMz5eZt73NNv"
      },
      "outputs": [],
      "source": [
        "eleito = candidatos_goias[candidatos_goias['DS_SIT_TOT_TURNO'] == \"ELEITO\"]\n",
        "eleito_feminino = eleito[eleito['DS_GENERO'] == \"FEMININO\"]\n",
        "quantidade = eleito_feminino['DS_GENERO'].count()\n",
        "print('Quantidade de mulheres que ganharam as eleiçoes : {:.0f}'.format(quantidade))"
      ]
    },
    {
      "cell_type": "code",
      "execution_count": null,
      "metadata": {
        "id": "juVCXM1j4GQV"
      },
      "outputs": [],
      "source": [
        "eleito = candidatos_goias[candidatos_goias['DS_SIT_TOT_TURNO'] == \"ELEITO\"]\n",
        "eleito_masculino = eleito[eleito['DS_GENERO'] == \"MASCULINO\"]\n",
        "quantidade = eleito_masculino['DS_GENERO'].count()\n",
        "print('Quantidade de homens que ganharam as eleiçoes : {:.0f}'.format(quantidade))"
      ]
    },
    {
      "cell_type": "markdown",
      "metadata": {
        "id": "Ut3wUMT47zGj"
      },
      "source": [
        "**Porcentagem de mulheres X homens que ganharam as eleições pelo total de inscritos geral**"
      ]
    },
    {
      "cell_type": "code",
      "execution_count": null,
      "metadata": {
        "id": "RWB7zl4d7mCG"
      },
      "outputs": [],
      "source": [
        "porcentagem_f =  (773/50620) * 100\n",
        "print('Porcentagem de mulheres que ganharam as eleiçoes : {:.2f}'.format(porcentagem_f))"
      ]
    },
    {
      "cell_type": "code",
      "execution_count": null,
      "metadata": {
        "id": "hvxti5jA8FC-"
      },
      "outputs": [],
      "source": [
        "porcentagem_m =  (5643/50620) * 100\n",
        "print('Porcentagem de homens que ganharam as eleiçoes : {:.2f}'.format(porcentagem_m))"
      ]
    },
    {
      "cell_type": "markdown",
      "metadata": {
        "id": "tJHcAcXgByH0"
      },
      "source": [
        "**Porcentagem de eleitos mulheres x homens Pela quantidade de inscritos de cada genero**</br>\n",
        "`Total de mulheres e homens inscritos pelo total que foram eleitos`\n",
        "\n"
      ]
    },
    {
      "cell_type": "code",
      "execution_count": null,
      "metadata": {
        "id": "uf-dBP8AB5QY"
      },
      "outputs": [],
      "source": [
        "porcentagem_f_inscritas =  (773/9917) * 100\n",
        "print('Porcentagem de mulheres que ganharam as eleiçoes : {:.2f}'.format(porcentagem_f_inscritas))"
      ]
    },
    {
      "cell_type": "code",
      "execution_count": null,
      "metadata": {
        "id": "ewRpJ1VCDx4I"
      },
      "outputs": [],
      "source": [
        "porcentagem_m_inscritas =  (5643/40075) * 100\n",
        "print('Porcentagem de mulheres que ganharam as eleiçoes : {:.2f}'.format(porcentagem_m_inscritas))"
      ]
    },
    {
      "cell_type": "markdown",
      "metadata": {
        "id": "pgRoy9Z2-nHb"
      },
      "source": [
        "**As porcentagens dos dados dos eleitos por genero pela quantidade de inscritos </br> por genero representada em um grafico de  pizza de 100%**"
      ]
    },
    {
      "cell_type": "code",
      "execution_count": null,
      "metadata": {
        "id": "-FkaXych8NqO"
      },
      "outputs": [],
      "source": [
        "labels = ['FEMININO','MASCULINO']\n",
        "media = [7.79,14.08]\n",
        "colores = ((1.0, 0.0, .40), (0.0, .40, 1.0), (.40, 1.0, .20))\n",
        "fig, ax = plt.subplots(figsize=(12, 5))\n",
        "\n",
        "ax.pie(media, labels=labels,autopct = '%.1f%%',colors = colores)\n",
        "ax.set_title('Media de eleitos por genero Mulher X Homen', fontsize=16)\n",
        "plt.show()"
      ]
    },
    {
      "cell_type": "markdown",
      "metadata": {
        "id": "MsuOXxdl_htL"
      },
      "source": [
        "**Faixa etaria das mulheres  e dos homens que ganharam eleições** "
      ]
    },
    {
      "cell_type": "code",
      "execution_count": null,
      "metadata": {
        "id": "BWWQfUvf_9PC"
      },
      "outputs": [],
      "source": [
        "eleito = candidatos_goias[candidatos_goias['DS_SIT_TOT_TURNO'] == \"ELEITO\"]\n",
        "eleito_feminino = eleito[eleito['DS_GENERO'] == \"FEMININO\"]\n"
      ]
    },
    {
      "cell_type": "code",
      "execution_count": null,
      "metadata": {
        "id": "922VsWytLEV0"
      },
      "outputs": [],
      "source": [
        "eleito = candidatos_goias[candidatos_goias['DS_SIT_TOT_TURNO'] == \"ELEITO\"]\n",
        "eleito_masculino = eleito[eleito['DS_GENERO'] == \"MASCULINO\"]"
      ]
    },
    {
      "cell_type": "markdown",
      "metadata": {
        "id": "tAOo-HCcK161"
      },
      "source": [
        "**TOP 10 mulheres que mais foram eleitas pela faixa etária**"
      ]
    },
    {
      "cell_type": "code",
      "execution_count": null,
      "metadata": {
        "id": "znf3lO0AJea-"
      },
      "outputs": [],
      "source": [
        "#Utilizando sql para contabilizar eleitos masculino por idade\n",
        "query = \"\"\"SELECT NR_IDADE_DATA_POSSE, COUNT(NR_IDADE_DATA_POSSE) as total_idade\n",
        "           FROM eleito_feminino\n",
        "           GROUP BY NR_IDADE_DATA_POSSE\n",
        "           ORDER BY COUNT(NR_IDADE_DATA_POSSE) DESC\n",
        "           limit 10\n",
        "           \"\"\"\n",
        "ps.sqldf(query.lower(), locals())"
      ]
    },
    {
      "cell_type": "markdown",
      "metadata": {
        "id": "0JbmX_tMLMdm"
      },
      "source": [
        "**TOP 10 homens que mais foram eleitos pela faixa etária**"
      ]
    },
    {
      "cell_type": "code",
      "execution_count": null,
      "metadata": {
        "id": "C5jio-_WKKU6"
      },
      "outputs": [],
      "source": [
        "#Utilizando sql para contabilizar eleitos masculino por idade\n",
        "query = \"\"\"SELECT NR_IDADE_DATA_POSSE, COUNT(NR_IDADE_DATA_POSSE) as total_idade \n",
        "           FROM eleito_masculino\n",
        "           GROUP BY NR_IDADE_DATA_POSSE\n",
        "           ORDER BY COUNT(NR_IDADE_DATA_POSSE) DESC\n",
        "           limit 10\"\"\"\n",
        "ps.sqldf(query.lower(), locals())"
      ]
    },
    {
      "cell_type": "markdown",
      "metadata": {
        "id": "kN9gBo1QH0id"
      },
      "source": [
        "**Qual partido mais elegeu**"
      ]
    },
    {
      "cell_type": "markdown",
      "metadata": {
        "id": "GEbIqtlUrfDZ"
      },
      "source": [
        "`Qual partido mais elegeu `"
      ]
    },
    {
      "cell_type": "code",
      "execution_count": null,
      "metadata": {
        "id": "ufCKqjJhrci_"
      },
      "outputs": [],
      "source": [
        "eleito_partido = candidatos_goias[candidatos_goias['DS_SIT_TOT_TURNO'] == \"ELEITO\"]"
      ]
    },
    {
      "cell_type": "code",
      "execution_count": null,
      "metadata": {
        "id": "vEk7cLEPrpbp"
      },
      "outputs": [],
      "source": [
        "#Utilizando sql para o partido que mais elegeu\n",
        "query = \"\"\"SELECT SG_PARTIDO, COUNT(SG_PARTIDO) as eleitos\n",
        "           FROM eleito_partido\n",
        "           GROUP BY SG_PARTIDO\n",
        "           ORDER BY COUNT(SG_PARTIDO) DESC\n",
        "           \"\"\"\n",
        "ps.sqldf(query.lower(), locals())"
      ]
    },
    {
      "cell_type": "markdown",
      "metadata": {
        "id": "94HrCZ5_rhzR"
      },
      "source": [
        "**Qual partido mais elegeu mulheres X homens**"
      ]
    },
    {
      "cell_type": "code",
      "execution_count": null,
      "metadata": {
        "id": "D2f-bpRiH_oC"
      },
      "outputs": [],
      "source": [
        "eleito_partido = candidatos_goias[candidatos_goias['DS_SIT_TOT_TURNO'] == \"ELEITO\"]\n",
        "eleito_feminino_partido = eleito_partido[eleito_partido['DS_GENERO'] == \"FEMININO\"]"
      ]
    },
    {
      "cell_type": "code",
      "execution_count": null,
      "metadata": {
        "id": "t9MZzndKIyNw"
      },
      "outputs": [],
      "source": [
        "eleito_partido = candidatos_goias[candidatos_goias['DS_SIT_TOT_TURNO'] == \"ELEITO\"]\n",
        "eleito_masculino_partido = eleito_partido[eleito_partido['DS_GENERO'] == \"MASCULINO\"]"
      ]
    },
    {
      "cell_type": "markdown",
      "metadata": {
        "id": "BMdo6lYdIuO_"
      },
      "source": [
        "`Partido que mais elegeu mulheres`"
      ]
    },
    {
      "cell_type": "code",
      "execution_count": null,
      "metadata": {
        "id": "Mg2HbDjvLcMo"
      },
      "outputs": [],
      "source": [
        "#Utilizando sql para contabilizar eleitos masculino por idade\n",
        "query = \"\"\"SELECT SG_PARTIDO, COUNT(SG_PARTIDO) as eleitos\n",
        "           FROM eleito_feminino_partido\n",
        "           GROUP BY SG_PARTIDO\n",
        "           ORDER BY COUNT(SG_PARTIDO) DESC\n",
        "           \"\"\"\n",
        "ps.sqldf(query.lower(), locals())"
      ]
    },
    {
      "cell_type": "markdown",
      "metadata": {
        "id": "-v86vG-iJDRY"
      },
      "source": [
        "`Partido que mais elegeu homens`"
      ]
    },
    {
      "cell_type": "code",
      "execution_count": null,
      "metadata": {
        "id": "kqRBZrZTIoDZ"
      },
      "outputs": [],
      "source": [
        "#Utilizando sql para contabilizar eleitos masculino por idade\n",
        "query = \"\"\"SELECT SG_PARTIDO, COUNT(SG_PARTIDO) as eleitos\n",
        "           FROM eleito_masculino_partido\n",
        "           GROUP BY SG_PARTIDO\n",
        "           ORDER BY COUNT(SG_PARTIDO) DESC\n",
        "           \"\"\"\n",
        "ps.sqldf(query.lower(), locals())"
      ]
    },
    {
      "cell_type": "markdown",
      "metadata": {
        "id": "lMbBizeVJmQF"
      },
      "source": [
        "**Gráfico do nivel de escolaridade de quem mais ganha eleições**"
      ]
    },
    {
      "cell_type": "code",
      "execution_count": null,
      "metadata": {
        "id": "elPGJhu8J16n"
      },
      "outputs": [],
      "source": [
        "eleito_escolaridade = candidatos_goias[candidatos_goias['DS_SIT_TOT_TURNO'] == \"ELEITO\"]"
      ]
    },
    {
      "cell_type": "code",
      "execution_count": null,
      "metadata": {
        "id": "Ftn039PoJAwJ"
      },
      "outputs": [],
      "source": [
        "fig = plt.figure(figsize=(10,5))\n",
        "grafico = sns.countplot('DS_GRAU_INSTRUCAO', order = eleito_escolaridade['DS_GRAU_INSTRUCAO'].value_counts().index, palette=\"Paired\",  data =  eleito_escolaridade)\n",
        "plt.xticks(rotation=90)\n",
        "for i in grafico.patches:\n",
        "   grafico.annotate(i.get_height(),\n",
        "                  (i.get_x() + i.get_width() / 2, i.get_height()),\n",
        "                  ha='center',\n",
        "                  va='baseline',\n",
        "                  fontsize=12,\n",
        "                  color='black',\n",
        "                  xytext=(0, 1),\n",
        "                  textcoords='offset points');  \n",
        "plt.xlabel('Escolaridade', fontsize=15)\n",
        "plt.ylabel(' ')\n",
        "plt.title('Grafico quantidade por  escolaridade',fontsize=15);"
      ]
    },
    {
      "cell_type": "markdown",
      "metadata": {
        "id": "vvAUhWuvKPbB"
      },
      "source": [
        "**Porcentagem de escolaridade por genero de quem mais ganha eleições**"
      ]
    },
    {
      "cell_type": "code",
      "execution_count": null,
      "metadata": {
        "id": "B86LF3CMK90z"
      },
      "outputs": [],
      "source": [
        "porc_escolaridade = candidatos_goias[candidatos_goias['DS_SIT_TOT_TURNO'] == \"ELEITO\"]\n",
        "porc_escolaridade['DS_GRAU_INSTRUCAO'].value_counts()/ porc_escolaridade['DS_GRAU_INSTRUCAO'].count()*100"
      ]
    },
    {
      "cell_type": "markdown",
      "metadata": {
        "id": "9CnSg06Ha0oW"
      },
      "source": [
        "**Crescimento de candidatos inscritos nas eleições**"
      ]
    },
    {
      "cell_type": "code",
      "execution_count": null,
      "metadata": {
        "id": "ghu3vPbIbIzm"
      },
      "outputs": [],
      "source": [
        "candidatos_goias.groupby(\"ANO_ELEICAO\",sort=True)[\"ANO_ELEICAO\"].count()"
      ]
    },
    {
      "cell_type": "markdown",
      "metadata": {
        "id": "zLmS1t4YdE1N"
      },
      "source": [
        "**Crescimento de mulheres x homens candidatos a eleições**"
      ]
    },
    {
      "cell_type": "markdown",
      "metadata": {
        "id": "yHiQcjzVgx1N"
      },
      "source": [
        "`Quantidade de mulheres canditadas nas eleições no decorrer dos anos`"
      ]
    },
    {
      "cell_type": "code",
      "execution_count": null,
      "metadata": {
        "id": "qHDEAh9pdA7P"
      },
      "outputs": [],
      "source": [
        "candidatos_eleicao_crescimento_genero_feminino = candidatos_goias[candidatos_goias['DS_GENERO'] == \"FEMININO\"]\n",
        "candidatos_eleicao_crescimento_genero_feminino = candidatos_eleicao_crescimento_genero_feminino.groupby([\"DS_GENERO\", \"ANO_ELEICAO\"], as_index=False)[\"DS_GENERO\"].count()\n",
        "candidatos_eleicao_crescimento_genero_feminino = candidatos_eleicao_crescimento_genero_feminino.sort_values(by='DS_GENERO', ascending=False)\n",
        "candidatos_eleicao_crescimento_genero_feminino = candidatos_eleicao_crescimento_genero_feminino.rename(columns={'DS_GENERO': 'FEMININO'})\n",
        "candidatos_eleicao_crescimento_genero_feminino"
      ]
    },
    {
      "cell_type": "markdown",
      "metadata": {
        "id": "0QWgRhETg8Lx"
      },
      "source": [
        "`Quantidade de homens canditados nas eleições no decorrer dos anos`"
      ]
    },
    {
      "cell_type": "code",
      "execution_count": null,
      "metadata": {
        "id": "i3-QYmW8hAR0"
      },
      "outputs": [],
      "source": [
        "candidatos_eleicao_crescimento_genero_masculino = candidatos_goias[candidatos_goias['DS_GENERO'] == \"MASCULINO\"]\n",
        "candidatos_eleicao_crescimento_genero_masculino = candidatos_eleicao_crescimento_genero_masculino.groupby([\"DS_GENERO\", \"ANO_ELEICAO\"], as_index=False)[\"DS_GENERO\"].count()\n",
        "candidatos_eleicao_crescimento_genero_masculino = candidatos_eleicao_crescimento_genero_masculino.sort_values(by='DS_GENERO', ascending=False)\n",
        "candidatos_eleicao_crescimento_genero_masculino = candidatos_eleicao_crescimento_genero_masculino.rename(columns={'DS_GENERO': 'MASCULINO'})\n",
        "candidatos_eleicao_crescimento_genero_masculino"
      ]
    },
    {
      "cell_type": "code",
      "execution_count": null,
      "metadata": {
        "id": "Sgko1w7jj9xB"
      },
      "outputs": [],
      "source": []
    },
    {
      "cell_type": "markdown",
      "metadata": {
        "id": "hufJgsjUhsd7"
      },
      "source": [
        "**Qual ano as mulheres X homens mais ganharam eleições**"
      ]
    },
    {
      "cell_type": "markdown",
      "metadata": {
        "id": "IwDxiweIkgfI"
      },
      "source": [
        "`Quantidade de mulheres eleitas no decorrer dos anos`"
      ]
    },
    {
      "cell_type": "code",
      "execution_count": null,
      "metadata": {
        "id": "3GDMsYdZkF9D"
      },
      "outputs": [],
      "source": [
        "eleito_partido = candidatos_goias[candidatos_goias['DS_SIT_TOT_TURNO'] == \"ELEITO\"]\n",
        "eleito_feminino_partido = eleito_partido[eleito_partido['DS_GENERO'] == \"FEMININO\"]"
      ]
    },
    {
      "cell_type": "code",
      "execution_count": null,
      "metadata": {
        "id": "ic_JT1Y3hxMt"
      },
      "outputs": [],
      "source": [
        "#Utilizando sql para contabilizar qual ano de eleições as mulheres mais ganharam\n",
        "query = \"\"\"SELECT DS_GENERO,ANO_ELEICAO, COUNT(ANO_ELEICAO) as eleitos\n",
        "           FROM eleito_feminino_partido\n",
        "           GROUP BY ANO_ELEICAO\n",
        "           ORDER BY COUNT(ANO_ELEICAO) DESC\n",
        "           \"\"\"\n",
        "ps.sqldf(query.lower(), locals())"
      ]
    },
    {
      "cell_type": "markdown",
      "metadata": {
        "id": "sPs2xWunlNHz"
      },
      "source": [
        "`Quantidade de homens eleitos no decorrer dos anos`"
      ]
    },
    {
      "cell_type": "code",
      "execution_count": null,
      "metadata": {
        "id": "n2LovVnRklgm"
      },
      "outputs": [],
      "source": [
        "eleito_partido = candidatos_goias[candidatos_goias['DS_SIT_TOT_TURNO'] == \"ELEITO\"]\n",
        "eleito_masculino_partido = eleito_partido[eleito_partido['DS_GENERO'] == \"MASCULINO\"]"
      ]
    },
    {
      "cell_type": "code",
      "execution_count": null,
      "metadata": {
        "id": "OHX_ZiwZk6uM"
      },
      "outputs": [],
      "source": [
        "#Utilizando sql para contabilizar qual ano de eleições as mulheres mais ganharam\n",
        "query = \"\"\"SELECT DS_GENERO,ANO_ELEICAO, COUNT(ANO_ELEICAO) as eleitos\n",
        "           FROM eleito_masculino_partido\n",
        "           GROUP BY ANO_ELEICAO\n",
        "           ORDER BY COUNT(ANO_ELEICAO) DESC\n",
        "           \"\"\"\n",
        "ps.sqldf(query.lower(), locals())"
      ]
    },
    {
      "cell_type": "markdown",
      "metadata": {
        "id": "C7FXhfwjZPUp"
      },
      "source": [
        "**Qual partido mais gastou com candidaturas**"
      ]
    },
    {
      "cell_type": "code",
      "execution_count": null,
      "metadata": {
        "id": "kZwduxo4a-Bb"
      },
      "outputs": [],
      "source": [
        "#Utilizando sql para contabilizar qual partidos mais gasta com campanhas\n",
        "query = \"\"\"SELECT SG_PARTIDO as sigla_partido,SUM(VR_DESPESA_MAX_CAMPANHA) total_gastos_eleicao\n",
        "           FROM candidatos_goias\n",
        "           GROUP BY SG_PARTIDO\n",
        "           ORDER BY SUM(VR_DESPESA_MAX_CAMPANHA) DESC\n",
        "           \"\"\"\n",
        "ps.sqldf(query.lower(), locals())"
      ]
    },
    {
      "cell_type": "markdown",
      "metadata": {
        "id": "IxKdmT9XunR-"
      },
      "source": [
        "**Total gasto em campanhas por ano**"
      ]
    },
    {
      "cell_type": "code",
      "execution_count": null,
      "metadata": {
        "id": "T_vT4Wq1uqgY"
      },
      "outputs": [],
      "source": [
        "#Utilizando sql para contabilizar qual partidos mais gasta com campanhas\n",
        "query = \"\"\"SELECT ANO_ELEICAO,SUM(VR_DESPESA_MAX_CAMPANHA) total_gastos_eleicao\n",
        "           FROM candidatos_goias\n",
        "           GROUP BY ANO_ELEICAO\n",
        "           ORDER BY SUM(VR_DESPESA_MAX_CAMPANHA) DESC\n",
        "           \"\"\"\n",
        "ps.sqldf(query.lower(), locals())"
      ]
    },
    {
      "cell_type": "markdown",
      "metadata": {
        "id": "SyNbPjg_vAV0"
      },
      "source": [
        "**Gráfico de linha de gastos em campanhas por ano**"
      ]
    },
    {
      "cell_type": "code",
      "execution_count": null,
      "metadata": {
        "id": "q4KFOY6uvD5e"
      },
      "outputs": [],
      "source": [
        "plt.figure(figsize=(13,5))\n",
        "sns.lineplot(x=candidatos_goias['ANO_ELEICAO'],y=candidatos_goias['VR_DESPESA_MAX_CAMPANHA'], color='green')\n",
        "plt.xlabel('GASTOS CAMPANHA')\n",
        "plt.ylabel('ANO ELEICAO')\n",
        "plt.show()"
      ]
    },
    {
      "cell_type": "markdown",
      "metadata": {
        "id": "Uda0NEzJtHor"
      },
      "source": [
        "**Top 10 dos partidos que mais gastam com campanhas**"
      ]
    },
    {
      "cell_type": "code",
      "execution_count": null,
      "metadata": {
        "id": "ZgN_AvRGqC0R"
      },
      "outputs": [],
      "source": [
        "#Utilizando sql para contabilizar qual partidos mais gasta com campanhas\n",
        "query = \"\"\"SELECT SG_PARTIDO as sigla_partido,SUM(VR_DESPESA_MAX_CAMPANHA) total_gastos_eleicao\n",
        "           FROM candidatos_goias\n",
        "           GROUP BY SG_PARTIDO\n",
        "           ORDER BY SUM(VR_DESPESA_MAX_CAMPANHA) DESC\n",
        "           LIMIT 10\n",
        "           \"\"\"\n",
        "ps.sqldf(query.lower(), locals())"
      ]
    },
    {
      "cell_type": "markdown",
      "metadata": {
        "id": "XaM45dQ6sBh1"
      },
      "source": [
        "**Gasto dos partidos em campanhas por genero**"
      ]
    },
    {
      "cell_type": "markdown",
      "metadata": {
        "id": "Krr4_0OrsG-v"
      },
      "source": [
        "`Gasto dos partidos em campanhas genero feminino`"
      ]
    },
    {
      "cell_type": "code",
      "execution_count": null,
      "metadata": {
        "id": "rIDvy_SOtOTC"
      },
      "outputs": [],
      "source": [
        "gasto_partido_feminino = candidatos_goias[candidatos_goias['DS_GENERO'] == \"FEMININO\"]"
      ]
    },
    {
      "cell_type": "code",
      "execution_count": null,
      "metadata": {
        "id": "87rChwuWsq-5"
      },
      "outputs": [],
      "source": [
        "plt.figure(figsize=(13,5))\n",
        "sns.lineplot(x=gasto_partido_feminino['ANO_ELEICAO'],y=gasto_partido_feminino['VR_DESPESA_MAX_CAMPANHA'], color='pink')\n",
        "plt.xlabel('Avg price')\n",
        "plt.ylabel('years')\n",
        "plt.show()"
      ]
    },
    {
      "cell_type": "markdown",
      "metadata": {
        "id": "FKhKeo3pt5Tt"
      },
      "source": [
        "`Gasto dos partidos em campanhas genero Masculino`"
      ]
    },
    {
      "cell_type": "code",
      "execution_count": null,
      "metadata": {
        "id": "xKx5JDRgtCyr"
      },
      "outputs": [],
      "source": [
        "gasto_partido_masculino = candidatos_goias[candidatos_goias['DS_GENERO'] == \"MASCULINO\"]"
      ]
    },
    {
      "cell_type": "code",
      "execution_count": null,
      "metadata": {
        "id": "YNp6NO1utJWn"
      },
      "outputs": [],
      "source": [
        "plt.figure(figsize=(13,5))\n",
        "sns.lineplot(x=gasto_partido_masculino['ANO_ELEICAO'],y=gasto_partido_masculino['VR_DESPESA_MAX_CAMPANHA'], color='blue')\n",
        "plt.xlabel('Avg price')\n",
        "plt.ylabel('years')\n",
        "plt.show()"
      ]
    },
    {
      "cell_type": "markdown",
      "metadata": {
        "id": "ft9j3fhNGO9V"
      },
      "source": [
        "**Total geram gasto em campanhas mulhere X homens**"
      ]
    },
    {
      "cell_type": "markdown",
      "metadata": {
        "id": "nHIhAPvOGbvH"
      },
      "source": [
        "`Gastos geral em campanhas sexo feminino`"
      ]
    },
    {
      "cell_type": "code",
      "execution_count": null,
      "metadata": {
        "id": "rhg7YG8yvrxR"
      },
      "outputs": [],
      "source": [
        "gasto_partido_feminino = candidatos_goias[candidatos_goias['DS_GENERO'] == \"FEMININO\"]"
      ]
    },
    {
      "cell_type": "code",
      "execution_count": null,
      "metadata": {
        "id": "eOnen1R-GSno"
      },
      "outputs": [],
      "source": [
        "gasto_partido_feminino['VR_DESPESA_MAX_CAMPANHA'].sum()"
      ]
    },
    {
      "cell_type": "markdown",
      "metadata": {
        "id": "rP3XU73THOSf"
      },
      "source": [
        "Total gasto em campanhas do genero feminino é : <br>seiscentos e oitenta e quatro milhões e quinhentos e vinte mil quatrocentos e cinquenta e um reais </br>e oitenta e oito centavos"
      ]
    },
    {
      "cell_type": "markdown",
      "metadata": {
        "id": "1LGkjSuJGhCS"
      },
      "source": [
        "`Gastos geral em campanhas sexo masculino`"
      ]
    },
    {
      "cell_type": "code",
      "execution_count": null,
      "metadata": {
        "id": "XKcGHTF2GWBO"
      },
      "outputs": [],
      "source": [
        "gasto_partido_masculino = candidatos_goias[candidatos_goias['DS_GENERO'] == \"MASCULINO\"]"
      ]
    },
    {
      "cell_type": "code",
      "execution_count": null,
      "metadata": {
        "id": "SNYWSg0nGlK_"
      },
      "outputs": [],
      "source": [
        "gasto_partido_masculino['VR_DESPESA_MAX_CAMPANHA'].sum()"
      ]
    },
    {
      "cell_type": "markdown",
      "metadata": {
        "id": "tRjZOi86HrKA"
      },
      "source": [
        "Total gasto em campanhas do sexo masculino é: </br>\n",
        "quatro bilhões e cento e oitenta e três milhões e seiscentos e cinquenta mil duzentos e </br>nove reais e vinte e oito centavos"
      ]
    },
    {
      "cell_type": "markdown",
      "metadata": {
        "id": "gllvGKn_G_B_"
      },
      "source": [
        "`Diferença de gastos mulheres X homens `"
      ]
    },
    {
      "cell_type": "code",
      "execution_count": null,
      "metadata": {
        "id": "LTJFsUjwGnX5"
      },
      "outputs": [],
      "source": [
        "diferença = (4183650209.2799997 - 684520451.88)\n",
        "diferença"
      ]
    },
    {
      "cell_type": "markdown",
      "metadata": {
        "id": "Ghu8MmDnJdmf"
      },
      "source": [
        "Diferença de : Três bilhões e quatrocentos e noventa e nove milhões e cento e vinte </br> e nove mil setecentos e cinquenta e sete reais e quarenta centavos"
      ]
    },
    {
      "cell_type": "markdown",
      "metadata": {
        "id": "a6uwSFF9IFMo"
      },
      "source": [
        "**Comparando esses valores com os anos de 2004 em que teve mais mulheres e homens candidatos**"
      ]
    },
    {
      "cell_type": "markdown",
      "metadata": {
        "id": "1w1NOLiJIL9q"
      },
      "source": [
        "`Gasto com campanhas no ano de 2004 genero feminino`"
      ]
    },
    {
      "cell_type": "code",
      "execution_count": null,
      "metadata": {
        "id": "mqI5QZTlHH_2"
      },
      "outputs": [],
      "source": [
        "gasto_camapanha_feminino = candidatos_goias[candidatos_goias['DS_GENERO'] == \"FEMININO\"]\n",
        "gasto_camapanha_feminino = gasto_camapanha_feminino [gasto_camapanha_feminino ['ANO_ELEICAO'] == 2004]\n",
        "gasto_camapanha_feminino['VR_DESPESA_MAX_CAMPANHA'].sum()"
      ]
    },
    {
      "cell_type": "markdown",
      "metadata": {
        "id": "0qsWyo1iI8G2"
      },
      "source": [
        "Gasto de camapanha do genero feminino 2004 é :Noventa e oito milhões e cento e noventa<br> e dois mil novecentos e sessenta e oito reais <br>e setenta e sete centavos"
      ]
    },
    {
      "cell_type": "markdown",
      "metadata": {
        "id": "BV2dVQZoItvw"
      },
      "source": [
        "`Gasto com campanhas no ano de 2004 genero masculino`"
      ]
    },
    {
      "cell_type": "code",
      "execution_count": null,
      "metadata": {
        "id": "Ize3E-q4IcD4"
      },
      "outputs": [],
      "source": [
        "gasto_camapanha_masculino = candidatos_goias[candidatos_goias['DS_GENERO'] == \"MASCULINO\"]\n",
        "gasto_camapanha_masculino= gasto_camapanha_masculino[gasto_camapanha_masculino['ANO_ELEICAO'] == 2004]\n",
        "gasto_camapanha_masculino['VR_DESPESA_MAX_CAMPANHA'].sum()"
      ]
    },
    {
      "cell_type": "markdown",
      "metadata": {
        "id": "5nKSM_j4JIU2"
      },
      "source": [
        "Gasto de camapanha do genero masculino 2004 é : Um bilhão e duzentos e oitenta <br> e seis milhões e seiscentos e vinte e três mil seiscentos <br> e vinte e quatro reais e sessenta e dois centavos"
      ]
    },
    {
      "cell_type": "markdown",
      "metadata": {
        "id": "1quf3Ne5Jwje"
      },
      "source": [
        "`Diferença de gastos mulheres X homens ano de 2004 `"
      ]
    },
    {
      "cell_type": "code",
      "execution_count": null,
      "metadata": {
        "id": "3xmi3DOvI4z4"
      },
      "outputs": [],
      "source": [
        "diferença = (1286623624.62 - 98192968.77)\n",
        "diferença"
      ]
    },
    {
      "cell_type": "markdown",
      "metadata": {
        "id": "vDKbM3-AKBmH"
      },
      "source": [
        "Diferença de : Um bilhão e cento e oitenta e oito milhões e quatrocentos e trinta mil </br>seiscentos e cinquenta e cinco reais e oitenta e cinco centavos"
      ]
    },
    {
      "cell_type": "markdown",
      "metadata": {
        "id": "cyG8Xupy2mbu"
      },
      "source": [
        "**Qual ideologia mais frequente**"
      ]
    },
    {
      "cell_type": "code",
      "execution_count": null,
      "metadata": {
        "id": "FFLwqfFDJ99p"
      },
      "outputs": [],
      "source": [
        "fig = plt.figure(figsize=(10,5))\n",
        "grafico = sns.countplot('ESPECTRO_PARTIDOS', order = candidatos_goias['ESPECTRO_PARTIDOS'].value_counts().index, palette=\"Paired\",  data =  candidatos_goias)\n",
        "plt.xticks(rotation=90)\n",
        "for i in grafico.patches:\n",
        "   grafico.annotate(i.get_height(),\n",
        "                  (i.get_x() + i.get_width() / 2, i.get_height()),\n",
        "                  ha='center',\n",
        "                  va='baseline',\n",
        "                  fontsize=12,\n",
        "                  color='black',\n",
        "                  xytext=(0, 1),\n",
        "                  textcoords='offset points');  \n",
        "plt.xlabel('espectro', fontsize=15)\n",
        "plt.ylabel(' ')\n",
        "plt.title('Grafico quantidade espectro partidos',fontsize=15);"
      ]
    },
    {
      "cell_type": "markdown",
      "metadata": {
        "id": "hm0NDzkO4k0v"
      },
      "source": [
        "**Qual ideologia mais ganhou eleições**"
      ]
    },
    {
      "cell_type": "code",
      "execution_count": null,
      "metadata": {
        "id": "TTqvX9HoaBpe"
      },
      "outputs": [],
      "source": [
        "espectro = candidatos_goias[candidatos_goias['DS_SIT_TOT_TURNO'] == \"ELEITO\"]"
      ]
    },
    {
      "cell_type": "code",
      "execution_count": null,
      "metadata": {
        "id": "EfaZ6dUV20aV"
      },
      "outputs": [],
      "source": [
        "#Utilizando sql para contabilizar qual ideologia mais ganhou eleições\n",
        "query = \"\"\"SELECT ESPECTRO_PARTIDOS, COUNT(ESPECTRO_PARTIDOS) \n",
        "           FROM espectro\n",
        "           GROUP BY ESPECTRO_PARTIDOS\n",
        "           \"\"\"\n",
        "ps.sqldf(query.lower(), locals())"
      ]
    },
    {
      "cell_type": "markdown",
      "metadata": {
        "id": "s4zN1FwYZpPu"
      },
      "source": [
        "**Qual ideologia tem mais mulheres x homens eleitos**"
      ]
    },
    {
      "cell_type": "markdown",
      "metadata": {
        "id": "B5dFoaAZbZjf"
      },
      "source": [
        "`Ideologia que foram mais mulheres eleitas`\n",
        "\n",
        "\n",
        "\n",
        "\n"
      ]
    },
    {
      "cell_type": "code",
      "execution_count": null,
      "metadata": {
        "id": "swTkqW57bDuf"
      },
      "outputs": [],
      "source": [
        "espectro = candidatos_goias[candidatos_goias['DS_SIT_TOT_TURNO'] == \"ELEITO\"]\n",
        "espectro_feminino = espectro[espectro['DS_GENERO'] == \"FEMININO\"]"
      ]
    },
    {
      "cell_type": "code",
      "execution_count": null,
      "metadata": {
        "id": "C2qyFdzx4qGF"
      },
      "outputs": [],
      "source": [
        "#Utilizando sql para contabilizar qual ideologia mais ganhou eleições\n",
        "query = \"\"\"SELECT DS_GENERO, ESPECTRO_PARTIDOS, COUNT(ESPECTRO_PARTIDOS) \n",
        "           FROM espectro_feminino\n",
        "           GROUP BY ESPECTRO_PARTIDOS\n",
        "           \"\"\"\n",
        "ps.sqldf(query.lower(), locals())"
      ]
    },
    {
      "cell_type": "markdown",
      "metadata": {
        "id": "9CtfDgjObhzB"
      },
      "source": [
        "`Ideologia que foram mais homens eleitas`"
      ]
    },
    {
      "cell_type": "code",
      "execution_count": null,
      "metadata": {
        "id": "LG2OeUIebk4m"
      },
      "outputs": [],
      "source": [
        "espectro = candidatos_goias[candidatos_goias['DS_SIT_TOT_TURNO'] == \"ELEITO\"]\n",
        "espectro_masculino = espectro[espectro['DS_GENERO'] == \"MASCULINO\"]"
      ]
    },
    {
      "cell_type": "code",
      "execution_count": null,
      "metadata": {
        "id": "3ajXh3Qva4Zv"
      },
      "outputs": [],
      "source": [
        "#Utilizando sql para contabilizar qual ideologia mais ganhou eleições\n",
        "query = \"\"\"SELECT DS_GENERO, ESPECTRO_PARTIDOS, COUNT(ESPECTRO_PARTIDOS) \n",
        "           FROM espectro_masculino\n",
        "           GROUP BY ESPECTRO_PARTIDOS\n",
        "           \"\"\"\n",
        "ps.sqldf(query.lower(), locals())"
      ]
    },
    {
      "cell_type": "markdown",
      "metadata": {
        "id": "5MtBZ_xQbwra"
      },
      "source": [
        "**Quantas vezes mulheres x homens concorrerão a releicao**"
      ]
    },
    {
      "cell_type": "code",
      "execution_count": null,
      "metadata": {
        "id": "MzCjI7V2cojz"
      },
      "outputs": [],
      "source": [
        "releito_feminino = candidatos_goias[candidatos_goias['DS_GENERO'] == \"FEMININO\"]\n",
        "releito_masculino = candidatos_goias[candidatos_goias['DS_GENERO'] == \"MASCULINO\"]"
      ]
    },
    {
      "cell_type": "code",
      "execution_count": null,
      "metadata": {
        "id": "01I8sGhYbqxv"
      },
      "outputs": [],
      "source": [
        "#Utilizando sql para contabilizar quantas vezes mulheres x homens concorrerão a releição\n",
        "query = \"\"\"SELECT DS_GENERO, ST_REELEICAO, COUNT(ST_REELEICAO) \n",
        "           FROM releito_feminino\n",
        "           GROUP BY ST_REELEICAO, DS_GENERO\n",
        "           \"\"\"\n",
        "ps.sqldf(query.lower(), locals())"
      ]
    },
    {
      "cell_type": "code",
      "execution_count": null,
      "metadata": {
        "id": "DuZLfxQXc9hk"
      },
      "outputs": [],
      "source": [
        "#Utilizando sql para contabilizar quantas vezes foi releito por genero\n",
        "query = \"\"\"SELECT DS_GENERO, ST_REELEICAO, COUNT(ST_REELEICAO) \n",
        "           FROM releito_masculino\n",
        "           GROUP BY ST_REELEICAO, DS_GENERO\n",
        "           \"\"\"\n",
        "ps.sqldf(query.lower(), locals())"
      ]
    },
    {
      "cell_type": "markdown",
      "metadata": {
        "id": "TYvgajLddjRu"
      },
      "source": [
        "**Porcentagem de releito muheres x homens**"
      ]
    },
    {
      "cell_type": "code",
      "execution_count": null,
      "metadata": {
        "id": "1rvtIlMScgnn"
      },
      "outputs": [],
      "source": [
        "candidatos_goias[candidatos_goias['DS_SIT_TOT_TURNO'] == \"ELEITO\"].count()"
      ]
    },
    {
      "cell_type": "markdown",
      "metadata": {
        "id": "rdczJEY_eFBo"
      },
      "source": [
        "`Porcentagem de mulheres releitas`"
      ]
    },
    {
      "cell_type": "code",
      "execution_count": null,
      "metadata": {
        "id": "_acoVw3udtjA"
      },
      "outputs": [],
      "source": [
        "#Porcentagem \n",
        "porc_releita = (48/6458) * 100\n",
        "print('A porcentagem de mulheres releitas é: {:.2f}'.format(porc_releita))"
      ]
    },
    {
      "cell_type": "markdown",
      "metadata": {
        "id": "YElIFRLSgagb"
      },
      "source": [
        "`Porcentagem de homens reeleitos`"
      ]
    },
    {
      "cell_type": "code",
      "execution_count": null,
      "metadata": {
        "id": "R9GObusxgYHq"
      },
      "outputs": [],
      "source": [
        "#Porcentagem \n",
        "porc_releita = (368/6458) * 100\n",
        "print('A porcentagem de homens releitas é: {:.2f}'.format(porc_releita))"
      ]
    },
    {
      "cell_type": "code",
      "execution_count": 200,
      "metadata": {
        "id": "1qfTjW9Yghzj"
      },
      "outputs": [],
      "source": [
        "candidatos_goias.to_csv(\"candidatos_goias_1994_2008_limpo.csv\", sep=';', encoding='UTF-8')"
      ]
    },
    {
      "cell_type": "code",
      "source": [],
      "metadata": {
        "id": "UF8V6GR0zEEW"
      },
      "execution_count": null,
      "outputs": []
    }
  ],
  "metadata": {
    "colab": {
      "provenance": []
    },
    "kernelspec": {
      "display_name": "Python 3",
      "name": "python3"
    },
    "language_info": {
      "codemirror_mode": {
        "name": "ipython",
        "version": 3
      },
      "file_extension": ".py",
      "mimetype": "text/x-python",
      "name": "python",
      "nbconvert_exporter": "python",
      "pygments_lexer": "ipython3",
      "version": "3.11.2"
    }
  },
  "nbformat": 4,
  "nbformat_minor": 0
}